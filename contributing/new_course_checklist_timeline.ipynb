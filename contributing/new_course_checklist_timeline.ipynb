{
 "cells": [
  {
   "cell_type": "markdown",
   "id": "06e8fcaf-9d9a-4584-9747-d7129c96b31c",
   "metadata": {},
   "source": [
    "# New Course Checklist and Timeline\n",
    "\n",
    "## Timescales & Ordering\n",
    "\n",
    "### **12 weeks before delivery** \n",
    "  - Hold initial logistics call with Programme Management to define learning objectives, course scope, and high-level timeline\n",
    "  - Confirm roles (Developer, Lead, Helper) and schedule regular check-ins\n",
    "  - Create a feature branch on the [CfRR_Courses repo](https://github.com/coding-for-reproducible-research/CfRR_Courses), alongside a GitHub Issue   \n",
    "  - Developer begins drafting core materials \n",
    "\n",
    "#### Checklist Steps \n",
    "- [ ] Schedule and hold **initial logistics call** with Programme Management and Delivery Team  \n",
    "- [ ] Define roles: Developer, Leader, Helper, Participant, Programme Management, and schedule a recurring meeting  \n",
    "- [ ] Open GitHub Issue for the new course; create feature branch  \n",
    "- [ ] Draft **course objectives** and detailed **learning objectives** for each section of the course\n",
    "\n",
    "\n",
    "### **6 weeks before delivery**  \n",
    "  - Submit the first complete draft of materials for internal review. Liam Berrisford (@liamjberrisford) to validate website functionality (including accessibility features), then a separate reviewer to verify that the course content itself is accurate and appropriate.\n",
    "  - Draft metadata in `programme_information` and `section_landing_page` (titles, descriptions, prerequisites)  \n",
    "  - Create the “Where Is My Understanding?” quiz; confirm the quiz `JSON` files render via `JupyterQuiz`\n",
    "\n",
    "\n",
    "#### Checklist Steps\n",
    "- [ ] Populate `programme_information` \n",
    "- [ ] Populate `section_landing_page`\n",
    "- [ ] Populate `where_is_my_understanding`\n",
    "- [ ] Add course pages to `_toc.yml`  \n",
    "- [ ] Ensure no overlap or missing sections \n",
    "- [ ] Test interactive plots, embedded HTML, and widgets  \n",
    "- [ ] Validate “Where Is My Understanding?” quiz (`display_quiz(\"path/to/quiz.json\")`)  \n",
    "- [ ] Verify all file paths (spaces, special characters) are realtive paths as used in JupyterBook\n",
    "- [ ] Confirm images, data files, and HTML assets load correctly  \n",
    "- [ ] Include slides or PDFs as needed; confirm static content links  \n",
    "- [ ] Execute all notebooks end-to-end  \n",
    "- [ ] Peer-review code comments and markdown explanations  \n",
    "\n",
    "\n",
    "### **4 weeks before delivery**  \n",
    "  - Confirm that all feedback and change requests from the internal review have been addressed\n",
    "  - Link all assets (images, data files, interactive widgets)  \n",
    "\n",
    "#### Checklist Steps\n",
    "- [ ] Confirm there is no outstanding feedback to be actioned from the internal review \n",
    "- [ ] Ensure that the Continuous Integration (CI) in the PR for building the Jupyter Book (website) and Accessibility passes\n",
    "\n",
    "\n",
    "### **2 week before delivery**  \n",
    "  - Freeze content; perform final proofreading and complete “top-to-bottom” code execution  \n",
    "  - Please notify Liam Berrisford (@liamjberrisford) that the content is ready for integration into the website and request his final review prior to publication.\n",
    "  - Merge the feature branch and add the new course to the live website\n",
    "\n",
    "#### Checklist Steps\n",
    "- [ ] Perform a final proofreading pass; execute a full “top-to-bottom” run of all notebooks  \n",
    "- [ ] Notify Liam Berrisford (@liamjberrisford) that materials are ready for integration and request his final sign-off  \n",
    "- [ ] Once approved, merge the feature branch into main and deploy the new course to the live website  "
   ]
  },
  {
   "cell_type": "code",
   "execution_count": null,
   "id": "64cc4c3d-6356-4d44-b804-63cffb851b44",
   "metadata": {},
   "outputs": [],
   "source": []
  }
 ],
 "metadata": {
  "kernelspec": {
   "display_name": "Python 3 (ipykernel)",
   "language": "python",
   "name": "python3"
  },
  "language_info": {
   "codemirror_mode": {
    "name": "ipython",
    "version": 3
   },
   "file_extension": ".py",
   "mimetype": "text/x-python",
   "name": "python",
   "nbconvert_exporter": "python",
   "pygments_lexer": "ipython3",
   "version": "3.9.19"
  }
 },
 "nbformat": 4,
 "nbformat_minor": 5
}
