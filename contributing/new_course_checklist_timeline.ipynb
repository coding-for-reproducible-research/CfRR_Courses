{
 "cells": [
  {
   "cell_type": "markdown",
   "id": "06e8fcaf-9d9a-4584-9747-d7129c96b31c",
   "metadata": {},
   "source": [
    "# New Course Checklist and Timeline  \n",
    "\n",
    "## Timescales & Ordering  \n",
    "\n",
    "### **12 weeks before delivery**  \n",
    "- [ ] Schedule and hold **initial logistics call** with Programme Management and Delivery Team  \n",
    "- [ ] Identify delivery lead and delivery team members  \n",
    "- [ ] Identify materials reviewer for **materials appropriateness** review (a subject matter expert who will assess whether the content is accurate, complete, and suitable for the intended audience; this review is separate from the functionality and accessibility review conducted later)\n",
    "- [ ] Define roles: Developer, Leader, Helper, Participant, Programme Management  \n",
    "- [ ] Schedule recurring project check-ins  \n",
    "- [ ] Open GitHub Issue for the new course; create feature branch in [CfRR_Courses repo](https://github.com/coding-for-reproducible-research/CfRR_Courses)  \n",
    "- [ ] Draft **course objectives** and detailed **learning objectives** for each section of the course\n",
    "- [ ] Identify a high-level timeline for the delivery of the course \n",
    "\n",
    "### **6 weeks before delivery**  \n",
    "- [ ] Submit first complete draft of materials to the branch \n",
    "- [ ] Assign website functionality review to Liam Berrisford (GitHub: @liamjberrisford)  \n",
    "- [ ] Assign materials appropriateness review to designated reviewer  \n",
    "- [ ] Populate `programme_information`  \n",
    "- [ ] Populate `section_landing_page`  \n",
    "- [ ] Populate `where_is_my_understanding` quiz (`JSON` files confirmed to render via `JupyterQuiz`)  \n",
    "- [ ] Add course pages to `_toc.yml`  \n",
    "- [ ] Check for overlap or missing sections  \n",
    "- [ ] Test interactive plots, embedded HTML, and widgets  \n",
    "- [ ] Validate quiz rendering (`display_quiz(\"path/to/quiz.json\")`)  \n",
    "- [ ] Verify all file paths use **relative paths** for Jupyter Book  \n",
    "- [ ] Confirm all assets (images, data files, HTML) load correctly  \n",
    "- [ ] Include slides/PDFs as required and confirm static content links  \n",
    "- [ ] Execute all notebooks end-to-end  \n",
    "- [ ] Peer-review code comments and markdown explanations \n",
    "\n",
    "### **4 weeks before delivery**  \n",
    "- [ ] Address all outstanding feedback from internal reviews  \n",
    "- [ ] Confirm all assets are correctly linked and functional  \n",
    "- [ ] Ensure Continuous Integration (CI) build for Jupyter Book passes, including accessibility checks\n",
    "\n",
    "### **2 weeks before delivery**  \n",
    "- [ ] Freeze content  \n",
    "- [ ] Perform final proofreading and “top-to-bottom” notebook execution  \n",
    "- [ ] Notify Liam Berrisford (@liamjberrisford) that materials are ready for integration into the website  \n",
    "- [ ] Obtain final sign-off from Liam  \n",
    "- [ ] Notify [Jenny McGarvey](https://libguides.exeter.ac.uk/prf.php?id=b1cb0409-e2fc-11ef-b755-0647746d9baf) of the upcoming course; specify that it will be available on the website in approximately 2 weeks. \n",
    "- [ ] Merge feature branch into main  "
   ]
  },
  {
   "cell_type": "code",
   "execution_count": null,
   "id": "64cc4c3d-6356-4d44-b804-63cffb851b44",
   "metadata": {},
   "outputs": [],
   "source": []
  }
 ],
 "metadata": {
  "kernelspec": {
   "display_name": "Python 3 (ipykernel)",
   "language": "python",
   "name": "python3"
  },
  "language_info": {
   "codemirror_mode": {
    "name": "ipython",
    "version": 3
   },
   "file_extension": ".py",
   "mimetype": "text/x-python",
   "name": "python",
   "nbconvert_exporter": "python",
   "pygments_lexer": "ipython3",
   "version": "3.9.19"
  }
 },
 "nbformat": 4,
 "nbformat_minor": 5
}
