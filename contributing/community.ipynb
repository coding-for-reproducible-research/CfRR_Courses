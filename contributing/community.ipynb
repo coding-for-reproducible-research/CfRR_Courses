{
 "cells": [
  {
   "cell_type": "markdown",
   "id": "9cbbef13-a05c-4169-9627-e54a43a11ee1",
   "metadata": {},
   "source": [
    "# Research Coding Community"
   ]
  },
  {
   "cell_type": "markdown",
   "id": "629d3135-1e5a-41dd-bae3-638d4af4e899",
   "metadata": {},
   "source": [
    "The Research Coding Community (RCC) is a network to bring together everyone across the university who writes code in support of research. Having just completed your CfRR course, signing up to the RCC is the next step in connecting with peers who share your interests and challenges.\n",
    "\n",
    "Currently hosted online via Microsoft Teams (Sign-Up below!) and a [website](https://coding-for-reproducible-research.github.io/Research_Coding_Community/home_page.html), the RCC offers a friendly virtual space where you can ask questions, share tips, and discover collaborators. We’re committed to growing the community by co-creating a calendar of activities and events shaped by what members find most valuable. Potential offerings include:\n",
    "\n",
    "- **Seminars** where members present their own projects or dive into best practices.\n",
    "- **Hands-on workshops** on topics like version control, reproducible pipelines, or emerging programming languages.\n",
    "- **Hack days**, one-day mini-hackathons, to tackle real problems in small teams.\n",
    "- **Co-working sessions** for group coding, pair programming, or just having company while you work.\n",
    "- **Social events** to unwind, network, and celebrate our collective wins.\n",
    "  \n",
    "Whether you’re troubleshooting a tricky script, learning a new tool, or wanting to meet others applying code in novel ways, the RCC is here to help you get to know, and code with, the wider community. We’d love to have you on board!"
   ]
  },
  {
   "cell_type": "markdown",
   "id": "4bb9942a-cc7c-4dce-ad6b-4299412ce98a",
   "metadata": {},
   "source": [
    "## Sign-up Form \n",
    "> **Note:** If the form below does not load, please [click here to open the Microsoft Form directly](https://forms.office.com/Pages/ResponsePage.aspx?id=d10qkZj77k6vMhM02PBKUxlnTHZh2bpEjkZio2e-JAdUNFJHMDBEVUVCV1VXNlk1U09OQ0VVNFhOMiQlQCN0PWcu) to complete it.  \n",
    "> Not every web browser will display embedded forms correctly.\n",
    "\n",
    "<iframe width=\"100%\" height=\"1000px\" title=\"Research Coding Community (RCC) Signup Form\" src=\"https://forms.cloud.microsoft/Pages/ResponsePage.aspx?id=d10qkZj77k6vMhM02PBKU-oxqLMQ8w1AowxZDWbXZRhUNFJHMDBEVUVCV1VXNlk1U09OQ0VVNFhOMi4u&embed=true\" frameborder=\"0\" marginwidth=\"0\" marginheight=\"0\" style=\"border: none; max-width:100%; max-height:100vh\" allowfullscreen webkitallowfullscreen mozallowfullscreen msallowfullscreen> </iframe>"
   ]
  },
  {
   "cell_type": "code",
   "execution_count": null,
   "id": "6f86d836-0df2-4ed8-9f37-de5336e403cc",
   "metadata": {},
   "outputs": [],
   "source": []
  },
  {
   "cell_type": "code",
   "execution_count": null,
   "id": "d03981e5-c3ba-425e-83b5-83b7283f65cc",
   "metadata": {},
   "outputs": [],
   "source": []
  }
 ],
 "metadata": {
  "kernelspec": {
   "display_name": "Python 3 (ipykernel)",
   "language": "python",
   "name": "python3"
  },
  "language_info": {
   "codemirror_mode": {
    "name": "ipython",
    "version": 3
   },
   "file_extension": ".py",
   "mimetype": "text/x-python",
   "name": "python",
   "nbconvert_exporter": "python",
   "pygments_lexer": "ipython3",
   "version": "3.12.2"
  }
 },
 "nbformat": 4,
 "nbformat_minor": 5
}
