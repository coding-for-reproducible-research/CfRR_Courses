{
 "cells": [
  {
   "cell_type": "markdown",
   "id": "584fd347-192b-4b4f-af38-264c5132e694",
   "metadata": {
    "editable": true,
    "slideshow": {
     "slide_type": ""
    },
    "tags": []
   },
   "source": [
    "# Python Advanced Language Features \n",
    "\n",
    "```{card}\n",
    "\n",
    "<div class=\"alert alert-block\" style=\"background-color: #ffffff; border: 1px solid #ccc; padding: 1em; border-radius: 8px;\">\n",
    "\n",
    "**Author:** Michael Saunby (GitHub: [msaunby](https://github.com/msaunby))\n",
    "\n",
    "**License:** Creative Commons Attribution-ShareAlike 4.0 International license ([CC BY-SA 4.0](https://creativecommons.org/licenses/by-sa/4.0/)).\n",
    "\n",
    "</div>\n",
    "\n",
    "```\n",
    "\n",
    "## Course Objectives\n",
    "- Understand the use and significance of docstrings and type hints in Python for better code documentation and type-checking\n",
    "- Utilize introspection to inspect objects, functions, and modules\n",
    "- Apply decorators to modify the behaviour of functions and methods\n",
    "- Implement useful techniques such as casting and error handling with try-except blocks\n",
    "- Create and use lambda functions, list comprehensions, and generator expressions for efficient Python programming\n",
    "- Define and use classes in Python, including understanding inheritance and operator overloading\n",
    "\n",
    "\n",
    "\n",
    "  "
   ]
  },
  {
   "cell_type": "markdown",
   "id": "5a6452ca",
   "metadata": {},
   "source": [
    "## Annotating code\n",
    "\n",
    "Although Python code is readable by humans, software documentation is always required.  This can take many forms and serve many different users.\n",
    "\n",
    "Good choices of names for modules, variables and functions can help to communicate the purpose, and limitations, of your code. But if you want to share your code, or even come back to it in a few months time, it's worth taking the trouble to include comments and *docstrings*.\n",
    "\n",
    "### Docstrings\n",
    "\n",
    "A *docstring* is a string literal that occurs as the first statement in a module, function, class, or method definition. Such a *docstring* becomes the ```__doc__``` special attribute of that object.\n",
    "\n",
    "All modules should normally have *docstrings*, and all functions and classes exported by a module should also have *docstrings*. Public methods (including the ```__init__``` constructor) should also have *docstrings*. A package may be documented in the module *docstring* of the ```__init__.py``` file in the package directory.\n",
    "\n",
    "Ref <https://peps.python.org/pep-0257/>\n",
    "\n",
    "\n",
    "### Type-hints\n",
    "\n",
    "Here's an example from the Azure Cognitive Services documentation.\n",
    "\n",
    "```python\n",
    "can_read_data(requested_bytes: int, pos: int | None = None) -> bool\n",
    "```\n",
    "\n",
    "Type-hints are not enforced by Python, which can seem strange if you are more familiar with compiled languages.\n",
    "\n",
    "Also, type-hints are evolving, although they have been available since Python 3.5 (2015) new features have been added since, with a ```type``` statement added in Python 3.12 (2023). "
   ]
  },
  {
   "cell_type": "markdown",
   "id": "8abdd292",
   "metadata": {},
   "source": [
    "### Docstring Exercise\n",
    "\n",
    "All standard Python modules have docstrings that describe the module and exported classes and functions.  They can be accessed using the built-in ```help()``` function.\n",
    "\n",
    "Here is an example docstring for the random module. Find the Python code for this module and compare the text with the help() output.   \n",
    "\n",
    "Hint: ```python -m site``` "
   ]
  },
  {
   "cell_type": "code",
   "execution_count": 1,
   "id": "b4da2058",
   "metadata": {},
   "outputs": [],
   "source": [
    "import random\n",
    "\n",
    "# help(random)"
   ]
  },
  {
   "cell_type": "markdown",
   "id": "6dd38e30",
   "metadata": {},
   "source": [
    "## Introspection\n",
    "\n",
    "The help() function uses introspection to establish the signature of functions.\n",
    "\n",
    "For example"
   ]
  },
  {
   "cell_type": "code",
   "execution_count": 2,
   "id": "5a6ccb58",
   "metadata": {},
   "outputs": [
    {
     "name": "stdout",
     "output_type": "stream",
     "text": [
      "Help on function my_add_two in module __main__:\n",
      "\n",
      "my_add_two(a)\n",
      "    Add the value 2.0\n",
      "    \n",
      "    argument:\n",
      "    a -- input value\n",
      "    \n",
      "    return:\n",
      "    a + 2.0\n",
      "\n"
     ]
    }
   ],
   "source": [
    "def my_add_two(a):\n",
    "    \"\"\"\n",
    "    Add the value 2.0\n",
    "\n",
    "    argument:\n",
    "    a -- input value\n",
    "\n",
    "    return:\n",
    "    a + 2.0\n",
    "\n",
    "    \"\"\"\n",
    "    return a + 2.0\n",
    "\n",
    "help(my_add_two)"
   ]
  },
  {
   "cell_type": "code",
   "execution_count": 3,
   "id": "0cb8fd40",
   "metadata": {},
   "outputs": [],
   "source": [
    "## Other introspection functions\n",
    "\n",
    "# help(dir) \n",
    "\n",
    "# help(type)\n",
    "\n"
   ]
  },
  {
   "cell_type": "markdown",
   "id": "f39f84fa",
   "metadata": {},
   "source": [
    "### Typing exercise\n",
    "\n",
    "Copy the following code fragment into your IDE.  If type checking is enabled you should see a warning message.\n",
    "\n",
    "![Screenshot of a Python code snippet in Visual Studio Code showing type hints and type checking errors. A dictionary word_countis annotated asdict[str, int]. Assigning a string key 'the'with integer value1is valid, but assigning an integer key2with a string value'error' triggers type errors. The editor highlights mismatched key and value types using Pylance.](figures/python_testing/type-checking.png)\n",
    "\n",
    "Without making any changes, try running the code."
   ]
  },
  {
   "cell_type": "code",
   "execution_count": 4,
   "id": "6b463bc2",
   "metadata": {},
   "outputs": [
    {
     "name": "stdout",
     "output_type": "stream",
     "text": [
      "{'the': 1, 2: 'error'}\n"
     ]
    }
   ],
   "source": [
    "word_count: \"dict[str,int]\" = {}\n",
    "\n",
    "word_count['the'] = 1\n",
    "word_count[2] = 'error'\n",
    "\n",
    "print(word_count)\n"
   ]
  },
  {
   "cell_type": "markdown",
   "id": "441d71df",
   "metadata": {},
   "source": [
    "For some projects it can be important that typing, and other, errors are caught before software is deployed.\n",
    "Tools such as **mypy** can be used to enforce these rules.\n",
    "\n",
    "```text\n",
    "$ mypy type_hints.py\n",
    "type_hints.py:4: error: Invalid index type \"int\" for \"dict[str, int]\"; expected type \"str\"  [index]\n",
    "type_hints.py:4: error: Incompatible types in assignment (expression has type \"str\", target has type \"int\")  [assignment]\n",
    "Found 2 errors in 1 file (checked 1 source file)\n",
    "```"
   ]
  },
  {
   "cell_type": "markdown",
   "id": "7f40b3cb",
   "metadata": {},
   "source": [
    "## Decorators\n",
    "\n",
    "Another form of Python code annotation is decorators. Though there is an important distinction to be made. Decorators modify the behavior of code.\n",
    "\n",
    "Although you can create your own decorators - they are really just functions that call other functions - you will most often encounter them as part of a toolkit or framework, i.e. software that simplifies the creation of certain types of application.\n",
    "\n",
    "For example, the Flask web framework uses a 'route' decorator to associate functions that you supply with particular URLs.\n",
    "\n",
    "```python\n",
    "@app.route('/')\n",
    "def index():\n",
    "    return render_template('index.html')\n",
    "\n",
    "@app.route('/about')\n",
    "def about():\n",
    "    return render_template('about.html')\n",
    "```\n"
   ]
  },
  {
   "cell_type": "markdown",
   "id": "86379c8b",
   "metadata": {},
   "source": [
    "## Useful techniques\n",
    "\n",
    "We have already seen dir() and type() for **introspection**.\n",
    "\n",
    "Another useful technique is:\n",
    "\n",
    "### Casting\n",
    "\n",
    "```\n",
    "float(\"6.4\")\n",
    "list((1,2,3))\n",
    "int(\"12\")\n",
    "str() # Though print() does this by default\n",
    "```\n"
   ]
  },
  {
   "cell_type": "code",
   "execution_count": 5,
   "id": "b4689e96",
   "metadata": {},
   "outputs": [
    {
     "name": "stdout",
     "output_type": "stream",
     "text": [
      "mon\n",
      "['Mon', 'tue', 'wed', 'thu', 'fri', 'sat', 'sun']\n"
     ]
    }
   ],
   "source": [
    "days = ('mon', 'tue', 'wed', 'thu', 'fri', 'sat', 'sun')\n",
    "print(days[0])\n",
    "# days[0] = 'Mon'\n",
    "days = list(days)\n",
    "days[0] = 'Mon'\n",
    "print(days)\n",
    "\n",
    "\n"
   ]
  },
  {
   "cell_type": "markdown",
   "id": "53626169",
   "metadata": {},
   "source": [
    "### try-except  (and raise)\n",
    "\n",
    "```python\n",
    "my_num = float(input('type a number '))\n",
    "```\n",
    "\n",
    "If the user types text that cannot be converted to a number, then an error, or exception, occurs.\n",
    "\n",
    "\n",
    "```text\n",
    "---------------------------------------------------------------------------\n",
    "ValueError                                Traceback (most recent call last)\n",
    "Cell In [9], line 1\n",
    "----> 1 my_num = float(input('type a number '))\n",
    "      2 print(my_num)\n",
    "\n",
    "ValueError: could not convert string to float: 'one'\n",
    "```\n",
    "\n",
    "These run-time errors can be caught with a 'try-except' clause.\n",
    "\n",
    "## Exercise\n",
    "\n",
    "Uncomment the following code.\n",
    "\n",
    "Add a try-except clause to this code sample."
   ]
  },
  {
   "cell_type": "code",
   "execution_count": 6,
   "id": "4e1db602",
   "metadata": {},
   "outputs": [],
   "source": [
    "# my_num = float(input('type a number '))\n",
    "# print(my_num)"
   ]
  },
  {
   "cell_type": "markdown",
   "id": "2d82f46e",
   "metadata": {},
   "source": [
    "It can be tempting to wrap parts of a program that might fail in a try-except that simply ignores the exception. This can cause many problems, and be a nightmare for others trying to use your code.\n",
    "\n",
    "For example you might have a loop opening files, some of which contain invalid data. Using a 'bare' or 'catch-all' exception would also mask file permission errors, incorrect paths, and much more.\n",
    "\n",
    "This doesn't mean you shouldn't write code that continues after an exception, just be aware that it has downsides and take the trouble to take appropriate action, such as logging the error."
   ]
  },
  {
   "cell_type": "code",
   "execution_count": 7,
   "id": "8b80a85a",
   "metadata": {},
   "outputs": [
    {
     "name": "stdout",
     "output_type": "stream",
     "text": [
      "Traceback (most recent call last):\n",
      "  File \"/var/folders/r7/wblx0jw96hz08nvjz9p3zsgr0000gp/T/ipykernel_2856/2841111012.py\", line 11, in <module>\n",
      "    always_bad()\n",
      "  File \"/var/folders/r7/wblx0jw96hz08nvjz9p3zsgr0000gp/T/ipykernel_2856/2841111012.py\", line 8, in always_bad\n",
      "    raise Exception(\"Never happy\")\n",
      "Exception: Never happy\n",
      "\n",
      "Carry on regardless...\n"
     ]
    }
   ],
   "source": [
    "import traceback\n",
    "import sys\n",
    "\n",
    "def always_bad():\n",
    "    ''' \n",
    "    Throw an exception.\n",
    "    '''\n",
    "    raise Exception(\"Never happy\")\n",
    "\n",
    "try:\n",
    "    always_bad()\n",
    "except Exception as e:\n",
    "   traceback.print_exception(type(e), value=e, tb=e.__traceback__, limit=2, file=sys.stdout)\n",
    "   ## It is easier to use the following in most situations -\n",
    "   # traceback.print_exc()\n",
    "\n",
    "print(\"\\nCarry on regardless...\")"
   ]
  },
  {
   "cell_type": "markdown",
   "id": "ac925ec1",
   "metadata": {},
   "source": [
    "## Lambda functions\n",
    "\n",
    "A lambda function is a small function that is defined with the ```lambda``` keyword. It can take any number of arguments, but can only have one expression.  In other programming languages these are sometimes called anonymous functions."
   ]
  },
  {
   "cell_type": "code",
   "execution_count": 8,
   "id": "10fbc05b",
   "metadata": {},
   "outputs": [
    {
     "name": "stdout",
     "output_type": "stream",
     "text": [
      "8\n"
     ]
    }
   ],
   "source": [
    "add = lambda x, y: x + y\n",
    "print(add(5, 3))"
   ]
  },
  {
   "cell_type": "markdown",
   "id": "d882da43",
   "metadata": {},
   "source": [
    "### Exercise\n",
    "\n",
    "Write a lambda function that returns the value of its only argument if it is an odd number,or the next odd number if it is an even number."
   ]
  },
  {
   "cell_type": "markdown",
   "id": "3290125d",
   "metadata": {},
   "source": [
    "## List comprehensions\n",
    "\n",
    "A list comprehension is shorthand for\n",
    "\n",
    "```python\n",
    "    result = []\n",
    "    for x in some_list:\n",
    "        result.append[some_function(x)]\n",
    "```\n",
    "\n",
    "The input to the for statement does not need to be a list, any 'iterable' will do. For example a tuple, or a file."
   ]
  },
  {
   "cell_type": "code",
   "execution_count": 9,
   "id": "c5dd17b6",
   "metadata": {},
   "outputs": [
    {
     "name": "stdout",
     "output_type": "stream",
     "text": [
      "['MON', 'TUE', 'WED', 'THU', 'FRI', 'SAT', 'SUN']\n",
      "['Hello', 'World']\n"
     ]
    }
   ],
   "source": [
    "days = [d.upper() for d in ('mon', 'tue', 'wed', 'thu', 'fri', 'sat', 'sun')]\n",
    "print(days)\n",
    "\n",
    "with open('data/rows.txt') as myFile:\n",
    "    lines = [x.strip().capitalize() for x in myFile]\n",
    "print(lines)"
   ]
  },
  {
   "cell_type": "markdown",
   "id": "c4c6592d",
   "metadata": {},
   "source": [
    "## Generators\n",
    "\n",
    "In the previous example we used a list comprehension to capitalise all the lines in a file.\n",
    "\n",
    "An alternative approach is to use a generator comprehension.\n",
    "\n",
    "The syntax is almost identical, but the result seems quite different.\n",
    "\n",
    "\n"
   ]
  },
  {
   "cell_type": "code",
   "execution_count": 10,
   "id": "5519293c",
   "metadata": {},
   "outputs": [
    {
     "name": "stdout",
     "output_type": "stream",
     "text": [
      "<generator object <genexpr> at 0x105d0aeb0>\n"
     ]
    }
   ],
   "source": [
    "with open('data/rows.txt') as myFile:\n",
    "    lines = (x.strip().capitalize() for x in myFile)\n",
    "print(lines)"
   ]
  },
  {
   "cell_type": "markdown",
   "id": "0207fdbc",
   "metadata": {},
   "source": [
    "### Question\n",
    "\n",
    "What do we need to do to get the lines from the generator?"
   ]
  },
  {
   "cell_type": "markdown",
   "id": "615acc5d",
   "metadata": {},
   "source": [
    "## Consuming generator output\n",
    "Although generator output can converted to a list, the intended use is with next()"
   ]
  },
  {
   "cell_type": "code",
   "execution_count": 11,
   "id": "57b85794-9225-488f-9cc8-fb2771e146a2",
   "metadata": {},
   "outputs": [
    {
     "name": "stdout",
     "output_type": "stream",
     "text": [
      "Hello\n",
      "World\n"
     ]
    }
   ],
   "source": [
    "with open('data/rows.txt') as data:\n",
    "    lines = (x.strip().capitalize() for x in data)\n",
    "    while True:\n",
    "        line = next(lines, None)\n",
    "        if line is None:\n",
    "            break\n",
    "        print(line)"
   ]
  },
  {
   "cell_type": "markdown",
   "id": "2e6c886f",
   "metadata": {},
   "source": [
    "## Or better - use a for loop"
   ]
  },
  {
   "cell_type": "code",
   "execution_count": 12,
   "id": "63ec21eb",
   "metadata": {},
   "outputs": [
    {
     "name": "stdout",
     "output_type": "stream",
     "text": [
      "Hello\n",
      "World\n"
     ]
    }
   ],
   "source": [
    "with open('data/rows.txt') as data:\n",
    "    lines = (x.strip().capitalize() for x in data)\n",
    "    for line in lines:\n",
    "        print(line)"
   ]
  },
  {
   "cell_type": "markdown",
   "id": "acba2626",
   "metadata": {},
   "source": [
    "### yield and next()\n",
    "\n",
    "Although the generator comprehension and list comprehension syntax is almost identical, it is clear that the generator mechanism is quite different.\n",
    "\n",
    "Generators in their long form are functions rather than a loop. However rather than a return statement there is a yield statement. Yield may be called as many times as you wish, indeed it could yield - FOREVER\n"
   ]
  },
  {
   "cell_type": "code",
   "execution_count": 13,
   "id": "0ed2e755",
   "metadata": {},
   "outputs": [
    {
     "name": "stdout",
     "output_type": "stream",
     "text": [
      "hello\n",
      "None\n",
      "0\n",
      "1\n",
      "2\n",
      "1.414\n"
     ]
    }
   ],
   "source": [
    "def my_gen():\n",
    "    yield \"hello\"\n",
    "    yield None\n",
    "    # Calling a generator function from within a generator function is allowed\n",
    "    for i in range(3):\n",
    "        yield i\n",
    "    yield 1.414\n",
    "\n",
    "for item in my_gen():\n",
    "    print(item)"
   ]
  },
  {
   "cell_type": "code",
   "execution_count": 14,
   "id": "9a8d1051",
   "metadata": {},
   "outputs": [
    {
     "name": "stderr",
     "output_type": "stream",
     "text": [
      "Traceback (most recent call last):\n",
      "  File \"/var/folders/r7/wblx0jw96hz08nvjz9p3zsgr0000gp/T/ipykernel_2856/679916601.py\", line 5, in <module>\n",
      "    print(len(data))\n",
      "TypeError: object of type '_io.TextIOWrapper' has no len()\n"
     ]
    }
   ],
   "source": [
    "# Why does this fail?\n",
    "# How could we fix it?\n",
    "try:\n",
    "    with open('data/rows.txt') as data:\n",
    "        print(len(data))\n",
    "except Exception as e:\n",
    "    traceback.print_exc()"
   ]
  },
  {
   "cell_type": "code",
   "execution_count": 15,
   "id": "9a084827",
   "metadata": {},
   "outputs": [
    {
     "name": "stdout",
     "output_type": "stream",
     "text": [
      "['hello\\n', 'world\\n']\n"
     ]
    }
   ],
   "source": [
    "# Why does this work?\n",
    "# What is happening here that is different?\n",
    "with open('data/rows.txt') as data:\n",
    "    print(list(data))"
   ]
  },
  {
   "cell_type": "markdown",
   "id": "703c575f",
   "metadata": {},
   "source": [
    "## Classes\n",
    "\n",
    "This course module does not cover Object Oriented Programming, or Object Oriented Design as those are both big topics. However, it is important to know that as well as the procedural style of programming the Python language also supports object orientation.\n",
    "\n",
    "Key concepts in OOP are - objects, classes, properties, methods, constructors and inheritance. So we will take a quick look at those.\n",
    "\n",
    "### classes and objects\n",
    "\n",
    "A class is a user defined data type.\n",
    "\n",
    "An object is an instance of a class.\n",
    "\n",
    "Rather than consider the finer details of what this means, it is easier to take a look at already familiar built-in types.\n",
    "\n",
    "### the string class\n",
    "\n",
    "Typically we create a string with\n",
    "\n",
    "```\n",
    "my_string = \"Hello world!\"\n",
    "```\n",
    "\n",
    "This is actually shorthand for\n",
    "```\n",
    "my_string = str(\"Hello world!\")\n",
    "```"
   ]
  },
  {
   "cell_type": "code",
   "execution_count": 16,
   "id": "a73b9b72",
   "metadata": {},
   "outputs": [
    {
     "name": "stdout",
     "output_type": "stream",
     "text": [
      "<class 'str'>\n"
     ]
    }
   ],
   "source": [
    "my_string = 'Hello'\n",
    "print(type(my_string))"
   ]
  },
  {
   "cell_type": "markdown",
   "id": "ca41580a",
   "metadata": {},
   "source": [
    "### The file class\n",
    "\n",
    "Whenever we open a file in Python, for reading or writing, we are using a file object.  However, this is a little more complicated.  So let's check the type of a file object. "
   ]
  },
  {
   "cell_type": "code",
   "execution_count": 17,
   "id": "37e9a8cd",
   "metadata": {},
   "outputs": [
    {
     "name": "stdout",
     "output_type": "stream",
     "text": [
      "<class '_io.TextIOWrapper'>\n",
      "<class '_io.BufferedReader'>\n"
     ]
    }
   ],
   "source": [
    "my_file = open('data/rows.txt')\n",
    "print(type(my_file))\n",
    "my_file.close()\n",
    "\n",
    "my_binary_file = open('data/rows.txt', 'rb')\n",
    "print(type(my_binary_file))\n",
    "my_binary_file.close()\n"
   ]
  },
  {
   "cell_type": "markdown",
   "id": "27d89181",
   "metadata": {},
   "source": [
    "This might seem surprising. On reflection, from mistakes we have all made, and learned from, when working with files - it is to be expected that there are different types of file object for text and binary files, and also for reading and writing.\n",
    "\n",
    "So here we see the principle benefit of object oriented programming - information hiding. Generally coders want a simple and consistent interface to things that are conceptually similar, such as files."
   ]
  },
  {
   "cell_type": "markdown",
   "id": "5fae2074",
   "metadata": {},
   "source": [
    "## Defining our own classes\n",
    "\n",
    "Typical reasons for defining new classes are -\n",
    "\n",
    "* Encapsulation (information hiding)\n",
    "\n",
    "* Easier code re-use\n"
   ]
  },
  {
   "cell_type": "code",
   "execution_count": 18,
   "id": "d16a9a88",
   "metadata": {},
   "outputs": [
    {
     "name": "stdout",
     "output_type": "stream",
     "text": [
      "MICHAEL\n",
      "michael\n",
      "MICHAEL\n"
     ]
    }
   ],
   "source": [
    "my_name = \"michael\"\n",
    "a = my_name.upper()\n",
    "print(a)\n",
    "print(my_name)\n",
    "\n",
    "# or\n",
    "my_name = \"michael\"\n",
    "my_name = my_name.upper()\n",
    "print(my_name)\n",
    "\n"
   ]
  },
  {
   "cell_type": "code",
   "execution_count": 19,
   "id": "120164a6",
   "metadata": {},
   "outputs": [
    {
     "name": "stdout",
     "output_type": "stream",
     "text": [
      "MICHAEL\n"
     ]
    }
   ],
   "source": [
    "# or\n",
    "def upper(input:str):\n",
    "    return input.upper()\n",
    "\n",
    "my_name = upper(\"michael\")\n",
    "print(my_name)"
   ]
  },
  {
   "cell_type": "code",
   "execution_count": 20,
   "id": "d35c6ac7",
   "metadata": {},
   "outputs": [
    {
     "name": "stdout",
     "output_type": "stream",
     "text": [
      "MICHAEL\n",
      "<class '__main__.Upper'>\n"
     ]
    }
   ],
   "source": [
    "class Upper(str):\n",
    "    def __new__(cls, text=\"\"):\n",
    "        return super().__new__(cls, text.upper())\n",
    "\n",
    "my_name = Upper(\"michael\")\n",
    "print(my_name)\n",
    "print(type(my_name))\n"
   ]
  },
  {
   "cell_type": "markdown",
   "id": "e83fbbe4",
   "metadata": {},
   "source": [
    "##  Features of our new class\n",
    "\n",
    "Our Upper() class is an example of code re-use.  We have re-used the str() class to provide the implementation of Upper(). So we gain all the features of str().\n",
    "\n",
    "Let's see what it can do:"
   ]
  },
  {
   "cell_type": "code",
   "execution_count": 21,
   "id": "60e18cd3",
   "metadata": {},
   "outputs": [
    {
     "name": "stdout",
     "output_type": "stream",
     "text": [
      "<class '__main__.Upper'> HELLO\n",
      "<class 'str'> hello\n",
      "<class 'str'> HELLO\n"
     ]
    }
   ],
   "source": [
    "class Upper(str):\n",
    "    def __new__(cls, text=\"\"):\n",
    "        return super().__new__(cls, text.upper())\n",
    "\n",
    "## Alternative (factory) implementation  \n",
    "class UpperFactory(str):\n",
    "     def __init__(self, text=\"\"):\n",
    "         str.__init__(text.upper())\n",
    "\n",
    "\n",
    "hello = Upper(\"hello\")\n",
    "print(type(hello), hello)\n",
    "\n",
    "lh = hello.lower()\n",
    "print(type(lh), lh)\n",
    "\n",
    "uh = hello.upper()\n",
    "print(type(uh), uh)\n",
    "\n"
   ]
  },
  {
   "cell_type": "markdown",
   "id": "f5d1f988",
   "metadata": {},
   "source": [
    "## Pros and cons of inheritance\n",
    "\n",
    "* We get all the methods of the super-class  - GOOD, simplifies implementation\n",
    "\n",
    "* We get all the methods of the super-class - BAD, methods not adapted to features of our new class\n",
    "\n",
    "For now, just note that designing and implementing well behaved classes is not trivial, and filling your code with custom classes might not be what others (or future you) will appreciate. \n",
    "\n",
    "\n"
   ]
  },
  {
   "cell_type": "markdown",
   "id": "102b87f2",
   "metadata": {},
   "source": [
    "## Operator overloading\n",
    "\n",
    "Although a separate concept to classes, and object orientation, a common feature of object oriented programming languages is operator overloading. This is something that you will already be familiar with from Python strings."
   ]
  },
  {
   "cell_type": "code",
   "execution_count": 22,
   "id": "9407e7f7",
   "metadata": {},
   "outputs": [
    {
     "name": "stdout",
     "output_type": "stream",
     "text": [
      "hello world\n",
      "___________\n"
     ]
    }
   ],
   "source": [
    "print('hello' + ' ' + 'world')\n",
    "print(11 * '_')\n"
   ]
  },
  {
   "cell_type": "markdown",
   "id": "843c65af",
   "metadata": {},
   "source": [
    "Let's implement something similar for our Upper class -"
   ]
  },
  {
   "cell_type": "code",
   "execution_count": 23,
   "id": "63921d3b",
   "metadata": {},
   "outputs": [
    {
     "name": "stdout",
     "output_type": "stream",
     "text": [
      "HELLO_WORLD\n"
     ]
    }
   ],
   "source": [
    "class Upper(str):\n",
    "    def __new__(cls, text=\"\"):\n",
    "        return super().__new__(cls, text.upper())\n",
    "    \n",
    "    def __add__(self, x):\n",
    "        return Upper(str(self) + \"_\" + x)\n",
    "\n",
    "print(Upper(\"hello\") + \"world\")"
   ]
  },
  {
   "cell_type": "markdown",
   "id": "dcbf16d4",
   "metadata": {},
   "source": [
    "How about this -"
   ]
  },
  {
   "cell_type": "code",
   "execution_count": 24,
   "id": "0c7eff02",
   "metadata": {},
   "outputs": [
    {
     "name": "stdout",
     "output_type": "stream",
     "text": [
      "helloWORLD\n"
     ]
    }
   ],
   "source": [
    "print(\"hello\" + Upper(\"world\"))"
   ]
  },
  {
   "cell_type": "markdown",
   "id": "69c8f60e",
   "metadata": {},
   "source": [
    "Oh no!!\n",
    "\n",
    "### Exercise\n",
    "\n",
    "Fix it!"
   ]
  }
 ],
 "metadata": {
  "kernelspec": {
   "display_name": "Python 3 (ipykernel)",
   "language": "python",
   "name": "python3"
  },
  "language_info": {
   "codemirror_mode": {
    "name": "ipython",
    "version": 3
   },
   "file_extension": ".py",
   "mimetype": "text/x-python",
   "name": "python",
   "nbconvert_exporter": "python",
   "pygments_lexer": "ipython3",
   "version": "3.9.19"
  }
 },
 "nbformat": 4,
 "nbformat_minor": 5
}
