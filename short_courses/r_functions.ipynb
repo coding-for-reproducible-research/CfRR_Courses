{
 "cells": [
  {
   "attachments": {},
   "cell_type": "markdown",
   "id": "41f7d644-b505-4314-80d0-57c7e2c6218d",
   "metadata": {},
   "source": [
    "# Writing Functions in R\n",
    "\n",
    "```{card}\n",
    "\n",
    "<div class=\"alert alert-block\" style=\"background-color: #ffffff; border: 1px solid #ccc; padding: 1em; border-radius: 8px;\">\n",
    "\n",
    "**Author:** Ruxandra Neatu (GitHub: [NeatuR](https://github.com/NeatuR)) and Thomas Hawes (GitHub: [thawes-rse](https://github.com/thawes-rse))\n",
    "\n",
    "**License:** Creative Commons Attribution-ShareAlike 4.0 International license ([CC BY-SA 4.0](https://creativecommons.org/licenses/by-sa/4.0/)).\n",
    "\n",
    "</div>\n",
    "\n",
    "```\n",
    "\n",
    "\n",
    "## Course Objectives\n",
    "\n",
    "* Understand and write functions in R.\n",
    "* Understand the difference between local and global variables.\n",
    "* Apply best practices to avoid common programming errors related to variable usage.\n",
    "\n",
    "## Motivation and Background\n",
    "\n",
    "A function is a reusable block of code that takes inputs (described by **parameters**), performs operations and returns an output.\n",
    "\n",
    "Using functions in your code has several advantages:\n",
    "* Reduce redundancy: by writing a function once and reusing it whenever needed, you avoid repeating the same code in muliple places.\n",
    "* Enhances modularity: functions allow you to structure your code into modules, each performing a specific task, making development and maintenance easier.\n",
    "* Facilitates testing: because functions are self-contained, they can be tested individually to ensure they work correctly before integrating them into the larger program.\n",
    "* Improves readability: well-named functions break down complex scripts into clear, logical components, making your code easier for you and others to read and understand.\n",
    "\n",
    "\n",
    "This short course is a practical introduction to writing functions in R. It covers key concepts to help you structure code, avoid repetition, and write clearer scripts. For more in-depth learning, including default parameter values and other topics, see the [Software Carpentry “Creating Functions”](https://swcarpentry.github.io/r-novice-inflammation/02-func-R.html).\n",
    "\n",
    "## Before Writing Functions\n",
    "\n",
    "* When writing functions, give them meaningful names. The format `verb_noun` can be useful, such as `add_summaries`.\n",
    "* Always document the inputs and outputs with comments to explain what the function expects and returns. Also document any other 'side effects', e.g. messages printed to the console, files written or global variables modified (see later about global variables).\n",
    "* To keep your project organised, save functions in separate scripts within a dedicated directory (for example, an `R/`folder).\n",
    "* You can import these functions into your main script using `source(\"R/file_name.R\")`, which makes them available for use in your workflow. \n",
    "\n",
    "## Basic Syntax\n",
    "\n",
    "Let's take an example of a function that aims to subset a table of patient data (`patient_data`) by the `phenotype_code` found in the column named `code`. We start by defining the function first:\n",
    "\n",
    "```r\n",
    "filter_by_phenotype <- function(patient_data, phenotype_code) {\n",
    "  filtered_data <- patient_data[patient_data$code == phenotype_code, ]\n",
    "  return(filtered_data)\n",
    "}\n",
    "```\n",
    "In the diagram below, the function is broken down into 3 components:\n",
    "\n",
    "1. The name of the function: `filter_by_phenotype`.\n",
    "2. The function parameters: `patient_data`, `phenotype_code`.\n",
    "3. The body of the function:\n",
    "```r\n",
    "  filtered_data <- patient_data[patient_data$code == phenotype_code, ]\n",
    "  return(filtered_data)\n",
    "\n",
    "```\n",
    "\n",
    "![function diagram](figures/r_functions/pic_function.png)\n",
    "\n",
    "In order to use the function on an actual dataframe of patient data (called `data`, say) and phenotype code (`101`, say), the function needs to be called as follows:\n",
    "\n",
    "1. Write the name of the function (in this case `filter_by_phenotype`).\n",
    "2. Replace the parameters `patient_data` and `phenotype_code` with the actual variables/values (`data` and phenotype code `101`)\n",
    "\n",
    "```r\n",
    "filter_by_phenotype(data, 101)\n",
    "\n",
    "```\n",
    "\n",
    "As an example, let's store the filtered table into an object called `result` and print it:\n",
    "```r\n",
    "result <- filter_by_phenotype(data, 101)\n",
    "\n",
    "print(result)\n",
    "\n",
    "```\n",
    "\n",
    "Where the components are:\n",
    "\n",
    "![function diagram2](figures/r_functions/pic_function2.png)\n",
    "\n",
    "Note: The filtered table will be stored in the `result` and the initial table used as input `data` will be unchanged.\n",
    "\n",
    "### Exercise: Write your own function\n",
    "\n",
    "1. Write a function that takes in as an argument a dataframe `data` with column name `x` containing numbers. The function should return a dataframe with a new column, called `x_pow2`, that is the square of the values in column `x`. (E.g. if `x` is a column with values `1, 2, 3` then `x_pow2` should contain `1, 4, 9`. Make sure to give your function a good name!\n",
    "2. Evaluate your function from 1 on some different dataframes (which you create) to check that it works.\n",
    "3. Now modify your function to take in two arguments: a dataframe `data` as before, but also an integer `n`. The function should now return a dataframe with a new column `x_pow{n}` which raises the values in `x` to the `n`th power. (For example, if `n=3` the new column should be called `x_pow3`.) Make sure the function has a good name! Try your function with different values for `n` to check it works.\n",
    "\n",
    "### Exercise: Guess the output\n",
    "\n",
    "Consider the following function, that takes a dataframe with a column called `age` and sets all the rows to have a particular age:\n",
    "\n",
    "```r\n",
    "set_age <- function(data, new_age) {\n",
    "    data$age <- new_age\n",
    "}\n",
    "```\n",
    "\n",
    "Now consider the following dataframe:\n",
    "\n",
    "```r\n",
    "df <- data.frame(name = c(\"Alice\", \"Bob\", \"Claire\", \"David\"),\n",
    "                 age = c(21, 23, 34, 43))\n",
    "```\n",
    "\n",
    "What do you think will be printed by the following code?\n",
    "\n",
    "```r\n",
    "set_age(df, 99)\n",
    "print(df)\n",
    "```\n",
    "\n",
    "Check your answer by running the code yourself."
   ]
  },
  {
   "cell_type": "markdown",
   "id": "85732a20-5393-4250-be1f-51d11872cc9d",
   "metadata": {},
   "source": [
    "## Local vs Global Variables"
   ]
  },
  {
   "cell_type": "markdown",
   "id": "5e104ee0-225d-4d32-9855-c49d0e99849e",
   "metadata": {},
   "source": [
    "When writing functions in R, it is important to understand the difference between **local** and **global** variables.\n",
    "\n",
    "| Local Variable  | Global Variable |\n",
    "|-------|-----|\n",
    "| Defined inside a function | Defined outside of functions |\n",
    "| Accessible only within that function  | Accessible from anywhere |\n",
    "| Created each time the function runs  | Exists until removed from the environment |\n",
    "\n",
    "For example, in the following function, `result` is a local variable because it is created inside the function and only exists there:"
   ]
  },
  {
   "cell_type": "code",
   "execution_count": 1,
   "id": "89cde943-5f98-4af6-8bf5-432317b275f6",
   "metadata": {},
   "outputs": [],
   "source": [
    "sum_numbers <- function(x) {\n",
    "  result <- x + 5\n",
    "  return(result)\n",
    "}"
   ]
  },
  {
   "cell_type": "markdown",
   "id": "395dd23a-bb23-4ff7-b329-9fdd6f814b73",
   "metadata": {},
   "source": [
    "Calling `sum_numbers(10)` will return 15:"
   ]
  },
  {
   "cell_type": "code",
   "execution_count": 2,
   "id": "5708ab38-e5eb-4f98-8911-9ecafc7a389e",
   "metadata": {},
   "outputs": [
    {
     "data": {
      "text/html": [
       "15"
      ],
      "text/latex": [
       "15"
      ],
      "text/markdown": [
       "15"
      ],
      "text/plain": [
       "[1] 15"
      ]
     },
     "metadata": {},
     "output_type": "display_data"
    }
   ],
   "source": [
    "sum_numbers(10)"
   ]
  },
  {
   "cell_type": "markdown",
   "id": "b1a885fb-c35a-46bf-8e2f-00c935fa41f0",
   "metadata": {},
   "source": [
    "On the other hand, in the code below `z` is an example of a global variable:"
   ]
  },
  {
   "cell_type": "code",
   "execution_count": 3,
   "id": "8c8dea76-15b8-45b6-acab-02b3c95a1a4d",
   "metadata": {},
   "outputs": [],
   "source": [
    "z <- 100\n",
    "\n",
    "sum_numbers <- function(x) {\n",
    "  result <- x + z\n",
    "  return(result)\n",
    "}"
   ]
  },
  {
   "cell_type": "markdown",
   "id": "fc85b35e-6c3b-410b-a187-d12bc1f26b8e",
   "metadata": {},
   "source": [
    "Here, `z` is a global variable because it is defined outside the function. It can still be used within the body of the function. For example, calling `sum_numbers(5)` will return `105`:"
   ]
  },
  {
   "cell_type": "code",
   "execution_count": 4,
   "id": "24ffca0c-92fe-4fd6-bf38-875fd58da012",
   "metadata": {},
   "outputs": [
    {
     "data": {
      "text/html": [
       "105"
      ],
      "text/latex": [
       "105"
      ],
      "text/markdown": [
       "105"
      ],
      "text/plain": [
       "[1] 105"
      ]
     },
     "metadata": {},
     "output_type": "display_data"
    }
   ],
   "source": [
    "sum_numbers(5)"
   ]
  },
  {
   "cell_type": "markdown",
   "id": "84ea8aa0-e41f-4a25-8f4b-5c63b432e93b",
   "metadata": {},
   "source": [
    "However, if `z` changes (e.g. `z <- 200`), the output of the function will also change accordingly:"
   ]
  },
  {
   "cell_type": "code",
   "execution_count": 5,
   "id": "f4063d7e-d709-4e2c-b1cc-46f09cbd9445",
   "metadata": {},
   "outputs": [
    {
     "data": {
      "text/html": [
       "205"
      ],
      "text/latex": [
       "205"
      ],
      "text/markdown": [
       "205"
      ],
      "text/plain": [
       "[1] 205"
      ]
     },
     "metadata": {},
     "output_type": "display_data"
    }
   ],
   "source": [
    "z <- 200\n",
    "sum_numbers(5)"
   ]
  },
  {
   "cell_type": "markdown",
   "id": "a4f74ba0-ea35-4d33-9bbb-65230d21a3ed",
   "metadata": {},
   "source": [
    "It is recommended that functions be self-sufficient and use local variables, as relying on global variables can lead to errors such as accidental overwriting of the global variables and/or unexpected changes in values, which makes it difficult to debug functions that depend on global variables. A better practice is to instead have an extra parameter for the global variable and then pass the variable into the function this way:"
   ]
  },
  {
   "cell_type": "code",
   "execution_count": 6,
   "id": "6650b3a1-90cb-496c-8040-41cde1a83679",
   "metadata": {},
   "outputs": [
    {
     "data": {
      "text/html": [
       "205"
      ],
      "text/latex": [
       "205"
      ],
      "text/markdown": [
       "205"
      ],
      "text/plain": [
       "[1] 205"
      ]
     },
     "metadata": {},
     "output_type": "display_data"
    }
   ],
   "source": [
    "# Provide an extra paramter `y` to take the place of the global variable:\n",
    "sum_numbers <- function(x, y) {\n",
    "    result <- x + y\n",
    "    return(result)\n",
    "}\n",
    "\n",
    "# Now call the function with the global variable z as an argument:\n",
    "sum_numbers(5, z)"
   ]
  },
  {
   "attachments": {},
   "cell_type": "markdown",
   "id": "13e4588b-ed3d-4105-b222-208df93e947c",
   "metadata": {},
   "source": [
    "## Functions in Practice: Life Sciences Data\n",
    "\n",
    "This section explores how functions are applied to analyse and interpret data in the life sciences. We use a dataset derived from a clinical dataset of gallstone diagnoses: you can [download the data as a CSV file](data/r_functions/gallstone.csv) (which is made available under the [Creative Commons Attribution 4.0 International licence](https://creativecommons.org/licenses/by/4.0/)). Using this dataset, you will learn how functions break down complex tasks into smaller, reusable steps.\n",
    "\n",
    "> **About the data**\n",
    ">\n",
    "> The data we will use is derived from Esen, I., Arslan, H., Aktürk, S., Gülşen, M., Kültekin, N., & Özdemir, O. (2024). Gallstone \\[Dataset\\]. UCI Machine Learning Repository. [https://doi.org/10.1097/md.0000000000037258](https://doi.org/10.1097/md.0000000000037258). The original data is licensed under a [Creative Commons Attribution 4.0 International licence](https://creativecommons.org/licenses/by/4.0/) and you can [download it from the UC Irvine Machine Learning Repository](https://archive.ics.uci.edu/dataset/1150/gallstone-1). Our derived version of the data only includes a subset of the original columns, which have been renamed to make them easier to work with in code. We have also randomly removed some of the body mass index (BMI) values rows in the data, for the purposes of instruction.\n",
    ">\n",
    "> If you wish to download the script and raw data used to create our derived dataset, you can [download them as a zip archive](data/r_functions/gallstone-data.zip).\n",
    "\n",
    "> **Use of `dplyr`**\n",
    ">\n",
    "> This part of the notes assumes you have the R package [`dplyr`](https://dplyr.tidyverse.org/) installed. \n",
    "\n",
    "The data was collected from the Internal Medicine Outpatient Clinic of Ankara VM Medical Park Hospital. Each row corresponds to an individual and includes an indicator of whether the individual had gallstones present (`Gallstone_status = 1`) or not (`Gallstone_status = 0`). There are several other variables (columns) in the dataset, including body mass index (`BMI`).\n",
    "\n",
    "Suppose we want to do the following:\n",
    "\n",
    "- Categorise the samples (rows) into discrete BMI categories, according to the following cases:\n",
    "  * Normal: 18.5 <= BMI < 25\n",
    "  * Overweight: 25 <= BMI < 30\n",
    "  * Obese: 30 <= BMI\n",
    "  * Underweight: BMI < 18.5\n",
    "- Calculate averages (mean) of different columns in the dataset for each of the BMI categories (e.g. average incidence of diabetes in each of the BMI categories).\n",
    "\n",
    "The code below calculates the averages for each BMI category of three different columns:\n",
    "- `Total_body_fat_pct`: total body fat percentage\n",
    "- `Diabetes`: whether the subject has diabetes (`1`) or not (`0`)\n",
    "- `Total_cholesterol`: total cholesterol in blood (mg/dL)\n",
    "\n",
    "Later, we will see a way we can write functions to simplify the code."
   ]
  },
  {
   "cell_type": "code",
   "execution_count": 7,
   "id": "7fe4bbae-c25c-4238-97d8-4767339d49b1",
   "metadata": {},
   "outputs": [
    {
     "name": "stderr",
     "output_type": "stream",
     "text": [
      "Warning message:\n",
      "\"Dropped 13 rows with missing BMI readings\"\n"
     ]
    }
   ],
   "source": [
    "data <- read.csv(\"data/r_functions/gallstone.csv\")\n",
    "\n",
    "# Filter the data to keep only rows where BMI is not missing\n",
    "BMI_data <- data |>\n",
    "  dplyr::filter(!is.na(BMI))\n",
    "\n",
    "# Issue warning if any rows were dropped due to missing BMI\n",
    "if (nrow(BMI_data) < nrow(data)) {\n",
    "  n_dropped_rows = nrow(data) - nrow(BMI_data)\n",
    "  warning(\"Dropped \", n_dropped_rows, \" rows with missing BMI readings\")\n",
    "}\n",
    "\n",
    "# Add BMI categories to the data\n",
    "BMI_levels <- c(\"Normal\", \"Overweight\", \"Obese\", \"Underweight\")\n",
    "BMI_data <- BMI_data |>\n",
    "  dplyr::mutate(\n",
    "    BMI_cat = dplyr::case_when(\n",
    "      BMI >= 18.5 & BMI < 25 ~ \"Normal\",\n",
    "      BMI >= 25 & BMI < 30 ~ \"Overweight\",\n",
    "      BMI >= 30 ~ \"Obese\",\n",
    "      BMI < 18.5 ~ \"Underweight\"\n",
    "    )\n",
    "  ) |>\n",
    "  dplyr::mutate(BMI_cat = factor(BMI_cat, levels = BMI_levels))\n",
    "\n",
    "# Calculate average body fat percentage for each BMI category\n",
    "body_fat_averages <- BMI_data |>\n",
    "  dplyr::group_by(BMI_cat) |>\n",
    "  dplyr::summarise(\n",
    "    Total_body_fat_pct_mean = mean(Total_body_fat_pct, na.rm = TRUE)\n",
    "  )\n",
    "\n",
    "# Calculate average incidence of diabetes for each BMI category\n",
    "diabetes_averages <- BMI_data |>\n",
    "  dplyr::group_by(BMI_cat) |>\n",
    "  dplyr::summarise(\n",
    "    Diabetes_mean = mean(Diabetes, na.rm = TRUE)\n",
    "  )\n",
    "\n",
    "# Calculate average cholesterol for each BMI category\n",
    "cholesterol_averages <- BMI_data |>\n",
    "  dplyr::group_by(BMI_cat) |>\n",
    "  dplyr::summarise(\n",
    "    Total_cholesterol_mean = mean(Total_cholesterol, na.rm = TRUE)\n",
    "  )"
   ]
  },
  {
   "cell_type": "markdown",
   "id": "12d9e8c3-b2f9-46ca-84f2-a6ca90fc472b",
   "metadata": {},
   "source": [
    "### Exercise: breaking it down into functions\n",
    "\n",
    "Before you go any further, try to think about what function(s) you could create to simplify the above code. There's no right or wrong answer here: the main thing is to just get you thinking before we present our own solution below. You might like to consider:\n",
    "- Where is there duplication in the code i.e. which parts look very similar to each other?\n",
    "- Can you see logical 'dividing lines' in the code i.e. places where it's doing a qualitatively 'new' thing?"
   ]
  },
  {
   "cell_type": "markdown",
   "id": "0a87cbf6-174a-4f7c-93ff-b5519a1e00cb",
   "metadata": {},
   "source": [
    "### Decomposing into functions\n",
    "\n",
    "Below one possible way to use functions to rewrite the code above. We have created two functions:\n",
    "- `add_BMI_categories` adds the column `BMI_cat` of BMI categories to a dataframe with BMI scores.\n",
    "- `average_over_BMI_categories` calculates the mean of a given column for each BMI category, for a dataframe with a `BMI_cat` column.\n",
    "\n",
    "First let's show the code for the functions:"
   ]
  },
  {
   "cell_type": "code",
   "execution_count": 8,
   "id": "01d0ee65-81de-4182-86ee-1866ce8b6311",
   "metadata": {},
   "outputs": [],
   "source": [
    "#' Add a column of BMI categories\n",
    "#'\n",
    "#' The following ranges are used for the categorization:\n",
    "#'\n",
    "#' Normal:      18.5 <= BMI < 25\n",
    "#' Overweight:  25 <= BMI < 30\n",
    "#' Obese:       30 <= BMI\n",
    "#' Underweight: BMI < 18.5\n",
    "#'\n",
    "#' If `data` has rows that are missing a BMI score then these rows will be\n",
    "#' dropped and a warning message displayed.\n",
    "#'\n",
    "#' @param data A dataframe containing a column 'BMI' of numerical BMI scores.\n",
    "#'\n",
    "#' @returns A dataframe with a new factor column 'BMI_cat', with the levels\n",
    "#'   ordered \"Normal\", \"Overweight\", \"Obese\", \"Underweight\".\n",
    "add_BMI_categories <- function(data) {\n",
    "  BMI_data <- data |>\n",
    "    dplyr::filter(!is.na(BMI))\n",
    "  \n",
    "  if (nrow(BMI_data) < nrow(data)) {\n",
    "    n_dropped_rows = nrow(data) - nrow(BMI_data)\n",
    "    warning(\"Dropped \", n_dropped_rows, \" rows with missing BMI readings\")\n",
    "  }\n",
    "  \n",
    "  BMI_levels <- c(\"Normal\", \"Overweight\", \"Obese\", \"Underweight\")\n",
    "  BMI_data <- BMI_data |>\n",
    "    dplyr::mutate(\n",
    "      BMI_cat = dplyr::case_when(\n",
    "        BMI >= 18.5 & BMI < 25 ~ \"Normal\",\n",
    "        BMI >= 25 & BMI < 30 ~ \"Overweight\",\n",
    "        BMI >= 30 ~ \"Obese\",\n",
    "        BMI < 18.5 ~ \"Underweight\"\n",
    "      )\n",
    "    ) |>\n",
    "    dplyr::mutate(BMI_cat = factor(BMI_cat, levels = BMI_levels))\n",
    "  \n",
    "  return(BMI_data)\n",
    "}\n",
    "\n",
    "#' Average a column over BMI categories\n",
    "#'\n",
    "#' The average values of the column is calculated as the mean after removing rows\n",
    "#' with missing values.\n",
    "#'\n",
    "#' @param data A dataframe containing a column 'BMI_cat' of discrete BMI\n",
    "#'   categories.\n",
    "#' @param column The column name (as a string) to calculated the BMI category\n",
    "#'   averages for.\n",
    "#'\n",
    "#' @returns A dataframe of the BMI category mean values for the given `column`,\n",
    "#'   with one row per BMI category. The name of averages column takes the form\n",
    "#'   '{column}_mean' where {column} is the name provided through `column`.\n",
    "average_over_BMI_categories <- function(data, column) {\n",
    "  avg_column <- paste0(column, \"_mean\")\n",
    "  summarised <- data |>\n",
    "    dplyr::group_by(BMI_cat) |>\n",
    "    dplyr::summarise(\n",
    "      \"{avg_column}\" := mean(.data[[column]], na.rm = TRUE)\n",
    "    )\n",
    "  return(summarised)\n",
    "}"
   ]
  },
  {
   "cell_type": "markdown",
   "id": "5c157862-64fe-4d84-94b5-0dcd3a1c638d",
   "metadata": {},
   "source": [
    "Now let's look at our original script, rewritten to use the functions:"
   ]
  },
  {
   "cell_type": "code",
   "execution_count": 9,
   "id": "00e3edb4-ea1b-4bac-86fe-23def5ad6bc4",
   "metadata": {},
   "outputs": [
    {
     "name": "stderr",
     "output_type": "stream",
     "text": [
      "Warning message in add_BMI_categories(data):\n",
      "\"Dropped 13 rows with missing BMI readings\"\n"
     ]
    }
   ],
   "source": [
    "data <- read.csv(\"data/r_functions/gallstone.csv\")\n",
    "\n",
    "# Add BMI categories (after dropping missing BMI values)\n",
    "BMI_data <- add_BMI_categories(data)\n",
    "\n",
    "# Calculate averages of different columns over BMI categories\n",
    "body_fat_averages <- average_over_BMI_categories(BMI_data, \"Total_body_fat_pct\")\n",
    "diabetes_averages <- average_over_BMI_categories(BMI_data, \"Diabetes\")\n",
    "cholesterol_averages <- average_over_BMI_categories(BMI_data, \"Total_cholesterol\")"
   ]
  },
  {
   "cell_type": "markdown",
   "id": "629e497d-48b7-47e8-b791-d39074b17cf5",
   "metadata": {},
   "source": [
    "Here are some remarks on the above use of functions:\n",
    "- We have used `average_over_BMI_categories` to remove dupication in our original code: the process of grouping by BMI category and calculating an average.\n",
    "- The function `add_BMI_categories` is used to 'encapsulate' a logically consistent part of the code that is potentially useful on its own: namely, adding the BMI categories as a new column (after dropping missing BMI values)\n",
    "- We have given our new functions descriptive names: when you read them being used in our modified version of the code, you can get a good sense of what the code is doing without needing to study how the functions are implemented. This is sometimes called writing code that is _self-documenting_."
   ]
  },
  {
   "attachments": {},
   "cell_type": "markdown",
   "id": "e1092d62-0ce5-47a7-bc07-c26135892792",
   "metadata": {},
   "source": [
    "### Exercise: Adding new summary statistics\n",
    "\n",
    "Suppose we now want to also calculate the minimum and maximum values of the `Total_body_fat_pct`, `Diabetes` and `Total_cholesterol` columns within each of the BMI categories, in addition to the mean. How would you do this is the original code? How would you do this using the functions above? How has breaking down the code into functions helped in this case?\n",
    "\n",
    "### Exercise: Alternatives\n",
    "\n",
    "The functions we chose to write are just one way to rewrite the original code. Take the original code and come up with a new way to rewrite it by defining different function(s) to what we defined above. (You may reuse at most one of our functions if you wish.) For this exercise, don't be afraid to define functions that you feel are 'worse' than ours: the main point is to practice looking at some code and coming up with ways to restructure it to use functions.\n",
    "\n",
    "If you feel your new way of doing this is better or worse than ours, can you articulate why you think this is the case? (Don't worry if you find this difficult! )"
   ]
  }
 ],
 "metadata": {
  "kernelspec": {
   "display_name": "R",
   "language": "R",
   "name": "ir"
  },
  "language_info": {
   "codemirror_mode": "r",
   "file_extension": ".r",
   "mimetype": "text/x-r-source",
   "name": "R",
   "pygments_lexer": "r",
   "version": "4.3.3"
  }
 },
 "nbformat": 4,
 "nbformat_minor": 5
}
