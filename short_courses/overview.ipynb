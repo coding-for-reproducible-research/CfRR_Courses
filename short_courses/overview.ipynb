{
 "cells": [
  {
   "cell_type": "markdown",
   "id": "ee408a41-91e5-415e-85d6-251fcfd728ee",
   "metadata": {},
   "source": [
    "# Overview\n",
    "\n",
    "The short courses avaiable here are a set of concise, focused learning modules designed to help you build and refine your coding skills independently, at your own pace. These courses provide convenient, bite-sized lessons to help you achieve your learning goals that don't fit into the current offering of more long form and extensive workshops that are current offered as part of Coding for Reproducible Research. \n"
   ]
  }
 ],
 "metadata": {
  "kernelspec": {
   "display_name": "Python 3 (ipykernel)",
   "language": "python",
   "name": "python3"
  },
  "language_info": {
   "codemirror_mode": {
    "name": "ipython",
    "version": 3
   },
   "file_extension": ".py",
   "mimetype": "text/x-python",
   "name": "python",
   "nbconvert_exporter": "python",
   "pygments_lexer": "ipython3",
   "version": "3.9.19"
  }
 },
 "nbformat": 4,
 "nbformat_minor": 5
}
