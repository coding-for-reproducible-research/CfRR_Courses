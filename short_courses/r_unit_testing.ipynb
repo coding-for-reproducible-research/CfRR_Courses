{
 "cells": [
  {
   "cell_type": "code",
   "execution_count": null,
   "id": "f2e543d2-19f6-45a4-a3f3-a11f7f13cbd1",
   "metadata": {},
   "outputs": [],
   "source": []
  }
 ],
 "metadata": {
  "kernelspec": {
   "display_name": "R",
   "language": "R",
   "name": "ir"
  },
  "language_info": {
   "codemirror_mode": "r",
   "file_extension": ".r",
   "mimetype": "text/x-r-source",
   "name": "R",
   "pygments_lexer": "r",
   "version": "4.3.3"
  }
 },
 "nbformat": 4,
 "nbformat_minor": 5
}
