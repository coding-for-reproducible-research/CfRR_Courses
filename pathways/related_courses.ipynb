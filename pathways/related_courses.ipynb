{
 "cells": [
  {
   "cell_type": "markdown",
   "id": "d4ced907-8bce-4bbd-9546-ed78507a8fd6",
   "metadata": {
    "editable": true,
    "slideshow": {
     "slide_type": ""
    },
    "tags": []
   },
   "source": [
    "# How do these courses relate?"
   ]
  },
  {
   "cell_type": "markdown",
   "id": "d41119d1-91f5-4fb0-9797-fc8a8fed5b5e",
   "metadata": {
    "editable": true,
    "slideshow": {
     "slide_type": ""
    },
    "tags": []
   },
   "source": [
    "A large number of the coures that are offered within this training program are related to one another and combine together to create \"Pathways\". The intention for these pathways is for the courses to provide expertise in a given area that together enable you to take on larger projects. The interactive networks below will give additional details about a course if clicked upon, and you are able to move the network around by holding left click and dragging. "
   ]
  },
  {
   "cell_type": "code",
   "execution_count": 11,
   "id": "028da1b5-7197-4a20-ba0b-e40e6b966cf9",
   "metadata": {
    "editable": true,
    "slideshow": {
     "slide_type": ""
    },
    "tags": [
     "remove-input",
     "remove-output"
    ]
   },
   "outputs": [
    {
     "name": "stdout",
     "output_type": "stream",
     "text": [
      "../_static/workshops_network_r_ds.html\n",
      "../_static/workshops_network_hpc.html\n",
      "../_static/workshops_network_python_ds.html\n",
      "../_static/workshop_prereqs_introduction_to_r.html\n",
      "../_static/workshop_prereqs_introduction_to_regression_with_r.html\n",
      "../_static/workshop_prereqs_regression_analysis_with_r_adapting_to_varied_data_types.html\n",
      "../_static/workshop_prereqs_advanced_regression_analysis_with_r_.html\n",
      "../_static/workshop_prereqs_working_with_data_in_r.html\n",
      "../_static/workshop_prereqs_introduction_to_hpc.html\n",
      "../_static/workshop_prereqs_introduction_to_version_control_with_git_and_github.html\n",
      "../_static/workshop_prereqs_introduction_to_unix.html\n",
      "../_static/workshop_prereqs_computational_thinking.html\n",
      "../_static/workshop_prereqs_software_development_best_practice.html\n",
      "../_static/workshop_prereqs_introduction_to_julia_.html\n",
      "../_static/workshop_prereqs_introduction_to_python.html\n",
      "../_static/workshop_prereqs_python_for_data_analysis.html\n",
      "../_static/workshop_prereqs_intermediate_version_control.html\n",
      "../_static/workshop_prereqs_parallel_computing.html\n",
      "../_static/workshop_prereqs_introduction_to_machine_learning.html\n",
      "../_static/workshop_prereqs_improve_your_r_code.html\n",
      "../_static/workshop_prereqs_introduction_to_markdown_in_r.html\n",
      "../_static/workshop_prereqs_using_markdown_for_python.html\n"
     ]
    }
   ],
   "source": [
    "from pyvis.network import Network\n",
    "import pandas as pd\n",
    "import networkx as nx\n",
    "\n",
    "# Load the data\n",
    "file_path = '../data/workshop_details.csv'  # Adjust the path to your actual file location\n",
    "workshop_data = pd.read_csv(file_path)\n",
    "\n",
    "# Fill NaN in pre_reqs and handle empty pathways\n",
    "workshop_data.fillna({'pre_reqs': '', 'pathways': 'None'}, inplace=True)\n",
    "\n",
    "# Extract unique pathways and create color mapping\n",
    "pathways = set()\n",
    "workshop_data['pathways'].str.split(',').apply(pathways.update)\n",
    "pathways.discard('None')  # Remove 'None' if no specific pathway is assigned\n",
    "colors = ['#FFD700', '#FF6347', '#4682B4', '#32CD32', '#FFA500', '#6A5ACD', '#FF4500', '#2E8B57']\n",
    "color_map = {pathway: colors[i % len(colors)] for i, pathway in enumerate(pathways)}\n",
    "\n",
    "# Create a network for each pathway\n",
    "for pathway in pathways:\n",
    "    # Filter workshops for the current pathway\n",
    "    pathway_data = workshop_data[workshop_data['pathways'].str.contains(pathway)]\n",
    "    # Create a directed graph\n",
    "    G = nx.DiGraph()\n",
    "\n",
    "    # Add nodes and edges with levels\n",
    "    for _, row in pathway_data.iterrows():\n",
    "        color = color_map[pathway]\n",
    "        level = row['course_level']\n",
    "        G.add_node(row['workshop_name'], title='', color=color, level=level)  # Add level attribute\n",
    "        prereqs = row['pre_reqs'].split(',')\n",
    "        for prereq in prereqs:\n",
    "            prereq = prereq.strip()\n",
    "            if prereq:\n",
    "                G.add_edge(prereq, row['workshop_name'])\n",
    "\n",
    "    # Now create detailed titles for each node\n",
    "    for node in G.nodes:\n",
    "        prereqs = [edge[0] for edge in G.in_edges(node)]\n",
    "        subsequent_courses = [edge[1] for edge in G.out_edges(node)]\n",
    "        prereqs_text = ', '.join(prereqs) if prereqs else 'None'\n",
    "        subsequent_courses_text = ', '.join(subsequent_courses) if subsequent_courses else 'None'\n",
    "        title_text = (f\"Course Name: {node}\\n\"\n",
    "                      f\"Course Pre-reqs: {prereqs_text}\\n\"\n",
    "                      f\"Subsequent Courses: {subsequent_courses_text}\")\n",
    "        G.nodes[node]['title'] = title_text\n",
    "\n",
    "    # Initialize PyVis network\n",
    "    nt = Network(notebook=True, directed=True, cdn_resources='remote')\n",
    "    nt.from_nx(G)\n",
    "    \n",
    "    # Set hierarchical layout options\n",
    "    hierarchical_options = \"\"\"\n",
    "    {\n",
    "      \"layout\": {\n",
    "        \"hierarchical\": {\n",
    "          \"enabled\": true,\n",
    "          \"levelSeparation\": 150,\n",
    "          \"nodeSpacing\": 250,\n",
    "          \"treeSpacing\": 300,\n",
    "          \"blockShifting\": true,\n",
    "          \"edgeMinimization\": true,\n",
    "          \"parentCentralization\": true,\n",
    "          \"direction\": \"UD\",        \n",
    "          \"sortMethod\": \"hubsize\"   \n",
    "        }\n",
    "      },\n",
    "      \"interaction\": {\n",
    "        \"navigationButtons\": true,\n",
    "        \"keyboard\": true\n",
    "      },\n",
    "      \"physics\": {\n",
    "        \"enabled\": false\n",
    "      }\n",
    "    }\n",
    "    \"\"\"\n",
    "    nt.set_options(hierarchical_options)\n",
    "\n",
    "    # Option to add all of the buttons for navigation to the visualization, this can't be used in conjunction with setting \n",
    "    # individual options above and so needs to be commented out to experiment. \n",
    "    # nt.show_buttons()\n",
    "\n",
    "    # Save and display the network\n",
    "    output_file = f\"../_static/workshops_network_{pathway.replace(' ', '_').lower()}.html\"  # File name based on pathway\n",
    "    nt.show(output_file)\n",
    "\n",
    "\n",
    "# --- Additional: Visualize prerequisite subnetworks for each course ---\n",
    "\n",
    "# Make a global directed graph of all workshops (needed to find prereq paths)\n",
    "G_all = nx.DiGraph()\n",
    "for _, row in workshop_data.iterrows():\n",
    "    color = '#B0B0B0'  # Default color (greyish) for individual course graphs\n",
    "    level = row['course_level']\n",
    "    G_all.add_node(row['workshop_name'], title='', color=color, level=level)\n",
    "    prereqs = row['pre_reqs'].split(',')\n",
    "    for prereq in prereqs:\n",
    "        prereq = prereq.strip()\n",
    "        if prereq:\n",
    "            G_all.add_edge(prereq, row['workshop_name'])\n",
    "\n",
    "# Helper function: find all recursive ancestors (prereqs) of a node\n",
    "def get_all_prereqs(graph, course):\n",
    "    ancestors = nx.ancestors(graph, course)\n",
    "    return ancestors\n",
    "\n",
    "for _, row in workshop_data.iterrows():\n",
    "    course = row['workshop_name']\n",
    "    # Find all prereqs (direct and indirect)\n",
    "    prereqs = get_all_prereqs(G_all, course)\n",
    "    if not prereqs:\n",
    "        # If no prereqs, still show a tiny subgraph with just the course\n",
    "        H = nx.DiGraph()\n",
    "        H.add_node(course, **G_all.nodes[course])\n",
    "    else:\n",
    "        # Subgraph containing all prereqs + the course itself + any connecting edges\n",
    "        nodes_to_include = list(prereqs) + [course]\n",
    "        H = G_all.subgraph(nodes_to_include).copy()\n",
    "\n",
    "    # Enhance node titles for the subnetwork\n",
    "    for node in H.nodes:\n",
    "        prereqs_list = [edge[0] for edge in H.in_edges(node)]\n",
    "        prereqs_text = ', '.join(prereqs_list) if prereqs_list else 'None'\n",
    "        subsequent_courses = [edge[1] for edge in H.out_edges(node)]\n",
    "        subsequent_courses_text = ', '.join(subsequent_courses) if subsequent_courses else 'None'\n",
    "        title_text = (f\"Course Name: {node}\\n\"\n",
    "                      f\"Course Pre-reqs: {prereqs_text}\\n\"\n",
    "                      f\"Subsequent Courses: {subsequent_courses_text}\")\n",
    "        H.nodes[node]['title'] = title_text\n",
    "\n",
    "    # Set up the network visualisation for this course\n",
    "    nt_course = Network(notebook=True, directed=True, cdn_resources='remote')\n",
    "    nt_course.from_nx(H)\n",
    "    nt_course.set_options(hierarchical_options)\n",
    "    # File name safe string for the course name\n",
    "    safe_name = \"\".join([c if c.isalnum() or c in \"._-\" else \"_\" for c in course])\n",
    "    output_file = f\"../_static/workshop_prereqs_{safe_name.lower()}.html\"\n",
    "    nt_course.show(output_file)\n"
   ]
  },
  {
   "cell_type": "code",
   "execution_count": 7,
   "id": "98e15d08-6dfe-4606-b388-1ea76d9d0bc8",
   "metadata": {
    "editable": true,
    "slideshow": {
     "slide_type": ""
    },
    "tags": [
     "remove-input"
    ]
   },
   "outputs": [
    {
     "data": {
      "text/html": [
       "<div style='text-align: center;'><h3>R DS Pathway</h3></div><iframe id='iframe-r_ds' src='../_static/workshops_network_r_ds.html' width='100%' height='750px' style='border:none;'></iframe>\n",
       "    <script>\n",
       "    function adjustIframeHeight_iframe-r_ds() {\n",
       "        const iframe = document.getElementById('iframe-r_ds');\n",
       "        if (iframe) {\n",
       "            iframe.style.height = iframe.offsetWidth + 'px';\n",
       "        }\n",
       "    }\n",
       "\n",
       "    // Adjust height on load and resize\n",
       "    window.onload = adjustIframeHeight_iframe-r_ds;\n",
       "    window.onresize = adjustIframeHeight_iframe-r_ds;\n",
       "    </script>\n",
       "    "
      ],
      "text/plain": [
       "<IPython.core.display.HTML object>"
      ]
     },
     "metadata": {},
     "output_type": "display_data"
    },
    {
     "data": {
      "text/html": [
       "<div style='text-align: center;'><h3>HPC Pathway</h3></div><iframe id='iframe-hpc' src='../_static/workshops_network_hpc.html' width='100%' height='750px' style='border:none;'></iframe>\n",
       "    <script>\n",
       "    function adjustIframeHeight_iframe-hpc() {\n",
       "        const iframe = document.getElementById('iframe-hpc');\n",
       "        if (iframe) {\n",
       "            iframe.style.height = iframe.offsetWidth + 'px';\n",
       "        }\n",
       "    }\n",
       "\n",
       "    // Adjust height on load and resize\n",
       "    window.onload = adjustIframeHeight_iframe-hpc;\n",
       "    window.onresize = adjustIframeHeight_iframe-hpc;\n",
       "    </script>\n",
       "    "
      ],
      "text/plain": [
       "<IPython.core.display.HTML object>"
      ]
     },
     "metadata": {},
     "output_type": "display_data"
    },
    {
     "data": {
      "text/html": [
       "<div style='text-align: center;'><h3>Python DS Pathway</h3></div><iframe id='iframe-python_ds' src='../_static/workshops_network_python_ds.html' width='100%' height='750px' style='border:none;'></iframe>\n",
       "    <script>\n",
       "    function adjustIframeHeight_iframe-python_ds() {\n",
       "        const iframe = document.getElementById('iframe-python_ds');\n",
       "        if (iframe) {\n",
       "            iframe.style.height = iframe.offsetWidth + 'px';\n",
       "        }\n",
       "    }\n",
       "\n",
       "    // Adjust height on load and resize\n",
       "    window.onload = adjustIframeHeight_iframe-python_ds;\n",
       "    window.onresize = adjustIframeHeight_iframe-python_ds;\n",
       "    </script>\n",
       "    "
      ],
      "text/plain": [
       "<IPython.core.display.HTML object>"
      ]
     },
     "metadata": {},
     "output_type": "display_data"
    }
   ],
   "source": [
    "from IPython.display import HTML, display\n",
    "\n",
    "# Assuming you've already saved each network to an HTML file\n",
    "for pathway in pathways:\n",
    "    file_name = f\"../_static/workshops_network_{pathway.replace(' ', '_').lower()}.html\"\n",
    "    \n",
    "    # Generate a unique ID for each iframe\n",
    "    iframe_id = f\"iframe-{pathway.replace(' ', '_').lower()}\"\n",
    "\n",
    "    # Create a display HTML block with a title\n",
    "    html_str = f\"<div style='text-align: center;'><h3>{pathway} Pathway</h3></div>\"\n",
    "    html_str += f\"<iframe id='{iframe_id}' src='{file_name}' width='100%' height='750px' style='border:none;'></iframe>\"\n",
    "    \n",
    "    # Include JavaScript to adjust the iframe height\n",
    "    js_code = f\"\"\"\n",
    "    <script>\n",
    "    function adjustIframeHeight_{iframe_id}() {{\n",
    "        const iframe = document.getElementById('{iframe_id}');\n",
    "        if (iframe) {{\n",
    "            iframe.style.height = iframe.offsetWidth + 'px';\n",
    "        }}\n",
    "    }}\n",
    "\n",
    "    // Adjust height on load and resize\n",
    "    window.onload = adjustIframeHeight_{iframe_id};\n",
    "    window.onresize = adjustIframeHeight_{iframe_id};\n",
    "    </script>\n",
    "    \"\"\"\n",
    "    \n",
    "    html_str += js_code\n",
    "    display(HTML(html_str))"
   ]
  },
  {
   "cell_type": "code",
   "execution_count": null,
   "id": "ec4e87f9-7291-48db-889e-c89b4f2b788e",
   "metadata": {
    "editable": true,
    "slideshow": {
     "slide_type": ""
    },
    "tags": []
   },
   "outputs": [],
   "source": []
  },
  {
   "cell_type": "code",
   "execution_count": null,
   "id": "d390070b-e14f-4296-8d10-552f34c764f7",
   "metadata": {},
   "outputs": [],
   "source": []
  },
  {
   "cell_type": "code",
   "execution_count": null,
   "id": "f67fbdd8-2041-4c13-bf89-0cf5bd8252ae",
   "metadata": {},
   "outputs": [],
   "source": []
  }
 ],
 "metadata": {
  "kernelspec": {
   "display_name": "Python 3 (ipykernel)",
   "language": "python",
   "name": "python3"
  },
  "language_info": {
   "codemirror_mode": {
    "name": "ipython",
    "version": 3
   },
   "file_extension": ".py",
   "mimetype": "text/x-python",
   "name": "python",
   "nbconvert_exporter": "python",
   "pygments_lexer": "ipython3",
   "version": "3.9.19"
  }
 },
 "nbformat": 4,
 "nbformat_minor": 5
}
