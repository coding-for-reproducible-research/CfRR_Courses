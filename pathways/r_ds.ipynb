{
 "cells": [
  {
   "cell_type": "markdown",
   "id": "5aa8e30b-638c-43e0-9969-f74e9de9ba35",
   "metadata": {
    "editable": true,
    "slideshow": {
     "slide_type": ""
    },
    "tags": []
   },
   "source": [
    "# R Data Science\n",
    "\n",
    "The interactive network visualisation below shows the relationship between various courses within the training program. Each node represents a course, and the arrows indicate the recommended sequence in which to take them. You can click on any course node to view more details about that specific course. Use the green navigation buttons on the bottom left to move around the network, or left-click and drag the mouse: the up and down arrows to zoom in and out, and the left and right arrows to pan the view. The centre button resets the view to the default position. This interactive tool helps you understand the progression and prerequisites of the courses, making it easier to plan your learning path with the Coding for Reproducible Research Training (CfRR) initiative. "
   ]
  },
  {
   "cell_type": "code",
   "execution_count": 1,
   "id": "7674098c-9001-4403-9e78-4d54fbc9797a",
   "metadata": {
    "editable": true,
    "slideshow": {
     "slide_type": ""
    },
    "tags": [
     "remove-input"
    ]
   },
   "outputs": [
    {
     "data": {
      "text/html": [
       "<div style='text-align: center;'><h3>R DS Pathway</h3></div><iframe id='iframe-r_ds' src='../_static/workshops_network_r_ds.html' width='100%' height='750px' style='border:none;'></iframe>\n",
       "<script>\n",
       "function adjustIframeHeight_iframe-r_ds() {\n",
       "    const iframe = document.getElementById('iframe-r_ds');\n",
       "    if (iframe) {\n",
       "        iframe.style.height = iframe.offsetWidth + 'px';\n",
       "    }\n",
       "}\n",
       "\n",
       "// Adjust height on load and resize\n",
       "window.onload = adjustIframeHeight_iframe-r_ds;\n",
       "window.onresize = adjustIframeHeight_iframe-r_ds;\n",
       "</script>\n"
      ],
      "text/plain": [
       "<IPython.core.display.HTML object>"
      ]
     },
     "metadata": {},
     "output_type": "display_data"
    }
   ],
   "source": [
    "from IPython.display import HTML, display\n",
    "\n",
    "pathway = \"R DS\"\n",
    "file_name = f\"../_static/workshops_network_{pathway.replace(' ', '_').lower()}.html\"\n",
    "\n",
    "# Generate a unique ID for each iframe\n",
    "iframe_id = f\"iframe-{pathway.replace(' ', '_').lower()}\"\n",
    "\n",
    "# Create a display HTML block with a title\n",
    "html_str = f\"<div style='text-align: center;'><h3>{pathway} Pathway</h3></div>\"\n",
    "html_str += f\"<iframe id='{iframe_id}' src='{file_name}' title='R Data Science Pathway' width='100%' height='750px' style='border:none;'></iframe>\"\n",
    "\n",
    "# Include JavaScript to adjust the iframe height\n",
    "js_code = f\"\"\"\n",
    "<script>\n",
    "function adjustIframeHeight_{iframe_id}() {{\n",
    "    const iframe = document.getElementById('{iframe_id}');\n",
    "    if (iframe) {{\n",
    "        iframe.style.height = iframe.offsetWidth + 'px';\n",
    "    }}\n",
    "}}\n",
    "\n",
    "// Adjust height on load and resize\n",
    "window.onload = adjustIframeHeight_{iframe_id};\n",
    "window.onresize = adjustIframeHeight_{iframe_id};\n",
    "</script>\n",
    "\"\"\"\n",
    "\n",
    "html_str += js_code\n",
    "display(HTML(html_str))"
   ]
  },
  {
   "cell_type": "code",
   "execution_count": null,
   "id": "425ece88-6450-4137-97f1-a8f32cf679f5",
   "metadata": {},
   "outputs": [],
   "source": []
  }
 ],
 "metadata": {
  "kernelspec": {
   "display_name": "Python 3 (ipykernel)",
   "language": "python",
   "name": "python3"
  },
  "language_info": {
   "codemirror_mode": {
    "name": "ipython",
    "version": 3
   },
   "file_extension": ".py",
   "mimetype": "text/x-python",
   "name": "python",
   "nbconvert_exporter": "python",
   "pygments_lexer": "ipython3",
   "version": "3.9.19"
  }
 },
 "nbformat": 4,
 "nbformat_minor": 5
}
