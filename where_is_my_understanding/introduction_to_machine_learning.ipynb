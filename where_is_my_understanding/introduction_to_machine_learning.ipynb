{
 "cells": [
  {
   "cell_type": "markdown",
   "id": "366e44af-7003-4cd6-9bcc-697badee9b22",
   "metadata": {},
   "source": [
    "# Introduction to Machine Learning Quiz"
   ]
  },
  {
   "cell_type": "markdown",
   "id": "6fab6389-b505-48f5-8b9c-639513ade64e",
   "metadata": {
    "editable": true,
    "slideshow": {
     "slide_type": ""
    },
    "tags": []
   },
   "source": [
    "The following questions are aimed at testing your understanding of the content that is covered within this course. There is no defined threshold below which we believe you should attend the course. Rather, it is aimed at helping you engage with the content and reflect on whether you would benefit from attending the course. It is intended that you will engage with documentation and use Google throughout. Even if you get all the questions right, you are, of course, more than welcome to still attend the course as a refresher!"
   ]
  },
  {
   "cell_type": "code",
   "execution_count": null,
   "id": "8f695e06-85e7-4b09-86d5-70aa0d981f2d",
   "metadata": {
    "editable": true,
    "slideshow": {
     "slide_type": ""
    },
    "tags": [
     "remove-input"
    ]
   },
   "outputs": [],
   "source": [
    "from jupyterquiz import display_quiz\n",
    "display_quiz(\"quizes/introduction_to_machine_learning.json\")"
   ]
  }
 ],
 "metadata": {
  "kernelspec": {
   "display_name": "Python 3 (ipykernel)",
   "language": "python",
   "name": "python3"
  },
  "language_info": {
   "codemirror_mode": {
    "name": "ipython",
    "version": 3
   },
   "file_extension": ".py",
   "mimetype": "text/x-python",
   "name": "python",
   "nbconvert_exporter": "python",
   "pygments_lexer": "ipython3",
   "version": "3.11.5"
  }
 },
 "nbformat": 4,
 "nbformat_minor": 5
}
