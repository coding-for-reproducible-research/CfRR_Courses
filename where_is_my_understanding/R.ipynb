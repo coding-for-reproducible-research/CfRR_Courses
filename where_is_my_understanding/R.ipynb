{
 "cells": [
  {
   "cell_type": "markdown",
   "id": "6a3d7856-00d6-4ae2-94ac-7e39f8c614e4",
   "metadata": {},
   "source": [
    "# R\n",
    "The following sub-section presents quizzes related to the R courses offered through CfRR. These quizzes are intended to provide you with a way of assessing if the courses are correctly aimed at you. If you can complete the quiz corresponding to a given course, then it is likely that your attending the course would be of limited benefit. "
   ]
  },
  {
   "cell_type": "markdown",
   "id": "7556e604-6241-4eb6-b965-e943eadd0606",
   "metadata": {},
   "source": [
    "## Introduction to R Quiz \n",
    "\n",
    "[Clickable Link To Quiz](intro_to_r.ipynb)\n",
    "\n",
    "The quiz covers fundamental R language topics, such as variable assignment, data structures, and control flow. It tests your ability to read data, apply basic transformations, and produce simple visualizations using R's built-in functions. \n",
    "\n",
    "## Regression Analysis with R Quiz \n",
    "\n",
    "[Clickable Link To Quiz](regression_analysis_with_R.ipynb)\n",
    "\n",
    "The quiz focuses on fundamental regression concepts in R, including data preparation, model fitting, and interpretation of results. It tests your ability to assess model assumptions, explore diagnostic plots, and handle common issues in regression workflows. \n",
    "\n",
    "## Advanced Regression Analysis with R Quiz \n",
    "\n",
    "[Clickable Link To Quiz](advanced_regression_analysis_with_R.ipynb)\n",
    "\n",
    "The quiz focuses on more advanced regression topics in R, testing your ability to work with complex data structures and perform sophisticated modeling techniques. It assesses your understanding of model diagnostics, assumptions, and practical problem-solving for issues like multicollinearity or overfitting.\n",
    "\n",
    "## Working with Data in R Quiz\n",
    "\n",
    "[Clickable Link To Quiz](working_with_data_in_r.ipynb)\n",
    "\n",
    "The quiz focuses on fundamental data manipulation concepts in R, testing your ability to filter, select, reshape, and combine data. It also checks your understanding of key data wrangling techniques, ensuring you can efficiently work with packages like dplyr and tidyr. "
   ]
  }
 ],
 "metadata": {
  "kernelspec": {
   "display_name": "Python 3 (ipykernel)",
   "language": "python",
   "name": "python3"
  },
  "language_info": {
   "codemirror_mode": {
    "name": "ipython",
    "version": 3
   },
   "file_extension": ".py",
   "mimetype": "text/x-python",
   "name": "python",
   "nbconvert_exporter": "python",
   "pygments_lexer": "ipython3",
   "version": "3.9.19"
  }
 },
 "nbformat": 4,
 "nbformat_minor": 5
}
