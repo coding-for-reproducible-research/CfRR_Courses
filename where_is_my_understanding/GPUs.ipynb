{
 "cells": [
  {
   "cell_type": "markdown",
   "id": "6a3d7856-00d6-4ae2-94ac-7e39f8c614e4",
   "metadata": {},
   "source": [
    "# GPUs\n",
    "The following sub-section presents quizzes related to the GPU courses offered through CfRR. These quizzes are intended to provide you with a way of assessing if the courses are correctly aimed at you. If you can complete the quiz corresponding to a given course, then it is likely that your attending the course would be of limited benefit. "
   ]
  },
  {
   "cell_type": "markdown",
   "id": "7556e604-6241-4eb6-b965-e943eadd0606",
   "metadata": {},
   "source": [
    "## Introduction to GPUs Quiz \n",
    "\n",
    "[Clickable Link To Quiz](introduction_to_GPUs.ipynb)\n",
    "\n",
    "The quiz covers fundamental GPU concepts, including GPU architecture, types of parallelism, memory hierarchy, and common applications, testing your understanding of how GPUs differ from CPUs and when to use them for computational tasks."
   ]
  }
 ],
 "metadata": {
  "kernelspec": {
   "display_name": "Python 3 (ipykernel)",
   "language": "python",
   "name": "python3"
  },
  "language_info": {
   "codemirror_mode": {
    "name": "ipython",
    "version": 3
   },
   "file_extension": ".py",
   "mimetype": "text/x-python",
   "name": "python",
   "nbconvert_exporter": "python",
   "pygments_lexer": "ipython3",
   "version": "3.9.19"
  }
 },
 "nbformat": 4,
 "nbformat_minor": 5
}
