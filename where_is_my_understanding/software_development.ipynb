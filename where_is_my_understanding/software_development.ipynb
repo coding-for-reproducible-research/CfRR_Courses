{
 "cells": [
  {
   "cell_type": "markdown",
   "id": "3128401f-5a81-47bb-82a9-bffba8d19b8e",
   "metadata": {},
   "source": [
    "# Software Development\n",
    "The following sub-section presents quizzes related to the Software Development courses offered through CfRR. These quizzes are intended to provide you with a way of assessing if the courses are correctly aimed at you. If you can complete the quiz corresponding to a given course, then it is likely that your attending the course would be of limited benefit."
   ]
  },
  {
   "cell_type": "markdown",
   "id": "52fc290d-f7d5-4e0a-a695-83730b7c8823",
   "metadata": {},
   "source": [
    "## Software Development Best Practice Quiz\n",
    "\n",
    "[Clickable Link To Quiz](software_development_best_practice.ipynb)\n",
    "\n",
    "The quiz explores best practices in software development, focusing on version control, testing, documentation, and code organization. It checks your understanding of agile practices, continuous integration, and collaborative workflows to promote efficient, maintainable projects."
   ]
  }
 ],
 "metadata": {
  "kernelspec": {
   "display_name": "Python 3 (ipykernel)",
   "language": "python",
   "name": "python3"
  },
  "language_info": {
   "codemirror_mode": {
    "name": "ipython",
    "version": 3
   },
   "file_extension": ".py",
   "mimetype": "text/x-python",
   "name": "python",
   "nbconvert_exporter": "python",
   "pygments_lexer": "ipython3",
   "version": "3.9.19"
  }
 },
 "nbformat": 4,
 "nbformat_minor": 5
}
