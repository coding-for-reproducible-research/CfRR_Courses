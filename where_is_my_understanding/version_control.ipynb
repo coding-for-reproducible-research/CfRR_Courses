{
 "cells": [
  {
   "cell_type": "markdown",
   "id": "3acccbb7-f5c7-4dc3-b560-54a4f589b685",
   "metadata": {},
   "source": [
    "# Version Control\n",
    "The following sub-section presents quizzes related to the Version Control courses offered through CfRR. These quizzes are intended to provide you with a way of assessing if the courses are correctly aimed at you. If you can complete the quiz corresponding to a given course, then it is likely that your attending the course would be of limited benefit."
   ]
  },
  {
   "cell_type": "markdown",
   "id": "243e826a-25b2-4b4e-bb01-2b3052d5d316",
   "metadata": {},
   "source": [
    "## Introduction to Version Control Quiz \n",
    "\n",
    "[Intro To Version Control](intro_to_version_control.ipynb)\n",
    "\n",
    "The quiz focuses on fundamental version control concepts, particularly the use of Git for tracking and managing changes. It tests your understanding of branching, merging, and conflict resolution, ensuring you can collaborate effectively and maintain a clear project history.\n",
    "\n",
    "\n",
    "## Intermediate Version Control Quiz\n",
    "\n",
    "[Clickable Link To Quiz](intermediate_version_control.ipynb)\n",
    "\n",
    "This quiz delves into more advanced version control techniques, going beyond basic Git commands and workflows. It tests your understanding of strategies such as branching models, rebasing, and managing complex merges or conflicts in collaborative environments."
   ]
  }
 ],
 "metadata": {
  "kernelspec": {
   "display_name": "Python 3 (ipykernel)",
   "language": "python",
   "name": "python3"
  },
  "language_info": {
   "codemirror_mode": {
    "name": "ipython",
    "version": 3
   },
   "file_extension": ".py",
   "mimetype": "text/x-python",
   "name": "python",
   "nbconvert_exporter": "python",
   "pygments_lexer": "ipython3",
   "version": "3.9.19"
  }
 },
 "nbformat": 4,
 "nbformat_minor": 5
}