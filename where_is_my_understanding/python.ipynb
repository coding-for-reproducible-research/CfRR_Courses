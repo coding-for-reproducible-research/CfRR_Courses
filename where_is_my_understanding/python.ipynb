{
 "cells": [
  {
   "cell_type": "markdown",
   "id": "8db13a8d-ce42-445a-80e3-f8c2cb5e79f2",
   "metadata": {},
   "source": [
    "# Python\n",
    "The following sub-section presents quizzes related to the Python courses offered through CfRR. These quizzes are intended to provide you with a way of assessing if the courses are correctly aimed at you. If you can complete the quiz corresponding to a given course, then it is likely that your attending the course would be of limited benefit. "
   ]
  },
  {
   "cell_type": "markdown",
   "id": "a1b48845-d6c3-4b09-9fef-45b94b08ca79",
   "metadata": {},
   "source": [
    "## Introduction to Python Quiz\n",
    "\n",
    "[Intro To Python](intro_to_python.ipynb)\n",
    "\n",
    "The quiz focuses on key elements of Python syntax, including variable assignment, data types, and control flow structures. It also tests your understanding of fundamental concepts like functions, modules, and common data structures such as lists and dictionaries. \n",
    "\n",
    "## Python for Data Analysis Quiz\n",
    "\n",
    "[Python for Data Analysis](python_for_data_analysis.ipynb)\n",
    "\n",
    "The quiz emphasizes Python fundamentals specifically tailored for data analysis, such as importing libraries, handling data structures, and managing data workflows. It tests your proficiency in tasks like cleaning, transforming, and visualizing data, ensuring you understand how to effectively use popular libraries like Pandas and Matplotlib.\n",
    "## Introduction to Machine Learning Quiz\n",
    "\n",
    "[Clickable Link To Quiz](introduction_to_machine_learning.ipynb)\n",
    "\n",
    "This quiz focuses on the core ideas behind machine learning rather than excplicit libraries and function calls. This includes topics such as best practices, the types of machine learning and pipelines."
   ]
  }
 ],
 "metadata": {
  "kernelspec": {
   "display_name": "Python 3 (ipykernel)",
   "language": "python",
   "name": "python3"
  },
  "language_info": {
   "codemirror_mode": {
    "name": "ipython",
    "version": 3
   },
   "file_extension": ".py",
   "mimetype": "text/x-python",
   "name": "python",
   "nbconvert_exporter": "python",
   "pygments_lexer": "ipython3",
   "version": "3.9.19"
  }
 },
 "nbformat": 4,
 "nbformat_minor": 5
}