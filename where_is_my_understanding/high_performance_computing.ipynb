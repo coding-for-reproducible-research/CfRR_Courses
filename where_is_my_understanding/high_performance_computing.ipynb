{
 "cells": [
  {
   "cell_type": "markdown",
   "id": "549301f1-66b2-4fcb-a54e-f44c347d2924",
   "metadata": {},
   "source": [
    "# High Performance Computing\n",
    "The following sub-section presents quizzes related to the High Performance Computing courses offered through CfRR. These quizzes are intended to provide you with a way of assessing if the courses are correctly aimed at you. If you can complete the quiz corresponding to a given course, then it is likely that your attending the course would be of limited benefit."
   ]
  },
  {
   "cell_type": "markdown",
   "id": "8b65506a-97ed-4112-be8b-fc33f89899df",
   "metadata": {},
   "source": [
    "## Introduction to HPC Quiz\n",
    "\n",
    "[Clickable Link To Quiz](intro_to_hpc.ipynb)\n",
    "\n",
    "This quiz introduces key concepts in high-performance computing (HPC), including cluster architectures, job scheduling systems, and parallel processing basics. It tests your ability to navigate and configure HPC environments, ensuring you can optimize computational tasks effectively. \n",
    "\n",
    "## Parallel Computing Quiz\n",
    "\n",
    "[Clickable Link To Quiz](parallel_computing.ipynb)\n",
    "\n",
    "The quiz covers fundamental concepts of parallel computing, including concurrency, data parallelism, and strategies for distributing tasks among multiple cores. It tests your understanding of scheduling, synchronization, and identifying potential pitfalls like race conditions or deadlocks."
   ]
  }
 ],
 "metadata": {
  "kernelspec": {
   "display_name": "Python 3 (ipykernel)",
   "language": "python",
   "name": "python3"
  },
  "language_info": {
   "codemirror_mode": {
    "name": "ipython",
    "version": 3
   },
   "file_extension": ".py",
   "mimetype": "text/x-python",
   "name": "python",
   "nbconvert_exporter": "python",
   "pygments_lexer": "ipython3",
   "version": "3.9.19"
  }
 },
 "nbformat": 4,
 "nbformat_minor": 5
}
