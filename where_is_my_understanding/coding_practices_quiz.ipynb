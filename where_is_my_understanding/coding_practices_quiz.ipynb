{
 "cells": [
  {
   "cell_type": "markdown",
   "id": "ede00464-14b3-49a2-8187-26bb602ddbdc",
   "metadata": {},
   "source": [
    "# Coding Practices \n",
    "\n",
    "The following pages provide the quizes for the courses that CfRR offers in coding practices. "
   ]
  },
  {
   "cell_type": "markdown",
   "id": "7bdc79a5-c0f9-4251-9547-e49053bb0805",
   "metadata": {},
   "source": [
    "## Computational Thinking\n",
    "\n",
    "[Clickable Link to Coding Practices Quizes for Computational Thinking](computational_thinking_overview.ipynb)\n",
    "\n",
    "These quizzes test your understanding of key computational thinking concepts, helping you evaluate whether the courses are suited to your skill level. They assess your ability to approach problems through decomposition, algorithmic reasoning, and abstraction. Additionally, they evaluate your proficiency in structuring tasks into logical steps and translating conceptual solutions into reproducible workflows.\n",
    "\n",
    "## High Performance Computing \n",
    "\n",
    "[Clickable Link to Coding Practices Quizes for High Performance Computing](high_performance_computing.ipynb)\n",
    "\n",
    "\n",
    "These quizzes test your understanding of high-performance and parallel computing concepts, helping you determine if the courses align with your current knowledge. They assess your ability to navigate HPC environments, understand cluster architectures, and manage job scheduling systems for optimizing computational tasks. Additionally, they evaluate your grasp of parallel computing fundamentals, including concurrency, data parallelism, task distribution, and strategies to avoid pitfalls such as race conditions and deadlocks.\n",
    "\n",
    "## Software Development\n",
    "\n",
    "[Clickable Link to Coding Practices Quizes for Software Development](software_development.ipynb)\n",
    "\n",
    "These quizzes test your understanding of best practices in software development, helping you determine if the courses match your current skill level. They assess your knowledge of version control, testing, documentation, and code organization, as well as your familiarity with agile practices and continuous integration. Additionally, they evaluate your ability to implement collaborative workflows for efficient and maintainable projects.\n",
    "\n",
    "## Version Control\n",
    "\n",
    "[Clickable Link to Coding Practices Quizes for Version Control](version_control.ipynb)\n",
    "\n",
    "These quizzes test your understanding of version control concepts and practices, helping you assess whether the courses align with your skill level. They evaluate your knowledge of using Git for tracking changes, branching, merging, and resolving conflicts to maintain clear project histories and collaborate effectively. Additionally, they assess your proficiency with advanced techniques, including branching models, rebasing, and managing complex workflows in collaborative environments.\n"
   ]
  }
 ],
 "metadata": {
  "kernelspec": {
   "display_name": "Python 3 (ipykernel)",
   "language": "python",
   "name": "python3"
  },
  "language_info": {
   "codemirror_mode": {
    "name": "ipython",
    "version": 3
   },
   "file_extension": ".py",
   "mimetype": "text/x-python",
   "name": "python",
   "nbconvert_exporter": "python",
   "pygments_lexer": "ipython3",
   "version": "3.9.19"
  }
 },
 "nbformat": 4,
 "nbformat_minor": 5
}
