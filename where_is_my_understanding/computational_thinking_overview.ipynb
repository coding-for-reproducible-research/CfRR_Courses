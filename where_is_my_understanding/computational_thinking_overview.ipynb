{
 "cells": [
  {
   "cell_type": "markdown",
   "id": "857f94be-8ba0-4155-b188-142f49723492",
   "metadata": {},
   "source": [
    "# Computational Thinking\n",
    "The following sub-section presents quizzes related to the Computational Thinking courses offered through CfRR. These quizzes are intended to provide you with a way of assessing if the courses are correctly aimed at you. If you can complete the quiz corresponding to a given course, then it is likely that your attending the course would be of limited benefit."
   ]
  },
  {
   "cell_type": "markdown",
   "id": "07706756-0881-45b9-99c4-f608a07a8bcf",
   "metadata": {},
   "source": [
    "## Computational Thinking Quiz\n",
    "\n",
    "[Clickable Link To Quiz](computational_thinking.ipynb)\n",
    "\n",
    "The quiz examines key aspects of computational thinking, such as problem decomposition, algorithmic reasoning, and abstraction. It tests your ability to structure and break down tasks into logical steps, ensuring you can translate conceptual solutions into reproducible workflows."
   ]
  }
 ],
 "metadata": {
  "kernelspec": {
   "display_name": "Python 3 (ipykernel)",
   "language": "python",
   "name": "python3"
  },
  "language_info": {
   "codemirror_mode": {
    "name": "ipython",
    "version": 3
   },
   "file_extension": ".py",
   "mimetype": "text/x-python",
   "name": "python",
   "nbconvert_exporter": "python",
   "pygments_lexer": "ipython3",
   "version": "3.9.19"
  }
 },
 "nbformat": 4,
 "nbformat_minor": 5
}
