{
 "cells": [
  {
   "cell_type": "markdown",
   "id": "c94f6b62-20ce-49c7-b43e-ed728e5fec2d",
   "metadata": {},
   "source": [
    "# Unix\n",
    "The following sub-section presents quizzes related to the UNIX courses offered through CfRR. These quizzes are intended to provide you with a way of assessing if the courses are correctly aimed at you. If you can complete the quiz corresponding to a given course, then it is likely that your attending the course would be of limited benefit."
   ]
  },
  {
   "cell_type": "markdown",
   "id": "976cc41c-f84c-4f58-be87-10dcfd8c8115",
   "metadata": {},
   "source": [
    "## Introduction to UNIX Quiz\n",
    "\n",
    "[Clickable Link To Quiz](intro_to_unix.ipynb)\n",
    "\n",
    "The quiz introduces fundamental Unix concepts, testing your ability to navigate the command line and manage files. It checks your knowledge of commands like ls, cd, mkdir, and others, ensuring you understand directory structures, permissions, and environment variables. "
   ]
  }
 ],
 "metadata": {
  "kernelspec": {
   "display_name": "Python 3 (ipykernel)",
   "language": "python",
   "name": "python3"
  },
  "language_info": {
   "codemirror_mode": {
    "name": "ipython",
    "version": 3
   },
   "file_extension": ".py",
   "mimetype": "text/x-python",
   "name": "python",
   "nbconvert_exporter": "python",
   "pygments_lexer": "ipython3",
   "version": "3.9.19"
  }
 },
 "nbformat": 4,
 "nbformat_minor": 5
}
