{
 "cells": [
  {
   "cell_type": "markdown",
   "id": "866180fb-e8e3-4db8-ac58-760996bfbffc",
   "metadata": {
    "editable": true,
    "slideshow": {
     "slide_type": ""
    },
    "tags": []
   },
   "source": [
    "# Computational Thinking\n",
    "\n",
    "The following set of courses discuss Computational Thinking. The details for each of the courses can be found on their respective pages. "
   ]
  },
  {
   "cell_type": "markdown",
   "id": "ccd1c890-bbe5-41fb-adac-814e0554af12",
   "metadata": {
    "editable": true,
    "slideshow": {
     "slide_type": ""
    },
    "tags": []
   },
   "source": [
    "## Computational Thinking Self Study Notes\n",
    "\n",
    "[Clickable Link to Self Study Notes](../individual_modules/section_landing_pages/computational_thinking.md)\n",
    "\n",
    "The course introduces the concept of algorithms and their essential role in coding, providing a solid foundation for understanding computational processes. Students will explore various computational thinking approaches and concepts for developing effective algorithms, enhancing their problem-solving skills. Additionally, the course teaches how to differentiate between syntax-related bugs and those stemming from the underlying algorithm, enabling more efficient and effective troubleshooting."
   ]
  }
 ],
 "metadata": {
  "kernelspec": {
   "display_name": "Python 3 (ipykernel)",
   "language": "python",
   "name": "python3"
  },
  "language_info": {
   "codemirror_mode": {
    "name": "ipython",
    "version": 3
   },
   "file_extension": ".py",
   "mimetype": "text/x-python",
   "name": "python",
   "nbconvert_exporter": "python",
   "pygments_lexer": "ipython3",
   "version": "3.9.19"
  }
 },
 "nbformat": 4,
 "nbformat_minor": 5
}
