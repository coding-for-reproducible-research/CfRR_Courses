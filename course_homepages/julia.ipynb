{
 "cells": [
  {
   "cell_type": "markdown",
   "id": "b11ab280-7290-446c-a3b1-3bfa87974e29",
   "metadata": {
    "editable": true,
    "slideshow": {
     "slide_type": ""
    },
    "tags": []
   },
   "source": [
    "# Julia "
   ]
  },
  {
   "cell_type": "markdown",
   "id": "3aa8e60f-3f31-4c1a-8965-5dc4b1794f2c",
   "metadata": {
    "editable": true,
    "slideshow": {
     "slide_type": ""
    },
    "tags": []
   },
   "source": [
    "The following set of courses discuss the process of using julia. The details for each of the courses can be found on their respective pages. "
   ]
  },
  {
   "cell_type": "markdown",
   "id": "33fc6106-5ac0-41aa-b1dc-bfcb1ceb098f",
   "metadata": {
    "editable": true,
    "slideshow": {
     "slide_type": ""
    },
    "tags": []
   },
   "source": [
    "## Introduction to Julia Self Study Notes\n",
    "\n",
    "[Clickable Link to Self Study Notes](../individual_modules/section_landing_pages/introduction_to_julia.md)\n",
    "\n",
    "The course provides a comprehensive understanding of Julia’s high-level and high-performance features, including multiple dispatch. Students will learn to create and manipulate one-dimensional and multi-dimensional arrays, utilize conditional statements and loops to control program flow, and develop functions with various parameters and return types, including lambda functions. Additionally, the course covers performing input and output operations with different file types such as text, CSV, Excel, and JSON, enabling effective data handling and manipulation."
   ]
  }
 ],
 "metadata": {
  "kernelspec": {
   "display_name": "Python 3 (ipykernel)",
   "language": "python",
   "name": "python3"
  },
  "language_info": {
   "codemirror_mode": {
    "name": "ipython",
    "version": 3
   },
   "file_extension": ".py",
   "mimetype": "text/x-python",
   "name": "python",
   "nbconvert_exporter": "python",
   "pygments_lexer": "ipython3",
   "version": "3.9.19"
  }
 },
 "nbformat": 4,
 "nbformat_minor": 5
}
