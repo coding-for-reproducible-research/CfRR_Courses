{
 "cells": [
  {
   "cell_type": "markdown",
   "id": "7695fac6-1249-4c37-a4b1-5c86eb46710a",
   "metadata": {
    "editable": true,
    "slideshow": {
     "slide_type": ""
    },
    "tags": []
   },
   "source": [
    "# Version Control"
   ]
  },
  {
   "cell_type": "markdown",
   "id": "1e9e5ee1-444c-4fcb-b3ef-347c55f13756",
   "metadata": {
    "editable": true,
    "slideshow": {
     "slide_type": ""
    },
    "tags": []
   },
   "source": [
    "The following set of courses discuss version control. The details for each of the courses can be found on their respective pages. "
   ]
  },
  {
   "cell_type": "markdown",
   "id": "6b2c4fda-ea2d-4114-97e9-6602cbc1773a",
   "metadata": {
    "editable": true,
    "slideshow": {
     "slide_type": ""
    },
    "tags": []
   },
   "source": [
    "## Introduction to Version Control Self Study Notes\n",
    "\n",
    "[Clickable Link to Self Study Notes](../individual_modules/section_landing_pages/introduction_to_version_control.md)\n",
    "\n",
    "The course teaches students how to effectively manage software development using Git, including understanding repositories and commits and applying essential Git commands such as cloning, pulling, pushing, adding, and committing changes. Participants will learn best practices for what should and should not be included in Git repositories, understand the relationship and differences between Git and platforms like GitHub and GitLab, and gain the skills to share their work publicly or collaboratively through GitHub. Additionally, the course builds confidence to explore and utilize more advanced Git and GitHub features, such as branches and pull requests, to enhance their development workflows.\n",
    "\n",
    "## Intermediate Version Control Self Study Notes\n",
    "\n",
    "[Clickable Link to Self Study Notes](../individual_modules/section_landing_pages/intermediate_version_control.md)\n",
    "\n",
    "The course delves into advanced Git configurations, enabling participants to understand and tailor Git settings to their development needs. Students will master branching and merging strategies, implement effective GitHub workflows for collaboration, and manage remote repositories while synchronizing local changes seamlessly. Additionally, the course covers techniques for rewriting Git history and recovering from mistakes, ensuring robust and resilient version control practices.\n"
   ]
  }
 ],
 "metadata": {
  "kernelspec": {
   "display_name": "Python 3 (ipykernel)",
   "language": "python",
   "name": "python3"
  },
  "language_info": {
   "codemirror_mode": {
    "name": "ipython",
    "version": 3
   },
   "file_extension": ".py",
   "mimetype": "text/x-python",
   "name": "python",
   "nbconvert_exporter": "python",
   "pygments_lexer": "ipython3",
   "version": "3.9.19"
  }
 },
 "nbformat": 4,
 "nbformat_minor": 5
}
