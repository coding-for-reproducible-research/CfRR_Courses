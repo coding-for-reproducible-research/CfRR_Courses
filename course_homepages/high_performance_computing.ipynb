{
 "cells": [
  {
   "cell_type": "markdown",
   "id": "2af036ab-0794-4f78-80b5-3a687e502500",
   "metadata": {
    "editable": true,
    "slideshow": {
     "slide_type": ""
    },
    "tags": []
   },
   "source": [
    "# High Performance Computing"
   ]
  },
  {
   "cell_type": "markdown",
   "id": "32b8b07b-95e8-430a-90ba-a81554e84178",
   "metadata": {
    "editable": true,
    "slideshow": {
     "slide_type": ""
    },
    "tags": []
   },
   "source": [
    "The following set of courses discuss the process of using high performance computing. The details for each of the courses can be found on their respective pages. "
   ]
  },
  {
   "cell_type": "markdown",
   "id": "fd6e537e-d20c-4c5b-b619-1cf111ba7ec1",
   "metadata": {
    "editable": true,
    "slideshow": {
     "slide_type": ""
    },
    "tags": []
   },
   "source": [
    "## Introduction to HPC Self Study Notes\n",
    "\n",
    "[Clickable Link to Self Study Notes](../individual_modules/section_landing_pages/introduction_to_hpc.md)\n",
    "\n",
    "The course introduces high-performance computing (HPC) clusters, explaining their functionality and the types of tasks they are best suited for. Students will learn how to access and navigate HPC environments, including logging onto clusters, managing the file system, and submitting and overseeing job tasks within the scheduler’s queue. Additionally, the course covers the array jobs syntax, a powerful tool for efficiently parallelizing repetitive tasks, enabling effective management of large computational workloads.\n",
    "\n",
    "## Parallel Computing Self Study Notes\n",
    "\n",
    "[Clickable Link to Self Study Notes](../individual_modules/section_landing_pages/parallel_computing.md)\n",
    "\n",
    "The course offers an in-depth understanding of distributed and shared-memory parallelism, enabling participants to explain these concepts clearly. Students will learn to write software that runs across multiple processes using MPI and develop code that utilizes multithreading for parallel execution. Additionally, the course focuses on effectively dividing and parallelizing problems, providing hands-on experience in writing and optimizing parallel code."
   ]
  }
 ],
 "metadata": {
  "kernelspec": {
   "display_name": "Python 3 (ipykernel)",
   "language": "python",
   "name": "python3"
  },
  "language_info": {
   "codemirror_mode": {
    "name": "ipython",
    "version": 3
   },
   "file_extension": ".py",
   "mimetype": "text/x-python",
   "name": "python",
   "nbconvert_exporter": "python",
   "pygments_lexer": "ipython3",
   "version": "3.9.19"
  }
 },
 "nbformat": 4,
 "nbformat_minor": 5
}
