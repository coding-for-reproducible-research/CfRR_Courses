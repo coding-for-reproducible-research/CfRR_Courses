{
 "cells": [
  {
   "cell_type": "markdown",
   "id": "b4fda83d-8890-4d9a-b4c7-09b3feb87160",
   "metadata": {
    "editable": true,
    "slideshow": {
     "slide_type": ""
    },
    "tags": []
   },
   "source": [
    "# R"
   ]
  },
  {
   "cell_type": "markdown",
   "id": "1b10a6e9-0d13-4798-9f05-896b8b3b9023",
   "metadata": {
    "editable": true,
    "slideshow": {
     "slide_type": ""
    },
    "tags": []
   },
   "source": [
    "The following set of courses discuss R. The details for each of the courses can be found on their respective pages. "
   ]
  },
  {
   "cell_type": "markdown",
   "id": "ffffdfd4-3e45-49c2-877b-f078c8abe7ea",
   "metadata": {
    "editable": true,
    "slideshow": {
     "slide_type": ""
    },
    "tags": []
   },
   "source": [
    "## Introduction to R Self Study Notes\n",
    "\n",
    "[Clickable Link to Self Study Notes](../individual_modules/section_landing_pages/introduction_to_r.md)\n",
    "\n",
    "The course introduces students to using RStudio for writing scripts and executing R commands, emphasizing the importance of various data types and object structures for effective data storage. Participants will learn how to read, manipulate, and save data, visualize it through commonly used figures, and perform basic inferential statistical tests. Additionally, the course covers fundamental programming terminology and concepts, such as variables, functions, and for loops, which are transferable to other programming languages.\n",
    "\n",
    "## Introduction to Regression with R\n",
    "\n",
    "[Clickable Link to Self Study Notes](../individual_modules/section_landing_pages/regression_analysis_with_R.md)\n",
    "\n",
    "The course provides a thorough understanding of regression analysis, including the types of questions it can address and the principles behind different regression models. Students will learn to fit both linear and logistic regression models with multiple predictor variables, as well as extract and summarize results from a variety of regression analyses. Additionally, the course emphasizes designing regression models that are tailored to specific research questions, ensuring that students can apply these techniques effectively in their own studies.\n",
    "\n",
    "## Regression Analysis in R: Adapting to Varied Data Types\n",
    "\n",
    "[Clickable Link to Self Study Notes](../individual_modules/section_landing_pages/advanced_regression_analysis_with_R.md)\n",
    "\n",
    "The course equips students to use regression analysis to address a wide range of research questions, including fitting models with interactions between predictor variables and multi-level regression models. Participants will learn to extract and summarize results from various regression models, ensuring they can effectively interpret and communicate their findings. Additionally, the course emphasizes designing regression models tailored to specific research questions, enabling students to apply these techniques accurately in their own studies.\n",
    "\n",
    "## Mixed Effects Regression with R\n",
    "\n",
    "[Clickable Link to Self Study Notes](../individual_modules/section_landing_pages/mixed_effects_regression_with_R.md)\n",
    "\n",
    "The course equips students to model complex, grouped data using mixed effects regression in R, building on their foundational regression skills. Participants will learn to fit and interpret multi-level models that incorporate both fixed and random effects, enabling thorough analysis of data with hierarchical structures. Emphasis is placed on extracting, summarizing, and clearly communicating results from mixed effects models, empowering students to apply these techniques accurately to their own research questions.\n",
    "\n",
    "## Working With Data in R Self Study Notes\n",
    "\n",
    "[Clickable Link to Self Study Notes](../individual_modules/section_landing_pages/working_with_data_in_R.md)\n",
    "\n",
    "The course introduces the principles of the ‘tidy’ data format, a widely recognized convention for structuring data, and teaches how to read tabular data from files into dataframes. Students will learn to manipulate datasets by creating new variables, filtering, summarizing, sorting, joining multiple datasets, and reshaping data, as well as working with strings and dates when time permits. Additionally, the course provides hands-on experience with R notebooks for conducting and documenting data analysis effectively.\n",
    "\n"
   ]
  }
 ],
 "metadata": {
  "kernelspec": {
   "display_name": "Python 3 (ipykernel)",
   "language": "python",
   "name": "python3"
  },
  "language_info": {
   "codemirror_mode": {
    "name": "ipython",
    "version": 3
   },
   "file_extension": ".py",
   "mimetype": "text/x-python",
   "name": "python",
   "nbconvert_exporter": "python",
   "pygments_lexer": "ipython3",
   "version": "3.9.19"
  }
 },
 "nbformat": 4,
 "nbformat_minor": 5
}
