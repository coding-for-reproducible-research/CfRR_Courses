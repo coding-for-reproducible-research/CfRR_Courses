{
 "cells": [
  {
   "cell_type": "markdown",
   "id": "90d7e218-930a-4103-b06f-a0a504b39430",
   "metadata": {
    "editable": true,
    "slideshow": {
     "slide_type": ""
    },
    "tags": []
   },
   "source": [
    "# UNIX"
   ]
  },
  {
   "cell_type": "markdown",
   "id": "1878e9af-6a9f-42e1-8563-6409d9530a86",
   "metadata": {
    "editable": true,
    "slideshow": {
     "slide_type": ""
    },
    "tags": []
   },
   "source": [
    "The following set of courses discuss UNIX. The details for each of the courses can be found on their respective pages. "
   ]
  },
  {
   "cell_type": "markdown",
   "id": "8102ce3d-d1cc-4066-bcc4-2c25069abb55",
   "metadata": {
    "editable": true,
    "slideshow": {
     "slide_type": ""
    },
    "tags": []
   },
   "source": [
    "## Introduction to UNIX Self Study Notes\n",
    "\n",
    "[Clickable Link to Self Study Notes](../individual_modules/section_landing_pages/introduction_to_unix.md)\n",
    "\n",
    "The course introduces the fundamentals of the Unix shell, explaining what it is and how to access it effectively. Students will learn to navigate the Unix filesystem, inspect and manipulate files, and automate tasks through scripting. Additionally, the course covers running programs outside of integrated development environments (IDEs) and notebooks, enabling efficient command-line workflow management."
   ]
  }
 ],
 "metadata": {
  "kernelspec": {
   "display_name": "Python 3 (ipykernel)",
   "language": "python",
   "name": "python3"
  },
  "language_info": {
   "codemirror_mode": {
    "name": "ipython",
    "version": 3
   },
   "file_extension": ".py",
   "mimetype": "text/x-python",
   "name": "python",
   "nbconvert_exporter": "python",
   "pygments_lexer": "ipython3",
   "version": "3.9.19"
  }
 },
 "nbformat": 4,
 "nbformat_minor": 5
}
