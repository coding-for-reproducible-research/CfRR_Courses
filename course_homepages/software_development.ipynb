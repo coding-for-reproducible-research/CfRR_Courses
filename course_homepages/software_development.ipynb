{
 "cells": [
  {
   "cell_type": "markdown",
   "id": "cd116cd1-72bc-46f8-90da-cab563161bf7",
   "metadata": {
    "editable": true,
    "slideshow": {
     "slide_type": ""
    },
    "tags": []
   },
   "source": [
    "# Software Development"
   ]
  },
  {
   "cell_type": "markdown",
   "id": "34c1bf87-8001-4eb9-bd1a-ea3bac982b4d",
   "metadata": {
    "editable": true,
    "slideshow": {
     "slide_type": ""
    },
    "tags": []
   },
   "source": [
    "The following set of courses discuss software development. The details for each of the courses can be found on their respective pages. "
   ]
  },
  {
   "cell_type": "markdown",
   "id": "4e78a55f-9041-4ac5-9534-1f945f5039a3",
   "metadata": {
    "editable": true,
    "slideshow": {
     "slide_type": ""
    },
    "tags": []
   },
   "source": [
    "## Software Development Best Practice Self Study Notes\n",
    "\n",
    "[Self-study notes: Software Development Best Practice](../individual_modules/section_landing_pages/software_development_best_practice.md)\n",
    "\n",
    "The course provides a high-level understanding of software development tailored for research, enabling participants to collaborate on code effectively. Students will learn how to enhance the reproducibility of their research by creating code that is accessible and useful to others. Additionally, the course establishes the necessary foundations for intermediate-level courses that delve deeper into advanced software development topics."
   ]
  }
 ],
 "metadata": {
  "kernelspec": {
   "display_name": "Python 3 (ipykernel)",
   "language": "python",
   "name": "python3"
  },
  "language_info": {
   "codemirror_mode": {
    "name": "ipython",
    "version": 3
   },
   "file_extension": ".py",
   "mimetype": "text/x-python",
   "name": "python",
   "nbconvert_exporter": "python",
   "pygments_lexer": "ipython3",
   "version": "3.9.19"
  }
 },
 "nbformat": 4,
 "nbformat_minor": 5
}