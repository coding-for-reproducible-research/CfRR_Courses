{
 "cells": [
  {
   "cell_type": "markdown",
   "id": "4cd0d89f-b3b7-4360-8ae3-f47c15958c8e",
   "metadata": {},
   "source": [
    "# GPUs\n",
    "\n",
    "The following set of courses discuss GPUs. The details for each of the courses can be found on their respective pages. \n",
    "\n",
    "## Introduction to GPUS Self Study Notes\n",
    "\n",
    "[Self-study notes: Introduction To Gpus](../individual_modules/section_landing_pages/introduction_to_GPUs.md)\n",
    "\n",
    "This course provides all the essential tools to leverage GPUs effectively, guiding participants through GPU programming, software management, and performance optimisation while offering direct comparisons with CPU implementations. Through hands-on examples such as Conway’s Game of Life and temperature diffusion, learners explore practical high-performance computing techniques, including profiling, Slurm job scheduling, and Spack-based environment setup. The material bridges theory and practice, equipping participants to translate computational concepts into efficient, scalable workflows on modern HPC systems."
   ]
  }
 ],
 "metadata": {
  "kernelspec": {
   "display_name": "Python 3 (ipykernel)",
   "language": "python",
   "name": "python3"
  },
  "language_info": {
   "codemirror_mode": {
    "name": "ipython",
    "version": 3
   },
   "file_extension": ".py",
   "mimetype": "text/x-python",
   "name": "python",
   "nbconvert_exporter": "python",
   "pygments_lexer": "ipython3",
   "version": "3.9.19"
  }
 },
 "nbformat": 4,
 "nbformat_minor": 5
}