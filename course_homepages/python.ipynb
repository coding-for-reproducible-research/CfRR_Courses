{
 "cells": [
  {
   "cell_type": "markdown",
   "id": "2a60b21c-5482-458f-96d3-9a589da7b736",
   "metadata": {
    "editable": true,
    "slideshow": {
     "slide_type": ""
    },
    "tags": []
   },
   "source": [
    "# Python"
   ]
  },
  {
   "cell_type": "markdown",
   "id": "8d259084-299d-4515-ba80-34ad7dadacd3",
   "metadata": {
    "editable": true,
    "slideshow": {
     "slide_type": ""
    },
    "tags": []
   },
   "source": [
    "The following set of courses discuss Python. The details for each of the courses can be found on their respective pages. "
   ]
  },
  {
   "cell_type": "markdown",
   "id": "1ff412eb-15fc-4112-b5c1-fd7b8876aa86",
   "metadata": {},
   "source": [
    "## Introduction to Python Self Study Notes\n",
    "\n",
    "[Self-study notes: Introduction to Python](../individual_modules/section_landing_pages/introduction_to_python.md)\n",
    "\n",
    "The course provides a foundational understanding of Python’s basic data types and the fundamental principles of control flow, including the use of for loops. Students will learn to define and implement functions with user-specified parameters, as well as perform simple data analysis and visualize tabular data effectively. Additionally, the course highlights how Python concepts relate to those in other programming languages, enhancing cross-language comprehension.\n",
    "\n",
    "## Python for Data Analysis Self Study Notes\n",
    "\n",
    "[Self-study notes: Python for Data Analysis](../individual_modules/section_landing_pages/python_for_data_analysis.md)\n",
    "\n",
    "The course offers a comprehensive foundation in Python programming, covering essential topics such as data types, control structures, and functions, alongside advanced data manipulation using Pandas and NumPy for handling large datasets efficiently. Students will learn to create both static and interactive visualizations with Matplotlib and Plotly, apply machine learning techniques using Scikit-Learn for predictive modeling, and implement testing frameworks and virtual environments to manage dependencies effectively. Additionally, the course emphasizes reproducibility and validation of research by teaching methods to ensure that analyses can be replicated and validated by others.\n",
    "\n",
    "## Introduction to Machine Learning Self Study Notes\n",
    "\n",
    "[Self-study notes: Introduction to Machine Learning](../individual_modules/section_landing_pages/introduction_to_machine_learning.md)\n",
    "\n",
    "This course is designed to introduce core machine learning concepts. Students will explore the machine learning landscape, and the main stages of the machine learning pipeline. They will learn about model selection, error, evaluation and validation, and put all of these into practice using Python. `Scikit-learn` will be introduced, and used to pre-process data, train models, and build pipelines.\n"
   ]
  }
 ],
 "metadata": {
  "kernelspec": {
   "display_name": "Python 3 (ipykernel)",
   "language": "python",
   "name": "python3"
  },
  "language_info": {
   "codemirror_mode": {
    "name": "ipython",
    "version": 3
   },
   "file_extension": ".py",
   "mimetype": "text/x-python",
   "name": "python",
   "nbconvert_exporter": "python",
   "pygments_lexer": "ipython3",
   "version": "3.9.19"
  }
 },
 "nbformat": 4,
 "nbformat_minor": 5
}