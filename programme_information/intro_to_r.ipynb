{
 "cells": [
  {
   "cell_type": "markdown",
   "id": "6c99fd9e-5bc4-4138-9cb5-eabd91ba59ad",
   "metadata": {
    "editable": true,
    "slideshow": {
     "slide_type": ""
    },
    "tags": []
   },
   "source": [
    "# Introduction to R\n",
    "\n",
    "## Course Description \n",
    "\n",
    "\n",
    "R is a programming language and software environment primarily focused on performing statistics, data analysis and visualisation. This course will provide an all-purpose introduction to the R programming language and may provide an accessible entry to computer programming in general. Throughout the workshop participants will be taught using RStudio, and will be introduced to best practices from the beginning, including how to document your work in a script. Over three sessions you will learn how to import, manage and process data for statistical analysis and visualisation. At the end of the workshop the participants will have a solid understanding of how to run R commands and the properties of R objects, providing a solid basis for self-guided learning of more complex analyses.\n",
    "\n",
    "## Course Objectives\n",
    "- Learn how to use Rstudio to write scripts and run R commands.\n",
    "- Learn the different types of objects for storing data and the importance of different data types.\n",
    "- Know how to read in data, manipulate it and save the output.\n",
    "- Know how to visualise data in commonly used figures.\n",
    "- Understand how to perform some basic inferential statistical tests.\n",
    "- Learn definitions of fundamental programming terminology and concepts such as variable, function and for loops that are transferable to other programming languages.\n",
    "  \n",
    "## Pre-requisite Knowledge\n",
    "\n",
    "This is a course for novices so there is no pre-requisite knowledge.\n",
    "\n",
    "## Sign-up \n",
    "\n",
    "To check for upcoming course dates and to register, please visit the Workshop Schedule and Sign-up page available [here](../cfrr_program_details/courses_overview.ipynb)."
   ]
  },
  {
   "cell_type": "code",
   "execution_count": 1,
   "id": "c209369c-7716-4931-bc3b-69a584d21ad5",
   "metadata": {
    "editable": true,
    "slideshow": {
     "slide_type": ""
    },
    "tags": [
     "remove-input"
    ]
   },
   "outputs": [
    {
     "name": "stdout",
     "output_type": "stream",
     "text": [
      "This course is currently accepting applications.\n"
     ]
    }
   ],
   "source": [
    "import pandas as pd\n",
    "from datetime import datetime\n",
    "from IPython.display import display, HTML\n",
    "\n",
    "# Define the course that is being looked at\n",
    "course_name = \"Introduction to R\"\n",
    "\n",
    "# Load the CSV file\n",
    "file_path = '../data/workshop_info.csv'  # Adjust the path to your file location\n",
    "courses_df = pd.read_csv(file_path)\n",
    "\n",
    "# Strip any extra spaces in the column names\n",
    "courses_df.columns = courses_df.columns.str.strip()\n",
    "\n",
    "# Convert date columns to datetime\n",
    "courses_df['Start Date'] = pd.to_datetime(courses_df['Start Date'], dayfirst=True, errors='coerce')\n",
    "courses_df['End Date'] = pd.to_datetime(courses_df['End Date'], dayfirst=True, errors='coerce')\n",
    "\n",
    "# Get today's date\n",
    "today = datetime.now()\n",
    "\n",
    "# Function to generate markdown text based on the course dates\n",
    "def generate_html(row):\n",
    "    if pd.notna(row['Start Date']) and pd.notna(row['End Date']):\n",
    "        if row['Start Date'] <= today <= row['End Date']:\n",
    "            return f\"<div style='font-weight: bold;'>This course is currently accepting applications.</div>\"\n",
    "    return \"\"\n",
    "\n",
    "# Apply the function and create a new column for Markdown\n",
    "courses_df['HTML'] = courses_df.apply(generate_html, axis=1)\n",
    "\n",
    "# Variable for course name\n",
    "\n",
    "\n",
    "# Filter the DataFrame for the given course name and display the HTML text\n",
    "html_output = courses_df[courses_df['Course Name'] == course_name]['HTML'].values[0]\n",
    "display(HTML(html_output))\n"
   ]
  },
  {
   "cell_type": "markdown",
   "id": "fb2ecc06-5096-4abf-a9bd-dd9a0b4ef2ec",
   "metadata": {
    "editable": true,
    "slideshow": {
     "slide_type": ""
    },
    "tags": []
   },
   "source": [
    "## Installation Guide \n",
    "\n",
    "All CfRR courses require attendees to use their own computer/laptop to follow workshop activities and take effective notes. \n",
    "\n",
    "Because R and RStudio work together, you need to install them both. The steps in this section should guide you through the process. Once installed, you will be working with RStudio and R will be running in the background. If you are using a University of Exeter Windows machine there is the option to install with the [Company Portal software](https://www.exeter.ac.uk/departments/it/new/companyportal/) if you are having issues with admin rights. You shuold be able to search for R/Rstudio and install it as per the instructions on the University website. \n",
    "\n",
    "### How to Install R?\n",
    "\n",
    "Installing R in 5  steps:\n",
    "- **Step 1.** Go to: https://www.r-project.org/\n",
    "- **Step 2**: Click on **CRAN** or **download R**.\n",
    "    - *Note:* You'll only do this once, although, eventually you'll have to update to the most recent version. Follow the same procedure as today.\n",
    "- **Step 3.** Select a mirror. A *Mirror* is a server somewhere in the world with a copy of the program. Choose the mirror closest to you. For example, if you are in the UK, you can select the one from University of Bristol. Don't worry too much about this.\n",
    "- **Step 4.** Select the download appropriate for your computer (Microsoft, Mac or Linux)\n",
    "- **Step 5.** Open the program you downloaded and follow the instructions\n",
    "    - *Note* - There is another tutorial identical to this one that shows the process you need to follow if you have a mac.\n",
    "\n",
    "### How to Install RStudio?\n",
    "\n",
    "Yes, you need to install both R and RStudio. Follow this four steps:\n",
    "\n",
    "- **Step 1**: Go to: https://www.rstudio.com/products/rstudio/download/\n",
    "- **Step 2**: Click on the free version **Download** button.\n",
    "- **Step 2** Select your download accordingly. \n",
    "- **Step 3** Click on the download and follow the installation instructions.\n",
    "\n",
    "\n",
    "\n",
    "## Self Study Material Link \n",
    "\n",
    "The self-study material for this course is available [here](../individual_modules/section_landing_pages/introduction_to_r.md).\n",
    "\n",
    "## Acknowledgements \n",
    "Inspired by and adapted from:\n",
    "\n",
    "John Blischak, Daniel Chen, Harriet Dashnow, and Denis Haine (eds): \"Software Carpentry: Programming with R.\" Version 2016.06, June 2016, https://github.com/swcarpentry/r-novice-inflammation, 10.5281/zenodo.57541.\n",
    "\n",
    "Jenny Bryan: https://jennybc.github.io/purrr-tutorial\n",
    "\n",
    "Manuel Gimond: https://mgimond.github.io/ES218/Week02a.html\n",
    "\n",
    "Damaris Zurell (Ecology & Macroecology Lab, Univ. Potsdam 2020-2022): https://damariszurell.github.io/EEC-R-prep/index.html\n",
    "\n",
    "## Developers \n",
    "\n",
    "This workshop was developed by Laura Roldan Gomez, Rebecca Smith, Theresa Wacker, Emma Walker and Fiona Warren.\n",
    "\n",
    "## License Info "
   ]
  },
  {
   "cell_type": "code",
   "execution_count": 1,
   "id": "d0b058da-ba4f-47a9-87cf-d9408d581ef6",
   "metadata": {
    "editable": true,
    "slideshow": {
     "slide_type": ""
    },
    "tags": [
     "remove-input"
    ]
   },
   "outputs": [
    {
     "data": {
      "text/markdown": [
       "### Instructional Material\n",
       "\n",
       "\n",
       "The instructional material in this course is copyright © 2024 University of Exeter\n",
       "and is made available under the Creative Commons Attribution 4.0 International\n",
       "licence (https://creativecommons.org/licenses/by/4.0/). Instructional material\n",
       "consists of material that is contained within the \"individual_modules/introduction_to_r\" folder in\n",
       "this repository, with the exception of code snippets and example programs found\n",
       "in files within these folders. Such code snippets and example programs are\n",
       "considered software for the purposes of this licence. \n",
       "\n",
       "\n",
       "### Software\n",
       "\n",
       "Except where otherwise noted, software provided in this repository is made\n",
       "available under the MIT licence (https://opensource.org/licenses/MIT).\n",
       "\n",
       "Copyright © 2024 University of Exeter\n",
       "\n",
       "Permission is hereby granted, free of charge, to any person obtaining a copy\n",
       "of this software and associated documentation files (the \"Software\"), to deal\n",
       "in the Software without restriction, including without limitation the rights\n",
       "to use, copy, modify, merge, publish, distribute, sublicense, and/or sell\n",
       "copies of the Software, and to permit persons to whom the Software is\n",
       "furnished to do so, subject to the following conditions:\n",
       "\n",
       "The above copyright notice and this permission notice shall be included in all\n",
       "copies or substantial portions of the Software.\n",
       "\n",
       "THE SOFTWARE IS PROVIDED \"AS IS\", WITHOUT WARRANTY OF ANY KIND, EXPRESS OR\n",
       "IMPLIED, INCLUDING BUT NOT LIMITED TO THE WARRANTIES OF MERCHANTABILITY,\n",
       "FITNESS FOR A PARTICULAR PURPOSE AND NONINFRINGEMENT. IN NO EVENT SHALL THE\n",
       "AUTHORS OR COPYRIGHT HOLDERS BE LIABLE FOR ANY CLAIM, DAMAGES OR OTHER\n",
       "LIABILITY, WHETHER IN AN ACTION OF CONTRACT, TORT OR OTHERWISE, ARISING FROM,\n",
       "OUT OF OR IN CONNECTION WITH THE SOFTWARE OR THE USE OR OTHER DEALINGS IN THE\n",
       "SOFTWARE.\n",
       "\n",
       "The software in this repository is adapted from software that is covered by the\n",
       "following copyright and permission notice:\n",
       "\n",
       "    Copyright © 2024 Software Carpentry\n",
       "\n",
       "    Permission is hereby granted, free of charge, to any person obtaining\n",
       "    a copy of this software and associated documentation files (the\n",
       "    \"Software\"), to deal in the Software without restriction, including\n",
       "    without limitation the rights to use, copy, modify, merge, publish,\n",
       "    distribute, sublicense, and/or sell copies of the Software, and to\n",
       "    permit persons to whom the Software is furnished to do so, subject to\n",
       "    the following conditions:\n",
       "\n",
       "    The above copyright notice and this permission notice shall be\n",
       "    included in all copies or substantial portions of the Software.\n",
       "\n",
       "    THE SOFTWARE IS PROVIDED \"AS IS\", WITHOUT WARRANTY OF ANY KIND,\n",
       "    EXPRESS OR IMPLIED, INCLUDING BUT NOT LIMITED TO THE WARRANTIES OF\n",
       "    MERCHANTABILITY, FITNESS FOR A PARTICULAR PURPOSE AND\n",
       "    NONINFRINGEMENT. IN NO EVENT SHALL THE AUTHORS OR COPYRIGHT HOLDERS BE\n",
       "    LIABLE FOR ANY CLAIM, DAMAGES OR OTHER LIABILITY, WHETHER IN AN ACTION\n",
       "    OF CONTRACT, TORT OR OTHERWISE, ARISING FROM, OUT OF OR IN CONNECTION\n",
       "    WITH THE SOFTWARE OR THE USE OR OTHER DEALINGS IN THE SOFTWARE."
      ],
      "text/plain": [
       "<IPython.core.display.Markdown object>"
      ]
     },
     "metadata": {},
     "output_type": "display_data"
    }
   ],
   "source": [
    "from IPython.display import Markdown, display\n",
    "\n",
    "def display_markdown(file_path):\n",
    "    try:\n",
    "        with open(file_path, 'r') as file:\n",
    "            content = file.read()\n",
    "            display(Markdown(content))\n",
    "    except FileNotFoundError:\n",
    "        print(f\"The file {file_path} was not found.\")\n",
    "    except Exception as e:\n",
    "        print(f\"An error occurred: {e}\")\n",
    "\n",
    "# Example usage:\n",
    "file_path = '../individual_modules/introduction_to_r/LICENSE.txt'  # Replace with your file path\n",
    "display_markdown(file_path)"
   ]
  },
  {
   "cell_type": "code",
   "execution_count": null,
   "id": "01107db1-a4b0-40e1-b6e4-ee23d7a9b0c6",
   "metadata": {
    "editable": true,
    "slideshow": {
     "slide_type": ""
    },
    "tags": []
   },
   "outputs": [],
   "source": []
  }
 ],
 "metadata": {
  "kernelspec": {
   "display_name": "Python 3 (ipykernel)",
   "language": "python",
   "name": "python3"
  },
  "language_info": {
   "codemirror_mode": {
    "name": "ipython",
    "version": 3
   },
   "file_extension": ".py",
   "mimetype": "text/x-python",
   "name": "python",
   "nbconvert_exporter": "python",
   "pygments_lexer": "ipython3",
   "version": "3.9.19"
  }
 },
 "nbformat": 4,
 "nbformat_minor": 5
}
