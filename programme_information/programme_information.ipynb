{
 "cells": [
  {
   "cell_type": "markdown",
   "id": "6a13479f-32d2-41b4-a3c1-a0d8373c6134",
   "metadata": {
    "editable": true,
    "slideshow": {
     "slide_type": ""
    },
    "tags": []
   },
   "source": [
    "# Workshop Information\n",
    "\n",
    "This section contains all the essential information you need for our workshops, including detailed course descriptions, installation guides, and links to self-study materials. You'll also find important license information, acknowledgements, and details about the developers behind the courses. Additionally, we provide comprehensive content on the material used during the course delivery to refer back to after the course has ended. \n",
    "\n",
    "## Introductory Course Styles\n",
    "\n",
    "The delivery style in our introductory courses is tailored to suit individuals at varying levels of familiarity with foundational programming concepts. Regardless of which introductory course colleagues attend, the same learning outcomes will be achieved. We have three variations of our [Introduction to Python](intro_to_python.ipynb) and [Introduction to R](intro_to_r.ipynb) courses: \n",
    "\n",
    "- **Beginner-focused**: Designed for those completely new to programming. We move more slowly, include longer pauses, and provide extra helpers in the room to support participants as they take their first steps. The emphasis is on building confidence and covering the essentials with plenty of guidance.\n",
    "- **Mixed levels**: Suitable for groups where learners have varying experience. The pace is balanced so that beginners still feel supported, while those with some prior knowledge are engaged through optional stretch exercises. Helpers are available to offer tailored support depending on individual needs.\n",
    "- **Refresher level**: Aimed at those who have some prior exposure to Python and want to consolidate or update their skills. The content is the same core material, but delivered at a faster pace with less structured guidance as complexity increases, fewer pauses for explanations, and more opportunity to explore stretch topics.\n"
   ]
  },
  {
   "cell_type": "code",
   "execution_count": null,
   "id": "8f5ac02e-cea6-43d1-b475-997fba880dd2",
   "metadata": {},
   "outputs": [],
   "source": []
  }
 ],
 "metadata": {
  "kernelspec": {
   "display_name": "Python 3 (ipykernel)",
   "language": "python",
   "name": "python3"
  },
  "language_info": {
   "codemirror_mode": {
    "name": "ipython",
    "version": 3
   },
   "file_extension": ".py",
   "mimetype": "text/x-python",
   "name": "python",
   "nbconvert_exporter": "python",
   "pygments_lexer": "ipython3",
   "version": "3.9.19"
  }
 },
 "nbformat": 4,
 "nbformat_minor": 5
}
