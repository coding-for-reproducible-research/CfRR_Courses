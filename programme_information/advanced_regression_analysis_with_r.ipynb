{
 "cells": [
  {
   "cell_type": "markdown",
   "id": "ecddf4c5-c119-476d-9c82-a8e28ee81bb0",
   "metadata": {
    "editable": true,
    "slideshow": {
     "slide_type": ""
    },
    "tags": []
   },
   "source": [
    "# Mixed Effects Regression with R\n",
    "\n",
    "## Course Description \n",
    "\n",
    "This course builds on your existing knowledge of regression to fit more complex models that can handle more complicated data sets. In this session you will learn about mixed effects regression model, when to use them, and how to interpret the results.\n",
    "\n",
    "While it is delivered as a stand alone session, it is designed as a part of a series of Regression with R workshops where the content develops the ideas further to give you a comprehensive understanding how regression can be used to address a broad range of questions. \n",
    "\n",
    "The complete series includes:\n",
    "\n",
    "1. Introduction to Regression with R\n",
    "2. Regression Analysis in R: Adapting to Varied Data Types\n",
    "3. Mixed Effects Regression with R\n",
    "\n",
    "## Course Objectives \n",
    "-  Use regression answer to answer a wide range of research questions .\n",
    "-  Fit a regression model with interactions between predictor variables.\n",
    "-  Fit multi-level regression models\n",
    "-  Extract and interpret the results from a range of regression models.\n",
    "-  Design a regression model appropriate for addressing a specific research question.\n",
    "\n",
    "## Pre-requisite Knowledge\n",
    "\n",
    "This course will not include an introduction to R, or how to setup and use R or Rstudio. It is assumed you are comfortable coding in R and are familiar with:\n",
    "\n",
    "-   How to write and execute commands in the R console.\n",
    "-   What type of variables are available in R and how to work with these.\n",
    "\n",
    "We also assume that you are comfortable with fitting in R and interpreting the output of:\n",
    "\n",
    "-   Simple linear regression.\n",
    "-   Multiple linear regression with categorical, binary or continuous predictor variables.\n",
    "-   Logistic regression.\n",
    "\n",
    "If not, we recommend that you consult our pre-requisite courses [Introductory Regression Analysis with R](intro_regression_analysis_with_r.ipynb) and [Regression Analysis in R: Adapting to Varied Data Types](intermediate_regression_analysis_with_r.ipynb)\n",
    "\n",
    "The interactive network visualisation below displays the prerequisite structure for this course within the training program. Each node represents a course that you may need to complete beforehand, and the arrows show the recommended order in which to take them, leading up to your selected course. You can click on any course node to view more information about that course. This interactive tool helps you clearly see the learning path required to access this course, making it easier to plan your progress with the Coding for Reproducible Research Training (CfRR) initiative.\n",
    "\n"
   ]
  },
  {
   "cell_type": "code",
   "execution_count": 4,
   "id": "92f52753-bbdc-4d60-b8b9-b5f7f3c43c68",
   "metadata": {
    "editable": true,
    "slideshow": {
     "slide_type": ""
    },
    "tags": [
     "remove-input"
    ]
   },
   "outputs": [
    {
     "data": {
      "text/html": [
       "<div style='text-align: center;'><h3>Pre-Reqs Subnetwork</h3></div><iframe id='iframe' src='../_static/workshop_prereqs_advanced_regression_analysis_with_r_.html' width='100%' height='750px' style='border:none;'></iframe>\n",
       "<script>\n",
       "function adjustIframeHeight_iframe() {\n",
       "    const iframe = document.getElementById('iframe');\n",
       "    if (iframe) {\n",
       "        iframe.style.height = iframe.offsetWidth + 'px';\n",
       "    }\n",
       "}\n",
       "\n",
       "// Adjust height on load and resize\n",
       "window.onload = adjustIframeHeight_iframe;\n",
       "window.onresize = adjustIframeHeight_iframe;\n",
       "</script>\n"
      ],
      "text/plain": [
       "<IPython.core.display.HTML object>"
      ]
     },
     "metadata": {},
     "output_type": "display_data"
    }
   ],
   "source": [
    "from IPython.display import HTML, display\n",
    "\n",
    "\n",
    "file_name = f\"../_static/workshop_prereqs_advanced_regression_analysis_with_r_.html\"\n",
    "\n",
    "# Generate a unique ID for each iframe\n",
    "iframe_id = f\"iframe\"\n",
    "\n",
    "# Create a display HTML block with a title\n",
    "html_str = f\"<div style='text-align: center;'><h3>Pre-Reqs Subnetwork</h3></div>\"\n",
    "html_str += f\"<iframe id='{iframe_id}' src='{file_name}' title='Workshop Prerequisites Graph Subnetwork' width='100%' height='750px' style='border:none;'></iframe>\"\n",
    "\n",
    "# Include JavaScript to adjust the iframe height\n",
    "js_code = f\"\"\"\n",
    "<script>\n",
    "function adjustIframeHeight_{iframe_id}() {{\n",
    "    const iframe = document.getElementById('{iframe_id}');\n",
    "    if (iframe) {{\n",
    "        iframe.style.height = iframe.offsetWidth + 'px';\n",
    "    }}\n",
    "}}\n",
    "\n",
    "// Adjust height on load and resize\n",
    "window.onload = adjustIframeHeight_{iframe_id};\n",
    "window.onresize = adjustIframeHeight_{iframe_id};\n",
    "</script>\n",
    "\"\"\"\n",
    "\n",
    "html_str += js_code\n",
    "display(HTML(html_str))"
   ]
  },
  {
   "cell_type": "markdown",
   "id": "150168f9-d7aa-4394-a4dc-e4e2fc5b655c",
   "metadata": {
    "editable": true,
    "slideshow": {
     "slide_type": ""
    },
    "tags": []
   },
   "source": [
    "## Sign-up \n",
    "\n",
    "To check for upcoming course dates and to register, please visit the [Workshop Schedule and Sign-up](../cfrr_program_details/courses_overview.ipynb) page."
   ]
  },
  {
   "cell_type": "code",
   "execution_count": 1,
   "id": "75289504-c41d-4a3c-902c-44f9f9208d0e",
   "metadata": {
    "editable": true,
    "slideshow": {
     "slide_type": ""
    },
    "tags": [
     "remove-input"
    ]
   },
   "outputs": [
    {
     "data": {
      "text/html": [],
      "text/plain": [
       "<IPython.core.display.HTML object>"
      ]
     },
     "metadata": {},
     "output_type": "display_data"
    }
   ],
   "source": [
    "import pandas as pd\n",
    "from datetime import datetime\n",
    "from IPython.display import display, HTML\n",
    "\n",
    "\n",
    "# Define the course that is being looked at\n",
    "course_name = \"Mixed Effects Regression with R\"\n",
    "\n",
    "# Load the CSV file\n",
    "file_path = '../data/workshop_info.csv'  # Adjust the path to your file location\n",
    "courses_df = pd.read_csv(file_path)\n",
    "\n",
    "# Strip any extra spaces in the column names\n",
    "courses_df.columns = courses_df.columns.str.strip()\n",
    "\n",
    "# Convert date columns to datetime\n",
    "courses_df['Start Date'] = pd.to_datetime(courses_df['Start Date'], dayfirst=True, errors='coerce')\n",
    "courses_df['End Date'] = pd.to_datetime(courses_df['End Date'], dayfirst=True, errors='coerce')\n",
    "\n",
    "# Get today's date\n",
    "today = datetime.now()\n",
    "\n",
    "# Function to generate markdown text based on the course dates\n",
    "def generate_html(row):\n",
    "    if pd.notna(row['Start Date']) and pd.notna(row['End Date']):\n",
    "        if row['Start Date'] <= today <= row['End Date']:\n",
    "            return f\"<div style='font-weight: bold;'>This course is currently accepting applications.</div>\"\n",
    "    return \"\"\n",
    "\n",
    "# Apply the function and create a new column for Markdown\n",
    "courses_df['HTML'] = courses_df.apply(generate_html, axis=1)\n",
    "\n",
    "# Variable for course name\n",
    "\n",
    "\n",
    "# Filter the DataFrame for the given course name and display the HTML text\n",
    "html_output = courses_df[courses_df['Course Name'] == course_name]['HTML'].values[0]\n",
    "display(HTML(html_output))\n"
   ]
  },
  {
   "cell_type": "markdown",
   "id": "56db8cac-1a93-4a60-8898-5b1c133026f8",
   "metadata": {
    "editable": true,
    "slideshow": {
     "slide_type": ""
    },
    "tags": []
   },
   "source": [
    "## Installation Guide \n",
    "All CfRR courses require attendees to use their own computer/laptop to follow workshop activities and take effective notes. \n",
    "\n",
    "As this course extends upon *Introduction to R*, the installation instructions for the base R elements are the same, available [here](intro_to_r.ipynb).\n",
    "\n",
    "Alongside having R itself, three packages are needed for this workshop. The first two (devtools & learnr) are available from CRAN. The third is a package we have developed with the course materials and is available from GitHub (cfrrRTutorials).\n",
    "\n",
    "This code will install these three packages.\n",
    "```\n",
    "install.packages(\"devtools\") \n",
    "install.packages(\"learnr\") \n",
    "library(devtools)\n",
    "devtools::install_github(\"coding-for-reproducible-research/cfrrRtutorials\")\n",
    "```\n",
    "\n",
    "If you encounter any difficulties with installation, please reach out.\n",
    "\n",
    "## Self Study Material Link \n",
    "\n",
    "The self-study material for this course is available as a tutorial through the cfrrRtutorials R package  installed as part of the set up for this workshop. To launch the \"Mixed Effects Regression with R\" tutorial in Rstudio you can run:\n",
    "\n",
    "```\n",
    "learnr::run_tutorial(\"Mixed Effects Regression with R\", \"cfrrRtutorials\")\n",
    "```\n",
    "\n",
    "When ready the tutorial may launch in a new window, or (more likely) there will be some output in red in the **Jobs** console that says something like:  \n",
    "\n",
    "```\n",
    "Output created: Mixed-Effects-Regression-with-R.html\n",
    "\n",
    "Listening on http://127.0.0.1:38555\n",
    "\n",
    "+------------------------------------------------------------------------+\n",
    "<U+2713> Open the tutorial in your browser: http://127.0.0.1:38555\n",
    "! Stop or cancel this job to stop running the tutorial\n",
    "+------------------------------------------------------------------------+\n",
    "```\n",
    "\n",
    "If the tutorial does not automatically launch in a new window, to launch it copy the web address in this case (http://127.0.0.1:38555) into a web browser of your choice, such as Chrome. \n",
    "\n",
    "You can then start the workshop in this document. You can navigate through the sections using the menu on the side. Please note that the data required for the examples and exercises is preloaded within each interactive document, so the commands/exercises only work within it. They won't work with the Rstudio console. When you come to apply what you have learned on your own datasets, you will need to ensure your data is loaded and edit the syntax to model the relevant variables. \n",
    "\n",
    "\n",
    "\n",
    "\n",
    "## Developers\n",
    "\n",
    "This workshop was developed by Eilis Hannon.\n",
    "\n",
    "## License Info"
   ]
  },
  {
   "cell_type": "code",
   "execution_count": 2,
   "id": "0e4d8ca2-1b94-4759-90de-9e1917fb12f3",
   "metadata": {
    "editable": true,
    "slideshow": {
     "slide_type": ""
    },
    "tags": [
     "remove-input"
    ]
   },
   "outputs": [
    {
     "data": {
      "text/markdown": [
       "### Instructional Material\n",
       "\n",
       "The instructional material in this course is copyright © 2024 University of Exeter\n",
       "and is made available under the [Creative Commons Attribution 4.0 International\n",
       "licence](https://creativecommons.org/licenses/by/4.0/). Instructional material\n",
       "consists of material that is contained within the \"individual_modules/advanced_regression_analysis_with_R\" folders in\n",
       "this repository, with the exception of code snippets and example programs found\n",
       "in files within these folders. Such code snippets and example programs are\n",
       "considered software for the purposes of this licence. \n",
       "\n",
       "\n",
       "### Software\n",
       "\n",
       "Except where otherwise noted, software provided in this repository is made\n",
       "available under the MIT licence (https://opensource.org/licenses/MIT).\n",
       "\n",
       "Copyright © 2024 University of Exeter\n",
       "\n",
       "Permission is hereby granted, free of charge, to any person obtaining a copy\n",
       "of this software and associated documentation files (the \"Software\"), to deal\n",
       "in the Software without restriction, including without limitation the rights\n",
       "to use, copy, modify, merge, publish, distribute, sublicense, and/or sell\n",
       "copies of the Software, and to permit persons to whom the Software is\n",
       "furnished to do so, subject to the following conditions:\n",
       "\n",
       "The above copyright notice and this permission notice shall be included in all\n",
       "copies or substantial portions of the Software.\n",
       "\n",
       "THE SOFTWARE IS PROVIDED \"AS IS\", WITHOUT WARRANTY OF ANY KIND, EXPRESS OR\n",
       "IMPLIED, INCLUDING BUT NOT LIMITED TO THE WARRANTIES OF MERCHANTABILITY,\n",
       "FITNESS FOR A PARTICULAR PURPOSE AND NONINFRINGEMENT. IN NO EVENT SHALL THE\n",
       "AUTHORS OR COPYRIGHT HOLDERS BE LIABLE FOR ANY CLAIM, DAMAGES OR OTHER\n",
       "LIABILITY, WHETHER IN AN ACTION OF CONTRACT, TORT OR OTHERWISE, ARISING FROM,\n",
       "OUT OF OR IN CONNECTION WITH THE SOFTWARE OR THE USE OR OTHER DEALINGS IN THE\n",
       "SOFTWARE.\n",
       "\n",
       "The software in this repository is adapted from software that is covered by the\n",
       "following copyright and permission notice:\n",
       "\n",
       "    Copyright © 2024 Software Carpentry\n",
       "\n",
       "    Permission is hereby granted, free of charge, to any person obtaining\n",
       "    a copy of this software and associated documentation files (the\n",
       "    \"Software\"), to deal in the Software without restriction, including\n",
       "    without limitation the rights to use, copy, modify, merge, publish,\n",
       "    distribute, sublicense, and/or sell copies of the Software, and to\n",
       "    permit persons to whom the Software is furnished to do so, subject to\n",
       "    the following conditions:\n",
       "\n",
       "    The above copyright notice and this permission notice shall be\n",
       "    included in all copies or substantial portions of the Software.\n",
       "\n",
       "    THE SOFTWARE IS PROVIDED \"AS IS\", WITHOUT WARRANTY OF ANY KIND,\n",
       "    EXPRESS OR IMPLIED, INCLUDING BUT NOT LIMITED TO THE WARRANTIES OF\n",
       "    MERCHANTABILITY, FITNESS FOR A PARTICULAR PURPOSE AND\n",
       "    NONINFRINGEMENT. IN NO EVENT SHALL THE AUTHORS OR COPYRIGHT HOLDERS BE\n",
       "    LIABLE FOR ANY CLAIM, DAMAGES OR OTHER LIABILITY, WHETHER IN AN ACTION\n",
       "    OF CONTRACT, TORT OR OTHERWISE, ARISING FROM, OUT OF OR IN CONNECTION\n",
       "    WITH THE SOFTWARE OR THE USE OR OTHER DEALINGS IN THE SOFTWARE."
      ],
      "text/plain": [
       "<IPython.core.display.Markdown object>"
      ]
     },
     "metadata": {},
     "output_type": "display_data"
    }
   ],
   "source": [
    "from IPython.display import Markdown, display\n",
    "\n",
    "def display_markdown(file_path):\n",
    "    try:\n",
    "        with open(file_path, 'r') as file:\n",
    "            content = file.read()\n",
    "            display(Markdown(content))\n",
    "    except FileNotFoundError:\n",
    "        print(f\"The file {file_path} was not found.\")\n",
    "    except Exception as e:\n",
    "        print(f\"An error occurred: {e}\")\n",
    "\n",
    "# Example usage:\n",
    "file_path = '../individual_modules/advanced_regression_analysis_with_R/LICENSE.txt'  # Replace with your file path\n",
    "display_markdown(file_path)"
   ]
  },
  {
   "cell_type": "code",
   "execution_count": null,
   "id": "a880fb9c-e2c4-4dc0-9f00-2c96e348effd",
   "metadata": {
    "editable": true,
    "slideshow": {
     "slide_type": ""
    },
    "tags": []
   },
   "outputs": [],
   "source": []
  }
 ],
 "metadata": {
  "kernelspec": {
   "display_name": "Python 3 (ipykernel)",
   "language": "python",
   "name": "python3"
  },
  "language_info": {
   "codemirror_mode": {
    "name": "ipython",
    "version": 3
   },
   "file_extension": ".py",
   "mimetype": "text/x-python",
   "name": "python",
   "nbconvert_exporter": "python",
   "pygments_lexer": "ipython3",
   "version": "3.9.19"
  }
 },
 "nbformat": 4,
 "nbformat_minor": 5
}
