{
 "cells": [
  {
   "cell_type": "markdown",
   "id": "c2a0ce26-274b-43ed-a627-f7cdd15c273d",
   "metadata": {
    "editable": true,
    "slideshow": {
     "slide_type": ""
    },
    "tags": []
   },
   "source": [
    "# Python for Data Analysis\n",
    "\n",
    "## Course Description \n",
    "\n",
    "This course provides an in-depth exploration of Python for data analysis, focusing on essential libraries and tools such as NumPy, Pandas, Matplotlib, and Plotly. Additionally, it covers critical software development practices, including testing, virtual environments, and version control, to ensure code reproducibility and collaboration in research projects. By the end of the course, participants will be adept at performing data manipulation, analysis, and visualisation tasks, and will have a solid understanding of maintaining and sharing their code efficiently.\n",
    "\n",
    "## Course Objectives\n",
    "- Grasp the fundamentals of Python programming, including data types, control structures, and functions.\n",
    "- Learn how to load, clean, and manipulate data using Pandas for effective data analysis.\n",
    "- Learn to use NumPy for numerical operations and handling large datasets efficiently.\n",
    "- Understand the use of Pandas for handling research problem datasets.\n",
    "- Create a variety of static and interactive visualisations to represent data insights, covering Matplotlib and Plotly.\n",
    "- Apply machine learning techniques using Scikit-Learn for predictive modelling.\n",
    "- Implement testing framework, manage dependencies with virtual environment.\n",
    "- Learn methods to ensure that research and analyses can be reproduced and validated by other s.\n",
    "\n",
    "## Pre-requisite Knowledge\n",
    "Attendees should have taken the Introduction to Python course described [here](intro_to_python.ipynb).\n",
    "\n",
    "\n",
    "The interactive network visualisation below displays the prerequisite structure for this course within the training program. Each node represents a course that you may need to complete beforehand, and the arrows show the recommended order in which to take them, leading up to your selected course. You can click on any course node to view more information about that course. This interactive tool helps you clearly see the learning path required to access this course, making it easier to plan your progress with the Coding for Reproducible Research Training (CfRR) initiative."
   ]
  },
  {
   "cell_type": "code",
   "execution_count": null,
   "id": "c6028ee0-c37a-4c4e-9108-ea98be67c27e",
   "metadata": {
    "editable": true,
    "slideshow": {
     "slide_type": ""
    },
    "tags": [
     "remove-input"
    ]
   },
   "outputs": [],
   "source": [
    "from IPython.display import HTML, display\n",
    "\n",
    "\n",
    "file_name = f\"../_static/workshop_prereqs_python_for_data_analysis.html\"\n",
    "\n",
    "# Generate a unique ID for each iframe\n",
    "iframe_id = f\"iframe\"\n",
    "\n",
    "# Create a display HTML block with a title\n",
    "html_str = f\"<div style='text-align: center;'><h3>Pre-Reqs Subnetwork</h3></div>\"\n",
    "html_str += f\"<iframe id='{iframe_id}' src='{file_name}' title='Workshop Prerequisites Graph Subnetwork' width='100%' height='750px' style='border:none;'></iframe>\"\n",
    "\n",
    "# Include JavaScript to adjust the iframe height\n",
    "js_code = f\"\"\"\n",
    "<script>\n",
    "function adjustIframeHeight_{iframe_id}() {{\n",
    "    const iframe = document.getElementById('{iframe_id}');\n",
    "    if (iframe) {{\n",
    "        iframe.style.height = iframe.offsetWidth + 'px';\n",
    "    }}\n",
    "}}\n",
    "\n",
    "// Adjust height on load and resize\n",
    "window.onload = adjustIframeHeight_{iframe_id};\n",
    "window.onresize = adjustIframeHeight_{iframe_id};\n",
    "</script>\n",
    "\"\"\"\n",
    "\n",
    "html_str += js_code\n",
    "display(HTML(html_str))"
   ]
  },
  {
   "cell_type": "markdown",
   "id": "69086eed-2b90-406c-9cc5-1b11eaa702dd",
   "metadata": {
    "editable": true,
    "slideshow": {
     "slide_type": ""
    },
    "tags": []
   },
   "source": [
    "## Sign-up \n",
    "\n",
    "To check for upcoming course dates and to register, please visit the Workshop Schedule and Sign-up page available [here](../cfrr_program_details/courses_overview.ipynb)."
   ]
  },
  {
   "cell_type": "code",
   "execution_count": 1,
   "id": "59970082-85a3-42e5-8b96-2d031555438f",
   "metadata": {
    "editable": true,
    "slideshow": {
     "slide_type": ""
    },
    "tags": [
     "remove-input"
    ]
   },
   "outputs": [
    {
     "name": "stdout",
     "output_type": "stream",
     "text": [
      "\n"
     ]
    }
   ],
   "source": [
    "import pandas as pd\n",
    "from datetime import datetime\n",
    "from IPython.display import display, HTML\n",
    "\n",
    "# Define the course that is being looked at\n",
    "course_name = \"Python for Data Analysis\"\n",
    "\n",
    "# Load the CSV file\n",
    "file_path = '../data/workshop_info.csv'  # Adjust the path to your file location\n",
    "courses_df = pd.read_csv(file_path)\n",
    "\n",
    "# Strip any extra spaces in the column names\n",
    "courses_df.columns = courses_df.columns.str.strip()\n",
    "\n",
    "# Convert date columns to datetime\n",
    "courses_df['Start Date'] = pd.to_datetime(courses_df['Start Date'], dayfirst=True, errors='coerce')\n",
    "courses_df['End Date'] = pd.to_datetime(courses_df['End Date'], dayfirst=True, errors='coerce')\n",
    "\n",
    "# Get today's date\n",
    "today = datetime.now()\n",
    "\n",
    "# Function to generate markdown text based on the course dates\n",
    "def generate_html(row):\n",
    "    if pd.notna(row['Start Date']) and pd.notna(row['End Date']):\n",
    "        if row['Start Date'] <= today <= row['End Date']:\n",
    "            return f\"<div style='font-weight: bold;'>This course is currently accepting applications.</div>\"\n",
    "    return \"\"\n",
    "\n",
    "# Apply the function and create a new column for Markdown\n",
    "courses_df['HTML'] = courses_df.apply(generate_html, axis=1)\n",
    "\n",
    "# Variable for course name\n",
    "\n",
    "\n",
    "# Filter the DataFrame for the given course name and display the HTML text\n",
    "html_output = courses_df[courses_df['Course Name'] == course_name]['HTML'].values[0]\n",
    "display(HTML(html_output))\n"
   ]
  },
  {
   "cell_type": "markdown",
   "id": "02113080-e745-4576-8dec-26d08ea32490",
   "metadata": {
    "editable": true,
    "slideshow": {
     "slide_type": ""
    },
    "tags": []
   },
   "source": [
    "## Installation Guide \n",
    "\n",
    "All CfRR courses require attendees to use their own computer/laptop to follow workshop activities and take effective notes. \n",
    "\n",
    "As this course extends upon Introduction to Python, the installation instructions are the same, available [here](intro_to_python.ipynb).\n",
    "\n",
    "## Self Study Material Link \n",
    "\n",
    "The self-study material for this course is available [here](../individual_modules/section_landing_pages/python_for_data_analysis.md).\n",
    "\n",
    "\n",
    "## Developers\n",
    "\n",
    "The developers of this course are: \n",
    "- **Michael Saunby**\n",
    "- **Simon Kirby**\n",
    "- **Liam Berrisford** \n",
    "\n",
    "\n",
    "## Course Delivery Content \n",
    "\n",
    "There is currently no additional content that is used outside of the self-study notes to deliver this course.\n",
    "\n",
    "## License Info "
   ]
  },
  {
   "cell_type": "code",
   "execution_count": 1,
   "id": "a6973987-d961-4c27-9e68-0be1e50d037b",
   "metadata": {
    "editable": true,
    "slideshow": {
     "slide_type": ""
    },
    "tags": [
     "remove-input"
    ]
   },
   "outputs": [
    {
     "data": {
      "text/markdown": [
       "\n",
       "### Instructional Material\n",
       "\n",
       "The instructional material in this course is copyright © 2024 University of Exeter\n",
       "and is made available under the Creative Commons Attribution 4.0 International\n",
       "licence (https://creativecommons.org/licenses/by/4.0/). Instructional material\n",
       "consists of material that is contained within the \"individual_modules/python_for_data_analysis\" directory, and images folders in\n",
       "this directory, with the exception of code snippets and example programs found\n",
       "in files within these folders. Such code snippets and example programs are\n",
       "considered software for the purposes of this licence. \n",
       "\n",
       "\n",
       "### Software\n",
       "\n",
       "Except where otherwise noted, software provided in this repository is made\n",
       "available under the MIT licence (https://opensource.org/licenses/MIT).\n",
       "\n",
       "Copyright © 2024 University of Exeter\n",
       "\n",
       "Permission is hereby granted, free of charge, to any person obtaining a copy\n",
       "of this software and associated documentation files (the \"Software\"), to deal\n",
       "in the Software without restriction, including without limitation the rights\n",
       "to use, copy, modify, merge, publish, distribute, sublicense, and/or sell\n",
       "copies of the Software, and to permit persons to whom the Software is\n",
       "furnished to do so, subject to the following conditions:\n",
       "\n",
       "The above copyright notice and this permission notice shall be included in all\n",
       "copies or substantial portions of the Software.\n",
       "\n",
       "THE SOFTWARE IS PROVIDED \"AS IS\", WITHOUT WARRANTY OF ANY KIND, EXPRESS OR\n",
       "IMPLIED, INCLUDING BUT NOT LIMITED TO THE WARRANTIES OF MERCHANTABILITY,\n",
       "FITNESS FOR A PARTICULAR PURPOSE AND NONINFRINGEMENT. IN NO EVENT SHALL THE\n",
       "AUTHORS OR COPYRIGHT HOLDERS BE LIABLE FOR ANY CLAIM, DAMAGES OR OTHER\n",
       "LIABILITY, WHETHER IN AN ACTION OF CONTRACT, TORT OR OTHERWISE, ARISING FROM,\n",
       "OUT OF OR IN CONNECTION WITH THE SOFTWARE OR THE USE OR OTHER DEALINGS IN THE\n",
       "SOFTWARE."
      ],
      "text/plain": [
       "<IPython.core.display.Markdown object>"
      ]
     },
     "metadata": {},
     "output_type": "display_data"
    }
   ],
   "source": [
    "from IPython.display import Markdown, display\n",
    "\n",
    "def display_markdown(file_path):\n",
    "    try:\n",
    "        with open(file_path, 'r') as file:\n",
    "            content = file.read()\n",
    "            display(Markdown(content))\n",
    "    except FileNotFoundError:\n",
    "        print(f\"The file {file_path} was not found.\")\n",
    "    except Exception as e:\n",
    "        print(f\"An error occurred: {e}\")\n",
    "\n",
    "# Example usage:\n",
    "file_path = '../individual_modules/python_for_data_analysis/LICENSE.txt'  # Replace with your file path\n",
    "display_markdown(file_path)"
   ]
  },
  {
   "cell_type": "code",
   "execution_count": null,
   "id": "519e2700-246f-4ea7-b7d6-87a390ac3346",
   "metadata": {
    "editable": true,
    "slideshow": {
     "slide_type": ""
    },
    "tags": []
   },
   "outputs": [],
   "source": []
  }
 ],
 "metadata": {
  "kernelspec": {
   "display_name": "Python 3 (ipykernel)",
   "language": "python",
   "name": "python3"
  },
  "language_info": {
   "codemirror_mode": {
    "name": "ipython",
    "version": 3
   },
   "file_extension": ".py",
   "mimetype": "text/x-python",
   "name": "python",
   "nbconvert_exporter": "python",
   "pygments_lexer": "ipython3",
   "version": "3.9.19"
  }
 },
 "nbformat": 4,
 "nbformat_minor": 5
}
