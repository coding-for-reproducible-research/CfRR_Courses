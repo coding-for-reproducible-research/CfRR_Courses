{
 "cells": [
  {
   "cell_type": "markdown",
   "id": "e6081338-8dd1-4c88-8b5a-fa9b7f2f209a",
   "metadata": {
    "editable": true,
    "slideshow": {
     "slide_type": ""
    },
    "tags": []
   },
   "source": [
    "# Using Markdown for Python\n",
    "\n",
    "## Overview \n",
    "\n",
    "This beginner-level course introduces the basics of Markdown and how to integrate it with Python. Markdown is a markup language commonly used to format text in a simple and readable way, enabling users to create dynamic documents for reports and documentation. On this course, we will explore dynamic documents, understanding how they work and why they are useful. Through hands-on examples, students will learn how to create, save, and share interactive documents that combine text, code, and output.   \n",
    "\n",
    "This course will be taught using Jupyter Lab but participants are welcome to use any platform or tool they prefer besides Jupyter Lab.  \n",
    "\n",
    "## Course Objectives\n",
    "- Understand the benefits of dynamic documents—including how they streamline workflows, enhance reproducibility, and foster collaboration. \n",
    "\n",
    "- Navigate and use JupyterLab for creating interactive documents that integrate code and documentation seamlessly. \n",
    "\n",
    "- Apply basic Markdown syntax to format text, structure content, and create readable, well-organized documents. \n",
    "\n",
    "- Embed Python code within Markdown documents to generate dynamic outputs, such as plots, tables, and results. \n",
    "\n",
    "- Create a dynamic document that integrates Python code and Markdown to combine narrative, code, and output into a single cohesive document. \n",
    "\n",
    "- Export and save dynamic documents in various formats (e.g., HTML, PDF, Markdown) for sharing, publishing, or printing. \n",
    "\n",
    "## Pre-requisite Knowledge\n",
    "\n",
    "- Prerequisite Course: Complete the [\"Introduction to Python\"](https://coding-for-reproducible-research.github.io/CfRR_Courses/programme_information/intro_to_python.html) course.\n",
    "\n",
    "The interactive network visualisation below displays the prerequisite structure for this course within the training program. Each node represents a course that you may need to complete beforehand, and the arrows show the recommended order in which to take them, leading up to your selected course. You can click on any course node to view more information about that course. This interactive tool helps you clearly see the learning path required to access this course, making it easier to plan your progress with the Coding for Reproducible Research Training (CfRR) initiative."
   ]
  },
  {
   "cell_type": "code",
   "execution_count": 1,
   "id": "383d430c-c966-4243-ab30-cc5a47a55ce0",
   "metadata": {
    "editable": true,
    "slideshow": {
     "slide_type": ""
    },
    "tags": [
     "remove-input"
    ]
   },
   "outputs": [
    {
     "data": {
      "text/html": [
       "<div style='text-align: center;'><h3>Pre-Reqs Subnetwork</h3></div><iframe id='iframe' src='../_static/workshop_prereqs_using_markdown_for_python.html' width='100%' height='750px' style='border:none;'></iframe>\n",
       "<script>\n",
       "function adjustIframeHeight_iframe() {\n",
       "    const iframe = document.getElementById('iframe');\n",
       "    if (iframe) {\n",
       "        iframe.style.height = iframe.offsetWidth + 'px';\n",
       "    }\n",
       "}\n",
       "\n",
       "// Adjust height on load and resize\n",
       "window.onload = adjustIframeHeight_iframe;\n",
       "window.onresize = adjustIframeHeight_iframe;\n",
       "</script>\n"
      ],
      "text/plain": [
       "<IPython.core.display.HTML object>"
      ]
     },
     "metadata": {},
     "output_type": "display_data"
    }
   ],
   "source": [
    "from IPython.display import HTML, display\n",
    "\n",
    "\n",
    "file_name = f\"../_static/workshop_prereqs_using_markdown_for_python.html\"\n",
    "\n",
    "# Generate a unique ID for each iframe\n",
    "iframe_id = f\"iframe\"\n",
    "\n",
    "# Create a display HTML block with a title\n",
    "html_str = f\"<div style='text-align: center;'><h3>Pre-Reqs Subnetwork</h3></div>\"\n",
    "html_str += f\"<iframe id='{iframe_id}' src='{file_name}' title='Workshop Prerequisites Graph Subnetwork' width='100%' height='750px' style='border:none;'></iframe>\"\n",
    "\n",
    "# Include JavaScript to adjust the iframe height\n",
    "js_code = f\"\"\"\n",
    "<script>\n",
    "function adjustIframeHeight_{iframe_id}() {{\n",
    "    const iframe = document.getElementById('{iframe_id}');\n",
    "    if (iframe) {{\n",
    "        iframe.style.height = iframe.offsetWidth + 'px';\n",
    "    }}\n",
    "}}\n",
    "\n",
    "// Adjust height on load and resize\n",
    "window.onload = adjustIframeHeight_{iframe_id};\n",
    "window.onresize = adjustIframeHeight_{iframe_id};\n",
    "</script>\n",
    "\"\"\"\n",
    "\n",
    "html_str += js_code\n",
    "display(HTML(html_str))"
   ]
  },
  {
   "cell_type": "markdown",
   "id": "e25f0611-3f14-4a2c-89eb-da93edb620f3",
   "metadata": {
    "editable": true,
    "slideshow": {
     "slide_type": ""
    },
    "tags": [
     "remove-input"
    ]
   },
   "source": [
    "## Installation guide\n",
    "\n",
    "- All CfRR courses require attendees to use their own computer/laptop to follow workshop activities and take effective notes.\n",
    "\n",
    "- Install JupyterLab, ensuring Python and pip are set up on your system. Follow the [installation instructions](https://coding-for-reproducible-research.github.io/CfRR_Courses/programme_information/intro_to_python.html) on the CfRR website.\n",
    "\n",
    "- Markdown in JupyterLab: No additional installation is needed for basic Markdown support in JupyterLab.\n",
    "\n",
    "\n",
    "## Self Study Material Link \n",
    "\n",
    "The self-study material for this course is available [here](../individual_modules/section_landing_pages/markdown_with_python.md).\n",
    "\n",
    "## Developers\n",
    "\n",
    "This material was developed by **Ruxandra Neatu and Michelle Ledbetter** as part of the Coding for Reproducible Research programme.\n",
    "\n",
    "\n",
    "## License Info"
   ]
  },
  {
   "cell_type": "code",
   "execution_count": 1,
   "id": "692259f5-5cdf-42d7-8746-7d24579073d0",
   "metadata": {
    "editable": true,
    "slideshow": {
     "slide_type": ""
    },
    "tags": [
     "remove-input"
    ]
   },
   "outputs": [
    {
     "data": {
      "text/markdown": [
       "### Instructional Material\n",
       "\n",
       "The instructional material in this course is copyright © 2024 University of Exeter\n",
       "and is made available under the Creative Commons Attribution 4.0 International\n",
       "licence (https://creativecommons.org/licenses/by/4.0/). Instructional material\n",
       "consists of material that is contained within the \"individual_modules/markdown_with_python\" folders in\n",
       "this repository, with the exception of code snippets and example programs found\n",
       "in files within these folders. Such code snippets and example programs are\n",
       "considered software for the purposes of this licence. \n",
       "\n",
       "\n",
       "### Software\n",
       "\n",
       "Except where otherwise noted, software provided in this repository is made\n",
       "available under the MIT licence (https://opensource.org/licenses/MIT).\n",
       "\n",
       "Copyright © 2024 University of Exeter\n",
       "\n",
       "Permission is hereby granted, free of charge, to any person obtaining a copy\n",
       "of this software and associated documentation files (the \"Software\"), to deal\n",
       "in the Software without restriction, including without limitation the rights\n",
       "to use, copy, modify, merge, publish, distribute, sublicense, and/or sell\n",
       "copies of the Software, and to permit persons to whom the Software is\n",
       "furnished to do so, subject to the following conditions:\n",
       "\n",
       "The above copyright notice and this permission notice shall be included in all\n",
       "copies or substantial portions of the Software.\n",
       "\n",
       "THE SOFTWARE IS PROVIDED \"AS IS\", WITHOUT WARRANTY OF ANY KIND, EXPRESS OR\n",
       "IMPLIED, INCLUDING BUT NOT LIMITED TO THE WARRANTIES OF MERCHANTABILITY,\n",
       "FITNESS FOR A PARTICULAR PURPOSE AND NONINFRINGEMENT. IN NO EVENT SHALL THE\n",
       "AUTHORS OR COPYRIGHT HOLDERS BE LIABLE FOR ANY CLAIM, DAMAGES OR OTHER\n",
       "LIABILITY, WHETHER IN AN ACTION OF CONTRACT, TORT OR OTHERWISE, ARISING FROM,\n",
       "OUT OF OR IN CONNECTION WITH THE SOFTWARE OR THE USE OR OTHER DEALINGS IN THE\n",
       "SOFTWARE.\n",
       "\n",
       "The software in this repository is adapted from software that is covered by the\n",
       "following copyright and permission notice:\n",
       "\n",
       "    Copyright © 2024 Software Carpentry\n",
       "\n",
       "    Permission is hereby granted, free of charge, to any person obtaining\n",
       "    a copy of this software and associated documentation files (the\n",
       "    \"Software\"), to deal in the Software without restriction, including\n",
       "    without limitation the rights to use, copy, modify, merge, publish,\n",
       "    distribute, sublicense, and/or sell copies of the Software, and to\n",
       "    permit persons to whom the Software is furnished to do so, subject to\n",
       "    the following conditions:\n",
       "\n",
       "    The above copyright notice and this permission notice shall be\n",
       "    included in all copies or substantial portions of the Software.\n",
       "\n",
       "    THE SOFTWARE IS PROVIDED \"AS IS\", WITHOUT WARRANTY OF ANY KIND,\n",
       "    EXPRESS OR IMPLIED, INCLUDING BUT NOT LIMITED TO THE WARRANTIES OF\n",
       "    MERCHANTABILITY, FITNESS FOR A PARTICULAR PURPOSE AND\n",
       "    NONINFRINGEMENT. IN NO EVENT SHALL THE AUTHORS OR COPYRIGHT HOLDERS BE\n",
       "    LIABLE FOR ANY CLAIM, DAMAGES OR OTHER LIABILITY, WHETHER IN AN ACTION\n",
       "    OF CONTRACT, TORT OR OTHERWISE, ARISING FROM, OUT OF OR IN CONNECTION\n",
       "    WITH THE SOFTWARE OR THE USE OR OTHER DEALINGS IN THE SOFTWARE."
      ],
      "text/plain": [
       "<IPython.core.display.Markdown object>"
      ]
     },
     "metadata": {},
     "output_type": "display_data"
    }
   ],
   "source": [
    "from IPython.display import Markdown, display\n",
    "\n",
    "def display_markdown(file_path):\n",
    "    try:\n",
    "        with open(file_path, 'r') as file:\n",
    "            content = file.read()\n",
    "            display(Markdown(content))\n",
    "    except FileNotFoundError:\n",
    "        print(f\"The file {file_path} was not found.\")\n",
    "    except Exception as e:\n",
    "        print(f\"An error occurred: {e}\")\n",
    "\n",
    "# Example usage:\n",
    "file_path = '../individual_modules/markdown_with_python/LICENSE.txt'  # Replace with your file path\n",
    "display_markdown(file_path)"
   ]
  },
  {
   "cell_type": "code",
   "execution_count": null,
   "id": "6ecb2b00-02e5-4bc4-b6bc-26f58bf6973c",
   "metadata": {},
   "outputs": [],
   "source": []
  }
 ],
 "metadata": {
  "kernelspec": {
   "display_name": "Python 3 (ipykernel)",
   "language": "python",
   "name": "python3"
  },
  "language_info": {
   "codemirror_mode": {
    "name": "ipython",
    "version": 3
   },
   "file_extension": ".py",
   "mimetype": "text/x-python",
   "name": "python",
   "nbconvert_exporter": "python",
   "pygments_lexer": "ipython3",
   "version": "3.9.19"
  }
 },
 "nbformat": 4,
 "nbformat_minor": 5
}
