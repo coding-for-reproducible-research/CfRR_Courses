{
 "cells": [
  {
   "cell_type": "markdown",
   "id": "b248c82d-864e-4172-8c42-e7144eb5909a",
   "metadata": {
    "editable": true,
    "slideshow": {
     "slide_type": ""
    },
    "tags": []
   },
   "source": [
    "# Python\n",
    "\n",
    "We currently offer three Python courses:\n",
    "- **Introduction to Python**: In Introduction to Python, you'll learn the basics of one of the most popular general-purpose programming languages used in a wide range of applications, from machine learning and web development to data analysis and automation.\n",
    "- **Python for Data Analysis**: This in-depth exploration of Python for data analysis covers essential libraries like NumPy, Pandas, Matplotlib, and Plotly, as well as critical software development practices to ensure reproducibility and collaboration. This course will enable participants to adeptly manipulate, analyze and visualize data, and maintain and share their code efficiently.\n",
    "- **Introduction to Machine Learning**: This advanced Python course covers core machine learning topics. Students will learn about the machine learning landscape, and the different types of machine learning problem. They will be introduced to selecting, training and evaluating models, and gain a deep understanding of machine learning pipelines."
   ]
  },
  {
   "cell_type": "code",
   "execution_count": null,
   "id": "236a531d-fe95-46c7-bd9b-0da04cdad8e4",
   "metadata": {},
   "outputs": [],
   "source": []
  }
 ],
 "metadata": {
  "kernelspec": {
   "display_name": "Python 3 (ipykernel)",
   "language": "python",
   "name": "python3"
  },
  "language_info": {
   "codemirror_mode": {
    "name": "ipython",
    "version": 3
   },
   "file_extension": ".py",
   "mimetype": "text/x-python",
   "name": "python",
   "nbconvert_exporter": "python",
   "pygments_lexer": "ipython3",
   "version": "3.9.19"
  }
 },
 "nbformat": 4,
 "nbformat_minor": 5
}
