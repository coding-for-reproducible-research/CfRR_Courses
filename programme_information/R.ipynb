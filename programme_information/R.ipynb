{
 "cells": [
  {
   "cell_type": "markdown",
   "id": "fe7f4882-05f6-4ac8-bc60-d38601b7b6bc",
   "metadata": {
    "editable": true,
    "slideshow": {
     "slide_type": ""
    },
    "tags": []
   },
   "source": [
    "# R\n",
    "\n",
    "We currently offer four R courses:\n",
    "- **Introduction to R**: In Introduction to R, you will learn R - a programming language focused on statistics, data analysis, and visualisation. This course provides an introduction to using RStudio, covering best practices, data management, and statistical analysis, equipping participants with the skills to run R commands and understand R objects.\n",
    "- **Introduction to Regression with R**: This course covers regression analysis, a fundamental statistical technique for modelling relationships between multiple variables. In this hands-on workshop, you will learn to fit various regression models with R, interpret the output, and understand its connection to other common statistical tools.\n",
    "- **Regression Analysis in R: Adapting to Varied Data Types**: In Advanced Regression Analysis with R, you'll build on your existing regression knowledge to fit more complex models, learn about different types of regression analysis, when to use them, and how to interpret the results.\n",
    "- **Mixed Effects Regression with R**: Learn to model complex, grouped data using mixed effects regression in R. This course builds on your regression knowledge to fit and interpret multi-level models, helping you analyse data with both fixed and random effects.\n",
    "- **Working With Data in R**: In this course you will learn to use the Tidyverse, a collection of R packages for manipulating, cleaning, and analysing data, gaining familiarity with key packages and conventions, when using the Tidyverse with datasets in R.\n",
    "- **Improve Your R Code**: Enhance the clarity and performance of your R scripts by learning to write cleaner, more maintainable code and speed up execution using tools like `microbenchmark`, `data.table`, and `Rcpp`. This course is for those already familiar with R who want to code more efficiently and effectively.\n",
    "- **Introduction to Markdown in R**: Learn how to create reproducible research documents using Markdown and R. This course introduces Markdown syntax and shows you how to integrate code, data, and output in dynamic R Markdown documents to support transparent and efficient workflows."
   ]
  },
  {
   "cell_type": "code",
   "execution_count": null,
   "id": "24049dfe-c103-4ebd-bc5d-6ed5db1ca63e",
   "metadata": {},
   "outputs": [],
   "source": []
  }
 ],
 "metadata": {
  "kernelspec": {
   "display_name": "Python 3 (ipykernel)",
   "language": "python",
   "name": "python3"
  },
  "language_info": {
   "codemirror_mode": {
    "name": "ipython",
    "version": 3
   },
   "file_extension": ".py",
   "mimetype": "text/x-python",
   "name": "python",
   "nbconvert_exporter": "python",
   "pygments_lexer": "ipython3",
   "version": "3.9.19"
  }
 },
 "nbformat": 4,
 "nbformat_minor": 5
}
