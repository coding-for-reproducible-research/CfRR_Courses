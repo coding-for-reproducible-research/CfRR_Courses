{
 "cells": [
  {
   "cell_type": "markdown",
   "id": "e7b038ad-29e3-43b1-b6a1-09cbba810787",
   "metadata": {
    "editable": true,
    "slideshow": {
     "slide_type": ""
    },
    "tags": []
   },
   "source": [
    "# Intermediate Version Control\n",
    "\n",
    "## Course Description \n",
    "\n",
    "\n",
    "This course offers a comprehensive guide to mastering version control with Git, focusing on advanced topics and practical workflows. The course is designed to deepen your understanding of Git through hands-on exercises and real-world scenarios. Topics covered include configuring Git, working with branches and merges, understanding GitHub workflows, managing remotes, and rewriting history. The course aims to equip participants with the skills necessary to efficiently manage and collaborate on projects using Git.\n",
    "\n",
    "## Course Objectives\n",
    "- Understand and configure advanced Git settings.\n",
    "- Master branching and merging strategies.\n",
    "- Implement effective GitHub workflows for collaboration.\n",
    "- Manage remote repositories and synchronize local changes.\n",
    "- Learn techniques for rewriting Git history and recovering from mistakes.\n",
    "\n",
    "## Pre-requisite Knowledge\n",
    "\n",
    "Participants should have taken the Introduction to Version Control and Introduction to Unix course, or be comfortable with the topics that are discussed throughout these courses.\n",
    "\n",
    "The interactive network visualisation below displays the prerequisite structure for this course within the training program. Each node represents a course that you may need to complete beforehand, and the arrows show the recommended order in which to take them, leading up to your selected course. You can click on any course node to view more information about that course. This interactive tool helps you clearly see the learning path required to access this course, making it easier to plan your progress with the Coding for Reproducible Research Training (CfRR) initiative."
   ]
  },
  {
   "cell_type": "code",
   "execution_count": 1,
   "id": "45cfa7a6-cc2d-46e8-8d85-8a04d6cde672",
   "metadata": {
    "editable": true,
    "slideshow": {
     "slide_type": ""
    },
    "tags": [
     "remove-input"
    ]
   },
   "outputs": [
    {
     "data": {
      "text/html": [
       "<div style='text-align: center;'><h3>Pre-Reqs Subnetwork</h3></div><iframe id='iframe' src='../_static/workshop_prereqs_intermediate_version_control.html' width='100%' height='750px' style='border:none;'></iframe>\n",
       "<script>\n",
       "function adjustIframeHeight_iframe() {\n",
       "    const iframe = document.getElementById('iframe');\n",
       "    if (iframe) {\n",
       "        iframe.style.height = iframe.offsetWidth + 'px';\n",
       "    }\n",
       "}\n",
       "\n",
       "// Adjust height on load and resize\n",
       "window.onload = adjustIframeHeight_iframe;\n",
       "window.onresize = adjustIframeHeight_iframe;\n",
       "</script>\n"
      ],
      "text/plain": [
       "<IPython.core.display.HTML object>"
      ]
     },
     "metadata": {},
     "output_type": "display_data"
    }
   ],
   "source": [
    "from IPython.display import HTML, display\n",
    "\n",
    "\n",
    "file_name = f\"../_static/workshop_prereqs_intermediate_version_control.html\"\n",
    "\n",
    "# Generate a unique ID for each iframe\n",
    "iframe_id = f\"iframe\"\n",
    "\n",
    "# Create a display HTML block with a title\n",
    "html_str = f\"<div style='text-align: center;'><h3>Pre-Reqs Subnetwork</h3></div>\"\n",
    "html_str += f\"<iframe id='{iframe_id}' title='Workshop Prerequisites Graph Subnetwork' src='{file_name}' width='100%' height='750px' style='border:none;'></iframe>\"\n",
    "\n",
    "# Include JavaScript to adjust the iframe height\n",
    "js_code = f\"\"\"\n",
    "<script>\n",
    "function adjustIframeHeight_{iframe_id}() {{\n",
    "    const iframe = document.getElementById('{iframe_id}');\n",
    "    if (iframe) {{\n",
    "        iframe.style.height = iframe.offsetWidth + 'px';\n",
    "    }}\n",
    "}}\n",
    "\n",
    "// Adjust height on load and resize\n",
    "window.onload = adjustIframeHeight_{iframe_id};\n",
    "window.onresize = adjustIframeHeight_{iframe_id};\n",
    "</script>\n",
    "\"\"\"\n",
    "\n",
    "html_str += js_code\n",
    "display(HTML(html_str))"
   ]
  },
  {
   "cell_type": "markdown",
   "id": "a648fb58-906d-435b-a63f-8e45b9034d6d",
   "metadata": {
    "editable": true,
    "slideshow": {
     "slide_type": ""
    },
    "tags": []
   },
   "source": [
    "## Sign-up \n",
    "\n",
    "To check for upcoming course dates and to register, please visit the Workshop Schedule and Sign-up page available [here](../cfrr_program_details/courses_overview.ipynb)."
   ]
  },
  {
   "cell_type": "code",
   "execution_count": null,
   "id": "e1595e9c-6a05-4b02-93e9-cec78e5af2ec",
   "metadata": {
    "editable": true,
    "slideshow": {
     "slide_type": ""
    },
    "tags": [
     "remove-input"
    ]
   },
   "outputs": [],
   "source": [
    "import pandas as pd\n",
    "from datetime import datetime\n",
    "from IPython.display import display, HTML\n",
    "\n",
    "# Define the course that is being looked at\n",
    "course_name = \"Intermediate Version Control\"\n",
    "\n",
    "# Load the CSV file\n",
    "file_path = '../data/workshop_info.csv'  # Adjust the path to your file location\n",
    "courses_df = pd.read_csv(file_path)\n",
    "\n",
    "# Strip any extra spaces in the column names\n",
    "courses_df.columns = courses_df.columns.str.strip()\n",
    "\n",
    "# Convert date columns to datetime\n",
    "courses_df['Start Date'] = pd.to_datetime(courses_df['Start Date'], dayfirst=True, errors='coerce')\n",
    "courses_df['End Date'] = pd.to_datetime(courses_df['End Date'], dayfirst=True, errors='coerce')\n",
    "\n",
    "# Get today's date\n",
    "today = datetime.now()\n",
    "\n",
    "# Function to generate markdown text based on the course dates\n",
    "def generate_html(row):\n",
    "    if pd.notna(row['Start Date']) and pd.notna(row['End Date']):\n",
    "        if row['Start Date'] <= today <= row['End Date']:\n",
    "            return f\"<div style='font-weight: bold;'>This course is currently accepting applications.</div>\"\n",
    "    return \"\"\n",
    "\n",
    "# Apply the function and create a new column for Markdown\n",
    "courses_df['HTML'] = courses_df.apply(generate_html, axis=1)\n",
    "\n",
    "# Variable for course name\n",
    "\n",
    "\n",
    "# Filter the DataFrame for the given course name and display the HTML text\n",
    "html_output = courses_df[courses_df['Course Name'] == course_name]['HTML'].values[0]\n",
    "display(HTML(html_output))\n"
   ]
  },
  {
   "cell_type": "markdown",
   "id": "a7dbd44b-f6db-4d19-8e96-e319e723adf1",
   "metadata": {
    "editable": true,
    "slideshow": {
     "slide_type": ""
    },
    "tags": []
   },
   "source": [
    "## Installation Guide \n",
    "All CfRR courses require attendees to use their own computer/laptop to follow workshop activities and take effective notes. \n",
    "\n",
    "\n",
    "Prior to the start of the course, attendees should have Git, a terminal and a code editor installed, and have a GitHub account with credentials configured.\n",
    "We provide suggestions below, but attendees can use alternatives they are already comfortable with (except for Git, which is mandatory).\n",
    "\n",
    "## Git and a Terminal\n",
    "\n",
    "Git can be obtained from <https://git-scm.com/>.\n",
    "For Windows users, the Git installer comes with a terminal app Git Bash.\n",
    "For Mac and Linux users, a terminal comes with your system.\n",
    "\n",
    "## Code Editor\n",
    "\n",
    "The lessons will include demonstrations with [VS Code](https://code.visualstudio.com/).\n",
    "Attendees familiar with another IDE or editor (such as RStudio or Vim) will be able to follow along with all the exercises.\n",
    "\n",
    "## GitHub Account and Credentials\n",
    "\n",
    "Attendees can register for a free GitHub account at [GitHub](https://github.com/).\n",
    "Please follow the instructions at [Managing your personal access tokens](https://docs.github.com/en/authentication/keeping-your-account-and-data-secure/managing-your-personal-access-tokens), making a note of your username and personal access token.\n",
    "\n",
    "## Self Study Material Link \n",
    "\n",
    "The self-study material for this course is available [here](../individual_modules/section_landing_pages/intermediate_version_control.md).\n",
    "\n",
    "## Acknowledgements \n",
    "\n",
    "This workshop was influenced by the [Introduction to Version Control](intro_to_version_control.ipynb) course for Coding for Reproducible Research (CfRR), and the [Pro Git Book](https://git-scm.com/book/en/v2).\n",
    "\n",
    "## Developers\n",
    "\n",
    "\n",
    "This workshop was developed by Stephen Cook for the CfRR, with support from members of the RSE Group at the University of Exeter:\n",
    "\n",
    "- Linus Tata\n",
    "- Liam Berrisford\n",
    "- Tom Wilson\n",
    "\n",
    "## License Info"
   ]
  },
  {
   "cell_type": "code",
   "execution_count": 1,
   "id": "8cdf232b-2d27-4009-887d-20a4c8e956e2",
   "metadata": {
    "editable": true,
    "slideshow": {
     "slide_type": ""
    },
    "tags": [
     "remove-input"
    ]
   },
   "outputs": [
    {
     "data": {
      "text/markdown": [
       "### Instructional Material\n",
       "\n",
       "The instructional material in this course is copyright © 2024 University of Exeter\n",
       "and is made available under the Creative Commons Attribution 4.0 International\n",
       "licence (https://creativecommons.org/licenses/by/4.0/). Instructional material\n",
       "consists of material that is contained within the \"individual_modules/intermediate_version_control\" folders in\n",
       "this repository, with the exception of code snippets and example programs found\n",
       "in files within these folders. Such code snippets and example programs are\n",
       "considered software for the purposes of this licence. \n",
       "\n",
       "\n",
       "### Software\n",
       "\n",
       "Except where otherwise noted, software provided in this repository is made\n",
       "available under the MIT licence (https://opensource.org/licenses/MIT).\n",
       "\n",
       "Copyright © 2024 University of Exeter\n",
       "\n",
       "Permission is hereby granted, free of charge, to any person obtaining a copy\n",
       "of this software and associated documentation files (the \"Software\"), to deal\n",
       "in the Software without restriction, including without limitation the rights\n",
       "to use, copy, modify, merge, publish, distribute, sublicense, and/or sell\n",
       "copies of the Software, and to permit persons to whom the Software is\n",
       "furnished to do so, subject to the following conditions:\n",
       "\n",
       "The above copyright notice and this permission notice shall be included in all\n",
       "copies or substantial portions of the Software.\n",
       "\n",
       "THE SOFTWARE IS PROVIDED \"AS IS\", WITHOUT WARRANTY OF ANY KIND, EXPRESS OR\n",
       "IMPLIED, INCLUDING BUT NOT LIMITED TO THE WARRANTIES OF MERCHANTABILITY,\n",
       "FITNESS FOR A PARTICULAR PURPOSE AND NONINFRINGEMENT. IN NO EVENT SHALL THE\n",
       "AUTHORS OR COPYRIGHT HOLDERS BE LIABLE FOR ANY CLAIM, DAMAGES OR OTHER\n",
       "LIABILITY, WHETHER IN AN ACTION OF CONTRACT, TORT OR OTHERWISE, ARISING FROM,\n",
       "OUT OF OR IN CONNECTION WITH THE SOFTWARE OR THE USE OR OTHER DEALINGS IN THE\n",
       "SOFTWARE.\n",
       "\n",
       "The software in this repository is adapted from software that is covered by the\n",
       "following copyright and permission notice:\n",
       "\n",
       "    Copyright © 2024 Software Carpentry\n",
       "\n",
       "    Permission is hereby granted, free of charge, to any person obtaining\n",
       "    a copy of this software and associated documentation files (the\n",
       "    \"Software\"), to deal in the Software without restriction, including\n",
       "    without limitation the rights to use, copy, modify, merge, publish,\n",
       "    distribute, sublicense, and/or sell copies of the Software, and to\n",
       "    permit persons to whom the Software is furnished to do so, subject to\n",
       "    the following conditions:\n",
       "\n",
       "    The above copyright notice and this permission notice shall be\n",
       "    included in all copies or substantial portions of the Software.\n",
       "\n",
       "    THE SOFTWARE IS PROVIDED \"AS IS\", WITHOUT WARRANTY OF ANY KIND,\n",
       "    EXPRESS OR IMPLIED, INCLUDING BUT NOT LIMITED TO THE WARRANTIES OF\n",
       "    MERCHANTABILITY, FITNESS FOR A PARTICULAR PURPOSE AND\n",
       "    NONINFRINGEMENT. IN NO EVENT SHALL THE AUTHORS OR COPYRIGHT HOLDERS BE\n",
       "    LIABLE FOR ANY CLAIM, DAMAGES OR OTHER LIABILITY, WHETHER IN AN ACTION\n",
       "    OF CONTRACT, TORT OR OTHERWISE, ARISING FROM, OUT OF OR IN CONNECTION\n",
       "    WITH THE SOFTWARE OR THE USE OR OTHER DEALINGS IN THE SOFTWARE."
      ],
      "text/plain": [
       "<IPython.core.display.Markdown object>"
      ]
     },
     "metadata": {},
     "output_type": "display_data"
    }
   ],
   "source": [
    "from IPython.display import Markdown, display\n",
    "\n",
    "def display_markdown(file_path):\n",
    "    try:\n",
    "        with open(file_path, 'r') as file:\n",
    "            content = file.read()\n",
    "            display(Markdown(content))\n",
    "    except FileNotFoundError:\n",
    "        print(f\"The file {file_path} was not found.\")\n",
    "    except Exception as e:\n",
    "        print(f\"An error occurred: {e}\")\n",
    "\n",
    "# Example usage:\n",
    "file_path = '../individual_modules/intermediate_version_control/LICENSE.txt'  # Replace with your file path\n",
    "display_markdown(file_path)"
   ]
  },
  {
   "cell_type": "code",
   "execution_count": null,
   "id": "1719c239-ca69-4624-9309-9e682e13114a",
   "metadata": {
    "editable": true,
    "slideshow": {
     "slide_type": ""
    },
    "tags": []
   },
   "outputs": [],
   "source": []
  }
 ],
 "metadata": {
  "kernelspec": {
   "display_name": "Python 3 (ipykernel)",
   "language": "python",
   "name": "python3"
  },
  "language_info": {
   "codemirror_mode": {
    "name": "ipython",
    "version": 3
   },
   "file_extension": ".py",
   "mimetype": "text/x-python",
   "name": "python",
   "nbconvert_exporter": "python",
   "pygments_lexer": "ipython3",
   "version": "3.9.19"
  }
 },
 "nbformat": 4,
 "nbformat_minor": 5
}
