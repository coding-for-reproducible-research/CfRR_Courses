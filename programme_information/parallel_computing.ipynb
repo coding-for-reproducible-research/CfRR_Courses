{
 "cells": [
  {
   "cell_type": "markdown",
   "id": "e3c2e4c1-0ccb-4fed-98d1-f9d0ce1c431b",
   "metadata": {
    "editable": true,
    "slideshow": {
     "slide_type": ""
    },
    "tags": []
   },
   "source": [
    "# Parallel Computing\n",
    "\n",
    "## Course Description  \n",
    "\n",
    "This course will provide an introduction to parallel programming. Participants will gain practical experience in writing parallel software, understanding how to decompose problems for efficient execution across multiple processes and threads.\n",
    "\n",
    "## Course Objectives \n",
    "On completion of this series of workshops, participants will:\n",
    "- Be able to explain what is meant by distributed and shared-memory parallelism.\n",
    "- Know how to write software that can run across multiple processes using MPI.\n",
    "- Be able to write code that utilizes multithreading for parallel execution.\n",
    "- Be able to identify how a problem can be divided and parallelised effectively.\n",
    "- Gain hands-on experience writing and optimizing parallel code.\n",
    "\n",
    "## Pre-requisite Knowledge \n",
    "This course is for participants who already have some programming experience with Python. If you are not familiar with Python, our Introduction to Python course, is available [Intro To Python](intro_to_python.ipynb).\n",
    "\n",
    "\n",
    "The interactive network visualisation below displays the prerequisite structure for this course within the training program. Each node represents a course that you may need to complete beforehand, and the arrows show the recommended order in which to take them, leading up to your selected course. You can click on any course node to view more information about that course. This interactive tool helps you clearly see the learning path required to access this course, making it easier to plan your progress with the Coding for Reproducible Research Training (CfRR) initiative."
   ]
  },
  {
   "cell_type": "code",
   "execution_count": null,
   "id": "8c73b655-9f3c-4543-ade4-fbe6193c13c7",
   "metadata": {
    "editable": true,
    "slideshow": {
     "slide_type": ""
    },
    "tags": [
     "remove-input"
    ]
   },
   "outputs": [],
   "source": [
    "from IPython.display import HTML, display\n",
    "\n",
    "\n",
    "file_name = f\"../_static/workshop_prereqs_parallel_computing.html\"\n",
    "\n",
    "# Generate a unique ID for each iframe\n",
    "iframe_id = f\"iframe\"\n",
    "\n",
    "# Create a display HTML block with a title\n",
    "html_str = f\"<div style='text-align: center;'><h3>Pre-Reqs Subnetwork</h3></div>\"\n",
    "html_str += f\"<iframe id='{iframe_id}' src='{file_name}' title='Workshop Prerequisites Graph Subnetwork' width='100%' height='750px' style='border:none;'></iframe>\"\n",
    "\n",
    "# Include JavaScript to adjust the iframe height\n",
    "js_code = f\"\"\"\n",
    "<script>\n",
    "function adjustIframeHeight_{iframe_id}() {{\n",
    "    const iframe = document.getElementById('{iframe_id}');\n",
    "    if (iframe) {{\n",
    "        iframe.style.height = iframe.offsetWidth + 'px';\n",
    "    }}\n",
    "}}\n",
    "\n",
    "// Adjust height on load and resize\n",
    "window.onload = adjustIframeHeight_{iframe_id};\n",
    "window.onresize = adjustIframeHeight_{iframe_id};\n",
    "</script>\n",
    "\"\"\"\n",
    "\n",
    "html_str += js_code\n",
    "display(HTML(html_str))"
   ]
  },
  {
   "cell_type": "markdown",
   "id": "86cb1e6d-2adb-460c-be10-3f062d8e13a4",
   "metadata": {
    "editable": true,
    "slideshow": {
     "slide_type": ""
    },
    "tags": []
   },
   "source": [
    "## Sign-up \n",
    "\n",
    "To check for upcoming course dates and to register, please visit the [Workshop Schedule and Sign-up](../cfrr_program_details/courses_overview.ipynb) page."
   ]
  },
  {
   "cell_type": "code",
   "execution_count": null,
   "id": "c085b528-8fc7-4cdf-b904-70b3a46a0d89",
   "metadata": {
    "editable": true,
    "slideshow": {
     "slide_type": ""
    }
   },
   "outputs": [
    {
     "data": {
      "text/html": [],
      "text/plain": [
       "<IPython.core.display.HTML object>"
      ]
     },
     "metadata": {},
     "output_type": "display_data"
    }
   ],
   "source": [
    "import pandas as pd\n",
    "from datetime import datetime\n",
    "from IPython.display import display, HTML\n",
    "\n",
    "# Define the course that is being looked at\n",
    "course_name = \"Parallel Computing\"\n",
    "\n",
    "# Load the CSV file\n",
    "file_path = '../data/workshop_info.csv'  # Adjust the path to your file location\n",
    "courses_df = pd.read_csv(file_path)\n",
    "\n",
    "# Strip any extra spaces in the column names\n",
    "courses_df.columns = courses_df.columns.str.strip()\n",
    "\n",
    "# Convert date columns to datetime\n",
    "courses_df['Start Date'] = pd.to_datetime(courses_df['Start Date'], dayfirst=True, errors='coerce')\n",
    "courses_df['End Date'] = pd.to_datetime(courses_df['End Date'], dayfirst=True, errors='coerce')\n",
    "\n",
    "# Get today's date\n",
    "today = datetime.now()\n",
    "\n",
    "# Function to generate markdown text based on the course dates\n",
    "def generate_html(row):\n",
    "    if pd.notna(row['Start Date']) and pd.notna(row['End Date']):\n",
    "        if row['Start Date'] <= today <= row['End Date']:\n",
    "            return f\"<div style='font-weight: bold;'>This course is currently accepting applications.</div>\"\n",
    "    return \"\"\n",
    "\n",
    "# Apply the function and create a new column for Markdown\n",
    "courses_df['HTML'] = courses_df.apply(generate_html, axis=1)\n",
    "\n",
    "# Variable for course name\n",
    "\n",
    "\n",
    "# Filter the DataFrame for the given course name and display the HTML text\n",
    "html_output = courses_df[courses_df['Course Name'] == course_name]['HTML'].values[0]\n",
    "display(HTML(html_output))\n"
   ]
  },
  {
   "cell_type": "markdown",
   "id": "570ba178-70cc-41c5-9d59-1203658f176d",
   "metadata": {},
   "source": [
    "## Installation Instructions\n",
    "\n",
    "### Installing Python\n",
    "\n",
    "If you do now have a working Python installation on your machine (you can check this with ```which python```), you can follow the [Intro To Python](intro_to_python.ipynb).\n",
    "\n",
    "### Installing MPI\n",
    "\n",
    "The *Message Passing Interface* (MPI) is a standard for passing messages between multiple networked processes running a parallel program. As MPI is a standard, rather than a piece of software, there is not a single software package that you need to install. There are a few different 'flavours' of MPI, and the majority of HPC systems will have their own versions which are tuned for their specific systems. It is highly recommended that you use a system's built-in MPI libraries if they are available, but if not let's go through the process of installing an MPI library.\n",
    "\n",
    "```{note}\n",
    "**Requirements**  \n",
    "For this workshop, you will need a multi-core machine which can run a Unix-based terminal (i.e. Linux/WSL or Mac).\n",
    "```\n",
    "\n",
    "#### MacOS MPI installation\n",
    "MPI can be easily installed with Homebrew. Check your machine has homebrew installed with\n",
    "```\n",
    "$ which brew\n",
    "```\n",
    "If this returns the location of the `brew` executable, then you can proceed with:\n",
    "```\n",
    "$ brew install open-mpi\n",
    "```\n",
    "\n",
    "#### Linux/WSL MPI installation\n",
    "There are two ways to ways to install MPI on Linux or WSL platforms is using the `Spack` package manager (this can also be done for MacOS but requires some additional steps), or using `conda`. Each of these two methods will be explained below.\n",
    "\n",
    "##### Using Spack package manager\n",
    "\n",
    "In our case, we can install OpenMPI, which is a free and open source MPI implementation. OpenMPI can be installed in a number of different ways, but the recommended way is to use the Spack HPC package manager, which is in a class of its own in the way it handles different MPI implementations.\n",
    "\n",
    "Spack is really simple to install, all you need to need to do is clone the Spack repository:\n",
    "```\n",
    "$ git clone --depth=100 --branch=releases/v0.21 https://github.com/spack/spack.git ~/spack\n",
    "```\n",
    "and `source` the included setup script:\n",
    "```shell\n",
    "$ source ~/spack/share/spack/setup-env.sh\n",
    "```\n",
    "Every time you want to use Spack you will need to `source` this script, so it may be easier to add this to your shell login script, (i.e. ~/.bashrc, ~/.zshrc, etc.).\n",
    "We need to let Spack find any compilers in our system, which we can do with:\n",
    "```\n",
    "$ spack compiler find\n",
    "```\n",
    "\n",
    "```{note}\n",
    "Next you have to install MPI with spack. This method requires you to have a working set of compilers for C and Fortran. If you don't have these on your system the simplest way to get them is to install them using your system package manager.\n",
    "```\n",
    "\n",
    "We can use Spack to install an MPI library, which will default to installing OpenMPI. If we run\n",
    "```\n",
    "$ spack spec mpi\n",
    "```\n",
    "we can see what Spack will install, and we can use\n",
    "```\n",
    "$ spack install mpi\n",
    "```\n",
    "to execute the installation. Once this is done, we can load the new mpi module with\n",
    "```\n",
    "$ spack load mpi\n",
    "```\n",
    "and check the installation with\n",
    "```\n",
    "$ which mpirun\n",
    "```\n",
    "This command tells us where the `mpirun` command has been installed, which is the primary way that we can launch an executable across multiple process with MPI. With the installation complete we are ready to run some programs with MPI.\n",
    "\n",
    "##### Using Conda package manager\n",
    "\n",
    "First download the Miniforge installer from https://conda-forge.org/miniforge/ . Then run the installer using bash within your WSL terminal:\n",
    "```\n",
    "$ bash Miniforge3-xx.x.x-x-<operating-system>-x86_64.sh\n",
    "```\n",
    "\n",
    "Next create a conda environment and then activate the conda base environment.\n",
    "```\n",
    "$ conda activate\n",
    "```\n",
    "\n",
    "Now create a new environment, for example, named mpi_env\n",
    "```\n",
    "$ conda activate\n",
    "$ conda create -n mpi_env python=3.9  # Replace 3.9 with your desired Python version\n",
    "```\n",
    "\n",
    "Finally install OpenMPI:\n",
    "```\n",
    "$ conda install -c conda-forge openmpi openmpi-mpicc openmpi-mpicxx openmpi-mpifort compilers\n",
    "```\n",
    "\n",
    "#### Installing MPI for Python (MPI4Py)\n",
    "\n",
    "Once you have installed MPI, either via spack or conda, the next step is install a Python interface to this library. There are many different interfaces to MPI for many different languages, but we've chosen Python for the benefits it provides to write examples in an easy-to-understand format. Whilst the specific syntax of the commands learned in this part of the course wont be applicable across different languages, the overall code structures and concepts are highly transferable, so once you have a solid grasp of the fundamentals of MPI you should be able to take those concepts to any language with an MPI interface and write parallel code!\n",
    "\n",
    "The python package that we will be using in this course to implement MPI command is the [MPI4Py package](https://mpi4py.readthedocs.io/en/stable/). To install the package, make sure you have loaded your spack or conda environment with the MPI library install. \n",
    "\n",
    "The MPI4Py package can be installed via pip as follows:\n",
    "```\n",
    "pip install mpi4py\n",
    "```"
   ]
  },
  {
   "cell_type": "markdown",
   "id": "d3aea60e-a120-4d71-a384-ab90518629d5",
   "metadata": {},
   "source": [
    "## Self Study Material Link \n",
    "\n",
    "The self-study material for this course is available on the [Self-study notes: Parallel Computing](../individual_modules/section_landing_pages/parallel_computing.md) page.\n",
    "\n",
    "## Acknowledgements \n",
    "\n",
    "This course was adapted from the Software Carpentries Programming with Python. It has been developed by the University of Exeter Research Software Engineering Group and a team of generous volunteers who are enthusiastic about sharing their skills with the wider research community.\n",
    "\n",
    "Its provision is dependent on the time of these volunteers. If you have benefited in any way from this course and want to support its long term sustainability then please take the time to complete our feedback survey, recommend it to your colleagues, and enthuse about it to your senior leadership team!\n",
    "\n",
    "\n",
    "## Developers\n",
    "The contributors to this course include:\n",
    "- **Ed Hone**\n",
    "- **Ricky Olivier**\n",
    "\n",
    "## Course Delivery Content \n",
    "\n",
    "There is currently no additional content that is used outside of the self-study notes to deliver this course.\n",
    "\n",
    "## License Info "
   ]
  },
  {
   "cell_type": "code",
   "execution_count": null,
   "id": "f850fcaa",
   "metadata": {},
   "outputs": [],
   "source": []
  },
  {
   "cell_type": "code",
   "execution_count": null,
   "id": "9d9945b7-18cf-4b97-bfa6-5b8530229821",
   "metadata": {
    "editable": true,
    "slideshow": {
     "slide_type": ""
    },
    "tags": [
     "remove-input"
    ]
   },
   "outputs": [
    {
     "data": {
      "text/markdown": [
       "\n",
       "### Instructional Material\n",
       "\n",
       "The instructional material in this course is copyright © 2024 University of Exeter\n",
       "and is made available under the Creative Commons Attribution 4.0 International\n",
       "licence (https://creativecommons.org/licenses/by/4.0/). Instructional material\n",
       "consists of material that is contained within the \"individual_modules/parallel_computing\" directory, and images folders in\n",
       "this directory, with the exception of code snippets and example programs found\n",
       "in files within these folders. Such code snippets and example programs are\n",
       "considered software for the purposes of this licence. \n",
       "\n",
       "\n",
       "### Software\n",
       "\n",
       "Except where otherwise noted, software provided in this repository is made\n",
       "available under the MIT licence (https://opensource.org/licenses/MIT).\n",
       "\n",
       "Copyright © 2024 University of Exeter\n",
       "\n",
       "Permission is hereby granted, free of charge, to any person obtaining a copy\n",
       "of this software and associated documentation files (the \"Software\"), to deal\n",
       "in the Software without restriction, including without limitation the rights\n",
       "to use, copy, modify, merge, publish, distribute, sublicense, and/or sell\n",
       "copies of the Software, and to permit persons to whom the Software is\n",
       "furnished to do so, subject to the following conditions:\n",
       "\n",
       "The above copyright notice and this permission notice shall be included in all\n",
       "copies or substantial portions of the Software.\n",
       "\n",
       "THE SOFTWARE IS PROVIDED \"AS IS\", WITHOUT WARRANTY OF ANY KIND, EXPRESS OR\n",
       "IMPLIED, INCLUDING BUT NOT LIMITED TO THE WARRANTIES OF MERCHANTABILITY,\n",
       "FITNESS FOR A PARTICULAR PURPOSE AND NONINFRINGEMENT. IN NO EVENT SHALL THE\n",
       "AUTHORS OR COPYRIGHT HOLDERS BE LIABLE FOR ANY CLAIM, DAMAGES OR OTHER\n",
       "LIABILITY, WHETHER IN AN ACTION OF CONTRACT, TORT OR OTHERWISE, ARISING FROM,\n",
       "OUT OF OR IN CONNECTION WITH THE SOFTWARE OR THE USE OR OTHER DEALINGS IN THE\n",
       "SOFTWARE.\n",
       "\n",
       "The software in this repository is adapted from software that is covered by the\n",
       "following copyright and permission notice:\n",
       "\n",
       "    Copyright © 2024 Software Carpentry\n",
       "\n",
       "    Permission is hereby granted, free of charge, to any person obtaining\n",
       "    a copy of this software and associated documentation files (the\n",
       "    \"Software\"), to deal in the Software without restriction, including\n",
       "    without limitation the rights to use, copy, modify, merge, publish,\n",
       "    distribute, sublicense, and/or sell copies of the Software, and to\n",
       "    permit persons to whom the Software is furnished to do so, subject to\n",
       "    the following conditions:\n",
       "\n",
       "    The above copyright notice and this permission notice shall be\n",
       "    included in all copies or substantial portions of the Software.\n",
       "\n",
       "    THE SOFTWARE IS PROVIDED \"AS IS\", WITHOUT WARRANTY OF ANY KIND,\n",
       "    EXPRESS OR IMPLIED, INCLUDING BUT NOT LIMITED TO THE WARRANTIES OF\n",
       "    MERCHANTABILITY, FITNESS FOR A PARTICULAR PURPOSE AND\n",
       "    NONINFRINGEMENT. IN NO EVENT SHALL THE AUTHORS OR COPYRIGHT HOLDERS BE\n",
       "    LIABLE FOR ANY CLAIM, DAMAGES OR OTHER LIABILITY, WHETHER IN AN ACTION\n",
       "    OF CONTRACT, TORT OR OTHERWISE, ARISING FROM, OUT OF OR IN CONNECTION\n",
       "    WITH THE SOFTWARE OR THE USE OR OTHER DEALINGS IN THE SOFTWARE."
      ],
      "text/plain": [
       "<IPython.core.display.Markdown object>"
      ]
     },
     "metadata": {},
     "output_type": "display_data"
    }
   ],
   "source": [
    "from IPython.display import Markdown, display\n",
    "\n",
    "def display_markdown(file_path):\n",
    "    try:\n",
    "        with open(file_path, 'r') as file:\n",
    "            content = file.read()\n",
    "            display(Markdown(content))\n",
    "    except FileNotFoundError:\n",
    "        print(f\"The file {file_path} was not found.\")\n",
    "    except Exception as e:\n",
    "        print(f\"An error occurred: {e}\")\n",
    "\n",
    "# Example usage:\n",
    "file_path = '../individual_modules/parallel_computing/LICENSE.txt'  # Replace with your file path\n",
    "display_markdown(file_path)"
   ]
  },
  {
   "cell_type": "code",
   "execution_count": null,
   "id": "01a3e582-7e01-4e43-b221-9762faf0438e",
   "metadata": {},
   "outputs": [],
   "source": []
  }
 ],
 "metadata": {
  "kernelspec": {
   "display_name": "Python 3 (ipykernel)",
   "language": "python",
   "name": "python3"
  },
  "language_info": {
   "codemirror_mode": {
    "name": "ipython",
    "version": 3
   },
   "file_extension": ".py",
   "mimetype": "text/x-python",
   "name": "python",
   "nbconvert_exporter": "python",
   "pygments_lexer": "ipython3",
   "version": "3.9.19"
  }
 },
 "nbformat": 4,
 "nbformat_minor": 5
}