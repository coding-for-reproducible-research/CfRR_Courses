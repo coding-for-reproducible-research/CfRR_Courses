{
 "cells": [
  {
   "cell_type": "markdown",
   "id": "0ad39e8c-9f22-45c2-85a6-1083e2d3f160",
   "metadata": {
    "editable": true,
    "slideshow": {
     "slide_type": ""
    },
    "tags": []
   },
   "source": [
    "# Introduction to Unix\n",
    "\n",
    "## Course Description \n",
    "The Unix system and the shell predate most computational interfaces (e.g. the graphical user interface). Although very old, Unix-based systems and the shell are one of the most powerful ways to use computers - whether it is your laptop or a supercomputer. This course is an introduction to navigating your way around the shell and demonstrating how it can improve your workflow. This can be in the form of data processing, executing code, using a huge range of built-in tools, and creating pipelines.\n",
    "\n",
    "## Course Objectives\n",
    "- Describe what the shell is and how to access it.\n",
    "- Navigate around the Unix filesystem.\n",
    "- Inspect and manipulate files.\n",
    "- Automate tasks via scripts.\n",
    "- Run programs outside of IDEs and notebooks.\n",
    "\n",
    "## Pre-requisite Knowledge\n",
    "\n",
    "No prior coding knowledge required.\n",
    "\n",
    "## Sign-up \n",
    "\n",
    "To check for upcoming course dates and to register, please visit the [Workshop Schedule and Sign-up](../cfrr_program_details/courses_overview.ipynb) page."
   ]
  },
  {
   "cell_type": "code",
   "execution_count": null,
   "id": "40035021-02ff-4f5b-948a-26b043824788",
   "metadata": {
    "editable": true,
    "slideshow": {
     "slide_type": ""
    },
    "tags": [
     "remove-input"
    ]
   },
   "outputs": [],
   "source": [
    "import pandas as pd\n",
    "from datetime import datetime\n",
    "from IPython.display import display, HTML\n",
    "\n",
    "# Define the course that is being looked at\n",
    "course_name = \"Introduction to Unix\"\n",
    "\n",
    "# Load the CSV file\n",
    "file_path = '../data/workshop_info.csv'  # Adjust the path to your file location\n",
    "courses_df = pd.read_csv(file_path)\n",
    "\n",
    "# Strip any extra spaces in the column names\n",
    "courses_df.columns = courses_df.columns.str.strip()\n",
    "\n",
    "# Convert date columns to datetime\n",
    "courses_df['Start Date'] = pd.to_datetime(courses_df['Start Date'], dayfirst=True, errors='coerce')\n",
    "courses_df['End Date'] = pd.to_datetime(courses_df['End Date'], dayfirst=True, errors='coerce')\n",
    "\n",
    "# Get today's date\n",
    "today = datetime.now()\n",
    "\n",
    "# Function to generate markdown text based on the course dates\n",
    "def generate_html(row):\n",
    "    if pd.notna(row['Start Date']) and pd.notna(row['End Date']):\n",
    "        if row['Start Date'] <= today <= row['End Date']:\n",
    "            return f\"<div style='font-weight: bold;'>This course is currently accepting applications.</div>\"\n",
    "    return \"\"\n",
    "\n",
    "# Apply the function and create a new column for Markdown\n",
    "courses_df['HTML'] = courses_df.apply(generate_html, axis=1)\n",
    "\n",
    "# Variable for course name\n",
    "\n",
    "\n",
    "# Filter the DataFrame for the given course name and display the HTML text\n",
    "html_output = courses_df[courses_df['Course Name'] == course_name]['HTML'].values[0]\n",
    "display(HTML(html_output))\n"
   ]
  },
  {
   "cell_type": "markdown",
   "id": "56551490-fbc8-4f4f-bed5-e52b83a431c7",
   "metadata": {
    "editable": true,
    "slideshow": {
     "slide_type": ""
    },
    "tags": []
   },
   "source": [
    "## Installation Guide \n",
    "\n",
    "All CfRR courses require attendees to use their own computer/laptop to follow workshop activities and take effective notes. \n",
    "\n",
    "Attendees will require access to a Unix-like system. There are number of options here: MacOS, WSL2 on Windows, Linux, HPC (ISCA).\n",
    "\n",
    "### Download files\n",
    "\n",
    "You need to download some files to follow this lesson.\n",
    "\n",
    "1. Download [Download Course Materials](course_materials/shell-lesson-data.zip) and move the file to your Desktop.\n",
    "2. Unzip/extract the file.\n",
    "   **Let your instructor know if you need help with this step**.\n",
    "   You should end up with a new folder called **`shell-lesson-data`** on your Desktop.\n",
    "\n",
    "### Install software\n",
    "\n",
    "If you do not already have the shell software installed, you will need to download and install it.\n",
    "\n",
    "#### Windows\n",
    "\n",
    "Computers with Windows operating systems do not automatically have a Unix Shell program\n",
    "installed.\n",
    "\n",
    "In this lesson, we encourage you to use an emulator included in [Git for Windows](https://carpentries.github.io/workshop-template/#shell),\n",
    "which gives you access to both Bash shell commands and Git.\n",
    "Once installed, you can open a terminal by running the program Git Bash from the Windows start\n",
    "menu.\n",
    "\n",
    "**For advanced users**, as an alternative to Git for Windows, you may wish to [Install the Windows Subsystem for Linux](https://docs.microsoft.com/en-us/windows/wsl/install-win10) which gives access to a Bash shell command-line tool in Windows 10.\n",
    "Please note that commands in the Windows Subsystem for Linux (WSL) may differ slightly from those shown in the lesson or presented in the workshop.\n",
    "\n",
    "#### MacOS\n",
    "\n",
    "For a Mac computer running macOS Mojave or earlier releases, the default Unix Shell is Bash.\n",
    "For a Mac computer running macOS Catalina or later releases, the default Unix Shell is Zsh.\n",
    "Your default shell is available via the Terminal program within your Utilities folder.\n",
    "\n",
    "To open Terminal, try one or both of the following:\n",
    "\n",
    "* In Finder, select the Go menu, then select Utilities.\n",
    "  Locate Terminal in the Utilities folder and open it.\n",
    "* Use the Mac 'Spotlight' computer search function.\n",
    "  Search for: `Terminal` and press <kbd>Return</kbd>.\n",
    "\n",
    "To check if your machine is set up to use something other than Bash,\n",
    "type `echo $SHELL` in your terminal window.\n",
    "\n",
    "If your machine is set up to use something other than Bash,\n",
    "you can run it by opening a terminal and typing `bash`.\n",
    "\n",
    "Here are instruction on [how to Use Terminal on a Mac](http://www.macworld.co.uk/feature/mac-software/how-use-terminal-on-mac-3608274/)\n",
    "\n",
    "#### Linux\n",
    "\n",
    "The default Unix Shell for Linux operating systems is usually Bash.\n",
    "On most versions of Linux, it is accessible by running the\n",
    "[Gnome Terminal](https://help.gnome.org/users/gnome-terminal/stable/) or [KDE Konsole](https://konsole.kde.org/) or [xterm](https://en.wikipedia.org/wiki/Xterm),\n",
    "which can be found via the applications menu or the search bar.\n",
    "If your machine is set up to use something other than Bash,\n",
    "you can run it by opening a terminal and typing `bash`.\n",
    "\n",
    "### Open a new shell\n",
    "\n",
    "After installing the software\n",
    "-  Open a terminal.\n",
    "   If you're not sure how to open a terminal on your operating system, see the instructions under\n",
    "   **Install Software** above.\n",
    "-  In the terminal type `cd` then press the <kbd>Return</kbd> key.\n",
    "   This step will make sure you start with your home folder as your working directory.\n",
    "\n",
    "In the lesson, you will find out how to access the data files in this folder.\n",
    "\n",
    "[Download Course Materials Zip File](course_materials/shell-lesson-data.zip) \n",
    "\n",
    "## Self Study Material Link\n",
    "The self-study material for this course is available [here](../individual_modules/section_landing_pages/introduction_to_unix.md).\n",
    "## License Info "
   ]
  },
  {
   "cell_type": "code",
   "execution_count": 1,
   "id": "376ce507-86ba-481c-aa7f-150e1e04800c",
   "metadata": {
    "editable": true,
    "slideshow": {
     "slide_type": ""
    },
    "tags": [
     "remove-input"
    ]
   },
   "outputs": [
    {
     "data": {
      "text/markdown": [
       "\n",
       "### Instructional Material\n",
       "\n",
       "The instructional material in this course is copyright © 2024 University of Exeter\n",
       "and is made available under the Creative Commons Attribution 4.0 International\n",
       "licence (https://creativecommons.org/licenses/by/4.0/). Instructional material\n",
       "consists of material that is contained within the \"individual_modules/introduction_to_python\" directory, and images folders in\n",
       "this directory, with the exception of code snippets and example programs found\n",
       "in files within these folders. Such code snippets and example programs are\n",
       "considered software for the purposes of this licence. \n",
       "\n",
       "\n",
       "### Software\n",
       "\n",
       "Except where otherwise noted, software provided in this repository is made\n",
       "available under the MIT licence (https://opensource.org/licenses/MIT).\n",
       "\n",
       "Copyright © 2024 University of Exeter\n",
       "\n",
       "Permission is hereby granted, free of charge, to any person obtaining a copy\n",
       "of this software and associated documentation files (the \"Software\"), to deal\n",
       "in the Software without restriction, including without limitation the rights\n",
       "to use, copy, modify, merge, publish, distribute, sublicense, and/or sell\n",
       "copies of the Software, and to permit persons to whom the Software is\n",
       "furnished to do so, subject to the following conditions:\n",
       "\n",
       "The above copyright notice and this permission notice shall be included in all\n",
       "copies or substantial portions of the Software.\n",
       "\n",
       "THE SOFTWARE IS PROVIDED \"AS IS\", WITHOUT WARRANTY OF ANY KIND, EXPRESS OR\n",
       "IMPLIED, INCLUDING BUT NOT LIMITED TO THE WARRANTIES OF MERCHANTABILITY,\n",
       "FITNESS FOR A PARTICULAR PURPOSE AND NONINFRINGEMENT. IN NO EVENT SHALL THE\n",
       "AUTHORS OR COPYRIGHT HOLDERS BE LIABLE FOR ANY CLAIM, DAMAGES OR OTHER\n",
       "LIABILITY, WHETHER IN AN ACTION OF CONTRACT, TORT OR OTHERWISE, ARISING FROM,\n",
       "OUT OF OR IN CONNECTION WITH THE SOFTWARE OR THE USE OR OTHER DEALINGS IN THE\n",
       "SOFTWARE.\n",
       "\n",
       "The software in this repository is adapted from software that is covered by the\n",
       "following copyright and permission notice:\n",
       "\n",
       "    Copyright © 2024 Software Carpentry\n",
       "\n",
       "    Permission is hereby granted, free of charge, to any person obtaining\n",
       "    a copy of this software and associated documentation files (the\n",
       "    \"Software\"), to deal in the Software without restriction, including\n",
       "    without limitation the rights to use, copy, modify, merge, publish,\n",
       "    distribute, sublicense, and/or sell copies of the Software, and to\n",
       "    permit persons to whom the Software is furnished to do so, subject to\n",
       "    the following conditions:\n",
       "\n",
       "    The above copyright notice and this permission notice shall be\n",
       "    included in all copies or substantial portions of the Software.\n",
       "\n",
       "    THE SOFTWARE IS PROVIDED \"AS IS\", WITHOUT WARRANTY OF ANY KIND,\n",
       "    EXPRESS OR IMPLIED, INCLUDING BUT NOT LIMITED TO THE WARRANTIES OF\n",
       "    MERCHANTABILITY, FITNESS FOR A PARTICULAR PURPOSE AND\n",
       "    NONINFRINGEMENT. IN NO EVENT SHALL THE AUTHORS OR COPYRIGHT HOLDERS BE\n",
       "    LIABLE FOR ANY CLAIM, DAMAGES OR OTHER LIABILITY, WHETHER IN AN ACTION\n",
       "    OF CONTRACT, TORT OR OTHERWISE, ARISING FROM, OUT OF OR IN CONNECTION\n",
       "    WITH THE SOFTWARE OR THE USE OR OTHER DEALINGS IN THE SOFTWARE."
      ],
      "text/plain": [
       "<IPython.core.display.Markdown object>"
      ]
     },
     "metadata": {},
     "output_type": "display_data"
    }
   ],
   "source": [
    "from IPython.display import Markdown, display\n",
    "\n",
    "def display_markdown(file_path):\n",
    "    try:\n",
    "        with open(file_path, 'r') as file:\n",
    "            content = file.read()\n",
    "            display(Markdown(content))\n",
    "    except FileNotFoundError:\n",
    "        print(f\"The file {file_path} was not found.\")\n",
    "    except Exception as e:\n",
    "        print(f\"An error occurred: {e}\")\n",
    "\n",
    "# Example usage:\n",
    "file_path = '../individual_modules/introduction_to_unix/LICENSE.txt'  # Replace with your file path\n",
    "display_markdown(file_path)"
   ]
  },
  {
   "cell_type": "code",
   "execution_count": null,
   "id": "c86d8cf4-4c23-46e5-bce7-ae2672eb04c8",
   "metadata": {
    "editable": true,
    "slideshow": {
     "slide_type": ""
    },
    "tags": []
   },
   "outputs": [],
   "source": []
  }
 ],
 "metadata": {
  "kernelspec": {
   "display_name": "Python 3 (ipykernel)",
   "language": "python",
   "name": "python3"
  },
  "language_info": {
   "codemirror_mode": {
    "name": "ipython",
    "version": 3
   },
   "file_extension": ".py",
   "mimetype": "text/x-python",
   "name": "python",
   "nbconvert_exporter": "python",
   "pygments_lexer": "ipython3",
   "version": "3.9.19"
  }
 },
 "nbformat": 4,
 "nbformat_minor": 5
}
