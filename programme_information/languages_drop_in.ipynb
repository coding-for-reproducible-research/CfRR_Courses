{
 "cells": [
  {
   "cell_type": "markdown",
   "id": "d79fd5f0-acec-45b6-97dc-1f9cdb8a5e7f",
   "metadata": {},
   "source": [
    "# Languages Drop In Sessions\n",
    "\n",
    "As part of the Coding for Reproducible Research (CfRR) initiative, we are introducing **drop-in sessions** as a new offering this year. These sessions provide an opportunity for colleagues to engage in self-paced study using our full range of online course materials, while also having access to staff support and opportunities for networking.  \n",
    "\n",
    "The drop-in format is designed for those who prefer independent learning but would still like the benefit of guidance and peer connection. Please note that these sessions are most suitable for participants with **existing programming skills** who are comfortable working independently.  \n",
    "\n",
    "When signing up for a drop-in session, we ask participants to indicate their **planned learning focus** (e.g., language, level, or topic area) and to share any additional information of interest (e.g., times attending). This helps us plan appropriately for staff support and rooming.  \n",
    "\n",
    "These drop in sessions cover the materials that are languages focused, detailed [here.](coding_languages.ipynb)"
   ]
  },
  {
   "cell_type": "code",
   "execution_count": null,
   "id": "d4652b9f-86bb-4cdc-8ceb-f68ffc4f8358",
   "metadata": {},
   "outputs": [],
   "source": []
  }
 ],
 "metadata": {
  "kernelspec": {
   "display_name": "Python 3 (ipykernel)",
   "language": "python",
   "name": "python3"
  },
  "language_info": {
   "codemirror_mode": {
    "name": "ipython",
    "version": 3
   },
   "file_extension": ".py",
   "mimetype": "text/x-python",
   "name": "python",
   "nbconvert_exporter": "python",
   "pygments_lexer": "ipython3",
   "version": "3.9.19"
  }
 },
 "nbformat": 4,
 "nbformat_minor": 5
}
