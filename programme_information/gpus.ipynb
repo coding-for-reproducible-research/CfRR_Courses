{
 "cells": [
  {
   "cell_type": "markdown",
   "id": "c6492f92-e51d-4133-b27a-8b702f3411f0",
   "metadata": {},
   "source": [
    "# GPUs\n",
    "\n",
    "Currently there is only a single GPU course avaiable as self-study materials: \n",
    "- **Introduction to GPUs**: Introduction to GPUs introduces the fundamentals of GPU computing for scientific and technical applications. The course covers GPU architectures, running code on modern accelerators, and managing environments on HPC systems. With a focus on optimisation and performance, participants will gain hands-on experience through guided exercises and projects in numerical modelling and simulation."
   ]
  },
  {
   "cell_type": "code",
   "execution_count": null,
   "id": "e24bab45-4d69-4c0f-8459-9bda6574223e",
   "metadata": {},
   "outputs": [],
   "source": []
  }
 ],
 "metadata": {
  "kernelspec": {
   "display_name": "Python 3 (ipykernel)",
   "language": "python",
   "name": "python3"
  },
  "language_info": {
   "codemirror_mode": {
    "name": "ipython",
    "version": 3
   },
   "file_extension": ".py",
   "mimetype": "text/x-python",
   "name": "python",
   "nbconvert_exporter": "python",
   "pygments_lexer": "ipython3",
   "version": "3.9.19"
  }
 },
 "nbformat": 4,
 "nbformat_minor": 5
}
