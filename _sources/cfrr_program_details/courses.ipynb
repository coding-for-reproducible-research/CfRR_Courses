{
 "cells": [
  {
   "cell_type": "markdown",
   "id": "e18ae98b-39e0-4d7b-bbf4-1114ffeef96c",
   "metadata": {},
   "source": [
    "# Workshop Schedule and Signup\n",
    "\n",
    "There are currently no workshops scheduled to run shortly. "
   ]
  },
  {
   "cell_type": "code",
   "execution_count": null,
   "id": "9f182a12-b6bf-4a95-b4c4-92c08951d8a1",
   "metadata": {},
   "outputs": [],
   "source": []
  }
 ],
 "metadata": {
  "kernelspec": {
   "display_name": "Python 3 (ipykernel)",
   "language": "python",
   "name": "python3"
  },
  "language_info": {
   "codemirror_mode": {
    "name": "ipython",
    "version": 3
   },
   "file_extension": ".py",
   "mimetype": "text/x-python",
   "name": "python",
   "nbconvert_exporter": "python",
   "pygments_lexer": "ipython3",
   "version": "3.9.19"
  }
 },
 "nbformat": 4,
 "nbformat_minor": 5
}
