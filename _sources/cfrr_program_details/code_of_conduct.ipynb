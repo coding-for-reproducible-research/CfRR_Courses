{
 "cells": [
  {
   "cell_type": "markdown",
   "id": "2e92aaa4-d128-4419-ba48-8e46e84dce0e",
   "metadata": {},
   "source": [
    "# Code of Conduct\n",
    "\n",
    "All of the courses that make up CfRR are under continual review to ensure they are fit for purpose. If you have any concerns about the content then please raise a GitHub Issue [here](https://github.com/coding-for-reproducible-research/CfRR_Courses/issues)\n",
    "\n",
    "Our ethos is to provide a welcoming and supportive environment for all people, regardless of background or identity. By registering to attend any workshop, participants are agreeing to abide by the Researcher Development Code of Conduct.\n",
    "\n",
    "Our goal is to support you to develop your programming skill sets to enable you to do cutting-edge research. We want to create a positive and professional learning environment and, therefore encourage the following kinds of behaviours:\n",
    "- Show courtesy and respect towards all who attend a workshop or engage in community events.\n",
    "- Be respectful of different viewpoints and experiences.\n",
    "- Gracefully accept constructive criticism.\n",
    "\n",
    "Be patient if there are technical glitches. While we know something about how to use computers, we are not immune to internet or hardware issues.\n",
    "\n",
    "Thank you for taking the time to read our Code of Conduct. We look forward to welcoming you onto our courses."
   ]
  }
 ],
 "metadata": {
  "kernelspec": {
   "display_name": "Python 3 (ipykernel)",
   "language": "python",
   "name": "python3"
  },
  "language_info": {
   "codemirror_mode": {
    "name": "ipython",
    "version": 3
   },
   "file_extension": ".py",
   "mimetype": "text/x-python",
   "name": "python",
   "nbconvert_exporter": "python",
   "pygments_lexer": "ipython3",
   "version": "3.9.19"
  }
 },
 "nbformat": 4,
 "nbformat_minor": 5
}
