{
 "cells": [
  {
   "cell_type": "markdown",
   "id": "a20e3b3b-cdf3-432d-881b-a1ff96f93c34",
   "metadata": {
    "editable": true,
    "panel-layout": {
     "height": 60.59375,
     "visible": true,
     "width": 100
    },
    "slideshow": {
     "slide_type": ""
    },
    "tags": []
   },
   "source": [
    "# About Us"
   ]
  },
  {
   "cell_type": "markdown",
   "id": "82ab98d7-09bc-46f2-bf07-4de98b524834",
   "metadata": {
    "editable": true,
    "panel-layout": {
     "height": 188.265625,
     "visible": true,
     "width": 100
    },
    "slideshow": {
     "slide_type": ""
    },
    "tags": []
   },
   "source": [
    "Coding for Reproducible Research is a training programme that provides a series of workshops to support researchers at the University of Exeter in expanding their skill sets and positioning them to confidently perform informatics research projects efficiently and in a reproducible way. The program provides training on specific languages, such as [Python](individual_modules/section_landing_pages/introduction_to_python.md), [R](individual_modules/section_landing_pages/introduction_to_r.md), and [Unix/Linux](individual_modules/section_landing_pages/introduction_to_unix.md), alongside training relating to good practice and reproducible working methods designed to be agnostic of programming language. In this way, we offer a holistic perspective on how programming tasks should be approached, ultimately providing researchers with the tools and knowledge to feel confident in what they are doing. All workshops are open to any staff or student from any college or department and accessible from any campus."
   ]
  },
  {
   "cell_type": "markdown",
   "id": "103146ed-f770-4189-b421-654cdbbcce9b",
   "metadata": {
    "editable": true,
    "slideshow": {
     "slide_type": ""
    },
    "tags": []
   },
   "source": [
    "## Core CfRR Team \n",
    "- **Programme Management: Dr Eilis Hannon**\n",
    "- **Programme Management: Dr Fliss Guest**\n",
    "- **Administrator: Anne Bell**\n",
    "- **Training Focused Research Software Engineer (RSE): Liam Berrisford**\n",
    "    - Liam sits within the [Research Software Engineering (RSE)](https://www.exeter.ac.uk/research/research-software-and-analytics/meetthersegroup/) team at the University. As the first training-focused RSE, he helps to deliver CfRR content and prepare course material alongside other odd jobs, such as building this website! With a background in Computer Science and Environmental AI across his BSc and PhD and experience as an Associate Lecturer in Computer Science, he was keen to join the CfRR team to teach a broad range of topics to an even broader range of individuals! If you have any questions, please get in touch with him [here](mailto:l.berrisford3@exeter.ac.uk). His university profile is available [here](https://www.exeter.ac.uk/research/services/contact/profile/index.php?web_id=Liam_Berrisford).\n",
    "- **Wider RSE Team**\n",
    "    - The Research Software Engineering (RSE) team at the University of Exeter is a cornerstone of the Coding for Reproducible Research (CfRR) program. This dedicated group of professionals ensures the delivery of high-quality, cutting-edge training across a broad spectrum of topics critical to modern computational research. The RSE team leverages their extensive expertise in areas such as software development, data science, and high-performance computing to develop and implement comprehensive course materials. The CfRR program is significantly enriched by the RSE team's active engagement. These engineers are not only passionate about advancing the technical capabilities of researchers but also committed to fostering a collaborative and supportive learning environment. By working closely with academics and other professionals, they create a dynamic and enriching educational experience for all participants. RSEs in the CfRR program contribute to a variety of tasks, from teaching and developing course content to providing hands-on support and mentorship. Their involvement helps ensure that the program remains at the forefront of research training, equipping participants with the skills necessary to conduct efficient and reproducible research. The collaborative ethos of the CfRR program is embodied in the RSE team's approach, which emphasizes teamwork, innovation, and continuous improvement. More information about the RSE team can be found [here](https://www.exeter.ac.uk/research/research-software-and-analytics/meetthersegroup/). \n",
    "- **Academics**\n",
    "    - Academics play a vital role in the Coding for Reproducible Research (CfRR) program at the University of Exeter. Their involvement ensures that the program delivers high-quality, up-to-date training across a broad range of topics essential for modern research. These experts contribute their extensive knowledge and experience across a range of fields, helping to create and deliver comprehensive course materials. The CfRR program benefits greatly from the active participation of academics who are passionate about enhancing the research capabilities of their colleagues and students. The collaborative environment of the CfRR program allows academics to work alongside Research Software Engineers (RSEs) and other professionals, creating a rich learning experience for all participants. "
   ]
  },
  {
   "cell_type": "markdown",
   "id": "949413c7-34a1-4cfd-8981-9165db65d10d",
   "metadata": {
    "editable": true,
    "slideshow": {
     "slide_type": ""
    },
    "tags": []
   },
   "source": [
    "## Contributors\n",
    "This table highlights the involvement of our contributors in various aspects of our courses. Each row lists a contributor’s name along with indicators showing their participation in different roles, such as leading workshops, assisting with workshops, and developing course content. The presence of an emoji (✅) signifies their active contribution in the respective area, offering a quick and visual representation of their commitment and engagement."
   ]
  },
  {
   "cell_type": "code",
   "execution_count": 14,
   "id": "4b7546c1-35da-49d5-8873-d46303966f39",
   "metadata": {
    "editable": true,
    "slideshow": {
     "slide_type": ""
    },
    "tags": [
     "remove-input"
    ]
   },
   "outputs": [
    {
     "data": {
      "text/html": [
       "\n",
       "<style>\n",
       "    .center-table {\n",
       "        margin-left: auto;\n",
       "        margin-right: auto;\n",
       "        width: 80%;\n",
       "        font-size: 1.5em;\n",
       "        text-align: center;\n",
       "    }\n",
       "    .center-table th, .center-table td {\n",
       "        padding: 10px;\n",
       "    }\n",
       "</style>\n",
       "<table class=\"center-table\">\n",
       "    <tr>\n",
       "        <th>Name</th>\n",
       "        <th>Has Led a Workshop</th>\n",
       "        <th>Helped To Deliver A Workshop</th>\n",
       "        <th>Developed Course Content</th>\n",
       "    </tr>\n",
       "\n",
       "    <tr>\n",
       "        <td>Eilis Hannon</td>\n",
       "        <td>✅</td>\n",
       "        <td>✅</td>\n",
       "        <td>✅</td>\n",
       "    </tr>\n",
       "    \n",
       "    <tr>\n",
       "        <td>Fliss Guest </td>\n",
       "        <td>✅</td>\n",
       "        <td>✅</td>\n",
       "        <td>✅</td>\n",
       "    </tr>\n",
       "    \n",
       "    <tr>\n",
       "        <td>Liam Berrisford</td>\n",
       "        <td></td>\n",
       "        <td>✅</td>\n",
       "        <td>✅</td>\n",
       "    </tr>\n",
       "    </table>"
      ],
      "text/plain": [
       "<IPython.core.display.HTML object>"
      ]
     },
     "metadata": {},
     "output_type": "display_data"
    }
   ],
   "source": [
    "import pandas as pd\n",
    "from IPython.display import display, HTML\n",
    "\n",
    "# Function to convert Yes values to emojis\n",
    "def convert_to_emoji(value):\n",
    "    return '✅' if value == 'Yes' else ''\n",
    "\n",
    "# Read the CSV file\n",
    "file_path = 'contributor_details.csv'  # Replace with your actual file path\n",
    "df = pd.read_csv(file_path)\n",
    "\n",
    "# Create HTML content\n",
    "html_content = \"\"\"\n",
    "<style>\n",
    "    .center-table {\n",
    "        margin-left: auto;\n",
    "        margin-right: auto;\n",
    "        width: 80%;\n",
    "        font-size: 1.5em;\n",
    "        text-align: center;\n",
    "    }\n",
    "    .center-table th, .center-table td {\n",
    "        padding: 10px;\n",
    "    }\n",
    "</style>\n",
    "<table class=\"center-table\">\n",
    "    <tr>\n",
    "        <th>Name</th>\n",
    "        <th>Has Led a Workshop</th>\n",
    "        <th>Helped To Deliver A Workshop</th>\n",
    "        <th>Developed Course Content</th>\n",
    "    </tr>\n",
    "\"\"\"\n",
    "\n",
    "for _, row in df.iterrows():\n",
    "    name = row['Name']\n",
    "    lead_workshop = convert_to_emoji(row['Lead Workshop'])\n",
    "    help_with_workshop = convert_to_emoji(row['Help With Workshop'])\n",
    "    develop_course_content = convert_to_emoji(row['Develop Course Content'])\n",
    "    html_content += f\"\"\"\n",
    "    <tr>\n",
    "        <td>{name}</td>\n",
    "        <td>{lead_workshop}</td>\n",
    "        <td>{help_with_workshop}</td>\n",
    "        <td>{develop_course_content}</td>\n",
    "    </tr>\n",
    "    \"\"\"\n",
    "\n",
    "html_content += \"</table>\"\n",
    "\n",
    "# Display the HTML content\n",
    "display(HTML(html_content))"
   ]
  },
  {
   "cell_type": "markdown",
   "id": "b335aec6-a9c6-4c95-ac7d-f2e4caff2b99",
   "metadata": {
    "editable": true,
    "slideshow": {
     "slide_type": ""
    },
    "tags": []
   },
   "source": [
    "## Acknowledgements\n",
    "This training programme is brought to you by:\n",
    "\n",
    "- [The University of Exeter Research Software Engineering Group](https://www.exeter.ac.uk/research/research-software-and-analytics/meetthersegroup/)\n",
    "- [The University of Exeter Researcher Development Programme](https://www.exeter.ac.uk/research/doctoralcollege/researcherdevelopment/)\n",
    "- [The University of Exeter Doctoral College](https://www.exeter.ac.uk/research/doctoralcollege/)\n",
    "\n",
    "CfRR would also like to acknowledge an EPSRC Research Software Engineering Fellowship awarded to Dr Eilis Hannon. \n",
    "\n",
    "The stakeholders for CfRR include: \n",
    "- [Institute for Data Science and Artificial Intelligence (IDSAI)](https://www.exeter.ac.uk/research/institutes/idsai/), the [Doctoral College](https://www.exeter.ac.uk/research/doctoralcollege/) and [Exeter Reproducibility Leadership Team](https://www.exeter.ac.uk/research/openresearch/reproducibility/ukrnteam/)\n",
    "- [University of Exeter Research Software and Analytics Group](https://www.exeter.ac.uk/research/research-software-and-analytics/)"
   ]
  },
  {
   "cell_type": "markdown",
   "id": "67559fed-6540-43fc-abe5-54097dd89be5",
   "metadata": {},
   "source": [
    "## History of the Programme \n",
    "The CfRR initiative arose due to a lack of centralised provision for programming training. This gap was recognised through a clear demand for such training. The programme was able to get off the ground through support from an RSE fellowship awarded to Dr Hannon, the support of an RSE (Research Software Engineering) team, and the university's recent membership into the UK reproducibility network.\n",
    "\n",
    "## Why We Started CfRR\n",
    "This initiative aims to become Exeter's recognised authority on all training related to conducting reproducible and open research. This goal is not only to enhance the quality of research but also to offer the additional benefit of upskilling, which can significantly boost our research capabilities and enhance individual employability. Ultimately, the vision is to be recognised nationally and internationally for delivering exemplary training. This training will be characterised by a strong commitment to innovative pedagogical methods, ensuring we remain at the forefront of educational excellence in this crucial area.\n",
    "\n",
    "## Ambitions for the Future\n",
    "Moving forward, our focus is on continuing to deliver effective workshops while transitioning away from hybrid delivery formats. To achieve this, we aim to build strength and depth within our delivery team, ensuring we have a robust and capable group of instructors.\n",
    "\n",
    "We plan to expand our offerings by developing more workshops that cover intermediate and advanced topics. This expansion will be supported by the launch of a new central website (this website!), which will provide asynchronous support for learners. The website will feature self-guided study notes and guidance to help participants determine which workshops are most relevant to their needs.\n",
    "\n",
    "Furthermore, we will embed a research strand into the program to inform best practices in this area, with a particular emphasis on ethics. An additional initiative involves developing a tool to capture and address programming anxiety, thereby supporting learners' emotional and psychological well-being."
   ]
  },
  {
   "cell_type": "markdown",
   "id": "5797e18c-3ef9-429b-83d5-d72e364b8817",
   "metadata": {},
   "source": [
    "## Our Successes To Date\n",
    "This year, we successfully delivered 28 iterations of 21 workshops, introducing 8 new ones. Our offerings include beginner, intermediate, and advanced training across a wide range of topics, catering to various skill levels and interests.\n",
    "\n",
    "We have had over 1,600 registrations, with 40% of participants enrolling in multiple courses, indicating strong engagement and satisfaction with our programs. In fact, 86% of participants reported being extremely or very satisfied with their workshop experience.\n",
    "\n",
    "Our delivery team comprises 14 members from the RSE (Research Software Engineering) team and 20 academics, showcasing a collaborative and interdisciplinary approach to training. Additionally, we have dedicated 0.4 Full-Time Equivalent (FTE) for an administrator (Anne) and 0.5 FTE for an RSE (Liam), specifically focused on training, ensuring that we have the necessary support and resources to maintain the quality and effectiveness of our workshops."
   ]
  },
  {
   "cell_type": "code",
   "execution_count": null,
   "id": "bfff7584-4579-4764-9f39-2676ab2bfc67",
   "metadata": {},
   "outputs": [],
   "source": []
  }
 ],
 "metadata": {
  "jupyter": {
   "classes": [
    [
     "no-next"
    ]
   ],
   "hide_navbar": true
  },
  "kernelspec": {
   "display_name": "Python 3 (ipykernel)",
   "language": "python",
   "name": "python3"
  },
  "language_info": {
   "codemirror_mode": {
    "name": "ipython",
    "version": 3
   },
   "file_extension": ".py",
   "mimetype": "text/x-python",
   "name": "python",
   "nbconvert_exporter": "python",
   "pygments_lexer": "ipython3",
   "version": "3.9.19"
  },
  "panel-cell-order": [
   "a20e3b3b-cdf3-432d-881b-a1ff96f93c34",
   "82ab98d7-09bc-46f2-bf07-4de98b524834"
  ]
 },
 "nbformat": 4,
 "nbformat_minor": 5
}
