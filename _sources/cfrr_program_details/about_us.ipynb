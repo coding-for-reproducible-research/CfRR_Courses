{
 "cells": [
  {
   "cell_type": "markdown",
   "id": "a20e3b3b-cdf3-432d-881b-a1ff96f93c34",
   "metadata": {
    "editable": true,
    "panel-layout": {
     "height": 60.59375,
     "visible": true,
     "width": 100
    },
    "slideshow": {
     "slide_type": ""
    },
    "tags": []
   },
   "source": [
    "# About Us"
   ]
  },
  {
   "cell_type": "markdown",
   "id": "82ab98d7-09bc-46f2-bf07-4de98b524834",
   "metadata": {
    "editable": true,
    "panel-layout": {
     "height": 188.265625,
     "visible": true,
     "width": 100
    },
    "slideshow": {
     "slide_type": ""
    },
    "tags": []
   },
   "source": [
    "Coding for Reproducible Research is a training programme that provides a series of workshops to support researchers at the University of Exeter in expanding their skill sets and positioning them to confidently perform informatics research projects efficiently and in a reproducible way. The program provides training on specific languages, such as [Python](individual_modules/section_landing_pages/introduction_to_python.md), [R](individual_modules/section_landing_pages/introduction_to_r.md), and [Unix/Linux](individual_modules/section_landing_pages/introduction_to_unix.md), alongside training relating to good practice and reproducible working methods designed to be agnostic of programming language. In this way, we offer a holistic perspective on how programming tasks should be approached, ultimately providing researchers with the tools and knowledge to feel confident in what they are doing. All workshops are open to any staff or student from any college or department and accessible from any campus."
   ]
  },
  {
   "cell_type": "markdown",
   "id": "103146ed-f770-4189-b421-654cdbbcce9b",
   "metadata": {
    "editable": true,
    "slideshow": {
     "slide_type": ""
    },
    "tags": []
   },
   "source": [
    "## Cora CfRR Team \n",
    "- **Programme Management: Dr Eilis Hannon**\n",
    "- **Programme Management: Dr Fliss Guest**\n",
    "- **Administrator: Anne Bell**\n",
    "- **Training Focused Research Software Engineer (RSE): Liam Berrisford**\n",
    "- **Wider RSE Team**\n",
    "- **Academics**"
   ]
  },
  {
   "cell_type": "markdown",
   "id": "99010dc1-3b00-4134-bbe1-51532946a0b6",
   "metadata": {
    "editable": true,
    "slideshow": {
     "slide_type": ""
    },
    "tags": []
   },
   "source": [
    "## Contributors\n",
    "\n"
   ]
  },
  {
   "cell_type": "markdown",
   "id": "67559fed-6540-43fc-abe5-54097dd89be5",
   "metadata": {},
   "source": [
    "## History of the Programme \n",
    "The CfRR initiative arose due to a lack of centralised provision for programming training. This gap was recognised through a clear demand for such training. The programme was able to get off the ground through support from an RSE fellowship awarded to Dr Hannon, the support of an RSE (Research Software Engineering) team, and the university's recent membership into the UK reproducibility network.\n",
    "\n",
    "## Why We Started CfRR\n",
    "This initiative aims to become Exeter's recognised authority on all training related to conducting reproducible and open research. This goal is not only to enhance the quality of research but also to offer the additional benefit of upskilling, which can significantly boost our research capabilities and enhance individual employability. Ultimately, the vision is to be recognised nationally and internationally for delivering exemplary training. This training will be characterised by a strong commitment to innovative pedagogical methods, ensuring we remain at the forefront of educational excellence in this crucial area.\n",
    "\n",
    "## Ambitions for the Future\n",
    "Moving forward, our focus is on continuing to deliver effective workshops while transitioning away from hybrid delivery formats. To achieve this, we aim to build strength and depth within our delivery team, ensuring we have a robust and capable group of instructors.\n",
    "\n",
    "We plan to expand our offerings by developing more workshops that cover intermediate and advanced topics. This expansion will be supported by the launch of a new central website (this website!), which will provide asynchronous support for learners. The website will feature self-guided study notes and guidance to help participants determine which workshops are most relevant to their needs.\n",
    "\n",
    "Furthermore, we will embed a research strand into the program to inform best practices in this area, with a particular emphasis on ethics. An additional initiative involves developing a tool to capture and address programming anxiety, thereby supporting learners' emotional and psychological well-being."
   ]
  },
  {
   "cell_type": "markdown",
   "id": "5797e18c-3ef9-429b-83d5-d72e364b8817",
   "metadata": {},
   "source": [
    "## Our Successes To Date\n",
    "This year, we successfully delivered 28 iterations of 21 workshops, introducing 8 new ones. Our offerings include beginner, intermediate, and advanced training across a wide range of topics, catering to various skill levels and interests.\n",
    "\n",
    "We have had over 1,600 registrations, with 40% of participants enrolling in multiple courses, indicating strong engagement and satisfaction with our programs. In fact, 86% of participants reported being extremely or very satisfied with their workshop experience.\n",
    "\n",
    "Our delivery team comprises 14 members from the RSE (Research Software Engineering) team and 20 academics, showcasing a collaborative and interdisciplinary approach to training. Additionally, we have dedicated 0.4 Full-Time Equivalent (FTE) for an administrator (Anne) and 0.5 FTE for an RSE (Liam), specifically focused on training, ensuring that we have the necessary support and resources to maintain the quality and effectiveness of our workshops."
   ]
  },
  {
   "cell_type": "code",
   "execution_count": null,
   "id": "bfff7584-4579-4764-9f39-2676ab2bfc67",
   "metadata": {},
   "outputs": [],
   "source": []
  }
 ],
 "metadata": {
  "jupyter": {
   "classes": [
    [
     "no-next"
    ]
   ],
   "hide_navbar": true
  },
  "kernelspec": {
   "display_name": "Python 3 (ipykernel)",
   "language": "python",
   "name": "python3"
  },
  "language_info": {
   "codemirror_mode": {
    "name": "ipython",
    "version": 3
   },
   "file_extension": ".py",
   "mimetype": "text/x-python",
   "name": "python",
   "nbconvert_exporter": "python",
   "pygments_lexer": "ipython3",
   "version": "3.9.19"
  },
  "panel-cell-order": [
   "a20e3b3b-cdf3-432d-881b-a1ff96f93c34",
   "82ab98d7-09bc-46f2-bf07-4de98b524834"
  ]
 },
 "nbformat": 4,
 "nbformat_minor": 5
}
