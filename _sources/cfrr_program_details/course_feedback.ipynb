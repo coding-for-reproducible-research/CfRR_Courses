{
 "cells": [
  {
   "cell_type": "markdown",
   "id": "87ec89e9-8387-4daa-99f0-34203c41a9f8",
   "metadata": {},
   "source": [
    "# Course Feedback\n",
    "If you have recently attended a Coding for Reproducible Research (CfRR) course then please fill out the following form to help provide us with insight into how the course is being recieved by attendees. Having actional infomration about the quality of the CfRR courses is key to improving them for future attendees.\n",
    "\n",
    "<iframe width=\"100%\" height=\"2450px\" src=\"https://forms.office.com/Pages/ResponsePage.aspx?id=d10qkZj77k6vMhM02PBKU1p5IkKpVbtNkGlRxe_xSUNUNERTSEY1SDRTTzBWSVQ3VkpBM0QyREI5SC4u&embed=true\" frameborder=\"0\" marginwidth=\"0\" marginheight=\"0\" style=\"border: none;\" allowfullscreen webkitallowfullscreen mozallowfullscreen msallowfullscreen> </iframe>"
   ]
  }
 ],
 "metadata": {
  "kernelspec": {
   "display_name": "Python 3 (ipykernel)",
   "language": "python",
   "name": "python3"
  },
  "language_info": {
   "codemirror_mode": {
    "name": "ipython",
    "version": 3
   },
   "file_extension": ".py",
   "mimetype": "text/x-python",
   "name": "python",
   "nbconvert_exporter": "python",
   "pygments_lexer": "ipython3",
   "version": "3.9.19"
  }
 },
 "nbformat": 4,
 "nbformat_minor": 5
}
