{
 "cells": [
  {
   "cell_type": "markdown",
   "id": "866180fb-e8e3-4db8-ac58-760996bfbffc",
   "metadata": {
    "editable": true,
    "slideshow": {
     "slide_type": ""
    },
    "tags": []
   },
   "source": [
    "# Computational Thinking\n",
    "\n",
    "The following set of courses discuss Computational Thinking. The details for each of the courses can be found on their respective pages. "
   ]
  },
  {
   "cell_type": "code",
   "execution_count": null,
   "id": "405e2487-a0a0-46a5-ae07-09555bd7f90f",
   "metadata": {
    "editable": true,
    "slideshow": {
     "slide_type": ""
    },
    "tags": []
   },
   "outputs": [],
   "source": []
  }
 ],
 "metadata": {
  "kernelspec": {
   "display_name": "Python 3 (ipykernel)",
   "language": "python",
   "name": "python3"
  },
  "language_info": {
   "codemirror_mode": {
    "name": "ipython",
    "version": 3
   },
   "file_extension": ".py",
   "mimetype": "text/x-python",
   "name": "python",
   "nbconvert_exporter": "python",
   "pygments_lexer": "ipython3",
   "version": "3.9.19"
  }
 },
 "nbformat": 4,
 "nbformat_minor": 5
}
