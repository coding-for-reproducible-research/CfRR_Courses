{
 "cells": [
  {
   "cell_type": "markdown",
   "id": "549301f1-66b2-4fcb-a54e-f44c347d2924",
   "metadata": {},
   "source": [
    "# High Performance Computing\n",
    "The following sub-section presents quizzes related to the High Performance Computing courses offered through CfRR. These quizzes are intended to provide you with a way of assessing if the courses are correctly aimed at you. If you can complete the quiz corresponding to a given course, then it is likely that the course will not provide any utility to you attending. "
   ]
  },
  {
   "cell_type": "code",
   "execution_count": null,
   "id": "e8598e67-e30e-40de-9fbd-a182edc1dfac",
   "metadata": {},
   "outputs": [],
   "source": []
  }
 ],
 "metadata": {
  "kernelspec": {
   "display_name": "Python 3 (ipykernel)",
   "language": "python",
   "name": "python3"
  },
  "language_info": {
   "codemirror_mode": {
    "name": "ipython",
    "version": 3
   },
   "file_extension": ".py",
   "mimetype": "text/x-python",
   "name": "python",
   "nbconvert_exporter": "python",
   "pygments_lexer": "ipython3",
   "version": "3.9.19"
  }
 },
 "nbformat": 4,
 "nbformat_minor": 5
}
