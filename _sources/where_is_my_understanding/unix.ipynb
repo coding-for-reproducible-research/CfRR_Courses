{
 "cells": [
  {
   "cell_type": "markdown",
   "id": "c94f6b62-20ce-49c7-b43e-ed728e5fec2d",
   "metadata": {},
   "source": [
    "# UNIX\n",
    "The following sub-section presents quizzes related to the UNIX courses offered through CfRR. These quizzes are intended to provide you with a way of assessing if the courses are correctly aimed at you. If you can complete the quiz corresponding to a given course, then it is likely that the course will not provide any utility to you attending. "
   ]
  },
  {
   "cell_type": "code",
   "execution_count": null,
   "id": "444da8b2-28e4-4dae-8c19-e27524fffea6",
   "metadata": {},
   "outputs": [],
   "source": []
  }
 ],
 "metadata": {
  "kernelspec": {
   "display_name": "Python 3 (ipykernel)",
   "language": "python",
   "name": "python3"
  },
  "language_info": {
   "codemirror_mode": {
    "name": "ipython",
    "version": 3
   },
   "file_extension": ".py",
   "mimetype": "text/x-python",
   "name": "python",
   "nbconvert_exporter": "python",
   "pygments_lexer": "ipython3",
   "version": "3.9.19"
  }
 },
 "nbformat": 4,
 "nbformat_minor": 5
}
