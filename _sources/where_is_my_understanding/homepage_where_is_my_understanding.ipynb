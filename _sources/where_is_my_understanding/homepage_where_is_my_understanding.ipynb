{
 "cells": [
  {
   "cell_type": "markdown",
   "id": "04e07d43-4bb6-47ad-98a4-6f123831e3fb",
   "metadata": {
    "editable": true,
    "slideshow": {
     "slide_type": ""
    },
    "tags": []
   },
   "source": [
    "# Where Is My Understanding Quizzes \n",
    "\n",
    "Welcome to our interactive quizzes, designed to help you understand and decide which Coding for Reproducible Courses would be best for you! Here, you can engage with a variety of quizzes across multiple modules to gauge your understanding and affinity for different subjects. This resource aims to empower you to make informed decisions about which modules to pursue based on your strengths and interests.\n",
    "\n",
    "Of note, is that all of the quizes are aimed at testing your understanding of the content that is covered within a given course. There is no defined threshold where we believe you should attend the course if you score below. Rather it is aimed to make you engage with the content and reflect for yourself if you feel you would benefit from attending the course. Of note, is that the quiz is intended for you to use google throuhgout and engage with documentation. Even if you get all of the questions right, you are ofcourse more than welcome to still attend the course and use it as a refresher!"
   ]
  }
 ],
 "metadata": {
  "kernelspec": {
   "display_name": "Python 3 (ipykernel)",
   "language": "python",
   "name": "python3"
  },
  "language_info": {
   "codemirror_mode": {
    "name": "ipython",
    "version": 3
   },
   "file_extension": ".py",
   "mimetype": "text/x-python",
   "name": "python",
   "nbconvert_exporter": "python",
   "pygments_lexer": "ipython3",
   "version": "3.9.19"
  }
 },
 "nbformat": 4,
 "nbformat_minor": 5
}
