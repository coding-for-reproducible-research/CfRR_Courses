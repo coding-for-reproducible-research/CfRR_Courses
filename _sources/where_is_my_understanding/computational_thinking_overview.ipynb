{
 "cells": [
  {
   "cell_type": "markdown",
   "id": "857f94be-8ba0-4155-b188-142f49723492",
   "metadata": {},
   "source": [
    "# Computational Thinking\n",
    "The following sub-section presents quizzes related to the Computational Thinking courses offered through CfRR. These quizzes are intended to provide you with a way of assessing if the courses are correctly aimed at you. If you can complete the quiz corresponding to a given course, then it is likely that the course will not provide any utility to you attending. "
   ]
  },
  {
   "cell_type": "code",
   "execution_count": null,
   "id": "9f4fa438-5cf8-4552-8a26-aad11bb14f5b",
   "metadata": {},
   "outputs": [],
   "source": []
  }
 ],
 "metadata": {
  "kernelspec": {
   "display_name": "Python 3 (ipykernel)",
   "language": "python",
   "name": "python3"
  },
  "language_info": {
   "codemirror_mode": {
    "name": "ipython",
    "version": 3
   },
   "file_extension": ".py",
   "mimetype": "text/x-python",
   "name": "python",
   "nbconvert_exporter": "python",
   "pygments_lexer": "ipython3",
   "version": "3.9.19"
  }
 },
 "nbformat": 4,
 "nbformat_minor": 5
}
