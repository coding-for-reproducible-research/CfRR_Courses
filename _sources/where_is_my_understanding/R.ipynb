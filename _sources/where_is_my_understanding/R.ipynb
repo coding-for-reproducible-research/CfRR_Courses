{
 "cells": [
  {
   "cell_type": "markdown",
   "id": "6a3d7856-00d6-4ae2-94ac-7e39f8c614e4",
   "metadata": {},
   "source": [
    "# R\n",
    "The following sub-section presents quizzes related to the R courses offered through CfRR. These quizzes are intended to provide you with a way of assessing if the courses are correctly aimed at you. If you can complete the quiz corresponding to a given course, then it is likely that the course will not provide any utility to you attending. "
   ]
  },
  {
   "cell_type": "code",
   "execution_count": null,
   "id": "7cc001cc-c579-4d11-82b0-fac85674406f",
   "metadata": {},
   "outputs": [],
   "source": []
  }
 ],
 "metadata": {
  "kernelspec": {
   "display_name": "Python 3 (ipykernel)",
   "language": "python",
   "name": "python3"
  },
  "language_info": {
   "codemirror_mode": {
    "name": "ipython",
    "version": 3
   },
   "file_extension": ".py",
   "mimetype": "text/x-python",
   "name": "python",
   "nbconvert_exporter": "python",
   "pygments_lexer": "ipython3",
   "version": "3.9.19"
  }
 },
 "nbformat": 4,
 "nbformat_minor": 5
}
