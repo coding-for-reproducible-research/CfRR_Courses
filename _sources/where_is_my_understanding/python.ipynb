{
 "cells": [
  {
   "cell_type": "markdown",
   "id": "8db13a8d-ce42-445a-80e3-f8c2cb5e79f2",
   "metadata": {},
   "source": [
    "# Python\n",
    "The following sub-section presents quizzes related to the Python courses offered through CfRR. These quizzes are intended to provide you with a way of assessing if the courses are correctly aimed at you. If you can complete the quiz corresponding to a given course, then it is likely that the course will not provide any utility to you attending. "
   ]
  }
 ],
 "metadata": {
  "kernelspec": {
   "display_name": "Python 3 (ipykernel)",
   "language": "python",
   "name": "python3"
  },
  "language_info": {
   "codemirror_mode": {
    "name": "ipython",
    "version": 3
   },
   "file_extension": ".py",
   "mimetype": "text/x-python",
   "name": "python",
   "nbconvert_exporter": "python",
   "pygments_lexer": "ipython3",
   "version": "3.9.19"
  }
 },
 "nbformat": 4,
 "nbformat_minor": 5
}
