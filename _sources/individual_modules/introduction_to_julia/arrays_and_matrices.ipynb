{
 "cells": [
  {
   "cell_type": "markdown",
   "id": "ae3f4d0c-a06b-42ee-aa89-cb48f0b73dc8",
   "metadata": {
    "editable": true,
    "slideshow": {
     "slide_type": ""
    },
    "tags": []
   },
   "source": [
    "# Arrays and Matrices \n",
    "## Learning Objectives\n",
    "- Understand the concept of arrays and matrices in Julia\n",
    "- Create and initialise one-dimensional and multi-dimensional arrays\n",
    "- Utilize various array creation functions in Julia\n",
    "- Perform basic manipulations such as indexing and slicing on arrays\n",
    "- Implement common operations on arrays and matrices \n",
    "\n",
    "## Arrays \n",
    "Arrays are a fundamental data structure within Julia, used to store collection of elements.\n",
    "### One-Dimensional Arrays \n",
    "One-dimensional arrays, also known as vector, can be created sing square brackets, as seen below.\n",
    "#### Declare and Initialise "
   ]
  },
  {
   "cell_type": "code",
   "execution_count": 1,
   "id": "1a2b1b68-59a8-46fd-96bb-02df71ce48c6",
   "metadata": {},
   "outputs": [
    {
     "name": "stdout",
     "output_type": "stream",
     "text": [
      "[1, 2, 3]\n"
     ]
    }
   ],
   "source": [
    "\n",
    "a = [1,2,3]\n",
    "println(a)"
   ]
  },
  {
   "cell_type": "markdown",
   "id": "a7185942-a343-4024-83a6-76c5ac221a2c",
   "metadata": {},
   "source": [
    "#### Constructor\n",
    "It is also possible to make use of the `Array` constructor, allowing for more control over the arrays properties, relevant to when considering specific performance elements. The use of the constructor can be helpful in situations where performance is needed as to allow for the array to remain unitiatilised until the final values are put into the array, and not requiring the array to be populated with zeros and ones until that time arrives. \n",
    "\n",
    "The code below creates an uninitialized arrays of integers with 5 elements. If you print the values for the array you will get a different "
   ]
  },
  {
   "cell_type": "code",
   "execution_count": 5,
   "id": "75b13847-cf7f-40bc-b69d-225303b6f46f",
   "metadata": {},
   "outputs": [
    {
     "name": "stdout",
     "output_type": "stream",
     "text": [
      "[5288981504, 5288981504, 5288981504, 5288981504, 0]\n"
     ]
    }
   ],
   "source": [
    "b = Array{Int}(undef, 3)\n",
    "println(b)"
   ]
  },
  {
   "cell_type": "markdown",
   "id": "f806f17f-f65f-4af0-8716-0892be608684",
   "metadata": {},
   "source": [
    "#### Rnages and Comprehension \n",
    "It is also possible to create arrays with the use of ranges and comprehension as seen below. If the value of `c` is printed as it is, it will give a `UnitRange` object, the `collect` function is able to convert the range into an array, which then gives the format seen before when printing the variable. "
   ]
  },
  {
   "cell_type": "code",
   "execution_count": 21,
   "id": "9f6f48a7-312d-4767-a803-53032e82488c",
   "metadata": {},
   "outputs": [
    {
     "name": "stdout",
     "output_type": "stream",
     "text": [
      "1:3\n",
      "[1, 2, 3]\n",
      "[1, 2, 3]\n"
     ]
    }
   ],
   "source": [
    "c = 1:3 #Range\n",
    "println(c)\n",
    "println(collect(c))\n",
    "d = [i for i in 1:3] #Comprehension\n",
    "println(d)"
   ]
  },
  {
   "cell_type": "markdown",
   "id": "1a8cc14f-6ea4-45de-9a59-424af90e44f6",
   "metadata": {},
   "source": [
    "#### Common Array Creation Functions \n",
    "There are a number of different functions within Julia that are able to create arrays that are based on common formats such as:\n",
    "- **Zeros**: `zeros()` creates a matrix of zeros based on the dimensions specified.\n",
    "- **Ones**: `ones()` creates a matrix of ones based on the dimensions specified.\n",
    "- **Random \\[0,1\\]**: `rand()` creates a matrix of random numbers between 0 and 1 based on the dimensions specified.\n",
    "- **Random Normally Distributed**: `randn()` creates a matrix of random numbers that are normally distributed based on the dimensions specified.  "
   ]
  },
  {
   "cell_type": "code",
   "execution_count": 23,
   "id": "b19c4741-d47b-4578-9ae8-eda009400367",
   "metadata": {},
   "outputs": [
    {
     "name": "stdout",
     "output_type": "stream",
     "text": [
      "Array of zeroes: [0.0, 0.0, 0.0]\n",
      "Array of ones: [1.0, 1.0, 1.0]\n",
      "Array of random values between 0 and 1: [0.9211204080959933, 0.21859837290202477, 0.6479622631097238]\n",
      "Array of random values normally distributed: :[-1.5830105669798484, 0.34365184518873737, 1.1434737668472543]\n"
     ]
    }
   ],
   "source": [
    "zeros_a = zeros(3)\n",
    "println(\"Array of zeroes: \", zeros_a)\n",
    "\n",
    "ones_a = ones(3)\n",
    "println(\"Array of ones: \", ones_a)\n",
    "\n",
    "rand_a = rand(3)\n",
    "println(\"Array of random values between 0 and 1: \", rand_a)\n",
    "\n",
    "randn_a = randn(3)\n",
    "println(\"Array of random values normally distributed: :\", randn_a)"
   ]
  },
  {
   "cell_type": "markdown",
   "id": "86a96d45-40a8-4d57-80d3-2c8ec7006dcc",
   "metadata": {},
   "source": [
    "### Multi-Dimensional Arrays \n",
    "Multi-dimensional arrays can be created in a similar manner as vector, with the syntax as follows to create a three by three matrix."
   ]
  },
  {
   "cell_type": "code",
   "execution_count": 17,
   "id": "a0fe7a7c-fb07-475e-8093-70219294b039",
   "metadata": {},
   "outputs": [
    {
     "name": "stdout",
     "output_type": "stream",
     "text": [
      "[1 2 3; 4 5 6; 7 8 9]\n"
     ]
    }
   ],
   "source": [
    "b = [1 2 3; 4 5 6; 7 8 9]\n",
    "println(b)"
   ]
  },
  {
   "cell_type": "markdown",
   "id": "6b05c9a8-9f1b-4485-b7a0-9e60ef452ae6",
   "metadata": {},
   "source": [
    "All of the previous methods for creating a one-dimensional array can be used to create a two-dimensional array, such as below."
   ]
  },
  {
   "cell_type": "code",
   "execution_count": 19,
   "id": "fcd01d2d-6a41-4d3f-97b6-c8ffc34bf890",
   "metadata": {},
   "outputs": [
    {
     "name": "stdout",
     "output_type": "stream",
     "text": [
      "[13068695152 5328927200 13068694512; 4298229872 13068695312 5330123136; 4298227720 4298231024 0]\n"
     ]
    }
   ],
   "source": [
    "b = Array{Int}(undef, 3, 3 )\n",
    "println(b)"
   ]
  },
  {
   "cell_type": "code",
   "execution_count": 20,
   "id": "3370bb10-5034-4c91-b3bd-b5a6e90c2c22",
   "metadata": {},
   "outputs": [
    {
     "name": "stdout",
     "output_type": "stream",
     "text": [
      "Array of zeroes: [0.0 0.0 0.0; 0.0 0.0 0.0; 0.0 0.0 0.0]\n",
      "Array of ones: [1.0 1.0 1.0; 1.0 1.0 1.0; 1.0 1.0 1.0]\n",
      "Array of random values between 0 and 1: [0.4344901162658211 0.12016405686125153 0.5163361722350794; 0.27309606604908243 0.33707453186083436 0.12897967820773593; 0.3638697535983929 0.33234882476239824 0.9725342484111058]\n",
      "Array of random values normally distributed: :[0.3599868335039648 -1.7324983872796258 0.5335426859739404; 0.9597702701198646 1.3589689913664549 0.8503624020431969; -1.764525511350084 -0.5981769209816526 -0.2306590229156192]\n"
     ]
    }
   ],
   "source": [
    "zeros_a = zeros(3,3)\n",
    "println(\"Array of zeroes: \", zeros_a)\n",
    "\n",
    "ones_a = ones(3,3)\n",
    "println(\"Array of ones: \", ones_a)\n",
    "\n",
    "rand_a = rand(3,3)\n",
    "println(\"Array of random values between 0 and 1: \", rand_a)\n",
    "\n",
    "randn_a = randn(3,3)\n",
    "println(\"Array of random values normally distributed: :\", randn_a)"
   ]
  },
  {
   "cell_type": "markdown",
   "id": "1818b8cb-44f5-4f95-8625-e017d72291f5",
   "metadata": {},
   "source": [
    "### Manipulation of Arrays \n",
    "Manipulating arrays involved accessing and modifying their elements, as well as performing various operations on them. \n",
    "\n",
    "#### Indexing\n",
    "Square brackets with indices can be used to access specific elements. Of note is that in Julia indexesing starts at 1."
   ]
  },
  {
   "cell_type": "code",
   "execution_count": 34,
   "id": "57ec7408-b0ad-4abb-95c5-0600b1a9d8d9",
   "metadata": {
    "editable": true,
    "slideshow": {
     "slide_type": ""
    },
    "tags": []
   },
   "outputs": [
    {
     "name": "stdout",
     "output_type": "stream",
     "text": [
      "30\n",
      "80\n"
     ]
    }
   ],
   "source": [
    "a = [10,20,30,40,50]\n",
    "println(a[3]) # Indexing for one dimensional arrays \n",
    "\n",
    "b = [10 20 30 40 50;60 70 80 90 100]\n",
    "println(b[2,3])"
   ]
  }
 ],
 "metadata": {
  "kernelspec": {
   "display_name": "Julia 1.10.3",
   "language": "julia",
   "name": "julia-1.10"
  },
  "language_info": {
   "file_extension": ".jl",
   "mimetype": "application/julia",
   "name": "julia",
   "version": "1.10.3"
  }
 },
 "nbformat": 4,
 "nbformat_minor": 5
}
