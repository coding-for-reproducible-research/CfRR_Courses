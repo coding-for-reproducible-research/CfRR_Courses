{
 "cells": [
  {
   "cell_type": "markdown",
   "id": "64164ed2-1c6b-4a76-979c-0950610e2e74",
   "metadata": {
    "editable": true,
    "slideshow": {
     "slide_type": ""
    },
    "tags": []
   },
   "source": [
    "# Numpy\n",
    "\n",
    "## Learning Objectives\n",
    "- Understand the fundamental concepts and benefits of using NumPy for scientific computing\n",
    "- Create and initialize NumPy arrays from various data sources, including lists and files\n",
    "- Perform file operations such as saving and loading NumPy arrays to and from different file formats\n",
    "- Manipulate and analyze data using array attributed and method\n",
    "- Execute arithmetic operations, including matrix and statistical operation, on NumPy arrays\n",
    "- Apply advanced techniques such as array slicing, indexing, and broadcasting to efficiently handle large datasets "
   ]
  },
  {
   "cell_type": "markdown",
   "id": "81cf4640-0ca8-4910-952f-a1495f851b19",
   "metadata": {},
   "source": [
    "## What is Numpy?\n",
    "Numpy is a key Python package for scientific computing. Numpy provides support for large, multi-dimensional arrays and matrices, alongside mathematical functions to operate on these arrays, with applications across numerical analysis, linear algebra, Fourier transform and random number capabilities. \n",
    "\n",
    "\n",
    "### Importing Numpy \n",
    "The first step is to import the package into the current environment."
   ]
  },
  {
   "cell_type": "code",
   "execution_count": 1,
   "id": "8c829af7-5d2a-4d26-8ddf-d24a7c396a7f",
   "metadata": {},
   "outputs": [],
   "source": [
    "import numpy as np"
   ]
  },
  {
   "cell_type": "markdown",
   "id": "ad4be977-dc8c-4451-886f-eeff79afbdf1",
   "metadata": {},
   "source": [
    "## Understanding Data Types and Arrays \n",
    "\n",
    "### Array Creation\n",
    "The main data structure within numpy is an array, providing efficient storage and manipulation for large numerical datasets. "
   ]
  },
  {
   "cell_type": "markdown",
   "id": "55eb894d-a8ef-4e22-ab39-5507bf950fe0",
   "metadata": {},
   "source": [
    "#### From a list\n",
    "A simple way of creating a numpy array is by passing a list."
   ]
  },
  {
   "cell_type": "code",
   "execution_count": 2,
   "id": "99aee978-0f2c-41bf-b5c6-36299b4e3212",
   "metadata": {},
   "outputs": [
    {
     "data": {
      "text/plain": [
       "array([1, 2, 3, 4, 5])"
      ]
     },
     "metadata": {},
     "output_type": "display_data"
    }
   ],
   "source": [
    "array_from_list = np.array([1,2,3,4,5])\n",
    "display(array_from_list)"
   ]
  },
  {
   "cell_type": "markdown",
   "id": "0fc135f2-d01c-4b0f-b164-f55a1ad5b73b",
   "metadata": {},
   "source": [
    "##### Zeros and Ones\n",
    "However there are also a range of different ways to create arrays with the same value such as having a numpy array of ones (`np.ones`), array of zeros (`np.zeros`). In this case we pass an arguement with the number of elements that are desired."
   ]
  },
  {
   "cell_type": "code",
   "execution_count": 3,
   "id": "b334d4c3-fad1-4072-9e34-a17a26d64693",
   "metadata": {},
   "outputs": [
    {
     "data": {
      "text/plain": [
       "array([0., 0., 0., 0., 0., 0., 0., 0., 0., 0., 0., 0.])"
      ]
     },
     "metadata": {},
     "output_type": "display_data"
    },
    {
     "data": {
      "text/plain": [
       "array([1., 1., 1., 1., 1., 1., 1., 1., 1., 1., 1., 1.])"
      ]
     },
     "metadata": {},
     "output_type": "display_data"
    }
   ],
   "source": [
    "zeros_array = np.zeros(12)\n",
    "display(zeros_array)\n",
    "\n",
    "ones_array = np.ones(12)\n",
    "display(ones_array)"
   ]
  },
  {
   "cell_type": "markdown",
   "id": "de765da1-e0c2-442e-8be8-878eb102d6dc",
   "metadata": {},
   "source": [
    "#### A Range\n",
    "It is also possible to create more complex arrays without having to manually input the values via a list. For example it is possible to create a range of values with the use of `np.arange()`. Of note is that by default the array will start from zero. "
   ]
  },
  {
   "cell_type": "code",
   "execution_count": 4,
   "id": "d4717abb-11da-449d-8c2c-7d854e363244",
   "metadata": {},
   "outputs": [
    {
     "data": {
      "text/plain": [
       "array([ 0,  1,  2,  3,  4,  5,  6,  7,  8,  9, 10, 11])"
      ]
     },
     "metadata": {},
     "output_type": "display_data"
    }
   ],
   "source": [
    "range_array = np.arange(12)\n",
    "display(range_array)"
   ]
  },
  {
   "cell_type": "markdown",
   "id": "4ead4f43-2e72-4754-9cfd-e8de6a6792e4",
   "metadata": {},
   "source": [
    "#### Exercise 1 - Creating an array \n",
    "Usin the .arange function, create this numpy array: [5,8,11,14,17,20]. It may be helpful to refer to the numpy .arange() documentation, avaliable [here](https://numpy.org/doc/stable/reference/generated/numpy.arange.html)."
   ]
  },
  {
   "cell_type": "code",
   "execution_count": 5,
   "id": "90a3dfa8-82fc-496b-8f73-37516ffa8624",
   "metadata": {
    "editable": true,
    "slideshow": {
     "slide_type": ""
    },
    "tags": []
   },
   "outputs": [],
   "source": [
    "#custom_range_array = *your code here*"
   ]
  },
  {
   "cell_type": "markdown",
   "id": "a020ff93-245f-4fda-b915-6ec67076021f",
   "metadata": {
    "editable": true,
    "slideshow": {
     "slide_type": ""
    },
    "tags": []
   },
   "source": [
    "```{admonition} Exercise 1 Solution\n",
    ":class: dropdown\n",
    "```python\n",
    "custom_range_array = np.arange(5,23,3)\n",
    "```\n",
    "```\n",
    "\n"
   ]
  },
  {
   "cell_type": "markdown",
   "id": "0136ecb5-23b0-48d5-9d4a-bae9598b4017",
   "metadata": {},
   "source": [
    "#### Other Methods\n",
    "There are also a range of other methods that can be used to create numpy arrays that will most likely be benefical depending on the particular task you are working on. All of the details for each function are contained in the documentation, but arrays can be based on [random numbers](https://numpy.org/doc/stable/reference/random/index.html) or  [identity matrix](https://numpy.org/doc/stable/reference/generated/numpy.identity.html) as two of the many that are avaliable. "
   ]
  },
  {
   "cell_type": "markdown",
   "id": "2102d4b2-e8c4-4985-b70c-cfae0903708b",
   "metadata": {},
   "source": [
    "### File Output \n",
    "If we wanted to save the data that we have created so far, then we could make use of `np.save`, which will save an array to a binary file with the .npy extension."
   ]
  },
  {
   "cell_type": "code",
   "execution_count": 6,
   "id": "ab749e98-fcca-4877-a3f3-5cf7a2a057e8",
   "metadata": {},
   "outputs": [],
   "source": [
    "range_array = np.arange(12)\n",
    "np.save('data/example_range_array.npy', range_array)"
   ]
  },
  {
   "cell_type": "markdown",
   "id": "a63cc5d5-51b1-490f-a11f-76b335cead4e",
   "metadata": {},
   "source": [
    "#### Exercise 2 - Saving to a text file \n",
    "There are also a range of other file formats that can be used for storing numpy arrays. Engage with the documentation for numpy and save the numpy array to another file format, potentially a .txt file."
   ]
  },
  {
   "cell_type": "markdown",
   "id": "732e68b5-cce5-4fc0-ab07-ccc160a64bfc",
   "metadata": {},
   "source": [
    "```{admonition} Exercise 2 Solution\n",
    ":class: dropdown\n",
    "```python\n",
    "np.savetxt('data/example_range_array.txt', range_array)\n",
    "```\n",
    "```"
   ]
  },
  {
   "cell_type": "markdown",
   "id": "109b6974-4697-4159-989d-03d3f91f8148",
   "metadata": {},
   "source": [
    "### File Input \n",
    "It is also possible to use `np.load` to read in an array from another .npy file. "
   ]
  },
  {
   "cell_type": "code",
   "execution_count": 7,
   "id": "26137351-2eac-4eb3-8171-cc486cd40d53",
   "metadata": {},
   "outputs": [
    {
     "data": {
      "text/plain": [
       "array([[1, 2, 3],\n",
       "       [4, 5, 6],\n",
       "       [7, 8, 9]])"
      ]
     },
     "metadata": {},
     "output_type": "display_data"
    }
   ],
   "source": [
    "downloaded_numpy_array = np.load('data/multidimensional_array.npy')\n",
    "display(downloaded_numpy_array)"
   ]
  },
  {
   "cell_type": "markdown",
   "id": "bf621c7f-6198-4c3f-bdc9-be5a2a232039",
   "metadata": {},
   "source": [
    "### Array Attributes \n",
    "It is a common occurence that you will be sent data that you want to analyse, such as in the case above of loading in just the data file itself. In this situation one of the first things you may wish to do is to get an idea of the data by accessing the arrays attributes. \n",
    "The number of dimensions of an array can be found with the use of `.ndim`."
   ]
  },
  {
   "cell_type": "code",
   "execution_count": 8,
   "id": "d761b359-f1ee-416b-b440-fe8afdfb239f",
   "metadata": {},
   "outputs": [
    {
     "data": {
      "text/plain": [
       "'The number of dimensions in the array is: 2'"
      ]
     },
     "metadata": {},
     "output_type": "display_data"
    }
   ],
   "source": [
    "display(\"The number of dimensions in the array is: \" + str(downloaded_numpy_array.ndim))"
   ]
  },
  {
   "cell_type": "markdown",
   "id": "68e1ec6a-3760-4370-b52b-b00029409a11",
   "metadata": {},
   "source": [
    "The overall shape of the array can be found with the use of `.shape`."
   ]
  },
  {
   "cell_type": "code",
   "execution_count": 9,
   "id": "5660a26d-9f25-49c7-a574-ff9ca90614a7",
   "metadata": {},
   "outputs": [
    {
     "data": {
      "text/plain": [
       "'The overall shape of the array is: (3, 3)'"
      ]
     },
     "metadata": {},
     "output_type": "display_data"
    }
   ],
   "source": [
    "display(\"The overall shape of the array is: \" + str(downloaded_numpy_array.shape))"
   ]
  },
  {
   "cell_type": "markdown",
   "id": "49a510ec-8bf9-495f-9c5e-c0b5f54ae21e",
   "metadata": {},
   "source": [
    "The number of values of the array can be found with the use of `.size`, giving an overview of the raw number of values within the array."
   ]
  },
  {
   "cell_type": "code",
   "execution_count": 10,
   "id": "82c81db5-8477-4bb5-83e3-c490eb0b25a2",
   "metadata": {},
   "outputs": [
    {
     "data": {
      "text/plain": [
       "'The overall size of the array is: 9'"
      ]
     },
     "metadata": {},
     "output_type": "display_data"
    }
   ],
   "source": [
    "display(\"The overall size of the array is: \" + str(downloaded_numpy_array.size))"
   ]
  },
  {
   "cell_type": "markdown",
   "id": "e11ac23a-9288-4eb0-8f57-f5a471b7f186",
   "metadata": {},
   "source": [
    "As arrays can have a range of different data types it is key to ensure that the data is in the form that you desire it to be, which can be found with the use of `.dtype`. One of the reasons you may wish to know the data type itself is to understand the number of bytes each element in the array takes, found via `.itemsize`. As the dataset grows larger and larger the amount of memory used will become of key importance with the whole data structure memory footprint being found via `.nbytes`."
   ]
  },
  {
   "cell_type": "code",
   "execution_count": 11,
   "id": "d52249c3-62bf-4f4b-b71f-b6a70f6380c0",
   "metadata": {},
   "outputs": [
    {
     "data": {
      "text/plain": [
       "'The datatype within the array is: int64'"
      ]
     },
     "metadata": {},
     "output_type": "display_data"
    },
    {
     "data": {
      "text/plain": [
       "'The memory footprint for each of the elements of the array is: 8'"
      ]
     },
     "metadata": {},
     "output_type": "display_data"
    },
    {
     "data": {
      "text/plain": [
       "'The overall memory footprint of the array is: 72'"
      ]
     },
     "metadata": {},
     "output_type": "display_data"
    }
   ],
   "source": [
    "display(\"The datatype within the array is: \" + str(downloaded_numpy_array.dtype))\n",
    "display(\"The memory footprint for each of the elements of the array is: \" + str(downloaded_numpy_array.itemsize))\n",
    "display(\"The overall memory footprint of the array is: \" + str(downloaded_numpy_array.nbytes))"
   ]
  },
  {
   "cell_type": "markdown",
   "id": "b4cecaf9-d91c-4dd5-b95e-49c3d2d3efdd",
   "metadata": {},
   "source": [
    "### Data Types\n",
    "Within numpy there are a range of different data types that elements within an array can be, including: \n",
    "- Boolean (`bool_`): Used for storing `True` and `False` values.\n",
    "- Integer (`int_`, `int8`, `int16`, `int32`, `int64`): Signed integer types of various sizes\n",
    "- Unsigned Integer (`uint8`, `uint16`, `uint32`, `uint64`): Unsigned integer types of various sizes.\n",
    "- Floating Point (`float16`, `float32`, `float64`): Floating point numbers of various precisions.\n",
    "- Complex Numbers (`complex64`, `complex128`): Complex numbers with floating point real and imaginary parts.\n",
    "- Fized length strings (`sring_`): Used for text data.\n",
    "- Object (`object_`): Used for arrays of python objects.\n",
    "\n",
    "Examples for each of these different types can be seen below."
   ]
  },
  {
   "cell_type": "code",
   "execution_count": 12,
   "id": "c258b818-3315-4ca4-aaf0-27038b3b30b6",
   "metadata": {},
   "outputs": [
    {
     "name": "stdout",
     "output_type": "stream",
     "text": [
      "Boolean Array: [ True False  True] Data Type: bool\n",
      "Integer Array: [1 2 3] Data Type: int32\n",
      "Floating Point Array: [1. 2. 3.] Data Type: float64\n",
      "Complex Number Array: [1.+2.j 3.+4.j] Data Type: complex128\n",
      "String Array: [b'apple' b'banana' b'cherry'] Data Type: |S6\n",
      "Object Array: [1 'two' 3.0] Data Type: object\n"
     ]
    }
   ],
   "source": [
    "# Boolean array\n",
    "bool_arr = np.array([True, False, True], dtype=np.bool_)\n",
    "\n",
    "# Integer array\n",
    "int_arr = np.array([1, 2, 3], dtype=np.int32)\n",
    "\n",
    "# Floating point array\n",
    "float_arr = np.array([1.0, 2.0, 3.0], dtype=np.float64)\n",
    "\n",
    "# Complex number array\n",
    "complex_arr = np.array([1+2j, 3+4j], dtype=np.complex128)\n",
    "\n",
    "# String array\n",
    "string_arr = np.array([\"apple\", \"banana\", \"cherry\"], dtype=np.string_)\n",
    "\n",
    "# Object array\n",
    "object_arr = np.array([1, \"two\", 3.0], dtype=np.object_)\n",
    "\n",
    "# Print the arrays and their data types\n",
    "print(\"Boolean Array:\", bool_arr, \"Data Type:\", bool_arr.dtype)\n",
    "print(\"Integer Array:\", int_arr, \"Data Type:\", int_arr.dtype)\n",
    "print(\"Floating Point Array:\", float_arr, \"Data Type:\", float_arr.dtype)\n",
    "print(\"Complex Number Array:\", complex_arr, \"Data Type:\", complex_arr.dtype)\n",
    "print(\"String Array:\", string_arr, \"Data Type:\", string_arr.dtype)\n",
    "print(\"Object Array:\", object_arr, \"Data Type:\", object_arr.dtype)"
   ]
  },
  {
   "cell_type": "markdown",
   "id": "595e214f-ce56-40dd-9a49-a9c13cd54ed0",
   "metadata": {},
   "source": [
    "## Array Indexing\n",
    "Array indexing is the process of accessing individual or groups of elements from an array. Within numpy there are a range of different methods of indexing elements, as shown below."
   ]
  },
  {
   "cell_type": "code",
   "execution_count": 13,
   "id": "f4377482-49a0-4d9e-974b-fbcb51dbd9e2",
   "metadata": {},
   "outputs": [
    {
     "data": {
      "text/plain": [
       "'The complete array is: '"
      ]
     },
     "metadata": {},
     "output_type": "display_data"
    },
    {
     "data": {
      "text/plain": [
       "array([[1, 2, 3],\n",
       "       [4, 5, 6],\n",
       "       [7, 8, 9]])"
      ]
     },
     "metadata": {},
     "output_type": "display_data"
    },
    {
     "data": {
      "text/plain": [
       "'Single element indexing: [7 8 9]'"
      ]
     },
     "metadata": {},
     "output_type": "display_data"
    },
    {
     "data": {
      "text/plain": [
       "'Multi-dimensional element indexing: 8'"
      ]
     },
     "metadata": {},
     "output_type": "display_data"
    },
    {
     "data": {
      "text/plain": [
       "'Boolean conditions: '"
      ]
     },
     "metadata": {},
     "output_type": "display_data"
    },
    {
     "data": {
      "text/plain": [
       "array([[False, False, False],\n",
       "       [False,  True,  True],\n",
       "       [ True,  True,  True]])"
      ]
     },
     "metadata": {},
     "output_type": "display_data"
    },
    {
     "data": {
      "text/plain": [
       "'Boolean indexing: [5 6 7 8 9]'"
      ]
     },
     "metadata": {},
     "output_type": "display_data"
    },
    {
     "data": {
      "text/plain": [
       "'Complex indexing: '"
      ]
     },
     "metadata": {},
     "output_type": "display_data"
    },
    {
     "data": {
      "text/plain": [
       "array([[4, 5, 6],\n",
       "       [7, 8, 9]])"
      ]
     },
     "metadata": {},
     "output_type": "display_data"
    }
   ],
   "source": [
    "display(\"The complete array is: \")\n",
    "display(downloaded_numpy_array)\n",
    "# Single element indexing \n",
    "display(\"Single element indexing: \" + str(downloaded_numpy_array[2]))\n",
    "# Multi-dimensional indexing \n",
    "display(\"Multi-dimensional element indexing: \" + str(downloaded_numpy_array[2][1]))\n",
    "# Boolean indexing \n",
    "display(\"Boolean conditions: \")\n",
    "display(downloaded_numpy_array > 4)\n",
    "display(\"Boolean indexing: \" + str(downloaded_numpy_array[downloaded_numpy_array > 4]))\n",
    "# Complex Indexing \n",
    "display(\"Complex indexing: \" )\n",
    "display(downloaded_numpy_array[[1, 2]])"
   ]
  },
  {
   "cell_type": "markdown",
   "id": "e5e7d020-6ff0-4982-ab88-54c8bf5abd0b",
   "metadata": {},
   "source": [
    "## Array Slicing \n",
    "Array slicing works in a similar way to slicing for python lists, with some additional capabilities. Some examples of slicing can be seen below."
   ]
  },
  {
   "cell_type": "code",
   "execution_count": 14,
   "id": "2fa10c9e-8a2c-4ecd-8a70-9c0f000ecc80",
   "metadata": {},
   "outputs": [
    {
     "data": {
      "text/plain": [
       "'Simple slicing: '"
      ]
     },
     "metadata": {},
     "output_type": "display_data"
    },
    {
     "data": {
      "text/plain": [
       "array([[4, 5, 6],\n",
       "       [7, 8, 9]])"
      ]
     },
     "metadata": {},
     "output_type": "display_data"
    },
    {
     "data": {
      "text/plain": [
       "'Multi-dimensional slicing: '"
      ]
     },
     "metadata": {},
     "output_type": "display_data"
    },
    {
     "data": {
      "text/plain": [
       "array([[2, 3],\n",
       "       [5, 6],\n",
       "       [8, 9]])"
      ]
     },
     "metadata": {},
     "output_type": "display_data"
    },
    {
     "data": {
      "text/plain": [
       "'Step slicing: '"
      ]
     },
     "metadata": {},
     "output_type": "display_data"
    },
    {
     "data": {
      "text/plain": [
       "array([[1, 2, 3],\n",
       "       [7, 8, 9]])"
      ]
     },
     "metadata": {},
     "output_type": "display_data"
    },
    {
     "data": {
      "text/plain": [
       "'Negative slicing:'"
      ]
     },
     "metadata": {},
     "output_type": "display_data"
    },
    {
     "data": {
      "text/plain": [
       "array([[7, 8, 9]])"
      ]
     },
     "metadata": {},
     "output_type": "display_data"
    }
   ],
   "source": [
    "display(\"Simple slicing: \")\n",
    "display(downloaded_numpy_array[1:3])\n",
    "display(\"Multi-dimensional slicing: \")\n",
    "display(downloaded_numpy_array[:, 1:])\n",
    "display(\"Step slicing: \")\n",
    "display(downloaded_numpy_array[::2])\n",
    "display(\"Negative slicing:\")\n",
    "display(downloaded_numpy_array[-1:])"
   ]
  },
  {
   "cell_type": "markdown",
   "id": "a773207e-be17-48ff-b062-bf01d7f46c4e",
   "metadata": {},
   "source": [
    "## Array Operations\n",
    "### Arithmetic Operations\n",
    "Numpy has the ability to perform a range of element wise arithmetic operations on arrays, such as addition, subtraction, multiplications and division as seen below. "
   ]
  },
  {
   "cell_type": "code",
   "execution_count": 15,
   "id": "95b6e3f3-1d3f-4fb7-a732-371ab4f5a588",
   "metadata": {},
   "outputs": [
    {
     "data": {
      "text/plain": [
       "'Array 1: [1 2 3 4 5]'"
      ]
     },
     "metadata": {},
     "output_type": "display_data"
    },
    {
     "data": {
      "text/plain": [
       "'Array 2: [3 3 3 3 3]'"
      ]
     },
     "metadata": {},
     "output_type": "display_data"
    },
    {
     "data": {
      "text/plain": [
       "'Adding Array 1 to Array 2: [4 5 6 7 8]'"
      ]
     },
     "metadata": {},
     "output_type": "display_data"
    },
    {
     "data": {
      "text/plain": [
       "'Subtracting Array 2 from Array 1: [-2 -1  0  1  2]'"
      ]
     },
     "metadata": {},
     "output_type": "display_data"
    },
    {
     "data": {
      "text/plain": [
       "'Multiplying Array 1 and 2 together: [ 3  6  9 12 15]'"
      ]
     },
     "metadata": {},
     "output_type": "display_data"
    },
    {
     "data": {
      "text/plain": [
       "'Dividing Array 1 by Array 2: [0.33333333 0.66666667 1.         1.33333333 1.66666667]'"
      ]
     },
     "metadata": {},
     "output_type": "display_data"
    }
   ],
   "source": [
    "array_1 = np.array([1,2,3,4,5])\n",
    "array_2 = np.array([3,3,3,3,3])\n",
    "\n",
    "display(\"Array 1: \" + str(array_1))\n",
    "display(\"Array 2: \" + str(array_2))\n",
    "\n",
    "# Addition \n",
    "display(\"Adding Array 1 to Array 2: \" + str(array_1 + array_2))\n",
    "\n",
    "# Subtraction \n",
    "display(\"Subtracting Array 2 from Array 1: \" + str(array_1 - array_2))\n",
    "\n",
    "# Multiplication\n",
    "display(\"Multiplying Array 1 and 2 together: \" + str(array_1 * array_2))\n",
    "\n",
    "# Division \n",
    "display(\"Dividing Array 1 by Array 2: \" + str(array_1 / array_2))"
   ]
  },
  {
   "cell_type": "markdown",
   "id": "a2005fa6-faae-48e6-9246-0a6c2d64bb1a",
   "metadata": {},
   "source": [
    "### Matrix Operations \n",
    "Further to operations on simple arrays, Numpy offers support for operations on more complex data structure such as matricies."
   ]
  },
  {
   "cell_type": "markdown",
   "id": "2c235f46-149d-4047-adb9-d49ec5e45acf",
   "metadata": {},
   "source": [
    "### Dot Product"
   ]
  },
  {
   "cell_type": "code",
   "execution_count": 16,
   "id": "941ae19c-fb86-455f-8471-4f543b552fca",
   "metadata": {},
   "outputs": [
    {
     "data": {
      "text/plain": [
       "'Dot product of array 1 and array 2:'"
      ]
     },
     "metadata": {},
     "output_type": "display_data"
    },
    {
     "data": {
      "text/plain": [
       "45"
      ]
     },
     "metadata": {},
     "output_type": "display_data"
    }
   ],
   "source": [
    "display(\"Dot product of array 1 and array 2:\")\n",
    "display(np.dot(array_1, array_2))"
   ]
  },
  {
   "cell_type": "markdown",
   "id": "0d82edf6-fd77-45b8-87e8-f487ceee54e4",
   "metadata": {},
   "source": [
    "The dot product can then also be computed for two-dimensional arrays."
   ]
  },
  {
   "cell_type": "code",
   "execution_count": 17,
   "id": "30c95eb7-1194-4cc8-bab0-7759315fc6b9",
   "metadata": {},
   "outputs": [
    {
     "name": "stdout",
     "output_type": "stream",
     "text": [
      "[[ 4 10]\n",
      " [16 36]]\n"
     ]
    }
   ],
   "source": [
    "# Dot for two-dimensional arrays\n",
    "A = np.array([[1, 2], [6, 4]])\n",
    "B = np.array([[2, 4], [1, 3]])\n",
    "print(np.dot(A, B)) "
   ]
  },
  {
   "cell_type": "markdown",
   "id": "53900fa6-527e-4ebe-9087-cef7cf57b3ff",
   "metadata": {},
   "source": [
    "### Statistical Operations\n",
    "Numpy provides a range of different functions that can perform statistics on a given array, with some key ones seen below."
   ]
  },
  {
   "cell_type": "code",
   "execution_count": 18,
   "id": "ca010741-a942-4e74-a7a6-b90ab228b1b0",
   "metadata": {},
   "outputs": [
    {
     "data": {
      "text/plain": [
       "'Mean: 19.625'"
      ]
     },
     "metadata": {},
     "output_type": "display_data"
    },
    {
     "data": {
      "text/plain": [
       "'Median: 10.0'"
      ]
     },
     "metadata": {},
     "output_type": "display_data"
    },
    {
     "data": {
      "text/plain": [
       "'Standard Deviation: 20.6212117733173'"
      ]
     },
     "metadata": {},
     "output_type": "display_data"
    }
   ],
   "source": [
    "input_array = np.array([21,60,2,5,10,47,2,10])\n",
    "\n",
    "display(\"Mean: \" + str(np.mean(input_array)))\n",
    "display(\"Median: \" + str(np.median(input_array)))\n",
    "display(\"Standard Deviation: \" + str(np.std(input_array)))"
   ]
  },
  {
   "cell_type": "markdown",
   "id": "c04778a7-9609-446f-89a7-7ce9e577e0ea",
   "metadata": {},
   "source": [
    "### Logical Operations\n",
    "Numpy also capacity to perform logical operations on arrays that contains boolean elements. "
   ]
  },
  {
   "cell_type": "code",
   "execution_count": 19,
   "id": "085ac0e2-ac98-4151-80b2-ec6f7ee5be2a",
   "metadata": {},
   "outputs": [
    {
     "data": {
      "text/plain": [
       "'AND logical operations:'"
      ]
     },
     "metadata": {},
     "output_type": "display_data"
    },
    {
     "data": {
      "text/plain": [
       "array([False, False, False, False, False])"
      ]
     },
     "metadata": {},
     "output_type": "display_data"
    },
    {
     "data": {
      "text/plain": [
       "'OR logical operations:'"
      ]
     },
     "metadata": {},
     "output_type": "display_data"
    },
    {
     "data": {
      "text/plain": [
       "array([ True,  True,  True, False,  True])"
      ]
     },
     "metadata": {},
     "output_type": "display_data"
    }
   ],
   "source": [
    "x = np.array([False, True, False, False, False])\n",
    "y = np.array([True, False, True, False, True])\n",
    "\n",
    "display(\"AND logical operations:\")\n",
    "display(np.logical_and(x,y))\n",
    "display(\"OR logical operations:\")\n",
    "display(np.logical_or(x,y))"
   ]
  },
  {
   "cell_type": "markdown",
   "id": "1dc9a624-0886-49b5-b912-35488d39646e",
   "metadata": {},
   "source": [
    "### Shape Manipulations \n",
    "It is also possible to alter the shape of a given array without modify the data that is within the array. Two keys operations to manipulate the shape of an array are shown below with `.reshape` and `.flatten`."
   ]
  },
  {
   "cell_type": "code",
   "execution_count": 20,
   "id": "83ce0133-bf20-4878-932a-7b8d2861df74",
   "metadata": {},
   "outputs": [
    {
     "data": {
      "text/plain": [
       "array([[ 1,  5,  2],\n",
       "       [ 7,  9, 10]])"
      ]
     },
     "metadata": {},
     "output_type": "display_data"
    },
    {
     "data": {
      "text/plain": [
       "'Reshape the array from 3x2 to 2x3:'"
      ]
     },
     "metadata": {},
     "output_type": "display_data"
    },
    {
     "data": {
      "text/plain": [
       "array([[ 1,  5],\n",
       "       [ 2,  7],\n",
       "       [ 9, 10]])"
      ]
     },
     "metadata": {},
     "output_type": "display_data"
    },
    {
     "data": {
      "text/plain": [
       "'Convert from 2D to 1D:'"
      ]
     },
     "metadata": {},
     "output_type": "display_data"
    },
    {
     "data": {
      "text/plain": [
       "array([ 1,  5,  2,  7,  9, 10])"
      ]
     },
     "metadata": {},
     "output_type": "display_data"
    }
   ],
   "source": [
    "reshape_array = np.array([[1,5,2], [7, 9, 10]])\n",
    "display(reshape_array)\n",
    "display(\"Reshape the array from 3x2 to 2x3:\")\n",
    "display(reshape_array.reshape(3,2))\n",
    "\n",
    "display(\"Convert from 2D to 1D:\")\n",
    "display(reshape_array.flatten())"
   ]
  },
  {
   "cell_type": "markdown",
   "id": "dfdf31ec-d774-4d24-86f6-e058a8549179",
   "metadata": {},
   "source": [
    "### Set Operations \n",
    "Numpy also offers support for set operations, such as getting both the union and the intersection of elements for different arrays as shown below. "
   ]
  },
  {
   "cell_type": "code",
   "execution_count": 21,
   "id": "17ba139d-7730-466b-8354-bf5f468c40c1",
   "metadata": {},
   "outputs": [
    {
     "data": {
      "text/plain": [
       "'Union of array 1 and array 2: '"
      ]
     },
     "metadata": {},
     "output_type": "display_data"
    },
    {
     "data": {
      "text/plain": [
       "array([1, 2, 3, 4, 5])"
      ]
     },
     "metadata": {},
     "output_type": "display_data"
    },
    {
     "data": {
      "text/plain": [
       "'Intersection of array 1 and array 2: '"
      ]
     },
     "metadata": {},
     "output_type": "display_data"
    },
    {
     "data": {
      "text/plain": [
       "array([2, 3, 5])"
      ]
     },
     "metadata": {},
     "output_type": "display_data"
    }
   ],
   "source": [
    "array_1 = np.array([1,2,3,4,5])\n",
    "array_2 = np.array([3,5,3,2,3])\n",
    "\n",
    "display(\"Union of array 1 and array 2: \")\n",
    "display(np.union1d(array_1, array_2))\n",
    "display(\"Intersection of array 1 and array 2: \")\n",
    "display(np.intersect1d(array_1, array_2))"
   ]
  },
  {
   "cell_type": "markdown",
   "id": "6be7537d-051a-4d4c-b70d-89fd9d0e0c33",
   "metadata": {},
   "source": [
    "### Broadcasting \n",
    "Broadcasting in numpy allows operations to be performed on arrays of different shapes, sizs and dimensions. Different examples of broadcasting are shown below:"
   ]
  },
  {
   "cell_type": "code",
   "execution_count": 22,
   "id": "90496afa-1235-4568-a537-9e9401728483",
   "metadata": {},
   "outputs": [
    {
     "data": {
      "text/plain": [
       "'Scalar addition to an array: '"
      ]
     },
     "metadata": {},
     "output_type": "display_data"
    },
    {
     "data": {
      "text/plain": [
       "array([10, 11, 12, 13, 14, 15, 16, 17, 18, 19])"
      ]
     },
     "metadata": {},
     "output_type": "display_data"
    },
    {
     "data": {
      "text/plain": [
       "'Adding a one dimensional array to a two dimensional array: '"
      ]
     },
     "metadata": {},
     "output_type": "display_data"
    },
    {
     "data": {
      "text/plain": [
       "array([[10, 12, 14, 16, 18, 20, 22, 24, 26, 28],\n",
       "       [20, 22, 24, 26, 28, 30, 32, 34, 36, 38]])"
      ]
     },
     "metadata": {},
     "output_type": "display_data"
    }
   ],
   "source": [
    "# Adding a scale to an array \n",
    "a = np.array([0, 1,2,3,4,5,6,7,8,9])\n",
    "b = 10\n",
    "display(\"Scalar addition to an array: \" )\n",
    "display(a + b)\n",
    "\n",
    "# Adding a one dimensional array to a two dimensional array\n",
    "c = np.array([[10,11,12,13,14,15,16,17,18,19], [20,21,22,23,24,25,26,27,28,29]])\n",
    "display(\"Adding a one dimensional array to a two dimensional array: \" )\n",
    "display(a + c)"
   ]
  },
  {
   "cell_type": "markdown",
   "id": "7c1762bf-43c8-4616-b223-f0adfbbf436d",
   "metadata": {},
   "source": [
    "### Exercise 3 - Performing Analysis \n",
    "Given the dataset loaded into the `input_data` below answer the following five questions, some of which may require engaging with the Numpy documentation. \n",
    "- What is theaverage values of the elements in the array?\n",
    "- How many unique numbers are there in the array?\n",
    "- What is the standard deviation of the array values?"
   ]
  },
  {
   "cell_type": "code",
   "execution_count": 23,
   "id": "d174d2d1-25a8-40c4-95f0-dc233cbfb7db",
   "metadata": {},
   "outputs": [],
   "source": [
    "input_data = np.load(\"data/exercise_3_array.npy\")"
   ]
  },
  {
   "cell_type": "markdown",
   "id": "be40fa45-270e-43a8-bd30-2ca1b337f768",
   "metadata": {
    "editable": true,
    "slideshow": {
     "slide_type": ""
    },
    "tags": []
   },
   "source": [
    "```{admonition} Exercise 3 Solution\n",
    ":class: dropdown\n",
    "The average value for the dataset is 490.99, with 622 unique numbers and a standard deviation of 287.4. The python code using Numpy to compute the results is shown below:\n",
    "```python\n",
    "# 1. Calculate the average value of the elements\n",
    "average_value = np.mean(input_data)\n",
    "\n",
    "# 2. Find all unique numbers and their count\n",
    "unique_numbers, counts = np.unique(input_data, return_counts=True)\n",
    "\n",
    "# 5. Compute the standard deviation of the array values\n",
    "standard_deviation = np.std(input_data)\n",
    "\n",
    "# Printing the results\n",
    "print(\"Average value:\", average_value)\n",
    "print(\"Unique numbers count:\", len(unique_numbers))\n",
    "print(\"Standard deviation:\", standard_deviation)\n",
    "```\n",
    "```"
   ]
  },
  {
   "cell_type": "code",
   "execution_count": 1,
   "id": "115745d8-8e1d-49fc-b0a1-1a73fe3a3c0d",
   "metadata": {
    "editable": true,
    "slideshow": {
     "slide_type": ""
    },
    "tags": [
     "remove-input"
    ]
   },
   "outputs": [
    {
     "data": {
      "text/html": [
       "<div id=\"KhFONSuWjuKA\" data-shufflequestions=\"False\"\n",
       "               data-shuffleanswers=\"True\"\n",
       "               data-preserveresponses=\"false\"\n",
       "               data-numquestions=\"1000000\"\n",
       "               data-maxwidth=\"600\"\n",
       "               style=\"border-radius: 10px; text-align: left\"> <style>\n",
       "#KhFONSuWjuKA {\n",
       "   --jq-multiple-choice-bg: #6f78ffff;\n",
       "   --jq-mc-button-bg: #fafafa;\n",
       "   --jq-mc-button-border: #e0e0e0e0;\n",
       "   --jq-mc-button-inset-shadow: #555555;\n",
       "   --jq-many-choice-bg: #f75c03ff;\n",
       "   --jq-numeric-bg: #392061ff;\n",
       "   --jq-numeric-input-bg: #c0c0c0;\n",
       "   --jq-numeric-input-label: #101010;\n",
       "   --jq-numeric-input-shadow: #999999;\n",
       "   --jq-incorrect-color: #c80202;\n",
       "   --jq-correct-color: #009113;\n",
       "   --jq-text-color: #fafafa;\n",
       "}\n",
       "\n",
       ".Quiz {\n",
       "    max-width: 600px;\n",
       "    margin-top: 15px;\n",
       "    margin-left: auto;\n",
       "    margin-right: auto;\n",
       "    margin-bottom: 15px;\n",
       "    padding-bottom: 4px;\n",
       "    padding-top: 4px;\n",
       "    line-height: 1.1;\n",
       "    font-size: 16pt;\n",
       "    border-radius: inherit;\n",
       "}\n",
       "\n",
       ".QuizCode {\n",
       "    font-size: 14pt;\n",
       "    margin-top: 10px;\n",
       "    margin-left: 20px;\n",
       "    margin-right: 20px;\n",
       "}\n",
       "\n",
       ".QuizCode>pre {\n",
       "    padding: 4px;\n",
       "}\n",
       "\n",
       ".Answer {\n",
       "    margin: 10px 0;\n",
       "    display: grid;\n",
       "    grid-template-columns: 1fr 1fr;\n",
       "    grid-gap: 10px;\n",
       "    border-radius: inherit;\n",
       "}\n",
       "\n",
       ".Feedback {\n",
       "    font-size: 16pt;\n",
       "    text-align: center;\n",
       "    min-height: 2em;\n",
       "}\n",
       "\n",
       ".Input {\n",
       "    align: left;\n",
       "    font-size: 20pt;\n",
       "}\n",
       "\n",
       ".Input-text {\n",
       "    display: block;\n",
       "    margin: 10px;\n",
       "    color: inherit;\n",
       "    width: 140px;\n",
       "    background-color: var(--jq-numeric-input-bg);\n",
       "    color: var(--jq-text-color);\n",
       "    padding: 5px;\n",
       "    padding-left: 10px;\n",
       "    font-family: inherit;\n",
       "    font-size: 20px;\n",
       "    font-weight: inherit;\n",
       "    line-height: 20pt;\n",
       "    border: none;\n",
       "    border-radius: 0.2rem;\n",
       "    transition: box-shadow 0.1s);\n",
       "}\n",
       "\n",
       ".Input-text:focus {\n",
       "    outline: none;\n",
       "    background-color: var(--jq-numeric-input-bg);\n",
       "    box-shadow: 0.6rem 0.8rem 1.4rem -0.5rem var(--jq-numeric-input-shadow);\n",
       "}\n",
       "\n",
       ".MCButton {\n",
       "    background: var(--jq-mc-button-bg);\n",
       "    border: 1px solid var(--jq-mc-button-border);\n",
       "    border-radius: inherit;\n",
       "    padding: 10px;\n",
       "    font-size: 16px;\n",
       "    cursor: pointer;\n",
       "    text-align: center;\n",
       "    display: flex;\n",
       "    align-items: center;\n",
       "    justify-content: center;\n",
       "}\n",
       "\n",
       ".MCButton p {\n",
       "    color: inherit;\n",
       "}\n",
       "\n",
       ".MultipleChoiceQn {\n",
       "    padding: 10px;\n",
       "    background: var(--jq-multiple-choice-bg);\n",
       "    color: var(--jq-text-color);\n",
       "    border-radius: inherit;\n",
       "}\n",
       "\n",
       ".ManyChoiceQn {\n",
       "    padding: 10px;\n",
       "    background: var(--jq-many-choice-bg);\n",
       "    color: var(--jq-text-color);\n",
       "    border-radius: inherit;\n",
       "}\n",
       "\n",
       ".NumericQn {\n",
       "    padding: 10px;\n",
       "    background: var(--jq-numeric-bg);\n",
       "    color: var(--jq-text-color);\n",
       "    border-radius: inherit;\n",
       "}\n",
       "\n",
       ".NumericQn p {\n",
       "    color: inherit;\n",
       "}\n",
       "\n",
       ".InpLabel {\n",
       "    line-height: 34px;\n",
       "    float: left;\n",
       "    margin-right: 10px;\n",
       "    color: var(--jq-numeric-input-label);\n",
       "    font-size: 15pt;\n",
       "}\n",
       "\n",
       ".incorrect {\n",
       "    color: var(--jq-incorrect-color);\n",
       "}\n",
       "\n",
       ".correct {\n",
       "    color: var(--jq-correct-color);\n",
       "}\n",
       "\n",
       ".correctButton {\n",
       "    /*\n",
       "    background: var(--jq-correct-color);\n",
       "   */\n",
       "    animation: correct-anim 0.6s ease;\n",
       "    animation-fill-mode: forwards;\n",
       "    color: var(--jq-text-color);\n",
       "    box-shadow: inset 0px 0px 5px var(--jq-mc-button-inset-shadow);\n",
       "    outline: none;\n",
       "}\n",
       "\n",
       ".incorrectButton {\n",
       "    animation: incorrect-anim 0.8s ease;\n",
       "    animation-fill-mode: forwards;\n",
       "    color: var(--jq-text-color);\n",
       "    box-shadow: inset 0px 0px 5px var(--jq-mc-button-inset-shadow);\n",
       "    outline: none;\n",
       "}\n",
       "\n",
       "@keyframes incorrect-anim {\n",
       "    100% {\n",
       "        background-color: var(--jq-incorrect-color);\n",
       "    }\n",
       "}\n",
       "\n",
       "@keyframes correct-anim {\n",
       "    100% {\n",
       "        background-color: var(--jq-correct-color);\n",
       "    }\n",
       "}\n",
       "</style>"
      ],
      "text/plain": [
       "<IPython.core.display.HTML object>"
      ]
     },
     "metadata": {},
     "output_type": "display_data"
    },
    {
     "data": {
      "application/javascript": [
       "var questionsKhFONSuWjuKA=[\n",
       "    {\n",
       "        \"question\": \"What is the primary purpose of the NumPy library in Python?\",\n",
       "        \"type\": \"many_choice\",\n",
       "        \"answers\": [\n",
       "            {\n",
       "                \"answer\": \"To create graphical user interfaces\",\n",
       "                \"correct\": false,\n",
       "                \"feedback\": \"Incorrect\"\n",
       "            },\n",
       "            {\n",
       "                \"answer\": \"To provide support for large, multi-dimensional arrats and matrices along with a collection of mathematical functions\",\n",
       "                \"correct\": true,\n",
       "                \"feedback\": \"Correct\"\n",
       "            },\n",
       "            {\n",
       "                \"answer\": \"To facilitate web development\",\n",
       "                \"correct\": false,\n",
       "                \"feedback\": \"Incorrect\"\n",
       "            },\n",
       "            {\n",
       "                \"answer\": \"To handle string manipulations\",\n",
       "                \"correct\": false,\n",
       "                \"feedback\": \"Incorrect\"\n",
       "            }\n",
       "        ]\n",
       "    },\n",
       "    {\n",
       "        \"question\": \"Which command is used to create a NumPy array from a list?\",\n",
       "        \"type\": \"many_choice\",\n",
       "        \"answers\": [\n",
       "            {\n",
       "                \"answer\": \"np.array([1, 2, 3, 4, 5])\",\n",
       "                \"correct\": true,\n",
       "                \"feedback\": \"Correct\"\n",
       "            },\n",
       "            {\n",
       "                \"answer\": \"np.list([1, 2, 3, 4, 5])\",\n",
       "                \"correct\": false,\n",
       "                \"feedback\": \"Incorrect\"\n",
       "            },\n",
       "            {\n",
       "                \"answer\": \"np.create_array([1, 2, 3, 4, 5])\",\n",
       "                \"correct\": false,\n",
       "                \"feedback\": \"Incorrect\"\n",
       "            },\n",
       "            {\n",
       "                \"answer\": \"np.make_array([1, 2, 3, 4, 5])\",\n",
       "                \"correct\": false,\n",
       "                \"feedback\": \"Incorrect\"\n",
       "            }\n",
       "        ]\n",
       "    },\n",
       "    {\n",
       "        \"question\": \"What does the attribute .shape of a NumPy array return?\",\n",
       "        \"type\": \"many_choice\",\n",
       "        \"answers\": [\n",
       "            {\n",
       "                \"answer\": \"The size of the array\",\n",
       "                \"correct\": false,\n",
       "                \"feedback\": \"Incorrect\"\n",
       "            },\n",
       "            {\n",
       "                \"answer\": \"The number of dimensions of the array\",\n",
       "                \"correct\": false,\n",
       "                \"feedback\": \"Incorrect\"\n",
       "            },\n",
       "            {\n",
       "                \"answer\": \"A tuple representing the dimensions of the array\",\n",
       "                \"correct\": true,\n",
       "                \"feedback\": \"Correct\"\n",
       "            },\n",
       "            {\n",
       "                \"answer\": \"The data type of the array elements\",\n",
       "                \"correct\": false,\n",
       "                \"feedback\": \"Incorrect\"\n",
       "            }\n",
       "        ]\n",
       "    }\n",
       "];\n",
       "    // Make a random ID\n",
       "function makeid(length) {\n",
       "    var result = [];\n",
       "    var characters = 'ABCDEFGHIJKLMNOPQRSTUVWXYZabcdefghijklmnopqrstuvwxyz';\n",
       "    var charactersLength = characters.length;\n",
       "    for (var i = 0; i < length; i++) {\n",
       "        result.push(characters.charAt(Math.floor(Math.random() * charactersLength)));\n",
       "    }\n",
       "    return result.join('');\n",
       "}\n",
       "\n",
       "// Choose a random subset of an array. Can also be used to shuffle the array\n",
       "function getRandomSubarray(arr, size) {\n",
       "    var shuffled = arr.slice(0), i = arr.length, temp, index;\n",
       "    while (i--) {\n",
       "        index = Math.floor((i + 1) * Math.random());\n",
       "        temp = shuffled[index];\n",
       "        shuffled[index] = shuffled[i];\n",
       "        shuffled[i] = temp;\n",
       "    }\n",
       "    return shuffled.slice(0, size);\n",
       "}\n",
       "\n",
       "function printResponses(responsesContainer) {\n",
       "    var responses=JSON.parse(responsesContainer.dataset.responses);\n",
       "    var stringResponses='<B>IMPORTANT!</B>To preserve this answer sequence for submission, when you have finalized your answers: <ol> <li> Copy the text in this cell below \"Answer String\"</li> <li> Double click on the cell directly below the Answer String, labeled \"Replace Me\"</li> <li> Select the whole \"Replace Me\" text</li> <li> Paste in your answer string and press shift-Enter.</li><li>Save the notebook using the save icon or File->Save Notebook menu item</li></ul><br><br><br><b>Answer String:</b><br> ';\n",
       "    console.log(responses);\n",
       "    responses.forEach((response, index) => {\n",
       "        if (response) {\n",
       "            console.log(index + ': ' + response);\n",
       "            stringResponses+= index + ': ' + response +\"<BR>\";\n",
       "        }\n",
       "    });\n",
       "    responsesContainer.innerHTML=stringResponses;\n",
       "}\n",
       "function check_mc() {\n",
       "    var id = this.id.split('-')[0];\n",
       "    //var response = this.id.split('-')[1];\n",
       "    //console.log(response);\n",
       "    //console.log(\"In check_mc(), id=\"+id);\n",
       "    //console.log(event.srcElement.id)           \n",
       "    //console.log(event.srcElement.dataset.correct)   \n",
       "    //console.log(event.srcElement.dataset.feedback)\n",
       "\n",
       "    var label = event.srcElement;\n",
       "    //console.log(label, label.nodeName);\n",
       "    var depth = 0;\n",
       "    while ((label.nodeName != \"LABEL\") && (depth < 20)) {\n",
       "        label = label.parentElement;\n",
       "        console.log(depth, label);\n",
       "        depth++;\n",
       "    }\n",
       "\n",
       "\n",
       "\n",
       "    var answers = label.parentElement.children;\n",
       "\n",
       "    //console.log(answers);\n",
       "\n",
       "\n",
       "    // Split behavior based on multiple choice vs many choice:\n",
       "    var fb = document.getElementById(\"fb\" + id);\n",
       "\n",
       "\n",
       "\n",
       "\n",
       "    if (fb.dataset.numcorrect == 1) {\n",
       "        // What follows is for the saved responses stuff\n",
       "        var outerContainer = fb.parentElement.parentElement;\n",
       "        var responsesContainer = document.getElementById(\"responses\" + outerContainer.id);\n",
       "        if (responsesContainer) {\n",
       "            //console.log(responsesContainer);\n",
       "            var response = label.firstChild.innerText;\n",
       "            if (label.querySelector(\".QuizCode\")){\n",
       "                response+= label.querySelector(\".QuizCode\").firstChild.innerText;\n",
       "            }\n",
       "            console.log(response);\n",
       "            //console.log(document.getElementById(\"quizWrap\"+id));\n",
       "            var qnum = document.getElementById(\"quizWrap\"+id).dataset.qnum;\n",
       "            console.log(\"Question \" + qnum);\n",
       "            //console.log(id, \", got numcorrect=\",fb.dataset.numcorrect);\n",
       "            var responses=JSON.parse(responsesContainer.dataset.responses);\n",
       "            console.log(responses);\n",
       "            responses[qnum]= response;\n",
       "            responsesContainer.setAttribute('data-responses', JSON.stringify(responses));\n",
       "            printResponses(responsesContainer);\n",
       "        }\n",
       "        // End code to preserve responses\n",
       "        \n",
       "        for (var i = 0; i < answers.length; i++) {\n",
       "            var child = answers[i];\n",
       "            //console.log(child);\n",
       "            child.className = \"MCButton\";\n",
       "        }\n",
       "\n",
       "\n",
       "\n",
       "        if (label.dataset.correct == \"true\") {\n",
       "            // console.log(\"Correct action\");\n",
       "            if (\"feedback\" in label.dataset) {\n",
       "                fb.textContent = jaxify(label.dataset.feedback);\n",
       "            } else {\n",
       "                fb.textContent = \"Correct!\";\n",
       "            }\n",
       "            label.classList.add(\"correctButton\");\n",
       "\n",
       "            fb.className = \"Feedback\";\n",
       "            fb.classList.add(\"correct\");\n",
       "\n",
       "        } else {\n",
       "            if (\"feedback\" in label.dataset) {\n",
       "                fb.textContent = jaxify(label.dataset.feedback);\n",
       "            } else {\n",
       "                fb.textContent = \"Incorrect -- try again.\";\n",
       "            }\n",
       "            //console.log(\"Error action\");\n",
       "            label.classList.add(\"incorrectButton\");\n",
       "            fb.className = \"Feedback\";\n",
       "            fb.classList.add(\"incorrect\");\n",
       "        }\n",
       "    }\n",
       "    else {\n",
       "        var reset = false;\n",
       "        var feedback;\n",
       "         if (label.dataset.correct == \"true\") {\n",
       "            if (\"feedback\" in label.dataset) {\n",
       "                feedback = jaxify(label.dataset.feedback);\n",
       "            } else {\n",
       "                feedback = \"Correct!\";\n",
       "            }\n",
       "            if (label.dataset.answered <= 0) {\n",
       "                if (fb.dataset.answeredcorrect < 0) {\n",
       "                    fb.dataset.answeredcorrect = 1;\n",
       "                    reset = true;\n",
       "                } else {\n",
       "                    fb.dataset.answeredcorrect++;\n",
       "                }\n",
       "                if (reset) {\n",
       "                    for (var i = 0; i < answers.length; i++) {\n",
       "                        var child = answers[i];\n",
       "                        child.className = \"MCButton\";\n",
       "                        child.dataset.answered = 0;\n",
       "                    }\n",
       "                }\n",
       "                label.classList.add(\"correctButton\");\n",
       "                label.dataset.answered = 1;\n",
       "                fb.className = \"Feedback\";\n",
       "                fb.classList.add(\"correct\");\n",
       "\n",
       "            }\n",
       "        } else {\n",
       "            if (\"feedback\" in label.dataset) {\n",
       "                feedback = jaxify(label.dataset.feedback);\n",
       "            } else {\n",
       "                feedback = \"Incorrect -- try again.\";\n",
       "            }\n",
       "            if (fb.dataset.answeredcorrect > 0) {\n",
       "                fb.dataset.answeredcorrect = -1;\n",
       "                reset = true;\n",
       "            } else {\n",
       "                fb.dataset.answeredcorrect--;\n",
       "            }\n",
       "\n",
       "            if (reset) {\n",
       "                for (var i = 0; i < answers.length; i++) {\n",
       "                    var child = answers[i];\n",
       "                    child.className = \"MCButton\";\n",
       "                    child.dataset.answered = 0;\n",
       "                }\n",
       "            }\n",
       "            label.classList.add(\"incorrectButton\");\n",
       "            fb.className = \"Feedback\";\n",
       "            fb.classList.add(\"incorrect\");\n",
       "        }\n",
       "        // What follows is for the saved responses stuff\n",
       "        var outerContainer = fb.parentElement.parentElement;\n",
       "        var responsesContainer = document.getElementById(\"responses\" + outerContainer.id);\n",
       "        if (responsesContainer) {\n",
       "            //console.log(responsesContainer);\n",
       "            var response = label.firstChild.innerText;\n",
       "            if (label.querySelector(\".QuizCode\")){\n",
       "                response+= label.querySelector(\".QuizCode\").firstChild.innerText;\n",
       "            }\n",
       "            console.log(response);\n",
       "            //console.log(document.getElementById(\"quizWrap\"+id));\n",
       "            var qnum = document.getElementById(\"quizWrap\"+id).dataset.qnum;\n",
       "            console.log(\"Question \" + qnum);\n",
       "            //console.log(id, \", got numcorrect=\",fb.dataset.numcorrect);\n",
       "            var responses=JSON.parse(responsesContainer.dataset.responses);\n",
       "            if (label.dataset.correct == \"true\") {\n",
       "                if (typeof(responses[qnum]) == \"object\"){\n",
       "                    if (!responses[qnum].includes(response))\n",
       "                        responses[qnum].push(response);\n",
       "                } else{\n",
       "                    responses[qnum]= [ response ];\n",
       "                }\n",
       "            } else {\n",
       "                responses[qnum]= response;\n",
       "            }\n",
       "            console.log(responses);\n",
       "            responsesContainer.setAttribute('data-responses', JSON.stringify(responses));\n",
       "            printResponses(responsesContainer);\n",
       "        }\n",
       "        // End save responses stuff\n",
       "\n",
       "\n",
       "\n",
       "        var numcorrect = fb.dataset.numcorrect;\n",
       "        var answeredcorrect = fb.dataset.answeredcorrect;\n",
       "        if (answeredcorrect >= 0) {\n",
       "            fb.textContent = feedback + \" [\" + answeredcorrect + \"/\" + numcorrect + \"]\";\n",
       "        } else {\n",
       "            fb.textContent = feedback + \" [\" + 0 + \"/\" + numcorrect + \"]\";\n",
       "        }\n",
       "\n",
       "\n",
       "    }\n",
       "\n",
       "    if (typeof MathJax != 'undefined') {\n",
       "        var version = MathJax.version;\n",
       "        console.log('MathJax version', version);\n",
       "        if (version[0] == \"2\") {\n",
       "            MathJax.Hub.Queue([\"Typeset\", MathJax.Hub]);\n",
       "        } else if (version[0] == \"3\") {\n",
       "            MathJax.typeset([fb]);\n",
       "        }\n",
       "    } else {\n",
       "        console.log('MathJax not detected');\n",
       "    }\n",
       "\n",
       "}\n",
       "\n",
       "function make_mc(qa, shuffle_answers, outerqDiv, qDiv, aDiv, id) {\n",
       "    var shuffled;\n",
       "    if (shuffle_answers == \"True\") {\n",
       "        //console.log(shuffle_answers+\" read as true\");\n",
       "        shuffled = getRandomSubarray(qa.answers, qa.answers.length);\n",
       "    } else {\n",
       "        //console.log(shuffle_answers+\" read as false\");\n",
       "        shuffled = qa.answers;\n",
       "    }\n",
       "\n",
       "\n",
       "    var num_correct = 0;\n",
       "\n",
       "\n",
       "\n",
       "    shuffled.forEach((item, index, ans_array) => {\n",
       "        //console.log(answer);\n",
       "\n",
       "        // Make input element\n",
       "        var inp = document.createElement(\"input\");\n",
       "        inp.type = \"radio\";\n",
       "        inp.id = \"quizo\" + id + index;\n",
       "        inp.style = \"display:none;\";\n",
       "        aDiv.append(inp);\n",
       "\n",
       "        //Make label for input element\n",
       "        var lab = document.createElement(\"label\");\n",
       "        lab.className = \"MCButton\";\n",
       "        lab.id = id + '-' + index;\n",
       "        lab.onclick = check_mc;\n",
       "        var aSpan = document.createElement('span');\n",
       "        aSpan.classsName = \"\";\n",
       "        //qDiv.id=\"quizQn\"+id+index;\n",
       "        if (\"answer\" in item) {\n",
       "            aSpan.innerHTML = jaxify(item.answer);\n",
       "            //aSpan.innerHTML=item.answer;\n",
       "        }\n",
       "        lab.append(aSpan);\n",
       "\n",
       "        // Create div for code inside question\n",
       "        var codeSpan;\n",
       "        if (\"code\" in item) {\n",
       "            codeSpan = document.createElement('span');\n",
       "            codeSpan.id = \"code\" + id + index;\n",
       "            codeSpan.className = \"QuizCode\";\n",
       "            var codePre = document.createElement('pre');\n",
       "            codeSpan.append(codePre);\n",
       "            var codeCode = document.createElement('code');\n",
       "            codePre.append(codeCode);\n",
       "            codeCode.innerHTML = item.code;\n",
       "            lab.append(codeSpan);\n",
       "            //console.log(codeSpan);\n",
       "        }\n",
       "\n",
       "        //lab.textContent=item.answer;\n",
       "\n",
       "        // Set the data attributes for the answer\n",
       "        lab.setAttribute('data-correct', item.correct);\n",
       "        if (item.correct) {\n",
       "            num_correct++;\n",
       "        }\n",
       "        if (\"feedback\" in item) {\n",
       "            lab.setAttribute('data-feedback', item.feedback);\n",
       "        }\n",
       "        lab.setAttribute('data-answered', 0);\n",
       "\n",
       "        aDiv.append(lab);\n",
       "\n",
       "    });\n",
       "\n",
       "    if (num_correct > 1) {\n",
       "        outerqDiv.className = \"ManyChoiceQn\";\n",
       "    } else {\n",
       "        outerqDiv.className = \"MultipleChoiceQn\";\n",
       "    }\n",
       "\n",
       "    return num_correct;\n",
       "\n",
       "}\n",
       "function check_numeric(ths, event) {\n",
       "\n",
       "    if (event.keyCode === 13) {\n",
       "        ths.blur();\n",
       "\n",
       "        var id = ths.id.split('-')[0];\n",
       "\n",
       "        var submission = ths.value;\n",
       "        if (submission.indexOf('/') != -1) {\n",
       "            var sub_parts = submission.split('/');\n",
       "            //console.log(sub_parts);\n",
       "            submission = sub_parts[0] / sub_parts[1];\n",
       "        }\n",
       "        //console.log(\"Reader entered\", submission);\n",
       "\n",
       "        if (\"precision\" in ths.dataset) {\n",
       "            var precision = ths.dataset.precision;\n",
       "            // console.log(\"1:\", submission)\n",
       "            submission = Math.round((1 * submission + Number.EPSILON) * 10 ** precision) / 10 ** precision;\n",
       "            // console.log(\"Rounded to \", submission, \" precision=\", precision  );\n",
       "        }\n",
       "\n",
       "\n",
       "        //console.log(\"In check_numeric(), id=\"+id);\n",
       "        //console.log(event.srcElement.id)           \n",
       "        //console.log(event.srcElement.dataset.feedback)\n",
       "\n",
       "        var fb = document.getElementById(\"fb\" + id);\n",
       "        fb.style.display = \"none\";\n",
       "        fb.textContent = \"Incorrect -- try again.\";\n",
       "\n",
       "        var answers = JSON.parse(ths.dataset.answers);\n",
       "        //console.log(answers);\n",
       "\n",
       "        var defaultFB = \"\";\n",
       "        var correct;\n",
       "        var done = false;\n",
       "        answers.every(answer => {\n",
       "            //console.log(answer.type);\n",
       "\n",
       "            correct = false;\n",
       "            // if (answer.type==\"value\"){\n",
       "            if ('value' in answer) {\n",
       "                if (submission == answer.value) {\n",
       "                    if (\"feedback\" in answer) {\n",
       "                        fb.textContent = jaxify(answer.feedback);\n",
       "                    } else {\n",
       "                        fb.textContent = jaxify(\"Correct\");\n",
       "                    }\n",
       "                    correct = answer.correct;\n",
       "                    //console.log(answer.correct);\n",
       "                    done = true;\n",
       "                }\n",
       "                // } else if (answer.type==\"range\") {\n",
       "            } else if ('range' in answer) {\n",
       "                //console.log(answer.range);\n",
       "                if ((submission >= answer.range[0]) && (submission < answer.range[1])) {\n",
       "                    fb.textContent = jaxify(answer.feedback);\n",
       "                    correct = answer.correct;\n",
       "                    //console.log(answer.correct);\n",
       "                    done = true;\n",
       "                }\n",
       "            } else if (answer.type == \"default\") {\n",
       "                defaultFB = answer.feedback;\n",
       "            }\n",
       "            if (done) {\n",
       "                return false; // Break out of loop if this has been marked correct\n",
       "            } else {\n",
       "                return true; // Keep looking for case that includes this as a correct answer\n",
       "            }\n",
       "        });\n",
       "\n",
       "        if ((!done) && (defaultFB != \"\")) {\n",
       "            fb.innerHTML = jaxify(defaultFB);\n",
       "            //console.log(\"Default feedback\", defaultFB);\n",
       "        }\n",
       "\n",
       "        fb.style.display = \"block\";\n",
       "        if (correct) {\n",
       "            ths.className = \"Input-text\";\n",
       "            ths.classList.add(\"correctButton\");\n",
       "            fb.className = \"Feedback\";\n",
       "            fb.classList.add(\"correct\");\n",
       "        } else {\n",
       "            ths.className = \"Input-text\";\n",
       "            ths.classList.add(\"incorrectButton\");\n",
       "            fb.className = \"Feedback\";\n",
       "            fb.classList.add(\"incorrect\");\n",
       "        }\n",
       "\n",
       "        // What follows is for the saved responses stuff\n",
       "        var outerContainer = fb.parentElement.parentElement;\n",
       "        var responsesContainer = document.getElementById(\"responses\" + outerContainer.id);\n",
       "        if (responsesContainer) {\n",
       "            console.log(submission);\n",
       "            var qnum = document.getElementById(\"quizWrap\"+id).dataset.qnum;\n",
       "            //console.log(\"Question \" + qnum);\n",
       "            //console.log(id, \", got numcorrect=\",fb.dataset.numcorrect);\n",
       "            var responses=JSON.parse(responsesContainer.dataset.responses);\n",
       "            console.log(responses);\n",
       "            if (submission == ths.value){\n",
       "                responses[qnum]= submission;\n",
       "            } else {\n",
       "                responses[qnum]= ths.value + \"(\" + submission +\")\";\n",
       "            }\n",
       "            responsesContainer.setAttribute('data-responses', JSON.stringify(responses));\n",
       "            printResponses(responsesContainer);\n",
       "        }\n",
       "        // End code to preserve responses\n",
       "\n",
       "        if (typeof MathJax != 'undefined') {\n",
       "            var version = MathJax.version;\n",
       "            console.log('MathJax version', version);\n",
       "            if (version[0] == \"2\") {\n",
       "                MathJax.Hub.Queue([\"Typeset\", MathJax.Hub]);\n",
       "            } else if (version[0] == \"3\") {\n",
       "                MathJax.typeset([fb]);\n",
       "            }\n",
       "        } else {\n",
       "            console.log('MathJax not detected');\n",
       "        }\n",
       "        return false;\n",
       "    }\n",
       "\n",
       "}\n",
       "\n",
       "function isValid(el, charC) {\n",
       "    //console.log(\"Input char: \", charC);\n",
       "    if (charC == 46) {\n",
       "        if (el.value.indexOf('.') === -1) {\n",
       "            return true;\n",
       "        } else if (el.value.indexOf('/') != -1) {\n",
       "            var parts = el.value.split('/');\n",
       "            if (parts[1].indexOf('.') === -1) {\n",
       "                return true;\n",
       "            }\n",
       "        }\n",
       "        else {\n",
       "            return false;\n",
       "        }\n",
       "    } else if (charC == 47) {\n",
       "        if (el.value.indexOf('/') === -1) {\n",
       "            if ((el.value != \"\") && (el.value != \".\")) {\n",
       "                return true;\n",
       "            } else {\n",
       "                return false;\n",
       "            }\n",
       "        } else {\n",
       "            return false;\n",
       "        }\n",
       "    } else if (charC == 45) {\n",
       "        var edex = el.value.indexOf('e');\n",
       "        if (edex == -1) {\n",
       "            edex = el.value.indexOf('E');\n",
       "        }\n",
       "\n",
       "        if (el.value == \"\") {\n",
       "            return true;\n",
       "        } else if (edex == (el.value.length - 1)) { // If just after e or E\n",
       "            return true;\n",
       "        } else {\n",
       "            return false;\n",
       "        }\n",
       "    } else if (charC == 101) { // \"e\"\n",
       "        if ((el.value.indexOf('e') === -1) && (el.value.indexOf('E') === -1) && (el.value.indexOf('/') == -1)) {\n",
       "            // Prev symbol must be digit or decimal point:\n",
       "            if (el.value.slice(-1).search(/\\d/) >= 0) {\n",
       "                return true;\n",
       "            } else if (el.value.slice(-1).search(/\\./) >= 0) {\n",
       "                return true;\n",
       "            } else {\n",
       "                return false;\n",
       "            }\n",
       "        } else {\n",
       "            return false;\n",
       "        }\n",
       "    } else {\n",
       "        if (charC > 31 && (charC < 48 || charC > 57))\n",
       "            return false;\n",
       "    }\n",
       "    return true;\n",
       "}\n",
       "\n",
       "function numeric_keypress(evnt) {\n",
       "    var charC = (evnt.which) ? evnt.which : evnt.keyCode;\n",
       "\n",
       "    if (charC == 13) {\n",
       "        check_numeric(this, evnt);\n",
       "    } else {\n",
       "        return isValid(this, charC);\n",
       "    }\n",
       "}\n",
       "\n",
       "\n",
       "\n",
       "\n",
       "\n",
       "function make_numeric(qa, outerqDiv, qDiv, aDiv, id) {\n",
       "\n",
       "\n",
       "\n",
       "    //console.log(answer);\n",
       "\n",
       "\n",
       "    outerqDiv.className = \"NumericQn\";\n",
       "    aDiv.style.display = 'block';\n",
       "\n",
       "    var lab = document.createElement(\"label\");\n",
       "    lab.className = \"InpLabel\";\n",
       "    lab.textContent = \"Type numeric answer here:\";\n",
       "    aDiv.append(lab);\n",
       "\n",
       "    var inp = document.createElement(\"input\");\n",
       "    inp.type = \"text\";\n",
       "    //inp.id=\"input-\"+id;\n",
       "    inp.id = id + \"-0\";\n",
       "    inp.className = \"Input-text\";\n",
       "    inp.setAttribute('data-answers', JSON.stringify(qa.answers));\n",
       "    if (\"precision\" in qa) {\n",
       "        inp.setAttribute('data-precision', qa.precision);\n",
       "    }\n",
       "    aDiv.append(inp);\n",
       "    //console.log(inp);\n",
       "\n",
       "    //inp.addEventListener(\"keypress\", check_numeric);\n",
       "    //inp.addEventListener(\"keypress\", numeric_keypress);\n",
       "    /*\n",
       "    inp.addEventListener(\"keypress\", function(event) {\n",
       "        return numeric_keypress(this, event);\n",
       "    }\n",
       "                        );\n",
       "                        */\n",
       "    //inp.onkeypress=\"return numeric_keypress(this, event)\";\n",
       "    inp.onkeypress = numeric_keypress;\n",
       "    inp.onpaste = event => false;\n",
       "\n",
       "    inp.addEventListener(\"focus\", function (event) {\n",
       "        this.value = \"\";\n",
       "        return false;\n",
       "    }\n",
       "    );\n",
       "\n",
       "\n",
       "}\n",
       "function jaxify(string) {\n",
       "    var mystring = string;\n",
       "\n",
       "    var count = 0;\n",
       "    var loc = mystring.search(/([^\\\\]|^)(\\$)/);\n",
       "\n",
       "    var count2 = 0;\n",
       "    var loc2 = mystring.search(/([^\\\\]|^)(\\$\\$)/);\n",
       "\n",
       "    //console.log(loc);\n",
       "\n",
       "    while ((loc >= 0) || (loc2 >= 0)) {\n",
       "\n",
       "        /* Have to replace all the double $$ first with current implementation */\n",
       "        if (loc2 >= 0) {\n",
       "            if (count2 % 2 == 0) {\n",
       "                mystring = mystring.replace(/([^\\\\]|^)(\\$\\$)/, \"$1\\\\[\");\n",
       "            } else {\n",
       "                mystring = mystring.replace(/([^\\\\]|^)(\\$\\$)/, \"$1\\\\]\");\n",
       "            }\n",
       "            count2++;\n",
       "        } else {\n",
       "            if (count % 2 == 0) {\n",
       "                mystring = mystring.replace(/([^\\\\]|^)(\\$)/, \"$1\\\\(\");\n",
       "            } else {\n",
       "                mystring = mystring.replace(/([^\\\\]|^)(\\$)/, \"$1\\\\)\");\n",
       "            }\n",
       "            count++;\n",
       "        }\n",
       "        loc = mystring.search(/([^\\\\]|^)(\\$)/);\n",
       "        loc2 = mystring.search(/([^\\\\]|^)(\\$\\$)/);\n",
       "        //console.log(mystring,\", loc:\",loc,\", loc2:\",loc2);\n",
       "    }\n",
       "\n",
       "    //console.log(mystring);\n",
       "    return mystring;\n",
       "}\n",
       "\n",
       "\n",
       "function show_questions(json, mydiv) {\n",
       "    console.log('show_questions');\n",
       "    //var mydiv=document.getElementById(myid);\n",
       "    var shuffle_questions = mydiv.dataset.shufflequestions;\n",
       "    var num_questions = mydiv.dataset.numquestions;\n",
       "    var shuffle_answers = mydiv.dataset.shuffleanswers;\n",
       "    var max_width = mydiv.dataset.maxwidth;\n",
       "\n",
       "    if (num_questions > json.length) {\n",
       "        num_questions = json.length;\n",
       "    }\n",
       "\n",
       "    var questions;\n",
       "    if ((num_questions < json.length) || (shuffle_questions == \"True\")) {\n",
       "        //console.log(num_questions+\",\"+json.length);\n",
       "        questions = getRandomSubarray(json, num_questions);\n",
       "    } else {\n",
       "        questions = json;\n",
       "    }\n",
       "\n",
       "    //console.log(\"SQ: \"+shuffle_questions+\", NQ: \" + num_questions + \", SA: \", shuffle_answers);\n",
       "\n",
       "    // Iterate over questions\n",
       "    questions.forEach((qa, index, array) => {\n",
       "        //console.log(qa.question); \n",
       "\n",
       "        var id = makeid(8);\n",
       "        //console.log(id);\n",
       "\n",
       "\n",
       "        // Create Div to contain question and answers\n",
       "        var iDiv = document.createElement('div');\n",
       "        //iDiv.id = 'quizWrap' + id + index;\n",
       "        iDiv.id = 'quizWrap' + id;\n",
       "        iDiv.className = 'Quiz';\n",
       "        iDiv.setAttribute('data-qnum', index);\n",
       "        iDiv.style.maxWidth  =max_width+\"px\";\n",
       "        mydiv.appendChild(iDiv);\n",
       "        // iDiv.innerHTML=qa.question;\n",
       "        \n",
       "        var outerqDiv = document.createElement('div');\n",
       "        outerqDiv.id = \"OuterquizQn\" + id + index;\n",
       "        // Create div to contain question part\n",
       "        var qDiv = document.createElement('div');\n",
       "        qDiv.id = \"quizQn\" + id + index;\n",
       "        \n",
       "        if (qa.question) {\n",
       "            iDiv.append(outerqDiv);\n",
       "\n",
       "            //qDiv.textContent=qa.question;\n",
       "            qDiv.innerHTML = jaxify(qa.question);\n",
       "            outerqDiv.append(qDiv);\n",
       "        }\n",
       "\n",
       "        // Create div for code inside question\n",
       "        var codeDiv;\n",
       "        if (\"code\" in qa) {\n",
       "            codeDiv = document.createElement('div');\n",
       "            codeDiv.id = \"code\" + id + index;\n",
       "            codeDiv.className = \"QuizCode\";\n",
       "            var codePre = document.createElement('pre');\n",
       "            codeDiv.append(codePre);\n",
       "            var codeCode = document.createElement('code');\n",
       "            codePre.append(codeCode);\n",
       "            codeCode.innerHTML = qa.code;\n",
       "            outerqDiv.append(codeDiv);\n",
       "            //console.log(codeDiv);\n",
       "        }\n",
       "\n",
       "\n",
       "        // Create div to contain answer part\n",
       "        var aDiv = document.createElement('div');\n",
       "        aDiv.id = \"quizAns\" + id + index;\n",
       "        aDiv.className = 'Answer';\n",
       "        iDiv.append(aDiv);\n",
       "\n",
       "        //console.log(qa.type);\n",
       "\n",
       "        var num_correct;\n",
       "        if ((qa.type == \"multiple_choice\") || (qa.type == \"many_choice\") ) {\n",
       "            num_correct = make_mc(qa, shuffle_answers, outerqDiv, qDiv, aDiv, id);\n",
       "            if (\"answer_cols\" in qa) {\n",
       "                //aDiv.style.gridTemplateColumns = 'auto '.repeat(qa.answer_cols);\n",
       "                aDiv.style.gridTemplateColumns = 'repeat(' + qa.answer_cols + ', 1fr)';\n",
       "            }\n",
       "        } else if (qa.type == \"numeric\") {\n",
       "            //console.log(\"numeric\");\n",
       "            make_numeric(qa, outerqDiv, qDiv, aDiv, id);\n",
       "        }\n",
       "\n",
       "\n",
       "        //Make div for feedback\n",
       "        var fb = document.createElement(\"div\");\n",
       "        fb.id = \"fb\" + id;\n",
       "        //fb.style=\"font-size: 20px;text-align:center;\";\n",
       "        fb.className = \"Feedback\";\n",
       "        fb.setAttribute(\"data-answeredcorrect\", 0);\n",
       "        fb.setAttribute(\"data-numcorrect\", num_correct);\n",
       "        iDiv.append(fb);\n",
       "\n",
       "\n",
       "    });\n",
       "    var preserveResponses = mydiv.dataset.preserveresponses;\n",
       "    console.log(preserveResponses);\n",
       "    console.log(preserveResponses == \"true\");\n",
       "    if (preserveResponses == \"true\") {\n",
       "        console.log(preserveResponses);\n",
       "        // Create Div to contain record of answers\n",
       "        var iDiv = document.createElement('div');\n",
       "        iDiv.id = 'responses' + mydiv.id;\n",
       "        iDiv.className = 'JCResponses';\n",
       "        // Create a place to store responses as an empty array\n",
       "        iDiv.setAttribute('data-responses', '[]');\n",
       "\n",
       "        // Dummy Text\n",
       "        iDiv.innerHTML=\"<b>Select your answers and then follow the directions that will appear here.</b>\"\n",
       "        //iDiv.className = 'Quiz';\n",
       "        mydiv.appendChild(iDiv);\n",
       "    }\n",
       "//console.log(\"At end of show_questions\");\n",
       "    if (typeof MathJax != 'undefined') {\n",
       "        console.log(\"MathJax version\", MathJax.version);\n",
       "        var version = MathJax.version;\n",
       "        setTimeout(function(){\n",
       "            var version = MathJax.version;\n",
       "            console.log('After sleep, MathJax version', version);\n",
       "            if (version[0] == \"2\") {\n",
       "                MathJax.Hub.Queue([\"Typeset\", MathJax.Hub]);\n",
       "            } else if (version[0] == \"3\") {\n",
       "                MathJax.typeset([mydiv]);\n",
       "            }\n",
       "        }, 500);\n",
       "if (typeof version == 'undefined') {\n",
       "        } else\n",
       "        {\n",
       "            if (version[0] == \"2\") {\n",
       "                MathJax.Hub.Queue([\"Typeset\", MathJax.Hub]);\n",
       "            } else if (version[0] == \"3\") {\n",
       "                MathJax.typeset([mydiv]);\n",
       "            } else {\n",
       "                console.log(\"MathJax not found\");\n",
       "            }\n",
       "        }\n",
       "    }\n",
       "    return false;\n",
       "}\n",
       "/* This is to handle asynchrony issues in loading Jupyter notebooks\n",
       "           where the quiz has been previously run. The Javascript was generally\n",
       "           being run before the div was added to the DOM. I tried to do this\n",
       "           more elegantly using Mutation Observer, but I didn't get it to work.\n",
       "\n",
       "           Someone more knowledgeable could make this better ;-) */\n",
       "\n",
       "        function try_show() {\n",
       "          if(document.getElementById(\"KhFONSuWjuKA\")) {\n",
       "            show_questions(questionsKhFONSuWjuKA,  KhFONSuWjuKA); \n",
       "          } else {\n",
       "             setTimeout(try_show, 200);\n",
       "          }\n",
       "        };\n",
       "    \n",
       "        {\n",
       "        // console.log(element);\n",
       "\n",
       "        //console.log(\"KhFONSuWjuKA\");\n",
       "        // console.log(document.getElementById(\"KhFONSuWjuKA\"));\n",
       "\n",
       "        try_show();\n",
       "        }\n",
       "        "
      ],
      "text/plain": [
       "<IPython.core.display.Javascript object>"
      ]
     },
     "metadata": {},
     "output_type": "display_data"
    }
   ],
   "source": [
    "from jupyterquiz import display_quiz\n",
    "display_quiz(\"questions/summary_numpy.json\")"
   ]
  },
  {
   "cell_type": "code",
   "execution_count": null,
   "id": "7705e6d4-0ea5-41aa-af00-56055fd1caa8",
   "metadata": {
    "editable": true,
    "slideshow": {
     "slide_type": ""
    },
    "tags": []
   },
   "outputs": [],
   "source": []
  }
 ],
 "metadata": {
  "kernelspec": {
   "display_name": "Python 3 (ipykernel)",
   "language": "python",
   "name": "python3"
  },
  "language_info": {
   "codemirror_mode": {
    "name": "ipython",
    "version": 3
   },
   "file_extension": ".py",
   "mimetype": "text/x-python",
   "name": "python",
   "nbconvert_exporter": "python",
   "pygments_lexer": "ipython3",
   "version": "3.9.19"
  }
 },
 "nbformat": 4,
 "nbformat_minor": 5
}
