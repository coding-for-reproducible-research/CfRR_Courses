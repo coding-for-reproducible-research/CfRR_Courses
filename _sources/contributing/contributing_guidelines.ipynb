{
 "cells": [
  {
   "cell_type": "markdown",
   "id": "7e2110e8-2ef8-4e57-9257-bd6445c54864",
   "metadata": {},
   "source": [
    "# Contributor Guidelines\n",
    "\n",
    "Welcome to the Contributor Guidelines page! To ensure consistency and quality across all our courses, we have established specific standards for different programming languages. These guidelines will help you understand the preferred tools and formats for delivering course content.\n",
    "\n",
    "## Language-Specific Standards\n",
    "\n",
    "### Python\n",
    "\n",
    "For Python courses, we have decided to use Jupyter notebooks. Jupyter notebooks provide an interactive environment where learners can write and execute Python code, visualize data, and annotate their code with markdown cells. This format is ideal for Python courses because it allows for seamless integration of code and explanatory text, making it easier for learners to follow along and understand complex concepts.\n",
    "\n",
    "#### Guidelines for Python Courses:\n",
    "- Use Jupyter notebooks (`.ipynb` files) for all course materials.\n",
    "- Ensure that code cells are well-commented and include explanations in markdown cells.\n",
    "- Include visualizations and plots where applicable to enhance understanding.\n",
    "- Use Jupyter widgets or interactive elements to create engaging learning experiences.\n",
    "- Test all notebooks to ensure they run correctly from start to finish.\n",
    "\n",
    "### R\n",
    "\n",
    "For R courses, we have chosen to use learnr tutorials. The learnr package in R allows for the creation of interactive tutorials that can include R code, exercises, and quizzes. This format is particularly suited for R courses as it engages learners with hands-on practice and immediate feedback.\n",
    "\n",
    "#### Guidelines for R Courses:\n",
    "- Use learnr tutorials (`.Rmd` files) for all course materials.\n",
    "- Incorporate interactive code exercises and quizzes to reinforce learning.\n",
    "- Ensure that tutorials are self-contained and include all necessary data and instructions.\n",
    "- Use clear and concise explanations in markdown to guide learners through the content.\n",
    "- Test all tutorials to ensure they function correctly and provide accurate feedback.\n",
    "\n",
    "## Course Delivery\n",
    "\n",
    "Courses may be delivered in different ways depending on the tools available and the nature of the content. It's important to adhere to the standards outlined above to maintain consistency and quality across all courses.\n",
    "\n",
    "## Conclusion\n",
    "\n",
    "By following these language-specific standards, contributors can help us create high-quality, consistent, and engaging learning experiences for our learners. Thank you for your contributions!\n",
    "\n",
    "## Additional Resources\n",
    "\n",
    "For more detailed guidelines and resources, please refer to the following links:\n",
    "- [Jupyter Notebook Documentation](https://jupyter.org/documentation)\n",
    "- [learnr Package Documentation](https://rstudio.github.io/learnr/)\n",
    "- [Markdown Guide](https://www.markdownguide.org/)\n",
    "\n",
    "We appreciate your cooperation and look forward to your valuable contributions!\n"
   ]
  },
  {
   "cell_type": "code",
   "execution_count": null,
   "id": "49153367-efed-40c9-a243-e2a666d3f96a",
   "metadata": {},
   "outputs": [],
   "source": []
  }
 ],
 "metadata": {
  "kernelspec": {
   "display_name": "Python 3 (ipykernel)",
   "language": "python",
   "name": "python3"
  },
  "language_info": {
   "codemirror_mode": {
    "name": "ipython",
    "version": 3
   },
   "file_extension": ".py",
   "mimetype": "text/x-python",
   "name": "python",
   "nbconvert_exporter": "python",
   "pygments_lexer": "ipython3",
   "version": "3.9.19"
  }
 },
 "nbformat": 4,
 "nbformat_minor": 5
}
