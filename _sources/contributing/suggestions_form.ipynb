{
 "cells": [
  {
   "cell_type": "markdown",
   "id": "c636221a-e158-4fc8-a83a-4a5454253b1f",
   "metadata": {
    "editable": true,
    "slideshow": {
     "slide_type": ""
    },
    "tags": []
   },
   "source": [
    "# Feedback \n",
    "\n",
    "The Coding for Reproducible Research is a constantly evolving piece of work and we are keen to develop the program in response to community feedback to ensure we need the needs of those engaging with the workshops. As such, if there is anything you would like to see included as part of the program, then please fill out the form below to let us know. \n",
    "\n",
    "<iframe width=\"100%\" height=\"1000px\" src=\"https://forms.office.com/Pages/ResponsePage.aspx?id=d10qkZj77k6vMhM02PBKU1p5IkKpVbtNkGlRxe_xSUNUQUtYQTAyRlFCMkhONVRONlMzRlQ4SEU3WS4u&embed=true\" frameborder=\"0\" marginwidth=\"0\" marginheight=\"0\" style=\"border: none; max-width:100%; max-height:200vh\" allowfullscreen webkitallowfullscreen mozallowfullscreen msallowfullscreen> </iframe>"
   ]
  },
  {
   "cell_type": "code",
   "execution_count": null,
   "id": "5be81bc6-7bf6-415b-8694-4cc11ccb302e",
   "metadata": {
    "editable": true,
    "slideshow": {
     "slide_type": ""
    },
    "tags": []
   },
   "outputs": [],
   "source": []
  }
 ],
 "metadata": {
  "kernelspec": {
   "display_name": "Python 3 (ipykernel)",
   "language": "python",
   "name": "python3"
  },
  "language_info": {
   "codemirror_mode": {
    "name": "ipython",
    "version": 3
   },
   "file_extension": ".py",
   "mimetype": "text/x-python",
   "name": "python",
   "nbconvert_exporter": "python",
   "pygments_lexer": "ipython3",
   "version": "3.9.19"
  }
 },
 "nbformat": 4,
 "nbformat_minor": 5
}
