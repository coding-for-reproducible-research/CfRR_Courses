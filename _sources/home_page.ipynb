{
 "cells": [
  {
   "cell_type": "markdown",
   "id": "ca724092-a511-4ac1-8683-17e64545ab95",
   "metadata": {
    "editable": true,
    "slideshow": {
     "slide_type": ""
    },
    "tags": []
   },
   "source": [
    "# Coding for Reproducible Research (CfRR)\n",
    "This training programme provides a series workshops to support researchers at the University of Exeter to expand their skillsets and position them to confidently perform their informatics research projects in an efficient and reproducible way. The programme covers not only training on specific languages, such as Python, R, and Unix/Linux, but additionally incorporates training relating to good practise and reproducible working methods that is designed to be agnostic of programming language. In this way we offer a holistic perspective as to how programming tasks should be approached, ultimately providing researchers with the tools and knowledge to feel confident in what they are doing. All workshops are open to any staff or student, from any college or department and are accessible from any campus.\n",
    "\n",
    "These workshops are brought to you by the [University of Exeter Research Software and Analytics Group](https://www.exeter.ac.uk/research/research-software-and-analytics/), [University of Exeter Researcher Development](https://www.exeter.ac.uk/research/doctoralcollege/researcherdevelopment/) and the [University of Exeter Doctoral College](https://www.exeter.ac.uk/research/doctoralcollege/).\n",
    "\n",
    "You can contact the CfRR team at the following email: [codingforreproducibleresearch@exeter.ac.uk](mailto:codingforreproducibleresearch@exeter.ac.uk)\n",
    "\n",
    "Please [register your interest in a particular course by completing this form](https://forms.office.com/pages/responsepage.aspx?id=d10qkZj77k6vMhM02PBKU6c8tNVRoxhAjFFJWmm07JtUOFUxN05CWFdQQTVTWVc4SDBGSjBKSVUxRy4u)\n",
    "\n",
    "For more details on the structure and use of this website, please go to ['How to use this website'](cfrr_program_details/how_to_use_CfRR.ipynb)."
   ]
  }
 ],
 "metadata": {
  "kernelspec": {
   "display_name": "Python 3 (ipykernel)",
   "language": "python",
   "name": "python3"
  },
  "language_info": {
   "codemirror_mode": {
    "name": "ipython",
    "version": 3
   },
   "file_extension": ".py",
   "mimetype": "text/x-python",
   "name": "python",
   "nbconvert_exporter": "python",
   "pygments_lexer": "ipython3",
   "version": "3.9.19"
  }
 },
 "nbformat": 4,
 "nbformat_minor": 5
}
