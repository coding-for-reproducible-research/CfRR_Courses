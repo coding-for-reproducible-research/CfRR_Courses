{
 "cells": [
  {
   "cell_type": "markdown",
   "id": "6a13479f-32d2-41b4-a3c1-a0d8373c6134",
   "metadata": {},
   "source": [
    "# Workshop Information\n",
    "\n",
    "This section contains all the essential information you need for our workshops, including detailed course descriptions, installation guides, and links to self-study materials. You'll also find important license information, acknowledgements, and details about the developers behind the courses. Additionally, we provide comprehensive content on the material used during the course delivery to refer back to after the course has ended. "
   ]
  },
  {
   "cell_type": "code",
   "execution_count": null,
   "id": "8f5ac02e-cea6-43d1-b475-997fba880dd2",
   "metadata": {},
   "outputs": [],
   "source": []
  }
 ],
 "metadata": {
  "kernelspec": {
   "display_name": "Python 3 (ipykernel)",
   "language": "python",
   "name": "python3"
  },
  "language_info": {
   "codemirror_mode": {
    "name": "ipython",
    "version": 3
   },
   "file_extension": ".py",
   "mimetype": "text/x-python",
   "name": "python",
   "nbconvert_exporter": "python",
   "pygments_lexer": "ipython3",
   "version": "3.9.19"
  }
 },
 "nbformat": 4,
 "nbformat_minor": 5
}
