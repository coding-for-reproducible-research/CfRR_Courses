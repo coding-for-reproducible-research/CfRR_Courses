{
 "cells": [
  {
   "cell_type": "markdown",
   "id": "663cd303-1115-492f-ac46-49cca337b940",
   "metadata": {
    "editable": true,
    "slideshow": {
     "slide_type": ""
    },
    "tags": []
   },
   "source": [
    "# Intermediate Version Control\n",
    "\n",
    "## Course Description \n",
    "\n",
    "\n",
    "This Intermediate Version Control course offers a comprehensive guide to mastering version control with Git, focusing on advanced topics and practical workflows. The course is designed to deepen your understanding of Git through hands-on exercises and real-world scenarios. Topics covered include configuring Git, working with branches and merges, understanding GitHub workflows, managing remotes, and rewriting history. The course aims to equip participants with the skills necessary to efficiently manage and collaborate on projects using Git.\n",
    "\n",
    "## Course Objectives\n",
    "- Understand and configure advanced Git settings.\n",
    "- Master branching and merging strategies.\n",
    "- Implement effective GitHub workflows for collaboration.\n",
    "- Manage remote repositories and synchronize local changes.\n",
    "- Learn techniques for rewriting Git history and recovering from mistakes.\n",
    "\n",
    "## Prerequisite Knowledge\n",
    "\n",
    "Participants should have taken the Introduction to Version Control and Introduction to UNIX course, or be comfortable with the topics that are discussed throughout the courses.\n",
    "\n",
    "\n",
    "## Installation Guide \n",
    "Prior to the start of the course, attendees should have git, a terminal and a code editor installed, and have a GitHub account with credentials configured.\n",
    "We provide suggestions below, but attendees can use alternatives they are already comfortable with (except for git, which is mandatory).\n",
    "\n",
    "If you encounter any difficulties with installation please contact the Exeter RSE group <rse-group@exeter.ac.uk>.\n",
    "\n",
    "## Git and a Terminal\n",
    "\n",
    "Git can be obtained from <https://git-scm.com/>.\n",
    "For windows users, the git installer comes with a terminal app Git Bash.\n",
    "For Mac and linux users, a terminal comes with your system.\n",
    "\n",
    "## Code Editor\n",
    "\n",
    "The lessons will include demonstrations with [VS Code](https://code.visualstudio.com/).\n",
    "Attendees familiar with another IDE or editor (such as RStudio or vim) will be able to follow along with all the exercises.\n",
    "\n",
    "## GitHub Account and Credentials\n",
    "\n",
    "Attendees can register for a free GitHub account at <https://github.com/>.\n",
    "Please follow the instructions at [Managing your personal access tokens](https://docs.github.com/en/authentication/keeping-your-account-and-data-secure/managing-your-personal-access-tokens), making a note of your username and personal access token.\n",
    "\n",
    "## Self Study Material Link \n",
    "\n",
    "The self-study material for this course is available [here](../individual_modules/section_landing_pages/intermediate_version_control.ipynb).\n",
    "\n",
    "## Acknowledgements \n",
    "\n",
    "This workshop was influenced by the [Introduction to Version Control](intro_to_version_control.ipynb) course for Coding for Reproducible Research (CfRR), and the [Pro Git Book](https://git-scm.com/book/en/v2).\n",
    "\n",
    "## Developers\n",
    "\n",
    "\n",
    "This workshop was developed by Stephen Cook for the CfRR, with support from members of the RSE Group at the University of Exeter:\n",
    "\n",
    "- Linus Tata\n",
    "- Liam Berrisford\n",
    "- Tom Wilson\n",
    "\n",
    "## License Info"
   ]
  },
  {
   "cell_type": "code",
   "execution_count": 1,
   "id": "8cdf232b-2d27-4009-887d-20a4c8e956e2",
   "metadata": {
    "editable": true,
    "slideshow": {
     "slide_type": ""
    },
    "tags": [
     "remove-input"
    ]
   },
   "outputs": [
    {
     "data": {
      "text/markdown": [
       "### Instructional Material\n",
       "\n",
       "The instructional material in this course is copyright © 2024 University of Exeter\n",
       "and is made available under the Creative Commons Attribution 4.0 International\n",
       "licence (https://creativecommons.org/licenses/by/4.0/). Instructional material\n",
       "consists of material that is contained within the \"individual_modules/intermediate_version_control\" folders in\n",
       "this repository, with the exception of code snippets and example programs found\n",
       "in files within these folders. Such code snippets and example programs are\n",
       "considered software for the purposes of this licence. \n",
       "\n",
       "\n",
       "### Software\n",
       "\n",
       "Except where otherwise noted, software provided in this repository is made\n",
       "available under the MIT licence (https://opensource.org/licenses/MIT).\n",
       "\n",
       "Copyright © 2024 University of Exeter\n",
       "\n",
       "Permission is hereby granted, free of charge, to any person obtaining a copy\n",
       "of this software and associated documentation files (the \"Software\"), to deal\n",
       "in the Software without restriction, including without limitation the rights\n",
       "to use, copy, modify, merge, publish, distribute, sublicense, and/or sell\n",
       "copies of the Software, and to permit persons to whom the Software is\n",
       "furnished to do so, subject to the following conditions:\n",
       "\n",
       "The above copyright notice and this permission notice shall be included in all\n",
       "copies or substantial portions of the Software.\n",
       "\n",
       "THE SOFTWARE IS PROVIDED \"AS IS\", WITHOUT WARRANTY OF ANY KIND, EXPRESS OR\n",
       "IMPLIED, INCLUDING BUT NOT LIMITED TO THE WARRANTIES OF MERCHANTABILITY,\n",
       "FITNESS FOR A PARTICULAR PURPOSE AND NONINFRINGEMENT. IN NO EVENT SHALL THE\n",
       "AUTHORS OR COPYRIGHT HOLDERS BE LIABLE FOR ANY CLAIM, DAMAGES OR OTHER\n",
       "LIABILITY, WHETHER IN AN ACTION OF CONTRACT, TORT OR OTHERWISE, ARISING FROM,\n",
       "OUT OF OR IN CONNECTION WITH THE SOFTWARE OR THE USE OR OTHER DEALINGS IN THE\n",
       "SOFTWARE.\n",
       "\n",
       "The software in this repository is adapted from software that is covered by the\n",
       "following copyright and permission notice:\n",
       "\n",
       "    Copyright © 2024 Software Carpentry\n",
       "\n",
       "    Permission is hereby granted, free of charge, to any person obtaining\n",
       "    a copy of this software and associated documentation files (the\n",
       "    \"Software\"), to deal in the Software without restriction, including\n",
       "    without limitation the rights to use, copy, modify, merge, publish,\n",
       "    distribute, sublicense, and/or sell copies of the Software, and to\n",
       "    permit persons to whom the Software is furnished to do so, subject to\n",
       "    the following conditions:\n",
       "\n",
       "    The above copyright notice and this permission notice shall be\n",
       "    included in all copies or substantial portions of the Software.\n",
       "\n",
       "    THE SOFTWARE IS PROVIDED \"AS IS\", WITHOUT WARRANTY OF ANY KIND,\n",
       "    EXPRESS OR IMPLIED, INCLUDING BUT NOT LIMITED TO THE WARRANTIES OF\n",
       "    MERCHANTABILITY, FITNESS FOR A PARTICULAR PURPOSE AND\n",
       "    NONINFRINGEMENT. IN NO EVENT SHALL THE AUTHORS OR COPYRIGHT HOLDERS BE\n",
       "    LIABLE FOR ANY CLAIM, DAMAGES OR OTHER LIABILITY, WHETHER IN AN ACTION\n",
       "    OF CONTRACT, TORT OR OTHERWISE, ARISING FROM, OUT OF OR IN CONNECTION\n",
       "    WITH THE SOFTWARE OR THE USE OR OTHER DEALINGS IN THE SOFTWARE."
      ],
      "text/plain": [
       "<IPython.core.display.Markdown object>"
      ]
     },
     "metadata": {},
     "output_type": "display_data"
    }
   ],
   "source": [
    "from IPython.display import Markdown, display\n",
    "\n",
    "def display_markdown(file_path):\n",
    "    try:\n",
    "        with open(file_path, 'r') as file:\n",
    "            content = file.read()\n",
    "            display(Markdown(content))\n",
    "    except FileNotFoundError:\n",
    "        print(f\"The file {file_path} was not found.\")\n",
    "    except Exception as e:\n",
    "        print(f\"An error occurred: {e}\")\n",
    "\n",
    "# Example usage:\n",
    "file_path = '../individual_modules/intermediate_version_control/LICENSE.txt'  # Replace with your file path\n",
    "display_markdown(file_path)"
   ]
  },
  {
   "cell_type": "code",
   "execution_count": null,
   "id": "1719c239-ca69-4624-9309-9e682e13114a",
   "metadata": {
    "editable": true,
    "slideshow": {
     "slide_type": ""
    },
    "tags": []
   },
   "outputs": [],
   "source": []
  }
 ],
 "metadata": {
  "kernelspec": {
   "display_name": "Python 3 (ipykernel)",
   "language": "python",
   "name": "python3"
  },
  "language_info": {
   "codemirror_mode": {
    "name": "ipython",
    "version": 3
   },
   "file_extension": ".py",
   "mimetype": "text/x-python",
   "name": "python",
   "nbconvert_exporter": "python",
   "pygments_lexer": "ipython3",
   "version": "3.9.19"
  }
 },
 "nbformat": 4,
 "nbformat_minor": 5
}
