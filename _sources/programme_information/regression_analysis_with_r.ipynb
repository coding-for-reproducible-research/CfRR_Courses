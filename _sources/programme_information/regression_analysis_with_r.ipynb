{
 "cells": [
  {
   "cell_type": "markdown",
   "id": "15c6945e-b80a-45ff-a30c-61d75765c92f",
   "metadata": {
    "editable": true,
    "slideshow": {
     "slide_type": ""
    },
    "tags": []
   },
   "source": [
    "# Regression Analysis with R\n",
    "\n",
    "## Course Description \n",
    "\n",
    "Regression analysis is a fundamental statistical technique used to model the relationship between multiple variables. It is a very flexible tool that can handle a range of different data types (continuous, binary or categorical) and address both complex and simple research questions. In this hands on workshop you will learn how to fit a range of regression models with R, how to interpret the output and the link between regression and other common statistical tools.\n",
    "\n",
    "## Course Objectives\n",
    "- Understand the types of questions regression can be used to answer.\n",
    "- Be able to fit a linear regression model with multiple predictor variables.\n",
    "- Be able to fit logistic regression model with multiple predictor variables.\n",
    "- Be able to extract and summarise the results from a range of regression models.\n",
    "- Be able to design a regression model appropriate for addressing their specific research question.\n",
    "\n",
    "## Pre-requisite Knowledge\n",
    "\n",
    "Learners are expected to already be familiar with the basics of R, such as how to load a dataset from a local file and manipulate variables.\n",
    "\n",
    "## Installation Guide \n",
    "\n",
    "As this course extends upon Introduction to R, the installation instructions for the base R elements are the same, available [here](intro_to_r.ipynb).\n",
    "\n",
    "Alongside having R itself, you will need some additional packages: \n",
    "Install necessary R packages\n",
    "Three packages are needed for this workshop. The first two (devtools & learnr) are available from CRAN. The third is a package we have developed with the course materials and is available from GitHub (cfrrRTutorials).\n",
    "\n",
    "This code will install these three packages.\n",
    "```\n",
    "install.packages(\"devtools\") \n",
    "install.packages(\"learnr\") \n",
    "library(devtools)\n",
    "devtools::install_github(\"ejh243/cfrr-r-tutorials\")\n",
    "```\n",
    "If you encounter any difficulties with installation, please reach out.\n",
    "\n",
    "## Self Study Material Link \n",
    "\n",
    "The self-study material for this course is available [here](../individual_modules/section_landing_pages/regression_analysis_with_R.ipynb).\n",
    "\n",
    "## Developers\n",
    "\n",
    "This workshop was developed by Eilis Hannon.\n",
    "\n",
    "\n",
    "## License Info "
   ]
  },
  {
   "cell_type": "code",
   "execution_count": 1,
   "id": "0e5e8c27-4d57-4db0-9004-e16ecd5d9adf",
   "metadata": {
    "editable": true,
    "slideshow": {
     "slide_type": ""
    },
    "tags": [
     "remove-input"
    ]
   },
   "outputs": [
    {
     "data": {
      "text/markdown": [
       "### Instructional Material\n",
       "\n",
       "The instructional material in this course is copyright © 2024 University of Exeter\n",
       "and is made available under the [Creative Commons Attribution 4.0 International\n",
       "licence](https://creativecommons.org/licenses/by/4.0/). Instructional material\n",
       "consists of material that is contained within the \"individual_modules/regression_analysis_with_R\" folders in\n",
       "this repository, with the exception of code snippets and example programs found\n",
       "in files within these folders. Such code snippets and example programs are\n",
       "considered software for the purposes of this licence. \n",
       "\n",
       "\n",
       "### Software\n",
       "\n",
       "Except where otherwise noted, software provided in this repository is made\n",
       "available under the MIT licence (https://opensource.org/licenses/MIT).\n",
       "\n",
       "Copyright © 2024 University of Exeter\n",
       "\n",
       "Permission is hereby granted, free of charge, to any person obtaining a copy\n",
       "of this software and associated documentation files (the \"Software\"), to deal\n",
       "in the Software without restriction, including without limitation the rights\n",
       "to use, copy, modify, merge, publish, distribute, sublicense, and/or sell\n",
       "copies of the Software, and to permit persons to whom the Software is\n",
       "furnished to do so, subject to the following conditions:\n",
       "\n",
       "The above copyright notice and this permission notice shall be included in all\n",
       "copies or substantial portions of the Software.\n",
       "\n",
       "THE SOFTWARE IS PROVIDED \"AS IS\", WITHOUT WARRANTY OF ANY KIND, EXPRESS OR\n",
       "IMPLIED, INCLUDING BUT NOT LIMITED TO THE WARRANTIES OF MERCHANTABILITY,\n",
       "FITNESS FOR A PARTICULAR PURPOSE AND NONINFRINGEMENT. IN NO EVENT SHALL THE\n",
       "AUTHORS OR COPYRIGHT HOLDERS BE LIABLE FOR ANY CLAIM, DAMAGES OR OTHER\n",
       "LIABILITY, WHETHER IN AN ACTION OF CONTRACT, TORT OR OTHERWISE, ARISING FROM,\n",
       "OUT OF OR IN CONNECTION WITH THE SOFTWARE OR THE USE OR OTHER DEALINGS IN THE\n",
       "SOFTWARE.\n",
       "\n",
       "The software in this repository is adapted from software that is covered by the\n",
       "following copyright and permission notice:\n",
       "\n",
       "    Copyright © 2024 Software Carpentry\n",
       "\n",
       "    Permission is hereby granted, free of charge, to any person obtaining\n",
       "    a copy of this software and associated documentation files (the\n",
       "    \"Software\"), to deal in the Software without restriction, including\n",
       "    without limitation the rights to use, copy, modify, merge, publish,\n",
       "    distribute, sublicense, and/or sell copies of the Software, and to\n",
       "    permit persons to whom the Software is furnished to do so, subject to\n",
       "    the following conditions:\n",
       "\n",
       "    The above copyright notice and this permission notice shall be\n",
       "    included in all copies or substantial portions of the Software.\n",
       "\n",
       "    THE SOFTWARE IS PROVIDED \"AS IS\", WITHOUT WARRANTY OF ANY KIND,\n",
       "    EXPRESS OR IMPLIED, INCLUDING BUT NOT LIMITED TO THE WARRANTIES OF\n",
       "    MERCHANTABILITY, FITNESS FOR A PARTICULAR PURPOSE AND\n",
       "    NONINFRINGEMENT. IN NO EVENT SHALL THE AUTHORS OR COPYRIGHT HOLDERS BE\n",
       "    LIABLE FOR ANY CLAIM, DAMAGES OR OTHER LIABILITY, WHETHER IN AN ACTION\n",
       "    OF CONTRACT, TORT OR OTHERWISE, ARISING FROM, OUT OF OR IN CONNECTION\n",
       "    WITH THE SOFTWARE OR THE USE OR OTHER DEALINGS IN THE SOFTWARE."
      ],
      "text/plain": [
       "<IPython.core.display.Markdown object>"
      ]
     },
     "metadata": {},
     "output_type": "display_data"
    }
   ],
   "source": [
    "from IPython.display import Markdown, display\n",
    "\n",
    "def display_markdown(file_path):\n",
    "    try:\n",
    "        with open(file_path, 'r') as file:\n",
    "            content = file.read()\n",
    "            display(Markdown(content))\n",
    "    except FileNotFoundError:\n",
    "        print(f\"The file {file_path} was not found.\")\n",
    "    except Exception as e:\n",
    "        print(f\"An error occurred: {e}\")\n",
    "\n",
    "# Example usage:\n",
    "file_path = '../individual_modules/regression_analysis_with_R/LICENSE.txt'  # Replace with your file path\n",
    "display_markdown(file_path)"
   ]
  },
  {
   "cell_type": "code",
   "execution_count": null,
   "id": "40ca7e21-033a-4864-a2e3-5f6006080772",
   "metadata": {
    "editable": true,
    "slideshow": {
     "slide_type": ""
    },
    "tags": []
   },
   "outputs": [],
   "source": []
  }
 ],
 "metadata": {
  "kernelspec": {
   "display_name": "Python 3 (ipykernel)",
   "language": "python",
   "name": "python3"
  },
  "language_info": {
   "codemirror_mode": {
    "name": "ipython",
    "version": 3
   },
   "file_extension": ".py",
   "mimetype": "text/x-python",
   "name": "python",
   "nbconvert_exporter": "python",
   "pygments_lexer": "ipython3",
   "version": "3.9.19"
  }
 },
 "nbformat": 4,
 "nbformat_minor": 5
}
