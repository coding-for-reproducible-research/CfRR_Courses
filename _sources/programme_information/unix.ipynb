{
 "cells": [
  {
   "cell_type": "markdown",
   "id": "391450f2-6483-4bfe-ba43-1d981e9b5930",
   "metadata": {},
   "source": [
    "# UNIX\n",
    "\n",
    "We currently offer one UNIX course:\n",
    "- **Introduction to UNIX**: Introduction to UNIX introduces the Unix system and shell, highlighting their powerful capabilities for data processing, executing code, using built-in tools, and creating pipelines, aimed at improving your workflow on both laptops and supercomputers."
   ]
  },
  {
   "cell_type": "code",
   "execution_count": null,
   "id": "d335923d-3bf6-4873-81f2-7276dd25471e",
   "metadata": {},
   "outputs": [],
   "source": []
  }
 ],
 "metadata": {
  "kernelspec": {
   "display_name": "Python 3 (ipykernel)",
   "language": "python",
   "name": "python3"
  },
  "language_info": {
   "codemirror_mode": {
    "name": "ipython",
    "version": 3
   },
   "file_extension": ".py",
   "mimetype": "text/x-python",
   "name": "python",
   "nbconvert_exporter": "python",
   "pygments_lexer": "ipython3",
   "version": "3.9.19"
  }
 },
 "nbformat": 4,
 "nbformat_minor": 5
}
