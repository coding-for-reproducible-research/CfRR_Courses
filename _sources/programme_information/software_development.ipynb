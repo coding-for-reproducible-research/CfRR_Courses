{
 "cells": [
  {
   "cell_type": "markdown",
   "id": "574cdc3f-8a73-4401-af79-422808a2023d",
   "metadata": {},
   "source": [
    "# Software Development\n",
    "\n",
    "We currently offer one software development course:\n",
    "- **Software Development Best Practice**: This course offers a high-level understanding of software development for research, be able to collaborate on code effectively, improve the reproducibility of their research by making code useful to others, and have the necessary foundations for intermediate-level courses in software development."
   ]
  },
  {
   "cell_type": "code",
   "execution_count": null,
   "id": "c7ca5cff-8f19-47f1-9ba8-20b27e976f59",
   "metadata": {},
   "outputs": [],
   "source": []
  }
 ],
 "metadata": {
  "kernelspec": {
   "display_name": "Python 3 (ipykernel)",
   "language": "python",
   "name": "python3"
  },
  "language_info": {
   "codemirror_mode": {
    "name": "ipython",
    "version": 3
   },
   "file_extension": ".py",
   "mimetype": "text/x-python",
   "name": "python",
   "nbconvert_exporter": "python",
   "pygments_lexer": "ipython3",
   "version": "3.9.19"
  }
 },
 "nbformat": 4,
 "nbformat_minor": 5
}
