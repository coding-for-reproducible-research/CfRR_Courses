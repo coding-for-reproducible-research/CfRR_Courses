{
 "cells": [
  {
   "cell_type": "markdown",
   "id": "f77c5a09-dfad-495e-92d9-f622e1e6a37a",
   "metadata": {},
   "source": [
    "# Computational Thinking\n",
    "\n",
    "We currently offer one computational thinking course:\n",
    "- **Computational Thinking**: Computational Thinking introduces fundamental principles of designing and implementing algorithms, enhancing your ability to write, develop, and debug code effectively, and is aimed at anyone currently programming or considering learning to program."
   ]
  },
  {
   "cell_type": "code",
   "execution_count": null,
   "id": "b1f27ece-0f79-4430-bfc3-b9138d38407c",
   "metadata": {},
   "outputs": [],
   "source": []
  }
 ],
 "metadata": {
  "kernelspec": {
   "display_name": "Python 3 (ipykernel)",
   "language": "python",
   "name": "python3"
  },
  "language_info": {
   "codemirror_mode": {
    "name": "ipython",
    "version": 3
   },
   "file_extension": ".py",
   "mimetype": "text/x-python",
   "name": "python",
   "nbconvert_exporter": "python",
   "pygments_lexer": "ipython3",
   "version": "3.9.19"
  }
 },
 "nbformat": 4,
 "nbformat_minor": 5
}
