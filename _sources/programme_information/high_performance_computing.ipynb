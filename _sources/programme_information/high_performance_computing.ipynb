{
 "cells": [
  {
   "cell_type": "markdown",
   "id": "73ea8c8f-c9ee-4ee1-aac0-c3d336dc7068",
   "metadata": {},
   "source": [
    "# High Performance Computing\n",
    "\n",
    "We currently offer one High Performance Computing (HPC) course:\n",
    "- **Introduction to HPC and ISCA**: Introduction to HPC and ISCA introduces ISCA, Exeter's HPC cluster, and covers designing HPC workflows, using the Slurm scheduling system, and running applications, enabling participants to improve the efficiency of their computational research by the end of the interactive sessions, aimed at those planning to use or learn about ISCA for computational tasks."
   ]
  },
  {
   "cell_type": "code",
   "execution_count": null,
   "id": "3738848f-d7d4-4d97-b4d5-cb201956f959",
   "metadata": {},
   "outputs": [],
   "source": []
  }
 ],
 "metadata": {
  "kernelspec": {
   "display_name": "Python 3 (ipykernel)",
   "language": "python",
   "name": "python3"
  },
  "language_info": {
   "codemirror_mode": {
    "name": "ipython",
    "version": 3
   },
   "file_extension": ".py",
   "mimetype": "text/x-python",
   "name": "python",
   "nbconvert_exporter": "python",
   "pygments_lexer": "ipython3",
   "version": "3.9.19"
  }
 },
 "nbformat": 4,
 "nbformat_minor": 5
}
