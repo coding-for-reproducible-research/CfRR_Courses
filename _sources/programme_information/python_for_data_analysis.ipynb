{
 "cells": [
  {
   "cell_type": "markdown",
   "id": "4d2b8ce4-5ddb-46bd-9d84-1d0ef81f49bb",
   "metadata": {
    "editable": true,
    "slideshow": {
     "slide_type": ""
    },
    "tags": []
   },
   "source": [
    "# Python for Data Analysis\n",
    "\n",
    "## Course Description \n",
    "\n",
    "This course provides an in-depth exploration of Python for data analysis, focusing on essential libraries and tools such as NumPy, Pandas, Matplotlib, and Plotly. Additionally, it covers critical software development practices, including testing, virtual environments, and version control, to ensure code reproducibility and collaboration in research projects. By the end of the course, participants will be adept at performing data manipulation, analysis, and visualisation tasks, and will have a solid understanding of maintaining and sharing their code efficiently.\n",
    "\n",
    "## Course Objectives\n",
    "- Grasp the fundamentals of Python programming, including data types, control structures, and functions\n",
    "- Learn how to load, clean, and manipulate data using Pandas for effective data analysis\n",
    "- Learn to use NumPy for numerical operations and handling large datasets efficiently\n",
    "- Understand the use of Pandas for handling research problem datasets \n",
    "- Create a variety of static and interactive visualisations to represent data insights, covering Matplotlib and Plotly\n",
    "- Apply machine learning techniques using Scikit-Learn for predictive modelling\n",
    "- Implement testing framework, manage dependencies with virtual environment\n",
    "- Learn methods to ensure that research and analyses can be reproduced and validated by other \n",
    "\n",
    "## Pre-requisite Knowledge\n",
    "Attendees should have taken the Introduction to Python course described [here](introduction_to_python.ipynb).\n",
    "\n",
    "## Installation Guide \n",
    "\n",
    "As this course extends upon Introduction to Python, the installation instructions are the same, available [here](introduction_to_python.ipynb).\n",
    "\n",
    "## Self Study Material Link \n",
    "\n",
    "The self-study material for this course is available [here](../individual_modules/section_landing_pages/python_for_data_analysis.ipynb).\n",
    "\n",
    "\n",
    "## Developers\n",
    "\n",
    "The developers of this course are: \n",
    "- **Michael Saunby**\n",
    "- **Simon Kirby**\n",
    "- **Liam Berrisford** \n",
    "\n",
    "\n",
    "## Course Delivery Content \n",
    "\n",
    "There are currently no additional content that is used outside of the self study notes to deliver this course.\n",
    "\n",
    "## License Info "
   ]
  },
  {
   "cell_type": "code",
   "execution_count": 1,
   "id": "a6973987-d961-4c27-9e68-0be1e50d037b",
   "metadata": {
    "editable": true,
    "slideshow": {
     "slide_type": ""
    },
    "tags": [
     "remove-input"
    ]
   },
   "outputs": [
    {
     "data": {
      "text/markdown": [
       "\n",
       "### Instructional Material\n",
       "\n",
       "The instructional material in this course is copyright © 2024 University of Exeter\n",
       "and is made available under the Creative Commons Attribution 4.0 International\n",
       "licence (https://creativecommons.org/licenses/by/4.0/). Instructional material\n",
       "consists of material that is contained within the \"individual_modules/python_for_data_analysis\" directory, and images folders in\n",
       "this directory, with the exception of code snippets and example programs found\n",
       "in files within these folders. Such code snippets and example programs are\n",
       "considered software for the purposes of this licence. \n",
       "\n",
       "\n",
       "### Software\n",
       "\n",
       "Except where otherwise noted, software provided in this repository is made\n",
       "available under the MIT licence (https://opensource.org/licenses/MIT).\n",
       "\n",
       "Copyright © 2024 University of Exeter\n",
       "\n",
       "Permission is hereby granted, free of charge, to any person obtaining a copy\n",
       "of this software and associated documentation files (the \"Software\"), to deal\n",
       "in the Software without restriction, including without limitation the rights\n",
       "to use, copy, modify, merge, publish, distribute, sublicense, and/or sell\n",
       "copies of the Software, and to permit persons to whom the Software is\n",
       "furnished to do so, subject to the following conditions:\n",
       "\n",
       "The above copyright notice and this permission notice shall be included in all\n",
       "copies or substantial portions of the Software.\n",
       "\n",
       "THE SOFTWARE IS PROVIDED \"AS IS\", WITHOUT WARRANTY OF ANY KIND, EXPRESS OR\n",
       "IMPLIED, INCLUDING BUT NOT LIMITED TO THE WARRANTIES OF MERCHANTABILITY,\n",
       "FITNESS FOR A PARTICULAR PURPOSE AND NONINFRINGEMENT. IN NO EVENT SHALL THE\n",
       "AUTHORS OR COPYRIGHT HOLDERS BE LIABLE FOR ANY CLAIM, DAMAGES OR OTHER\n",
       "LIABILITY, WHETHER IN AN ACTION OF CONTRACT, TORT OR OTHERWISE, ARISING FROM,\n",
       "OUT OF OR IN CONNECTION WITH THE SOFTWARE OR THE USE OR OTHER DEALINGS IN THE\n",
       "SOFTWARE."
      ],
      "text/plain": [
       "<IPython.core.display.Markdown object>"
      ]
     },
     "metadata": {},
     "output_type": "display_data"
    }
   ],
   "source": [
    "from IPython.display import Markdown, display\n",
    "\n",
    "def display_markdown(file_path):\n",
    "    try:\n",
    "        with open(file_path, 'r') as file:\n",
    "            content = file.read()\n",
    "            display(Markdown(content))\n",
    "    except FileNotFoundError:\n",
    "        print(f\"The file {file_path} was not found.\")\n",
    "    except Exception as e:\n",
    "        print(f\"An error occurred: {e}\")\n",
    "\n",
    "# Example usage:\n",
    "file_path = '../individual_modules/python_for_data_analysis/LICENSE.txt'  # Replace with your file path\n",
    "display_markdown(file_path)"
   ]
  },
  {
   "cell_type": "code",
   "execution_count": null,
   "id": "519e2700-246f-4ea7-b7d6-87a390ac3346",
   "metadata": {
    "editable": true,
    "slideshow": {
     "slide_type": ""
    },
    "tags": []
   },
   "outputs": [],
   "source": []
  }
 ],
 "metadata": {
  "kernelspec": {
   "display_name": "Python 3 (ipykernel)",
   "language": "python",
   "name": "python3"
  },
  "language_info": {
   "codemirror_mode": {
    "name": "ipython",
    "version": 3
   },
   "file_extension": ".py",
   "mimetype": "text/x-python",
   "name": "python",
   "nbconvert_exporter": "python",
   "pygments_lexer": "ipython3",
   "version": "3.9.19"
  }
 },
 "nbformat": 4,
 "nbformat_minor": 5
}
