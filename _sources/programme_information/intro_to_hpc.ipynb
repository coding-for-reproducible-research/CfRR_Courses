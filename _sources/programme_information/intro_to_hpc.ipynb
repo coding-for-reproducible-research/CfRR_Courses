{
 "cells": [
  {
   "cell_type": "markdown",
   "id": "e38d8834-fc79-4b1d-84c5-ae7b16d6b3ae",
   "metadata": {
    "editable": true,
    "slideshow": {
     "slide_type": ""
    },
    "tags": []
   },
   "source": [
    "# Introduction to HPC\n",
    "\n",
    "## Course Description\n",
    "\n",
    "A high performance computing (HPC) cluster is an essential tool for computational tasks that are too intensive for a personal computer, for example analysing large datasets. This course will introduce ISCA, the Exeter’s HPC cluster, and teach participants how to design a HPC workflow, interrogate the Slurm scheduling system, and run simple applications on cluster. At the end of this interactive course, participants will be able to translate what they have learnt to improve the efficiency of their computational research. This course is aimed at those who plan to use ISCA to perform their computational research or who wish to learn what ISCA could enable them to do.\n",
    "\n",
    "## Course Objectives\n",
    "- what an high performance computing (HPC) cluster is and what type of tasks it is suited to.\n",
    "- what computing resources are necessary to run a large workload.\n",
    "- how to log on to the cluster and navigate around the file system\n",
    "- how to submit and manage job tasks in the scheduler’s queue.\n",
    "- the array jobs syntax, a tool to efficiently parallel repetitive tasks.\n",
    "\n",
    "## Pre-requisite Knowledge\n",
    "\n",
    "- An account on ISCA\n",
    "- Some experience with the command line (e.g. attended an Introduction to Unix Course).\n",
    "\n",
    "## Installation Guide \n",
    "\n",
    "### Required Software\n",
    "To complete the activities in the workshop you will need access to some software on your machine. All of these are available for free via the internet, and it should be as easy as downloading the relevant version and double clicking the download to launch the installation process. It should be fairly quick.\n",
    "- A terminal. Mac users will already have one available via Applications – so no need to do anything. Windows users will need to install/download one. We recommend MobaXterm. An alternative is PuTTY.\n",
    "- A file transfer client. If you download MobaXterm for (1) then a file transfer client is included in this software. If you are on a Mac or prefer to use an alternative terminal on windows we recommend FileZilla. Alternatives include Cyberduck or Winscp (for windows).\n",
    "- A text editor. You likely have a basic text editor already installed (e.g. Notepad or WordPad) and there is a text editor inbuilt into MobaXterm but you may prefer to use one that has some enhanced features for writing code, such as syntax highlighting. We recommend Notepad++ or VSCode.\n",
    "\n",
    "### ISCA Account\n",
    "If you have been offered a place on the course we are in the process of setting this up for you.\n",
    "\n",
    "## Self Study Material Link \n",
    "\n",
    "The self-study material for this course is available [here](../individual_modules/section_landing_pages/introduction_to_hpc.ipynb).\n",
    "\n",
    "## Acknowledgements \n",
    "These materials were adapted from the Carpentries. Specifically we have developed the [HPC Carpentry Intro to HPC Shell lessons](https://github.com/hpc-carpentry/hpc-shell) adding our own custom content to reflect the HPC systems at Exeter. The materials were developed by a team of researchers at the University who are enthusiastic about sharing their skills with the wider research community. Its provision is dependent on the time of these individuals. If you have benefitted in any way from this course and want to support its long term sustainability then please take the time to complete our feedback survey, recommend it to your colleagues, and enthuse about it to your senior leadership team.\n",
    "\n",
    "This workshop is brought to you by:\n",
    "\n",
    "The University of Exeter Research Software Engineering Group\n",
    "The Institute of Data Science and Artificial Intelligence\n",
    "The University of Exeter Researcher Development Programme\n",
    "The University of Exeter Doctoral College\n",
    "\n",
    "## Developers\n",
    "This course was developed by Ed Hone\n",
    "\n",
    "## License Info"
   ]
  },
  {
   "cell_type": "code",
   "execution_count": 1,
   "id": "2f4bb88d-09b4-4008-a3ec-2879c648814f",
   "metadata": {
    "editable": true,
    "slideshow": {
     "slide_type": ""
    },
    "tags": [
     "remove-input"
    ]
   },
   "outputs": [
    {
     "data": {
      "text/markdown": [
       "### Instructional Material\n",
       "\n",
       "The instructional material in this course is copyright © 2024 University of Exeter\n",
       "and is made available under the Creative Commons Attribution 4.0 International\n",
       "licence (https://creativecommons.org/licenses/by/4.0/). Instructional material\n",
       "consists of material that is contained within the \"individual_modules/introduction_to_hpc\" folders in\n",
       "this repository, with the exception of code snippets and example programs found\n",
       "in files within these folders. Such code snippets and example programs are\n",
       "considered software for the purposes of this licence. \n",
       "\n",
       "\n",
       "### Software\n",
       "\n",
       "Except where otherwise noted, software provided in this repository is made\n",
       "available under the MIT licence (https://opensource.org/licenses/MIT).\n",
       "\n",
       "Copyright © 2024 University of Exeter\n",
       "\n",
       "Permission is hereby granted, free of charge, to any person obtaining a copy\n",
       "of this software and associated documentation files (the \"Software\"), to deal\n",
       "in the Software without restriction, including without limitation the rights\n",
       "to use, copy, modify, merge, publish, distribute, sublicense, and/or sell\n",
       "copies of the Software, and to permit persons to whom the Software is\n",
       "furnished to do so, subject to the following conditions:\n",
       "\n",
       "The above copyright notice and this permission notice shall be included in all\n",
       "copies or substantial portions of the Software.\n",
       "\n",
       "THE SOFTWARE IS PROVIDED \"AS IS\", WITHOUT WARRANTY OF ANY KIND, EXPRESS OR\n",
       "IMPLIED, INCLUDING BUT NOT LIMITED TO THE WARRANTIES OF MERCHANTABILITY,\n",
       "FITNESS FOR A PARTICULAR PURPOSE AND NONINFRINGEMENT. IN NO EVENT SHALL THE\n",
       "AUTHORS OR COPYRIGHT HOLDERS BE LIABLE FOR ANY CLAIM, DAMAGES OR OTHER\n",
       "LIABILITY, WHETHER IN AN ACTION OF CONTRACT, TORT OR OTHERWISE, ARISING FROM,\n",
       "OUT OF OR IN CONNECTION WITH THE SOFTWARE OR THE USE OR OTHER DEALINGS IN THE\n",
       "SOFTWARE.\n",
       "\n",
       "The software in this repository is adapted from software that is covered by the\n",
       "following copyright and permission notice:\n",
       "\n",
       "    Copyright © 2024 Software Carpentry\n",
       "\n",
       "    Permission is hereby granted, free of charge, to any person obtaining\n",
       "    a copy of this software and associated documentation files (the\n",
       "    \"Software\"), to deal in the Software without restriction, including\n",
       "    without limitation the rights to use, copy, modify, merge, publish,\n",
       "    distribute, sublicense, and/or sell copies of the Software, and to\n",
       "    permit persons to whom the Software is furnished to do so, subject to\n",
       "    the following conditions:\n",
       "\n",
       "    The above copyright notice and this permission notice shall be\n",
       "    included in all copies or substantial portions of the Software.\n",
       "\n",
       "    THE SOFTWARE IS PROVIDED \"AS IS\", WITHOUT WARRANTY OF ANY KIND,\n",
       "    EXPRESS OR IMPLIED, INCLUDING BUT NOT LIMITED TO THE WARRANTIES OF\n",
       "    MERCHANTABILITY, FITNESS FOR A PARTICULAR PURPOSE AND\n",
       "    NONINFRINGEMENT. IN NO EVENT SHALL THE AUTHORS OR COPYRIGHT HOLDERS BE\n",
       "    LIABLE FOR ANY CLAIM, DAMAGES OR OTHER LIABILITY, WHETHER IN AN ACTION\n",
       "    OF CONTRACT, TORT OR OTHERWISE, ARISING FROM, OUT OF OR IN CONNECTION\n",
       "    WITH THE SOFTWARE OR THE USE OR OTHER DEALINGS IN THE SOFTWARE."
      ],
      "text/plain": [
       "<IPython.core.display.Markdown object>"
      ]
     },
     "metadata": {},
     "output_type": "display_data"
    }
   ],
   "source": [
    "from IPython.display import Markdown, display\n",
    "\n",
    "def display_markdown(file_path):\n",
    "    try:\n",
    "        with open(file_path, 'r') as file:\n",
    "            content = file.read()\n",
    "            display(Markdown(content))\n",
    "    except FileNotFoundError:\n",
    "        print(f\"The file {file_path} was not found.\")\n",
    "    except Exception as e:\n",
    "        print(f\"An error occurred: {e}\")\n",
    "\n",
    "# Example usage:\n",
    "file_path = '../individual_modules/introduction_to_hpc/LICENSE.txt'  # Replace with your file path\n",
    "display_markdown(file_path)"
   ]
  },
  {
   "cell_type": "code",
   "execution_count": null,
   "id": "0f7cc082-c98d-40dd-b4ef-7b0e7943ad10",
   "metadata": {
    "editable": true,
    "slideshow": {
     "slide_type": ""
    },
    "tags": []
   },
   "outputs": [],
   "source": []
  }
 ],
 "metadata": {
  "kernelspec": {
   "display_name": "Python 3 (ipykernel)",
   "language": "python",
   "name": "python3"
  },
  "language_info": {
   "codemirror_mode": {
    "name": "ipython",
    "version": 3
   },
   "file_extension": ".py",
   "mimetype": "text/x-python",
   "name": "python",
   "nbconvert_exporter": "python",
   "pygments_lexer": "ipython3",
   "version": "3.9.19"
  }
 },
 "nbformat": 4,
 "nbformat_minor": 5
}
