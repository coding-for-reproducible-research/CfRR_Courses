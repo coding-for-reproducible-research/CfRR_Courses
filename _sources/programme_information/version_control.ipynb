{
 "cells": [
  {
   "cell_type": "markdown",
   "id": "935171c1-23bd-4aef-bcfe-39ed0ea98f60",
   "metadata": {},
   "source": [
    "# Version Control\n",
    "\n",
    "We currently offer two version control courses:\n",
    "- **Introduction to Version Control**: Introduction to Version Control introduces Git, a widely-used version control system, and platforms like GitHub and GitLab, focusing on collaboration and code sharing, with hands-on practice and live demonstrations, ensuring participants become comfortable using Git and GitHub for tracking and sharing their software development.\n",
    "- **Intermediate Version Control**: Intermediate Version Control provides a comprehensive guide to mastering Git, covering advanced topics like configuring Git, branching and merging, GitHub workflows, managing remotes, and rewriting history, through hands-on exercises and real-world scenarios, equipping participants with the skills for efficient project management and collaboration."
   ]
  }
 ],
 "metadata": {
  "kernelspec": {
   "display_name": "Python 3 (ipykernel)",
   "language": "python",
   "name": "python3"
  },
  "language_info": {
   "codemirror_mode": {
    "name": "ipython",
    "version": 3
   },
   "file_extension": ".py",
   "mimetype": "text/x-python",
   "name": "python",
   "nbconvert_exporter": "python",
   "pygments_lexer": "ipython3",
   "version": "3.9.19"
  }
 },
 "nbformat": 4,
 "nbformat_minor": 5
}
