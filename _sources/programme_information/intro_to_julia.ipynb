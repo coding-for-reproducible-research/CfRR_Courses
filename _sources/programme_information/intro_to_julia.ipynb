{
 "cells": [
  {
   "cell_type": "markdown",
   "id": "7e7f8e31-f6c9-4d65-8d57-a22fe7169be4",
   "metadata": {},
   "source": [
    "# Introduction to Julia\n",
    "\n",
    "## Course Description\n",
    "Welcome to the Introduction to Julia course! This course has been created to give you an idea about Julia's particular language features; it assumes that you are already comfortable with the basics of programming, allowing for more interesting topics to be discussed outside the basics. To be able to best engage with this course it is recommended that you have gone through the material for both \"Introduction to Python\" and \"Python for Data Analysis\".\n",
    "\n",
    "## Course Objectives\n",
    "- Understand Julia's high-level and high-performance goals, including multiple dispatch.\n",
    "- Learn to create and manipulate one-dimensional and multi-dimensional arrays using various functions and comprehensions.\n",
    "- Use conditional statements and loops (for and while) to control the flow of programs.\n",
    "- Create functions with different parameter types and return values, including exploring multiple dispatch and lambda functions.\n",
    "- Perform input and output operations, including reading from and writing to various file types such as text, CSV, Excel, and JSON.\n",
    "\n",
    "## Pre-requisite Knowledge\n",
    "\n",
    "Attendees of the workshop should already be familiar with a programming language such as Python and should have already installed and been able to run an example of a Julia code snippet. \n",
    "\n",
    "\n",
    "## Installation Guide \n",
    "This course has been designed to be ran from within the CfRR website, and so there are no installation instructions. \n",
    "## Self Study Material Link \n",
    "The self-study material for this course is available [here](../individual_modules/section_landing_pages/introduction_to_julia.ipynb).\n",
    "## Developers\n",
    "## License Info "
   ]
  }
 ],
 "metadata": {
  "kernelspec": {
   "display_name": "Python 3 (ipykernel)",
   "language": "python",
   "name": "python3"
  },
  "language_info": {
   "codemirror_mode": {
    "name": "ipython",
    "version": 3
   },
   "file_extension": ".py",
   "mimetype": "text/x-python",
   "name": "python",
   "nbconvert_exporter": "python",
   "pygments_lexer": "ipython3",
   "version": "3.9.19"
  }
 },
 "nbformat": 4,
 "nbformat_minor": 5
}
