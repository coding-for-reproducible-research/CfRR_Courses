{
 "cells": [
  {
   "cell_type": "markdown",
   "id": "7e7f8e31-f6c9-4d65-8d57-a22fe7169be4",
   "metadata": {},
   "source": [
    "# Introduction to Julia\n",
    "\n",
    "## Course Description \n",
    "## Installation Guide \n",
    "## Self Study Material Link \n",
    "## License Info \n",
    "## Acknowledgements \n",
    "## Developers"
   ]
  }
 ],
 "metadata": {
  "kernelspec": {
   "display_name": "Python 3 (ipykernel)",
   "language": "python",
   "name": "python3"
  },
  "language_info": {
   "codemirror_mode": {
    "name": "ipython",
    "version": 3
   },
   "file_extension": ".py",
   "mimetype": "text/x-python",
   "name": "python",
   "nbconvert_exporter": "python",
   "pygments_lexer": "ipython3",
   "version": "3.9.19"
  }
 },
 "nbformat": 4,
 "nbformat_minor": 5
}
