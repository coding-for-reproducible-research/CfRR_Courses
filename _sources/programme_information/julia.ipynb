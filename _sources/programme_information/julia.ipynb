{
 "cells": [
  {
   "cell_type": "markdown",
   "id": "8e1a2472-57d9-45b9-adac-6b667d38fe58",
   "metadata": {},
   "source": [
    "# Julia\n",
    "\n",
    "We currently offer one Julia course:\n",
    "- **Introduction to Julia**: Introduction to Julia provides an insight into the Julia programming language, designed for those already comfortable with programming basics; this course explores Julia’s unique features and recommends prior completion of “Introduction to Python” and “Python for Data Analysis” for optimal engagement."
   ]
  },
  {
   "cell_type": "code",
   "execution_count": null,
   "id": "6489c0ff-5141-4351-9d37-72609ed0a620",
   "metadata": {},
   "outputs": [],
   "source": []
  }
 ],
 "metadata": {
  "kernelspec": {
   "display_name": "Python 3 (ipykernel)",
   "language": "python",
   "name": "python3"
  },
  "language_info": {
   "codemirror_mode": {
    "name": "ipython",
    "version": 3
   },
   "file_extension": ".py",
   "mimetype": "text/x-python",
   "name": "python",
   "nbconvert_exporter": "python",
   "pygments_lexer": "ipython3",
   "version": "3.9.19"
  }
 },
 "nbformat": 4,
 "nbformat_minor": 5
}
