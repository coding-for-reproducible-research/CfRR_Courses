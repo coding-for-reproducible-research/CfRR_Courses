{
 "cells": [
  {
   "cell_type": "markdown",
   "id": "a4af63b5-6e0d-48c2-9511-1350da44a900",
   "metadata": {},
   "source": [
    "# Report Code of Conduct Violations\n",
    "If you have recently experienced an incident violating the CfRR Code of Conduct, please fill out the form below. \n",
    "\n",
    "> **Note:** If the form below does not load, please [click here to open the Microsoft Form directly](https://forms.office.com/Pages/ResponsePage.aspx?id=d10qkZj77k6vMhM02PBKU84YwThO-BpArj9MrG7uxJxUNFRZWkxBWUJEVzFaWUczNUpJSlMxSFVLTiQlQCN0PWcu) to complete it.  \n",
    "> Not every web browser will display embedded forms correctly.\n",
    "\n",
    "<iframe width=\"100%\" height=\"1000px\" title=\"Code of Conduct Violations Form\" src=\"https://forms.office.com/Pages/ResponsePage.aspx?id=d10qkZj77k6vMhM02PBKU84YwThO-BpArj9MrG7uxJxUNFRZWkxBWUJEVzFaWUczNUpJSlMxSFVLTiQlQCN0PWcu&embed=true\" frameborder=\"0\" marginwidth=\"0\" marginheight=\"0\" style=\"border: none;\" allowfullscreen webkitallowfullscreen mozallowfullscreen msallowfullscreen> </iframe>"
   ]
  },
  {
   "cell_type": "markdown",
   "id": "ee126510-bc99-43b4-83f8-e2ca117b76cb",
   "metadata": {},
   "source": []
  },
  {
   "cell_type": "code",
   "execution_count": null,
   "id": "fc42e115-8c70-4a45-bc1b-40cda53400fa",
   "metadata": {},
   "outputs": [],
   "source": []
  }
 ],
 "metadata": {
  "kernelspec": {
   "display_name": "Python 3 (ipykernel)",
   "language": "python",
   "name": "python3"
  },
  "language_info": {
   "codemirror_mode": {
    "name": "ipython",
    "version": 3
   },
   "file_extension": ".py",
   "mimetype": "text/x-python",
   "name": "python",
   "nbconvert_exporter": "python",
   "pygments_lexer": "ipython3",
   "version": "3.12.2"
  }
 },
 "nbformat": 4,
 "nbformat_minor": 5
}
