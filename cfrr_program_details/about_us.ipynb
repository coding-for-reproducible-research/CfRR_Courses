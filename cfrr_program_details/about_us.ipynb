{
 "cells": [
  {
   "cell_type": "markdown",
   "id": "a20e3b3b-cdf3-432d-881b-a1ff96f93c34",
   "metadata": {
    "editable": true,
    "panel-layout": {
     "height": 60.59375,
     "visible": true,
     "width": 100
    },
    "slideshow": {
     "slide_type": ""
    },
    "tags": []
   },
   "source": [
    "# About Us"
   ]
  },
  {
   "cell_type": "markdown",
   "id": "82ab98d7-09bc-46f2-bf07-4de98b524834",
   "metadata": {
    "editable": true,
    "panel-layout": {
     "height": 188.265625,
     "visible": true,
     "width": 100
    },
    "slideshow": {
     "slide_type": ""
    },
    "tags": []
   },
   "source": [
    "Coding for Reproducible Research is a training programme that provides a series of workshops to support researchers at the University of Exeter in expanding their skill sets and positioning them to confidently perform informatics research projects efficiently and in a reproducible way. The programme provides training on specific languages, such as [Python](../individual_modules/section_landing_pages/introduction_to_python.md), [R](../individual_modules/section_landing_pages/introduction_to_r.md), and [Unix/Linux](../individual_modules/section_landing_pages/introduction_to_unix.md), alongside training relating to good practice and reproducible working methods designed to be agnostic of programming language. In this way, we offer a holistic perspective on how programming tasks should be approached, ultimately providing researchers with the tools and knowledge to feel confident in conducting their research. All workshops are open to any staff or student, from any college or department, and are accessible from any campus."
   ]
  },
  {
   "cell_type": "markdown",
   "id": "103146ed-f770-4189-b421-654cdbbcce9b",
   "metadata": {
    "editable": true,
    "slideshow": {
     "slide_type": ""
    },
    "tags": []
   },
   "source": [
    "## Core CfRR Team \n",
    "- **Programme Management: Dr Eilis Hannon**\n",
    "    - Eilis established the Coding for Reproducible Research training programme as part of her Research Software Enginneering Fellowship funded by EPSRC. She has a background in mathematics and an interest in the pedagogy of data science and related skills. She was awarded a Skills Policy Award frm the Alan Turing Institute to explore best practices in data science pedagogy across academic disciplines. She is an accredited [Carpentries](https://carpentries.org/) Instructor and Trainer, Data Science Training Lead in the[ GW4 Biomed Doctoral Training Partnership](https://gw4biomed.ac.uk/) and leads the Statistics for Health and Life Sciences module on the [MSc in Health Data Science](https://www.exeter.ac.uk/study/postgraduate/courses/medicine/healthdatasciencemsc/). \n",
    "- **Programme Management: Dr Fliss Guest**\n",
    "- **Administrator: Anne Bell**\n",
    "    - Anne provides the administrative support for the Coding for Reproducible Research initiative. She has a background in well-being education, teacher training, and project management. She draws on this experience to organise the programme's training provision on behalf of the mainly-volunteer delivery team. As a qualified nutritional therapist with training in epigenetics and functional medicine, an interest in the rigour of health research drew her to the post. If you’d like to get in touch, email [here](mailto:a.bell3@exeter.ac.uk). \n",
    "- **Training Focused Research Software Engineer (RSE): Dr Liam Berrisford**\n",
    "    - Liam sits within the [Research Software Engineering (RSE)](https://www.exeter.ac.uk/research/research-software-and-analytics/meetthersegroup/) team at the University. As the first training-focused RSE, he helps to deliver CfRR content and prepare course material alongside other odd jobs, such as building this website! With a background in Computer Science and Environmental AI across his BSc and PhD and experience as an Associate Lecturer in Computer Science, he was keen to join the CfRR team to teach a broad range of topics to an even broader range of individuals! If you have any questions, please get in touch with him [here](mailto:l.berrisford3@exeter.ac.uk). His university profile is available [here](https://www.exeter.ac.uk/research/services/contact/profile/index.php?web_id=Liam_Berrisford).\n",
    "- **Wider RSA Team**\n",
    "    - The Research Software and Analytics (RSA) team at the University of Exeter is a cornerstone of the Coding for Reproducible Research (CfRR) programme. This dedicated group of professionals ensures the delivery of high-quality, cutting-edge training across a broad spectrum of topics critical to modern computational research. The RSA team leverages their extensive expertise in areas such as software development, data science, and high-performance computing to develop and implement comprehensive course materials. The CfRR programme is significantly enriched by the RSA team's active engagement. These engineers and data scienctists are not only passionate about advancing the technical capabilities of researchers but also committed to fostering a collaborative and supportive learning environment. By working closely with academics and other professionals, they create a dynamic and enriching educational experience for all participants. They contribute to a variety of tasks in the CfRR program, from teaching and developing course content to providing hands-on support and mentorship. Their involvement helps ensure that the programme remains at the forefront of research training, equipping participants with the skills necessary to conduct efficient and reproducible research. The collaborative ethos of the CfRR programme is embodied in the RSA team's approach, which emphasizes teamwork, innovation, and continuous improvement. More information about the RSA team can be found [here](https://www.exeter.ac.uk/research/research-software-and-analytics/). \n",
    "- **Academics**\n",
    "    - Academics play a vital role in the Coding for Reproducible Research (CfRR) programme at the University of Exeter. Their involvement ensures that the programme delivers high-quality, up-to-date training across a broad range of topics essential for modern research. These experts contribute their extensive knowledge and experience across a range of fields, helping to create and deliver comprehensive course materials. The CfRR programme benefits greatly from the active participation of academics who are passionate about enhancing the research capabilities of their colleagues and students. The collaborative environment of the CfRR programme allows academics to work alongside Research Software Engineers (RSEs), Research Data Scientists (RDS) and other professionals, creating a rich learning experience for all participants. "
   ]
  },
  {
   "cell_type": "markdown",
   "id": "b335aec6-a9c6-4c95-ac7d-f2e4caff2b99",
   "metadata": {
    "editable": true,
    "slideshow": {
     "slide_type": ""
    },
    "tags": []
   },
   "source": [
    "## Acknowledgements\n",
    "This training programme is supported by:\n",
    "\n",
    "- [The University of Exeter Research Software and Analytics Group](https://www.exeter.ac.uk/research/research-software-and-analytics/)\n",
    "- [Institute for Data Science and Artificial Intelligence (IDSAI)](https://www.exeter.ac.uk/research/institutes/idsai/)\n",
    "- [Exeter Reproducibility Leadership Team](https://www.exeter.ac.uk/research/openresearch/reproducibility/ukrnteam/)\n",
    "\n",
    "CfRR would also like to acknowledge an EPSRC Research Software Engineering Fellowship awarded to Dr Eilis Hannon. "
   ]
  },
  {
   "cell_type": "markdown",
   "id": "67559fed-6540-43fc-abe5-54097dd89be5",
   "metadata": {},
   "source": [
    "## History of the Programme \n",
    "The CfRR initiative was established to address the demand for programming training, given a centralised provision was unavailable. The programme was able to begin offering training thanks to support from an RSE fellowship awarded to Dr Hannon, the support of a Research Software Engineering (RSE) team, and the University's recent membership of the UK Reproducibility Network.\n",
    "\n",
    "## Why We Started CfRR\n",
    "This initiative aims to become Exeter's recognised authority on all training related to conducting reproducible and open research. This goal is not only to enhance the quality of research but also to offer the additional benefit of upskilling, which can significantly boost our research capabilities and enhance individual employability. Ultimately, the vision is to be recognised nationally and internationally for delivering exemplary training. This training will be characterised by a strong commitment to innovative pedagogical methods, ensuring we remain at the forefront of educational excellence in this crucial area.\n",
    "\n",
    "## Ambitions for the Future\n",
    "Moving forward, our focus is on continuing to deliver effective workshops while transitioning away from hybrid delivery formats. To achieve this, we aim to build strength and depth within our delivery team, ensuring we have a robust and capable group of instructors.\n",
    "\n",
    "We plan to expand our offerings by developing more workshops that cover intermediate and advanced topics. This expansion will be supported by the launch of this new central website, which will provide asynchronous support for learners. The website features self-guided study notes and guidance to help participants determine which workshops are most relevant to their needs.\n",
    "\n",
    "Furthermore, we will embed a research strand into the programme to inform best practices in this area, with a particular emphasis on ethics. An additional initiative involves developing a tool to capture and address programming anxiety, thereby supporting learners' emotional and psychological well-being."
   ]
  },
  {
   "cell_type": "markdown",
   "id": "5797e18c-3ef9-429b-83d5-d72e364b8817",
   "metadata": {},
   "source": [
    "## Our Successes To Date\n",
    "In the 2023-24 academic year, we successfully delivered 21 iterations of 15 workshops, introducing 8 new courses. Our offerings include beginner, intermediate, and advanced training across a wide range of topics, catering to various skill levels and interests. We have had over 1,600 registrations since the programme began, with 48% of participants enrolling in multiple courses in the 2023-24 academic year, indicating strong engagement and satisfaction with our courses. In fact, 85% of participants reported being extremely or very satisfied with their workshop experience. \n",
    "\n",
    "Our delivery team so far has comprised 14 members of the Research Software Engineering (RSE) team and 20 academics, showcasing a collaborative and interdisciplinary approach to training. Additionally, we have two dedicated part-time members of staff - an administrator and an RSE team member specifically focus on training - ensuring we have the necessary support and resourcing to maintain the quality and effectiveness of our workshops. "
   ]
  },
  {
   "cell_type": "code",
   "execution_count": null,
   "id": "bfff7584-4579-4764-9f39-2676ab2bfc67",
   "metadata": {},
   "outputs": [],
   "source": []
  }
 ],
 "metadata": {
  "jupyter": {
   "classes": [
    [
     "no-next"
    ]
   ],
   "hide_navbar": true
  },
  "kernelspec": {
   "display_name": "Python 3 (ipykernel)",
   "language": "python",
   "name": "python3"
  },
  "language_info": {
   "codemirror_mode": {
    "name": "ipython",
    "version": 3
   },
   "file_extension": ".py",
   "mimetype": "text/x-python",
   "name": "python",
   "nbconvert_exporter": "python",
   "pygments_lexer": "ipython3",
   "version": "3.9.19"
  },
  "panel-cell-order": [
   "a20e3b3b-cdf3-432d-881b-a1ff96f93c34",
   "82ab98d7-09bc-46f2-bf07-4de98b524834"
  ]
 },
 "nbformat": 4,
 "nbformat_minor": 5
}
