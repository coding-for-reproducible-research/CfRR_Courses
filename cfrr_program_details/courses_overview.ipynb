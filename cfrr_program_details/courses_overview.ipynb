{
 "cells": [
  {
   "cell_type": "markdown",
   "id": "02b9e8f5-82ed-460b-af25-9034e538b7b3",
   "metadata": {},
   "source": [
    "# Workshop Schedule and Sign-up"
   ]
  },
  {
   "cell_type": "code",
   "execution_count": 1,
   "id": "d3aa7606-0f50-4f05-b104-ad4521c80406",
   "metadata": {
    "editable": true,
    "slideshow": {
     "slide_type": ""
    },
    "tags": [
     "remove-input"
    ]
   },
   "outputs": [
    {
     "data": {
      "text/markdown": [
       "- Regression Analysis in R: Adapting to Varied Data Types: 13th January 2025 1-4pm (Online only) - [MS Form Sign-up](https://forms.office.com/e/QK4qbskQKe)\n",
       "- Introduction to Python: 17th/24th January 2025 10am-1pm (In-person only) - [MS Form Sign-up](https://forms.office.com/e/YAxvuE5dG5)\n",
       "- Computational Thinking: 28th January/4th February 2025 10am-1pm (In-person only) - [MS Form Sign-up](https://forms.office.com/e/HBxtMLxRZr)\n",
       "- Introduction to Unix: 5th/12th February 2025 1-4pm (Penryn Campus only) - [MS Form Sign-up](https://forms.office.com/e/6nrfXabJSH)\n",
       "- Python for Data Analysis: 6th/13th February 2025 1-4pm (Online only) - [MS Form Sign-up](https://forms.office.com/e/rJRBxYnxKA)\n",
       "- Introduction to R: 25th February/4th March/11th March 2025 10am-1pm (In-person only) - [MS Form Sign-up](https://forms.office.com/e/3BUKkXNELt)\n",
       "- Introduction to Version Control: 28th February/7th March 2025 10am-1pm (Online only) - [MS Form Sign-up](https://forms.office.com/e/YCB5kkGrws)\n",
       "- Introduction to Machine Learning: 14th/21st March 2025 10am-1pm (In-person only) - Registration Will Be Available Soon\n",
       "- Intermediate Version Control: 17th/24th March 2025 1-4pm (Online only) - Registration Will Be Available Soon\n",
       "- Introduction to HPC: 21st/28th March 2025 1.15-4.15pm (In-person only) - Registration Will Be Available Soon\n",
       "- Introduction to Regression with R: 28th March 2025 10am-1pm (In-person only) - Registration Will Be Available Soon"
      ],
      "text/plain": [
       "<IPython.core.display.Markdown object>"
      ]
     },
     "metadata": {},
     "output_type": "display_data"
    }
   ],
   "source": [
    "import pandas as pd\n",
    "from IPython.display import Markdown, display\n",
    "from datetime import datetime\n",
    "\n",
    "# Load the CSV file (adjust the file path as needed)\n",
    "file_path = '../data/workshop_info.csv'\n",
    "courses_df = pd.read_csv(file_path)\n",
    "\n",
    "# Strip any extra spaces in the column names\n",
    "courses_df.columns = courses_df.columns.str.strip()\n",
    "\n",
    "# Convert the 'End Date' column to datetime (assuming the date format is day-first)\n",
    "courses_df['End Date'] = pd.to_datetime(courses_df['End Date'], dayfirst=True, errors='coerce')\n",
    "courses_df['Start Date'] = pd.to_datetime(courses_df['Start Date'], dayfirst=True, errors='coerce')\n",
    "\n",
    "# Get today's date\n",
    "today = datetime.now()\n",
    "\n",
    "# Filter for rows that contain valid MS Form Signup links, Course Date information, and check if the 'End Date' is still valid\n",
    "filtered_courses_df = courses_df.dropna(subset=['Course Date'])\n",
    "filtered_courses_df = filtered_courses_df[filtered_courses_df['End Date'] > today]\n",
    "filtered_courses_df = filtered_courses_df[filtered_courses_df['Start Date'] <= today]\n",
    "filtered_courses_df = filtered_courses_df.sort_values(by=\"End Date\")\n",
    "\n",
    "# Function to generate markdown text based on course details\n",
    "def generate_markdown(row):\n",
    "    if pd.isna(row['MS Form Signup']) or not row['MS Form Signup'].strip():\n",
    "        return f\"- {row['Course Name']}: {row['Course Date']} - Registration Will Be Available Soon\"\n",
    "    else:\n",
    "        return f\"- {row['Course Name']}: {row['Course Date']} - [MS Form Sign-up]({row['MS Form Signup']})\"\n",
    "\n",
    "\n",
    "# Apply the function and create the markdown output\n",
    "markdown_output = filtered_courses_df.apply(generate_markdown, axis=1).tolist()\n",
    "\n",
    "# Join the markdown lines into a single block\n",
    "markdown_text = \"\\n\".join(markdown_output)\n",
    "\n",
    "# Display the markdown text in rendered form\n",
    "display(Markdown(markdown_text))"
   ]
  },
  {
   "cell_type": "markdown",
   "id": "7101f2f7-2903-4cdc-b736-3f5000c467f7",
   "metadata": {
    "editable": true,
    "slideshow": {
     "slide_type": ""
    },
    "tags": []
   },
   "source": [
    "# Previous Workshops"
   ]
  },
  {
   "cell_type": "code",
   "execution_count": 3,
   "id": "0a814add-f545-4663-8b06-39c40b636509",
   "metadata": {
    "editable": true,
    "slideshow": {
     "slide_type": ""
    },
    "tags": [
     "remove-input"
    ]
   },
   "outputs": [
    {
     "data": {
      "text/html": [
       "\n",
       "<table style='width: 100%; text-align: center; border: 1px solid black; border-collapse: collapse;'>\n",
       "<tr>\n",
       "<th>Course Name</th>\n",
       "<th>Course Date</th>\n",
       "<th>Course Leader</th>\n",
       "<th>Course Helpers</th>\n",
       "</tr>\n",
       "<tr><td>Regression Analysis with R</td><td>Jun-24</td><td>Eilis Hannon</td><td>Cuihong Xie, Emma Walker</td></tr>\n",
       "<tr><td>Introduction to MATLAB</td><td>Jun-24</td><td>Jake Hollins</td><td>Jonathan Witton, Han Wu, Fred Wobus</td></tr>\n",
       "<tr><td>Parallel Computing </td><td>Jun-24</td><td>Ed Hone</td><td>Fred Wobus, Han Wu, Stephen Cook</td></tr>\n",
       "<tr><td>Introduction to R</td><td>Jun-24</td><td>Ricky Olivier</td><td>Michelle Ledbetter, Theresa Wacker, Jingzhan Lu</td></tr>\n",
       "<tr><td>Intermediate Version Control</td><td>May-24</td><td>Stephen Cook</td><td>Tom Wilson, Liam Berrisford</td></tr>\n",
       "<tr><td>Python for Data Analysis</td><td>May-24</td><td>Michael Saunby</td><td>John Luff, Simon Kirby</td></tr>\n",
       "<tr><td>Introduction to HPC and ISCA</td><td>May-24</td><td>Ricky Olivier</td><td>Fred Wobus, Matt West</td></tr>\n",
       "<tr><td>Introduction to Version Control</td><td>May-24</td><td>Linus Tata </td><td>John Luff, David Studholme, Simon Kirby</td></tr>\n",
       "<tr><td>Advanced Regression Analysis with R</td><td>Apr-24</td><td>Eilis Hannon</td><td>Becky Ward, Cuihong Xie, Ishaan Sinha</td></tr>\n",
       "<tr><td>Software Development Best Practice</td><td>Apr-24</td><td>Fliss Guest</td><td>Joseph Paulo</td></tr>\n",
       "<tr><td>Computational Thinking</td><td>Apr-24</td><td>Michael Saunby</td><td>Eilis Hannon, Fotis Tsiroukis, Liam Berrisford</td></tr>\n",
       "<tr><td>Introduction to Python</td><td>Apr-24</td><td>Matt Johns</td><td>Tom Hawes, Liam Berrisford, Jack Morton, Finley Gibson</td></tr>\n",
       "<tr><td>Working With Data in R </td><td>Mar-24</td><td>Tom Hawes</td><td>Ali Hudson, Emma Walker</td></tr>\n",
       "<tr><td>Introduction to UNIX </td><td>Mar-24</td><td>Eilis Hannon</td><td>Linus Tata, Han Wu</td></tr>\n",
       "<tr><td>Regression Analysis with R</td><td>Jan-24</td><td>Eilis Hannon</td><td>Alice Franklin, Cuihong Xie</td></tr>\n",
       "<tr><td>Introduction to R</td><td>Jan-24</td><td>Jamie Harrison</td><td>Alexandra Gardner, Cuihong Xie, Becky Ward Alice Franklin</td></tr>\n",
       "<tr><td>Introduction to Version Control</td><td>Dec-23</td><td>Linus Tata </td><td>Matt Johns, Han Wu</td></tr>\n",
       "<tr><td>Introduction to HPC and ISCA</td><td>Nov-23</td><td>Ricky Olivier</td><td>Matt Johns, Matt West, Han Wu</td></tr>\n",
       "<tr><td>Introduction to julia</td><td>November/December 2023</td><td>George Datseris</td><td>Ed Hone, Nick Owens</td></tr>\n",
       "<tr><td>Introduction to Python</td><td>Nov-23</td><td>Michael Saunby</td><td>John Luff, Hao Meng, Mustafa Albalushi</td></tr>\n",
       "<tr><td>Introduction to UNIX </td><td>Oct-23</td><td>Simon Kirby</td><td>Stephen Cook, Ali Hudson, Kartik Chundru </td></tr></table>"
      ],
      "text/plain": [
       "<IPython.core.display.HTML object>"
      ]
     },
     "metadata": {},
     "output_type": "display_data"
    }
   ],
   "source": [
    "import pandas as pd\n",
    "from IPython.display import display, HTML\n",
    "\n",
    "# Load the CSV file (adjust the file path as needed)\n",
    "file_path_previous = '../data/previous_workshops.csv'\n",
    "previous_courses_df = pd.read_csv(file_path_previous)\n",
    "previous_courses_df = previous_courses_df.iloc[::-1].reset_index(drop=True)\n",
    "\n",
    "# Strip any extra spaces in the column names\n",
    "previous_courses_df.columns = previous_courses_df.columns.str.strip()\n",
    "\n",
    "# Function to generate an HTML table row for each course\n",
    "def generate_html_row(row):\n",
    "    #return f\"<tr><td>{row['Course Name']}</td><td>{row['Course Info']}</td><td>{row['Course Leader']}</td><td>{row['Course Helpers']}</td><td>{row['Course Developers']}</td></tr>\"\n",
    "    return f\"<tr><td>{row['Course Name']}</td><td>{row['Course Info']}</td><td>{row['Course Leader']}</td><td>{row['Course Helpers']}</td></tr>\"\n",
    "\n",
    "#Generate HTML table header\n",
    "# html_table_header = \"\"\"\n",
    "# <table style='width: 100%; text-align: center; border: 1px solid black; border-collapse: collapse;'>\n",
    "# <tr>\n",
    "# <th>Course Name</th>\n",
    "# <th>Course Info</th>\n",
    "# <th>Course Leader</th>\n",
    "# <th>Course Helpers</th>\n",
    "# <th>Course Developers</th>\n",
    "# </tr>\n",
    "# \"\"\"\n",
    "html_table_header = \"\"\"\n",
    "<table style='width: 100%; text-align: center; border: 1px solid black; border-collapse: collapse;'>\n",
    "<tr>\n",
    "<th>Course Name</th>\n",
    "<th>Course Date</th>\n",
    "<th>Course Leader</th>\n",
    "<th>Course Helpers</th>\n",
    "</tr>\n",
    "\"\"\"\n",
    "\n",
    "# Apply the function and create the HTML table rows\n",
    "table_rows = previous_courses_df.apply(generate_html_row, axis=1).tolist()\n",
    "\n",
    "# Join the table rows into a single block\n",
    "html_table = html_table_header + \"\\n\".join(table_rows) + \"</table>\"\n",
    "\n",
    "# Display the HTML table\n",
    "display(HTML(html_table))\n"
   ]
  },
  {
   "cell_type": "code",
   "execution_count": null,
   "id": "2b3dc21f-a316-4357-8e4a-9c83c3703fd0",
   "metadata": {
    "editable": true,
    "slideshow": {
     "slide_type": ""
    },
    "tags": []
   },
   "outputs": [],
   "source": []
  }
 ],
 "metadata": {
  "kernelspec": {
   "display_name": "Python 3 (ipykernel)",
   "language": "python",
   "name": "python3"
  },
  "language_info": {
   "codemirror_mode": {
    "name": "ipython",
    "version": 3
   },
   "file_extension": ".py",
   "mimetype": "text/x-python",
   "name": "python",
   "nbconvert_exporter": "python",
   "pygments_lexer": "ipython3",
   "version": "3.9.19"
  }
 },
 "nbformat": 4,
 "nbformat_minor": 5
}
