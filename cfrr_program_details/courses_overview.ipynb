{
 "cells": [
  {
   "cell_type": "markdown",
   "id": "02b9e8f5-82ed-460b-af25-9034e538b7b3",
   "metadata": {},
   "source": [
    "# Workshop Schedule and Sign-up"
   ]
  },
  {
   "cell_type": "code",
   "execution_count": 10,
   "id": "d3aa7606-0f50-4f05-b104-ad4521c80406",
   "metadata": {
    "editable": true,
    "slideshow": {
     "slide_type": ""
    },
    "tags": [
     "remove-input"
    ]
   },
   "outputs": [
    {
     "data": {
      "text/html": [
       "\n",
       "<table style=\"width:100%; text-align:center; border:1px solid black; border-collapse:collapse;\">\n",
       "  <tr style=\"background:#f2f2f2;\">\n",
       "    <th>Course Name</th>\n",
       "    <th>Course Dates</th>\n",
       "    <th>Location</th>\n",
       "    <th>Registration Link</th>\n",
       "  </tr>\n",
       "<tr><td style='padding:8px'><a href=\"../programme_information/intro_to_julia.ipynb\" target=\"_blank\">Introduction to Julia</a></td><td style='padding:8px'>2nd/9th/16th June 2025 1-4pm</td><td style='padding:8px'>Online only</td><td style='padding:8px'><a href=\"https://forms.office.com/e/QBS4nXp3Pz\" target=\"_blank\">Sign-Up</a></td></tr>\n",
       "<tr><td style='padding:8px'><a href=\"../programme_information/intro_to_hpc.ipynb\" target=\"_blank\">Introduction to HPC</a></td><td style='padding:8px'>4th/11th June 2025 1-4pm</td><td style='padding:8px'>In-person only</td><td style='padding:8px'><a href=\"https://forms.office.com/e/fKPjWbddYf\" target=\"_blank\">Sign-Up</a></td></tr>\n",
       "<tr><td style='padding:8px'><a href=\"../programme_information/Introduction_to_Markdown_in_R.ipynb\" target=\"_blank\">Introduction to Markdown in R</a></td><td style='padding:8px'>6th June 2025 10am-1pm</td><td style='padding:8px'>In-person only</td><td style='padding:8px'><a href=\"https://forms.office.com/e/8diVktHHzt\" target=\"_blank\">Sign-Up</a></td></tr>\n",
       "<tr><td style='padding:8px'>Using Markdown for Python</td><td style='padding:8px'>10th June 2025 10am-1pm</td><td style='padding:8px'>In-person only</td><td style='padding:8px'><a href=\"https://forms.office.com/e/5ixSXnxdHb\" target=\"_blank\">Sign-Up</a></td></tr>\n",
       "<tr><td style='padding:8px'><a href=\"../programme_information/parallel_computing.ipynb\" target=\"_blank\">Parallel Computing</a></td><td style='padding:8px'>12th/19th June 2025 10am-1pm</td><td style='padding:8px'>Online only</td><td style='padding:8px'><a href=\"https://forms.office.com/e/pEk26HmbAe\" target=\"_blank\">Sign-Up</a></td></tr>\n",
       "</table>"
      ],
      "text/plain": [
       "<IPython.core.display.HTML object>"
      ]
     },
     "metadata": {},
     "output_type": "display_data"
    }
   ],
   "source": [
    "import pandas as pd\n",
    "from IPython.display import display, HTML\n",
    "from datetime import datetime\n",
    "\n",
    "# Load the CSV file (adjust the file path as needed)\n",
    "file_path = '../data/workshop_info.csv'\n",
    "courses_df = pd.read_csv(file_path)\n",
    "\n",
    "# Strip any extra spaces in the column names\n",
    "courses_df.columns = courses_df.columns.str.strip()\n",
    "\n",
    "# Parse dates (assuming day-first)\n",
    "courses_df['End Date']   = pd.to_datetime(courses_df['End Date'],   dayfirst=True, errors='coerce')\n",
    "courses_df['Start Date'] = pd.to_datetime(courses_df['Start Date'], dayfirst=True, errors='coerce')\n",
    "\n",
    "today = datetime.now()\n",
    "\n",
    "# Filter to “in-progress or upcoming” courses with valid Course Date\n",
    "mask_dates     = courses_df['Course Date'].notna()\n",
    "mask_started   = courses_df['Start Date'] <= today\n",
    "mask_not_ended = courses_df['End Date']   >  today\n",
    "\n",
    "upcoming = (\n",
    "    courses_df[mask_dates & mask_started & mask_not_ended]\n",
    "    .sort_values('End Date')\n",
    "    .reset_index(drop=True)\n",
    ")\n",
    "\n",
    "# Build the HTML table header\n",
    "html_header = \"\"\"\n",
    "<table style=\"width:100%; text-align:center; border:1px solid black; border-collapse:collapse;\">\n",
    "  <tr style=\"background:#f2f2f2;\">\n",
    "    <th>Course Name</th>\n",
    "    <th>Course Dates</th>\n",
    "    <th>Location</th>\n",
    "    <th>Registration Link</th>\n",
    "  </tr>\n",
    "\"\"\"\n",
    "\n",
    "def generate_row(row):\n",
    "    # Wrap Course Name in a link to the Homepage Filepath\n",
    "    name = row['Course Name']\n",
    "    page_url = row.get('Homepage Filepath', '')\n",
    "    if pd.notna(page_url) and str(page_url).strip():\n",
    "        name_html = f'<a href=\"{page_url}\" target=\"_blank\">{name}</a>'\n",
    "    else:\n",
    "        name_html = name\n",
    "\n",
    "    # Dates and location\n",
    "    dates    = row['Course Date']\n",
    "    location = row.get('Location', '')\n",
    "\n",
    "    # Registration link\n",
    "    signup = row.get('MS Form Signup', '')\n",
    "    if pd.isna(signup) or not str(signup).strip():\n",
    "        link_html = \"Registration Will Be Available Soon\"\n",
    "    else:\n",
    "        link_html = f'<a href=\"{signup}\" target=\"_blank\">Sign-Up</a>'\n",
    "\n",
    "    return (\n",
    "        \"<tr>\"\n",
    "        f\"<td style='padding:8px'>{name_html}</td>\"\n",
    "        f\"<td style='padding:8px'>{dates}</td>\"\n",
    "        f\"<td style='padding:8px'>{location}</td>\"\n",
    "        f\"<td style='padding:8px'>{link_html}</td>\"\n",
    "        \"</tr>\"\n",
    "    )\n",
    "\n",
    "\n",
    "# Generate all rows\n",
    "rows_html = \"\\n\".join(upcoming.apply(generate_row, axis=1).tolist())\n",
    "\n",
    "# Close the table\n",
    "html_table = html_header + rows_html + \"\\n</table>\"\n",
    "\n",
    "# Display it\n",
    "display(HTML(html_table))\n"
   ]
  },
  {
   "cell_type": "markdown",
   "id": "7101f2f7-2903-4cdc-b736-3f5000c467f7",
   "metadata": {
    "editable": true,
    "slideshow": {
     "slide_type": ""
    },
    "tags": []
   },
   "source": [
    "# Previous Workshops"
   ]
  },
  {
   "cell_type": "code",
   "execution_count": 1,
   "id": "0a814add-f545-4663-8b06-39c40b636509",
   "metadata": {
    "editable": true,
    "slideshow": {
     "slide_type": ""
    },
    "tags": [
     "remove-input"
    ]
   },
   "outputs": [
    {
     "data": {
      "text/html": [
       "\n",
       "<table style='width: 100%; text-align: center; border: 1px solid black; border-collapse: collapse;'>\n",
       "<tr>\n",
       "<th>Course Name</th>\n",
       "<th>Course Date</th>\n",
       "<th>Course Leader</th>\n",
       "<th>Course Helpers</th>\n",
       "</tr>\n",
       "<tr><td>Parallel Computing </td><td>Jun-25</td><td>Ricky Olivier </td><td>Liam Berrisford   </td></tr>\n",
       "<tr><td>Introduction to HPC&ISCA  </td><td>Jun-25</td><td>Michael Saunby </td><td>Jingzhan Lu </td></tr>\n",
       "<tr><td>Using Markdown for R </td><td>Jun-25</td><td>Craig Willis </td><td>Conor Crilly </td></tr>\n",
       "<tr><td>Introduction to Julia  </td><td>Jun-25</td><td>Tom Hawes  </td><td>Liam Berrisford, Jingzhan Lu  </td></tr>\n",
       "<tr><td>Introduction to R </td><td>May-25</td><td>Stephen Lang </td><td>Ishaan Sinha </td></tr>\n",
       "<tr><td>Introduction to Python </td><td>May-25</td><td>Neil Vaughan  </td><td>Tom Hawes, Jeremy Pike, Catherine Russon </td></tr>\n",
       "<tr><td>Introduction to version control   </td><td>May-25</td><td>Ned Taylor </td><td>Aditi Dutta, John Luff </td></tr>\n",
       "<tr><td>Improve Your R Code </td><td>Apr-25</td><td>Conor Crilly </td><td>Michelle Ledbetter, Craig Willis </td></tr>\n",
       "<tr><td>Working with data in R  </td><td>Apr-25</td><td>Tim Fawcett </td><td>Michelle Ledbetter, Bertrand Nortier, Cuihong Xie </td></tr>\n",
       "<tr><td>Regression Analysis with R </td><td>Mar-25</td><td>Robin Beaumont </td><td>Theresa Wacker, Philippa Wells </td></tr>\n",
       "<tr><td>Intermediate version control  </td><td>Mar-25</td><td>Stephen Cook </td><td>Tom Wilson </td></tr>\n",
       "<tr><td>Introduction to Machine Learning  </td><td>Mar-25</td><td>Simon Kirby </td><td>Sam Fletcher, Finley Gibson </td></tr>\n",
       "<tr><td>Introduction to Version Control </td><td>Mar-25</td><td>Shane Jackson </td><td>Enimhien Akhabue, Liam Berrisford </td></tr>\n",
       "<tr><td>Introduction to R </td><td>Feb-25</td><td>Jamie Harrison </td><td>Aditti Dutta, Jana Soenksen, Cuihong Xie </td></tr>\n",
       "<tr><td>Python for data analysis  </td><td>Feb-25</td><td>Finley Gibson </td><td>Simon Kirby </td></tr>\n",
       "<tr><td>Computational thinking  </td><td>Feb-25</td><td>Liam Berrisford </td><td>Bertrand Nortier, Neil Vaughan </td></tr>\n",
       "<tr><td>Introduction to Python  </td><td>Jan-25</td><td>Jamie Harrison </td><td>Kevin Donkers, Ruxandra Neatu, Theresa Wacker </td></tr>\n",
       "<tr><td>Intermediate Regression Analysis  </td><td>Jan-25</td><td>Robin Beaumont </td><td>Alexandra Gardner, Cuihong Xie </td></tr>\n",
       "<tr><td>Software Development Best Practice</td><td>Dec-24</td><td>Matt Johns</td><td>Ricky Olivier</td></tr>\n",
       "<tr><td>Introduction to Unix</td><td>Dec-24</td><td>Michael Saunby</td><td>Jingzhan Lu, John Luff, Ned Taylor</td></tr>\n",
       "<tr><td>Working with Data in R</td><td>Nov-24</td><td>Conor Crilly</td><td>Michelle Ledbetter, Cuihong Xie</td></tr>\n",
       "<tr><td>Python for Data Analysis</td><td>Nov-24</td><td>Liam Berrisford</td><td>Kevin Donkers</td></tr>\n",
       "<tr><td>Introduction to Regression with R</td><td>Oct-24</td><td>Robin Beaumont</td><td>Sam Fletcher, Conor Crilly, Eilis Hannon</td></tr>\n",
       "<tr><td>Introduction to Python</td><td>Oct-24</td><td>Tom Wilson</td><td>Jingzhan Lu, Liam Berrisford, Aditi Dutta</td></tr>\n",
       "<tr><td>Introduction to R</td><td>Oct-24</td><td>Alexandra Gardner</td><td>Shane Jackson, Becky Ward, Cuihong Xie</td></tr>\n",
       "<tr><td>Regression Analysis with R</td><td>Jun-24</td><td>Eilis Hannon</td><td>Emma Walker, Cuihong Xie</td></tr>\n",
       "<tr><td>Introduction to MATLAB</td><td>Jun-24</td><td>Jake Hollins</td><td>Jonathan Witton, Han Wu, Fred Wobus</td></tr>\n",
       "<tr><td>Parallel Computing </td><td>Jun-24</td><td>Ed Hone</td><td>Fred Wobus, Han Wu, Stephen Cook</td></tr>\n",
       "<tr><td>Introduction to R</td><td>Jun-24</td><td>Ricky Olivier</td><td>Michelle Ledbetter, Theresa Wacker, Jingzhan Lu</td></tr>\n",
       "<tr><td>Intermediate Version Control</td><td>May-24</td><td>Stephen Cook</td><td>Tom Wilson, Liam Berrisford</td></tr>\n",
       "<tr><td>Python for Data Analysis</td><td>May-24</td><td>Michael Saunby</td><td>John Luff, Simon Kirby</td></tr>\n",
       "<tr><td>Introduction to HPC and ISCA</td><td>May-24</td><td>Ricky Olivier</td><td>Fred Wobus, Matt West</td></tr>\n",
       "<tr><td>Introduction to Version Control</td><td>May-24</td><td>Linus Tata </td><td>John Luff, David Studholme, Simon Kirby</td></tr>\n",
       "<tr><td>Advanced Regression Analysis with R</td><td>Apr-24</td><td>Eilis Hannon</td><td>Becky Ward, Cuihong Xie, Ishaan Sinha</td></tr>\n",
       "<tr><td>Software Development Best Practice</td><td>Apr-24</td><td>Fliss Guest</td><td>Joseph Paulo</td></tr>\n",
       "<tr><td>Computational Thinking</td><td>Apr-24</td><td>Michael Saunby</td><td>Eilis Hannon, Fotis Tsiroukis, Liam Berrisford</td></tr>\n",
       "<tr><td>Introduction to Python</td><td>Apr-24</td><td>Matt Johns</td><td>Tom Hawes, Liam Berrisford, Jack Morton, Finley Gibson</td></tr>\n",
       "<tr><td>Working With Data in R </td><td>Mar-24</td><td>Tom Hawes</td><td>Ali Hudson, Emma Walker</td></tr>\n",
       "<tr><td>Introduction to UNIX </td><td>Mar-24</td><td>Eilis Hannon</td><td>Linus Tata, Han Wu</td></tr>\n",
       "<tr><td>Regression Analysis with R</td><td>Jan-24</td><td>Eilis Hannon</td><td>Alice Franklin, Cuihong Xie</td></tr>\n",
       "<tr><td>Introduction to R</td><td>Jan-24</td><td>Jamie Harrison</td><td>Alexandra Gardner, Cuihong Xie, Becky Ward Alice Franklin</td></tr>\n",
       "<tr><td>Introduction to Version Control</td><td>Dec-23</td><td>Linus Tata </td><td>Matt Johns, Han Wu</td></tr>\n",
       "<tr><td>Introduction to HPC and ISCA</td><td>Nov-23</td><td>Ricky Olivier</td><td>Matt Johns, Matt West, Han Wu</td></tr>\n",
       "<tr><td>Introduction to julia</td><td>Nov-23</td><td>George Datseris</td><td>Ed Hone, Nick Owens</td></tr>\n",
       "<tr><td>Introduction to Python</td><td>Nov-23</td><td>Michael Saunby</td><td>John Luff, Hao Meng, Mustafa Albalushi</td></tr>\n",
       "<tr><td>Introduction to UNIX </td><td>Oct-23</td><td>Simon Kirby</td><td>Stephen Cook, Ali Hudson, Kartik Chundru </td></tr></table>"
      ],
      "text/plain": [
       "<IPython.core.display.HTML object>"
      ]
     },
     "metadata": {},
     "output_type": "display_data"
    }
   ],
   "source": [
    "import pandas as pd\n",
    "from IPython.display import display, HTML\n",
    "\n",
    "# Load the CSV file (adjust the file path as needed)\n",
    "file_path_previous = '../data/previous_workshops.csv'\n",
    "previous_courses_df = pd.read_csv(file_path_previous)\n",
    "previous_courses_df = previous_courses_df.iloc[::-1].reset_index(drop=True)\n",
    "\n",
    "# Strip any extra spaces in the column names\n",
    "previous_courses_df.columns = previous_courses_df.columns.str.strip()\n",
    "\n",
    "# Function to generate an HTML table row for each course\n",
    "def generate_html_row(row):\n",
    "    #return f\"<tr><td>{row['Course Name']}</td><td>{row['Course Info']}</td><td>{row['Course Leader']}</td><td>{row['Course Helpers']}</td><td>{row['Course Developers']}</td></tr>\"\n",
    "    return f\"<tr><td>{row['Course Name']}</td><td>{row['Course Info']}</td><td>{row['Course Leader']}</td><td>{row['Course Helpers']}</td></tr>\"\n",
    "\n",
    "#Generate HTML table header\n",
    "# html_table_header = \"\"\"\n",
    "# <table style='width: 100%; text-align: center; border: 1px solid black; border-collapse: collapse;'>\n",
    "# <tr>\n",
    "# <th>Course Name</th>\n",
    "# <th>Course Info</th>\n",
    "# <th>Course Leader</th>\n",
    "# <th>Course Helpers</th>\n",
    "# <th>Course Developers</th>\n",
    "# </tr>\n",
    "# \"\"\"\n",
    "html_table_header = \"\"\"\n",
    "<table style='width: 100%; text-align: center; border: 1px solid black; border-collapse: collapse;'>\n",
    "<tr>\n",
    "<th>Course Name</th>\n",
    "<th>Course Date</th>\n",
    "<th>Course Leader</th>\n",
    "<th>Course Helpers</th>\n",
    "</tr>\n",
    "\"\"\"\n",
    "\n",
    "# Apply the function and create the HTML table rows\n",
    "table_rows = previous_courses_df.apply(generate_html_row, axis=1).tolist()\n",
    "\n",
    "# Join the table rows into a single block\n",
    "html_table = html_table_header + \"\\n\".join(table_rows) + \"</table>\"\n",
    "\n",
    "# Display the HTML table\n",
    "display(HTML(html_table))\n"
   ]
  },
  {
   "cell_type": "code",
   "execution_count": null,
   "id": "2b3dc21f-a316-4357-8e4a-9c83c3703fd0",
   "metadata": {
    "editable": true,
    "slideshow": {
     "slide_type": ""
    },
    "tags": []
   },
   "outputs": [],
   "source": []
  }
 ],
 "metadata": {
  "kernelspec": {
   "display_name": "Python 3 (ipykernel)",
   "language": "python",
   "name": "python3"
  },
  "language_info": {
   "codemirror_mode": {
    "name": "ipython",
    "version": 3
   },
   "file_extension": ".py",
   "mimetype": "text/x-python",
   "name": "python",
   "nbconvert_exporter": "python",
   "pygments_lexer": "ipython3",
   "version": "3.9.19"
  }
 },
 "nbformat": 4,
 "nbformat_minor": 5
}
