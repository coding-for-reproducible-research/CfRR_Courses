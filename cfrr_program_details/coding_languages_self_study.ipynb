{
 "cells": [
  {
   "cell_type": "markdown",
   "id": "37fc53a9-7752-4d47-9c63-d1df71792336",
   "metadata": {},
   "source": [
    "# Coding Languages \n",
    "\n",
    "The following pages provide the self-study notes for the courses that CfRR offers in coding languages. "
   ]
  },
  {
   "cell_type": "markdown",
   "id": "579bda23-a0e7-49a5-ad3f-b455994e2459",
   "metadata": {},
   "source": [
    "## Julia \n",
    "\n",
    "[Clickable Link to Coding Language Courses for Julia](../course_homepages/julia.ipynb)\n",
    "\n",
    "These self-study courses provide a comprehensive exploration of the Julia programming language, specifically designed for reproducible scientific research. Key topics include data manipulation and analysis, advanced visualization techniques, performance optimization, and the development of reproducible workflows using Julia's robust libraries and tools. Additionally, the course covers best practices for writing efficient, scalable, and reliable code to support a wide range of research applications.\n",
    "\n",
    "## Python \n",
    "\n",
    "[Clickable Link to Coding Language Courses for Python](../course_homepages/python.ipynb)\n",
    "\n",
    "These self-study courses provide a comprehensive introduction to Python programming, equipping participants with foundational knowledge of data types, control flow, and function implementation. Building on these basics, the courses delve into advanced data manipulation, visualization techniques, and machine learning applications, emphasizing efficient handling of large datasets and predictive modeling. With a focus on reproducibility, participants will also learn to manage dependencies, validate analyses, and ensure their work is robust and replicable.\n",
    "\n",
    "## R \n",
    "\n",
    "[Clickable Link to Coding Language Courses for R](../course_homepages/R.ipynb)\n",
    "\n",
    "These self-study courses provide a comprehensive introduction to using R for data analysis, covering essential concepts such as data manipulation, visualization, and programming fundamentals. Participants will gain a strong foundation in regression analysis, from basic models to advanced techniques like interactions and multi-level models, with a focus on tailoring methods to specific research questions. Emphasizing practical skills, the courses teach students to work with structured data, conduct analyses effectively, and document their work for reproducibility.\n",
    "\n",
    "## UNIX \n",
    "\n",
    "[Clickable Link to Coding Language Courses for UNIX](../course_homepages/unix.ipynb)\n",
    "\n",
    "These self-study courses provide an introduction to the Unix shell, focusing on navigating filesystems, inspecting and manipulating files, and automating tasks with scripting. Participants will develop skills to manage workflows efficiently through the command line, moving beyond IDEs and notebooks to run programs directly in a Unix environment. Emphasizing practical applications, the courses equip students with foundational tools for effective and streamlined system interaction.\n"
   ]
  },
  {
   "cell_type": "code",
   "execution_count": null,
   "id": "5ad4faec-7a82-4f3b-a3df-86d4ca32953c",
   "metadata": {},
   "outputs": [],
   "source": []
  }
 ],
 "metadata": {
  "kernelspec": {
   "display_name": "Python 3 (ipykernel)",
   "language": "python",
   "name": "python3"
  },
  "language_info": {
   "codemirror_mode": {
    "name": "ipython",
    "version": 3
   },
   "file_extension": ".py",
   "mimetype": "text/x-python",
   "name": "python",
   "nbconvert_exporter": "python",
   "pygments_lexer": "ipython3",
   "version": "3.9.19"
  }
 },
 "nbformat": 4,
 "nbformat_minor": 5
}
