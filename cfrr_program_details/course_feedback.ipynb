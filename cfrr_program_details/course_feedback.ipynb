{
 "cells": [
  {
   "cell_type": "markdown",
   "id": "87ec89e9-8387-4daa-99f0-34203c41a9f8",
   "metadata": {},
   "source": [
    "# Course Feedback\n",
    "If you have recently attended a Coding for Reproducible Research (CfRR) course, please fill out the following form to provide us with insight into how the course is being received by attendees. Having documented information about the quality of the CfRR courses is key to improving our course offer.\n",
    "\n",
    "> **Note:** If the form below does not load, please [click here to open the Microsoft Form directly](https://forms.office.com/Pages/ResponsePage.aspx?id=d10qkZj77k6vMhM02PBKU84YwThO-BpArj9MrG7uxJxUNERTSEY1SDRTTzBWSVQ3VkpBM0QyREI5SCQlQCN0PWcu) to complete it.  \n",
    "> Not every web browser will display embedded forms correctly.\n",
    "\n",
    "<iframe width=\"100%\" height=\"2450px\" title=\"Course Feedback Form\" src=\"https://forms.office.com/Pages/ResponsePage.aspx?id=d10qkZj77k6vMhM02PBKU1p5IkKpVbtNkGlRxe_xSUNUNERTSEY1SDRTTzBWSVQ3VkpBM0QyREI5SC4u&embed=true\" frameborder=\"0\" marginwidth=\"0\" marginheight=\"0\" style=\"border: none;\" allowfullscreen webkitallowfullscreen mozallowfullscreen msallowfullscreen> </iframe>"
   ]
  },
  {
   "cell_type": "code",
   "execution_count": null,
   "id": "06eba8a3-dbc7-42ef-8179-2da48694da15",
   "metadata": {},
   "outputs": [],
   "source": []
  }
 ],
 "metadata": {
  "kernelspec": {
   "display_name": "Python 3 (ipykernel)",
   "language": "python",
   "name": "python3"
  },
  "language_info": {
   "codemirror_mode": {
    "name": "ipython",
    "version": 3
   },
   "file_extension": ".py",
   "mimetype": "text/x-python",
   "name": "python",
   "nbconvert_exporter": "python",
   "pygments_lexer": "ipython3",
   "version": "3.9.19"
  }
 },
 "nbformat": 4,
 "nbformat_minor": 5
}
