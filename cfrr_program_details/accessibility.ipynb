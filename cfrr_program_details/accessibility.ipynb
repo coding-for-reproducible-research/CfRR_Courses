{
 "cells": [
  {
   "cell_type": "markdown",
   "id": "dc9784f2-22a4-4e37-a5de-af1b60bc5961",
   "metadata": {},
   "source": [
    "# Accessibility Statement for CfRR Courses\n",
    "\n",
    "At **Coding for Reproducible Research (CfRR)**, we are committed to ensuring digital accessibility for all users, regardless of ability or technology. We are actively working to improve the accessibility and usability of our website and strive to make our content inclusive for the widest possible audience.\n",
    "\n",
    "## Measures to Support Accessibility\n",
    "\n",
    "We aim to:\n",
    "\n",
    "- Follow the [Web Content Accessibility Guidelines (WCAG) 2.2 AA](https://www.w3.org/WAI/standards-guidelines/wcag/) standards.\n",
    "- Use clear and simple language where possible.\n",
    "- Provide structured content using headings and lists.\n",
    "- Offer alternative text for images and visual elements.\n",
    "- Ensure sufficient color contrast for text and backgrounds.\n",
    "- Make our website navigable by keyboard and accessible to screen readers.\n",
    "\n",
    "## How Accessible is this Website?\n",
    "\n",
    "We know that some parts of this website may not be fully accessible, for example:\n",
    "\n",
    "- Some older documents and embedded materials may not be fully compatible with assistive technologies.\n",
    "- Some visualisations and interactive elements may not have complete keyboard or screen reader support.\n",
    "- Downloadable files may not always be in accessible formats.\n",
    "\n",
    "We are working to address these issues and welcome feedback from users to help us prioritize improvements.\n",
    "\n",
    "## Reporting Accessibility Problems\n",
    "\n",
    "If you find any problems not listed on this page or think we’re not meeting accessibility requirements, please contact us:\n",
    "\n",
    "- **Email:** codingforreproducibleresearch@exeter.ac.uk\n",
    "- **Feedback Form:** https://coding-for-reproducible-research.github.io/CfRR_Courses/contributing/suggestions_form.html\n",
    "\n",
    "## Preparation of this Accessibility Statement\n",
    "\n",
    "This statement was prepared on [15th July 2025]. It was last reviewed on [15th July 2025].  \n",
    "This website is regularly tested for accessibility issues, and we aim to update this statement and our site as we improve.\n",
    "\n",
    "```{important}\n",
    "Known Accessibility Issues: Interactive Quizzes (JupyterQuiz)\n",
    "\n",
    "The interactive quiz elements on this website use the third-party [JupyterQuiz](https://github.com/jmshea/jupyterquiz) package. At present, these quizzes do not fully meet [WCAG 2.2](https://www.w3.org/WAI/standards-guidelines/wcag/) accessibility standards, particularly for users of screen readers and keyboard-only navigation.\n",
    "\n",
    "We are aware of this limitation and are actively supporting efforts to address these accessibility barriers in the upstream JupyterQuiz project. You can track the progress of this work [in this GitHub issue](https://github.com/jmshea/jupyterquiz/issues/31). While resolving these issues upstream may take longer, it is a more permanent solution that will benefit all users of JupyterQuiz, not just visitors to our site.\n",
    "\n",
    "We appreciate your patience and understanding as we work towards a fully accessible learning experience for everyone.\n",
    "```\n"
   ]
  },
  {
   "cell_type": "code",
   "execution_count": null,
   "id": "03af971c-5c99-4620-a3c2-d632f8c9190a",
   "metadata": {},
   "outputs": [],
   "source": []
  }
 ],
 "metadata": {
  "kernelspec": {
   "display_name": "Python 3 (ipykernel)",
   "language": "python",
   "name": "python3"
  },
  "language_info": {
   "codemirror_mode": {
    "name": "ipython",
    "version": 3
   },
   "file_extension": ".py",
   "mimetype": "text/x-python",
   "name": "python",
   "nbconvert_exporter": "python",
   "pygments_lexer": "ipython3",
   "version": "3.12.2"
  }
 },
 "nbformat": 4,
 "nbformat_minor": 5
}
