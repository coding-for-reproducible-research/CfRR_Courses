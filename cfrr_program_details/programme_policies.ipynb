{
 "cells": [
  {
   "cell_type": "markdown",
   "id": "2cbbd1fd-300d-4c56-89a4-d2682c5a4241",
   "metadata": {},
   "source": [
    "# Programme Policies\n",
    "\n",
    "## Allocation of course places  \n",
    "\n",
    "In line with our ethos of providing training for all staff and students at the University of Exeter, course registration is open to all via our website. To ensure fair access to our course provision, we allocate places on a first-come-first-served basis, determined by the submission of a completed registration form by interested participants. This process also extends to managing the workshop waiting list as places are freed up due to cancellations.  \n",
    "\n",
    "In the rare cases where funding is designated for a workshop to be delivered to a specific group, workshop places will be prioritised for this targeted group. This could impact all or some of the places available. In this situation, we clearly advertise any amendments to the allocation policy at the time of advertisement and registration.  \n",
    "\n",
    "  \n",
    "\n",
    "## Failure to attend   \n",
    "\n",
    "As stated in our expectations for course participants, if a person is offered a place but is no longer able to attend, we expect formal cancellation of the place. Ideally, 48 hours in advance to allow us to offer the place to someone on the waiting list.  \n",
    "\n",
    "Due to high demand for course places, we reserve the right to pause bookings for 6 months for individuals who recurrently fail to attend workshops after being offered a place.   \n",
    "\n",
    "  \n",
    "\n",
    "## Data protection  \n",
    "Data collected from individuals who register for a course is used for administration of the course they have registered for, and to pass on an invitation to join the online Teams channel for support after the workshop.  \n",
    "\n",
    "For those offered a place on a course, some of this information is shared with the workshop delivery team to enable them to prepare appropriately and make accommodations as required. Access to this data is removed shortly after to comply with data protection requirements.  \n",
    "\n",
    "Data collected across all workshops is used to inform strategic decision-making and to compile reports to stakeholders on demand and delivery. Only summary level statistics are shared beyond the Programme Management Team and no identifying information is included.   \n",
    "\n",
    "Individuals may provide their contact details to register their interest in supporting workshop delivery and/or being part of our wider community initiatives. Data is used solely for the purposes explained at the time of submission. Individuals can be removed from our mailing list at any time by contacting the CfRR management team on CodingforReproducibleResearch@exeter.ac.uk.  \n",
    "\n",
    "All data is held by the programme management team and processed in accordance with University of Exeter policies and procedures. If you have any further queries about how data is held and used, please contact CodingforReproducibleResearch@exeter.ac.uk.  \n",
    "  \n",
    "## Accessibility statement  \n",
    "\n",
    "We strive to ensure all our courses are as accessible as possible. All course notes used for delivery are available on our website for colleagues to review.  \n",
    "\n",
    "At present, we have taken the decision not to make or share recordings/transcripts for workshops due to data protection constraints.  \n",
    "\n",
    "We invite participants to share any other accessibility needs or adaptations that would enable them to engage with our course programme with the programme management team in advance of the course. This can be communicated via email, or a Teams call can be arranged.  \n",
    "\n",
    "Please note we do not have access to any existing documents such as ILPs. Registrants would need to actively share the accommodations stated in these documents with us.   \n",
    "\n",
    "Any details shared are stored and used for the sole purpose of administration of the relevant course. They are only shared with the course delivery team where necessary, and in an anonymised format where possible.  \n",
    "\n",
    "We continually review our processes in order to provide an inclusive provision. For queries regarding accessibility, please email CodingforReproducibleResearch@exeter.ac.uk.  \n",
    "\n",
    "  \n",
    "\n",
    "[Updated July 2025]\n",
    "\n",
    " "
   ]
  }
 ],
 "metadata": {
  "kernelspec": {
   "display_name": "Python 3 (ipykernel)",
   "language": "python",
   "name": "python3"
  },
  "language_info": {
   "codemirror_mode": {
    "name": "ipython",
    "version": 3
   },
   "file_extension": ".py",
   "mimetype": "text/x-python",
   "name": "python",
   "nbconvert_exporter": "python",
   "pygments_lexer": "ipython3",
   "version": "3.9.19"
  }
 },
 "nbformat": 4,
 "nbformat_minor": 5
}
