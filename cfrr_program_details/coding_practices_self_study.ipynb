{
 "cells": [
  {
   "cell_type": "markdown",
   "id": "ede00464-14b3-49a2-8187-26bb602ddbdc",
   "metadata": {},
   "source": [
    "# Coding Practices \n",
    "\n",
    "The following pages provide the self-study notes for the courses that CfRR offers in coding practices. "
   ]
  },
  {
   "cell_type": "markdown",
   "id": "b00cafdb-9a54-4e49-88da-24c62d4e28a6",
   "metadata": {},
   "source": [
    "## Computational Thinking\n",
    "\n",
    "[Clickable Link to Coding Practices Courses for Computational Thinking](../course_homepages/computational_thinking.ipynb)\n",
    "\n",
    "These self-study courses provide an introduction to computational thinking, emphasizing the importance of algorithms in coding and problem-solving. Participants will develop a foundational understanding of computational approaches and learn to design effective algorithms for a variety of tasks. The courses also focus on improving debugging skills by distinguishing between syntax errors and algorithmic issues, fostering more efficient troubleshooting.\n",
    "\n",
    "## High Performance Computing\n",
    "\n",
    "[Clickable Link to Coding Practices Courses for High Performance Computing](../course_homepages/high_performance_computing.ipynb)\n",
    "\n",
    "These self-study courses provide a comprehensive introduction to high-performance computing (HPC), focusing on using clusters for managing large computational workloads. Participants will learn to navigate HPC environments, manage job scheduling, and efficiently parallelize tasks using array jobs and other techniques. The courses also cover the fundamentals of parallel computing, including distributed and shared-memory parallelism, with practical experience in writing and optimizing parallel code using MPI and multithreading.\n",
    "\n",
    "## Software Development\n",
    "\n",
    "[Clickable Link to Coding Practices Courses for Software Development](../course_homepages/software_development.ipynb)\n",
    "\n",
    "These self-study courses provide an introduction to best practices in software development, focusing on creating reproducible and collaborative research code. Participants will learn techniques to make their code accessible and useful to others, enhancing the impact and reliability of their work. The courses also lay the groundwork for more advanced topics in software development, preparing students for intermediate-level learning.\n",
    "\n",
    "## Version Control\n",
    "\n",
    "[Clickable Link to Coding Practices Courses for Version Control](../course_homepages/version_control.ipynb)\n",
    "\n",
    "These self-study courses provide a comprehensive introduction to version control, focusing on managing software development using Git and collaborating through platforms like GitHub. Participants will gain foundational skills in repository management, essential Git commands, and best practices for sharing and maintaining code. Building on these basics, the courses explore advanced Git configurations, branching strategies, and techniques for rewriting history, equipping learners with robust tools for effective and collaborative version control workflows.\n"
   ]
  }
 ],
 "metadata": {
  "kernelspec": {
   "display_name": "Python 3 (ipykernel)",
   "language": "python",
   "name": "python3"
  },
  "language_info": {
   "codemirror_mode": {
    "name": "ipython",
    "version": 3
   },
   "file_extension": ".py",
   "mimetype": "text/x-python",
   "name": "python",
   "nbconvert_exporter": "python",
   "pygments_lexer": "ipython3",
   "version": "3.9.19"
  }
 },
 "nbformat": 4,
 "nbformat_minor": 5
}
