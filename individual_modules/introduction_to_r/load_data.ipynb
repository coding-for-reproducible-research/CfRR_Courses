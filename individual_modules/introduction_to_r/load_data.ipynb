{
 "cells": [
  {
   "cell_type": "markdown",
   "id": "9de014f5-12d5-4b50-827b-e173d61787cf",
   "metadata": {
    "editable": true,
    "slideshow": {
     "slide_type": ""
    },
    "tags": []
   },
   "source": [
    "# Loading Data\n",
    "\n",
    "## Download Rmd Version\n",
    "\n",
    "If you wish to engage with this course content via Rmd, then please click the link below to download the Rmd file.\n",
    "\n",
    "[Download load_data.Rmd](rmarkdown/load_data.Rmd)\n",
    "\n",
    "## Learning Objectives\n",
    "- Learn how to load data from CSV files into R using the `read.csv` function.\n",
    "- Recognize and understand the arguments for the `read.csv` functions, particularly `file` and `header`\n",
    "- Execute data loading operations and assign the data to a variable for further use\n",
    "- Understand the significance of the `header` argument and its default value in the `read.csv` function\n",
    "- Gain awareness of other useful arguments and methods for importing data using `read.csv`\n",
    "\n",
    "## Loading Data From Files \n",
    "\n",
    "More often than not you will need to load data from a file into R that you want to analyse. We are going to use a \n",
    "dataset in the file \"data/worms.csv\" which you can download from the course webpage. \n",
    "This is a comma-separated values (CSV) format which means that a comma is used to indicate the end of a column.\n",
    "\n",
    "We need to tell our computer where the file that contains the values is. If we forget this step we'll get an error message when trying to read the file. We can load the data into R using `read.csv`.\n",
    "\n",
    "Assuming you have downloaded the file into your current working directory, you can execute the following"
   ]
  },
  {
   "cell_type": "code",
   "execution_count": 2,
   "id": "4bbbc81c-aa73-47ad-a2f2-756d6f31d768",
   "metadata": {
    "editable": true,
    "slideshow": {
     "slide_type": ""
    },
    "tags": []
   },
   "outputs": [
    {
     "name": "stdout",
     "output_type": "stream",
     "text": [
      "          Field.Name Area Slope Vegetation Soil.pH  Damp Worm.density\n",
      "1        Nashs Field  3.6    11  Grassland     4.1 FALSE            4\n",
      "2     Silwood Bottom  5.1     2     Arable     5.2 FALSE            7\n",
      "3      Nursery Field  2.8     3  Grassland     4.3 FALSE            2\n",
      "4        Rush Meadow  2.4     5     Meadow     4.9  TRUE            5\n",
      "5    Gunness Thicket  3.8     0      Scrub     4.2 FALSE            6\n",
      "6           Oak Mead  3.1     2  Grassland     3.9 FALSE            2\n",
      "7       Church Field  3.5     3  Grassland     4.2 FALSE            3\n",
      "8            Ashurst  2.1     0     Arable     4.8 FALSE            4\n",
      "9        The Orchard  1.9     0    Orchard     5.7 FALSE            9\n",
      "10     Rookery Slope  1.5     4  Grassland     5.0  TRUE            7\n",
      "11       Garden Wood  2.9    10      Scrub     5.2 FALSE            8\n",
      "12      North Gravel  3.3     1  Grassland     4.1 FALSE            1\n",
      "13      South Gravel  3.7     2  Grassland     4.0 FALSE            2\n",
      "14 Observatory Ridge  1.8     6  Grassland     3.8 FALSE            0\n",
      "15        Pond Field  4.1     0     Meadow     5.0  TRUE            6\n",
      "16      Water Meadow  3.9     0     Meadow     4.9  TRUE            8\n",
      "17         Cheapside  2.2     8      Scrub     4.7  TRUE            4\n",
      "18        Pound Hill  4.4     2     Arable     4.5 FALSE            5\n",
      "19        Gravel Pit  2.9     1  Grassland     3.5 FALSE            1\n",
      "20         Farm Wood  0.8    10      Scrub     5.1  TRUE            3\n"
     ]
    }
   ],
   "source": [
    "read.csv(file = \"data/worms.csv\", header = TRUE)"
   ]
  },
  {
   "cell_type": "markdown",
   "id": "aa77810a-0c8a-4eea-8236-def134568148",
   "metadata": {
    "editable": true,
    "slideshow": {
     "slide_type": ""
    },
    "tags": []
   },
   "source": [
    "We have provided two arguments to this function: \n",
    "1. __file__ - the name of the file we want to read,\n",
    "2. __header__ - whether the first line of the file contains names for the columns of data.\n",
    "\n",
    "The filename needs to be a character string (or string for short), so we put it in quotes. \n",
    "The header argument needs to be a logical, we have set `TRUE` indicating that the data file does have column headers. \n",
    "\n",
    "\n",
    "Since we didn't tell it to do anything else with the function's output, the console will display the full contents of the file `worms.csv`.\n",
    "Try it out.\n",
    "\n",
    "`read.csv` reads the file, but we can't easily use data unless we assign it to a variable. Let's re-run `read.csv` and \n",
    "save the result:"
   ]
  },
  {
   "cell_type": "code",
   "execution_count": 3,
   "id": "3483ee7c-4735-425d-ab4e-34569a69d655",
   "metadata": {
    "editable": true,
    "slideshow": {
     "slide_type": ""
    },
    "tags": []
   },
   "outputs": [],
   "source": [
    "df <- read.csv(file = \"data/worms.csv\", header = TRUE)"
   ]
  },
  {
   "cell_type": "markdown",
   "id": "48f16fa6-b99b-4b5e-addf-e593c6424017",
   "metadata": {
    "editable": true,
    "slideshow": {
     "slide_type": ""
    },
    "tags": []
   },
   "source": [
    "Some of the functions we introduced earlier can be used to summarise the properties of the worms dataset."
   ]
  },
  {
   "cell_type": "markdown",
   "id": "8fcfe88d-3dd0-4eeb-b6d8-151b436be80e",
   "metadata": {
    "editable": true,
    "slideshow": {
     "slide_type": ""
    },
    "tags": []
   },
   "source": [
    "## Other options for Reading CSV Files\n",
    "`read.csv` actually has many more arguments that you may find useful when importing your own data in the future. You can learn more about these options [here](http://swcarpentry.github.io/r-novice-inflammation/11-supp-read-write-csv/).\n",
    "\n",
    "## Loading Data With Header\n",
    "\n",
    "What happens if you forget to put `header = FALSE`? The default value is `header = TRUE`, which you can check  with `?read.csv` or `help(read.csv)`. What do you expect will happen if you leave the default value? Before you  run any code, think about what will happen to the first few rows of your data frame, and its overall size."
   ]
  },
  {
   "cell_type": "markdown",
   "id": "fbdf9b1a-c562-44f2-afb3-8659b4df8d77",
   "metadata": {
    "editable": true,
    "slideshow": {
     "slide_type": ""
    },
    "tags": [
     "remove-input"
    ]
   },
   "source": [
    "## Summary Quiz"
   ]
  },
  {
   "cell_type": "code",
   "execution_count": 1,
   "id": "59388acb-77d2-40ae-b553-12b947d74b51",
   "metadata": {
    "editable": true,
    "slideshow": {
     "slide_type": ""
    },
    "tags": [
     "remove-input"
    ]
   },
   "outputs": [
    {
     "data": {
      "text/html": [
       "\n",
       "  <style>\n",
       "  .quiz-question {\n",
       "      background-color: #6c63ff;\n",
       "      color: white;\n",
       "      padding: 12px;\n",
       "      border-radius: 10px;\n",
       "      font-weight: bold;\n",
       "      font-size: 1.2em;\n",
       "      margin-bottom: 10px;\n",
       "  }\n",
       "\n",
       "  .quiz-form {\n",
       "      margin-bottom: 20px;\n",
       "  }\n",
       "\n",
       "  .quiz-answer {\n",
       "      display: block;\n",
       "      background-color: #f2f2f2;\n",
       "      border: none;\n",
       "      border-radius: 10px;\n",
       "      padding: 10px;\n",
       "      margin: 5px 0;\n",
       "      font-size: 1em;\n",
       "      cursor: pointer;\n",
       "      text-align: left;\n",
       "      transition: background-color 0.3s;\n",
       "      width: 100%;\n",
       "  }\n",
       "\n",
       "  .quiz-answer:hover {\n",
       "      background-color: #e0e0e0;\n",
       "  }\n",
       "\n",
       "  .correct {\n",
       "      background-color: #4CAF50 !important;\n",
       "      color: white !important;\n",
       "      border: none;\n",
       "  }\n",
       "\n",
       "  .incorrect {\n",
       "      background-color: #D32F2F !important;\n",
       "      color: white !important;\n",
       "      border: none;\n",
       "  }\n",
       "\n",
       "  .feedback {\n",
       "      margin-top: 10px;\n",
       "      font-weight: bold;\n",
       "      font-size: 1em;\n",
       "  }\n",
       "  </style>\n",
       "\n",
       "  <script>\n",
       "  function handleAnswer(qid, aid, feedback, isCorrect) {\n",
       "      let buttons = document.querySelectorAll(\".answer-\" + qid);\n",
       "      buttons.forEach(btn => {\n",
       "          btn.classList.remove(\"correct\", \"incorrect\");\n",
       "      });\n",
       "\n",
       "      let selected = document.getElementById(aid);\n",
       "      selected.classList.add(isCorrect ? \"correct\" : \"incorrect\");\n",
       "\n",
       "      let feedbackBox = document.getElementById(\"feedback_\" + qid);\n",
       "      feedbackBox.innerHTML = feedback;\n",
       "      feedbackBox.style.color = isCorrect ? \"green\" : \"red\";\n",
       "  }\n",
       "  </script>\n",
       "  <div class=\"quiz-question\">What arguement is used to specify the file name in the `read.csv` function?</div><form class=\"quiz-form\"><button type=\"button\" class=\"quiz-answer answer-1\" id=\"q1_a1\"\n",
       "        onclick=\"handleAnswer('1', 'q1_a1', 'Incorrect', false)\">\n",
       "        data</button><button type=\"button\" class=\"quiz-answer answer-1\" id=\"q1_a2\"\n",
       "        onclick=\"handleAnswer('1', 'q1_a2', 'Incorrect', false)\">\n",
       "        path</button><button type=\"button\" class=\"quiz-answer answer-1\" id=\"q1_a3\"\n",
       "        onclick=\"handleAnswer('1', 'q1_a3', 'Correct', true)\">\n",
       "        file</button><button type=\"button\" class=\"quiz-answer answer-1\" id=\"q1_a4\"\n",
       "        onclick=\"handleAnswer('1', 'q1_a4', 'Incorrect', false)\">\n",
       "        filename</button><div class=\"feedback\" id=\"feedback_1\"></div></form><hr><div class=\"quiz-question\">What is the default value of the `header` arguement in the `read.csv` function?</div><form class=\"quiz-form\"><button type=\"button\" class=\"quiz-answer answer-2\" id=\"q2_a1\"\n",
       "        onclick=\"handleAnswer('2', 'q2_a1', 'Incorrect', false)\">\n",
       "        FALSE</button><button type=\"button\" class=\"quiz-answer answer-2\" id=\"q2_a2\"\n",
       "        onclick=\"handleAnswer('2', 'q2_a2', 'Incorrect', false)\">\n",
       "        NULL</button><button type=\"button\" class=\"quiz-answer answer-2\" id=\"q2_a3\"\n",
       "        onclick=\"handleAnswer('2', 'q2_a3', 'Incorrect', false)\">\n",
       "        NA</button><button type=\"button\" class=\"quiz-answer answer-2\" id=\"q2_a4\"\n",
       "        onclick=\"handleAnswer('2', 'q2_a4', 'Correct', true)\">\n",
       "        TRUE</button><div class=\"feedback\" id=\"feedback_2\"></div></form><hr><div class=\"quiz-question\">What happens if you forget to set the `header` arguement to `FALSE` when the CSV file does not have a header?</div><form class=\"quiz-form\"><button type=\"button\" class=\"quiz-answer answer-3\" id=\"q3_a1\"\n",
       "        onclick=\"handleAnswer('3', 'q3_a1', 'Incorrect', false)\">\n",
       "        The function will return an error</button><button type=\"button\" class=\"quiz-answer answer-3\" id=\"q3_a2\"\n",
       "        onclick=\"handleAnswer('3', 'q3_a2', 'Correct', true)\">\n",
       "        The first row of data will be treated as column names</button><button type=\"button\" class=\"quiz-answer answer-3\" id=\"q3_a3\"\n",
       "        onclick=\"handleAnswer('3', 'q3_a3', 'Incorrect', false)\">\n",
       "        The first column will be skipped</button><button type=\"button\" class=\"quiz-answer answer-3\" id=\"q3_a4\"\n",
       "        onclick=\"handleAnswer('3', 'q3_a4', 'Incorrect', false)\">\n",
       "        The data will be loaded incorrect without any warning</button><div class=\"feedback\" id=\"feedback_3\"></div></form><hr>"
      ]
     },
     "metadata": {},
     "output_type": "display_data"
    }
   ],
   "source": [
    "library(jsonlite)\n",
    "library(IRdisplay)\n",
    "\n",
    "show_quiz_from_json <- function(path) {\n",
    "  quiz_data <- fromJSON(path, simplifyVector = FALSE)\n",
    "  \n",
    "  html <- '\n",
    "  <style>\n",
    "  .quiz-question {\n",
    "      background-color: #6c63ff;\n",
    "      color: white;\n",
    "      padding: 12px;\n",
    "      border-radius: 10px;\n",
    "      font-weight: bold;\n",
    "      font-size: 1.2em;\n",
    "      margin-bottom: 10px;\n",
    "  }\n",
    "\n",
    "  .quiz-form {\n",
    "      margin-bottom: 20px;\n",
    "  }\n",
    "\n",
    "  .quiz-answer {\n",
    "      display: block;\n",
    "      background-color: #f2f2f2;\n",
    "      border: none;\n",
    "      border-radius: 10px;\n",
    "      padding: 10px;\n",
    "      margin: 5px 0;\n",
    "      font-size: 1em;\n",
    "      cursor: pointer;\n",
    "      text-align: left;\n",
    "      transition: background-color 0.3s;\n",
    "      width: 100%;\n",
    "  }\n",
    "\n",
    "  .quiz-answer:hover {\n",
    "      background-color: #e0e0e0;\n",
    "  }\n",
    "\n",
    "  .correct {\n",
    "      background-color: #4CAF50 !important;\n",
    "      color: white !important;\n",
    "      border: none;\n",
    "  }\n",
    "\n",
    "  .incorrect {\n",
    "      background-color: #D32F2F !important;\n",
    "      color: white !important;\n",
    "      border: none;\n",
    "  }\n",
    "\n",
    "  .feedback {\n",
    "      margin-top: 10px;\n",
    "      font-weight: bold;\n",
    "      font-size: 1em;\n",
    "  }\n",
    "  </style>\n",
    "\n",
    "  <script>\n",
    "  function handleAnswer(qid, aid, feedback, isCorrect) {\n",
    "      let buttons = document.querySelectorAll(\".answer-\" + qid);\n",
    "      buttons.forEach(btn => {\n",
    "          btn.classList.remove(\"correct\", \"incorrect\");\n",
    "      });\n",
    "\n",
    "      let selected = document.getElementById(aid);\n",
    "      selected.classList.add(isCorrect ? \"correct\" : \"incorrect\");\n",
    "\n",
    "      let feedbackBox = document.getElementById(\"feedback_\" + qid);\n",
    "      feedbackBox.innerHTML = feedback;\n",
    "      feedbackBox.style.color = isCorrect ? \"green\" : \"red\";\n",
    "  }\n",
    "  </script>\n",
    "  '\n",
    "\n",
    "  for (i in seq_along(quiz_data)) {\n",
    "    question <- quiz_data[[i]]\n",
    "    qid <- as.character(i)\n",
    "    html <- paste0(html, sprintf('<div class=\"quiz-question\">%s</div><form class=\"quiz-form\">', question$question))\n",
    "    \n",
    "    for (j in seq_along(question$answers)) {\n",
    "      answer <- question$answers[[j]]\n",
    "      aid <- sprintf(\"q%s_a%s\", i, j)\n",
    "      feedback <- gsub(\"'\", \"\\\\'\", answer$feedback)  # escape single quotes\n",
    "      correct <- tolower(substr(answer$feedback, 1, 7)) == \"correct\"\n",
    "      correct_js <- tolower(as.character(correct))  # \"true\" or \"false\"\n",
    "\n",
    "      html <- paste0(html, sprintf(\n",
    "        '<button type=\"button\" class=\"quiz-answer answer-%s\" id=\"%s\"\n",
    "        onclick=\"handleAnswer(\\'%s\\', \\'%s\\', \\'%s\\', %s)\">\n",
    "        %s</button>',\n",
    "        qid, aid, qid, aid, feedback, correct_js, answer$answer\n",
    "      ))\n",
    "    }\n",
    "    \n",
    "    html <- paste0(html, sprintf('<div class=\"feedback\" id=\"feedback_%s\"></div></form><hr>', qid))\n",
    "  }\n",
    "\n",
    "  display_html(html)\n",
    "}\n",
    "\n",
    "# Call the function to display quiz interactively:\n",
    "show_quiz_from_json(\"questions/summary_load_data.json\")"
   ]
  },
  {
   "cell_type": "code",
   "execution_count": null,
   "id": "777998be-2525-40ee-b76b-251f41560610",
   "metadata": {
    "editable": true,
    "slideshow": {
     "slide_type": ""
    },
    "tags": []
   },
   "outputs": [],
   "source": []
  }
 ],
 "metadata": {
  "kernelspec": {
   "display_name": "R",
   "language": "R",
   "name": "ir"
  },
  "language_info": {
   "codemirror_mode": "r",
   "file_extension": ".r",
   "mimetype": "text/x-r-source",
   "name": "R",
   "pygments_lexer": "r",
   "version": "4.3.3"
  }
 },
 "nbformat": 4,
 "nbformat_minor": 5
}
