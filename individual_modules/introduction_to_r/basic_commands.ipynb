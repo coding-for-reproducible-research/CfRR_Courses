{
 "cells": [
  {
   "cell_type": "markdown",
   "id": "4c89b1ac-c110-4b35-a370-98954233bed2",
   "metadata": {
    "editable": true,
    "slideshow": {
     "slide_type": ""
    },
    "tags": []
   },
   "source": [
    "# Running Commands With R\n",
    "\n",
    "## Download Rmd Version\n",
    "\n",
    "If you wish to engage with this course content via Rmd, then please click the link below to download the Rmd file.\n",
    "\n",
    "[Download basic_commands.Rmd](rmarkdown/basic_commands.Rmd)\n",
    "\n",
    "## Learning Objectives\n",
    "- Understand how to use the R console and RStudio interface for running commands and displaying results\n",
    "- Learn the importance of the working directory in R and how to set and verify it using R commands\n",
    "- Differentiate between absolute and relative file paths in R\n",
    "- Learn to create, assign values to, and modify variables in R and understand their usage in programming\n",
    "\n",
    "\n",
    "## Executing Commands in R\n",
    "\n",
    "The console pane (in RStudio, the bottom left panel) is the place where R is waiting for you to tell it what to do, and where it will show the results of a command that has been executed. This console is the fundamental component of R and is available outside of RStudio. It is recognisable due to the blurb of text at the top (which provides details on which R version you are using) and the arrowhead cursor (>).\n",
    "\n",
    "![Screenshot of the R console in RStudio showing version 4.2.0 running on a Windows 64-bit platform (x86_64-w64-mingw32/x64). The console displays the R welcome message, licensing terms, and suggestions for using 'demo()', 'help()', or 'q()' to explore or exit.](images/r_console.png)\n",
    "\n",
    "\n",
    "You can type commands directly into the console and press `Enter` to execute those commands. For example we can use R as a calculator:"
   ]
  },
  {
   "cell_type": "code",
   "execution_count": 1,
   "id": "7e648319-2bd4-4210-aaea-9f973bae7d68",
   "metadata": {
    "editable": true,
    "slideshow": {
     "slide_type": ""
    },
    "tags": []
   },
   "outputs": [
    {
     "data": {
      "text/html": [
       "4"
      ],
      "text/latex": [
       "4"
      ],
      "text/markdown": [
       "4"
      ],
      "text/plain": [
       "[1] 4"
      ]
     },
     "metadata": {},
     "output_type": "display_data"
    }
   ],
   "source": [
    "2+2 "
   ]
  },
  {
   "cell_type": "markdown",
   "id": "d42a9ee6-973f-4d9a-adfa-e2e8e1eda46c",
   "metadata": {
    "editable": true,
    "slideshow": {
     "slide_type": ""
    },
    "tags": []
   },
   "source": [
    "## Interacting with R\n",
    "\n",
    "\n",
    "There are two main ways of interacting with R: using the console or by using a script. A script is a text file that contains your code. R scripts are often saved with the file extension .r or .R.\n",
    "\n",
    "We want our code and workflow to be reproducible. In other words, we want to write code in a way that anyone (including our future selves) can easily replicate, such that they will obtain the same results from our code on their computer. If we type our commands directly into the Console, they will be forgotten when you close the session.  It is preferable to type the commands you want to run directly into the script editor, so that you can save the script. This way,  you have a complete record of what you did,  you can easily show others how you did it and you can do it again later if needed. \n",
    "\n",
    "RStudio allows you to execute commands directly from the script editor by using the <kbd>`Ctrl`</kbd> + <kbd>`Enter`</kbd> shortcut. If no text is highlighted, the command on the current line in the script (i.e. where the line containing the cursor) will be sent to the console and executed. Alternatively you can select multiple lines to  send to the console for execution when you press <kbd>`Ctrl`</kbd> + <kbd>`Enter`</kbd>.\n",
    "\n",
    "There may be times when you want to type directly in the console, for example a quick calculation.  RStudio provides the <kbd>`Ctrl`</kbd> + <kbd>`1`</kbd> and <kbd>`Ctrl`</kbd> + <kbd>`2`</kbd> shortcuts which allow you to jump between the script and the console windows.\n",
    "\n",
    "If R is ready to accept commands, the R console shows a `>` prompt. If it receives a command (by typing, copy-pasting or sent from the script editor using <kbd>`Ctrl`</kbd> + <kbd>`Enter`</kbd>), R will try to execute it, and when ready, show the results and come back with a new `>`prompt to indicate it is ready for the next command.\n",
    "\n",
    "If R is still waiting for you to enter more text to complete the current command  the console will show a `+` prompt. It means that you haven't finished entering a complete command. This is because it is expecting a specific character, that finishes a command you have already started. For example, if you open a parenthesis or quotation,  it needs to be closed before the command can be processed. Another way of thinking about this  is R expects for every left-parentheses you include, a right-parentheses to accompany it. Similarly, it expects an even  number of quotation marks. This can be quite frustrating, as it might not be obvious what R is waiting for, but if you're in RStudio and this happens, click inside the console window and press `Esc`; this will cancel the incomplete command and return you to the `>` prompt.\n",
    "\n",
    "## Set the Working Directory\n",
    "\n",
    "When using R, often we want to analyse data stored in files on our computer and potentially save some output. \n",
    "\n",
    "It is important to note that we are always working in a folder or directory on our computer. There are times when this may not be important (for example running a simulation from given parameters).  But if we want a specific file, we need to tell R where to find it. We do so by specifying the filepath. One common issue when  starting out with programming is understanding where a program (in this case R/Rstudio) is looking for the file(s).\n",
    "\n",
    "Theoretically, we can find any file from any location given the correct filepath. However, to make our code simpler, it can be helpful  to change location, and move to a folder where the files we want to work on are located. The folder we are currently in is called the working directory. \n",
    "\n",
    "Let's create a folder on our computer to store all the files we will work on in this training. On your computer, open up a  file explorer window (outside of Rstudio) and create a folder called **R-workshop** somewhere memorable. For example on the Desktop.\n",
    "\n",
    "In Rstudio, we can change the working directory through the drop down menus by selecting options\n",
    "\n",
    "`Session` -> `Set Working Directory` -> `Choose Directory...` \n",
    " \n",
    "We then search for and select the folder we want.\n",
    "\n",
    "![Screenshot of RStudio with the \"Session\" menu open. The cursor is hovering over \"Set Working Directory,\" revealing options: \"To Source File Location,\" \"To Files Pane Location,\" and \"Choose Directory…\" with shortcut Ctrl+Shift+H highlighted.](images/rstudio_workdirectory.png)\n",
    "\n",
    "You will note that in the R console a line of code has appeared.\n",
    "\n",
    "![Screenshot of RStudio showing the Console where the working directory has been set using the setwd() function. The command entered is setwd(\"C:/Users/ejh243/OneDrive - University of Exeter/Desktop/R-workshop\"). Other panes show an empty environment and viewer.](images/rstudio_setwd.png)\n",
    "\n",
    "This is the R command that is required to change the current working directory using the function `setwd()`.  The text string inside the \"()\" is the filepath to the folder we want to change to. If you save this to your script,  next time you won't need to click through the menus, you can execute this line of code instead.\n",
    "\n",
    "You should also see that in the File Pane (bottom-right), this has also changed to this new directory. We need to  know where we are such that we can navigate R to find files and locations appropriately.  If we ever get lost we can use `getwd()` to get the path of our current location.\n",
    "\n"
   ]
  },
  {
   "cell_type": "code",
   "execution_count": 2,
   "id": "f199a996-6717-4ea5-9265-06ea91407305",
   "metadata": {
    "editable": true,
    "slideshow": {
     "slide_type": ""
    },
    "tags": []
   },
   "outputs": [
    {
     "data": {
      "text/html": [
       "'/Users/lb788/Documents/CfRR_iFrame/CfRR_Courses/individual_modules/introduction_to_r'"
      ],
      "text/latex": [
       "'/Users/lb788/Documents/CfRR\\_iFrame/CfRR\\_Courses/individual\\_modules/introduction\\_to\\_r'"
      ],
      "text/markdown": [
       "'/Users/lb788/Documents/CfRR_iFrame/CfRR_Courses/individual_modules/introduction_to_r'"
      ],
      "text/plain": [
       "[1] \"/Users/lb788/Documents/CfRR_iFrame/CfRR_Courses/individual_modules/introduction_to_r\""
      ]
     },
     "metadata": {},
     "output_type": "display_data"
    }
   ],
   "source": [
    "getwd()"
   ]
  },
  {
   "cell_type": "markdown",
   "id": "2af2ac11-d0b3-4d12-a7ee-2cc0c9a57987",
   "metadata": {
    "editable": true,
    "slideshow": {
     "slide_type": ""
    },
    "tags": []
   },
   "source": [
    "# Absolute vs Relative Filepaths\n",
    "\n",
    "\n",
    "We can specify filepaths in two ways: \n",
    "\n",
    "1. Absolute - this is where we direct R how to get there from the root folder, which is the uppermost folder in the system and is denoted \"/\". \n",
    "Any file path that starts with \"/\" is an absolute filepath.\n",
    "2. Relative - this is where we direct R how to get to the new folder from where we currently are. For example to get to a sub-folder of the current \n",
    "folder we can just provide the name of the current folder. We can use shortcuts to go up a folder (\"..\"). Relative file paths do not start with \"/\"\n",
    "\n",
    "# Defining Variables \n",
    "\n",
    "\n",
    "A key concept in any programming language is that of a variable. A variable is just a name, such as `x`, `current_temperature`, or `subject_id` which  represents some value. We use the word value here loosely as it could be a singular number, a matrix, or a more complex numerical structure. It also does not have to even be a number - it could be a string of text. The idea though is its value might change and we want to simplify how we process the value.\n",
    "\n",
    "In R, we can create a new variable simply by assigning a value to it using `<-`\n"
   ]
  },
  {
   "cell_type": "code",
   "execution_count": 3,
   "id": "6f37db6e-64b4-4346-8b4f-c30a2c625a71",
   "metadata": {
    "editable": true,
    "slideshow": {
     "slide_type": ""
    },
    "tags": []
   },
   "outputs": [
    {
     "data": {
      "text/html": [
       "55"
      ],
      "text/latex": [
       "55"
      ],
      "text/markdown": [
       "55"
      ],
      "text/plain": [
       "[1] 55"
      ]
     },
     "metadata": {},
     "output_type": "display_data"
    }
   ],
   "source": [
    "weight_kg <- 55\n",
    "weight_kg"
   ]
  },
  {
   "cell_type": "markdown",
   "id": "2ba528fe-b11a-4027-a216-bb8aa7478d81",
   "metadata": {},
   "source": [
    "Once a variable has a value, we can print it by typing the name of the variable and hitting `Enter` (or `return`).\n",
    "In general, R will print to the console any object returned by a function or operation *unless* we assign it to a variable.\n",
    "\n",
    "We can do arithmetic with the variable:"
   ]
  },
  {
   "cell_type": "code",
   "execution_count": 4,
   "id": "ec7a1781-c241-42a4-ae22-b83deb55bd5a",
   "metadata": {
    "editable": true,
    "slideshow": {
     "slide_type": ""
    },
    "tags": []
   },
   "outputs": [
    {
     "data": {
      "text/html": [
       "121"
      ],
      "text/latex": [
       "121"
      ],
      "text/markdown": [
       "121"
      ],
      "text/plain": [
       "[1] 121"
      ]
     },
     "metadata": {},
     "output_type": "display_data"
    }
   ],
   "source": [
    "2.2 * weight_kg"
   ]
  },
  {
   "cell_type": "markdown",
   "id": "196236c7-7de2-417c-8998-51934015ade1",
   "metadata": {},
   "source": [
    "We can also change an object's value by assigning it a new value, and see that accessing the variable again shows the new value."
   ]
  },
  {
   "cell_type": "code",
   "execution_count": 5,
   "id": "17b59763-cf5a-4732-b450-146e0e5c4ed5",
   "metadata": {
    "editable": true,
    "slideshow": {
     "slide_type": ""
    },
    "tags": []
   },
   "outputs": [
    {
     "data": {
      "text/html": [
       "57.5"
      ],
      "text/latex": [
       "57.5"
      ],
      "text/markdown": [
       "57.5"
      ],
      "text/plain": [
       "[1] 57.5"
      ]
     },
     "metadata": {},
     "output_type": "display_data"
    }
   ],
   "source": [
    "weight_kg <- 57.5 \n",
    "weight_kg"
   ]
  },
  {
   "cell_type": "markdown",
   "id": "ac809942-042f-4f42-9fe9-3c6955eed8f6",
   "metadata": {},
   "source": [
    "If we imagine the variable as a sticky note with a name written on it,\n",
    "assignment is like putting the sticky note on a particular value:\n",
    "\n",
    "\n",
    "![Diagram of a variable assignment shown as a sticky note. A sticky note labeled “weight_kg” is pointing to a box containing the number 55.0, illustrating how the variable name refers to a value stored in memory.](images/python-sticky-note-variables-01.svg)\n",
    "\n",
    "\n",
    "This means that assigning a value to one object does not change the values of other variables.\n",
    "For example, let's store the subject's weight in pounds in a variable:"
   ]
  },
  {
   "cell_type": "code",
   "execution_count": 6,
   "id": "b63437f1-2761-444e-8a07-de02c40d35db",
   "metadata": {
    "editable": true,
    "slideshow": {
     "slide_type": ""
    },
    "tags": []
   },
   "outputs": [
    {
     "data": {
      "text/html": [
       "57.5"
      ],
      "text/latex": [
       "57.5"
      ],
      "text/markdown": [
       "57.5"
      ],
      "text/plain": [
       "[1] 57.5"
      ]
     },
     "metadata": {},
     "output_type": "display_data"
    }
   ],
   "source": [
    "weight_lb <- 2.2 * weight_kg\n",
    "# weight in kg...\n",
    "weight_kg"
   ]
  },
  {
   "cell_type": "code",
   "execution_count": 7,
   "id": "552eb4d5-bc85-43d3-bcf7-e3270e1091d5",
   "metadata": {
    "editable": true,
    "slideshow": {
     "slide_type": ""
    },
    "tags": []
   },
   "outputs": [
    {
     "data": {
      "text/html": [
       "126.5"
      ],
      "text/latex": [
       "126.5"
      ],
      "text/markdown": [
       "126.5"
      ],
      "text/plain": [
       "[1] 126.5"
      ]
     },
     "metadata": {},
     "output_type": "display_data"
    }
   ],
   "source": [
    "# ... and in pounds\n",
    "weight_lb "
   ]
  },
  {
   "cell_type": "markdown",
   "id": "35e95089-8077-4f6b-ada5-4f9a150c83ad",
   "metadata": {},
   "source": [
    "![Diagram of two variables sharing the same value. Two sticky notes labeled “weight_kg” and “mass” both point to the same box containing the number 55.0, illustrating how multiple variable names can refer to the same object in memory.](images/python-sticky-note-variables-02.svg)\n",
    "\n",
    "and then change `weight_kg`:"
   ]
  },
  {
   "cell_type": "code",
   "execution_count": 8,
   "id": "9db19d11-8cd5-4d6a-a600-36d2b4389e6a",
   "metadata": {
    "editable": true,
    "slideshow": {
     "slide_type": ""
    },
    "tags": []
   },
   "outputs": [
    {
     "data": {
      "text/html": [
       "100"
      ],
      "text/latex": [
       "100"
      ],
      "text/markdown": [
       "100"
      ],
      "text/plain": [
       "[1] 100"
      ]
     },
     "metadata": {},
     "output_type": "display_data"
    }
   ],
   "source": [
    "weight_kg <- 100.0\n",
    "# weight in kg now...\n",
    "weight_kg"
   ]
  },
  {
   "cell_type": "code",
   "execution_count": 9,
   "id": "63133bbc-0f70-4ad2-9dfc-bedb88259f82",
   "metadata": {
    "editable": true,
    "slideshow": {
     "slide_type": ""
    },
    "tags": []
   },
   "outputs": [
    {
     "data": {
      "text/html": [
       "126.5"
      ],
      "text/latex": [
       "126.5"
      ],
      "text/markdown": [
       "126.5"
      ],
      "text/plain": [
       "[1] 126.5"
      ]
     },
     "metadata": {},
     "output_type": "display_data"
    }
   ],
   "source": [
    "# ...and weight in pounds still\n",
    "weight_lb"
   ]
  },
  {
   "cell_type": "markdown",
   "id": "761301d6-5824-441c-90a5-21554faf2616",
   "metadata": {},
   "source": [
    "![Diagram showing variable reassignment. Initially, “weight_kg” and “mass” both point to the value 55.0. Then, “weight_kg” is reassigned to a new value, 57.5. “weight_kg” now points to 57.5, while “mass” still points to 55.0, illustrating that reassignment creates a new object reference.](images/python-sticky-note-variables-03.svg)\n",
    "\n",
    "Since `weight_lb` doesn't \"remember\" where its value came from, it isn't automatically updated when `weight_kg` changes.\n",
    "This is different from the way spreadsheets work."
   ]
  },
  {
   "cell_type": "markdown",
   "id": "b3863306-b301-4e47-a971-f31bca2f4fe2",
   "metadata": {},
   "source": [
    "# Assignment Operator \n",
    "\n",
    "`<-` is the assignment operator. It assigns values on the right to objects on the left. So, after executing `x <- 3`, the value of `x` is `3`. The arrow can be read as 3 **goes into** `x`.  For historical reasons, you can also use `=` for assignments, but not in every context. Because of the [slight](http://blog.revolutionanalytics.com/2008/12/use-equals-or-arrow-for-assignment.html) \n",
    "    [differences](https://web.archive.org/web/20130610005305/https://stat.ethz.ch/pipermail/r-help/2009-March/191462.html) in syntax, it is good practice to always use `<-` for assignments, except when specifying the values of arguments in functions, when only `=` should be used (see below).\n",
    "In RStudio, typing <kbd>Alt</kbd> + <kbd>-</kbd> (push <kbd>Alt</kbd> at thesame time as the <kbd>-</kbd> key) will write ` <- ` in a single keystroke."
   ]
  },
  {
   "cell_type": "markdown",
   "id": "4a9b7116-0e72-4b47-8e1f-acbd44ee70c7",
   "metadata": {},
   "source": [
    "# Activity: Assigning Values to Variables\n",
    "\n",
    "Draw diagrams showing what variables refer to what values after each statement in the following program:\n"
   ]
  },
  {
   "cell_type": "code",
   "execution_count": 10,
   "id": "439484e2-143c-4745-bae9-13a590085846",
   "metadata": {
    "editable": true,
    "slideshow": {
     "slide_type": ""
    },
    "tags": []
   },
   "outputs": [],
   "source": [
    "mass <- 47.5\n",
    "age <- 122\n",
    "mass <- mass * 2.0\n",
    "age <- age - 20"
   ]
  },
  {
   "cell_type": "markdown",
   "id": "2e5454bb-89f8-4014-a604-8e26d641aa7a",
   "metadata": {},
   "source": [
    "# Printing With Parentheses \n",
    "An alternative way to print the value of a variable is to use () around the assignment statement.\n",
    "As an example: `(total_weight <- weight_kg + weight_lb)` adds the values of `weight_kg` and `weight_lb`, assigns the result to the `total_weight`, and finally prints the assigned value of the variable `total_weight`."
   ]
  },
  {
   "cell_type": "markdown",
   "id": "8650e574-f9bd-45a0-942d-10a68d22dcfe",
   "metadata": {},
   "source": [
    "# Naming Objects in R \n",
    "\n",
    "You can use any combination of alphanumeric characters, along with dots and underscores, to name an R object. But there are a few ___exceptions___:\n",
    "\n",
    "* Names cannot start with a number;\n",
    "* Names cannot have spaces;\n",
    "* Names cannot be a standalone number such as ```12``` or ```0.34```;\n",
    "* Names cannot be a reserved word such as ```if```, ```else```, ```function```, ```TRUE```, ```FALSE``` and ```NULL``` just to name a few (to see the full list of reserved words, type ```?Reserved```).\n",
    "\n",
    "Examples of __*valid names*__ include ```a```, ```dat2```, ```cpi_index```, ```.tmp```, and even a standalone dot ```.``` (though a dot can make reading code difficult under certain circumstances).\n",
    "\n",
    "Examples of __*invalid names*__ include ```1dat```,``` dat 2``` (note the space between ```dat``` and ```2```), ```df-ver2``` (the dash is treated as a mathematical operator), and ```Inf``` (the latter is a reserved word listed in the ```?Reserved``` help document).\n",
    "\n",
    "You can mix cases, but use upper cases with caution since some letters look very much the same in both lower and upper cases (e.g. s and S).\n",
    "\n",
    "# Functions\n",
    "\n",
    "Functions are a core concept in programming, they are commands which tells R to perform a particular task. The utility of a function is that it will perform its given action again and again. R identifies functions by the presence of \"()\" following their name. You can customise how the function behaves by the use of arguments - this is additional information provided to the function to allow it to run. \n",
    "\n",
    "We have already used two functions in this workshop. First we used `setwd()`. We used this function with an argument, which was the path to the folder we  wanted to change to. We can reuse this function to change to an unlimited number of different folders on our computer. Then we used `getwd()`, this is an example  of a function that doesn't require any arguments. "
   ]
  },
  {
   "cell_type": "markdown",
   "id": "799b67c1-5ec3-48bb-87b7-55f4a07b1dbc",
   "metadata": {
    "editable": true,
    "slideshow": {
     "slide_type": ""
    },
    "tags": []
   },
   "source": [
    "## Summary Quiz"
   ]
  },
  {
   "cell_type": "code",
   "execution_count": 11,
   "id": "6b579455-1355-41d7-9c7f-6a4f8cfe141a",
   "metadata": {
    "editable": true,
    "slideshow": {
     "slide_type": ""
    },
    "tags": [
     "remove-input"
    ]
   },
   "outputs": [
    {
     "data": {
      "text/html": [
       "\n",
       "  <style>\n",
       "  .quiz-question {\n",
       "      background-color: #392061;\n",
       "      color: white;\n",
       "      padding: 12px;\n",
       "      border-radius: 10px;\n",
       "      font-weight: bold;\n",
       "      font-size: 1.2em;\n",
       "      margin-bottom: 10px;\n",
       "  }\n",
       "\n",
       "  .quiz-form {\n",
       "      margin-bottom: 20px;\n",
       "  }\n",
       "\n",
       "  .quiz-answer {\n",
       "      display: block;\n",
       "      background-color: #f2f2f2;\n",
       "      border: none;\n",
       "      border-radius: 10px;\n",
       "      padding: 10px;\n",
       "      margin: 5px 0;\n",
       "      font-size: 1em;\n",
       "      cursor: pointer;\n",
       "      text-align: left;\n",
       "      transition: background-color 0.3s;\n",
       "      width: 100%;\n",
       "  }\n",
       "\n",
       "  .quiz-answer:hover {\n",
       "      background-color: #e0e0e0;\n",
       "  }\n",
       "\n",
       "  .correct {\n",
       "      background-color: #4CAF50 !important;\n",
       "      color: white !important;\n",
       "      border: none;\n",
       "  }\n",
       "\n",
       "  .incorrect {\n",
       "      background-color: #D32F2F !important;\n",
       "      color: white !important;\n",
       "      border: none;\n",
       "  }\n",
       "\n",
       "  .feedback {\n",
       "      margin-top: 10px;\n",
       "      font-weight: bold;\n",
       "      font-size: 1em;\n",
       "  }\n",
       "  </style>\n",
       "\n",
       "  <script>\n",
       "  function handleAnswer(qid, aid, feedback, isCorrect) {\n",
       "      let buttons = document.querySelectorAll(\".\" + qid);\n",
       "      buttons.forEach(btn => {\n",
       "          btn.classList.remove(\"correct\", \"incorrect\");\n",
       "      });\n",
       "\n",
       "      let selected = document.getElementById(aid);\n",
       "      if (selected) {\n",
       "        selected.classList.add(isCorrect ? \"correct\" : \"incorrect\");\n",
       "      }\n",
       "\n",
       "      let feedbackBox = document.getElementById(\"feedback_\" + qid);\n",
       "      if (feedbackBox) {\n",
       "        feedbackBox.innerHTML = feedback;\n",
       "        feedbackBox.style.color = isCorrect ? \"green\" : \"red\";\n",
       "      }\n",
       "  }\n",
       "  </script>\n",
       "  <div class=\"quiz-question\">What does a relative file path NOT start with?</div><form class=\"quiz-form\"><button type=\"button\" class=\"quiz-answer quiz_2253c556-6d28-11f0-b10a-2675d86bf70a_q1\" id=\"quiz_2253c556-6d28-11f0-b10a-2675d86bf70a_q1_a1\"\n",
       "         onclick=\"handleAnswer('quiz_2253c556-6d28-11f0-b10a-2675d86bf70a_q1', 'quiz_2253c556-6d28-11f0-b10a-2675d86bf70a_q1_a1', 'Incorrect', false)\">\n",
       "         A drive letter (e.g., C:)</button><button type=\"button\" class=\"quiz-answer quiz_2253c556-6d28-11f0-b10a-2675d86bf70a_q1\" id=\"quiz_2253c556-6d28-11f0-b10a-2675d86bf70a_q1_a2\"\n",
       "         onclick=\"handleAnswer('quiz_2253c556-6d28-11f0-b10a-2675d86bf70a_q1', 'quiz_2253c556-6d28-11f0-b10a-2675d86bf70a_q1_a2', 'Correct', true)\">\n",
       "         A forward slash (/)</button><button type=\"button\" class=\"quiz-answer quiz_2253c556-6d28-11f0-b10a-2675d86bf70a_q1\" id=\"quiz_2253c556-6d28-11f0-b10a-2675d86bf70a_q1_a3\"\n",
       "         onclick=\"handleAnswer('quiz_2253c556-6d28-11f0-b10a-2675d86bf70a_q1', 'quiz_2253c556-6d28-11f0-b10a-2675d86bf70a_q1_a3', 'Incorrect', false)\">\n",
       "         A dot (.)</button><button type=\"button\" class=\"quiz-answer quiz_2253c556-6d28-11f0-b10a-2675d86bf70a_q1\" id=\"quiz_2253c556-6d28-11f0-b10a-2675d86bf70a_q1_a4\"\n",
       "         onclick=\"handleAnswer('quiz_2253c556-6d28-11f0-b10a-2675d86bf70a_q1', 'quiz_2253c556-6d28-11f0-b10a-2675d86bf70a_q1_a4', 'Incorrect', false)\">\n",
       "         A folder name</button><div class=\"feedback\" id=\"feedback_quiz_2253c556-6d28-11f0-b10a-2675d86bf70a_q1\"></div>\n",
       "       <button type=\"submit\" style=\"position:absolute; left:-9999px; width:1px; height:1px; overflow:hidden;\">\n",
       "         Submit\n",
       "       </button>\n",
       "       </form><hr><div class=\"quiz-question\">Which operator is used to assign a value to a variable in R?</div><form class=\"quiz-form\"><button type=\"button\" class=\"quiz-answer quiz_2253c556-6d28-11f0-b10a-2675d86bf70a_q2\" id=\"quiz_2253c556-6d28-11f0-b10a-2675d86bf70a_q2_a1\"\n",
       "         onclick=\"handleAnswer('quiz_2253c556-6d28-11f0-b10a-2675d86bf70a_q2', 'quiz_2253c556-6d28-11f0-b10a-2675d86bf70a_q2_a1', 'Incorrect', false)\">\n",
       "         ==</button><button type=\"button\" class=\"quiz-answer quiz_2253c556-6d28-11f0-b10a-2675d86bf70a_q2\" id=\"quiz_2253c556-6d28-11f0-b10a-2675d86bf70a_q2_a2\"\n",
       "         onclick=\"handleAnswer('quiz_2253c556-6d28-11f0-b10a-2675d86bf70a_q2', 'quiz_2253c556-6d28-11f0-b10a-2675d86bf70a_q2_a2', 'Incorrect', false)\">\n",
       "         -></button><button type=\"button\" class=\"quiz-answer quiz_2253c556-6d28-11f0-b10a-2675d86bf70a_q2\" id=\"quiz_2253c556-6d28-11f0-b10a-2675d86bf70a_q2_a3\"\n",
       "         onclick=\"handleAnswer('quiz_2253c556-6d28-11f0-b10a-2675d86bf70a_q2', 'quiz_2253c556-6d28-11f0-b10a-2675d86bf70a_q2_a3', 'Incorrect', false)\">\n",
       "         =</button><button type=\"button\" class=\"quiz-answer quiz_2253c556-6d28-11f0-b10a-2675d86bf70a_q2\" id=\"quiz_2253c556-6d28-11f0-b10a-2675d86bf70a_q2_a4\"\n",
       "         onclick=\"handleAnswer('quiz_2253c556-6d28-11f0-b10a-2675d86bf70a_q2', 'quiz_2253c556-6d28-11f0-b10a-2675d86bf70a_q2_a4', 'Correct', true)\">\n",
       "         <-</button><div class=\"feedback\" id=\"feedback_quiz_2253c556-6d28-11f0-b10a-2675d86bf70a_q2\"></div>\n",
       "       <button type=\"submit\" style=\"position:absolute; left:-9999px; width:1px; height:1px; overflow:hidden;\">\n",
       "         Submit\n",
       "       </button>\n",
       "       </form><hr><div class=\"quiz-question\">What is the primary use of the console pane in RStudio?</div><form class=\"quiz-form\"><button type=\"button\" class=\"quiz-answer quiz_2253c556-6d28-11f0-b10a-2675d86bf70a_q3\" id=\"quiz_2253c556-6d28-11f0-b10a-2675d86bf70a_q3_a1\"\n",
       "         onclick=\"handleAnswer('quiz_2253c556-6d28-11f0-b10a-2675d86bf70a_q3', 'quiz_2253c556-6d28-11f0-b10a-2675d86bf70a_q3_a1', 'Incorrect', false)\">\n",
       "         To edit scripts and save them for later use</button><button type=\"button\" class=\"quiz-answer quiz_2253c556-6d28-11f0-b10a-2675d86bf70a_q3\" id=\"quiz_2253c556-6d28-11f0-b10a-2675d86bf70a_q3_a2\"\n",
       "         onclick=\"handleAnswer('quiz_2253c556-6d28-11f0-b10a-2675d86bf70a_q3', 'quiz_2253c556-6d28-11f0-b10a-2675d86bf70a_q3_a2', 'Incorrect', false)\">\n",
       "         To browse files and manage projects</button><button type=\"button\" class=\"quiz-answer quiz_2253c556-6d28-11f0-b10a-2675d86bf70a_q3\" id=\"quiz_2253c556-6d28-11f0-b10a-2675d86bf70a_q3_a3\"\n",
       "         onclick=\"handleAnswer('quiz_2253c556-6d28-11f0-b10a-2675d86bf70a_q3', 'quiz_2253c556-6d28-11f0-b10a-2675d86bf70a_q3_a3', 'Correct', true)\">\n",
       "         To execute R commands and display results</button><button type=\"button\" class=\"quiz-answer quiz_2253c556-6d28-11f0-b10a-2675d86bf70a_q3\" id=\"quiz_2253c556-6d28-11f0-b10a-2675d86bf70a_q3_a4\"\n",
       "         onclick=\"handleAnswer('quiz_2253c556-6d28-11f0-b10a-2675d86bf70a_q3', 'quiz_2253c556-6d28-11f0-b10a-2675d86bf70a_q3_a4', 'Incorrect', false)\">\n",
       "         To visualize data using plots</button><div class=\"feedback\" id=\"feedback_quiz_2253c556-6d28-11f0-b10a-2675d86bf70a_q3\"></div>\n",
       "       <button type=\"submit\" style=\"position:absolute; left:-9999px; width:1px; height:1px; overflow:hidden;\">\n",
       "         Submit\n",
       "       </button>\n",
       "       </form><hr>"
      ]
     },
     "metadata": {},
     "output_type": "display_data"
    }
   ],
   "source": [
    "# Call the function to display quiz interactively:\n",
    "source(\"../../R_functions/quiz_renderer.R\")\n",
    "show_quiz_from_json(\"questions/summary_basic_commands.json\")"
   ]
  },
  {
   "cell_type": "code",
   "execution_count": null,
   "id": "8dcb3704-5b05-4459-9847-4d6ab223ab25",
   "metadata": {
    "editable": true,
    "slideshow": {
     "slide_type": ""
    },
    "tags": []
   },
   "outputs": [],
   "source": []
  }
 ],
 "metadata": {
  "kernelspec": {
   "display_name": "R",
   "language": "R",
   "name": "ir"
  },
  "language_info": {
   "codemirror_mode": "r",
   "file_extension": ".r",
   "mimetype": "text/x-r-source",
   "name": "R",
   "pygments_lexer": "r",
   "version": "4.3.3"
  }
 },
 "nbformat": 4,
 "nbformat_minor": 5
}
