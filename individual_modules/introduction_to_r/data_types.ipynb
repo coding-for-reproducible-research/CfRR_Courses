{
 "cells": [
  {
   "cell_type": "markdown",
   "id": "94b05ec7-e9de-4179-b1e4-0d0287bbdba5",
   "metadata": {
    "editable": true,
    "slideshow": {
     "slide_type": ""
    },
    "tags": []
   },
   "source": [
    "# Data Types and Structures\n",
    "\n",
    "## Download Rmd Version\n",
    "\n",
    "If you wish to engage with this course content via Rmd, then please click the link below to download the Rmd file.\n",
    "\n",
    "[Download data_types.Rmd](rmarkdown/data_types.Rmd)\n",
    "\n",
    "## Learning Objectives\n",
    "- Understand and identify the five core data types used in R (Numeric, Integer, Complex, Character, Logical)\n",
    "- Learn how to use functions like `typeof()`, `class()`, `mode()`, `length()`, and `attributes()` to examine the features of variables or objects in R\n",
    "- Learn methods to address columns in data frames using the `$` operator or square brackets\n",
    "- Practice defining variables and using R functions to profile their characteristics\n",
    "- Understand and perform conversions between different data types in R\n",
    "\n",
    "## Inbuilt Datasets\n",
    "R has a number of datasets included for you to practice with. We can get a list of these by running the command ```data()```\n"
   ]
  },
  {
   "cell_type": "code",
   "execution_count": 2,
   "id": "50334ab3-9b73-4fec-8464-eda8d0ac684c",
   "metadata": {
    "editable": true,
    "scrolled": true,
    "slideshow": {
     "slide_type": ""
    },
    "tags": []
   },
   "outputs": [
    {
     "name": "stdout",
     "output_type": "stream",
     "text": [
      "File: /var/folders/r7/wblx0jw96hz08nvjz9p3zsgr0000gp/T//RtmpcTNU8Z/RpackageIQR5eca5ebeecfa\n",
      "Data sets in package ‘.’:\n",
      "\n",
      "\n",
      "\n",
      "bp_dataset_session4     \n",
      "\n",
      "code_session2           \n",
      "\n",
      "plotting_arguments      \n",
      "\n",
      "r_training_session_2_script\n",
      "\n",
      "                        \n",
      "\n",
      "r_training_session_3_script\n",
      "\n",
      "                        \n",
      "\n",
      "r_training_session_4    \n",
      "\n",
      "worms                   \n",
      "\n",
      "\n",
      "\n",
      "Data sets in package ‘datasets’:\n",
      "\n",
      "\n",
      "\n",
      "AirPassengers           Monthly Airline Passenger Numbers 1949-1960\n",
      "\n",
      "BJsales                 Sales Data with Leading Indicator\n",
      "\n",
      "BJsales.lead (BJsales)\n",
      "\n",
      "                        Sales Data with Leading Indicator\n",
      "\n",
      "BOD                     Biochemical Oxygen Demand\n",
      "\n",
      "CO2                     Carbon Dioxide Uptake in Grass Plants\n",
      "\n",
      "ChickWeight             Weight versus age of chicks on different diets\n",
      "\n",
      "DNase                   Elisa assay of DNase\n",
      "\n",
      "EuStockMarkets          Daily Closing Prices of Major European Stock\n",
      "\n",
      "                        Indices, 1991-1998\n",
      "\n",
      "Formaldehyde            Determination of Formaldehyde\n",
      "\n",
      "HairEyeColor            Hair and Eye Color of Statistics Students\n",
      "\n",
      "Harman23.cor            Harman Example 2.3\n",
      "\n",
      "Harman74.cor            Harman Example 7.4\n",
      "\n",
      "Indometh                Pharmacokinetics of Indomethacin\n",
      "\n",
      "InsectSprays            Effectiveness of Insect Sprays\n",
      "\n",
      "JohnsonJohnson          Quarterly Earnings per Johnson & Johnson Share\n",
      "\n",
      "LakeHuron               Level of Lake Huron 1875-1972\n",
      "\n",
      "LifeCycleSavings        Intercountry Life-Cycle Savings Data\n",
      "\n",
      "Loblolly                Growth of Loblolly pine trees\n",
      "\n",
      "Nile                    Flow of the River Nile\n",
      "\n",
      "Orange                  Growth of Orange Trees\n",
      "\n",
      "OrchardSprays           Potency of Orchard Sprays\n",
      "\n",
      "PlantGrowth             Results from an Experiment on Plant Growth\n",
      "\n",
      "Puromycin               Reaction Velocity of an Enzymatic Reaction\n",
      "\n",
      "Seatbelts               Road Casualties in Great Britain 1969-84\n",
      "\n",
      "Theoph                  Pharmacokinetics of Theophylline\n",
      "\n",
      "Titanic                 Survival of passengers on the Titanic\n",
      "\n",
      "ToothGrowth             The Effect of Vitamin C on Tooth Growth in\n",
      "\n",
      "                        Guinea Pigs\n",
      "\n",
      "UCBAdmissions           Student Admissions at UC Berkeley\n",
      "\n",
      "UKDriverDeaths          Road Casualties in Great Britain 1969-84\n",
      "\n",
      "UKgas                   UK Quarterly Gas Consumption\n",
      "\n",
      "USAccDeaths             Accidental Deaths in the US 1973-1978\n",
      "\n",
      "USArrests               Violent Crime Rates by US State\n",
      "\n",
      "USJudgeRatings          Lawyers' Ratings of State Judges in the US\n",
      "\n",
      "                        Superior Court\n",
      "\n",
      "USPersonalExpenditure   Personal Expenditure Data\n",
      "\n",
      "UScitiesD               Distances Between European Cities and Between\n",
      "\n",
      "                        US Cities\n",
      "\n",
      "VADeaths                Death Rates in Virginia (1940)\n",
      "\n",
      "WWWusage                Internet Usage per Minute\n",
      "\n",
      "WorldPhones             The World's Telephones\n",
      "\n",
      "ability.cov             Ability and Intelligence Tests\n",
      "\n",
      "airmiles                Passenger Miles on Commercial US Airlines,\n",
      "\n",
      "                        1937-1960\n",
      "\n",
      "airquality              New York Air Quality Measurements\n",
      "\n",
      "anscombe                Anscombe's Quartet of 'Identical' Simple Linear\n",
      "\n",
      "                        Regressions\n",
      "\n",
      "attenu                  The Joyner-Boore Attenuation Data\n",
      "\n",
      "attitude                The Chatterjee-Price Attitude Data\n",
      "\n",
      "austres                 Quarterly Time Series of the Number of\n",
      "\n",
      "                        Australian Residents\n",
      "\n",
      "beaver1 (beavers)       Body Temperature Series of Two Beavers\n",
      "\n",
      "beaver2 (beavers)       Body Temperature Series of Two Beavers\n",
      "\n",
      "cars                    Speed and Stopping Distances of Cars\n",
      "\n",
      "chickwts                Chicken Weights by Feed Type\n",
      "\n",
      "co2                     Mauna Loa Atmospheric CO2 Concentration\n",
      "\n",
      "crimtab                 Student's 3000 Criminals Data\n",
      "\n",
      "discoveries             Yearly Numbers of Important Discoveries\n",
      "\n",
      "esoph                   Smoking, Alcohol and (O)esophageal Cancer\n",
      "\n",
      "euro                    Conversion Rates of Euro Currencies\n",
      "\n",
      "euro.cross (euro)       Conversion Rates of Euro Currencies\n",
      "\n",
      "eurodist                Distances Between European Cities and Between\n",
      "\n",
      "                        US Cities\n",
      "\n",
      "faithful                Old Faithful Geyser Data\n",
      "\n",
      "fdeaths (UKLungDeaths)\n",
      "\n",
      "                        Monthly Deaths from Lung Diseases in the UK\n",
      "\n",
      "freeny                  Freeny's Revenue Data\n",
      "\n",
      "freeny.x (freeny)       Freeny's Revenue Data\n",
      "\n",
      "freeny.y (freeny)       Freeny's Revenue Data\n",
      "\n",
      "infert                  Infertility after Spontaneous and Induced\n",
      "\n",
      "                        Abortion\n",
      "\n",
      "iris                    Edgar Anderson's Iris Data\n",
      "\n",
      "iris3                   Edgar Anderson's Iris Data\n",
      "\n",
      "islands                 Areas of the World's Major Landmasses\n",
      "\n",
      "ldeaths (UKLungDeaths)\n",
      "\n",
      "                        Monthly Deaths from Lung Diseases in the UK\n",
      "\n",
      "lh                      Luteinizing Hormone in Blood Samples\n",
      "\n",
      "longley                 Longley's Economic Regression Data\n",
      "\n",
      "lynx                    Annual Canadian Lynx trappings 1821-1934\n",
      "\n",
      "mdeaths (UKLungDeaths)\n",
      "\n",
      "                        Monthly Deaths from Lung Diseases in the UK\n",
      "\n",
      "morley                  Michelson Speed of Light Data\n",
      "\n",
      "mtcars                  Motor Trend Car Road Tests\n",
      "\n",
      "nhtemp                  Average Yearly Temperatures in New Haven\n",
      "\n",
      "nottem                  Average Monthly Temperatures at Nottingham,\n",
      "\n",
      "                        1920-1939\n",
      "\n",
      "npk                     Classical N, P, K Factorial Experiment\n",
      "\n",
      "occupationalStatus      Occupational Status of Fathers and their Sons\n",
      "\n",
      "precip                  Annual Precipitation in US Cities\n",
      "\n",
      "presidents              Quarterly Approval Ratings of US Presidents\n",
      "\n",
      "pressure                Vapor Pressure of Mercury as a Function of\n",
      "\n",
      "                        Temperature\n",
      "\n",
      "quakes                  Locations of Earthquakes off Fiji\n",
      "\n",
      "randu                   Random Numbers from Congruential Generator\n",
      "\n",
      "                        RANDU\n",
      "\n",
      "rivers                  Lengths of Major North American Rivers\n",
      "\n",
      "rock                    Measurements on Petroleum Rock Samples\n",
      "\n",
      "sleep                   Student's Sleep Data\n",
      "\n",
      "stack.loss (stackloss)\n",
      "\n",
      "                        Brownlee's Stack Loss Plant Data\n",
      "\n",
      "stack.x (stackloss)     Brownlee's Stack Loss Plant Data\n",
      "\n",
      "stackloss               Brownlee's Stack Loss Plant Data\n",
      "\n",
      "state.abb (state)       US State Facts and Figures\n",
      "\n",
      "state.area (state)      US State Facts and Figures\n",
      "\n",
      "state.center (state)    US State Facts and Figures\n",
      "\n",
      "state.division (state)\n",
      "\n",
      "                        US State Facts and Figures\n",
      "\n",
      "state.name (state)      US State Facts and Figures\n",
      "\n",
      "state.region (state)    US State Facts and Figures\n",
      "\n",
      "state.x77 (state)       US State Facts and Figures\n",
      "\n",
      "sunspot.month           Monthly Sunspot Data, from 1749 to \"Present\"\n",
      "\n",
      "sunspot.year            Yearly Sunspot Data, 1700-1988\n",
      "\n",
      "sunspots                Monthly Sunspot Numbers, 1749-1983\n",
      "\n",
      "swiss                   Swiss Fertility and Socioeconomic Indicators\n",
      "\n",
      "                        (1888) Data\n",
      "\n",
      "treering                Yearly Treering Data, -6000-1979\n",
      "\n",
      "trees                   Diameter, Height and Volume for Black Cherry\n",
      "\n",
      "                        Trees\n",
      "\n",
      "uspop                   Populations Recorded by the US Census\n",
      "\n",
      "volcano                 Topographic Information on Auckland's Maunga\n",
      "\n",
      "                        Whau Volcano\n",
      "\n",
      "warpbreaks              The Number of Breaks in Yarn during Weaving\n",
      "\n",
      "women                   Average Heights and Weights for American Women\n",
      "\n",
      "\n",
      "\n",
      "\n",
      "\n",
      "Use ‘data(package = .packages(all.available = TRUE))’\n",
      "\n",
      "to list the data sets in all *available* packages.\n",
      "\n",
      "---\n"
     ]
    }
   ],
   "source": [
    "data()"
   ]
  },
  {
   "cell_type": "markdown",
   "id": "4ebfe78a-23e8-4e8d-8185-769a21bf6a18",
   "metadata": {
    "editable": true,
    "slideshow": {
     "slide_type": ""
    },
    "tags": []
   },
   "source": [
    "This command won't produce any output but open a file in the scripts pane that lists the available datasets. \n",
    "In this session, we will be using the built-in R data sets stored in the variables ```iris``` & ```mtcars```. \n",
    "By having our data stored in a variable means we can easily use it with R functions and start to\n",
    "manipulate or process it. Note that we are using the word data very loosely, it can refer to any form of \n",
    "information we want to store.\n",
    "\n",
    "## Exploring datasets\n",
    "\n",
    "Let's take a closer look at the `iris` data.\n",
    "\n",
    "First, let's ask what type of thing `iris` is using the function ```class()``` for.\n"
   ]
  },
  {
   "cell_type": "code",
   "execution_count": 3,
   "id": "857c1c25-aad3-41fd-a979-d2e245546cb1",
   "metadata": {
    "editable": true,
    "slideshow": {
     "slide_type": ""
    },
    "tags": []
   },
   "outputs": [
    {
     "name": "stdout",
     "output_type": "stream",
     "text": [
      "[1] \"data.frame\"\n"
     ]
    }
   ],
   "source": [
    "class(iris)"
   ]
  },
  {
   "cell_type": "markdown",
   "id": "f03c7f60-588a-4841-9092-b5fadc31c20a",
   "metadata": {
    "editable": true,
    "slideshow": {
     "slide_type": ""
    },
    "tags": []
   },
   "source": [
    "The output tells us that it is a data frame. A data frame is an example of an R object, and can be defined by certain properties. A data frame is comparable to a spreadsheet in MS Excel as it is a 2 dimensional object (i.e. has rows and columns). Data frames are very useful for storing data, especially if you are used to work with your data in tables. A typical data frame of experimental data contains individual observations in rows and variables in columns.\n",
    "We can see the shape, or dimensions, of the data frame with the function ```dim()```:"
   ]
  },
  {
   "cell_type": "code",
   "execution_count": 4,
   "id": "1d04d251-bc09-461e-982c-3d02f1bdf9df",
   "metadata": {
    "editable": true,
    "slideshow": {
     "slide_type": ""
    },
    "tags": []
   },
   "outputs": [
    {
     "name": "stdout",
     "output_type": "stream",
     "text": [
      "[1] 150   5\n"
     ]
    }
   ],
   "source": [
    "dim(iris)"
   ]
  },
  {
   "cell_type": "markdown",
   "id": "2af7c177-af90-4c3a-8bf1-c9381a1b4efa",
   "metadata": {
    "editable": true,
    "slideshow": {
     "slide_type": ""
    },
    "tags": []
   },
   "source": [
    "This tells us that our data frame, `iris`, has 150 rows and 5 columns.\n",
    "\n",
    "\n",
    "To explore data frames, there are a number of relevant functions:\n",
    "\n",
    "* ```head()``` - shows first 6 rows\n",
    "* ```tail()``` - shows last 6 rows\n",
    "* ```dim()``` - returns the dimensions of data frame (i.e. number of rows and number of columns)\n",
    "* ```nrow()``` - number of rows\n",
    "* ```ncol()```- number of columns\n",
    "* ```str()``` - structure of data frame - name, type and preview of data in each column\n",
    "* ```names()``` or ```colnames()``` - both show the names attribute for a data frame\n",
    "\n",
    "# Subsetting Data\n",
    "\n",
    "There are many occasions we want to \"look\" at some part of the data. Extracting a subset is known as slicing.\n",
    "If we want to get a single value from the data frame, we can index a specific position using square brackets.\n",
    "If you are familiar with matrices we index in the same way. For example, to get the element in the top left corner, i.e. in the first row and first column we run:"
   ]
  },
  {
   "cell_type": "code",
   "execution_count": 5,
   "id": "5e0226b6-0c85-4264-9be8-6889b44ef0b6",
   "metadata": {
    "editable": true,
    "slideshow": {
     "slide_type": ""
    },
    "tags": []
   },
   "outputs": [
    {
     "name": "stdout",
     "output_type": "stream",
     "text": [
      "[1] 5.1\n"
     ]
    }
   ],
   "source": [
    "iris[1, 1]"
   ]
  },
  {
   "cell_type": "markdown",
   "id": "0c910b72-4520-4349-af48-be417b510323",
   "metadata": {
    "editable": true,
    "slideshow": {
     "slide_type": ""
    },
    "tags": []
   },
   "source": [
    "We can use this principle to extract any entry of the matrix. For example the 30th row and 3rd column"
   ]
  },
  {
   "cell_type": "code",
   "execution_count": 6,
   "id": "df6f0878-2e82-4d5f-baee-610986f458be",
   "metadata": {
    "editable": true,
    "slideshow": {
     "slide_type": ""
    },
    "tags": []
   },
   "outputs": [
    {
     "name": "stdout",
     "output_type": "stream",
     "text": [
      "[1] 1.6\n"
     ]
    }
   ],
   "source": [
    "iris[30,3]"
   ]
  },
  {
   "cell_type": "markdown",
   "id": "2485a05f-a7eb-490d-a395-a7170bf713e3",
   "metadata": {
    "editable": true,
    "slideshow": {
     "slide_type": ""
    },
    "tags": []
   },
   "source": [
    "An index like ``[30, 3]``` selects a single element of a data frame, but we can select larger sections as well. For example, we can select the first three columns of values for the first four rows like this:"
   ]
  },
  {
   "cell_type": "code",
   "execution_count": 7,
   "id": "d919e5bd-e3cd-4bbe-a8c5-21f484414af4",
   "metadata": {
    "editable": true,
    "slideshow": {
     "slide_type": ""
    },
    "tags": []
   },
   "outputs": [
    {
     "name": "stdout",
     "output_type": "stream",
     "text": [
      "  Sepal.Length Sepal.Width Petal.Length\n",
      "1          5.1         3.5          1.4\n",
      "2          4.9         3.0          1.4\n",
      "3          4.7         3.2          1.3\n",
      "4          4.6         3.1          1.5\n"
     ]
    }
   ],
   "source": [
    "iris[1:4, 1:3]"
   ]
  },
  {
   "cell_type": "markdown",
   "id": "ec3b9796-f760-4926-95e1-4d775d9f045c",
   "metadata": {
    "editable": true,
    "slideshow": {
     "slide_type": ""
    },
    "tags": []
   },
   "source": [
    "The slice ```1:4``` means, \"Start at index 1 and go to index 4.\" The slice does not need to start at 1, e.g. the line below selects rows 5 through 10:"
   ]
  },
  {
   "cell_type": "code",
   "execution_count": 8,
   "id": "0665c8fc-30b5-424e-a3c2-e4834e5c3c85",
   "metadata": {
    "editable": true,
    "slideshow": {
     "slide_type": ""
    },
    "tags": []
   },
   "outputs": [
    {
     "name": "stdout",
     "output_type": "stream",
     "text": [
      "   Sepal.Length Sepal.Width Petal.Length\n",
      "5           5.0         3.6          1.4\n",
      "6           5.4         3.9          1.7\n",
      "7           4.6         3.4          1.4\n",
      "8           5.0         3.4          1.5\n",
      "9           4.4         2.9          1.4\n",
      "10          4.9         3.1          1.5\n"
     ]
    }
   ],
   "source": [
    "iris[5:10, 1:3]"
   ]
  },
  {
   "cell_type": "markdown",
   "id": "cd0fb2cf-2854-452d-b86b-143ea4a3729f",
   "metadata": {
    "editable": true,
    "slideshow": {
     "slide_type": ""
    },
    "tags": []
   },
   "source": [
    "We can use the function ```c()```, which stands for **c**ombine, to select non-contiguous entries:"
   ]
  },
  {
   "cell_type": "code",
   "execution_count": 9,
   "id": "fe89de0e-3689-44aa-aa90-a946cf589154",
   "metadata": {
    "editable": true,
    "slideshow": {
     "slide_type": ""
    },
    "tags": []
   },
   "outputs": [
    {
     "name": "stdout",
     "output_type": "stream",
     "text": [
      "   Sepal.Length Petal.Length\n",
      "3           4.7          1.3\n",
      "8           5.0          1.5\n",
      "37          5.5          1.3\n",
      "56          5.7          4.5\n"
     ]
    }
   ],
   "source": [
    "iris[c(3, 8, 37, 56), c(1,3)]"
   ]
  },
  {
   "cell_type": "markdown",
   "id": "5113f0b1-9d3e-4d36-b04d-ef47ab8a5335",
   "metadata": {
    "editable": true,
    "slideshow": {
     "slide_type": ""
    },
    "tags": []
   },
   "source": [
    "We also don't have to provide a slice for either the rows or the columns. If we don't include a slice for the rows, R returns all the rows; if we don't include a slice for the columns, R returns all the columns. If we don't provide a slice for either rows or columns, e.g. `iris[, ]`, R returns the full data frame.\n"
   ]
  },
  {
   "cell_type": "code",
   "execution_count": 10,
   "id": "a191ff35-b9e9-49a3-87b5-f5253b5db509",
   "metadata": {
    "editable": true,
    "slideshow": {
     "slide_type": ""
    },
    "tags": []
   },
   "outputs": [
    {
     "name": "stdout",
     "output_type": "stream",
     "text": [
      "  Sepal.Length Sepal.Width Petal.Length Petal.Width Species\n",
      "5            5         3.6          1.4         0.2  setosa\n"
     ]
    }
   ],
   "source": [
    "iris[5, ]"
   ]
  },
  {
   "cell_type": "code",
   "execution_count": 11,
   "id": "87b1148b-6ce4-4100-b4c3-2b19cdaacd05",
   "metadata": {
    "editable": true,
    "slideshow": {
     "slide_type": ""
    },
    "tags": []
   },
   "outputs": [
    {
     "name": "stdout",
     "output_type": "stream",
     "text": [
      "  [1] 3.5 3.0 3.2 3.1 3.6 3.9 3.4 3.4 2.9 3.1 3.7 3.4 3.0 3.0 4.0 4.4 3.9 3.5\n",
      " [19] 3.8 3.8 3.4 3.7 3.6 3.3 3.4 3.0 3.4 3.5 3.4 3.2 3.1 3.4 4.1 4.2 3.1 3.2\n",
      " [37] 3.5 3.6 3.0 3.4 3.5 2.3 3.2 3.5 3.8 3.0 3.8 3.2 3.7 3.3 3.2 3.2 3.1 2.3\n",
      " [55] 2.8 2.8 3.3 2.4 2.9 2.7 2.0 3.0 2.2 2.9 2.9 3.1 3.0 2.7 2.2 2.5 3.2 2.8\n",
      " [73] 2.5 2.8 2.9 3.0 2.8 3.0 2.9 2.6 2.4 2.4 2.7 2.7 3.0 3.4 3.1 2.3 3.0 2.5\n",
      " [91] 2.6 3.0 2.6 2.3 2.7 3.0 2.9 2.9 2.5 2.8 3.3 2.7 3.0 2.9 3.0 3.0 2.5 2.9\n",
      "[109] 2.5 3.6 3.2 2.7 3.0 2.5 2.8 3.2 3.0 3.8 2.6 2.2 3.2 2.8 2.8 2.7 3.3 3.2\n",
      "[127] 2.8 3.0 2.8 3.0 2.8 3.8 2.8 2.8 2.6 3.0 3.4 3.1 3.0 3.1 3.1 3.1 2.7 3.2\n",
      "[145] 3.3 3.0 2.5 3.0 3.4 3.0\n"
     ]
    }
   ],
   "source": [
    "iris[, 2]"
   ]
  },
  {
   "cell_type": "markdown",
   "id": "3edd08db-71b0-43ba-b505-f4eea5230ebd",
   "metadata": {},
   "source": [
    "# Addressing Columns by name \n",
    "Columns can also be addressed by name, with either the ```$``` operator (i.e. ```iris$Petal.Length```) or square brackets (ie. ```iris[,'Petal.Length']```).\n",
    "\n",
    "# Data Types \n",
    "\n",
    "One key feature of a data frame is each column is classed as a specific data type. \n",
    "\n",
    "*Data types*, or modes, define what the values are and how they can be used. \n",
    "\n",
    "There are __*5 core data types*:__\n",
    "\n",
    "* Numeric - all real numbers e.g. 7.5\n",
    "* Integer - e.g. 2\n",
    "* Complex - numbers with real and imaginary parts e.g. 1+4i\n",
    "* Character - consists of letters or numbers or symbols or a combination of these e.g. \"a\", \"f5\", \"datatypes\", \"Learning R is fun\"\n",
    "* Logical - only takes TRUE or FALSE.\n",
    "\n",
    "\n",
    "These data types are also used to characterise other one dimensional R objects such as individual values or vectors \n",
    "(more on these later). R provides a number of functions to examine the features of variables or objects. \n",
    "\n",
    "Some examples:\n",
    "\n",
    "* ```typeof()``` - what is the object’s data type (on the data storage level (\"what the computer sees\"))?\n",
    "* ```class()``` - what is the object's data type (on the abstract type level(\"what R sees\"))?\n",
    "* ```mode()``` - what is the object's data type (on the data storage level (\"what the computer sees\"))?\n",
    "* ```length()```- how long is it? \n",
    "* ```attributes()``` - does it have any metadata? \n",
    "* ```str``` - display the internal structure of an object.\n",
    "* ```is.numeric()```, ```is.character()```, ```is.complex()```, ```is.logical()``` - returns TRUE when an object is the datatype queried, FALSE if not.\n",
    "\n",
    "Let's define some variables we can use R to profile the charateristics of"
   ]
  },
  {
   "cell_type": "code",
   "execution_count": 12,
   "id": "04af36a6-e3bc-4fb8-9b7c-1ad00d062065",
   "metadata": {
    "editable": true,
    "slideshow": {
     "slide_type": ""
    },
    "tags": []
   },
   "outputs": [
    {
     "name": "stdout",
     "output_type": "stream",
     "text": [
      "[1] \"character\"\n"
     ]
    }
   ],
   "source": [
    "x <- \"dataset\"\n",
    "typeof(x)"
   ]
  },
  {
   "cell_type": "code",
   "execution_count": 13,
   "id": "146d6b1f-7bd6-45e5-85f9-7a0c484d1f56",
   "metadata": {
    "editable": true,
    "slideshow": {
     "slide_type": ""
    },
    "tags": []
   },
   "outputs": [
    {
     "name": "stdout",
     "output_type": "stream",
     "text": [
      " [1]  1  2  3  4  5  6  7  8  9 10\n"
     ]
    }
   ],
   "source": [
    "y <- 1:10\n",
    "y"
   ]
  },
  {
   "cell_type": "code",
   "execution_count": 14,
   "id": "ceeb6a0e-598b-419c-b9fd-ce54b2abf74e",
   "metadata": {
    "editable": true,
    "slideshow": {
     "slide_type": ""
    },
    "tags": []
   },
   "outputs": [
    {
     "name": "stdout",
     "output_type": "stream",
     "text": [
      "[1] \"integer\"\n"
     ]
    }
   ],
   "source": [
    "typeof(y)"
   ]
  },
  {
   "cell_type": "code",
   "execution_count": 15,
   "id": "cdf43ab4-aa50-46ea-9e86-3951385ba317",
   "metadata": {
    "editable": true,
    "slideshow": {
     "slide_type": ""
    },
    "tags": []
   },
   "outputs": [
    {
     "name": "stdout",
     "output_type": "stream",
     "text": [
      "[1] \"integer\"\n"
     ]
    }
   ],
   "source": [
    "class(y)"
   ]
  },
  {
   "cell_type": "code",
   "execution_count": 16,
   "id": "cacb9983-de9a-4438-928f-2b75f8b185cc",
   "metadata": {
    "editable": true,
    "slideshow": {
     "slide_type": ""
    },
    "tags": []
   },
   "outputs": [
    {
     "name": "stdout",
     "output_type": "stream",
     "text": [
      "[1] 10\n"
     ]
    }
   ],
   "source": [
    "length(y)"
   ]
  },
  {
   "cell_type": "markdown",
   "id": "07c0c020-3f0d-449a-a3f9-914a61ff16e9",
   "metadata": {},
   "source": [
    "# Converting Between Datatypes\n",
    "\n",
    "It can be critical that R has correctly assigned the right data type to your variable. If it has not you may run into \n",
    "errors when processing it. You therefore may want to convert between different data types. This can be done with the \n",
    "series of functions ```as.numeric```, ```as.character``` etc. \n",
    "\n",
    "For example, let's convert our numeric variable `y` into a character. "
   ]
  },
  {
   "cell_type": "code",
   "execution_count": 17,
   "id": "e995a60f-5e7d-4c75-b549-0507ad33d32f",
   "metadata": {
    "editable": true,
    "slideshow": {
     "slide_type": ""
    },
    "tags": []
   },
   "outputs": [
    {
     "name": "stdout",
     "output_type": "stream",
     "text": [
      "[1] \"character\"\n"
     ]
    }
   ],
   "source": [
    "y <- as.character(y)\n",
    "typeof(y)"
   ]
  },
  {
   "cell_type": "markdown",
   "id": "a3ccff81-8509-4338-844b-9ab7e88e438b",
   "metadata": {},
   "source": [
    "## Activity: Determining Data Yypes\n",
    "\n",
    "Create a variable with the numbers 9,2,200, and 14.\n",
    "What class do you predict this variable to be? Use an R function to confirm your answer.\n",
    "If it is not the data type you expected, can you force R to convert it to an integer?\n",
    "Divide each element of the variable in half. Does this change the type of variable?\n",
    "\n",
    "\n",
    "# Data Structures\n",
    "\n",
    "R has a number of inbuilt structures that can be used to store datasets. We have encountered one of these already - the data.frame. Other include: \n",
    "\n",
    "* strings\n",
    "* vectors \n",
    "* data frames\n",
    "* matrices\n",
    "* arrays\n",
    "* lists\n",
    "* factors\n",
    "\n",
    "## Strings\n",
    "\n",
    "A string is a run of characters. e.g. \"hello\". or \"a189jde2mjo\". They are enclosed in quotes.\n",
    "\n",
    "## Vectors\n",
    "\n",
    "A vector is the most common and basic data structure in R. They are an ordered collection of basic data types of \n",
    "a given length. They are one-dimensional. We can think of each column of a data frame as a vector. \n",
    "\n",
    "The concatenate or combine ```c()``` function will explicitly __construct__ a vector. \n",
    "\n"
   ]
  },
  {
   "cell_type": "code",
   "execution_count": 18,
   "id": "3b9a9a10-1849-48b6-8564-0548d707b15e",
   "metadata": {
    "editable": true,
    "slideshow": {
     "slide_type": ""
    },
    "tags": []
   },
   "outputs": [],
   "source": [
    "v_num <- c(9,20,12)\n",
    "v_log <- c(TRUE, FALSE, FALSE, TRUE)"
   ]
  },
  {
   "cell_type": "markdown",
   "id": "329a1739-d346-4e6e-9a39-c28ce83dda06",
   "metadata": {},
   "source": [
    "As we create these vectors you should see them listed in your environment pane. We can then call the name of the varible to see what the value is at that point in time. "
   ]
  },
  {
   "cell_type": "code",
   "execution_count": 19,
   "id": "9b35fe5a",
   "metadata": {
    "editable": true,
    "slideshow": {
     "slide_type": ""
    },
    "tags": []
   },
   "outputs": [
    {
     "name": "stdout",
     "output_type": "stream",
     "text": [
      "[1]  9 20 12\n"
     ]
    }
   ],
   "source": [
    "v_num "
   ]
  },
  {
   "cell_type": "code",
   "execution_count": 20,
   "id": "603e1ad4",
   "metadata": {
    "editable": true,
    "slideshow": {
     "slide_type": ""
    },
    "tags": []
   },
   "outputs": [
    {
     "name": "stdout",
     "output_type": "stream",
     "text": [
      "[1]  TRUE FALSE FALSE  TRUE\n"
     ]
    }
   ],
   "source": [
    "v_log"
   ]
  },
  {
   "cell_type": "markdown",
   "id": "dbf81ca7-4039-48fe-96b9-ebab421d5a88",
   "metadata": {},
   "source": [
    "The function ```c()``` can also be used to __add elements__ to a vector."
   ]
  },
  {
   "cell_type": "code",
   "execution_count": 21,
   "id": "dc21c86c",
   "metadata": {
    "editable": true,
    "slideshow": {
     "slide_type": ""
    },
    "tags": []
   },
   "outputs": [
    {
     "name": "stdout",
     "output_type": "stream",
     "text": [
      "[1] \"Sarah\"   \"Tracy\"   \"Jon\"     \"Annette\"\n"
     ]
    }
   ],
   "source": [
    "v_name <- c(\"Sarah\", \"Tracy\", \"Jon\")\n",
    "v_name <- c(v_name, \"Annette\")\n",
    "v_name"
   ]
  },
  {
   "cell_type": "markdown",
   "id": "1cc8a0db-7ef7-4ebc-96c5-8e05c711e157",
   "metadata": {},
   "source": [
    "If we want to create a series of numbers, like 1 to 140, we can bypass the `c()` constructor and just write"
   ]
  },
  {
   "cell_type": "code",
   "execution_count": 22,
   "id": "6b9de5e1",
   "metadata": {
    "editable": true,
    "slideshow": {
     "slide_type": ""
    },
    "tags": []
   },
   "outputs": [
    {
     "name": "stdout",
     "output_type": "stream",
     "text": [
      "[1] 1 2 3 4\n"
     ]
    }
   ],
   "source": [
    "(v_int <- 1:4)"
   ]
  },
  {
   "cell_type": "markdown",
   "id": "fa7bf05b-89f0-461f-9206-79e2ee291fd2",
   "metadata": {},
   "source": [
    "When we call a vector *atomic*, we mean that the vector only holds data of a single data type."
   ]
  },
  {
   "cell_type": "markdown",
   "id": "c1fbca7e-9641-4bda-90a3-37ec70c7c9b8",
   "metadata": {},
   "source": [
    "## Data Frame\n",
    "\n",
    "A data frame is a two dimensional structure consisting of rows and columns. \n",
    "\n",
    "We can create a data frames using the function `data.frame()`. We will use the predefined vector `letter` \n",
    "to get the first ten letters in the alphabet.\n"
   ]
  },
  {
   "cell_type": "code",
   "execution_count": 23,
   "id": "bb45e841",
   "metadata": {
    "editable": true,
    "slideshow": {
     "slide_type": ""
    },
    "tags": []
   },
   "outputs": [
    {
     "name": "stdout",
     "output_type": "stream",
     "text": [
      "   id  x  y\n",
      "1   a  1 11\n",
      "2   b  2 12\n",
      "3   c  3 13\n",
      "4   d  4 14\n",
      "5   e  5 15\n",
      "6   f  6 16\n",
      "7   g  7 17\n",
      "8   h  8 18\n",
      "9   i  9 19\n",
      "10  j 10 20\n"
     ]
    }
   ],
   "source": [
    "dat <- data.frame(id = letters[1:10], x = 1:10, y = 11:20)\n",
    "dat"
   ]
  },
  {
   "cell_type": "markdown",
   "id": "747edd0f-3f74-4d96-b52e-30f07de3dbf0",
   "metadata": {},
   "source": [
    "Columns are variables, and each column will have a specified data type, which all entries must adhere to. \n",
    "Rows are observations. Rows and columns will have `rownames` and `colnames` that you can use to extract \n",
    "specific rows or columns respectively. \n",
    "\n",
    "If you read in a table of data from a file, it will typically be represented by a data.frame.\n",
    "\n",
    "\n",
    "### Functions to explore data frames\n",
    "\n",
    "* ```head()``` - shows first 6 rows\n",
    "* ```tail()``` - shows last 6 rows\n",
    "* ```dim()``` - returns the dimensions of data frame (i.e. number of rows and number of columns)\n",
    "* ```nrow()``` - number of rows\n",
    "* ```ncol()```- number of columns\n",
    "* ```str()``` - structure of data frame - name, type and preview of data in each column\n",
    "* ```names()``` or ```colnames()``` - both show the names attribute for a data frame\n",
    "\n",
    "\n",
    "## Matrices\n",
    "\n",
    "A matrix is another two dimensional object, but it differs to a data.frame as all columns/entries must be of the same type. \n",
    "It is more efficient memory-wise than a data.frame, but can-not be used as a substitute to all data.frames.\n",
    "\n",
    "We can construct a matrix as follows:"
   ]
  },
  {
   "cell_type": "code",
   "execution_count": 24,
   "id": "71ed3b63-2c93-4469-9a40-f9c8bf169dd9",
   "metadata": {
    "editable": true,
    "slideshow": {
     "slide_type": ""
    },
    "tags": []
   },
   "outputs": [
    {
     "name": "stdout",
     "output_type": "stream",
     "text": [
      "     [,1] [,2] [,3]\n",
      "[1,]    1    3    5\n",
      "[2,]    2    4    6\n"
     ]
    }
   ],
   "source": [
    "m<-matrix(1:6, nrow=2, ncol=3)\n",
    "m"
   ]
  },
  {
   "cell_type": "markdown",
   "id": "88039000-c333-4361-8263-979a7f10253b",
   "metadata": {},
   "source": [
    "When creating a __matrix__, it is important to remember that matrices __*are filled column-wise*__. If that is not what you want, you can use the ```byrow``` argument (a logical: can be ```TRUE``` or ```FALSE```) to specify how the matrix is filled.\n",
    "\n",
    "We can confirm the data type of a matrix with the function `class`."
   ]
  },
  {
   "cell_type": "code",
   "execution_count": 25,
   "id": "6bb02529-f2bf-4769-8fc3-91fa6be2bf94",
   "metadata": {
    "editable": true,
    "slideshow": {
     "slide_type": ""
    },
    "tags": []
   },
   "outputs": [
    {
     "name": "stdout",
     "output_type": "stream",
     "text": [
      "[1] \"matrix\" \"array\" \n"
     ]
    }
   ],
   "source": [
    "class(m)"
   ]
  },
  {
   "cell_type": "markdown",
   "id": "69b099d7-c72f-483a-912d-452c76fbd896",
   "metadata": {},
   "source": [
    "## Arrays\n",
    "\n",
    "Arrays are n-dimensional storage structures. A one-dimensional array is a vector, a two-dimensional array is a matrix. \n",
    "\n",
    "We will not be using this type of object, but it is included for completeness.\n",
    "\n",
    "## Lists\n",
    "\n",
    "A list in R is a collection of objects and elements, which themselves can be a heterogeneous mix of other objects \n",
    "including vectors, matrices, data.frames, functions, strings, numbers. They tend to be used to collate different \n",
    "data types connected in some way. \n",
    "\n",
    "We can create a list of the vectors and data.frames we have already constructed as follows:"
   ]
  },
  {
   "cell_type": "code",
   "execution_count": 26,
   "id": "9584d150-c5c8-4612-8b57-4ca24697ce29",
   "metadata": {
    "editable": true,
    "slideshow": {
     "slide_type": ""
    },
    "tags": []
   },
   "outputs": [
    {
     "name": "stdout",
     "output_type": "stream",
     "text": [
      "[[1]]\n",
      "[1]  TRUE FALSE FALSE  TRUE\n",
      "\n",
      "[[2]]\n",
      "[1]  9 20 12\n",
      "\n",
      "[[3]]\n",
      "    Sepal.Length Sepal.Width Petal.Length Petal.Width    Species\n",
      "1            5.1         3.5          1.4         0.2     setosa\n",
      "2            4.9         3.0          1.4         0.2     setosa\n",
      "3            4.7         3.2          1.3         0.2     setosa\n",
      "4            4.6         3.1          1.5         0.2     setosa\n",
      "5            5.0         3.6          1.4         0.2     setosa\n",
      "6            5.4         3.9          1.7         0.4     setosa\n",
      "7            4.6         3.4          1.4         0.3     setosa\n",
      "8            5.0         3.4          1.5         0.2     setosa\n",
      "9            4.4         2.9          1.4         0.2     setosa\n",
      "10           4.9         3.1          1.5         0.1     setosa\n",
      "11           5.4         3.7          1.5         0.2     setosa\n",
      "12           4.8         3.4          1.6         0.2     setosa\n",
      "13           4.8         3.0          1.4         0.1     setosa\n",
      "14           4.3         3.0          1.1         0.1     setosa\n",
      "15           5.8         4.0          1.2         0.2     setosa\n",
      "16           5.7         4.4          1.5         0.4     setosa\n",
      "17           5.4         3.9          1.3         0.4     setosa\n",
      "18           5.1         3.5          1.4         0.3     setosa\n",
      "19           5.7         3.8          1.7         0.3     setosa\n",
      "20           5.1         3.8          1.5         0.3     setosa\n",
      "21           5.4         3.4          1.7         0.2     setosa\n",
      "22           5.1         3.7          1.5         0.4     setosa\n",
      "23           4.6         3.6          1.0         0.2     setosa\n",
      "24           5.1         3.3          1.7         0.5     setosa\n",
      "25           4.8         3.4          1.9         0.2     setosa\n",
      "26           5.0         3.0          1.6         0.2     setosa\n",
      "27           5.0         3.4          1.6         0.4     setosa\n",
      "28           5.2         3.5          1.5         0.2     setosa\n",
      "29           5.2         3.4          1.4         0.2     setosa\n",
      "30           4.7         3.2          1.6         0.2     setosa\n",
      "31           4.8         3.1          1.6         0.2     setosa\n",
      "32           5.4         3.4          1.5         0.4     setosa\n",
      "33           5.2         4.1          1.5         0.1     setosa\n",
      "34           5.5         4.2          1.4         0.2     setosa\n",
      "35           4.9         3.1          1.5         0.2     setosa\n",
      "36           5.0         3.2          1.2         0.2     setosa\n",
      "37           5.5         3.5          1.3         0.2     setosa\n",
      "38           4.9         3.6          1.4         0.1     setosa\n",
      "39           4.4         3.0          1.3         0.2     setosa\n",
      "40           5.1         3.4          1.5         0.2     setosa\n",
      "41           5.0         3.5          1.3         0.3     setosa\n",
      "42           4.5         2.3          1.3         0.3     setosa\n",
      "43           4.4         3.2          1.3         0.2     setosa\n",
      "44           5.0         3.5          1.6         0.6     setosa\n",
      "45           5.1         3.8          1.9         0.4     setosa\n",
      "46           4.8         3.0          1.4         0.3     setosa\n",
      "47           5.1         3.8          1.6         0.2     setosa\n",
      "48           4.6         3.2          1.4         0.2     setosa\n",
      "49           5.3         3.7          1.5         0.2     setosa\n",
      "50           5.0         3.3          1.4         0.2     setosa\n",
      "51           7.0         3.2          4.7         1.4 versicolor\n",
      "52           6.4         3.2          4.5         1.5 versicolor\n",
      "53           6.9         3.1          4.9         1.5 versicolor\n",
      "54           5.5         2.3          4.0         1.3 versicolor\n",
      "55           6.5         2.8          4.6         1.5 versicolor\n",
      "56           5.7         2.8          4.5         1.3 versicolor\n",
      "57           6.3         3.3          4.7         1.6 versicolor\n",
      "58           4.9         2.4          3.3         1.0 versicolor\n",
      "59           6.6         2.9          4.6         1.3 versicolor\n",
      "60           5.2         2.7          3.9         1.4 versicolor\n",
      "61           5.0         2.0          3.5         1.0 versicolor\n",
      "62           5.9         3.0          4.2         1.5 versicolor\n",
      "63           6.0         2.2          4.0         1.0 versicolor\n",
      "64           6.1         2.9          4.7         1.4 versicolor\n",
      "65           5.6         2.9          3.6         1.3 versicolor\n",
      "66           6.7         3.1          4.4         1.4 versicolor\n",
      "67           5.6         3.0          4.5         1.5 versicolor\n",
      "68           5.8         2.7          4.1         1.0 versicolor\n",
      "69           6.2         2.2          4.5         1.5 versicolor\n",
      "70           5.6         2.5          3.9         1.1 versicolor\n",
      "71           5.9         3.2          4.8         1.8 versicolor\n",
      "72           6.1         2.8          4.0         1.3 versicolor\n",
      "73           6.3         2.5          4.9         1.5 versicolor\n",
      "74           6.1         2.8          4.7         1.2 versicolor\n",
      "75           6.4         2.9          4.3         1.3 versicolor\n",
      "76           6.6         3.0          4.4         1.4 versicolor\n",
      "77           6.8         2.8          4.8         1.4 versicolor\n",
      "78           6.7         3.0          5.0         1.7 versicolor\n",
      "79           6.0         2.9          4.5         1.5 versicolor\n",
      "80           5.7         2.6          3.5         1.0 versicolor\n",
      "81           5.5         2.4          3.8         1.1 versicolor\n",
      "82           5.5         2.4          3.7         1.0 versicolor\n",
      "83           5.8         2.7          3.9         1.2 versicolor\n",
      "84           6.0         2.7          5.1         1.6 versicolor\n",
      "85           5.4         3.0          4.5         1.5 versicolor\n",
      "86           6.0         3.4          4.5         1.6 versicolor\n",
      "87           6.7         3.1          4.7         1.5 versicolor\n",
      "88           6.3         2.3          4.4         1.3 versicolor\n",
      "89           5.6         3.0          4.1         1.3 versicolor\n",
      "90           5.5         2.5          4.0         1.3 versicolor\n",
      "91           5.5         2.6          4.4         1.2 versicolor\n",
      "92           6.1         3.0          4.6         1.4 versicolor\n",
      "93           5.8         2.6          4.0         1.2 versicolor\n",
      "94           5.0         2.3          3.3         1.0 versicolor\n",
      "95           5.6         2.7          4.2         1.3 versicolor\n",
      "96           5.7         3.0          4.2         1.2 versicolor\n",
      "97           5.7         2.9          4.2         1.3 versicolor\n",
      "98           6.2         2.9          4.3         1.3 versicolor\n",
      "99           5.1         2.5          3.0         1.1 versicolor\n",
      "100          5.7         2.8          4.1         1.3 versicolor\n",
      "101          6.3         3.3          6.0         2.5  virginica\n",
      "102          5.8         2.7          5.1         1.9  virginica\n",
      "103          7.1         3.0          5.9         2.1  virginica\n",
      "104          6.3         2.9          5.6         1.8  virginica\n",
      "105          6.5         3.0          5.8         2.2  virginica\n",
      "106          7.6         3.0          6.6         2.1  virginica\n",
      "107          4.9         2.5          4.5         1.7  virginica\n",
      "108          7.3         2.9          6.3         1.8  virginica\n",
      "109          6.7         2.5          5.8         1.8  virginica\n",
      "110          7.2         3.6          6.1         2.5  virginica\n",
      "111          6.5         3.2          5.1         2.0  virginica\n",
      "112          6.4         2.7          5.3         1.9  virginica\n",
      "113          6.8         3.0          5.5         2.1  virginica\n",
      "114          5.7         2.5          5.0         2.0  virginica\n",
      "115          5.8         2.8          5.1         2.4  virginica\n",
      "116          6.4         3.2          5.3         2.3  virginica\n",
      "117          6.5         3.0          5.5         1.8  virginica\n",
      "118          7.7         3.8          6.7         2.2  virginica\n",
      "119          7.7         2.6          6.9         2.3  virginica\n",
      "120          6.0         2.2          5.0         1.5  virginica\n",
      "121          6.9         3.2          5.7         2.3  virginica\n",
      "122          5.6         2.8          4.9         2.0  virginica\n",
      "123          7.7         2.8          6.7         2.0  virginica\n",
      "124          6.3         2.7          4.9         1.8  virginica\n",
      "125          6.7         3.3          5.7         2.1  virginica\n",
      "126          7.2         3.2          6.0         1.8  virginica\n",
      "127          6.2         2.8          4.8         1.8  virginica\n",
      "128          6.1         3.0          4.9         1.8  virginica\n",
      "129          6.4         2.8          5.6         2.1  virginica\n",
      "130          7.2         3.0          5.8         1.6  virginica\n",
      "131          7.4         2.8          6.1         1.9  virginica\n",
      "132          7.9         3.8          6.4         2.0  virginica\n",
      "133          6.4         2.8          5.6         2.2  virginica\n",
      "134          6.3         2.8          5.1         1.5  virginica\n",
      "135          6.1         2.6          5.6         1.4  virginica\n",
      "136          7.7         3.0          6.1         2.3  virginica\n",
      "137          6.3         3.4          5.6         2.4  virginica\n",
      "138          6.4         3.1          5.5         1.8  virginica\n",
      "139          6.0         3.0          4.8         1.8  virginica\n",
      "140          6.9         3.1          5.4         2.1  virginica\n",
      "141          6.7         3.1          5.6         2.4  virginica\n",
      "142          6.9         3.1          5.1         2.3  virginica\n",
      "143          5.8         2.7          5.1         1.9  virginica\n",
      "144          6.8         3.2          5.9         2.3  virginica\n",
      "145          6.7         3.3          5.7         2.5  virginica\n",
      "146          6.7         3.0          5.2         2.3  virginica\n",
      "147          6.3         2.5          5.0         1.9  virginica\n",
      "148          6.5         3.0          5.2         2.0  virginica\n",
      "149          6.2         3.4          5.4         2.3  virginica\n",
      "150          5.9         3.0          5.1         1.8  virginica\n",
      "\n"
     ]
    }
   ],
   "source": [
    "l <- list(v_log, v_num, iris)\n",
    "l"
   ]
  },
  {
   "cell_type": "markdown",
   "id": "88adea84-e025-44cc-b116-faf0dcf55157",
   "metadata": {},
   "source": [
    "## Factors\n",
    "\n",
    "Sometimes considered as a data type, as confusingly it is a possible response to the function `type`, and therefore\n",
    "a valid option for columns in a data frame. A factor is designed for categorical variables. They have a finite number of \n",
    "\"levels\", which are the options that any element of that vector can take. They are actually stored as integers \n",
    "which can make them quite powerful for subsetting. \n",
    "\n",
    "It is very easy for character vectors to be inappropriately stored as factors and vice versa. In fact, R's default \n",
    "when loading data is to store a string as a factor. Conversely if we define a vector, we have to explicitly convert \n",
    "it to a vector.\n",
    "\n",
    "For example, if we define a vector of months, the default is to class it as a vector of characters. We have to actively \n",
    "coerce it into a factor. "
   ]
  },
  {
   "cell_type": "code",
   "execution_count": 27,
   "id": "4c9f460b-ccbb-40e9-9e04-662941fac1d4",
   "metadata": {
    "editable": true,
    "slideshow": {
     "slide_type": ""
    },
    "tags": []
   },
   "outputs": [
    {
     "name": "stdout",
     "output_type": "stream",
     "text": [
      "[1] \"character\"\n"
     ]
    }
   ],
   "source": [
    "a      <- c(\"March\",\"February\",\"February\",\"November\",\"February\",\"March\",\"March\",\"March\",\"February\",\"November\")\n",
    "class(a)"
   ]
  },
  {
   "cell_type": "code",
   "execution_count": 28,
   "id": "27dc038d",
   "metadata": {
    "editable": true,
    "slideshow": {
     "slide_type": ""
    },
    "tags": []
   },
   "outputs": [
    {
     "name": "stdout",
     "output_type": "stream",
     "text": [
      "[1] \"character\"\n"
     ]
    }
   ],
   "source": [
    "fact <- as.factor(a)\n",
    "class(a)"
   ]
  },
  {
   "cell_type": "markdown",
   "id": "8e078b26-eab9-48c8-988e-032dd2af3871",
   "metadata": {
    "editable": true,
    "slideshow": {
     "slide_type": ""
    },
    "tags": []
   },
   "source": [
    "## Activity: Data Exploration\n",
    "\n",
    "Use these functions to explore the mtcars dataset.\n",
    "\n",
    "* How large is the dataset?\n",
    "* What type is the object?\n",
    "* What value is in the 6th row of the 4th column?"
   ]
  },
  {
   "cell_type": "markdown",
   "id": "bb9dcfb0-70d4-431e-991e-d62ff19cf1dd",
   "metadata": {
    "editable": true,
    "slideshow": {
     "slide_type": ""
    },
    "tags": []
   },
   "source": [
    "## Summary Quiz"
   ]
  },
  {
   "cell_type": "code",
   "execution_count": 1,
   "id": "2aa71599-58d1-4991-bc5b-7bb300b4aad8",
   "metadata": {
    "editable": true,
    "slideshow": {
     "slide_type": ""
    },
    "tags": [
     "remove-input"
    ]
   },
   "outputs": [
    {
     "data": {
      "text/html": [
       "\n",
       "  <style>\n",
       "  .quiz-question {\n",
       "      background-color: #6c63ff;\n",
       "      color: white;\n",
       "      padding: 12px;\n",
       "      border-radius: 10px;\n",
       "      font-weight: bold;\n",
       "      font-size: 1.2em;\n",
       "      margin-bottom: 10px;\n",
       "  }\n",
       "\n",
       "  .quiz-form {\n",
       "      margin-bottom: 20px;\n",
       "  }\n",
       "\n",
       "  .quiz-answer {\n",
       "      display: block;\n",
       "      background-color: #f2f2f2;\n",
       "      border: none;\n",
       "      border-radius: 10px;\n",
       "      padding: 10px;\n",
       "      margin: 5px 0;\n",
       "      font-size: 1em;\n",
       "      cursor: pointer;\n",
       "      text-align: left;\n",
       "      transition: background-color 0.3s;\n",
       "      width: 100%;\n",
       "  }\n",
       "\n",
       "  .quiz-answer:hover {\n",
       "      background-color: #e0e0e0;\n",
       "  }\n",
       "\n",
       "  .correct {\n",
       "      background-color: #4CAF50 !important;\n",
       "      color: white !important;\n",
       "      border: none;\n",
       "  }\n",
       "\n",
       "  .incorrect {\n",
       "      background-color: #D32F2F !important;\n",
       "      color: white !important;\n",
       "      border: none;\n",
       "  }\n",
       "\n",
       "  .feedback {\n",
       "      margin-top: 10px;\n",
       "      font-weight: bold;\n",
       "      font-size: 1em;\n",
       "  }\n",
       "  </style>\n",
       "\n",
       "  <script>\n",
       "  function handleAnswer(qid, aid, feedback, isCorrect) {\n",
       "      let buttons = document.querySelectorAll(\".answer-\" + qid);\n",
       "      buttons.forEach(btn => {\n",
       "          btn.classList.remove(\"correct\", \"incorrect\");\n",
       "      });\n",
       "\n",
       "      let selected = document.getElementById(aid);\n",
       "      selected.classList.add(isCorrect ? \"correct\" : \"incorrect\");\n",
       "\n",
       "      let feedbackBox = document.getElementById(\"feedback_\" + qid);\n",
       "      feedbackBox.innerHTML = feedback;\n",
       "      feedbackBox.style.color = isCorrect ? \"green\" : \"red\";\n",
       "  }\n",
       "  </script>\n",
       "  <div class=\"quiz-question\">What does a relative file path NOT start with?</div><form class=\"quiz-form\"><button type=\"button\" class=\"quiz-answer answer-1\" id=\"q1_a1\"\n",
       "        onclick=\"handleAnswer('1', 'q1_a1', 'Incorrect', false)\">\n",
       "        A drive letter (e.g., C:)</button><button type=\"button\" class=\"quiz-answer answer-1\" id=\"q1_a2\"\n",
       "        onclick=\"handleAnswer('1', 'q1_a2', 'Correct', true)\">\n",
       "        A forward slash (/)</button><button type=\"button\" class=\"quiz-answer answer-1\" id=\"q1_a3\"\n",
       "        onclick=\"handleAnswer('1', 'q1_a3', 'Incorrect', false)\">\n",
       "        A dot (.)</button><button type=\"button\" class=\"quiz-answer answer-1\" id=\"q1_a4\"\n",
       "        onclick=\"handleAnswer('1', 'q1_a4', 'Incorrect', false)\">\n",
       "        A folder name</button><div class=\"feedback\" id=\"feedback_1\"></div></form><hr><div class=\"quiz-question\">Which operator is used to assign a value to a variable in R?</div><form class=\"quiz-form\"><button type=\"button\" class=\"quiz-answer answer-2\" id=\"q2_a1\"\n",
       "        onclick=\"handleAnswer('2', 'q2_a1', 'Incorrect', false)\">\n",
       "        ==</button><button type=\"button\" class=\"quiz-answer answer-2\" id=\"q2_a2\"\n",
       "        onclick=\"handleAnswer('2', 'q2_a2', 'Incorrect', false)\">\n",
       "        -></button><button type=\"button\" class=\"quiz-answer answer-2\" id=\"q2_a3\"\n",
       "        onclick=\"handleAnswer('2', 'q2_a3', 'Incorrect', false)\">\n",
       "        =</button><button type=\"button\" class=\"quiz-answer answer-2\" id=\"q2_a4\"\n",
       "        onclick=\"handleAnswer('2', 'q2_a4', 'Correct', true)\">\n",
       "        <-</button><div class=\"feedback\" id=\"feedback_2\"></div></form><hr><div class=\"quiz-question\">What is the primary use of the console pane in RStudio?</div><form class=\"quiz-form\"><button type=\"button\" class=\"quiz-answer answer-3\" id=\"q3_a1\"\n",
       "        onclick=\"handleAnswer('3', 'q3_a1', 'Incorrect', false)\">\n",
       "        To edit scripts and save them for later use</button><button type=\"button\" class=\"quiz-answer answer-3\" id=\"q3_a2\"\n",
       "        onclick=\"handleAnswer('3', 'q3_a2', 'Incorrect', false)\">\n",
       "        To browse files and manage projects</button><button type=\"button\" class=\"quiz-answer answer-3\" id=\"q3_a3\"\n",
       "        onclick=\"handleAnswer('3', 'q3_a3', 'Correct', true)\">\n",
       "        To execute R commands and display results</button><button type=\"button\" class=\"quiz-answer answer-3\" id=\"q3_a4\"\n",
       "        onclick=\"handleAnswer('3', 'q3_a4', 'Incorrect', false)\">\n",
       "        To visualize data using plots</button><div class=\"feedback\" id=\"feedback_3\"></div></form><hr>"
      ]
     },
     "metadata": {},
     "output_type": "display_data"
    }
   ],
   "source": [
    "library(jsonlite)\n",
    "library(IRdisplay)\n",
    "\n",
    "show_quiz_from_json <- function(path) {\n",
    "  quiz_data <- fromJSON(path, simplifyVector = FALSE)\n",
    "  \n",
    "  html <- '\n",
    "  <style>\n",
    "  .quiz-question {\n",
    "      background-color: #6c63ff;\n",
    "      color: white;\n",
    "      padding: 12px;\n",
    "      border-radius: 10px;\n",
    "      font-weight: bold;\n",
    "      font-size: 1.2em;\n",
    "      margin-bottom: 10px;\n",
    "  }\n",
    "\n",
    "  .quiz-form {\n",
    "      margin-bottom: 20px;\n",
    "  }\n",
    "\n",
    "  .quiz-answer {\n",
    "      display: block;\n",
    "      background-color: #f2f2f2;\n",
    "      border: none;\n",
    "      border-radius: 10px;\n",
    "      padding: 10px;\n",
    "      margin: 5px 0;\n",
    "      font-size: 1em;\n",
    "      cursor: pointer;\n",
    "      text-align: left;\n",
    "      transition: background-color 0.3s;\n",
    "      width: 100%;\n",
    "  }\n",
    "\n",
    "  .quiz-answer:hover {\n",
    "      background-color: #e0e0e0;\n",
    "  }\n",
    "\n",
    "  .correct {\n",
    "      background-color: #4CAF50 !important;\n",
    "      color: white !important;\n",
    "      border: none;\n",
    "  }\n",
    "\n",
    "  .incorrect {\n",
    "      background-color: #D32F2F !important;\n",
    "      color: white !important;\n",
    "      border: none;\n",
    "  }\n",
    "\n",
    "  .feedback {\n",
    "      margin-top: 10px;\n",
    "      font-weight: bold;\n",
    "      font-size: 1em;\n",
    "  }\n",
    "  </style>\n",
    "\n",
    "  <script>\n",
    "  function handleAnswer(qid, aid, feedback, isCorrect) {\n",
    "      let buttons = document.querySelectorAll(\".answer-\" + qid);\n",
    "      buttons.forEach(btn => {\n",
    "          btn.classList.remove(\"correct\", \"incorrect\");\n",
    "      });\n",
    "\n",
    "      let selected = document.getElementById(aid);\n",
    "      selected.classList.add(isCorrect ? \"correct\" : \"incorrect\");\n",
    "\n",
    "      let feedbackBox = document.getElementById(\"feedback_\" + qid);\n",
    "      feedbackBox.innerHTML = feedback;\n",
    "      feedbackBox.style.color = isCorrect ? \"green\" : \"red\";\n",
    "  }\n",
    "  </script>\n",
    "  '\n",
    "\n",
    "  for (i in seq_along(quiz_data)) {\n",
    "    question <- quiz_data[[i]]\n",
    "    qid <- as.character(i)\n",
    "    html <- paste0(html, sprintf('<div class=\"quiz-question\">%s</div><form class=\"quiz-form\">', question$question))\n",
    "    \n",
    "    for (j in seq_along(question$answers)) {\n",
    "      answer <- question$answers[[j]]\n",
    "      aid <- sprintf(\"q%s_a%s\", i, j)\n",
    "      feedback <- gsub(\"'\", \"\\\\'\", answer$feedback)  # escape single quotes\n",
    "      correct <- tolower(substr(answer$feedback, 1, 7)) == \"correct\"\n",
    "      correct_js <- tolower(as.character(correct))  # \"true\" or \"false\"\n",
    "\n",
    "      html <- paste0(html, sprintf(\n",
    "        '<button type=\"button\" class=\"quiz-answer answer-%s\" id=\"%s\"\n",
    "        onclick=\"handleAnswer(\\'%s\\', \\'%s\\', \\'%s\\', %s)\">\n",
    "        %s</button>',\n",
    "        qid, aid, qid, aid, feedback, correct_js, answer$answer\n",
    "      ))\n",
    "    }\n",
    "    \n",
    "    html <- paste0(html, sprintf('<div class=\"feedback\" id=\"feedback_%s\"></div></form><hr>', qid))\n",
    "  }\n",
    "\n",
    "  display_html(html)\n",
    "}\n",
    "\n",
    "# Call the function to display quiz interactively:\n",
    "show_quiz_from_json(\"questions/summary_basic_commands.json\")"
   ]
  },
  {
   "cell_type": "code",
   "execution_count": null,
   "id": "8aa8ecad-c6a4-45da-8c9b-8f644e8352a1",
   "metadata": {
    "editable": true,
    "slideshow": {
     "slide_type": ""
    },
    "tags": []
   },
   "outputs": [],
   "source": []
  }
 ],
 "metadata": {
  "kernelspec": {
   "display_name": "R",
   "language": "R",
   "name": "ir"
  },
  "language_info": {
   "codemirror_mode": "r",
   "file_extension": ".r",
   "mimetype": "text/x-r-source",
   "name": "R",
   "pygments_lexer": "r",
   "version": "4.3.3"
  }
 },
 "nbformat": 4,
 "nbformat_minor": 5
}
