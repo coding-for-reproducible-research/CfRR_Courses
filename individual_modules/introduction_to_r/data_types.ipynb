{
 "cells": [
  {
   "cell_type": "markdown",
   "id": "94b05ec7-e9de-4179-b1e4-0d0287bbdba5",
   "metadata": {
    "editable": true,
    "slideshow": {
     "slide_type": ""
    },
    "tags": []
   },
   "source": [
    "# Data Types and Structures\n",
    "\n",
    "## Download Rmd Version\n",
    "\n",
    "If you wish to engage with this course content via Rmd, then please click the link below to download the Rmd file.\n",
    "\n",
    "[Download data_types.Rmd](rmarkdown/data_types.Rmd)\n",
    "\n",
    "## Learning Objectives\n",
    "- Understand and identify the five core data types used in R (Numeric, Integer, Complex, Character, Logical)\n",
    "- Learn how to use functions like `typeof()`, `class()`, `mode()`, `length()`, and `attributes()` to examine the features of variables or objects in R\n",
    "- Learn methods to address columns in data frames using the `$` operator or square brackets\n",
    "- Practice defining variables and using R functions to profile their characteristics\n",
    "- Understand and perform conversions between different data types in R\n",
    "\n",
    "## Inbuilt Datasets\n",
    "R has a number of datasets included for you to practice with. We can get a list of these by running the command ```data()```\n"
   ]
  },
  {
   "cell_type": "code",
   "execution_count": 1,
   "id": "50334ab3-9b73-4fec-8464-eda8d0ac684c",
   "metadata": {
    "editable": true,
    "scrolled": true,
    "slideshow": {
     "slide_type": ""
    },
    "tags": []
   },
   "outputs": [
    {
     "data": {
      "text/html": [
       "<h3>Data sets</h3>\n",
       "<table class=\"dataframe\">\n",
       "<caption>A data.frame: 111 × 3</caption>\n",
       "<thead>\n",
       "\t<tr><th scope=col>Package</th><th scope=col>Item</th><th scope=col>Title</th></tr>\n",
       "\t<tr><th scope=col>&lt;chr&gt;</th><th scope=col>&lt;chr&gt;</th><th scope=col>&lt;chr&gt;</th></tr>\n",
       "</thead>\n",
       "<tbody>\n",
       "\t<tr><td>datasets</td><td>AirPassengers              </td><td>Monthly Airline Passenger Numbers 1949-1960                    </td></tr>\n",
       "\t<tr><td>datasets</td><td>BJsales                    </td><td>Sales Data with Leading Indicator                              </td></tr>\n",
       "\t<tr><td>datasets</td><td>BJsales.lead (BJsales)     </td><td>Sales Data with Leading Indicator                              </td></tr>\n",
       "\t<tr><td>datasets</td><td>BOD                        </td><td>Biochemical Oxygen Demand                                      </td></tr>\n",
       "\t<tr><td>datasets</td><td>CO2                        </td><td>Carbon Dioxide Uptake in Grass Plants                          </td></tr>\n",
       "\t<tr><td>datasets</td><td>ChickWeight                </td><td>Weight versus age of chicks on different diets                 </td></tr>\n",
       "\t<tr><td>datasets</td><td>DNase                      </td><td>Elisa assay of DNase                                           </td></tr>\n",
       "\t<tr><td>datasets</td><td>EuStockMarkets             </td><td>Daily Closing Prices of Major European Stock Indices, 1991-1998</td></tr>\n",
       "\t<tr><td>datasets</td><td>Formaldehyde               </td><td>Determination of Formaldehyde                                  </td></tr>\n",
       "\t<tr><td>datasets</td><td>HairEyeColor               </td><td>Hair and Eye Color of Statistics Students                      </td></tr>\n",
       "\t<tr><td>datasets</td><td>Harman23.cor               </td><td>Harman Example 2.3                                             </td></tr>\n",
       "\t<tr><td>datasets</td><td>Harman74.cor               </td><td>Harman Example 7.4                                             </td></tr>\n",
       "\t<tr><td>datasets</td><td>Indometh                   </td><td>Pharmacokinetics of Indomethacin                               </td></tr>\n",
       "\t<tr><td>datasets</td><td>InsectSprays               </td><td>Effectiveness of Insect Sprays                                 </td></tr>\n",
       "\t<tr><td>datasets</td><td><span style=white-space:pre-wrap>JohnsonJohnson             </span></td><td><span style=white-space:pre-wrap>Quarterly Earnings per Johnson &amp; Johnson Share                 </span></td></tr>\n",
       "\t<tr><td>datasets</td><td>LakeHuron                  </td><td>Level of Lake Huron 1875-1972                                  </td></tr>\n",
       "\t<tr><td>datasets</td><td>LifeCycleSavings           </td><td>Intercountry Life-Cycle Savings Data                           </td></tr>\n",
       "\t<tr><td>datasets</td><td>Loblolly                   </td><td>Growth of Loblolly pine trees                                  </td></tr>\n",
       "\t<tr><td>datasets</td><td>Nile                       </td><td>Flow of the River Nile                                         </td></tr>\n",
       "\t<tr><td>datasets</td><td>Orange                     </td><td>Growth of Orange Trees                                         </td></tr>\n",
       "\t<tr><td>datasets</td><td>OrchardSprays              </td><td>Potency of Orchard Sprays                                      </td></tr>\n",
       "\t<tr><td>datasets</td><td>PlantGrowth                </td><td>Results from an Experiment on Plant Growth                     </td></tr>\n",
       "\t<tr><td>datasets</td><td>Puromycin                  </td><td>Reaction Velocity of an Enzymatic Reaction                     </td></tr>\n",
       "\t<tr><td>datasets</td><td>Seatbelts                  </td><td>Road Casualties in Great Britain 1969-84                       </td></tr>\n",
       "\t<tr><td>datasets</td><td>Theoph                     </td><td>Pharmacokinetics of Theophylline                               </td></tr>\n",
       "\t<tr><td>datasets</td><td>Titanic                    </td><td>Survival of passengers on the Titanic                          </td></tr>\n",
       "\t<tr><td>datasets</td><td>ToothGrowth                </td><td>The Effect of Vitamin C on Tooth Growth in Guinea Pigs         </td></tr>\n",
       "\t<tr><td>datasets</td><td>UCBAdmissions              </td><td>Student Admissions at UC Berkeley                              </td></tr>\n",
       "\t<tr><td>datasets</td><td>UKDriverDeaths             </td><td>Road Casualties in Great Britain 1969-84                       </td></tr>\n",
       "\t<tr><td>datasets</td><td>UKgas                      </td><td>UK Quarterly Gas Consumption                                   </td></tr>\n",
       "\t<tr><td>datasets</td><td>USAccDeaths                </td><td>Accidental Deaths in the US 1973-1978                          </td></tr>\n",
       "\t<tr><td>datasets</td><td>USArrests                  </td><td>Violent Crime Rates by US State                                </td></tr>\n",
       "\t<tr><td>datasets</td><td>USJudgeRatings             </td><td>Lawyers' Ratings of State Judges in the US Superior Court      </td></tr>\n",
       "\t<tr><td>datasets</td><td>USPersonalExpenditure      </td><td>Personal Expenditure Data                                      </td></tr>\n",
       "\t<tr><td>datasets</td><td>UScitiesD                  </td><td>Distances Between European Cities and Between US Cities        </td></tr>\n",
       "\t<tr><td>datasets</td><td>VADeaths                   </td><td>Death Rates in Virginia (1940)                                 </td></tr>\n",
       "\t<tr><td>datasets</td><td>WWWusage                   </td><td>Internet Usage per Minute                                      </td></tr>\n",
       "\t<tr><td>datasets</td><td>WorldPhones                </td><td>The World's Telephones                                         </td></tr>\n",
       "\t<tr><td>datasets</td><td>ability.cov                </td><td>Ability and Intelligence Tests                                 </td></tr>\n",
       "\t<tr><td>datasets</td><td>airmiles                   </td><td>Passenger Miles on Commercial US Airlines, 1937-1960           </td></tr>\n",
       "\t<tr><td>datasets</td><td>airquality                 </td><td>New York Air Quality Measurements                              </td></tr>\n",
       "\t<tr><td>datasets</td><td>anscombe                   </td><td>Anscombe's Quartet of 'Identical' Simple Linear Regressions    </td></tr>\n",
       "\t<tr><td>datasets</td><td>attenu                     </td><td>The Joyner-Boore Attenuation Data                              </td></tr>\n",
       "\t<tr><td>datasets</td><td>attitude                   </td><td>The Chatterjee-Price Attitude Data                             </td></tr>\n",
       "\t<tr><td>datasets</td><td>austres                    </td><td>Quarterly Time Series of the Number of Australian Residents    </td></tr>\n",
       "\t<tr><td>datasets</td><td>beaver1 (beavers)          </td><td>Body Temperature Series of Two Beavers                         </td></tr>\n",
       "\t<tr><td>datasets</td><td>beaver2 (beavers)          </td><td>Body Temperature Series of Two Beavers                         </td></tr>\n",
       "\t<tr><td>datasets</td><td>cars                       </td><td>Speed and Stopping Distances of Cars                           </td></tr>\n",
       "\t<tr><td>datasets</td><td>chickwts                   </td><td>Chicken Weights by Feed Type                                   </td></tr>\n",
       "\t<tr><td>datasets</td><td>co2                        </td><td>Mauna Loa Atmospheric CO2 Concentration                        </td></tr>\n",
       "\t<tr><td>datasets</td><td>crimtab                    </td><td>Student's 3000 Criminals Data                                  </td></tr>\n",
       "\t<tr><td>datasets</td><td>discoveries                </td><td>Yearly Numbers of Important Discoveries                        </td></tr>\n",
       "\t<tr><td>datasets</td><td>esoph                      </td><td>Smoking, Alcohol and (O)esophageal Cancer                      </td></tr>\n",
       "\t<tr><td>datasets</td><td>euro                       </td><td>Conversion Rates of Euro Currencies                            </td></tr>\n",
       "\t<tr><td>datasets</td><td>euro.cross (euro)          </td><td>Conversion Rates of Euro Currencies                            </td></tr>\n",
       "\t<tr><td>datasets</td><td>eurodist                   </td><td>Distances Between European Cities and Between US Cities        </td></tr>\n",
       "\t<tr><td>datasets</td><td>faithful                   </td><td>Old Faithful Geyser Data                                       </td></tr>\n",
       "\t<tr><td>datasets</td><td>fdeaths (UKLungDeaths)     </td><td>Monthly Deaths from Lung Diseases in the UK                    </td></tr>\n",
       "\t<tr><td>datasets</td><td>freeny                     </td><td>Freeny's Revenue Data                                          </td></tr>\n",
       "\t<tr><td>datasets</td><td>freeny.x (freeny)          </td><td>Freeny's Revenue Data                                          </td></tr>\n",
       "\t<tr><td>datasets</td><td>freeny.y (freeny)          </td><td>Freeny's Revenue Data                                          </td></tr>\n",
       "\t<tr><td>datasets</td><td>infert                     </td><td>Infertility after Spontaneous and Induced Abortion             </td></tr>\n",
       "\t<tr><td>datasets</td><td>iris                       </td><td>Edgar Anderson's Iris Data                                     </td></tr>\n",
       "\t<tr><td>datasets</td><td>iris3                      </td><td>Edgar Anderson's Iris Data                                     </td></tr>\n",
       "\t<tr><td>datasets</td><td>islands                    </td><td>Areas of the World's Major Landmasses                          </td></tr>\n",
       "\t<tr><td>datasets</td><td>ldeaths (UKLungDeaths)     </td><td>Monthly Deaths from Lung Diseases in the UK                    </td></tr>\n",
       "\t<tr><td>datasets</td><td>lh                         </td><td>Luteinizing Hormone in Blood Samples                           </td></tr>\n",
       "\t<tr><td>datasets</td><td>longley                    </td><td>Longley's Economic Regression Data                             </td></tr>\n",
       "\t<tr><td>datasets</td><td>lynx                       </td><td>Annual Canadian Lynx trappings 1821-1934                       </td></tr>\n",
       "\t<tr><td>datasets</td><td>mdeaths (UKLungDeaths)     </td><td>Monthly Deaths from Lung Diseases in the UK                    </td></tr>\n",
       "\t<tr><td>datasets</td><td>morley                     </td><td>Michelson Speed of Light Data                                  </td></tr>\n",
       "\t<tr><td>datasets</td><td>mtcars                     </td><td>Motor Trend Car Road Tests                                     </td></tr>\n",
       "\t<tr><td>datasets</td><td>nhtemp                     </td><td>Average Yearly Temperatures in New Haven                       </td></tr>\n",
       "\t<tr><td>datasets</td><td>nottem                     </td><td>Average Monthly Temperatures at Nottingham, 1920-1939          </td></tr>\n",
       "\t<tr><td>datasets</td><td>npk                        </td><td>Classical N, P, K Factorial Experiment                         </td></tr>\n",
       "\t<tr><td>datasets</td><td>occupationalStatus         </td><td>Occupational Status of Fathers and their Sons                  </td></tr>\n",
       "\t<tr><td>datasets</td><td>precip                     </td><td>Annual Precipitation in US Cities                              </td></tr>\n",
       "\t<tr><td>datasets</td><td>presidents                 </td><td>Quarterly Approval Ratings of US Presidents                    </td></tr>\n",
       "\t<tr><td>datasets</td><td>pressure                   </td><td>Vapor Pressure of Mercury as a Function of Temperature         </td></tr>\n",
       "\t<tr><td>datasets</td><td>quakes                     </td><td>Locations of Earthquakes off Fiji                              </td></tr>\n",
       "\t<tr><td>datasets</td><td>randu                      </td><td>Random Numbers from Congruential Generator RANDU               </td></tr>\n",
       "\t<tr><td>datasets</td><td>rivers                     </td><td>Lengths of Major North American Rivers                         </td></tr>\n",
       "\t<tr><td>datasets</td><td>rock                       </td><td>Measurements on Petroleum Rock Samples                         </td></tr>\n",
       "\t<tr><td>datasets</td><td>sleep                      </td><td>Student's Sleep Data                                           </td></tr>\n",
       "\t<tr><td>datasets</td><td>stack.loss (stackloss)     </td><td>Brownlee's Stack Loss Plant Data                               </td></tr>\n",
       "\t<tr><td>datasets</td><td>stack.x (stackloss)        </td><td>Brownlee's Stack Loss Plant Data                               </td></tr>\n",
       "\t<tr><td>datasets</td><td>stackloss                  </td><td>Brownlee's Stack Loss Plant Data                               </td></tr>\n",
       "\t<tr><td>datasets</td><td>state.abb (state)          </td><td>US State Facts and Figures                                     </td></tr>\n",
       "\t<tr><td>datasets</td><td>state.area (state)         </td><td>US State Facts and Figures                                     </td></tr>\n",
       "\t<tr><td>datasets</td><td>state.center (state)       </td><td>US State Facts and Figures                                     </td></tr>\n",
       "\t<tr><td>datasets</td><td>state.division (state)     </td><td>US State Facts and Figures                                     </td></tr>\n",
       "\t<tr><td>datasets</td><td>state.name (state)         </td><td>US State Facts and Figures                                     </td></tr>\n",
       "\t<tr><td>datasets</td><td>state.region (state)       </td><td>US State Facts and Figures                                     </td></tr>\n",
       "\t<tr><td>datasets</td><td>state.x77 (state)          </td><td>US State Facts and Figures                                     </td></tr>\n",
       "\t<tr><td>datasets</td><td>sunspot.month              </td><td>Monthly Sunspot Data, from 1749 to \"Present\"                   </td></tr>\n",
       "\t<tr><td>datasets</td><td>sunspot.year               </td><td>Yearly Sunspot Data, 1700-1988                                 </td></tr>\n",
       "\t<tr><td>datasets</td><td>sunspots                   </td><td>Monthly Sunspot Numbers, 1749-1983                             </td></tr>\n",
       "\t<tr><td>datasets</td><td>swiss                      </td><td>Swiss Fertility and Socioeconomic Indicators (1888) Data       </td></tr>\n",
       "\t<tr><td>datasets</td><td>treering                   </td><td>Yearly Treering Data, -6000-1979                               </td></tr>\n",
       "\t<tr><td>datasets</td><td>trees                      </td><td>Diameter, Height and Volume for Black Cherry Trees             </td></tr>\n",
       "\t<tr><td>datasets</td><td>uspop                      </td><td>Populations Recorded by the US Census                          </td></tr>\n",
       "\t<tr><td>datasets</td><td>volcano                    </td><td>Topographic Information on Auckland's Maunga Whau Volcano      </td></tr>\n",
       "\t<tr><td>datasets</td><td>warpbreaks                 </td><td>The Number of Breaks in Yarn during Weaving                    </td></tr>\n",
       "\t<tr><td>datasets</td><td>women                      </td><td>Average Heights and Weights for American Women                 </td></tr>\n",
       "\t<tr><td>.       </td><td>bp_dataset_session4        </td><td>                                                               </td></tr>\n",
       "\t<tr><td>.       </td><td>code_session2              </td><td>                                                               </td></tr>\n",
       "\t<tr><td>.       </td><td>plotting_arguments         </td><td>                                                               </td></tr>\n",
       "\t<tr><td>.       </td><td>r_training_session_2_script</td><td>                                                               </td></tr>\n",
       "\t<tr><td>.       </td><td>r_training_session_3_script</td><td>                                                               </td></tr>\n",
       "\t<tr><td>.       </td><td>r_training_session_4       </td><td>                                                               </td></tr>\n",
       "\t<tr><td>.       </td><td>worms                      </td><td>                                                               </td></tr>\n",
       "</tbody>\n",
       "</table>\n",
       "\n",
       "<p>Use ‘data(package = .packages(all.available = TRUE))’\n",
       "to list the data sets in all *available* packages.</p>"
      ],
      "text/plain": [
       "Data sets in package ‘.’:\n",
       "\n",
       "bp_dataset_session4     \n",
       "code_session2           \n",
       "plotting_arguments      \n",
       "r_training_session_2_script\n",
       "                        \n",
       "r_training_session_3_script\n",
       "                        \n",
       "r_training_session_4    \n",
       "worms                   \n",
       "Data sets in package ‘datasets’:\n",
       "\n",
       "AirPassengers           Monthly Airline Passenger Numbers 1949-1960\n",
       "BJsales                 Sales Data with Leading Indicator\n",
       "BJsales.lead (BJsales)\n",
       "                        Sales Data with Leading Indicator\n",
       "BOD                     Biochemical Oxygen Demand\n",
       "CO2                     Carbon Dioxide Uptake in Grass Plants\n",
       "ChickWeight             Weight versus age of chicks on different diets\n",
       "DNase                   Elisa assay of DNase\n",
       "EuStockMarkets          Daily Closing Prices of Major European Stock\n",
       "                        Indices, 1991-1998\n",
       "Formaldehyde            Determination of Formaldehyde\n",
       "HairEyeColor            Hair and Eye Color of Statistics Students\n",
       "Harman23.cor            Harman Example 2.3\n",
       "Harman74.cor            Harman Example 7.4\n",
       "Indometh                Pharmacokinetics of Indomethacin\n",
       "InsectSprays            Effectiveness of Insect Sprays\n",
       "JohnsonJohnson          Quarterly Earnings per Johnson & Johnson Share\n",
       "LakeHuron               Level of Lake Huron 1875-1972\n",
       "LifeCycleSavings        Intercountry Life-Cycle Savings Data\n",
       "Loblolly                Growth of Loblolly pine trees\n",
       "Nile                    Flow of the River Nile\n",
       "Orange                  Growth of Orange Trees\n",
       "OrchardSprays           Potency of Orchard Sprays\n",
       "PlantGrowth             Results from an Experiment on Plant Growth\n",
       "Puromycin               Reaction Velocity of an Enzymatic Reaction\n",
       "Seatbelts               Road Casualties in Great Britain 1969-84\n",
       "Theoph                  Pharmacokinetics of Theophylline\n",
       "Titanic                 Survival of passengers on the Titanic\n",
       "ToothGrowth             The Effect of Vitamin C on Tooth Growth in\n",
       "                        Guinea Pigs\n",
       "UCBAdmissions           Student Admissions at UC Berkeley\n",
       "UKDriverDeaths          Road Casualties in Great Britain 1969-84\n",
       "UKgas                   UK Quarterly Gas Consumption\n",
       "USAccDeaths             Accidental Deaths in the US 1973-1978\n",
       "USArrests               Violent Crime Rates by US State\n",
       "USJudgeRatings          Lawyers' Ratings of State Judges in the US\n",
       "                        Superior Court\n",
       "USPersonalExpenditure   Personal Expenditure Data\n",
       "UScitiesD               Distances Between European Cities and Between\n",
       "                        US Cities\n",
       "VADeaths                Death Rates in Virginia (1940)\n",
       "WWWusage                Internet Usage per Minute\n",
       "WorldPhones             The World's Telephones\n",
       "ability.cov             Ability and Intelligence Tests\n",
       "airmiles                Passenger Miles on Commercial US Airlines,\n",
       "                        1937-1960\n",
       "airquality              New York Air Quality Measurements\n",
       "anscombe                Anscombe's Quartet of 'Identical' Simple Linear\n",
       "                        Regressions\n",
       "attenu                  The Joyner-Boore Attenuation Data\n",
       "attitude                The Chatterjee-Price Attitude Data\n",
       "austres                 Quarterly Time Series of the Number of\n",
       "                        Australian Residents\n",
       "beaver1 (beavers)       Body Temperature Series of Two Beavers\n",
       "beaver2 (beavers)       Body Temperature Series of Two Beavers\n",
       "cars                    Speed and Stopping Distances of Cars\n",
       "chickwts                Chicken Weights by Feed Type\n",
       "co2                     Mauna Loa Atmospheric CO2 Concentration\n",
       "crimtab                 Student's 3000 Criminals Data\n",
       "discoveries             Yearly Numbers of Important Discoveries\n",
       "esoph                   Smoking, Alcohol and (O)esophageal Cancer\n",
       "euro                    Conversion Rates of Euro Currencies\n",
       "euro.cross (euro)       Conversion Rates of Euro Currencies\n",
       "eurodist                Distances Between European Cities and Between\n",
       "                        US Cities\n",
       "faithful                Old Faithful Geyser Data\n",
       "fdeaths (UKLungDeaths)\n",
       "                        Monthly Deaths from Lung Diseases in the UK\n",
       "freeny                  Freeny's Revenue Data\n",
       "freeny.x (freeny)       Freeny's Revenue Data\n",
       "freeny.y (freeny)       Freeny's Revenue Data\n",
       "infert                  Infertility after Spontaneous and Induced\n",
       "                        Abortion\n",
       "iris                    Edgar Anderson's Iris Data\n",
       "iris3                   Edgar Anderson's Iris Data\n",
       "islands                 Areas of the World's Major Landmasses\n",
       "ldeaths (UKLungDeaths)\n",
       "                        Monthly Deaths from Lung Diseases in the UK\n",
       "lh                      Luteinizing Hormone in Blood Samples\n",
       "longley                 Longley's Economic Regression Data\n",
       "lynx                    Annual Canadian Lynx trappings 1821-1934\n",
       "mdeaths (UKLungDeaths)\n",
       "                        Monthly Deaths from Lung Diseases in the UK\n",
       "morley                  Michelson Speed of Light Data\n",
       "mtcars                  Motor Trend Car Road Tests\n",
       "nhtemp                  Average Yearly Temperatures in New Haven\n",
       "nottem                  Average Monthly Temperatures at Nottingham,\n",
       "                        1920-1939\n",
       "npk                     Classical N, P, K Factorial Experiment\n",
       "occupationalStatus      Occupational Status of Fathers and their Sons\n",
       "precip                  Annual Precipitation in US Cities\n",
       "presidents              Quarterly Approval Ratings of US Presidents\n",
       "pressure                Vapor Pressure of Mercury as a Function of\n",
       "                        Temperature\n",
       "quakes                  Locations of Earthquakes off Fiji\n",
       "randu                   Random Numbers from Congruential Generator\n",
       "                        RANDU\n",
       "rivers                  Lengths of Major North American Rivers\n",
       "rock                    Measurements on Petroleum Rock Samples\n",
       "sleep                   Student's Sleep Data\n",
       "stack.loss (stackloss)\n",
       "                        Brownlee's Stack Loss Plant Data\n",
       "stack.x (stackloss)     Brownlee's Stack Loss Plant Data\n",
       "stackloss               Brownlee's Stack Loss Plant Data\n",
       "state.abb (state)       US State Facts and Figures\n",
       "state.area (state)      US State Facts and Figures\n",
       "state.center (state)    US State Facts and Figures\n",
       "state.division (state)\n",
       "                        US State Facts and Figures\n",
       "state.name (state)      US State Facts and Figures\n",
       "state.region (state)    US State Facts and Figures\n",
       "state.x77 (state)       US State Facts and Figures\n",
       "sunspot.month           Monthly Sunspot Data, from 1749 to \"Present\"\n",
       "sunspot.year            Yearly Sunspot Data, 1700-1988\n",
       "sunspots                Monthly Sunspot Numbers, 1749-1983\n",
       "swiss                   Swiss Fertility and Socioeconomic Indicators\n",
       "                        (1888) Data\n",
       "treering                Yearly Treering Data, -6000-1979\n",
       "trees                   Diameter, Height and Volume for Black Cherry\n",
       "                        Trees\n",
       "uspop                   Populations Recorded by the US Census\n",
       "volcano                 Topographic Information on Auckland's Maunga\n",
       "                        Whau Volcano\n",
       "warpbreaks              The Number of Breaks in Yarn during Weaving\n",
       "women                   Average Heights and Weights for American Women\n",
       "\n",
       "Use ‘data(package = .packages(all.available = TRUE))’\n",
       "to list the data sets in all *available* packages."
      ]
     },
     "metadata": {},
     "output_type": "display_data"
    }
   ],
   "source": [
    "data()"
   ]
  },
  {
   "cell_type": "markdown",
   "id": "4ebfe78a-23e8-4e8d-8185-769a21bf6a18",
   "metadata": {
    "editable": true,
    "slideshow": {
     "slide_type": ""
    },
    "tags": []
   },
   "source": [
    "This command won't produce any output but open a file in the scripts pane that lists the available datasets. \n",
    "In this session, we will be using the built-in R data sets stored in the variables ```iris``` & ```mtcars```. \n",
    "By having our data stored in a variable means we can easily use it with R functions and start to\n",
    "manipulate or process it. Note that we are using the word data very loosely, it can refer to any form of \n",
    "information we want to store.\n",
    "\n",
    "## Exploring datasets\n",
    "\n",
    "Let's take a closer look at the `iris` data.\n",
    "\n",
    "First, let's ask what type of thing `iris` is using the function ```class()``` for.\n"
   ]
  },
  {
   "cell_type": "code",
   "execution_count": 2,
   "id": "857c1c25-aad3-41fd-a979-d2e245546cb1",
   "metadata": {
    "editable": true,
    "slideshow": {
     "slide_type": ""
    },
    "tags": []
   },
   "outputs": [
    {
     "data": {
      "text/html": [
       "'data.frame'"
      ],
      "text/latex": [
       "'data.frame'"
      ],
      "text/markdown": [
       "'data.frame'"
      ],
      "text/plain": [
       "[1] \"data.frame\""
      ]
     },
     "metadata": {},
     "output_type": "display_data"
    }
   ],
   "source": [
    "class(iris)"
   ]
  },
  {
   "cell_type": "markdown",
   "id": "f03c7f60-588a-4841-9092-b5fadc31c20a",
   "metadata": {
    "editable": true,
    "slideshow": {
     "slide_type": ""
    },
    "tags": []
   },
   "source": [
    "The output tells us that it is a data frame. A data frame is an example of an R object, and can be defined by certain properties. A data frame is comparable to a spreadsheet in MS Excel as it is a 2 dimensional object (i.e. has rows and columns). Data frames are very useful for storing data, especially if you are used to work with your data in tables. A typical data frame of experimental data contains individual observations in rows and variables in columns.\n",
    "We can see the shape, or dimensions, of the data frame with the function ```dim()```:"
   ]
  },
  {
   "cell_type": "code",
   "execution_count": 3,
   "id": "1d04d251-bc09-461e-982c-3d02f1bdf9df",
   "metadata": {
    "editable": true,
    "slideshow": {
     "slide_type": ""
    },
    "tags": []
   },
   "outputs": [
    {
     "data": {
      "text/html": [
       "<style>\n",
       ".list-inline {list-style: none; margin:0; padding: 0}\n",
       ".list-inline>li {display: inline-block}\n",
       ".list-inline>li:not(:last-child)::after {content: \"\\00b7\"; padding: 0 .5ex}\n",
       "</style>\n",
       "<ol class=list-inline><li>150</li><li>5</li></ol>\n"
      ],
      "text/latex": [
       "\\begin{enumerate*}\n",
       "\\item 150\n",
       "\\item 5\n",
       "\\end{enumerate*}\n"
      ],
      "text/markdown": [
       "1. 150\n",
       "2. 5\n",
       "\n",
       "\n"
      ],
      "text/plain": [
       "[1] 150   5"
      ]
     },
     "metadata": {},
     "output_type": "display_data"
    }
   ],
   "source": [
    "dim(iris)"
   ]
  },
  {
   "cell_type": "markdown",
   "id": "2af7c177-af90-4c3a-8bf1-c9381a1b4efa",
   "metadata": {
    "editable": true,
    "slideshow": {
     "slide_type": ""
    },
    "tags": []
   },
   "source": [
    "This tells us that our data frame, `iris`, has 150 rows and 5 columns.\n",
    "\n",
    "\n",
    "To explore data frames, there are a number of relevant functions:\n",
    "\n",
    "* ```head()``` - shows first 6 rows\n",
    "* ```tail()``` - shows last 6 rows\n",
    "* ```dim()``` - returns the dimensions of data frame (i.e. number of rows and number of columns)\n",
    "* ```nrow()``` - number of rows\n",
    "* ```ncol()```- number of columns\n",
    "* ```str()``` - structure of data frame - name, type and preview of data in each column\n",
    "* ```names()``` or ```colnames()``` - both show the names attribute for a data frame\n",
    "\n",
    "# Subsetting Data\n",
    "\n",
    "There are many occasions we want to \"look\" at some part of the data. Extracting a subset is known as slicing.\n",
    "If we want to get a single value from the data frame, we can index a specific position using square brackets.\n",
    "If you are familiar with matrices we index in the same way. For example, to get the element in the top left corner, i.e. in the first row and first column we run:"
   ]
  },
  {
   "cell_type": "code",
   "execution_count": 4,
   "id": "5e0226b6-0c85-4264-9be8-6889b44ef0b6",
   "metadata": {
    "editable": true,
    "slideshow": {
     "slide_type": ""
    },
    "tags": []
   },
   "outputs": [
    {
     "data": {
      "text/html": [
       "5.1"
      ],
      "text/latex": [
       "5.1"
      ],
      "text/markdown": [
       "5.1"
      ],
      "text/plain": [
       "[1] 5.1"
      ]
     },
     "metadata": {},
     "output_type": "display_data"
    }
   ],
   "source": [
    "iris[1, 1]"
   ]
  },
  {
   "cell_type": "markdown",
   "id": "0c910b72-4520-4349-af48-be417b510323",
   "metadata": {
    "editable": true,
    "slideshow": {
     "slide_type": ""
    },
    "tags": []
   },
   "source": [
    "We can use this principle to extract any entry of the matrix. For example the 30th row and 3rd column"
   ]
  },
  {
   "cell_type": "code",
   "execution_count": 5,
   "id": "df6f0878-2e82-4d5f-baee-610986f458be",
   "metadata": {
    "editable": true,
    "slideshow": {
     "slide_type": ""
    },
    "tags": []
   },
   "outputs": [
    {
     "data": {
      "text/html": [
       "1.6"
      ],
      "text/latex": [
       "1.6"
      ],
      "text/markdown": [
       "1.6"
      ],
      "text/plain": [
       "[1] 1.6"
      ]
     },
     "metadata": {},
     "output_type": "display_data"
    }
   ],
   "source": [
    "iris[30,3]"
   ]
  },
  {
   "cell_type": "markdown",
   "id": "2485a05f-a7eb-490d-a395-a7170bf713e3",
   "metadata": {
    "editable": true,
    "slideshow": {
     "slide_type": ""
    },
    "tags": []
   },
   "source": [
    "An index like ``[30, 3]``` selects a single element of a data frame, but we can select larger sections as well. For example, we can select the first three columns of values for the first four rows like this:"
   ]
  },
  {
   "cell_type": "code",
   "execution_count": 6,
   "id": "d919e5bd-e3cd-4bbe-a8c5-21f484414af4",
   "metadata": {
    "editable": true,
    "slideshow": {
     "slide_type": ""
    },
    "tags": []
   },
   "outputs": [
    {
     "data": {
      "text/html": [
       "<table class=\"dataframe\">\n",
       "<caption>A data.frame: 4 × 3</caption>\n",
       "<thead>\n",
       "\t<tr><th></th><th scope=col>Sepal.Length</th><th scope=col>Sepal.Width</th><th scope=col>Petal.Length</th></tr>\n",
       "\t<tr><th></th><th scope=col>&lt;dbl&gt;</th><th scope=col>&lt;dbl&gt;</th><th scope=col>&lt;dbl&gt;</th></tr>\n",
       "</thead>\n",
       "<tbody>\n",
       "\t<tr><th scope=row>1</th><td>5.1</td><td>3.5</td><td>1.4</td></tr>\n",
       "\t<tr><th scope=row>2</th><td>4.9</td><td>3.0</td><td>1.4</td></tr>\n",
       "\t<tr><th scope=row>3</th><td>4.7</td><td>3.2</td><td>1.3</td></tr>\n",
       "\t<tr><th scope=row>4</th><td>4.6</td><td>3.1</td><td>1.5</td></tr>\n",
       "</tbody>\n",
       "</table>\n"
      ],
      "text/latex": [
       "A data.frame: 4 × 3\n",
       "\\begin{tabular}{r|lll}\n",
       "  & Sepal.Length & Sepal.Width & Petal.Length\\\\\n",
       "  & <dbl> & <dbl> & <dbl>\\\\\n",
       "\\hline\n",
       "\t1 & 5.1 & 3.5 & 1.4\\\\\n",
       "\t2 & 4.9 & 3.0 & 1.4\\\\\n",
       "\t3 & 4.7 & 3.2 & 1.3\\\\\n",
       "\t4 & 4.6 & 3.1 & 1.5\\\\\n",
       "\\end{tabular}\n"
      ],
      "text/markdown": [
       "\n",
       "A data.frame: 4 × 3\n",
       "\n",
       "| <!--/--> | Sepal.Length &lt;dbl&gt; | Sepal.Width &lt;dbl&gt; | Petal.Length &lt;dbl&gt; |\n",
       "|---|---|---|---|\n",
       "| 1 | 5.1 | 3.5 | 1.4 |\n",
       "| 2 | 4.9 | 3.0 | 1.4 |\n",
       "| 3 | 4.7 | 3.2 | 1.3 |\n",
       "| 4 | 4.6 | 3.1 | 1.5 |\n",
       "\n"
      ],
      "text/plain": [
       "  Sepal.Length Sepal.Width Petal.Length\n",
       "1 5.1          3.5         1.4         \n",
       "2 4.9          3.0         1.4         \n",
       "3 4.7          3.2         1.3         \n",
       "4 4.6          3.1         1.5         "
      ]
     },
     "metadata": {},
     "output_type": "display_data"
    }
   ],
   "source": [
    "iris[1:4, 1:3]"
   ]
  },
  {
   "cell_type": "markdown",
   "id": "ec3b9796-f760-4926-95e1-4d775d9f045c",
   "metadata": {
    "editable": true,
    "slideshow": {
     "slide_type": ""
    },
    "tags": []
   },
   "source": [
    "The slice ```1:4``` means, \"Start at index 1 and go to index 4.\" The slice does not need to start at 1, e.g. the line below selects rows 5 through 10:"
   ]
  },
  {
   "cell_type": "code",
   "execution_count": 7,
   "id": "0665c8fc-30b5-424e-a3c2-e4834e5c3c85",
   "metadata": {
    "editable": true,
    "slideshow": {
     "slide_type": ""
    },
    "tags": []
   },
   "outputs": [
    {
     "data": {
      "text/html": [
       "<table class=\"dataframe\">\n",
       "<caption>A data.frame: 6 × 3</caption>\n",
       "<thead>\n",
       "\t<tr><th></th><th scope=col>Sepal.Length</th><th scope=col>Sepal.Width</th><th scope=col>Petal.Length</th></tr>\n",
       "\t<tr><th></th><th scope=col>&lt;dbl&gt;</th><th scope=col>&lt;dbl&gt;</th><th scope=col>&lt;dbl&gt;</th></tr>\n",
       "</thead>\n",
       "<tbody>\n",
       "\t<tr><th scope=row>5</th><td>5.0</td><td>3.6</td><td>1.4</td></tr>\n",
       "\t<tr><th scope=row>6</th><td>5.4</td><td>3.9</td><td>1.7</td></tr>\n",
       "\t<tr><th scope=row>7</th><td>4.6</td><td>3.4</td><td>1.4</td></tr>\n",
       "\t<tr><th scope=row>8</th><td>5.0</td><td>3.4</td><td>1.5</td></tr>\n",
       "\t<tr><th scope=row>9</th><td>4.4</td><td>2.9</td><td>1.4</td></tr>\n",
       "\t<tr><th scope=row>10</th><td>4.9</td><td>3.1</td><td>1.5</td></tr>\n",
       "</tbody>\n",
       "</table>\n"
      ],
      "text/latex": [
       "A data.frame: 6 × 3\n",
       "\\begin{tabular}{r|lll}\n",
       "  & Sepal.Length & Sepal.Width & Petal.Length\\\\\n",
       "  & <dbl> & <dbl> & <dbl>\\\\\n",
       "\\hline\n",
       "\t5 & 5.0 & 3.6 & 1.4\\\\\n",
       "\t6 & 5.4 & 3.9 & 1.7\\\\\n",
       "\t7 & 4.6 & 3.4 & 1.4\\\\\n",
       "\t8 & 5.0 & 3.4 & 1.5\\\\\n",
       "\t9 & 4.4 & 2.9 & 1.4\\\\\n",
       "\t10 & 4.9 & 3.1 & 1.5\\\\\n",
       "\\end{tabular}\n"
      ],
      "text/markdown": [
       "\n",
       "A data.frame: 6 × 3\n",
       "\n",
       "| <!--/--> | Sepal.Length &lt;dbl&gt; | Sepal.Width &lt;dbl&gt; | Petal.Length &lt;dbl&gt; |\n",
       "|---|---|---|---|\n",
       "| 5 | 5.0 | 3.6 | 1.4 |\n",
       "| 6 | 5.4 | 3.9 | 1.7 |\n",
       "| 7 | 4.6 | 3.4 | 1.4 |\n",
       "| 8 | 5.0 | 3.4 | 1.5 |\n",
       "| 9 | 4.4 | 2.9 | 1.4 |\n",
       "| 10 | 4.9 | 3.1 | 1.5 |\n",
       "\n"
      ],
      "text/plain": [
       "   Sepal.Length Sepal.Width Petal.Length\n",
       "5  5.0          3.6         1.4         \n",
       "6  5.4          3.9         1.7         \n",
       "7  4.6          3.4         1.4         \n",
       "8  5.0          3.4         1.5         \n",
       "9  4.4          2.9         1.4         \n",
       "10 4.9          3.1         1.5         "
      ]
     },
     "metadata": {},
     "output_type": "display_data"
    }
   ],
   "source": [
    "iris[5:10, 1:3]"
   ]
  },
  {
   "cell_type": "markdown",
   "id": "cd0fb2cf-2854-452d-b86b-143ea4a3729f",
   "metadata": {
    "editable": true,
    "slideshow": {
     "slide_type": ""
    },
    "tags": []
   },
   "source": [
    "We can use the function ```c()```, which stands for **c**ombine, to select non-contiguous entries:"
   ]
  },
  {
   "cell_type": "code",
   "execution_count": 8,
   "id": "fe89de0e-3689-44aa-aa90-a946cf589154",
   "metadata": {
    "editable": true,
    "slideshow": {
     "slide_type": ""
    },
    "tags": []
   },
   "outputs": [
    {
     "data": {
      "text/html": [
       "<table class=\"dataframe\">\n",
       "<caption>A data.frame: 4 × 2</caption>\n",
       "<thead>\n",
       "\t<tr><th></th><th scope=col>Sepal.Length</th><th scope=col>Petal.Length</th></tr>\n",
       "\t<tr><th></th><th scope=col>&lt;dbl&gt;</th><th scope=col>&lt;dbl&gt;</th></tr>\n",
       "</thead>\n",
       "<tbody>\n",
       "\t<tr><th scope=row>3</th><td>4.7</td><td>1.3</td></tr>\n",
       "\t<tr><th scope=row>8</th><td>5.0</td><td>1.5</td></tr>\n",
       "\t<tr><th scope=row>37</th><td>5.5</td><td>1.3</td></tr>\n",
       "\t<tr><th scope=row>56</th><td>5.7</td><td>4.5</td></tr>\n",
       "</tbody>\n",
       "</table>\n"
      ],
      "text/latex": [
       "A data.frame: 4 × 2\n",
       "\\begin{tabular}{r|ll}\n",
       "  & Sepal.Length & Petal.Length\\\\\n",
       "  & <dbl> & <dbl>\\\\\n",
       "\\hline\n",
       "\t3 & 4.7 & 1.3\\\\\n",
       "\t8 & 5.0 & 1.5\\\\\n",
       "\t37 & 5.5 & 1.3\\\\\n",
       "\t56 & 5.7 & 4.5\\\\\n",
       "\\end{tabular}\n"
      ],
      "text/markdown": [
       "\n",
       "A data.frame: 4 × 2\n",
       "\n",
       "| <!--/--> | Sepal.Length &lt;dbl&gt; | Petal.Length &lt;dbl&gt; |\n",
       "|---|---|---|\n",
       "| 3 | 4.7 | 1.3 |\n",
       "| 8 | 5.0 | 1.5 |\n",
       "| 37 | 5.5 | 1.3 |\n",
       "| 56 | 5.7 | 4.5 |\n",
       "\n"
      ],
      "text/plain": [
       "   Sepal.Length Petal.Length\n",
       "3  4.7          1.3         \n",
       "8  5.0          1.5         \n",
       "37 5.5          1.3         \n",
       "56 5.7          4.5         "
      ]
     },
     "metadata": {},
     "output_type": "display_data"
    }
   ],
   "source": [
    "iris[c(3, 8, 37, 56), c(1,3)]"
   ]
  },
  {
   "cell_type": "markdown",
   "id": "5113f0b1-9d3e-4d36-b04d-ef47ab8a5335",
   "metadata": {
    "editable": true,
    "slideshow": {
     "slide_type": ""
    },
    "tags": []
   },
   "source": [
    "We also don't have to provide a slice for either the rows or the columns. If we don't include a slice for the rows, R returns all the rows; if we don't include a slice for the columns, R returns all the columns. If we don't provide a slice for either rows or columns, e.g. `iris[, ]`, R returns the full data frame.\n"
   ]
  },
  {
   "cell_type": "code",
   "execution_count": 9,
   "id": "a191ff35-b9e9-49a3-87b5-f5253b5db509",
   "metadata": {
    "editable": true,
    "slideshow": {
     "slide_type": ""
    },
    "tags": []
   },
   "outputs": [
    {
     "data": {
      "text/html": [
       "<table class=\"dataframe\">\n",
       "<caption>A data.frame: 1 × 5</caption>\n",
       "<thead>\n",
       "\t<tr><th></th><th scope=col>Sepal.Length</th><th scope=col>Sepal.Width</th><th scope=col>Petal.Length</th><th scope=col>Petal.Width</th><th scope=col>Species</th></tr>\n",
       "\t<tr><th></th><th scope=col>&lt;dbl&gt;</th><th scope=col>&lt;dbl&gt;</th><th scope=col>&lt;dbl&gt;</th><th scope=col>&lt;dbl&gt;</th><th scope=col>&lt;fct&gt;</th></tr>\n",
       "</thead>\n",
       "<tbody>\n",
       "\t<tr><th scope=row>5</th><td>5</td><td>3.6</td><td>1.4</td><td>0.2</td><td>setosa</td></tr>\n",
       "</tbody>\n",
       "</table>\n"
      ],
      "text/latex": [
       "A data.frame: 1 × 5\n",
       "\\begin{tabular}{r|lllll}\n",
       "  & Sepal.Length & Sepal.Width & Petal.Length & Petal.Width & Species\\\\\n",
       "  & <dbl> & <dbl> & <dbl> & <dbl> & <fct>\\\\\n",
       "\\hline\n",
       "\t5 & 5 & 3.6 & 1.4 & 0.2 & setosa\\\\\n",
       "\\end{tabular}\n"
      ],
      "text/markdown": [
       "\n",
       "A data.frame: 1 × 5\n",
       "\n",
       "| <!--/--> | Sepal.Length &lt;dbl&gt; | Sepal.Width &lt;dbl&gt; | Petal.Length &lt;dbl&gt; | Petal.Width &lt;dbl&gt; | Species &lt;fct&gt; |\n",
       "|---|---|---|---|---|---|\n",
       "| 5 | 5 | 3.6 | 1.4 | 0.2 | setosa |\n",
       "\n"
      ],
      "text/plain": [
       "  Sepal.Length Sepal.Width Petal.Length Petal.Width Species\n",
       "5 5            3.6         1.4          0.2         setosa "
      ]
     },
     "metadata": {},
     "output_type": "display_data"
    }
   ],
   "source": [
    "iris[5, ]"
   ]
  },
  {
   "cell_type": "code",
   "execution_count": 10,
   "id": "87b1148b-6ce4-4100-b4c3-2b19cdaacd05",
   "metadata": {
    "editable": true,
    "slideshow": {
     "slide_type": ""
    },
    "tags": []
   },
   "outputs": [
    {
     "data": {
      "text/html": [
       "<style>\n",
       ".list-inline {list-style: none; margin:0; padding: 0}\n",
       ".list-inline>li {display: inline-block}\n",
       ".list-inline>li:not(:last-child)::after {content: \"\\00b7\"; padding: 0 .5ex}\n",
       "</style>\n",
       "<ol class=list-inline><li>3.5</li><li>3</li><li>3.2</li><li>3.1</li><li>3.6</li><li>3.9</li><li>3.4</li><li>3.4</li><li>2.9</li><li>3.1</li><li>3.7</li><li>3.4</li><li>3</li><li>3</li><li>4</li><li>4.4</li><li>3.9</li><li>3.5</li><li>3.8</li><li>3.8</li><li>3.4</li><li>3.7</li><li>3.6</li><li>3.3</li><li>3.4</li><li>3</li><li>3.4</li><li>3.5</li><li>3.4</li><li>3.2</li><li>3.1</li><li>3.4</li><li>4.1</li><li>4.2</li><li>3.1</li><li>3.2</li><li>3.5</li><li>3.6</li><li>3</li><li>3.4</li><li>3.5</li><li>2.3</li><li>3.2</li><li>3.5</li><li>3.8</li><li>3</li><li>3.8</li><li>3.2</li><li>3.7</li><li>3.3</li><li>3.2</li><li>3.2</li><li>3.1</li><li>2.3</li><li>2.8</li><li>2.8</li><li>3.3</li><li>2.4</li><li>2.9</li><li>2.7</li><li>2</li><li>3</li><li>2.2</li><li>2.9</li><li>2.9</li><li>3.1</li><li>3</li><li>2.7</li><li>2.2</li><li>2.5</li><li>3.2</li><li>2.8</li><li>2.5</li><li>2.8</li><li>2.9</li><li>3</li><li>2.8</li><li>3</li><li>2.9</li><li>2.6</li><li>2.4</li><li>2.4</li><li>2.7</li><li>2.7</li><li>3</li><li>3.4</li><li>3.1</li><li>2.3</li><li>3</li><li>2.5</li><li>2.6</li><li>3</li><li>2.6</li><li>2.3</li><li>2.7</li><li>3</li><li>2.9</li><li>2.9</li><li>2.5</li><li>2.8</li><li>3.3</li><li>2.7</li><li>3</li><li>2.9</li><li>3</li><li>3</li><li>2.5</li><li>2.9</li><li>2.5</li><li>3.6</li><li>3.2</li><li>2.7</li><li>3</li><li>2.5</li><li>2.8</li><li>3.2</li><li>3</li><li>3.8</li><li>2.6</li><li>2.2</li><li>3.2</li><li>2.8</li><li>2.8</li><li>2.7</li><li>3.3</li><li>3.2</li><li>2.8</li><li>3</li><li>2.8</li><li>3</li><li>2.8</li><li>3.8</li><li>2.8</li><li>2.8</li><li>2.6</li><li>3</li><li>3.4</li><li>3.1</li><li>3</li><li>3.1</li><li>3.1</li><li>3.1</li><li>2.7</li><li>3.2</li><li>3.3</li><li>3</li><li>2.5</li><li>3</li><li>3.4</li><li>3</li></ol>\n"
      ],
      "text/latex": [
       "\\begin{enumerate*}\n",
       "\\item 3.5\n",
       "\\item 3\n",
       "\\item 3.2\n",
       "\\item 3.1\n",
       "\\item 3.6\n",
       "\\item 3.9\n",
       "\\item 3.4\n",
       "\\item 3.4\n",
       "\\item 2.9\n",
       "\\item 3.1\n",
       "\\item 3.7\n",
       "\\item 3.4\n",
       "\\item 3\n",
       "\\item 3\n",
       "\\item 4\n",
       "\\item 4.4\n",
       "\\item 3.9\n",
       "\\item 3.5\n",
       "\\item 3.8\n",
       "\\item 3.8\n",
       "\\item 3.4\n",
       "\\item 3.7\n",
       "\\item 3.6\n",
       "\\item 3.3\n",
       "\\item 3.4\n",
       "\\item 3\n",
       "\\item 3.4\n",
       "\\item 3.5\n",
       "\\item 3.4\n",
       "\\item 3.2\n",
       "\\item 3.1\n",
       "\\item 3.4\n",
       "\\item 4.1\n",
       "\\item 4.2\n",
       "\\item 3.1\n",
       "\\item 3.2\n",
       "\\item 3.5\n",
       "\\item 3.6\n",
       "\\item 3\n",
       "\\item 3.4\n",
       "\\item 3.5\n",
       "\\item 2.3\n",
       "\\item 3.2\n",
       "\\item 3.5\n",
       "\\item 3.8\n",
       "\\item 3\n",
       "\\item 3.8\n",
       "\\item 3.2\n",
       "\\item 3.7\n",
       "\\item 3.3\n",
       "\\item 3.2\n",
       "\\item 3.2\n",
       "\\item 3.1\n",
       "\\item 2.3\n",
       "\\item 2.8\n",
       "\\item 2.8\n",
       "\\item 3.3\n",
       "\\item 2.4\n",
       "\\item 2.9\n",
       "\\item 2.7\n",
       "\\item 2\n",
       "\\item 3\n",
       "\\item 2.2\n",
       "\\item 2.9\n",
       "\\item 2.9\n",
       "\\item 3.1\n",
       "\\item 3\n",
       "\\item 2.7\n",
       "\\item 2.2\n",
       "\\item 2.5\n",
       "\\item 3.2\n",
       "\\item 2.8\n",
       "\\item 2.5\n",
       "\\item 2.8\n",
       "\\item 2.9\n",
       "\\item 3\n",
       "\\item 2.8\n",
       "\\item 3\n",
       "\\item 2.9\n",
       "\\item 2.6\n",
       "\\item 2.4\n",
       "\\item 2.4\n",
       "\\item 2.7\n",
       "\\item 2.7\n",
       "\\item 3\n",
       "\\item 3.4\n",
       "\\item 3.1\n",
       "\\item 2.3\n",
       "\\item 3\n",
       "\\item 2.5\n",
       "\\item 2.6\n",
       "\\item 3\n",
       "\\item 2.6\n",
       "\\item 2.3\n",
       "\\item 2.7\n",
       "\\item 3\n",
       "\\item 2.9\n",
       "\\item 2.9\n",
       "\\item 2.5\n",
       "\\item 2.8\n",
       "\\item 3.3\n",
       "\\item 2.7\n",
       "\\item 3\n",
       "\\item 2.9\n",
       "\\item 3\n",
       "\\item 3\n",
       "\\item 2.5\n",
       "\\item 2.9\n",
       "\\item 2.5\n",
       "\\item 3.6\n",
       "\\item 3.2\n",
       "\\item 2.7\n",
       "\\item 3\n",
       "\\item 2.5\n",
       "\\item 2.8\n",
       "\\item 3.2\n",
       "\\item 3\n",
       "\\item 3.8\n",
       "\\item 2.6\n",
       "\\item 2.2\n",
       "\\item 3.2\n",
       "\\item 2.8\n",
       "\\item 2.8\n",
       "\\item 2.7\n",
       "\\item 3.3\n",
       "\\item 3.2\n",
       "\\item 2.8\n",
       "\\item 3\n",
       "\\item 2.8\n",
       "\\item 3\n",
       "\\item 2.8\n",
       "\\item 3.8\n",
       "\\item 2.8\n",
       "\\item 2.8\n",
       "\\item 2.6\n",
       "\\item 3\n",
       "\\item 3.4\n",
       "\\item 3.1\n",
       "\\item 3\n",
       "\\item 3.1\n",
       "\\item 3.1\n",
       "\\item 3.1\n",
       "\\item 2.7\n",
       "\\item 3.2\n",
       "\\item 3.3\n",
       "\\item 3\n",
       "\\item 2.5\n",
       "\\item 3\n",
       "\\item 3.4\n",
       "\\item 3\n",
       "\\end{enumerate*}\n"
      ],
      "text/markdown": [
       "1. 3.5\n",
       "2. 3\n",
       "3. 3.2\n",
       "4. 3.1\n",
       "5. 3.6\n",
       "6. 3.9\n",
       "7. 3.4\n",
       "8. 3.4\n",
       "9. 2.9\n",
       "10. 3.1\n",
       "11. 3.7\n",
       "12. 3.4\n",
       "13. 3\n",
       "14. 3\n",
       "15. 4\n",
       "16. 4.4\n",
       "17. 3.9\n",
       "18. 3.5\n",
       "19. 3.8\n",
       "20. 3.8\n",
       "21. 3.4\n",
       "22. 3.7\n",
       "23. 3.6\n",
       "24. 3.3\n",
       "25. 3.4\n",
       "26. 3\n",
       "27. 3.4\n",
       "28. 3.5\n",
       "29. 3.4\n",
       "30. 3.2\n",
       "31. 3.1\n",
       "32. 3.4\n",
       "33. 4.1\n",
       "34. 4.2\n",
       "35. 3.1\n",
       "36. 3.2\n",
       "37. 3.5\n",
       "38. 3.6\n",
       "39. 3\n",
       "40. 3.4\n",
       "41. 3.5\n",
       "42. 2.3\n",
       "43. 3.2\n",
       "44. 3.5\n",
       "45. 3.8\n",
       "46. 3\n",
       "47. 3.8\n",
       "48. 3.2\n",
       "49. 3.7\n",
       "50. 3.3\n",
       "51. 3.2\n",
       "52. 3.2\n",
       "53. 3.1\n",
       "54. 2.3\n",
       "55. 2.8\n",
       "56. 2.8\n",
       "57. 3.3\n",
       "58. 2.4\n",
       "59. 2.9\n",
       "60. 2.7\n",
       "61. 2\n",
       "62. 3\n",
       "63. 2.2\n",
       "64. 2.9\n",
       "65. 2.9\n",
       "66. 3.1\n",
       "67. 3\n",
       "68. 2.7\n",
       "69. 2.2\n",
       "70. 2.5\n",
       "71. 3.2\n",
       "72. 2.8\n",
       "73. 2.5\n",
       "74. 2.8\n",
       "75. 2.9\n",
       "76. 3\n",
       "77. 2.8\n",
       "78. 3\n",
       "79. 2.9\n",
       "80. 2.6\n",
       "81. 2.4\n",
       "82. 2.4\n",
       "83. 2.7\n",
       "84. 2.7\n",
       "85. 3\n",
       "86. 3.4\n",
       "87. 3.1\n",
       "88. 2.3\n",
       "89. 3\n",
       "90. 2.5\n",
       "91. 2.6\n",
       "92. 3\n",
       "93. 2.6\n",
       "94. 2.3\n",
       "95. 2.7\n",
       "96. 3\n",
       "97. 2.9\n",
       "98. 2.9\n",
       "99. 2.5\n",
       "100. 2.8\n",
       "101. 3.3\n",
       "102. 2.7\n",
       "103. 3\n",
       "104. 2.9\n",
       "105. 3\n",
       "106. 3\n",
       "107. 2.5\n",
       "108. 2.9\n",
       "109. 2.5\n",
       "110. 3.6\n",
       "111. 3.2\n",
       "112. 2.7\n",
       "113. 3\n",
       "114. 2.5\n",
       "115. 2.8\n",
       "116. 3.2\n",
       "117. 3\n",
       "118. 3.8\n",
       "119. 2.6\n",
       "120. 2.2\n",
       "121. 3.2\n",
       "122. 2.8\n",
       "123. 2.8\n",
       "124. 2.7\n",
       "125. 3.3\n",
       "126. 3.2\n",
       "127. 2.8\n",
       "128. 3\n",
       "129. 2.8\n",
       "130. 3\n",
       "131. 2.8\n",
       "132. 3.8\n",
       "133. 2.8\n",
       "134. 2.8\n",
       "135. 2.6\n",
       "136. 3\n",
       "137. 3.4\n",
       "138. 3.1\n",
       "139. 3\n",
       "140. 3.1\n",
       "141. 3.1\n",
       "142. 3.1\n",
       "143. 2.7\n",
       "144. 3.2\n",
       "145. 3.3\n",
       "146. 3\n",
       "147. 2.5\n",
       "148. 3\n",
       "149. 3.4\n",
       "150. 3\n",
       "\n",
       "\n"
      ],
      "text/plain": [
       "  [1] 3.5 3.0 3.2 3.1 3.6 3.9 3.4 3.4 2.9 3.1 3.7 3.4 3.0 3.0 4.0 4.4 3.9 3.5\n",
       " [19] 3.8 3.8 3.4 3.7 3.6 3.3 3.4 3.0 3.4 3.5 3.4 3.2 3.1 3.4 4.1 4.2 3.1 3.2\n",
       " [37] 3.5 3.6 3.0 3.4 3.5 2.3 3.2 3.5 3.8 3.0 3.8 3.2 3.7 3.3 3.2 3.2 3.1 2.3\n",
       " [55] 2.8 2.8 3.3 2.4 2.9 2.7 2.0 3.0 2.2 2.9 2.9 3.1 3.0 2.7 2.2 2.5 3.2 2.8\n",
       " [73] 2.5 2.8 2.9 3.0 2.8 3.0 2.9 2.6 2.4 2.4 2.7 2.7 3.0 3.4 3.1 2.3 3.0 2.5\n",
       " [91] 2.6 3.0 2.6 2.3 2.7 3.0 2.9 2.9 2.5 2.8 3.3 2.7 3.0 2.9 3.0 3.0 2.5 2.9\n",
       "[109] 2.5 3.6 3.2 2.7 3.0 2.5 2.8 3.2 3.0 3.8 2.6 2.2 3.2 2.8 2.8 2.7 3.3 3.2\n",
       "[127] 2.8 3.0 2.8 3.0 2.8 3.8 2.8 2.8 2.6 3.0 3.4 3.1 3.0 3.1 3.1 3.1 2.7 3.2\n",
       "[145] 3.3 3.0 2.5 3.0 3.4 3.0"
      ]
     },
     "metadata": {},
     "output_type": "display_data"
    }
   ],
   "source": [
    "iris[, 2]"
   ]
  },
  {
   "cell_type": "markdown",
   "id": "3edd08db-71b0-43ba-b505-f4eea5230ebd",
   "metadata": {},
   "source": [
    "# Addressing Columns by name \n",
    "Columns can also be addressed by name, with either the ```$``` operator (i.e. ```iris$Petal.Length```) or square brackets (ie. ```iris[,'Petal.Length']```).\n",
    "\n",
    "# Data Types \n",
    "\n",
    "One key feature of a data frame is each column is classed as a specific data type. \n",
    "\n",
    "*Data types*, or modes, define what the values are and how they can be used. \n",
    "\n",
    "There are __*5 core data types*:__\n",
    "\n",
    "* Numeric - all real numbers e.g. 7.5\n",
    "* Integer - e.g. 2\n",
    "* Complex - numbers with real and imaginary parts e.g. 1+4i\n",
    "* Character - consists of letters or numbers or symbols or a combination of these e.g. \"a\", \"f5\", \"datatypes\", \"Learning R is fun\"\n",
    "* Logical - only takes TRUE or FALSE.\n",
    "\n",
    "\n",
    "These data types are also used to characterise other one dimensional R objects such as individual values or vectors \n",
    "(more on these later). R provides a number of functions to examine the features of variables or objects. \n",
    "\n",
    "Some examples:\n",
    "\n",
    "* ```typeof()``` - what is the object’s data type (on the data storage level (\"what the computer sees\"))?\n",
    "* ```class()``` - what is the object's data type (on the abstract type level(\"what R sees\"))?\n",
    "* ```mode()``` - what is the object's data type (on the data storage level (\"what the computer sees\"))?\n",
    "* ```length()```- how long is it? \n",
    "* ```attributes()``` - does it have any metadata? \n",
    "* ```str``` - display the internal structure of an object.\n",
    "* ```is.numeric()```, ```is.character()```, ```is.complex()```, ```is.logical()``` - returns TRUE when an object is the datatype queried, FALSE if not.\n",
    "\n",
    "Let's define some variables we can use R to profile the charateristics of"
   ]
  },
  {
   "cell_type": "code",
   "execution_count": 11,
   "id": "04af36a6-e3bc-4fb8-9b7c-1ad00d062065",
   "metadata": {
    "editable": true,
    "slideshow": {
     "slide_type": ""
    },
    "tags": []
   },
   "outputs": [
    {
     "data": {
      "text/html": [
       "'character'"
      ],
      "text/latex": [
       "'character'"
      ],
      "text/markdown": [
       "'character'"
      ],
      "text/plain": [
       "[1] \"character\""
      ]
     },
     "metadata": {},
     "output_type": "display_data"
    }
   ],
   "source": [
    "x <- \"dataset\"\n",
    "typeof(x)"
   ]
  },
  {
   "cell_type": "code",
   "execution_count": 12,
   "id": "146d6b1f-7bd6-45e5-85f9-7a0c484d1f56",
   "metadata": {
    "editable": true,
    "slideshow": {
     "slide_type": ""
    },
    "tags": []
   },
   "outputs": [
    {
     "data": {
      "text/html": [
       "<style>\n",
       ".list-inline {list-style: none; margin:0; padding: 0}\n",
       ".list-inline>li {display: inline-block}\n",
       ".list-inline>li:not(:last-child)::after {content: \"\\00b7\"; padding: 0 .5ex}\n",
       "</style>\n",
       "<ol class=list-inline><li>1</li><li>2</li><li>3</li><li>4</li><li>5</li><li>6</li><li>7</li><li>8</li><li>9</li><li>10</li></ol>\n"
      ],
      "text/latex": [
       "\\begin{enumerate*}\n",
       "\\item 1\n",
       "\\item 2\n",
       "\\item 3\n",
       "\\item 4\n",
       "\\item 5\n",
       "\\item 6\n",
       "\\item 7\n",
       "\\item 8\n",
       "\\item 9\n",
       "\\item 10\n",
       "\\end{enumerate*}\n"
      ],
      "text/markdown": [
       "1. 1\n",
       "2. 2\n",
       "3. 3\n",
       "4. 4\n",
       "5. 5\n",
       "6. 6\n",
       "7. 7\n",
       "8. 8\n",
       "9. 9\n",
       "10. 10\n",
       "\n",
       "\n"
      ],
      "text/plain": [
       " [1]  1  2  3  4  5  6  7  8  9 10"
      ]
     },
     "metadata": {},
     "output_type": "display_data"
    }
   ],
   "source": [
    "y <- 1:10\n",
    "y"
   ]
  },
  {
   "cell_type": "code",
   "execution_count": 13,
   "id": "ceeb6a0e-598b-419c-b9fd-ce54b2abf74e",
   "metadata": {
    "editable": true,
    "slideshow": {
     "slide_type": ""
    },
    "tags": []
   },
   "outputs": [
    {
     "data": {
      "text/html": [
       "'integer'"
      ],
      "text/latex": [
       "'integer'"
      ],
      "text/markdown": [
       "'integer'"
      ],
      "text/plain": [
       "[1] \"integer\""
      ]
     },
     "metadata": {},
     "output_type": "display_data"
    }
   ],
   "source": [
    "typeof(y)"
   ]
  },
  {
   "cell_type": "code",
   "execution_count": 14,
   "id": "cdf43ab4-aa50-46ea-9e86-3951385ba317",
   "metadata": {
    "editable": true,
    "slideshow": {
     "slide_type": ""
    },
    "tags": []
   },
   "outputs": [
    {
     "data": {
      "text/html": [
       "'integer'"
      ],
      "text/latex": [
       "'integer'"
      ],
      "text/markdown": [
       "'integer'"
      ],
      "text/plain": [
       "[1] \"integer\""
      ]
     },
     "metadata": {},
     "output_type": "display_data"
    }
   ],
   "source": [
    "class(y)"
   ]
  },
  {
   "cell_type": "code",
   "execution_count": 15,
   "id": "cacb9983-de9a-4438-928f-2b75f8b185cc",
   "metadata": {
    "editable": true,
    "slideshow": {
     "slide_type": ""
    },
    "tags": []
   },
   "outputs": [
    {
     "data": {
      "text/html": [
       "10"
      ],
      "text/latex": [
       "10"
      ],
      "text/markdown": [
       "10"
      ],
      "text/plain": [
       "[1] 10"
      ]
     },
     "metadata": {},
     "output_type": "display_data"
    }
   ],
   "source": [
    "length(y)"
   ]
  },
  {
   "cell_type": "markdown",
   "id": "07c0c020-3f0d-449a-a3f9-914a61ff16e9",
   "metadata": {},
   "source": [
    "# Converting Between Datatypes\n",
    "\n",
    "It can be critical that R has correctly assigned the right data type to your variable. If it has not you may run into \n",
    "errors when processing it. You therefore may want to convert between different data types. This can be done with the \n",
    "series of functions ```as.numeric```, ```as.character``` etc. \n",
    "\n",
    "For example, let's convert our numeric variable `y` into a character. "
   ]
  },
  {
   "cell_type": "code",
   "execution_count": 16,
   "id": "e995a60f-5e7d-4c75-b549-0507ad33d32f",
   "metadata": {
    "editable": true,
    "slideshow": {
     "slide_type": ""
    },
    "tags": []
   },
   "outputs": [
    {
     "data": {
      "text/html": [
       "'character'"
      ],
      "text/latex": [
       "'character'"
      ],
      "text/markdown": [
       "'character'"
      ],
      "text/plain": [
       "[1] \"character\""
      ]
     },
     "metadata": {},
     "output_type": "display_data"
    }
   ],
   "source": [
    "y <- as.character(y)\n",
    "typeof(y)"
   ]
  },
  {
   "cell_type": "markdown",
   "id": "a3ccff81-8509-4338-844b-9ab7e88e438b",
   "metadata": {},
   "source": [
    "## Activity: Determining Data Yypes\n",
    "\n",
    "Create a variable with the numbers 9,2,200, and 14.\n",
    "What class do you predict this variable to be? Use an R function to confirm your answer.\n",
    "If it is not the data type you expected, can you force R to convert it to an integer?\n",
    "Divide each element of the variable in half. Does this change the type of variable?\n",
    "\n",
    "\n",
    "# Data Structures\n",
    "\n",
    "R has a number of inbuilt structures that can be used to store datasets. We have encountered one of these already - the data.frame. Other include: \n",
    "\n",
    "* strings\n",
    "* vectors \n",
    "* data frames\n",
    "* matrices\n",
    "* arrays\n",
    "* lists\n",
    "* factors\n",
    "\n",
    "## Strings\n",
    "\n",
    "A string is a run of characters. e.g. \"hello\". or \"a189jde2mjo\". They are enclosed in quotes.\n",
    "\n",
    "## Vectors\n",
    "\n",
    "A vector is the most common and basic data structure in R. They are an ordered collection of basic data types of \n",
    "a given length. They are one-dimensional. We can think of each column of a data frame as a vector. \n",
    "\n",
    "The concatenate or combine ```c()``` function will explicitly __construct__ a vector. \n",
    "\n"
   ]
  },
  {
   "cell_type": "code",
   "execution_count": 17,
   "id": "3b9a9a10-1849-48b6-8564-0548d707b15e",
   "metadata": {
    "editable": true,
    "slideshow": {
     "slide_type": ""
    },
    "tags": []
   },
   "outputs": [],
   "source": [
    "v_num <- c(9,20,12)\n",
    "v_log <- c(TRUE, FALSE, FALSE, TRUE)"
   ]
  },
  {
   "cell_type": "markdown",
   "id": "329a1739-d346-4e6e-9a39-c28ce83dda06",
   "metadata": {},
   "source": [
    "As we create these vectors you should see them listed in your environment pane. We can then call the name of the varible to see what the value is at that point in time. "
   ]
  },
  {
   "cell_type": "code",
   "execution_count": 18,
   "id": "9b35fe5a",
   "metadata": {
    "editable": true,
    "slideshow": {
     "slide_type": ""
    },
    "tags": []
   },
   "outputs": [
    {
     "data": {
      "text/html": [
       "<style>\n",
       ".list-inline {list-style: none; margin:0; padding: 0}\n",
       ".list-inline>li {display: inline-block}\n",
       ".list-inline>li:not(:last-child)::after {content: \"\\00b7\"; padding: 0 .5ex}\n",
       "</style>\n",
       "<ol class=list-inline><li>9</li><li>20</li><li>12</li></ol>\n"
      ],
      "text/latex": [
       "\\begin{enumerate*}\n",
       "\\item 9\n",
       "\\item 20\n",
       "\\item 12\n",
       "\\end{enumerate*}\n"
      ],
      "text/markdown": [
       "1. 9\n",
       "2. 20\n",
       "3. 12\n",
       "\n",
       "\n"
      ],
      "text/plain": [
       "[1]  9 20 12"
      ]
     },
     "metadata": {},
     "output_type": "display_data"
    }
   ],
   "source": [
    "v_num "
   ]
  },
  {
   "cell_type": "code",
   "execution_count": 19,
   "id": "603e1ad4",
   "metadata": {
    "editable": true,
    "slideshow": {
     "slide_type": ""
    },
    "tags": []
   },
   "outputs": [
    {
     "data": {
      "text/html": [
       "<style>\n",
       ".list-inline {list-style: none; margin:0; padding: 0}\n",
       ".list-inline>li {display: inline-block}\n",
       ".list-inline>li:not(:last-child)::after {content: \"\\00b7\"; padding: 0 .5ex}\n",
       "</style>\n",
       "<ol class=list-inline><li>TRUE</li><li>FALSE</li><li>FALSE</li><li>TRUE</li></ol>\n"
      ],
      "text/latex": [
       "\\begin{enumerate*}\n",
       "\\item TRUE\n",
       "\\item FALSE\n",
       "\\item FALSE\n",
       "\\item TRUE\n",
       "\\end{enumerate*}\n"
      ],
      "text/markdown": [
       "1. TRUE\n",
       "2. FALSE\n",
       "3. FALSE\n",
       "4. TRUE\n",
       "\n",
       "\n"
      ],
      "text/plain": [
       "[1]  TRUE FALSE FALSE  TRUE"
      ]
     },
     "metadata": {},
     "output_type": "display_data"
    }
   ],
   "source": [
    "v_log"
   ]
  },
  {
   "cell_type": "markdown",
   "id": "dbf81ca7-4039-48fe-96b9-ebab421d5a88",
   "metadata": {},
   "source": [
    "The function ```c()``` can also be used to __add elements__ to a vector."
   ]
  },
  {
   "cell_type": "code",
   "execution_count": 20,
   "id": "dc21c86c",
   "metadata": {
    "editable": true,
    "slideshow": {
     "slide_type": ""
    },
    "tags": []
   },
   "outputs": [
    {
     "data": {
      "text/html": [
       "<style>\n",
       ".list-inline {list-style: none; margin:0; padding: 0}\n",
       ".list-inline>li {display: inline-block}\n",
       ".list-inline>li:not(:last-child)::after {content: \"\\00b7\"; padding: 0 .5ex}\n",
       "</style>\n",
       "<ol class=list-inline><li>'Sarah'</li><li>'Tracy'</li><li>'Jon'</li><li>'Annette'</li></ol>\n"
      ],
      "text/latex": [
       "\\begin{enumerate*}\n",
       "\\item 'Sarah'\n",
       "\\item 'Tracy'\n",
       "\\item 'Jon'\n",
       "\\item 'Annette'\n",
       "\\end{enumerate*}\n"
      ],
      "text/markdown": [
       "1. 'Sarah'\n",
       "2. 'Tracy'\n",
       "3. 'Jon'\n",
       "4. 'Annette'\n",
       "\n",
       "\n"
      ],
      "text/plain": [
       "[1] \"Sarah\"   \"Tracy\"   \"Jon\"     \"Annette\""
      ]
     },
     "metadata": {},
     "output_type": "display_data"
    }
   ],
   "source": [
    "v_name <- c(\"Sarah\", \"Tracy\", \"Jon\")\n",
    "v_name <- c(v_name, \"Annette\")\n",
    "v_name"
   ]
  },
  {
   "cell_type": "markdown",
   "id": "1cc8a0db-7ef7-4ebc-96c5-8e05c711e157",
   "metadata": {},
   "source": [
    "If we want to create a series of numbers, like 1 to 140, we can bypass the `c()` constructor and just write"
   ]
  },
  {
   "cell_type": "code",
   "execution_count": 21,
   "id": "6b9de5e1",
   "metadata": {
    "editable": true,
    "slideshow": {
     "slide_type": ""
    },
    "tags": []
   },
   "outputs": [
    {
     "data": {
      "text/html": [
       "<style>\n",
       ".list-inline {list-style: none; margin:0; padding: 0}\n",
       ".list-inline>li {display: inline-block}\n",
       ".list-inline>li:not(:last-child)::after {content: \"\\00b7\"; padding: 0 .5ex}\n",
       "</style>\n",
       "<ol class=list-inline><li>1</li><li>2</li><li>3</li><li>4</li></ol>\n"
      ],
      "text/latex": [
       "\\begin{enumerate*}\n",
       "\\item 1\n",
       "\\item 2\n",
       "\\item 3\n",
       "\\item 4\n",
       "\\end{enumerate*}\n"
      ],
      "text/markdown": [
       "1. 1\n",
       "2. 2\n",
       "3. 3\n",
       "4. 4\n",
       "\n",
       "\n"
      ],
      "text/plain": [
       "[1] 1 2 3 4"
      ]
     },
     "metadata": {},
     "output_type": "display_data"
    }
   ],
   "source": [
    "(v_int <- 1:4)"
   ]
  },
  {
   "cell_type": "markdown",
   "id": "fa7bf05b-89f0-461f-9206-79e2ee291fd2",
   "metadata": {},
   "source": [
    "When we call a vector *atomic*, we mean that the vector only holds data of a single data type."
   ]
  },
  {
   "cell_type": "markdown",
   "id": "c1fbca7e-9641-4bda-90a3-37ec70c7c9b8",
   "metadata": {},
   "source": [
    "## Data Frame\n",
    "\n",
    "A data frame is a two dimensional structure consisting of rows and columns. \n",
    "\n",
    "We can create a data frames using the function `data.frame()`. We will use the predefined vector `letter` \n",
    "to get the first ten letters in the alphabet.\n"
   ]
  },
  {
   "cell_type": "code",
   "execution_count": 22,
   "id": "bb45e841",
   "metadata": {
    "editable": true,
    "slideshow": {
     "slide_type": ""
    },
    "tags": []
   },
   "outputs": [
    {
     "data": {
      "text/html": [
       "<table class=\"dataframe\">\n",
       "<caption>A data.frame: 10 × 3</caption>\n",
       "<thead>\n",
       "\t<tr><th scope=col>id</th><th scope=col>x</th><th scope=col>y</th></tr>\n",
       "\t<tr><th scope=col>&lt;chr&gt;</th><th scope=col>&lt;int&gt;</th><th scope=col>&lt;int&gt;</th></tr>\n",
       "</thead>\n",
       "<tbody>\n",
       "\t<tr><td>a</td><td> 1</td><td>11</td></tr>\n",
       "\t<tr><td>b</td><td> 2</td><td>12</td></tr>\n",
       "\t<tr><td>c</td><td> 3</td><td>13</td></tr>\n",
       "\t<tr><td>d</td><td> 4</td><td>14</td></tr>\n",
       "\t<tr><td>e</td><td> 5</td><td>15</td></tr>\n",
       "\t<tr><td>f</td><td> 6</td><td>16</td></tr>\n",
       "\t<tr><td>g</td><td> 7</td><td>17</td></tr>\n",
       "\t<tr><td>h</td><td> 8</td><td>18</td></tr>\n",
       "\t<tr><td>i</td><td> 9</td><td>19</td></tr>\n",
       "\t<tr><td>j</td><td>10</td><td>20</td></tr>\n",
       "</tbody>\n",
       "</table>\n"
      ],
      "text/latex": [
       "A data.frame: 10 × 3\n",
       "\\begin{tabular}{lll}\n",
       " id & x & y\\\\\n",
       " <chr> & <int> & <int>\\\\\n",
       "\\hline\n",
       "\t a &  1 & 11\\\\\n",
       "\t b &  2 & 12\\\\\n",
       "\t c &  3 & 13\\\\\n",
       "\t d &  4 & 14\\\\\n",
       "\t e &  5 & 15\\\\\n",
       "\t f &  6 & 16\\\\\n",
       "\t g &  7 & 17\\\\\n",
       "\t h &  8 & 18\\\\\n",
       "\t i &  9 & 19\\\\\n",
       "\t j & 10 & 20\\\\\n",
       "\\end{tabular}\n"
      ],
      "text/markdown": [
       "\n",
       "A data.frame: 10 × 3\n",
       "\n",
       "| id &lt;chr&gt; | x &lt;int&gt; | y &lt;int&gt; |\n",
       "|---|---|---|\n",
       "| a |  1 | 11 |\n",
       "| b |  2 | 12 |\n",
       "| c |  3 | 13 |\n",
       "| d |  4 | 14 |\n",
       "| e |  5 | 15 |\n",
       "| f |  6 | 16 |\n",
       "| g |  7 | 17 |\n",
       "| h |  8 | 18 |\n",
       "| i |  9 | 19 |\n",
       "| j | 10 | 20 |\n",
       "\n"
      ],
      "text/plain": [
       "   id x  y \n",
       "1  a   1 11\n",
       "2  b   2 12\n",
       "3  c   3 13\n",
       "4  d   4 14\n",
       "5  e   5 15\n",
       "6  f   6 16\n",
       "7  g   7 17\n",
       "8  h   8 18\n",
       "9  i   9 19\n",
       "10 j  10 20"
      ]
     },
     "metadata": {},
     "output_type": "display_data"
    }
   ],
   "source": [
    "dat <- data.frame(id = letters[1:10], x = 1:10, y = 11:20)\n",
    "dat"
   ]
  },
  {
   "cell_type": "markdown",
   "id": "747edd0f-3f74-4d96-b52e-30f07de3dbf0",
   "metadata": {},
   "source": [
    "Columns are variables, and each column will have a specified data type, which all entries must adhere to. \n",
    "Rows are observations. Rows and columns will have `rownames` and `colnames` that you can use to extract \n",
    "specific rows or columns respectively. \n",
    "\n",
    "If you read in a table of data from a file, it will typically be represented by a data.frame.\n",
    "\n",
    "\n",
    "### Functions to explore data frames\n",
    "\n",
    "* ```head()``` - shows first 6 rows\n",
    "* ```tail()``` - shows last 6 rows\n",
    "* ```dim()``` - returns the dimensions of data frame (i.e. number of rows and number of columns)\n",
    "* ```nrow()``` - number of rows\n",
    "* ```ncol()```- number of columns\n",
    "* ```str()``` - structure of data frame - name, type and preview of data in each column\n",
    "* ```names()``` or ```colnames()``` - both show the names attribute for a data frame\n",
    "\n",
    "\n",
    "## Matrices\n",
    "\n",
    "A matrix is another two dimensional object, but it differs to a data.frame as all columns/entries must be of the same type. \n",
    "It is more efficient memory-wise than a data.frame, but can-not be used as a substitute to all data.frames.\n",
    "\n",
    "We can construct a matrix as follows:"
   ]
  },
  {
   "cell_type": "code",
   "execution_count": 23,
   "id": "71ed3b63-2c93-4469-9a40-f9c8bf169dd9",
   "metadata": {
    "editable": true,
    "slideshow": {
     "slide_type": ""
    },
    "tags": []
   },
   "outputs": [
    {
     "data": {
      "text/html": [
       "<table class=\"dataframe\">\n",
       "<caption>A matrix: 2 × 3 of type int</caption>\n",
       "<tbody>\n",
       "\t<tr><td>1</td><td>3</td><td>5</td></tr>\n",
       "\t<tr><td>2</td><td>4</td><td>6</td></tr>\n",
       "</tbody>\n",
       "</table>\n"
      ],
      "text/latex": [
       "A matrix: 2 × 3 of type int\n",
       "\\begin{tabular}{lll}\n",
       "\t 1 & 3 & 5\\\\\n",
       "\t 2 & 4 & 6\\\\\n",
       "\\end{tabular}\n"
      ],
      "text/markdown": [
       "\n",
       "A matrix: 2 × 3 of type int\n",
       "\n",
       "| 1 | 3 | 5 |\n",
       "| 2 | 4 | 6 |\n",
       "\n"
      ],
      "text/plain": [
       "     [,1] [,2] [,3]\n",
       "[1,] 1    3    5   \n",
       "[2,] 2    4    6   "
      ]
     },
     "metadata": {},
     "output_type": "display_data"
    }
   ],
   "source": [
    "m<-matrix(1:6, nrow=2, ncol=3)\n",
    "m"
   ]
  },
  {
   "cell_type": "markdown",
   "id": "88039000-c333-4361-8263-979a7f10253b",
   "metadata": {},
   "source": [
    "When creating a __matrix__, it is important to remember that matrices __*are filled column-wise*__. If that is not what you want, you can use the ```byrow``` argument (a logical: can be ```TRUE``` or ```FALSE```) to specify how the matrix is filled.\n",
    "\n",
    "We can confirm the data type of a matrix with the function `class`."
   ]
  },
  {
   "cell_type": "code",
   "execution_count": 24,
   "id": "6bb02529-f2bf-4769-8fc3-91fa6be2bf94",
   "metadata": {
    "editable": true,
    "slideshow": {
     "slide_type": ""
    },
    "tags": []
   },
   "outputs": [
    {
     "data": {
      "text/html": [
       "<style>\n",
       ".list-inline {list-style: none; margin:0; padding: 0}\n",
       ".list-inline>li {display: inline-block}\n",
       ".list-inline>li:not(:last-child)::after {content: \"\\00b7\"; padding: 0 .5ex}\n",
       "</style>\n",
       "<ol class=list-inline><li>'matrix'</li><li>'array'</li></ol>\n"
      ],
      "text/latex": [
       "\\begin{enumerate*}\n",
       "\\item 'matrix'\n",
       "\\item 'array'\n",
       "\\end{enumerate*}\n"
      ],
      "text/markdown": [
       "1. 'matrix'\n",
       "2. 'array'\n",
       "\n",
       "\n"
      ],
      "text/plain": [
       "[1] \"matrix\" \"array\" "
      ]
     },
     "metadata": {},
     "output_type": "display_data"
    }
   ],
   "source": [
    "class(m)"
   ]
  },
  {
   "cell_type": "markdown",
   "id": "69b099d7-c72f-483a-912d-452c76fbd896",
   "metadata": {},
   "source": [
    "## Arrays\n",
    "\n",
    "Arrays are n-dimensional storage structures. A one-dimensional array is a vector, a two-dimensional array is a matrix. \n",
    "\n",
    "We will not be using this type of object, but it is included for completeness.\n",
    "\n",
    "## Lists\n",
    "\n",
    "A list in R is a collection of objects and elements, which themselves can be a heterogeneous mix of other objects \n",
    "including vectors, matrices, data.frames, functions, strings, numbers. They tend to be used to collate different \n",
    "data types connected in some way. \n",
    "\n",
    "We can create a list of the vectors and data.frames we have already constructed as follows:"
   ]
  },
  {
   "cell_type": "code",
   "execution_count": 25,
   "id": "9584d150-c5c8-4612-8b57-4ca24697ce29",
   "metadata": {
    "editable": true,
    "slideshow": {
     "slide_type": ""
    },
    "tags": []
   },
   "outputs": [
    {
     "data": {
      "text/html": [
       "<ol>\n",
       "\t<li><style>\n",
       ".list-inline {list-style: none; margin:0; padding: 0}\n",
       ".list-inline>li {display: inline-block}\n",
       ".list-inline>li:not(:last-child)::after {content: \"\\00b7\"; padding: 0 .5ex}\n",
       "</style>\n",
       "<ol class=list-inline><li>TRUE</li><li>FALSE</li><li>FALSE</li><li>TRUE</li></ol>\n",
       "</li>\n",
       "\t<li><style>\n",
       ".list-inline {list-style: none; margin:0; padding: 0}\n",
       ".list-inline>li {display: inline-block}\n",
       ".list-inline>li:not(:last-child)::after {content: \"\\00b7\"; padding: 0 .5ex}\n",
       "</style>\n",
       "<ol class=list-inline><li>9</li><li>20</li><li>12</li></ol>\n",
       "</li>\n",
       "\t<li><table class=\"dataframe\">\n",
       "<caption>A data.frame: 150 × 5</caption>\n",
       "<thead>\n",
       "\t<tr><th scope=col>Sepal.Length</th><th scope=col>Sepal.Width</th><th scope=col>Petal.Length</th><th scope=col>Petal.Width</th><th scope=col>Species</th></tr>\n",
       "\t<tr><th scope=col>&lt;dbl&gt;</th><th scope=col>&lt;dbl&gt;</th><th scope=col>&lt;dbl&gt;</th><th scope=col>&lt;dbl&gt;</th><th scope=col>&lt;fct&gt;</th></tr>\n",
       "</thead>\n",
       "<tbody>\n",
       "\t<tr><td>5.1</td><td>3.5</td><td>1.4</td><td>0.2</td><td>setosa</td></tr>\n",
       "\t<tr><td>4.9</td><td>3.0</td><td>1.4</td><td>0.2</td><td>setosa</td></tr>\n",
       "\t<tr><td>4.7</td><td>3.2</td><td>1.3</td><td>0.2</td><td>setosa</td></tr>\n",
       "\t<tr><td>4.6</td><td>3.1</td><td>1.5</td><td>0.2</td><td>setosa</td></tr>\n",
       "\t<tr><td>5.0</td><td>3.6</td><td>1.4</td><td>0.2</td><td>setosa</td></tr>\n",
       "\t<tr><td>5.4</td><td>3.9</td><td>1.7</td><td>0.4</td><td>setosa</td></tr>\n",
       "\t<tr><td>4.6</td><td>3.4</td><td>1.4</td><td>0.3</td><td>setosa</td></tr>\n",
       "\t<tr><td>5.0</td><td>3.4</td><td>1.5</td><td>0.2</td><td>setosa</td></tr>\n",
       "\t<tr><td>4.4</td><td>2.9</td><td>1.4</td><td>0.2</td><td>setosa</td></tr>\n",
       "\t<tr><td>4.9</td><td>3.1</td><td>1.5</td><td>0.1</td><td>setosa</td></tr>\n",
       "\t<tr><td>5.4</td><td>3.7</td><td>1.5</td><td>0.2</td><td>setosa</td></tr>\n",
       "\t<tr><td>4.8</td><td>3.4</td><td>1.6</td><td>0.2</td><td>setosa</td></tr>\n",
       "\t<tr><td>4.8</td><td>3.0</td><td>1.4</td><td>0.1</td><td>setosa</td></tr>\n",
       "\t<tr><td>4.3</td><td>3.0</td><td>1.1</td><td>0.1</td><td>setosa</td></tr>\n",
       "\t<tr><td>5.8</td><td>4.0</td><td>1.2</td><td>0.2</td><td>setosa</td></tr>\n",
       "\t<tr><td>5.7</td><td>4.4</td><td>1.5</td><td>0.4</td><td>setosa</td></tr>\n",
       "\t<tr><td>5.4</td><td>3.9</td><td>1.3</td><td>0.4</td><td>setosa</td></tr>\n",
       "\t<tr><td>5.1</td><td>3.5</td><td>1.4</td><td>0.3</td><td>setosa</td></tr>\n",
       "\t<tr><td>5.7</td><td>3.8</td><td>1.7</td><td>0.3</td><td>setosa</td></tr>\n",
       "\t<tr><td>5.1</td><td>3.8</td><td>1.5</td><td>0.3</td><td>setosa</td></tr>\n",
       "\t<tr><td>5.4</td><td>3.4</td><td>1.7</td><td>0.2</td><td>setosa</td></tr>\n",
       "\t<tr><td>5.1</td><td>3.7</td><td>1.5</td><td>0.4</td><td>setosa</td></tr>\n",
       "\t<tr><td>4.6</td><td>3.6</td><td>1.0</td><td>0.2</td><td>setosa</td></tr>\n",
       "\t<tr><td>5.1</td><td>3.3</td><td>1.7</td><td>0.5</td><td>setosa</td></tr>\n",
       "\t<tr><td>4.8</td><td>3.4</td><td>1.9</td><td>0.2</td><td>setosa</td></tr>\n",
       "\t<tr><td>5.0</td><td>3.0</td><td>1.6</td><td>0.2</td><td>setosa</td></tr>\n",
       "\t<tr><td>5.0</td><td>3.4</td><td>1.6</td><td>0.4</td><td>setosa</td></tr>\n",
       "\t<tr><td>5.2</td><td>3.5</td><td>1.5</td><td>0.2</td><td>setosa</td></tr>\n",
       "\t<tr><td>5.2</td><td>3.4</td><td>1.4</td><td>0.2</td><td>setosa</td></tr>\n",
       "\t<tr><td>4.7</td><td>3.2</td><td>1.6</td><td>0.2</td><td>setosa</td></tr>\n",
       "\t<tr><td>⋮</td><td>⋮</td><td>⋮</td><td>⋮</td><td>⋮</td></tr>\n",
       "\t<tr><td>6.9</td><td>3.2</td><td>5.7</td><td>2.3</td><td>virginica</td></tr>\n",
       "\t<tr><td>5.6</td><td>2.8</td><td>4.9</td><td>2.0</td><td>virginica</td></tr>\n",
       "\t<tr><td>7.7</td><td>2.8</td><td>6.7</td><td>2.0</td><td>virginica</td></tr>\n",
       "\t<tr><td>6.3</td><td>2.7</td><td>4.9</td><td>1.8</td><td>virginica</td></tr>\n",
       "\t<tr><td>6.7</td><td>3.3</td><td>5.7</td><td>2.1</td><td>virginica</td></tr>\n",
       "\t<tr><td>7.2</td><td>3.2</td><td>6.0</td><td>1.8</td><td>virginica</td></tr>\n",
       "\t<tr><td>6.2</td><td>2.8</td><td>4.8</td><td>1.8</td><td>virginica</td></tr>\n",
       "\t<tr><td>6.1</td><td>3.0</td><td>4.9</td><td>1.8</td><td>virginica</td></tr>\n",
       "\t<tr><td>6.4</td><td>2.8</td><td>5.6</td><td>2.1</td><td>virginica</td></tr>\n",
       "\t<tr><td>7.2</td><td>3.0</td><td>5.8</td><td>1.6</td><td>virginica</td></tr>\n",
       "\t<tr><td>7.4</td><td>2.8</td><td>6.1</td><td>1.9</td><td>virginica</td></tr>\n",
       "\t<tr><td>7.9</td><td>3.8</td><td>6.4</td><td>2.0</td><td>virginica</td></tr>\n",
       "\t<tr><td>6.4</td><td>2.8</td><td>5.6</td><td>2.2</td><td>virginica</td></tr>\n",
       "\t<tr><td>6.3</td><td>2.8</td><td>5.1</td><td>1.5</td><td>virginica</td></tr>\n",
       "\t<tr><td>6.1</td><td>2.6</td><td>5.6</td><td>1.4</td><td>virginica</td></tr>\n",
       "\t<tr><td>7.7</td><td>3.0</td><td>6.1</td><td>2.3</td><td>virginica</td></tr>\n",
       "\t<tr><td>6.3</td><td>3.4</td><td>5.6</td><td>2.4</td><td>virginica</td></tr>\n",
       "\t<tr><td>6.4</td><td>3.1</td><td>5.5</td><td>1.8</td><td>virginica</td></tr>\n",
       "\t<tr><td>6.0</td><td>3.0</td><td>4.8</td><td>1.8</td><td>virginica</td></tr>\n",
       "\t<tr><td>6.9</td><td>3.1</td><td>5.4</td><td>2.1</td><td>virginica</td></tr>\n",
       "\t<tr><td>6.7</td><td>3.1</td><td>5.6</td><td>2.4</td><td>virginica</td></tr>\n",
       "\t<tr><td>6.9</td><td>3.1</td><td>5.1</td><td>2.3</td><td>virginica</td></tr>\n",
       "\t<tr><td>5.8</td><td>2.7</td><td>5.1</td><td>1.9</td><td>virginica</td></tr>\n",
       "\t<tr><td>6.8</td><td>3.2</td><td>5.9</td><td>2.3</td><td>virginica</td></tr>\n",
       "\t<tr><td>6.7</td><td>3.3</td><td>5.7</td><td>2.5</td><td>virginica</td></tr>\n",
       "\t<tr><td>6.7</td><td>3.0</td><td>5.2</td><td>2.3</td><td>virginica</td></tr>\n",
       "\t<tr><td>6.3</td><td>2.5</td><td>5.0</td><td>1.9</td><td>virginica</td></tr>\n",
       "\t<tr><td>6.5</td><td>3.0</td><td>5.2</td><td>2.0</td><td>virginica</td></tr>\n",
       "\t<tr><td>6.2</td><td>3.4</td><td>5.4</td><td>2.3</td><td>virginica</td></tr>\n",
       "\t<tr><td>5.9</td><td>3.0</td><td>5.1</td><td>1.8</td><td>virginica</td></tr>\n",
       "</tbody>\n",
       "</table>\n",
       "</li>\n",
       "</ol>\n"
      ],
      "text/latex": [
       "\\begin{enumerate}\n",
       "\\item \\begin{enumerate*}\n",
       "\\item TRUE\n",
       "\\item FALSE\n",
       "\\item FALSE\n",
       "\\item TRUE\n",
       "\\end{enumerate*}\n",
       "\n",
       "\\item \\begin{enumerate*}\n",
       "\\item 9\n",
       "\\item 20\n",
       "\\item 12\n",
       "\\end{enumerate*}\n",
       "\n",
       "\\item A data.frame: 150 × 5\n",
       "\\begin{tabular}{lllll}\n",
       " Sepal.Length & Sepal.Width & Petal.Length & Petal.Width & Species\\\\\n",
       " <dbl> & <dbl> & <dbl> & <dbl> & <fct>\\\\\n",
       "\\hline\n",
       "\t 5.1 & 3.5 & 1.4 & 0.2 & setosa\\\\\n",
       "\t 4.9 & 3.0 & 1.4 & 0.2 & setosa\\\\\n",
       "\t 4.7 & 3.2 & 1.3 & 0.2 & setosa\\\\\n",
       "\t 4.6 & 3.1 & 1.5 & 0.2 & setosa\\\\\n",
       "\t 5.0 & 3.6 & 1.4 & 0.2 & setosa\\\\\n",
       "\t 5.4 & 3.9 & 1.7 & 0.4 & setosa\\\\\n",
       "\t 4.6 & 3.4 & 1.4 & 0.3 & setosa\\\\\n",
       "\t 5.0 & 3.4 & 1.5 & 0.2 & setosa\\\\\n",
       "\t 4.4 & 2.9 & 1.4 & 0.2 & setosa\\\\\n",
       "\t 4.9 & 3.1 & 1.5 & 0.1 & setosa\\\\\n",
       "\t 5.4 & 3.7 & 1.5 & 0.2 & setosa\\\\\n",
       "\t 4.8 & 3.4 & 1.6 & 0.2 & setosa\\\\\n",
       "\t 4.8 & 3.0 & 1.4 & 0.1 & setosa\\\\\n",
       "\t 4.3 & 3.0 & 1.1 & 0.1 & setosa\\\\\n",
       "\t 5.8 & 4.0 & 1.2 & 0.2 & setosa\\\\\n",
       "\t 5.7 & 4.4 & 1.5 & 0.4 & setosa\\\\\n",
       "\t 5.4 & 3.9 & 1.3 & 0.4 & setosa\\\\\n",
       "\t 5.1 & 3.5 & 1.4 & 0.3 & setosa\\\\\n",
       "\t 5.7 & 3.8 & 1.7 & 0.3 & setosa\\\\\n",
       "\t 5.1 & 3.8 & 1.5 & 0.3 & setosa\\\\\n",
       "\t 5.4 & 3.4 & 1.7 & 0.2 & setosa\\\\\n",
       "\t 5.1 & 3.7 & 1.5 & 0.4 & setosa\\\\\n",
       "\t 4.6 & 3.6 & 1.0 & 0.2 & setosa\\\\\n",
       "\t 5.1 & 3.3 & 1.7 & 0.5 & setosa\\\\\n",
       "\t 4.8 & 3.4 & 1.9 & 0.2 & setosa\\\\\n",
       "\t 5.0 & 3.0 & 1.6 & 0.2 & setosa\\\\\n",
       "\t 5.0 & 3.4 & 1.6 & 0.4 & setosa\\\\\n",
       "\t 5.2 & 3.5 & 1.5 & 0.2 & setosa\\\\\n",
       "\t 5.2 & 3.4 & 1.4 & 0.2 & setosa\\\\\n",
       "\t 4.7 & 3.2 & 1.6 & 0.2 & setosa\\\\\n",
       "\t ⋮ & ⋮ & ⋮ & ⋮ & ⋮\\\\\n",
       "\t 6.9 & 3.2 & 5.7 & 2.3 & virginica\\\\\n",
       "\t 5.6 & 2.8 & 4.9 & 2.0 & virginica\\\\\n",
       "\t 7.7 & 2.8 & 6.7 & 2.0 & virginica\\\\\n",
       "\t 6.3 & 2.7 & 4.9 & 1.8 & virginica\\\\\n",
       "\t 6.7 & 3.3 & 5.7 & 2.1 & virginica\\\\\n",
       "\t 7.2 & 3.2 & 6.0 & 1.8 & virginica\\\\\n",
       "\t 6.2 & 2.8 & 4.8 & 1.8 & virginica\\\\\n",
       "\t 6.1 & 3.0 & 4.9 & 1.8 & virginica\\\\\n",
       "\t 6.4 & 2.8 & 5.6 & 2.1 & virginica\\\\\n",
       "\t 7.2 & 3.0 & 5.8 & 1.6 & virginica\\\\\n",
       "\t 7.4 & 2.8 & 6.1 & 1.9 & virginica\\\\\n",
       "\t 7.9 & 3.8 & 6.4 & 2.0 & virginica\\\\\n",
       "\t 6.4 & 2.8 & 5.6 & 2.2 & virginica\\\\\n",
       "\t 6.3 & 2.8 & 5.1 & 1.5 & virginica\\\\\n",
       "\t 6.1 & 2.6 & 5.6 & 1.4 & virginica\\\\\n",
       "\t 7.7 & 3.0 & 6.1 & 2.3 & virginica\\\\\n",
       "\t 6.3 & 3.4 & 5.6 & 2.4 & virginica\\\\\n",
       "\t 6.4 & 3.1 & 5.5 & 1.8 & virginica\\\\\n",
       "\t 6.0 & 3.0 & 4.8 & 1.8 & virginica\\\\\n",
       "\t 6.9 & 3.1 & 5.4 & 2.1 & virginica\\\\\n",
       "\t 6.7 & 3.1 & 5.6 & 2.4 & virginica\\\\\n",
       "\t 6.9 & 3.1 & 5.1 & 2.3 & virginica\\\\\n",
       "\t 5.8 & 2.7 & 5.1 & 1.9 & virginica\\\\\n",
       "\t 6.8 & 3.2 & 5.9 & 2.3 & virginica\\\\\n",
       "\t 6.7 & 3.3 & 5.7 & 2.5 & virginica\\\\\n",
       "\t 6.7 & 3.0 & 5.2 & 2.3 & virginica\\\\\n",
       "\t 6.3 & 2.5 & 5.0 & 1.9 & virginica\\\\\n",
       "\t 6.5 & 3.0 & 5.2 & 2.0 & virginica\\\\\n",
       "\t 6.2 & 3.4 & 5.4 & 2.3 & virginica\\\\\n",
       "\t 5.9 & 3.0 & 5.1 & 1.8 & virginica\\\\\n",
       "\\end{tabular}\n",
       "\n",
       "\\end{enumerate}\n"
      ],
      "text/markdown": [
       "1. 1. TRUE\n",
       "2. FALSE\n",
       "3. FALSE\n",
       "4. TRUE\n",
       "\n",
       "\n",
       "\n",
       "2. 1. 9\n",
       "2. 20\n",
       "3. 12\n",
       "\n",
       "\n",
       "\n",
       "3. \n",
       "A data.frame: 150 × 5\n",
       "\n",
       "| Sepal.Length &lt;dbl&gt; | Sepal.Width &lt;dbl&gt; | Petal.Length &lt;dbl&gt; | Petal.Width &lt;dbl&gt; | Species &lt;fct&gt; |\n",
       "|---|---|---|---|---|\n",
       "| 5.1 | 3.5 | 1.4 | 0.2 | setosa |\n",
       "| 4.9 | 3.0 | 1.4 | 0.2 | setosa |\n",
       "| 4.7 | 3.2 | 1.3 | 0.2 | setosa |\n",
       "| 4.6 | 3.1 | 1.5 | 0.2 | setosa |\n",
       "| 5.0 | 3.6 | 1.4 | 0.2 | setosa |\n",
       "| 5.4 | 3.9 | 1.7 | 0.4 | setosa |\n",
       "| 4.6 | 3.4 | 1.4 | 0.3 | setosa |\n",
       "| 5.0 | 3.4 | 1.5 | 0.2 | setosa |\n",
       "| 4.4 | 2.9 | 1.4 | 0.2 | setosa |\n",
       "| 4.9 | 3.1 | 1.5 | 0.1 | setosa |\n",
       "| 5.4 | 3.7 | 1.5 | 0.2 | setosa |\n",
       "| 4.8 | 3.4 | 1.6 | 0.2 | setosa |\n",
       "| 4.8 | 3.0 | 1.4 | 0.1 | setosa |\n",
       "| 4.3 | 3.0 | 1.1 | 0.1 | setosa |\n",
       "| 5.8 | 4.0 | 1.2 | 0.2 | setosa |\n",
       "| 5.7 | 4.4 | 1.5 | 0.4 | setosa |\n",
       "| 5.4 | 3.9 | 1.3 | 0.4 | setosa |\n",
       "| 5.1 | 3.5 | 1.4 | 0.3 | setosa |\n",
       "| 5.7 | 3.8 | 1.7 | 0.3 | setosa |\n",
       "| 5.1 | 3.8 | 1.5 | 0.3 | setosa |\n",
       "| 5.4 | 3.4 | 1.7 | 0.2 | setosa |\n",
       "| 5.1 | 3.7 | 1.5 | 0.4 | setosa |\n",
       "| 4.6 | 3.6 | 1.0 | 0.2 | setosa |\n",
       "| 5.1 | 3.3 | 1.7 | 0.5 | setosa |\n",
       "| 4.8 | 3.4 | 1.9 | 0.2 | setosa |\n",
       "| 5.0 | 3.0 | 1.6 | 0.2 | setosa |\n",
       "| 5.0 | 3.4 | 1.6 | 0.4 | setosa |\n",
       "| 5.2 | 3.5 | 1.5 | 0.2 | setosa |\n",
       "| 5.2 | 3.4 | 1.4 | 0.2 | setosa |\n",
       "| 4.7 | 3.2 | 1.6 | 0.2 | setosa |\n",
       "| ⋮ | ⋮ | ⋮ | ⋮ | ⋮ |\n",
       "| 6.9 | 3.2 | 5.7 | 2.3 | virginica |\n",
       "| 5.6 | 2.8 | 4.9 | 2.0 | virginica |\n",
       "| 7.7 | 2.8 | 6.7 | 2.0 | virginica |\n",
       "| 6.3 | 2.7 | 4.9 | 1.8 | virginica |\n",
       "| 6.7 | 3.3 | 5.7 | 2.1 | virginica |\n",
       "| 7.2 | 3.2 | 6.0 | 1.8 | virginica |\n",
       "| 6.2 | 2.8 | 4.8 | 1.8 | virginica |\n",
       "| 6.1 | 3.0 | 4.9 | 1.8 | virginica |\n",
       "| 6.4 | 2.8 | 5.6 | 2.1 | virginica |\n",
       "| 7.2 | 3.0 | 5.8 | 1.6 | virginica |\n",
       "| 7.4 | 2.8 | 6.1 | 1.9 | virginica |\n",
       "| 7.9 | 3.8 | 6.4 | 2.0 | virginica |\n",
       "| 6.4 | 2.8 | 5.6 | 2.2 | virginica |\n",
       "| 6.3 | 2.8 | 5.1 | 1.5 | virginica |\n",
       "| 6.1 | 2.6 | 5.6 | 1.4 | virginica |\n",
       "| 7.7 | 3.0 | 6.1 | 2.3 | virginica |\n",
       "| 6.3 | 3.4 | 5.6 | 2.4 | virginica |\n",
       "| 6.4 | 3.1 | 5.5 | 1.8 | virginica |\n",
       "| 6.0 | 3.0 | 4.8 | 1.8 | virginica |\n",
       "| 6.9 | 3.1 | 5.4 | 2.1 | virginica |\n",
       "| 6.7 | 3.1 | 5.6 | 2.4 | virginica |\n",
       "| 6.9 | 3.1 | 5.1 | 2.3 | virginica |\n",
       "| 5.8 | 2.7 | 5.1 | 1.9 | virginica |\n",
       "| 6.8 | 3.2 | 5.9 | 2.3 | virginica |\n",
       "| 6.7 | 3.3 | 5.7 | 2.5 | virginica |\n",
       "| 6.7 | 3.0 | 5.2 | 2.3 | virginica |\n",
       "| 6.3 | 2.5 | 5.0 | 1.9 | virginica |\n",
       "| 6.5 | 3.0 | 5.2 | 2.0 | virginica |\n",
       "| 6.2 | 3.4 | 5.4 | 2.3 | virginica |\n",
       "| 5.9 | 3.0 | 5.1 | 1.8 | virginica |\n",
       "\n",
       "\n",
       "\n",
       "\n"
      ],
      "text/plain": [
       "[[1]]\n",
       "[1]  TRUE FALSE FALSE  TRUE\n",
       "\n",
       "[[2]]\n",
       "[1]  9 20 12\n",
       "\n",
       "[[3]]\n",
       "    Sepal.Length Sepal.Width Petal.Length Petal.Width    Species\n",
       "1            5.1         3.5          1.4         0.2     setosa\n",
       "2            4.9         3.0          1.4         0.2     setosa\n",
       "3            4.7         3.2          1.3         0.2     setosa\n",
       "4            4.6         3.1          1.5         0.2     setosa\n",
       "5            5.0         3.6          1.4         0.2     setosa\n",
       "6            5.4         3.9          1.7         0.4     setosa\n",
       "7            4.6         3.4          1.4         0.3     setosa\n",
       "8            5.0         3.4          1.5         0.2     setosa\n",
       "9            4.4         2.9          1.4         0.2     setosa\n",
       "10           4.9         3.1          1.5         0.1     setosa\n",
       "11           5.4         3.7          1.5         0.2     setosa\n",
       "12           4.8         3.4          1.6         0.2     setosa\n",
       "13           4.8         3.0          1.4         0.1     setosa\n",
       "14           4.3         3.0          1.1         0.1     setosa\n",
       "15           5.8         4.0          1.2         0.2     setosa\n",
       "16           5.7         4.4          1.5         0.4     setosa\n",
       "17           5.4         3.9          1.3         0.4     setosa\n",
       "18           5.1         3.5          1.4         0.3     setosa\n",
       "19           5.7         3.8          1.7         0.3     setosa\n",
       "20           5.1         3.8          1.5         0.3     setosa\n",
       "21           5.4         3.4          1.7         0.2     setosa\n",
       "22           5.1         3.7          1.5         0.4     setosa\n",
       "23           4.6         3.6          1.0         0.2     setosa\n",
       "24           5.1         3.3          1.7         0.5     setosa\n",
       "25           4.8         3.4          1.9         0.2     setosa\n",
       "26           5.0         3.0          1.6         0.2     setosa\n",
       "27           5.0         3.4          1.6         0.4     setosa\n",
       "28           5.2         3.5          1.5         0.2     setosa\n",
       "29           5.2         3.4          1.4         0.2     setosa\n",
       "30           4.7         3.2          1.6         0.2     setosa\n",
       "31           4.8         3.1          1.6         0.2     setosa\n",
       "32           5.4         3.4          1.5         0.4     setosa\n",
       "33           5.2         4.1          1.5         0.1     setosa\n",
       "34           5.5         4.2          1.4         0.2     setosa\n",
       "35           4.9         3.1          1.5         0.2     setosa\n",
       "36           5.0         3.2          1.2         0.2     setosa\n",
       "37           5.5         3.5          1.3         0.2     setosa\n",
       "38           4.9         3.6          1.4         0.1     setosa\n",
       "39           4.4         3.0          1.3         0.2     setosa\n",
       "40           5.1         3.4          1.5         0.2     setosa\n",
       "41           5.0         3.5          1.3         0.3     setosa\n",
       "42           4.5         2.3          1.3         0.3     setosa\n",
       "43           4.4         3.2          1.3         0.2     setosa\n",
       "44           5.0         3.5          1.6         0.6     setosa\n",
       "45           5.1         3.8          1.9         0.4     setosa\n",
       "46           4.8         3.0          1.4         0.3     setosa\n",
       "47           5.1         3.8          1.6         0.2     setosa\n",
       "48           4.6         3.2          1.4         0.2     setosa\n",
       "49           5.3         3.7          1.5         0.2     setosa\n",
       "50           5.0         3.3          1.4         0.2     setosa\n",
       "51           7.0         3.2          4.7         1.4 versicolor\n",
       "52           6.4         3.2          4.5         1.5 versicolor\n",
       "53           6.9         3.1          4.9         1.5 versicolor\n",
       "54           5.5         2.3          4.0         1.3 versicolor\n",
       "55           6.5         2.8          4.6         1.5 versicolor\n",
       "56           5.7         2.8          4.5         1.3 versicolor\n",
       "57           6.3         3.3          4.7         1.6 versicolor\n",
       "58           4.9         2.4          3.3         1.0 versicolor\n",
       "59           6.6         2.9          4.6         1.3 versicolor\n",
       "60           5.2         2.7          3.9         1.4 versicolor\n",
       "61           5.0         2.0          3.5         1.0 versicolor\n",
       "62           5.9         3.0          4.2         1.5 versicolor\n",
       "63           6.0         2.2          4.0         1.0 versicolor\n",
       "64           6.1         2.9          4.7         1.4 versicolor\n",
       "65           5.6         2.9          3.6         1.3 versicolor\n",
       "66           6.7         3.1          4.4         1.4 versicolor\n",
       "67           5.6         3.0          4.5         1.5 versicolor\n",
       "68           5.8         2.7          4.1         1.0 versicolor\n",
       "69           6.2         2.2          4.5         1.5 versicolor\n",
       "70           5.6         2.5          3.9         1.1 versicolor\n",
       "71           5.9         3.2          4.8         1.8 versicolor\n",
       "72           6.1         2.8          4.0         1.3 versicolor\n",
       "73           6.3         2.5          4.9         1.5 versicolor\n",
       "74           6.1         2.8          4.7         1.2 versicolor\n",
       "75           6.4         2.9          4.3         1.3 versicolor\n",
       "76           6.6         3.0          4.4         1.4 versicolor\n",
       "77           6.8         2.8          4.8         1.4 versicolor\n",
       "78           6.7         3.0          5.0         1.7 versicolor\n",
       "79           6.0         2.9          4.5         1.5 versicolor\n",
       "80           5.7         2.6          3.5         1.0 versicolor\n",
       "81           5.5         2.4          3.8         1.1 versicolor\n",
       "82           5.5         2.4          3.7         1.0 versicolor\n",
       "83           5.8         2.7          3.9         1.2 versicolor\n",
       "84           6.0         2.7          5.1         1.6 versicolor\n",
       "85           5.4         3.0          4.5         1.5 versicolor\n",
       "86           6.0         3.4          4.5         1.6 versicolor\n",
       "87           6.7         3.1          4.7         1.5 versicolor\n",
       "88           6.3         2.3          4.4         1.3 versicolor\n",
       "89           5.6         3.0          4.1         1.3 versicolor\n",
       "90           5.5         2.5          4.0         1.3 versicolor\n",
       "91           5.5         2.6          4.4         1.2 versicolor\n",
       "92           6.1         3.0          4.6         1.4 versicolor\n",
       "93           5.8         2.6          4.0         1.2 versicolor\n",
       "94           5.0         2.3          3.3         1.0 versicolor\n",
       "95           5.6         2.7          4.2         1.3 versicolor\n",
       "96           5.7         3.0          4.2         1.2 versicolor\n",
       "97           5.7         2.9          4.2         1.3 versicolor\n",
       "98           6.2         2.9          4.3         1.3 versicolor\n",
       "99           5.1         2.5          3.0         1.1 versicolor\n",
       "100          5.7         2.8          4.1         1.3 versicolor\n",
       "101          6.3         3.3          6.0         2.5  virginica\n",
       "102          5.8         2.7          5.1         1.9  virginica\n",
       "103          7.1         3.0          5.9         2.1  virginica\n",
       "104          6.3         2.9          5.6         1.8  virginica\n",
       "105          6.5         3.0          5.8         2.2  virginica\n",
       "106          7.6         3.0          6.6         2.1  virginica\n",
       "107          4.9         2.5          4.5         1.7  virginica\n",
       "108          7.3         2.9          6.3         1.8  virginica\n",
       "109          6.7         2.5          5.8         1.8  virginica\n",
       "110          7.2         3.6          6.1         2.5  virginica\n",
       "111          6.5         3.2          5.1         2.0  virginica\n",
       "112          6.4         2.7          5.3         1.9  virginica\n",
       "113          6.8         3.0          5.5         2.1  virginica\n",
       "114          5.7         2.5          5.0         2.0  virginica\n",
       "115          5.8         2.8          5.1         2.4  virginica\n",
       "116          6.4         3.2          5.3         2.3  virginica\n",
       "117          6.5         3.0          5.5         1.8  virginica\n",
       "118          7.7         3.8          6.7         2.2  virginica\n",
       "119          7.7         2.6          6.9         2.3  virginica\n",
       "120          6.0         2.2          5.0         1.5  virginica\n",
       "121          6.9         3.2          5.7         2.3  virginica\n",
       "122          5.6         2.8          4.9         2.0  virginica\n",
       "123          7.7         2.8          6.7         2.0  virginica\n",
       "124          6.3         2.7          4.9         1.8  virginica\n",
       "125          6.7         3.3          5.7         2.1  virginica\n",
       "126          7.2         3.2          6.0         1.8  virginica\n",
       "127          6.2         2.8          4.8         1.8  virginica\n",
       "128          6.1         3.0          4.9         1.8  virginica\n",
       "129          6.4         2.8          5.6         2.1  virginica\n",
       "130          7.2         3.0          5.8         1.6  virginica\n",
       "131          7.4         2.8          6.1         1.9  virginica\n",
       "132          7.9         3.8          6.4         2.0  virginica\n",
       "133          6.4         2.8          5.6         2.2  virginica\n",
       "134          6.3         2.8          5.1         1.5  virginica\n",
       "135          6.1         2.6          5.6         1.4  virginica\n",
       "136          7.7         3.0          6.1         2.3  virginica\n",
       "137          6.3         3.4          5.6         2.4  virginica\n",
       "138          6.4         3.1          5.5         1.8  virginica\n",
       "139          6.0         3.0          4.8         1.8  virginica\n",
       "140          6.9         3.1          5.4         2.1  virginica\n",
       "141          6.7         3.1          5.6         2.4  virginica\n",
       "142          6.9         3.1          5.1         2.3  virginica\n",
       "143          5.8         2.7          5.1         1.9  virginica\n",
       "144          6.8         3.2          5.9         2.3  virginica\n",
       "145          6.7         3.3          5.7         2.5  virginica\n",
       "146          6.7         3.0          5.2         2.3  virginica\n",
       "147          6.3         2.5          5.0         1.9  virginica\n",
       "148          6.5         3.0          5.2         2.0  virginica\n",
       "149          6.2         3.4          5.4         2.3  virginica\n",
       "150          5.9         3.0          5.1         1.8  virginica\n"
      ]
     },
     "metadata": {},
     "output_type": "display_data"
    }
   ],
   "source": [
    "l <- list(v_log, v_num, iris)\n",
    "l"
   ]
  },
  {
   "cell_type": "markdown",
   "id": "88adea84-e025-44cc-b116-faf0dcf55157",
   "metadata": {},
   "source": [
    "## Factors\n",
    "\n",
    "Sometimes considered as a data type, as confusingly it is a possible response to the function `type`, and therefore\n",
    "a valid option for columns in a data frame. A factor is designed for categorical variables. They have a finite number of \n",
    "\"levels\", which are the options that any element of that vector can take. They are actually stored as integers \n",
    "which can make them quite powerful for subsetting. \n",
    "\n",
    "It is very easy for character vectors to be inappropriately stored as factors and vice versa. In fact, R's default \n",
    "when loading data is to store a string as a factor. Conversely if we define a vector, we have to explicitly convert \n",
    "it to a vector.\n",
    "\n",
    "For example, if we define a vector of months, the default is to class it as a vector of characters. We have to actively \n",
    "coerce it into a factor. "
   ]
  },
  {
   "cell_type": "code",
   "execution_count": 26,
   "id": "4c9f460b-ccbb-40e9-9e04-662941fac1d4",
   "metadata": {
    "editable": true,
    "slideshow": {
     "slide_type": ""
    },
    "tags": []
   },
   "outputs": [
    {
     "data": {
      "text/html": [
       "'character'"
      ],
      "text/latex": [
       "'character'"
      ],
      "text/markdown": [
       "'character'"
      ],
      "text/plain": [
       "[1] \"character\""
      ]
     },
     "metadata": {},
     "output_type": "display_data"
    }
   ],
   "source": [
    "a      <- c(\"March\",\"February\",\"February\",\"November\",\"February\",\"March\",\"March\",\"March\",\"February\",\"November\")\n",
    "class(a)"
   ]
  },
  {
   "cell_type": "code",
   "execution_count": 27,
   "id": "27dc038d",
   "metadata": {
    "editable": true,
    "slideshow": {
     "slide_type": ""
    },
    "tags": []
   },
   "outputs": [
    {
     "data": {
      "text/html": [
       "'character'"
      ],
      "text/latex": [
       "'character'"
      ],
      "text/markdown": [
       "'character'"
      ],
      "text/plain": [
       "[1] \"character\""
      ]
     },
     "metadata": {},
     "output_type": "display_data"
    }
   ],
   "source": [
    "fact <- as.factor(a)\n",
    "class(a)"
   ]
  },
  {
   "cell_type": "markdown",
   "id": "8e078b26-eab9-48c8-988e-032dd2af3871",
   "metadata": {
    "editable": true,
    "slideshow": {
     "slide_type": ""
    },
    "tags": []
   },
   "source": [
    "## Activity: Data Exploration\n",
    "\n",
    "Use these functions to explore the mtcars dataset.\n",
    "\n",
    "* How large is the dataset?\n",
    "* What type is the object?\n",
    "* What value is in the 6th row of the 4th column?"
   ]
  },
  {
   "cell_type": "markdown",
   "id": "bb9dcfb0-70d4-431e-991e-d62ff19cf1dd",
   "metadata": {
    "editable": true,
    "slideshow": {
     "slide_type": ""
    },
    "tags": []
   },
   "source": [
    "## Summary Quiz"
   ]
  },
  {
   "cell_type": "code",
   "execution_count": 28,
   "id": "2aa71599-58d1-4991-bc5b-7bb300b4aad8",
   "metadata": {
    "editable": true,
    "slideshow": {
     "slide_type": ""
    },
    "tags": [
     "remove-input"
    ]
   },
   "outputs": [
    {
     "data": {
      "text/html": [
       "\n",
       "  <style>\n",
       "  .quiz-question {\n",
       "      background-color: #6c63ff;\n",
       "      color: white;\n",
       "      padding: 12px;\n",
       "      border-radius: 10px;\n",
       "      font-weight: bold;\n",
       "      font-size: 1.2em;\n",
       "      margin-bottom: 10px;\n",
       "  }\n",
       "\n",
       "  .quiz-form {\n",
       "      margin-bottom: 20px;\n",
       "  }\n",
       "\n",
       "  .quiz-answer {\n",
       "      display: block;\n",
       "      background-color: #f2f2f2;\n",
       "      border: none;\n",
       "      border-radius: 10px;\n",
       "      padding: 10px;\n",
       "      margin: 5px 0;\n",
       "      font-size: 1em;\n",
       "      cursor: pointer;\n",
       "      text-align: left;\n",
       "      transition: background-color 0.3s;\n",
       "      width: 100%;\n",
       "  }\n",
       "\n",
       "  .quiz-answer:hover {\n",
       "      background-color: #e0e0e0;\n",
       "  }\n",
       "\n",
       "  .correct {\n",
       "      background-color: #4CAF50 !important;\n",
       "      color: white !important;\n",
       "      border: none;\n",
       "  }\n",
       "\n",
       "  .incorrect {\n",
       "      background-color: #D32F2F !important;\n",
       "      color: white !important;\n",
       "      border: none;\n",
       "  }\n",
       "\n",
       "  .feedback {\n",
       "      margin-top: 10px;\n",
       "      font-weight: bold;\n",
       "      font-size: 1em;\n",
       "  }\n",
       "  </style>\n",
       "\n",
       "  <script>\n",
       "  function handleAnswer(qid, aid, feedback, isCorrect) {\n",
       "      let buttons = document.querySelectorAll(\".answer-\" + qid);\n",
       "      buttons.forEach(btn => {\n",
       "          btn.classList.remove(\"correct\", \"incorrect\");\n",
       "      });\n",
       "\n",
       "      let selected = document.getElementById(aid);\n",
       "      selected.classList.add(isCorrect ? \"correct\" : \"incorrect\");\n",
       "\n",
       "      let feedbackBox = document.getElementById(\"feedback_\" + qid);\n",
       "      feedbackBox.innerHTML = feedback;\n",
       "      feedbackBox.style.color = isCorrect ? \"green\" : \"red\";\n",
       "  }\n",
       "  </script>\n",
       "  <div class=\"quiz-question\">What does a relative file path NOT start with?</div><form class=\"quiz-form\"><button type=\"button\" class=\"quiz-answer answer-1\" id=\"q1_a1\"\n",
       "         onclick=\"handleAnswer('1', 'q1_a1', 'Incorrect', false)\">\n",
       "         A drive letter (e.g., C:)</button><button type=\"button\" class=\"quiz-answer answer-1\" id=\"q1_a2\"\n",
       "         onclick=\"handleAnswer('1', 'q1_a2', 'Correct', true)\">\n",
       "         A forward slash (/)</button><button type=\"button\" class=\"quiz-answer answer-1\" id=\"q1_a3\"\n",
       "         onclick=\"handleAnswer('1', 'q1_a3', 'Incorrect', false)\">\n",
       "         A dot (.)</button><button type=\"button\" class=\"quiz-answer answer-1\" id=\"q1_a4\"\n",
       "         onclick=\"handleAnswer('1', 'q1_a4', 'Incorrect', false)\">\n",
       "         A folder name</button><div class=\"feedback\" id=\"feedback_1\"></div>\n",
       "       <button type=\"submit\" style=\"position:absolute; left:-9999px; width:1px; height:1px; overflow:hidden;\">\n",
       "         Submit\n",
       "       </button>\n",
       "       </form><hr><div class=\"quiz-question\">Which operator is used to assign a value to a variable in R?</div><form class=\"quiz-form\"><button type=\"button\" class=\"quiz-answer answer-2\" id=\"q2_a1\"\n",
       "         onclick=\"handleAnswer('2', 'q2_a1', 'Incorrect', false)\">\n",
       "         ==</button><button type=\"button\" class=\"quiz-answer answer-2\" id=\"q2_a2\"\n",
       "         onclick=\"handleAnswer('2', 'q2_a2', 'Incorrect', false)\">\n",
       "         -></button><button type=\"button\" class=\"quiz-answer answer-2\" id=\"q2_a3\"\n",
       "         onclick=\"handleAnswer('2', 'q2_a3', 'Incorrect', false)\">\n",
       "         =</button><button type=\"button\" class=\"quiz-answer answer-2\" id=\"q2_a4\"\n",
       "         onclick=\"handleAnswer('2', 'q2_a4', 'Correct', true)\">\n",
       "         <-</button><div class=\"feedback\" id=\"feedback_2\"></div>\n",
       "       <button type=\"submit\" style=\"position:absolute; left:-9999px; width:1px; height:1px; overflow:hidden;\">\n",
       "         Submit\n",
       "       </button>\n",
       "       </form><hr><div class=\"quiz-question\">What is the primary use of the console pane in RStudio?</div><form class=\"quiz-form\"><button type=\"button\" class=\"quiz-answer answer-3\" id=\"q3_a1\"\n",
       "         onclick=\"handleAnswer('3', 'q3_a1', 'Incorrect', false)\">\n",
       "         To edit scripts and save them for later use</button><button type=\"button\" class=\"quiz-answer answer-3\" id=\"q3_a2\"\n",
       "         onclick=\"handleAnswer('3', 'q3_a2', 'Incorrect', false)\">\n",
       "         To browse files and manage projects</button><button type=\"button\" class=\"quiz-answer answer-3\" id=\"q3_a3\"\n",
       "         onclick=\"handleAnswer('3', 'q3_a3', 'Correct', true)\">\n",
       "         To execute R commands and display results</button><button type=\"button\" class=\"quiz-answer answer-3\" id=\"q3_a4\"\n",
       "         onclick=\"handleAnswer('3', 'q3_a4', 'Incorrect', false)\">\n",
       "         To visualize data using plots</button><div class=\"feedback\" id=\"feedback_3\"></div>\n",
       "       <button type=\"submit\" style=\"position:absolute; left:-9999px; width:1px; height:1px; overflow:hidden;\">\n",
       "         Submit\n",
       "       </button>\n",
       "       </form><hr>"
      ]
     },
     "metadata": {},
     "output_type": "display_data"
    }
   ],
   "source": [
    "# Call the function to display quiz interactively:\n",
    "source(\"../../R_functions/quiz_renderer.R\")\n",
    "show_quiz_from_json(\"questions/summary_basic_commands.json\")"
   ]
  },
  {
   "cell_type": "code",
   "execution_count": null,
   "id": "8aa8ecad-c6a4-45da-8c9b-8f644e8352a1",
   "metadata": {
    "editable": true,
    "slideshow": {
     "slide_type": ""
    },
    "tags": []
   },
   "outputs": [],
   "source": []
  }
 ],
 "metadata": {
  "kernelspec": {
   "display_name": "R",
   "language": "R",
   "name": "ir"
  },
  "language_info": {
   "codemirror_mode": "r",
   "file_extension": ".r",
   "mimetype": "text/x-r-source",
   "name": "R",
   "pygments_lexer": "r",
   "version": "4.3.3"
  }
 },
 "nbformat": 4,
 "nbformat_minor": 5
}
