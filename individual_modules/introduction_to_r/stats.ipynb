{
 "cells": [
  {
   "cell_type": "markdown",
   "id": "565b0a6e-e38e-42f6-b7f9-729958a7d09b",
   "metadata": {
    "editable": true,
    "slideshow": {
     "slide_type": ""
    },
    "tags": []
   },
   "source": [
    "# Statistical Analysis\n",
    "\n",
    "R is synomous with data analysis. Here we will learn how to perform a number of common statistical tests with R. Please note that the focus here is on how\n",
    "to perform a given test in R, it is not to discuss the merits of or scenarios in which you would use a specific test.\n",
    "\n",
    "## Download Rmd Version\n",
    "\n",
    "If you wish to engage with this course content via Rmd, then please click the link below to download the Rmd file.\n",
    "\n",
    "[Download stats.Rmd](rmarkdown/stats.Rmd)\n",
    "\n",
    "\n",
    "\n",
    "## Learning Objectives\n",
    "- Understand the process of loading and organizing datasets\n",
    "- Learn how to calculate summary statistics, including mean, median, standard deviation, and variance\n",
    "- Analyze data subsets using the `tapply` and `aggregate` functions\n",
    "- Create frequency tables and cross-tabulations for categorical data\n",
    "- Conduct and interpret common statistical tests such as t-tests and ANOVA\n",
    "\n",
    "## Loading the dataset\n",
    "\n",
    "To do statistics we need some observed data. We will use a dataset contained in the csv file [bp_dataset.csv](data/bp_dataset_session4.csv). This dataset is based on a clinical trial to test the effect of two \n",
    "drugs (Drug A and Drug B), compared with an inactive control drug (placebo), on blood pressure in people who have high blood pressure. The purpose of the \n",
    "drugs is to reduce blood pressure. Some additional information about the people in the trial, such as their age and sex, is also provided (see \n",
    "[codebook](data/bp_dataset_codebook_session4.xlsx) for further information about the variables).\n",
    "\n",
    "Let's start by loading the dataset. You need to ensure that the dataset is located in your current working directory. \n",
    "We will read in the csv file and assign it to a variable called ```bp_dataset```. The ```header=TRUE``` argument means R will take the entries in the first row \n",
    " and use these to set the column headings. "
   ]
  },
  {
   "cell_type": "code",
   "execution_count": 2,
   "id": "4682de8d-2f0c-431d-af79-94758d11558e",
   "metadata": {
    "editable": true,
    "slideshow": {
     "slide_type": ""
    },
    "tags": []
   },
   "outputs": [
    {
     "name": "stdout",
     "output_type": "stream",
     "text": [
      "  ptid male age intervention bp_baseline bp_3m bp_6m\n",
      "1    1    1  41       Drug B         218   153   163\n",
      "2    2    0  46       Drug B         200   162   177\n",
      "3    3    0  37       Drug A         198   122   166\n",
      "4    4    0  46       Drug A         202   148   128\n",
      "5    5    1  44      Control         142   196   231\n",
      "6    6    1  36       Drug B         148   191   164\n"
     ]
    }
   ],
   "source": [
    "bp_dataset<-read.csv(file=\"data/bp_dataset_session4.csv\", header=TRUE)\n",
    "head(bp_dataset)"
   ]
  },
  {
   "cell_type": "markdown",
   "id": "1900ec93-cd0f-405a-ad42-09d1798b7b90",
   "metadata": {
    "editable": true,
    "slideshow": {
     "slide_type": ""
    },
    "tags": []
   },
   "source": [
    "Let's find out how many rows (observations) and variables (columns) are in this dataset using the ```dim``` command (for dimensions)."
   ]
  },
  {
   "cell_type": "code",
   "execution_count": 3,
   "id": "f10ea88b-cb68-40a4-a157-cfc187cca8b6",
   "metadata": {
    "editable": true,
    "slideshow": {
     "slide_type": ""
    },
    "tags": []
   },
   "outputs": [
    {
     "name": "stdout",
     "output_type": "stream",
     "text": [
      "[1] 100   7\n"
     ]
    }
   ],
   "source": [
    "dim(bp_dataset)"
   ]
  },
  {
   "cell_type": "markdown",
   "id": "4ec50e5c-f554-48fe-96d7-419e9662e5db",
   "metadata": {},
   "source": [
    "## Data Organisation \n",
    "\n",
    "When it comes to programming how you organise/store your data becomes important to facilitate efficient processing. This is beyond the remit of this course - but you can find out more about the principles of [tidy data here](https://r4ds.had.co.nz/tidy-data.html).\n",
    "\n",
    "We also want to check the types of variable in the dataframe. The ```str()``` command allows us to check the structure of the dataframe and tells us about the types of variables in our dataset."
   ]
  },
  {
   "cell_type": "code",
   "execution_count": 4,
   "id": "f753c325-8878-4c22-9b8d-1dc220d7d6c3",
   "metadata": {
    "editable": true,
    "slideshow": {
     "slide_type": ""
    },
    "tags": []
   },
   "outputs": [
    {
     "name": "stdout",
     "output_type": "stream",
     "text": [
      "'data.frame':\t100 obs. of  7 variables:\n",
      " $ ptid        : int  1 2 3 4 5 6 7 8 9 10 ...\n",
      " $ male        : int  1 0 0 0 1 1 0 0 1 1 ...\n",
      " $ age         : int  41 46 37 46 44 36 65 69 58 65 ...\n",
      " $ intervention: chr  \"Drug B\" \"Drug B\" \"Drug A\" \"Drug A\" ...\n",
      " $ bp_baseline : int  218 200 198 202 142 148 166 201 206 140 ...\n",
      " $ bp_3m       : int  153 162 122 148 196 191 140 141 173 125 ...\n",
      " $ bp_6m       : int  163 177 166 128 231 164 152 113 164 115 ...\n"
     ]
    }
   ],
   "source": [
    "str(bp_dataset)"
   ]
  },
  {
   "cell_type": "markdown",
   "id": "f9182d9a-b231-4224-a738-094b75052f68",
   "metadata": {},
   "source": [
    "In this dataset we have both integer and character variables. Gender is provided as a binary variable \n",
    "(also known as an indicator or dummy variable) called ```male``` coded as 0 \n",
    "(for female) and 1 (for male). This is not necessary, if it was coded as a factor with the levels \n",
    "\"Female\" and \"Male\" R would be happy to use in the \n",
    "statistical functions. Coding it in this way however, is more aligned with how it is used in statistics, \n",
    "and may make interpretation easier. \n",
    "\n",
    "The variable `intervention` is a character variable, although arguably this should be coded as a factor. However,\n",
    "in most cases R will convert it to a factor within the function calls if it is needed.\n",
    "\n",
    "\n",
    "## Summary statistics\n",
    "\n",
    "In this dataset, there are 4 numeric variables. These are ```age```, and blood pressure measured at three timepoints (```bp_baseline```, \n",
    "```bp_3m```, ```bp_6m```).\n",
    "\n",
    "We want to find the mean, median, standard deviation and variance for these variables. Let's start with the mean. To find the mean for ```age``` we can use:\n",
    "\n"
   ]
  },
  {
   "cell_type": "code",
   "execution_count": 5,
   "id": "019f2c91-eea0-4cfe-8f9c-61938b0367bf",
   "metadata": {
    "editable": true,
    "slideshow": {
     "slide_type": ""
    },
    "tags": []
   },
   "outputs": [
    {
     "name": "stdout",
     "output_type": "stream",
     "text": [
      "[1] 49.03\n"
     ]
    }
   ],
   "source": [
    "mean(bp_dataset$age)"
   ]
  },
  {
   "cell_type": "markdown",
   "id": "f1e2be03-9e0c-4ef0-8936-faa426cf6027",
   "metadata": {},
   "source": [
    "We can attach the dataframe ```bp_dataset```, so we don't need to use the ```$``` notation for each command. Remember to use the ```detach()``` \n",
    "command when you wish to detach the dataframe."
   ]
  },
  {
   "cell_type": "code",
   "execution_count": 6,
   "id": "1464dd04-2afd-47b6-9bf4-eb1f6cc19508",
   "metadata": {
    "editable": true,
    "slideshow": {
     "slide_type": ""
    },
    "tags": []
   },
   "outputs": [
    {
     "name": "stdout",
     "output_type": "stream",
     "text": [
      "[1] 49.03\n"
     ]
    }
   ],
   "source": [
    "attach(bp_dataset)\n",
    "mean(age)"
   ]
  },
  {
   "cell_type": "markdown",
   "id": "1bab6b2f-113f-4eff-8b2b-28ae2ca4a356",
   "metadata": {},
   "source": [
    "We can also calculate the median, standard deviation, variance, minimum, maximum, range and sum fairly easily using base R functions. "
   ]
  },
  {
   "cell_type": "code",
   "execution_count": 7,
   "id": "54cda27b-ed37-470f-afa3-9e91c5b61f88",
   "metadata": {
    "editable": true,
    "slideshow": {
     "slide_type": ""
    },
    "tags": []
   },
   "outputs": [
    {
     "name": "stdout",
     "output_type": "stream",
     "text": [
      "[1] 12.31116\n"
     ]
    }
   ],
   "source": [
    "sd(age)"
   ]
  },
  {
   "cell_type": "code",
   "execution_count": 8,
   "id": "ff08adb7-6577-40d7-aaa2-253d0fc094ea",
   "metadata": {
    "editable": true,
    "slideshow": {
     "slide_type": ""
    },
    "tags": []
   },
   "outputs": [
    {
     "name": "stdout",
     "output_type": "stream",
     "text": [
      "[1] 47\n"
     ]
    }
   ],
   "source": [
    "median(age)"
   ]
  },
  {
   "cell_type": "code",
   "execution_count": 9,
   "id": "c523179a-33da-471b-b830-54ed5a6ddfaf",
   "metadata": {
    "editable": true,
    "slideshow": {
     "slide_type": ""
    },
    "tags": []
   },
   "outputs": [
    {
     "name": "stdout",
     "output_type": "stream",
     "text": [
      "[1] 151.5647\n"
     ]
    }
   ],
   "source": [
    "var(age)"
   ]
  },
  {
   "cell_type": "code",
   "execution_count": 10,
   "id": "845e764b-3153-427e-bc7d-84990f6c8835",
   "metadata": {
    "editable": true,
    "slideshow": {
     "slide_type": ""
    },
    "tags": []
   },
   "outputs": [
    {
     "name": "stdout",
     "output_type": "stream",
     "text": [
      "[1] 26\n"
     ]
    }
   ],
   "source": [
    "min(age)"
   ]
  },
  {
   "cell_type": "code",
   "execution_count": 11,
   "id": "920effb7-b7c6-4922-a149-a8a56a4e07b5",
   "metadata": {
    "editable": true,
    "slideshow": {
     "slide_type": ""
    },
    "tags": []
   },
   "outputs": [
    {
     "name": "stdout",
     "output_type": "stream",
     "text": [
      "[1] 81\n"
     ]
    }
   ],
   "source": [
    "max(age)"
   ]
  },
  {
   "cell_type": "code",
   "execution_count": 12,
   "id": "f1fbef13-ffa0-4340-b6db-f1af812471b9",
   "metadata": {
    "editable": true,
    "slideshow": {
     "slide_type": ""
    },
    "tags": []
   },
   "outputs": [
    {
     "name": "stdout",
     "output_type": "stream",
     "text": [
      "[1] 26 81\n"
     ]
    }
   ],
   "source": [
    "range(age)"
   ]
  },
  {
   "cell_type": "code",
   "execution_count": 13,
   "id": "63f11cbd-306d-44c6-a3f3-d0de4e3a5986",
   "metadata": {
    "editable": true,
    "slideshow": {
     "slide_type": ""
    },
    "tags": []
   },
   "outputs": [
    {
     "name": "stdout",
     "output_type": "stream",
     "text": [
      "[1] 4903\n"
     ]
    }
   ],
   "source": [
    "sum(age)"
   ]
  },
  {
   "cell_type": "markdown",
   "id": "c5d16207-c330-409a-8c49-b7fd266dff51",
   "metadata": {},
   "source": [
    "*Note* The commands 'sd' and 'var' calculate the sample sd and variance, not the population sd and variance.\n",
    "\n",
    "We can also calculate percentiles. Using the ```quantile()``` command we need to specify which quantiles ( as proportions) that we want to calculate, where the 0.5 quantile would represent the median."
   ]
  },
  {
   "cell_type": "code",
   "execution_count": 14,
   "id": "a493d344-bb12-41fd-88e2-67ac2103fa29",
   "metadata": {
    "editable": true,
    "slideshow": {
     "slide_type": ""
    },
    "tags": []
   },
   "outputs": [
    {
     "name": "stdout",
     "output_type": "stream",
     "text": [
      "  25%   50%   75% \n",
      "40.00 47.00 56.25 \n"
     ]
    }
   ],
   "source": [
    "quantile(age, probs = c(.25, .5, .75))"
   ]
  },
  {
   "cell_type": "markdown",
   "id": "a8872c4f-a0f2-430a-b910-97f4382981fe",
   "metadata": {},
   "source": [
    "To get the inter-quartile range (75th percentile minus 25th percentile) we can do this with the ```IQR()``` function."
   ]
  },
  {
   "cell_type": "code",
   "execution_count": 15,
   "id": "7e37db39-34f7-489b-a69d-c9bbc475c977",
   "metadata": {
    "editable": true,
    "slideshow": {
     "slide_type": ""
    },
    "tags": []
   },
   "outputs": [
    {
     "name": "stdout",
     "output_type": "stream",
     "text": [
      "[1] 16.25\n"
     ]
    }
   ],
   "source": [
    "IQR(age)"
   ]
  },
  {
   "cell_type": "markdown",
   "id": "a7a217e4-992f-48b1-bb9b-b27668279064",
   "metadata": {},
   "source": [
    "We can also calculate multiple descriptive summary statistics of a numeric variable simultaneously using the function ```summary()```."
   ]
  },
  {
   "cell_type": "code",
   "execution_count": 16,
   "id": "d9bea97e-22d2-414f-a241-07f6cf3e66ff",
   "metadata": {
    "editable": true,
    "slideshow": {
     "slide_type": ""
    },
    "tags": []
   },
   "outputs": [
    {
     "name": "stdout",
     "output_type": "stream",
     "text": [
      "   Min. 1st Qu.  Median    Mean 3rd Qu.    Max. \n",
      "  26.00   40.00   47.00   49.03   56.25   81.00 \n"
     ]
    }
   ],
   "source": [
    "summary(age)"
   ]
  },
  {
   "cell_type": "markdown",
   "id": "05547fd2-f37a-458b-aa22-8537d025115d",
   "metadata": {},
   "source": [
    "## Activity\n",
    "\n",
    "Find the means, medians and range for the variable ```bp_baseline``` and ```bp_3m```.\n",
    "\n",
    "# Summary statistics by groups\n",
    "\n",
    "We can calculate statistics for different subsets or groups of the data by using R command ```tapply()```. The ```tapply()``` \n",
    "command requires 3  arguments :\n",
    "\n",
    " + a numeric variable which we want to summarise (in the example below this is ```age```) \n",
    " + a categorical variable indicating the subgroups which we want to group by (in the example below this is ```male```)\n",
    " + the function we wish to call on each subgroup (in the example below this is ```mean```)"
   ]
  },
  {
   "cell_type": "code",
   "execution_count": 17,
   "id": "f2c7a39e-00f0-425b-85b3-e69f889ecc90",
   "metadata": {
    "editable": true,
    "slideshow": {
     "slide_type": ""
    },
    "tags": []
   },
   "outputs": [
    {
     "name": "stdout",
     "output_type": "stream",
     "text": [
      "       0        1 \n",
      "51.94595 47.31746 \n"
     ]
    }
   ],
   "source": [
    "tapply(age, male, mean)"
   ]
  },
  {
   "cell_type": "markdown",
   "id": "d458ec38-644c-4097-88d9-aa7b7a0b5eb8",
   "metadata": {},
   "source": [
    "If we want to calculate a summary statistics for a sub group, we do this by subsetting it and providing the subset to the ```mean()``` function. For example, \n",
    "to calculate the mean of just the means (i.e where male==1). \n",
    "Note the use of ```==``` for specifying an equality condition.\n"
   ]
  },
  {
   "cell_type": "code",
   "execution_count": 18,
   "id": "93c6d91c-efe7-49d0-bc0f-a24f355a3fa4",
   "metadata": {
    "editable": true,
    "slideshow": {
     "slide_type": ""
    },
    "tags": []
   },
   "outputs": [
    {
     "name": "stdout",
     "output_type": "stream",
     "text": [
      "[1] 47.31746\n"
     ]
    }
   ],
   "source": [
    "mean(age[male==1])"
   ]
  },
  {
   "cell_type": "markdown",
   "id": "7c84599e-d623-49da-9e36-2392fca7487f",
   "metadata": {},
   "source": [
    "We can use the ```tapply()``` function to calculate the medians for the intervention groups."
   ]
  },
  {
   "cell_type": "code",
   "execution_count": 19,
   "id": "4ceec83b-9f9b-43a2-8a3f-1230da5f4d95",
   "metadata": {
    "editable": true,
    "slideshow": {
     "slide_type": ""
    },
    "tags": []
   },
   "outputs": [
    {
     "name": "stdout",
     "output_type": "stream",
     "text": [
      "Control  Drug A  Drug B \n",
      "   49.5    49.5    42.5 \n"
     ]
    }
   ],
   "source": [
    "tapply(age, intervention, median)"
   ]
  },
  {
   "cell_type": "markdown",
   "id": "b01b12d0-8de4-407f-b3f2-6d7366f5fa41",
   "metadata": {},
   "source": [
    "If we want to calculate summary statistics for combinations of groups - for example by sex and intervention group, - we can use the ```aggregate()```\n",
    " command. We use the formula method to specify which variables we want to summarise (on the left hand side of the ~) and which we want to group by\n",
    " (on the right hand side of the ~).  If all the variables are included in\n",
    " single data.frame, we can construct the formula using just the column names, and include the argument ```data``` to specify which object these are found\n",
    " in. The ```FUN``` argument specifies which function you want to apply to these data, which is the mean in this example. \n",
    " Note that we need to include the dataset as an argument, even though we have attached ```bp_dataset```.\n",
    "\n"
   ]
  },
  {
   "cell_type": "code",
   "execution_count": 20,
   "id": "f11baaf3-6d49-4e3d-9cb6-f2abd7acab14",
   "metadata": {
    "editable": true,
    "slideshow": {
     "slide_type": ""
    },
    "tags": []
   },
   "outputs": [
    {
     "name": "stdout",
     "output_type": "stream",
     "text": [
      "  male intervention      age\n",
      "1    0      Control 53.84615\n",
      "2    1      Control 49.33333\n",
      "3    0       Drug A 56.63636\n",
      "4    1       Drug A 47.73913\n",
      "5    0       Drug B 46.07692\n",
      "6    1       Drug B 45.72000\n"
     ]
    }
   ],
   "source": [
    "aggregate(age ~ male + intervention, data=bp_dataset, FUN=mean)"
   ]
  },
  {
   "cell_type": "markdown",
   "id": "a6f43713-8334-4781-b42d-2d5d40ae8d50",
   "metadata": {},
   "source": [
    "## Activity\n",
    "\n",
    "1. Calculate the mean, SD, median, 10th and 90th percentiles for `bp_baseline` for each intervention group. \n",
    "2. Calculate the 25th centile, 50th centile (median) and 75th centile for `age`, for each combination of sex and intervention group. \n",
    "\n",
    "\n",
    "# Summary statistics for categorical data\n",
    "\n",
    "We can create a frequency table for categorical variables using the ```table()``` command.\n"
   ]
  },
  {
   "cell_type": "code",
   "execution_count": 21,
   "id": "321e4cb4-5ae8-4d00-89b7-2a5650082bda",
   "metadata": {
    "editable": true,
    "slideshow": {
     "slide_type": ""
    },
    "tags": []
   },
   "outputs": [
    {
     "name": "stdout",
     "output_type": "stream",
     "text": [
      "male\n",
      " 0  1 \n",
      "37 63 \n"
     ]
    }
   ],
   "source": [
    "table(male)"
   ]
  },
  {
   "cell_type": "markdown",
   "id": "a9e365e2-0e41-46ce-ab51-0f346d047625",
   "metadata": {},
   "source": [
    "We can also produce cross-tabulations for two categorical variables. The first variable will form the rows, and the\n",
    "second variable the columns. "
   ]
  },
  {
   "cell_type": "code",
   "execution_count": 22,
   "id": "bdc18380-e85a-470b-9cf7-bdc0b95e2752",
   "metadata": {
    "editable": true,
    "slideshow": {
     "slide_type": ""
    },
    "tags": []
   },
   "outputs": [
    {
     "name": "stdout",
     "output_type": "stream",
     "text": [
      "    intervention\n",
      "male Control Drug A Drug B\n",
      "   0      13     11     13\n",
      "   1      15     23     25\n"
     ]
    }
   ],
   "source": [
    "table(male, intervention)"
   ]
  },
  {
   "cell_type": "markdown",
   "id": "e2ee8182-1593-4419-aee5-dd9719608253",
   "metadata": {},
   "source": [
    "In fact, we can produce tables for more than 2 categorical variables. R will print these as a series of 2-dimensional\n",
    "tables for fixed values of the other variables.\n",
    "\n",
    "If we also wish to calculate proportions or percentages, we can use the ```prop.table()``` command. We first need to create the \n",
    "table and then pass to ```prop.table()```. You can either do this in two stages:"
   ]
  },
  {
   "cell_type": "code",
   "execution_count": 23,
   "id": "546f2764-b655-4e67-a2b4-d997bda646e0",
   "metadata": {
    "editable": true,
    "slideshow": {
     "slide_type": ""
    },
    "tags": []
   },
   "outputs": [
    {
     "name": "stdout",
     "output_type": "stream",
     "text": [
      "male\n",
      "   0    1 \n",
      "0.37 0.63 \n"
     ]
    }
   ],
   "source": [
    "table.male<-table(male)\n",
    "prop.table(table.male)"
   ]
  },
  {
   "cell_type": "markdown",
   "id": "f5eb5523-2adb-4eab-8d9f-78f641f057cf",
   "metadata": {},
   "source": [
    "Or as a nested function call:"
   ]
  },
  {
   "cell_type": "code",
   "execution_count": 24,
   "id": "815bef6c-d79f-4e18-91f6-c28421aba710",
   "metadata": {
    "editable": true,
    "slideshow": {
     "slide_type": ""
    },
    "tags": []
   },
   "outputs": [
    {
     "name": "stdout",
     "output_type": "stream",
     "text": [
      "    intervention\n",
      "male Control Drug A Drug B\n",
      "   0    0.13   0.11   0.13\n",
      "   1    0.15   0.23   0.25\n"
     ]
    }
   ],
   "source": [
    "prop.table(table(male, intervention))"
   ]
  },
  {
   "cell_type": "markdown",
   "id": "f96f09d3-a6ca-475a-a2c8-c02d171ed663",
   "metadata": {},
   "source": [
    "We can also create a table for a subgroup of the data by providing just a subset of the data to the ```table()``` function. For example, to count the number of each sex, only for people aged over 50:\n"
   ]
  },
  {
   "cell_type": "code",
   "execution_count": 25,
   "id": "104a2576-029f-4113-8af4-9bc905c62d07",
   "metadata": {
    "editable": true,
    "slideshow": {
     "slide_type": ""
    },
    "tags": []
   },
   "outputs": [
    {
     "name": "stdout",
     "output_type": "stream",
     "text": [
      "\n",
      " 0  1 \n",
      "17 19 \n"
     ]
    }
   ],
   "source": [
    "table(male[age>50])"
   ]
  },
  {
   "cell_type": "markdown",
   "id": "3245b442-da40-45f4-b4e1-2e4af74707a2",
   "metadata": {},
   "source": [
    "## Activity \n",
    "1. Create table of frequencies of the number of individuals in each intervention group. Convert this into \n",
    "and a table of percentages.\n",
    "\n",
    "2. Create a table of frequencies of each intervention group stratified by whether the individual's baseline blood pressure is \n",
    "greater than or equal to 180.\n",
    "\n",
    "# Common statistical tests: One-sample t-test\n",
    "\n",
    "There are several types of t-test. We will start with the simplest: a one-sample two-sided t-test to test the null hypothesis that the true mean \n",
    "value of a continuous variable is equal to a pre-specified value. The default behaviour, and the most common application, is to compare to a value of 0.\n",
    "\n"
   ]
  },
  {
   "cell_type": "code",
   "execution_count": 26,
   "id": "96eab37c-5214-4907-af75-c761544a8c3a",
   "metadata": {
    "editable": true,
    "slideshow": {
     "slide_type": ""
    },
    "tags": []
   },
   "outputs": [
    {
     "name": "stdout",
     "output_type": "stream",
     "text": [
      "\n",
      "\tOne Sample t-test\n",
      "\n",
      "data:  age\n",
      "t = 39.826, df = 99, p-value < 2.2e-16\n",
      "alternative hypothesis: true mean is not equal to 0\n",
      "95 percent confidence interval:\n",
      " 46.5872 51.4728\n",
      "sample estimates:\n",
      "mean of x \n",
      "    49.03 \n",
      "\n"
     ]
    }
   ],
   "source": [
    "t.test(age)"
   ]
  },
  {
   "cell_type": "markdown",
   "id": "ae02ccda-a868-44ba-812e-324c60b55408",
   "metadata": {},
   "source": [
    "We can see in the console, we get a more verbose output than we have seen before. Mainly because the result of a statistical test often includes multiple\n",
    "statistics, and the original writers of the ```t.test()``` function have made an effort to present these back to the user in an easy to interpret way. \n",
    "\n",
    "We can see there is a statement at the top of the output reminding or confirming which statistical test we have performed, and underneath this is a confirmation\n",
    "of which variable/data this was performed on. \n",
    "\n",
    "We then have a line of multiple test statistics, including the p-value. Here we can see our test result is highly significant with p < 2.2e-16. Given \n",
    "we are analysing a population of adults, they are all a lot older than 0 so it is not surprising. The function writers have take the executive decision\n",
    "to report the p-value as < 2.2e-16 rather than give the specific value. In some fields/journals/research group, this approximation is not good enough. \n",
    "Later we will show you how to extract a more precise p-value. \n",
    "\n",
    "Underneath this we have a confirmation of the alternative hypothesis the statistic was considered against, we then have the confidence interval and the \n",
    "estimated mean of the sample.\n",
    "\n",
    "We can vary the width of the confidence interval provided as part of the t-test output, by including the argument ```conf.int```. The default is the 95% CI.\n",
    "For the 90% confidence interval, we can run"
   ]
  },
  {
   "cell_type": "code",
   "execution_count": 27,
   "id": "f12dd0cd-f90b-4a6f-a9a4-529e27776438",
   "metadata": {
    "editable": true,
    "slideshow": {
     "slide_type": ""
    },
    "tags": []
   },
   "outputs": [
    {
     "name": "stdout",
     "output_type": "stream",
     "text": [
      "\n",
      "\tOne Sample t-test\n",
      "\n",
      "data:  age\n",
      "t = 39.826, df = 99, p-value < 2.2e-16\n",
      "alternative hypothesis: true mean is not equal to 0\n",
      "90 percent confidence interval:\n",
      " 46.98587 51.07413\n",
      "sample estimates:\n",
      "mean of x \n",
      "    49.03 \n",
      "\n"
     ]
    }
   ],
   "source": [
    "t.test(age, conf.level=0.90)"
   ]
  },
  {
   "cell_type": "markdown",
   "id": "4713fb9f-4ed8-4e5e-8d32-11f6daa382cc",
   "metadata": {},
   "source": [
    "Here we can see that the majority of the output is unchanged, it is just the confidence interval which is different. \n",
    "\n",
    "The default behaviour is to perform a two-sided t-test. We can specify a one-sided t-test testing whether the true mean of the variable is greater than \n",
    "or less than the specified value  by including the argument ```alternative``` and setting it to either ```greater``` or ```less```. To test \n",
    "whether the true mean `age` is greater than 0 we use:\n"
   ]
  },
  {
   "cell_type": "code",
   "execution_count": 28,
   "id": "4027868b-b6c3-4ae7-9dc4-a70e37389c89",
   "metadata": {
    "editable": true,
    "slideshow": {
     "slide_type": ""
    },
    "tags": []
   },
   "outputs": [
    {
     "name": "stdout",
     "output_type": "stream",
     "text": [
      "\n",
      "\tOne Sample t-test\n",
      "\n",
      "data:  age\n",
      "t = 39.826, df = 99, p-value < 2.2e-16\n",
      "alternative hypothesis: true mean is greater than 0\n",
      "95 percent confidence interval:\n",
      " 46.98587      Inf\n",
      "sample estimates:\n",
      "mean of x \n",
      "    49.03 \n",
      "\n"
     ]
    }
   ],
   "source": [
    "t.test(age, alternative=\"greater\")"
   ]
  },
  {
   "cell_type": "markdown",
   "id": "d6235e4e-2b27-48d5-949e-3c2f7560fb01",
   "metadata": {},
   "source": [
    "Although this is a very uncommon application (due to the need to justify the choice of value), you can perform a one sample t-test against a value \n",
    "other than 0 by including the argument ```mu```. For example, we can use a t-test to test if true mean ```age```=50.\n"
   ]
  },
  {
   "cell_type": "code",
   "execution_count": 29,
   "id": "712825a8-afb9-43b5-8ad7-35fd047409bf",
   "metadata": {
    "editable": true,
    "slideshow": {
     "slide_type": ""
    },
    "tags": []
   },
   "outputs": [
    {
     "name": "stdout",
     "output_type": "stream",
     "text": [
      "\n",
      "\tOne Sample t-test\n",
      "\n",
      "data:  age\n",
      "t = -0.7879, df = 99, p-value = 0.4326\n",
      "alternative hypothesis: true mean is not equal to 50\n",
      "95 percent confidence interval:\n",
      " 46.5872 51.4728\n",
      "sample estimates:\n",
      "mean of x \n",
      "    49.03 \n",
      "\n"
     ]
    }
   ],
   "source": [
    "t.test(age, mu=50)"
   ]
  },
  {
   "cell_type": "markdown",
   "id": "99e71401-67b3-4c68-a087-fd6d37d900f6",
   "metadata": {},
   "source": [
    "If you are only performing one (or a few) statistical tests, and you are working iteratively then you might be able to manually copy the result from the \n",
    "console. However, there are likely times when you want to extract the result from the test for further processing, for example enter it into a table to \n",
    "save to your computer. We can save the output of a t.test (or indeed any other statistical test or function) to a variable, meaning we can manipulate it \n",
    "further."
   ]
  },
  {
   "cell_type": "code",
   "execution_count": 30,
   "id": "9ee7c772-57df-4722-963d-0901a03a98b1",
   "metadata": {
    "editable": true,
    "slideshow": {
     "slide_type": ""
    },
    "tags": []
   },
   "outputs": [
    {
     "name": "stdout",
     "output_type": "stream",
     "text": [
      "\n",
      "\tOne Sample t-test\n",
      "\n",
      "data:  age\n",
      "t = -0.7879, df = 99, p-value = 0.4326\n",
      "alternative hypothesis: true mean is not equal to 50\n",
      "95 percent confidence interval:\n",
      " 46.5872 51.4728\n",
      "sample estimates:\n",
      "mean of x \n",
      "    49.03 \n",
      "\n"
     ]
    }
   ],
   "source": [
    "t.out<-t.test(age, mu=50)\n",
    "t.out"
   ]
  },
  {
   "cell_type": "markdown",
   "id": "6c3e8b0e-cc1b-409a-9d33-5dff8182593a",
   "metadata": {},
   "source": [
    "As before, when we defined or created a variable, there is no output to the console. We can see the output by entering the name of the object. Let's \n",
    "explore the object that we have created. If we use ```class()``` we can learn what type of object it is."
   ]
  },
  {
   "cell_type": "code",
   "execution_count": 31,
   "id": "43acac0b-62b3-41d2-b1f8-fb202fb8314c",
   "metadata": {
    "editable": true,
    "slideshow": {
     "slide_type": ""
    },
    "tags": []
   },
   "outputs": [
    {
     "name": "stdout",
     "output_type": "stream",
     "text": [
      "[1] \"htest\"\n"
     ]
    }
   ],
   "source": [
    "class(t.out)"
   ]
  },
  {
   "cell_type": "markdown",
   "id": "df53c9a7-cfeb-457f-b37d-55878c4c5e31",
   "metadata": {},
   "source": [
    "```htest``` - that's a new one. This is a type of object that has been specifically defined to hold the result of a t-test. It consists of different objects\n",
    "or slots where different parts of the result are stored. We can get a list of this elements with the function ```names()```.\n"
   ]
  },
  {
   "cell_type": "code",
   "execution_count": 32,
   "id": "de790646-63f2-49cc-99fc-e1c4d962d163",
   "metadata": {
    "editable": true,
    "slideshow": {
     "slide_type": ""
    },
    "tags": []
   },
   "outputs": [
    {
     "name": "stdout",
     "output_type": "stream",
     "text": [
      " [1] \"statistic\"   \"parameter\"   \"p.value\"     \"conf.int\"    \"estimate\"   \n",
      " [6] \"null.value\"  \"stderr\"      \"alternative\" \"method\"      \"data.name\"  \n"
     ]
    }
   ],
   "source": [
    "names(t.out)"
   ]
  },
  {
   "cell_type": "markdown",
   "id": "8a640d03-bf42-437b-bbda-fe24a03ee2ae",
   "metadata": {},
   "source": [
    "We can see 10 items listed. All of these are named elements stored within our ```htest``` object which we can extract by name using the ```$```. For example, \n",
    "we can get just the p-value as follows:"
   ]
  },
  {
   "cell_type": "code",
   "execution_count": 33,
   "id": "4a608ea6-6487-401c-9c3c-7c6b6fe729a5",
   "metadata": {
    "editable": true,
    "slideshow": {
     "slide_type": ""
    },
    "tags": []
   },
   "outputs": [
    {
     "name": "stdout",
     "output_type": "stream",
     "text": [
      "[1] 0.432636\n"
     ]
    }
   ],
   "source": [
    "t.out$p.value"
   ]
  },
  {
   "cell_type": "markdown",
   "id": "29cd7a35-8165-407e-8470-3487e26f3a95",
   "metadata": {},
   "source": [
    "We can get the estimated mean:"
   ]
  },
  {
   "cell_type": "code",
   "execution_count": 34,
   "id": "e4bbf72a-70a6-4439-a854-bd116f833076",
   "metadata": {
    "editable": true,
    "slideshow": {
     "slide_type": ""
    },
    "tags": []
   },
   "outputs": [
    {
     "name": "stdout",
     "output_type": "stream",
     "text": [
      "mean of x \n",
      "    49.03 \n"
     ]
    }
   ],
   "source": [
    "t.out$estimate"
   ]
  },
  {
   "cell_type": "markdown",
   "id": "84d376d1-dd5a-4397-b6cb-399773c2d85a",
   "metadata": {},
   "source": [
    "We can get the confidence interval:"
   ]
  },
  {
   "cell_type": "code",
   "execution_count": 35,
   "id": "7e528fed-510f-4f1a-8127-25c6eb8f0e6a",
   "metadata": {
    "editable": true,
    "slideshow": {
     "slide_type": ""
    },
    "tags": []
   },
   "outputs": [
    {
     "name": "stdout",
     "output_type": "stream",
     "text": [
      "[1] 46.5872 51.4728\n",
      "attr(,\"conf.level\")\n",
      "[1] 0.95\n"
     ]
    }
   ],
   "source": [
    "t.out$conf.int"
   ]
  },
  {
   "cell_type": "markdown",
   "id": "8017c08d-1bcb-49bd-975d-c3c3e517f47e",
   "metadata": {},
   "source": [
    "While the p-value and estimated mean were single values, the confidence interval has returned a vector of length 2. The ```htest```\n",
    "object contains a range of different elements. \n",
    "\n",
    "\n",
    "\n",
    "# Common statistical tests: Two-sample unpaired t-test\n",
    "\n",
    "The two-sample unpaired t-test, also known as an independent sample t-test, is used to compare the mean values of a continuous variable for two independent \n",
    "groups where the data points across the two groups are not matched or paired in any way. \n",
    "\n",
    "In this example, we want to compare the mean age between males and females, or in other words we want to test whether the true mean age is equal \n",
    "for males and females.\n",
    "\n",
    "As we have all the data for our response variable (also called outcome variable or dependent variable), age in one object, and we have a second object \n",
    "which indicates which entries are female and which are male, we will use the formula method (signalled by the ```~```)\n",
    "for specifying the comparison we want to make. "
   ]
  },
  {
   "cell_type": "code",
   "execution_count": 36,
   "id": "9a61887c-e04d-48c7-abde-59a3fdfb9e0b",
   "metadata": {
    "editable": true,
    "slideshow": {
     "slide_type": ""
    },
    "tags": []
   },
   "outputs": [
    {
     "name": "stdout",
     "output_type": "stream",
     "text": [
      "\n",
      "\tWelch Two Sample t-test\n",
      "\n",
      "data:  age by male\n",
      "t = 1.739, df = 63.594, p-value = 0.08687\n",
      "alternative hypothesis: true difference in means between group 0 and group 1 is not equal to 0\n",
      "95 percent confidence interval:\n",
      " -0.6891826  9.9461538\n",
      "sample estimates:\n",
      "mean in group 0 mean in group 1 \n",
      "       51.94595        47.31746 \n",
      "\n"
     ]
    }
   ],
   "source": [
    "t.test(age~male)"
   ]
  },
  {
   "cell_type": "markdown",
   "id": "985ffe79-2faa-49d9-b088-d67130b378f4",
   "metadata": {},
   "source": [
    "The output looks very similar to the output for the one sample t-test, with a couple of differences. \n",
    "\n",
    "1. The name of the test has changed to \"Welch Two Sample t-test\".\n",
    "2. The alternative hypothesis is different.\n",
    "3. There are two sample estimates, one for each group. \n",
    "\n",
    "Instead of using the formula method, we can code a two sample test where the data for each group is stored in a separate object. To demonstrate this\n",
    "we will create two numeric vectors, one with the ages of the female participants, and one with the ages of the male partipicants. We then provide the \n",
    "two vectors as the first two argument in the ```t.test()``` function. \n"
   ]
  },
  {
   "cell_type": "code",
   "execution_count": 37,
   "id": "f4bee26f-50e6-4c7d-aa9c-ed1ed346bd03",
   "metadata": {
    "editable": true,
    "slideshow": {
     "slide_type": ""
    },
    "tags": []
   },
   "outputs": [
    {
     "name": "stdout",
     "output_type": "stream",
     "text": [
      "\n",
      "\tWelch Two Sample t-test\n",
      "\n",
      "data:  age.males and age.females\n",
      "t = -1.739, df = 63.594, p-value = 0.08687\n",
      "alternative hypothesis: true difference in means is not equal to 0\n",
      "95 percent confidence interval:\n",
      " -9.9461538  0.6891826\n",
      "sample estimates:\n",
      "mean of x mean of y \n",
      " 47.31746  51.94595 \n",
      "\n"
     ]
    }
   ],
   "source": [
    "age.males<-age[male==1]\n",
    "age.females<-age[male==0]\n",
    "\n",
    "t.test(age.males, age.females)"
   ]
  },
  {
   "cell_type": "markdown",
   "id": "7ae2f78f-1b99-4102-9eef-5fc02bffc5f2",
   "metadata": {
    "editable": true,
    "slideshow": {
     "slide_type": ""
    },
    "tags": []
   },
   "source": [
    "We can perform a one-side test using the ```alternative``` argument as shown above. "
   ]
  },
  {
   "cell_type": "code",
   "execution_count": 38,
   "id": "1a92c87f-9230-411f-97c6-9117a25e6aab",
   "metadata": {
    "editable": true,
    "slideshow": {
     "slide_type": ""
    },
    "tags": []
   },
   "outputs": [
    {
     "name": "stdout",
     "output_type": "stream",
     "text": [
      "\n",
      "\tWelch Two Sample t-test\n",
      "\n",
      "data:  age.males and age.females\n",
      "t = -1.739, df = 63.594, p-value = 0.04343\n",
      "alternative hypothesis: true difference in means is less than 0\n",
      "95 percent confidence interval:\n",
      "       -Inf -0.1859434\n",
      "sample estimates:\n",
      "mean of x mean of y \n",
      " 47.31746  51.94595 \n",
      "\n"
     ]
    }
   ],
   "source": [
    "t.test(age.males, age.females, alternative = \"less\")"
   ]
  },
  {
   "cell_type": "markdown",
   "id": "e78bd5f9-bbcd-4200-bb1e-24c8c6ee4f3d",
   "metadata": {
    "editable": true,
    "slideshow": {
     "slide_type": ""
    },
    "tags": []
   },
   "source": [
    "The default behaviour of the ```t.test()``` function is to assume unequal variance. If we wish to repeat the t-test using the assumption of equal variance\n",
    "we can include the argument ```var.equal``` and set it to TRUE. "
   ]
  },
  {
   "cell_type": "code",
   "execution_count": 39,
   "id": "8d8b6497-c9b4-41b4-85c7-bdfeaf8e0b20",
   "metadata": {
    "editable": true,
    "slideshow": {
     "slide_type": ""
    },
    "tags": []
   },
   "outputs": [
    {
     "name": "stdout",
     "output_type": "stream",
     "text": [
      "\n",
      "\tTwo Sample t-test\n",
      "\n",
      "data:  age by male\n",
      "t = 1.8368, df = 98, p-value = 0.06927\n",
      "alternative hypothesis: true difference in means between group 0 and group 1 is not equal to 0\n",
      "95 percent confidence interval:\n",
      " -0.3721683  9.6291395\n",
      "sample estimates:\n",
      "mean in group 0 mean in group 1 \n",
      "       51.94595        47.31746 \n",
      "\n"
     ]
    }
   ],
   "source": [
    "t.test(age~male, var.equal=TRUE)"
   ]
  },
  {
   "cell_type": "markdown",
   "id": "b8ea56cd-142e-430c-a67c-7b8d619daf02",
   "metadata": {},
   "source": [
    "If you are unsure whether you can assume equal variance, you can run a statistical test called an F test to confirm using the function ```var.test()```.\n",
    " The null hypothesis for this test is that variances are equal. So a significant result means that the assumption of equal variances is rejected. To compare the variances in age by gender:\n"
   ]
  },
  {
   "cell_type": "code",
   "execution_count": 40,
   "id": "61ed50e9-8a66-497a-bc2d-a50f37c5e489",
   "metadata": {
    "editable": true,
    "slideshow": {
     "slide_type": ""
    },
    "tags": []
   },
   "outputs": [
    {
     "name": "stdout",
     "output_type": "stream",
     "text": [
      "\n",
      "\tF test to compare two variances\n",
      "\n",
      "data:  age by male\n",
      "F = 1.5248, num df = 36, denom df = 62, p-value = 0.1431\n",
      "alternative hypothesis: true ratio of variances is not equal to 1\n",
      "95 percent confidence interval:\n",
      " 0.8663612 2.8110952\n",
      "sample estimates:\n",
      "ratio of variances \n",
      "          1.524841 \n",
      "\n"
     ]
    }
   ],
   "source": [
    "var.test(age ~ male)"
   ]
  },
  {
   "cell_type": "markdown",
   "id": "3c6f5582-bee1-4684-bf2f-cfbb2629b646",
   "metadata": {},
   "source": [
    "An alternative statistical test to test for equal variances is Bartlett's test (again, the null hypothesis is that the variances are equal for each group):"
   ]
  },
  {
   "cell_type": "code",
   "execution_count": 41,
   "id": "390d5d60-6c38-494d-8181-d81695e811fe",
   "metadata": {
    "editable": true,
    "slideshow": {
     "slide_type": ""
    },
    "tags": []
   },
   "outputs": [
    {
     "name": "stdout",
     "output_type": "stream",
     "text": [
      "\n",
      "\tBartlett test of homogeneity of variances\n",
      "\n",
      "data:  age by male\n",
      "Bartlett's K-squared = 2.0664, df = 1, p-value = 0.1506\n",
      "\n"
     ]
    }
   ],
   "source": [
    "bartlett.test(age ~ male)"
   ]
  },
  {
   "cell_type": "markdown",
   "id": "a0051b1d-0258-4ace-bbfe-918f03dda8fb",
   "metadata": {},
   "source": [
    "# Common statistical tests: Paired t-test\n",
    "\n",
    "A paired t-test is used to compare two variables that are matched or paired in some way, for examples, measurements made on the same person at \n",
    "two different times. The paired t-test uses the differences between matched pairs of measurements to test whether the true means are equal or the \n",
    "difference between them is 0. Therefore, the length of both vectors needs to be the same.\n",
    "\n",
    "For example, we may want to perform a paired t-test to test whether the true mean values for BP at baseline (```bp_baseline```) and BP at \n",
    "3 months (```bp_3m```) are the same, taking into account that the blood pressure measurements come from the same individual, i.e. for every\n",
    "baseline measurement, there is a 'matched' measurement taken at 3 months. To do a paired t-test we need to include the argument ```paired``` and \n",
    "set it to TRUE.\n",
    "\n"
   ]
  },
  {
   "cell_type": "code",
   "execution_count": 42,
   "id": "117cdd16-e880-4e41-a0c8-2a79ccc51cb9",
   "metadata": {
    "editable": true,
    "slideshow": {
     "slide_type": ""
    },
    "tags": []
   },
   "outputs": [
    {
     "name": "stdout",
     "output_type": "stream",
     "text": [
      "\n",
      "\tPaired t-test\n",
      "\n",
      "data:  bp_3m and bp_baseline\n",
      "t = -4.5608, df = 99, p-value = 1.462e-05\n",
      "alternative hypothesis: true mean difference is not equal to 0\n",
      "95 percent confidence interval:\n",
      " -23.707166  -9.332834\n",
      "sample estimates:\n",
      "mean difference \n",
      "         -16.52 \n",
      "\n"
     ]
    }
   ],
   "source": [
    "t.test(bp_3m,bp_baseline, paired=TRUE)"
   ]
  },
  {
   "cell_type": "markdown",
   "id": "e02085dc-5b32-4993-9fbb-1310e4376bea",
   "metadata": {},
   "source": [
    "We can see the output is similar to before but with the following differences\n",
    "\n",
    "1. Test title is changed to \"Paired t-test\"\n",
    "2. The alternative hypothesis is different\n",
    "3. We have a single sample estimate which is the mean difference between the groups. \n",
    "\n",
    "Note that the results are different if we do not\n",
    "take into account the paired nature of the variables."
   ]
  },
  {
   "cell_type": "code",
   "execution_count": 43,
   "id": "cb00aa5f-8994-48c5-9fd4-1b44f9e6f930",
   "metadata": {
    "editable": true,
    "slideshow": {
     "slide_type": ""
    },
    "tags": []
   },
   "outputs": [
    {
     "name": "stdout",
     "output_type": "stream",
     "text": [
      "\n",
      "\tWelch Two Sample t-test\n",
      "\n",
      "data:  bp_3m and bp_baseline\n",
      "t = -4.8468, df = 197.48, p-value = 2.534e-06\n",
      "alternative hypothesis: true difference in means is not equal to 0\n",
      "95 percent confidence interval:\n",
      " -23.241544  -9.798456\n",
      "sample estimates:\n",
      "mean of x mean of y \n",
      "   165.88    182.40 \n",
      "\n"
     ]
    }
   ],
   "source": [
    "t.test(bp_3m,bp_baseline,paired=FALSE)"
   ]
  },
  {
   "cell_type": "markdown",
   "id": "f88d5678-3e64-4a18-9cdc-1bd28524112e",
   "metadata": {},
   "source": [
    "## Activity \n",
    "1. Perform a single sample 2-sided t-test to test whether the true mean of baseline BP is equal to 170. \n",
    "2. Perform an unpaired t-test to compare mean BP at 3 months between Drug A and the control group. \n",
    "3. Perform a paired t-test to test the null hypothesis that mean difference is 0 comparing BP at 6 months with BP at baseline.\n",
    "\n",
    "# Common statistical tests: Mann-Whitney test\n",
    "\n",
    "A non-parametric alternative to a t-test is a Mann-Whitney U test, which is performed using function ```wilcox.test()```. \n",
    "It works in a very similar way to the two sample t- test, and many of the arguments are shared.\n",
    "\n"
   ]
  },
  {
   "cell_type": "code",
   "execution_count": 44,
   "id": "4e4c4320-5a2e-44af-9631-6cc7393fe462",
   "metadata": {
    "editable": true,
    "slideshow": {
     "slide_type": ""
    },
    "tags": []
   },
   "outputs": [
    {
     "name": "stdout",
     "output_type": "stream",
     "text": [
      "\n",
      "\tWilcoxon rank sum test with continuity correction\n",
      "\n",
      "data:  age by male\n",
      "W = 1374, p-value = 0.06865\n",
      "alternative hypothesis: true location shift is greater than 0\n",
      "\n"
     ]
    }
   ],
   "source": [
    "wilcox.test(age~male, alternative = \"greater\")"
   ]
  },
  {
   "cell_type": "markdown",
   "id": "09bc9639-41ac-4bca-96eb-4df60a2268f2",
   "metadata": {},
   "source": [
    "The output is shorter (as the test has less components) but it follows a similar format to that of the t-test.\n",
    "\n",
    "We can save this output as a variable and extract the p-value in the same way as the t-test. The elements within \n",
    "the variable are different to the t-test output but they are accessed in the same way.\n",
    "\n"
   ]
  },
  {
   "cell_type": "code",
   "execution_count": 45,
   "id": "0e14e9f1-94cf-409f-835f-fbcb75bcdbd1",
   "metadata": {
    "editable": true,
    "slideshow": {
     "slide_type": ""
    },
    "tags": []
   },
   "outputs": [
    {
     "name": "stdout",
     "output_type": "stream",
     "text": [
      "[1] 0.06865345\n"
     ]
    }
   ],
   "source": [
    "m.out<-wilcox.test(age~male, alternative = \"greater\")\n",
    "m.out$p.value"
   ]
  },
  {
   "cell_type": "code",
   "execution_count": 46,
   "id": "0468f475-5f4e-4ca6-b583-a93be0db196b",
   "metadata": {
    "editable": true,
    "slideshow": {
     "slide_type": ""
    },
    "tags": []
   },
   "outputs": [
    {
     "name": "stdout",
     "output_type": "stream",
     "text": [
      "[1] \"statistic\"   \"parameter\"   \"p.value\"     \"null.value\"  \"alternative\"\n",
      "[6] \"method\"      \"data.name\"  \n"
     ]
    }
   ],
   "source": [
    "names(m.out)"
   ]
  },
  {
   "cell_type": "markdown",
   "id": "5eccef7f-740c-4770-9f11-faac4a62eb97",
   "metadata": {},
   "source": [
    "# Common statistical tests: ANOVA\n",
    "\n",
    "We perform a one-way ANOVA (ANalysis Of VAriance test) to compare means across three or more groups. The null hypothesis is that the mean \n",
    "is equal across groups. There are two ways to perform an ANOVA in R, both use the formula method to specify the comparision we want to make.\n",
    "\n",
    "For example, to compare mean BP at 3 months across Drug A, Drug B, Control, first using the ```aov() ``` function:\n",
    "\n"
   ]
  },
  {
   "cell_type": "code",
   "execution_count": 47,
   "id": "fa0a1845-8407-404d-ba2d-ba30dbe8416b",
   "metadata": {
    "editable": true,
    "slideshow": {
     "slide_type": ""
    },
    "tags": []
   },
   "outputs": [
    {
     "name": "stdout",
     "output_type": "stream",
     "text": [
      "Call:\n",
      "   aov(formula = bp_3m ~ intervention)\n",
      "\n",
      "Terms:\n",
      "                intervention Residuals\n",
      "Sum of Squares      12718.47  41840.09\n",
      "Deg. of Freedom            2        97\n",
      "\n",
      "Residual standard error: 20.76875\n",
      "Estimated effects may be unbalanced\n"
     ]
    }
   ],
   "source": [
    "aov(bp_3m ~ intervention)"
   ]
  },
  {
   "cell_type": "code",
   "execution_count": 48,
   "id": "38d4090b-d060-40ac-a801-831281b0cd57",
   "metadata": {
    "editable": true,
    "slideshow": {
     "slide_type": ""
    },
    "tags": []
   },
   "outputs": [
    {
     "name": "stdout",
     "output_type": "stream",
     "text": [
      "             Df Sum Sq Mean Sq F value   Pr(>F)    \n",
      "intervention  2  12718    6359   14.74 2.57e-06 ***\n",
      "Residuals    97  41840     431                     \n",
      "---\n",
      "Signif. codes:  0 ‘***’ 0.001 ‘**’ 0.01 ‘*’ 0.05 ‘.’ 0.1 ‘ ’ 1\n"
     ]
    }
   ],
   "source": [
    "summary(aov(bp_3m ~ intervention))"
   ]
  },
  {
   "cell_type": "markdown",
   "id": "26fb8eef-7fab-435c-8b77-9205d2a231ec",
   "metadata": {},
   "source": [
    "Note, that the ```aov()``` call doesn't output the complete test result we want. We have to additionally use the function ```summary()``` to extract and \n",
    "print the required test result. This is not an uncommon approach for performing statistical tests in R.\n",
    "\n",
    "We can get the same result using the ```anova()``` function (give a rounding difference). This version of the anova requires a linear model to be fit first using the \n",
    "```lm()``` function."
   ]
  },
  {
   "cell_type": "code",
   "execution_count": 49,
   "id": "e76a2ad0-5b9c-4ebe-b68d-298ab1b9672f",
   "metadata": {
    "editable": true,
    "slideshow": {
     "slide_type": ""
    },
    "tags": []
   },
   "outputs": [
    {
     "name": "stdout",
     "output_type": "stream",
     "text": [
      "Analysis of Variance Table\n",
      "\n",
      "Response: bp_3m\n",
      "             Df Sum Sq Mean Sq F value    Pr(>F)    \n",
      "intervention  2  12718  6359.2  14.743 2.567e-06 ***\n",
      "Residuals    97  41840   431.3                      \n",
      "---\n",
      "Signif. codes:  0 ‘***’ 0.001 ‘**’ 0.01 ‘*’ 0.05 ‘.’ 0.1 ‘ ’ 1\n"
     ]
    }
   ],
   "source": [
    "anova(lm(bp_3m ~ intervention))"
   ]
  },
  {
   "cell_type": "markdown",
   "id": "e1468d51-5922-446a-b787-7949a8e9677a",
   "metadata": {},
   "source": [
    "## Activity\n",
    "Perform a one-way ANOVA to compare `age` across the three intervention groups. \n",
    "\n",
    "\n",
    "# Common statistical tests: Chi-square test\n",
    "\n",
    "Chi square tests are used to test for a relationship between two categorical variables. \n",
    "The function is ```chisq.test()``` and requires a cross tabulation of the two variables as the input."
   ]
  },
  {
   "cell_type": "code",
   "execution_count": 50,
   "id": "43d3e148-6520-4194-b093-bc9a59158531",
   "metadata": {
    "editable": true,
    "slideshow": {
     "slide_type": ""
    },
    "tags": []
   },
   "outputs": [
    {
     "name": "stdout",
     "output_type": "stream",
     "text": [
      "\n",
      "\tPearson's Chi-squared test\n",
      "\n",
      "data:  table(male, intervention)\n",
      "X-squared = 1.5097, df = 2, p-value = 0.4701\n",
      "\n"
     ]
    }
   ],
   "source": [
    "chisq.test(table(male, intervention))"
   ]
  },
  {
   "cell_type": "markdown",
   "id": "3dd4c4ee-094f-4caf-b1a2-81626b371f38",
   "metadata": {},
   "source": [
    "# Common statistical tests: Correlation\n",
    "\n",
    "When you have two continuous variables, it is likely a correlation statistic that you want to calculate. We can do this with the function ```cor()```.\n",
    "For example, to calculate the correlation between age and BP at baseline we can run:\n"
   ]
  },
  {
   "cell_type": "code",
   "execution_count": 51,
   "id": "5746b0ca-35ae-4e45-9567-ba30bc63777f",
   "metadata": {
    "editable": true,
    "slideshow": {
     "slide_type": ""
    },
    "tags": []
   },
   "outputs": [
    {
     "name": "stdout",
     "output_type": "stream",
     "text": [
      "[1] 0.01138201\n"
     ]
    }
   ],
   "source": [
    "cor(age, bp_baseline)"
   ]
  },
  {
   "cell_type": "markdown",
   "id": "4b8199ff-5a75-4079-9912-8af404d6fff7",
   "metadata": {},
   "source": [
    "The output of this function is very simple compared to the tests we looked at before, it is just a simple value. If you compare the function name to \n",
    "the names of the other functions to perform statistical tests, this doesn't have the suffix ```.test```. This function simply calculated the value of\n",
    "the correlation statistic and does not perform any hypothesis testing with it. To do that we need the ```cor.test()``` function. \n",
    "\n",
    "We can use ```cor.test``` to find the  correlation between `age` and `bp_baseline`\n"
   ]
  },
  {
   "cell_type": "code",
   "execution_count": 52,
   "id": "3c794b3a-8df5-4b54-949d-c8626570ab2f",
   "metadata": {
    "editable": true,
    "slideshow": {
     "slide_type": ""
    },
    "tags": []
   },
   "outputs": [
    {
     "name": "stdout",
     "output_type": "stream",
     "text": [
      "\n",
      "\tPearson's product-moment correlation\n",
      "\n",
      "data:  age and bp_baseline\n",
      "t = 0.11268, df = 98, p-value = 0.9105\n",
      "alternative hypothesis: true correlation is not equal to 0\n",
      "95 percent confidence interval:\n",
      " -0.1854507  0.2073366\n",
      "sample estimates:\n",
      "       cor \n",
      "0.01138201 \n",
      "\n"
     ]
    }
   ],
   "source": [
    "cor.test(age, bp_baseline)"
   ]
  },
  {
   "cell_type": "markdown",
   "id": "e13f1311-d45a-4186-ad89-03ab0c3c72d4",
   "metadata": {},
   "source": [
    "The output here is now more similar to what we had before in that it reports a number of statistics relating to the test. \n",
    "\n",
    "The default method for calculating the correlation is Pearson's, we can instead calculate Spearman's rank correlation coefficient, with the argument \n",
    "```method```:"
   ]
  },
  {
   "cell_type": "code",
   "execution_count": 53,
   "id": "54b74920-57fc-4e1c-90ad-c1c8a9312fb7",
   "metadata": {
    "editable": true,
    "slideshow": {
     "slide_type": ""
    },
    "tags": []
   },
   "outputs": [
    {
     "name": "stdout",
     "output_type": "stream",
     "text": [
      "\n",
      "\tSpearman's rank correlation rho\n",
      "\n",
      "data:  age and bp_baseline\n",
      "S = 165406, p-value = 0.9412\n",
      "alternative hypothesis: true rho is not equal to 0\n",
      "sample estimates:\n",
      "        rho \n",
      "0.007464794 \n",
      "\n"
     ]
    },
    {
     "data": {
      "text/plain": [
       "In addition: Warning message:\n",
       "In cor.test.default(age, bp_baseline, method = \"spearman\") :\n",
       "  Cannot compute exact p-value with ties\n"
      ]
     },
     "metadata": {},
     "output_type": "display_data"
    }
   ],
   "source": [
    "cor.test(age, bp_baseline, method=\"spearman\")"
   ]
  },
  {
   "cell_type": "markdown",
   "id": "64fe637c-0f4d-4039-8266-23a0bc5dbe5e",
   "metadata": {
    "editable": true,
    "slideshow": {
     "slide_type": ""
    },
    "tags": []
   },
   "source": [
    "## Summary Quiz"
   ]
  },
  {
   "cell_type": "code",
   "execution_count": 1,
   "id": "cbd0e0d6-31dd-4018-bae5-0c44091b3924",
   "metadata": {
    "editable": true,
    "slideshow": {
     "slide_type": ""
    },
    "tags": [
     "remove-input"
    ]
   },
   "outputs": [
    {
     "data": {
      "text/html": [
       "\n",
       "  <style>\n",
       "  .quiz-question {\n",
       "      background-color: #6c63ff;\n",
       "      color: white;\n",
       "      padding: 12px;\n",
       "      border-radius: 10px;\n",
       "      font-weight: bold;\n",
       "      font-size: 1.2em;\n",
       "      margin-bottom: 10px;\n",
       "  }\n",
       "\n",
       "  .quiz-form {\n",
       "      margin-bottom: 20px;\n",
       "  }\n",
       "\n",
       "  .quiz-answer {\n",
       "      display: block;\n",
       "      background-color: #f2f2f2;\n",
       "      border: none;\n",
       "      border-radius: 10px;\n",
       "      padding: 10px;\n",
       "      margin: 5px 0;\n",
       "      font-size: 1em;\n",
       "      cursor: pointer;\n",
       "      text-align: left;\n",
       "      transition: background-color 0.3s;\n",
       "      width: 100%;\n",
       "  }\n",
       "\n",
       "  .quiz-answer:hover {\n",
       "      background-color: #e0e0e0;\n",
       "  }\n",
       "\n",
       "  .correct {\n",
       "      background-color: #4CAF50 !important;\n",
       "      color: white !important;\n",
       "      border: none;\n",
       "  }\n",
       "\n",
       "  .incorrect {\n",
       "      background-color: #D32F2F !important;\n",
       "      color: white !important;\n",
       "      border: none;\n",
       "  }\n",
       "\n",
       "  .feedback {\n",
       "      margin-top: 10px;\n",
       "      font-weight: bold;\n",
       "      font-size: 1em;\n",
       "  }\n",
       "  </style>\n",
       "\n",
       "  <script>\n",
       "  function handleAnswer(qid, aid, feedback, isCorrect) {\n",
       "      let buttons = document.querySelectorAll(\".answer-\" + qid);\n",
       "      buttons.forEach(btn => {\n",
       "          btn.classList.remove(\"correct\", \"incorrect\");\n",
       "      });\n",
       "\n",
       "      let selected = document.getElementById(aid);\n",
       "      selected.classList.add(isCorrect ? \"correct\" : \"incorrect\");\n",
       "\n",
       "      let feedbackBox = document.getElementById(\"feedback_\" + qid);\n",
       "      feedbackBox.innerHTML = feedback;\n",
       "      feedbackBox.style.color = isCorrect ? \"green\" : \"red\";\n",
       "  }\n",
       "  </script>\n",
       "  <div class=\"quiz-question\">What does the t.test() function in R test for?</div><form class=\"quiz-form\"><button type=\"button\" class=\"quiz-answer answer-1\" id=\"q1_a1\"\n",
       "        onclick=\"handleAnswer('1', 'q1_a1', 'Incorrect', false)\">\n",
       "        The variance of a dataset</button><button type=\"button\" class=\"quiz-answer answer-1\" id=\"q1_a2\"\n",
       "        onclick=\"handleAnswer('1', 'q1_a2', 'Correct', true)\">\n",
       "        The mean of a continuous variable against a pre-specified value</button><button type=\"button\" class=\"quiz-answer answer-1\" id=\"q1_a3\"\n",
       "        onclick=\"handleAnswer('1', 'q1_a3', 'Incorrect', false)\">\n",
       "        The correlation between two variables</button><button type=\"button\" class=\"quiz-answer answer-1\" id=\"q1_a4\"\n",
       "        onclick=\"handleAnswer('1', 'q1_a4', 'Incorrect', false)\">\n",
       "        The maximum value of a dataset</button><div class=\"feedback\" id=\"feedback_1\"></div></form><hr><div class=\"quiz-question\">When conducting a paired t-test, what arguement must be included to specify the paired nature of the data?</div><form class=\"quiz-form\"><button type=\"button\" class=\"quiz-answer answer-2\" id=\"q2_a1\"\n",
       "        onclick=\"handleAnswer('2', 'q2_a1', 'Correct', true)\">\n",
       "        paired = TRUE</button><button type=\"button\" class=\"quiz-answer answer-2\" id=\"q2_a2\"\n",
       "        onclick=\"handleAnswer('2', 'q2_a2', 'Incorrect', false)\">\n",
       "        var.equal = TRUE</button><button type=\"button\" class=\"quiz-answer answer-2\" id=\"q2_a3\"\n",
       "        onclick=\"handleAnswer('2', 'q2_a3', 'Incorrect', false)\">\n",
       "        alternative = \"two.sided\"</button><button type=\"button\" class=\"quiz-answer answer-2\" id=\"q2_a4\"\n",
       "        onclick=\"handleAnswer('2', 'q2_a4', 'Incorrect', false)\">\n",
       "        mu = 0</button><div class=\"feedback\" id=\"feedback_2\"></div></form><hr><div class=\"quiz-question\">What does the cor.test() function in R calculate?</div><form class=\"quiz-form\"><button type=\"button\" class=\"quiz-answer answer-3\" id=\"q3_a1\"\n",
       "        onclick=\"handleAnswer('3', 'q3_a1', 'Incorrect', false)\">\n",
       "        The mean of a dataset</button><button type=\"button\" class=\"quiz-answer answer-3\" id=\"q3_a2\"\n",
       "        onclick=\"handleAnswer('3', 'q3_a2', 'Correct', true)\">\n",
       "        The correlation coefficient and its significance</button><button type=\"button\" class=\"quiz-answer answer-3\" id=\"q3_a3\"\n",
       "        onclick=\"handleAnswer('3', 'q3_a3', 'Incorrect', false)\">\n",
       "        The variance of a dataset</button><button type=\"button\" class=\"quiz-answer answer-3\" id=\"q3_a4\"\n",
       "        onclick=\"handleAnswer('3', 'q3_a4', 'Incorrect', false)\">\n",
       "        A frequency table</button><div class=\"feedback\" id=\"feedback_3\"></div></form><hr>"
      ]
     },
     "metadata": {},
     "output_type": "display_data"
    }
   ],
   "source": [
    "library(jsonlite)\n",
    "library(IRdisplay)\n",
    "\n",
    "show_quiz_from_json <- function(path) {\n",
    "  quiz_data <- fromJSON(path, simplifyVector = FALSE)\n",
    "  \n",
    "  html <- '\n",
    "  <style>\n",
    "  .quiz-question {\n",
    "      background-color: #6c63ff;\n",
    "      color: white;\n",
    "      padding: 12px;\n",
    "      border-radius: 10px;\n",
    "      font-weight: bold;\n",
    "      font-size: 1.2em;\n",
    "      margin-bottom: 10px;\n",
    "  }\n",
    "\n",
    "  .quiz-form {\n",
    "      margin-bottom: 20px;\n",
    "  }\n",
    "\n",
    "  .quiz-answer {\n",
    "      display: block;\n",
    "      background-color: #f2f2f2;\n",
    "      border: none;\n",
    "      border-radius: 10px;\n",
    "      padding: 10px;\n",
    "      margin: 5px 0;\n",
    "      font-size: 1em;\n",
    "      cursor: pointer;\n",
    "      text-align: left;\n",
    "      transition: background-color 0.3s;\n",
    "      width: 100%;\n",
    "  }\n",
    "\n",
    "  .quiz-answer:hover {\n",
    "      background-color: #e0e0e0;\n",
    "  }\n",
    "\n",
    "  .correct {\n",
    "      background-color: #4CAF50 !important;\n",
    "      color: white !important;\n",
    "      border: none;\n",
    "  }\n",
    "\n",
    "  .incorrect {\n",
    "      background-color: #D32F2F !important;\n",
    "      color: white !important;\n",
    "      border: none;\n",
    "  }\n",
    "\n",
    "  .feedback {\n",
    "      margin-top: 10px;\n",
    "      font-weight: bold;\n",
    "      font-size: 1em;\n",
    "  }\n",
    "  </style>\n",
    "\n",
    "  <script>\n",
    "  function handleAnswer(qid, aid, feedback, isCorrect) {\n",
    "      let buttons = document.querySelectorAll(\".answer-\" + qid);\n",
    "      buttons.forEach(btn => {\n",
    "          btn.classList.remove(\"correct\", \"incorrect\");\n",
    "      });\n",
    "\n",
    "      let selected = document.getElementById(aid);\n",
    "      selected.classList.add(isCorrect ? \"correct\" : \"incorrect\");\n",
    "\n",
    "      let feedbackBox = document.getElementById(\"feedback_\" + qid);\n",
    "      feedbackBox.innerHTML = feedback;\n",
    "      feedbackBox.style.color = isCorrect ? \"green\" : \"red\";\n",
    "  }\n",
    "  </script>\n",
    "  '\n",
    "\n",
    "  for (i in seq_along(quiz_data)) {\n",
    "    question <- quiz_data[[i]]\n",
    "    qid <- as.character(i)\n",
    "    html <- paste0(html, sprintf('<div class=\"quiz-question\">%s</div><form class=\"quiz-form\">', question$question))\n",
    "    \n",
    "    for (j in seq_along(question$answers)) {\n",
    "      answer <- question$answers[[j]]\n",
    "      aid <- sprintf(\"q%s_a%s\", i, j)\n",
    "      feedback <- gsub(\"'\", \"\\\\'\", answer$feedback)  # escape single quotes\n",
    "      correct <- tolower(substr(answer$feedback, 1, 7)) == \"correct\"\n",
    "      correct_js <- tolower(as.character(correct))  # \"true\" or \"false\"\n",
    "\n",
    "      html <- paste0(html, sprintf(\n",
    "        '<button type=\"button\" class=\"quiz-answer answer-%s\" id=\"%s\"\n",
    "        onclick=\"handleAnswer(\\'%s\\', \\'%s\\', \\'%s\\', %s)\">\n",
    "        %s</button>',\n",
    "        qid, aid, qid, aid, feedback, correct_js, answer$answer\n",
    "      ))\n",
    "    }\n",
    "    \n",
    "    html <- paste0(html, sprintf('<div class=\"feedback\" id=\"feedback_%s\"></div></form><hr>', qid))\n",
    "  }\n",
    "\n",
    "  display_html(html)\n",
    "}\n",
    "\n",
    "# Call the function to display quiz interactively:\n",
    "show_quiz_from_json(\"questions/summary_stats.json\")"
   ]
  },
  {
   "cell_type": "code",
   "execution_count": null,
   "id": "36c29a90-9feb-4123-bdf7-b7292ad628bc",
   "metadata": {
    "editable": true,
    "slideshow": {
     "slide_type": ""
    },
    "tags": []
   },
   "outputs": [],
   "source": []
  }
 ],
 "metadata": {
  "kernelspec": {
   "display_name": "R",
   "language": "R",
   "name": "ir"
  },
  "language_info": {
   "codemirror_mode": "r",
   "file_extension": ".r",
   "mimetype": "text/x-r-source",
   "name": "R",
   "pygments_lexer": "r",
   "version": "4.3.3"
  }
 },
 "nbformat": 4,
 "nbformat_minor": 5
}
