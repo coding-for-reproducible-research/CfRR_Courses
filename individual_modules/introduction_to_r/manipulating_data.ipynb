{
 "cells": [
  {
   "cell_type": "markdown",
   "id": "2d0c849c-4871-43aa-97bd-a01f236fac3d",
   "metadata": {
    "editable": true,
    "slideshow": {
     "slide_type": ""
    },
    "tags": []
   },
   "source": [
    "# Manipulating Datasets\n",
    "\n",
    "## Download Rmd Version\n",
    "\n",
    "If you wish to engage with this course content via Rmd, then please click the link below to download the Rmd file.\n",
    "\n",
    "[Download manipulating_data.Rmd](rmarkdown/manipulating_data.Rmd)\n",
    "\n",
    "Often we need to manipulate or extract parts of our dataset prior to doing any analysis or plotting with it.\n",
    "\n",
    "## Learning Objectives\n",
    "- Learn how to subset a dataset using conditional subsetting.\n",
    "- Understand different methods for comparing and matching datasets in R.\n",
    "- Learn how to combine one and two dimensional datasets using ```paste()```, ```cbind()```, and ```rbind()```.\n",
    "- Learn how to rename, add and remove rows and/or columns in a two dimensional dataset.\n",
    "- Learn how to use the ```seq()``` function to generate regular sequences of numbers.\n",
    "\n",
    "## Conditional Subsetting\n",
    "\n",
    "We have already looked at slicing subsets, where we knew the indexes of the rows or columns of the entries we wanted. \n",
    "There may be times when, instead, we want to select rows based on a specific condition. This would require a conditional \n",
    "statement. Conditional commands check if criteria are met and return either TRUE or FALSE in response.\n",
    "\n",
    "Let's find which rows of ```iris``` have a ```Sepal.Length``` less than 7.\n"
   ]
  },
  {
   "cell_type": "code",
   "execution_count": 2,
   "id": "c1e4e202-0c8a-4c0e-a9cd-beb5a4d09150",
   "metadata": {
    "editable": true,
    "slideshow": {
     "slide_type": ""
    },
    "tags": []
   },
   "outputs": [
    {
     "name": "stdout",
     "output_type": "stream",
     "text": [
      "  [1]  TRUE  TRUE  TRUE  TRUE  TRUE  TRUE  TRUE  TRUE  TRUE  TRUE  TRUE  TRUE\n",
      " [13]  TRUE  TRUE  TRUE  TRUE  TRUE  TRUE  TRUE  TRUE  TRUE  TRUE  TRUE  TRUE\n",
      " [25]  TRUE  TRUE  TRUE  TRUE  TRUE  TRUE  TRUE  TRUE  TRUE  TRUE  TRUE  TRUE\n",
      " [37]  TRUE  TRUE  TRUE  TRUE  TRUE  TRUE  TRUE  TRUE  TRUE  TRUE  TRUE  TRUE\n",
      " [49]  TRUE  TRUE FALSE FALSE FALSE  TRUE FALSE  TRUE FALSE  TRUE FALSE  TRUE\n",
      " [61]  TRUE  TRUE FALSE FALSE  TRUE FALSE  TRUE  TRUE FALSE  TRUE  TRUE FALSE\n",
      " [73] FALSE FALSE FALSE FALSE FALSE FALSE FALSE  TRUE  TRUE  TRUE  TRUE FALSE\n",
      " [85]  TRUE FALSE FALSE FALSE  TRUE  TRUE  TRUE FALSE  TRUE  TRUE  TRUE  TRUE\n",
      " [97]  TRUE FALSE  TRUE  TRUE FALSE  TRUE FALSE FALSE FALSE FALSE  TRUE FALSE\n",
      "[109] FALSE FALSE FALSE FALSE FALSE  TRUE  TRUE FALSE FALSE FALSE FALSE FALSE\n",
      "[121] FALSE  TRUE FALSE FALSE FALSE FALSE FALSE FALSE FALSE FALSE FALSE FALSE\n",
      "[133] FALSE FALSE FALSE FALSE FALSE FALSE FALSE FALSE FALSE FALSE  TRUE FALSE\n",
      "[145] FALSE FALSE FALSE FALSE FALSE  TRUE\n"
     ]
    }
   ],
   "source": [
    "iris$Sepal.Length < 6"
   ]
  },
  {
   "cell_type": "markdown",
   "id": "53cf1e02-3c8c-4fe7-a9e2-354ca001721b",
   "metadata": {
    "editable": true,
    "slideshow": {
     "slide_type": ""
    },
    "tags": []
   },
   "source": [
    "Where is says TRUE means the criteria have been met and FALSE not. We can use this to subset the rows of iris"
   ]
  },
  {
   "cell_type": "code",
   "execution_count": 3,
   "id": "cbb1647b-e2dc-4d46-ae1e-c30ab2dcbaff",
   "metadata": {
    "editable": true,
    "slideshow": {
     "slide_type": ""
    },
    "tags": []
   },
   "outputs": [
    {
     "name": "stdout",
     "output_type": "stream",
     "text": [
      "    Sepal.Length Sepal.Width Petal.Length Petal.Width    Species\n",
      "1            5.1         3.5          1.4         0.2     setosa\n",
      "2            4.9         3.0          1.4         0.2     setosa\n",
      "3            4.7         3.2          1.3         0.2     setosa\n",
      "4            4.6         3.1          1.5         0.2     setosa\n",
      "5            5.0         3.6          1.4         0.2     setosa\n",
      "6            5.4         3.9          1.7         0.4     setosa\n",
      "7            4.6         3.4          1.4         0.3     setosa\n",
      "8            5.0         3.4          1.5         0.2     setosa\n",
      "9            4.4         2.9          1.4         0.2     setosa\n",
      "10           4.9         3.1          1.5         0.1     setosa\n",
      "11           5.4         3.7          1.5         0.2     setosa\n",
      "12           4.8         3.4          1.6         0.2     setosa\n",
      "13           4.8         3.0          1.4         0.1     setosa\n",
      "14           4.3         3.0          1.1         0.1     setosa\n",
      "15           5.8         4.0          1.2         0.2     setosa\n",
      "16           5.7         4.4          1.5         0.4     setosa\n",
      "17           5.4         3.9          1.3         0.4     setosa\n",
      "18           5.1         3.5          1.4         0.3     setosa\n",
      "19           5.7         3.8          1.7         0.3     setosa\n",
      "20           5.1         3.8          1.5         0.3     setosa\n",
      "21           5.4         3.4          1.7         0.2     setosa\n",
      "22           5.1         3.7          1.5         0.4     setosa\n",
      "23           4.6         3.6          1.0         0.2     setosa\n",
      "24           5.1         3.3          1.7         0.5     setosa\n",
      "25           4.8         3.4          1.9         0.2     setosa\n",
      "26           5.0         3.0          1.6         0.2     setosa\n",
      "27           5.0         3.4          1.6         0.4     setosa\n",
      "28           5.2         3.5          1.5         0.2     setosa\n",
      "29           5.2         3.4          1.4         0.2     setosa\n",
      "30           4.7         3.2          1.6         0.2     setosa\n",
      "31           4.8         3.1          1.6         0.2     setosa\n",
      "32           5.4         3.4          1.5         0.4     setosa\n",
      "33           5.2         4.1          1.5         0.1     setosa\n",
      "34           5.5         4.2          1.4         0.2     setosa\n",
      "35           4.9         3.1          1.5         0.2     setosa\n",
      "36           5.0         3.2          1.2         0.2     setosa\n",
      "37           5.5         3.5          1.3         0.2     setosa\n",
      "38           4.9         3.6          1.4         0.1     setosa\n",
      "39           4.4         3.0          1.3         0.2     setosa\n",
      "40           5.1         3.4          1.5         0.2     setosa\n",
      "41           5.0         3.5          1.3         0.3     setosa\n",
      "42           4.5         2.3          1.3         0.3     setosa\n",
      "43           4.4         3.2          1.3         0.2     setosa\n",
      "44           5.0         3.5          1.6         0.6     setosa\n",
      "45           5.1         3.8          1.9         0.4     setosa\n",
      "46           4.8         3.0          1.4         0.3     setosa\n",
      "47           5.1         3.8          1.6         0.2     setosa\n",
      "48           4.6         3.2          1.4         0.2     setosa\n",
      "49           5.3         3.7          1.5         0.2     setosa\n",
      "50           5.0         3.3          1.4         0.2     setosa\n",
      "54           5.5         2.3          4.0         1.3 versicolor\n",
      "56           5.7         2.8          4.5         1.3 versicolor\n",
      "58           4.9         2.4          3.3         1.0 versicolor\n",
      "60           5.2         2.7          3.9         1.4 versicolor\n",
      "61           5.0         2.0          3.5         1.0 versicolor\n",
      "62           5.9         3.0          4.2         1.5 versicolor\n",
      "65           5.6         2.9          3.6         1.3 versicolor\n",
      "67           5.6         3.0          4.5         1.5 versicolor\n",
      "68           5.8         2.7          4.1         1.0 versicolor\n",
      "70           5.6         2.5          3.9         1.1 versicolor\n",
      "71           5.9         3.2          4.8         1.8 versicolor\n",
      "80           5.7         2.6          3.5         1.0 versicolor\n",
      "81           5.5         2.4          3.8         1.1 versicolor\n",
      "82           5.5         2.4          3.7         1.0 versicolor\n",
      "83           5.8         2.7          3.9         1.2 versicolor\n",
      "85           5.4         3.0          4.5         1.5 versicolor\n",
      "89           5.6         3.0          4.1         1.3 versicolor\n",
      "90           5.5         2.5          4.0         1.3 versicolor\n",
      "91           5.5         2.6          4.4         1.2 versicolor\n",
      "93           5.8         2.6          4.0         1.2 versicolor\n",
      "94           5.0         2.3          3.3         1.0 versicolor\n",
      "95           5.6         2.7          4.2         1.3 versicolor\n",
      "96           5.7         3.0          4.2         1.2 versicolor\n",
      "97           5.7         2.9          4.2         1.3 versicolor\n",
      "99           5.1         2.5          3.0         1.1 versicolor\n",
      "100          5.7         2.8          4.1         1.3 versicolor\n",
      "102          5.8         2.7          5.1         1.9  virginica\n",
      "107          4.9         2.5          4.5         1.7  virginica\n",
      "114          5.7         2.5          5.0         2.0  virginica\n",
      "115          5.8         2.8          5.1         2.4  virginica\n",
      "122          5.6         2.8          4.9         2.0  virginica\n",
      "143          5.8         2.7          5.1         1.9  virginica\n",
      "150          5.9         3.0          5.1         1.8  virginica\n"
     ]
    }
   ],
   "source": [
    "iris[iris$Sepal.Length < 6,]"
   ]
  },
  {
   "cell_type": "markdown",
   "id": "acead51a-a4dc-4591-a801-ed81bf404f7f",
   "metadata": {
    "editable": true,
    "slideshow": {
     "slide_type": ""
    },
    "tags": []
   },
   "source": [
    "## Matching\n",
    "\n",
    "There are several circumstances we will need to check for matching and use that information. There are several ways \n",
    "we can do this using R depending on what we need.\n",
    "\n",
    "Using identical(), we can check if values or collections of values are identical.\n"
   ]
  },
  {
   "cell_type": "code",
   "execution_count": 4,
   "id": "8ccedc7b-d4e7-4bdd-8eb3-98e7721236ff",
   "metadata": {
    "editable": true,
    "slideshow": {
     "slide_type": ""
    },
    "tags": []
   },
   "outputs": [
    {
     "name": "stdout",
     "output_type": "stream",
     "text": [
      "[1] TRUE\n"
     ]
    }
   ],
   "source": [
    "# Checking if the first and second row values in the \"Species\" column of iris are identical\n",
    "identical(iris$Species[1], iris$Species[2])"
   ]
  },
  {
   "cell_type": "code",
   "execution_count": 5,
   "id": "06448110-345a-4263-ba89-b4a8d466b836",
   "metadata": {
    "editable": true,
    "slideshow": {
     "slide_type": ""
    },
    "tags": []
   },
   "outputs": [
    {
     "name": "stdout",
     "output_type": "stream",
     "text": [
      "[1] FALSE\n"
     ]
    }
   ],
   "source": [
    "# Checking if the first and 51st row values in the \"Species\" column of iris are identical\n",
    "identical(iris$Species[1], iris$Species[51])"
   ]
  },
  {
   "cell_type": "markdown",
   "id": "c35c5cdc-bc64-4f4c-a495-89257bbfd26d",
   "metadata": {},
   "source": [
    "Using all.equal() is similar to identical(), but allows for some tolerance in how similar values can be. For example, we may want to check two numbers with lots of decimal places, but only need them to be within 0.01 of each other. Therefore, we can give a tolerance of 0.01."
   ]
  },
  {
   "cell_type": "code",
   "execution_count": 6,
   "id": "a7309eef-432d-4b2a-9c31-26b10f59b189",
   "metadata": {
    "editable": true,
    "slideshow": {
     "slide_type": ""
    },
    "tags": []
   },
   "outputs": [
    {
     "name": "stdout",
     "output_type": "stream",
     "text": [
      "[1] TRUE\n"
     ]
    }
   ],
   "source": [
    "x1 <- 1.232529\n",
    "x2 <- 1.23366\n",
    "all.equal(x1, x2, tolerance=0.01)"
   ]
  },
  {
   "cell_type": "code",
   "execution_count": 7,
   "id": "ca2931e0-4404-4aaf-8b85-32d1ff77df5b",
   "metadata": {
    "editable": true,
    "slideshow": {
     "slide_type": ""
    },
    "tags": []
   },
   "outputs": [
    {
     "name": "stdout",
     "output_type": "stream",
     "text": [
      "[1] \"Mean relative difference: 0.0009176255\"\n"
     ]
    }
   ],
   "source": [
    "all.equal(x1, x2, tolerance=0.0001)"
   ]
  },
  {
   "cell_type": "markdown",
   "id": "26beb127-f171-4556-a24f-42db02d2608b",
   "metadata": {},
   "source": [
    "We can use \"==\" as a selector to pull all matching entries. We can give a numeric value or a character in quotations.\n"
   ]
  },
  {
   "cell_type": "code",
   "execution_count": 8,
   "id": "9f3636e4-e4d5-4e69-8181-230f0812c759",
   "metadata": {
    "editable": true,
    "slideshow": {
     "slide_type": ""
    },
    "tags": []
   },
   "outputs": [
    {
     "name": "stdout",
     "output_type": "stream",
     "text": [
      "   Sepal.Length Sepal.Width Petal.Length Petal.Width Species\n",
      "1           5.1         3.5          1.4         0.2  setosa\n",
      "2           4.9         3.0          1.4         0.2  setosa\n",
      "3           4.7         3.2          1.3         0.2  setosa\n",
      "4           4.6         3.1          1.5         0.2  setosa\n",
      "5           5.0         3.6          1.4         0.2  setosa\n",
      "6           5.4         3.9          1.7         0.4  setosa\n",
      "7           4.6         3.4          1.4         0.3  setosa\n",
      "8           5.0         3.4          1.5         0.2  setosa\n",
      "9           4.4         2.9          1.4         0.2  setosa\n",
      "10          4.9         3.1          1.5         0.1  setosa\n",
      "11          5.4         3.7          1.5         0.2  setosa\n",
      "12          4.8         3.4          1.6         0.2  setosa\n",
      "13          4.8         3.0          1.4         0.1  setosa\n",
      "14          4.3         3.0          1.1         0.1  setosa\n",
      "15          5.8         4.0          1.2         0.2  setosa\n",
      "16          5.7         4.4          1.5         0.4  setosa\n",
      "17          5.4         3.9          1.3         0.4  setosa\n",
      "18          5.1         3.5          1.4         0.3  setosa\n",
      "19          5.7         3.8          1.7         0.3  setosa\n",
      "20          5.1         3.8          1.5         0.3  setosa\n",
      "21          5.4         3.4          1.7         0.2  setosa\n",
      "22          5.1         3.7          1.5         0.4  setosa\n",
      "23          4.6         3.6          1.0         0.2  setosa\n",
      "24          5.1         3.3          1.7         0.5  setosa\n",
      "25          4.8         3.4          1.9         0.2  setosa\n",
      "26          5.0         3.0          1.6         0.2  setosa\n",
      "27          5.0         3.4          1.6         0.4  setosa\n",
      "28          5.2         3.5          1.5         0.2  setosa\n",
      "29          5.2         3.4          1.4         0.2  setosa\n",
      "30          4.7         3.2          1.6         0.2  setosa\n",
      "31          4.8         3.1          1.6         0.2  setosa\n",
      "32          5.4         3.4          1.5         0.4  setosa\n",
      "33          5.2         4.1          1.5         0.1  setosa\n",
      "34          5.5         4.2          1.4         0.2  setosa\n",
      "35          4.9         3.1          1.5         0.2  setosa\n",
      "36          5.0         3.2          1.2         0.2  setosa\n",
      "37          5.5         3.5          1.3         0.2  setosa\n",
      "38          4.9         3.6          1.4         0.1  setosa\n",
      "39          4.4         3.0          1.3         0.2  setosa\n",
      "40          5.1         3.4          1.5         0.2  setosa\n",
      "41          5.0         3.5          1.3         0.3  setosa\n",
      "42          4.5         2.3          1.3         0.3  setosa\n",
      "43          4.4         3.2          1.3         0.2  setosa\n",
      "44          5.0         3.5          1.6         0.6  setosa\n",
      "45          5.1         3.8          1.9         0.4  setosa\n",
      "46          4.8         3.0          1.4         0.3  setosa\n",
      "47          5.1         3.8          1.6         0.2  setosa\n",
      "48          4.6         3.2          1.4         0.2  setosa\n",
      "49          5.3         3.7          1.5         0.2  setosa\n",
      "50          5.0         3.3          1.4         0.2  setosa\n"
     ]
    }
   ],
   "source": [
    "iris[iris$Species == \"setosa\", ]"
   ]
  },
  {
   "cell_type": "markdown",
   "id": "593373fb-b274-4eec-a8b0-9a3755c3f0c2",
   "metadata": {},
   "source": [
    "We can use objects or parts of objects to select rows and columns within [ ] using \"%in%\".   "
   ]
  },
  {
   "cell_type": "code",
   "execution_count": 9,
   "id": "47caf691-ea75-40f0-b130-f5e13744e2cf",
   "metadata": {
    "editable": true,
    "slideshow": {
     "slide_type": ""
    },
    "tags": []
   },
   "outputs": [
    {
     "name": "stdout",
     "output_type": "stream",
     "text": [
      "    Sepal.Length Sepal.Width Petal.Length Petal.Width    Species\n",
      "51           7.0         3.2          4.7         1.4 versicolor\n",
      "52           6.4         3.2          4.5         1.5 versicolor\n",
      "53           6.9         3.1          4.9         1.5 versicolor\n",
      "54           5.5         2.3          4.0         1.3 versicolor\n",
      "55           6.5         2.8          4.6         1.5 versicolor\n",
      "56           5.7         2.8          4.5         1.3 versicolor\n",
      "57           6.3         3.3          4.7         1.6 versicolor\n",
      "58           4.9         2.4          3.3         1.0 versicolor\n",
      "59           6.6         2.9          4.6         1.3 versicolor\n",
      "60           5.2         2.7          3.9         1.4 versicolor\n",
      "61           5.0         2.0          3.5         1.0 versicolor\n",
      "62           5.9         3.0          4.2         1.5 versicolor\n",
      "63           6.0         2.2          4.0         1.0 versicolor\n",
      "64           6.1         2.9          4.7         1.4 versicolor\n",
      "65           5.6         2.9          3.6         1.3 versicolor\n",
      "66           6.7         3.1          4.4         1.4 versicolor\n",
      "67           5.6         3.0          4.5         1.5 versicolor\n",
      "68           5.8         2.7          4.1         1.0 versicolor\n",
      "69           6.2         2.2          4.5         1.5 versicolor\n",
      "70           5.6         2.5          3.9         1.1 versicolor\n",
      "71           5.9         3.2          4.8         1.8 versicolor\n",
      "72           6.1         2.8          4.0         1.3 versicolor\n",
      "73           6.3         2.5          4.9         1.5 versicolor\n",
      "74           6.1         2.8          4.7         1.2 versicolor\n",
      "75           6.4         2.9          4.3         1.3 versicolor\n",
      "76           6.6         3.0          4.4         1.4 versicolor\n",
      "77           6.8         2.8          4.8         1.4 versicolor\n",
      "78           6.7         3.0          5.0         1.7 versicolor\n",
      "79           6.0         2.9          4.5         1.5 versicolor\n",
      "80           5.7         2.6          3.5         1.0 versicolor\n",
      "81           5.5         2.4          3.8         1.1 versicolor\n",
      "82           5.5         2.4          3.7         1.0 versicolor\n",
      "83           5.8         2.7          3.9         1.2 versicolor\n",
      "84           6.0         2.7          5.1         1.6 versicolor\n",
      "85           5.4         3.0          4.5         1.5 versicolor\n",
      "86           6.0         3.4          4.5         1.6 versicolor\n",
      "87           6.7         3.1          4.7         1.5 versicolor\n",
      "88           6.3         2.3          4.4         1.3 versicolor\n",
      "89           5.6         3.0          4.1         1.3 versicolor\n",
      "90           5.5         2.5          4.0         1.3 versicolor\n",
      "91           5.5         2.6          4.4         1.2 versicolor\n",
      "92           6.1         3.0          4.6         1.4 versicolor\n",
      "93           5.8         2.6          4.0         1.2 versicolor\n",
      "94           5.0         2.3          3.3         1.0 versicolor\n",
      "95           5.6         2.7          4.2         1.3 versicolor\n",
      "96           5.7         3.0          4.2         1.2 versicolor\n",
      "97           5.7         2.9          4.2         1.3 versicolor\n",
      "98           6.2         2.9          4.3         1.3 versicolor\n",
      "99           5.1         2.5          3.0         1.1 versicolor\n",
      "100          5.7         2.8          4.1         1.3 versicolor\n"
     ]
    }
   ],
   "source": [
    "select <- \"versicolor\"\n",
    "iris[iris$Species %in% select, ]"
   ]
  },
  {
   "cell_type": "markdown",
   "id": "9f4942ae-e999-4e64-b374-16367162eaca",
   "metadata": {
    "editable": true,
    "slideshow": {
     "slide_type": ""
    },
    "tags": []
   },
   "source": [
    "## Merging and Binding \n",
    "\n",
    "We will often need to bring multiple two-dimensional objects together. We can do this multiple ways. \n",
    "\n",
    "Using rbind() and cbind(), we can combine objects together. rbind() allows us to bind together rows.\n"
   ]
  },
  {
   "cell_type": "code",
   "execution_count": 10,
   "id": "20f6d76e-da80-49ea-9845-002e51ce5c8b",
   "metadata": {
    "editable": true,
    "slideshow": {
     "slide_type": ""
    },
    "tags": []
   },
   "outputs": [
    {
     "name": "stdout",
     "output_type": "stream",
     "text": [
      "[1] 150   5\n"
     ]
    }
   ],
   "source": [
    "# First we look at the dimension of \"iris\"\n",
    "dim(iris)"
   ]
  },
  {
   "cell_type": "code",
   "execution_count": 11,
   "id": "12969bfb-1f62-4dd7-aefa-7ff861e8ad23",
   "metadata": {
    "editable": true,
    "slideshow": {
     "slide_type": ""
    },
    "tags": []
   },
   "outputs": [
    {
     "name": "stdout",
     "output_type": "stream",
     "text": [
      "[1] 300   5\n"
     ]
    }
   ],
   "source": [
    "# Using rbind() to put together two copies of  causing double rows\n",
    "rbind(iris, iris) -> iris.r\n",
    "dim(iris.r)"
   ]
  },
  {
   "cell_type": "code",
   "execution_count": 12,
   "id": "02553bfc-a8b4-4f30-be01-1d005b72e879",
   "metadata": {
    "editable": true,
    "slideshow": {
     "slide_type": ""
    },
    "tags": []
   },
   "outputs": [
    {
     "name": "stdout",
     "output_type": "stream",
     "text": [
      "  [1] 5.1 4.9 4.7 4.6 5.0 5.4 4.6 5.0 4.4 4.9 5.4 4.8 4.8 4.3 5.8 5.7 5.4 5.1\n",
      " [19] 5.7 5.1 5.4 5.1 4.6 5.1 4.8 5.0 5.0 5.2 5.2 4.7 4.8 5.4 5.2 5.5 4.9 5.0\n",
      " [37] 5.5 4.9 4.4 5.1 5.0 4.5 4.4 5.0 5.1 4.8 5.1 4.6 5.3 5.0 7.0 6.4 6.9 5.5\n",
      " [55] 6.5 5.7 6.3 4.9 6.6 5.2 5.0 5.9 6.0 6.1 5.6 6.7 5.6 5.8 6.2 5.6 5.9 6.1\n",
      " [73] 6.3 6.1 6.4 6.6 6.8 6.7 6.0 5.7 5.5 5.5 5.8 6.0 5.4 6.0 6.7 6.3 5.6 5.5\n",
      " [91] 5.5 6.1 5.8 5.0 5.6 5.7 5.7 6.2 5.1 5.7 6.3 5.8 7.1 6.3 6.5 7.6 4.9 7.3\n",
      "[109] 6.7 7.2 6.5 6.4 6.8 5.7 5.8 6.4 6.5 7.7 7.7 6.0 6.9 5.6 7.7 6.3 6.7 7.2\n",
      "[127] 6.2 6.1 6.4 7.2 7.4 7.9 6.4 6.3 6.1 7.7 6.3 6.4 6.0 6.9 6.7 6.9 5.8 6.8\n",
      "[145] 6.7 6.7 6.3 6.5 6.2 5.9 5.1 4.9 4.7 4.6 5.0 5.4 4.6 5.0 4.4 4.9 5.4 4.8\n",
      "[163] 4.8 4.3 5.8 5.7 5.4 5.1 5.7 5.1 5.4 5.1 4.6 5.1 4.8 5.0 5.0 5.2 5.2 4.7\n",
      "[181] 4.8 5.4 5.2 5.5 4.9 5.0 5.5 4.9 4.4 5.1 5.0 4.5 4.4 5.0 5.1 4.8 5.1 4.6\n",
      "[199] 5.3 5.0 7.0 6.4 6.9 5.5 6.5 5.7 6.3 4.9 6.6 5.2 5.0 5.9 6.0 6.1 5.6 6.7\n",
      "[217] 5.6 5.8 6.2 5.6 5.9 6.1 6.3 6.1 6.4 6.6 6.8 6.7 6.0 5.7 5.5 5.5 5.8 6.0\n",
      "[235] 5.4 6.0 6.7 6.3 5.6 5.5 5.5 6.1 5.8 5.0 5.6 5.7 5.7 6.2 5.1 5.7 6.3 5.8\n",
      "[253] 7.1 6.3 6.5 7.6 4.9 7.3 6.7 7.2 6.5 6.4 6.8 5.7 5.8 6.4 6.5 7.7 7.7 6.0\n",
      "[271] 6.9 5.6 7.7 6.3 6.7 7.2 6.2 6.1 6.4 7.2 7.4 7.9 6.4 6.3 6.1 7.7 6.3 6.4\n",
      "[289] 6.0 6.9 6.7 6.9 5.8 6.8 6.7 6.7 6.3 6.5 6.2 5.9\n"
     ]
    }
   ],
   "source": [
    "iris.r[ ,1]"
   ]
  },
  {
   "cell_type": "markdown",
   "id": "aaaa0200-1d75-4a8b-9984-2e3f54a54aa6",
   "metadata": {},
   "source": [
    "cbind() allows us to bind together columns."
   ]
  },
  {
   "cell_type": "code",
   "execution_count": 13,
   "id": "2895d489-9934-4746-aab7-b7e7af283512",
   "metadata": {
    "editable": true,
    "slideshow": {
     "slide_type": ""
    },
    "tags": []
   },
   "outputs": [
    {
     "name": "stdout",
     "output_type": "stream",
     "text": [
      "[1] 150  10\n"
     ]
    }
   ],
   "source": [
    "# Using cbind() to put together two copies of iris causing double columns\n",
    "cbind(iris, iris) -> iris.c\n",
    "dim(iris.c)"
   ]
  },
  {
   "cell_type": "code",
   "execution_count": 14,
   "id": "9bcd5a9c-6781-4aee-8dd6-24a29ae27623",
   "metadata": {
    "editable": true,
    "slideshow": {
     "slide_type": ""
    },
    "tags": []
   },
   "outputs": [
    {
     "name": "stdout",
     "output_type": "stream",
     "text": [
      "  Sepal.Length Sepal.Width Petal.Length Petal.Width Species Sepal.Length\n",
      "1          5.1         3.5          1.4         0.2  setosa          5.1\n",
      "  Sepal.Width Petal.Length Petal.Width Species\n",
      "1         3.5          1.4         0.2  setosa\n"
     ]
    }
   ],
   "source": [
    "iris.c[1,]"
   ]
  },
  {
   "cell_type": "markdown",
   "id": "e9f5776f-2c1b-4afe-afa9-6cacbde4131a",
   "metadata": {},
   "source": [
    "Both rbind and cbind will work, if you try to combine vectors of different lengths. In this case it will recycle the shorted vector\n",
    "until it matches the length of the longer vector. You will get a warning in this situation. \n",
    "\n",
    "Using merge(), we can merge objects together assigning what we bind by using \"by =\". For example, we can bind using the rownames of our objects using \"by = row.names\", we can merge by a specific column present in both objects (e.g. by = \"Name\"), or different columns in each object (by.x = \"Species\", by.y = \"Name\")."
   ]
  },
  {
   "cell_type": "code",
   "execution_count": 15,
   "id": "cc259830-f233-4bfc-b245-c23aec38cebd",
   "metadata": {
    "editable": true,
    "slideshow": {
     "slide_type": ""
    },
    "tags": []
   },
   "outputs": [
    {
     "name": "stdout",
     "output_type": "stream",
     "text": [
      "[1] 150  11\n"
     ]
    }
   ],
   "source": [
    "# Merging iris by row names\n",
    "merge(iris, iris, by = \"row.names\") -> iris.double\n",
    "dim(iris.double)"
   ]
  },
  {
   "cell_type": "code",
   "execution_count": 16,
   "id": "c76b90ab-2e8f-4da8-8d5a-cd61b28d4e97",
   "metadata": {
    "editable": true,
    "slideshow": {
     "slide_type": ""
    },
    "tags": []
   },
   "outputs": [
    {
     "name": "stdout",
     "output_type": "stream",
     "text": [
      "  Row.names Sepal.Length.x Sepal.Width.x Petal.Length.x Petal.Width.x Species.x\n",
      "1         1            5.1           3.5            1.4           0.2    setosa\n",
      "  Sepal.Length.y Sepal.Width.y Petal.Length.y Petal.Width.y Species.y\n",
      "1            5.1           3.5            1.4           0.2    setosa\n"
     ]
    }
   ],
   "source": [
    "iris.double[1, ]"
   ]
  },
  {
   "cell_type": "markdown",
   "id": "eeb12c3a-73a3-472b-9461-3464b3c57c72",
   "metadata": {
    "editable": true,
    "slideshow": {
     "slide_type": ""
    },
    "tags": []
   },
   "source": [
    "### Activity \n",
    "\n",
    "Create two objects, one containing numbers 1-10, one containing numbers 11-20\n",
    "\n",
    "* Bind them together to make an object of two rows, row 1 being 1:10, row 2 being 11-20\n",
    "* Bind them together to make an object of two columns, columns 1 being 11-20, column 2 being 1-10"
   ]
  },
  {
   "cell_type": "markdown",
   "id": "53d5127a-bdeb-4d8b-bb90-d6df59c2ed76",
   "metadata": {
    "editable": true,
    "slideshow": {
     "slide_type": ""
    },
    "tags": []
   },
   "source": [
    "## Paste\n",
    "\n",
    "The function ```paste()``` is a way of concatenating vectors together. It can be applied to a characters or numbers, \n",
    "vector and column(s) of a data frame or matrix. You can define what you want the separator to be (sep =), or use \n",
    "```paste0()``` or ```paste()``` with the argument sep = \"\" for no space. You can also provide a string as an argument\n",
    "to add the same component to a character or vector."
   ]
  },
  {
   "cell_type": "code",
   "execution_count": 17,
   "id": "63740899-8cbc-4314-93b0-d5ec4dbac2ad",
   "metadata": {
    "editable": true,
    "slideshow": {
     "slide_type": ""
    },
    "tags": []
   },
   "outputs": [
    {
     "name": "stdout",
     "output_type": "stream",
     "text": [
      "[1] \"Species setosa\"\n"
     ]
    }
   ],
   "source": [
    "# Adding text to a value in iris\n",
    "paste(\"Species\", iris$Species[1])"
   ]
  },
  {
   "cell_type": "code",
   "execution_count": 18,
   "id": "f7985d14-09cf-4a7d-ad19-b980f7c918dd",
   "metadata": {
    "editable": true,
    "slideshow": {
     "slide_type": ""
    },
    "tags": []
   },
   "outputs": [
    {
     "name": "stdout",
     "output_type": "stream",
     "text": [
      " [1] \"setosa:5.1\" \"setosa:4.9\" \"setosa:4.7\" \"setosa:4.6\" \"setosa:5\"  \n",
      " [6] \"setosa:5.4\" \"setosa:4.6\" \"setosa:5\"   \"setosa:4.4\" \"setosa:4.9\"\n"
     ]
    }
   ],
   "source": [
    "# Pasting together two columns of iris\n",
    "paste(iris$Species[1:10], iris$Sepal.Length[1:10], sep = \":\")"
   ]
  },
  {
   "cell_type": "markdown",
   "id": "990ec154-d4f7-40c5-9711-58526935aad8",
   "metadata": {
    "editable": true,
    "slideshow": {
     "slide_type": ""
    },
    "tags": []
   },
   "source": [
    "## Renaming columns and rows \n",
    "\n",
    "By using rownames() and colnames(), we can look at what the rownames and colnames of an object are. We can also use this to replace the rownames and colnames of the object by assigning using ```<-```."
   ]
  },
  {
   "cell_type": "code",
   "execution_count": 19,
   "id": "3284dd6c-e46d-4695-9678-4e81af12a693",
   "metadata": {
    "editable": true,
    "slideshow": {
     "slide_type": ""
    },
    "tags": []
   },
   "outputs": [
    {
     "name": "stdout",
     "output_type": "stream",
     "text": [
      "[1] \"Sepal.Length\" \"Sepal.Width\"  \"Petal.Length\" \"Petal.Width\"  \"Species\"     \n"
     ]
    }
   ],
   "source": [
    "# Renaming the colnames in iris\n",
    "iris -> iris2\n",
    "colnames(iris2)"
   ]
  },
  {
   "cell_type": "code",
   "execution_count": 20,
   "id": "625df9fd-292f-4a87-9a8c-fa3369f1f5c0",
   "metadata": {
    "editable": true,
    "slideshow": {
     "slide_type": ""
    },
    "tags": []
   },
   "outputs": [
    {
     "name": "stdout",
     "output_type": "stream",
     "text": [
      "[1] \"S.Length\" \"S.Width\"  \"P.Length\" \"P.Width\"  \"Type\"    \n"
     ]
    }
   ],
   "source": [
    "colnames(iris2) <- c(\"S.Length\", \"S.Width\", \"P.Length\", \"P.Width\", \"Type\")\n",
    "colnames(iris2)"
   ]
  },
  {
   "cell_type": "markdown",
   "id": "32f82981-1137-40d8-b4d6-ac9d6be0f76d",
   "metadata": {
    "editable": true,
    "slideshow": {
     "slide_type": ""
    },
    "tags": []
   },
   "source": [
    "## Adding and removing variables\n",
    "\n",
    "Adding data to your objects can be very useful. Adding an extra column is very easy using the assignment operator\n",
    "and giving the new column a name."
   ]
  },
  {
   "cell_type": "code",
   "execution_count": 21,
   "id": "653a6648-5220-4c03-936a-393c24159808",
   "metadata": {
    "editable": true,
    "slideshow": {
     "slide_type": ""
    },
    "tags": []
   },
   "outputs": [
    {
     "name": "stdout",
     "output_type": "stream",
     "text": [
      "  Sepal.Length Sepal.Width Petal.Length Petal.Width Species new.column\n",
      "1          5.1         3.5          1.4         0.2  setosa          1\n",
      "2          4.9         3.0          1.4         0.2  setosa          2\n",
      "3          4.7         3.2          1.3         0.2  setosa          3\n",
      "4          4.6         3.1          1.5         0.2  setosa          4\n",
      "5          5.0         3.6          1.4         0.2  setosa          5\n",
      "6          5.4         3.9          1.7         0.4  setosa          6\n"
     ]
    }
   ],
   "source": [
    "# Adding a new column\n",
    "iris -> iris2\n",
    "iris2$new.column <- 1:nrow(iris2)\n",
    "\n",
    "head(iris2)"
   ]
  },
  {
   "cell_type": "markdown",
   "id": "73fc8db4-9a1b-498c-8287-7b9c72f0e9a3",
   "metadata": {},
   "source": [
    "Removing a column can be done by assigning the relevant column the \"NULL\" value."
   ]
  },
  {
   "cell_type": "code",
   "execution_count": 22,
   "id": "c8153101-b7e1-471b-9ae4-d2d780b2d28a",
   "metadata": {
    "editable": true,
    "slideshow": {
     "slide_type": ""
    },
    "tags": []
   },
   "outputs": [],
   "source": [
    "# Removing a column\n",
    "iris2$new.column <- NULL"
   ]
  },
  {
   "cell_type": "markdown",
   "id": "a5ba3457-30a6-4359-9365-79a8f73c796d",
   "metadata": {
    "editable": true,
    "slideshow": {
     "slide_type": ""
    },
    "tags": []
   },
   "source": [
    "## Generating a sequence of numbers\n",
    "\n",
    "To generate regular sequences, we can use ```seq()```. We provide it a value to start from (from =), and where to \n",
    "end (to =) and then a value to increase by (by =)."
   ]
  },
  {
   "cell_type": "code",
   "execution_count": 23,
   "id": "7852961e-16e8-48f4-b5dc-9692a3796131",
   "metadata": {
    "editable": true,
    "slideshow": {
     "slide_type": ""
    },
    "tags": []
   },
   "outputs": [
    {
     "name": "stdout",
     "output_type": "stream",
     "text": [
      " [1]   0   5  10  15  20  25  30  35  40  45  50  55  60  65  70  75  80  85  90\n",
      "[20]  95 100\n"
     ]
    }
   ],
   "source": [
    "# Create a sequence from 0 to 100 increasing by 5 each time\n",
    "seq(from = 0, to = 100, by = 5)"
   ]
  },
  {
   "cell_type": "markdown",
   "id": "65f303fe-63cf-434a-b597-41f4e066a061",
   "metadata": {
    "editable": true,
    "slideshow": {
     "slide_type": ""
    },
    "tags": []
   },
   "source": [
    "### Activity\n",
    "\n",
    "Create a copy of ```iris```\n",
    "\n",
    "* Rename the columns of ```iris``` by prefixing with the word \"flower\" and the separator \"_\"\n",
    "* In your copy, duplicate the ```Species``` column\n",
    "* Add a column to your copy which contains the numbers from 4 to 600 increasing by 4 each time."
   ]
  },
  {
   "cell_type": "markdown",
   "id": "20c49047-f395-4961-8e25-288ffcfd85e8",
   "metadata": {
    "editable": true,
    "slideshow": {
     "slide_type": ""
    },
    "tags": []
   },
   "source": [
    "## Summary Quiz"
   ]
  },
  {
   "cell_type": "code",
   "execution_count": 1,
   "id": "020d16c7-9bd9-492c-93b2-0815fc23d55b",
   "metadata": {
    "editable": true,
    "slideshow": {
     "slide_type": ""
    },
    "tags": [
     "remove-input"
    ]
   },
   "outputs": [
    {
     "data": {
      "text/html": [
       "\n",
       "  <style>\n",
       "  .quiz-question {\n",
       "      background-color: #6c63ff;\n",
       "      color: white;\n",
       "      padding: 12px;\n",
       "      border-radius: 10px;\n",
       "      font-weight: bold;\n",
       "      font-size: 1.2em;\n",
       "      margin-bottom: 10px;\n",
       "  }\n",
       "\n",
       "  .quiz-form {\n",
       "      margin-bottom: 20px;\n",
       "  }\n",
       "\n",
       "  .quiz-answer {\n",
       "      display: block;\n",
       "      background-color: #f2f2f2;\n",
       "      border: none;\n",
       "      border-radius: 10px;\n",
       "      padding: 10px;\n",
       "      margin: 5px 0;\n",
       "      font-size: 1em;\n",
       "      cursor: pointer;\n",
       "      text-align: left;\n",
       "      transition: background-color 0.3s;\n",
       "      width: 100%;\n",
       "  }\n",
       "\n",
       "  .quiz-answer:hover {\n",
       "      background-color: #e0e0e0;\n",
       "  }\n",
       "\n",
       "  .correct {\n",
       "      background-color: #4CAF50 !important;\n",
       "      color: white !important;\n",
       "      border: none;\n",
       "  }\n",
       "\n",
       "  .incorrect {\n",
       "      background-color: #D32F2F !important;\n",
       "      color: white !important;\n",
       "      border: none;\n",
       "  }\n",
       "\n",
       "  .feedback {\n",
       "      margin-top: 10px;\n",
       "      font-weight: bold;\n",
       "      font-size: 1em;\n",
       "  }\n",
       "  </style>\n",
       "\n",
       "  <script>\n",
       "  function handleAnswer(qid, aid, feedback, isCorrect) {\n",
       "      let buttons = document.querySelectorAll(\".answer-\" + qid);\n",
       "      buttons.forEach(btn => {\n",
       "          btn.classList.remove(\"correct\", \"incorrect\");\n",
       "      });\n",
       "\n",
       "      let selected = document.getElementById(aid);\n",
       "      selected.classList.add(isCorrect ? \"correct\" : \"incorrect\");\n",
       "\n",
       "      let feedbackBox = document.getElementById(\"feedback_\" + qid);\n",
       "      feedbackBox.innerHTML = feedback;\n",
       "      feedbackBox.style.color = isCorrect ? \"green\" : \"red\";\n",
       "  }\n",
       "  </script>\n",
       "  <div class=\"quiz-question\">What is the purpose of conditional subsetting in R?</div><form class=\"quiz-form\"><button type=\"button\" class=\"quiz-answer answer-1\" id=\"q1_a1\"\n",
       "        onclick=\"handleAnswer('1', 'q1_a1', 'Incorrect', false)\">\n",
       "        To merge two datasets</button><button type=\"button\" class=\"quiz-answer answer-1\" id=\"q1_a2\"\n",
       "        onclick=\"handleAnswer('1', 'q1_a2', 'Correct', true)\">\n",
       "        To extract rows based on specific conditions</button><button type=\"button\" class=\"quiz-answer answer-1\" id=\"q1_a3\"\n",
       "        onclick=\"handleAnswer('1', 'q1_a3', 'Incorrect', false)\">\n",
       "        To rename columns and rows</button><button type=\"button\" class=\"quiz-answer answer-1\" id=\"q1_a4\"\n",
       "        onclick=\"handleAnswer('1', 'q1_a4', 'Incorrect', false)\">\n",
       "        To concatenate strings</button><div class=\"feedback\" id=\"feedback_1\"></div></form><hr><div class=\"quiz-question\">Which function is used to concatenate strings in R?</div><form class=\"quiz-form\"><button type=\"button\" class=\"quiz-answer answer-2\" id=\"q2_a1\"\n",
       "        onclick=\"handleAnswer('2', 'q2_a1', 'Incorrect', false)\">\n",
       "        merge()</button><button type=\"button\" class=\"quiz-answer answer-2\" id=\"q2_a2\"\n",
       "        onclick=\"handleAnswer('2', 'q2_a2', 'Incorrect', false)\">\n",
       "        cbind()</button><button type=\"button\" class=\"quiz-answer answer-2\" id=\"q2_a3\"\n",
       "        onclick=\"handleAnswer('2', 'q2_a3', 'Correct', true)\">\n",
       "        paste()</button><button type=\"button\" class=\"quiz-answer answer-2\" id=\"q2_a4\"\n",
       "        onclick=\"handleAnswer('2', 'q2_a4', 'Incorrect', false)\">\n",
       "        subset()</button><div class=\"feedback\" id=\"feedback_2\"></div></form><hr><div class=\"quiz-question\">How can you combine two datasets by rows in R?</div><form class=\"quiz-form\"><button type=\"button\" class=\"quiz-answer answer-3\" id=\"q3_a1\"\n",
       "        onclick=\"handleAnswer('3', 'q3_a1', 'Incorrect', false)\">\n",
       "        merge()</button><button type=\"button\" class=\"quiz-answer answer-3\" id=\"q3_a2\"\n",
       "        onclick=\"handleAnswer('3', 'q3_a2', 'Correct', true)\">\n",
       "        rbind()</button><button type=\"button\" class=\"quiz-answer answer-3\" id=\"q3_a3\"\n",
       "        onclick=\"handleAnswer('3', 'q3_a3', 'Incorrect', false)\">\n",
       "        cbind()</button><button type=\"button\" class=\"quiz-answer answer-3\" id=\"q3_a4\"\n",
       "        onclick=\"handleAnswer('3', 'q3_a4', 'Incorrect', false)\">\n",
       "        subset()</button><div class=\"feedback\" id=\"feedback_3\"></div></form><hr>"
      ]
     },
     "metadata": {},
     "output_type": "display_data"
    }
   ],
   "source": [
    "library(jsonlite)\n",
    "library(IRdisplay)\n",
    "\n",
    "show_quiz_from_json <- function(path) {\n",
    "  quiz_data <- fromJSON(path, simplifyVector = FALSE)\n",
    "  \n",
    "  html <- '\n",
    "  <style>\n",
    "  .quiz-question {\n",
    "      background-color: #6c63ff;\n",
    "      color: white;\n",
    "      padding: 12px;\n",
    "      border-radius: 10px;\n",
    "      font-weight: bold;\n",
    "      font-size: 1.2em;\n",
    "      margin-bottom: 10px;\n",
    "  }\n",
    "\n",
    "  .quiz-form {\n",
    "      margin-bottom: 20px;\n",
    "  }\n",
    "\n",
    "  .quiz-answer {\n",
    "      display: block;\n",
    "      background-color: #f2f2f2;\n",
    "      border: none;\n",
    "      border-radius: 10px;\n",
    "      padding: 10px;\n",
    "      margin: 5px 0;\n",
    "      font-size: 1em;\n",
    "      cursor: pointer;\n",
    "      text-align: left;\n",
    "      transition: background-color 0.3s;\n",
    "      width: 100%;\n",
    "  }\n",
    "\n",
    "  .quiz-answer:hover {\n",
    "      background-color: #e0e0e0;\n",
    "  }\n",
    "\n",
    "  .correct {\n",
    "      background-color: #4CAF50 !important;\n",
    "      color: white !important;\n",
    "      border: none;\n",
    "  }\n",
    "\n",
    "  .incorrect {\n",
    "      background-color: #D32F2F !important;\n",
    "      color: white !important;\n",
    "      border: none;\n",
    "  }\n",
    "\n",
    "  .feedback {\n",
    "      margin-top: 10px;\n",
    "      font-weight: bold;\n",
    "      font-size: 1em;\n",
    "  }\n",
    "  </style>\n",
    "\n",
    "  <script>\n",
    "  function handleAnswer(qid, aid, feedback, isCorrect) {\n",
    "      let buttons = document.querySelectorAll(\".answer-\" + qid);\n",
    "      buttons.forEach(btn => {\n",
    "          btn.classList.remove(\"correct\", \"incorrect\");\n",
    "      });\n",
    "\n",
    "      let selected = document.getElementById(aid);\n",
    "      selected.classList.add(isCorrect ? \"correct\" : \"incorrect\");\n",
    "\n",
    "      let feedbackBox = document.getElementById(\"feedback_\" + qid);\n",
    "      feedbackBox.innerHTML = feedback;\n",
    "      feedbackBox.style.color = isCorrect ? \"green\" : \"red\";\n",
    "  }\n",
    "  </script>\n",
    "  '\n",
    "\n",
    "  for (i in seq_along(quiz_data)) {\n",
    "    question <- quiz_data[[i]]\n",
    "    qid <- as.character(i)\n",
    "    html <- paste0(html, sprintf('<div class=\"quiz-question\">%s</div><form class=\"quiz-form\">', question$question))\n",
    "    \n",
    "    for (j in seq_along(question$answers)) {\n",
    "      answer <- question$answers[[j]]\n",
    "      aid <- sprintf(\"q%s_a%s\", i, j)\n",
    "      feedback <- gsub(\"'\", \"\\\\'\", answer$feedback)  # escape single quotes\n",
    "      correct <- tolower(substr(answer$feedback, 1, 7)) == \"correct\"\n",
    "      correct_js <- tolower(as.character(correct))  # \"true\" or \"false\"\n",
    "\n",
    "      html <- paste0(html, sprintf(\n",
    "        '<button type=\"button\" class=\"quiz-answer answer-%s\" id=\"%s\"\n",
    "        onclick=\"handleAnswer(\\'%s\\', \\'%s\\', \\'%s\\', %s)\">\n",
    "        %s</button>',\n",
    "        qid, aid, qid, aid, feedback, correct_js, answer$answer\n",
    "      ))\n",
    "    }\n",
    "    \n",
    "    html <- paste0(html, sprintf('<div class=\"feedback\" id=\"feedback_%s\"></div></form><hr>', qid))\n",
    "  }\n",
    "\n",
    "  display_html(html)\n",
    "}\n",
    "\n",
    "# Call the function to display quiz interactively:\n",
    "show_quiz_from_json(\"questions/summary_manipulating_data.json\")"
   ]
  },
  {
   "cell_type": "code",
   "execution_count": null,
   "id": "3897ddf8-6e38-4427-ac84-bd57689e2dcf",
   "metadata": {
    "editable": true,
    "slideshow": {
     "slide_type": ""
    },
    "tags": []
   },
   "outputs": [],
   "source": []
  }
 ],
 "metadata": {
  "kernelspec": {
   "display_name": "R",
   "language": "R",
   "name": "ir"
  },
  "language_info": {
   "codemirror_mode": "r",
   "file_extension": ".r",
   "mimetype": "text/x-r-source",
   "name": "R",
   "pygments_lexer": "r",
   "version": "4.3.3"
  }
 },
 "nbformat": 4,
 "nbformat_minor": 5
}
