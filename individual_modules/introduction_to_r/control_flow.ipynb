{
 "cells": [
  {
   "cell_type": "markdown",
   "id": "ab78f96f-c07b-4fb7-a81d-e004cc26187a",
   "metadata": {
    "editable": true,
    "slideshow": {
     "slide_type": ""
    },
    "tags": []
   },
   "source": [
    "# Control Flow\n",
    "\n",
    "R is just another programming language and here we are going to introduce some common programming paradigms that\n",
    "empower you to write code efficiently and control the flow of information. \n",
    "\n",
    "## Download Rmd Version\n",
    "\n",
    "If you wish to engage with this course content via Rmd, then please click the link below to download the Rmd file.\n",
    "\n",
    "[Download control_flow.Rmd](rmarkdown/control_flow.Rmd)\n",
    "\n",
    "\n",
    "\n",
    "## Learning Objectives\n",
    "- Learn the fundamental concepts of control flow in R programming, including loops and conditional statements\n",
    "- Understand how to use for loops to automate repetitive tasks in R\n",
    "- Learn to implement if statement for decision-making processes in R\n",
    "- Recognize the importance of NA values and how to handle missing data in R\n",
    "- Learn to integrate loops with conditional statements for complex data processing\n",
    "\n",
    "## For Loops\n",
    "\n",
    "Code is often focused around highly repetative tasks. \n",
    "Suppose we want to print each word in a sentence.\n",
    "One way is to use six `print` statements:"
   ]
  },
  {
   "cell_type": "code",
   "execution_count": 2,
   "id": "6b1dc6a7-a967-4b27-b4ae-deb407fd9a07",
   "metadata": {
    "editable": true,
    "slideshow": {
     "slide_type": ""
    },
    "tags": []
   },
   "outputs": [
    {
     "name": "stdout",
     "output_type": "stream",
     "text": [
      "[1] \"Let\"\n",
      "[1] \"the\"\n",
      "[1] \"computer\"\n",
      "[1] \"do\"\n",
      "[1] \"the\"\n",
      "[1] \"work\"\n"
     ]
    }
   ],
   "source": [
    "best_practice <- c(\"Let\", \"the\", \"computer\", \"do\", \"the\", \"work\")\n",
    "print_words <- function(sentence) {\n",
    "  print(sentence[1])\n",
    "  print(sentence[2])\n",
    "  print(sentence[3])\n",
    "  print(sentence[4])\n",
    "  print(sentence[5])\n",
    "  print(sentence[6])\n",
    "}\n",
    "\n",
    "print_words(best_practice)"
   ]
  },
  {
   "cell_type": "markdown",
   "id": "29485c03-7ac2-46c1-b835-62ba2a05317d",
   "metadata": {},
   "source": [
    "but that's a bad approach for two reasons:\n",
    "\n",
    " 1. It doesn't scale: if we want to print the elements in a vector that's hundreds long, we'd be better off just typing them in.\n",
    "\n",
    " 2. It's fragile: if we give it a longer vector, it only prints part of the data, and if we give it a shorter input, it returns `NA` values because we're asking for elements that don't exist!\n",
    "\n"
   ]
  },
  {
   "cell_type": "code",
   "execution_count": 3,
   "id": "f5fbca7c-13d3-40ad-b4ab-529a6ccc868b",
   "metadata": {
    "editable": true,
    "slideshow": {
     "slide_type": ""
    },
    "tags": []
   },
   "outputs": [
    {
     "name": "stdout",
     "output_type": "stream",
     "text": [
      "[1] \"Let\"      \"the\"      \"computer\" \"do\"       \"the\"     \n"
     ]
    }
   ],
   "source": [
    "best_practice[-6]"
   ]
  },
  {
   "cell_type": "code",
   "execution_count": 4,
   "id": "9eb2096e-1a7c-4a5b-b2a3-68b7bd8a4fbf",
   "metadata": {
    "editable": true,
    "slideshow": {
     "slide_type": ""
    },
    "tags": []
   },
   "outputs": [
    {
     "name": "stdout",
     "output_type": "stream",
     "text": [
      "[1] \"Let\"\n",
      "[1] \"the\"\n",
      "[1] \"computer\"\n",
      "[1] \"do\"\n",
      "[1] \"the\"\n",
      "[1] NA\n"
     ]
    }
   ],
   "source": [
    "print_words(best_practice[-6])"
   ]
  },
  {
   "cell_type": "markdown",
   "id": "3f6a3f8f-968f-43b2-8c12-85cc659a91dd",
   "metadata": {},
   "source": [
    "# Not Available \n",
    "R has has a special variable, `NA`, for designating missing values that are\n",
    "**N**ot **A**vailable in a data set. See `?NA` and (An Introduction to R)[http://cran.r-project.org/doc/manuals/r-release/R-intro.html#Missing-values]\n",
    "for more details.\n",
    "\n",
    "Here's a better approach:"
   ]
  },
  {
   "cell_type": "code",
   "execution_count": 5,
   "id": "12d77c27-d74e-425a-a125-20f8f89e9abf",
   "metadata": {
    "editable": true,
    "slideshow": {
     "slide_type": ""
    },
    "tags": []
   },
   "outputs": [
    {
     "name": "stdout",
     "output_type": "stream",
     "text": [
      "[1] \"Let\"\n",
      "[1] \"the\"\n",
      "[1] \"computer\"\n",
      "[1] \"do\"\n",
      "[1] \"the\"\n",
      "[1] \"work\"\n"
     ]
    }
   ],
   "source": [
    "print_words <- function(sentence) {\n",
    "  for (word in sentence) {\n",
    "    print(word)\n",
    "  }\n",
    "}\n",
    "\n",
    "print_words(best_practice)"
   ]
  },
  {
   "cell_type": "markdown",
   "id": "d8a4a1c1-8946-435d-ac04-6d4731cefea6",
   "metadata": {},
   "source": [
    "This is shorter---certainly shorter than something that prints every character in a hundred-letter string---and more robust as well."
   ]
  },
  {
   "cell_type": "markdown",
   "id": "4bc34d33-0c6d-48bc-bb88-ee4adce70ab4",
   "metadata": {},
   "source": [
    "The improved version of `print_words` uses a for loop to repeat an operation---in this case, printing---once for each thing in a collection.\n",
    "The general form of a loop is:\n",
    "\n",
    "``` R\n",
    "for (variable in collection) {\n",
    "  do things with variable\n",
    "}\n",
    "```"
   ]
  },
  {
   "cell_type": "markdown",
   "id": "c457c646-5d4e-486c-a236-1c4995d0aa80",
   "metadata": {},
   "source": [
    "We can name the loop variable anything we like (with a few [restrictions](http://cran.r-project.org/doc/manuals/R-intro.html#R-commands_003b-case-sensitivity-etc), e.g. the name of the variable cannot start with a digit). `in` is part of the `for` syntax. Note that the body of the loop is enclosed in curly braces `{ }`. For a single-line loop body, as here, the braces aren't needed, but it is good practice to include them, as we did.\n",
    "\n",
    "Here's another loop that repeatedly updates a variable:"
   ]
  },
  {
   "cell_type": "code",
   "execution_count": 6,
   "id": "34610096-af0d-4c0b-8318-455ff759bcf1",
   "metadata": {
    "editable": true,
    "slideshow": {
     "slide_type": ""
    },
    "tags": []
   },
   "outputs": [
    {
     "name": "stdout",
     "output_type": "stream",
     "text": [
      "[1] 5\n"
     ]
    }
   ],
   "source": [
    "len <- 0\n",
    "vowels <- c(\"a\", \"e\", \"i\", \"o\", \"u\")\n",
    "for (v in vowels) {\n",
    "  len <- len + 1\n",
    "}\n",
    "# Number of vowels\n",
    "len"
   ]
  },
  {
   "cell_type": "markdown",
   "id": "f38ac0fc-1c96-4a83-bd5e-a2f5adaf6c44",
   "metadata": {},
   "source": [
    "It's worth tracing the execution of this little program step by step. Since there are five elements in the vector `vowels`, the statement inside the loop will be executed five times. The first time around, `len` is zero (the value assigned to it on line 1) and `v` is `\"a\"`. The statement adds 1 to the old value of `len`, producing 1, and updates `len` to refer to that new value. The next time around, `v` is `\"e\"` and `len` is 1, so `len` is updated to be 2. After three more updates, `len` is 5; since there is nothing left in the vector `vowels` for R to process, the loop finishes.\n",
    "\n",
    "Note that a loop variable is just a variable that's being used to record progress in a loop.\n",
    "It still exists after the loop is over, and we can re-use variables previously defined as loop variables as well:\n"
   ]
  },
  {
   "cell_type": "code",
   "execution_count": 7,
   "id": "a0a8ebee-98b8-4d4f-b090-38b90dd3e074",
   "metadata": {
    "editable": true,
    "slideshow": {
     "slide_type": ""
    },
    "tags": []
   },
   "outputs": [
    {
     "name": "stdout",
     "output_type": "stream",
     "text": [
      "[1] \"a\"\n",
      "[1] \"b\"\n",
      "[1] \"c\"\n"
     ]
    }
   ],
   "source": [
    "letter <- \"z\"\n",
    "for (letter in c(\"a\", \"b\", \"c\")) {\n",
    "  print(letter)\n",
    "}"
   ]
  },
  {
   "cell_type": "code",
   "execution_count": 8,
   "id": "4d004b89-c5df-44b3-ad6d-460804b49528",
   "metadata": {
    "editable": true,
    "slideshow": {
     "slide_type": ""
    },
    "tags": []
   },
   "outputs": [
    {
     "name": "stdout",
     "output_type": "stream",
     "text": [
      "[1] \"c\"\n"
     ]
    }
   ],
   "source": [
    "# after the loop, letter is\n",
    "letter"
   ]
  },
  {
   "cell_type": "markdown",
   "id": "5d0943ca-d87a-4ea3-974e-6716cb683d13",
   "metadata": {},
   "source": [
    "Note also that finding the length of a vector is such a common operation that R actually has a built-in function to do it called `length`:"
   ]
  },
  {
   "cell_type": "code",
   "execution_count": 9,
   "id": "283018f5-99a0-4f6f-8447-a1755101687e",
   "metadata": {
    "editable": true,
    "slideshow": {
     "slide_type": ""
    },
    "tags": []
   },
   "outputs": [
    {
     "name": "stdout",
     "output_type": "stream",
     "text": [
      "[1] 5\n"
     ]
    }
   ],
   "source": [
    "length(vowels)"
   ]
  },
  {
   "cell_type": "markdown",
   "id": "7011d93f-6a3e-4936-9a29-ebe2ad622fec",
   "metadata": {},
   "source": [
    "`length` is much faster than any R function we could write ourselves, and much easier to read than a two-line loop; it will also give us the length of many other things that we haven't met yet, so we should always use it when we can."
   ]
  },
  {
   "cell_type": "markdown",
   "id": "f52ebec5-77bf-4b1f-b06f-be4fc259fa18",
   "metadata": {},
   "source": [
    "## Activity \n",
    "Can you edit the for loop to print the sentence backwards?"
   ]
  },
  {
   "cell_type": "markdown",
   "id": "604d6921-75ff-4ff9-9c4d-f59c312a2b8a",
   "metadata": {},
   "source": [
    "# if Statements\n",
    "\n",
    "As well as repeating tasks, it's possible we want R to only perform certain tasks in certain situations. To do this we need to write code that automatically decides between multiple options. The tool R gives us for doing this is called a conditional statement, and looks like this:"
   ]
  },
  {
   "cell_type": "code",
   "execution_count": 10,
   "id": "b007e955-7593-4efe-b0c4-839083f00930",
   "metadata": {
    "editable": true,
    "slideshow": {
     "slide_type": ""
    },
    "tags": []
   },
   "outputs": [
    {
     "name": "stdout",
     "output_type": "stream",
     "text": [
      "[1] \"not greater\"\n",
      "[1] \"done\"\n"
     ]
    }
   ],
   "source": [
    "num <- 37\n",
    "if (num > 100) {\n",
    "  print(\"greater\")\n",
    "} else {\n",
    "  print(\"not greater\")\n",
    "}\n",
    "print(\"done\")"
   ]
  },
  {
   "cell_type": "markdown",
   "id": "ddd78e3b-4fbe-4e03-b502-da46fb9333e8",
   "metadata": {},
   "source": [
    "The second line of this code uses an `if` statement to tell R that we want to make a choice. If the following test is true, the body of the `if` (i.e., the lines in the curly braces underneath it) are executed. If the test is false, the body of the `else` is executed instead. Only one or the other is ever executed:"
   ]
  },
  {
   "cell_type": "markdown",
   "id": "f0b82d0f-e3f5-4453-ab3f-6599575bb223",
   "metadata": {},
   "source": [
    "![Executing a conditional](images/python-flowchart-conditional.svg)"
   ]
  },
  {
   "cell_type": "markdown",
   "id": "7f52127c-83b0-4a83-9d44-2439c44706b5",
   "metadata": {},
   "source": [
    "In the example above, the test `num > 100` returns the value `FALSE`, which is why the code inside the `if` block was skipped and the code inside the `else` statement was run instead."
   ]
  },
  {
   "cell_type": "code",
   "execution_count": 11,
   "id": "8fd1c6a8-33d2-41c7-b58d-8f35240c8f15",
   "metadata": {
    "editable": true,
    "slideshow": {
     "slide_type": ""
    },
    "tags": []
   },
   "outputs": [
    {
     "name": "stdout",
     "output_type": "stream",
     "text": [
      "[1] FALSE\n"
     ]
    }
   ],
   "source": [
    "num > 100"
   ]
  },
  {
   "cell_type": "markdown",
   "id": "15dcbda3-0397-4a5c-aa1a-c0c6f4f65d78",
   "metadata": {},
   "source": [
    "And as you likely guessed, the opposite of `FALSE` is `TRUE`."
   ]
  },
  {
   "cell_type": "code",
   "execution_count": 12,
   "id": "7f80afe5-fa1a-4310-9f32-e1264714f076",
   "metadata": {
    "editable": true,
    "slideshow": {
     "slide_type": ""
    },
    "tags": []
   },
   "outputs": [
    {
     "name": "stdout",
     "output_type": "stream",
     "text": [
      "[1] TRUE\n"
     ]
    }
   ],
   "source": [
    "num < 100"
   ]
  },
  {
   "cell_type": "markdown",
   "id": "f4a84ea2-1a13-405f-95c8-84455a228678",
   "metadata": {},
   "source": [
    "Conditional statements don't have to include an `else`. If there isn't one, R simply does nothing if the test is false:"
   ]
  },
  {
   "cell_type": "code",
   "execution_count": 13,
   "id": "972cbbe5-6da4-407f-b981-00a7789cef69",
   "metadata": {
    "editable": true,
    "slideshow": {
     "slide_type": ""
    },
    "tags": []
   },
   "outputs": [],
   "source": [
    "num <- 53\n",
    "if (num > 100) {\n",
    "  print(\"num is greater than 100\")\n",
    "}"
   ]
  },
  {
   "cell_type": "markdown",
   "id": "d1013d09-251e-4c9c-8dca-9aa60d94f3c1",
   "metadata": {},
   "source": [
    "We can also chain several tests together when there are more than two options.\n",
    "This makes it simple to write a function that returns the sign of a number:\n"
   ]
  },
  {
   "cell_type": "code",
   "execution_count": 14,
   "id": "5e0f779b-c7b8-4c90-a2de-2dd229dc68df",
   "metadata": {
    "editable": true,
    "slideshow": {
     "slide_type": ""
    },
    "tags": []
   },
   "outputs": [
    {
     "name": "stdout",
     "output_type": "stream",
     "text": [
      "[1] -1\n"
     ]
    }
   ],
   "source": [
    "sign <- function(num) {\n",
    "  if (num > 0) {\n",
    "    return(1)\n",
    "  } else if (num == 0) {\n",
    "    return(0)\n",
    "  } else {\n",
    "    return(-1)\n",
    "  }\n",
    "}\n",
    "\n",
    "sign(-3)"
   ]
  },
  {
   "cell_type": "code",
   "execution_count": 15,
   "id": "74bb6091-0053-42a2-ad05-1646bb53c45a",
   "metadata": {
    "editable": true,
    "slideshow": {
     "slide_type": ""
    },
    "tags": []
   },
   "outputs": [
    {
     "name": "stdout",
     "output_type": "stream",
     "text": [
      "[1] 0\n"
     ]
    }
   ],
   "source": [
    "sign(0)"
   ]
  },
  {
   "cell_type": "code",
   "execution_count": 16,
   "id": "8518ab29-e114-4f8f-a38d-e74f5a13668c",
   "metadata": {
    "editable": true,
    "slideshow": {
     "slide_type": ""
    },
    "tags": []
   },
   "outputs": [
    {
     "name": "stdout",
     "output_type": "stream",
     "text": [
      "[1] 1\n"
     ]
    }
   ],
   "source": [
    "sign(2/3)"
   ]
  },
  {
   "cell_type": "markdown",
   "id": "963c82fd-834a-4afa-aa70-5b77592a4b08",
   "metadata": {},
   "source": [
    "Note that when combining `else` and `if` in an `else if` statement (similar to `elif` in Python), the `if` portion still requires a direct input condition.  This is never the case for the `else` statement alone, which is only executed if all other conditions go unsatisfied.\n",
    "Note that the test for equality uses two equal signs, `==`."
   ]
  },
  {
   "cell_type": "markdown",
   "id": "7f07e2b1-ea0a-4a2a-8668-e22366c3de79",
   "metadata": {},
   "source": [
    "## Other Comparisons\n",
    "\n",
    "Other tests include greater than or equal to (`>=`), less than or equal to (`<=`), and not equal to (`!=`)."
   ]
  },
  {
   "cell_type": "markdown",
   "id": "57a821d5-035a-4128-b156-2d0bd475302b",
   "metadata": {},
   "source": [
    "We can also combine tests.\n",
    "An ampersand, `&`, symbolizes \"and\".\n",
    "A vertical bar, `|`, symbolizes \"or\".\n",
    "`&` is only true if both parts are true:"
   ]
  },
  {
   "cell_type": "code",
   "execution_count": 17,
   "id": "1f006baf-6156-49dc-b794-a24885b27266",
   "metadata": {
    "editable": true,
    "slideshow": {
     "slide_type": ""
    },
    "tags": []
   },
   "outputs": [
    {
     "name": "stdout",
     "output_type": "stream",
     "text": [
      "[1] \"at least one part is not true\"\n"
     ]
    }
   ],
   "source": [
    "if (1 > 0 & -1 > 0) {\n",
    "    print(\"both parts are true\")\n",
    "} else {\n",
    "  print(\"at least one part is not true\")\n",
    "}"
   ]
  },
  {
   "cell_type": "markdown",
   "id": "58e878ab-f842-45cd-8be4-b28404a24ec8",
   "metadata": {},
   "source": [
    "while `|` is true if either part is true:"
   ]
  },
  {
   "cell_type": "code",
   "execution_count": 18,
   "id": "951204d5-41fc-4b71-b688-de60f7700049",
   "metadata": {
    "editable": true,
    "slideshow": {
     "slide_type": ""
    },
    "tags": []
   },
   "outputs": [
    {
     "name": "stdout",
     "output_type": "stream",
     "text": [
      "[1] \"at least one part is true\"\n"
     ]
    }
   ],
   "source": [
    "if (1 > 0 | -1 > 0) {\n",
    "    print(\"at least one part is true\")\n",
    "} else {\n",
    "  print(\"neither part is true\")\n",
    "}"
   ]
  },
  {
   "cell_type": "markdown",
   "id": "f87fc91d-c86c-44c4-a132-150ae91516b9",
   "metadata": {
    "editable": true,
    "slideshow": {
     "slide_type": ""
    },
    "tags": []
   },
   "source": [
    "In this case, \"either\" means \"either or both\", not \"either one or the other but not both\".\n",
    "\n",
    "## Activity: Combining for loops and control flow\n",
    "\n",
    "Write a for loop that iterates through numbers 1 to 10 but only prints numbers greater than 3 and less than 7.\n",
    "\n"
   ]
  },
  {
   "cell_type": "markdown",
   "id": "b927db37-503e-403f-8f4e-64cf2f31c984",
   "metadata": {
    "editable": true,
    "slideshow": {
     "slide_type": ""
    },
    "tags": [
     "remove-input"
    ]
   },
   "source": [
    "## Summary Quiz"
   ]
  },
  {
   "cell_type": "code",
   "execution_count": 1,
   "id": "cad23905-84d5-401e-8a3d-3b9b2174f037",
   "metadata": {
    "editable": true,
    "slideshow": {
     "slide_type": ""
    },
    "tags": [
     "remove-input"
    ]
   },
   "outputs": [
    {
     "data": {
      "text/html": [
       "\n",
       "  <style>\n",
       "  .quiz-question {\n",
       "      background-color: #6c63ff;\n",
       "      color: white;\n",
       "      padding: 12px;\n",
       "      border-radius: 10px;\n",
       "      font-weight: bold;\n",
       "      font-size: 1.2em;\n",
       "      margin-bottom: 10px;\n",
       "  }\n",
       "\n",
       "  .quiz-form {\n",
       "      margin-bottom: 20px;\n",
       "  }\n",
       "\n",
       "  .quiz-answer {\n",
       "      display: block;\n",
       "      background-color: #f2f2f2;\n",
       "      border: none;\n",
       "      border-radius: 10px;\n",
       "      padding: 10px;\n",
       "      margin: 5px 0;\n",
       "      font-size: 1em;\n",
       "      cursor: pointer;\n",
       "      text-align: left;\n",
       "      transition: background-color 0.3s;\n",
       "      width: 100%;\n",
       "  }\n",
       "\n",
       "  .quiz-answer:hover {\n",
       "      background-color: #e0e0e0;\n",
       "  }\n",
       "\n",
       "  .correct {\n",
       "      background-color: #4CAF50 !important;\n",
       "      color: white !important;\n",
       "      border: none;\n",
       "  }\n",
       "\n",
       "  .incorrect {\n",
       "      background-color: #D32F2F !important;\n",
       "      color: white !important;\n",
       "      border: none;\n",
       "  }\n",
       "\n",
       "  .feedback {\n",
       "      margin-top: 10px;\n",
       "      font-weight: bold;\n",
       "      font-size: 1em;\n",
       "  }\n",
       "  </style>\n",
       "\n",
       "  <script>\n",
       "  function handleAnswer(qid, aid, feedback, isCorrect) {\n",
       "      let buttons = document.querySelectorAll(\".answer-\" + qid);\n",
       "      buttons.forEach(btn => {\n",
       "          btn.classList.remove(\"correct\", \"incorrect\");\n",
       "      });\n",
       "\n",
       "      let selected = document.getElementById(aid);\n",
       "      selected.classList.add(isCorrect ? \"correct\" : \"incorrect\");\n",
       "\n",
       "      let feedbackBox = document.getElementById(\"feedback_\" + qid);\n",
       "      feedbackBox.innerHTML = feedback;\n",
       "      feedbackBox.style.color = isCorrect ? \"green\" : \"red\";\n",
       "  }\n",
       "  </script>\n",
       "  <div class=\"quiz-question\">In R, what value is used to represent missing data?</div><form class=\"quiz-form\"><button type=\"button\" class=\"quiz-answer answer-1\" id=\"q1_a1\"\n",
       "        onclick=\"handleAnswer('1', 'q1_a1', 'Incorrect', false)\">\n",
       "        NULL</button><button type=\"button\" class=\"quiz-answer answer-1\" id=\"q1_a2\"\n",
       "        onclick=\"handleAnswer('1', 'q1_a2', 'Incorrect', false)\">\n",
       "        NaN</button><button type=\"button\" class=\"quiz-answer answer-1\" id=\"q1_a3\"\n",
       "        onclick=\"handleAnswer('1', 'q1_a3', 'Correct', true)\">\n",
       "        NA</button><button type=\"button\" class=\"quiz-answer answer-1\" id=\"q1_a4\"\n",
       "        onclick=\"handleAnswer('1', 'q1_a4', 'Incorrect', false)\">\n",
       "        Missing</button><div class=\"feedback\" id=\"feedback_1\"></div></form><hr><div class=\"quiz-question\">What would the following R code do? for (i in 1:5) { print(i) }</div><form class=\"quiz-form\"><button type=\"button\" class=\"quiz-answer answer-2\" id=\"q2_a1\"\n",
       "        onclick=\"handleAnswer('2', 'q2_a1', 'Incorrect', false)\">\n",
       "        Print numbers from 0 to 4</button><button type=\"button\" class=\"quiz-answer answer-2\" id=\"q2_a2\"\n",
       "        onclick=\"handleAnswer('2', 'q2_a2', 'Correct', true)\">\n",
       "        Print numbers from 1 to 5</button><button type=\"button\" class=\"quiz-answer answer-2\" id=\"q2_a3\"\n",
       "        onclick=\"handleAnswer('2', 'q2_a3', 'Incorrect', false)\">\n",
       "        Prints the number 5, five times</button><button type=\"button\" class=\"quiz-answer answer-2\" id=\"q2_a4\"\n",
       "        onclick=\"handleAnswer('2', 'q2_a4', 'Incorrect', false)\">\n",
       "        Causes an error</button><div class=\"feedback\" id=\"feedback_2\"></div></form><hr><div class=\"quiz-question\">Which of the following is the correct syntax for a for loop in R?</div><form class=\"quiz-form\"><button type=\"button\" class=\"quiz-answer answer-3\" id=\"q3_a1\"\n",
       "        onclick=\"handleAnswer('3', 'q3_a1', 'Correct', true)\">\n",
       "        for (variable in collection) { do things with variable }</button><button type=\"button\" class=\"quiz-answer answer-3\" id=\"q3_a2\"\n",
       "        onclick=\"handleAnswer('3', 'q3_a2', 'Incorrect', false)\">\n",
       "        for variable in collection: { do things with variable }</button><button type=\"button\" class=\"quiz-answer answer-3\" id=\"q3_a3\"\n",
       "        onclick=\"handleAnswer('3', 'q3_a3', 'Incorrect', false)\">\n",
       "        foreach variable in collection { do things with variable }</button><button type=\"button\" class=\"quiz-answer answer-3\" id=\"q3_a4\"\n",
       "        onclick=\"handleAnswer('3', 'q3_a4', 'Incorrect', false)\">\n",
       "        loop (variable in collection) { do things with variable }</button><div class=\"feedback\" id=\"feedback_3\"></div></form><hr>"
      ]
     },
     "metadata": {},
     "output_type": "display_data"
    }
   ],
   "source": [
    "library(jsonlite)\n",
    "library(IRdisplay)\n",
    "\n",
    "show_quiz_from_json <- function(path) {\n",
    "  quiz_data <- fromJSON(path, simplifyVector = FALSE)\n",
    "  \n",
    "  html <- '\n",
    "  <style>\n",
    "  .quiz-question {\n",
    "      background-color: #6c63ff;\n",
    "      color: white;\n",
    "      padding: 12px;\n",
    "      border-radius: 10px;\n",
    "      font-weight: bold;\n",
    "      font-size: 1.2em;\n",
    "      margin-bottom: 10px;\n",
    "  }\n",
    "\n",
    "  .quiz-form {\n",
    "      margin-bottom: 20px;\n",
    "  }\n",
    "\n",
    "  .quiz-answer {\n",
    "      display: block;\n",
    "      background-color: #f2f2f2;\n",
    "      border: none;\n",
    "      border-radius: 10px;\n",
    "      padding: 10px;\n",
    "      margin: 5px 0;\n",
    "      font-size: 1em;\n",
    "      cursor: pointer;\n",
    "      text-align: left;\n",
    "      transition: background-color 0.3s;\n",
    "      width: 100%;\n",
    "  }\n",
    "\n",
    "  .quiz-answer:hover {\n",
    "      background-color: #e0e0e0;\n",
    "  }\n",
    "\n",
    "  .correct {\n",
    "      background-color: #4CAF50 !important;\n",
    "      color: white !important;\n",
    "      border: none;\n",
    "  }\n",
    "\n",
    "  .incorrect {\n",
    "      background-color: #D32F2F !important;\n",
    "      color: white !important;\n",
    "      border: none;\n",
    "  }\n",
    "\n",
    "  .feedback {\n",
    "      margin-top: 10px;\n",
    "      font-weight: bold;\n",
    "      font-size: 1em;\n",
    "  }\n",
    "  </style>\n",
    "\n",
    "  <script>\n",
    "  function handleAnswer(qid, aid, feedback, isCorrect) {\n",
    "      let buttons = document.querySelectorAll(\".answer-\" + qid);\n",
    "      buttons.forEach(btn => {\n",
    "          btn.classList.remove(\"correct\", \"incorrect\");\n",
    "      });\n",
    "\n",
    "      let selected = document.getElementById(aid);\n",
    "      selected.classList.add(isCorrect ? \"correct\" : \"incorrect\");\n",
    "\n",
    "      let feedbackBox = document.getElementById(\"feedback_\" + qid);\n",
    "      feedbackBox.innerHTML = feedback;\n",
    "      feedbackBox.style.color = isCorrect ? \"green\" : \"red\";\n",
    "  }\n",
    "  </script>\n",
    "  '\n",
    "\n",
    "  for (i in seq_along(quiz_data)) {\n",
    "    question <- quiz_data[[i]]\n",
    "    qid <- as.character(i)\n",
    "    html <- paste0(html, sprintf('<div class=\"quiz-question\">%s</div><form class=\"quiz-form\">', question$question))\n",
    "    \n",
    "    for (j in seq_along(question$answers)) {\n",
    "      answer <- question$answers[[j]]\n",
    "      aid <- sprintf(\"q%s_a%s\", i, j)\n",
    "      feedback <- gsub(\"'\", \"\\\\'\", answer$feedback)  # escape single quotes\n",
    "      correct <- tolower(substr(answer$feedback, 1, 7)) == \"correct\"\n",
    "      correct_js <- tolower(as.character(correct))  # \"true\" or \"false\"\n",
    "\n",
    "      html <- paste0(html, sprintf(\n",
    "        '<button type=\"button\" class=\"quiz-answer answer-%s\" id=\"%s\"\n",
    "        onclick=\"handleAnswer(\\'%s\\', \\'%s\\', \\'%s\\', %s)\">\n",
    "        %s</button>',\n",
    "        qid, aid, qid, aid, feedback, correct_js, answer$answer\n",
    "      ))\n",
    "    }\n",
    "    \n",
    "    html <- paste0(html, sprintf('<div class=\"feedback\" id=\"feedback_%s\"></div></form><hr>', qid))\n",
    "  }\n",
    "\n",
    "  display_html(html)\n",
    "}\n",
    "\n",
    "# Call the function to display quiz interactively:\n",
    "show_quiz_from_json(\"questions/summary_control_flow.json\")"
   ]
  },
  {
   "cell_type": "code",
   "execution_count": null,
   "id": "656d4b7a-d472-44ce-884d-dad5b16b77d1",
   "metadata": {
    "editable": true,
    "slideshow": {
     "slide_type": ""
    },
    "tags": []
   },
   "outputs": [],
   "source": []
  }
 ],
 "metadata": {
  "kernelspec": {
   "display_name": "R",
   "language": "R",
   "name": "ir"
  },
  "language_info": {
   "codemirror_mode": "r",
   "file_extension": ".r",
   "mimetype": "text/x-r-source",
   "name": "R",
   "pygments_lexer": "r",
   "version": "4.3.3"
  }
 },
 "nbformat": 4,
 "nbformat_minor": 5
}
