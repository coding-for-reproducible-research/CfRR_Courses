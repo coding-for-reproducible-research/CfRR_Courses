{
 "cells": [
  {
   "cell_type": "markdown",
   "id": "1c9c12f8-5511-4c29-917b-7443911fc4ca",
   "metadata": {},
   "source": [
    "# Data Analysis Introduction\n",
    "\n",
    "## Learning Objectives\n",
    "\n",
    "In this lesson, we will:\n",
    "\n",
    "- Introduce the data analysis task\n",
    "- Create a project folder for the task, download some data, and place this into it.\n",
    "\n",
    "## Scenario: A miracle arthritis inflammation cure\n",
    "\n",
    "Our imaginary colleague “Dr. Maverick” has invented a new miracle drug that promises to cure arthritis inflammation flare-ups after only 3 weeks since initially taking the medication! Naturally, we wish to see the clinical trial data, and after months of asking for the data they have finally provided us with a CSV spreadsheet containing the clinical trial data.\n",
    "\n",
    "The CSV file contains the number of inflammation flare-ups per day for the 60 patients in the initial clinical trial, with the trial lasting 40 days. Each row corresponds to a patient, and each column corresponds to a day in the trial. Once a patient has their first inflammation flare-up they take the medication and wait a few weeks for it to take effect and reduce flare-ups.\n",
    "\n",
    "To see how effective the treatment is we would like to:\n",
    "\n",
    "- Calculate the average inflammation per day across all patients.\n",
    "- Plot the result to discuss and share with colleagues.\n",
    "\n",
    "![Flowchart showing the structure of a lesson on inflammation data analysis. It begins with file loading, followed by basic inspection and visualization, then computing statistics like mean, max, and min. The flow continues with plotting results, looping through files, defining functions, and ends with creating plots and interpreting results.](\n",
    "images/lesson-overview.svg \"Lesson Overview\")\n",
    "\n",
    "## Download the data\n",
    "\n",
    "First, we need to open JupyterLab, and create a new folder for our project. In this folder, lets create a new folder called data. We can then download some data from [here](https://swcarpentry.github.io/python-novice-inflammation/data/python-novice-inflammation-data.zip).\n",
    "\n",
    "Unzip this folder, and move the `.csv` files into the same folder as your Jupyter notebook, or JupyterLab instance. This can be done by dragging them across onto the sidebar.\n"
   ]
  },
  {
   "cell_type": "code",
   "execution_count": null,
   "id": "8b4e48ac-7758-41d2-8b74-6427ac7558eb",
   "metadata": {},
   "outputs": [],
   "source": []
  }
 ],
 "metadata": {
  "kernelspec": {
   "display_name": "Python 3 (ipykernel)",
   "language": "python",
   "name": "python3"
  },
  "language_info": {
   "codemirror_mode": {
    "name": "ipython",
    "version": 3
   },
   "file_extension": ".py",
   "mimetype": "text/x-python",
   "name": "python",
   "nbconvert_exporter": "python",
   "pygments_lexer": "ipython3",
   "version": "3.9.19"
  }
 },
 "nbformat": 4,
 "nbformat_minor": 5
}
