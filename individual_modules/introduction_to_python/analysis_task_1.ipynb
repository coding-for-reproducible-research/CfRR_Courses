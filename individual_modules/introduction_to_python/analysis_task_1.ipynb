{
 "cells": [
  {
   "cell_type": "markdown",
   "id": "53848aca-2f9a-49ec-93dc-b3d2807b26b8",
   "metadata": {
    "editable": true,
    "slideshow": {
     "slide_type": ""
    },
    "tags": []
   },
   "source": [
    "# Data Analysis Task 1 \n",
    "\n",
    "## Learning Objectives\n",
    "\n",
    "In this lesson, we will:\n",
    "\n",
    "- \"Read tabular data from a file into a program.\"\n",
    "- \"Select individual values and subsections from data.\"\n",
    "- \"Perform operations on arrays of data.\"\n",
    "\n",
    "## Key points\n",
    "\n",
    "- \"Import a library into a program using `import libraryname`.\"\n",
    "- \"Use the `numpy` library to work with arrays in Python.\"\n",
    "- \"The expression `array.shape` gives the shape of an array.\"\n",
    "- \"Use `array[x, y]` to select a single element from a 2D array.\"\n",
    "- \"Array indices start at 0, not 1.\"\n",
    "- \"Use `low:high` to specify a `slice` that includes the indices from `low` to `high-1`.\"\n",
    "- \"Use `# some kind of explanation` to add comments to programs.\"\n",
    "- \"Use `numpy.mean(array)`, `numpy.max(array)`, and `numpy.min(array)` to calculate simple statistics.\"\n",
    "- \"Use `numpy.mean(array, axis=0)` or `numpy.mean(array, axis=1)` to calculate statistics across the specified axis.\"\n",
    "\n",
    "## Loading data into Python\n",
    "\n",
    "To begin processing the clinical trial inflammation data, we need to load it into Python.\n",
    "We can do that using a library called\n",
    "[NumPy](https://numpy.org/doc/stable \"NumPy Documentation\"), which stands for Numerical Python.\n",
    "In general, you should use this library when you want to do fancy things with lots of numbers,\n",
    "especially if you have matrices or arrays. To tell Python that we'd like to start using NumPy,\n",
    "we need to import it:"
   ]
  },
  {
   "cell_type": "code",
   "execution_count": 1,
   "id": "72e07ca7-8def-433e-8f56-c8bdc82aedcc",
   "metadata": {},
   "outputs": [],
   "source": [
    "import numpy as np"
   ]
  },
  {
   "cell_type": "markdown",
   "id": "785b31ee-a3a1-4986-bfe1-aefbf6161f54",
   "metadata": {},
   "source": [
    "Importing a library is like getting a piece of lab equipment out of a storage locker and setting it\n",
    "up on the bench. Libraries provide additional functionality to the basic Python package, much like\n",
    "a new piece of equipment adds functionality to a lab space. Just like in the lab, importing too\n",
    "many libraries can sometimes complicate and slow down your programs - so we only import what we\n",
    "need for each program.\n",
    "\n",
    "Once we've imported the library, we can ask the library to read our data file for us:"
   ]
  },
  {
   "cell_type": "code",
   "execution_count": 2,
   "id": "ce81cebc-d73a-4fcd-9cfe-c04be2a62ccb",
   "metadata": {},
   "outputs": [
    {
     "data": {
      "text/plain": [
       "array([[0., 0., 1., ..., 3., 0., 0.],\n",
       "       [0., 1., 2., ..., 1., 0., 1.],\n",
       "       [0., 1., 1., ..., 2., 1., 1.],\n",
       "       ...,\n",
       "       [0., 1., 1., ..., 1., 1., 1.],\n",
       "       [0., 0., 0., ..., 0., 2., 0.],\n",
       "       [0., 0., 1., ..., 1., 1., 0.]])"
      ]
     },
     "execution_count": 2,
     "metadata": {},
     "output_type": "execute_result"
    }
   ],
   "source": [
    "np.loadtxt(fname='data/inflammation-01.csv', delimiter=',')"
   ]
  },
  {
   "cell_type": "markdown",
   "id": "4a28ab32-78b5-48bb-a962-c01f9ad3eaa2",
   "metadata": {},
   "source": [
    "The expression `np.loadtxt(...)` is a function call that asks Python to run the function `loadtxt` which belongs to the `numpy` library. The dot notation in Python is used most of all as an object attribute/property specifier, or for invoking its method. `object.property` will give you the object.property value, `object_name.method()` will invoke on object_name method.\n",
    "\n",
    "As an example, John Smith is the John that belongs to the Smith family. We could use the dot notation to write his name `smith.john`, just as `loadtxt` is a function that belongs to the `numpy` library.\n",
    "\n",
    "`np.loadtxt` has two parameters: the name of the file we want to read and the delimiter that separates values on a line. These both need to be character strings (or strings for short), so we put them in quotes.\n",
    "\n",
    "Since we haven't told it to do anything else with the function's output, the notebook displays it. In this case, that output is the data we just loaded. By default, only a few rows and columns are shown (with `...` to omit elements when displaying big arrays). Note that, to save space when displaying NumPy arrays, Python does not show us trailing zeros, so `1.0` becomes `1.`.\n",
    "\n",
    "Our call to `np.loadtxt` read our file but didn't save the data in memory. To do that, we need to assign the array to a variable. In a similar manner to how we assign a single value to a variable, we can also assign an array of values to a variable using the same syntax. Let's re-run `np.loadtxt` and save the returned data:"
   ]
  },
  {
   "cell_type": "code",
   "execution_count": 3,
   "id": "551d2e7b-a401-4fde-a696-c2044316fb5d",
   "metadata": {},
   "outputs": [],
   "source": [
    "data = np.loadtxt(fname='data/inflammation-01.csv', delimiter=',')"
   ]
  },
  {
   "cell_type": "markdown",
   "id": "05ce9544-31f0-4c28-bff9-4fd461dd2efe",
   "metadata": {},
   "source": [
    "This statement doesn't produce any output because we've assigned the output to the variable `data`.\n",
    "If we want to check that the data have been loaded,\n",
    "we can print the variable's value:"
   ]
  },
  {
   "cell_type": "code",
   "execution_count": 4,
   "id": "4054f5af-c6c8-4b62-9141-10c7d1113ae9",
   "metadata": {},
   "outputs": [
    {
     "name": "stdout",
     "output_type": "stream",
     "text": [
      "[[0. 0. 1. ... 3. 0. 0.]\n",
      " [0. 1. 2. ... 1. 0. 1.]\n",
      " [0. 1. 1. ... 2. 1. 1.]\n",
      " ...\n",
      " [0. 1. 1. ... 1. 1. 1.]\n",
      " [0. 0. 0. ... 0. 2. 0.]\n",
      " [0. 0. 1. ... 1. 1. 0.]]\n"
     ]
    }
   ],
   "source": [
    "print(data)"
   ]
  },
  {
   "cell_type": "markdown",
   "id": "42e9dd29-5b9b-4abf-a2b9-240414576c1a",
   "metadata": {},
   "source": [
    "Now that the data are in memory, we can manipulate them. First, let's ask what type of thing `data` refers to:"
   ]
  },
  {
   "cell_type": "code",
   "execution_count": 5,
   "id": "c05b6d35-2d72-427a-8809-b1ba057db5f8",
   "metadata": {},
   "outputs": [
    {
     "name": "stdout",
     "output_type": "stream",
     "text": [
      "<class 'numpy.ndarray'>\n"
     ]
    }
   ],
   "source": [
    "print(type(data))"
   ]
  },
  {
   "cell_type": "markdown",
   "id": "d16286b0-e6a5-4fdb-b641-b5a4349674e7",
   "metadata": {},
   "source": [
    "The output tells us that `data` currently refers to an N-dimensional array, the functionality for which is provided by the NumPy library. These data correspond to arthritis patients' inflammation. The rows are the individual patients, and the columns are their daily inflammation measurements.\n",
    "\n",
    "## Data Type"
   ]
  },
  {
   "cell_type": "markdown",
   "id": "4947a1f9-4b3e-4dba-b47c-8a01de492d35",
   "metadata": {},
   "source": [
    "A Numpy array contains one or more elements of the same type. The `type` function will only tell you that a variable is a NumPy array but won't tell you the type of thing inside the array. We can find out the type of the data contained in the NumPy array."
   ]
  },
  {
   "cell_type": "code",
   "execution_count": 6,
   "id": "c909fd85-0c49-42ad-95d8-260c7ce16a6e",
   "metadata": {},
   "outputs": [
    {
     "name": "stdout",
     "output_type": "stream",
     "text": [
      "float64\n"
     ]
    }
   ],
   "source": [
    "print(data.dtype)"
   ]
  },
  {
   "cell_type": "markdown",
   "id": "6140992b-1243-4381-aba6-49f363e00a8a",
   "metadata": {},
   "source": [
    "This tells us that the NumPy array's elements are floating point numbers."
   ]
  },
  {
   "cell_type": "markdown",
   "id": "c425b3f5-70c3-44ec-9d0f-8704dd36f681",
   "metadata": {},
   "source": [
    "With the following command, we can see the array's shape:"
   ]
  },
  {
   "cell_type": "code",
   "execution_count": 7,
   "id": "c04e07ce-bbad-4a46-b41a-40fde3d7f05f",
   "metadata": {},
   "outputs": [
    {
     "name": "stdout",
     "output_type": "stream",
     "text": [
      "(60, 40)\n"
     ]
    }
   ],
   "source": [
    "print(data.shape)"
   ]
  },
  {
   "cell_type": "markdown",
   "id": "7f748a31-9aaa-4f11-91e7-568d35a1994a",
   "metadata": {},
   "source": [
    "The output tells us that the `data` array variable contains 60 rows and 40 columns. When we created the variable `data` to store our arthritis data, we did not only create the array; we also created information about the array, called members or attributes. This extra information describes `data` in the same way an adjective describes a noun. `data.shape` is an attribute of `data` which describes the dimensions of `data`. We use the same dotted notation for the attributes of variables that we use for the functions in libraries because they have the same part-and-whole relationship.\n",
    "\n",
    "If we want to get a single number from the array, we must provide an index in square brackets after the variable name, just as we do in maths when referring to an element of a matrix.  Our inflammation data has two dimensions, so we will need to use two indices to refer to one specific value:"
   ]
  },
  {
   "cell_type": "code",
   "execution_count": 8,
   "id": "50ad643c-4c17-45fb-b104-c2249272523c",
   "metadata": {},
   "outputs": [
    {
     "name": "stdout",
     "output_type": "stream",
     "text": [
      "first value in data: 0.0\n"
     ]
    }
   ],
   "source": [
    "print('first value in data:', data[0, 0])"
   ]
  },
  {
   "cell_type": "code",
   "execution_count": 9,
   "id": "afa1db75-cf73-494f-9975-81257debc2c0",
   "metadata": {},
   "outputs": [
    {
     "name": "stdout",
     "output_type": "stream",
     "text": [
      "middle value in data: 13.0\n"
     ]
    }
   ],
   "source": [
    "print('middle value in data:', data[30, 20])"
   ]
  },
  {
   "cell_type": "markdown",
   "id": "47cec54e-2c13-4138-a586-1e7e496ae541",
   "metadata": {
    "editable": true,
    "slideshow": {
     "slide_type": ""
    },
    "tags": []
   },
   "source": [
    "The expression `data[30, 20]` accesses the element at row 30, column 20. While this expression may not surprise you, `data[0, 0]` might. Programming languages like Fortran, MATLAB and R start counting at 1 because that's what human beings have done for thousands of years. Languages in the C family (including C++, Java, Perl, and Python) count from 0 because it represents an offset from the first value in the array (the second value is offset by one index from the first value). This is closer to the way that computers represent arrays (if you are interested in the historical reasons behind counting indices from zero, you can read [Mike Hoye's blog post](http://exple.tive.org/blarg/2013/10/22/citation-needed/)).\n",
    "As a result, if we have an M×N array in Python, its indices go from 0 to M-1 on the first axis and 0 to N-1 on the second. It takes a bit of getting used to, but one way to remember the rule is that the index is how many steps we have to take from the start to get the item we want.\n",
    "\n",
    "![\"data\" is a 3 by 3 numpy array containing row 0: ['A', 'B', 'C'], row 1: ['D', 'E', 'F'], and\n",
    "row 2: ['G', 'H', 'I']. Starting in the upper left hand corner, data[0, 0] = 'A', data[0, 1] = 'B',\n",
    "data[0, 2] = 'C', data[1, 0] = 'D', data[1, 1] = 'E', data[1, 2] = 'F', data[2, 0] = 'G',\n",
    "data[2, 1] = 'H', and data[2, 2] = 'I',\n",
    "in the bottom right hand corner.](images/python-zero-index.png)\n",
    "\n",
    "## In the Corner\n",
    "What may also surprise you is that when Python displays an array, it shows the element with index `[0, 0]` in the upper left corner rather than the lower left. This is consistent with the way mathematicians draw matrices but different from the Cartesian coordinates. The indices are (row, column) instead of (column, row) for the same reason, which can be confusing when plotting data.\n",
    "\n",
    "## Slicing data\n",
    "An index like `[30, 20]` selects a single element of an array, but we can select whole sections as well. For example, we can select the first ten days (columns) of values for the first four patients (rows) like this:"
   ]
  },
  {
   "cell_type": "code",
   "execution_count": 10,
   "id": "b16554c7-2496-4f6c-9ed9-584b5d7e2463",
   "metadata": {
    "editable": true,
    "slideshow": {
     "slide_type": ""
    },
    "tags": []
   },
   "outputs": [
    {
     "name": "stdout",
     "output_type": "stream",
     "text": [
      "[[0. 0. 1. 3. 1. 2. 4. 7. 8. 3.]\n",
      " [0. 1. 2. 1. 2. 1. 3. 2. 2. 6.]\n",
      " [0. 1. 1. 3. 3. 2. 6. 2. 5. 9.]\n",
      " [0. 0. 2. 0. 4. 2. 2. 1. 6. 7.]]\n"
     ]
    }
   ],
   "source": [
    "print(data[0:4, 0:10])"
   ]
  },
  {
   "cell_type": "markdown",
   "id": "6fe8654d-647b-45b0-8f9e-a5ed2061dfd7",
   "metadata": {},
   "source": [
    "The slice `0:4` means, \"Start at index 0 and go up to, but not including, index 4\". Again, the up-to-but-not-including takes a bit of getting used to, but the rule is that the difference between the upper and lower bounds is the number of values in the slice.\n",
    "\n",
    "We don't have to start slices at 0:"
   ]
  },
  {
   "cell_type": "code",
   "execution_count": 11,
   "id": "f5a6b42c-59be-497c-9ef6-7bdfcd05e7e2",
   "metadata": {},
   "outputs": [
    {
     "name": "stdout",
     "output_type": "stream",
     "text": [
      "[[0. 0. 1. 2. 2. 4. 2. 1. 6. 4.]\n",
      " [0. 0. 2. 2. 4. 2. 2. 5. 5. 8.]\n",
      " [0. 0. 1. 2. 3. 1. 2. 3. 5. 3.]\n",
      " [0. 0. 0. 3. 1. 5. 6. 5. 5. 8.]\n",
      " [0. 1. 1. 2. 1. 3. 5. 3. 5. 8.]]\n"
     ]
    }
   ],
   "source": [
    "print(data[5:10, 0:10])"
   ]
  },
  {
   "cell_type": "markdown",
   "id": "aa1c6dba-a265-4dec-beac-1480bb50fd14",
   "metadata": {},
   "source": [
    "We also don't have to include the upper and lower bound on the slice.  If we don't include the lower\n",
    "bound, Python uses 0 by default; if we don't include the upper, the slice runs to the end of the\n",
    "axis, and if we don't include either (i.e., if we use ':' on its own), the slice includes\n",
    "everything:"
   ]
  },
  {
   "cell_type": "code",
   "execution_count": 12,
   "id": "fe781cc3-3ac3-4ed2-b65b-50fe7742f4b9",
   "metadata": {},
   "outputs": [
    {
     "name": "stdout",
     "output_type": "stream",
     "text": [
      "small is:\n",
      "[[2. 3. 0. 0.]\n",
      " [1. 1. 0. 1.]\n",
      " [2. 2. 1. 1.]]\n"
     ]
    }
   ],
   "source": [
    "small = data[:3, 36:]\n",
    "print('small is:')\n",
    "print(small)"
   ]
  },
  {
   "cell_type": "markdown",
   "id": "64655c12-c366-4d24-b1b0-cfe36c4614b7",
   "metadata": {},
   "source": [
    "The above example selects rows 0 through 2 and columns 36 through to the end of the array.\n",
    "\n",
    "## Analyzing data\n",
    "\n",
    "NumPy has several useful functions that take an array as input to perform operations on its values. If we want to find the average inflammation for all patients on all days, for example, we can ask NumPy to compute `data`'s mean value:\n"
   ]
  },
  {
   "cell_type": "code",
   "execution_count": 13,
   "id": "715e3c60-e83e-499d-8d71-2c51b64ea18d",
   "metadata": {},
   "outputs": [
    {
     "name": "stdout",
     "output_type": "stream",
     "text": [
      "6.14875\n"
     ]
    }
   ],
   "source": [
    "print(np.mean(data))"
   ]
  },
  {
   "cell_type": "markdown",
   "id": "bc4d2f9b-04f5-4457-9584-f7264106936d",
   "metadata": {},
   "source": [
    "`mean` is a function that takes an array as an argument.\n",
    "\n",
    "## Not All Functions Have Input\n",
    "\n",
    "Generally, a function uses inputs to produce outputs. However, some functions produce outputs without\n",
    "needing any input. For example, checking the current time doesn't require any input."
   ]
  },
  {
   "cell_type": "code",
   "execution_count": 14,
   "id": "4d6ddb51-b4b7-4c32-98d9-70c2645a49bc",
   "metadata": {},
   "outputs": [
    {
     "name": "stdout",
     "output_type": "stream",
     "text": [
      "Tue Apr 23 09:18:20 2024\n"
     ]
    }
   ],
   "source": [
    "import time\n",
    "print(time.ctime())"
   ]
  },
  {
   "cell_type": "markdown",
   "id": "6a73c487-e633-4892-a9fe-2b77561166ae",
   "metadata": {},
   "source": [
    "For functions that don't take in any arguments, we still need parentheses (`()`) to tell Python to go and do something for us."
   ]
  },
  {
   "cell_type": "markdown",
   "id": "27c9cd8d-82b7-4f5f-a231-542c89722b24",
   "metadata": {},
   "source": [
    "Let's use three other NumPy functions to get some descriptive values about the dataset. We'll also use multiple assignment, a convenient Python feature that will enable us to do this all in one line.\n"
   ]
  },
  {
   "cell_type": "code",
   "execution_count": 15,
   "id": "73333a99-a812-4219-bb1f-6e6cb22e5f55",
   "metadata": {},
   "outputs": [
    {
     "name": "stdout",
     "output_type": "stream",
     "text": [
      "maximum inflammation: 20.0\n",
      "minimum inflammation: 0.0\n",
      "standard deviation: 4.613833197118566\n"
     ]
    }
   ],
   "source": [
    "maxval, minval, stdval = np.max(data), np.min(data), np.std(data)\n",
    "\n",
    "print('maximum inflammation:', maxval)\n",
    "print('minimum inflammation:', minval)\n",
    "print('standard deviation:', stdval)"
   ]
  },
  {
   "cell_type": "markdown",
   "id": "10fea2eb-a4d8-4bc0-a70b-19b718ed8bee",
   "metadata": {},
   "source": [
    "Here we've assigned the return value from `np.max(data)` to the variable `maxval`, the value from `np.min(data)` to `minval`, and so on."
   ]
  },
  {
   "cell_type": "markdown",
   "id": "e6325cda-34d0-483d-b7f3-f1b5b581c3ac",
   "metadata": {},
   "source": [
    "## Mystery Functions in IPython\n",
    "How did we know what functions NumPy has and how to use them? If you are working in IPython or in a Jupyter Notebook, there is an easy way to find out. If you type the name of something followed by a dot, then you can use tab completion (e.g. type `np.` and then press <kbd>Tab</kbd>) to see a list of all functions and attributes that you can use. After selecting one, you can also add a question mark (e.g. `np.cumprod?`), and IPython will return an explanation of the method! This is the same as doing `help(np.cumprod)`. Similarly, if you are using the \"plain vanilla\" Python interpreter, you can type `np.` and press the <kbd>Tab</kbd> key twice for a listing of what is available. You can then use the `help()` function to see an explanation of the function you're interested in, for example: `help(np.cumprod)`.\n",
    "\n",
    "When analyzing data, though, we often want to look at variations in statistical values, such as the maximum inflammation per patient or the average inflammation per day. One way to do this is to create a new temporary array of the data we want, then ask it to do the calculation:"
   ]
  },
  {
   "cell_type": "code",
   "execution_count": 16,
   "id": "000a45db-2208-4077-ad1e-8e747774632d",
   "metadata": {},
   "outputs": [
    {
     "name": "stdout",
     "output_type": "stream",
     "text": [
      "maximum inflammation for patient 0: 18.0\n"
     ]
    }
   ],
   "source": [
    "patient_0 = data[0, :] # 0 on the first axis (rows), everything on the second (columns)\n",
    "print('maximum inflammation for patient 0:', np.max(patient_0))"
   ]
  },
  {
   "cell_type": "markdown",
   "id": "1f67e887-d9e5-4319-875f-7be3a14b1c2f",
   "metadata": {},
   "source": [
    "Everything in a line of code following the '#' symbol is a comment that is ignored by Python. Comments allow programmers to leave explanatory notes for other programmers or their future selves.\n",
    "\n",
    "We don't actually need to store the row in a variable of its own. Instead, we can combine the selection and the function call:"
   ]
  },
  {
   "cell_type": "code",
   "execution_count": 17,
   "id": "8f02706b-cd77-4f64-b6da-60331c045e21",
   "metadata": {},
   "outputs": [
    {
     "name": "stdout",
     "output_type": "stream",
     "text": [
      "maximum inflammation for patient 2: 19.0\n"
     ]
    }
   ],
   "source": [
    "print('maximum inflammation for patient 2:', np.max(data[2, :]))"
   ]
  },
  {
   "cell_type": "markdown",
   "id": "dc8eaafe-bbd0-4eff-abf3-d6f22424daae",
   "metadata": {},
   "source": [
    "What if we need the maximum inflammation for each patient over all days (as in the next diagram on the left) or the average for each day (as in the diagram on the right)? As the diagram below shows, we want to perform the operation across an axis:\n",
    "\n",
    "![Per-patient maximum inflammation is computed row-wise across all columns using\n",
    "np.max(data, axis=1). Per-day average inflammation is computed column-wise across all rows using\n",
    "np.mean(data, axis=0).](images/python-operations-across-axes.png)\n",
    "\n",
    "To support this functionality, most array functions allow us to specify the axis we want to work on. If we ask for the average across axis 0 (rows in our 2D example), we get:"
   ]
  },
  {
   "cell_type": "code",
   "execution_count": 18,
   "id": "2d5f1fbd-bfaf-4f8a-8e4e-3e5f5784764b",
   "metadata": {},
   "outputs": [
    {
     "name": "stdout",
     "output_type": "stream",
     "text": [
      "[ 0.          0.45        1.11666667  1.75        2.43333333  3.15\n",
      "  3.8         3.88333333  5.23333333  5.51666667  5.95        5.9\n",
      "  8.35        7.73333333  8.36666667  9.5         9.58333333 10.63333333\n",
      " 11.56666667 12.35       13.25       11.96666667 11.03333333 10.16666667\n",
      " 10.          8.66666667  9.15        7.25        7.33333333  6.58333333\n",
      "  6.06666667  5.95        5.11666667  3.6         3.3         3.56666667\n",
      "  2.48333333  1.5         1.13333333  0.56666667]\n"
     ]
    }
   ],
   "source": [
    "print(np.mean(data, axis=0))"
   ]
  },
  {
   "cell_type": "markdown",
   "id": "b8d63ae5-edcd-4145-862a-eaeb5de482a1",
   "metadata": {},
   "source": [
    "As a quick check, we can ask this array what its shape is:"
   ]
  },
  {
   "cell_type": "code",
   "execution_count": 19,
   "id": "8acdb3f5-edfb-421f-ac18-5a46df828e92",
   "metadata": {},
   "outputs": [
    {
     "name": "stdout",
     "output_type": "stream",
     "text": [
      "(40,)\n"
     ]
    }
   ],
   "source": [
    "print(np.mean(data, axis=0).shape)"
   ]
  },
  {
   "cell_type": "markdown",
   "id": "5670bbd2-f72c-4847-b82e-7e0cad7806a5",
   "metadata": {},
   "source": [
    "The expression `(40,)` tells us we have an N×1 vector, so this is the average inflammation per day for all patients. If we average across axis 1 (columns in our 2D example), we get:\n"
   ]
  },
  {
   "cell_type": "code",
   "execution_count": 20,
   "id": "fda2c18e-4ee6-4761-9980-cc7d6d6d1cbd",
   "metadata": {},
   "outputs": [
    {
     "name": "stdout",
     "output_type": "stream",
     "text": [
      "[5.45  5.425 6.1   5.9   5.55  6.225 5.975 6.65  6.625 6.525 6.775 5.8\n",
      " 6.225 5.75  5.225 6.3   6.55  5.7   5.85  6.55  5.775 5.825 6.175 6.1\n",
      " 5.8   6.425 6.05  6.025 6.175 6.55  6.175 6.35  6.725 6.125 7.075 5.725\n",
      " 5.925 6.15  6.075 5.75  5.975 5.725 6.3   5.9   6.75  5.925 7.225 6.15\n",
      " 5.95  6.275 5.7   6.1   6.825 5.975 6.725 5.7   6.25  6.4   7.05  5.9  ]\n"
     ]
    }
   ],
   "source": [
    "print(np.mean(data, axis=1))"
   ]
  },
  {
   "cell_type": "markdown",
   "id": "187038ae-a7f4-40a8-95d0-9f5fba9b9094",
   "metadata": {},
   "source": [
    "which is the average inflammation per patient across all days.\n",
    "\n",
    "## Slicing Strings\n",
    "A section of an array is called a slice. We can take slices of character strings as well:"
   ]
  },
  {
   "cell_type": "code",
   "execution_count": 21,
   "id": "e95c9337-ece5-4844-8e65-7000bac22e70",
   "metadata": {},
   "outputs": [
    {
     "name": "stdout",
     "output_type": "stream",
     "text": [
      "first three characters: oxy\n",
      "last three characters: gen\n"
     ]
    }
   ],
   "source": [
    "element = 'oxygen'\n",
    "print('first three characters:', element[0:3])\n",
    "print('last three characters:', element[3:6])"
   ]
  },
  {
   "cell_type": "markdown",
   "id": "74bdc1e0-687b-4c2c-91b2-2371beb90912",
   "metadata": {},
   "source": [
    "What is the value of `element[:4]`?\n",
    "What about `element[4:]`?\n",
    "Or `element[:]`?"
   ]
  },
  {
   "cell_type": "markdown",
   "id": "b0ff2983-d9e1-4d23-acca-1226ac2bf0da",
   "metadata": {},
   "source": [
    "```{admonition} Solution\n",
    ":class: dropdown\n",
    "oxyg\n",
    "en\n",
    "oxygen\n",
    "```"
   ]
  },
  {
   "cell_type": "markdown",
   "id": "31bcebdb-d8f8-493b-97cc-2006c570b707",
   "metadata": {},
   "source": [
    "What is `element[-1]`?\n",
    "What is `element[-2]`?"
   ]
  },
  {
   "cell_type": "markdown",
   "id": "74e1f7c5-02cf-407e-a0f4-38ad9de9fb3a",
   "metadata": {},
   "source": [
    "```{admonition} Solution\n",
    ":class: dropdown\n",
    "n\n",
    "e\n",
    "```"
   ]
  },
  {
   "cell_type": "markdown",
   "id": "d53185ee-7e38-4038-ac2e-7adee813fc06",
   "metadata": {},
   "source": [
    "Given those answers, explain what `element[1:-1]` does."
   ]
  },
  {
   "cell_type": "markdown",
   "id": "4ae324ce-90cb-4f01-8f53-44985178b6a5",
   "metadata": {},
   "source": [
    "```{admonition} Solution\n",
    ":class: dropdown\n",
    "Creates a substring from index 1 up to (not including) the final index, effectively removing the first and last letters from 'oxygen'\n",
    "```"
   ]
  },
  {
   "cell_type": "markdown",
   "id": "d2af1161-6cb4-43a2-83c4-9a44cf28943c",
   "metadata": {},
   "source": [
    "How can we rewrite the slice for getting the last three characters of `element`, so that it works even if we assign a different string to `element`? Test your solution with the following strings: `carpentry`, `clone`, `hi`."
   ]
  },
  {
   "cell_type": "markdown",
   "id": "ac84da67-31b1-420e-b8d3-31272d8f09db",
   "metadata": {},
   "source": [
    "```{admonition} Solution\n",
    ":class: dropdown\n",
    "\n",
    "```python\n",
    "element = 'oxygen'\n",
    "print('last three characters:', element[-3:])\n",
    "element = 'carpentry'\n",
    "print('last three characters:', element[-3:])\n",
    "element = 'clone'\n",
    "print('last three characters:', element[-3:])\n",
    "element = 'hi'\n",
    "print('last three characters:', element[-3:])\n",
    "```\n",
    "```"
   ]
  },
  {
   "cell_type": "markdown",
   "id": "2b36a5a7-4b05-468d-9c40-6d2dd2820218",
   "metadata": {},
   "source": [
    "## Thin Slices\n",
    "The expression `element[3:3]` produces an empty string, i.e., a string that contains no characters. If `data` holds our array of patient data, what does `data[3:3, 4:4]` produce? What about `data[3:3, :]`?"
   ]
  },
  {
   "cell_type": "markdown",
   "id": "07450bae-bb41-41ed-a59b-1efd1d36ef6c",
   "metadata": {},
   "source": [
    "```{admonition} Solution\n",
    ":class: dropdown\n",
    "```python\n",
    "array([], shape=(0, 0), dtype=float64)\n",
    "array([], shape=(0, 40), dtype=float64)\n",
    "```\n",
    "```"
   ]
  },
  {
   "cell_type": "markdown",
   "id": "2300b797-e3f6-4686-90b4-9ce71a016e52",
   "metadata": {},
   "source": [
    "## Stacking Arrays\n",
    "Arrays can be concatenated and stacked on top of one another, using NumPy's `vstack` and `hstack` functions for vertical and horizontal stacking, respectively."
   ]
  },
  {
   "cell_type": "code",
   "execution_count": 22,
   "id": "25945f88-ff39-40a7-a4cd-c34a57e68819",
   "metadata": {},
   "outputs": [
    {
     "name": "stdout",
     "output_type": "stream",
     "text": [
      "A = \n",
      "[[1 2 3]\n",
      " [4 5 6]\n",
      " [7 8 9]]\n",
      "B = \n",
      "[[1 2 3 1 2 3]\n",
      " [4 5 6 4 5 6]\n",
      " [7 8 9 7 8 9]]\n",
      "C = \n",
      "[[1 2 3]\n",
      " [4 5 6]\n",
      " [7 8 9]\n",
      " [1 2 3]\n",
      " [4 5 6]\n",
      " [7 8 9]]\n"
     ]
    }
   ],
   "source": [
    "import numpy as np\n",
    "\n",
    "A = np.array([[1,2,3], [4,5,6], [7, 8, 9]])\n",
    "print('A = ')\n",
    "print(A)\n",
    "\n",
    "B = np.hstack([A, A])\n",
    "print('B = ')\n",
    "print(B)\n",
    "\n",
    "C = np.vstack([A, A])\n",
    "print('C = ')\n",
    "print(C)"
   ]
  },
  {
   "cell_type": "markdown",
   "id": "6c9e43a7-4fce-4539-a160-55b30bca1290",
   "metadata": {},
   "source": [
    "Write some additional code that slices the first and last columns of `A`, and stacks them into a 3x2 array. Make sure to `print` the results to verify your solution."
   ]
  },
  {
   "cell_type": "markdown",
   "id": "c6fd4378-f6b0-43bf-98fa-820d39973645",
   "metadata": {},
   "source": [
    "```{admonition} Solution\n",
    ":class: dropdown\n",
    "A 'gotcha' with array indexing is that singleton dimensions are dropped by default. That means `A[:, 0]` is a one dimensional array, which won't stack as desired. To preserve singleton dimensions, the index itself can be a slice or array. For example, `A[:, :1]` returns a two dimensional array with one singleton dimension (i.e. a column vector).\n",
    "\n",
    "```python \n",
    "D = np.hstack((A[:, :1], A[:, -1:]))\n",
    "print('D = ')\n",
    "print(D)\n",
    "```\n",
    "```"
   ]
  },
  {
   "cell_type": "markdown",
   "id": "0a9fc61b-ab9f-48fb-8b13-29aca24b0fcd",
   "metadata": {},
   "source": [
    "```{admonition} Solution\n",
    ":class: dropdown\n",
    "An alternative way to achieve the same result is to use Numpy's delete function to remove the second column of A.\n",
    "\n",
    "```python\n",
    "D = np.delete(A, 1, 1)\n",
    "print('D = ')\n",
    "print(D)\n",
    "```\n",
    "```"
   ]
  },
  {
   "cell_type": "markdown",
   "id": "e61ce61a-73a4-43df-a1ef-3d849d0833fb",
   "metadata": {},
   "source": [
    "## Change In Inflammation\n",
    "The patient data is _longitudinal_ in the sense that each row represents a series of observations relating to one individual.  This means that the change in inflammation over time is a meaningful concept. Let's find out how to calculate changes in the data contained in an array with NumPy.\n",
    "\n",
    "The `np.diff()` function takes an array and returns the differences between two successive values. Let's use it to examine the changes each day across the first week of patient 3 from our inflammation dataset."
   ]
  },
  {
   "cell_type": "code",
   "execution_count": 23,
   "id": "39793604-2f27-43da-a3fb-e6b18339505b",
   "metadata": {},
   "outputs": [
    {
     "name": "stdout",
     "output_type": "stream",
     "text": [
      "[0. 0. 2. 0. 4. 2. 2.]\n"
     ]
    }
   ],
   "source": [
    "patient3_week1 = data[3, :7]\n",
    "print(patient3_week1)"
   ]
  },
  {
   "cell_type": "markdown",
   "id": "72bcfd3a-bf13-4a28-b161-b84fe58ddd4c",
   "metadata": {},
   "source": [
    "Calling `np.diff(patient3_week1)` would do the following calculations and return the 6 difference values in a new array."
   ]
  },
  {
   "cell_type": "code",
   "execution_count": 24,
   "id": "6c10a0b6-ae39-40ca-9a6b-79a7a2325dd4",
   "metadata": {},
   "outputs": [
    {
     "data": {
      "text/plain": [
       "array([ 0.,  2., -2.,  4., -2.,  0.])"
      ]
     },
     "execution_count": 24,
     "metadata": {},
     "output_type": "execute_result"
    }
   ],
   "source": [
    "np.diff(patient3_week1)"
   ]
  },
  {
   "cell_type": "markdown",
   "id": "ed0cc428-0420-44df-87a0-fb09680703ff",
   "metadata": {},
   "source": [
    "Note that the array of differences is shorter by one element (length 6). When calling `np.diff` with a multi-dimensional array, an `axis` argument may be passed to the function to specify which axis to process. When applying `np.diff` to our 2D inflammation array `data`, which axis would we specify?"
   ]
  },
  {
   "cell_type": "markdown",
   "id": "85954c5a-e9e9-4e88-9ef3-9c3be478639c",
   "metadata": {},
   "source": [
    "```{admonition} Solution\n",
    ":class: dropdown\n",
    "Since the row axis (0) is patients, it does not make sense to get the difference between two arbitrary patients. The column axis (1) is in days, so the difference is the change in inflammation -- a meaningful concept.\n",
    "\n",
    "```python \n",
    "np.diff(data, axis=1)\n",
    "```\n",
    "\n",
    "```"
   ]
  },
  {
   "cell_type": "markdown",
   "id": "82e44b89-a7fd-4626-9528-0fe66577e1d3",
   "metadata": {},
   "source": [
    "If the shape of an individual data file is `(60, 40)` (60 rows and 40 columns), what would the shape of the array be after you run the `diff()` function and why?"
   ]
  },
  {
   "cell_type": "markdown",
   "id": "ccc1e310-8daf-4749-aa59-e08c81f32948",
   "metadata": {},
   "source": [
    "```{admonition} Solution\n",
    ":class: dropdown\n",
    "The shape will be `(60, 39)` because there is one fewer difference between columns than there are columns in the data.\n",
    "\n",
    "```"
   ]
  },
  {
   "cell_type": "markdown",
   "id": "d798dc92-ee47-4c38-aa32-8975074e6414",
   "metadata": {},
   "source": [
    "How would you find the largest change in inflammation for each patient? Does it matter if the change in inflammation is an increase or a decrease?"
   ]
  },
  {
   "cell_type": "markdown",
   "id": "99e1d813-22e5-4e45-a511-241c4aa8b097",
   "metadata": {},
   "source": [
    "```{admonition} Solution\n",
    ":class: dropdown\n",
    "By using the `np.max()` function after you apply the `np.diff()` function, you will get the largest difference between days.\n",
    "```python \n",
    "np.max(np.diff(data, axis=1), axis=1)\n",
    "```\n",
    "```"
   ]
  },
  {
   "cell_type": "markdown",
   "id": "7e81f5b3-3692-4e1f-80f2-837f310cad3b",
   "metadata": {},
   "source": [
    "If inflammation values *decrease* along an axis, then the difference from one element to the next will be negative. If you are interested in the **magnitude** of the change and not the direction, the `np.absolute()` function will provide that.\n",
    "Notice the difference if you get the largest _absolute_ difference between readings."
   ]
  },
  {
   "cell_type": "code",
   "execution_count": 25,
   "id": "8b11a120-4d8a-4cab-9a61-6128e76d2d9c",
   "metadata": {},
   "outputs": [
    {
     "data": {
      "text/plain": [
       "array([12., 14., 11., 13., 11., 13., 10., 12., 10., 10., 10., 12., 13.,\n",
       "       10., 11., 10., 12., 13.,  9., 10., 13.,  9., 12.,  9., 12., 11.,\n",
       "       10., 13.,  9., 13., 11., 11.,  8., 11., 12., 13.,  9., 10., 13.,\n",
       "       11., 11., 13., 11., 13., 13., 10.,  9., 10., 10.,  9.,  9., 13.,\n",
       "       10.,  9., 10., 11., 13., 10., 10., 12.])"
      ]
     },
     "execution_count": 25,
     "metadata": {},
     "output_type": "execute_result"
    }
   ],
   "source": [
    "np.max(np.absolute(np.diff(data, axis=1)), axis=1)"
   ]
  },
  {
   "cell_type": "code",
   "execution_count": null,
   "id": "9876701a-b273-4be9-a189-9e14cef5e478",
   "metadata": {},
   "outputs": [],
   "source": []
  }
 ],
 "metadata": {
  "kernelspec": {
   "display_name": "Python 3 (ipykernel)",
   "language": "python",
   "name": "python3"
  },
  "language_info": {
   "codemirror_mode": {
    "name": "ipython",
    "version": 3
   },
   "file_extension": ".py",
   "mimetype": "text/x-python",
   "name": "python",
   "nbconvert_exporter": "python",
   "pygments_lexer": "ipython3",
   "version": "3.9.19"
  }
 },
 "nbformat": 4,
 "nbformat_minor": 5
}
