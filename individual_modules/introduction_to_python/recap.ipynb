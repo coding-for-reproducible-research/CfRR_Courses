{
 "cells": [
  {
   "cell_type": "markdown",
   "id": "37a8a0f2-cbb7-4d0b-a392-33a72fd87077",
   "metadata": {
    "editable": true,
    "slideshow": {
     "slide_type": ""
    },
    "tags": []
   },
   "source": [
    "# Session 1 Recap\n",
    "\n",
    "## A quick recap\n",
    "\n",
    "- Fundamentals\n",
    "- Data structures: lists and dictionaries\n",
    "- Control flow: `if`, `elif` & `else`\n",
    "- Loops\n",
    "- Exercise: check your understanding\n",
    "\n",
    "## Fundamentals\n",
    "\n",
    "We can instantiate variables, and assign data values to them. Lets create some data about this flower, found in a lawn on campus.\n",
    "\n",
    "![Close-up of a white daisy flower with a yellow center, set against a blurred green grass background.](images/flower.jpg)"
   ]
  },
  {
   "cell_type": "code",
   "execution_count": 1,
   "id": "f0d6d3f2-079b-49e3-af03-cd384818d123",
   "metadata": {},
   "outputs": [
    {
     "name": "stdout",
     "output_type": "stream",
     "text": [
      "This Lawn Daisy was found in Exeter. It has 23 White petals, and a 40 cm stem.\n"
     ]
    }
   ],
   "source": [
    "name = \"Lawn Daisy\"\n",
    "native_to = \"Europe\"\n",
    "petal_colour = \"White\"\n",
    "disc_floret_colour = \"Yellow\"\n",
    "stem_height = 40\n",
    "petal_count = 23\n",
    "location = \"Exeter\"\n",
    "\n",
    "print(f\"This {name} was found in {location}. It has {petal_count} {petal_colour} petals, and a {stem_height} cm stem.\")"
   ]
  },
  {
   "cell_type": "markdown",
   "id": "6e8eea80-1d08-489d-80e8-f16ba65429a2",
   "metadata": {},
   "source": [
    "Each variable has a type. We did not have to declare this specifically: Python worked this out based on our data. Some common data types are `string`, `float`, and `int`. We can check the type of a variable using the built-in function, `type`:"
   ]
  },
  {
   "cell_type": "code",
   "execution_count": 2,
   "id": "c218010c-84d9-47a2-8412-9c4a7ed2e78e",
   "metadata": {},
   "outputs": [
    {
     "name": "stdout",
     "output_type": "stream",
     "text": [
      "<class 'int'> <class 'str'>\n"
     ]
    }
   ],
   "source": [
    "print(type(petal_count), type(disc_floret_colour))"
   ]
  },
  {
   "cell_type": "markdown",
   "id": "79eba64e-c661-4d36-96aa-0ab0a5b742b9",
   "metadata": {},
   "source": [
    "We can write comments using the `#` symbol, or using triple quotes. Lines in these sections will not be executed. This is often indicated by the text colour."
   ]
  },
  {
   "cell_type": "code",
   "execution_count": 3,
   "id": "74784617-3075-439f-b71d-cf4a5d057051",
   "metadata": {},
   "outputs": [
    {
     "name": "stdout",
     "output_type": "stream",
     "text": [
      "B. perennis\n"
     ]
    }
   ],
   "source": [
    "# This line will not execute: species = \"wrong species\"\n",
    "\n",
    "\"\"\"\n",
    "Neither will these lines\n",
    "species = \"wrong species again\"\n",
    "\"\"\"\n",
    "\n",
    "species = \"B. perennis\"\n",
    "\n",
    "print(species)"
   ]
  },
  {
   "cell_type": "markdown",
   "id": "a00b68d4-9b3a-411d-a6bf-5d5f1f4f5633",
   "metadata": {},
   "source": [
    "## Lists and dictionaries\n",
    "\n",
    "We can hold more than one piece of data in a data structure. We can use this to create lists using square brackets, as follows:\n"
   ]
  },
  {
   "cell_type": "code",
   "execution_count": 4,
   "id": "57ed2d24-153c-4e4d-b5be-a632085006f1",
   "metadata": {},
   "outputs": [
    {
     "name": "stdout",
     "output_type": "stream",
     "text": [
      "['Lawn Daisy', 'Europe', 'White', 'Yellow', 40, 23, 'Exeter', 'B. perennis']\n",
      "<class 'list'>\n"
     ]
    }
   ],
   "source": [
    "flower_info = [name, native_to, petal_colour, disc_floret_colour, stem_height, petal_count, location, species]\n",
    "\n",
    "print(flower_info)\n",
    "print(type(flower_info))"
   ]
  },
  {
   "cell_type": "markdown",
   "id": "d9659fce-731e-43fb-9707-ab2b38f348f2",
   "metadata": {},
   "source": [
    "We can access specific elements of a list using the elements index. Remember that indexing starts from 0."
   ]
  },
  {
   "cell_type": "code",
   "execution_count": 5,
   "id": "1d044264-24af-4970-a83e-db917567c3e4",
   "metadata": {},
   "outputs": [
    {
     "name": "stdout",
     "output_type": "stream",
     "text": [
      "Europe\n",
      "<class 'str'>\n"
     ]
    }
   ],
   "source": [
    "element_2 = flower_info[1]\n",
    "\n",
    "print(element_2)\n",
    "print(type(element_2))"
   ]
  },
  {
   "cell_type": "markdown",
   "id": "91788f63-90a9-4f91-9229-bfdb716250d3",
   "metadata": {},
   "source": [
    "Data structures often have built-in functions, or methods, attached to them. These provide fast ways of achieving common tasks. We can use the .append method to insert an element at the final index plus one, of a list:"
   ]
  },
  {
   "cell_type": "code",
   "execution_count": 6,
   "id": "2c6a7619-720d-4e73-9494-cb1c8345d138",
   "metadata": {},
   "outputs": [
    {
     "name": "stdout",
     "output_type": "stream",
     "text": [
      "['Lawn Daisy', 'Europe', 'White', 'Yellow', 40, 23, 'Exeter', 'B. perennis', 'Kingdom: Plantae']\n"
     ]
    }
   ],
   "source": [
    "kingdom = \"Kingdom: Plantae\"\n",
    "flower_info.append(kingdom)\n",
    "\n",
    "print(flower_info)"
   ]
  },
  {
   "cell_type": "markdown",
   "id": "aae23cec-99fd-4c0a-868c-54fde96ebffd",
   "metadata": {},
   "source": [
    "We can update a list element, using the element's index. Remember that a negative index counts from the end of the list, with an index of -1 indicating the final element index."
   ]
  },
  {
   "cell_type": "code",
   "execution_count": 7,
   "id": "0a99ffcf-125e-45fb-b051-2b87bd57cf64",
   "metadata": {},
   "outputs": [
    {
     "name": "stdout",
     "output_type": "stream",
     "text": [
      "['Lawn Daisy', 'Europe', 'White', 'Yellow', 40, 23, 'Exeter', 'B. perennis', 'Plantae']\n"
     ]
    }
   ],
   "source": [
    "correct_kingdom = \"Plantae\"\n",
    "flower_info[-1] = correct_kingdom\n",
    "\n",
    "print(flower_info)"
   ]
  },
  {
   "cell_type": "markdown",
   "id": "529d51fa-88e0-4732-9dd3-7549b3381c31",
   "metadata": {},
   "source": [
    "We can make a dictionary using key, values pairs. Dictionaries are useful when we want to return values, based on the name of the variable (i.e. its key), and not just an index. For example:"
   ]
  },
  {
   "cell_type": "code",
   "execution_count": 8,
   "id": "c0a58edc-5ef0-4ac9-be48-7a8656d91350",
   "metadata": {},
   "outputs": [
    {
     "name": "stdout",
     "output_type": "stream",
     "text": [
      "{'name': 'Lawn Daisy', 'native_to': 'Europe', 'petal_colour': 'White', 'disc_floret_colour': 'Yellow', 'stem_height': 40, 'petal_count': 23, 'location': 'Exeter', 'species': 'B. perennis', 'kingdom': 'Kingdom: Plantae'}\n",
      "<class 'dict'>\n"
     ]
    }
   ],
   "source": [
    "flower_dict = {\n",
    "    \"name\": name,\n",
    "    \"native_to\": native_to,\n",
    "    \"petal_colour\": petal_colour,\n",
    "    \"disc_floret_colour\": disc_floret_colour,\n",
    "    \"stem_height\": stem_height,\n",
    "    \"petal_count\": petal_count,\n",
    "    \"location\": location,\n",
    "    \"species\": species,\n",
    "    \"kingdom\": kingdom,\n",
    "}\n",
    "\n",
    "print(flower_dict)\n",
    "print(type(flower_dict))"
   ]
  },
  {
   "cell_type": "markdown",
   "id": "c3136bfe-90c5-42ae-a82b-df31da29c6a4",
   "metadata": {},
   "source": [
    "We can then access values based on their key. To access the value associated with the coolness percentage key:"
   ]
  },
  {
   "cell_type": "code",
   "execution_count": 9,
   "id": "93285f88-9d4c-4182-af5d-0b2f73489930",
   "metadata": {},
   "outputs": [
    {
     "name": "stdout",
     "output_type": "stream",
     "text": [
      "Yellow\n"
     ]
    }
   ],
   "source": [
    "print(flower_dict[\"disc_floret_colour\"])"
   ]
  },
  {
   "cell_type": "markdown",
   "id": "68f955f5-defa-484a-82b7-3c64cb2d2239",
   "metadata": {},
   "source": [
    "We can add data to a dictionary in-place, as it is mutable."
   ]
  },
  {
   "cell_type": "code",
   "execution_count": 10,
   "id": "05c10fae-19e0-4f0b-b49b-6f1f93fc7309",
   "metadata": {},
   "outputs": [
    {
     "name": "stdout",
     "output_type": "stream",
     "text": [
      "{'name': 'Lawn Daisy', 'native_to': 'Europe', 'petal_colour': 'White', 'disc_floret_colour': 'Yellow', 'stem_height': 35, 'petal_count': 23, 'location': 'Exeter', 'species': 'B. perennis', 'kingdom': 'Kingdom: Plantae'}\n"
     ]
    }
   ],
   "source": [
    "new_stem_height = 35\n",
    "flower_dict[\"stem_height\"] = new_stem_height\n",
    "\n",
    "print(flower_dict)"
   ]
  },
  {
   "cell_type": "markdown",
   "id": "fa90eeb0-045c-4f6e-8c9f-2181a5451b6e",
   "metadata": {},
   "source": [
    "Finally, we can access just the keys, just the values, or the key, value pairs of a dictionary, using built-in methods:"
   ]
  },
  {
   "cell_type": "code",
   "execution_count": 11,
   "id": "477329b9-9f3d-4728-a86a-d566d474fbca",
   "metadata": {},
   "outputs": [
    {
     "name": "stdout",
     "output_type": "stream",
     "text": [
      "['name', 'native_to', 'petal_colour', 'disc_floret_colour', 'stem_height', 'petal_count', 'location', 'species', 'kingdom']\n"
     ]
    }
   ],
   "source": [
    "flower_fields = list(flower_dict.keys())\n",
    "\n",
    "print(flower_fields)"
   ]
  },
  {
   "cell_type": "markdown",
   "id": "c92fecbf-3ad8-4f65-bdee-8ecc1b553a44",
   "metadata": {},
   "source": [
    "## Control flow\n",
    "\n",
    "We can use `if`, `elif` and `else` statements to perform different tasks, based on data values. For example, imagine we are classifying different types of flowers, and we want to use a script to sort them into different groups for processing later on. Lets start by creating a second flower dictionary."
   ]
  },
  {
   "cell_type": "code",
   "execution_count": 12,
   "id": "cc32866c",
   "metadata": {},
   "outputs": [],
   "source": [
    "flower_dict_2 = {\n",
    "    \"name\": \"Bluebell\",\n",
    "    \"native_to\": \"British Isles\",\n",
    "    \"tepal_colour\": \"Blue\",\n",
    "    \"stem_height\": 12,\n",
    "    \"tepal_count\": 6,\n",
    "    \"location\": \"Dartmoor\",\n",
    "    \"species\": \"H. non-scripta\",\n",
    "    \"kingdom\": \"Plantae\",\n",
    "}"
   ]
  },
  {
   "cell_type": "markdown",
   "id": "404314ea",
   "metadata": {},
   "source": [
    "Lets identify flowers above a certain stem height."
   ]
  },
  {
   "cell_type": "code",
   "execution_count": 13,
   "id": "cb846b73-7a3b-44d6-8ebd-8d0b73b6c8a3",
   "metadata": {},
   "outputs": [
    {
     "name": "stdout",
     "output_type": "stream",
     "text": [
      "Daisy found above threshold height\n"
     ]
    }
   ],
   "source": [
    "threshold_height = 18\n",
    "daisy_height = flower_dict[\"stem_height\"]\n",
    "\n",
    "if daisy_height >= threshold_height:\n",
    "    print(\"Daisy found above threshold height\")\n",
    "else:\n",
    "    print(\"Daisy was not above threshold height\")"
   ]
  },
  {
   "cell_type": "markdown",
   "id": "702e6993",
   "metadata": {},
   "source": [
    "Lets write a piece of control flow using `if`, `elif`, and `else`, and using the `and` logical operator:"
   ]
  },
  {
   "cell_type": "code",
   "execution_count": 14,
   "id": "67329eeb",
   "metadata": {},
   "outputs": [
    {
     "name": "stdout",
     "output_type": "stream",
     "text": [
      "Daisy and Bluebell found above threshold height\n"
     ]
    }
   ],
   "source": [
    "threshold_height = 10\n",
    "bluebell_height = flower_dict_2[\"stem_height\"]\n",
    "\n",
    "if daisy_height >= threshold_height and bluebell_height >= threshold_height:\n",
    "    print(\"Daisy and Bluebell found above threshold height\")\n",
    "elif daisy_height < threshold_height and bluebell_height >= threshold_height:\n",
    "    print(\"Bluebell found above threshold height\")\n",
    "elif daisy_height >= threshold_height and bluebell_height < threshold_height:\n",
    "    print(\"Daisy found above threshold height\")\n",
    "else:\n",
    "    print(\"No flowers found above threshold height\")"
   ]
  },
  {
   "cell_type": "markdown",
   "id": "fd80ed4f-5019-4586-bd32-27417dfe7edb",
   "metadata": {},
   "source": [
    "## Loops\n",
    "\n",
    "It is often very helpful to perform calculations over a number of items, usually stored in a data structure. If the data structure is iterable, then we can write a `for` loop to execute operations over each element. For example, lets print out every value in our `flower_dict` dictionary:\n"
   ]
  },
  {
   "cell_type": "code",
   "execution_count": 15,
   "id": "fdf85f43-b264-4f11-9386-5078f67842f8",
   "metadata": {},
   "outputs": [
    {
     "name": "stdout",
     "output_type": "stream",
     "text": [
      "Lawn Daisy\n",
      "Europe\n",
      "White\n",
      "Yellow\n",
      "35\n",
      "23\n",
      "Exeter\n",
      "B. perennis\n",
      "Kingdom: Plantae\n"
     ]
    }
   ],
   "source": [
    "for value in flower_dict.values():\n",
    "    print(value)"
   ]
  },
  {
   "cell_type": "markdown",
   "id": "e608be15",
   "metadata": {},
   "source": [
    "We can extract the key and the value at the same time, using `dict.items()`, and display them using the f-string syntax:"
   ]
  },
  {
   "cell_type": "code",
   "execution_count": 16,
   "id": "cc0a2bb6",
   "metadata": {},
   "outputs": [
    {
     "name": "stdout",
     "output_type": "stream",
     "text": [
      "name: Lawn Daisy\n",
      "native_to: Europe\n",
      "petal_colour: White\n",
      "disc_floret_colour: Yellow\n",
      "stem_height: 35\n",
      "petal_count: 23\n",
      "location: Exeter\n",
      "species: B. perennis\n",
      "kingdom: Kingdom: Plantae\n"
     ]
    }
   ],
   "source": [
    "for key, value in flower_dict.items():\n",
    "    print(f\"{key}: {value}\")"
   ]
  },
  {
   "cell_type": "markdown",
   "id": "b0538e39-710a-40ff-ac9c-51b425ef7d0c",
   "metadata": {},
   "source": [
    "Lets try to multiply every value by 10. Why are some results strange?\n"
   ]
  },
  {
   "cell_type": "code",
   "execution_count": 17,
   "id": "913b8c8e-bbda-4164-b6b9-b91318aa686c",
   "metadata": {},
   "outputs": [
    {
     "name": "stdout",
     "output_type": "stream",
     "text": [
      "BluebellBluebellBluebellBluebellBluebellBluebellBluebellBluebellBluebellBluebell\n",
      "British IslesBritish IslesBritish IslesBritish IslesBritish IslesBritish IslesBritish IslesBritish IslesBritish IslesBritish Isles\n",
      "BlueBlueBlueBlueBlueBlueBlueBlueBlueBlue\n",
      "120\n",
      "60\n",
      "DartmoorDartmoorDartmoorDartmoorDartmoorDartmoorDartmoorDartmoorDartmoorDartmoor\n",
      "H. non-scriptaH. non-scriptaH. non-scriptaH. non-scriptaH. non-scriptaH. non-scriptaH. non-scriptaH. non-scriptaH. non-scriptaH. non-scripta\n",
      "PlantaePlantaePlantaePlantaePlantaePlantaePlantaePlantaePlantaePlantae\n"
     ]
    }
   ],
   "source": [
    "for value in flower_dict_2.values():\n",
    "    new_value = value * 10\n",
    "    print(new_value)"
   ]
  },
  {
   "cell_type": "markdown",
   "id": "bbd8e461-03e5-42fc-bd67-0e0d28aaed07",
   "metadata": {},
   "source": [
    "When we use an asterisk operator on a string we are overloading it. We are concatenating the strings 10 times! Note that the numerical calculations are still correct.\n",
    "\n",
    "## Exercise\n",
    "This is a famous (and now overused) programming task used in interviews. \"Write a program that prints the numbers from 1 to 50. But for multiples of three print “Fizz” instead of the number and for the multiples of five print “Buzz”. For numbers which are multiples of both three and five print “FizzBuzz”.\"\n",
    "\n",
    "Give it a go!\n",
    "\n",
    "## Hint 1\n",
    "In Python, the modulo operator is `%`. This returns the remainder when  dividing one number by another."
   ]
  },
  {
   "cell_type": "code",
   "execution_count": 18,
   "id": "18763215-a554-4121-9c95-38e708562d80",
   "metadata": {},
   "outputs": [
    {
     "name": "stdout",
     "output_type": "stream",
     "text": [
      "0\n"
     ]
    }
   ],
   "source": [
    "print(10 % 5)"
   ]
  },
  {
   "cell_type": "code",
   "execution_count": 19,
   "id": "0e122047-cb01-4c98-8e6c-102e6edccc94",
   "metadata": {},
   "outputs": [
    {
     "name": "stdout",
     "output_type": "stream",
     "text": [
      "1\n"
     ]
    }
   ],
   "source": [
    "print(10 % 3)"
   ]
  },
  {
   "cell_type": "markdown",
   "id": "90f3e429-ff80-4d8f-b423-9d0f014e745a",
   "metadata": {},
   "source": [
    "## Hint 2\n",
    "Here is the control flow for the fizzbuzz problem. Note that the iterator variable is not called `i` in this flowchart (it is called `fizzbuzz`.)\n",
    "![Flowchart of the FizzBuzz algorithm that iterates from 0 to 50, printing \"fizzbuzz\" for numbers divisible by 3 and 5, \"fizz\" for numbers divisible by 3, \"buzz\" for numbers divisible by 5, and the number otherwise.](images/fizzbuzz.png)"
   ]
  },
  {
   "cell_type": "markdown",
   "id": "a00cb791-09cc-48e7-81a7-2e89e1a36ed9",
   "metadata": {},
   "source": [
    "```{admonition} Solution 1\n",
    ":class: dropdown\n",
    "```python\n",
    "for i in range(1, 51):\n",
    "    if i % 3 == 0 and i % 5 == 0:\n",
    "        print(\"fizzbuzz\")\n",
    "    elif i % 3 == 0:\n",
    "        print(\"fizz\")\n",
    "    elif i % 5 == 0:\n",
    "        print(\"buzz\")\n",
    "    else:\n",
    "        print(i)\n",
    "```\n",
    "```"
   ]
  },
  {
   "cell_type": "markdown",
   "id": "5811b937-2580-4369-945a-39d381df5cf9",
   "metadata": {},
   "source": [
    "```{admonition} Solution 2\n",
    ":class: dropdown\n",
    "```python\n",
    "for i in range(1, 51):\n",
    "    s = ''\n",
    "    if not i % 3:\n",
    "        s += 'fizz'\n",
    "    if not i % 5:\n",
    "        s += 'buzz'\n",
    "    if not s:\n",
    "        s = i\n",
    "    print(s)\n",
    "```\n",
    "```"
   ]
  }
 ],
 "metadata": {
  "kernelspec": {
   "display_name": "Python 3 (ipykernel)",
   "language": "python",
   "name": "python3"
  },
  "language_info": {
   "codemirror_mode": {
    "name": "ipython",
    "version": 3
   },
   "file_extension": ".py",
   "mimetype": "text/x-python",
   "name": "python",
   "nbconvert_exporter": "python",
   "pygments_lexer": "ipython3",
   "version": "3.9.19"
  }
 },
 "nbformat": 4,
 "nbformat_minor": 5
}
