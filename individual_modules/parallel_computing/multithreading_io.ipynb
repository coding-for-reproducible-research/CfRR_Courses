{
 "cells": [
  {
   "cell_type": "markdown",
   "id": "0d031ccb-54d9-44a8-8282-63064ec52ba0",
   "metadata": {},
   "source": [
    "# Python Multithreading\n",
    "\n",
    "## Learning Objectives\n",
    "\n",
    "By the end of this lesson, learners will be able to:\n",
    "\n",
    "- Use Python's `multithreading` library to parallelize an IO bound problem.\n",
    "- Set up a pool of worker threads and delegate tasks to different threads to run concurrently.\n",
    "\n",
    "\n",
    "## IO bound example with Python multithreading\n",
    "\n",
    "In this simple example we will download a list of webpages, and report the amount of time it took to run for benchmarking purposes. First we will do it serially, and then use the multithreading library to delegate blocks of webpages to different threads. This problem is IO bound, as the time it takes for each download (i.e. a task) is network speed dependent, which can be variable."
   ]
  },
  {
   "cell_type": "markdown",
   "id": "b45c5b07-4d05-4705-93fe-fd841171e4cc",
   "metadata": {},
   "source": [
    "### The serial example\n",
    "\n",
    "[Download complete serial io bound example file](complete_files/io_bound_complete.py)"
   ]
  },
  {
   "cell_type": "markdown",
   "id": "56a0bb9c",
   "metadata": {},
   "source": [
    "### The multithreading example\n",
    "\n",
    "[Download complete threaded io_bound example file](complete_files/multithreading_io_bound_complete.py)"
   ]
  },
  {
   "cell_type": "code",
   "execution_count": null,
   "id": "b2758e5a-7cc5-43e9-a417-78cc9dabc07c",
   "metadata": {},
   "outputs": [],
   "source": [
    "from jupyterquiz import display_quiz\n",
    "display_quiz(\"questions/summary_multithreading.json\")"
   ]
  }
 ],
 "metadata": {
  "kernelspec": {
   "display_name": "Python 3 (ipykernel)",
   "language": "python",
   "name": "python3"
  },
  "language_info": {
   "codemirror_mode": {
    "name": "ipython",
    "version": 3
   },
   "file_extension": ".py",
   "mimetype": "text/x-python",
   "name": "python",
   "nbconvert_exporter": "python",
   "pygments_lexer": "ipython3",
   "version": "3.13.1"
  }
 },
 "nbformat": 4,
 "nbformat_minor": 5
}
