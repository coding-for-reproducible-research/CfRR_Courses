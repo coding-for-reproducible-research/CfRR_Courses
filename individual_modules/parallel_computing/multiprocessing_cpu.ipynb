{
 "cells": [
  {
   "cell_type": "markdown",
   "id": "0d031ccb-54d9-44a8-8282-63064ec52ba0",
   "metadata": {},
   "source": [
    "# Python Multiprocessing\n",
    "\n",
    "## Learning Objectives\n",
    "\n",
    "By the end of this lesson, learners will be able to:\n",
    "\n",
    "- Use Python's `multiprocessing` library to parallelize a CPU bound problem.\n",
    "- Set up a pool of workers and delegate tasks to different processes to run concurrently, using the `ProcessPoolExecutor` class.\n",
    "\n",
    "\n",
    "## IO bound example with Python multithreading\n",
    "\n",
    "In this simple example we will create an expensive CPU bound recursive function that generates the n-th Fibonacci number several times, and report the amount of time it took to run for benchmarking purposes. Note there are much more efficient ways to implement this function, but this expensive impplimentation is deliberate. First we will do it serially, and then use the multiprocessing library to delegate blocks of webpages to different threads. This problem is CPU bound, as the time it takes for process to complete is dependent on the speed of the CPU."
   ]
  },
  {
   "cell_type": "markdown",
   "id": "b45c5b07-4d05-4705-93fe-fd841171e4cc",
   "metadata": {},
   "source": [
    "### The serial example\n",
    "\n",
    "[Download complete serial cpu bound example file](complete_files/cpu_bound_complete.py)"
   ]
  },
  {
   "cell_type": "markdown",
   "id": "56a0bb9c",
   "metadata": {},
   "source": [
    "### The multithreading example\n",
    "\n",
    "[Download complete threaded cpu_bound example file](complete_files/multiprocessing_cpu_bound_complete.py)"
   ]
  },
  {
   "cell_type": "code",
   "execution_count": null,
   "id": "b2758e5a-7cc5-43e9-a417-78cc9dabc07c",
   "metadata": {},
   "outputs": [],
   "source": [
    "from jupyterquiz import display_quiz\n",
    "display_quiz(\"questions/summary_multithreading.json\")"
   ]
  }
 ],
 "metadata": {
  "kernelspec": {
   "display_name": "Python 3 (ipykernel)",
   "language": "python",
   "name": "python3"
  },
  "language_info": {
   "codemirror_mode": {
    "name": "ipython",
    "version": 3
   },
   "file_extension": ".py",
   "mimetype": "text/x-python",
   "name": "python",
   "nbconvert_exporter": "python",
   "pygments_lexer": "ipython3",
   "version": "3.9.19"
  }
 },
 "nbformat": 4,
 "nbformat_minor": 5
}
