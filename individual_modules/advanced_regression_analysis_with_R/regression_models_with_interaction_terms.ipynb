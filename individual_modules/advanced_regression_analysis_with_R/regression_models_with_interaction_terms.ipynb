{
 "cells": [
  {
   "cell_type": "code",
   "execution_count": 2,
   "id": "437c467b-71db-4ee8-87b2-f75501a1cc68",
   "metadata": {
    "editable": true,
    "slideshow": {
     "slide_type": ""
    },
    "tags": [
     "remove-input"
    ]
   },
   "outputs": [],
   "source": [
    "knitr::opts_chunk$set(echo = TRUE)\n",
    "\n",
    "nInd<-175\n",
    "indIDs <-paste0(\"X\", sample(10000:40000, nInd))\n",
    "nVisits<-rpois(indIDs, 4)\n",
    "nVisits[which(nVisits == 0)]<-1\n",
    "\n",
    "cogAbaseline<-rpois(indIDs, 25)\n",
    "cogBbaseline<-rnorm(indIDs, 8,4)\n",
    "cogCbaseline<-rnorm(indIDs, 20, 2)\n",
    "sex<-sample(c(\"M\", \"F\"), nInd, replace = TRUE, prob = c(0.55, 0.45))\n",
    "age<-floor(runif(nInd, 20, 60))\n",
    "intervention<-sample(c(\"Placebo\", \"Training\"), nInd, replace = TRUE)\n",
    "yearsEd<-sample(c(12,14,17), nInd, replace = TRUE, prob = c(0.3,0.4, 0.3))\n",
    "smoke <- sample(c(\"Yes\", \"No\"), nInd, replace = TRUE, prob = c(0.25,0.75))\n",
    "physicalWellbeing <- sample(c(\"High\", \"Low\"), nInd, replace = TRUE, prob = c(0.85,0.15))\n",
    "mentalWellbeing <- sample(c(\"High\", \"Low\"), nInd, replace = TRUE, prob = c(0.7,0.3))\n",
    "cogAbaseline <- cogAbaseline[(physicalWellbeing == \"Low\" | mentalWellbeing == \"Low\")]<- rpois(sum((physicalWellbeing == \"Low\" | mentalWellbeing == \"Low\")), 22)\n",
    "cogAbaseline <- cogAbaseline[smoke == \"Yes\"]<- rpois(sum(smoke == \"Yes\"), 23)\n",
    "\n",
    "visitID<-as.factor(rep(indIDs, nVisits))\n",
    "visitNum <- unlist(lapply(nVisits, seq))\n",
    "\n",
    "index<-match(visitID, indIDs)\n",
    "visitSex<-as.factor(sex[index])\n",
    "visitAge<-age[index]+visitNum\n",
    "visitIntervention<-as.factor(intervention[index])\n",
    "visitYearsEd <- yearsEd[index]\n",
    "visitSmoke <- as.factor(smoke[index])\n",
    "visitPW <- as.factor(physicalWellbeing[index])\n",
    "randomIndex<-sample(1:length(index), nInd)\n",
    "visitPW[randomIndex]<-\"Low\"\n",
    "visitMW <-as.factor(mentalWellbeing[index])\n",
    "randomIndex<-sample(which(visitNum > 3), nInd*0.5)\n",
    "visitMW[randomIndex]<-\"High\"\n",
    "    \n",
    "cogA<- floor(cogAbaseline[index] + visitNum * (0.2 + 0.05 * as.numeric(visitIntervention) + 0.04 * as.numeric(visitMW)) + rnorm(length(visitNum), 0,2))\n",
    "\n",
    "cogB<-cogBbaseline[index] + visitNum * (0.1 - 0.08 * as.numeric(visitSex) + 0.05 * (visitYearsEd-12)) + rnorm(length(visitNum), 0, 1) \n",
    "\n",
    "cogC<-cogCbaseline[index] + visitNum * (0.01 + 0.003 * as.numeric(visitSex) + 0.001 * as.numeric(visitIntervention)) + rnorm(length(visitNum), 0, 5) \n",
    "\n",
    "\n",
    "cogDat<-data.frame(\"ID\" = visitID, \"VisitNum\" = visitNum, \"Age\" = visitAge, \"Sex\" = visitSex, \"YearsEducation\" = visitYearsEd, \"Smoker\" = visitSmoke, \"Intervention\" = visitIntervention, \"CognitionA\" = cogA, \"CognitionB\" = cogB, \"CognitionC\" = cogC, \"PhysicalWellbeing\" = visitPW, \"MentalWellbeing\" = visitMW)\n"
   ]
  },
  {
   "cell_type": "markdown",
   "id": "c4144722-176c-4d7e-bb04-623e4b1b6138",
   "metadata": {
    "editable": true,
    "slideshow": {
     "slide_type": ""
    },
    "tags": []
   },
   "source": [
    "# Regression models with interaction terms\n",
    "\n",
    "## Learning Objectives\n",
    "- Understand the concept and application of interaction terms in regression models\n",
    "- Identify when and why interaction terms are necessary in regression analysis\n",
    "- Fit regression models with interaction terms\n",
    "- Interpret the coefficients of interaction terms in regression models\n",
    "- Visualize and analyze the effect of interaction terms graphically \n",
    "\n",
    "Regression allows us to explore complex relationships between more than two variables. Next, we are going to look at how to model these. Let's assume we have two variables, height and weight, and we are interesting in how their relationship is affected by sex. We could split our data in two subsets, one for males and one for females and fit two separate regression models. With those results we could then compare the estimated parameters. It can be really tempting to compare if coefficients for height on weight are both significant or not. This can be a trap though, as significance is influenced not just by whether there is an effect but also the variation in the sample, the size of the effect and the size of the data set. If you have different numbers of males and females, it could just be that you have power to detect an effect in one sex and not the other. So it's very easy to come to an incorrect conclusion from this approach. Instead you could compare the estimated regression parameters, but they will inevitably be different due to sampling variation, even if they should be the same. So how do you decide if they are different enough to be interesting? Ideally we want to do a statistical test to quantify is there is evidence of a difference. To do that we need to include both groups in the same regression model.\n",
    "\n",
    "Interaction terms in regression models allow us to explore whether the relationship between two predictor variables depends on the value of a third variable. They are particularly useful when we suspect that the effect of one predictor on the outcome variable might vary depending on the level of another predictor.\n",
    "\n",
    "When we include co-variates in regression models we assume they have a (fixed) additive effect that represents the effect of all the samples in our data set.\n",
    "\n",
    "Let's explore this for our height and weight example with the following regression model:\n",
    "\n",
    "$$weight = \\beta_{0} + \\beta_{1} height + \\beta_{2} sex$$ where for females, sex = 0 and for males, sex = 1.\n",
    "\n",
    "If we want to make predictions for females (i.e. when sex = 0), the equation becomes:\n",
    "\n",
    "$$weight = \\beta_{0} + \\beta_{1} height + \\beta_{2} 0 = \\beta_{0} + \\beta_{1} height$$\n",
    "\n",
    "The relationship between height and weight is captured by $\\beta_{1}$\n",
    "\n",
    "If we want to make predictions for males (i.e. when sex = 1), the equation becomes:\n",
    "\n",
    "$$weight = \\beta_{0} + \\beta_{1} height + \\beta_{2} 1 = \\beta_{0} + \\beta_{1} height  + \\beta_{2}$$ \n",
    "\n",
    "While the intercept differs, the relationship between height and weight is only captured by $\\beta_{1}$. If we want to allow for sex specific effects, we need the slope to be captured by parameters that depend on sex. This what an interaction term does - by multiplying two or more predictor variables together to investigate whether their joint effect on the outcome is different from what would be expected if their effects were independent of each other. Of course with an extra term in the model we have an extra parameter.\n",
    "\n",
    "$$weight = \\beta_{0} + \\beta_{1} height + \\beta_{2} sex + \\beta_{3} height * sex$$\n",
    "\n",
    "If we repeat what we did before and deduce the formula for the predictions for a female and male, we can see how this works.\n",
    "\n",
    "To predict weight for a female (i.e. $sex = 0$) \n",
    "\n",
    "$$weight = \\beta_{0} + \\beta_{1} height + \\beta_{2} 0 + \\beta_{3} height * 0 = \\beta_{0} + \\beta_{1} height$$\n",
    "\n",
    "To predict weight for a male (i.e. $sex = 1$) \n",
    "\n",
    "$$weight = \\beta_{0} + \\beta_{1} height + \\beta_{2} 1 + \\beta_{3} height * 1 \\\\ = \\beta_{0} + \\beta_{1} height  + \\beta_{2} + \\beta_{3} height = (\\beta_{0} + \\beta_{2}) + (\\beta_{1} + \\beta_{3})height$$ \n",
    "\n",
    "We can see the differences more closely in the table below:\n",
    "\n",
    "|  Sex   |        Intercept        |    Slope coefficient    |\n",
    "|:------:|:-----------------------:|:-----------------------:|\n",
    "| female |       $\\beta_{0}$       |       $\\beta_{1}$       |\n",
    "|  male  | $\\beta_{0} + \\beta_{2}$ | $\\beta_{1} + \\beta_{3}$ |\n",
    "\n",
    "We still have the sex specific intercepts, but this time we additionally have a sex specific slope parameter for height, with $\\beta_{3}$ capturing the additional effect.\n",
    "\n",
    "## Fitting interaction models in R\n",
    "\n",
    "We are going to look at how to code an interaction term in R by extending the mixed effects models we fitted earlier. Earlier we fitted a model to see whether cognition changed over the course of the study. Next we will test to see if this effect is consistent between females and males. To quantify that we will add an interaction term between `VisitNum` and `Sex`.\n"
   ]
  },
  {
   "cell_type": "code",
   "execution_count": 3,
   "id": "da97c484-8d84-4b36-b6e9-c7b11cac3008",
   "metadata": {
    "editable": true,
    "slideshow": {
     "slide_type": ""
    },
    "tags": []
   },
   "outputs": [
    {
     "name": "stdout",
     "output_type": "stream",
     "text": [
      "Linear mixed model fit by REML ['lmerMod']\n",
      "Formula: CognitionB ~ VisitNum + Sex + VisitNum * Sex + (1 | ID)\n",
      "   Data: cogDat\n",
      "\n",
      "REML criterion at convergence: 2644\n",
      "\n",
      "Scaled residuals: \n",
      "     Min       1Q   Median       3Q      Max \n",
      "-3.04190 -0.54863  0.00071  0.55333  2.46624 \n",
      "\n",
      "Random effects:\n",
      " Groups   Name        Variance Std.Dev.\n",
      " ID       (Intercept) 17.675   4.204   \n",
      " Residual              1.024   1.012   \n",
      "Number of obs: 673, groups:  ID, 175\n",
      "\n",
      "Fixed effects:\n",
      "              Estimate Std. Error t value\n",
      "(Intercept)    7.92685    0.47431  16.713\n",
      "VisitNum       0.13354    0.03518   3.796\n",
      "SexM          -0.31215    0.65546  -0.476\n",
      "VisitNum:SexM -0.06123    0.05265  -1.163\n",
      "\n",
      "Correlation of Fixed Effects:\n",
      "            (Intr) VistNm SexM  \n",
      "VisitNum    -0.187              \n",
      "SexM        -0.724  0.135       \n",
      "VisitNm:SxM  0.125 -0.668 -0.195\n"
     ]
    },
    {
     "data": {
      "text/plain": [
       "Loading required package: Matrix\n"
      ]
     },
     "metadata": {},
     "output_type": "display_data"
    }
   ],
   "source": [
    "library(lme4)\n",
    "model.int<-lmer(CognitionB ~ VisitNum + Sex + VisitNum*Sex + (1|ID), dat = cogDat)\n",
    "summary(model.int)"
   ]
  },
  {
   "cell_type": "markdown",
   "id": "729e1d99-8d04-4450-a5ef-12d30b90e303",
   "metadata": {
    "editable": true,
    "slideshow": {
     "slide_type": ""
    },
    "tags": []
   },
   "source": [
    "From the output above we can see that we have four regression coefficients (one per row) for our fixed effects. If we apply a p-value threshold of 0.05, we would conclude that `VisitNum` has a significant effect on cognitive performance, but sex does not. The bottom row contains the result for the interaction, and as with the main effect for sex, we can see that R has appended the name of the contrast category to the name of the interaction. We can see that the interaction is significant with a P-value of `r signif(coef(summary(model.int))[\"VisitNum:SexM\", \"Pr(>|t|)\"],3)`. The estimated regression coefficient is `r signif(coef(summary(model.int))[\"VisitNum:SexM\", \"Estimate\"],3)` which represents the change in the VisitNum slope parameter for males relative to females.\n",
    "\n",
    "## Graphical representation of an interaction effect\n",
    "\n",
    "Let's look at a visualisation of these two sex specific regression models, where we will plot two lines one for females and one for males.\n"
   ]
  },
  {
   "cell_type": "code",
   "execution_count": 4,
   "id": "1ed2e0d5-5ec5-4f30-8d3a-3d052b13739e",
   "metadata": {
    "editable": true,
    "slideshow": {
     "slide_type": ""
    },
    "tags": []
   },
   "outputs": [
    {
     "data": {
      "image/png": "[encoded data removed]",
      "text/plain": [
       "<IPython.core.display.Image object>"
      ]
     },
     "metadata": {},
     "output_type": "display_data"
    }
   ],
   "source": [
    "fixed.means<-coef(summary(model.int))[,\"Estimate\"]\n",
    "\n",
    "x.sample<-c(0:9)\n",
    "# mean female effect\n",
    "y.female <- fixed.means[1] + x.sample * fixed.means[2]\n",
    "\n",
    "# mean male effect\n",
    "y.male <- fixed.means[1] + fixed.means[3] + x.sample * (fixed.means[2] + fixed.means[4])\n",
    "\n",
    "par(mar = c(4,4,0.5,0.5))\n",
    "plot(cogDat$VisitNum, cogDat$CognitionB, pch = 16, col = c(\"magenta\", \"blue\")[cogDat$Sex], xlab = \"VisitNum\", ylab = \"Cognition\")\n",
    "legend(\"topright\", pch = 16, col = c(\"magenta\", \"blue\"), levels(cogDat$Sex))\n",
    " \n",
    "\n",
    "lines(x.sample, y.male, col = \"blue\")\n",
    "lines(x.sample, y.female, col = \"magenta\")"
   ]
  },
  {
   "cell_type": "markdown",
   "id": "d8cbfa07-a526-4059-8f61-52b6bde6d78d",
   "metadata": {
    "editable": true,
    "slideshow": {
     "slide_type": ""
    },
    "tags": []
   },
   "source": [
    "We can see in the scatterplot that the male and female mean lines start at approximately the same place on the y-axis. This fits with the sex main effect not being significant and that there is no difference at baseline in cognitive scores. What we can also see is that the mean performance of the course of the study differs. Specifically, females scores improve at a faster rate as the pink line is steeper. While the graph is helpful to visualise this, we can also draw these conclusions by calculating the values of the intercept and slope coefficients for each sex from the regression parameters. These values are included in the table below. \n",
    "\n",
    "\n",
    "|  Sex   |                   Intercept                   |                Slope coefficient                |\n",
    "|:--------------:|:--------------------------:|:--------------------------:|\n",
    "| female |         `r signif(fixed.means[1],2)`          |          `r signif(fixed.means[2],2)`           |\n",
    "|  male  | `r signif(fixed.means[1] + fixed.means[3],2)` | `r signif((fixed.means[2] + fixed.means[4]),2)` |\n",
    "\n",
    "From the table we can see that the effect is males is accuately slightly negative, which was hard to see in the figure. \n",
    "\n",
    "### Exercise 4\n",
    "\n",
    "\n",
    "*Let's practise fitting models with interaction terms*\n",
    "\n",
    "Write the R code required to test using a mixed effects regression model the following. For each model include a random intercept for individual.\n",
    "\n",
    "1.  Is the change in cognitive performance across the study influence by the intervention group? Test each cognitive score in turn.\n"
   ]
  },
  {
   "cell_type": "code",
   "execution_count": 5,
   "id": "0be9cee4-17be-466d-af86-c07fc32874bb",
   "metadata": {
    "editable": true,
    "slideshow": {
     "slide_type": ""
    },
    "tags": []
   },
   "outputs": [],
   "source": [
    "#model.int.coga<-lmer(CognitionA ~ VisitNum + ... + (1|ID), data = cogDat)\n",
    "#model.int.cogb<-\n",
    "#model.int.cogc<-"
   ]
  },
  {
   "cell_type": "markdown",
   "id": "48c1980b-025e-4608-86bd-87b902ce4720",
   "metadata": {
    "editable": true,
    "slideshow": {
     "slide_type": ""
    },
    "tags": []
   },
   "source": [
    "```{admonition} Solution\n",
    ":class: dropdown\n",
    "``` R\n",
    "model.int.coga<-lmer(CognitionA ~ VisitNum + Intervention + VisitNum*Intervention + (1|ID), data = cogDat)\n",
    "summary(model.int.coga)\n",
    "\n",
    "model.int.cogb<-lmer(CognitionB ~ VisitNum + Intervention + VisitNum*Intervention + (1|ID), data = cogDat)\n",
    "summary(model.int.cogb)\n",
    "\n",
    "model.int.cogc<-lmer(CognitionC ~ VisitNum + Intervention + VisitNum*Intervention + (1|ID), data = cogDat)\n",
    "summary(model.int.cogc)\n",
    "```\n",
    "```"
   ]
  },
  {
   "cell_type": "code",
   "execution_count": 1,
   "id": "dcffd342-cc93-4c00-a7bb-96d7da210c66",
   "metadata": {
    "editable": true,
    "slideshow": {
     "slide_type": ""
    },
    "tags": [
     "remove-input"
    ]
   },
   "outputs": [
    {
     "data": {
      "text/html": [
       "\n",
       "  <style>\n",
       "  .quiz-question {\n",
       "      background-color: #6c63ff;\n",
       "      color: white;\n",
       "      padding: 12px;\n",
       "      border-radius: 10px;\n",
       "      font-weight: bold;\n",
       "      font-size: 1.2em;\n",
       "      margin-bottom: 10px;\n",
       "  }\n",
       "\n",
       "  .quiz-form {\n",
       "      margin-bottom: 20px;\n",
       "  }\n",
       "\n",
       "  .quiz-answer {\n",
       "      display: block;\n",
       "      background-color: #f2f2f2;\n",
       "      border: none;\n",
       "      border-radius: 10px;\n",
       "      padding: 10px;\n",
       "      margin: 5px 0;\n",
       "      font-size: 1em;\n",
       "      cursor: pointer;\n",
       "      text-align: left;\n",
       "      transition: background-color 0.3s;\n",
       "      width: 100%;\n",
       "  }\n",
       "\n",
       "  .quiz-answer:hover {\n",
       "      background-color: #e0e0e0;\n",
       "  }\n",
       "\n",
       "  .correct {\n",
       "      background-color: #4CAF50 !important;\n",
       "      color: white !important;\n",
       "      border: none;\n",
       "  }\n",
       "\n",
       "  .incorrect {\n",
       "      background-color: #D32F2F !important;\n",
       "      color: white !important;\n",
       "      border: none;\n",
       "  }\n",
       "\n",
       "  .feedback {\n",
       "      margin-top: 10px;\n",
       "      font-weight: bold;\n",
       "      font-size: 1em;\n",
       "  }\n",
       "  </style>\n",
       "\n",
       "  <script>\n",
       "  function handleAnswer(qid, aid, feedback, isCorrect) {\n",
       "      let buttons = document.querySelectorAll(\".answer-\" + qid);\n",
       "      buttons.forEach(btn => {\n",
       "          btn.classList.remove(\"correct\", \"incorrect\");\n",
       "      });\n",
       "\n",
       "      let selected = document.getElementById(aid);\n",
       "      selected.classList.add(isCorrect ? \"correct\" : \"incorrect\");\n",
       "\n",
       "      let feedbackBox = document.getElementById(\"feedback_\" + qid);\n",
       "      feedbackBox.innerHTML = feedback;\n",
       "      feedbackBox.style.color = isCorrect ? \"green\" : \"red\";\n",
       "  }\n",
       "  </script>\n",
       "  <div class=\"quiz-question\">Considering the results for cognitive test A, which of the following statements are correct. Select all that apply.</div><form class=\"quiz-form\"><button type=\"button\" class=\"quiz-answer answer-1\" id=\"q1_a1\"\n",
       "        onclick=\"handleAnswer('1', 'q1_a1', 'correct.', true)\">\n",
       "        The mean cognitive score in the Placebo group is 23.2</button><button type=\"button\" class=\"quiz-answer answer-1\" id=\"q1_a2\"\n",
       "        onclick=\"handleAnswer('1', 'q1_a2', 'Incorrect.', false)\">\n",
       "        The mean cognitive score in the Training group is 23.2</button><button type=\"button\" class=\"quiz-answer answer-1\" id=\"q1_a3\"\n",
       "        onclick=\"handleAnswer('1', 'q1_a3', 'Incorrect.', false)\">\n",
       "        The mean cognitive score in the Placebo group is -1.23</button><button type=\"button\" class=\"quiz-answer answer-1\" id=\"q1_a4\"\n",
       "        onclick=\"handleAnswer('1', 'q1_a4', 'Incorrect.', false)\">\n",
       "        The mean cognitive score in the Training group is -1.23</button><button type=\"button\" class=\"quiz-answer answer-1\" id=\"q1_a5\"\n",
       "        onclick=\"handleAnswer('1', 'q1_a5', 'Incorrect.', false)\">\n",
       "        The mean cognitive score in the Placebo group is 22.0</button><button type=\"button\" class=\"quiz-answer answer-1\" id=\"q1_a6\"\n",
       "        onclick=\"handleAnswer('1', 'q1_a6', 'Correct.', true)\">\n",
       "        The mean cognitive score in the Training group is 22.0</button><div class=\"feedback\" id=\"feedback_1\"></div></form><hr><div class=\"quiz-question\">The regression coefficient for the VisitNum term represents what?</div><form class=\"quiz-form\"><button type=\"button\" class=\"quiz-answer answer-2\" id=\"q2_a1\"\n",
       "        onclick=\"handleAnswer('2', 'q2_a1', 'Incorrect.', false)\">\n",
       "        The mean change in cognition per visit for all samples.</button><button type=\"button\" class=\"quiz-answer answer-2\" id=\"q2_a2\"\n",
       "        onclick=\"handleAnswer('2', 'q2_a2', 'Correct.', true)\">\n",
       "        The mean change in cognition per visit for the Placebo group.</button><button type=\"button\" class=\"quiz-answer answer-2\" id=\"q2_a3\"\n",
       "        onclick=\"handleAnswer('2', 'q2_a3', 'Incorrect.', false)\">\n",
       "        The mean change in cognition per visit for the Training group.</button><div class=\"feedback\" id=\"feedback_2\"></div></form><hr><div class=\"quiz-question\">For cognitive test B, which of the following statements is true?</div><form class=\"quiz-form\"><button type=\"button\" class=\"quiz-answer answer-3\" id=\"q3_a1\"\n",
       "        onclick=\"handleAnswer('3', 'q3_a1', 'Correct.', true)\">\n",
       "        Cognition increases on average per visit for all samples.</button><button type=\"button\" class=\"quiz-answer answer-3\" id=\"q3_a2\"\n",
       "        onclick=\"handleAnswer('3', 'q3_a2', 'Incorrect.', false)\">\n",
       "        Cognition decreases on average per visit for all samples.</button><button type=\"button\" class=\"quiz-answer answer-3\" id=\"q3_a3\"\n",
       "        onclick=\"handleAnswer('3', 'q3_a3', 'Incorrect.', false)\">\n",
       "        Cognition increases on average per visit for the Placebo group only.</button><button type=\"button\" class=\"quiz-answer answer-3\" id=\"q3_a4\"\n",
       "        onclick=\"handleAnswer('3', 'q3_a4', 'Incorrect.', false)\">\n",
       "        Cognition increases on average per visit for the Training group only.</button><div class=\"feedback\" id=\"feedback_3\"></div></form><hr><div class=\"quiz-question\">For cognitive test C, which of the following statements is true?</div><form class=\"quiz-form\"><button type=\"button\" class=\"quiz-answer answer-4\" id=\"q4_a1\"\n",
       "        onclick=\"handleAnswer('4', 'q4_a1', 'Incorrect.', false)\">\n",
       "        Cognition increases on average per visit for all samples.</button><button type=\"button\" class=\"quiz-answer answer-4\" id=\"q4_a2\"\n",
       "        onclick=\"handleAnswer('4', 'q4_a2', 'Incorrect.', false)\">\n",
       "        Cognition decreases on average per visit for all samples.</button><button type=\"button\" class=\"quiz-answer answer-4\" id=\"q4_a3\"\n",
       "        onclick=\"handleAnswer('4', 'q4_a3', 'Correct.', true)\">\n",
       "        Cognition increases on average per visit for the Placebo group only.</button><button type=\"button\" class=\"quiz-answer answer-4\" id=\"q4_a4\"\n",
       "        onclick=\"handleAnswer('4', 'q4_a4', 'Incorrect.', false)\">\n",
       "        Cognition increases on average per visit for the Training group only.</button><div class=\"feedback\" id=\"feedback_4\"></div></form><hr>"
      ]
     },
     "metadata": {},
     "output_type": "display_data"
    }
   ],
   "source": [
    "library(jsonlite)\n",
    "library(IRdisplay)\n",
    "\n",
    "show_quiz_from_json <- function(path) {\n",
    "  quiz_data <- fromJSON(path, simplifyVector = FALSE)\n",
    "  \n",
    "  html <- '\n",
    "  <style>\n",
    "  .quiz-question {\n",
    "      background-color: #6c63ff;\n",
    "      color: white;\n",
    "      padding: 12px;\n",
    "      border-radius: 10px;\n",
    "      font-weight: bold;\n",
    "      font-size: 1.2em;\n",
    "      margin-bottom: 10px;\n",
    "  }\n",
    "\n",
    "  .quiz-form {\n",
    "      margin-bottom: 20px;\n",
    "  }\n",
    "\n",
    "  .quiz-answer {\n",
    "      display: block;\n",
    "      background-color: #f2f2f2;\n",
    "      border: none;\n",
    "      border-radius: 10px;\n",
    "      padding: 10px;\n",
    "      margin: 5px 0;\n",
    "      font-size: 1em;\n",
    "      cursor: pointer;\n",
    "      text-align: left;\n",
    "      transition: background-color 0.3s;\n",
    "      width: 100%;\n",
    "  }\n",
    "\n",
    "  .quiz-answer:hover {\n",
    "      background-color: #e0e0e0;\n",
    "  }\n",
    "\n",
    "  .correct {\n",
    "      background-color: #4CAF50 !important;\n",
    "      color: white !important;\n",
    "      border: none;\n",
    "  }\n",
    "\n",
    "  .incorrect {\n",
    "      background-color: #D32F2F !important;\n",
    "      color: white !important;\n",
    "      border: none;\n",
    "  }\n",
    "\n",
    "  .feedback {\n",
    "      margin-top: 10px;\n",
    "      font-weight: bold;\n",
    "      font-size: 1em;\n",
    "  }\n",
    "  </style>\n",
    "\n",
    "  <script>\n",
    "  function handleAnswer(qid, aid, feedback, isCorrect) {\n",
    "      let buttons = document.querySelectorAll(\".answer-\" + qid);\n",
    "      buttons.forEach(btn => {\n",
    "          btn.classList.remove(\"correct\", \"incorrect\");\n",
    "      });\n",
    "\n",
    "      let selected = document.getElementById(aid);\n",
    "      selected.classList.add(isCorrect ? \"correct\" : \"incorrect\");\n",
    "\n",
    "      let feedbackBox = document.getElementById(\"feedback_\" + qid);\n",
    "      feedbackBox.innerHTML = feedback;\n",
    "      feedbackBox.style.color = isCorrect ? \"green\" : \"red\";\n",
    "  }\n",
    "  </script>\n",
    "  '\n",
    "\n",
    "  for (i in seq_along(quiz_data)) {\n",
    "    question <- quiz_data[[i]]\n",
    "    qid <- as.character(i)\n",
    "    html <- paste0(html, sprintf('<div class=\"quiz-question\">%s</div><form class=\"quiz-form\">', question$question))\n",
    "    \n",
    "    for (j in seq_along(question$answers)) {\n",
    "      answer <- question$answers[[j]]\n",
    "      aid <- sprintf(\"q%s_a%s\", i, j)\n",
    "      feedback <- gsub(\"'\", \"\\\\'\", answer$feedback)  # escape single quotes\n",
    "      correct <- tolower(substr(answer$feedback, 1, 7)) == \"correct\"\n",
    "      correct_js <- tolower(as.character(correct))  # \"true\" or \"false\"\n",
    "\n",
    "      html <- paste0(html, sprintf(\n",
    "        '<button type=\"button\" class=\"quiz-answer answer-%s\" id=\"%s\"\n",
    "        onclick=\"handleAnswer(\\'%s\\', \\'%s\\', \\'%s\\', %s)\">\n",
    "        %s</button>',\n",
    "        qid, aid, qid, aid, feedback, correct_js, answer$answer\n",
    "      ))\n",
    "    }\n",
    "    \n",
    "    html <- paste0(html, sprintf('<div class=\"feedback\" id=\"feedback_%s\"></div></form><hr>', qid))\n",
    "  }\n",
    "\n",
    "  display_html(html)\n",
    "}\n",
    "\n",
    "# Call the function to display quiz interactively:\n",
    "show_quiz_from_json(\"questions/regression_models.json\")"
   ]
  },
  {
   "cell_type": "markdown",
   "id": "9d6e5e13-ec9e-4fca-9d03-d256834ea3ec",
   "metadata": {
    "editable": true,
    "slideshow": {
     "slide_type": ""
    },
    "tags": []
   },
   "source": [
    "## Some notes on interpretation of interaction effects\n",
    "\n",
    "While a significant interaction is determined solely by looking at the p-value for teh interaction term, its interpretation depends on the value of the main effect. When we report that there is a difference between two groups, this could manifest in a number of ways. The interaction term has to be flexible enough to detect all of these. Below we plot a few examples. \n",
    "\n",
    "Let's consider the model:\n",
    "\n",
    "$$y = \\beta_{0} + \\beta_{1} x + \\beta_{2} sex + \\beta_{3} * x * sex$$\n",
    "\n",
    "where for females, $sex = 0$ and for males, $sex = 1$\n",
    "\n",
    "Let's consider a simple example, where there is an effect in only one sex. \n"
   ]
  },
  {
   "cell_type": "code",
   "execution_count": 7,
   "id": "2f1301a9-76ab-4cba-87db-fa7a931d13df",
   "metadata": {
    "editable": true,
    "slideshow": {
     "slide_type": ""
    },
    "tags": []
   },
   "outputs": [
    {
     "data": {
      "image/png": "[encoded data removed]",
      "text/plain": [
       "<IPython.core.display.Image object>"
      ]
     },
     "metadata": {},
     "output_type": "display_data"
    }
   ],
   "source": [
    "x.values<-seq(-5,5,0.5)\n",
    "\n",
    "par(mfrow = c(1,2))\n",
    "par(mar = c(4,4,4,0.5))\n",
    "\n",
    "plot(x.values, (x.values * 0 + 0), xlim = c(-5,5), ylim = c(-5,5), col = \"magenta\", lwd = 2, type = \"l\", xlab = \"x\", ylab = \"y\", main = expression(paste(beta[1], \" = 0 ; \", beta[3] != 0)))\n",
    "lines(x.values, (x.values * 0.5 + 2.5), col = \"blue\", lwd = 2)\n",
    "\n",
    "plot(x.values, (x.values * -0.5 - 2.5), xlim = c(-5,5), ylim = c(-5,5), col = \"magenta\", lwd = 2, type = \"l\", xlab = \"x\", ylab = \"y\", main = expression(paste(beta[1] != 0, \"; \", beta[3], \" = -\", beta[1])))\n",
    "lines(x.values, (x.values * 0 + 0), col = \"blue\", lwd = 2)\n"
   ]
  },
  {
   "cell_type": "markdown",
   "id": "8acbc875-3431-4b36-a6af-f58efdf3e2de",
   "metadata": {
    "editable": true,
    "slideshow": {
     "slide_type": ""
    },
    "tags": []
   },
   "source": [
    "Above, in the figure on the left, there is no relationship between x and y in females, hence a flat line but there is an effect in males. This would mean that the main effect for x captured by $\\beta_{1}$ has to equal to zero and not significant. The significant effect between x and y in males only would be captured by a significantly non-zero, $\\beta_{3}$. \n",
    "\n",
    "\n",
    "In the figure on the right, there is an effect in females but not males. As the slope coefficient for females is solely determined by $\\beta_{1}$ this has to be significantly non-zero. There is a significant difference between the sexes so the interaction coefficient $\\beta_3$ is significant. However, for males to have essentially a null effect, $\\beta_{3}$ has to be equal and opposite to $\\beta_{1}$ so that the combined effect on x equals 0. In this situation the sign of the interaction regression coefficient will be misleading as to the direction of the association for the contrast group.\n",
    "\n",
    "This might be easier to understand using the table below. For there to be no effect in females $\\beta_{1} = 0$, whereas for there to be no effect in males $\\beta_{1} + \\beta_{3} = 0$. \n",
    "\n",
    "|  Sex   |        Intercept        |    Slope coefficient    |\n",
    "|:------:|:-----------------------:|:-----------------------:|\n",
    "| female |       $\\beta_{0}$       |       $\\beta_{1}$       |\n",
    "|  male  | $\\beta_{0} + \\beta_{2}$ | $\\beta_{1} + \\beta_{3}$ |\n",
    "\n",
    "This however is not the only two possible ways that the groups could differ. It may also be that there is an effect in both sexes but that it is of different orders of magnitude. \n"
   ]
  },
  {
   "cell_type": "code",
   "execution_count": 8,
   "id": "9c8f4db6-4d4c-46b8-8e14-ee3127505f34",
   "metadata": {
    "editable": true,
    "slideshow": {
     "slide_type": ""
    },
    "tags": []
   },
   "outputs": [
    {
     "data": {
      "image/png": "[encoded data removed]",
      "text/plain": [
       "<IPython.core.display.Image object>"
      ]
     },
     "metadata": {},
     "output_type": "display_data"
    }
   ],
   "source": [
    "x.values<-seq(-5,5,0.5)\n",
    "\n",
    "par(mfrow = c(1,2))\n",
    "par(mar = c(4,4,4,0.5))\n",
    "\n",
    "plot(x.values, (x.values * 0.25 + 1.25), xlim = c(-5,5), ylim = c(0,5), col = \"magenta\", lwd = 2, type = \"l\", xlab = \"x\", ylab = \"y\", main = expression(paste(beta[1] > 0, \"; \", beta[3] > 0)))\n",
    "lines(x.values, (x.values * 0.5 + 2.5), col = \"blue\", lwd = 2)\n",
    "\n",
    "plot(x.values, (x.values * 0.5 + 2.5), xlim = c(-5,5), ylim = c(0,5), col = \"magenta\", lwd = 2, type = \"l\", xlab = \"x\", ylab = \"y\", main = expression(paste(beta[1] > 0, \"; \", beta[3] < 0, \"; |\", beta[3], \"| < |\", beta[1],\"|\")))\n",
    "lines(x.values, (x.values * 0.25 + 1.25), col = \"blue\", lwd = 2)\n"
   ]
  },
  {
   "cell_type": "markdown",
   "id": "d3788616-b111-4651-968f-31792b9432d5",
   "metadata": {
    "editable": true,
    "slideshow": {
     "slide_type": ""
    },
    "tags": []
   },
   "source": [
    "The example on the left of the figure above, the relationship is in the same direction, y increases as x increase, but males increase more quickly. Therefore both $\\beta_{1}$ and $\\beta_{3}$ are significantly non-zero and have the same sign, as $\\beta_{1} + \\beta_{3} > \\beta_{1}$.\n",
    "\n",
    "If instead, females increased more quickly than males (shown in the right panel above), $\\beta{1}$ is positive but  $\\beta_{3}$ needs to be negative, but importantly of smaller magnitude than $\\beta_{1}$ so that when they are added together the sum is still positive. \n"
   ]
  },
  {
   "cell_type": "code",
   "execution_count": 9,
   "id": "220cc611-cae3-4726-ba5a-0e6d9267ff5e",
   "metadata": {
    "editable": true,
    "slideshow": {
     "slide_type": ""
    },
    "tags": []
   },
   "outputs": [
    {
     "data": {
      "image/png": "[encoded data removed]",
      "text/plain": [
       "<IPython.core.display.Image object>"
      ]
     },
     "metadata": {},
     "output_type": "display_data"
    }
   ],
   "source": [
    "x.values<-seq(-5,5,0.5)\n",
    "par(mfrow = c(1,1))\n",
    "par(mar = c(4,4,4,0.5))\n",
    "\n",
    "plot(x.values, (x.values * 0.25 + 1.25), xlim = c(-5,5), ylim = c(-3,3), col = \"magenta\", lwd = 2, type = \"l\", xlab = \"x\", ylab = \"y\", main = expression(paste(beta[1] > 0, \"; \", beta[3] < 0, \"; |\", beta[3], \"| > |\", beta[1], \"|\")))\n",
    "lines(x.values, (x.values * -0.25 - 1.25), col = \"blue\", lwd = 2)\n"
   ]
  },
  {
   "cell_type": "markdown",
   "id": "8d85eb88-3813-4319-8b09-3d7387d9916f",
   "metadata": {
    "editable": true,
    "slideshow": {
     "slide_type": ""
    },
    "tags": []
   },
   "source": [
    "As a final example we have the most extreme difference, where males and females are both significantly associated, but in opposite directions. $\\beta_{1}$ is non-zero to estimate the effect in females, but $\\beta_{3}$ is the opposite direction, and of larger magnitude than $\\beta_{3}$ so that when they are summed together to give the effect in males, the slope coefficient changes sign. Here the difference between the slope coefficients for males and females is biggest, therefore this behaviour is the one we are most powered to detect. The trickiest situation to detect is subtle differences in magnitude as $\\beta_{3}$ is the smallest.\n",
    "\n",
    "The main take home messgae here is that the value of the regression coefficient tells us nothing unless we also consider the regression coefficient for the main effect. \n"
   ]
  },
  {
   "cell_type": "markdown",
   "id": "17db3ae3-1b62-4f81-829e-1e6153af8286",
   "metadata": {
    "editable": true,
    "slideshow": {
     "slide_type": ""
    },
    "tags": []
   },
   "source": [
    "## Summary Quiz"
   ]
  },
  {
   "cell_type": "code",
   "execution_count": 2,
   "id": "2013897e-cb15-4279-bed8-a10feef50926",
   "metadata": {
    "editable": true,
    "slideshow": {
     "slide_type": ""
    },
    "tags": [
     "remove-input"
    ]
   },
   "outputs": [
    {
     "data": {
      "text/html": [
       "\n",
       "  <style>\n",
       "  .quiz-question {\n",
       "      background-color: #6c63ff;\n",
       "      color: white;\n",
       "      padding: 12px;\n",
       "      border-radius: 10px;\n",
       "      font-weight: bold;\n",
       "      font-size: 1.2em;\n",
       "      margin-bottom: 10px;\n",
       "  }\n",
       "\n",
       "  .quiz-form {\n",
       "      margin-bottom: 20px;\n",
       "  }\n",
       "\n",
       "  .quiz-answer {\n",
       "      display: block;\n",
       "      background-color: #f2f2f2;\n",
       "      border: none;\n",
       "      border-radius: 10px;\n",
       "      padding: 10px;\n",
       "      margin: 5px 0;\n",
       "      font-size: 1em;\n",
       "      cursor: pointer;\n",
       "      text-align: left;\n",
       "      transition: background-color 0.3s;\n",
       "      width: 100%;\n",
       "  }\n",
       "\n",
       "  .quiz-answer:hover {\n",
       "      background-color: #e0e0e0;\n",
       "  }\n",
       "\n",
       "  .correct {\n",
       "      background-color: #4CAF50 !important;\n",
       "      color: white !important;\n",
       "      border: none;\n",
       "  }\n",
       "\n",
       "  .incorrect {\n",
       "      background-color: #D32F2F !important;\n",
       "      color: white !important;\n",
       "      border: none;\n",
       "  }\n",
       "\n",
       "  .feedback {\n",
       "      margin-top: 10px;\n",
       "      font-weight: bold;\n",
       "      font-size: 1em;\n",
       "  }\n",
       "  </style>\n",
       "\n",
       "  <script>\n",
       "  function handleAnswer(qid, aid, feedback, isCorrect) {\n",
       "      let buttons = document.querySelectorAll(\".answer-\" + qid);\n",
       "      buttons.forEach(btn => {\n",
       "          btn.classList.remove(\"correct\", \"incorrect\");\n",
       "      });\n",
       "\n",
       "      let selected = document.getElementById(aid);\n",
       "      selected.classList.add(isCorrect ? \"correct\" : \"incorrect\");\n",
       "\n",
       "      let feedbackBox = document.getElementById(\"feedback_\" + qid);\n",
       "      feedbackBox.innerHTML = feedback;\n",
       "      feedbackBox.style.color = isCorrect ? \"green\" : \"red\";\n",
       "  }\n",
       "  </script>\n",
       "  <div class=\"quiz-question\">What is the main purpose of including interaction terms in a regression model?</div><form class=\"quiz-form\"><button type=\"button\" class=\"quiz-answer answer-1\" id=\"q1_a1\"\n",
       "        onclick=\"handleAnswer('1', 'q1_a1', 'Incorrect', false)\">\n",
       "        To reduce the number of predictor variables</button><button type=\"button\" class=\"quiz-answer answer-1\" id=\"q1_a2\"\n",
       "        onclick=\"handleAnswer('1', 'q1_a2', 'Incorrect', false)\">\n",
       "        To account for the additive effects of predictors</button><button type=\"button\" class=\"quiz-answer answer-1\" id=\"q1_a3\"\n",
       "        onclick=\"handleAnswer('1', 'q1_a3', 'Correct', true)\">\n",
       "        To explore whether the relationship between two predictor variables depends on the value of a third variable</button><button type=\"button\" class=\"quiz-answer answer-1\" id=\"q1_a4\"\n",
       "        onclick=\"handleAnswer('1', 'q1_a4', 'Incorrect', false)\">\n",
       "        To simplify the regression model</button><div class=\"feedback\" id=\"feedback_1\"></div></form><hr><div class=\"quiz-question\">When fitting an interaction model in R, which of the following fucntions is typically used?</div><form class=\"quiz-form\"><button type=\"button\" class=\"quiz-answer answer-2\" id=\"q2_a1\"\n",
       "        onclick=\"handleAnswer('2', 'q2_a1', 'Correct', true)\">\n",
       "        lm()</button><button type=\"button\" class=\"quiz-answer answer-2\" id=\"q2_a2\"\n",
       "        onclick=\"handleAnswer('2', 'q2_a2', 'Incorrect', false)\">\n",
       "        glmer()</button><button type=\"button\" class=\"quiz-answer answer-2\" id=\"q2_a3\"\n",
       "        onclick=\"handleAnswer('2', 'q2_a3', 'Incorrect', false)\">\n",
       "        lmer()</button><button type=\"button\" class=\"quiz-answer answer-2\" id=\"q2_a4\"\n",
       "        onclick=\"handleAnswer('2', 'q2_a4', 'Incorrect', false)\">\n",
       "        anova()</button><div class=\"feedback\" id=\"feedback_2\"></div></form><hr><div class=\"quiz-question\">What does a significant interaction term indicate in the context of a regression model?</div><form class=\"quiz-form\"><button type=\"button\" class=\"quiz-answer answer-3\" id=\"q3_a1\"\n",
       "        onclick=\"handleAnswer('3', 'q3_a1', 'Incorrect', false)\">\n",
       "        The predictor variable are independent</button><button type=\"button\" class=\"quiz-answer answer-3\" id=\"q3_a2\"\n",
       "        onclick=\"handleAnswer('3', 'q3_a2', 'Incorrect', false)\">\n",
       "        The relationship between the predictors and the outcome is linear</button><button type=\"button\" class=\"quiz-answer answer-3\" id=\"q3_a3\"\n",
       "        onclick=\"handleAnswer('3', 'q3_a3', 'Correct', true)\">\n",
       "        The effect of one predictor on the outcome variable varies depending on the level of another predictor</button><button type=\"button\" class=\"quiz-answer answer-3\" id=\"q3_a4\"\n",
       "        onclick=\"handleAnswer('3', 'q3_a4', 'Incorrect', false)\">\n",
       "        The model is overfitted</button><div class=\"feedback\" id=\"feedback_3\"></div></form><hr>"
      ]
     },
     "metadata": {},
     "output_type": "display_data"
    }
   ],
   "source": [
    "library(jsonlite)\n",
    "library(IRdisplay)\n",
    "\n",
    "show_quiz_from_json <- function(path) {\n",
    "  quiz_data <- fromJSON(path, simplifyVector = FALSE)\n",
    "  \n",
    "  html <- '\n",
    "  <style>\n",
    "  .quiz-question {\n",
    "      background-color: #6c63ff;\n",
    "      color: white;\n",
    "      padding: 12px;\n",
    "      border-radius: 10px;\n",
    "      font-weight: bold;\n",
    "      font-size: 1.2em;\n",
    "      margin-bottom: 10px;\n",
    "  }\n",
    "\n",
    "  .quiz-form {\n",
    "      margin-bottom: 20px;\n",
    "  }\n",
    "\n",
    "  .quiz-answer {\n",
    "      display: block;\n",
    "      background-color: #f2f2f2;\n",
    "      border: none;\n",
    "      border-radius: 10px;\n",
    "      padding: 10px;\n",
    "      margin: 5px 0;\n",
    "      font-size: 1em;\n",
    "      cursor: pointer;\n",
    "      text-align: left;\n",
    "      transition: background-color 0.3s;\n",
    "      width: 100%;\n",
    "  }\n",
    "\n",
    "  .quiz-answer:hover {\n",
    "      background-color: #e0e0e0;\n",
    "  }\n",
    "\n",
    "  .correct {\n",
    "      background-color: #4CAF50 !important;\n",
    "      color: white !important;\n",
    "      border: none;\n",
    "  }\n",
    "\n",
    "  .incorrect {\n",
    "      background-color: #D32F2F !important;\n",
    "      color: white !important;\n",
    "      border: none;\n",
    "  }\n",
    "\n",
    "  .feedback {\n",
    "      margin-top: 10px;\n",
    "      font-weight: bold;\n",
    "      font-size: 1em;\n",
    "  }\n",
    "  </style>\n",
    "\n",
    "  <script>\n",
    "  function handleAnswer(qid, aid, feedback, isCorrect) {\n",
    "      let buttons = document.querySelectorAll(\".answer-\" + qid);\n",
    "      buttons.forEach(btn => {\n",
    "          btn.classList.remove(\"correct\", \"incorrect\");\n",
    "      });\n",
    "\n",
    "      let selected = document.getElementById(aid);\n",
    "      selected.classList.add(isCorrect ? \"correct\" : \"incorrect\");\n",
    "\n",
    "      let feedbackBox = document.getElementById(\"feedback_\" + qid);\n",
    "      feedbackBox.innerHTML = feedback;\n",
    "      feedbackBox.style.color = isCorrect ? \"green\" : \"red\";\n",
    "  }\n",
    "  </script>\n",
    "  '\n",
    "\n",
    "  for (i in seq_along(quiz_data)) {\n",
    "    question <- quiz_data[[i]]\n",
    "    qid <- as.character(i)\n",
    "    html <- paste0(html, sprintf('<div class=\"quiz-question\">%s</div><form class=\"quiz-form\">', question$question))\n",
    "    \n",
    "    for (j in seq_along(question$answers)) {\n",
    "      answer <- question$answers[[j]]\n",
    "      aid <- sprintf(\"q%s_a%s\", i, j)\n",
    "      feedback <- gsub(\"'\", \"\\\\'\", answer$feedback)  # escape single quotes\n",
    "      correct <- tolower(substr(answer$feedback, 1, 7)) == \"correct\"\n",
    "      correct_js <- tolower(as.character(correct))  # \"true\" or \"false\"\n",
    "\n",
    "      html <- paste0(html, sprintf(\n",
    "        '<button type=\"button\" class=\"quiz-answer answer-%s\" id=\"%s\"\n",
    "        onclick=\"handleAnswer(\\'%s\\', \\'%s\\', \\'%s\\', %s)\">\n",
    "        %s</button>',\n",
    "        qid, aid, qid, aid, feedback, correct_js, answer$answer\n",
    "      ))\n",
    "    }\n",
    "    \n",
    "    html <- paste0(html, sprintf('<div class=\"feedback\" id=\"feedback_%s\"></div></form><hr>', qid))\n",
    "  }\n",
    "\n",
    "  display_html(html)\n",
    "}\n",
    "\n",
    "# Call the function to display quiz interactively:\n",
    "show_quiz_from_json(\"questions/summary_regression_interaction_terms.json\")"
   ]
  },
  {
   "cell_type": "code",
   "execution_count": null,
   "id": "94c99c6d-feb0-4435-ac1e-69eec92f1273",
   "metadata": {
    "editable": true,
    "slideshow": {
     "slide_type": ""
    },
    "tags": []
   },
   "outputs": [],
   "source": []
  }
 ],
 "metadata": {
  "kernelspec": {
   "display_name": "R",
   "language": "R",
   "name": "ir"
  },
  "language_info": {
   "codemirror_mode": "r",
   "file_extension": ".r",
   "mimetype": "text/x-r-source",
   "name": "R",
   "pygments_lexer": "r",
   "version": "4.3.3"
  }
 },
 "nbformat": 4,
 "nbformat_minor": 5
}
