{
 "cells": [
  {
   "cell_type": "code",
   "execution_count": 1,
   "id": "406ad6af-1b46-46f8-8d53-51e534b0f481",
   "metadata": {
    "editable": true,
    "slideshow": {
     "slide_type": ""
    },
    "tags": [
     "remove-input"
    ]
   },
   "outputs": [],
   "source": [
    "knitr::opts_chunk$set(echo = TRUE)\n",
    "\n",
    "nInd<-175\n",
    "indIDs <-paste0(\"X\", sample(10000:40000, nInd))\n",
    "nVisits<-rpois(indIDs, 4)\n",
    "nVisits[which(nVisits == 0)]<-1\n",
    "\n",
    "cogAbaseline<-rpois(indIDs, 25)\n",
    "cogBbaseline<-rnorm(indIDs, 8,4)\n",
    "cogCbaseline<-rnorm(indIDs, 20, 2)\n",
    "sex<-sample(c(\"M\", \"F\"), nInd, replace = TRUE, prob = c(0.55, 0.45))\n",
    "age<-floor(runif(nInd, 20, 60))\n",
    "intervention<-sample(c(\"Placebo\", \"Training\"), nInd, replace = TRUE)\n",
    "yearsEd<-sample(c(12,14,17), nInd, replace = TRUE, prob = c(0.3,0.4, 0.3))\n",
    "smoke <- sample(c(\"Yes\", \"No\"), nInd, replace = TRUE, prob = c(0.25,0.75))\n",
    "physicalWellbeing <- sample(c(\"High\", \"Low\"), nInd, replace = TRUE, prob = c(0.85,0.15))\n",
    "mentalWellbeing <- sample(c(\"High\", \"Low\"), nInd, replace = TRUE, prob = c(0.7,0.3))\n",
    "cogAbaseline <- cogAbaseline[(physicalWellbeing == \"Low\" | mentalWellbeing == \"Low\")]<- rpois(sum((physicalWellbeing == \"Low\" | mentalWellbeing == \"Low\")), 22)\n",
    "cogAbaseline <- cogAbaseline[smoke == \"Yes\"]<- rpois(sum(smoke == \"Yes\"), 23)\n",
    "\n",
    "visitID<-as.factor(rep(indIDs, nVisits))\n",
    "visitNum <- unlist(lapply(nVisits, seq))\n",
    "\n",
    "index<-match(visitID, indIDs)\n",
    "visitSex<-as.factor(sex[index])\n",
    "visitAge<-age[index]+visitNum\n",
    "visitIntervention<-as.factor(intervention[index])\n",
    "visitYearsEd <- yearsEd[index]\n",
    "visitSmoke <- as.factor(smoke[index])\n",
    "visitPW <- as.factor(physicalWellbeing[index])\n",
    "randomIndex<-sample(1:length(index), nInd)\n",
    "visitPW[randomIndex]<-\"Low\"\n",
    "visitMW <-as.factor(mentalWellbeing[index])\n",
    "randomIndex<-sample(which(visitNum > 3), nInd*0.5)\n",
    "visitMW[randomIndex]<-\"High\"\n",
    "    \n",
    "cogA<- floor(cogAbaseline[index] + visitNum * (0.2 + 0.05 * as.numeric(visitIntervention) + 0.04 * as.numeric(visitMW)) + rnorm(length(visitNum), 0,2))\n",
    "\n",
    "cogB<-cogBbaseline[index] + visitNum * (0.1 - 0.08 * as.numeric(visitSex) + 0.05 * (visitYearsEd-12)) + rnorm(length(visitNum), 0, 1) \n",
    "\n",
    "cogC<-cogCbaseline[index] + visitNum * (0.01 + 0.003 * as.numeric(visitSex) + 0.001 * as.numeric(visitIntervention)) + rnorm(length(visitNum), 0, 5) \n",
    "\n",
    "\n",
    "cogDat<-data.frame(\"ID\" = visitID, \"VisitNum\" = visitNum, \"Age\" = visitAge, \"Sex\" = visitSex, \"YearsEducation\" = visitYearsEd, \"Smoker\" = visitSmoke, \"Intervention\" = visitIntervention, \"CognitionA\" = cogA, \"CognitionB\" = cogB, \"CognitionC\" = cogC, \"PhysicalWellbeing\" = visitPW, \"MentalWellbeing\" = visitMW)\n"
   ]
  },
  {
   "cell_type": "markdown",
   "id": "21cfe79a-ded2-42b3-b31a-06bf0f5908fb",
   "metadata": {
    "editable": true,
    "slideshow": {
     "slide_type": ""
    },
    "tags": []
   },
   "source": [
    "# Expanding the mixed effects model framework\n",
    "\n",
    "## Learning Objectives\n",
    "- Learn how regression models can handle different types of variables, multiple variables, and various relationships between variables\n",
    "- Gain knowledge on incorporating more predictor variables as fixed effects in mixed effects models\n",
    "- Learn to fit logistic mixed effects regression models for binary outcome variables using the `glmer()` function in R\n",
    "- Understand how to compare models with and without random effects to determine the necessity of including random intercepts\n",
    "- Develop skills to interpret the fixed and random effects in mixed effects models, including the estimation of odds ratios for logistic regression models\n",
    "\n",
    "So far we have considered a fairly simple regression model with one continuous predictor variable and one continuous outcome variable and fitting a straight line between these. This has enabled us to get to grips with the core concepts but regression can do so much more than this. It is an incredibly flexible framework that can handle\n",
    "\n",
    "-   different types of variables\n",
    "-   multiple variables\n",
    "-   different relationships between variables\n",
    "\n",
    "We will now look at how we extend the methodology to allow more complex analysis designs. You should think of regression as a modular approach which you select the necessary components depending on the\n",
    "\n",
    "-   properties of the outcome variable(s)\n",
    "-   properties of the predictor variable(s)\n",
    "-   the relationship that you want to model between each predictor variable and outcome variable.\n",
    "\n",
    "Basically anything you can do with a standard regression model you can do with a mixed effects model.\n",
    "\n",
    "## Including more predictor variables\n",
    "\n",
    "We can easily incorporate more predictor variables as fixed effects into our model. As with linear regression, we need to specify these in the formula we provide to R. If in addition to `VisitNum` we want to control for differences between males and females we can include a fixed effect for `sex`."
   ]
  },
  {
   "cell_type": "code",
   "execution_count": 2,
   "id": "d1a08061-1fa7-4709-92e8-57e080216503",
   "metadata": {
    "editable": true,
    "slideshow": {
     "slide_type": ""
    },
    "tags": []
   },
   "outputs": [
    {
     "name": "stderr",
     "output_type": "stream",
     "text": [
      "Loading required package: Matrix\n",
      "\n"
     ]
    },
    {
     "data": {
      "text/plain": [
       "Linear mixed model fit by REML ['lmerMod']\n",
       "Formula: CognitionA ~ VisitNum + Sex + (1 | ID)\n",
       "   Data: cogDat\n",
       "\n",
       "REML criterion at convergence: 902.5\n",
       "\n",
       "Scaled residuals: \n",
       "     Min       1Q   Median       3Q      Max \n",
       "-2.52921 -0.66463 -0.00629  0.63085  2.14696 \n",
       "\n",
       "Random effects:\n",
       " Groups   Name        Variance Std.Dev.\n",
       " ID       (Intercept) 25.591   5.059   \n",
       " Residual              4.716   2.172   \n",
       "Number of obs: 178, groups:  ID, 42\n",
       "\n",
       "Fixed effects:\n",
       "            Estimate Std. Error t value\n",
       "(Intercept) 20.12644    1.37384  14.650\n",
       "VisitNum     0.28172    0.09107   3.093\n",
       "SexM         2.72945    1.69061   1.614\n",
       "\n",
       "Correlation of Fixed Effects:\n",
       "         (Intr) VistNm\n",
       "VisitNum -0.140       \n",
       "SexM     -0.790 -0.047"
      ]
     },
     "metadata": {},
     "output_type": "display_data"
    }
   ],
   "source": [
    "library(lme4)\n",
    "model.sex<-lmer(CognitionA ~ VisitNum  + Sex + (1 | ID), data = cogDat)\n",
    "summary(model.sex)"
   ]
  },
  {
   "cell_type": "markdown",
   "id": "23083e9c-8266-4af1-a1f1-1e328076ac11",
   "metadata": {
    "editable": true,
    "slideshow": {
     "slide_type": ""
    },
    "tags": []
   },
   "source": [
    "We can see that the fixed effect we have estimated for sex is not significant.\n",
    "\n",
    "## Logistic mixed effects regression models\n",
    "\n",
    "If our outcome is a binary variable we alternatively need to fit a logistic regression model. For an explanation as to why, please see the **Introduction to Regression Analysis** tutorial. As logistic regression requires a generalized linear model framework, we need to use the function `glmer()` rather than `lmer()`.\n",
    "\n",
    "Let's look to see if in general the participants mental well being improves as the study progresses. The variable that captures change over the course of the study is `VisitNum` so this is our predictor variable, we keep our random effect for `ID` and our outcome variable is the factor `MentalWellbeing`."
   ]
  },
  {
   "cell_type": "code",
   "execution_count": 3,
   "id": "f55f3fe2-a1f8-4139-ac45-bdd037c0fac5",
   "metadata": {
    "editable": true,
    "slideshow": {
     "slide_type": ""
    },
    "tags": []
   },
   "outputs": [
    {
     "data": {
      "text/plain": [
       "Generalized linear mixed model fit by maximum likelihood (Laplace\n",
       "  Approximation) [glmerMod]\n",
       " Family: binomial  ( logit )\n",
       "Formula: MentalWellbeing ~ VisitNum + (1 | ID)\n",
       "   Data: cogDat\n",
       "\n",
       "     AIC      BIC   logLik deviance df.resid \n",
       "   298.4    312.0   -146.2    292.4      686 \n",
       "\n",
       "Scaled residuals: \n",
       "    Min      1Q  Median      3Q     Max \n",
       "-2.3934 -0.0045 -0.0026  0.0167  4.0573 \n",
       "\n",
       "Random effects:\n",
       " Groups Name        Variance Std.Dev.\n",
       " ID     (Intercept) 501.1    22.39   \n",
       "Number of obs: 689, groups:  ID, 175\n",
       "\n",
       "Fixed effects:\n",
       "            Estimate Std. Error z value Pr(>|z|)    \n",
       "(Intercept)  -8.5130     0.9456  -9.003  < 2e-16 ***\n",
       "VisitNum     -1.1188     0.2373  -4.715 2.42e-06 ***\n",
       "---\n",
       "Signif. codes:  0 ‘***’ 0.001 ‘**’ 0.01 ‘*’ 0.05 ‘.’ 0.1 ‘ ’ 1\n",
       "\n",
       "Correlation of Fixed Effects:\n",
       "         (Intr)\n",
       "VisitNum -0.198"
      ]
     },
     "metadata": {},
     "output_type": "display_data"
    }
   ],
   "source": [
    "model.log <- glmer(MentalWellbeing ~ VisitNum + (1 | ID), data = cogDat, family=\"binomial\")\n",
    "summary(model.log)"
   ]
  },
  {
   "cell_type": "markdown",
   "id": "031bcfa1-d92e-43c5-9ad1-1355f3db76db",
   "metadata": {
    "editable": true,
    "slideshow": {
     "slide_type": ""
    },
    "tags": []
   },
   "source": [
    "Let's see if we need the random intercept which is essentially asking the question whether an individuals well being at one point in the study predicts their well being at another stage. It is important to do this for each model, because just because individual has an affect on one variable, doesn't automatically mean it affects all variables in a data set.\n",
    "\n",
    "As before we do this my comparing it to a standard regression model with just fixed effects and no random effects. As the standard model also needs to be a logistic regression model we use the `glm()` function to fit it. We then use an `anova()` to compare the models with and without the random effects.\n"
   ]
  },
  {
   "cell_type": "code",
   "execution_count": 4,
   "id": "d379c047-2d4a-42b4-b4e6-3c6f0063eb3b",
   "metadata": {
    "editable": true,
    "slideshow": {
     "slide_type": ""
    },
    "tags": []
   },
   "outputs": [
    {
     "data": {
      "text/html": [
       "<table class=\"dataframe\">\n",
       "<caption>A anova: 2 × 8</caption>\n",
       "<thead>\n",
       "\t<tr><th></th><th scope=col>npar</th><th scope=col>AIC</th><th scope=col>BIC</th><th scope=col>logLik</th><th scope=col>deviance</th><th scope=col>Chisq</th><th scope=col>Df</th><th scope=col>Pr(&gt;Chisq)</th></tr>\n",
       "\t<tr><th></th><th scope=col>&lt;dbl&gt;</th><th scope=col>&lt;dbl&gt;</th><th scope=col>&lt;dbl&gt;</th><th scope=col>&lt;dbl&gt;</th><th scope=col>&lt;dbl&gt;</th><th scope=col>&lt;dbl&gt;</th><th scope=col>&lt;dbl&gt;</th><th scope=col>&lt;dbl&gt;</th></tr>\n",
       "</thead>\n",
       "<tbody>\n",
       "\t<tr><th scope=row>null.log</th><td>2</td><td>768.3655</td><td>777.4359</td><td>-382.1827</td><td>764.3655</td><td>      NA</td><td>NA</td><td>           NA</td></tr>\n",
       "\t<tr><th scope=row>model.log</th><td>3</td><td>298.3950</td><td>312.0007</td><td>-146.1975</td><td>292.3950</td><td>471.9705</td><td> 1</td><td>1.193913e-104</td></tr>\n",
       "</tbody>\n",
       "</table>\n"
      ],
      "text/latex": [
       "A anova: 2 × 8\n",
       "\\begin{tabular}{r|llllllll}\n",
       "  & npar & AIC & BIC & logLik & deviance & Chisq & Df & Pr(>Chisq)\\\\\n",
       "  & <dbl> & <dbl> & <dbl> & <dbl> & <dbl> & <dbl> & <dbl> & <dbl>\\\\\n",
       "\\hline\n",
       "\tnull.log & 2 & 768.3655 & 777.4359 & -382.1827 & 764.3655 &       NA & NA &            NA\\\\\n",
       "\tmodel.log & 3 & 298.3950 & 312.0007 & -146.1975 & 292.3950 & 471.9705 &  1 & 1.193913e-104\\\\\n",
       "\\end{tabular}\n"
      ],
      "text/markdown": [
       "\n",
       "A anova: 2 × 8\n",
       "\n",
       "| <!--/--> | npar &lt;dbl&gt; | AIC &lt;dbl&gt; | BIC &lt;dbl&gt; | logLik &lt;dbl&gt; | deviance &lt;dbl&gt; | Chisq &lt;dbl&gt; | Df &lt;dbl&gt; | Pr(&gt;Chisq) &lt;dbl&gt; |\n",
       "|---|---|---|---|---|---|---|---|---|\n",
       "| null.log | 2 | 768.3655 | 777.4359 | -382.1827 | 764.3655 |       NA | NA |            NA |\n",
       "| model.log | 3 | 298.3950 | 312.0007 | -146.1975 | 292.3950 | 471.9705 |  1 | 1.193913e-104 |\n",
       "\n"
      ],
      "text/plain": [
       "          npar AIC      BIC      logLik    deviance Chisq    Df Pr(>Chisq)   \n",
       "null.log  2    768.3655 777.4359 -382.1827 764.3655       NA NA            NA\n",
       "model.log 3    298.3950 312.0007 -146.1975 292.3950 471.9705  1 1.193913e-104"
      ]
     },
     "metadata": {},
     "output_type": "display_data"
    }
   ],
   "source": [
    "null.log <- glm(MentalWellbeing ~ VisitNum, data = cogDat, family=\"binomial\")\n",
    "anova(model.log, null.log)"
   ]
  },
  {
   "cell_type": "markdown",
   "id": "43554d0f-7054-4d96-a63c-ba031f012cdb",
   "metadata": {
    "editable": true,
    "slideshow": {
     "slide_type": ""
    },
    "tags": []
   },
   "source": [
    "These results show that the inclusion of the random intercept does significantly improve the fit of the model as P \\< 0.05. Therefore we can conclude that individual's mental well being is correlated across the course of the study.\n",
    "\n",
    "We interpret the fixed effects as we would for any other logistic regression model - they relate to the log odds ratio of the outcome per one unit increase in the predictor variable. As a one unit increase in the predictor variable equates to one extra visit, we can summarise from this model that each extra visit is associated with a log odd ratio of `r signif(summary(model.log)$coefficients[\"VisitNum\", \"Estimate\"],2)`. We can convert this to an odds ratio by raising it to an exponential."
   ]
  },
  {
   "cell_type": "code",
   "execution_count": 5,
   "id": "bf1355b5-e177-4ded-8a3e-3630235e3922",
   "metadata": {
    "editable": true,
    "slideshow": {
     "slide_type": ""
    },
    "tags": []
   },
   "outputs": [
    {
     "data": {
      "text/html": [
       "<style>\n",
       ".dl-inline {width: auto; margin:0; padding: 0}\n",
       ".dl-inline>dt, .dl-inline>dd {float: none; width: auto; display: inline-block}\n",
       ".dl-inline>dt::after {content: \":\\0020\"; padding-right: .5ex}\n",
       ".dl-inline>dt:not(:first-of-type) {padding-left: .5ex}\n",
       "</style><dl class=dl-inline><dt>(Intercept)</dt><dd>0.000200842354436333</dd><dt>VisitNum</dt><dd>0.326656806733316</dd></dl>\n"
      ],
      "text/latex": [
       "\\begin{description*}\n",
       "\\item[(Intercept)] 0.000200842354436333\n",
       "\\item[VisitNum] 0.326656806733316\n",
       "\\end{description*}\n"
      ],
      "text/markdown": [
       "(Intercept)\n",
       ":   0.000200842354436333VisitNum\n",
       ":   0.326656806733316\n",
       "\n"
      ],
      "text/plain": [
       " (Intercept)     VisitNum \n",
       "0.0002008424 0.3266568067 "
      ]
     },
     "metadata": {},
     "output_type": "display_data"
    }
   ],
   "source": [
    "exp(coef(summary(model.log))[,\"Estimate\"])"
   ]
  },
  {
   "cell_type": "markdown",
   "id": "94da727c-d2f8-493b-b41e-0aaf8713420c",
   "metadata": {
    "editable": true,
    "slideshow": {
     "slide_type": ""
    },
    "tags": []
   },
   "source": [
    "So the odds of having low mental well being relative to high mental well being decreases by a factor of `r signif(exp(coef(summary(model.log))[\"VisitNum\",\"Estimate\"]),2)` for each extra visit. We can flip this round and say that each visit increases the odds of having high mental well being by a factor of `r signif(1/exp(coef(summary(model.log))[\"VisitNum\",\"Estimate\"]),2)`. Note that the individual level intercepts represent each individuals baseline odds ratio for their mental well being.\n",
    "\n",
    "## Exercise 3\n",
    "\n",
    "*Let's practise fitting more complex mixed effects models*\n",
    "\n",
    "Write the R code required to test using a mixed effects regression model the following. For eachmodel include a random intercept for individual.\n",
    "\n",
    "1.  Is cognitive performance measured by any of the three tests influenced by smoking or years of education?\n"
   ]
  },
  {
   "cell_type": "code",
   "execution_count": 6,
   "id": "77f5f4e6-48b4-418a-b1bb-a6d628f16c2e",
   "metadata": {
    "editable": true,
    "slideshow": {
     "slide_type": ""
    },
    "tags": []
   },
   "outputs": [],
   "source": [
    "#model.coga<-lmer(CognitionA ~ VisitNum + ... + (1|ID), data = cogDat)\n",
    "#model.cogb<-\n",
    "#model.cogc<-\n"
   ]
  },
  {
   "cell_type": "markdown",
   "id": "4fbea7be-a2b8-4585-aa56-2bada4bccd84",
   "metadata": {
    "editable": true,
    "slideshow": {
     "slide_type": ""
    },
    "tags": []
   },
   "source": [
    "```{admonition} Solution\n",
    ":class: dropdown\n",
    "``` R\n",
    "model.coga<-lmer(CognitionA ~ VisitNum + Smoker + YearsEducation + (1|ID), data = cogDat)\n",
    "summary(model.coga)\n",
    "\n",
    "model.cogb<-lmer(CognitionB ~ VisitNum + Smoker + YearsEducation + (1|ID), data = cogDat)\n",
    "summary(model.cogb)\n",
    "\n",
    "model.cogc<-lmer(CognitionC ~ VisitNum + Smoker + YearsEducation + (1|ID), data = cogDat)\n",
    "summary(model.cogc)\n",
    "```\n",
    "```"
   ]
  },
  {
   "cell_type": "code",
   "execution_count": 7,
   "id": "4dd348dc-fe10-4103-84df-73fe3b0691ab",
   "metadata": {
    "editable": true,
    "slideshow": {
     "slide_type": ""
    },
    "tags": [
     "remove-input"
    ]
   },
   "outputs": [
    {
     "data": {
      "text/html": [
       "\n",
       "  <style>\n",
       "  .quiz-question {\n",
       "      background-color: #6c63ff;\n",
       "      color: white;\n",
       "      padding: 12px;\n",
       "      border-radius: 10px;\n",
       "      font-weight: bold;\n",
       "      font-size: 1.2em;\n",
       "      margin-bottom: 10px;\n",
       "  }\n",
       "\n",
       "  .quiz-form {\n",
       "      margin-bottom: 20px;\n",
       "  }\n",
       "\n",
       "  .quiz-answer {\n",
       "      display: block;\n",
       "      background-color: #f2f2f2;\n",
       "      border: none;\n",
       "      border-radius: 10px;\n",
       "      padding: 10px;\n",
       "      margin: 5px 0;\n",
       "      font-size: 1em;\n",
       "      cursor: pointer;\n",
       "      text-align: left;\n",
       "      transition: background-color 0.3s;\n",
       "      width: 100%;\n",
       "  }\n",
       "\n",
       "  .quiz-answer:hover {\n",
       "      background-color: #e0e0e0;\n",
       "  }\n",
       "\n",
       "  .correct {\n",
       "      background-color: #4CAF50 !important;\n",
       "      color: white !important;\n",
       "      border: none;\n",
       "  }\n",
       "\n",
       "  .incorrect {\n",
       "      background-color: #D32F2F !important;\n",
       "      color: white !important;\n",
       "      border: none;\n",
       "  }\n",
       "\n",
       "  .feedback {\n",
       "      margin-top: 10px;\n",
       "      font-weight: bold;\n",
       "      font-size: 1em;\n",
       "  }\n",
       "  </style>\n",
       "\n",
       "  <script>\n",
       "  function handleAnswer(qid, aid, feedback, isCorrect) {\n",
       "      let buttons = document.querySelectorAll(\".\" + qid);\n",
       "      buttons.forEach(btn => {\n",
       "          btn.classList.remove(\"correct\", \"incorrect\");\n",
       "      });\n",
       "\n",
       "      let selected = document.getElementById(aid);\n",
       "      if (selected) {\n",
       "        selected.classList.add(isCorrect ? \"correct\" : \"incorrect\");\n",
       "      }\n",
       "\n",
       "      let feedbackBox = document.getElementById(\"feedback_\" + qid);\n",
       "      if (feedbackBox) {\n",
       "        feedbackBox.innerHTML = feedback;\n",
       "        feedbackBox.style.color = isCorrect ? \"green\" : \"red\";\n",
       "      }\n",
       "  }\n",
       "  </script>\n",
       "  <div class=\"quiz-question\">Smoking behaviour is significantly associated (P < 0.05) with which cognitive tests? Select all that apply</div><form class=\"quiz-form\"><button type=\"button\" class=\"quiz-answer quiz_q1\" id=\"quiz_q1_a1\"\n",
       "         onclick=\"handleAnswer('quiz_q1', 'quiz_q1_a1', 'Incorrect.', false)\">\n",
       "         Cognition A</button><button type=\"button\" class=\"quiz-answer quiz_q1\" id=\"quiz_q1_a2\"\n",
       "         onclick=\"handleAnswer('quiz_q1', 'quiz_q1_a2', 'Incorrect.', false)\">\n",
       "         Cognition B</button><button type=\"button\" class=\"quiz-answer quiz_q1\" id=\"quiz_q1_a3\"\n",
       "         onclick=\"handleAnswer('quiz_q1', 'quiz_q1_a3', 'Incorrect.', false)\">\n",
       "         Cognition C</button><button type=\"button\" class=\"quiz-answer quiz_q1\" id=\"quiz_q1_a4\"\n",
       "         onclick=\"handleAnswer('quiz_q1', 'quiz_q1_a4', 'Correct.', true)\">\n",
       "         None</button><div class=\"feedback\" id=\"feedback_quiz_q1\"></div>\n",
       "       <button type=\"submit\" style=\"position:absolute; left:-9999px; width:1px; height:1px; overflow:hidden;\">\n",
       "         Submit\n",
       "       </button>\n",
       "       </form><hr><div class=\"quiz-question\">Years of education is significantly associated (P < 0.05) with which cognitive tests? Select all that apply</div><form class=\"quiz-form\"><button type=\"button\" class=\"quiz-answer quiz_q2\" id=\"quiz_q2_a1\"\n",
       "         onclick=\"handleAnswer('quiz_q2', 'quiz_q2_a1', 'Incorrect.', false)\">\n",
       "         Cognition A</button><button type=\"button\" class=\"quiz-answer quiz_q2\" id=\"quiz_q2_a2\"\n",
       "         onclick=\"handleAnswer('quiz_q2', 'quiz_q2_a2', 'Correct.', true)\">\n",
       "         Cognition B</button><button type=\"button\" class=\"quiz-answer quiz_q2\" id=\"quiz_q2_a3\"\n",
       "         onclick=\"handleAnswer('quiz_q2', 'quiz_q2_a3', 'Correct.', true)\">\n",
       "         Cognition C</button><button type=\"button\" class=\"quiz-answer quiz_q2\" id=\"quiz_q2_a4\"\n",
       "         onclick=\"handleAnswer('quiz_q2', 'quiz_q2_a4', 'Incorrect.', false)\">\n",
       "         None</button><div class=\"feedback\" id=\"feedback_quiz_q2\"></div>\n",
       "       <button type=\"submit\" style=\"position:absolute; left:-9999px; width:1px; height:1px; overflow:hidden;\">\n",
       "         Submit\n",
       "       </button>\n",
       "       </form><hr><div class=\"quiz-question\">Considering the results for cognitive test C, what is the value of the coefficient for years of education?</div><form class=\"quiz-form\"><button type=\"button\" class=\"quiz-answer quiz_q3\" id=\"quiz_q3_a1\"\n",
       "         onclick=\"handleAnswer('quiz_q3', 'quiz_q3_a1', 'Incorrect.', false)\">\n",
       "         15.5</button><button type=\"button\" class=\"quiz-answer quiz_q3\" id=\"quiz_q3_a2\"\n",
       "         onclick=\"handleAnswer('quiz_q3', 'quiz_q3_a2', 'Incorrect', false)\">\n",
       "         0.032</button><button type=\"button\" class=\"quiz-answer quiz_q3\" id=\"quiz_q3_a3\"\n",
       "         onclick=\"handleAnswer('quiz_q3', 'quiz_q3_a3', 'Incorrect.', false)\">\n",
       "         0.089</button><button type=\"button\" class=\"quiz-answer quiz_q3\" id=\"quiz_q3_a4\"\n",
       "         onclick=\"handleAnswer('quiz_q3', 'quiz_q3_a4', 'Correct.', true)\">\n",
       "         0.31</button><div class=\"feedback\" id=\"feedback_quiz_q3\"></div>\n",
       "       <button type=\"submit\" style=\"position:absolute; left:-9999px; width:1px; height:1px; overflow:hidden;\">\n",
       "         Submit\n",
       "       </button>\n",
       "       </form><hr><div class=\"quiz-question\">What is the correct interpretation of the value of coefficient for years of education?</div><form class=\"quiz-form\"><button type=\"button\" class=\"quiz-answer quiz_q4\" id=\"quiz_q4_a1\"\n",
       "         onclick=\"handleAnswer('quiz_q4', 'quiz_q4_a1', 'Incorrect.', false)\">\n",
       "         It is the mean cognitive score for those with 0 years of education.</button><button type=\"button\" class=\"quiz-answer quiz_q4\" id=\"quiz_q4_a2\"\n",
       "         onclick=\"handleAnswer('quiz_q4', 'quiz_q4_a2', 'Incorrect.', false)\">\n",
       "         It is the mean cognitive score for those with at least 1 year of education.</button><button type=\"button\" class=\"quiz-answer quiz_q4\" id=\"quiz_q4_a3\"\n",
       "         onclick=\"handleAnswer('quiz_q4', 'quiz_q4_a3', 'Correct.', true)\">\n",
       "         It is the mean change in cognitive score per year of education.</button><button type=\"button\" class=\"quiz-answer quiz_q4\" id=\"quiz_q4_a4\"\n",
       "         onclick=\"handleAnswer('quiz_q4', 'quiz_q4_a4', 'Incorrect.', false)\">\n",
       "         It is the mean change in cognitive score per 12 years of education.</button><div class=\"feedback\" id=\"feedback_quiz_q4\"></div>\n",
       "       <button type=\"submit\" style=\"position:absolute; left:-9999px; width:1px; height:1px; overflow:hidden;\">\n",
       "         Submit\n",
       "       </button>\n",
       "       </form><hr>"
      ]
     },
     "metadata": {},
     "output_type": "display_data"
    }
   ],
   "source": [
    "# Call the function to display quiz interactively:\n",
    "source(\"../../R_functions/quiz_renderer.R\")\n",
    "show_quiz_from_json(\"questions/expanding_mixed_effect_models.json\")"
   ]
  },
  {
   "cell_type": "markdown",
   "id": "7cb2e2c6-70be-43a2-b504-229be5a1db30",
   "metadata": {
    "editable": true,
    "slideshow": {
     "slide_type": ""
    },
    "tags": []
   },
   "source": [
    "2.  Does cognitive performance in any of the three tests influence the mental well being of the participants? Include co-variates for sex and years of education."
   ]
  },
  {
   "cell_type": "code",
   "execution_count": 8,
   "id": "14c325a3-8142-4945-ab96-a7c2897a4b10",
   "metadata": {
    "editable": true,
    "slideshow": {
     "slide_type": ""
    },
    "tags": []
   },
   "outputs": [],
   "source": [
    "#model.mw.coga<-glmer(MentalWellebing ~ CognitionA + VisitNum + ... + (1|ID), data = cogDat)\n",
    "#model.mw.cogb<-\n",
    "#model.mw.cogc<-"
   ]
  },
  {
   "cell_type": "markdown",
   "id": "b388a5e3-097e-49fd-acbc-19e048564400",
   "metadata": {
    "editable": true,
    "slideshow": {
     "slide_type": ""
    },
    "tags": []
   },
   "source": [
    "```{admonition} Solution\n",
    ":class: dropdown\n",
    "``` R\n",
    "model.mw.coga<-glmer(MentalWellbeing ~ CognitionA + VisitNum + Sex + YearsEducation + (1|ID), data = cogDat, family = \"binomial\")\n",
    "summary(model.mw.coga)\n",
    "\n",
    "model.mw.cogb<-glmer(MentalWellbeing ~ CognitionB + VisitNum + Sex + YearsEducation + (1|ID), data = cogDat, family = \"binomial\")\n",
    "summary(model.mw.cogb)\n",
    "\n",
    "model.mw.cogc<-glmer(MentalWellbeing ~ CognitionC + VisitNum + Sex + YearsEducation + (1|ID), data = cogDat, family = \"binomial\")\n",
    "summary(model.mw.cogc)\n",
    "\n",
    "## alternatively we could test simultaneously but fails to converge\n",
    "\n",
    "model.mw.cogall<-glmer(MentalWellbeing ~ CognitionA + CognitionB + CognitionC + VisitNum + Sex + YearsEducation + (1|ID), data = cogDat, family = \"binomial\")\n",
    "summary(model.mw.cogall)\n",
    "```\n",
    "```"
   ]
  },
  {
   "cell_type": "code",
   "execution_count": 9,
   "id": "379f5abf-7708-4c45-8485-b6c536214806",
   "metadata": {
    "editable": true,
    "slideshow": {
     "slide_type": ""
    },
    "tags": [
     "remove-input"
    ]
   },
   "outputs": [
    {
     "data": {
      "text/html": [
       "\n",
       "  <style>\n",
       "  .quiz-question {\n",
       "      background-color: #6c63ff;\n",
       "      color: white;\n",
       "      padding: 12px;\n",
       "      border-radius: 10px;\n",
       "      font-weight: bold;\n",
       "      font-size: 1.2em;\n",
       "      margin-bottom: 10px;\n",
       "  }\n",
       "\n",
       "  .quiz-form {\n",
       "      margin-bottom: 20px;\n",
       "  }\n",
       "\n",
       "  .quiz-answer {\n",
       "      display: block;\n",
       "      background-color: #f2f2f2;\n",
       "      border: none;\n",
       "      border-radius: 10px;\n",
       "      padding: 10px;\n",
       "      margin: 5px 0;\n",
       "      font-size: 1em;\n",
       "      cursor: pointer;\n",
       "      text-align: left;\n",
       "      transition: background-color 0.3s;\n",
       "      width: 100%;\n",
       "  }\n",
       "\n",
       "  .quiz-answer:hover {\n",
       "      background-color: #e0e0e0;\n",
       "  }\n",
       "\n",
       "  .correct {\n",
       "      background-color: #4CAF50 !important;\n",
       "      color: white !important;\n",
       "      border: none;\n",
       "  }\n",
       "\n",
       "  .incorrect {\n",
       "      background-color: #D32F2F !important;\n",
       "      color: white !important;\n",
       "      border: none;\n",
       "  }\n",
       "\n",
       "  .feedback {\n",
       "      margin-top: 10px;\n",
       "      font-weight: bold;\n",
       "      font-size: 1em;\n",
       "  }\n",
       "  </style>\n",
       "\n",
       "  <script>\n",
       "  function handleAnswer(qid, aid, feedback, isCorrect) {\n",
       "      let buttons = document.querySelectorAll(\".\" + qid);\n",
       "      buttons.forEach(btn => {\n",
       "          btn.classList.remove(\"correct\", \"incorrect\");\n",
       "      });\n",
       "\n",
       "      let selected = document.getElementById(aid);\n",
       "      if (selected) {\n",
       "        selected.classList.add(isCorrect ? \"correct\" : \"incorrect\");\n",
       "      }\n",
       "\n",
       "      let feedbackBox = document.getElementById(\"feedback_\" + qid);\n",
       "      if (feedbackBox) {\n",
       "        feedbackBox.innerHTML = feedback;\n",
       "        feedbackBox.style.color = isCorrect ? \"green\" : \"red\";\n",
       "      }\n",
       "  }\n",
       "  </script>\n",
       "  <div class=\"quiz-question\">Which cognitive tests significantly influence mental well being? Select all that apply</div><form class=\"quiz-form\"><button type=\"button\" class=\"quiz-answer quiz_q1\" id=\"quiz_q1_a1\"\n",
       "         onclick=\"handleAnswer('quiz_q1', 'quiz_q1_a1', 'Correct.', true)\">\n",
       "         Cognition A</button><button type=\"button\" class=\"quiz-answer quiz_q1\" id=\"quiz_q1_a2\"\n",
       "         onclick=\"handleAnswer('quiz_q1', 'quiz_q1_a2', 'Incorrect.', false)\">\n",
       "         Cognition B</button><button type=\"button\" class=\"quiz-answer quiz_q1\" id=\"quiz_q1_a3\"\n",
       "         onclick=\"handleAnswer('quiz_q1', 'quiz_q1_a3', 'Incorrect.', false)\">\n",
       "         Cognition C</button><button type=\"button\" class=\"quiz-answer quiz_q1\" id=\"quiz_q1_a4\"\n",
       "         onclick=\"handleAnswer('quiz_q1', 'quiz_q1_a4', 'Incorrect.', false)\">\n",
       "         None</button><div class=\"feedback\" id=\"feedback_quiz_q1\"></div>\n",
       "       <button type=\"submit\" style=\"position:absolute; left:-9999px; width:1px; height:1px; overflow:hidden;\">\n",
       "         Submit\n",
       "       </button>\n",
       "       </form><hr><div class=\"quiz-question\">Which cognitive tests are associated with increasing mental well being from low to high? You can ignore whether they are significant or not. Select all that apply.</div><form class=\"quiz-form\"><button type=\"button\" class=\"quiz-answer quiz_q2\" id=\"quiz_q2_a1\"\n",
       "         onclick=\"handleAnswer('quiz_q2', 'quiz_q2_a1', 'Incorrect.', false)\">\n",
       "         Cognition A</button><button type=\"button\" class=\"quiz-answer quiz_q2\" id=\"quiz_q2_a2\"\n",
       "         onclick=\"handleAnswer('quiz_q2', 'quiz_q2_a2', 'Correct.', true)\">\n",
       "         Cognition B</button><button type=\"button\" class=\"quiz-answer quiz_q2\" id=\"quiz_q2_a3\"\n",
       "         onclick=\"handleAnswer('quiz_q2', 'quiz_q2_a3', 'Incorrect.', false)\">\n",
       "         Cognition C</button><button type=\"button\" class=\"quiz-answer quiz_q2\" id=\"quiz_q2_a4\"\n",
       "         onclick=\"handleAnswer('quiz_q2', 'quiz_q2_a4', 'Incorrect.', false)\">\n",
       "         None</button><div class=\"feedback\" id=\"feedback_quiz_q2\"></div>\n",
       "       <button type=\"submit\" style=\"position:absolute; left:-9999px; width:1px; height:1px; overflow:hidden;\">\n",
       "         Submit\n",
       "       </button>\n",
       "       </form><hr><div class=\"quiz-question\">What is the intepretation of the coefficient for each cognition test?</div><form class=\"quiz-form\"><button type=\"button\" class=\"quiz-answer quiz_q3\" id=\"quiz_q3_a1\"\n",
       "         onclick=\"handleAnswer('quiz_q3', 'quiz_q3_a1', 'Incorrect.', false)\">\n",
       "         It represents the change in cognitive score needed to go from low mental well being to high mental well being.</button><button type=\"button\" class=\"quiz-answer quiz_q3\" id=\"quiz_q3_a2\"\n",
       "         onclick=\"handleAnswer('quiz_q3', 'quiz_q3_a2', 'Incorrect.', false)\">\n",
       "         It represents the change in cognitive score needed to go from high mental well being to low mental well being.</button><button type=\"button\" class=\"quiz-answer quiz_q3\" id=\"quiz_q3_a3\"\n",
       "         onclick=\"handleAnswer('quiz_q3', 'quiz_q3_a3', 'Incorrect.', false)\">\n",
       "         It represents the log odds ratio of change in mental wellbeing from low to high per one point on the cognitive test.</button><button type=\"button\" class=\"quiz-answer quiz_q3\" id=\"quiz_q3_a4\"\n",
       "         onclick=\"handleAnswer('quiz_q3', 'quiz_q3_a4', 'Correct.', true)\">\n",
       "         It represents the log odds ratio of change in mental wellbeing from high to low per one point on the cognitive test.</button><div class=\"feedback\" id=\"feedback_quiz_q3\"></div>\n",
       "       <button type=\"submit\" style=\"position:absolute; left:-9999px; width:1px; height:1px; overflow:hidden;\">\n",
       "         Submit\n",
       "       </button>\n",
       "       </form><hr>"
      ]
     },
     "metadata": {},
     "output_type": "display_data"
    }
   ],
   "source": [
    "# Call the function to display quiz interactively:\n",
    "source(\"../../R_functions/quiz_renderer.R\")\n",
    "show_quiz_from_json(\"questions/expanding_mixed_effect_models_2.json\")"
   ]
  },
  {
   "cell_type": "markdown",
   "id": "6269603c-1623-4828-bb37-a24c0ed74005",
   "metadata": {
    "editable": true,
    "slideshow": {
     "slide_type": ""
    },
    "tags": []
   },
   "source": [
    "3.  Does physical well being improve over the course of the study?"
   ]
  },
  {
   "cell_type": "markdown",
   "id": "e5f19cb7-5151-45d0-b39e-6d7ef8b7ed99",
   "metadata": {
    "editable": true,
    "slideshow": {
     "slide_type": ""
    },
    "tags": []
   },
   "source": [
    "```{admonition} Solution\n",
    ":class: dropdown\n",
    "``` R\n",
    "model.pw<-glmer(PhysicalWellbeing ~ VisitNum +(1|ID), data = cogDat, family = \"binomial\")\n",
    "summary(model.pw)\n",
    "```\n",
    "```"
   ]
  },
  {
   "cell_type": "code",
   "execution_count": 10,
   "id": "c3a0f605-bebd-400f-ad81-5397de26f42b",
   "metadata": {
    "editable": true,
    "slideshow": {
     "slide_type": ""
    },
    "tags": [
     "remove-input"
    ]
   },
   "outputs": [
    {
     "data": {
      "text/html": [
       "\n",
       "  <style>\n",
       "  .quiz-question {\n",
       "      background-color: #6c63ff;\n",
       "      color: white;\n",
       "      padding: 12px;\n",
       "      border-radius: 10px;\n",
       "      font-weight: bold;\n",
       "      font-size: 1.2em;\n",
       "      margin-bottom: 10px;\n",
       "  }\n",
       "\n",
       "  .quiz-form {\n",
       "      margin-bottom: 20px;\n",
       "  }\n",
       "\n",
       "  .quiz-answer {\n",
       "      display: block;\n",
       "      background-color: #f2f2f2;\n",
       "      border: none;\n",
       "      border-radius: 10px;\n",
       "      padding: 10px;\n",
       "      margin: 5px 0;\n",
       "      font-size: 1em;\n",
       "      cursor: pointer;\n",
       "      text-align: left;\n",
       "      transition: background-color 0.3s;\n",
       "      width: 100%;\n",
       "  }\n",
       "\n",
       "  .quiz-answer:hover {\n",
       "      background-color: #e0e0e0;\n",
       "  }\n",
       "\n",
       "  .correct {\n",
       "      background-color: #4CAF50 !important;\n",
       "      color: white !important;\n",
       "      border: none;\n",
       "  }\n",
       "\n",
       "  .incorrect {\n",
       "      background-color: #D32F2F !important;\n",
       "      color: white !important;\n",
       "      border: none;\n",
       "  }\n",
       "\n",
       "  .feedback {\n",
       "      margin-top: 10px;\n",
       "      font-weight: bold;\n",
       "      font-size: 1em;\n",
       "  }\n",
       "  </style>\n",
       "\n",
       "  <script>\n",
       "  function handleAnswer(qid, aid, feedback, isCorrect) {\n",
       "      let buttons = document.querySelectorAll(\".\" + qid);\n",
       "      buttons.forEach(btn => {\n",
       "          btn.classList.remove(\"correct\", \"incorrect\");\n",
       "      });\n",
       "\n",
       "      let selected = document.getElementById(aid);\n",
       "      if (selected) {\n",
       "        selected.classList.add(isCorrect ? \"correct\" : \"incorrect\");\n",
       "      }\n",
       "\n",
       "      let feedbackBox = document.getElementById(\"feedback_\" + qid);\n",
       "      if (feedbackBox) {\n",
       "        feedbackBox.innerHTML = feedback;\n",
       "        feedbackBox.style.color = isCorrect ? \"green\" : \"red\";\n",
       "      }\n",
       "  }\n",
       "  </script>\n",
       "  <div class=\"quiz-question\">Does physical well being improve over the course of the study?</div><form class=\"quiz-form\"><button type=\"button\" class=\"quiz-answer quiz_q1\" id=\"quiz_q1_a1\"\n",
       "         onclick=\"handleAnswer('quiz_q1', 'quiz_q1_a1', 'Incorrect.', false)\">\n",
       "         Yes but not significantly</button><button type=\"button\" class=\"quiz-answer quiz_q1\" id=\"quiz_q1_a2\"\n",
       "         onclick=\"handleAnswer('quiz_q1', 'quiz_q1_a2', 'Incorrect.', false)\">\n",
       "         Yes there is a significant increase in physical wellbeing.</button><button type=\"button\" class=\"quiz-answer quiz_q1\" id=\"quiz_q1_a3\"\n",
       "         onclick=\"handleAnswer('quiz_q1', 'quiz_q1_a3', 'correct.', true)\">\n",
       "         No but not significantly</button><button type=\"button\" class=\"quiz-answer quiz_q1\" id=\"quiz_q1_a4\"\n",
       "         onclick=\"handleAnswer('quiz_q1', 'quiz_q1_a4', 'Incorrect.', false)\">\n",
       "         No there is a significant decrease in physical wellbeing.</button><div class=\"feedback\" id=\"feedback_quiz_q1\"></div>\n",
       "       <button type=\"submit\" style=\"position:absolute; left:-9999px; width:1px; height:1px; overflow:hidden;\">\n",
       "         Submit\n",
       "       </button>\n",
       "       </form><hr>"
      ]
     },
     "metadata": {},
     "output_type": "display_data"
    }
   ],
   "source": [
    "# Call the function to display quiz interactively:\n",
    "source(\"../../R_functions/quiz_renderer.R\")\n",
    "show_quiz_from_json(\"questions/expanding_mixed_effect_models_3.json\")"
   ]
  },
  {
   "cell_type": "code",
   "execution_count": null,
   "id": "f2279bd5-1bcb-4c11-87eb-df475b177a9b",
   "metadata": {
    "editable": true,
    "slideshow": {
     "slide_type": ""
    },
    "tags": []
   },
   "outputs": [],
   "source": []
  }
 ],
 "metadata": {
  "kernelspec": {
   "display_name": "R",
   "language": "R",
   "name": "ir"
  },
  "language_info": {
   "codemirror_mode": "r",
   "file_extension": ".r",
   "mimetype": "text/x-r-source",
   "name": "R",
   "pygments_lexer": "r",
   "version": "4.3.3"
  }
 },
 "nbformat": 4,
 "nbformat_minor": 5
}
