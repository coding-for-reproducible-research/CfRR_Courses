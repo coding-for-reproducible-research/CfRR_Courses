{
 "cells": [
  {
   "cell_type": "markdown",
   "id": "6b4844a6-c8c3-4fa5-a3df-575c45039041",
   "metadata": {
    "editable": true,
    "slideshow": {
     "slide_type": ""
    },
    "tags": []
   },
   "source": [
    "# Summary\n",
    "\n",
    "In this session we have covered a number of concepts:\n",
    "\n",
    "* An overview of multi-level models\n",
    "* How to fit a multi level model in R\n",
    "* What the regression coefficients represent in a multi-level model\n",
    "\n",
    "\n",
    "We have also covered the role of interaction terms in regression analysis and how to code them. "
   ]
  },
  {
   "cell_type": "code",
   "execution_count": null,
   "id": "bedbe62c-d5bb-4161-a5f0-46b145be26ad",
   "metadata": {
    "editable": true,
    "slideshow": {
     "slide_type": ""
    },
    "tags": []
   },
   "outputs": [],
   "source": []
  }
 ],
 "metadata": {
  "kernelspec": {
   "display_name": "R",
   "language": "R",
   "name": "ir"
  },
  "language_info": {
   "codemirror_mode": "r",
   "file_extension": ".r",
   "mimetype": "text/x-r-source",
   "name": "R",
   "pygments_lexer": "r",
   "version": "4.3.3"
  }
 },
 "nbformat": 4,
 "nbformat_minor": 5
}
