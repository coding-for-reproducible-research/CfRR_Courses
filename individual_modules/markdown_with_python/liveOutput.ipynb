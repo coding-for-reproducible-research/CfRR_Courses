{
 "cells": [
  {
   "cell_type": "markdown",
   "id": "240dfb4a-2234-489b-89ed-1d60c07dfe5c",
   "metadata": {},
   "source": [
    "# Introduction"
   ]
  },
  {
   "cell_type": "code",
   "execution_count": null,
   "id": "df768551-afd7-436a-9c60-457f60ffcc9e",
   "metadata": {},
   "outputs": [],
   "source": [
    "print(\"This is my Research Report!\")"
   ]
  },
  {
   "cell_type": "markdown",
   "id": "e3e439fd-c956-4afd-ae0b-a037d3f42297",
   "metadata": {},
   "source": [
    "# Methods"
   ]
  },
  {
   "cell_type": "markdown",
   "id": "be441b6f-e7de-437d-8e75-e607f7267eaf",
   "metadata": {},
   "source": [
    "1. Open JupyterLab\n",
    "2. Creade a Jupyter Notebook\n",
    "3. Start typing"
   ]
  },
  {
   "cell_type": "markdown",
   "id": "5bf438c9-aa9e-4c88-8663-dcc45c79a7d3",
   "metadata": {},
   "source": [
    "# Results"
   ]
  },
  {
   "cell_type": "code",
   "execution_count": null,
   "id": "16fdfc09-84e6-4a5a-9bea-ec24e7378bc7",
   "metadata": {},
   "outputs": [],
   "source": [
    "import matplotlib.pyplot as plt\n",
    "# might have to run: pip install matplotlib in the terminal\n",
    "\n",
    "# Sample data\n",
    "x = [1, 2, 3, 4, 5]\n",
    "y = [2, 4, 6, 8, 10]\n",
    "\n",
    "# Create a line plot\n",
    "plt.plot(x, y)\n",
    "\n",
    "# Add labels and title\n",
    "plt.xlabel('X-axis')\n",
    "plt.ylabel('Y-axis')\n",
    "plt.title('Basic Line Plot')\n",
    "\n",
    "# Show the plot\n",
    "plt.show()"
   ]
  },
  {
   "cell_type": "code",
   "execution_count": null,
   "id": "322eb9dc-5f35-454d-9e71-19ad249f859a",
   "metadata": {},
   "outputs": [],
   "source": [
    "import plotly.express as px\n",
    "import pandas as pd\n",
    "\n",
    "# Sample data\n",
    "df = pd.DataFrame({\n",
    "    \"Year\": [2018, 2019, 2020, 2021, 2022],\n",
    "    \"Sales\": [100, 150, 200, 180, 220]\n",
    "})\n",
    "\n",
    "# Create interactive line plot\n",
    "fig = px.line(df, x=\"Year\", y=\"Sales\", title=\"Sales Over Time\", markers=True)\n",
    "fig.show()\n"
   ]
  },
  {
   "cell_type": "code",
   "execution_count": null,
   "id": "0489633f-4d95-4cf9-9ffc-0846672df1ac",
   "metadata": {},
   "outputs": [],
   "source": [
    "import pandas as pd"
   ]
  },
  {
   "cell_type": "code",
   "execution_count": null,
   "id": "6de39751-c3a8-497f-9e5d-1999c53f1b77",
   "metadata": {},
   "outputs": [],
   "source": [
    "!pip install plotly pandas"
   ]
  },
  {
   "cell_type": "code",
   "execution_count": null,
   "id": "ae1068cb-1ceb-44f9-89fc-5e64a7b38cf5",
   "metadata": {},
   "outputs": [],
   "source": [
    "import plotly.express as px\n",
    "import pandas as pd\n",
    "\n",
    "# Sample data\n",
    "df = pd.DataFrame({\n",
    "    \"Year\": [2018, 2019, 2020, 2021, 2022],\n",
    "    \"Sales\": [100, 150, 200, 180, 220]\n",
    "})\n",
    "\n",
    "# Create interactive line plot\n",
    "fig = px.line(df, x=\"Year\", y=\"Sales\", title=\"Sales Over Time\", markers=True)\n",
    "fig.show()"
   ]
  },
  {
   "cell_type": "code",
   "execution_count": null,
   "id": "a95fea8f-a39c-4a10-8302-a08beeb31181",
   "metadata": {},
   "outputs": [],
   "source": [
    "!pip install ipywidgets"
   ]
  },
  {
   "cell_type": "code",
   "execution_count": null,
   "id": "0769a722-1a50-449d-9126-c7293af1a62a",
   "metadata": {},
   "outputs": [],
   "source": [
    "import numpy as np\n",
    "import matplotlib.pyplot as plt\n",
    "import ipywidgets as widgets\n",
    "from ipywidgets import interact\n",
    "\n",
    "# Function to plot data\n",
    "def plot_graph(x_max):\n",
    "    # Generate x values and compute y values\n",
    "    x = np.linspace(0, x_max, 100)\n",
    "    y = np.sin(x)\n",
    "\n",
    "    # Create the plot\n",
    "    plt.plot(x, y, label=f\"sin(x), x_max = {x_max}\")\n",
    "    plt.xlabel('X')\n",
    "    plt.ylabel('Y')\n",
    "    plt.title('Interactive Plot of sin(x)')\n",
    "    plt.legend()\n",
    "    plt.grid(True)\n",
    "    plt.show()\n",
    "\n",
    "# Create an interactive slider widget for adjusting the x_max value\n",
    "interact(plot_graph, x_max=widgets.IntSlider(min=1, max=20, step=1, value=10))\n"
   ]
  },
  {
   "cell_type": "code",
   "execution_count": null,
   "id": "b30d8410-4569-422a-9f11-597331f6d6dd",
   "metadata": {},
   "outputs": [],
   "source": []
  }
 ],
 "metadata": {
  "kernelspec": {
   "display_name": "Python 3 (ipykernel)",
   "language": "python",
   "name": "python3"
  },
  "language_info": {
   "codemirror_mode": {
    "name": "ipython",
    "version": 3
   },
   "file_extension": ".py",
   "mimetype": "text/x-python",
   "name": "python",
   "nbconvert_exporter": "python",
   "pygments_lexer": "ipython3",
   "version": "3.9.19"
  }
 },
 "nbformat": 4,
 "nbformat_minor": 5
}
