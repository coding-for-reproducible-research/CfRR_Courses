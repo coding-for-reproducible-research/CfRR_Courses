{
 "cells": [
  {
   "cell_type": "markdown",
   "id": "e4b1e514-84f5-4654-8b70-41a9e94f07f0",
   "metadata": {
    "editable": true,
    "slideshow": {
     "slide_type": ""
    },
    "tags": []
   },
   "source": [
    "# Performant Code \n",
    "\n",
    "## Learning Objectives \n",
    "- Understand basic strategies for writing high-performance Julia code \n",
    "- Learn about type stability and why it's important for performance \n",
    "- Recognise the impact of global variables on performance and how to avoid them \n",
    "- Appreciate the benefit of using built-in functions and vectorised operations for optimisation \n",
    "- Choose appropriate data structures for a task to improve performance \n",
    "- Understand memory management techniques (like avoiding unnecessary copies) to write efficient code \n",
    "- Measure running time and memory allocation of code and identify bottlenecks using simple tools \n",
    "\n",
    "One of Julia's major appeals is performance. You can often write code in Julia that is both high-level and also runs nearly as fast as lower-level languages. However, to fully unlock this performance, it's good to be aware of a few tips and practices. Within this lesson, we are going to introduce some key concepts: type stability, avoiding globals, using efficient approaches, and basic profiling/timing.\n",
    "\n",
    "## Overview of Performance Tuning Strategies \n",
    "- Performance tuning in Julia often comes down to writing code that is easy for the compiler to optimise, which includes: \n",
    "- Ensuring computations are type-stable: the types of variables don't change unpredictably. \n",
    "- Avoiding global variables in tight loops or computations: use functions to encapsulate logic. \n",
    "- Utilising Julias vectorised (broadcast) operations and built-in functions, which are highly optimised, instead of manually looping in an inefficient way. \n",
    "- Choose the right data structure, e.g. using arrays, tuples, and dictionaries appropriately. \n",
    "- Reducing memory allocations when possible, for example, by modifying data in place or using views for subarrays instead of making copies. \n",
    "- Measuring and profiling to find where the time is actually being spent, so you can optimise where it matters.\n",
    "\n",
    "## Efficient Julia Code \n",
    "\n",
    "### Type Stability \n",
    "\n",
    "A function is type-stable if the type of its output can be determined from the types of its inputs, **without having to run the function**. This means that you need to: \n",
    "- pass inputs of known types into the function, \n",
    "- the compiler can predict what **type** the result will be.\n",
    "\n",
    "Example of a type-stable function: \n",
    "\n",
    "```Julia\n",
    "function add(x::Float64, y::Float64)\n",
    "    return x + y\n",
    "end\n",
    "```\n",
    "For the function above:\n",
    "- If you give two `Float64`s, the result is always a `Float64`.\n",
    "- The compiler **knows this immediately**.\n",
    "\n",
    "Example of a type-unstable function: \n",
    "```Julia\n",
    "function maybe_add(x, y)\n",
    "    if rand() > 0.5\n",
    "        return x + y\n",
    "    else\n",
    "        return string(x, y)\n",
    "    end\n",
    "end\n",
    "```\n",
    "- Sometimes it returns a **number**, sometimes a **String**. \n",
    "- The compiler **Can't predict** the output type just from the input types. \n",
    "- This forces Julia to **insert expensive type checks** at runtime. \n",
    "\n",
    "This then raises the question of **Does specifying types in function signatures improve performance?** Where the answer is: No, Julia specialises in methods on the concrete types it actually sees, even without annotations. Type annotations in signatures mainly help with dispatch, readability, and documentation; they rarely affect raw speed except in rare corner cases, as discussed within the [Julia documentation](https://docs.julialang.org/en/v1/manual/functions/#Argument-type-declarations).\n",
    "\n",
    "Specifying types such as: \n",
    "\n",
    "```Julia \n",
    "function myfun(x::Float64)\n",
    "    ...\n",
    "end\n",
    "```\n",
    "\n",
    "It will not automatically make the code faster. The reason for this is: \n",
    "Julia **compiles specialised versions of functions for the types it sees anyway**, even if you didn't specify types.\n",
    "What matters for performance is **what happens inside the function** - are the types predictable?\n",
    "\n",
    "**You can write a function with no type annotations** but still make it very fast if the output type is **predictable**. \n",
    "\n",
    "The rule of thumb is:\n",
    "- Specifying types at the function input is good for readability, documentation, dispatch (method choices)\n",
    "- Type stability inside the function is crucial for performance.\n",
    "\n",
    "You can use: \n",
    "```Julia \n",
    "@code_warntype your_function(args)\n",
    "```\n",
    "\n",
    "**An aside on macros**: In Julia, **macros** are special functions that operate on your *code* itself, rather than on the *values* your code produces. They run at **compile** time, transforming expressions before any actual execution happens. That means you can **generate boilerplate** code automatically (e.g. logging) or **inject** or **wrap** user code with additional checks or timings. You invoke a macro by prefixing its name with `@` and then supplying the target expression (often a function call) in parentheses, as done above for `@code_warntype`.\n",
    "\n",
    "To check if a function is type-stable. It will show **orange** (or **red**) types if Julia can not predict types.\n",
    "\n",
    "#### Type-Stable Function: `add`"
   ]
  },
  {
   "cell_type": "code",
   "execution_count": 1,
   "id": "6774d2f5-68a9-4130-a66c-ce4d486eaa46",
   "metadata": {
    "editable": true,
    "slideshow": {
     "slide_type": ""
    },
    "tags": []
   },
   "outputs": [
    {
     "name": "stdout",
     "output_type": "stream",
     "text": [
      "MethodInstance for add(::Float64, ::Float64)\n",
      "  from add(\u001b[90mx\u001b[39m::\u001b[1mFloat64\u001b[22m, \u001b[90my\u001b[39m::\u001b[1mFloat64\u001b[22m)\u001b[90m @\u001b[39m \u001b[90mMain\u001b[39m \u001b[90m\u001b[4mIn[1]:1\u001b[24m\u001b[39m\n",
      "Arguments\n",
      "  #self#\u001b[36m::Core.Const(Main.add)\u001b[39m\n",
      "  x\u001b[36m::Float64\u001b[39m\n",
      "  y\u001b[36m::Float64\u001b[39m\n",
      "Body\u001b[36m::Float64\u001b[39m\n",
      "\u001b[90m1 ─\u001b[39m %1 = Main.:+\u001b[36m::Core.Const(+)\u001b[39m\n",
      "\u001b[90m│  \u001b[39m %2 = (%1)(x, y)\u001b[36m::Float64\u001b[39m\n",
      "\u001b[90m└──\u001b[39m      return %2\n",
      "\n"
     ]
    }
   ],
   "source": [
    "function add(x::Float64, y::Float64)\n",
    "    return x + y\n",
    "end\n",
    "\n",
    "@code_warntype add(1.0, 2.0)"
   ]
  },
  {
   "cell_type": "markdown",
   "id": "cb7cb0fa-033e-43ef-8d40-b19814783f4d",
   "metadata": {
    "editable": true,
    "slideshow": {
     "slide_type": ""
    },
    "tags": []
   },
   "source": [
    "Above, you can see a type-stable function `add`. The output from `@code_warntype` shows that the output will be a `Float64`; all the variable types are clearly inferred, and there are no concerning red or yellow types. Given two `Float64` arguments, the output is preddictably a `Float64`. Julia can compile optimised machine code with no dynamic checks, which is the ideal case for performance. \n",
    "\n",
    "#### Mildly Type-Unstable Function: `maybe_divide`"
   ]
  },
  {
   "cell_type": "code",
   "execution_count": 2,
   "id": "73b60474-2ac4-41f3-8de3-209df56db246",
   "metadata": {
    "editable": true,
    "slideshow": {
     "slide_type": ""
    },
    "tags": []
   },
   "outputs": [
    {
     "name": "stdout",
     "output_type": "stream",
     "text": [
      "MethodInstance for maybe_divide(::Float64, ::Float64)\n",
      "  from maybe_divide(\u001b[90mx\u001b[39m, \u001b[90my\u001b[39m)\u001b[90m @\u001b[39m \u001b[90mMain\u001b[39m \u001b[90m\u001b[4mIn[2]:1\u001b[24m\u001b[39m\n",
      "Arguments\n",
      "  #self#\u001b[36m::Core.Const(Main.maybe_divide)\u001b[39m\n",
      "  x\u001b[36m::Float64\u001b[39m\n",
      "  y\u001b[36m::Float64\u001b[39m\n",
      "Body\u001b[33m\u001b[1m::Union{Nothing, Float64}\u001b[22m\u001b[39m\n",
      "\u001b[90m1 ─\u001b[39m %1 = Main.:>\u001b[36m::Core.Const(>)\u001b[39m\n",
      "\u001b[90m│  \u001b[39m %2 = (%1)(x, y)\u001b[36m::Bool\u001b[39m\n",
      "\u001b[90m└──\u001b[39m      goto #3 if not %2\n",
      "\u001b[90m2 ─\u001b[39m %4 = Main.:/\u001b[36m::Core.Const(/)\u001b[39m\n",
      "\u001b[90m│  \u001b[39m %5 = (%4)(x, y)\u001b[36m::Float64\u001b[39m\n",
      "\u001b[90m└──\u001b[39m      return %5\n",
      "\u001b[90m3 ─\u001b[39m %7 = Main.nothing\u001b[36m::Core.Const(nothing)\u001b[39m\n",
      "\u001b[90m└──\u001b[39m      return %7\n",
      "\n"
     ]
    }
   ],
   "source": [
    "function maybe_divide(x, y)\n",
    "    x > y ? x / y : nothing\n",
    "end\n",
    "\n",
    "@code_warntype maybe_divide(4.0, 2.0)"
   ]
  },
  {
   "cell_type": "markdown",
   "id": "d63fc808-7a5f-4c87-a589-9ed986ac4642",
   "metadata": {
    "editable": true,
    "slideshow": {
     "slide_type": ""
    },
    "tags": []
   },
   "source": [
    "Above, you can see the mildly type-unstable function `maybe_divide`. In the `@code_warntype maybe_divide(4.0, 2.0)` output, the return slot is highlighted in yellow as `Body::Union{Nothing, Float64}`, indicating Julia infers a union of `Float64` and `Nothing`. Because `maybe_divide` may either compute `x` / `y` (yielding a `Float64`) or return `nothing`, the compiler can’t predict a single concrete return type. At runtime, Julia must handle both possibilities via branching and dynamic dispatch, incurring boxing and method‐lookup overhead that hurts performance compared to a fully type-stable function.\n",
    "\n",
    "#### Severely Type-Unstable Function: `bad_sum`"
   ]
  },
  {
   "cell_type": "code",
   "execution_count": 3,
   "id": "8a983d81-c60f-4f63-87ef-ddfa26ef27e1",
   "metadata": {
    "editable": true,
    "slideshow": {
     "slide_type": ""
    },
    "tags": []
   },
   "outputs": [
    {
     "name": "stdout",
     "output_type": "stream",
     "text": [
      "MethodInstance for get_first(::Vector{Any})\n",
      "  from get_first(\u001b[90mx\u001b[39m)\u001b[90m @\u001b[39m \u001b[90mMain\u001b[39m \u001b[90m\u001b[4mIn[3]:1\u001b[24m\u001b[39m\n",
      "Arguments\n",
      "  #self#\u001b[36m::Core.Const(Main.get_first)\u001b[39m\n",
      "  x\u001b[36m::Vector{Any}\u001b[39m\n",
      "Body\u001b[91m\u001b[1m::Any\u001b[22m\u001b[39m\n",
      "\u001b[90m1 ─\u001b[39m %1 = Base.getindex(x, 1)\u001b[91m\u001b[1m::Any\u001b[22m\u001b[39m\n",
      "\u001b[90m└──\u001b[39m      return %1\n",
      "\n"
     ]
    }
   ],
   "source": [
    "function get_first(x)\n",
    "    x[1]\n",
    "end\n",
    "\n",
    "\n",
    "@code_warntype get_first([1, 2.0, \"3\"])\n"
   ]
  },
  {
   "cell_type": "markdown",
   "id": "e7235534-f52f-4e5a-aec2-e550109fb91a",
   "metadata": {
    "editable": true,
    "slideshow": {
     "slide_type": ""
    },
    "tags": []
   },
   "source": [
    "Above, you can see a severely type-unstable function, `get_first(x)`. The crucial line is `Body::Any` highlighted in **red**, indicating Julia can only infer that the return value is of type Any. As the input vector is a `Vector{Any}`, Julia has no way to know at compile time what type `x[1]` will be. As a result, **dynamic dispatch occurs on every call, and the returned element is **boxed** as `Any`, resulting in a number of runtime type-checks and heap allocations. Boxing values means they are stored in the heap with additional type information rather than directly in registers. Together, this dramatically degrades performance when compared with using a concrete container (e.g. `Vector{Int}`), where the return type can be fully inferred, due to slower memory access, dynamic type checks, and an increased overhead of garbage collection. \n",
    "\n",
    "One thing of note is that if we had modified the call to `get_first`, to be:"
   ]
  },
  {
   "cell_type": "code",
   "execution_count": 4,
   "id": "98765f64-fe9e-4783-86c3-ed4ced118194",
   "metadata": {
    "editable": true,
    "slideshow": {
     "slide_type": ""
    },
    "tags": []
   },
   "outputs": [
    {
     "name": "stdout",
     "output_type": "stream",
     "text": [
      "MethodInstance for get_first(::Vector{Int64})\n",
      "  from get_first(\u001b[90mx\u001b[39m)\u001b[90m @\u001b[39m \u001b[90mMain\u001b[39m \u001b[90m\u001b[4mIn[3]:1\u001b[24m\u001b[39m\n",
      "Arguments\n",
      "  #self#\u001b[36m::Core.Const(Main.get_first)\u001b[39m\n",
      "  x\u001b[36m::Vector{Int64}\u001b[39m\n",
      "Body\u001b[36m::Int64\u001b[39m\n",
      "\u001b[90m1 ─\u001b[39m %1 = Base.getindex(x, 1)\u001b[36m::Int64\u001b[39m\n",
      "\u001b[90m└──\u001b[39m      return %1\n",
      "\n"
     ]
    }
   ],
   "source": [
    "@code_warntype get_first([1, 2, 3])"
   ]
  },
  {
   "cell_type": "markdown",
   "id": "bd427676-9f82-4c18-819e-c48146eec910",
   "metadata": {
    "editable": true,
    "slideshow": {
     "slide_type": ""
    },
    "tags": []
   },
   "source": [
    "Here, `get_first` is still technically *type‐unstable* in the abstract sense, because its return type depends entirely on what you pass in, and the compiler can’t know ahead of time what `x[1]` will be. However, in practice, that doesn’t always translate to slow code. The key line, `Body::Int64`, shows **no warnings**: Julia knows that for a `Vector{Int64}`, the first element **must** be an `Int64`, so it emits specialised, fully‐typed code with zero dynamic checks.\n",
    "\n",
    "The takeaway is that the *container’s* element type matters just as much as your function. A function like get_first can be “unstable” in theory, yet still perform optimally whenever you feed it a **concrete‐typed** collection (e.g. `Vector{Int64}`). By contrast, using abstract‐typed containers (e.g. `Vector{Any}`) forces Julia to fall back to dynamic dispatch and boxing. Keeping your collection parameterised over concrete element types is a crucial performance tip in Julia."
   ]
  },
  {
   "cell_type": "markdown",
   "id": "43fd69b6-f834-4f0b-a23c-a79513b6260c",
   "metadata": {
    "editable": true,
    "slideshow": {
     "slide_type": ""
    },
    "tags": []
   },
   "source": [
    "### Avoiding Global variables \n",
    "\n",
    "Julia compiles and optimises function just-in-time (JIT) when you call them, but code that lives in the global scope, such as a top-level loop that uses global variables, cannot be optimised as effectively, since globals might change type or value at any moment. \n",
    "\n",
    "**Best Practice**: encapsulate all performance-critical work inside a function, then invoke those functions from the global scope. By doing so, you ensure the compiler sees only local variables with known, concrete types. \n",
    "\n",
    "For instance, rather than writing at the top level: \n",
    "\n",
    "```julia \n",
    "# Global loop – avoids type instability but still limits optimisation\n",
    "numbers = rand(1000)\n",
    "total = 0.0\n",
    "for x in numbers\n",
    "    total += x\n",
    "end\n",
    "total\n",
    "```\n",
    "\n",
    "You would instead want to define and call a function: \n",
    "\n",
    "```julia \n",
    "function sum_array(arr)\n",
    "    total = 0.0            # local Float64\n",
    "    for x in arr           # x is Float64\n",
    "        total += x\n",
    "    end\n",
    "    return total\n",
    "end\n",
    "\n",
    "numbers = rand(1000)\n",
    "total = sum_array(numbers)\n",
    "```\n",
    "\n",
    "Inside `sum_array`, both `total` and `x` have fixed, known types, allowing the compiler to produce highly optimised code. In the global version, even though `total` is initialised as a `Float64`, its status as a global variable prevents the same level of optimisation. \n",
    "\n",
    "You *can* annotate a globals type:\n",
    "\n",
    "```julia\n",
    "global_total::Float64 = 0.0\n",
    "```\n",
    "\n",
    "To forbid it from ever changing to another type, but this still won't unlock all the optimisations you get inside functions. This is discussed further in the [Julia documentation](https://docs.julialang.org/en/v1/manual/performance-tips/#Avoid-untyped-global-variables).\n",
    "\n",
    "For truly constant values, always declare them with `const` at the global level. \n",
    "\n",
    "```julia \n",
    "const PI = 3.14\n",
    "```\n",
    "\n",
    "This signals to the compiler that `PI` will never change, enabling further speedups. \n",
    "\n"
   ]
  },
  {
   "cell_type": "markdown",
   "id": "d3a33c69-5678-4aaa-8fc7-9a41a23ed639",
   "metadata": {
    "editable": true,
    "slideshow": {
     "slide_type": ""
    },
    "tags": []
   },
   "source": [
    "## Measuring Performance \n",
    "\n",
    "Julia provides some simple macros to measure execution time and memory: \n",
    "- `@time expression` runs `expression` once, printing both execution time (including compilation on the first run) and memory allocated. To see the \"steady-state\" performance (without compile-time overhead), run it a second time. \n",
    "- `@benchmark expression` (from `BenchmarkTools.jl`) runs `expression` many times, automatically \"warming-up\" the function. It reports statistics (min, median, mean, allocations, etc), so you avoid compile-time bias and see true variability. \n",
    "- `@timed expression` returns a `Timing` object containing fields like `time` and `allocs` rather than printing them, so you can programmatically inspect or log those metrics. \n",
    "- `@allocated expression` returns just the number of bytes allocated by running `expression`."
   ]
  },
  {
   "cell_type": "code",
   "execution_count": 5,
   "id": "4c640086-59bd-4a46-ab36-3acaffc42127",
   "metadata": {
    "editable": true,
    "slideshow": {
     "slide_type": ""
    },
    "tags": []
   },
   "outputs": [
    {
     "name": "stdout",
     "output_type": "stream",
     "text": [
      "Method_0 — first run:\n",
      "  2.223694 seconds (499.75 k allocations: 38.744 GiB, 24.08% gc time)\n",
      "Method_0 — second run:\n",
      "  2.480468 seconds (499.75 k allocations: 38.744 GiB, 25.48% gc time)\n",
      "Method_1 — first run:\n",
      "  0.000237 seconds (18 allocations: 1.928 MiB)\n",
      "Method_1 — second run:\n",
      "  0.000172 seconds (18 allocations: 1.928 MiB)\n",
      "Completed\n"
     ]
    }
   ],
   "source": [
    "function method_0(N)\n",
    "   arr = Int[]\n",
    "   for i in 1:N\n",
    "       arr = vcat(arr, Int[i])\n",
    "   end\n",
    "   return sum(arr)\n",
    "end\n",
    "\n",
    "function method_1(N)\n",
    "    arr = Int[]  \n",
    "    for i in 1:N\n",
    "        push!(arr, i)      \n",
    "    end\n",
    "    return sum(arr)        \n",
    "end\n",
    "\n",
    "println(\"Method_0 — first run:\")\n",
    "@time method_0(100_000)\n",
    "\n",
    "println(\"Method_0 — second run:\")\n",
    "@time method_0(100_000)\n",
    "\n",
    "println(\"Method_1 — first run:\")\n",
    "@time method_1(100_000)\n",
    "\n",
    "println(\"Method_1 — second run:\")\n",
    "@time method_1(100_000)\n",
    "\n",
    "println(\"Completed\")"
   ]
  },
  {
   "cell_type": "markdown",
   "id": "7e0d3f92-8960-472e-a03d-07172bbf7732",
   "metadata": {
    "editable": true,
    "slideshow": {
     "slide_type": ""
    },
    "tags": []
   },
   "source": [
    "`method_0` rebuilds the array with `vcat` on every iteration, causing ~500 000 separate heap allocations and copying 38.7 GiB of data. This allocation and garbage-collection overhead dominates its ≈2.2 s runtime on both runs. `method_1` uses `push!` to grow the array incrementally. Thanks to Julia’s amortised resizing strategy, it only incurs 18 allocations totalling ~1.9 Mib, so it finishes in under 0.2 ms. Running `@time` twice shows that **both methods** pay the JIT compilation cost on their first call, but only `method_0` continues to pay massive allocation and GC costs thereafter, whereas `method_1` remains lightning-fast with negligible heap traffic."
   ]
  },
  {
   "cell_type": "markdown",
   "id": "75a40a96-1574-4812-b4d3-a8fe69078761",
   "metadata": {
    "editable": true,
    "slideshow": {
     "slide_type": ""
    },
    "tags": []
   },
   "source": [
    "### Profiling for Bottlenecks \n",
    "\n",
    "If you have a complex program and you want to see where it spends time, you can use the built-in profiler: \n",
    "\n",
    "```Julia \n",
    "using Profile\n",
    "@profiler my_long_running_function()\n",
    "```\n",
    "\n",
    "Then use `Profile.print()` or the `ProfileView.jl` package to analyse the results. Profiling tells you which functions or lines are taking the most time. For simpler cases, you might not need this level of detail.\n",
    "\n",
    "## Vectorised (Broadcast) Operations\n",
    "\n",
    "Julia's \"vectorised\" operation, more accurately, **broadcasted** operations, uses the dot (`.`) syntax to apply an element-wise transformation without writing an explicit loop. Under the hood, broadcasting compiles down to a loop, so there is **no inherent speed advantage** over a well-written `for` loop once both are compiled. For example:\n",
    "\n",
    "```julia\n",
    "julia> function plus1(arr)\n",
    "           result = similar(arr)\n",
    "           for i in eachindex(arr)\n",
    "               result[i] = 1 + arr[i]\n",
    "           end\n",
    "           return result\n",
    "       end\n",
    "plus1 (generic function with 1 method)\n",
    "\n",
    "julia> plus1_vec(arr) = 1 .+ arr\n",
    "plus1_vec (generic function with 1 method)\n",
    "\n",
    "julia> data = rand(1_000_000);\n",
    "\n",
    "julia> @time plus1(data);\n",
    "  0.010614 seconds (4.84 k allocations: 7.962 MiB, 78.82% compilation time)\n",
    "\n",
    "julia> @time plus1(data);  # compilation not included\n",
    "  0.002725 seconds (2 allocations: 7.629 MiB)\n",
    "\n",
    "julia> @time plus1_vec(data);\n",
    "  0.045433 seconds (115.61 k allocations: 15.702 MiB, 95.24% compilation time)\n",
    "\n",
    "julia> @time plus1_vec(data);  # compilation not included\n",
    "  0.002058 seconds (2 allocations: 7.629 MiB)\n",
    "```\n",
    "\n",
    "The **first run** of each function shows significant compilation overhead (high `% compilation time`). The **second run** (after JIT compilation) demonstrates nearly identical execution time (~2ms) and allocations for both `plus1` and `plus1_vec`. This means that `broadcast syntax` (`1 .+ arr`) is primarily syntactic sugar for a loop; it doesn't magically beat an explicit `for` loop. "
   ]
  },
  {
   "cell_type": "markdown",
   "id": "2e7a94e1-157b-4bc3-9ca2-b0795778f422",
   "metadata": {
    "editable": true,
    "slideshow": {
     "slide_type": ""
    },
    "tags": []
   },
   "source": [
    " "
   ]
  },
  {
   "cell_type": "markdown",
   "id": "4d03c63b-cfe2-489f-acdf-0c72ac7def35",
   "metadata": {
    "editable": true,
    "slideshow": {
     "slide_type": ""
    },
    "tags": []
   },
   "source": [
    "### Utilising Built-In Functions\n",
    "Julia's standard library and well-known packages have many optimised routines, which are often implemented in C or using Julia's own optimisations (including multi-threading in some cases). Examples: `sum`, `maximum`, or linear algebra operations (`A * B`) or sorting (`sort`). \n",
    "\n",
    "#### Using Appropriate Data Structures \n",
    "Some key considerations when determining which data structure to use include: \n",
    "- If you need random access to elements by index and the collection will grow/shrink, you require a Vector (`Array`). \n",
    "- If you need to look up values by keys, use a `Dict` instead of searching through an array each time. \n",
    "- If you have a fixed small set of values of heterogenous types, a `Tuple` can be helpful. They are immutable, and their types are part of their identity, making them very efficient for specific uses, like returning multiple values from a function. \n",
    "- If you need stack or queue behaviour, you can still use arrays (with `push!` or `pop!` for the stack and `push!` and `popfirst!` for the queue. \n",
    "- If you have binary data or bits, consider `BitVector` for large boolean arrays that are memory efficient. \n",
    "- For mathematical operations, using native numeric types (`Int`, `Float64`) is faster than arbitrary precisions or rational types, so only use `BigInt`, `BigFloat` and `Rational` when needed. \n",
    "\n",
    "#### Memory Management and Avoiding Unnecessary Allocation \n",
    "\n",
    "In Julia, **memory allocation** of interest refers primarily to **heap allocation**, when your code requests new blocks of memory at runtime. Each allocation incurs overhead (for bookkeeping) and later increases garbage-collection work, which can slow down loops or large-scale data processing. \n",
    "\n",
    "Common sources of excessive allocation include **Type-stability issues**, which force Julia to box values on the heap, and **creating many small temporary arrays**, for example via repeated slicing or non-in-place broadcast, as discussed in the [Julia documentation](https://docs.julialang.org/en/v1/manual/performance-tips/#Measure-performance-with-%5B@time%5D(@ref)-and-pay-attention-to-memory-allocation). \n",
    "\n",
    "Some strategies to cut down heap usage include: \n",
    "**Pre-allocate and reuse arrays** instead of building a new array each iteration:\n",
    "\n",
    "```julia\n",
    "# Bad: allocates a new array inside the loop\n",
    "results = []\n",
    "for i in 1:1000\n",
    "    push!(results, compute(i))\n",
    "end\n",
    "\n",
    "# Good: allocate once, then fill in place\n",
    "results = Vector{Float64}(undef, 1000)\n",
    "for i in 1:1000\n",
    "    results[i] = compute(i)\n",
    "end\n",
    "```\n",
    "\n",
    "**Use views for subarrays** `view(A, 1:10)` creates a lightweight window into `A` without copying its data, avoiding a fresh allocation. \n",
    "\n",
    "**Favour in-place operations** Functions ending in `!` typically modify their arguments rather than returning new objects. \n",
    "\n",
    "```julia \n",
    "sort!(array)    # rearranges in place\n",
    "push!(arr, x)   # grows the same array\n",
    "```\n",
    "\n",
    "**Avoid repeated type conversions inside loops**. Converting values one by one triggers allocations or passing work on each iteration.\n",
    "\n",
    "```julia\n",
    "# Bad: parse inside the loop, resulting in repeated allocations\n",
    "for s in string_numbers\n",
    "    x = parse(Int, s)\n",
    "    process(x)\n",
    "end\n",
    "\n",
    "# Good: convert once, then loop\n",
    "ints = parse.(Int, string_numbers)\n",
    "for x in ints\n",
    "    process(x)\n",
    "end\n",
    "```\n",
    "\n",
    "**Tip**: Use `@time` or @BenchmarkTools.@btime` and watch the \"allocations\" count. You will often spot allocations caused by temporary arrays or type-unstable code. \n",
    "\n",
    "##### Clever Algorithms / Calculations \n",
    "\n",
    "Often, the most considerable speedups come not from micro-optimising memory, but from ROM choosing better algorithms or mathematical shortcuts. For example, instead of summing the first *N* integers in a loop: \n",
    "\n",
    "```julia \n",
    "function sum1(N)\n",
    "    total = 0\n",
    "    for i in 1:N\n",
    "        total += i\n",
    "    end\n",
    "    return total\n",
    "end\n",
    "```\n",
    "\n",
    "You can use the closed-form formula: \n",
    "\n",
    "\n",
    "```julia \n",
    "sum2(N) = N * (N + 1) ÷ 2\n",
    "```\n",
    "\n",
    "Which runs in constant time rather than being based on the size of the input, and allocates no extra memory. Whenever possible, look for algorithmic improvements or analytic formulas before resorting to low-level optimisations. "
   ]
  },
  {
   "cell_type": "markdown",
   "id": "8aab27e0-1f3f-428d-89ac-5ebe345eca9d",
   "metadata": {
    "editable": true,
    "slideshow": {
     "slide_type": ""
    },
    "tags": []
   },
   "source": [
    "## Exercise: Analysing the Performance of Code \n",
    "\n",
    "Given the three functions below, use what we've discussed so far about type stability, allocations, and performance to understand **why they perform differently**.\n",
    "\n",
    "```Julia \n",
    "function method_1(N)\n",
    "    arr = Int[]  \n",
    "    for i in 1:N\n",
    "        push!(arr, i)      \n",
    "    end\n",
    "    return sum(arr)        \n",
    "end\n",
    "\n",
    "function method_2(N)\n",
    "    arr = collect(1:N)    \n",
    "    return sum(arr)\n",
    "end\n",
    "\n",
    "\n",
    "function method_3(N)\n",
    "    return N*(N+1)÷2\n",
    "end\n",
    "```"
   ]
  },
  {
   "cell_type": "markdown",
   "id": "fdce9eb5-592d-41b1-ad9c-83110249a756",
   "metadata": {
    "editable": true,
    "slideshow": {
     "slide_type": ""
    },
    "tags": []
   },
   "source": [
    "# End of Section Quiz"
   ]
  },
  {
   "cell_type": "code",
   "execution_count": 6,
   "id": "66284760-424f-44d7-85c3-342bffb1c98a",
   "metadata": {
    "editable": true,
    "slideshow": {
     "slide_type": ""
    },
    "tags": [
     "remove-input"
    ]
   },
   "outputs": [
    {
     "data": {
      "text/html": [
       "<style>\n",
       ".quiz-question {\n",
       "    background-color: #6c63ff;\n",
       "    color: white;\n",
       "    padding: 12px;\n",
       "    border-radius: 10px;\n",
       "    font-weight: bold;\n",
       "    font-size: 1.2em;\n",
       "    margin-bottom: 10px;\n",
       "}\n",
       "\n",
       ".quiz-form {\n",
       "    margin-bottom: 20px;\n",
       "}\n",
       "\n",
       ".quiz-answer {\n",
       "    display: block;\n",
       "    background-color: #f2f2f2;\n",
       "    border: none;\n",
       "    border-radius: 10px;\n",
       "    padding: 10px;\n",
       "    margin: 5px 0;\n",
       "    font-size: 1em;\n",
       "    cursor: pointer;\n",
       "    text-align: left;\n",
       "    transition: background-color 0.3s;\n",
       "    width: 100%;\n",
       "}\n",
       "\n",
       ".quiz-answer:hover {\n",
       "    background-color: #e0e0e0;\n",
       "}\n",
       "\n",
       ".correct {\n",
       "    background-color: #4CAF50 !important;\n",
       "    color: white !important;\n",
       "    border: none;\n",
       "}\n",
       "\n",
       ".incorrect {\n",
       "    background-color: #D32F2F !important;\n",
       "    color: white !important;\n",
       "    border: none;\n",
       "}\n",
       "\n",
       ".feedback {\n",
       "    margin-top: 10px;\n",
       "    font-weight: bold;\n",
       "    font-size: 1em;\n",
       "}\n",
       "</style>\n",
       "\n",
       "<script>\n",
       "function handleAnswer(qid, aid, feedback, isCorrect) {\n",
       "    // Reset all buttons for the question\n",
       "    let buttons = document.querySelectorAll(\".answer-\" + qid);\n",
       "    buttons.forEach(btn => {\n",
       "        btn.classList.remove('correct', 'incorrect');\n",
       "    });\n",
       "\n",
       "    // Apply correct/incorrect to selected\n",
       "    let selected = document.getElementById(aid);\n",
       "    selected.classList.add(isCorrect ? 'correct' : 'incorrect');\n",
       "\n",
       "    // Show feedback below the question\n",
       "    let feedbackBox = document.getElementById('feedback_' + qid);\n",
       "    feedbackBox.innerHTML = feedback;\n",
       "    feedbackBox.style.color = isCorrect ? 'green' : 'red';\n",
       "}\n",
       "</script>\n",
       "<div class=\"quiz-question\">Which function is recommended for pre-allocating an array of zeros in Julia for better performance?</div><form class=\"quiz-form\"><button type=\"button\" class=\"quiz-answer answer-1\" id=\"q1_a1\"\n",
       "    onclick=\"handleAnswer('1', 'q1_a1', 'Incorrect', false)\">\n",
       "    array_zeros()\n",
       "</button>\n",
       "<button type=\"button\" class=\"quiz-answer answer-1\" id=\"q1_a2\"\n",
       "    onclick=\"handleAnswer('1', 'q1_a2', 'Correct', true)\">\n",
       "    zeros()\n",
       "</button>\n",
       "<button type=\"button\" class=\"quiz-answer answer-1\" id=\"q1_a3\"\n",
       "    onclick=\"handleAnswer('1', 'q1_a3', 'Incorrect', false)\">\n",
       "    preallocate()\n",
       "</button>\n",
       "<button type=\"button\" class=\"quiz-answer answer-1\" id=\"q1_a4\"\n",
       "    onclick=\"handleAnswer('1', 'q1_a4', 'Incorrect', false)\">\n",
       "    fill(0, dims...)\n",
       "</button>\n",
       "<div class=\"feedback\" id=\"feedback_1\"></div></form><hr><div class=\"quiz-question\">In Julia, why should you avoid growing arrays inside a loop without pre-allocation?</div><form class=\"quiz-form\"><button type=\"button\" class=\"quiz-answer answer-2\" id=\"q2_a1\"\n",
       "    onclick=\"handleAnswer('2', 'q2_a1', 'Incorrect', false)\">\n",
       "    It uses too much memory instantly\n",
       "</button>\n",
       "<button type=\"button\" class=\"quiz-answer answer-2\" id=\"q2_a2\"\n",
       "    onclick=\"handleAnswer('2', 'q2_a2', 'Incorrect', false)\">\n",
       "    It causes syntax errors\n",
       "</button>\n",
       "<button type=\"button\" class=\"quiz-answer answer-2\" id=\"q2_a3\"\n",
       "    onclick=\"handleAnswer('2', 'q2_a3', 'Correct', true)\">\n",
       "    It results in repeated memory reallocation, which slows down the code\n",
       "</button>\n",
       "<button type=\"button\" class=\"quiz-answer answer-2\" id=\"q2_a4\"\n",
       "    onclick=\"handleAnswer('2', 'q2_a4', 'Incorrect', false)\">\n",
       "    It leads to incorrect computation results\n",
       "</button>\n",
       "<div class=\"feedback\" id=\"feedback_2\"></div></form><hr><div class=\"quiz-question\">What is a general tip for writing more performant Julia code when using loops?</div><form class=\"quiz-form\"><button type=\"button\" class=\"quiz-answer answer-3\" id=\"q3_a1\"\n",
       "    onclick=\"handleAnswer('3', 'q3_a1', 'Incorrect', false)\">\n",
       "    Always use global variables inside loops\n",
       "</button>\n",
       "<button type=\"button\" class=\"quiz-answer answer-3\" id=\"q3_a2\"\n",
       "    onclick=\"handleAnswer('3', 'q3_a2', 'Correct', true)\">\n",
       "    Minimise memory allocation inside loops\n",
       "</button>\n",
       "<button type=\"button\" class=\"quiz-answer answer-3\" id=\"q3_a3\"\n",
       "    onclick=\"handleAnswer('3', 'q3_a3', 'Incorrect', false)\">\n",
       "    Nest as many loops as possible\n",
       "</button>\n",
       "<button type=\"button\" class=\"quiz-answer answer-3\" id=\"q3_a4\"\n",
       "    onclick=\"handleAnswer('3', 'q3_a4', 'Incorrect', false)\">\n",
       "    Prefer string operations over numerical operations\n",
       "</button>\n",
       "<div class=\"feedback\" id=\"feedback_3\"></div></form><hr>"
      ]
     },
     "metadata": {},
     "output_type": "display_data"
    }
   ],
   "source": [
    "using JSON\n",
    "\n",
    "function show_quiz_from_json(path)\n",
    "    quiz_data = JSON.parsefile(path)\n",
    "\n",
    "    html = \"\"\"\n",
    "    <style>\n",
    "    .quiz-question {\n",
    "        background-color: #6c63ff;\n",
    "        color: white;\n",
    "        padding: 12px;\n",
    "        border-radius: 10px;\n",
    "        font-weight: bold;\n",
    "        font-size: 1.2em;\n",
    "        margin-bottom: 10px;\n",
    "    }\n",
    "\n",
    "    .quiz-form {\n",
    "        margin-bottom: 20px;\n",
    "    }\n",
    "\n",
    "    .quiz-answer {\n",
    "        display: block;\n",
    "        background-color: #f2f2f2;\n",
    "        border: none;\n",
    "        border-radius: 10px;\n",
    "        padding: 10px;\n",
    "        margin: 5px 0;\n",
    "        font-size: 1em;\n",
    "        cursor: pointer;\n",
    "        text-align: left;\n",
    "        transition: background-color 0.3s;\n",
    "        width: 100%;\n",
    "    }\n",
    "\n",
    "    .quiz-answer:hover {\n",
    "        background-color: #e0e0e0;\n",
    "    }\n",
    "\n",
    "    .correct {\n",
    "        background-color: #4CAF50 !important;\n",
    "        color: white !important;\n",
    "        border: none;\n",
    "    }\n",
    "\n",
    "    .incorrect {\n",
    "        background-color: #D32F2F !important;\n",
    "        color: white !important;\n",
    "        border: none;\n",
    "    }\n",
    "\n",
    "    .feedback {\n",
    "        margin-top: 10px;\n",
    "        font-weight: bold;\n",
    "        font-size: 1em;\n",
    "    }\n",
    "    </style>\n",
    "\n",
    "    <script>\n",
    "    function handleAnswer(qid, aid, feedback, isCorrect) {\n",
    "        // Reset all buttons for the question\n",
    "        let buttons = document.querySelectorAll(\".answer-\" + qid);\n",
    "        buttons.forEach(btn => {\n",
    "            btn.classList.remove('correct', 'incorrect');\n",
    "        });\n",
    "\n",
    "        // Apply correct/incorrect to selected\n",
    "        let selected = document.getElementById(aid);\n",
    "        selected.classList.add(isCorrect ? 'correct' : 'incorrect');\n",
    "\n",
    "        // Show feedback below the question\n",
    "        let feedbackBox = document.getElementById('feedback_' + qid);\n",
    "        feedbackBox.innerHTML = feedback;\n",
    "        feedbackBox.style.color = isCorrect ? 'green' : 'red';\n",
    "    }\n",
    "    </script>\n",
    "    \"\"\"\n",
    "\n",
    "    for (i, question) in enumerate(quiz_data)\n",
    "        qid = \"$i\"\n",
    "        html *= \"\"\"<div class=\"quiz-question\">$(question[\"question\"])</div><form class=\"quiz-form\">\"\"\"\n",
    "\n",
    "        for (j, answer) in enumerate(question[\"answers\"])\n",
    "            aid = \"q$(i)_a$(j)\"\n",
    "            feedback = answer[\"feedback\"]\n",
    "            correct = startswith(lowercase(feedback), \"correct\")\n",
    "            html *= \"\"\"\n",
    "            <button type=\"button\" class=\"quiz-answer answer-$qid\" id=\"$aid\"\n",
    "                onclick=\"handleAnswer('$qid', '$aid', '$feedback', $(correct))\">\n",
    "                $(answer[\"answer\"])\n",
    "            </button>\n",
    "            \"\"\"\n",
    "        end\n",
    "\n",
    "        html *= \"\"\"<div class=\"feedback\" id=\"feedback_$qid\"></div></form><hr>\"\"\"\n",
    "    end\n",
    "\n",
    "    display(\"text/html\", html)\n",
    "end\n",
    "\n",
    "\n",
    "# Use the function\n",
    "show_quiz_from_json(\"questions/summary_performant_code.json\")"
   ]
  },
  {
   "cell_type": "code",
   "execution_count": null,
   "id": "e4d5420c-59fa-4b54-bcd4-464a717e482a",
   "metadata": {
    "editable": true,
    "slideshow": {
     "slide_type": ""
    },
    "tags": []
   },
   "outputs": [],
   "source": []
  }
 ],
 "metadata": {
  "kernelspec": {
   "display_name": "Julia 1.11.5",
   "language": "julia",
   "name": "julia-1.11"
  },
  "language_info": {
   "file_extension": ".jl",
   "mimetype": "application/julia",
   "name": "julia",
   "version": "1.11.5"
  }
 },
 "nbformat": 4,
 "nbformat_minor": 5
}
