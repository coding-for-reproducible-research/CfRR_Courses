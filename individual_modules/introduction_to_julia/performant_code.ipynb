{
 "cells": [
  {
   "cell_type": "markdown",
   "id": "e4b1e514-84f5-4654-8b70-41a9e94f07f0",
   "metadata": {
    "editable": true,
    "slideshow": {
     "slide_type": ""
    },
    "tags": []
   },
   "source": [
    "# Performany Code \n",
    "\n",
    "## Learning Objectives \n",
    "- Understand basic strategies for writing high-performance Julia code \n",
    "- Learn about type stability and why it's important for performance \n",
    "- Recognise the impact of global variables on performance and how to avoid them \n",
    "- Appreciate the benefit of using built-in functions and vectorised operations for optimisation \n",
    "- Choose appropriate data structures for a task to improve performance \n",
    "- Understand memory management techniques (like avoiding unnecessary copies) to write efficient code \n",
    "- Measure running time and memory allocation of code and identify bottlenecks using simple tools \n",
    "\n",
    "One of Julia's major appeals is performance. You can often write code in Julia that is both high-level and also runs nearly as fast as lower-level languages. However, to fully unlock this performance, it's good to be aware of a few tips and practices. Within this lesson, we are going to introduce some key concepts: type stability, avoiding globals, using efficient approaches, and basic profiling/timing.\n",
    "\n",
    "## Overview of Performance Tuning. Strategies \n",
    "- Performance tuning in Julia often comes down to writing code that is easy for the compiler to optimise, which includes: \n",
    "- Ensuring computations are type-stable: the types of variables don't change unpredictably. \n",
    "- Avoiding global variables in tight loops or computations: use functions to encapsulate logic. \n",
    "- Utilising Julias vectorised (broadcast) operations and built-in functions, which are highly optimised, instead of manually looping in an inefficient way. \n",
    "- Choose the right data structure, e.g. using arrays, tuples, and dictionaries appropriately. \n",
    "- Reducing memory allocations when possible, for example, by modifying data in place or using views for subarrays instead of making copies. \n",
    "- Measuring and profiling to find where the time is actually being spent, so you can optimise where it matters.\n",
    "\n",
    "## Efficient Julia Code \n",
    "\n",
    "### Type Stability \n",
    "\n",
    "A function is type-stable if the type of its output can be determined from the types of its inputs, **without having to run the function**. This means that you need to: \n",
    "- pass inputs of known types into the function, \n",
    "- the compiler can predict what **type** the result will be.\n",
    "\n",
    "Example of a type-stable function: \n",
    "\n",
    "```Julia\n",
    "function add(x::Float64, y::Float64)\n",
    "    return x + y\n",
    "end\n",
    "```\n",
    "For the function above:\n",
    "- If you give two `Float64`s, the result is always a `Float64`.\n",
    "- The compiler **knows this immediately**.\n",
    "\n",
    "Example of a type-unstable function: \n",
    "```Julia\n",
    "function maybe_add(x, y)\n",
    "    if rand() > 0.5\n",
    "        return x + y\n",
    "    else\n",
    "        return string(x, y)\n",
    "    end\n",
    "end\n",
    "```\n",
    "- Sometimes it returns a **number**, sometimes a **String**. \n",
    "- The compiler **Can't predict** the output type just from the input types. \n",
    "- This forces Julia to **insert expensive type checks** at runtime. \n",
    "\n",
    "This then raises the question of **Does specifying types in function signatures improve performance?** Where the answer is **no, not necessarily.**\n",
    "\n",
    "Specifying types such as: \n",
    "\n",
    "```Julia \n",
    "function myfun(x::Float64)\n",
    "    ...\n",
    "end\n",
    "```\n",
    "\n",
    "It will not automatically make the code faster. The reason for this is: \n",
    "Julia **compiles specialised versions of functions for the types it sees anyway**, even if you didn't specify types.\n",
    "What matters for performance is **what happens inside the function** - are the types predictable?\n",
    "\n",
    "**You can write a function with no type annotations** but still make it very fast if the output type is **predictable**. \n",
    "\n",
    "The rule of thumb is:\n",
    "- Specifying types at the function input is good for readability, documentation, dispatch (method choices)\n",
    "- Type stability inside the function is crucial for performance.\n",
    "\n",
    "You can use: \n",
    "```Julia \n",
    "@code_warntype your_function(args)\n",
    "```\n",
    "\n",
    "To check if. a function is type-stable. It will show **orange** (or **red**) types if Julia can not predict types.\n",
    "\n",
    "#### Type-Stable Function: `add`"
   ]
  },
  {
   "cell_type": "code",
   "execution_count": 1,
   "id": "6774d2f5-68a9-4130-a66c-ce4d486eaa46",
   "metadata": {
    "editable": true,
    "slideshow": {
     "slide_type": ""
    },
    "tags": []
   },
   "outputs": [
    {
     "name": "stdout",
     "output_type": "stream",
     "text": [
      "MethodInstance for add(::Float64, ::Float64)\n",
      "  from add(\u001b[90mx\u001b[39m::\u001b[1mFloat64\u001b[22m, \u001b[90my\u001b[39m::\u001b[1mFloat64\u001b[22m)\u001b[90m @\u001b[39m \u001b[90mMain\u001b[39m \u001b[90m\u001b[4mIn[1]:1\u001b[24m\u001b[39m\n",
      "Arguments\n",
      "  #self#\u001b[36m::Core.Const(add)\u001b[39m\n",
      "  x\u001b[36m::Float64\u001b[39m\n",
      "  y\u001b[36m::Float64\u001b[39m\n",
      "Body\u001b[36m::Float64\u001b[39m\n",
      " %1 = (x + y)\u001b[36m::Float64\u001b[39m\n",
      "\u001b[90m└──\u001b[39m      return %1\n",
      "\n"
     ]
    }
   ],
   "source": [
    "function add(x::Float64, y::Float64)\n",
    "    return x + y\n",
    "end\n",
    "\n",
    "@code_warntype add(1.0, 2.0)"
   ]
  },
  {
   "cell_type": "markdown",
   "id": "cb7cb0fa-033e-43ef-8d40-b19814783f4d",
   "metadata": {
    "editable": true,
    "slideshow": {
     "slide_type": ""
    },
    "tags": []
   },
   "source": [
    "Above, you can see a type-stable function `add`. The output from `@code_warntype` shows that the output will be a `Float64`; all the variable types are clearly inferred, and there are no concerning red or yellow types. Given two `Float64` arguements, the output is predictable a `Float64`. Julia can compile optimised machine code with no dynamic checks, which is the ideal case for performance. \n",
    "\n",
    "#### Mildly Type-Unstable Function: `maybe_add`"
   ]
  },
  {
   "cell_type": "code",
   "execution_count": 2,
   "id": "73b60474-2ac4-41f3-8de3-209df56db246",
   "metadata": {
    "editable": true,
    "slideshow": {
     "slide_type": ""
    },
    "tags": []
   },
   "outputs": [
    {
     "name": "stdout",
     "output_type": "stream",
     "text": [
      "MethodInstance for maybe_add(::Float64, ::Float64)\n",
      "  from maybe_add(\u001b[90mx\u001b[39m, \u001b[90my\u001b[39m)\u001b[90m @\u001b[39m \u001b[90mMain\u001b[39m \u001b[90m\u001b[4mIn[2]:1\u001b[24m\u001b[39m\n",
      "Arguments\n",
      "  #self#\u001b[36m::Core.Const(maybe_add)\u001b[39m\n",
      "  x\u001b[36m::Float64\u001b[39m\n",
      "  y\u001b[36m::Float64\u001b[39m\n",
      "Body\u001b[33m\u001b[1m::Union{Float64, String}\u001b[22m\u001b[39m\n",
      "\u001b[90m1 ─\u001b[39m %1 = Main.rand()\u001b[36m::Float64\u001b[39m\n",
      "\u001b[90m│  \u001b[39m %2 = (%1 > 0.5)\u001b[36m::Bool\u001b[39m\n",
      "\u001b[90m└──\u001b[39m      goto #3 if not %2\n",
      "\u001b[90m2 ─\u001b[39m %4 = (x + y)\u001b[36m::Float64\u001b[39m\n",
      "\u001b[90m└──\u001b[39m      return %4\n",
      "\u001b[90m3 ─\u001b[39m %6 = Main.string(x, y)\u001b[36m::String\u001b[39m\n",
      "\u001b[90m└──\u001b[39m      return %6\n",
      "\n"
     ]
    }
   ],
   "source": [
    "function maybe_add(x, y)\n",
    "    if rand() > 0.5\n",
    "        return x + y\n",
    "    else\n",
    "        return string(x, y)\n",
    "    end\n",
    "end\n",
    "\n",
    "@code_warntype maybe_add(1.0, 2.0)"
   ]
  },
  {
   "cell_type": "markdown",
   "id": "d63fc808-7a5f-4c87-a589-9ed986ac4642",
   "metadata": {
    "editable": true,
    "slideshow": {
     "slide_type": ""
    },
    "tags": []
   },
   "source": [
    "Above, you can see a mildly type-unstable function `maybe_add`. For this function, you can see the output is highlighted in yellow with the output `Body::Union{Float64, String};` as Julia knows, it might return one of two types. The function is **type-unstable** because it may return either a `Float64` or a `String` depending on a random condition. Julia must handle both possibilities at runtime, which introduces branching and dynamic dispatch, hurting performance compared to type-stable code. \n",
    "\n",
    "#### Severely Type-Unstable Function: `bad_sum`"
   ]
  },
  {
   "cell_type": "code",
   "execution_count": 3,
   "id": "8a983d81-c60f-4f63-87ef-ddfa26ef27e1",
   "metadata": {
    "editable": true,
    "slideshow": {
     "slide_type": ""
    },
    "tags": []
   },
   "outputs": [
    {
     "name": "stdout",
     "output_type": "stream",
     "text": [
      "MethodInstance for bad_sum(::Vector{Any})\n",
      "  from bad_sum(\u001b[90marr\u001b[39m)\u001b[90m @\u001b[39m \u001b[90mMain\u001b[39m \u001b[90m\u001b[4mIn[3]:1\u001b[24m\u001b[39m\n",
      "Arguments\n",
      "  #self#\u001b[36m::Core.Const(bad_sum)\u001b[39m\n",
      "  arr\u001b[36m::Vector{Any}\u001b[39m\n",
      "Locals\n",
      "  @_3\u001b[91m\u001b[1m::Union{Nothing, Tuple{Any, Int64}}\u001b[22m\u001b[39m\n",
      "  result\u001b[91m\u001b[1m::Any\u001b[22m\u001b[39m\n",
      "  x\u001b[91m\u001b[1m::Any\u001b[22m\u001b[39m\n",
      "Body\u001b[91m\u001b[1m::Any\u001b[22m\u001b[39m\n",
      "\u001b[90m1 ─\u001b[39m       (result = 0)\n",
      "\u001b[90m│  \u001b[39m %2  = arr\u001b[36m::Vector{Any}\u001b[39m\n",
      "\u001b[90m│  \u001b[39m       (@_3 = Base.iterate(%2))\n",
      "\u001b[90m│  \u001b[39m %4  = (@_3 === nothing)\u001b[36m::Bool\u001b[39m\n",
      "\u001b[90m│  \u001b[39m %5  = Base.not_int(%4)\u001b[36m::Bool\u001b[39m\n",
      "\u001b[90m└──\u001b[39m       goto #4 if not %5\n",
      "\u001b[90m2 ┄\u001b[39m %7  = @_3\u001b[91m\u001b[1m::Tuple{Any, Int64}\u001b[22m\u001b[39m\n",
      "\u001b[90m│  \u001b[39m       (x = Core.getfield(%7, 1))\n",
      "\u001b[90m│  \u001b[39m %9  = Core.getfield(%7, 2)\u001b[36m::Int64\u001b[39m\n",
      "\u001b[90m│  \u001b[39m       (result = result + x)\n",
      "\u001b[90m│  \u001b[39m       (@_3 = Base.iterate(%2, %9))\n",
      "\u001b[90m│  \u001b[39m %12 = (@_3 === nothing)\u001b[36m::Bool\u001b[39m\n",
      "\u001b[90m│  \u001b[39m %13 = Base.not_int(%12)\u001b[36m::Bool\u001b[39m\n",
      "\u001b[90m└──\u001b[39m       goto #4 if not %13\n",
      "\u001b[90m3 ─\u001b[39m       goto #2\n",
      "\u001b[90m4 ┄\u001b[39m       return result\n",
      "\n"
     ]
    }
   ],
   "source": [
    "function bad_sum(arr)\n",
    "    result = 0\n",
    "    for x in arr\n",
    "        result = result + x\n",
    "    end\n",
    "    return result\n",
    "end\n",
    "\n",
    "@code_warntype bad_sum([1, 2.0, \"3\"])\n"
   ]
  },
  {
   "cell_type": "markdown",
   "id": "03763e81-eab6-4fa6-8f7a-19b2dd2e6299",
   "metadata": {
    "editable": true,
    "slideshow": {
     "slide_type": ""
    },
    "tags": []
   },
   "source": [
    "Above, you can see a severely type-unstable function, `bad_sum`. For this function, you can see the output is highlighted in red with the output `Any`, showing a severely type-unstable function. The input array has mixed types: `Int`, `Float64`, and `String`. As a result: \n",
    "- Julia cannot infer the type of `result` or `x`.\n",
    "- The loop performance **dynamic dispatch** for every iteration, meaning the exact method used is determined at runtime, not at compile time. \n",
    "- Intermediate values are boxed, meaning they are stored in the heap with additional type information rather than directly in registers. As a result, performance is dramatically worse due to slower memory access, dynamic type checks, and an increased overhead of garbage collection. "
   ]
  },
  {
   "cell_type": "markdown",
   "id": "43fd69b6-f834-4f0b-a23c-a79513b6260c",
   "metadata": {
    "editable": true,
    "slideshow": {
     "slide_type": ""
    },
    "tags": []
   },
   "source": [
    "### Avoiding Global variables \n",
    "\n",
    "Julia's functions are JIT-compiled and optimised when you call them. However, if you operate in a global space (like running a loop at the top level of a script or notebook referring to global variables), the compiler has a harder job optimising because global variables can change type or value at any time.\n",
    "\n",
    "**Always try to put performance-critical code inside functions**. Then, call those functions from the global scope. This way, the code is compiled in a local scope where the types of variables are known. \n",
    "\n",
    "For example, instead of: \n",
    "\n",
    "```Julia \n",
    "# Avoid this for performance-critical code\n",
    "numbers = rand(1000)\n",
    "total = 0\n",
    "for x in numbers\n",
    "    total += x\n",
    "end\n",
    "total\n",
    "```\n",
    "\n",
    "You would want to write: \n",
    "\n",
    "```Julia \n",
    "function sum_array(arr)\n",
    "    total = 0.0\n",
    "    for x in arr\n",
    "        total += x\n",
    "    end\n",
    "    return total\n",
    "end\n",
    "\n",
    "numbers = rand(1000)\n",
    "total = sum_array(numbers)\n",
    "```\n",
    "\n",
    "Inside `sum_array`, `total` is local and of a stable type (`Float64`), and `x` will be the type of the array elements (`Float64`). The compiler can optimise this well. In the global loop version, `total` is a global variable - the compiler can't assume it won't be used elsewhere, so optimisation is limited. \n",
    "\n",
    "If you are using global constants (like a configuration. value that doesn't change), declare them as `const` in global space to help performance, e.g. `const PI = 3.14`. "
   ]
  },
  {
   "cell_type": "markdown",
   "id": "53a18fe4-b305-48cc-9289-4157e470dc12",
   "metadata": {
    "editable": true,
    "slideshow": {
     "slide_type": ""
    },
    "tags": []
   },
   "source": [
    "### Utilising Built-In Functions and Vectorised Operations \n",
    "\n",
    "Julia's standard library and well-known packages have many optimised routines, which are often implemented in C or using Julia's own optimisations (including multi-threading in some cases). Examples: `sum`, `maximum`, or linear algebra operations (`A * B`) or sorting (`sort`). \n",
    "\n",
    "### Using Appropriate Data Structures \n",
    "Some key considerations when determining which data structure to use include: \n",
    "- If you need random access to elements by index and the collection will grow/shrink, you require a Vector (`Array`). \n",
    "- If you need to look up values by keys, use a `Dict` instead of searching through an array each time. \n",
    "- If you have a fixed small set of values of heterogenous types, a `Tuple` can be helpful. However, they are immutable, and their types are part of their identity, making them very efficient for specific uses, like returning multiple values from a function. \n",
    "- If you need stack or queue behaviour, you can still use arrays (with `push!` or `pop!` for the stack and `push!` and `popfirst!` for the queue. \n",
    "- If you have binary data or bits, consider `BitVector` for large boolean arrays that are memory efficient. \n",
    "- For mathematical operations, using native numeric types (`Int`, `Float64`) is faster than arbitrary precisions or rational types, so only use `BigInt`, `BigFloat` and `Rational` when needed. \n",
    "\n",
    "### Memory Management and Avoiding Unnecessary Allocation \n",
    "\n",
    "Excessive memory allocation can slow down code (due to both allocation overhead and garbage collection); some strategies to reduce the impact include: \n",
    "- Reuse arrays instead of creating new ones in a loop. For instance, if you need to collect results in an array inside a loop, consider allocating it outside and filling it in each iteration. \n",
    "- Use **views** to refer to subarray without copying. `view(A, 1:10)` gives a \"window\" into array `A` from 1 to 10 without allocating a new array for hat sections. \n",
    "- Use in-place operation if possible. Many functions have an in-place form (often with a `!` at the end of their name by convention). For example, `sort!(array)` will sort an array in place (no new array created, just rearranging). `push!` and `append!` modify arrays rather than making new ones. \n",
    "- Avoid converting types repeatedly inside loops. If you need a value of a particular type, convert once outside or ensure your data is readily in the desired type before the loop.\n",
    "\n",
    "## Measuring Performance \n",
    "\n",
    "Julia provides some simple macros to measure execution time and memory: \n",
    "- `@time expression` runs the expression once and prints the time taken and memory allocated. \n",
    "- `@time` is good for a quick check, but the first run does not include compilation time. Run it twice to see the actual execution time after compilation. \n",
    "- `@benchmark` from the `BechmarkTools.jl` package (needs `using BenchmarkTools`) provides more rigorous timing that runs multiple times and gives statistics, avoiding compilation cost influence.\n",
    "- `@timed` will return timing info programmatically. \n",
    "- `@allocated` returns just the number of bytes allocated by running an expression. "
   ]
  },
  {
   "cell_type": "code",
   "execution_count": 4,
   "id": "c880763f-4285-4c6b-a485-762797751668",
   "metadata": {
    "editable": true,
    "slideshow": {
     "slide_type": ""
    },
    "tags": []
   },
   "outputs": [
    {
     "name": "stdout",
     "output_type": "stream",
     "text": [
      "Running inefficient_sum...\n",
      "  0.484978 seconds (3.98 k allocations: 269.438 KiB, 0.62% compilation time)\n",
      "\n",
      " Running built-in sum...\n",
      "  0.021193 seconds (33.21 k allocations: 2.215 MiB, 40.67% compilation time)\n"
     ]
    },
    {
     "data": {
      "text/plain": [
       "4.9997776831760295e7"
      ]
     },
     "execution_count": 4,
     "metadata": {},
     "output_type": "execute_result"
    }
   ],
   "source": [
    "function custom_sum(arr)\n",
    "    s = 0\n",
    "    for i in 1:length(arr)\n",
    "        s += arr[i]\n",
    "    end\n",
    "    return s\n",
    "end\n",
    "\n",
    "\n",
    "data = rand(100000000) \n",
    "\n",
    "println(\"Running inefficient_sum...\")\n",
    "@time total1 = custom_sum(data)\n",
    "\n",
    "println(\"\\n Running built-in sum...\")\n",
    "@time total3 = sum(data) \n"
   ]
  },
  {
   "cell_type": "markdown",
   "id": "d2072c4c-081c-40be-90af-89b125b51aee",
   "metadata": {
    "editable": true,
    "slideshow": {
     "slide_type": ""
    },
    "tags": []
   },
   "source": [
    "This is just illustrative; actual times will depend on your machine and whether multi-threading is used. The key point is `sum(data)` is likely very optimized, beating the manual loops."
   ]
  },
  {
   "cell_type": "markdown",
   "id": "662ab838-e53e-432a-be8a-bbff0dc26d06",
   "metadata": {
    "editable": true,
    "slideshow": {
     "slide_type": ""
    },
    "tags": []
   },
   "source": [
    "#### Profiling for Bottlenecks \n",
    "\n",
    "If you have a complex program and you want to see where it spends time, you can use the built-in profiler: \n",
    "\n",
    "```Julia \n",
    "using Profile\n",
    "@profiler my_long_running_function()\n",
    "```\n",
    "\n",
    "Then use `Profile.print()` or the `ProfileView.jl` package to analyse the results. Profiling tells you which functions or lines are taking the most time. For simpler cases, you might not need this level of detail.\n",
    "\n",
    "## Exercise 1: Analysing the Performance of Code \n",
    "\n",
    "Given the three functions below, use what we've discussed so far about type stability, allocations, and performance to understand **why they perform differently**.\n",
    "\n",
    "```Julia \n",
    "function method_1(N)\n",
    "    arr = Int[]  \n",
    "    for i in 1:N\n",
    "        push!(arr, i)      \n",
    "    end\n",
    "    return sum(arr)        \n",
    "end\n",
    "\n",
    "function method_2(N)\n",
    "    arr = collect(1:N)    \n",
    "    return sum(arr)\n",
    "end\n",
    "\n",
    "\n",
    "function method_3(N)\n",
    "    return N*(N+1)÷2\n",
    "end\n",
    "```"
   ]
  },
  {
   "cell_type": "code",
   "execution_count": 6,
   "id": "66284760-424f-44d7-85c3-342bffb1c98a",
   "metadata": {
    "editable": true,
    "slideshow": {
     "slide_type": ""
    },
    "tags": [
     "remove-input"
    ]
   },
   "outputs": [
    {
     "data": {
      "text/html": [
       "<style>\n",
       ".quiz-question {\n",
       "    background-color: #6c63ff;\n",
       "    color: white;\n",
       "    padding: 12px;\n",
       "    border-radius: 10px;\n",
       "    font-weight: bold;\n",
       "    font-size: 1.2em;\n",
       "    margin-bottom: 10px;\n",
       "}\n",
       "\n",
       ".quiz-form {\n",
       "    margin-bottom: 20px;\n",
       "}\n",
       "\n",
       ".quiz-answer {\n",
       "    display: block;\n",
       "    background-color: #f2f2f2;\n",
       "    border: none;\n",
       "    border-radius: 10px;\n",
       "    padding: 10px;\n",
       "    margin: 5px 0;\n",
       "    font-size: 1em;\n",
       "    cursor: pointer;\n",
       "    text-align: left;\n",
       "    transition: background-color 0.3s;\n",
       "    width: 100%;\n",
       "}\n",
       "\n",
       ".quiz-answer:hover {\n",
       "    background-color: #e0e0e0;\n",
       "}\n",
       "\n",
       ".correct {\n",
       "    background-color: #4CAF50 !important;\n",
       "    color: white !important;\n",
       "    border: none;\n",
       "}\n",
       "\n",
       ".incorrect {\n",
       "    background-color: #D32F2F !important;\n",
       "    color: white !important;\n",
       "    border: none;\n",
       "}\n",
       "\n",
       ".feedback {\n",
       "    margin-top: 10px;\n",
       "    font-weight: bold;\n",
       "    font-size: 1em;\n",
       "}\n",
       "</style>\n",
       "\n",
       "<script>\n",
       "function handleAnswer(qid, aid, feedback, isCorrect) {\n",
       "    // Reset all buttons for the question\n",
       "    let buttons = document.querySelectorAll(\".answer-\" + qid);\n",
       "    buttons.forEach(btn => {\n",
       "        btn.classList.remove('correct', 'incorrect');\n",
       "    });\n",
       "\n",
       "    // Apply correct/incorrect to selected\n",
       "    let selected = document.getElementById(aid);\n",
       "    selected.classList.add(isCorrect ? 'correct' : 'incorrect');\n",
       "\n",
       "    // Show feedback below the question\n",
       "    let feedbackBox = document.getElementById('feedback_' + qid);\n",
       "    feedbackBox.innerHTML = feedback;\n",
       "    feedbackBox.style.color = isCorrect ? 'green' : 'red';\n",
       "}\n",
       "</script>\n",
       "<div class=\"quiz-question\">Which function is recommended for pre-allocating an array of zeros in Julia for better performance?</div><form class=\"quiz-form\"><button type=\"button\" class=\"quiz-answer answer-1\" id=\"q1_a1\"\n",
       "    onclick=\"handleAnswer('1', 'q1_a1', 'Incorrect', false)\">\n",
       "    array_zeros()\n",
       "</button>\n",
       "<button type=\"button\" class=\"quiz-answer answer-1\" id=\"q1_a2\"\n",
       "    onclick=\"handleAnswer('1', 'q1_a2', 'Correct', true)\">\n",
       "    zeros()\n",
       "</button>\n",
       "<button type=\"button\" class=\"quiz-answer answer-1\" id=\"q1_a3\"\n",
       "    onclick=\"handleAnswer('1', 'q1_a3', 'Incorrect', false)\">\n",
       "    preallocate()\n",
       "</button>\n",
       "<button type=\"button\" class=\"quiz-answer answer-1\" id=\"q1_a4\"\n",
       "    onclick=\"handleAnswer('1', 'q1_a4', 'Incorrect', false)\">\n",
       "    fill(0, dims...)\n",
       "</button>\n",
       "<div class=\"feedback\" id=\"feedback_1\"></div></form><hr><div class=\"quiz-question\">In Julia, why should you avoid growing arrays inside a loop without pre-allocation?</div><form class=\"quiz-form\"><button type=\"button\" class=\"quiz-answer answer-2\" id=\"q2_a1\"\n",
       "    onclick=\"handleAnswer('2', 'q2_a1', 'Incorrect', false)\">\n",
       "    It uses too much memory instantly\n",
       "</button>\n",
       "<button type=\"button\" class=\"quiz-answer answer-2\" id=\"q2_a2\"\n",
       "    onclick=\"handleAnswer('2', 'q2_a2', 'Incorrect', false)\">\n",
       "    It causes syntax errors\n",
       "</button>\n",
       "<button type=\"button\" class=\"quiz-answer answer-2\" id=\"q2_a3\"\n",
       "    onclick=\"handleAnswer('2', 'q2_a3', 'Correct', true)\">\n",
       "    It results in repeated memory reallocation, which slows down the code\n",
       "</button>\n",
       "<button type=\"button\" class=\"quiz-answer answer-2\" id=\"q2_a4\"\n",
       "    onclick=\"handleAnswer('2', 'q2_a4', 'Incorrect', false)\">\n",
       "    It leads to incorrect computation results\n",
       "</button>\n",
       "<div class=\"feedback\" id=\"feedback_2\"></div></form><hr><div class=\"quiz-question\">What is a general tip for writing more performant Julia code when using loops?</div><form class=\"quiz-form\"><button type=\"button\" class=\"quiz-answer answer-3\" id=\"q3_a1\"\n",
       "    onclick=\"handleAnswer('3', 'q3_a1', 'Incorrect', false)\">\n",
       "    Always use global variables inside loops\n",
       "</button>\n",
       "<button type=\"button\" class=\"quiz-answer answer-3\" id=\"q3_a2\"\n",
       "    onclick=\"handleAnswer('3', 'q3_a2', 'Correct', true)\">\n",
       "    Minimise memory allocation inside loops\n",
       "</button>\n",
       "<button type=\"button\" class=\"quiz-answer answer-3\" id=\"q3_a3\"\n",
       "    onclick=\"handleAnswer('3', 'q3_a3', 'Incorrect', false)\">\n",
       "    Nest as many loops as possible\n",
       "</button>\n",
       "<button type=\"button\" class=\"quiz-answer answer-3\" id=\"q3_a4\"\n",
       "    onclick=\"handleAnswer('3', 'q3_a4', 'Incorrect', false)\">\n",
       "    Prefer string operations over numerical operations\n",
       "</button>\n",
       "<div class=\"feedback\" id=\"feedback_3\"></div></form><hr>"
      ]
     },
     "metadata": {},
     "output_type": "display_data"
    }
   ],
   "source": [
    "using JSON\n",
    "\n",
    "function show_quiz_from_json(path)\n",
    "    quiz_data = JSON.parsefile(path)\n",
    "\n",
    "    html = \"\"\"\n",
    "    <style>\n",
    "    .quiz-question {\n",
    "        background-color: #6c63ff;\n",
    "        color: white;\n",
    "        padding: 12px;\n",
    "        border-radius: 10px;\n",
    "        font-weight: bold;\n",
    "        font-size: 1.2em;\n",
    "        margin-bottom: 10px;\n",
    "    }\n",
    "\n",
    "    .quiz-form {\n",
    "        margin-bottom: 20px;\n",
    "    }\n",
    "\n",
    "    .quiz-answer {\n",
    "        display: block;\n",
    "        background-color: #f2f2f2;\n",
    "        border: none;\n",
    "        border-radius: 10px;\n",
    "        padding: 10px;\n",
    "        margin: 5px 0;\n",
    "        font-size: 1em;\n",
    "        cursor: pointer;\n",
    "        text-align: left;\n",
    "        transition: background-color 0.3s;\n",
    "        width: 100%;\n",
    "    }\n",
    "\n",
    "    .quiz-answer:hover {\n",
    "        background-color: #e0e0e0;\n",
    "    }\n",
    "\n",
    "    .correct {\n",
    "        background-color: #4CAF50 !important;\n",
    "        color: white !important;\n",
    "        border: none;\n",
    "    }\n",
    "\n",
    "    .incorrect {\n",
    "        background-color: #D32F2F !important;\n",
    "        color: white !important;\n",
    "        border: none;\n",
    "    }\n",
    "\n",
    "    .feedback {\n",
    "        margin-top: 10px;\n",
    "        font-weight: bold;\n",
    "        font-size: 1em;\n",
    "    }\n",
    "    </style>\n",
    "\n",
    "    <script>\n",
    "    function handleAnswer(qid, aid, feedback, isCorrect) {\n",
    "        // Reset all buttons for the question\n",
    "        let buttons = document.querySelectorAll(\".answer-\" + qid);\n",
    "        buttons.forEach(btn => {\n",
    "            btn.classList.remove('correct', 'incorrect');\n",
    "        });\n",
    "\n",
    "        // Apply correct/incorrect to selected\n",
    "        let selected = document.getElementById(aid);\n",
    "        selected.classList.add(isCorrect ? 'correct' : 'incorrect');\n",
    "\n",
    "        // Show feedback below the question\n",
    "        let feedbackBox = document.getElementById('feedback_' + qid);\n",
    "        feedbackBox.innerHTML = feedback;\n",
    "        feedbackBox.style.color = isCorrect ? 'green' : 'red';\n",
    "    }\n",
    "    </script>\n",
    "    \"\"\"\n",
    "\n",
    "    for (i, question) in enumerate(quiz_data)\n",
    "        qid = \"$i\"\n",
    "        html *= \"\"\"<div class=\"quiz-question\">$(question[\"question\"])</div><form class=\"quiz-form\">\"\"\"\n",
    "\n",
    "        for (j, answer) in enumerate(question[\"answers\"])\n",
    "            aid = \"q$(i)_a$(j)\"\n",
    "            feedback = answer[\"feedback\"]\n",
    "            correct = startswith(lowercase(feedback), \"correct\")\n",
    "            html *= \"\"\"\n",
    "            <button type=\"button\" class=\"quiz-answer answer-$qid\" id=\"$aid\"\n",
    "                onclick=\"handleAnswer('$qid', '$aid', '$feedback', $(correct))\">\n",
    "                $(answer[\"answer\"])\n",
    "            </button>\n",
    "            \"\"\"\n",
    "        end\n",
    "\n",
    "        html *= \"\"\"<div class=\"feedback\" id=\"feedback_$qid\"></div></form><hr>\"\"\"\n",
    "    end\n",
    "\n",
    "    display(\"text/html\", html)\n",
    "end\n",
    "\n",
    "\n",
    "# Use the function\n",
    "show_quiz_from_json(\"questions/summary_performant_code.json\")"
   ]
  },
  {
   "cell_type": "code",
   "execution_count": null,
   "id": "e4d5420c-59fa-4b54-bcd4-464a717e482a",
   "metadata": {
    "editable": true,
    "slideshow": {
     "slide_type": ""
    },
    "tags": []
   },
   "outputs": [],
   "source": []
  }
 ],
 "metadata": {
  "kernelspec": {
   "display_name": "Julia 1.10.3",
   "language": "julia",
   "name": "julia-1.10"
  },
  "language_info": {
   "file_extension": ".jl",
   "mimetype": "application/julia",
   "name": "julia",
   "version": "1.10.3"
  }
 },
 "nbformat": 4,
 "nbformat_minor": 5
}
