{
 "cells": [
  {
   "cell_type": "markdown",
   "id": "a8105c04-409d-43c6-aefb-9b5f0426a224",
   "metadata": {
    "editable": true,
    "slideshow": {
     "slide_type": ""
    },
    "tags": []
   },
   "source": [
    "# Input and Output (I/O) \n",
    "\n",
    "## Learning Objectives\n",
    "\n",
    "- Understand the basic concepts of Input/Output (I/O) operations in Julia. \n",
    "- Perform file handling operations: opening, reading, writing, and closing files. \n",
    "- Potentially explore Julia packages for handling specific file formats efficiently \n",
    "\n",
    "## Overview of I/O\n",
    "\n",
    "**Input/Output (I/O)** operations involve reading data into the running Julia process from external sources (input) and writing data out from the process (output). Reading data from/writing data to files on disk is a typical example, which is essential for tasks like data processing, configuration, logging, etc. Julia provides built-in functions for basic text and binary file I/O and has packages for more complex formats (CSV, Excel, JSON, etc.)\n",
    "\n",
    "## General approach\n",
    "\n",
    "In Julia, interacting with files typically uses the `open()` function along with `read` and `write` for data or higher-level convenience functions provided by packages. \n",
    "\n",
    "The typical steps for file I/O in any language are:\n",
    "- **Open** the file (specifying a mode like read or write)\n",
    "- **Read from or write to** the file.\n",
    "- **Close** the file to ensure resources are freed, and data is flushed to disk.\n",
    "\n",
    "In Julia, you can open a file using `open(\"filepath\", \"r\")` for reading, `\"w\"` for writing (which truncates/creates the file), or `\"a\"` for appending to the end. The result of `open` is an IO stream object that you can use with `read`, `write`, etc. It's important to close the file when done. Although Julia will close files when the object is garbage-collected, it's best to do this as soon as we're done with reading the file.\n",
    "\n",
    "## Working with text files\n",
    "\n",
    "### Reading files\n",
    "\n",
    "Suppose we have a text file located at `data/numbers.txt` containing a list of numbers separated by new lines:\n",
    "\n",
    "```\n",
    "1\n",
    "-4.3\n",
    "42\n",
    "3.14\n",
    "```\n",
    "\n",
    "One way we could read this file is as follows:"
   ]
  },
  {
   "cell_type": "code",
   "execution_count": 1,
   "id": "5da9e7b3-d342-469a-91de-fd5a9e8994ee",
   "metadata": {
    "editable": true,
    "slideshow": {
     "slide_type": ""
    },
    "tags": []
   },
   "outputs": [
    {
     "name": "stdout",
     "output_type": "stream",
     "text": [
      "[\"1\", \"-4.3\", \"42\", \"3.14\"]\n"
     ]
    }
   ],
   "source": [
    "# Open a file for reading\n",
    "file = open(\"data/numbers.txt\", \"r\")\n",
    "\n",
    "# Read contents of file into a Vector of Strings\n",
    "# (each Vector element is a line from the file)\n",
    "numbers = readlines(file)\n",
    "\n",
    "# Close the file\n",
    "close(file)\n",
    "\n",
    "println(numbers)"
   ]
  },
  {
   "cell_type": "markdown",
   "id": "14ceb106-8268-4eda-a73e-a494e51eb525",
   "metadata": {
    "editable": true,
    "slideshow": {
     "slide_type": ""
    },
    "tags": []
   },
   "source": [
    "This code opens the file `numbers.txt` in a folder `data` (relative path), reads the lines of the file into a `Vector{String}` and then immediately closes it.\n",
    "\n",
    "It is a very common pattern to (1) open a file, (2) do something with its contents, (3) close the file. Because of this, it is preferable to use a slightly different form of `open`:\n",
    "\n",
    "```julia\n",
    "open(\"path/to/file\", mode) do file  # mode = \"r\", \"w\", \"a\", etc.\n",
    "    # Do something with the IO stream `file`\n",
    "    # and return the last value in this block\n",
    "end\n",
    "```\n",
    "\n",
    "This version performs the following:\n",
    "1. It opens the file and assigns the corresponding IO stream to `file`;\n",
    "2. evaluates the contents between `do file ... end`, just like an anonymous function with `file` as the argument; then\n",
    "3. returns the value of the last expression in the `do ... end` block and closes the file.\n",
    "\n",
    "So our code above for reading in the numbers from `data/numbers.txt` could equivalently be written as:"
   ]
  },
  {
   "cell_type": "code",
   "execution_count": 2,
   "id": "b9d05564-e5a9-41e6-94b3-603410d5cbab",
   "metadata": {
    "editable": true,
    "slideshow": {
     "slide_type": ""
    },
    "tags": []
   },
   "outputs": [
    {
     "name": "stdout",
     "output_type": "stream",
     "text": [
      "[\"1\", \"-4.3\", \"42\", \"3.14\"]\n"
     ]
    }
   ],
   "source": [
    "# Using open to read the lines\n",
    "numbers = open(\"data/numbers.txt\", \"r\") do file\n",
    "    readlines(file)\n",
    "end\n",
    "println(numbers)"
   ]
  },
  {
   "cell_type": "markdown",
   "id": "d06b9b2e-dc06-4ad4-82be-7ef6870468f7",
   "metadata": {
    "editable": true,
    "slideshow": {
     "slide_type": ""
    },
    "tags": []
   },
   "source": [
    "> **Note**\n",
    "> Using the `do` block form of `open` is a safe pattern to ensure closure of the file even if an error occurs during reading/writing.\n",
    "\n",
    "If the above code seems a bit too much like magic to you, read about the [Networking and Streams: Streaming Files (Julia Manual)](https://docs.julialang.org/en/v1/manual/networking-and-streams/#Advanced:-streaming-files) syntax and also check out the Julia manual section on [Networking and Streams: Streaming Files (Julia Manual)](https://docs.julialang.org/en/v1/manual/networking-and-streams/#Advanced:-streaming-files).\n",
    "\n",
    "### Writing files\n",
    "\n",
    "To write to a text file, we use the `print` function together with `open` (make sure to open the file in write `\"w\"` or append mode `\"a\"` as required!). Alternatively, we can use `println` to put a newline character after the string. For example, to write the string `\"Hello, Julia!\"` to a text file called `greeting.txt`, we could run:\n",
    "\n",
    "```julia\n",
    "open(\"greeting.txt\", \"w\") do file\n",
    "    print(file, \"Hello\")  # no newline\n",
    "    println(file, \", Julia!\")  # with newline\n",
    "end\n",
    "```\n",
    "\n",
    "Note that `print` and `println` also work with non-string data -- they will write a textual representation of the object to the file. For example, we could have created our `numbers.txt` file as follows:\n",
    "\n",
    "```julia\n",
    "open(\"data/numbers.txt\", \"w\") do file\n",
    "    for x in [1, -4.3, 42, 3.14]\n",
    "        println(file, x)\n",
    "    end\n",
    "end\n",
    "```"
   ]
  },
  {
   "cell_type": "markdown",
   "id": "b56b4b17-69c2-4bed-b7ee-b9576c3110c6",
   "metadata": {
    "editable": true,
    "slideshow": {
     "slide_type": ""
    },
    "tags": []
   },
   "source": [
    "### Reading text files: helpers\n",
    "\n",
    "Julia provides some methods to help reading data from text files, that only require supplying the file path instead of using `open` directly.\n",
    "\n",
    "**Read file to a single `String` using the `read` function**:"
   ]
  },
  {
   "cell_type": "code",
   "execution_count": 3,
   "id": "cf8d2d2c-f0d9-4891-814d-5d12743b1a2d",
   "metadata": {
    "editable": true,
    "slideshow": {
     "slide_type": ""
    },
    "tags": []
   },
   "outputs": [
    {
     "data": {
      "text/plain": [
       "\"1\\n-4.3\\n42\\n3.14\""
      ]
     },
     "execution_count": 3,
     "metadata": {},
     "output_type": "execute_result"
    }
   ],
   "source": [
    "# Read whole file as a string\n",
    "contents = read(\"data/numbers.txt\", String)\n",
    "contents"
   ]
  },
  {
   "cell_type": "markdown",
   "id": "8c4b7336-174f-4929-bc10-cbc7daf11e99",
   "metadata": {},
   "source": [
    "**Read lines of the file to a `Vector{String}` using the `readlines` function**:"
   ]
  },
  {
   "cell_type": "code",
   "execution_count": 4,
   "id": "a654c813-c41c-41e1-8141-3a5fb2adcb18",
   "metadata": {},
   "outputs": [
    {
     "data": {
      "text/plain": [
       "4-element Vector{String}:\n",
       " \"1\"\n",
       " \"-4.3\"\n",
       " \"42\"\n",
       " \"3.14\""
      ]
     },
     "execution_count": 4,
     "metadata": {},
     "output_type": "execute_result"
    }
   ],
   "source": [
    "# Read lines to a vector of strings\n",
    "lines = readlines(\"data/numbers.txt\")\n",
    "lines"
   ]
  },
  {
   "cell_type": "markdown",
   "id": "4f1a8066-6a0f-458f-aba6-4c9d12ad8283",
   "metadata": {
    "editable": true,
    "slideshow": {
     "slide_type": ""
    },
    "tags": []
   },
   "source": [
    "**Iterate through each line individually using the `eachline` function**:\n",
    "\n",
    "Note that this approach is memory efficient for large files, because we only access the file one line at a time. "
   ]
  },
  {
   "cell_type": "code",
   "execution_count": 5,
   "id": "7da22cbb-d075-410f-ba2f-3e7a0d58de72",
   "metadata": {},
   "outputs": [
    {
     "name": "stdout",
     "output_type": "stream",
     "text": [
      "1\n",
      "-4.3\n",
      "42\n",
      "3.14\n"
     ]
    }
   ],
   "source": [
    "for line in eachline(\"data/numbers.txt\")\n",
    "    println(line)\n",
    "end"
   ]
  },
  {
   "cell_type": "markdown",
   "id": "ee168736-9112-4eb8-a97b-ede1482d09d0",
   "metadata": {
    "editable": true,
    "slideshow": {
     "slide_type": ""
    },
    "tags": []
   },
   "source": [
    "### Exercise: Reading and writing text files\n",
    "\n",
    "Create your own text file of numbers locally on your machine, one number per line. Write code to read in the numbers, sum them and write the result to a new text file. Hint: you may want to make use of the `parse` function."
   ]
  },
  {
   "cell_type": "code",
   "execution_count": 6,
   "id": "4b406909-7fc4-4e09-ae96-fd4d15068c5c",
   "metadata": {},
   "outputs": [],
   "source": [
    "# Answer here\n",
    "\n"
   ]
  },
  {
   "cell_type": "markdown",
   "id": "8c4a4f1e-00d9-48f2-83d9-96181c869c18",
   "metadata": {
    "editable": true,
    "slideshow": {
     "slide_type": ""
    },
    "tags": []
   },
   "source": [
    "## Reading and Writing Binary Files\n",
    "\n",
    "### Reading binary data\n",
    "\n",
    "Sometimes you need to work with raw bytes or store structured numeric data compactly.\n",
    "\n",
    "Recall that we could use the `read` function to read a text file into a `String`:"
   ]
  },
  {
   "cell_type": "code",
   "execution_count": 7,
   "id": "c213faa0-71ab-4c37-86a8-e36a95328ece",
   "metadata": {},
   "outputs": [
    {
     "data": {
      "text/plain": [
       "\"1\\n-4.3\\n42\\n3.14\""
      ]
     },
     "execution_count": 7,
     "metadata": {},
     "output_type": "execute_result"
    }
   ],
   "source": [
    "# Read data as Strings\n",
    "contents = read(\"data/numbers.txt\", String)  # don't forget to specify String\n",
    "contents"
   ]
  },
  {
   "cell_type": "markdown",
   "id": "70694851-4cd8-49cf-94ac-0b4f82383581",
   "metadata": {},
   "source": [
    "If we leave out the `String` type in the function signature, we get something that on first glance looks rather different:"
   ]
  },
  {
   "cell_type": "code",
   "execution_count": 8,
   "id": "8e29774d-9637-4e2b-878a-621da6156dfc",
   "metadata": {},
   "outputs": [
    {
     "data": {
      "text/plain": [
       "14-element Vector{UInt8}:\n",
       " 0x31\n",
       " 0x0a\n",
       " 0x2d\n",
       " 0x34\n",
       " 0x2e\n",
       " 0x33\n",
       " 0x0a\n",
       " 0x34\n",
       " 0x32\n",
       " 0x0a\n",
       " 0x33\n",
       " 0x2e\n",
       " 0x31\n",
       " 0x34"
      ]
     },
     "execution_count": 8,
     "metadata": {},
     "output_type": "execute_result"
    }
   ],
   "source": [
    "# Read data (not as Strings)\n",
    "contents = read(\"data/numbers.txt\")\n",
    "contents"
   ]
  },
  {
   "cell_type": "markdown",
   "id": "d85cc95e-3ffa-4ef6-9172-7b49586e65ce",
   "metadata": {
    "editable": true,
    "slideshow": {
     "slide_type": ""
    },
    "tags": []
   },
   "source": [
    "In fact, this is a sequence of bytes that represents the contents of our file. Bytes can be expressed as unsigned 8-bit integers (`UInt8`); note that the representation above uses literal syntax to represent a `UInt8`, which uses [Hexadecimal](https://en.wikipedia.org/wiki/Hexadecimal) notation:\n",
    "\n",
    "```\n",
    "0x05 = UInt8(5)\n",
    "0x0a = UInt8(10)\n",
    "0x0f = UInt(15)\n",
    "0x34 = UInt8(3 * 16 + 4) = UInt8(52)\n",
    "0xff = UInt8(255)\n",
    "```\n",
    "\n",
    "The key thing to remember is:\n",
    "- `read(file)`: return the contents of `file` as a `Vector` of `UInt8` (i.e. of bytes)\n",
    "- `read(file, String)`: return the contents of `file` as a string.\n",
    "\n",
    "We see here that `read(file)` really just views the contents of the file as a **stream of data** -- all context about *what* that data represents is lost. It's up to us to ensure we know how to interpret that stream of data (which depends on what we're trying to do).\n",
    "\n",
    "### Writing a Binary File\n",
    "\n",
    "The function `write(file, content)` can be used to write a canonical byte representation of some object `content` to the given file. Note that `file` can either be a string giving a filepath or an IO stream created via `open`. The function `write` returns the number of bytes written to the file.\n",
    "\n",
    "> **Technical note: endianness**\n",
    "> \n",
    "> Strictly speaking, `write` writes a byte-representation of some object that adheres to the **endianness** convention of your machine. In the case where we want to express some data that is represented by more than one byte (e.g. an `Int32` requires 4 bytes), it's necessary to specify which order, i.e. the *endianness*, in which the bytes are written in memory. See [the Wikipedia entry on endianness](https://en.wikipedia.org/wiki/Endianness) for more details.\n",
    "\n",
    "Below are two examples: one for writing a `Vector{UInt8}` of arbitrary bytes, and another for writing a `Vector{Int32}` in your machine’s native byte order.\n",
    "- `write(io, bytes::Vector{UInt8})` emits each byte exactly as it appears in memory.\n",
    "- `write(io, numbers::Vector{Int32})` emits each 32-bit integer (in your machine’s native endianness)."
   ]
  },
  {
   "cell_type": "code",
   "execution_count": 9,
   "id": "9cee3e8c-c300-46af-9593-34429860054d",
   "metadata": {
    "editable": true,
    "slideshow": {
     "slide_type": ""
    },
    "tags": []
   },
   "outputs": [
    {
     "data": {
      "text/plain": [
       "12"
      ]
     },
     "execution_count": 9,
     "metadata": {},
     "output_type": "execute_result"
    }
   ],
   "source": [
    "# Prepare some sample data\n",
    "bytes   = UInt8[0x01, 0xFF, 0x10, 0x20]    # raw bytes\n",
    "numbers = Int32[1, -2, 3]                  # three 32-bit ints\n",
    "\n",
    "# 1) Write raw bytes to raw.bin\n",
    "open(\"data/raw.bin\", \"w\") do file\n",
    "    write(file, bytes)\n",
    "end\n",
    "\n",
    "# 2) Write the Int32 array to ints.bin (native endianness)\n",
    "open(\"data/ints.bin\", \"w\") do file\n",
    "    write(file, numbers)\n",
    "end"
   ]
  },
  {
   "cell_type": "markdown",
   "id": "96f682b3-2636-49bf-9e4b-f5340100afec",
   "metadata": {},
   "source": [
    "Note from the output that 12 bytes were written to `data/ints.bin` for the `Int32` array: can you see why?"
   ]
  },
  {
   "cell_type": "markdown",
   "id": "ce2b1965-0439-4c2a-abbf-7ddc4cfea9c0",
   "metadata": {
    "editable": true,
    "slideshow": {
     "slide_type": ""
    },
    "tags": []
   },
   "source": [
    "### Exercise: interpreting binary files\n",
    "\n",
    "This exercise walks you through the process of serializing and deserializing an array of `Float64` numbers, using the binary I/O described above together with the `reinterpret` function.\n",
    "\n",
    "1. Create a 1D array of `Float64` and use `write` to save this array to a file called `array.bin`.\n",
    "2. The `reinterpret` function can be used to take a byte buffer (i.e. a `Vector{UInt8}`) and instead view it as an array with elements of a different type. (This is a zero-copy operation - the same memory is just reinterpreted.) For example, if\n",
    "   \n",
    "   ```\n",
    "   bytes = UInt8[0x1f, 0x85, 0xeb, 0x51, 0xb8, 0x1e, 0x09, 0x40]\n",
    "   ```\n",
    "   \n",
    "   then it just so happens that this sequence of 8 bytes can be interpreted as the length 1 vector `[3.14]` of `Float64`:\n",
    "\n",
    "   ```julia-repl\n",
    "   julia> bytes = UInt8[0x1f, 0x85, 0xeb, 0x51, 0xb8, 0x1e, 0x09, 0x40];\n",
    "   julia> reinterpret(Float64, bytes)\n",
    "   1-element Vector{Float64}:\n",
    "    3.14\n",
    "\n",
    "   ```\n",
    "\n",
    "   Read in the data from `array.bin` as a vector of bytes and use `reinterpret` to interpret it as a vector of `Float64`. Assign the resulting vector to a variable `data`.\n",
    "3. Verify that the contents of `data` is equal to the contents of the original 1D array that you created in part 1."
   ]
  },
  {
   "cell_type": "code",
   "execution_count": 10,
   "id": "9ace620c-a771-4f61-bd1d-2d2d168937a7",
   "metadata": {
    "editable": true,
    "slideshow": {
     "slide_type": ""
    },
    "tags": []
   },
   "outputs": [],
   "source": [
    "# Answer here\n",
    "\n"
   ]
  },
  {
   "cell_type": "markdown",
   "id": "ebaba103-80d4-4ae1-b628-e4e0f439019d",
   "metadata": {
    "editable": true,
    "slideshow": {
     "slide_type": ""
    },
    "tags": []
   },
   "source": [
    "## Remember: closing files and resources\n",
    "\n",
    "Always remember to close files when done. Using the `do` block form of `open` is a safe pattern to ensure closure even if an error occurs during reading/writing. Similarly, the `read`, `readlines`, `eachline` and `write` functions, when given paths to files (rather than IO streams) will ensure closure in the face of errors."
   ]
  },
  {
   "cell_type": "markdown",
   "id": "bff549e4-a4d5-4312-b14e-2d63ac32b52c",
   "metadata": {
    "editable": true,
    "slideshow": {
     "slide_type": ""
    },
    "tags": []
   },
   "source": [
    "## Overview of Common File Formats\n",
    "\n",
    "Julia supports a variety of file formats for data storage and manipulation. Below is an overview of some commonly used file formats along with links to detailed resources for each format.\n",
    "\n",
    "### Delimited Files\n",
    "Delimited text files (CSV, TSV, etc.) can be handled by Julia’s built-in `DelimitedFiles` standard library. It provides the `readdlm` and `writedlm` functions for reading and writing numeric and string arrays with customizable delimiters.\n",
    "\n",
    "[DelimitedFiles Standard Library](https://docs.julialang.org/en/v1/stdlib/DelimitedFiles/)\n",
    "\n",
    "### CSV Files\n",
    "CSV (Comma-Separated Values) files are one of the most widely used formats for storing tabular data. Julia provides excellent support for reading and writing CSV files using the `CSV.jl` package.\n",
    "\n",
    "[CSV.jl (Data Import)](https://csv.juliadata.org/stable/)\n",
    "\n",
    "### JSON Files\n",
    "JSON (JavaScript Object Notation) is a lightweight data interchange format. Julia can handle JSON files using the `JSON.jl` package.\n",
    "\n",
    "[JSON Files in Julia](https://github.com/JuliaIO/JSON.jl)\n",
    "\n",
    "### HDF5 Files\n",
    "HDF5 (Hierarchical Data Format version 5) is designed to store large amounts of data. The `HDF5.jl` package provides support for reading and writing HDF5 files in Julia.\n",
    "\n",
    "[HDF5 Files in Julia](https://github.com/JuliaIO/HDF5.jl)\n",
    "\n",
    "### Parquet Files\n",
    "Parquet is another columnar storage file format optimized for use with data analytics. The `Parquet.jl` package allows for reading and writing Parquet files in Julia.\n",
    "\n",
    "[Parquet Files in Julia](https://github.com/JuliaIO/Parquet.jl)\n",
    "\n",
    "### NetCDF Files\n",
    "NetCDF (Network Common Data Form) is a set of software libraries and self-describing, machine-independent data formats. The `NCDatasets.jl` package is used for working with NetCDF files in Julia.\n",
    "\n",
    "[NetCDF Files in Julia](https://github.com/Alexander-Barth/NCDatasets.jl)\n",
    "\n",
    "### BSON Files\n",
    "BSON (Binary JSON) is a binary representation of JSON-like documents. Julia supports BSON files using the `BSON.jl` package.\n",
    "\n",
    "[BSON Files in Julia](https://github.com/JuliaIO/BSON.jl)\n",
    "\n",
    "### JLD2 Files\n",
    "[JLD2.jl](https://github.com/JuliaIO/JLD2.jl) provides a native-Julia serialization format (built on a subset of HDF5) for saving and loading arbitrary Julia data structures—without the need for the external HDF5 C library.\n",
    "\n",
    "\n",
    "By using the above links, you can explore more about each file format and learn how to effectively use them in Julia."
   ]
  },
  {
   "cell_type": "markdown",
   "id": "059b12a7-2509-4ae6-9452-16ee606070a1",
   "metadata": {
    "editable": true,
    "slideshow": {
     "slide_type": ""
    },
    "tags": []
   },
   "source": [
    "### Exercise: Exploring Other File Formats\n",
    "\n",
    "This is an opportunity to explore a file format that aligns with the kinds of data you typically work with, or hope to work with, in your own projects.\n",
    "\n",
    "1. Select a file format from the list above (e.g., CSV, JSON, HDF5, NetCDF, etc.). Choose **one file format** that you believe will be most relevant to your work beyond this course.\n",
    "2. Visit the online documentation and read a bit about the package, such how to read and write the file format(s) that the package supports \n",
    "3. (You may want to come back to this part once you've completed the episode on package management) Install the package and use it to:\n",
    "   - **Write** a small example dataset to a file in that format.\n",
    "   - **Read** the file back into Julia and print the contents to verify the data roundtrip worked.\n",
    "   \n",
    "   Use the `do` block form of `open` if applicable, to ensure the file is safely closed.\n",
    "\n",
    "Some ideas:\n",
    "- If you're working with tabular data, try `CSV.jl`.\n",
    "- For structured configuration or data exchange, `JSON.jl` might be a good fit.\n",
    "- If you deal with scientific datasets, explore `NetCDF` or `HDF5`."
   ]
  },
  {
   "cell_type": "markdown",
   "id": "c30b77a2-958f-4c66-8ad3-5c4d10b2f8ec",
   "metadata": {
    "editable": true,
    "slideshow": {
     "slide_type": ""
    },
    "tags": []
   },
   "source": [
    "# End of Section Quiz"
   ]
  },
  {
   "cell_type": "code",
   "execution_count": 11,
   "id": "4b88b1f7-2ac2-4924-a0c5-3ee98ca0728b",
   "metadata": {
    "editable": true,
    "slideshow": {
     "slide_type": ""
    },
    "tags": [
     "remove-input"
    ]
   },
   "outputs": [
    {
     "data": {
      "text/html": [
       "<style>\n",
       ".quiz-question {\n",
       "    background-color: #392061;\n",
       "    color: white;\n",
       "    padding: 12px;\n",
       "    border-radius: 10px;\n",
       "    font-weight: bold;\n",
       "    font-size: 1.2em;\n",
       "    margin-bottom: 10px;\n",
       "}\n",
       "\n",
       ".quiz-form {\n",
       "    margin-bottom: 20px;\n",
       "}\n",
       "\n",
       ".quiz-answer {\n",
       "    display: block;\n",
       "    background-color: #f2f2f2;\n",
       "    border: none;\n",
       "    border-radius: 10px;\n",
       "    padding: 10px;\n",
       "    margin: 5px 0;\n",
       "    font-size: 1em;\n",
       "    cursor: pointer;\n",
       "    text-align: left;\n",
       "    transition: background-color 0.3s;\n",
       "    width: 100%;\n",
       "}\n",
       "\n",
       ".quiz-answer:hover {\n",
       "    background-color: #e0e0e0;\n",
       "}\n",
       "\n",
       ".correct {\n",
       "    background-color: #4CAF50 !important;\n",
       "    color: white !important;\n",
       "    border: none;\n",
       "}\n",
       "\n",
       ".incorrect {\n",
       "    background-color: #D32F2F !important;\n",
       "    color: white !important;\n",
       "    border: none;\n",
       "}\n",
       "\n",
       ".feedback {\n",
       "    margin-top: 10px;\n",
       "    font-weight: bold;\n",
       "    font-size: 1em;\n",
       "}\n",
       "</style>\n",
       "\n",
       "<script>\n",
       "function handleAnswer(qid, aid, feedback, isCorrect) {\n",
       "    let buttons = document.querySelectorAll(\".answer-\" + qid);\n",
       "    buttons.forEach(btn => {\n",
       "        btn.classList.remove('correct', 'incorrect');\n",
       "    });\n",
       "\n",
       "    let selected = document.getElementById(aid);\n",
       "    selected.classList.add(isCorrect ? 'correct' : 'incorrect');\n",
       "\n",
       "    let feedbackBox = document.getElementById('feedback_' + qid);\n",
       "    feedbackBox.innerHTML = feedback;\n",
       "    feedbackBox.style.color = isCorrect ? 'green' : 'red';\n",
       "}\n",
       "</script>\n",
       "<div class=\"quiz-question\">Which of the following is the most memory-efficient way to read a very large text file line-by-line in Julia?</div><form class=\"quiz-form\"><button type=\"button\" class=\"quiz-answer answer-1\" id=\"q1_a1\"\n",
       "    onclick=\"handleAnswer('1', 'q1_a1', 'Incorrect', false)\">\n",
       "    read(file, String)\n",
       "</button>\n",
       "<button type=\"button\" class=\"quiz-answer answer-1\" id=\"q1_a2\"\n",
       "    onclick=\"handleAnswer('1', 'q1_a2', 'Incorrect', false)\">\n",
       "    readline(file)\n",
       "</button>\n",
       "<button type=\"button\" class=\"quiz-answer answer-1\" id=\"q1_a3\"\n",
       "    onclick=\"handleAnswer('1', 'q1_a3', 'Correct', true)\">\n",
       "    eachline(file)\n",
       "</button>\n",
       "<button type=\"button\" class=\"quiz-answer answer-1\" id=\"q1_a4\"\n",
       "    onclick=\"handleAnswer('1', 'q1_a4', 'Incorrect', false)\">\n",
       "    readlines(file)\n",
       "</button>\n",
       "<div class=\"feedback\" id=\"feedback_1\"></div>\n",
       "<button type=\"submit\" style=\"position:absolute; left:-9999px; width:1px; height:1px; overflow:hidden;\">\n",
       "    Submit\n",
       "</button>\n",
       "</form><hr>\n",
       "<div class=\"quiz-question\">In Julia, what is the recommended way to ensure a file is always closed after reading or writing, even if an error occurs during processing?</div><form class=\"quiz-form\"><button type=\"button\" class=\"quiz-answer answer-2\" id=\"q2_a1\"\n",
       "    onclick=\"handleAnswer('2', 'q2_a1', 'Incorrect', false)\">\n",
       "    Manually call close(file) after reading/writing.\n",
       "</button>\n",
       "<button type=\"button\" class=\"quiz-answer answer-2\" id=\"q2_a2\"\n",
       "    onclick=\"handleAnswer('2', 'q2_a2', 'Incorrect', false)\">\n",
       "    Use try..catch..finally to close the file\n",
       "</button>\n",
       "<button type=\"button\" class=\"quiz-answer answer-2\" id=\"q2_a3\"\n",
       "    onclick=\"handleAnswer('2', 'q2_a3', 'Correct', true)\">\n",
       "    Use the do block form of open()\n",
       "</button>\n",
       "<button type=\"button\" class=\"quiz-answer answer-2\" id=\"q2_a4\"\n",
       "    onclick=\"handleAnswer('2', 'q2_a4', 'Incorrect', false)\">\n",
       "    Let Julias garbage collector handle it\n",
       "</button>\n",
       "<div class=\"feedback\" id=\"feedback_2\"></div>\n",
       "<button type=\"submit\" style=\"position:absolute; left:-9999px; width:1px; height:1px; overflow:hidden;\">\n",
       "    Submit\n",
       "</button>\n",
       "</form><hr>\n"
      ]
     },
     "metadata": {},
     "output_type": "display_data"
    }
   ],
   "source": [
    "include(\"../../julia_functions/quiz_renderer.jl\")\n",
    "show_quiz_from_json(\"questions/summary_io.json\")"
   ]
  },
  {
   "cell_type": "code",
   "execution_count": null,
   "id": "09d9a8d1-84b5-40e0-94f4-ba8415cf59b6",
   "metadata": {
    "editable": true,
    "slideshow": {
     "slide_type": ""
    },
    "tags": []
   },
   "outputs": [],
   "source": []
  }
 ],
 "metadata": {
  "kernelspec": {
   "display_name": "Julia 1.11.5",
   "language": "julia",
   "name": "julia-1.11"
  },
  "language_info": {
   "file_extension": ".jl",
   "mimetype": "application/julia",
   "name": "julia",
   "version": "1.11.5"
  }
 },
 "nbformat": 4,
 "nbformat_minor": 5
}