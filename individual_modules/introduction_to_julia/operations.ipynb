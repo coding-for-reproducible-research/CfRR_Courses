{
 "cells": [
  {
   "cell_type": "markdown",
   "id": "c430030b-7f19-4bb8-af0b-2ea4b159ed2e",
   "metadata": {
    "editable": true,
    "slideshow": {
     "slide_type": ""
    },
    "tags": []
   },
   "source": [
    "# Operations \n",
    "\n",
    "## Learning Objectives \n",
    "\n",
    "- Perform basic arithmetic operations in Julia \n",
    "- Use logical operators to evaluate Boolean expressions \n",
    "- Apply comparison operators to compare values\n",
    "- Understand the syntax and usage of different operators in Julia\n",
    "- Implement basic mathematical and logical operations in Julia scripts\n",
    "\n",
    "## Arithmetic Operations \n",
    "\n",
    "Julia supports the standard arithmetic operators you are familiar with from other languages, including:\n",
    "- `+` (addition)\n",
    "- `-` (subtraction)\n",
    "- `*` (multiplication)\n",
    "- `/` (division) - Note: dividing two integers with `/` produces a `Float64` result in Julia (e.g., `3/2` gives `1.5`).\n",
    "- `÷` (integer division, also called floor division) - this gives the quotient of division rounded down to an integer. For example, `10 ÷ 3` results in `3` because `10/3` is `3.333...`. As a tip, you can type the symbol `÷` by using a Julia REPL (or [VS Code with the Julia extension](https://code.visualstudio.com/docs/languages/julia)) by typing - `\\div<tab>`. You can also use the `div(x, y)` function to the same effect.\n",
    "- `%` (modulus) - the remainder of the division. For example, `10 % 3` results in `1`.\n",
    "- `^` (exponentiation) - raising to a power. For example, `2 ^ 3` is `8`. \n",
    "\n",
    "The order of operations (precedence) in Julia follows standard math rules: for instance, multiplication/division happens before addition/subtraction unless you use parentheses to explicitly group. For example, ` 3 + 5 * 2` will yield 13 (since it calculated `5*2` first, then adds 3). If you want to force addition first, you will write `(3 + 5) * 2`, which would equal `16`.\n",
    "\n",
    "Some of the different operations and their results include: "
   ]
  },
  {
   "cell_type": "code",
   "execution_count": 1,
   "id": "bf528d52-5ea5-4a7c-bf50-b9d4007323a4",
   "metadata": {
    "editable": true,
    "slideshow": {
     "slide_type": ""
    },
    "tags": []
   },
   "outputs": [
    {
     "name": "stdout",
     "output_type": "stream",
     "text": [
      "x: 10\n",
      "y: 3\n",
      "Addition, x + y = 13\n",
      "Subtraction, x - y = 7\n",
      "Multiplication, x * y = 30\n",
      "Division, x / y = 3.3333333333333335\n",
      "Floor Division, x ÷ y = 3\n",
      "Modulus, x % y = 1\n",
      "Exponentiation, x ^ y = 1000\n"
     ]
    }
   ],
   "source": [
    "x = 10\n",
    "y = 3\n",
    "println(\"x: \", x)\n",
    "println(\"y: \", y)\n",
    "println(\"Addition, x + y = \", x + y)        # 13\n",
    "println(\"Subtraction, x - y = \", x - y)     # 7\n",
    "println(\"Multiplication, x * y = \", x * y)  # 30\n",
    "println(\"Division, x / y = \", x / y)        # 3.3333333333333335 (a Float64)\n",
    "println(\"Floor Division, x ÷ y = \", x ÷ y)  # 3 (an Int)\n",
    "println(\"Modulus, x % y = \", x % y)         # 1\n",
    "println(\"Exponentiation, x ^ y = \", x ^ y)  # 1000 (10^3)"
   ]
  },
  {
   "cell_type": "markdown",
   "id": "a6a10279-c26b-4a3e-a46d-7abc723cdd86",
   "metadata": {
    "editable": true,
    "slideshow": {
     "slide_type": ""
    },
    "tags": []
   },
   "source": [
    "### Exercise: Calculating the Average of Two Numbers\n",
    "\n",
    "Given two numbers, write a short code snippet that computes their average and print it. For instance, for `a = 7`and `b = 4`, the average is `(7+4)/2 = 5.5`, test your code with different pairs of numbers (including a pair of integers and a pair of floats)."
   ]
  },
  {
   "cell_type": "code",
   "execution_count": 2,
   "id": "d9991519-3ba1-46e7-85de-974f547ffd32",
   "metadata": {},
   "outputs": [],
   "source": [
    "# Answer here\n",
    "\n"
   ]
  },
  {
   "cell_type": "markdown",
   "id": "26e28c3f-37a6-45c6-90e0-734ead70613a",
   "metadata": {
    "editable": true,
    "slideshow": {
     "slide_type": ""
    },
    "tags": []
   },
   "source": [
    "## Comparison Operations\n",
    "\n",
    "Comparison operators in Julia are used to compare values and yield Boolean results (`true` or `false`). These include: \n",
    "- `==` (equality test) - e.g. `5 == 5` yields `true`, `5 == 3` yields `false`. Remember to use `==` for comparison, **not** a single `=`, which is an assignment. \n",
    "- `!=` (inequality test) - e.g. `5 != 3` yields `true`, `5 != 5` yields `false` `!= can be read as \"not equal to\".\n",
    "- `<` (less than), `>` (greater than) - e.g. `7 < 10` is `true`, `7 < 10` is `false`. \n",
    "- `<=` (less than or equal to), `>=` (greater than or equal to) - e.g. `3 <= 3` is `true` (since it's equal), `4 >= 5` is `false`.\n",
    "- `===` (Identity) - Test for object identity and exact bitwise equality. Useful for when you need to distinguish, for example, an integer from a floating-point value.\n",
    "- `isa` (Type-Test Operator) - Checks whether a value belongs to a given type (including subtypes). \n",
    "\n",
    "You can chain comparisons in Julia, which can make certain checks elegant. For example, to check if `x` is between 0 and 100, you can do: `0 <= x <= 100`. This will produce `true` if and only if `x` is between 0 and 100 (inclusive). Julia evaluates chained comparisons in the mathematically expected way, similar to Python. "
   ]
  },
  {
   "cell_type": "code",
   "execution_count": 3,
   "id": "f0c37c2e-01de-49ff-b09c-bb7d3a8dd30a",
   "metadata": {
    "editable": true,
    "slideshow": {
     "slide_type": ""
    },
    "tags": []
   },
   "outputs": [
    {
     "name": "stdout",
     "output_type": "stream",
     "text": [
      "Is x equal to y?        false\n",
      "Is x not equal to y?    true\n",
      "Is x less than y?       true\n",
      "Is x greater than y?    false\n",
      "Is x ≤ y?               true\n",
      "Is x ≥ y?               false\n",
      "Is x between 0 and y?   true\n",
      "Is a identical to b?    false\n",
      "Is a equal to b?        true\n",
      "Is x an Int?            true\n",
      "Is y a Float64?         false\n"
     ]
    }
   ],
   "source": [
    "x = 5\n",
    "y = 10\n",
    "\n",
    "println(\"Is x equal to y?        \", x == y)        # false, 5 is not equal to 10\n",
    "println(\"Is x not equal to y?    \", x != y)        # true, 5 is not equal to 10\n",
    "println(\"Is x less than y?       \", x < y)         # true, 5 < 10\n",
    "println(\"Is x greater than y?    \", x > y)         # false, 5 > 10 is false\n",
    "println(\"Is x ≤ y?               \", x <= y)        # true, 5 is less than or equal to 10\n",
    "println(\"Is x ≥ y?               \", x >= y)        # false, 5 is not ≥ 10\n",
    "\n",
    "println(\"Is x between 0 and y?   \", 0 <= x <= y)   # true iff 0 ≤ 5 ≤ 10\n",
    "\n",
    "a = 2        # Int\n",
    "b = 2.0      # Float64\n",
    "\n",
    "println(\"Is a identical to b?    \", a === b)        # false, 2 (Int) vs 2.0 (Float64)\n",
    "println(\"Is a equal to b?        \", a == b)\n",
    "\n",
    "println(\"Is x an Int?            \", x isa Int)    # true\n",
    "println(\"Is y a Float64?         \", y isa Float64)   # false\n"
   ]
  },
  {
   "cell_type": "markdown",
   "id": "96b8f4ad-9192-4a63-b410-7e999fc64b6e",
   "metadata": {
    "editable": true,
    "slideshow": {
     "slide_type": ""
    },
    "tags": []
   },
   "source": [
    "### Exercise: Comparison Operations \n",
    "\n",
    "Using the variables `a = 15` and `b = 20`, write an expression to check the following and print the results: \n",
    "- whether `a` is at least 10, \n",
    "- whether `a` and `b` are equal \n",
    "- whether `a` is between 10 and 20 inclusive. "
   ]
  },
  {
   "cell_type": "code",
   "execution_count": 4,
   "id": "13421ca7-a767-4579-98dc-d08d9f7485c7",
   "metadata": {},
   "outputs": [],
   "source": [
    "# Answer here\n",
    "\n"
   ]
  },
  {
   "cell_type": "markdown",
   "id": "f91011f1-98a8-46df-b3f1-c6a1bb90d135",
   "metadata": {
    "editable": true,
    "slideshow": {
     "slide_type": ""
    },
    "tags": []
   },
   "source": [
    "## Logical (Boolean) Operations \n",
    "Logical operators let you combine or invert Boolean values. They all return `true` or `false`.\n",
    "- **AND**: (`&&`) – returns true if **both** operands are true. Short-circuits if the first operand is false (the second isn’t evaluated).\n",
    "- **OR**: (`||`) – returns true if **at least one** operand is true. Short-circuits if the first operand is true (the second isn’t evaluated).\n",
    "- **NOT**: (`!`) – unary operator that negates a Boolean value.\n",
    "- **Bitwise & Elementwise**: (`&` and `|`) – do not short-circuit. Use for bitwise AND/OR on integers or element-wise operations on arrays.\n",
    "\n"
   ]
  },
  {
   "cell_type": "code",
   "execution_count": 5,
   "id": "c4e35333-b283-4ef3-8407-0f1cd1444278",
   "metadata": {
    "editable": true,
    "slideshow": {
     "slide_type": ""
    },
    "tags": []
   },
   "outputs": [
    {
     "name": "stdout",
     "output_type": "stream",
     "text": [
      "a:             true\n",
      "b:             false\n",
      "a AND b:       false\n",
      "a OR b:        true\n",
      "NOT a:         false\n"
     ]
    }
   ],
   "source": [
    "a = true\n",
    "b = false\n",
    "\n",
    "println(\"a:             \", a)          # true\n",
    "println(\"b:             \", b)          # false\n",
    "println(\"a AND b:       \", a && b)     # false (b is false)\n",
    "println(\"a OR b:        \", a || b)     # true  (a is true)\n",
    "println(\"NOT a:         \", !a)         # false (negates true)\n"
   ]
  },
  {
   "cell_type": "markdown",
   "id": "77113267-56fa-4c72-8641-a8e84332c246",
   "metadata": {
    "editable": true,
    "slideshow": {
     "slide_type": ""
    },
    "tags": []
   },
   "source": [
    "Of course, we can use actual comparisons in place of `a` and `b` to form compound logical expressions. For instance:"
   ]
  },
  {
   "cell_type": "code",
   "execution_count": 6,
   "id": "c980ab13-0ba4-4e48-a677-01d58a287e0a",
   "metadata": {
    "editable": true,
    "slideshow": {
     "slide_type": ""
    },
    "tags": []
   },
   "outputs": [
    {
     "name": "stdout",
     "output_type": "stream",
     "text": [
      "true\n"
     ]
    }
   ],
   "source": [
    "x = 7\n",
    "\n",
    "# print whether x is positive AND x is odd\n",
    "println((x > 0) && (x % 2 == 1))\n"
   ]
  },
  {
   "cell_type": "markdown",
   "id": "d40e47c9-ea39-4125-a6fa-7a773fdc0f1d",
   "metadata": {},
   "source": [
    "We can also chain multiple Boolean operations together:"
   ]
  },
  {
   "cell_type": "code",
   "execution_count": 7,
   "id": "639a3a7b-db26-4973-ab78-65856c1b9465",
   "metadata": {},
   "outputs": [
    {
     "name": "stdout",
     "output_type": "stream",
     "text": [
      "Consequentially: true\n",
      "Counterfactual: true\n"
     ]
    }
   ],
   "source": [
    "# Check whether each vowel is in the word or 'y' is *not* in the word\n",
    "# word = Consequentially\n",
    "word = \"Consequentially\"\n",
    "condition = ('a' in word) && ('e' in word) && ('i' in word) && ('o' in word) && ('u' in word) || !('y' in word)\n",
    "println(\"$(word): \", condition)\n",
    "\n",
    "# word = Counterfactual\n",
    "word = \"Counterfactual\"\n",
    "condition = ('a' in word) && ('e' in word) && ('i' in word) && ('o' in word) && ('u' in word) || !('y' in word)\n",
    "println(\"$(word): \", condition)"
   ]
  },
  {
   "cell_type": "markdown",
   "id": "467e2d85-3e34-4a8a-8fe6-a19d56b0534e",
   "metadata": {
    "editable": true,
    "slideshow": {
     "slide_type": ""
    },
    "tags": []
   },
   "source": [
    "### A trick with `||`\n",
    "\n",
    "When evaluating `a || b`, it's actually more precise to say that `||` returns `true` if `a` is `true` or else it *evaluates to the value of `b`*. For example:"
   ]
  },
  {
   "cell_type": "code",
   "execution_count": 8,
   "id": "894e7f05-a977-43ba-8dd0-b9f860986166",
   "metadata": {},
   "outputs": [
    {
     "data": {
      "text/plain": [
       "\"fish\""
      ]
     },
     "execution_count": 8,
     "metadata": {},
     "output_type": "execute_result"
    }
   ],
   "source": [
    "# Evaluates to the value of the second argument\n",
    "(1 == 2) || \"fish\""
   ]
  },
  {
   "cell_type": "markdown",
   "id": "7918163a-57d0-4f25-87cd-36c4114a4a5a",
   "metadata": {},
   "source": [
    "This may seem a bit odd, but it does have some useful applications. For example, we can use it in the following 'guard' pattern to throw an error is some condition isn't met:"
   ]
  },
  {
   "cell_type": "code",
   "execution_count": 9,
   "id": "a67acad5-9d97-46fe-99d9-4bd1f5532f4e",
   "metadata": {
    "editable": true,
    "slideshow": {
     "slide_type": ""
    },
    "tags": []
   },
   "outputs": [
    {
     "ename": "LoadError",
     "evalue": "x cannot be negative",
     "output_type": "error",
     "traceback": [
      "x cannot be negative",
      "",
      "Stacktrace:",
      " [1] \u001b[0m\u001b[1merror\u001b[22m\u001b[0m\u001b[1m(\u001b[22m\u001b[90ms\u001b[39m::\u001b[0mString\u001b[0m\u001b[1m)\u001b[22m",
      "\u001b[90m   @\u001b[39m \u001b[90mBase\u001b[39m \u001b[90m./\u001b[39m\u001b[90m\u001b[4merror.jl:35\u001b[24m\u001b[39m",
      " [2] top-level scope",
      "\u001b[90m   @\u001b[39m \u001b[90m\u001b[4mIn[9]:3\u001b[24m\u001b[39m"
     ]
    }
   ],
   "source": [
    "# Throw error if number negative\n",
    "x = -3\n",
    "(x >= 0) || error(\"x cannot be negative\")"
   ]
  },
  {
   "cell_type": "markdown",
   "id": "4e0514e1-5566-400a-8fc5-9246162b41dc",
   "metadata": {
    "editable": true,
    "slideshow": {
     "slide_type": ""
    },
    "tags": []
   },
   "source": [
    "### Exercise: Writing Conditions\n",
    "\n",
    "Consider two variables, `score = 85` and `max_score = 100`. Write a condition that can be used to check whether the `score` is **within a valid range** (say 0 to `max_score` inclusive) **and** that the percentage score (`score/max_score`) is at least 80%. For bonus points, get it to print the text \"Didn't pass\" if one of these conditions isn't satisfied."
   ]
  },
  {
   "cell_type": "code",
   "execution_count": 10,
   "id": "fa837b77-4f16-4a53-b4d5-764e1920435a",
   "metadata": {},
   "outputs": [],
   "source": [
    "# Answer here\n",
    "\n"
   ]
  },
  {
   "cell_type": "markdown",
   "id": "1d07b0b2-a08b-46b6-a6da-8d4db72e24d9",
   "metadata": {
    "editable": true,
    "slideshow": {
     "slide_type": ""
    },
    "tags": []
   },
   "source": [
    "### Extension exercise: what about `&&`?\n",
    "\n",
    "We discussed how `||` evaluates to the final argument if the first argument is `true`. What do you think the analogous statement is for `&&`?"
   ]
  },
  {
   "cell_type": "markdown",
   "id": "b8ebefcb-510b-4ea5-be73-c68446358613",
   "metadata": {
    "editable": true,
    "slideshow": {
     "slide_type": ""
    },
    "tags": []
   },
   "source": [
    "# End of Section Quiz"
   ]
  },
  {
   "cell_type": "code",
   "execution_count": 11,
   "id": "ff5ea90f-7d5a-4d02-b469-329ebc5bf5ec",
   "metadata": {
    "editable": true,
    "slideshow": {
     "slide_type": ""
    },
    "tags": [
     "remove-input"
    ]
   },
   "outputs": [
    {
     "data": {
      "text/html": [
       "<style>\n",
       ".quiz-question {\n",
       "    background-color: #392061;\n",
       "    color: white;\n",
       "    padding: 12px;\n",
       "    border-radius: 10px;\n",
       "    font-weight: bold;\n",
       "    font-size: 1.2em;\n",
       "    margin-bottom: 10px;\n",
       "}\n",
       "\n",
       ".quiz-form {\n",
       "    margin-bottom: 20px;\n",
       "}\n",
       "\n",
       ".quiz-answer {\n",
       "    display: block;\n",
       "    background-color: #f2f2f2;\n",
       "    border: none;\n",
       "    border-radius: 10px;\n",
       "    padding: 10px;\n",
       "    margin: 5px 0;\n",
       "    font-size: 1em;\n",
       "    cursor: pointer;\n",
       "    text-align: left;\n",
       "    transition: background-color 0.3s;\n",
       "    width: 100%;\n",
       "}\n",
       "\n",
       ".quiz-answer:hover {\n",
       "    background-color: #e0e0e0;\n",
       "}\n",
       "\n",
       ".correct {\n",
       "    background-color: #4CAF50 !important;\n",
       "    color: white !important;\n",
       "    border: none;\n",
       "}\n",
       "\n",
       ".incorrect {\n",
       "    background-color: #D32F2F !important;\n",
       "    color: white !important;\n",
       "    border: none;\n",
       "}\n",
       "\n",
       ".feedback {\n",
       "    margin-top: 10px;\n",
       "    font-weight: bold;\n",
       "    font-size: 1em;\n",
       "}\n",
       "</style>\n",
       "\n",
       "<script>\n",
       "function handleAnswer(qid, aid, feedback, isCorrect) {\n",
       "    let buttons = document.querySelectorAll(\".answer-\" + qid);\n",
       "    buttons.forEach(btn => {\n",
       "        btn.classList.remove('correct', 'incorrect');\n",
       "    });\n",
       "\n",
       "    let selected = document.getElementById(aid);\n",
       "    selected.classList.add(isCorrect ? 'correct' : 'incorrect');\n",
       "\n",
       "    let feedbackBox = document.getElementById('feedback_' + qid);\n",
       "    feedbackBox.innerHTML = feedback;\n",
       "    feedbackBox.style.color = isCorrect ? 'green' : 'red';\n",
       "}\n",
       "</script>\n",
       "<div class=\"quiz-question\">Which operator would you use in Julia for exponentiation (raising to a power)?</div><form class=\"quiz-form\"><button type=\"button\" class=\"quiz-answer answer-1\" id=\"q1_a1\"\n",
       "    onclick=\"handleAnswer('1', 'q1_a1', 'Incorrect', false)\">\n",
       "    **\n",
       "</button>\n",
       "<button type=\"button\" class=\"quiz-answer answer-1\" id=\"q1_a2\"\n",
       "    onclick=\"handleAnswer('1', 'q1_a2', 'Correct', true)\">\n",
       "    ^\n",
       "</button>\n",
       "<button type=\"button\" class=\"quiz-answer answer-1\" id=\"q1_a3\"\n",
       "    onclick=\"handleAnswer('1', 'q1_a3', 'Incorrect', false)\">\n",
       "    pow()\n",
       "</button>\n",
       "<button type=\"button\" class=\"quiz-answer answer-1\" id=\"q1_a4\"\n",
       "    onclick=\"handleAnswer('1', 'q1_a4', 'Incorrect', false)\">\n",
       "    ^^\n",
       "</button>\n",
       "<div class=\"feedback\" id=\"feedback_1\"></div>\n",
       "<button type=\"submit\" style=\"position:absolute; left:-9999px; width:1px; height:1px; overflow:hidden;\">\n",
       "    Submit\n",
       "</button>\n",
       "</form><hr>\n",
       "<div class=\"quiz-question\">What is the result of the expression `10 < 5 || 2 + 2 == 4` in Julia?</div><form class=\"quiz-form\"><button type=\"button\" class=\"quiz-answer answer-2\" id=\"q2_a1\"\n",
       "    onclick=\"handleAnswer('2', 'q2_a1', 'Correct', true)\">\n",
       "    true\n",
       "</button>\n",
       "<button type=\"button\" class=\"quiz-answer answer-2\" id=\"q2_a2\"\n",
       "    onclick=\"handleAnswer('2', 'q2_a2', 'Incorrect', false)\">\n",
       "    false\n",
       "</button>\n",
       "<button type=\"button\" class=\"quiz-answer answer-2\" id=\"q2_a3\"\n",
       "    onclick=\"handleAnswer('2', 'q2_a3', 'Incorrect', false)\">\n",
       "    An error\n",
       "</button>\n",
       "<button type=\"button\" class=\"quiz-answer answer-2\" id=\"q2_a4\"\n",
       "    onclick=\"handleAnswer('2', 'q2_a4', 'Incorrect', false)\">\n",
       "    false && true\n",
       "</button>\n",
       "<div class=\"feedback\" id=\"feedback_2\"></div>\n",
       "<button type=\"submit\" style=\"position:absolute; left:-9999px; width:1px; height:1px; overflow:hidden;\">\n",
       "    Submit\n",
       "</button>\n",
       "</form><hr>\n"
      ]
     },
     "metadata": {},
     "output_type": "display_data"
    }
   ],
   "source": [
    "include(\"../../julia_functions/quiz_renderer.jl\")\n",
    "show_quiz_from_json(\"questions/summary_operations.json\")"
   ]
  },
  {
   "cell_type": "code",
   "execution_count": null,
   "id": "d0b792c9-41d8-463f-b9ad-6a31667f0a67",
   "metadata": {
    "editable": true,
    "slideshow": {
     "slide_type": ""
    },
    "tags": []
   },
   "outputs": [],
   "source": []
  }
 ],
 "metadata": {
  "kernelspec": {
   "display_name": "Julia 1.11.5",
   "language": "julia",
   "name": "julia-1.11"
  },
  "language_info": {
   "file_extension": ".jl",
   "mimetype": "application/julia",
   "name": "julia",
   "version": "1.11.5"
  }
 },
 "nbformat": 4,
 "nbformat_minor": 5
}
