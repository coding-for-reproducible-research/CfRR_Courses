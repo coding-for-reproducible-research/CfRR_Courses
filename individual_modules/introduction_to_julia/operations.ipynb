{
 "cells": [
  {
   "cell_type": "markdown",
   "id": "c430030b-7f19-4bb8-af0b-2ea4b159ed2e",
   "metadata": {
    "editable": true,
    "slideshow": {
     "slide_type": ""
    },
    "tags": []
   },
   "source": [
    "# Operations \n",
    "\n",
    "## Learning Objectives \n",
    "\n",
    "- Perform basic arithmetic operations in Julia \n",
    "- Use logical operators to evaluate Boolean expressions \n",
    "- Apply comparison operators to compare values\n",
    "- Understand the syntax and usage of different operators in Julia\n",
    "- Implement basic mathematical and logical operations in Julia scripts\n",
    "\n",
    "## Arithmetic Operations \n",
    "\n",
    "Julia supports the standard arithmetic operators you are familiar with from other languages, including:\n",
    "- `+` (addition)\n",
    "- `-` (subtraction)\n",
    "- `*` (multiplications)\n",
    "- `/` (division) - Note: dividing two integers with `/` produces a `Float64` result in Julia (e.g., `3/2` gives `1.5`).\n",
    "- `÷` (integer division, also called floor division) - this gives the quotient of division rounded down to an integer. For example, `10 ÷ 3` results in `3` because `10/3` is `3.333...` and the float is `3`. As a tip, you can type the symbol `÷` by using a Julia REPLY or VS Code by typing - `\\div<tab>`. You can also use the `div(x,y)` function to the same effect.\n",
    "- `%` (modulus) - the remainder of the division. For example, `10 % 3` results in `1`.\n",
    "- `^` (exponentiation) - raising to a power. For example, `2 ^ 3` is `8`. \n",
    "\n",
    "The order of operations (precedence) in Julia follows standard math rules: for instance, multiplication/division happens before addition/subtraction unless you use parentheses to explicitly group. For example, ` 3 + 5 * 2` will yield 13 (since it calculated `5*2` first, then adds 3). If you want to force addition first, you will write `(3 + 5) * 2`, which would equal `16`.\n",
    "\n",
    "Some of the different operations and their results include: "
   ]
  },
  {
   "cell_type": "code",
   "execution_count": 1,
   "id": "bf528d52-5ea5-4a7c-bf50-b9d4007323a4",
   "metadata": {
    "editable": true,
    "slideshow": {
     "slide_type": ""
    },
    "tags": []
   },
   "outputs": [
    {
     "name": "stdout",
     "output_type": "stream",
     "text": [
      "X: 10\n",
      "Y: 3\n",
      "Addition, x + y = 13\n",
      "Subtraction, x - y = 7\n",
      "Multiplication, x * y = 30\n",
      "Division, x / y = 3.3333333333333335\n",
      "Floor Division, x ÷ y = 3\n",
      "Modulus, x % y = 1\n",
      "Exponentiation, x ^ y = 1000\n"
     ]
    }
   ],
   "source": [
    "x = 10\n",
    "y = 3\n",
    "println(\"X: \", x)\n",
    "println(\"Y: \", y)\n",
    "println(\"Addition, x + y = \", x + y)        # 13\n",
    "println(\"Subtraction, x - y = \", x - y)     # 7\n",
    "println(\"Multiplication, x * y = \", x * y)  # 30\n",
    "println(\"Division, x / y = \", x / y)        # 3.3333333333333335 (a Float64)\n",
    "println(\"Floor Division, x ÷ y = \", x ÷ y)  # 3 (an Int)\n",
    "println(\"Modulus, x % y = \", x % y)         # 1\n",
    "println(\"Exponentiation, x ^ y = \", x ^ y)  # 1000 (10^3)"
   ]
  },
  {
   "cell_type": "markdown",
   "id": "a6a10279-c26b-4a3e-a46d-7abc723cdd86",
   "metadata": {
    "editable": true,
    "slideshow": {
     "slide_type": ""
    },
    "tags": []
   },
   "source": [
    "## Exercise 1: Calculating the Average of Two Numbers\n",
    "Given two numbers, write a short code snippet that computes their average and print it. For instance, for `a = 7`and `b = 4`, the average is `(7+4)/2 = 5.5`, test your code with different pairs of numbers (including a pair of integers and a pair of floats)."
   ]
  },
  {
   "cell_type": "markdown",
   "id": "26e28c3f-37a6-45c6-90e0-734ead70613a",
   "metadata": {
    "editable": true,
    "slideshow": {
     "slide_type": ""
    },
    "tags": []
   },
   "source": [
    "## Comparison Operations \n",
    "Comparison operators in Julia are used to compare values and field Boolean results (`true` or `false`). These include: \n",
    "- `==` (equality test) - e.g. `5 == 5` yields `true`, `5 == 3` yields `false`. Remember to use `==` for comparison, **not** a single `=`, which is an assignment. \n",
    "- `!=` (inequality test) - e.g. `5 != 3` yields `true`, `5 != 5` yields `false` `!= can be read as \"not equal to\".\n",
    "- `<` (less than), `>` (greater than) - e.g. `7 < 10` is `true`, `7 < 10` is `false`. \n",
    "- `<=` (less than or equal to), `>=` (greater than or equal to) - e.g. `3 <= 3` is `true` (since it's equal), `4 >= 5` is `false`. \n",
    "\n",
    "You can chain comparisons in Julia, which can make certain checks elegant. For example, to check if `x` is between 0 and 100, you can do: `0 <= x <= 100`. This will produce `true` if and only if `x` is between 0 and 100 (inclusive). Julia evaluates chained comparisons in the mathematically expected way, similar to Python. "
   ]
  },
  {
   "cell_type": "code",
   "execution_count": 3,
   "id": "f0c37c2e-01de-49ff-b09c-bb7d3a8dd30a",
   "metadata": {
    "editable": true,
    "slideshow": {
     "slide_type": ""
    },
    "tags": []
   },
   "outputs": [
    {
     "name": "stdout",
     "output_type": "stream",
     "text": [
      "Is x equal to y? false\n",
      "Is x not equal to y? true\n",
      "Is x less than y? true\n",
      "Is x greater than y? false\n",
      "Is x ≤ y? true\n",
      "Is x ≥ y? false\n"
     ]
    }
   ],
   "source": [
    "x = 5\n",
    "y = 10\n",
    "println(\"Is x equal to y? \", x == y)          # false, 5 is not equal to 10\n",
    "println(\"Is x not equal to y? \", x != y)      # true, 5 is not equal to 10\n",
    "println(\"Is x less than y? \", x < y)          # true, 5 < 10\n",
    "println(\"Is x greater than y? \", x > y)       # false, 5 > 10 is false\n",
    "println(\"Is x ≤ y? \", x <= y)                # true, 5 is less or equal to 10\n",
    "println(\"Is x ≥ y? \", x >= y)                # false, 5 is not ≥ 10\n"
   ]
  },
  {
   "cell_type": "markdown",
   "id": "96b8f4ad-9192-4a63-b410-7e999fc64b6e",
   "metadata": {
    "editable": true,
    "slideshow": {
     "slide_type": ""
    },
    "tags": []
   },
   "source": [
    "## Exercise 2: Comparison Operations \n",
    "Using the variables `a = 15` and `b = 20`, write an expression to check the following and print the results: \n",
    "- whether `a` is at least 10, \n",
    "- whether `a` and `b` are equal \n",
    "- whether `a` is between 10 and 20 inclusive. "
   ]
  },
  {
   "cell_type": "markdown",
   "id": "f91011f1-98a8-46df-b3f1-c6a1bb90d135",
   "metadata": {
    "editable": true,
    "slideshow": {
     "slide_type": ""
    },
    "tags": []
   },
   "source": [
    "## Logical (Boolean) Operations \n",
    "Logical operators allow combining or inverting Boolean values: \n",
    "- **AND**: `&&` - results in `true` if **both** operands are true (and short-circuits, meaning if the first operand is false, it won't evaluate the second). Example: `(5 < 10) && (2 + 2 == 4)` is `true` because both `(5<10)` and `(2 + 2 == 4)` are `true`. \n",
    "- **OR**: `||` - results in `true if **at least one** operand is true (short-circuits if the first is true). Example: `(1 > 5) || (2 + 2 == 4)` is `true` because the second part is true, even though the first is false.\n",
    "- **NOT**: `!` - unary operator that negates a Boolean value. Example: `!(5 == 5)` is `false` because `5 == 5` is true and then NOT flips it to false. \n",
    "An important note is that the single `&` and `|` symbols also exist, but those are bitwise and elementwise operations. "
   ]
  },
  {
   "cell_type": "code",
   "execution_count": 4,
   "id": "c4e35333-b283-4ef3-8407-0f1cd1444278",
   "metadata": {
    "editable": true,
    "slideshow": {
     "slide_type": ""
    },
    "tags": []
   },
   "outputs": [
    {
     "name": "stdout",
     "output_type": "stream",
     "text": [
      "a: true\n",
      "b: false\n",
      "a AND b: false\n",
      "a OR b: true\n",
      "NOT a: false\n"
     ]
    }
   ],
   "source": [
    "a = true\n",
    "b = false\n",
    "println(\"a: \", a)\n",
    "println(\"b: \", b)\n",
    "println(\"a AND b: \", a && b)   # false (because b is false)\n",
    "println(\"a OR b: \", a || b)    # true  (because a is true)\n",
    "println(\"NOT a: \", !a)         # false (because a is true, not true -> false)"
   ]
  },
  {
   "cell_type": "markdown",
   "id": "8415f5e9-1775-453f-87f7-1f615c59fc24",
   "metadata": {
    "editable": true,
    "slideshow": {
     "slide_type": ""
    },
    "tags": []
   },
   "source": [
    "If you plug in actual comparisons in place of `a` and `b`, you can form compound logical expressions. For instance:"
   ]
  },
  {
   "cell_type": "code",
   "execution_count": 6,
   "id": "c980ab13-0ba4-4e48-a677-01d58a287e0a",
   "metadata": {
    "editable": true,
    "slideshow": {
     "slide_type": ""
    },
    "tags": []
   },
   "outputs": [
    {
     "name": "stdout",
     "output_type": "stream",
     "text": [
      "true\n"
     ]
    }
   ],
   "source": [
    "x = 7\n",
    "println((x > 0) && (x % 2 == 1))  # true if x is positive AND x is odd\n"
   ]
  },
  {
   "cell_type": "markdown",
   "id": "e8bc244f-1760-463e-8ec9-75e4407c2a53",
   "metadata": {
    "editable": true,
    "slideshow": {
     "slide_type": ""
    },
    "tags": []
   },
   "source": [
    "## Exercise 3: Writing Conditions \n",
    "Consider two variables, `score = 85` and `max_score = 100`. Write a condition that checks if the `score` is **within a valid range** (say 0 to `max_score` inclusive) **and** that the percentage score (`score/max_score) is at least 80%. Print out whether the condition is true or false. "
   ]
  },
  {
   "cell_type": "code",
   "execution_count": 9,
   "id": "ff5ea90f-7d5a-4d02-b469-329ebc5bf5ec",
   "metadata": {
    "editable": true,
    "slideshow": {
     "slide_type": ""
    },
    "tags": [
     "remove-input"
    ]
   },
   "outputs": [
    {
     "data": {
      "text/html": [
       "<style>\n",
       ".quiz-question {\n",
       "    background-color: #6c63ff;\n",
       "    color: white;\n",
       "    padding: 12px;\n",
       "    border-radius: 10px;\n",
       "    font-weight: bold;\n",
       "    font-size: 1.2em;\n",
       "    margin-bottom: 10px;\n",
       "}\n",
       "\n",
       ".quiz-form {\n",
       "    margin-bottom: 20px;\n",
       "}\n",
       "\n",
       ".quiz-answer {\n",
       "    display: block;\n",
       "    background-color: #f2f2f2;\n",
       "    border: none;\n",
       "    border-radius: 10px;\n",
       "    padding: 10px;\n",
       "    margin: 5px 0;\n",
       "    font-size: 1em;\n",
       "    cursor: pointer;\n",
       "    text-align: left;\n",
       "    transition: background-color 0.3s;\n",
       "    width: 100%;\n",
       "}\n",
       "\n",
       ".quiz-answer:hover {\n",
       "    background-color: #e0e0e0;\n",
       "}\n",
       "\n",
       ".correct {\n",
       "    background-color: #4CAF50 !important;\n",
       "    color: white !important;\n",
       "    border: none;\n",
       "}\n",
       "\n",
       ".incorrect {\n",
       "    background-color: #D32F2F !important;\n",
       "    color: white !important;\n",
       "    border: none;\n",
       "}\n",
       "\n",
       ".feedback {\n",
       "    margin-top: 10px;\n",
       "    font-weight: bold;\n",
       "    font-size: 1em;\n",
       "}\n",
       "</style>\n",
       "\n",
       "<script>\n",
       "function handleAnswer(qid, aid, feedback, isCorrect) {\n",
       "    // Reset all buttons for the question\n",
       "    let buttons = document.querySelectorAll(\".answer-\" + qid);\n",
       "    buttons.forEach(btn => {\n",
       "        btn.classList.remove('correct', 'incorrect');\n",
       "    });\n",
       "\n",
       "    // Apply correct/incorrect to selected\n",
       "    let selected = document.getElementById(aid);\n",
       "    selected.classList.add(isCorrect ? 'correct' : 'incorrect');\n",
       "\n",
       "    // Show feedback below the question\n",
       "    let feedbackBox = document.getElementById('feedback_' + qid);\n",
       "    feedbackBox.innerHTML = feedback;\n",
       "    feedbackBox.style.color = isCorrect ? 'green' : 'red';\n",
       "}\n",
       "</script>\n",
       "<div class=\"quiz-question\">Which operator would you use in Julia for exponentiation (raising to a power)?</div><form class=\"quiz-form\"><button type=\"button\" class=\"quiz-answer answer-1\" id=\"q1_a1\"\n",
       "    onclick=\"handleAnswer('1', 'q1_a1', 'Incorrect', false)\">\n",
       "    **\n",
       "</button>\n",
       "<button type=\"button\" class=\"quiz-answer answer-1\" id=\"q1_a2\"\n",
       "    onclick=\"handleAnswer('1', 'q1_a2', 'Correct', true)\">\n",
       "    ^\n",
       "</button>\n",
       "<button type=\"button\" class=\"quiz-answer answer-1\" id=\"q1_a3\"\n",
       "    onclick=\"handleAnswer('1', 'q1_a3', 'Incorrect', false)\">\n",
       "    pow()\n",
       "</button>\n",
       "<button type=\"button\" class=\"quiz-answer answer-1\" id=\"q1_a4\"\n",
       "    onclick=\"handleAnswer('1', 'q1_a4', 'Incorrect', false)\">\n",
       "    ^^\n",
       "</button>\n",
       "<div class=\"feedback\" id=\"feedback_1\"></div></form><hr><div class=\"quiz-question\">What is the result of the expression `10 < 5 || 2 + 2 == 4` in Julia?</div><form class=\"quiz-form\"><button type=\"button\" class=\"quiz-answer answer-2\" id=\"q2_a1\"\n",
       "    onclick=\"handleAnswer('2', 'q2_a1', 'Correct', true)\">\n",
       "    true\n",
       "</button>\n",
       "<button type=\"button\" class=\"quiz-answer answer-2\" id=\"q2_a2\"\n",
       "    onclick=\"handleAnswer('2', 'q2_a2', 'Incorrect', false)\">\n",
       "    false\n",
       "</button>\n",
       "<button type=\"button\" class=\"quiz-answer answer-2\" id=\"q2_a3\"\n",
       "    onclick=\"handleAnswer('2', 'q2_a3', 'Incorrect', false)\">\n",
       "    An error\n",
       "</button>\n",
       "<button type=\"button\" class=\"quiz-answer answer-2\" id=\"q2_a4\"\n",
       "    onclick=\"handleAnswer('2', 'q2_a4', 'Incorrect', false)\">\n",
       "    false && true\n",
       "</button>\n",
       "<div class=\"feedback\" id=\"feedback_2\"></div></form><hr>"
      ]
     },
     "metadata": {},
     "output_type": "display_data"
    }
   ],
   "source": [
    "using JSON\n",
    "\n",
    "function show_quiz_from_json(path)\n",
    "    quiz_data = JSON.parsefile(path)\n",
    "\n",
    "    html = \"\"\"\n",
    "    <style>\n",
    "    .quiz-question {\n",
    "        background-color: #6c63ff;\n",
    "        color: white;\n",
    "        padding: 12px;\n",
    "        border-radius: 10px;\n",
    "        font-weight: bold;\n",
    "        font-size: 1.2em;\n",
    "        margin-bottom: 10px;\n",
    "    }\n",
    "\n",
    "    .quiz-form {\n",
    "        margin-bottom: 20px;\n",
    "    }\n",
    "\n",
    "    .quiz-answer {\n",
    "        display: block;\n",
    "        background-color: #f2f2f2;\n",
    "        border: none;\n",
    "        border-radius: 10px;\n",
    "        padding: 10px;\n",
    "        margin: 5px 0;\n",
    "        font-size: 1em;\n",
    "        cursor: pointer;\n",
    "        text-align: left;\n",
    "        transition: background-color 0.3s;\n",
    "        width: 100%;\n",
    "    }\n",
    "\n",
    "    .quiz-answer:hover {\n",
    "        background-color: #e0e0e0;\n",
    "    }\n",
    "\n",
    "    .correct {\n",
    "        background-color: #4CAF50 !important;\n",
    "        color: white !important;\n",
    "        border: none;\n",
    "    }\n",
    "\n",
    "    .incorrect {\n",
    "        background-color: #D32F2F !important;\n",
    "        color: white !important;\n",
    "        border: none;\n",
    "    }\n",
    "\n",
    "    .feedback {\n",
    "        margin-top: 10px;\n",
    "        font-weight: bold;\n",
    "        font-size: 1em;\n",
    "    }\n",
    "    </style>\n",
    "\n",
    "    <script>\n",
    "    function handleAnswer(qid, aid, feedback, isCorrect) {\n",
    "        // Reset all buttons for the question\n",
    "        let buttons = document.querySelectorAll(\".answer-\" + qid);\n",
    "        buttons.forEach(btn => {\n",
    "            btn.classList.remove('correct', 'incorrect');\n",
    "        });\n",
    "\n",
    "        // Apply correct/incorrect to selected\n",
    "        let selected = document.getElementById(aid);\n",
    "        selected.classList.add(isCorrect ? 'correct' : 'incorrect');\n",
    "\n",
    "        // Show feedback below the question\n",
    "        let feedbackBox = document.getElementById('feedback_' + qid);\n",
    "        feedbackBox.innerHTML = feedback;\n",
    "        feedbackBox.style.color = isCorrect ? 'green' : 'red';\n",
    "    }\n",
    "    </script>\n",
    "    \"\"\"\n",
    "\n",
    "    for (i, question) in enumerate(quiz_data)\n",
    "        qid = \"$i\"\n",
    "        html *= \"\"\"<div class=\"quiz-question\">$(question[\"question\"])</div><form class=\"quiz-form\">\"\"\"\n",
    "\n",
    "        for (j, answer) in enumerate(question[\"answers\"])\n",
    "            aid = \"q$(i)_a$(j)\"\n",
    "            feedback = answer[\"feedback\"]\n",
    "            correct = startswith(lowercase(feedback), \"correct\")\n",
    "            html *= \"\"\"\n",
    "            <button type=\"button\" class=\"quiz-answer answer-$qid\" id=\"$aid\"\n",
    "                onclick=\"handleAnswer('$qid', '$aid', '$feedback', $(correct))\">\n",
    "                $(answer[\"answer\"])\n",
    "            </button>\n",
    "            \"\"\"\n",
    "        end\n",
    "\n",
    "        html *= \"\"\"<div class=\"feedback\" id=\"feedback_$qid\"></div></form><hr>\"\"\"\n",
    "    end\n",
    "\n",
    "    display(\"text/html\", html)\n",
    "end\n",
    "\n",
    "\n",
    "# Use the function\n",
    "show_quiz_from_json(\"questions/summary_operations.json\")"
   ]
  },
  {
   "cell_type": "code",
   "execution_count": null,
   "id": "95e8263a-01c2-4da1-ada5-901c79da8e1e",
   "metadata": {
    "editable": true,
    "slideshow": {
     "slide_type": ""
    },
    "tags": []
   },
   "outputs": [],
   "source": []
  }
 ],
 "metadata": {
  "kernelspec": {
   "display_name": "Julia 1.10.3",
   "language": "julia",
   "name": "julia-1.10"
  },
  "language_info": {
   "file_extension": ".jl",
   "mimetype": "application/julia",
   "name": "julia",
   "version": "1.10.3"
  }
 },
 "nbformat": 4,
 "nbformat_minor": 5
}
