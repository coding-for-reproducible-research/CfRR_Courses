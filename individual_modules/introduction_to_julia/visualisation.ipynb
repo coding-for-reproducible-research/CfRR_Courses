{
 "cells": [
  {
   "cell_type": "markdown",
   "id": "afa9f5fe-fa21-4be1-a483-bbd54471f0a1",
   "metadata": {
    "editable": true,
    "slideshow": {
     "slide_type": ""
    },
    "tags": []
   },
   "source": [
    "# Plotting (Visualisation) \n",
    "\n",
    "## Learning Objectives \n",
    "- Understand the basic capabilities of plotting libraries in Julia \n",
    "- Install and use the Plots.jl package for creating visualisations \n",
    "- Create and customise a single common plot type: line plots, scatter plots, bar plots, etc. \n",
    "- Save plots to files in various formats (e.g., PNG)"
   ]
  },
  {
   "cell_type": "markdown",
   "id": "81c396c1-1f30-477a-9064-ac626d66d0e9",
   "metadata": {
    "editable": true,
    "slideshow": {
     "slide_type": ""
    },
    "tags": []
   },
   "source": [
    "Visualizing data is an important part of analysis. Julia offers multiple plotting packages. One of the most popular high-level packages is **Plots.jl**, which provides a unified API and supports multiple backends (GR, PyPlot/Matplotlib, Plotly, etc.). Here, we will use Plots.jl with its default backend (usually GR, which produces static plots quickly).\n",
    "Another plotting library is **Gadfly.jl** (inspired by ggplot2 in R). And for advanced usage, **Makie.jl** is a powerful library for interactive and publication-quality plots. But Plots.jl is a great starting point due to its simplicity and flexibility."
   ]
  },
  {
   "cell_type": "markdown",
   "id": "ee01821e-1d96-44a9-a3ca-ab20ff7c0b11",
   "metadata": {
    "editable": true,
    "slideshow": {
     "slide_type": ""
    },
    "tags": []
   },
   "source": [
    "## Overview of Plotting Capabilities in Julia\n",
    "\n",
    "Julia’s plotting ecosystem can handle simple tasks like plotting a line or scatter, as well as complex tasks like 3D surfaces or interactive animations. Plots.jl aims to be a convenient, common interface.\n",
    "When using Plots.jl, you typically:\n",
    "- Ensure Plots is installed: `Pkg.add(\"Plots\")` (already covered in Package Management).\n",
    "- Do `using Plots`.\n",
    "- Call a plotting function like `plot` (for line plots or general plots), `scatter`, `bar`, etc., possibly providing data and options.\n",
    "- Customize the plot by adding attributes (title, labels, legend, colors, markers, etc.).\n",
    "- Display it (in Jupyter, just ensure the plot command is the last in the cell or use `display`).\n",
    "- Save it using `savefig(\"filename.png\")` if needed.\n",
    "\n",
    "Plots.jl by default in a script might open a separate window to show the graph (using GR or other backend). In Jupyter, it displays inline.\n",
    "\n",
    "## Basic Plotting with Plots.jl \n",
    "We should have Plots installed (if not, do `Pkg.add(\"Plots\")`), then 'using Plots'. The first time you do this, it can take a moment. \n",
    "\n",
    "### Line plots \n",
    "A line plot is typically used to show a series of data points connected by lines, often to visualise a function or a trend over an index or time. For example if we wanted to plot `y = x ^ 2` for `x` from 0 to 100, we could do: "
   ]
  },
  {
   "cell_type": "code",
   "execution_count": 1,
   "id": "27106491-9f15-4e98-903f-d3f1315d0ffc",
   "metadata": {
    "editable": true,
    "slideshow": {
     "slide_type": ""
    },
    "tags": []
   },
   "outputs": [
    {
     "data": {
      "image/png": "[encoded data removed]",
      "image/svg+xml": [
       "<?xml version=\"1.0\" encoding=\"utf-8\"?>\n",
       "<svg xmlns=\"http://www.w3.org/2000/svg\" xmlns:xlink=\"http://www.w3.org/1999/xlink\" width=\"600\" height=\"400\" viewBox=\"0 0 2400 1600\">\n",
       "<defs>\n",
       "  <clipPath id=\"clip130\">\n",
       "    <rect x=\"0\" y=\"0\" width=\"2400\" height=\"1600\"/>\n",
       "  </clipPath>\n",
       "</defs>\n",
       "<path clip-path=\"url(#clip130)\" d=\"M0 1600 L2400 1600 L2400 8.88178e-14 L0 8.88178e-14  Z\" fill=\"#ffffff\" fill-rule=\"evenodd\" fill-opacity=\"1\"/>\n",
       "<defs>\n",
       "  <clipPath id=\"clip131\">\n",
       "    <rect x=\"480\" y=\"0\" width=\"1681\" height=\"1600\"/>\n",
       "  </clipPath>\n",
       "</defs>\n",
       "<path clip-path=\"url(#clip130)\" d=\"M232.389 1423.18 L2352.76 1423.18 L2352.76 123.472 L232.389 123.472  Z\" fill=\"#ffffff\" fill-rule=\"evenodd\" fill-opacity=\"1\"/>\n",
       "<defs>\n",
       "  <clipPath id=\"clip132\">\n",
       "    <rect x=\"232\" y=\"123\" width=\"2121\" height=\"1301\"/>\n",
       "  </clipPath>\n",
       "</defs>\n",
       "<polyline clip-path=\"url(#clip132)\" style=\"stroke:#000000; stroke-linecap:round; stroke-linejoin:round; stroke-width:2; stroke-opacity:0.1; fill:none\" points=\"292.4,1423.18 292.4,123.472 \"/>\n",
       "<polyline clip-path=\"url(#clip132)\" style=\"stroke:#000000; stroke-linecap:round; stroke-linejoin:round; stroke-width:2; stroke-opacity:0.1; fill:none\" points=\"792.486,1423.18 792.486,123.472 \"/>\n",
       "<polyline clip-path=\"url(#clip132)\" style=\"stroke:#000000; stroke-linecap:round; stroke-linejoin:round; stroke-width:2; stroke-opacity:0.1; fill:none\" points=\"1292.57,1423.18 1292.57,123.472 \"/>\n",
       "<polyline clip-path=\"url(#clip132)\" style=\"stroke:#000000; stroke-linecap:round; stroke-linejoin:round; stroke-width:2; stroke-opacity:0.1; fill:none\" points=\"1792.66,1423.18 1792.66,123.472 \"/>\n",
       "<polyline clip-path=\"url(#clip132)\" style=\"stroke:#000000; stroke-linecap:round; stroke-linejoin:round; stroke-width:2; stroke-opacity:0.1; fill:none\" points=\"2292.75,1423.18 2292.75,123.472 \"/>\n",
       "<polyline clip-path=\"url(#clip132)\" style=\"stroke:#000000; stroke-linecap:round; stroke-linejoin:round; stroke-width:2; stroke-opacity:0.1; fill:none\" points=\"232.389,1386.4 2352.76,1386.4 \"/>\n",
       "<polyline clip-path=\"url(#clip132)\" style=\"stroke:#000000; stroke-linecap:round; stroke-linejoin:round; stroke-width:2; stroke-opacity:0.1; fill:none\" points=\"232.389,1079.86 2352.76,1079.86 \"/>\n",
       "<polyline clip-path=\"url(#clip132)\" style=\"stroke:#000000; stroke-linecap:round; stroke-linejoin:round; stroke-width:2; stroke-opacity:0.1; fill:none\" points=\"232.389,773.326 2352.76,773.326 \"/>\n",
       "<polyline clip-path=\"url(#clip132)\" style=\"stroke:#000000; stroke-linecap:round; stroke-linejoin:round; stroke-width:2; stroke-opacity:0.1; fill:none\" points=\"232.389,466.791 2352.76,466.791 \"/>\n",
       "<polyline clip-path=\"url(#clip132)\" style=\"stroke:#000000; stroke-linecap:round; stroke-linejoin:round; stroke-width:2; stroke-opacity:0.1; fill:none\" points=\"232.389,160.256 2352.76,160.256 \"/>\n",
       "<polyline clip-path=\"url(#clip130)\" style=\"stroke:#000000; stroke-linecap:round; stroke-linejoin:round; stroke-width:4; stroke-opacity:1; fill:none\" points=\"232.389,1423.18 2352.76,1423.18 \"/>\n",
       "<polyline clip-path=\"url(#clip130)\" style=\"stroke:#000000; stroke-linecap:round; stroke-linejoin:round; stroke-width:4; stroke-opacity:1; fill:none\" points=\"292.4,1423.18 292.4,1404.28 \"/>\n",
       "<polyline clip-path=\"url(#clip130)\" style=\"stroke:#000000; stroke-linecap:round; stroke-linejoin:round; stroke-width:4; stroke-opacity:1; fill:none\" points=\"792.486,1423.18 792.486,1404.28 \"/>\n",
       "<polyline clip-path=\"url(#clip130)\" style=\"stroke:#000000; stroke-linecap:round; stroke-linejoin:round; stroke-width:4; stroke-opacity:1; fill:none\" points=\"1292.57,1423.18 1292.57,1404.28 \"/>\n",
       "<polyline clip-path=\"url(#clip130)\" style=\"stroke:#000000; stroke-linecap:round; stroke-linejoin:round; stroke-width:4; stroke-opacity:1; fill:none\" points=\"1792.66,1423.18 1792.66,1404.28 \"/>\n",
       "<polyline clip-path=\"url(#clip130)\" style=\"stroke:#000000; stroke-linecap:round; stroke-linejoin:round; stroke-width:4; stroke-opacity:1; fill:none\" points=\"2292.75,1423.18 2292.75,1404.28 \"/>\n",
       "<path clip-path=\"url(#clip130)\" d=\"M269.784 1454.1 Q266.173 1454.1 264.344 1457.66 Q262.539 1461.2 262.539 1468.33 Q262.539 1475.44 264.344 1479.01 Q266.173 1482.55 269.784 1482.55 Q273.418 1482.55 275.224 1479.01 Q277.053 1475.44 277.053 1468.33 Q277.053 1461.2 275.224 1457.66 Q273.418 1454.1 269.784 1454.1 M269.784 1450.39 Q275.594 1450.39 278.65 1455 Q281.728 1459.58 281.728 1468.33 Q281.728 1477.06 278.65 1481.67 Q275.594 1486.25 269.784 1486.25 Q263.974 1486.25 260.895 1481.67 Q257.84 1477.06 257.84 1468.33 Q257.84 1459.58 260.895 1455 Q263.974 1450.39 269.784 1450.39 Z\" fill=\"#000000\" fill-rule=\"nonzero\" fill-opacity=\"1\" /><path clip-path=\"url(#clip130)\" d=\"M289.946 1479.7 L294.83 1479.7 L294.83 1485.58 L289.946 1485.58 L289.946 1479.7 Z\" fill=\"#000000\" fill-rule=\"nonzero\" fill-opacity=\"1\" /><path clip-path=\"url(#clip130)\" d=\"M315.015 1454.1 Q311.404 1454.1 309.576 1457.66 Q307.77 1461.2 307.77 1468.33 Q307.77 1475.44 309.576 1479.01 Q311.404 1482.55 315.015 1482.55 Q318.65 1482.55 320.455 1479.01 Q322.284 1475.44 322.284 1468.33 Q322.284 1461.2 320.455 1457.66 Q318.65 1454.1 315.015 1454.1 M315.015 1450.39 Q320.825 1450.39 323.881 1455 Q326.96 1459.58 326.96 1468.33 Q326.96 1477.06 323.881 1481.67 Q320.825 1486.25 315.015 1486.25 Q309.205 1486.25 306.126 1481.67 Q303.071 1477.06 303.071 1468.33 Q303.071 1459.58 306.126 1455 Q309.205 1450.39 315.015 1450.39 Z\" fill=\"#000000\" fill-rule=\"nonzero\" fill-opacity=\"1\" /><path clip-path=\"url(#clip130)\" d=\"M764.222 1481.64 L780.542 1481.64 L780.542 1485.58 L758.597 1485.58 L758.597 1481.64 Q761.259 1478.89 765.843 1474.26 Q770.449 1469.61 771.63 1468.27 Q773.875 1465.74 774.755 1464.01 Q775.658 1462.25 775.658 1460.56 Q775.658 1457.8 773.713 1456.07 Q771.792 1454.33 768.69 1454.33 Q766.491 1454.33 764.037 1455.09 Q761.607 1455.86 758.829 1457.41 L758.829 1452.69 Q761.653 1451.55 764.107 1450.97 Q766.56 1450.39 768.597 1450.39 Q773.968 1450.39 777.162 1453.08 Q780.357 1455.77 780.357 1460.26 Q780.357 1462.39 779.546 1464.31 Q778.759 1466.2 776.653 1468.8 Q776.074 1469.47 772.972 1472.69 Q769.871 1475.88 764.222 1481.64 Z\" fill=\"#000000\" fill-rule=\"nonzero\" fill-opacity=\"1\" /><path clip-path=\"url(#clip130)\" d=\"M790.357 1479.7 L795.241 1479.7 L795.241 1485.58 L790.357 1485.58 L790.357 1479.7 Z\" fill=\"#000000\" fill-rule=\"nonzero\" fill-opacity=\"1\" /><path clip-path=\"url(#clip130)\" d=\"M805.472 1451.02 L823.829 1451.02 L823.829 1454.96 L809.755 1454.96 L809.755 1463.43 Q810.773 1463.08 811.792 1462.92 Q812.81 1462.73 813.829 1462.73 Q819.616 1462.73 822.995 1465.9 Q826.375 1469.08 826.375 1474.49 Q826.375 1480.07 822.903 1483.17 Q819.43 1486.25 813.111 1486.25 Q810.935 1486.25 808.667 1485.88 Q806.421 1485.51 804.014 1484.77 L804.014 1480.07 Q806.097 1481.2 808.319 1481.76 Q810.542 1482.32 813.018 1482.32 Q817.023 1482.32 819.361 1480.21 Q821.699 1478.1 821.699 1474.49 Q821.699 1470.88 819.361 1468.77 Q817.023 1466.67 813.018 1466.67 Q811.143 1466.67 809.268 1467.08 Q807.417 1467.5 805.472 1468.38 L805.472 1451.02 Z\" fill=\"#000000\" fill-rule=\"nonzero\" fill-opacity=\"1\" /><path clip-path=\"url(#clip130)\" d=\"M1259.74 1451.02 L1278.09 1451.02 L1278.09 1454.96 L1264.02 1454.96 L1264.02 1463.43 Q1265.04 1463.08 1266.06 1462.92 Q1267.08 1462.73 1268.09 1462.73 Q1273.88 1462.73 1277.26 1465.9 Q1280.64 1469.08 1280.64 1474.49 Q1280.64 1480.07 1277.17 1483.17 Q1273.7 1486.25 1267.38 1486.25 Q1265.2 1486.25 1262.93 1485.88 Q1260.69 1485.51 1258.28 1484.77 L1258.28 1480.07 Q1260.36 1481.2 1262.58 1481.76 Q1264.81 1482.32 1267.28 1482.32 Q1271.29 1482.32 1273.63 1480.21 Q1275.96 1478.1 1275.96 1474.49 Q1275.96 1470.88 1273.63 1468.77 Q1271.29 1466.67 1267.28 1466.67 Q1265.41 1466.67 1263.53 1467.08 Q1261.68 1467.5 1259.74 1468.38 L1259.74 1451.02 Z\" fill=\"#000000\" fill-rule=\"nonzero\" fill-opacity=\"1\" /><path clip-path=\"url(#clip130)\" d=\"M1289.85 1479.7 L1294.74 1479.7 L1294.74 1485.58 L1289.85 1485.58 L1289.85 1479.7 Z\" fill=\"#000000\" fill-rule=\"nonzero\" fill-opacity=\"1\" /><path clip-path=\"url(#clip130)\" d=\"M1314.92 1454.1 Q1311.31 1454.1 1309.48 1457.66 Q1307.68 1461.2 1307.68 1468.33 Q1307.68 1475.44 1309.48 1479.01 Q1311.31 1482.55 1314.92 1482.55 Q1318.56 1482.55 1320.36 1479.01 Q1322.19 1475.44 1322.19 1468.33 Q1322.19 1461.2 1320.36 1457.66 Q1318.56 1454.1 1314.92 1454.1 M1314.92 1450.39 Q1320.73 1450.39 1323.79 1455 Q1326.87 1459.58 1326.87 1468.33 Q1326.87 1477.06 1323.79 1481.67 Q1320.73 1486.25 1314.92 1486.25 Q1309.11 1486.25 1306.03 1481.67 Q1302.98 1477.06 1302.98 1468.33 Q1302.98 1459.58 1306.03 1455 Q1309.11 1450.39 1314.92 1450.39 Z\" fill=\"#000000\" fill-rule=\"nonzero\" fill-opacity=\"1\" /><path clip-path=\"url(#clip130)\" d=\"M1758.98 1451.02 L1781.2 1451.02 L1781.2 1453.01 L1768.65 1485.58 L1763.77 1485.58 L1775.58 1454.96 L1758.98 1454.96 L1758.98 1451.02 Z\" fill=\"#000000\" fill-rule=\"nonzero\" fill-opacity=\"1\" /><path clip-path=\"url(#clip130)\" d=\"M1790.32 1479.7 L1795.21 1479.7 L1795.21 1485.58 L1790.32 1485.58 L1790.32 1479.7 Z\" fill=\"#000000\" fill-rule=\"nonzero\" fill-opacity=\"1\" /><path clip-path=\"url(#clip130)\" d=\"M1805.44 1451.02 L1823.79 1451.02 L1823.79 1454.96 L1809.72 1454.96 L1809.72 1463.43 Q1810.74 1463.08 1811.76 1462.92 Q1812.77 1462.73 1813.79 1462.73 Q1819.58 1462.73 1822.96 1465.9 Q1826.34 1469.08 1826.34 1474.49 Q1826.34 1480.07 1822.87 1483.17 Q1819.4 1486.25 1813.08 1486.25 Q1810.9 1486.25 1808.63 1485.88 Q1806.39 1485.51 1803.98 1484.77 L1803.98 1480.07 Q1806.06 1481.2 1808.28 1481.76 Q1810.51 1482.32 1812.98 1482.32 Q1816.99 1482.32 1819.33 1480.21 Q1821.66 1478.1 1821.66 1474.49 Q1821.66 1470.88 1819.33 1468.77 Q1816.99 1466.67 1812.98 1466.67 Q1811.11 1466.67 1809.23 1467.08 Q1807.38 1467.5 1805.44 1468.38 L1805.44 1451.02 Z\" fill=\"#000000\" fill-rule=\"nonzero\" fill-opacity=\"1\" /><path clip-path=\"url(#clip130)\" d=\"M2244.82 1481.64 L2252.46 1481.64 L2252.46 1455.28 L2244.15 1456.95 L2244.15 1452.69 L2252.41 1451.02 L2257.09 1451.02 L2257.09 1481.64 L2264.72 1481.64 L2264.72 1485.58 L2244.82 1485.58 L2244.82 1481.64 Z\" fill=\"#000000\" fill-rule=\"nonzero\" fill-opacity=\"1\" /><path clip-path=\"url(#clip130)\" d=\"M2284.17 1454.1 Q2280.56 1454.1 2278.73 1457.66 Q2276.92 1461.2 2276.92 1468.33 Q2276.92 1475.44 2278.73 1479.01 Q2280.56 1482.55 2284.17 1482.55 Q2287.8 1482.55 2289.61 1479.01 Q2291.44 1475.44 2291.44 1468.33 Q2291.44 1461.2 2289.61 1457.66 Q2287.8 1454.1 2284.17 1454.1 M2284.17 1450.39 Q2289.98 1450.39 2293.03 1455 Q2296.11 1459.58 2296.11 1468.33 Q2296.11 1477.06 2293.03 1481.67 Q2289.98 1486.25 2284.17 1486.25 Q2278.36 1486.25 2275.28 1481.67 Q2272.22 1477.06 2272.22 1468.33 Q2272.22 1459.58 2275.28 1455 Q2278.36 1450.39 2284.17 1450.39 Z\" fill=\"#000000\" fill-rule=\"nonzero\" fill-opacity=\"1\" /><path clip-path=\"url(#clip130)\" d=\"M2304.33 1479.7 L2309.22 1479.7 L2309.22 1485.58 L2304.33 1485.58 L2304.33 1479.7 Z\" fill=\"#000000\" fill-rule=\"nonzero\" fill-opacity=\"1\" /><path clip-path=\"url(#clip130)\" d=\"M2329.4 1454.1 Q2325.79 1454.1 2323.96 1457.66 Q2322.16 1461.2 2322.16 1468.33 Q2322.16 1475.44 2323.96 1479.01 Q2325.79 1482.55 2329.4 1482.55 Q2333.03 1482.55 2334.84 1479.01 Q2336.67 1475.44 2336.67 1468.33 Q2336.67 1461.2 2334.84 1457.66 Q2333.03 1454.1 2329.4 1454.1 M2329.4 1450.39 Q2335.21 1450.39 2338.27 1455 Q2341.34 1459.58 2341.34 1468.33 Q2341.34 1477.06 2338.27 1481.67 Q2335.21 1486.25 2329.4 1486.25 Q2323.59 1486.25 2320.51 1481.67 Q2317.46 1477.06 2317.46 1468.33 Q2317.46 1459.58 2320.51 1455 Q2323.59 1450.39 2329.4 1450.39 Z\" fill=\"#000000\" fill-rule=\"nonzero\" fill-opacity=\"1\" /><path clip-path=\"url(#clip130)\" d=\"M1309.19 1532.4 L1296.3 1549.74 L1309.86 1568.04 L1302.95 1568.04 L1292.57 1554.04 L1282.2 1568.04 L1275.29 1568.04 L1289.14 1549.39 L1276.47 1532.4 L1283.37 1532.4 L1292.83 1545.1 L1302.28 1532.4 L1309.19 1532.4 Z\" fill=\"#000000\" fill-rule=\"nonzero\" fill-opacity=\"1\" /><polyline clip-path=\"url(#clip130)\" style=\"stroke:#000000; stroke-linecap:round; stroke-linejoin:round; stroke-width:4; stroke-opacity:1; fill:none\" points=\"232.389,1423.18 232.389,123.472 \"/>\n",
       "<polyline clip-path=\"url(#clip130)\" style=\"stroke:#000000; stroke-linecap:round; stroke-linejoin:round; stroke-width:4; stroke-opacity:1; fill:none\" points=\"232.389,1386.4 251.287,1386.4 \"/>\n",
       "<polyline clip-path=\"url(#clip130)\" style=\"stroke:#000000; stroke-linecap:round; stroke-linejoin:round; stroke-width:4; stroke-opacity:1; fill:none\" points=\"232.389,1079.86 251.287,1079.86 \"/>\n",
       "<polyline clip-path=\"url(#clip130)\" style=\"stroke:#000000; stroke-linecap:round; stroke-linejoin:round; stroke-width:4; stroke-opacity:1; fill:none\" points=\"232.389,773.326 251.287,773.326 \"/>\n",
       "<polyline clip-path=\"url(#clip130)\" style=\"stroke:#000000; stroke-linecap:round; stroke-linejoin:round; stroke-width:4; stroke-opacity:1; fill:none\" points=\"232.389,466.791 251.287,466.791 \"/>\n",
       "<polyline clip-path=\"url(#clip130)\" style=\"stroke:#000000; stroke-linecap:round; stroke-linejoin:round; stroke-width:4; stroke-opacity:1; fill:none\" points=\"232.389,160.256 251.287,160.256 \"/>\n",
       "<path clip-path=\"url(#clip130)\" d=\"M184.445 1372.19 Q180.834 1372.19 179.005 1375.76 Q177.2 1379.3 177.2 1386.43 Q177.2 1393.54 179.005 1397.1 Q180.834 1400.64 184.445 1400.64 Q188.079 1400.64 189.885 1397.1 Q191.713 1393.54 191.713 1386.43 Q191.713 1379.3 189.885 1375.76 Q188.079 1372.19 184.445 1372.19 M184.445 1368.49 Q190.255 1368.49 193.311 1373.1 Q196.389 1377.68 196.389 1386.43 Q196.389 1395.16 193.311 1399.76 Q190.255 1404.35 184.445 1404.35 Q178.635 1404.35 175.556 1399.76 Q172.501 1395.16 172.501 1386.43 Q172.501 1377.68 175.556 1373.1 Q178.635 1368.49 184.445 1368.49 Z\" fill=\"#000000\" fill-rule=\"nonzero\" fill-opacity=\"1\" /><path clip-path=\"url(#clip130)\" d=\"M149.306 1093.21 L165.626 1093.21 L165.626 1097.14 L143.681 1097.14 L143.681 1093.21 Q146.343 1090.45 150.927 1085.82 Q155.533 1081.17 156.714 1079.83 Q158.959 1077.3 159.839 1075.57 Q160.741 1073.81 160.741 1072.12 Q160.741 1069.36 158.797 1067.63 Q156.876 1065.89 153.774 1065.89 Q151.575 1065.89 149.121 1066.65 Q146.691 1067.42 143.913 1068.97 L143.913 1064.25 Q146.737 1063.11 149.191 1062.53 Q151.644 1061.96 153.681 1061.96 Q159.052 1061.96 162.246 1064.64 Q165.44 1067.33 165.44 1071.82 Q165.44 1073.95 164.63 1075.87 Q163.843 1077.77 161.737 1080.36 Q161.158 1081.03 158.056 1084.25 Q154.954 1087.44 149.306 1093.21 Z\" fill=\"#000000\" fill-rule=\"nonzero\" fill-opacity=\"1\" /><path clip-path=\"url(#clip130)\" d=\"M175.487 1062.58 L193.843 1062.58 L193.843 1066.52 L179.769 1066.52 L179.769 1074.99 Q180.788 1074.64 181.806 1074.48 Q182.825 1074.29 183.843 1074.29 Q189.63 1074.29 193.01 1077.47 Q196.389 1080.64 196.389 1086.05 Q196.389 1091.63 192.917 1094.73 Q189.445 1097.81 183.126 1097.81 Q180.95 1097.81 178.681 1097.44 Q176.436 1097.07 174.028 1096.33 L174.028 1091.63 Q176.112 1092.77 178.334 1093.32 Q180.556 1093.88 183.033 1093.88 Q187.038 1093.88 189.375 1091.77 Q191.713 1089.66 191.713 1086.05 Q191.713 1082.44 189.375 1080.34 Q187.038 1078.23 183.033 1078.23 Q181.158 1078.23 179.283 1078.65 Q177.431 1079.06 175.487 1079.94 L175.487 1062.58 Z\" fill=\"#000000\" fill-rule=\"nonzero\" fill-opacity=\"1\" /><path clip-path=\"url(#clip130)\" d=\"M144.329 756.046 L162.686 756.046 L162.686 759.981 L148.612 759.981 L148.612 768.453 Q149.63 768.106 150.649 767.944 Q151.667 767.759 152.686 767.759 Q158.473 767.759 161.852 770.93 Q165.232 774.101 165.232 779.518 Q165.232 785.097 161.76 788.199 Q158.288 791.277 151.968 791.277 Q149.792 791.277 147.524 790.907 Q145.279 790.537 142.871 789.796 L142.871 785.097 Q144.954 786.231 147.177 786.787 Q149.399 787.342 151.876 787.342 Q155.88 787.342 158.218 785.236 Q160.556 783.129 160.556 779.518 Q160.556 775.907 158.218 773.801 Q155.88 771.694 151.876 771.694 Q150.001 771.694 148.126 772.111 Q146.274 772.527 144.329 773.407 L144.329 756.046 Z\" fill=\"#000000\" fill-rule=\"nonzero\" fill-opacity=\"1\" /><path clip-path=\"url(#clip130)\" d=\"M184.445 759.125 Q180.834 759.125 179.005 762.689 Q177.2 766.231 177.2 773.361 Q177.2 780.467 179.005 784.032 Q180.834 787.574 184.445 787.574 Q188.079 787.574 189.885 784.032 Q191.713 780.467 191.713 773.361 Q191.713 766.231 189.885 762.689 Q188.079 759.125 184.445 759.125 M184.445 755.421 Q190.255 755.421 193.311 760.027 Q196.389 764.611 196.389 773.361 Q196.389 782.088 193.311 786.694 Q190.255 791.277 184.445 791.277 Q178.635 791.277 175.556 786.694 Q172.501 782.088 172.501 773.361 Q172.501 764.611 175.556 760.027 Q178.635 755.421 184.445 755.421 Z\" fill=\"#000000\" fill-rule=\"nonzero\" fill-opacity=\"1\" /><path clip-path=\"url(#clip130)\" d=\"M144.098 449.511 L166.32 449.511 L166.32 451.502 L153.774 484.071 L148.89 484.071 L160.695 453.446 L144.098 453.446 L144.098 449.511 Z\" fill=\"#000000\" fill-rule=\"nonzero\" fill-opacity=\"1\" /><path clip-path=\"url(#clip130)\" d=\"M175.487 449.511 L193.843 449.511 L193.843 453.446 L179.769 453.446 L179.769 461.918 Q180.788 461.571 181.806 461.409 Q182.825 461.224 183.843 461.224 Q189.63 461.224 193.01 464.395 Q196.389 467.567 196.389 472.983 Q196.389 478.562 192.917 481.664 Q189.445 484.742 183.126 484.742 Q180.95 484.742 178.681 484.372 Q176.436 484.002 174.028 483.261 L174.028 478.562 Q176.112 479.696 178.334 480.252 Q180.556 480.807 183.033 480.807 Q187.038 480.807 189.375 478.701 Q191.713 476.594 191.713 472.983 Q191.713 469.372 189.375 467.266 Q187.038 465.159 183.033 465.159 Q181.158 465.159 179.283 465.576 Q177.431 465.993 175.487 466.872 L175.487 449.511 Z\" fill=\"#000000\" fill-rule=\"nonzero\" fill-opacity=\"1\" /><path clip-path=\"url(#clip130)\" d=\"M114.931 173.601 L122.57 173.601 L122.57 147.236 L114.26 148.902 L114.26 144.643 L122.524 142.976 L127.2 142.976 L127.2 173.601 L134.839 173.601 L134.839 177.536 L114.931 177.536 L114.931 173.601 Z\" fill=\"#000000\" fill-rule=\"nonzero\" fill-opacity=\"1\" /><path clip-path=\"url(#clip130)\" d=\"M154.283 146.055 Q150.672 146.055 148.843 149.62 Q147.038 153.161 147.038 160.291 Q147.038 167.397 148.843 170.962 Q150.672 174.504 154.283 174.504 Q157.917 174.504 159.723 170.962 Q161.552 167.397 161.552 160.291 Q161.552 153.161 159.723 149.62 Q157.917 146.055 154.283 146.055 M154.283 142.351 Q160.093 142.351 163.149 146.958 Q166.227 151.541 166.227 160.291 Q166.227 169.018 163.149 173.624 Q160.093 178.208 154.283 178.208 Q148.473 178.208 145.394 173.624 Q142.339 169.018 142.339 160.291 Q142.339 151.541 145.394 146.958 Q148.473 142.351 154.283 142.351 Z\" fill=\"#000000\" fill-rule=\"nonzero\" fill-opacity=\"1\" /><path clip-path=\"url(#clip130)\" d=\"M184.445 146.055 Q180.834 146.055 179.005 149.62 Q177.2 153.161 177.2 160.291 Q177.2 167.397 179.005 170.962 Q180.834 174.504 184.445 174.504 Q188.079 174.504 189.885 170.962 Q191.713 167.397 191.713 160.291 Q191.713 153.161 189.885 149.62 Q188.079 146.055 184.445 146.055 M184.445 142.351 Q190.255 142.351 193.311 146.958 Q196.389 151.541 196.389 160.291 Q196.389 169.018 193.311 173.624 Q190.255 178.208 184.445 178.208 Q178.635 178.208 175.556 173.624 Q172.501 169.018 172.501 160.291 Q172.501 151.541 175.556 146.958 Q178.635 142.351 184.445 142.351 Z\" fill=\"#000000\" fill-rule=\"nonzero\" fill-opacity=\"1\" /><path clip-path=\"url(#clip130)\" d=\"M67.3143 771.639 Q73.68 774.122 75.6216 776.477 Q77.5631 778.832 77.5631 782.779 L77.5631 787.458 L72.6615 787.458 L72.6615 784.02 Q72.6615 781.601 71.5157 780.265 Q70.3699 778.928 66.1048 777.305 L63.4312 776.254 L28.3562 790.673 L28.3562 784.466 L56.238 773.326 L28.3562 762.186 L28.3562 755.979 L67.3143 771.639 Z\" fill=\"#000000\" fill-rule=\"nonzero\" fill-opacity=\"1\" /><path clip-path=\"url(#clip130)\" d=\"M1150.81 76.7889 Q1147.65 84.8907 1144.65 87.3618 Q1141.66 89.8329 1136.63 89.8329 L1130.68 89.8329 L1130.68 83.5945 L1135.05 83.5945 Q1138.13 83.5945 1139.83 82.1361 Q1141.53 80.6778 1143.6 75.2496 L1144.94 71.8468 L1126.59 27.2059 L1134.49 27.2059 L1148.66 62.6918 L1162.84 27.2059 L1170.74 27.2059 L1150.81 76.7889 Z\" fill=\"#000000\" fill-rule=\"nonzero\" fill-opacity=\"1\" /><path clip-path=\"url(#clip130)\" d=\"M1208.37 34.9026 L1260.31 34.9026 L1260.31 41.7081 L1208.37 41.7081 L1208.37 34.9026 M1208.37 51.4303 L1260.31 51.4303 L1260.31 58.3168 L1208.37 58.3168 L1208.37 51.4303 Z\" fill=\"#000000\" fill-rule=\"nonzero\" fill-opacity=\"1\" /><path clip-path=\"url(#clip130)\" d=\"M1341 27.2059 L1324.6 49.2833 L1341.85 72.576 L1333.06 72.576 L1319.86 54.752 L1306.65 72.576 L1297.86 72.576 L1315.48 48.8377 L1299.36 27.2059 L1308.15 27.2059 L1320.18 43.369 L1332.21 27.2059 L1341 27.2059 Z\" fill=\"#000000\" fill-rule=\"nonzero\" fill-opacity=\"1\" /><path clip-path=\"url(#clip130)\" d=\"M1383.29 12.096 L1405.29 34.6595 L1397.15 34.6595 L1379.32 18.6585 L1361.5 34.6595 L1353.36 34.6595 L1375.35 12.096 L1383.29 12.096 Z\" fill=\"#000000\" fill-rule=\"nonzero\" fill-opacity=\"1\" /><path clip-path=\"url(#clip130)\" d=\"M1430 65.6895 L1458.56 65.6895 L1458.56 72.576 L1420.16 72.576 L1420.16 65.6895 Q1424.81 60.8689 1432.84 52.7671 Q1440.9 44.6248 1442.96 42.2752 Q1446.89 37.8598 1448.43 34.8216 Q1450.01 31.7429 1450.01 28.7857 Q1450.01 23.9651 1446.61 20.927 Q1443.25 17.8888 1437.82 17.8888 Q1433.97 17.8888 1429.68 19.2256 Q1425.42 20.5624 1420.56 23.2765 L1420.56 15.0127 Q1425.5 13.0277 1429.8 12.015 Q1434.09 11.0023 1437.66 11.0023 Q1447.05 11.0023 1452.64 15.7013 Q1458.23 20.4004 1458.23 28.2591 Q1458.23 31.9859 1456.82 35.3482 Q1455.44 38.6699 1451.75 43.2069 Q1450.74 44.3817 1445.31 50.0125 Q1439.88 55.6027 1430 65.6895 Z\" fill=\"#000000\" fill-rule=\"nonzero\" fill-opacity=\"1\" /><polyline clip-path=\"url(#clip132)\" style=\"stroke:#009af9; stroke-linecap:round; stroke-linejoin:round; stroke-width:4; stroke-opacity:1; fill:none\" points=\"292.4,1386.4 312.403,1386.27 332.407,1385.91 352.41,1385.29 372.414,1384.43 392.417,1383.33 412.42,1381.98 432.424,1380.39 452.427,1378.55 472.431,1376.46 492.434,1374.13 512.438,1371.56 532.441,1368.74 552.445,1365.67 572.448,1362.36 592.452,1358.81 612.455,1355.01 632.459,1350.96 652.462,1346.67 672.465,1342.13 692.469,1337.35 712.472,1332.32 732.476,1327.05 752.479,1321.53 772.483,1315.77 792.486,1309.76 812.49,1303.51 832.493,1297.01 852.497,1290.27 872.5,1283.28 892.503,1276.04 912.507,1268.56 932.51,1260.84 952.514,1252.87 972.517,1244.65 992.521,1236.19 1012.52,1227.49 1032.53,1218.54 1052.53,1209.34 1072.53,1199.9 1092.54,1190.21 1112.54,1180.28 1132.54,1170.1 1152.55,1159.68 1172.55,1149.02 1192.56,1138.1 1212.56,1126.94 1232.56,1115.54 1252.57,1103.89 1272.57,1092 1292.57,1079.86 1312.58,1067.48 1332.58,1054.85 1352.58,1041.97 1372.59,1028.85 1392.59,1015.49 1412.59,1001.88 1432.6,988.023 1452.6,973.922 1472.6,959.577 1492.61,944.985 1512.61,930.149 1532.61,915.068 1552.62,899.741 1572.62,884.169 1592.62,868.352 1612.63,852.289 1632.63,835.982 1652.63,819.429 1672.64,802.631 1692.64,785.587 1712.65,768.299 1732.65,750.765 1752.65,732.986 1772.66,714.962 1792.66,696.692 1812.66,678.178 1832.67,659.418 1852.67,640.412 1872.67,621.162 1892.68,601.666 1912.68,581.926 1932.68,561.94 1952.69,541.708 1972.69,521.232 1992.69,500.51 2012.7,479.543 2032.7,458.331 2052.7,436.873 2072.71,415.171 2092.71,393.223 2112.71,371.03 2132.72,348.591 2152.72,325.908 2172.72,302.979 2192.73,279.805 2212.73,256.386 2232.74,232.721 2252.74,208.811 2272.74,184.656 2292.75,160.256 \"/>\n",
       "</svg>\n"
      ],
      "text/html": [
       "<?xml version=\"1.0\" encoding=\"utf-8\"?>\n",
       "<svg xmlns=\"http://www.w3.org/2000/svg\" xmlns:xlink=\"http://www.w3.org/1999/xlink\" width=\"600\" height=\"400\" viewBox=\"0 0 2400 1600\">\n",
       "<defs>\n",
       "  <clipPath id=\"clip180\">\n",
       "    <rect x=\"0\" y=\"0\" width=\"2400\" height=\"1600\"/>\n",
       "  </clipPath>\n",
       "</defs>\n",
       "<path clip-path=\"url(#clip180)\" d=\"M0 1600 L2400 1600 L2400 8.88178e-14 L0 8.88178e-14  Z\" fill=\"#ffffff\" fill-rule=\"evenodd\" fill-opacity=\"1\"/>\n",
       "<defs>\n",
       "  <clipPath id=\"clip181\">\n",
       "    <rect x=\"480\" y=\"0\" width=\"1681\" height=\"1600\"/>\n",
       "  </clipPath>\n",
       "</defs>\n",
       "<path clip-path=\"url(#clip180)\" d=\"M232.389 1423.18 L2352.76 1423.18 L2352.76 123.472 L232.389 123.472  Z\" fill=\"#ffffff\" fill-rule=\"evenodd\" fill-opacity=\"1\"/>\n",
       "<defs>\n",
       "  <clipPath id=\"clip182\">\n",
       "    <rect x=\"232\" y=\"123\" width=\"2121\" height=\"1301\"/>\n",
       "  </clipPath>\n",
       "</defs>\n",
       "<polyline clip-path=\"url(#clip182)\" style=\"stroke:#000000; stroke-linecap:round; stroke-linejoin:round; stroke-width:2; stroke-opacity:0.1; fill:none\" points=\"292.4,1423.18 292.4,123.472 \"/>\n",
       "<polyline clip-path=\"url(#clip182)\" style=\"stroke:#000000; stroke-linecap:round; stroke-linejoin:round; stroke-width:2; stroke-opacity:0.1; fill:none\" points=\"792.486,1423.18 792.486,123.472 \"/>\n",
       "<polyline clip-path=\"url(#clip182)\" style=\"stroke:#000000; stroke-linecap:round; stroke-linejoin:round; stroke-width:2; stroke-opacity:0.1; fill:none\" points=\"1292.57,1423.18 1292.57,123.472 \"/>\n",
       "<polyline clip-path=\"url(#clip182)\" style=\"stroke:#000000; stroke-linecap:round; stroke-linejoin:round; stroke-width:2; stroke-opacity:0.1; fill:none\" points=\"1792.66,1423.18 1792.66,123.472 \"/>\n",
       "<polyline clip-path=\"url(#clip182)\" style=\"stroke:#000000; stroke-linecap:round; stroke-linejoin:round; stroke-width:2; stroke-opacity:0.1; fill:none\" points=\"2292.75,1423.18 2292.75,123.472 \"/>\n",
       "<polyline clip-path=\"url(#clip182)\" style=\"stroke:#000000; stroke-linecap:round; stroke-linejoin:round; stroke-width:2; stroke-opacity:0.1; fill:none\" points=\"232.389,1386.4 2352.76,1386.4 \"/>\n",
       "<polyline clip-path=\"url(#clip182)\" style=\"stroke:#000000; stroke-linecap:round; stroke-linejoin:round; stroke-width:2; stroke-opacity:0.1; fill:none\" points=\"232.389,1079.86 2352.76,1079.86 \"/>\n",
       "<polyline clip-path=\"url(#clip182)\" style=\"stroke:#000000; stroke-linecap:round; stroke-linejoin:round; stroke-width:2; stroke-opacity:0.1; fill:none\" points=\"232.389,773.326 2352.76,773.326 \"/>\n",
       "<polyline clip-path=\"url(#clip182)\" style=\"stroke:#000000; stroke-linecap:round; stroke-linejoin:round; stroke-width:2; stroke-opacity:0.1; fill:none\" points=\"232.389,466.791 2352.76,466.791 \"/>\n",
       "<polyline clip-path=\"url(#clip182)\" style=\"stroke:#000000; stroke-linecap:round; stroke-linejoin:round; stroke-width:2; stroke-opacity:0.1; fill:none\" points=\"232.389,160.256 2352.76,160.256 \"/>\n",
       "<polyline clip-path=\"url(#clip180)\" style=\"stroke:#000000; stroke-linecap:round; stroke-linejoin:round; stroke-width:4; stroke-opacity:1; fill:none\" points=\"232.389,1423.18 2352.76,1423.18 \"/>\n",
       "<polyline clip-path=\"url(#clip180)\" style=\"stroke:#000000; stroke-linecap:round; stroke-linejoin:round; stroke-width:4; stroke-opacity:1; fill:none\" points=\"292.4,1423.18 292.4,1404.28 \"/>\n",
       "<polyline clip-path=\"url(#clip180)\" style=\"stroke:#000000; stroke-linecap:round; stroke-linejoin:round; stroke-width:4; stroke-opacity:1; fill:none\" points=\"792.486,1423.18 792.486,1404.28 \"/>\n",
       "<polyline clip-path=\"url(#clip180)\" style=\"stroke:#000000; stroke-linecap:round; stroke-linejoin:round; stroke-width:4; stroke-opacity:1; fill:none\" points=\"1292.57,1423.18 1292.57,1404.28 \"/>\n",
       "<polyline clip-path=\"url(#clip180)\" style=\"stroke:#000000; stroke-linecap:round; stroke-linejoin:round; stroke-width:4; stroke-opacity:1; fill:none\" points=\"1792.66,1423.18 1792.66,1404.28 \"/>\n",
       "<polyline clip-path=\"url(#clip180)\" style=\"stroke:#000000; stroke-linecap:round; stroke-linejoin:round; stroke-width:4; stroke-opacity:1; fill:none\" points=\"2292.75,1423.18 2292.75,1404.28 \"/>\n",
       "<path clip-path=\"url(#clip180)\" d=\"M269.784 1454.1 Q266.173 1454.1 264.344 1457.66 Q262.539 1461.2 262.539 1468.33 Q262.539 1475.44 264.344 1479.01 Q266.173 1482.55 269.784 1482.55 Q273.418 1482.55 275.224 1479.01 Q277.053 1475.44 277.053 1468.33 Q277.053 1461.2 275.224 1457.66 Q273.418 1454.1 269.784 1454.1 M269.784 1450.39 Q275.594 1450.39 278.65 1455 Q281.728 1459.58 281.728 1468.33 Q281.728 1477.06 278.65 1481.67 Q275.594 1486.25 269.784 1486.25 Q263.974 1486.25 260.895 1481.67 Q257.84 1477.06 257.84 1468.33 Q257.84 1459.58 260.895 1455 Q263.974 1450.39 269.784 1450.39 Z\" fill=\"#000000\" fill-rule=\"nonzero\" fill-opacity=\"1\" /><path clip-path=\"url(#clip180)\" d=\"M289.946 1479.7 L294.83 1479.7 L294.83 1485.58 L289.946 1485.58 L289.946 1479.7 Z\" fill=\"#000000\" fill-rule=\"nonzero\" fill-opacity=\"1\" /><path clip-path=\"url(#clip180)\" d=\"M315.015 1454.1 Q311.404 1454.1 309.576 1457.66 Q307.77 1461.2 307.77 1468.33 Q307.77 1475.44 309.576 1479.01 Q311.404 1482.55 315.015 1482.55 Q318.65 1482.55 320.455 1479.01 Q322.284 1475.44 322.284 1468.33 Q322.284 1461.2 320.455 1457.66 Q318.65 1454.1 315.015 1454.1 M315.015 1450.39 Q320.825 1450.39 323.881 1455 Q326.96 1459.58 326.96 1468.33 Q326.96 1477.06 323.881 1481.67 Q320.825 1486.25 315.015 1486.25 Q309.205 1486.25 306.126 1481.67 Q303.071 1477.06 303.071 1468.33 Q303.071 1459.58 306.126 1455 Q309.205 1450.39 315.015 1450.39 Z\" fill=\"#000000\" fill-rule=\"nonzero\" fill-opacity=\"1\" /><path clip-path=\"url(#clip180)\" d=\"M764.222 1481.64 L780.542 1481.64 L780.542 1485.58 L758.597 1485.58 L758.597 1481.64 Q761.259 1478.89 765.843 1474.26 Q770.449 1469.61 771.63 1468.27 Q773.875 1465.74 774.755 1464.01 Q775.658 1462.25 775.658 1460.56 Q775.658 1457.8 773.713 1456.07 Q771.792 1454.33 768.69 1454.33 Q766.491 1454.33 764.037 1455.09 Q761.607 1455.86 758.829 1457.41 L758.829 1452.69 Q761.653 1451.55 764.107 1450.97 Q766.56 1450.39 768.597 1450.39 Q773.968 1450.39 777.162 1453.08 Q780.357 1455.77 780.357 1460.26 Q780.357 1462.39 779.546 1464.31 Q778.759 1466.2 776.653 1468.8 Q776.074 1469.47 772.972 1472.69 Q769.871 1475.88 764.222 1481.64 Z\" fill=\"#000000\" fill-rule=\"nonzero\" fill-opacity=\"1\" /><path clip-path=\"url(#clip180)\" d=\"M790.357 1479.7 L795.241 1479.7 L795.241 1485.58 L790.357 1485.58 L790.357 1479.7 Z\" fill=\"#000000\" fill-rule=\"nonzero\" fill-opacity=\"1\" /><path clip-path=\"url(#clip180)\" d=\"M805.472 1451.02 L823.829 1451.02 L823.829 1454.96 L809.755 1454.96 L809.755 1463.43 Q810.773 1463.08 811.792 1462.92 Q812.81 1462.73 813.829 1462.73 Q819.616 1462.73 822.995 1465.9 Q826.375 1469.08 826.375 1474.49 Q826.375 1480.07 822.903 1483.17 Q819.43 1486.25 813.111 1486.25 Q810.935 1486.25 808.667 1485.88 Q806.421 1485.51 804.014 1484.77 L804.014 1480.07 Q806.097 1481.2 808.319 1481.76 Q810.542 1482.32 813.018 1482.32 Q817.023 1482.32 819.361 1480.21 Q821.699 1478.1 821.699 1474.49 Q821.699 1470.88 819.361 1468.77 Q817.023 1466.67 813.018 1466.67 Q811.143 1466.67 809.268 1467.08 Q807.417 1467.5 805.472 1468.38 L805.472 1451.02 Z\" fill=\"#000000\" fill-rule=\"nonzero\" fill-opacity=\"1\" /><path clip-path=\"url(#clip180)\" d=\"M1259.74 1451.02 L1278.09 1451.02 L1278.09 1454.96 L1264.02 1454.96 L1264.02 1463.43 Q1265.04 1463.08 1266.06 1462.92 Q1267.08 1462.73 1268.09 1462.73 Q1273.88 1462.73 1277.26 1465.9 Q1280.64 1469.08 1280.64 1474.49 Q1280.64 1480.07 1277.17 1483.17 Q1273.7 1486.25 1267.38 1486.25 Q1265.2 1486.25 1262.93 1485.88 Q1260.69 1485.51 1258.28 1484.77 L1258.28 1480.07 Q1260.36 1481.2 1262.58 1481.76 Q1264.81 1482.32 1267.28 1482.32 Q1271.29 1482.32 1273.63 1480.21 Q1275.96 1478.1 1275.96 1474.49 Q1275.96 1470.88 1273.63 1468.77 Q1271.29 1466.67 1267.28 1466.67 Q1265.41 1466.67 1263.53 1467.08 Q1261.68 1467.5 1259.74 1468.38 L1259.74 1451.02 Z\" fill=\"#000000\" fill-rule=\"nonzero\" fill-opacity=\"1\" /><path clip-path=\"url(#clip180)\" d=\"M1289.85 1479.7 L1294.74 1479.7 L1294.74 1485.58 L1289.85 1485.58 L1289.85 1479.7 Z\" fill=\"#000000\" fill-rule=\"nonzero\" fill-opacity=\"1\" /><path clip-path=\"url(#clip180)\" d=\"M1314.92 1454.1 Q1311.31 1454.1 1309.48 1457.66 Q1307.68 1461.2 1307.68 1468.33 Q1307.68 1475.44 1309.48 1479.01 Q1311.31 1482.55 1314.92 1482.55 Q1318.56 1482.55 1320.36 1479.01 Q1322.19 1475.44 1322.19 1468.33 Q1322.19 1461.2 1320.36 1457.66 Q1318.56 1454.1 1314.92 1454.1 M1314.92 1450.39 Q1320.73 1450.39 1323.79 1455 Q1326.87 1459.58 1326.87 1468.33 Q1326.87 1477.06 1323.79 1481.67 Q1320.73 1486.25 1314.92 1486.25 Q1309.11 1486.25 1306.03 1481.67 Q1302.98 1477.06 1302.98 1468.33 Q1302.98 1459.58 1306.03 1455 Q1309.11 1450.39 1314.92 1450.39 Z\" fill=\"#000000\" fill-rule=\"nonzero\" fill-opacity=\"1\" /><path clip-path=\"url(#clip180)\" d=\"M1758.98 1451.02 L1781.2 1451.02 L1781.2 1453.01 L1768.65 1485.58 L1763.77 1485.58 L1775.58 1454.96 L1758.98 1454.96 L1758.98 1451.02 Z\" fill=\"#000000\" fill-rule=\"nonzero\" fill-opacity=\"1\" /><path clip-path=\"url(#clip180)\" d=\"M1790.32 1479.7 L1795.21 1479.7 L1795.21 1485.58 L1790.32 1485.58 L1790.32 1479.7 Z\" fill=\"#000000\" fill-rule=\"nonzero\" fill-opacity=\"1\" /><path clip-path=\"url(#clip180)\" d=\"M1805.44 1451.02 L1823.79 1451.02 L1823.79 1454.96 L1809.72 1454.96 L1809.72 1463.43 Q1810.74 1463.08 1811.76 1462.92 Q1812.77 1462.73 1813.79 1462.73 Q1819.58 1462.73 1822.96 1465.9 Q1826.34 1469.08 1826.34 1474.49 Q1826.34 1480.07 1822.87 1483.17 Q1819.4 1486.25 1813.08 1486.25 Q1810.9 1486.25 1808.63 1485.88 Q1806.39 1485.51 1803.98 1484.77 L1803.98 1480.07 Q1806.06 1481.2 1808.28 1481.76 Q1810.51 1482.32 1812.98 1482.32 Q1816.99 1482.32 1819.33 1480.21 Q1821.66 1478.1 1821.66 1474.49 Q1821.66 1470.88 1819.33 1468.77 Q1816.99 1466.67 1812.98 1466.67 Q1811.11 1466.67 1809.23 1467.08 Q1807.38 1467.5 1805.44 1468.38 L1805.44 1451.02 Z\" fill=\"#000000\" fill-rule=\"nonzero\" fill-opacity=\"1\" /><path clip-path=\"url(#clip180)\" d=\"M2244.82 1481.64 L2252.46 1481.64 L2252.46 1455.28 L2244.15 1456.95 L2244.15 1452.69 L2252.41 1451.02 L2257.09 1451.02 L2257.09 1481.64 L2264.72 1481.64 L2264.72 1485.58 L2244.82 1485.58 L2244.82 1481.64 Z\" fill=\"#000000\" fill-rule=\"nonzero\" fill-opacity=\"1\" /><path clip-path=\"url(#clip180)\" d=\"M2284.17 1454.1 Q2280.56 1454.1 2278.73 1457.66 Q2276.92 1461.2 2276.92 1468.33 Q2276.92 1475.44 2278.73 1479.01 Q2280.56 1482.55 2284.17 1482.55 Q2287.8 1482.55 2289.61 1479.01 Q2291.44 1475.44 2291.44 1468.33 Q2291.44 1461.2 2289.61 1457.66 Q2287.8 1454.1 2284.17 1454.1 M2284.17 1450.39 Q2289.98 1450.39 2293.03 1455 Q2296.11 1459.58 2296.11 1468.33 Q2296.11 1477.06 2293.03 1481.67 Q2289.98 1486.25 2284.17 1486.25 Q2278.36 1486.25 2275.28 1481.67 Q2272.22 1477.06 2272.22 1468.33 Q2272.22 1459.58 2275.28 1455 Q2278.36 1450.39 2284.17 1450.39 Z\" fill=\"#000000\" fill-rule=\"nonzero\" fill-opacity=\"1\" /><path clip-path=\"url(#clip180)\" d=\"M2304.33 1479.7 L2309.22 1479.7 L2309.22 1485.58 L2304.33 1485.58 L2304.33 1479.7 Z\" fill=\"#000000\" fill-rule=\"nonzero\" fill-opacity=\"1\" /><path clip-path=\"url(#clip180)\" d=\"M2329.4 1454.1 Q2325.79 1454.1 2323.96 1457.66 Q2322.16 1461.2 2322.16 1468.33 Q2322.16 1475.44 2323.96 1479.01 Q2325.79 1482.55 2329.4 1482.55 Q2333.03 1482.55 2334.84 1479.01 Q2336.67 1475.44 2336.67 1468.33 Q2336.67 1461.2 2334.84 1457.66 Q2333.03 1454.1 2329.4 1454.1 M2329.4 1450.39 Q2335.21 1450.39 2338.27 1455 Q2341.34 1459.58 2341.34 1468.33 Q2341.34 1477.06 2338.27 1481.67 Q2335.21 1486.25 2329.4 1486.25 Q2323.59 1486.25 2320.51 1481.67 Q2317.46 1477.06 2317.46 1468.33 Q2317.46 1459.58 2320.51 1455 Q2323.59 1450.39 2329.4 1450.39 Z\" fill=\"#000000\" fill-rule=\"nonzero\" fill-opacity=\"1\" /><path clip-path=\"url(#clip180)\" d=\"M1309.19 1532.4 L1296.3 1549.74 L1309.86 1568.04 L1302.95 1568.04 L1292.57 1554.04 L1282.2 1568.04 L1275.29 1568.04 L1289.14 1549.39 L1276.47 1532.4 L1283.37 1532.4 L1292.83 1545.1 L1302.28 1532.4 L1309.19 1532.4 Z\" fill=\"#000000\" fill-rule=\"nonzero\" fill-opacity=\"1\" /><polyline clip-path=\"url(#clip180)\" style=\"stroke:#000000; stroke-linecap:round; stroke-linejoin:round; stroke-width:4; stroke-opacity:1; fill:none\" points=\"232.389,1423.18 232.389,123.472 \"/>\n",
       "<polyline clip-path=\"url(#clip180)\" style=\"stroke:#000000; stroke-linecap:round; stroke-linejoin:round; stroke-width:4; stroke-opacity:1; fill:none\" points=\"232.389,1386.4 251.287,1386.4 \"/>\n",
       "<polyline clip-path=\"url(#clip180)\" style=\"stroke:#000000; stroke-linecap:round; stroke-linejoin:round; stroke-width:4; stroke-opacity:1; fill:none\" points=\"232.389,1079.86 251.287,1079.86 \"/>\n",
       "<polyline clip-path=\"url(#clip180)\" style=\"stroke:#000000; stroke-linecap:round; stroke-linejoin:round; stroke-width:4; stroke-opacity:1; fill:none\" points=\"232.389,773.326 251.287,773.326 \"/>\n",
       "<polyline clip-path=\"url(#clip180)\" style=\"stroke:#000000; stroke-linecap:round; stroke-linejoin:round; stroke-width:4; stroke-opacity:1; fill:none\" points=\"232.389,466.791 251.287,466.791 \"/>\n",
       "<polyline clip-path=\"url(#clip180)\" style=\"stroke:#000000; stroke-linecap:round; stroke-linejoin:round; stroke-width:4; stroke-opacity:1; fill:none\" points=\"232.389,160.256 251.287,160.256 \"/>\n",
       "<path clip-path=\"url(#clip180)\" d=\"M184.445 1372.19 Q180.834 1372.19 179.005 1375.76 Q177.2 1379.3 177.2 1386.43 Q177.2 1393.54 179.005 1397.1 Q180.834 1400.64 184.445 1400.64 Q188.079 1400.64 189.885 1397.1 Q191.713 1393.54 191.713 1386.43 Q191.713 1379.3 189.885 1375.76 Q188.079 1372.19 184.445 1372.19 M184.445 1368.49 Q190.255 1368.49 193.311 1373.1 Q196.389 1377.68 196.389 1386.43 Q196.389 1395.16 193.311 1399.76 Q190.255 1404.35 184.445 1404.35 Q178.635 1404.35 175.556 1399.76 Q172.501 1395.16 172.501 1386.43 Q172.501 1377.68 175.556 1373.1 Q178.635 1368.49 184.445 1368.49 Z\" fill=\"#000000\" fill-rule=\"nonzero\" fill-opacity=\"1\" /><path clip-path=\"url(#clip180)\" d=\"M149.306 1093.21 L165.626 1093.21 L165.626 1097.14 L143.681 1097.14 L143.681 1093.21 Q146.343 1090.45 150.927 1085.82 Q155.533 1081.17 156.714 1079.83 Q158.959 1077.3 159.839 1075.57 Q160.741 1073.81 160.741 1072.12 Q160.741 1069.36 158.797 1067.63 Q156.876 1065.89 153.774 1065.89 Q151.575 1065.89 149.121 1066.65 Q146.691 1067.42 143.913 1068.97 L143.913 1064.25 Q146.737 1063.11 149.191 1062.53 Q151.644 1061.96 153.681 1061.96 Q159.052 1061.96 162.246 1064.64 Q165.44 1067.33 165.44 1071.82 Q165.44 1073.95 164.63 1075.87 Q163.843 1077.77 161.737 1080.36 Q161.158 1081.03 158.056 1084.25 Q154.954 1087.44 149.306 1093.21 Z\" fill=\"#000000\" fill-rule=\"nonzero\" fill-opacity=\"1\" /><path clip-path=\"url(#clip180)\" d=\"M175.487 1062.58 L193.843 1062.58 L193.843 1066.52 L179.769 1066.52 L179.769 1074.99 Q180.788 1074.64 181.806 1074.48 Q182.825 1074.29 183.843 1074.29 Q189.63 1074.29 193.01 1077.47 Q196.389 1080.64 196.389 1086.05 Q196.389 1091.63 192.917 1094.73 Q189.445 1097.81 183.126 1097.81 Q180.95 1097.81 178.681 1097.44 Q176.436 1097.07 174.028 1096.33 L174.028 1091.63 Q176.112 1092.77 178.334 1093.32 Q180.556 1093.88 183.033 1093.88 Q187.038 1093.88 189.375 1091.77 Q191.713 1089.66 191.713 1086.05 Q191.713 1082.44 189.375 1080.34 Q187.038 1078.23 183.033 1078.23 Q181.158 1078.23 179.283 1078.65 Q177.431 1079.06 175.487 1079.94 L175.487 1062.58 Z\" fill=\"#000000\" fill-rule=\"nonzero\" fill-opacity=\"1\" /><path clip-path=\"url(#clip180)\" d=\"M144.329 756.046 L162.686 756.046 L162.686 759.981 L148.612 759.981 L148.612 768.453 Q149.63 768.106 150.649 767.944 Q151.667 767.759 152.686 767.759 Q158.473 767.759 161.852 770.93 Q165.232 774.101 165.232 779.518 Q165.232 785.097 161.76 788.199 Q158.288 791.277 151.968 791.277 Q149.792 791.277 147.524 790.907 Q145.279 790.537 142.871 789.796 L142.871 785.097 Q144.954 786.231 147.177 786.787 Q149.399 787.342 151.876 787.342 Q155.88 787.342 158.218 785.236 Q160.556 783.129 160.556 779.518 Q160.556 775.907 158.218 773.801 Q155.88 771.694 151.876 771.694 Q150.001 771.694 148.126 772.111 Q146.274 772.527 144.329 773.407 L144.329 756.046 Z\" fill=\"#000000\" fill-rule=\"nonzero\" fill-opacity=\"1\" /><path clip-path=\"url(#clip180)\" d=\"M184.445 759.125 Q180.834 759.125 179.005 762.689 Q177.2 766.231 177.2 773.361 Q177.2 780.467 179.005 784.032 Q180.834 787.574 184.445 787.574 Q188.079 787.574 189.885 784.032 Q191.713 780.467 191.713 773.361 Q191.713 766.231 189.885 762.689 Q188.079 759.125 184.445 759.125 M184.445 755.421 Q190.255 755.421 193.311 760.027 Q196.389 764.611 196.389 773.361 Q196.389 782.088 193.311 786.694 Q190.255 791.277 184.445 791.277 Q178.635 791.277 175.556 786.694 Q172.501 782.088 172.501 773.361 Q172.501 764.611 175.556 760.027 Q178.635 755.421 184.445 755.421 Z\" fill=\"#000000\" fill-rule=\"nonzero\" fill-opacity=\"1\" /><path clip-path=\"url(#clip180)\" d=\"M144.098 449.511 L166.32 449.511 L166.32 451.502 L153.774 484.071 L148.89 484.071 L160.695 453.446 L144.098 453.446 L144.098 449.511 Z\" fill=\"#000000\" fill-rule=\"nonzero\" fill-opacity=\"1\" /><path clip-path=\"url(#clip180)\" d=\"M175.487 449.511 L193.843 449.511 L193.843 453.446 L179.769 453.446 L179.769 461.918 Q180.788 461.571 181.806 461.409 Q182.825 461.224 183.843 461.224 Q189.63 461.224 193.01 464.395 Q196.389 467.567 196.389 472.983 Q196.389 478.562 192.917 481.664 Q189.445 484.742 183.126 484.742 Q180.95 484.742 178.681 484.372 Q176.436 484.002 174.028 483.261 L174.028 478.562 Q176.112 479.696 178.334 480.252 Q180.556 480.807 183.033 480.807 Q187.038 480.807 189.375 478.701 Q191.713 476.594 191.713 472.983 Q191.713 469.372 189.375 467.266 Q187.038 465.159 183.033 465.159 Q181.158 465.159 179.283 465.576 Q177.431 465.993 175.487 466.872 L175.487 449.511 Z\" fill=\"#000000\" fill-rule=\"nonzero\" fill-opacity=\"1\" /><path clip-path=\"url(#clip180)\" d=\"M114.931 173.601 L122.57 173.601 L122.57 147.236 L114.26 148.902 L114.26 144.643 L122.524 142.976 L127.2 142.976 L127.2 173.601 L134.839 173.601 L134.839 177.536 L114.931 177.536 L114.931 173.601 Z\" fill=\"#000000\" fill-rule=\"nonzero\" fill-opacity=\"1\" /><path clip-path=\"url(#clip180)\" d=\"M154.283 146.055 Q150.672 146.055 148.843 149.62 Q147.038 153.161 147.038 160.291 Q147.038 167.397 148.843 170.962 Q150.672 174.504 154.283 174.504 Q157.917 174.504 159.723 170.962 Q161.552 167.397 161.552 160.291 Q161.552 153.161 159.723 149.62 Q157.917 146.055 154.283 146.055 M154.283 142.351 Q160.093 142.351 163.149 146.958 Q166.227 151.541 166.227 160.291 Q166.227 169.018 163.149 173.624 Q160.093 178.208 154.283 178.208 Q148.473 178.208 145.394 173.624 Q142.339 169.018 142.339 160.291 Q142.339 151.541 145.394 146.958 Q148.473 142.351 154.283 142.351 Z\" fill=\"#000000\" fill-rule=\"nonzero\" fill-opacity=\"1\" /><path clip-path=\"url(#clip180)\" d=\"M184.445 146.055 Q180.834 146.055 179.005 149.62 Q177.2 153.161 177.2 160.291 Q177.2 167.397 179.005 170.962 Q180.834 174.504 184.445 174.504 Q188.079 174.504 189.885 170.962 Q191.713 167.397 191.713 160.291 Q191.713 153.161 189.885 149.62 Q188.079 146.055 184.445 146.055 M184.445 142.351 Q190.255 142.351 193.311 146.958 Q196.389 151.541 196.389 160.291 Q196.389 169.018 193.311 173.624 Q190.255 178.208 184.445 178.208 Q178.635 178.208 175.556 173.624 Q172.501 169.018 172.501 160.291 Q172.501 151.541 175.556 146.958 Q178.635 142.351 184.445 142.351 Z\" fill=\"#000000\" fill-rule=\"nonzero\" fill-opacity=\"1\" /><path clip-path=\"url(#clip180)\" d=\"M67.3143 771.639 Q73.68 774.122 75.6216 776.477 Q77.5631 778.832 77.5631 782.779 L77.5631 787.458 L72.6615 787.458 L72.6615 784.02 Q72.6615 781.601 71.5157 780.265 Q70.3699 778.928 66.1048 777.305 L63.4312 776.254 L28.3562 790.673 L28.3562 784.466 L56.238 773.326 L28.3562 762.186 L28.3562 755.979 L67.3143 771.639 Z\" fill=\"#000000\" fill-rule=\"nonzero\" fill-opacity=\"1\" /><path clip-path=\"url(#clip180)\" d=\"M1150.81 76.7889 Q1147.65 84.8907 1144.65 87.3618 Q1141.66 89.8329 1136.63 89.8329 L1130.68 89.8329 L1130.68 83.5945 L1135.05 83.5945 Q1138.13 83.5945 1139.83 82.1361 Q1141.53 80.6778 1143.6 75.2496 L1144.94 71.8468 L1126.59 27.2059 L1134.49 27.2059 L1148.66 62.6918 L1162.84 27.2059 L1170.74 27.2059 L1150.81 76.7889 Z\" fill=\"#000000\" fill-rule=\"nonzero\" fill-opacity=\"1\" /><path clip-path=\"url(#clip180)\" d=\"M1208.37 34.9026 L1260.31 34.9026 L1260.31 41.7081 L1208.37 41.7081 L1208.37 34.9026 M1208.37 51.4303 L1260.31 51.4303 L1260.31 58.3168 L1208.37 58.3168 L1208.37 51.4303 Z\" fill=\"#000000\" fill-rule=\"nonzero\" fill-opacity=\"1\" /><path clip-path=\"url(#clip180)\" d=\"M1341 27.2059 L1324.6 49.2833 L1341.85 72.576 L1333.06 72.576 L1319.86 54.752 L1306.65 72.576 L1297.86 72.576 L1315.48 48.8377 L1299.36 27.2059 L1308.15 27.2059 L1320.18 43.369 L1332.21 27.2059 L1341 27.2059 Z\" fill=\"#000000\" fill-rule=\"nonzero\" fill-opacity=\"1\" /><path clip-path=\"url(#clip180)\" d=\"M1383.29 12.096 L1405.29 34.6595 L1397.15 34.6595 L1379.32 18.6585 L1361.5 34.6595 L1353.36 34.6595 L1375.35 12.096 L1383.29 12.096 Z\" fill=\"#000000\" fill-rule=\"nonzero\" fill-opacity=\"1\" /><path clip-path=\"url(#clip180)\" d=\"M1430 65.6895 L1458.56 65.6895 L1458.56 72.576 L1420.16 72.576 L1420.16 65.6895 Q1424.81 60.8689 1432.84 52.7671 Q1440.9 44.6248 1442.96 42.2752 Q1446.89 37.8598 1448.43 34.8216 Q1450.01 31.7429 1450.01 28.7857 Q1450.01 23.9651 1446.61 20.927 Q1443.25 17.8888 1437.82 17.8888 Q1433.97 17.8888 1429.68 19.2256 Q1425.42 20.5624 1420.56 23.2765 L1420.56 15.0127 Q1425.5 13.0277 1429.8 12.015 Q1434.09 11.0023 1437.66 11.0023 Q1447.05 11.0023 1452.64 15.7013 Q1458.23 20.4004 1458.23 28.2591 Q1458.23 31.9859 1456.82 35.3482 Q1455.44 38.6699 1451.75 43.2069 Q1450.74 44.3817 1445.31 50.0125 Q1439.88 55.6027 1430 65.6895 Z\" fill=\"#000000\" fill-rule=\"nonzero\" fill-opacity=\"1\" /><polyline clip-path=\"url(#clip182)\" style=\"stroke:#009af9; stroke-linecap:round; stroke-linejoin:round; stroke-width:4; stroke-opacity:1; fill:none\" points=\"292.4,1386.4 312.403,1386.27 332.407,1385.91 352.41,1385.29 372.414,1384.43 392.417,1383.33 412.42,1381.98 432.424,1380.39 452.427,1378.55 472.431,1376.46 492.434,1374.13 512.438,1371.56 532.441,1368.74 552.445,1365.67 572.448,1362.36 592.452,1358.81 612.455,1355.01 632.459,1350.96 652.462,1346.67 672.465,1342.13 692.469,1337.35 712.472,1332.32 732.476,1327.05 752.479,1321.53 772.483,1315.77 792.486,1309.76 812.49,1303.51 832.493,1297.01 852.497,1290.27 872.5,1283.28 892.503,1276.04 912.507,1268.56 932.51,1260.84 952.514,1252.87 972.517,1244.65 992.521,1236.19 1012.52,1227.49 1032.53,1218.54 1052.53,1209.34 1072.53,1199.9 1092.54,1190.21 1112.54,1180.28 1132.54,1170.1 1152.55,1159.68 1172.55,1149.02 1192.56,1138.1 1212.56,1126.94 1232.56,1115.54 1252.57,1103.89 1272.57,1092 1292.57,1079.86 1312.58,1067.48 1332.58,1054.85 1352.58,1041.97 1372.59,1028.85 1392.59,1015.49 1412.59,1001.88 1432.6,988.023 1452.6,973.922 1472.6,959.577 1492.61,944.985 1512.61,930.149 1532.61,915.068 1552.62,899.741 1572.62,884.169 1592.62,868.352 1612.63,852.289 1632.63,835.982 1652.63,819.429 1672.64,802.631 1692.64,785.587 1712.65,768.299 1732.65,750.765 1752.65,732.986 1772.66,714.962 1792.66,696.692 1812.66,678.178 1832.67,659.418 1852.67,640.412 1872.67,621.162 1892.68,601.666 1912.68,581.926 1932.68,561.94 1952.69,541.708 1972.69,521.232 1992.69,500.51 2012.7,479.543 2032.7,458.331 2052.7,436.873 2072.71,415.171 2092.71,393.223 2112.71,371.03 2132.72,348.591 2152.72,325.908 2172.72,302.979 2192.73,279.805 2212.73,256.386 2232.74,232.721 2252.74,208.811 2272.74,184.656 2292.75,160.256 \"/>\n",
       "</svg>\n"
      ]
     },
     "execution_count": 1,
     "metadata": {},
     "output_type": "execute_result"
    }
   ],
   "source": [
    "using Plots\n",
    "x = 0:0.1:10                  # range from 0 to 10 with step 0.1\n",
    "y = x .^ 2                    # y is x squared (elementwise)\n",
    "plot(x, y,                   # data\n",
    "     title=\"y = x^2\", \n",
    "     xlabel=\"x\", ylabel=\"y\", \n",
    "     legend=false)           # legend not needed for a single series"
   ]
  },
  {
   "cell_type": "markdown",
   "id": "37513ec1-4221-4ca0-bb4d-59e83fb3963c",
   "metadata": {
    "editable": true,
    "slideshow": {
     "slide_type": ""
    },
    "tags": []
   },
   "source": [
    "This will produce a curve (parabola) from 0 to 100. We passed vectors `x` and `y` to `plot` along with some keyword arguments to set title and axis labels, and we turned off the legend because there’s only one series and we labeled it in the title."
   ]
  },
  {
   "cell_type": "markdown",
   "id": "e09f66ab-a10f-46e6-ae26-a2bb37027b6a",
   "metadata": {
    "editable": true,
    "slideshow": {
     "slide_type": ""
    },
    "tags": []
   },
   "source": [
    "## Customizing Titles, Labels, Legends\n",
    "As seen, you can use `title=\"...\"`, `xlabel=\"...\"`, `ylabel=\"...\"` in the plotting call. To control legend:\n",
    "- `label=\"name\"` sets the series name in legend.\n",
    "- `legend=true/false` to show or hide legend.\n",
    "- `legend=:topright` or `:bottomleft`, etc., to position it. (By default Plots picks a corner or outside.)\n",
    "- `legendtitle=\"...\"` if you want a heading on the legend.\n",
    "\n",
    "For axes limits:\n",
    "- `xlim=(xmin, xmax)`, `ylim=(ymin, ymax)` to manually set the range (otherwise it auto-scales to data).\n",
    "- `xticks` or `yticks` to specify tick positions or labels (you can give an array of positions or a pair of positions and labels arrays).\n",
    "\n",
    "For overall style:\n",
    "- **Themes**: Plots has some built-in themes (e.g., `theme=:dark` or `:ggplot2`). You can set with `plot(...; theme=:dark)` or use `Plots.default(theme=:dark)` to set a default for future plots.\n",
    "- **Font sizes**: `xlabel!(\"X\", font=font(12))` if you need to adjust after creating the plot, or set `guidefont=font(14)` etc. in the initial call.\n",
    "- **Colours**: Many named colours (`:red, blue, green, gold, salmon`, …), or supply a hex string like `color=\"#FF00FF\"`.\n"
   ]
  },
  {
   "cell_type": "markdown",
   "id": "d3cb97f5-4efb-4b43-ac2d-63bd227254c9",
   "metadata": {
    "editable": true,
    "slideshow": {
     "slide_type": ""
    },
    "tags": []
   },
   "source": [
    "## Saving Plots \n",
    "Once you have a plot displayed, you can save it using `savefig(\"filename.ext\")`. The file extension determines the format (common ones: `.png`, `.svg`, `.pdf`, `.jpg`). PNG is a good default for raster images and SVG/PDF for vectors (scalable without loss). \n",
    "\n",
    "```Julia \n",
    "p = plot(x, sin.(x), title=\"Sine Wave\", xlabel=\"x\", ylabel=\"sin(x)\")\n",
    "savefig(p, \"sine_wave.png\")\n",
    "```\n",
    "\n",
    "if you don't provide the plot object `p` to savefig, it will save the current plot displayed (in scripts, the last plot made). "
   ]
  },
  {
   "cell_type": "markdown",
   "id": "f53e5d6e-1c0f-418d-a088-ced293b4d56d",
   "metadata": {
    "editable": true,
    "slideshow": {
     "slide_type": ""
    },
    "tags": []
   },
   "source": [
    "## Exercise: Exploring Plot Types in Plots.jl\n",
    "\n",
    "The `Plots.jl` package offers a wide variety of plot types to visualize different kinds of data. \n",
    "\n",
    "- Choose **one type of plot** that you would like to explore. Some examples include:\n",
    "   - Bar charts\n",
    "   - Scatter plots\n",
    "   - Line plots\n",
    "   - Heatmaps\n",
    "   - 3D plots\n",
    "   - Subplots and layouts\n",
    "   - Animations\n",
    "- Visit the [Plots.jl documentation](https://docs.juliaplots.org/latest/) to find examples and guidance for creating your chosen plot type.\n",
    "- Create a simple example using real or made-up data. Try to choose a plot that would be useful for the kind of data you expect to work with outside this course.\n",
    "- Display the plot output and try to save it to a relevant file type.\n",
    "\n",
    "# End of Section Quiz"
   ]
  },
  {
   "cell_type": "code",
   "execution_count": 4,
   "id": "3bc73c90-a335-4819-8b54-b689917a1f65",
   "metadata": {
    "editable": true,
    "slideshow": {
     "slide_type": ""
    },
    "tags": [
     "remove-input"
    ]
   },
   "outputs": [
    {
     "data": {
      "text/html": [
       "<style>\n",
       ".quiz-question {\n",
       "    background-color: #6c63ff;\n",
       "    color: white;\n",
       "    padding: 12px;\n",
       "    border-radius: 10px;\n",
       "    font-weight: bold;\n",
       "    font-size: 1.2em;\n",
       "    margin-bottom: 10px;\n",
       "}\n",
       "\n",
       ".quiz-form {\n",
       "    margin-bottom: 20px;\n",
       "}\n",
       "\n",
       ".quiz-answer {\n",
       "    display: block;\n",
       "    background-color: #f2f2f2;\n",
       "    border: none;\n",
       "    border-radius: 10px;\n",
       "    padding: 10px;\n",
       "    margin: 5px 0;\n",
       "    font-size: 1em;\n",
       "    cursor: pointer;\n",
       "    text-align: left;\n",
       "    transition: background-color 0.3s;\n",
       "    width: 100%;\n",
       "}\n",
       "\n",
       ".quiz-answer:hover {\n",
       "    background-color: #e0e0e0;\n",
       "}\n",
       "\n",
       ".correct {\n",
       "    background-color: #4CAF50 !important;\n",
       "    color: white !important;\n",
       "    border: none;\n",
       "}\n",
       "\n",
       ".incorrect {\n",
       "    background-color: #D32F2F !important;\n",
       "    color: white !important;\n",
       "    border: none;\n",
       "}\n",
       "\n",
       ".feedback {\n",
       "    margin-top: 10px;\n",
       "    font-weight: bold;\n",
       "    font-size: 1em;\n",
       "}\n",
       "</style>\n",
       "\n",
       "<script>\n",
       "function handleAnswer(qid, aid, feedback, isCorrect) {\n",
       "    // Reset all buttons for the question\n",
       "    let buttons = document.querySelectorAll(\".answer-\" + qid);\n",
       "    buttons.forEach(btn => {\n",
       "        btn.classList.remove('correct', 'incorrect');\n",
       "    });\n",
       "\n",
       "    // Apply correct/incorrect to selected\n",
       "    let selected = document.getElementById(aid);\n",
       "    selected.classList.add(isCorrect ? 'correct' : 'incorrect');\n",
       "\n",
       "    // Show feedback below the question\n",
       "    let feedbackBox = document.getElementById('feedback_' + qid);\n",
       "    feedbackBox.innerHTML = feedback;\n",
       "    feedbackBox.style.color = isCorrect ? 'green' : 'red';\n",
       "}\n",
       "</script>\n",
       "<div class=\"quiz-question\">Which syntax correctly generates a simple line plot of x versus y in Julia using the Plots package?</div><form class=\"quiz-form\"><button type=\"button\" class=\"quiz-answer answer-1\" id=\"q1_a1\"\n",
       "    onclick=\"handleAnswer('1', 'q1_a1', 'Correct', true)\">\n",
       "    plot(x, y)\n",
       "</button>\n",
       "<button type=\"button\" class=\"quiz-answer answer-1\" id=\"q1_a2\"\n",
       "    onclick=\"handleAnswer('1', 'q1_a2', 'Incorrect', false)\">\n",
       "    draw(x, y)\n",
       "</button>\n",
       "<button type=\"button\" class=\"quiz-answer answer-1\" id=\"q1_a3\"\n",
       "    onclick=\"handleAnswer('1', 'q1_a3', 'Incorrect', false)\">\n",
       "    figure(x, y)\n",
       "</button>\n",
       "<button type=\"button\" class=\"quiz-answer answer-1\" id=\"q1_a4\"\n",
       "    onclick=\"handleAnswer('1', 'q1_a4', 'Incorrect', false)\">\n",
       "    makeplot(x, y)\n",
       "</button>\n",
       "<div class=\"feedback\" id=\"feedback_1\"></div></form><hr>"
      ]
     },
     "metadata": {},
     "output_type": "display_data"
    }
   ],
   "source": [
    "using JSON\n",
    "\n",
    "function show_quiz_from_json(path)\n",
    "    quiz_data = JSON.parsefile(path)\n",
    "\n",
    "    html = \"\"\"\n",
    "    <style>\n",
    "    .quiz-question {\n",
    "        background-color: #6c63ff;\n",
    "        color: white;\n",
    "        padding: 12px;\n",
    "        border-radius: 10px;\n",
    "        font-weight: bold;\n",
    "        font-size: 1.2em;\n",
    "        margin-bottom: 10px;\n",
    "    }\n",
    "\n",
    "    .quiz-form {\n",
    "        margin-bottom: 20px;\n",
    "    }\n",
    "\n",
    "    .quiz-answer {\n",
    "        display: block;\n",
    "        background-color: #f2f2f2;\n",
    "        border: none;\n",
    "        border-radius: 10px;\n",
    "        padding: 10px;\n",
    "        margin: 5px 0;\n",
    "        font-size: 1em;\n",
    "        cursor: pointer;\n",
    "        text-align: left;\n",
    "        transition: background-color 0.3s;\n",
    "        width: 100%;\n",
    "    }\n",
    "\n",
    "    .quiz-answer:hover {\n",
    "        background-color: #e0e0e0;\n",
    "    }\n",
    "\n",
    "    .correct {\n",
    "        background-color: #4CAF50 !important;\n",
    "        color: white !important;\n",
    "        border: none;\n",
    "    }\n",
    "\n",
    "    .incorrect {\n",
    "        background-color: #D32F2F !important;\n",
    "        color: white !important;\n",
    "        border: none;\n",
    "    }\n",
    "\n",
    "    .feedback {\n",
    "        margin-top: 10px;\n",
    "        font-weight: bold;\n",
    "        font-size: 1em;\n",
    "    }\n",
    "    </style>\n",
    "\n",
    "    <script>\n",
    "    function handleAnswer(qid, aid, feedback, isCorrect) {\n",
    "        // Reset all buttons for the question\n",
    "        let buttons = document.querySelectorAll(\".answer-\" + qid);\n",
    "        buttons.forEach(btn => {\n",
    "            btn.classList.remove('correct', 'incorrect');\n",
    "        });\n",
    "\n",
    "        // Apply correct/incorrect to selected\n",
    "        let selected = document.getElementById(aid);\n",
    "        selected.classList.add(isCorrect ? 'correct' : 'incorrect');\n",
    "\n",
    "        // Show feedback below the question\n",
    "        let feedbackBox = document.getElementById('feedback_' + qid);\n",
    "        feedbackBox.innerHTML = feedback;\n",
    "        feedbackBox.style.color = isCorrect ? 'green' : 'red';\n",
    "    }\n",
    "    </script>\n",
    "    \"\"\"\n",
    "\n",
    "    for (i, question) in enumerate(quiz_data)\n",
    "        qid = \"$i\"\n",
    "        html *= \"\"\"<div class=\"quiz-question\">$(question[\"question\"])</div><form class=\"quiz-form\">\"\"\"\n",
    "\n",
    "        for (j, answer) in enumerate(question[\"answers\"])\n",
    "            aid = \"q$(i)_a$(j)\"\n",
    "            feedback = answer[\"feedback\"]\n",
    "            correct = startswith(lowercase(feedback), \"correct\")\n",
    "            html *= \"\"\"\n",
    "            <button type=\"button\" class=\"quiz-answer answer-$qid\" id=\"$aid\"\n",
    "                onclick=\"handleAnswer('$qid', '$aid', '$feedback', $(correct))\">\n",
    "                $(answer[\"answer\"])\n",
    "            </button>\n",
    "            \"\"\"\n",
    "        end\n",
    "\n",
    "        html *= \"\"\"<div class=\"feedback\" id=\"feedback_$qid\"></div></form><hr>\"\"\"\n",
    "    end\n",
    "\n",
    "    display(\"text/html\", html)\n",
    "end\n",
    "\n",
    "\n",
    "# Use the function\n",
    "show_quiz_from_json(\"questions/summary_plotting.json\")"
   ]
  },
  {
   "cell_type": "code",
   "execution_count": null,
   "id": "f8f3af1e-4424-4b87-a64a-7243635df680",
   "metadata": {
    "editable": true,
    "slideshow": {
     "slide_type": ""
    },
    "tags": []
   },
   "outputs": [],
   "source": []
  }
 ],
 "metadata": {
  "kernelspec": {
   "display_name": "Julia 1.10.3",
   "language": "julia",
   "name": "julia-1.10"
  },
  "language_info": {
   "file_extension": ".jl",
   "mimetype": "application/julia",
   "name": "julia",
   "version": "1.10.3"
  }
 },
 "nbformat": 4,
 "nbformat_minor": 5
}
