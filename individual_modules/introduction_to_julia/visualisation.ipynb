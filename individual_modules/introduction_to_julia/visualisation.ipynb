{
 "cells": [
  {
   "cell_type": "markdown",
   "id": "afa9f5fe-fa21-4be1-a483-bbd54471f0a1",
   "metadata": {
    "editable": true,
    "slideshow": {
     "slide_type": ""
    },
    "tags": []
   },
   "source": [
    "# Plotting (Visualisation) \n",
    "\n",
    "## Learning Objectives \n",
    "- Understand the basic capabilities of plotting libraries in Julia \n",
    "- Install and use the Plots.jl package for creating visualisations \n",
    "- Create and customise a single common plot type: line plots, scatter plots, bar plots, etc. \n",
    "- Save plots to files in various formats (e.g., PNG)"
   ]
  },
  {
   "cell_type": "markdown",
   "id": "81c396c1-1f30-477a-9064-ac626d66d0e9",
   "metadata": {
    "editable": true,
    "slideshow": {
     "slide_type": ""
    },
    "tags": []
   },
   "source": [
    "Visualising data is an important part of analysis. Julia offers multiple plotting packages. One of the most popular high-level packages is **Plots.jl**, which provides a unified API and supports multiple backends (GR, PyPlot/Matplotlib, Plotly, etc.). Here, we will use Plots.jl with its default backend (usually GR, which produces static plots quickly).\n",
    "Another plotting library is **Gadfly.jl** (inspired by ggplot2 in R). And for advanced usage, **Makie.jl** is a powerful library for interactive and publication-quality plots. But Plots.jl is a great starting point due to its simplicity and flexibility."
   ]
  },
  {
   "cell_type": "markdown",
   "id": "ee01821e-1d96-44a9-a3ca-ab20ff7c0b11",
   "metadata": {
    "editable": true,
    "slideshow": {
     "slide_type": ""
    },
    "tags": []
   },
   "source": [
    "## Overview of Plotting Capabilities in Julia\n",
    "\n",
    "Julia’s plotting ecosystem can handle simple tasks like plotting a line or scatter, as well as complex tasks like 3D surfaces or interactive animations. Plots.jl aims to be a convenient, common interface.\n",
    "When using Plots.jl, you typically:\n",
    "- Ensure Plots is installed: `Pkg.add(\"Plots\")` (already covered in Package Management).\n",
    "- Do `using Plots`.\n",
    "- Call a plotting function like `plot` (for line plots or general plots), `scatter`, `bar`, etc., possibly providing data and options.\n",
    "- Customise the plot by adding attributes (title, labels, legend, colors, markers, etc.).\n",
    "- Display it (in Jupyter, just ensure the plot command is the last in the cell or use `display`).\n",
    "- Save it using `savefig(\"filename.png\")` if needed.\n",
    "\n",
    "Plots.jl by default in a script might open a separate window to show the graph (using GR or other backend). In Jupyter, it displays inline.\n",
    "\n",
    "## Basic Plotting with Plots.jl \n",
    "We should have Plots installed (if not, do `Pkg.add(\"Plots\")`), then 'using Plots'. The first time you do this, it can take a moment. \n",
    "\n",
    "### Line plots \n",
    "A line plot is typically used to show a series of data points connected by lines, often to visualise a function or a trend over an index or time. For example if we wanted to plot `y = x ^ 2` for `x` from 0 to 100, we could do: "
   ]
  },
  {
   "cell_type": "code",
   "execution_count": 1,
   "id": "27106491-9f15-4e98-903f-d3f1315d0ffc",
   "metadata": {
    "editable": true,
    "slideshow": {
     "slide_type": ""
    },
    "tags": []
   },
   "outputs": [
    {
     "ename": "LoadError",
     "evalue": "ArgumentError: Package Plots not found in current path.\n- Run `import Pkg; Pkg.add(\"Plots\")` to install the Plots package.",
     "output_type": "error",
     "traceback": [
      "ArgumentError: Package Plots not found in current path.\n- Run `import Pkg; Pkg.add(\"Plots\")` to install the Plots package.",
      "",
      "Stacktrace:",
      " [1] \u001b[0m\u001b[1mmacro expansion\u001b[22m",
      "\u001b[90m   @\u001b[39m \u001b[90m./\u001b[39m\u001b[90m\u001b[4mloading.jl:2296\u001b[24m\u001b[39m\u001b[90m [inlined]\u001b[39m",
      " [2] \u001b[0m\u001b[1mmacro expansion\u001b[22m",
      "\u001b[90m   @\u001b[39m \u001b[90m./\u001b[39m\u001b[90m\u001b[4mlock.jl:273\u001b[24m\u001b[39m\u001b[90m [inlined]\u001b[39m",
      " [3] \u001b[0m\u001b[1m__require\u001b[22m\u001b[0m\u001b[1m(\u001b[22m\u001b[90minto\u001b[39m::\u001b[0mModule, \u001b[90mmod\u001b[39m::\u001b[0mSymbol\u001b[0m\u001b[1m)\u001b[22m",
      "\u001b[90m   @\u001b[39m \u001b[90mBase\u001b[39m \u001b[90m./\u001b[39m\u001b[90m\u001b[4mloading.jl:2271\u001b[24m\u001b[39m",
      " [4] \u001b[0m\u001b[1m#invoke_in_world#3\u001b[22m",
      "\u001b[90m   @\u001b[39m \u001b[90m./\u001b[39m\u001b[90m\u001b[4messentials.jl:1089\u001b[24m\u001b[39m\u001b[90m [inlined]\u001b[39m",
      " [5] \u001b[0m\u001b[1minvoke_in_world\u001b[22m",
      "\u001b[90m   @\u001b[39m \u001b[90m./\u001b[39m\u001b[90m\u001b[4messentials.jl:1086\u001b[24m\u001b[39m\u001b[90m [inlined]\u001b[39m",
      " [6] \u001b[0m\u001b[1mrequire\u001b[22m\u001b[0m\u001b[1m(\u001b[22m\u001b[90minto\u001b[39m::\u001b[0mModule, \u001b[90mmod\u001b[39m::\u001b[0mSymbol\u001b[0m\u001b[1m)\u001b[22m",
      "\u001b[90m   @\u001b[39m \u001b[90mBase\u001b[39m \u001b[90m./\u001b[39m\u001b[90m\u001b[4mloading.jl:2260\u001b[24m\u001b[39m"
     ]
    }
   ],
   "source": [
    "using Plots\n",
    "x = 0:0.1:10                  # range from 0 to 10 with step 0.1\n",
    "y = x .^ 2                    # y is x squared (elementwise)\n",
    "plot(x, y,                   # data\n",
    "     title=\"y = x^2\", \n",
    "     xlabel=\"x\", ylabel=\"y\", \n",
    "     legend=false)           # legend not needed for a single series"
   ]
  },
  {
   "cell_type": "markdown",
   "id": "37513ec1-4221-4ca0-bb4d-59e83fb3963c",
   "metadata": {
    "editable": true,
    "slideshow": {
     "slide_type": ""
    },
    "tags": []
   },
   "source": [
    "This will produce a curve (parabola) from 0 to 100. We passed vectors `x` and `y` to `plot` along with some keyword arguments to set title and axis labels, and we turned off the legend because there’s only one series and we labelled it in the title."
   ]
  },
  {
   "cell_type": "markdown",
   "id": "e09f66ab-a10f-46e6-ae26-a2bb37027b6a",
   "metadata": {
    "editable": true,
    "slideshow": {
     "slide_type": ""
    },
    "tags": []
   },
   "source": [
    "## Customizing Titles, Labels, Legends\n",
    "As seen, you can use `title=\"...\"`, `xlabel=\"...\"`, `ylabel=\"...\"` in the plotting call. To control legend:\n",
    "- `label=\"name\"` sets the series name in legend.\n",
    "- `legend=true/false` to show or hide legend.\n",
    "- `legend=:topright` or `:bottomleft`, etc., to position it. (By default Plots picks a corner or outside.)\n",
    "- `legendtitle=\"...\"` if you want a heading on the legend.\n",
    "\n",
    "For axes limits:\n",
    "- `xlim=(xmin, xmax)`, `ylim=(ymin, ymax)` to manually set the range (otherwise it auto-scales to data).\n",
    "- `xticks` or `yticks` to specify tick positions or labels (you can give an array of positions or a pair of positions and labels arrays).\n",
    "\n",
    "For overall style:\n",
    "- **Themes**: Plots has some built-in themes (e.g., `theme=:dark` or `:ggplot2`). You can set with `plot(...; theme=:dark)` or use `Plots.default(theme=:dark)` to set a default for future plots.\n",
    "- **Font sizes**: `xlabel!(\"X\", font=font(12))` if you need to adjust after creating the plot, or set `guidefont=font(14)` etc. in the initial call.\n",
    "- **Colours**: Many named colours (`:red, blue, green, gold, salmon`, …), or supply a hex string like `color=\"#FF00FF\"`.\n",
    "\n",
    "### A Side Note on Symbols\n",
    "\n",
    "In Julia, a **Symbol** is a lightweight, immutable identifier written with a leading colon. Symbols are commonly used for:\n",
    "\n",
    "- **Keywords and option names**, e.g. `theme = :dark`  \n",
    "- **Dictionary keys** (e.g., `Dict(:a => 1, :b => 2)`)  \n",
    "- **Meta-programming** and referring to variable names  \n",
    "\n",
    "Because they are interned (each unique name is stored only once), Symbols are very fast to compare and ideal for tagging or naming things without the overhead of full strings.  \n",
    "\n",
    "**Examples**  \n",
    "```julia\n",
    ":dark       # a Symbol with the name \"dark\"\n",
    ":ggplot2    # a Symbol with the name \"ggplot2\"\n",
    "```\n",
    "\n",
    "In the above when we write `plot(...; theme = :ggplot2)`, you're passing the Symbol `:ggplot2` to the `theme` *keyword* telling Plots.jl which built-in style to use. Symbols are covered more in the [Julia manual](https://docs.julialang.org/en/v1/manual/metaprogramming/#Symbols).\n",
    "\n"
   ]
  },
  {
   "cell_type": "markdown",
   "id": "d3cb97f5-4efb-4b43-ac2d-63bd227254c9",
   "metadata": {
    "editable": true,
    "slideshow": {
     "slide_type": ""
    },
    "tags": []
   },
   "source": [
    "## Saving Plots \n",
    "Once you have a plot displayed, you can save it using `savefig(\"filename.ext\")`. The file extension determines the format (common ones: `.png`, `.svg`, `.pdf`, `.jpg`). PNG is a good default for raster images and SVG/PDF for vectors (scalable without loss). \n",
    "\n",
    "```Julia \n",
    "p = plot(x, sin.(x), title=\"Sine Wave\", xlabel=\"x\", ylabel=\"sin(x)\")\n",
    "savefig(p, \"sine_wave.png\")\n",
    "```\n",
    "\n",
    "if you don't provide the plot object `p` to savefig, it will save the current plot displayed (in scripts, the last plot made). "
   ]
  },
  {
   "cell_type": "markdown",
   "id": "f53e5d6e-1c0f-418d-a088-ced293b4d56d",
   "metadata": {
    "editable": true,
    "slideshow": {
     "slide_type": ""
    },
    "tags": []
   },
   "source": [
    "## Exercise: Exploring Plot Types in Plots.jl\n",
    "\n",
    "The `Plots.jl` package offers a wide variety of plot types to visualise different kinds of data. \n",
    "\n",
    "- Choose **one type of plot** that you would like to explore. Some examples include:\n",
    "   - Bar charts\n",
    "   - Scatter plots\n",
    "   - Line plots\n",
    "   - Heatmaps\n",
    "   - 3D plots\n",
    "   - Subplots and layouts\n",
    "   - Animations\n",
    "- Visit the [Plots.jl documentation](https://docs.juliaplots.org/latest/) to find examples and guidance for creating your chosen plot type.\n",
    "- Create a simple example using real or made-up data. Try to choose a plot that would be useful for the kind of data you expect to work with outside this course.\n",
    "- Display the plot output and try to save it to a relevant file type.\n",
    "\n",
    "# End of Section Quiz"
   ]
  },
  {
   "cell_type": "code",
   "execution_count": 2,
   "id": "3bc73c90-a335-4819-8b54-b689917a1f65",
   "metadata": {
    "editable": true,
    "slideshow": {
     "slide_type": ""
    },
    "tags": [
     "remove-input"
    ]
   },
   "outputs": [
    {
     "data": {
      "text/html": [
       "<style>\n",
       ".quiz-question {\n",
       "    background-color: #6c63ff;\n",
       "    color: white;\n",
       "    padding: 12px;\n",
       "    border-radius: 10px;\n",
       "    font-weight: bold;\n",
       "    font-size: 1.2em;\n",
       "    margin-bottom: 10px;\n",
       "}\n",
       "\n",
       ".quiz-form {\n",
       "    margin-bottom: 20px;\n",
       "}\n",
       "\n",
       ".quiz-answer {\n",
       "    display: block;\n",
       "    background-color: #f2f2f2;\n",
       "    border: none;\n",
       "    border-radius: 10px;\n",
       "    padding: 10px;\n",
       "    margin: 5px 0;\n",
       "    font-size: 1em;\n",
       "    cursor: pointer;\n",
       "    text-align: left;\n",
       "    transition: background-color 0.3s;\n",
       "    width: 100%;\n",
       "}\n",
       "\n",
       ".quiz-answer:hover {\n",
       "    background-color: #e0e0e0;\n",
       "}\n",
       "\n",
       ".correct {\n",
       "    background-color: #4CAF50 !important;\n",
       "    color: white !important;\n",
       "    border: none;\n",
       "}\n",
       "\n",
       ".incorrect {\n",
       "    background-color: #D32F2F !important;\n",
       "    color: white !important;\n",
       "    border: none;\n",
       "}\n",
       "\n",
       ".feedback {\n",
       "    margin-top: 10px;\n",
       "    font-weight: bold;\n",
       "    font-size: 1em;\n",
       "}\n",
       "</style>\n",
       "\n",
       "<script>\n",
       "function handleAnswer(qid, aid, feedback, isCorrect) {\n",
       "    let buttons = document.querySelectorAll(\".answer-\" + qid);\n",
       "    buttons.forEach(btn => {\n",
       "        btn.classList.remove('correct', 'incorrect');\n",
       "    });\n",
       "\n",
       "    let selected = document.getElementById(aid);\n",
       "    selected.classList.add(isCorrect ? 'correct' : 'incorrect');\n",
       "\n",
       "    let feedbackBox = document.getElementById('feedback_' + qid);\n",
       "    feedbackBox.innerHTML = feedback;\n",
       "    feedbackBox.style.color = isCorrect ? 'green' : 'red';\n",
       "}\n",
       "</script>\n",
       "<div class=\"quiz-question\">Which syntax correctly generates a simple line plot of x versus y in Julia using the Plots package?</div><form class=\"quiz-form\"><button type=\"button\" class=\"quiz-answer answer-1\" id=\"q1_a1\"\n",
       "    onclick=\"handleAnswer('1', 'q1_a1', 'Correct', true)\">\n",
       "    plot(x, y)\n",
       "</button>\n",
       "<button type=\"button\" class=\"quiz-answer answer-1\" id=\"q1_a2\"\n",
       "    onclick=\"handleAnswer('1', 'q1_a2', 'Incorrect', false)\">\n",
       "    draw(x, y)\n",
       "</button>\n",
       "<button type=\"button\" class=\"quiz-answer answer-1\" id=\"q1_a3\"\n",
       "    onclick=\"handleAnswer('1', 'q1_a3', 'Incorrect', false)\">\n",
       "    figure(x, y)\n",
       "</button>\n",
       "<button type=\"button\" class=\"quiz-answer answer-1\" id=\"q1_a4\"\n",
       "    onclick=\"handleAnswer('1', 'q1_a4', 'Incorrect', false)\">\n",
       "    makeplot(x, y)\n",
       "</button>\n",
       "<div class=\"feedback\" id=\"feedback_1\"></div>\n",
       "<button type=\"submit\" style=\"position:absolute; left:-9999px; width:1px; height:1px; overflow:hidden;\">\n",
       "    Submit\n",
       "</button>\n",
       "</form><hr>\n"
      ]
     },
     "metadata": {},
     "output_type": "display_data"
    }
   ],
   "source": [
    "include(\"../../julia_functions/quiz_renderer.jl\")\n",
    "show_quiz_from_json(\"questions/summary_plotting.json\")"
   ]
  },
  {
   "cell_type": "code",
   "execution_count": null,
   "id": "f8f3af1e-4424-4b87-a64a-7243635df680",
   "metadata": {
    "editable": true,
    "slideshow": {
     "slide_type": ""
    },
    "tags": []
   },
   "outputs": [],
   "source": []
  }
 ],
 "metadata": {
  "kernelspec": {
   "display_name": "Julia 1.11.5",
   "language": "julia",
   "name": "julia-1.11"
  },
  "language_info": {
   "file_extension": ".jl",
   "mimetype": "application/julia",
   "name": "julia",
   "version": "1.11.5"
  }
 },
 "nbformat": 4,
 "nbformat_minor": 5
}
