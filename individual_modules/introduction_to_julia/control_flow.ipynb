{
 "cells": [
  {
   "cell_type": "markdown",
   "id": "c8b04e55-04e9-4830-aac1-63b296f0511e",
   "metadata": {
    "editable": true,
    "slideshow": {
     "slide_type": ""
    },
    "tags": []
   },
   "source": [
    "# Control Flow \n",
    "\n",
    "## Learning Objectives \n",
    "\n",
    "- Understand and use conditional statements (`if`, `else`, `elseif`) in Julia \n",
    "- Implement `for` and `while` loops to execute repetitive tasks \n",
    "- Recognise how control flow structures manage the execution of code based on conditions \n",
    "- Write programs that use loops and conditional statements to solve problems \n",
    "- Gain awareness of some utility functions for iteration\n",
    "\n",
    "Control flow statements allow your program to make decisions (with conditionals) and repeat actions (with loops). Julia's control flow syntax will look familiar if you've used languages like Python, C or others, but there are some syntax differences to note; for example, Julia uses `end` to close blocks.\n",
    "\n",
    "## Conditional Statements (Branching)\n",
    "\n",
    "Julia uses `if`, `elseif` (note the single word, not `else if`), and `else` to execute code based on conditions. The general structure is: \n",
    "\n",
    "```Julia \n",
    "if <condition1>\n",
    "    # code to run if condition1 is true\n",
    "elseif <condition2>\n",
    "    # code to run if condition1 was false, but condition2 is true\n",
    "else\n",
    "    # code to run if all above conditions are false\n",
    "end\n",
    "```\n",
    "\n",
    "The `elseif` and `else` parts are optional (use them as needed). You can have multiple `elseif` branches if there are several conditions to check in sequence. \n",
    "\n",
    "A simple example of the branching logic would be to determine if a number `x` is positive, negative, or zero:"
   ]
  },
  {
   "cell_type": "code",
   "execution_count": 1,
   "id": "339d5fd8-2663-4790-88c6-3be3839db15e",
   "metadata": {
    "editable": true,
    "slideshow": {
     "slide_type": ""
    },
    "tags": []
   },
   "outputs": [
    {
     "name": "stdout",
     "output_type": "stream",
     "text": [
      "x is zero\n"
     ]
    }
   ],
   "source": [
    "# Check whether a number is positive, zero or negative\n",
    "x = 0\n",
    "if x < 0\n",
    "    println(\"x is negative\")\n",
    "elseif x == 0\n",
    "    println(\"x is zero\")\n",
    "else\n",
    "    println(\"x is positive\")\n",
    "end"
   ]
  },
  {
   "cell_type": "markdown",
   "id": "d4525bba-f812-4027-8065-650f109844d6",
   "metadata": {
    "editable": true,
    "slideshow": {
     "slide_type": ""
    },
    "tags": []
   },
   "source": [
    "A few things to note about conditional statements:\n",
    "- You must end the `if` block with an `end`.\n",
    "- Each condition in the `if` / `ifelse` statements can be written without parentheses (though you may wish to use parentheses for complex expressions).\n",
    "- In Julia, the conditions **must** be boolean (`Bool`) objects. Python, by contrast, allows you to write `if some_list:` to enter the `if` branch if `some_list` is non-empty. In Julia, `if some_array` will throw an error - in this case you should explicitly check the length e.g. `if length(some_array) > 0`.\n",
    "- Similarly, you cannot use `nothing` in place of a condition: `if nothing` will throw an error. Again, this is different to the analogous statement `if None:` in Python."
   ]
  },
  {
   "cell_type": "markdown",
   "id": "52218476-1271-48bc-af9a-696ca7cf554b",
   "metadata": {
    "editable": true,
    "slideshow": {
     "slide_type": ""
    },
    "tags": []
   },
   "source": [
    "## Loops \n",
    "\n",
    "Loops are used to repeat a block of code multiple times. Julia provides `for` loops and `while` loops for iterations. \n",
    "\n",
    "### For Loops\n",
    "A `for` loop is used to iterate over a sequence (like a range of numbers or elements of an array). The syntax is: \n",
    "```Julia \n",
    "for var in sequence\n",
    "    # loop body using var\n",
    "end\n",
    "```\n",
    "\n",
    "For example, to print numbers 1 through 5: "
   ]
  },
  {
   "cell_type": "code",
   "execution_count": 2,
   "id": "16d30e42-8fa8-469b-bdda-4b5428768bf6",
   "metadata": {
    "editable": true,
    "slideshow": {
     "slide_type": ""
    },
    "tags": []
   },
   "outputs": [
    {
     "name": "stdout",
     "output_type": "stream",
     "text": [
      "1\n",
      "2\n",
      "3\n",
      "4\n",
      "5\n"
     ]
    }
   ],
   "source": [
    "# Print numbers 1 to 5\n",
    "for i in 1:5\n",
    "    println(i)\n",
    "end\n"
   ]
  },
  {
   "cell_type": "markdown",
   "id": "8e6bad1b-0d5c-42df-bede-d4dca8a15076",
   "metadata": {
    "editable": true,
    "slideshow": {
     "slide_type": ""
    },
    "tags": []
   },
   "source": [
    "Here, `1:5` is a range representing the sequence 1,2,3,4,5 (note that the last number in the range is included!). The loop variable `i` takes each of those values in turn.\n",
    "\n",
    "Instead of using the `in` keyword you can use `=`, like so:\n",
    "```julia\n",
    "for i = 1:5\n",
    "    println(i)\n",
    "end\n",
    "```\n",
    "\n",
    "You can loop over any iterable object using the same `for ... in ...` notation:"
   ]
  },
  {
   "cell_type": "code",
   "execution_count": 3,
   "id": "5e0ad928-3ab0-4fa6-9071-9b84a68ae821",
   "metadata": {},
   "outputs": [
    {
     "name": "stdout",
     "output_type": "stream",
     "text": [
      "cat"
     ]
    }
   ],
   "source": [
    "# Loop over elements of an array\n",
    "for letter in [\"c\", \"a\", \"t\"]\n",
    "    print(letter)\n",
    "end"
   ]
  },
  {
   "cell_type": "markdown",
   "id": "18ceff4d-d16b-45a6-aa65-b4d93c6d25c5",
   "metadata": {
    "editable": true,
    "slideshow": {
     "slide_type": ""
    },
    "tags": []
   },
   "source": [
    "For array-like objects, if you need to loop through the indices then one convenient approach is to use the built-in function `eachindex`. For example, to print each element with its index, we could write:"
   ]
  },
  {
   "cell_type": "code",
   "execution_count": 4,
   "id": "47c5dd8d-9248-4ae0-b51c-6bcdf8a462af",
   "metadata": {
    "editable": true,
    "slideshow": {
     "slide_type": ""
    },
    "tags": []
   },
   "outputs": [
    {
     "name": "stdout",
     "output_type": "stream",
     "text": [
      "Element 1 is apple\n",
      "Element 2 is banana\n",
      "Element 3 is cherry\n"
     ]
    }
   ],
   "source": [
    "# Loop through the indices of an array\n",
    "arr = [\"apple\", \"banana\", \"cherry\"]\n",
    "for idx in eachindex(arr)\n",
    "    println(\"Element \", idx, \" is \", arr[idx])\n",
    "end"
   ]
  },
  {
   "cell_type": "markdown",
   "id": "8838ddac-7919-438c-88da-68f843916de2",
   "metadata": {
    "editable": true,
    "slideshow": {
     "slide_type": ""
    },
    "tags": []
   },
   "source": [
    "Observe that Julia arrays are 1-indexed! \n",
    "\n",
    "#### Exercise: For loops and conditionals\n",
    "\n",
    "Write code to iterate over the numbers 1 to 20 and `println` the number, but if the number is divisible by 7 then additionally print the word \"Boom!\" on the same line. Hint: You might want to use the modulus operator!"
   ]
  },
  {
   "cell_type": "code",
   "execution_count": 5,
   "id": "0a9ec360-f598-4134-ac7f-a7979f6368c7",
   "metadata": {
    "editable": true,
    "slideshow": {
     "slide_type": ""
    },
    "tags": []
   },
   "outputs": [],
   "source": [
    "# Answer here\n",
    "\n"
   ]
  },
  {
   "cell_type": "markdown",
   "id": "a8baf4f2-3307-41d9-b7d1-32df8f62619e",
   "metadata": {
    "editable": true,
    "slideshow": {
     "slide_type": ""
    },
    "tags": []
   },
   "source": [
    "### While Loops\n",
    "A `while` loop repeats as long as a given condition remains true. It's useful when you don't know in advance how many times to loop, but you have a condition to check each time. The syntax for a `while` loop is: \n",
    "\n",
    "```Julia \n",
    "while <condition>\n",
    "    # code to run repeatedly\n",
    "end\n",
    "```\n",
    "\n",
    "The loop will check the condition before each iteration and stop when the condition becomes `false`. For example:"
   ]
  },
  {
   "cell_type": "code",
   "execution_count": 6,
   "id": "73a8de0b-c348-4304-b939-ec1b760c986f",
   "metadata": {
    "editable": true,
    "slideshow": {
     "slide_type": ""
    },
    "tags": []
   },
   "outputs": [
    {
     "name": "stdout",
     "output_type": "stream",
     "text": [
      "5\n",
      "4\n",
      "3\n",
      "2\n",
      "1\n",
      "Blastoff!\n"
     ]
    }
   ],
   "source": [
    "# Count down to blastoff\n",
    "x = 5\n",
    "while x > 0\n",
    "    println(x)\n",
    "    x -= 1  # decrease x by 1 each time (x -= 1 is shorthand for x = x - 1)\n",
    "end\n",
    "println(\"Blastoff!\")\n"
   ]
  },
  {
   "cell_type": "markdown",
   "id": "cf7fad40-d696-41a2-be45-7d5d09779ea9",
   "metadata": {
    "editable": true,
    "slideshow": {
     "slide_type": ""
    },
    "tags": []
   },
   "source": [
    "A key thing to remember when using `while` loops is to **avoid infinite loops** by making sure that something in the loop eventually makes the condition `false`. \n",
    "\n",
    "Note: just like with `if` blocks, loops in Julia must be closed with an `end` and the loop conditions must be booleans.\n",
    "\n",
    "#### Exercise: While Loops\n",
    "\n",
    "Write a `while` loop that starts with a number `n = 1` and repeatedly doubles it (i.e., `n*= 2`) until `n` exceeds 1,000,000. What is the final value of `n` when the loop stops?"
   ]
  },
  {
   "cell_type": "code",
   "execution_count": 7,
   "id": "d1e69c7f-6204-4725-a0be-e4202ef1f3e7",
   "metadata": {},
   "outputs": [],
   "source": [
    "# Answer here\n",
    "\n"
   ]
  },
  {
   "cell_type": "markdown",
   "id": "0053be23-9282-4e28-a5c1-86b8045c0717",
   "metadata": {
    "editable": true,
    "slideshow": {
     "slide_type": ""
    },
    "tags": []
   },
   "source": [
    "### Breaking and Continuing Loops \n",
    "\n",
    "Within loop bodies, you can use `break` to immediately exit the loop (stop looping entirely) and `continue` to skip the rest of the current iteration and move to the next iteration of the loop. For example: "
   ]
  },
  {
   "cell_type": "code",
   "execution_count": 8,
   "id": "74250cc7-62ed-4b25-a882-4191c224e233",
   "metadata": {
    "editable": true,
    "slideshow": {
     "slide_type": ""
    },
    "tags": []
   },
   "outputs": [
    {
     "name": "stdout",
     "output_type": "stream",
     "text": [
      "1\n",
      "3\n",
      "5\n",
      "7\n",
      "9\n"
     ]
    }
   ],
   "source": [
    "# Print only the odd numbers from 1 to 10\n",
    "for i in 1:10\n",
    "    if i % 2 == 0\n",
    "        continue  # skip even numbers\n",
    "    end\n",
    "    println(i)    # this runs only if i was not even\n",
    "end\n"
   ]
  },
  {
   "cell_type": "markdown",
   "id": "c47c5a93-40ae-4dc5-ab03-1272764329c4",
   "metadata": {
    "editable": true,
    "slideshow": {
     "slide_type": ""
    },
    "tags": []
   },
   "source": [
    "If instead of skipping even numbers you want to stop the loop entirely when you see the first even, you would use `break` in place of `continue`. \n",
    "\n",
    "### Ternary Operator\n",
    "\n",
    "Julia’s ternary operator lets you write simple `if–else` expressions on one line:\n",
    "\n",
    "```julia\n",
    "# If `condition` is true, the return `true_expr`, otherwise return `false_expr`\n",
    "condition ? true_expr : false_expr\n",
    "```\n",
    "\n",
    "For example, to capture whether a number is positive or negative:"
   ]
  },
  {
   "cell_type": "code",
   "execution_count": 9,
   "id": "7c6555ab-df06-40f7-92ca-635e097bda1e",
   "metadata": {
    "editable": true,
    "slideshow": {
     "slide_type": ""
    },
    "tags": []
   },
   "outputs": [
    {
     "name": "stdout",
     "output_type": "stream",
     "text": [
      "negative\n"
     ]
    }
   ],
   "source": [
    "# Determine the sign of a number\n",
    "x = -5\n",
    "sign = x >= 0 ? \"positive\" : \"negative\"\n",
    "println(sign)"
   ]
  },
  {
   "cell_type": "markdown",
   "id": "20234f35-682c-43e8-9d1f-2fe06549bd81",
   "metadata": {},
   "source": [
    "#### Exercise: a pair of close random numbers\n",
    "\n",
    "The function `rand` can be used to generate a random floating point number between 0 and 1. Write code that continually generates a pair of random numbers `x1`, `x2` until they are only 0.05 apart, printing the resulting pair (we have started the code for you below).\n",
    "\n",
    "Hint:\n",
    "- You will need to compute the absolute value of the difference between `x1` and `x2`. Consider using the ternary operator."
   ]
  },
  {
   "cell_type": "code",
   "execution_count": 10,
   "id": "1b36f818-7cdf-4c88-9802-3d97b83306bd",
   "metadata": {},
   "outputs": [],
   "source": [
    "# Generate a pair of random numbers\n",
    "x1 = rand();\n",
    "x2 = rand();\n",
    "\n",
    "# Answer here\n",
    "\n"
   ]
  },
  {
   "cell_type": "markdown",
   "id": "694accb7-cac0-4b0c-9bc4-062d3d8259d4",
   "metadata": {
    "editable": true,
    "slideshow": {
     "slide_type": ""
    },
    "tags": []
   },
   "source": [
    "### Iteration Utilities\n",
    "\n",
    "Julia provides a number of handy iterator helpers in the `Base.Iterators` module. Two of the most common are `zip` and `enumerate`, but there are many more. See the [Iteration utilities section of the manual](https://docs.julialang.org/en/v1/base/iterators/#Iteration-utilities) for details.\n",
    "\n",
    "- `zip`: Iterate in lockstep over two or more collections, yielding tuples of corresponding elements.\n",
    "- `enumerate`: Iterate over a single collecton while keeping track of the index, yielding `(index, element)` pairs."
   ]
  },
  {
   "cell_type": "code",
   "execution_count": 11,
   "id": "df1258f3-1fd5-4a03-a1fb-2ffac9c7f7fe",
   "metadata": {
    "editable": true,
    "slideshow": {
     "slide_type": ""
    },
    "tags": []
   },
   "outputs": [
    {
     "name": "stdout",
     "output_type": "stream",
     "text": [
      "Alice scored 85\n",
      "Bob scored 92\n",
      "Carol scored 78\n",
      "Fruit 1 is apple\n",
      "Fruit 2 is banana\n",
      "Fruit 3 is cherry\n"
     ]
    }
   ],
   "source": [
    "# Example `zip` usage \n",
    "names = [\"Alice\", \"Bob\", \"Carol\"]\n",
    "scores = [85, 92, 78]\n",
    "\n",
    "for (name, score) in zip(names, scores)\n",
    "  println(\"$name scored $score\")\n",
    "end\n",
    "\n",
    "# Example `enumerate` usage \n",
    "fruits = [\"apple\", \"banana\", \"cherry\"]\n",
    "for (i, fruit) in enumerate(fruits)\n",
    "    println(\"Fruit $i is $fruit\")\n",
    "end"
   ]
  },
  {
   "cell_type": "markdown",
   "id": "6be6256d-6305-4ebd-b6fe-6eba52a79c39",
   "metadata": {
    "editable": true,
    "slideshow": {
     "slide_type": ""
    },
    "tags": [
     "remove-input"
    ]
   },
   "source": [
    "# End of Section Quiz"
   ]
  },
  {
   "cell_type": "code",
   "execution_count": 12,
   "id": "c0975afa-0e65-41e0-8ad7-5f7bb597c94a",
   "metadata": {
    "editable": true,
    "slideshow": {
     "slide_type": ""
    },
    "tags": [
     "remove-input"
    ]
   },
   "outputs": [
    {
     "data": {
      "text/html": [
       "<style>\n",
       ".quiz-question {\n",
       "    background-color: #392061;\n",
       "    color: white;\n",
       "    padding: 12px;\n",
       "    border-radius: 10px;\n",
       "    font-weight: bold;\n",
       "    font-size: 1.2em;\n",
       "    margin-bottom: 10px;\n",
       "}\n",
       "\n",
       ".quiz-form {\n",
       "    margin-bottom: 20px;\n",
       "}\n",
       "\n",
       ".quiz-answer {\n",
       "    display: block;\n",
       "    background-color: #f2f2f2;\n",
       "    border: none;\n",
       "    border-radius: 10px;\n",
       "    padding: 10px;\n",
       "    margin: 5px 0;\n",
       "    font-size: 1em;\n",
       "    cursor: pointer;\n",
       "    text-align: left;\n",
       "    transition: background-color 0.3s;\n",
       "    width: 100%;\n",
       "}\n",
       "\n",
       ".quiz-answer:hover {\n",
       "    background-color: #e0e0e0;\n",
       "}\n",
       "\n",
       ".correct {\n",
       "    background-color: #4CAF50 !important;\n",
       "    color: white !important;\n",
       "    border: none;\n",
       "}\n",
       "\n",
       ".incorrect {\n",
       "    background-color: #D32F2F !important;\n",
       "    color: white !important;\n",
       "    border: none;\n",
       "}\n",
       "\n",
       ".feedback {\n",
       "    margin-top: 10px;\n",
       "    font-weight: bold;\n",
       "    font-size: 1em;\n",
       "}\n",
       "</style>\n",
       "\n",
       "<script>\n",
       "function handleAnswer(qid, aid, feedback, isCorrect) {\n",
       "    let buttons = document.querySelectorAll(\".answer-\" + qid);\n",
       "    buttons.forEach(btn => {\n",
       "        btn.classList.remove('correct', 'incorrect');\n",
       "    });\n",
       "\n",
       "    let selected = document.getElementById(aid);\n",
       "    selected.classList.add(isCorrect ? 'correct' : 'incorrect');\n",
       "\n",
       "    let feedbackBox = document.getElementById('feedback_' + qid);\n",
       "    feedbackBox.innerHTML = feedback;\n",
       "    feedbackBox.style.color = isCorrect ? 'green' : 'red';\n",
       "}\n",
       "</script>\n",
       "<div class=\"quiz-question\">What keyword does Julia use to close a conditional or loop block?</div><form class=\"quiz-form\"><button type=\"button\" class=\"quiz-answer answer-1\" id=\"q1_a1\"\n",
       "    onclick=\"handleAnswer('1', 'q1_a1', 'Incorrect', false)\">\n",
       "    done\n",
       "</button>\n",
       "<button type=\"button\" class=\"quiz-answer answer-1\" id=\"q1_a2\"\n",
       "    onclick=\"handleAnswer('1', 'q1_a2', 'Incorrect', false)\">\n",
       "    endif\n",
       "</button>\n",
       "<button type=\"button\" class=\"quiz-answer answer-1\" id=\"q1_a3\"\n",
       "    onclick=\"handleAnswer('1', 'q1_a3', 'Correct', true)\">\n",
       "    end\n",
       "</button>\n",
       "<button type=\"button\" class=\"quiz-answer answer-1\" id=\"q1_a4\"\n",
       "    onclick=\"handleAnswer('1', 'q1_a4', 'Incorrect', false)\">\n",
       "    close\n",
       "</button>\n",
       "<div class=\"feedback\" id=\"feedback_1\"></div>\n",
       "<button type=\"submit\" style=\"position:absolute; left:-9999px; width:1px; height:1px; overflow:hidden;\">\n",
       "    Submit\n",
       "</button>\n",
       "</form><hr>\n",
       "<div class=\"quiz-question\">Which of the following correctly describes the syntax of a for loop in Julia?</div><form class=\"quiz-form\"><button type=\"button\" class=\"quiz-answer answer-2\" id=\"q2_a1\"\n",
       "    onclick=\"handleAnswer('2', 'q2_a1', 'Incorrect', false)\">\n",
       "    for (i = 1; i <= 5; i++) { println(i) }\n",
       "</button>\n",
       "<button type=\"button\" class=\"quiz-answer answer-2\" id=\"q2_a2\"\n",
       "    onclick=\"handleAnswer('2', 'q2_a2', 'Incorrect', false)\">\n",
       "    for (i = 1; i <= 5; i++) { println(i) }\n",
       "</button>\n",
       "<button type=\"button\" class=\"quiz-answer answer-2\" id=\"q2_a3\"\n",
       "    onclick=\"handleAnswer('2', 'q2_a3', 'Correct', true)\">\n",
       "    for i in 1:5 println(i) end\n",
       "</button>\n",
       "<button type=\"button\" class=\"quiz-answer answer-2\" id=\"q2_a4\"\n",
       "    onclick=\"handleAnswer('2', 'q2_a4', 'Incorrect', false)\">\n",
       "    loop i in 1:5 println(i) end\n",
       "</button>\n",
       "<div class=\"feedback\" id=\"feedback_2\"></div>\n",
       "<button type=\"submit\" style=\"position:absolute; left:-9999px; width:1px; height:1px; overflow:hidden;\">\n",
       "    Submit\n",
       "</button>\n",
       "</form><hr>\n"
      ]
     },
     "metadata": {},
     "output_type": "display_data"
    }
   ],
   "source": [
    "include(\"../../julia_functions/quiz_renderer.jl\")\n",
    "show_quiz_from_json(\"questions/summary_control_flow.json\")"
   ]
  },
  {
   "cell_type": "code",
   "execution_count": null,
   "id": "afa29772-7435-4561-b5a3-4d286225eeea",
   "metadata": {
    "editable": true,
    "slideshow": {
     "slide_type": ""
    },
    "tags": []
   },
   "outputs": [],
   "source": []
  }
 ],
 "metadata": {
  "kernelspec": {
   "display_name": "Julia 1.11.5",
   "language": "julia",
   "name": "julia-1.11"
  },
  "language_info": {
   "file_extension": ".jl",
   "mimetype": "application/julia",
   "name": "julia",
   "version": "1.11.5"
  }
 },
 "nbformat": 4,
 "nbformat_minor": 5
}
