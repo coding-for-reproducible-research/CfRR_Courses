{
 "cells": [
  {
   "cell_type": "markdown",
   "id": "c8b04e55-04e9-4830-aac1-63b296f0511e",
   "metadata": {
    "editable": true,
    "slideshow": {
     "slide_type": ""
    },
    "tags": []
   },
   "source": [
    "# Control Flow \n",
    "\n",
    "## Learning Objectives \n",
    "Understand and use conditional statements (`if`, `else`, `elseif`) in Julia \n",
    "Implement `for` and `while` loops to execute repetitive tasks \n",
    "Recognise how control flow structures manage the execution of code based on conditions \n",
    "Write programs that use loops and conditional statements to solve problems \n",
    "Understand the syntax of different control flow constructs in Julia \n",
    "\n",
    "Control flow statements allow your program to make decisions (with conditionals) and repeat actions (with loops). Julia's control flow syntax will look familiar if you've used languages like Python, C or others, but there are some syntax differences to note; for example, Julia uses `end` to close blocks.\n",
    "\n",
    "## Conditional Statements (Branching) \n",
    "Julia uses `if`, `elseif` (note the single word, not `else if`), and `else` to execute code based on conditions. The general structure is: \n",
    "\n",
    "```Julia \n",
    "if *condition1*\n",
    "    # code to run if condition1 is true\n",
    "elseif *condition2*\n",
    "    # code to run if condition1 was false, but condition2 is true\n",
    "else\n",
    "    # code to run if all above conditions are false\n",
    "end\n",
    "```\n",
    "\n",
    "The `elseif` and `else` parts are optional (use them as needed). You can have multiple `elseif` branches if there are several conditions to check in sequence. \n",
    "\n",
    "A simple examples of the branching logic would be to determine if a number `x` is positive, negative, or zero:"
   ]
  },
  {
   "cell_type": "code",
   "execution_count": 1,
   "id": "339d5fd8-2663-4790-88c6-3be3839db15e",
   "metadata": {
    "editable": true,
    "slideshow": {
     "slide_type": ""
    },
    "tags": []
   },
   "outputs": [
    {
     "name": "stdout",
     "output_type": "stream",
     "text": [
      "x is zero\n"
     ]
    }
   ],
   "source": [
    "x = 0\n",
    "if x < 0\n",
    "    println(\"x is negative\")\n",
    "elseif x == 0\n",
    "    println(\"x is zero\")\n",
    "else\n",
    "    println(\"x is positive\")\n",
    "end\n"
   ]
  },
  {
   "cell_type": "markdown",
   "id": "d4525bba-f812-4027-8065-650f109844d6",
   "metadata": {
    "editable": true,
    "slideshow": {
     "slide_type": ""
    },
    "tags": []
   },
   "source": [
    "Try changing the value of `x` to a positive or negative number and re-run to see the different branches in action. \n",
    "\n",
    "**Important**: In Julia (unlike Python), you **must** end the `if` block with an `end`. Also, the condition is enclosed in the `if` statement without parentheses (you can use parentheses around the condition for clarity or complex expression, but they are not required). Another difference: the condition in Julia **must** be a boolean( `Bool`). You cannot use a number of strings directly as a condition. For example, in Python, you might do `if some_list:` to check if a list is non-empty, but in Julia `, if some_array` will be an error - you should explicitly check the length like `if length(some_array) > 0`. \n",
    "\n"
   ]
  },
  {
   "cell_type": "markdown",
   "id": "52218476-1271-48bc-af9a-696ca7cf554b",
   "metadata": {
    "editable": true,
    "slideshow": {
     "slide_type": ""
    },
    "tags": []
   },
   "source": [
    "## Loops \n",
    "\n",
    "Loops are used to repeat a block of code multiple times. Julia provides `for` loops and `while` loops for iterations. \n",
    "\n",
    "### For Loops\n",
    "A `for` loop is used to iterate over a sequence (like a range of numbers or elements of an array). The syntax is: \n",
    "```Julia \n",
    "for var in sequence\n",
    "    # loop body using var\n",
    "end\n",
    "```\n",
    "\n",
    "For example, to print numbers 1 through 5: "
   ]
  },
  {
   "cell_type": "code",
   "execution_count": 2,
   "id": "16d30e42-8fa8-469b-bdda-4b5428768bf6",
   "metadata": {
    "editable": true,
    "slideshow": {
     "slide_type": ""
    },
    "tags": []
   },
   "outputs": [
    {
     "name": "stdout",
     "output_type": "stream",
     "text": [
      "1\n",
      "2\n",
      "3\n",
      "4\n",
      "5\n"
     ]
    }
   ],
   "source": [
    "for i in 1:5\n",
    "    println(i)\n",
    "end\n"
   ]
  },
  {
   "cell_type": "markdown",
   "id": "d7b510c3-e8e9-41bf-b8da-eed53b007173",
   "metadata": {
    "editable": true,
    "slideshow": {
     "slide_type": ""
    },
    "tags": []
   },
   "source": [
    "Here, `1:5` is a range representing the sequence 1,2,3,4,5. The loop variable `i` takes each of those values in turn. You can loop over any iterable object. If you have an array, e.g. `arr = [\"a\", \"b\", \"c\"]`, you could do `for element in arr` to loop through each element \n",
    "\n",
    "If you need the index and value, one convenient approach is to use the built-in function `eachindex`. For example: "
   ]
  },
  {
   "cell_type": "code",
   "execution_count": 4,
   "id": "47c5dd8d-9248-4ae0-b51c-6bcdf8a462af",
   "metadata": {
    "editable": true,
    "slideshow": {
     "slide_type": ""
    },
    "tags": []
   },
   "outputs": [
    {
     "name": "stdout",
     "output_type": "stream",
     "text": [
      "Element 1 is apple\n",
      "Element 2 is banana\n",
      "Element 3 is cherry\n"
     ]
    }
   ],
   "source": [
    "arr = [\"apple\", \"banana\", \"cherry\"]\n",
    "for idx in eachindex(arr)\n",
    "    println(\"Element \", idx, \" is \", arr[idx])\n",
    "end\n"
   ]
  },
  {
   "cell_type": "markdown",
   "id": "31c0e4ab-2f7e-4a8c-94f4-f7fb99085234",
   "metadata": {
    "editable": true,
    "slideshow": {
     "slide_type": ""
    },
    "tags": []
   },
   "source": [
    "This will loop `idx` from 1 to the length of `arr` (remember Julia arrays are 1-indexed) and print each element with its index. \n",
    "\n",
    "#### Exercise 1: For Loops\n",
    "Use a `for` loop to iterate over the numbers 1 to 20 inside the loop, `println` the number, but if the number is divisible by 7, also print \"Boom!\" on the same line. Hint: You might want to use the modulus operator! \n",
    "\n",
    "### While Loops\n",
    "A `while` loop repeats as long as a given condition remains true. It's useful when you don't know in advance how many times to loop, but you have a condition to check each time. The syntax for a `while` loop is: \n",
    "\n",
    "```Julia \n",
    "while *condition*\n",
    "    # code to run repeatedly\n",
    "end\n",
    "```\n",
    "\n",
    "The loop will check the condition before each iteration and stop when the condition becomes false. For example; \n"
   ]
  },
  {
   "cell_type": "code",
   "execution_count": 5,
   "id": "73a8de0b-c348-4304-b939-ec1b760c986f",
   "metadata": {
    "editable": true,
    "slideshow": {
     "slide_type": ""
    },
    "tags": []
   },
   "outputs": [
    {
     "name": "stdout",
     "output_type": "stream",
     "text": [
      "5\n",
      "4\n",
      "3\n",
      "2\n",
      "1\n",
      "Blastoff!\n"
     ]
    }
   ],
   "source": [
    "x = 5\n",
    "while x > 0\n",
    "    println(x)\n",
    "    x -= 1  # decrease x by 1 each time (x -= 1 is shorthand for x = x - 1)\n",
    "end\n",
    "println(\"Blastoff!\")\n"
   ]
  },
  {
   "cell_type": "markdown",
   "id": "29927ec5-e281-43a2-a95f-f9dabc8f68f4",
   "metadata": {
    "editable": true,
    "slideshow": {
     "slide_type": ""
    },
    "tags": []
   },
   "source": [
    "This loop will print the values of 5,4,3,2,1 and then exit when x becomes 0, finally printing \"Blastoff!\". Make sure that something in the loop eventually makes the condition false, or you'll get an infinite loop. \n",
    "\n",
    "**Important**: Just like with `if` blocks, loops in Julia must be closed with an `end`. And the loop conditions must be booleans. \n",
    "\n",
    "#### Exercise 2: While Loops\n",
    "Write a `while` loop that starts with a number `n = 1` and repeatedly doubles it (i.e.,n*= 2) until `n` exceeds 1000. Print the value of `n` in each iteration. What is the final value of `n` when the loop stops?\n",
    "\n",
    "### Breaking and Continuing Loops \n",
    "\n",
    "Within loop bodies, you can use `break` to immediately exit the loop (stop looping entirely) and `continue` to skip the rest of the current iteration and move to the next iteration of the loop. For example: "
   ]
  },
  {
   "cell_type": "code",
   "execution_count": 7,
   "id": "74250cc7-62ed-4b25-a882-4191c224e233",
   "metadata": {
    "editable": true,
    "slideshow": {
     "slide_type": ""
    },
    "tags": []
   },
   "outputs": [
    {
     "name": "stdout",
     "output_type": "stream",
     "text": [
      "1\n",
      "3\n",
      "5\n",
      "7\n",
      "9\n"
     ]
    }
   ],
   "source": [
    "# Print only the odd numbers from 1 to 10\n",
    "for i in 1:10\n",
    "    if i % 2 == 0\n",
    "        continue  # skip even numbers\n",
    "    end\n",
    "    println(i)    # this runs only if i was not even\n",
    "end\n"
   ]
  },
  {
   "cell_type": "markdown",
   "id": "0d82042c-10b4-4f9f-9ceb-46f157a00757",
   "metadata": {
    "editable": true,
    "slideshow": {
     "slide_type": ""
    },
    "tags": []
   },
   "source": [
    "This will print 1,3,5,7,9. If instead of skipping evens, you want to stop entirely when you see the first even, you could use `break` in place of `continue`. "
   ]
  },
  {
   "cell_type": "code",
   "execution_count": 9,
   "id": "1fbfaa51-1474-48aa-bca2-1de5a2e4c590",
   "metadata": {
    "editable": true,
    "slideshow": {
     "slide_type": ""
    },
    "tags": [
     "remove-input"
    ]
   },
   "outputs": [
    {
     "data": {
      "text/html": [
       "<style>\n",
       ".quiz-question {\n",
       "    background-color: #6c63ff;\n",
       "    color: white;\n",
       "    padding: 12px;\n",
       "    border-radius: 10px;\n",
       "    font-weight: bold;\n",
       "    font-size: 1.2em;\n",
       "    margin-bottom: 10px;\n",
       "}\n",
       "\n",
       ".quiz-form {\n",
       "    margin-bottom: 20px;\n",
       "}\n",
       "\n",
       ".quiz-answer {\n",
       "    display: block;\n",
       "    background-color: #f2f2f2;\n",
       "    border: none;\n",
       "    border-radius: 10px;\n",
       "    padding: 10px;\n",
       "    margin: 5px 0;\n",
       "    font-size: 1em;\n",
       "    cursor: pointer;\n",
       "    text-align: left;\n",
       "    transition: background-color 0.3s;\n",
       "    width: 100%;\n",
       "}\n",
       "\n",
       ".quiz-answer:hover {\n",
       "    background-color: #e0e0e0;\n",
       "}\n",
       "\n",
       ".correct {\n",
       "    background-color: #4CAF50 !important;\n",
       "    color: white !important;\n",
       "    border: none;\n",
       "}\n",
       "\n",
       ".incorrect {\n",
       "    background-color: #D32F2F !important;\n",
       "    color: white !important;\n",
       "    border: none;\n",
       "}\n",
       "\n",
       ".feedback {\n",
       "    margin-top: 10px;\n",
       "    font-weight: bold;\n",
       "    font-size: 1em;\n",
       "}\n",
       "</style>\n",
       "\n",
       "<script>\n",
       "function handleAnswer(qid, aid, feedback, isCorrect) {\n",
       "    // Reset all buttons for the question\n",
       "    let buttons = document.querySelectorAll(\".answer-\" + qid);\n",
       "    buttons.forEach(btn => {\n",
       "        btn.classList.remove('correct', 'incorrect');\n",
       "    });\n",
       "\n",
       "    // Apply correct/incorrect to selected\n",
       "    let selected = document.getElementById(aid);\n",
       "    selected.classList.add(isCorrect ? 'correct' : 'incorrect');\n",
       "\n",
       "    // Show feedback below the question\n",
       "    let feedbackBox = document.getElementById('feedback_' + qid);\n",
       "    feedbackBox.innerHTML = feedback;\n",
       "    feedbackBox.style.color = isCorrect ? 'green' : 'red';\n",
       "}\n",
       "</script>\n",
       "<div class=\"quiz-question\">What keyword does Julia use to close a conditional or loop block?</div><form class=\"quiz-form\"><button type=\"button\" class=\"quiz-answer answer-1\" id=\"q1_a1\"\n",
       "    onclick=\"handleAnswer('1', 'q1_a1', 'Incorrect', false)\">\n",
       "    done\n",
       "</button>\n",
       "<button type=\"button\" class=\"quiz-answer answer-1\" id=\"q1_a2\"\n",
       "    onclick=\"handleAnswer('1', 'q1_a2', 'Incorrect', false)\">\n",
       "    endif\n",
       "</button>\n",
       "<button type=\"button\" class=\"quiz-answer answer-1\" id=\"q1_a3\"\n",
       "    onclick=\"handleAnswer('1', 'q1_a3', 'Correct', true)\">\n",
       "    end\n",
       "</button>\n",
       "<button type=\"button\" class=\"quiz-answer answer-1\" id=\"q1_a4\"\n",
       "    onclick=\"handleAnswer('1', 'q1_a4', 'Incorrect', false)\">\n",
       "    close\n",
       "</button>\n",
       "<div class=\"feedback\" id=\"feedback_1\"></div></form><hr><div class=\"quiz-question\">Which of the following correctly describes the syntax of a for loop in Julia?</div><form class=\"quiz-form\"><button type=\"button\" class=\"quiz-answer answer-2\" id=\"q2_a1\"\n",
       "    onclick=\"handleAnswer('2', 'q2_a1', 'Incorrect', false)\">\n",
       "    for (i = 1; i <= 5; i++) { println(i) }\n",
       "</button>\n",
       "<button type=\"button\" class=\"quiz-answer answer-2\" id=\"q2_a2\"\n",
       "    onclick=\"handleAnswer('2', 'q2_a2', 'Incorrect', false)\">\n",
       "    for (i = 1; i <= 5; i++) { println(i) }\n",
       "</button>\n",
       "<button type=\"button\" class=\"quiz-answer answer-2\" id=\"q2_a3\"\n",
       "    onclick=\"handleAnswer('2', 'q2_a3', 'Correct', true)\">\n",
       "    for i in 1:5 println(i) end\n",
       "</button>\n",
       "<button type=\"button\" class=\"quiz-answer answer-2\" id=\"q2_a4\"\n",
       "    onclick=\"handleAnswer('2', 'q2_a4', 'Incorrect', false)\">\n",
       "    loop i in 1:5 println(i) end\n",
       "</button>\n",
       "<div class=\"feedback\" id=\"feedback_2\"></div></form><hr>"
      ]
     },
     "metadata": {},
     "output_type": "display_data"
    }
   ],
   "source": [
    "using JSON\n",
    "\n",
    "function show_quiz_from_json(path)\n",
    "    quiz_data = JSON.parsefile(path)\n",
    "\n",
    "    html = \"\"\"\n",
    "    <style>\n",
    "    .quiz-question {\n",
    "        background-color: #6c63ff;\n",
    "        color: white;\n",
    "        padding: 12px;\n",
    "        border-radius: 10px;\n",
    "        font-weight: bold;\n",
    "        font-size: 1.2em;\n",
    "        margin-bottom: 10px;\n",
    "    }\n",
    "\n",
    "    .quiz-form {\n",
    "        margin-bottom: 20px;\n",
    "    }\n",
    "\n",
    "    .quiz-answer {\n",
    "        display: block;\n",
    "        background-color: #f2f2f2;\n",
    "        border: none;\n",
    "        border-radius: 10px;\n",
    "        padding: 10px;\n",
    "        margin: 5px 0;\n",
    "        font-size: 1em;\n",
    "        cursor: pointer;\n",
    "        text-align: left;\n",
    "        transition: background-color 0.3s;\n",
    "        width: 100%;\n",
    "    }\n",
    "\n",
    "    .quiz-answer:hover {\n",
    "        background-color: #e0e0e0;\n",
    "    }\n",
    "\n",
    "    .correct {\n",
    "        background-color: #4CAF50 !important;\n",
    "        color: white !important;\n",
    "        border: none;\n",
    "    }\n",
    "\n",
    "    .incorrect {\n",
    "        background-color: #D32F2F !important;\n",
    "        color: white !important;\n",
    "        border: none;\n",
    "    }\n",
    "\n",
    "    .feedback {\n",
    "        margin-top: 10px;\n",
    "        font-weight: bold;\n",
    "        font-size: 1em;\n",
    "    }\n",
    "    </style>\n",
    "\n",
    "    <script>\n",
    "    function handleAnswer(qid, aid, feedback, isCorrect) {\n",
    "        // Reset all buttons for the question\n",
    "        let buttons = document.querySelectorAll(\".answer-\" + qid);\n",
    "        buttons.forEach(btn => {\n",
    "            btn.classList.remove('correct', 'incorrect');\n",
    "        });\n",
    "\n",
    "        // Apply correct/incorrect to selected\n",
    "        let selected = document.getElementById(aid);\n",
    "        selected.classList.add(isCorrect ? 'correct' : 'incorrect');\n",
    "\n",
    "        // Show feedback below the question\n",
    "        let feedbackBox = document.getElementById('feedback_' + qid);\n",
    "        feedbackBox.innerHTML = feedback;\n",
    "        feedbackBox.style.color = isCorrect ? 'green' : 'red';\n",
    "    }\n",
    "    </script>\n",
    "    \"\"\"\n",
    "\n",
    "    for (i, question) in enumerate(quiz_data)\n",
    "        qid = \"$i\"\n",
    "        html *= \"\"\"<div class=\"quiz-question\">$(question[\"question\"])</div><form class=\"quiz-form\">\"\"\"\n",
    "\n",
    "        for (j, answer) in enumerate(question[\"answers\"])\n",
    "            aid = \"q$(i)_a$(j)\"\n",
    "            feedback = answer[\"feedback\"]\n",
    "            correct = startswith(lowercase(feedback), \"correct\")\n",
    "            html *= \"\"\"\n",
    "            <button type=\"button\" class=\"quiz-answer answer-$qid\" id=\"$aid\"\n",
    "                onclick=\"handleAnswer('$qid', '$aid', '$feedback', $(correct))\">\n",
    "                $(answer[\"answer\"])\n",
    "            </button>\n",
    "            \"\"\"\n",
    "        end\n",
    "\n",
    "        html *= \"\"\"<div class=\"feedback\" id=\"feedback_$qid\"></div></form><hr>\"\"\"\n",
    "    end\n",
    "\n",
    "    display(\"text/html\", html)\n",
    "end\n",
    "\n",
    "\n",
    "# Use the function\n",
    "show_quiz_from_json(\"questions/summary_control_flow.json\")"
   ]
  },
  {
   "cell_type": "code",
   "execution_count": null,
   "id": "9e6942ca-0ace-4092-ae51-c3779203ed0a",
   "metadata": {
    "editable": true,
    "slideshow": {
     "slide_type": ""
    },
    "tags": []
   },
   "outputs": [],
   "source": []
  }
 ],
 "metadata": {
  "kernelspec": {
   "display_name": "Julia 1.10.3",
   "language": "julia",
   "name": "julia-1.10"
  },
  "language_info": {
   "file_extension": ".jl",
   "mimetype": "application/julia",
   "name": "julia",
   "version": "1.10.3"
  }
 },
 "nbformat": 4,
 "nbformat_minor": 5
}
