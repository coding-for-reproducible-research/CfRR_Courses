{
 "cells": [
  {
   "cell_type": "markdown",
   "id": "8a2dafdc-fa13-461c-b471-98909fdf0670",
   "metadata": {
    "editable": true,
    "slideshow": {
     "slide_type": ""
    },
    "tags": []
   },
   "source": [
    "# Project: Conway's Game Of Life \n",
    "\n",
    "\n",
    "## Overview\n",
    "\n",
    "Conway’s Game of Life is a classic example of a **cellular automaton**. It consists of a grid of cells, each of which can be **alive** or **dead**. The grid evolves in discrete steps according to these simple rules, applied to each cell based on its eight neighbors:\n",
    "\n",
    "1. Any live cell with fewer than two live neighbors dies (underpopulation).  \n",
    "2. Any live cell with two or three live neighbors remains alive (survival).  \n",
    "3. Any live cell with more than three live neighbors dies (overpopulation).  \n",
    "4. Any dead cell with exactly three live neighbors becomes a live cell (reproduction).  \n",
    "\n",
    "A number of animated gifs and visuals can be seen on the [Wiki page](https://en.wikipedia.org/wiki/Conway%27s_Game_of_Life).\n",
    "## Learning Objectives\n",
    "\n",
    "- Practice building up a project incrementally, starting with a straightforward solution and progressively introducing optimizations.  \n",
    "- Practice applying optimization strategies, including selecting efficient data structures, minimizing unnecessary allocations, and reducing loop overhead.  \n",
    "- Practice designing and running targeted tests to verify correctness at each development stage.  \n",
    "- Practice measuring and analyzing performance using benchmarking and profiling tools.  \n",
    "\n",
    "## Your Path Forward\n",
    "\n",
    "Choose the path (or combination of paths) that best matches your interests, and document your experiments as you go.  \n",
    "\n",
    "1. **Build the Naïve Solution**  \n",
    "   Implement the simple, unoptimized Game of Life from scratch by following the four substeps (initialization, neighbor counting, state update, and visualization). If you get stuck or want a reference, check out the “Naïve Implementation: Four Substeps” code below.\n",
    "\n",
    "2. **Profile the Baseline**  \n",
    "   Take your solution o the naïve implementation solution below and use tools like `@time`, `@btime` (BenchmarkTools), and `Profile.@profile` to identify time consuming computation.\n",
    "\n",
    "   \n",
    "4. **Apply Optimizations**  \n",
    "   Starting from the baseline, introduce performance improvements, potentially considering:\n",
    "   - Swap `Matrix{Bool}` for `BitMatrix`  \n",
    "   - Preallocate and reuse output buffers  \n",
    "   - Add `@inbounds` and `@simd` annotations  \n",
    "   - Ensure type-stable functions and eliminate globals  \n",
    "   Measure the impact of each change and compare results to your profiled data.\n",
    "\n",
    "5. **Follow Your Own Curiosity**  \n",
    "   If neither profiling nor low-level tweaking appeals, explore something else that interests you:  \n",
    "   - Build richer or interactive visualizations (e.g., with `Makie` or `Plotly`)  \n",
    "   - Extend to custom rule sets or sparse/infinite grids  \n",
    "   - Integrate a GUI\n",
    "   - Anything else that fits your learning goals!\n",
    "\n",
    "## Naïve Implementation: Four Substeps\n",
    "\n",
    "Below is a simple, unoptimized version. You will use this as a baseline and then optimize on your own.\n",
    "\n",
    "### Substep 1: Initialize the Grid\n",
    "**Goal:** Initialize a 100×100 boolean grid with random `true`/`false` values to represent the starting state of the Game of Life.  \n",
    "```{admonition} Substep 1 Solution\n",
    ":class: dropdown\n",
    "```Julia\n",
    "using Random\n",
    "\n",
    "const N = 100  # grid size\n",
    "# Create a random N×N Matrix of Bool\n",
    "grid = Matrix{Bool}(rand(Bool, N, N))\n",
    "```\n",
    "```"
   ]
  },
  {
   "cell_type": "markdown",
   "id": "4b21981b-48c6-4489-a2eb-6f131730a6a8",
   "metadata": {
    "editable": true,
    "slideshow": {
     "slide_type": ""
    },
    "tags": []
   },
   "source": [
    "### Substep 2: Neighbor Counting\n",
    "**Goal:** Count the number of live neighbors surrounding cell `(i, j)` in a finite `Matrix{Bool}` grid.  \n",
    "```{admonition} Substep 2 Solution\n",
    ":class: dropdown\n",
    "```Julia\n",
    "function count_neighbors_naive(grid::Matrix{Bool}, i::Int, j::Int)::Int\n",
    "    cnt = 0\n",
    "    for di in -1:1, dj in -1:1\n",
    "        if di != 0 || dj != 0\n",
    "            i2, j2 = i + di, j + dj\n",
    "            if 1 ≤ i2 ≤ size(grid,1) && 1 ≤ j2 ≤ size(grid,2)\n",
    "                cnt += grid[i2, j2]\n",
    "            end\n",
    "        end\n",
    "    end\n",
    "    return cnt\n",
    "end\n",
    "```\n",
    "```"
   ]
  },
  {
   "cell_type": "markdown",
   "id": "f1262eea-ad07-415f-a98b-4fcc67540722",
   "metadata": {
    "editable": true,
    "slideshow": {
     "slide_type": ""
    },
    "tags": []
   },
   "source": [
    "### Substep 3: Compute Next State Naïvely\n",
    "**Goal:** Compute and return the next generation of the Game of Life grid by applying Conway’s rules, using a fresh `Matrix{Bool}` for the updated state.  \n",
    "```{admonition} Substep 3 Solution\n",
    ":class: dropdown\n",
    "```Julia\n",
    "function next_state_naive(grid::Matrix{Bool})::Matrix{Bool}\n",
    "    N1, N2 = size(grid)\n",
    "    newgrid = falses(N1, N2)\n",
    "    for i in 1:N1, j in 1:N2\n",
    "        cnt = count_neighbors_naive(grid, i, j)\n",
    "        newgrid[i,j] = (grid[i,j] && (cnt == 2 || cnt == 3)) ||\n",
    "                       (!grid[i,j] && cnt == 3)\n",
    "    end\n",
    "    return newgrid\n",
    "end\n",
    "```\n",
    "```"
   ]
  },
  {
   "cell_type": "markdown",
   "id": "4c63b9a4-07f9-495c-b26b-6b54098a2006",
   "metadata": {
    "editable": true,
    "slideshow": {
     "slide_type": ""
    },
    "tags": []
   },
   "source": [
    "### Substep 4: Run Simlation and Visualise\n",
    "**Goal:** Animate the evolution of the Game of Life grid over a given number of steps and save the result as a GIF using Plots.  \n",
    "\n",
    "```{admonition} Substep 4 Solution\n",
    ":class: dropdown\n",
    "```Julia\n",
    "using Plots\n",
    "\n",
    "function run_naive_simulation(grid::Matrix{Bool}, steps::Int)\n",
    "    anim = @animate for _ in 1:steps\n",
    "        grid = next_state_naive(grid)\n",
    "        heatmap(\n",
    "            grid;\n",
    "            color = :grays, \n",
    "            axis = false, \n",
    "            legend = false,\n",
    "            framestyle = :none,\n",
    "            aspect_ratio = 1\n",
    "        )\n",
    "    end\n",
    "    gif(anim, \"life_naive.gif\"; fps = 10)\n",
    "    println(\"Saved naive animation to life_naive.gif\")\n",
    "end\n",
    "\n",
    "# Example usage:\n",
    "run_naive_simulation(grid, 100)\n",
    "```\n",
    "```"
   ]
  },
  {
   "cell_type": "code",
   "execution_count": null,
   "id": "19d471c7-77af-4419-b6f0-b5bc02f6f2ff",
   "metadata": {
    "editable": true,
    "slideshow": {
     "slide_type": ""
    },
    "tags": []
   },
   "outputs": [],
   "source": [
    "To view the live implementation along with an animated GIF, please proceed to the next page of this website:"
   ]
  }
 ],
 "metadata": {
  "kernelspec": {
   "display_name": "Julia 1.10.3",
   "language": "julia",
   "name": "julia-1.10"
  },
  "language_info": {
   "file_extension": ".jl",
   "mimetype": "application/julia",
   "name": "julia",
   "version": "1.10.3"
  }
 },
 "nbformat": 4,
 "nbformat_minor": 5
}
