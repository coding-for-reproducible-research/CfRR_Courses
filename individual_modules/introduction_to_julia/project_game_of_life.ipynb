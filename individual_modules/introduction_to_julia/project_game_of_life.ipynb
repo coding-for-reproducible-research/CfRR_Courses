{
 "cells": [
  {
   "cell_type": "markdown",
   "id": "8a2dafdc-fa13-461c-b471-98909fdf0670",
   "metadata": {
    "editable": true,
    "slideshow": {
     "slide_type": ""
    },
    "tags": []
   },
   "source": [
    "# Project: Conway's Game Of Life \n",
    "\n",
    "\n",
    "## Overview\n",
    "\n",
    "Conway’s Game of Life is a classic example of a **cellular automaton**. It consists of a grid of cells, each of which can be **alive** or **dead**. The grid evolves in discrete steps according to these simple rules, applied to each cell based on its eight neighbors:\n",
    "\n",
    "1. Any live cell with fewer than two live neighbors dies (underpopulation).  \n",
    "2. Any live cell with two or three live neighbors remains alive (survival).  \n",
    "3. Any live cell with more than three live neighbors dies (overpopulation).  \n",
    "4. Any dead cell with exactly three live neighbors becomes a live cell (reproduction).  \n",
    "\n",
    "A number of animated gifs and visuals can be seen on the [Wiki page](https://en.wikipedia.org/wiki/Conway%27s_Game_of_Life).\n",
    "\n",
    "## Learning Objectives\n",
    "\n",
    "- Practice building up a project incrementally, starting with a straightforward solution and progressively introducing optimisations.  \n",
    "- Practice understanding the impact of code changes on performance in regards to execution time and memory footprint. \n",
    "- Practice designing and running targeted tests to verify correctness at each development stage.  \n",
    "- Practice measuring and analysing performance using benchmarking and profiling tools.  \n",
    "\n",
    "## Your Path Forward\n",
    "\n",
    "Choose the path (or combination of paths) that best matches your interests, and document your experiments as you go.  \n",
    "\n",
    "1. **Build the Naïve Solution**  \n",
    "   Implement the simple Game of Life from from scratch by following the four substeps (initialisation, neighbor counting, state update, and visualisation). If you get stuck or want a reference, check out the “Naïve Implementation: Four Substeps” code below.\n",
    "\n",
    "2. **Profile the Baseline**  \n",
    "   Take your solution to the naïve implementation solution below and use tools like `@time`, `@btime` (BenchmarkTools), and `Profile.@profile` to identify time consuming computation. You can also profile a ready made naive solution avaiable within the [course notes](implemented_game_of_life.ipynb).\n",
    "  \n",
    "3. **Understanding Code Changes on Performance**  \n",
    "   Starting from the baseline naive solution, experiment with different code changes, measure the impact of each change, and compare results.\n",
    "\n",
    "4. **Follow Your Own Curiosity**  \n",
    "   If neither profiling nor low-level tweaking appeals, explore something else that interests you:  \n",
    "   - Build richer or interactive visualisations (e.g., with `Makie` or `Plotly`)  \n",
    "   - Extend to custom rule sets or sparse/infinite grids  \n",
    "   - Integrate a GUI\n",
    "   - Anything else that fits your learning goals!\n",
    "\n",
    "## Naïve Implementation: Four Substeps\n",
    "\n",
    "Below is a simple version of Game of Life. \n",
    "\n",
    "### Substep 1: Initialise the Grid\n",
    "**Goal:** Initialise a 100×100 boolean grid with random `true`/`false` values to represent the starting state of the Game of Life.  \n",
    "```{admonition} Substep 1 Solution\n",
    ":class: dropdown\n",
    "```Julia\n",
    "using Random\n",
    "\n",
    "const N = 100  # grid size\n",
    "# Create a random N×N Matrix of Bool\n",
    "grid = Matrix{Bool}(rand(Bool, N, N))\n",
    "```\n",
    "```"
   ]
  },
  {
   "cell_type": "markdown",
   "id": "4b21981b-48c6-4489-a2eb-6f131730a6a8",
   "metadata": {
    "editable": true,
    "slideshow": {
     "slide_type": ""
    },
    "tags": []
   },
   "source": [
    "### Substep 2: Neighbor Counting\n",
    "**Goal:** Count the number of live neighbors surrounding cell `(i, j)` in a finite `Matrix{Bool}` grid.  \n",
    "```{admonition} Substep 2 Solution\n",
    ":class: dropdown\n",
    "```Julia\n",
    "function count_neighbors_naive(grid::Matrix{Bool}, i::Int, j::Int)::Int\n",
    "    cnt = 0\n",
    "    for di in -1:1, dj in -1:1\n",
    "        if di != 0 || dj != 0\n",
    "            i2, j2 = i + di, j + dj\n",
    "            if 1 ≤ i2 ≤ size(grid,1) && 1 ≤ j2 ≤ size(grid,2)\n",
    "                cnt += grid[i2, j2]\n",
    "            end\n",
    "        end\n",
    "    end\n",
    "    return cnt\n",
    "end\n",
    "```\n",
    "```"
   ]
  },
  {
   "cell_type": "markdown",
   "id": "f1262eea-ad07-415f-a98b-4fcc67540722",
   "metadata": {
    "editable": true,
    "slideshow": {
     "slide_type": ""
    },
    "tags": []
   },
   "source": [
    "### Substep 3: Compute Next State Naïvely\n",
    "**Goal:** Compute and return the next generation of the Game of Life grid by applying Conway’s rules, using a fresh `Matrix{Bool}` for the updated state.  \n",
    "```{admonition} Substep 3 Solution\n",
    ":class: dropdown\n",
    "```Julia\n",
    "function next_state_naive(grid::Matrix{Bool})::Matrix{Bool}\n",
    "    N1, N2 = size(grid)\n",
    "    newgrid = falses(N1, N2)\n",
    "    for i in 1:N1, j in 1:N2\n",
    "        cnt = count_neighbors_naive(grid, i, j)\n",
    "        newgrid[i,j] = (grid[i,j] && (cnt == 2 || cnt == 3)) ||\n",
    "                       (!grid[i,j] && cnt == 3)\n",
    "    end\n",
    "    return newgrid\n",
    "end\n",
    "```\n",
    "```"
   ]
  },
  {
   "cell_type": "markdown",
   "id": "4c63b9a4-07f9-495c-b26b-6b54098a2006",
   "metadata": {
    "editable": true,
    "slideshow": {
     "slide_type": ""
    },
    "tags": []
   },
   "source": [
    "### Substep 4: Run Simulation and Visualise\n",
    "**Goal:** Animate the evolution of the Game of Life grid over a given number of steps and save the result as a GIF using Plots.  \n",
    "\n",
    "```{admonition} Substep 4 Solution\n",
    ":class: dropdown\n",
    "```Julia\n",
    "using Plots\n",
    "\n",
    "function run_naive_simulation(grid::Matrix{Bool}, steps::Int)\n",
    "    anim = @animate for _ in 1:steps\n",
    "        grid = next_state_naive(grid)\n",
    "        heatmap(\n",
    "            grid;\n",
    "            color = :grays, \n",
    "            axis = false, \n",
    "            legend = false,\n",
    "            framestyle = :none,\n",
    "            aspect_ratio = 1\n",
    "        )\n",
    "    end\n",
    "    gif(anim, \"life_naive.gif\"; fps = 10)\n",
    "    println(\"Saved naive animation to life_naive.gif\")\n",
    "end\n",
    "\n",
    "# Example usage:\n",
    "run_naive_simulation(grid, 100)\n",
    "```\n",
    "```"
   ]
  },
  {
   "cell_type": "markdown",
   "id": "3fb5d63c-3b17-4d02-b976-4a765e4c391b",
   "metadata": {
    "editable": true,
    "slideshow": {
     "slide_type": ""
    },
    "tags": []
   },
   "source": [
    "To view the live implementation along with an animated GIF, please proceed to the next page of this course!"
   ]
  },
  {
   "cell_type": "markdown",
   "id": "2dd2c176-da66-4e0d-b620-918906be157f",
   "metadata": {
    "editable": true,
    "slideshow": {
     "slide_type": ""
    },
    "tags": []
   },
   "source": [
    "## Hint Sheet\n",
    "\n",
    "Keep in mind that while we haven’t discussed these topics in class, they’re offered here as guidance to help you with this project research. \n",
    "```{admonition} Hint 1 \n",
    ":class: dropdown\n",
    "### Formatted Output with `Printf`\n",
    "\n",
    "**Module**: `using Printf`\n",
    "**Macro**: `@printf` for C-style formatted printing to `STDOUT`.\n",
    "`@printf(\"Progress: %3.0f%% | Elapsed: %5.1fs | Remaining: %5.1fs\\n\",\n",
    "        pct, elapsed, remain)`\n",
    "```\n",
    "\n",
    "```{admonition} Hint 2 \n",
    ":class: dropdown\n",
    "### Animations with `Plots.jl` \n",
    "**Macro**: `@animate` collects plot frames in a loop, which can then be exported with `gif(anim, filepath; fps=10)`.\n",
    "\n",
    "````julia \n",
    "anim = @animate for step in 1:steps\n",
    "    heatmap(grid; color=:grays, axis=false, legend=false, framestyle=:none)\n",
    "end\n",
    "````\n",
    "```\n"
   ]
  },
  {
   "cell_type": "code",
   "execution_count": null,
   "id": "c7ad76a0-fb5c-4a87-ade8-1690e2e1f61b",
   "metadata": {},
   "outputs": [],
   "source": []
  }
 ],
 "metadata": {
  "kernelspec": {
   "display_name": "Julia 1.11.5",
   "language": "julia",
   "name": "julia-1.11"
  },
  "language_info": {
   "file_extension": ".jl",
   "mimetype": "application/julia",
   "name": "julia",
   "version": "1.11.5"
  }
 },
 "nbformat": 4,
 "nbformat_minor": 5
}
