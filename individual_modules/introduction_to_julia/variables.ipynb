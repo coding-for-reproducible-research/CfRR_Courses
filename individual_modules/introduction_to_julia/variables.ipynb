{
 "cells": [
  {
   "cell_type": "markdown",
   "id": "ac3952d4-b7a9-4403-9e33-9e9808b84599",
   "metadata": {
    "editable": true,
    "slideshow": {
     "slide_type": ""
    },
    "tags": []
   },
   "source": [
    "# Variables \n",
    "\n",
    "## Learning Objectives\n",
    "\n",
    "- Understand how to create and assign variables in Julia \n",
    "- Recognise and use basic data types in Julia, including integers, floating-point numbers, strings and booleans\n",
    "- Gain awareness of container types that Julia offers\n",
    "- Utilise Julia's dynamic typing system for variable assignment and manipulation \n",
    "- Understand the basics of abstract types and type comparison\n",
    "- Understand the significance of `nothing`\n",
    "- Explain what the `Any` type is\n",
    "\n",
    "## Overview \n",
    "\n",
    "Variables in Julia are created simply by assigning to them with the `=` sign. When you assign a value to a new variable name, Julia creates the variable if it does not exist and binds it to that value. Julia is **dynamically typed**, meaning that a variable can be rebound to values of any type at runtime - types stick to values, not names. This is in contrast to *statically typed* languages, such as C, C++, Java, etc., where the type of a variable cannot change once the variable has been declared."
   ]
  },
  {
   "cell_type": "code",
   "execution_count": 1,
   "id": "ab807957-44fe-4021-8190-e490f469f1fa",
   "metadata": {
    "editable": true,
    "slideshow": {
     "slide_type": ""
    },
    "tags": []
   },
   "outputs": [
    {
     "name": "stdout",
     "output_type": "stream",
     "text": [
      "x is 10\n",
      "Now x is Julia\n"
     ]
    }
   ],
   "source": [
    "# Assign an integer value to x and print it\n",
    "x = 10 \n",
    "println(\"x is \", x)\n",
    "\n",
    "# Reassign x to a string value and print it\n",
    "x = \"Julia\"\n",
    "println(\"Now x is \", x)"
   ]
  },
  {
   "cell_type": "markdown",
   "id": "05ffce51-03ab-43d7-b5f1-b7d108f8b89b",
   "metadata": {
    "editable": true,
    "slideshow": {
     "slide_type": ""
    },
    "tags": []
   },
   "source": [
    "Here, `x` first was an integer, then became a string. You can always check the type of a value using the `typeof()` function:"
   ]
  },
  {
   "cell_type": "code",
   "execution_count": 2,
   "id": "209b68b7-42a9-48d4-8672-4b3fcc3e2d9e",
   "metadata": {
    "editable": true,
    "slideshow": {
     "slide_type": ""
    },
    "tags": []
   },
   "outputs": [
    {
     "name": "stdout",
     "output_type": "stream",
     "text": [
      "Float64\n"
     ]
    }
   ],
   "source": [
    "# Print type of a variable\n",
    "y = 3.14 \n",
    "println(typeof(y)) # This will print the type of y, e.g. Float64"
   ]
  },
  {
   "cell_type": "markdown",
   "id": "9bf23e8b-a0cb-4fba-8b65-9dd43c97e2f2",
   "metadata": {
    "editable": true,
    "slideshow": {
     "slide_type": ""
    },
    "tags": []
   },
   "source": [
    "### Exercise: Basic Variable Assignment \n",
    "\n",
    "Copy the code below into a REPL (or notebook) and run it with different values for `x`. Notice what type is returned. Some examples you could try:\n",
    "- A floating point number (e.g. `3.14`)\n",
    "- A boolean (`true` or `false`)\n",
    "- A array (e.g. `[1, 2, 3]`)\n",
    "\n",
    "```Julia\n",
    "# TODO: Try different values\n",
    "x = \n",
    "\n",
    "# Print the value and type of x\n",
    "println(\"x is \", x)\n",
    "println(\"The type of x is: \", typeof(x))\n",
    "```"
   ]
  },
  {
   "cell_type": "code",
   "execution_count": 3,
   "id": "9f4b3c5e-b01d-4b93-a745-424f37c1504d",
   "metadata": {},
   "outputs": [],
   "source": [
    "# Answer here\n",
    "\n"
   ]
  },
  {
   "cell_type": "markdown",
   "id": "b9bc7c39-b1c2-4061-9680-f0ad34282095",
   "metadata": {
    "editable": true,
    "jp-MarkdownHeadingCollapsed": true,
    "slideshow": {
     "slide_type": ""
    },
    "tags": []
   },
   "source": [
    "### Extension exercise: dynamic typing\n",
    "\n",
    "Reflect (or do some research) on what might be advantages and possible pitfalls of the dynamically typed nature of Julia."
   ]
  },
  {
   "cell_type": "markdown",
   "id": "0964d80f-507d-4cf6-b38b-33ae41b75d89",
   "metadata": {
    "editable": true,
    "slideshow": {
     "slide_type": ""
    },
    "tags": []
   },
   "source": [
    "## Basic Types in Julia\n",
    "\n",
    "Julia has several **built-in data types** for basic values:\n",
    "\n",
    "- **Integers** (`Int8`, `Int16`, `Int32`, `Int64`, `Int128`, `Int`) - represent whole numbers (... -2, -1, 0, 1, 2, ...) that can be represented by the specified number of bits (8, 16, 32, ...). The `Int` type is an alias for the integer type with number of bits naturally supported with the system architecture. Most systems are 64-bit (so `Int64`), which can hold very large integers. Literal integer declarations are for type `Int`, i.e. `x = 42` here would have `typeof(x)` being `Int`).\n",
    "- **Floating-point numbers** (`Float16`, `Float32`, `Float64`) - represent floating point numbers comprising the given number of bits. Literal floating point declarations (e.g. `x = 3.14`) are 64-bit double precisions (`Float64`). \n",
    "- **Strings** (`String`) - represent text data. Julia strings are contained in double quotes, e.g. `name = \"Julia\"`. They are UTF-8 encoded and can handle Unicode characters. \n",
    "- **Booleans** (`Bool`) - represent logical true/false values. There are exactly two: `true` and `false` (all lowercase). They are often the results of comparisons or logical operations.\n",
    "- **Characters** (`Char`) - represent a single Unicode code point. Written in single quotes.\n",
    "- **Complex numbers** (`Complex{T}`) - Numbers of the form a + b·im where `a` and `b` are of type `T`. E.g. a and b are `Float64`, the type is `Complex{Float64}`.\n",
    "- **Rational numbers** (`Rational{T}`) - Exact fractions of integers of type `T` e.g. `Rational{Int32}`.\n",
    "- **Arbitrary-precision integers** (`BigInt`) - Integers of unlimited size.\n",
    "- **Arbitrary-precision floats** (`BigFloat`) - Floating-point numbers with user-controllable precision (default ~256 bits).\n",
    "- **Unsigned integers** (`UInt8`, `UInt16`, `UInt32`, `UInt64`, `UInt128`, `UInt`) - Non-negative whole numbers represented by the specified number of bits. You can pick a size (e.g. `UInt8` for 0–255) or use `UInt` (platform-sized, typically `UInt64`).\n",
    "\n",
    "For example, consider this code, which creates one variable of each type and then prints its value and type: "
   ]
  },
  {
   "cell_type": "code",
   "execution_count": 4,
   "id": "047df25f-6db1-4429-aa23-c21b4eef653c",
   "metadata": {
    "editable": true,
    "slideshow": {
     "slide_type": ""
    },
    "tags": []
   },
   "outputs": [
    {
     "name": "stdout",
     "output_type": "stream",
     "text": [
      "x_int:         100  (Int64)\n",
      "x_int16:       -3000  (Int16)\n",
      "y_float:       100.05  (Float64)\n",
      "y_float32:     99.3  (Float32)\n",
      "name_str:      Julia🧡  (String)\n",
      "flag_bool:     true  (Bool)\n",
      "c_char:        A  (Char)\n",
      "z_complex:     3 + 4im  (Complex{Int64})\n",
      "z_complex_f64: 3.0 + 4.5im  (ComplexF64)\n",
      "rational_val:  3//4  (Rational{Int64})\n",
      "big_int:       1267650600228229401496703205376  (BigInt)\n",
      "big_float:     2.718279999999999999999999999999999999999999999999999999999999999999999999999989  (BigFloat)\n",
      "u8:            255  (UInt8)\n",
      "u_def:         100  (UInt64)\n"
     ]
    }
   ],
   "source": [
    "x_int = 100                      # Int64 on 64 bit machines\n",
    "x_int16 = Int16(-3000)           # Int16\n",
    "y_float = 100.05                 # Float64\n",
    "y_float32 = Float32(99.3)        # Float32 (equivalently: 99.3f)\n",
    "name_str = \"Julia🧡\"             # String\n",
    "flag_bool = true                 # Bool\n",
    "c_char = 'A'                     # Char\n",
    "z_complex = 3 + 4im              # Complex{Int}\n",
    "z_complex_f64 = 3.0 + 4.5im      # ComplexF64 (alias for Complex{Float64})\n",
    "rational_val = 3//4              # Rational{Int}\n",
    "big_int = BigInt(2)^100          # BigInt\n",
    "\n",
    "setprecision(256)                # ensure BigFloat precision\n",
    "big_float = BigFloat(\"2.71828\")  # BigFloat\n",
    "\n",
    "u8 = UInt8(255)                  # UInt8\n",
    "u_def = UInt(100)                # UInt64 on 64-bit machines\n",
    "\n",
    "println(\"x_int:         \", x_int,         \"  (\", typeof(x_int),         \")\")\n",
    "println(\"x_int16:       \", x_int16,       \"  (\", typeof(x_int16),       \")\")\n",
    "println(\"y_float:       \", y_float,       \"  (\", typeof(y_float),       \")\")\n",
    "println(\"y_float32:     \", y_float32,     \"  (\", typeof(y_float32),     \")\")\n",
    "println(\"name_str:      \", name_str,      \"  (\", typeof(name_str),      \")\")\n",
    "println(\"flag_bool:     \", flag_bool,     \"  (\", typeof(flag_bool),     \")\")\n",
    "println(\"c_char:        \", c_char,        \"  (\", typeof(c_char),        \")\")\n",
    "println(\"z_complex:     \", z_complex,     \"  (\", typeof(z_complex),     \")\")\n",
    "println(\"z_complex_f64: \", z_complex_f64, \"  (\", typeof(z_complex_f64), \")\")\n",
    "println(\"rational_val:  \", rational_val,  \"  (\", typeof(rational_val),  \")\")\n",
    "println(\"big_int:       \", big_int,       \"  (\", typeof(big_int),       \")\")\n",
    "println(\"big_float:     \", big_float,     \"  (\", typeof(big_float),     \")\")\n",
    "println(\"u8:            \", u8,            \"  (\", typeof(u8),            \")\")\n",
    "println(\"u_def:         \", u_def,         \"  (\", typeof(u_def),         \")\")\n"
   ]
  },
  {
   "attachments": {},
   "cell_type": "markdown",
   "id": "acfb6fa6-e457-45ed-8027-7fb62b40bdac",
   "metadata": {},
   "source": [
    "### Min/max values for integer types\n",
    "\n",
    "The `typemin` and `typemax` functions return the minimum and maximum values for different integers types. In general the range of possible values for integers with the number of bits $b$ is\n",
    "\n",
    "- Unsigned: $0 \\leq x \\leq 2^b - 1$\n",
    "- Signed: $-2^{b-1} \\leq x \\leq 2^{b-1} - 1$"
   ]
  },
  {
   "cell_type": "code",
   "execution_count": 5,
   "id": "7fff72fc-a72e-4387-ae6b-75e4bd0ca13e",
   "metadata": {
    "scrolled": true
   },
   "outputs": [
    {
     "name": "stdout",
     "output_type": "stream",
     "text": [
      "Signed ints:\n",
      "Int8: -128 <= x <= 127\n",
      "Int16: -32768 <= x <= 32767\n",
      "Int32: -2147483648 <= x <= 2147483647\n",
      "Int64: -9223372036854775808 <= x <= 9223372036854775807\n",
      "Int128: -170141183460469231731687303715884105728 <= x <= 170141183460469231731687303715884105727\n",
      "\n",
      "Unsigned ints:\n",
      "UInt8: 0 <= x <= 255\n",
      "UInt16: 0 <= x <= 65535\n",
      "UInt32: 0 <= x <= 4294967295\n",
      "UInt64: 0 <= x <= 18446744073709551615\n",
      "UInt128: 0 <= x <= 340282366920938463463374607431768211455\n"
     ]
    }
   ],
   "source": [
    "println(\"Signed ints:\")\n",
    "println(\"Int8: \", \"$(typemin(Int8)) <= x <= $(typemax(Int8))\")\n",
    "println(\"Int16: \", \"$(typemin(Int16)) <= x <= $(typemax(Int16))\")\n",
    "println(\"Int32: \", \"$(typemin(Int32)) <= x <= $(typemax(Int32))\")\n",
    "println(\"Int64: \", \"$(typemin(Int64)) <= x <= $(typemax(Int64))\")\n",
    "println(\"Int128: \", \"$(typemin(Int128)) <= x <= $(typemax(Int128))\")\n",
    "println(\"\\nUnsigned ints:\")\n",
    "println(\"UInt8: \", \"$(typemin(UInt8)) <= x <= $(typemax(UInt8))\")\n",
    "println(\"UInt16: \", \"$(typemin(UInt16)) <= x <= $(typemax(UInt16))\")\n",
    "println(\"UInt32: \", \"$(typemin(UInt32)) <= x <= $(typemax(UInt32))\")\n",
    "println(\"UInt64: \", \"$(typemin(UInt64)) <= x <= $(typemax(UInt64))\")\n",
    "println(\"UInt128: \", \"$(typemin(UInt128)) <= x <= $(typemax(UInt128))\")"
   ]
  },
  {
   "cell_type": "markdown",
   "id": "f27fcee1-6267-441f-9879-d23d33fdb86a",
   "metadata": {},
   "source": [
    "### More information on integers and floating-points\n",
    "\n",
    "There are several topics that get more into the nitty-gritty detail of working with integers and floating point numbers of different precisions. Check out the Julia manual page (https://docs.julialang.org/en/v1/manual/integers-and-floating-point-numbers/) for more information, including details such as:\n",
    "\n",
    "- `Inf` and `NaN` for floating point numbers\n",
    "- Integer wraparound (e.g. what is `Int8(127) + Int8(1)`)\n",
    "- How to specify numerical literals for e.g. `Int16`, `Float32`, ..."
   ]
  },
  {
   "cell_type": "markdown",
   "id": "9f6c3a58-2b27-47e6-90fd-124d57fcca48",
   "metadata": {
    "editable": true,
    "slideshow": {
     "slide_type": ""
    },
    "tags": []
   },
   "source": [
    "## Container Types in Julia \n",
    "\n",
    "Julia provides several **built-in container types** for grouping values, including:\n",
    "\n",
    "- **Tuples** (`Tuple`) - Immutable, ordered collections of heterogenous values.\n",
    "- **NamedTuples** (`NamedTuples`) - Like tuples but with named fields for more readable access.\n",
    "- **Arrays** (`Array{T, N}`) - Mutable, indexed collections of elements all of the same type `T`, in `N` dimensions (more later).\n",
    "- **Dictionaries** (`Dict{K,V}`) - Mutable key-values maps, with keys of type `K` and values of type `V`.\n",
    "- **Sets** (`Set{T}`) - Mutable collections of **unique** values of type `T`.\n",
    "\n",
    "In a similar manner as for the basic types in Julia: "
   ]
  },
  {
   "cell_type": "code",
   "execution_count": 6,
   "id": "20068547-be11-4bf0-8e64-17f266cc661e",
   "metadata": {
    "editable": true,
    "slideshow": {
     "slide_type": ""
    },
    "tags": []
   },
   "outputs": [
    {
     "name": "stdout",
     "output_type": "stream",
     "text": [
      "Tuple:      (42, \"Julia\", 3.14)  (Tuple{Int64, String, Float64})\n",
      "NamedTuple: (x = 10, y = 20)  (@NamedTuple{x::Int64, y::Int64})\n",
      "Vector:     [1, 2, 3]  (Vector{Int64})\n",
      "Matrix:     [1 2; 3 4]  (Matrix{Int64})\n",
      "Dict:       Dict(\"b\" => 2, \"a\" => 1)  (Dict{String, Int64})\n",
      "Set:        Set([\"banana\", \"apple\"])  (Set{String})\n"
     ]
    }
   ],
   "source": [
    "tup = (42, \"Julia\", 3.14)\n",
    "nt = (x = 10, y = 20)\n",
    "v = [1, 2, 3]\n",
    "m = [1 2; 3 4]\n",
    "d = Dict(\"a\" => 1, \"b\" => 2)\n",
    "s = Set([\"apple\", \"banana\", \"apple\"])\n",
    "\n",
    "println(\"Tuple:      \", tup,    \"  (\", typeof(tup),    \")\")\n",
    "println(\"NamedTuple: \", nt,     \"  (\", typeof(nt),     \")\")\n",
    "println(\"Vector:     \", v,      \"  (\", typeof(v),      \")\")\n",
    "println(\"Matrix:     \", m,      \"  (\", typeof(m),      \")\")\n",
    "println(\"Dict:       \", d,      \"  (\", typeof(d),      \")\")\n",
    "println(\"Set:        \", s,      \"  (\", typeof(s),      \")\")"
   ]
  },
  {
   "cell_type": "markdown",
   "id": "72d47c25-3180-4e3d-8c3b-c07acae3ad58",
   "metadata": {
    "editable": true,
    "slideshow": {
     "slide_type": ""
    },
    "tags": []
   },
   "source": [
    "## Explicit Type Conversion\n",
    "\n",
    "We can convert between types using the `convert` function:"
   ]
  },
  {
   "cell_type": "code",
   "execution_count": 7,
   "id": "4a4c6398-959e-404c-bca3-60d0c0b0d15c",
   "metadata": {},
   "outputs": [
    {
     "name": "stdout",
     "output_type": "stream",
     "text": [
      "convert(Float64, Float32(1.23)) = 1.2300000190734863\n",
      "convert(Float32, 1 // 3) = 0.33333334f0\n",
      "convert(Int64, UInt16(1000)) = 1000\n"
     ]
    },
    {
     "data": {
      "text/plain": [
       "1000"
      ]
     },
     "execution_count": 7,
     "metadata": {},
     "output_type": "execute_result"
    }
   ],
   "source": [
    "# Note: use the @show macro only for more detailed printing\n",
    "\n",
    "# Float32 --> Float64\n",
    "@show convert(Float64, Float32(1.23))\n",
    "\n",
    "# Rational --> Float32\n",
    "@show convert(Float32, 1 // 3)\n",
    "\n",
    "# UInt16 --> Int64\n",
    "@show convert(Int64, UInt16(1000))"
   ]
  },
  {
   "cell_type": "markdown",
   "id": "1cb78487-b34b-4572-9c4a-e59b91157ab1",
   "metadata": {},
   "source": [
    "Note that if the target type is an Integer type, an `InexactError` will be raised if the value is not representable by the type, e.g. for example if x is not\n",
    "  integer-valued, or is outside the range supported by T."
   ]
  },
  {
   "cell_type": "code",
   "execution_count": 8,
   "id": "3bea82de-95b7-41ae-93f6-523c542049a9",
   "metadata": {},
   "outputs": [
    {
     "ename": "LoadError",
     "evalue": "InexactError: Int64(1.1)",
     "output_type": "error",
     "traceback": [
      "InexactError: Int64(1.1)",
      "",
      "Stacktrace:",
      " [1] Int64",
      "   @ .\\float.jl:912 [inlined]",
      " [2] convert(::Type{Int64}, x::Float64)",
      "   @ Base .\\number.jl:7",
      " [3] top-level scope",
      "   @ In[8]:2"
     ]
    }
   ],
   "source": [
    "# Error: not integer-valued\n",
    "convert(Int, 1.1)"
   ]
  },
  {
   "cell_type": "markdown",
   "id": "7fc1a4cc-0b0e-40d1-b314-43c2bc27a7df",
   "metadata": {},
   "source": [
    "(In this case, we probably want to instead take the nearest integer to the floating point value, which we can do using the `trunc` function instead.)"
   ]
  },
  {
   "cell_type": "code",
   "execution_count": 9,
   "id": "af2220e2-550b-4fb9-931c-2dca58c9dc3e",
   "metadata": {},
   "outputs": [
    {
     "data": {
      "text/plain": [
       "1"
      ]
     },
     "execution_count": 9,
     "metadata": {},
     "output_type": "execute_result"
    }
   ],
   "source": [
    "# Truncate to nearest integer\n",
    "trunc(Int, 1.1)"
   ]
  },
  {
   "cell_type": "code",
   "execution_count": 10,
   "id": "187451d5-7171-4c9b-bec2-280096c40642",
   "metadata": {},
   "outputs": [
    {
     "ename": "LoadError",
     "evalue": "InexactError: trunc(Int16, 32769)",
     "output_type": "error",
     "traceback": [
      "InexactError: trunc(Int16, 32769)",
      "",
      "Stacktrace:",
      " [1] throw_inexacterror(f::Symbol, ::Type{Int16}, val::Int64)",
      "   @ Core .\\boot.jl:634",
      " [2] checked_trunc_sint",
      "   @ .\\boot.jl:656 [inlined]",
      " [3] toInt16",
      "   @ .\\boot.jl:682 [inlined]",
      " [4] Int16",
      "   @ .\\boot.jl:782 [inlined]",
      " [5] convert(::Type{Int16}, x::Int64)",
      "   @ Base .\\number.jl:7",
      " [6] top-level scope",
      "   @ In[10]:2"
     ]
    }
   ],
   "source": [
    "# Error: out of range\n",
    "convert(Int16, 2^15 + 1)"
   ]
  },
  {
   "cell_type": "markdown",
   "id": "9556c075-aabf-4345-a09a-d750390f3a70",
   "metadata": {},
   "source": [
    "### String representation"
   ]
  },
  {
   "cell_type": "markdown",
   "id": "e490d163-a3fe-47e5-9f77-3336f03cfdb8",
   "metadata": {},
   "source": [
    "We can use the `string` function to represent an object as a string:"
   ]
  },
  {
   "cell_type": "code",
   "execution_count": 11,
   "id": "9105a95d-f608-4cbd-b14e-503a9862ce47",
   "metadata": {},
   "outputs": [
    {
     "name": "stdout",
     "output_type": "stream",
     "text": [
      "string(1 / 3) = \"0.3333333333333333\"\n",
      "string(BigInt(2) ^ 100) = \"1267650600228229401496703205376\"\n",
      "string('A') = \"A\"\n"
     ]
    },
    {
     "data": {
      "text/plain": [
       "\"A\""
      ]
     },
     "execution_count": 11,
     "metadata": {},
     "output_type": "execute_result"
    }
   ],
   "source": [
    "# Show string representations\n",
    "@show string(1 / 3)\n",
    "@show string(BigInt(2)^100)  # 2^100 needs a BigInt for calculating\n",
    "@show string('A')"
   ]
  },
  {
   "cell_type": "markdown",
   "id": "7fe05fbe-23af-4377-94f7-0f8b56187696",
   "metadata": {},
   "source": [
    "We can also use **string interpolation** to put the values of expressions into strings via `$(...)` (which we've already been using above):"
   ]
  },
  {
   "cell_type": "code",
   "execution_count": 12,
   "id": "c104be22-0996-46a1-8b00-ce013ab4576a",
   "metadata": {},
   "outputs": [
    {
     "data": {
      "text/plain": [
       "\"The value of 1 + 2 is 3\""
      ]
     },
     "execution_count": 12,
     "metadata": {},
     "output_type": "execute_result"
    }
   ],
   "source": [
    "# Show result of expression with string interpolation\n",
    "\"The value of 1 + 2 is $(1 + 2)\""
   ]
  },
  {
   "cell_type": "markdown",
   "id": "375ba98c-eaa9-4c8e-852d-f7c62647a5f2",
   "metadata": {
    "editable": true,
    "slideshow": {
     "slide_type": ""
    },
    "tags": []
   },
   "source": [
    "## Exercise: Exploring Variables\n",
    "\n",
    "Try creating a few different variables on your own. For example:\n",
    "\n",
    "- Create a variable `city` and assign a city name to it (as a string). \n",
    "- Create a variable `temperature` and assign a number (integer or float).\n",
    "- Use `convert` to convert your `temperature` to a different type.\n",
    "- Use `println` to output a sentence like \"The temperature in \\<CITY\\> is \\<TEMPERATURE\\>\".\n",
    "- Check the types of your variable with `typeof()` to confirm they match your expectations."
   ]
  },
  {
   "cell_type": "code",
   "execution_count": 13,
   "id": "a0717f9e-1fe2-48b6-8058-5c5d21232561",
   "metadata": {},
   "outputs": [],
   "source": [
    "# Answer here\n",
    "\n"
   ]
  },
  {
   "cell_type": "markdown",
   "id": "6bebfd13-8ec2-401a-b05d-43351ea3f680",
   "metadata": {
    "editable": true,
    "slideshow": {
     "slide_type": ""
    },
    "tags": []
   },
   "source": [
    "## Nothing (`Nothing`)\n",
    "\n",
    "Like other high-level languages, Julia has a 'null' object called `nothing`, typically used to indicate the absence of a value (similar to `null` or `None` in other languages). `nothing` has the type `Nothing`; in fact, it is the only value that has type `Nothing`:"
   ]
  },
  {
   "cell_type": "code",
   "execution_count": 14,
   "id": "2fb59cdf-0d2a-49a8-a34a-58f44755e5e7",
   "metadata": {},
   "outputs": [
    {
     "data": {
      "text/plain": [
       "Nothing"
      ]
     },
     "execution_count": 14,
     "metadata": {},
     "output_type": "execute_result"
    }
   ],
   "source": [
    "# Type of `nothing`\n",
    "typeof(nothing)"
   ]
  },
  {
   "cell_type": "markdown",
   "id": "0292fc64-5a1f-4570-9675-57441a3278ae",
   "metadata": {
    "editable": true,
    "slideshow": {
     "slide_type": ""
    },
    "tags": []
   },
   "source": [
    "It can be checked using the `isnothing` function:"
   ]
  },
  {
   "cell_type": "code",
   "execution_count": 15,
   "id": "5c74cc48-785f-4e94-b9cb-ba727d1d4956",
   "metadata": {
    "editable": true,
    "slideshow": {
     "slide_type": ""
    },
    "tags": []
   },
   "outputs": [
    {
     "data": {
      "text/plain": [
       "true"
      ]
     },
     "execution_count": 15,
     "metadata": {},
     "output_type": "execute_result"
    }
   ],
   "source": [
    "# Checking whether something is nothing... :/\n",
    "x = nothing\n",
    "isnothing(x)"
   ]
  },
  {
   "attachments": {},
   "cell_type": "markdown",
   "id": "de59b323-30e1-4b33-b6a4-b6002173bc5b",
   "metadata": {
    "editable": true,
    "slideshow": {
     "slide_type": ""
    },
    "tags": []
   },
   "source": [
    "## Optional type annotations \n",
    "\n",
    "You can optonally declare the type of value for a new variable explicitly. Because Julia infers types for you, you rarely need to do this, but in some situations this can lead to better performance (mostly when used with global variables)."
   ]
  },
  {
   "cell_type": "code",
   "execution_count": 16,
   "id": "81cb8091-8749-4ec2-883f-8e3a0b26e228",
   "metadata": {},
   "outputs": [
    {
     "data": {
      "text/plain": [
       "\"Joe Bloggs\""
      ]
     },
     "execution_count": 16,
     "metadata": {},
     "output_type": "execute_result"
    }
   ],
   "source": [
    "# Assign to String variable `name`\n",
    "name::String = \"Joe Bloggs\""
   ]
  },
  {
   "cell_type": "markdown",
   "id": "624beaee-aea4-4dc5-ad5b-cc29a142e937",
   "metadata": {},
   "source": [
    "Note that if you do this, it is no longer possible to assign a value of a different type to the variable (unless the new value can be implicitly converted to variable's declared type):"
   ]
  },
  {
   "cell_type": "code",
   "execution_count": 17,
   "id": "2f47d33d-a24d-4d80-bfa0-0029b5ed5f07",
   "metadata": {},
   "outputs": [
    {
     "ename": "LoadError",
     "evalue": "MethodError: \u001b[0mCannot `convert` an object of type \u001b[92mFloat64\u001b[39m\u001b[0m to an object of type \u001b[91mString\u001b[39m\n\n\u001b[0mClosest candidates are:\n\u001b[0m  convert(::Type{String}, \u001b[91m::Base.JuliaSyntax.Kind\u001b[39m)\n\u001b[0m\u001b[90m   @\u001b[39m \u001b[90mBase\u001b[39m \u001b[90mC:\\workdir\\base\\JuliaSyntax\\src\\\u001b[39m\u001b[90m\u001b[4mkinds.jl:975\u001b[24m\u001b[39m\n\u001b[0m  convert(::Type{String}, \u001b[91m::String\u001b[39m)\n\u001b[0m\u001b[90m   @\u001b[39m \u001b[90mBase\u001b[39m \u001b[90m\u001b[4messentials.jl:321\u001b[24m\u001b[39m\n\u001b[0m  convert(::Type{T}, \u001b[91m::T\u001b[39m) where T<:AbstractString\n\u001b[0m\u001b[90m   @\u001b[39m \u001b[90mBase\u001b[39m \u001b[90mstrings\\\u001b[39m\u001b[90m\u001b[4mbasic.jl:231\u001b[24m\u001b[39m\n\u001b[0m  ...\n",
     "output_type": "error",
     "traceback": [
      "MethodError: \u001b[0mCannot `convert` an object of type \u001b[92mFloat64\u001b[39m\u001b[0m to an object of type \u001b[91mString\u001b[39m\n\n\u001b[0mClosest candidates are:\n\u001b[0m  convert(::Type{String}, \u001b[91m::Base.JuliaSyntax.Kind\u001b[39m)\n\u001b[0m\u001b[90m   @\u001b[39m \u001b[90mBase\u001b[39m \u001b[90mC:\\workdir\\base\\JuliaSyntax\\src\\\u001b[39m\u001b[90m\u001b[4mkinds.jl:975\u001b[24m\u001b[39m\n\u001b[0m  convert(::Type{String}, \u001b[91m::String\u001b[39m)\n\u001b[0m\u001b[90m   @\u001b[39m \u001b[90mBase\u001b[39m \u001b[90m\u001b[4messentials.jl:321\u001b[24m\u001b[39m\n\u001b[0m  convert(::Type{T}, \u001b[91m::T\u001b[39m) where T<:AbstractString\n\u001b[0m\u001b[90m   @\u001b[39m \u001b[90mBase\u001b[39m \u001b[90mstrings\\\u001b[39m\u001b[90m\u001b[4mbasic.jl:231\u001b[24m\u001b[39m\n\u001b[0m  ...\n",
      "",
      "Stacktrace:",
      " [1] top-level scope",
      "   @ In[17]:2"
     ]
    }
   ],
   "source": [
    "# Error -- cannot convert 1.0 to a string\n",
    "name = 1.0"
   ]
  },
  {
   "cell_type": "markdown",
   "id": "ac1ab05d-9b88-4ae3-825d-ceeaad0441d8",
   "metadata": {},
   "source": [
    "Furthermore, we're not even allowed to redeclare the variable to be of a different type:"
   ]
  },
  {
   "cell_type": "code",
   "execution_count": 18,
   "id": "c9b0dccb-46b4-411a-a972-9d9691b65532",
   "metadata": {},
   "outputs": [
    {
     "ename": "LoadError",
     "evalue": "cannot set type for global Main.name. It already has a value or is already set to a different type.",
     "output_type": "error",
     "traceback": [
      "cannot set type for global Main.name. It already has a value or is already set to a different type.",
      "",
      "Stacktrace:",
      " [1] top-level scope",
      "   @ In[18]:2"
     ]
    }
   ],
   "source": [
    "# Error -- cannot redeclare a variable with fixed type\n",
    "name::Float64 = 1.0"
   ]
  },
  {
   "cell_type": "markdown",
   "id": "34d786ab-c41e-4e6a-8969-98582ab55c9b",
   "metadata": {},
   "source": [
    "If we want to indicate that a variable always has the same value, we can use the `const` keyword. Attempts to change the value of such a variable will raise a warning (though not an error) if the new value has exactly the same type, or an error if the type is different (even if it could in principle be converted):"
   ]
  },
  {
   "cell_type": "code",
   "execution_count": 19,
   "id": "a42c77ed-9fb2-4f13-9842-947cd2f90fa2",
   "metadata": {},
   "outputs": [
    {
     "name": "stderr",
     "output_type": "stream",
     "text": [
      "WARNING: redefinition of constant Main.AVAGADRO_CONSTANT. This may fail, cause incorrect answers, or produce other errors.\n"
     ]
    },
    {
     "data": {
      "text/plain": [
       "99.0"
      ]
     },
     "execution_count": 19,
     "metadata": {},
     "output_type": "execute_result"
    }
   ],
   "source": [
    "# Declare Avagadro's constant: 6.02214076 * 10^23 atoms per mole\n",
    "const AVAGADRO_CONSTANT = 6.02214076e23\n",
    "\n",
    "# Reassignment\n",
    "AVAGADRO_CONSTANT = 99.0"
   ]
  },
  {
   "cell_type": "code",
   "execution_count": 20,
   "id": "9e4e3e2e-8842-4f7f-9d5a-494e61653292",
   "metadata": {},
   "outputs": [
    {
     "ename": "LoadError",
     "evalue": "invalid redefinition of constant Main.AVAGADRO_CONSTANT",
     "output_type": "error",
     "traceback": [
      "invalid redefinition of constant Main.AVAGADRO_CONSTANT",
      "",
      "Stacktrace:",
      " [1] top-level scope",
      "   @ In[20]:2"
     ]
    }
   ],
   "source": [
    "# Reassignment with different type (Int)\n",
    "AVAGADRO_CONSTANT = 1"
   ]
  },
  {
   "cell_type": "markdown",
   "id": "2eaae906-b0b4-4862-8b69-064f62212456",
   "metadata": {},
   "source": [
    "### Exercise: type declarations\n",
    "\n",
    "Which of the following assignments do you think will work? Test out your predictions by running the code.\n",
    "- `a_float::Float64 = 1.0`\n",
    "- `another_float::Float64 = 2`\n",
    "- `a_string::String = \"a\"`\n",
    "- `another_string::String = 'a'`"
   ]
  },
  {
   "cell_type": "code",
   "execution_count": 21,
   "id": "ab0e8d88-66e6-43b2-8e52-cbe93c8ed71d",
   "metadata": {},
   "outputs": [],
   "source": [
    "# Answer here\n",
    "\n"
   ]
  },
  {
   "cell_type": "markdown",
   "id": "317e6fed-fc8e-4e66-90c9-3dac3ee80adc",
   "metadata": {},
   "source": [
    "## Abstract Types\n",
    "\n",
    "Julia's type hierarchy includes the concept of **abstract types**. Unlike the normal, 'concrete' types we've seen so far, abstract types cannot be instantiated. Instead, they are used to **define a set of related concrete types** that share some common aspects. A concrete type may thus be a **subtype** of an abstract type.\n",
    "\n",
    "Here are some examples:\n",
    "- `Integer` — all integer types (subtypes include `Int64`, `Int32`, `Int16`, `UInt64`, etc.)\n",
    "- `AbstractFloat` — all floating-point types (subtypes include `Float64`, `Float32`, `Float16`)\n",
    "- `Real` — all real numbers (includes `Rational` and any subtypes of `Integer` and `AbstractFloat`)\n",
    "- `Number` — the root of all numeric types (integers, floating point numbers, complex numbers, ...)\n",
    "\n",
    "Note that abstract types can also be subtypes of other abstract types. For example, `Integer` is a subtype of `Real`, which in turn is a subtype of `Number`.\n",
    "\n",
    "The operator `<:` may be used to check whether a type is a subtype of an abstract type:"
   ]
  },
  {
   "cell_type": "code",
   "execution_count": 22,
   "id": "669e00a7-a008-4426-a378-1bd1cd989a9c",
   "metadata": {},
   "outputs": [
    {
     "name": "stdout",
     "output_type": "stream",
     "text": [
      "Int is a subtype of Integer: true\n",
      "UInt8 is a subtype of Integer: true\n",
      "Float64 is a subtype of Integer: false\n",
      "AbstractFloat is a subtype of Real: true\n",
      "ComplexF64 is a subtype of Real: false\n",
      "ComplexF64 is a subtype of Number: true\n"
     ]
    }
   ],
   "source": [
    "println(\"Int is a subtype of Integer: \", Int <: Integer)\n",
    "println(\"UInt8 is a subtype of Integer: \", UInt8 <: Integer)\n",
    "println(\"Float64 is a subtype of Integer: \", Float64 <: Integer)\n",
    "println(\"AbstractFloat is a subtype of Real: \", AbstractFloat <: Real)\n",
    "println(\"ComplexF64 is a subtype of Real: \", ComplexF64 <: Real)\n",
    "println(\"ComplexF64 is a subtype of Number: \", ComplexF64 <: Number)"
   ]
  },
  {
   "cell_type": "markdown",
   "id": "e06d6fb8-a900-4100-9c3d-4f0d20505b9f",
   "metadata": {},
   "source": [
    "Similarly, the function `isa` can be used to check whether an object `x` is of some type `T` (whether `T` is a concrete type or abstract type). This function also supports infix notation:\n",
    "\n",
    "```julia\n",
    "# Check whether `x` is an object of type `T`\n",
    "isa(x, T)\n",
    "\n",
    "# Equivalently:\n",
    "x isa T\n",
    "```"
   ]
  },
  {
   "cell_type": "code",
   "execution_count": 23,
   "id": "5f0b4416-10ad-4b8e-92f4-04880a1059ef",
   "metadata": {},
   "outputs": [
    {
     "name": "stdout",
     "output_type": "stream",
     "text": [
      "1.0 is a Float64: true\n",
      "1.0 is a Int: false\n",
      "1.0 is a Real: true\n"
     ]
    }
   ],
   "source": [
    "x = 1.0\n",
    "\n",
    "# Check if a Float64\n",
    "println(\"1.0 is a Float64: \", x isa Float64)\n",
    "\n",
    "# Check if a Int\n",
    "println(\"1.0 is a Int: \", x isa Int)\n",
    "\n",
    "# Check if a Real\n",
    "println(\"1.0 is a Real: \", x isa Real)"
   ]
  },
  {
   "cell_type": "markdown",
   "id": "a7a28f23-f023-4859-8289-0969387828e5",
   "metadata": {},
   "source": [
    "Something to be aware of is that, in Julia, **concrete types cannot be subtypes of other concrete types**. This is quite different to other languages, e.g. Python or C++, where we can have classes subclassing other classes. For example:"
   ]
  },
  {
   "cell_type": "code",
   "execution_count": 24,
   "id": "9323e0aa-8251-4d6d-b16d-d35653b94eee",
   "metadata": {},
   "outputs": [
    {
     "data": {
      "text/plain": [
       "false"
      ]
     },
     "execution_count": 24,
     "metadata": {},
     "output_type": "execute_result"
    }
   ],
   "source": [
    "# Float32 is not a type of Float64\n",
    "Float32 <: Float64"
   ]
  },
  {
   "cell_type": "markdown",
   "id": "742d11da-0b9c-4ef5-8cc3-8246498a36c0",
   "metadata": {},
   "source": [
    "### The `Any` type\n",
    "\n",
    "There is an important abstract type, called `Any`. It is the abstract type where all other types are a subtype of it. Put another way, any objects you create a instances of `Any`."
   ]
  },
  {
   "cell_type": "markdown",
   "id": "7e9653b8-0d6d-41c0-a355-d1a3594749bb",
   "metadata": {},
   "source": [
    "### Exercise: types\n",
    "\n",
    "Write code to show that:\n",
    "- `\"bob\"`, `true`, `1 + 4im` are all instances of `Any`\n",
    "- `String` is not a subtype of `Number`\n",
    "- `Char` is not a subtype of `String` (two concrete types)\n",
    "- `nothing` is an instance of `Any`"
   ]
  },
  {
   "cell_type": "code",
   "execution_count": 25,
   "id": "5df122d8-0cc7-4014-8625-8ce716657f9f",
   "metadata": {},
   "outputs": [],
   "source": [
    "# Answer here\n",
    "\n"
   ]
  },
  {
   "cell_type": "markdown",
   "id": "34cf52bb-7cca-44bf-978e-0e67c60cb1dc",
   "metadata": {},
   "source": [
    "### Summary on abstract types\n",
    "\n",
    "Abstract types allow us to view types as part of a hierarchy, which is useful for organising our code. We'll also see later that they feed into Julia's multiple dispatch system. We won't talk too much about Julia's type system in this course, but it's useful to be aware of the notion of an abstract type. To learn much more about Julia's type system, check out the [manual page on types in the Julia docs](https://docs.julialang.org/en/v1/manual/types/)."
   ]
  },
  {
   "cell_type": "markdown",
   "id": "54409e6d-07cb-443e-9892-6d5c709ba632",
   "metadata": {
    "editable": true,
    "slideshow": {
     "slide_type": ""
    },
    "tags": []
   },
   "source": [
    "# End of Section Quiz"
   ]
  },
  {
   "cell_type": "code",
   "execution_count": 26,
   "id": "9eba5947-4065-45e4-9ff6-aacc395e47ff",
   "metadata": {
    "editable": true,
    "slideshow": {
     "slide_type": ""
    },
    "tags": [
     "remove-input"
    ]
   },
   "outputs": [
    {
     "data": {
      "text/html": [
       "<style>\n",
       ".quiz-question {\n",
       "    background-color: #6c63ff;\n",
       "    color: white;\n",
       "    padding: 12px;\n",
       "    border-radius: 10px;\n",
       "    font-weight: bold;\n",
       "    font-size: 1.2em;\n",
       "    margin-bottom: 10px;\n",
       "}\n",
       "\n",
       ".quiz-form {\n",
       "    margin-bottom: 20px;\n",
       "}\n",
       "\n",
       ".quiz-answer {\n",
       "    display: block;\n",
       "    background-color: #f2f2f2;\n",
       "    border: none;\n",
       "    border-radius: 10px;\n",
       "    padding: 10px;\n",
       "    margin: 5px 0;\n",
       "    font-size: 1em;\n",
       "    cursor: pointer;\n",
       "    text-align: left;\n",
       "    transition: background-color 0.3s;\n",
       "    width: 100%;\n",
       "}\n",
       "\n",
       ".quiz-answer:hover {\n",
       "    background-color: #e0e0e0;\n",
       "}\n",
       "\n",
       ".correct {\n",
       "    background-color: #4CAF50 !important;\n",
       "    color: white !important;\n",
       "    border: none;\n",
       "}\n",
       "\n",
       ".incorrect {\n",
       "    background-color: #D32F2F !important;\n",
       "    color: white !important;\n",
       "    border: none;\n",
       "}\n",
       "\n",
       ".feedback {\n",
       "    margin-top: 10px;\n",
       "    font-weight: bold;\n",
       "    font-size: 1em;\n",
       "}\n",
       "</style>\n",
       "\n",
       "<script>\n",
       "function handleAnswer(qid, aid, feedback, isCorrect) {\n",
       "    // Reset all buttons for the question\n",
       "    let buttons = document.querySelectorAll(\".answer-\" + qid);\n",
       "    buttons.forEach(btn => {\n",
       "        btn.classList.remove('correct', 'incorrect');\n",
       "    });\n",
       "\n",
       "    // Apply correct/incorrect to selected\n",
       "    let selected = document.getElementById(aid);\n",
       "    selected.classList.add(isCorrect ? 'correct' : 'incorrect');\n",
       "\n",
       "    // Show feedback below the question\n",
       "    let feedbackBox = document.getElementById('feedback_' + qid);\n",
       "    feedbackBox.innerHTML = feedback;\n",
       "    feedbackBox.style.color = isCorrect ? 'green' : 'red';\n",
       "}\n",
       "</script>\n",
       "<div class=\"quiz-question\">Given the assignment `x = 1.4`, what happens if you reassign a new value to `x` of a different type than `Float64`?</div><form class=\"quiz-form\"><button type=\"button\" class=\"quiz-answer answer-1\" id=\"q1_a1\"\n",
       "    onclick=\"handleAnswer('1', 'q1_a1', 'Incorrect', false)\">\n",
       "    Julia throws a type error and stops execution.\n",
       "</button>\n",
       "<button type=\"button\" class=\"quiz-answer answer-1\" id=\"q1_a2\"\n",
       "    onclick=\"handleAnswer('1', 'q1_a2', 'Correct', true)\">\n",
       "    Julia accepts the new value and updates the variable's type dynamically.\n",
       "</button>\n",
       "<button type=\"button\" class=\"quiz-answer answer-1\" id=\"q1_a3\"\n",
       "    onclick=\"handleAnswer('1', 'q1_a3', 'Incorrect', false)\">\n",
       "    The variable keeps its original type and discards the new value.\n",
       "</button>\n",
       "<button type=\"button\" class=\"quiz-answer answer-1\" id=\"q1_a4\"\n",
       "    onclick=\"handleAnswer('1', 'q1_a4', 'Incorrect', false)\">\n",
       "    Julia requires a manual type conversion function before reassignment.\n",
       "</button>\n",
       "<div class=\"feedback\" id=\"feedback_1\"></div></form><hr><div class=\"quiz-question\">Considering that Julia’s default integer type depends on system architecture, what is the default data type for an integer value assigned to a variable on a typical 64-bit system?</div><form class=\"quiz-form\"><button type=\"button\" class=\"quiz-answer answer-2\" id=\"q2_a1\"\n",
       "    onclick=\"handleAnswer('2', 'q2_a1', 'Incorrect', false)\">\n",
       "    Int32\n",
       "</button>\n",
       "<button type=\"button\" class=\"quiz-answer answer-2\" id=\"q2_a2\"\n",
       "    onclick=\"handleAnswer('2', 'q2_a2', 'Correct', true)\">\n",
       "    Int64\n",
       "</button>\n",
       "<button type=\"button\" class=\"quiz-answer answer-2\" id=\"q2_a3\"\n",
       "    onclick=\"handleAnswer('2', 'q2_a3', 'Incorrect', false)\">\n",
       "    Integer\n",
       "</button>\n",
       "<button type=\"button\" class=\"quiz-answer answer-2\" id=\"q2_a4\"\n",
       "    onclick=\"handleAnswer('2', 'q2_a4', 'Incorrect', false)\">\n",
       "    Int with unspecified bit size\n",
       "</button>\n",
       "<div class=\"feedback\" id=\"feedback_2\"></div></form><hr><div class=\"quiz-question\">Which of the following code snippets will output Float64 in Julia?</div><form class=\"quiz-form\"><button type=\"button\" class=\"quiz-answer answer-3\" id=\"q3_a1\"\n",
       "    onclick=\"handleAnswer('3', 'q3_a1', 'Incorrect', false)\">\n",
       "    x = \"3.14\"; println(typeof(x))\n",
       "</button>\n",
       "<button type=\"button\" class=\"quiz-answer answer-3\" id=\"q3_a2\"\n",
       "    onclick=\"handleAnswer('3', 'q3_a2', 'Incorrect', false)\">\n",
       "    x = 3; println(typeof(x))\n",
       "</button>\n",
       "<button type=\"button\" class=\"quiz-answer answer-3\" id=\"q3_a3\"\n",
       "    onclick=\"handleAnswer('3', 'q3_a3', 'Correct', true)\">\n",
       "    x = 3.14; println(typeof(x))\n",
       "</button>\n",
       "<button type=\"button\" class=\"quiz-answer answer-3\" id=\"q3_a4\"\n",
       "    onclick=\"handleAnswer('3', 'q3_a4', 'Incorrect', false)\">\n",
       "    x = true; println(typeof(x))\n",
       "</button>\n",
       "<div class=\"feedback\" id=\"feedback_3\"></div></form><hr>"
      ]
     },
     "metadata": {},
     "output_type": "display_data"
    }
   ],
   "source": [
    "using JSON\n",
    "\n",
    "function show_quiz_from_json(path)\n",
    "    quiz_data = JSON.parsefile(path)\n",
    "\n",
    "    html = \"\"\"\n",
    "    <style>\n",
    "    .quiz-question {\n",
    "        background-color: #6c63ff;\n",
    "        color: white;\n",
    "        padding: 12px;\n",
    "        border-radius: 10px;\n",
    "        font-weight: bold;\n",
    "        font-size: 1.2em;\n",
    "        margin-bottom: 10px;\n",
    "    }\n",
    "\n",
    "    .quiz-form {\n",
    "        margin-bottom: 20px;\n",
    "    }\n",
    "\n",
    "    .quiz-answer {\n",
    "        display: block;\n",
    "        background-color: #f2f2f2;\n",
    "        border: none;\n",
    "        border-radius: 10px;\n",
    "        padding: 10px;\n",
    "        margin: 5px 0;\n",
    "        font-size: 1em;\n",
    "        cursor: pointer;\n",
    "        text-align: left;\n",
    "        transition: background-color 0.3s;\n",
    "        width: 100%;\n",
    "    }\n",
    "\n",
    "    .quiz-answer:hover {\n",
    "        background-color: #e0e0e0;\n",
    "    }\n",
    "\n",
    "    .correct {\n",
    "        background-color: #4CAF50 !important;\n",
    "        color: white !important;\n",
    "        border: none;\n",
    "    }\n",
    "\n",
    "    .incorrect {\n",
    "        background-color: #D32F2F !important;\n",
    "        color: white !important;\n",
    "        border: none;\n",
    "    }\n",
    "\n",
    "    .feedback {\n",
    "        margin-top: 10px;\n",
    "        font-weight: bold;\n",
    "        font-size: 1em;\n",
    "    }\n",
    "    </style>\n",
    "\n",
    "    <script>\n",
    "    function handleAnswer(qid, aid, feedback, isCorrect) {\n",
    "        // Reset all buttons for the question\n",
    "        let buttons = document.querySelectorAll(\".answer-\" + qid);\n",
    "        buttons.forEach(btn => {\n",
    "            btn.classList.remove('correct', 'incorrect');\n",
    "        });\n",
    "\n",
    "        // Apply correct/incorrect to selected\n",
    "        let selected = document.getElementById(aid);\n",
    "        selected.classList.add(isCorrect ? 'correct' : 'incorrect');\n",
    "\n",
    "        // Show feedback below the question\n",
    "        let feedbackBox = document.getElementById('feedback_' + qid);\n",
    "        feedbackBox.innerHTML = feedback;\n",
    "        feedbackBox.style.color = isCorrect ? 'green' : 'red';\n",
    "    }\n",
    "    </script>\n",
    "    \"\"\"\n",
    "\n",
    "    for (i, question) in enumerate(quiz_data)\n",
    "        qid = \"$i\"\n",
    "        html *= \"\"\"<div class=\"quiz-question\">$(question[\"question\"])</div><form class=\"quiz-form\">\"\"\"\n",
    "\n",
    "        for (j, answer) in enumerate(question[\"answers\"])\n",
    "            aid = \"q$(i)_a$(j)\"\n",
    "            feedback = answer[\"feedback\"]\n",
    "            correct = startswith(lowercase(feedback), \"correct\")\n",
    "            html *= \"\"\"\n",
    "            <button type=\"button\" class=\"quiz-answer answer-$qid\" id=\"$aid\"\n",
    "                onclick=\"handleAnswer('$qid', '$aid', '$feedback', $(correct))\">\n",
    "                $(answer[\"answer\"])\n",
    "            </button>\n",
    "            \"\"\"\n",
    "        end\n",
    "\n",
    "        html *= \"\"\"<div class=\"feedback\" id=\"feedback_$qid\"></div></form><hr>\"\"\"\n",
    "    end\n",
    "\n",
    "    display(\"text/html\", html)\n",
    "end\n",
    "\n",
    "\n",
    "# Use the function\n",
    "show_quiz_from_json(\"questions/summary_variables.json\")"
   ]
  }
 ],
 "metadata": {
  "kernelspec": {
   "display_name": "Julia 1.10.9",
   "language": "julia",
   "name": "julia-1.10"
  },
  "language_info": {
   "file_extension": ".jl",
   "mimetype": "application/julia",
   "name": "julia",
   "version": "1.10.9"
  }
 },
 "nbformat": 4,
 "nbformat_minor": 5
}
