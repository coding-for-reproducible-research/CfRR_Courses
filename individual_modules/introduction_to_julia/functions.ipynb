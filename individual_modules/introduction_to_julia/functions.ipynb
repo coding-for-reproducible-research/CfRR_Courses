{
 "cells": [
  {
   "cell_type": "markdown",
   "id": "9013269d-7a83-44df-ada7-05083bec2596",
   "metadata": {
    "editable": true,
    "slideshow": {
     "slide_type": ""
    },
    "tags": []
   },
   "source": [
    "# Functions \n",
    "\n",
    "## Learning Objectives\n",
    "\n",
    "- Define and call functions in Julia \n",
    "- Understand multiple dispatch and implement function methods that handle different types of inputs\n",
    "- Understand the `!` naming convention and when to use it\n",
    "- Use anonymous (lambda) functions for short snippets of functionality \n",
    "- Understand the value of organising code into functions\n",
    "\n",
    "## Defining Functions\n",
    "\n",
    "In Julia, you define a function using the `function` keyword (and terminate with `end`) or using a shorter one-line syntax. Functions are objects in Julia, and you can assign them to variables, pass them as arguments, etc.\n",
    "\n",
    "A simple function definition would be: \n",
    "```Julia \n",
    "function say_hello(name)\n",
    "    println(\"Hello, \", name, \"!\")\n",
    "end\n",
    "```\n",
    "\n",
    "This function, `say_hello`, takes one argument `name` and prints a greeting. You would call it like `say_hello(\"Alice\")`.\n",
    "\n",
    "We return values from a function by using the `return` keyword. If you omit `return`, Julia will return the **value of the last expression** in the function (much like in R). For example:  "
   ]
  },
  {
   "cell_type": "code",
   "execution_count": 1,
   "id": "f9013320-d085-4760-8abe-df58531ea9a9",
   "metadata": {
    "editable": true,
    "slideshow": {
     "slide_type": ""
    },
    "tags": []
   },
   "outputs": [
    {
     "name": "stdout",
     "output_type": "stream",
     "text": [
      "9\n",
      "27\n"
     ]
    }
   ],
   "source": [
    "# Function to square a number (explicit return)\n",
    "function square(x)\n",
    "    return x * x\n",
    "end\n",
    "\n",
    "# Function to cube a number (implicit return of last expression)\n",
    "function cube(x)\n",
    "    x\n",
    "    x * x\n",
    "    x * x * x   # last expression's value will be returned\n",
    "end\n",
    "println(square(3))\n",
    "println(cube(3))"
   ]
  },
  {
   "cell_type": "markdown",
   "id": "c6e001e7-146c-4165-8f84-cec148f9730a",
   "metadata": {
    "editable": true,
    "slideshow": {
     "slide_type": ""
    },
    "tags": []
   },
   "source": [
    "Julia also provides a concise **single-line function definition** syntax: \n",
    "```Julia \n",
    "add(a, b) = a + b\n",
    "```\n",
    "\n",
    "This defines a function `add` that returns `a+b`. It's equivalent to writing a multi-line function that returns `a+b`. You can use whichever style you find clearer; the multi-line form is helpful for longer-function bodies. "
   ]
  },
  {
   "cell_type": "markdown",
   "id": "755ecc75-c491-4339-8a38-991f2cb2602f",
   "metadata": {
    "editable": true,
    "slideshow": {
     "slide_type": ""
    },
    "tags": []
   },
   "source": [
    "For example, the function below is a function that can be used to calculate the area of a circle given its radius: "
   ]
  },
  {
   "cell_type": "code",
   "execution_count": 2,
   "id": "2ca3b6ed-da7d-48ff-9a7f-ad4015c15520",
   "metadata": {
    "editable": true,
    "slideshow": {
     "slide_type": ""
    },
    "tags": []
   },
   "outputs": [
    {
     "name": "stdout",
     "output_type": "stream",
     "text": [
      "Radius: 5.0, Area: 78.53981633974483\n"
     ]
    }
   ],
   "source": [
    "# Calculate area of a circle with given radius\n",
    "function calculate_circle_area(radius)\n",
    "    area = π * radius^2   # Julia has π predefined (or use 3.14159 for Pi)\n",
    "    return area\n",
    "end\n",
    "\n",
    "r = 5.0\n",
    "println(\"Radius: \", r, \", Area: \", calculate_circle_area(r))"
   ]
  },
  {
   "cell_type": "markdown",
   "id": "5943d39a-ea90-4644-971c-53e7d5ac1253",
   "metadata": {
    "editable": true,
    "slideshow": {
     "slide_type": ""
    },
    "tags": []
   },
   "source": [
    "Note: In the REPL or in most editors with the Julia extension (e.g. VS Code), to get the character `π` you can type a backslash, `pi`, then hit Tab. Julia will replace it with the single-character π."
   ]
  },
  {
   "cell_type": "markdown",
   "id": "2d3d6d16-5122-43ac-876d-693fd533ed19",
   "metadata": {
    "editable": true,
    "slideshow": {
     "slide_type": ""
    },
    "tags": []
   },
   "source": [
    "The different components of a function within Julia are: \n",
    "\n",
    "- **Function Name**: e.g. `calculate_circle_area` in the example above. By convention, use lowercase and underscores for multi-word names. \n",
    "- **Parameters (Arguments)**: e.g. `radius`. You can optionally add a type annotation to a parameter (like `radius::Float64`) to indicate this function is for a specific type. Still, if you leave it untyped, it will accept any types that support the operations used inside. \n",
    "- **Function Body**: the code inside, which can use the parameters. In our case, we compute `area`. \n",
    "- **Return value**: the value returned by the function. In the circle example, we used `return` for clarity, but we could also write `π * radius^2` as the last line and omit `return`. \n",
    "\n",
    "### Exercise: Writing a function\n",
    "\n",
    "Write a function `f_to_c(fahrenheit)` that converts a temperature from Fahrenheit to Celsius. The formula is $C = (5/9) \\times (F - 32)$. Test your function with a couple of values; we should have\n",
    "```julia\n",
    "f_to_c(32) == 0\n",
    "f_to_c(212) == 100\n",
    "```"
   ]
  },
  {
   "cell_type": "code",
   "execution_count": 3,
   "id": "f6272325-5948-4e6d-98f0-5aa73d6549c5",
   "metadata": {
    "editable": true,
    "slideshow": {
     "slide_type": ""
    },
    "tags": []
   },
   "outputs": [],
   "source": [
    "# Answer here\n",
    "\n"
   ]
  },
  {
   "cell_type": "markdown",
   "id": "c92df019-4e40-42a1-8d7b-0f91e5ccaed3",
   "metadata": {
    "editable": true,
    "slideshow": {
     "slide_type": ""
    },
    "tags": []
   },
   "source": [
    "## Keyword Arguments\n",
    "\n",
    "Similarly to Python and R, Julia functions can also accept **keyword arguments**, which are specified by a name/value pair, with a given default value. These are defined after a semicolon (`;`) in the function signature:"
   ]
  },
  {
   "cell_type": "code",
   "execution_count": 4,
   "id": "6fc1f212-d6e9-4319-a4fa-6384d6b7c24b",
   "metadata": {
    "editable": true,
    "slideshow": {
     "slide_type": ""
    },
    "tags": []
   },
   "outputs": [
    {
     "name": "stdout",
     "output_type": "stream",
     "text": [
      "12.35 (kg)\n",
      "12.346 (kg)\n",
      "12.35 (meters)\n",
      "12.3 (m)\n"
     ]
    }
   ],
   "source": [
    "# Return a string that describes a number with given unit and precision\n",
    "# Note: `round` rounds a number to a given number of decimal places\n",
    "function describe(x; unit=\"kg\", precision=2)\n",
    "    formatted = round(x; digits=precision)\n",
    "    return \"$formatted ($unit)\"\n",
    "end\n",
    "\n",
    "# Calls:\n",
    "println(describe(12.3456))                         # uses defaults: \"12.35 (kg)\"\n",
    "println(describe(12.3456; precision=3))            # \"12.346 (kg)\"\n",
    "println(describe(12.3456; unit=\"meters\"))          # \"12.35 (meters)\"\n",
    "println(describe(12.3456; unit=\"m\", precision=1))  # \"12.3 (m)\""
   ]
  },
  {
   "cell_type": "markdown",
   "id": "48b83c54-79bd-448d-8148-a9632f83a4bd",
   "metadata": {
    "editable": true,
    "slideshow": {
     "slide_type": ""
    },
    "tags": []
   },
   "source": [
    "Note that the general syntax for calling a function with arguments and keyword arguments is:\n",
    "\n",
    "```julia \n",
    "fn(arg1, arg2; kwarg1=value1, kwarg2=value2)\n",
    "```\n",
    "\n",
    "Note also that\n",
    "- Argument order matters: `fn(arg1, arg2)` is not the same as `fn(arg2, arg1)`\n",
    "- Keyword argument order does **not** matter, because the keyword names make order unnecessary:\n",
    "\n",
    "  ```julia\n",
    "  # These are equivalent\n",
    "  fn(arg; kwarg1=value1, kwarg2=value2)\n",
    "  fn(arg; kwarg2=value2, kwarg1=value1)\n",
    "  ```"
   ]
  },
  {
   "cell_type": "markdown",
   "id": "15a8d36e-7be6-46ba-9c67-39462a465425",
   "metadata": {
    "editable": true,
    "slideshow": {
     "slide_type": ""
    },
    "tags": []
   },
   "source": [
    "## Multiple Dispatch \n",
    "\n",
    "Multiple dispatch was introduced conceptually earlier; now, let's see how to implement it with functions.\n",
    "\n",
    "In Julia, a function should really be thought of as a **collection of methods for implementing it**. We define *generic* functions which dispatch to specific methods of implementation, depending on the type of the arguments supplied. Put another way, we can define different methods for the same function name which correspond to different parameter type signatures. Julia will dispatch (choose) the method that most precisely matches the types of the actual arguments you pass. \n",
    "\n",
    "Julia will check the types of **all** the arguments of a function call when determing which method to apply. This is what is meant by **multiple dispatch**: here, the 'multiple' refers to the fact that the types of all the arguments are considered, rather than e.g. just the first argument (which is what is done in R's 'generic functions', for example).\n",
    "\n",
    "It's important to remember that there is **no dispatch on keyword arguments**. Julia's multiple-dispatch mechanism examines **only** the type of **positional** arguments."
   ]
  },
  {
   "cell_type": "markdown",
   "id": "9024c8ae-04c2-45a5-90d4-2c6b76edd09b",
   "metadata": {
    "editable": true,
    "slideshow": {
     "slide_type": ""
    },
    "tags": []
   },
   "source": [
    "### Extended example: an `add` function\n",
    "\n",
    "Imagine we want an add function that behaves differently based on argument types: "
   ]
  },
  {
   "cell_type": "code",
   "execution_count": 5,
   "id": "90c8cd1b-f113-430c-ae87-95ecc327f8d0",
   "metadata": {
    "editable": true,
    "slideshow": {
     "slide_type": ""
    },
    "tags": []
   },
   "outputs": [
    {
     "name": "stdout",
     "output_type": "stream",
     "text": [
      "30\n",
      "Helloworld!\n"
     ]
    }
   ],
   "source": [
    "# Define add for two Ints\n",
    "function add(x::Int, y::Int)\n",
    "    x + y\n",
    "end\n",
    "\n",
    "# Define add for two Strings (concatenate)\n",
    "function add(x::String, y::String)\n",
    "    return string(x, y)\n",
    "end\n",
    "\n",
    "println(add(10, 20))        \n",
    "println(add(\"Hello\", \"world!\"))"
   ]
  },
  {
   "cell_type": "markdown",
   "id": "a666b1d0-56d0-4118-aee6-d5216ff811d1",
   "metadata": {
    "editable": true,
    "slideshow": {
     "slide_type": ""
    },
    "tags": []
   },
   "source": [
    "We defined two methods for `add`: one that accepts two `Int` and one that accepts two `String`. When we call `add(10, 20)`, Julia sees both arguments as `Int` and uses the integer addition method. When we call `add(\"Hello\", \"world!\")`, both are `String`, so it uses the string concatenation method. The same function name, `add`, is used, but the behaviour differs by the type of arguments.\n",
    "\n",
    "If we try to call the function `add` on a set of arguments for which there is no method defined, a `MethodError` will be thrown:"
   ]
  },
  {
   "cell_type": "code",
   "execution_count": 6,
   "id": "ba047e98-2bcf-4e07-a71b-48868ae04f69",
   "metadata": {},
   "outputs": [
    {
     "ename": "LoadError",
     "evalue": "MethodError: no method matching add(::Int64, ::String)\n\n\u001b[0mClosest candidates are:\n\u001b[0m  add(\u001b[91m::String\u001b[39m, ::String)\n\u001b[0m\u001b[90m   @\u001b[39m \u001b[35mMain\u001b[39m \u001b[90m\u001b[4mIn[5]:7\u001b[24m\u001b[39m\n\u001b[0m  add(::Int64, \u001b[91m::Int64\u001b[39m)\n\u001b[0m\u001b[90m   @\u001b[39m \u001b[35mMain\u001b[39m \u001b[90m\u001b[4mIn[5]:2\u001b[24m\u001b[39m\n",
     "output_type": "error",
     "traceback": [
      "MethodError: no method matching add(::Int64, ::String)\n\n\u001b[0mClosest candidates are:\n\u001b[0m  add(\u001b[91m::String\u001b[39m, ::String)\n\u001b[0m\u001b[90m   @\u001b[39m \u001b[35mMain\u001b[39m \u001b[90m\u001b[4mIn[5]:7\u001b[24m\u001b[39m\n\u001b[0m  add(::Int64, \u001b[91m::Int64\u001b[39m)\n\u001b[0m\u001b[90m   @\u001b[39m \u001b[35mMain\u001b[39m \u001b[90m\u001b[4mIn[5]:2\u001b[24m\u001b[39m\n",
      "",
      "Stacktrace:",
      " [1] top-level scope",
      "   @ In[6]:2"
     ]
    }
   ],
   "source": [
    "# Error: not defined for Int, String\n",
    "add(1, \"hello\")"
   ]
  },
  {
   "cell_type": "code",
   "execution_count": 7,
   "id": "203e17c6-f031-4458-9f68-0a9d0682ccab",
   "metadata": {},
   "outputs": [
    {
     "ename": "LoadError",
     "evalue": "MethodError: no method matching add(::Int64, ::Int64, ::Int64)\n\n\u001b[0mClosest candidates are:\n\u001b[0m  add(::Int64, ::Int64)\n\u001b[0m\u001b[90m   @\u001b[39m \u001b[35mMain\u001b[39m \u001b[90m\u001b[4mIn[5]:2\u001b[24m\u001b[39m\n",
     "output_type": "error",
     "traceback": [
      "MethodError: no method matching add(::Int64, ::Int64, ::Int64)\n\n\u001b[0mClosest candidates are:\n\u001b[0m  add(::Int64, ::Int64)\n\u001b[0m\u001b[90m   @\u001b[39m \u001b[35mMain\u001b[39m \u001b[90m\u001b[4mIn[5]:2\u001b[24m\u001b[39m\n",
      "",
      "Stacktrace:",
      " [1] top-level scope",
      "   @ In[7]:2"
     ]
    }
   ],
   "source": [
    "# Error: not defined for more than two Ints\n",
    "add(1, 2, 3)"
   ]
  },
  {
   "cell_type": "markdown",
   "id": "12769ba6-f027-48f2-8f6d-cf4e93a416ee",
   "metadata": {},
   "source": [
    "Let's now implement extra methods to handle these cases. We'll handle the case where a user can supply and `Int` and a `String`: our function `add` will convert the integer to a string and then use string concatenation."
   ]
  },
  {
   "cell_type": "code",
   "execution_count": 8,
   "id": "3f2a79ca-6003-4607-b60b-8119890fe2e4",
   "metadata": {},
   "outputs": [
    {
     "data": {
      "text/plain": [
       "add (generic function with 4 methods)"
      ]
     },
     "execution_count": 8,
     "metadata": {},
     "output_type": "execute_result"
    }
   ],
   "source": [
    "# Add an Int and a String (using one-line method definition)\n",
    "add(x::Int, y::String) = add(string(x), y)\n",
    "\n",
    "# And vice-versa\n",
    "add(x::String, y::Int) = add(x, string(y))"
   ]
  },
  {
   "cell_type": "markdown",
   "id": "7281798a-7e40-423c-9120-7ea079695779",
   "metadata": {},
   "source": [
    "Notice how Julia keeps track of the number of methods we've defined for `add`.\n",
    "\n",
    "Notice also how the above implementations utilise other methods of `add` that we defined earlier. This is a common pattern: it allows us to avoid repeating similar code, which makes it easier to maintain. It also implements `add` for these mixed types on a more conceptual level: *first convert the integer to a string, then use whatever method we defined for adding two strings together*.\n",
    "\n",
    "#### Exercise: adding more methods\n",
    "\n",
    "Add methods to handle the cases where\n",
    "- A single `Int` or `String` is provided\n",
    "- Three `Int`s are provided (performs usual arithmetic addition)\n",
    "- Three `String`s are provided (performs string concatenation)\n",
    "\n",
    "Try to use previously implementated methods of `add` where possible."
   ]
  },
  {
   "cell_type": "code",
   "execution_count": 9,
   "id": "6076fdcd-7e84-4ff7-8eac-cfc65b2b34bc",
   "metadata": {},
   "outputs": [],
   "source": [
    "# Answer here\n",
    "\n"
   ]
  },
  {
   "cell_type": "markdown",
   "id": "87eaafe0-0ab1-4fb3-b1f9-42bf62fae53a",
   "metadata": {
    "editable": true,
    "slideshow": {
     "slide_type": ""
    },
    "tags": []
   },
   "source": [
    "### Extending to handle more general types\n",
    "\n",
    "How could we extend `add` to handle more types? It is clearly impractical to keep adding more methods on concrete types (for example, adding an `add(x::Float64, y::Float64)` or a mixed `add(x::Int, y::Float64)` etc.) Let's make the decision that, for any two objects `x` and `y`, the function `add` should perform usual numerical addition if `x` and `y` are both numbers, otherwise they should be converted to strings and concatenated. Julia makes this simple to do. We define a method for `add` that works on any two objects as follows:"
   ]
  },
  {
   "cell_type": "code",
   "execution_count": 10,
   "id": "0535dc96-91cc-41c1-a2db-86638c7d7a49",
   "metadata": {},
   "outputs": [
    {
     "data": {
      "text/plain": [
       "add (generic function with 5 methods)"
      ]
     },
     "execution_count": 10,
     "metadata": {},
     "output_type": "execute_result"
    }
   ],
   "source": [
    "# Generic add for any two objects\n",
    "function add(x, y)\n",
    "    return string(x, y)  # converts x and y to strings then concatenates\n",
    "end"
   ]
  },
  {
   "cell_type": "markdown",
   "id": "0bf52b6e-3eff-4a19-bcca-9d520fc24774",
   "metadata": {},
   "source": [
    "Note that this is equivalent to specifying\n",
    "```julia\n",
    "function add(x::Any, y::Any)\n",
    "    return string(x, y)  # converts x and y to strings then concatenates\n",
    "end\n",
    "```"
   ]
  },
  {
   "cell_type": "markdown",
   "id": "b51c10dd-fef7-4d00-af44-272854e0b14d",
   "metadata": {
    "editable": true,
    "slideshow": {
     "slide_type": ""
    },
    "tags": []
   },
   "source": [
    "Let's now evaluate `add` on some different combinations of object. As mentioned briefly above, the key thing to remember is\n",
    "\n",
    "> **When applying a function, Julia will use the method whose type signature most precisely matches (i.e. is most 'specialized' to) the types of the given arguments.**\n",
    "\n",
    "Consider the following calls to `add`:"
   ]
  },
  {
   "cell_type": "code",
   "execution_count": 11,
   "id": "91b257a3-0a45-4c51-840d-ef6e6fdecba9",
   "metadata": {},
   "outputs": [
    {
     "name": "stdout",
     "output_type": "stream",
     "text": [
      "(String, NamedTuple): foo(a = 1, b = 2)\n",
      "(Int, Array): 1[2, 3]\n",
      "(Int, Int): 3\n"
     ]
    }
   ],
   "source": [
    "# String, NamedTuple\n",
    "println(\"(String, NamedTuple): \", add(\"foo\", (a = 1, b = 2)))\n",
    "\n",
    "# Int, Array\n",
    "println(\"(Int, Array): \", add(1, [2, 3]))\n",
    "\n",
    "# Int, Int\n",
    "println(\"(Int, Int): \", add(1, 2))"
   ]
  },
  {
   "cell_type": "markdown",
   "id": "8471c64c-c6c8-48e9-9893-2877431140b7",
   "metadata": {},
   "source": [
    "Notice that the method that got evaluated for `(Int, Int)` was the one we defined earlier:\n",
    "```julia\n",
    "function add(x::Int, y::Int)\n",
    "    return x + y\n",
    "end\n",
    "```\n",
    "since this is more specialized to the types of the arguments than the general `add(::Any, ::Any)` version we defined a moment ago.\n",
    "\n",
    "In contrast, notice what happens if we supply an `Int` and a `Float64`:"
   ]
  },
  {
   "cell_type": "code",
   "execution_count": 12,
   "id": "6fae928e-0537-4112-976f-f47b7dd8be26",
   "metadata": {},
   "outputs": [
    {
     "name": "stdout",
     "output_type": "stream",
     "text": [
      "(Int, Float64): 12.2\n"
     ]
    }
   ],
   "source": [
    "# Int, Float64\n",
    "println(\"(Int, Float64): \", add(1, 2.2))"
   ]
  },
  {
   "cell_type": "markdown",
   "id": "a4e73256-44f1-457c-9cf2-408596df66d6",
   "metadata": {},
   "source": [
    "The version of `add` that gets applied is the `add(::Any, ::Any)` version, because there isn't a more specialized method available. To fix this, let's recall that all the numerical types defined in Julia are (concrete) subtypes of the abstract type `Number`. Julia knows how to evaluate `a + b` where `a` and `b` are instances of `Number`. We can therefore define "
   ]
  },
  {
   "cell_type": "code",
   "execution_count": 13,
   "id": "dc6bdf2e-d5ad-4bd0-ae93-f6679e270cd0",
   "metadata": {},
   "outputs": [
    {
     "data": {
      "text/plain": [
       "add (generic function with 6 methods)"
      ]
     },
     "execution_count": 13,
     "metadata": {},
     "output_type": "execute_result"
    }
   ],
   "source": [
    "# Add for any two numbers\n",
    "function add(x::Number, y::Number)\n",
    "    return x + y\n",
    "end"
   ]
  },
  {
   "cell_type": "markdown",
   "id": "15b47dad-aeb7-4220-a73f-740a70270a11",
   "metadata": {},
   "source": [
    "This method is specialized to the case where `x` and `y` are subtypes of `Number`, so now `add` will perform numerical addition whenever we supply two numbers (be they `Int`, `Float64`, `Complex`, etc.)"
   ]
  },
  {
   "cell_type": "code",
   "execution_count": 14,
   "id": "abab1a36-1024-417e-a3d7-f5b6bfba5df2",
   "metadata": {},
   "outputs": [
    {
     "name": "stdout",
     "output_type": "stream",
     "text": [
      "(Int, Float64): 3.2\n"
     ]
    }
   ],
   "source": [
    "# Int, Float64 (again)\n",
    "println(\"(Int, Float64): \", add(1, 2.2))"
   ]
  },
  {
   "cell_type": "markdown",
   "id": "b4ff3825-8cd3-494f-b346-770cf0f1b3b4",
   "metadata": {},
   "source": [
    "### Listing methods\n",
    "\n",
    "You can list out all methods defined for a function with the `methods` function:"
   ]
  },
  {
   "cell_type": "code",
   "execution_count": 15,
   "id": "68d60f05-7d23-465f-aba7-7669a70a93b1",
   "metadata": {},
   "outputs": [
    {
     "data": {
      "text/html": [
       "# 6 methods for generic function <b>add</b> from \u001b[35mMain\u001b[39m:<ul><li> add(x::<b>String</b>, y::<b>Int64</b>) in Main at In[8]:5</li> <li> add(x::<b>Int64</b>, y::<b>String</b>) in Main at In[8]:2</li> <li> add(x::<b>String</b>, y::<b>String</b>) in Main at In[5]:7</li> <li> add(x::<b>Int64</b>, y::<b>Int64</b>) in Main at In[5]:2</li> <li> add(x::<b>Number</b>, y::<b>Number</b>) in Main at In[13]:2</li> <li> add(x, y) in Main at In[10]:2</li> </ul>"
      ],
      "text/plain": [
       "# 6 methods for generic function \"add\" from \u001b[35mMain\u001b[39m:\n",
       " [1] add(\u001b[90mx\u001b[39m::\u001b[1mString\u001b[22m, \u001b[90my\u001b[39m::\u001b[1mInt64\u001b[22m)\n",
       "\u001b[90m     @\u001b[39m \u001b[90m\u001b[4mIn[8]:5\u001b[24m\u001b[39m\n",
       " [2] add(\u001b[90mx\u001b[39m::\u001b[1mInt64\u001b[22m, \u001b[90my\u001b[39m::\u001b[1mString\u001b[22m)\n",
       "\u001b[90m     @\u001b[39m \u001b[90m\u001b[4mIn[8]:2\u001b[24m\u001b[39m\n",
       " [3] add(\u001b[90mx\u001b[39m::\u001b[1mString\u001b[22m, \u001b[90my\u001b[39m::\u001b[1mString\u001b[22m)\n",
       "\u001b[90m     @\u001b[39m \u001b[90m\u001b[4mIn[5]:7\u001b[24m\u001b[39m\n",
       " [4] add(\u001b[90mx\u001b[39m::\u001b[1mInt64\u001b[22m, \u001b[90my\u001b[39m::\u001b[1mInt64\u001b[22m)\n",
       "\u001b[90m     @\u001b[39m \u001b[90m\u001b[4mIn[5]:2\u001b[24m\u001b[39m\n",
       " [5] add(\u001b[90mx\u001b[39m::\u001b[1mNumber\u001b[22m, \u001b[90my\u001b[39m::\u001b[1mNumber\u001b[22m)\n",
       "\u001b[90m     @\u001b[39m \u001b[90m\u001b[4mIn[13]:2\u001b[24m\u001b[39m\n",
       " [6] add(\u001b[90mx\u001b[39m, \u001b[90my\u001b[39m)\n",
       "\u001b[90m     @\u001b[39m \u001b[90m\u001b[4mIn[10]:2\u001b[24m\u001b[39m"
      ]
     },
     "execution_count": 15,
     "metadata": {},
     "output_type": "execute_result"
    }
   ],
   "source": [
    "# See all methods for `add`\n",
    "methods(add)"
   ]
  },
  {
   "attachments": {},
   "cell_type": "markdown",
   "id": "4bbdb97f-beec-4b81-86a7-83a4d426d755",
   "metadata": {},
   "source": [
    "#### Exercise: summing up\n",
    "\n",
    "Knowing what you now know about Julia's dispatch mechanism, what's the minimum number of methods you would need to define if we were to implement `add(x, y)` again from scratch (for two arguments only)?\n",
    "\n",
    "#### Exercise: extension to 3 args\n",
    "\n",
    "Joe Bloggs is looking to extend `add` to handle 3 arguments. He claims \"Ah, this is easy, all we need to do is define\n",
    "```julia\n",
    "add(x, y, z) = add(add(x, y), z)\n",
    "```\n",
    "and we're done!\" Is Joe correct? Why / why not?"
   ]
  },
  {
   "cell_type": "markdown",
   "id": "762caa5b-9cb5-4321-bf8d-ee28f124dac4",
   "metadata": {
    "editable": true,
    "slideshow": {
     "slide_type": ""
    },
    "tags": []
   },
   "source": [
    "### Why Multiple Dispatch Matters \n",
    "\n",
    "Allowing functions to handle a range of argument types allows us to build up flexible and general code rather quickly: it's not uncommon to define a new function in Julia that is implemented with other functions in such a way that the new function automatically support a large variety of different argument types 'for free'. This is supported by Julia's standard library, which provides a rich set of functions with methods supporting a variety of standard types.\n",
    "\n",
    "The benefits of this are:\n",
    "\n",
    "- **Performance**: Julia will pick the most specific method and compile optimised machine code for that method. This is especially valuable for methods that get called multiple times (e.g. within a loop). To make best use of this, it's important to ensure we write functions in a way that allows Julia to infer the types input/output at each step of the computation (more about this later in the course).\n",
    "- **Extensibility and flexibility**: Code can be written in a way to provide special cases for specific types when needed. Users can add new methods to functions (even those from the standard library or other packages) for new types they define without modifying the original code, a form of polymorphism.\n",
    "- **Clarity**: We can use the dispatch mechanism instead of writing functions with long chains of type-checking `if-else` statements.\n",
    "\n",
    "Multiple dispatch is particularly well-suited to mathematical code, where operations might naturally be defined by any combinations of operand types (e.g., mixing units, numeric types, etc.) Other languages typically only dispatch on a single argument (R generic functions) or class type (Python, Java), meaning there is one argument / object that 'owns' the method. This latter approach can sometimes feel unnatural in scientific code."
   ]
  },
  {
   "cell_type": "markdown",
   "id": "92a87cac-823f-44b6-8ad4-9a39fc2bfb98",
   "metadata": {
    "editable": true,
    "slideshow": {
     "slide_type": ""
    },
    "tags": []
   },
   "source": [
    "## The `!` naming convention for mutating functions\n",
    "\n",
    "It is a good idea to make it clear when a function mutates (i.e. changes) one or more of its arguments: it is very easy to end up with incorrect code when some function has quietly mutated the value of a variable. In Julia, there is a convention that any function mutating one or more of its arguments should have a name ending in `!`. This \"bang\" signals to users that the function will perform in-place modification rather than returning a new object.\n",
    "\n",
    "This convention is used with some of the base functions provided in Julia. Arrays are a good source of examples:"
   ]
  },
  {
   "cell_type": "code",
   "execution_count": 16,
   "id": "c42e667f-ddee-4cc5-b8de-a725cac617e2",
   "metadata": {
    "editable": true,
    "slideshow": {
     "slide_type": ""
    },
    "tags": []
   },
   "outputs": [
    {
     "name": "stdout",
     "output_type": "stream",
     "text": [
      "[1, 2, 3]\n",
      "[1, 2, 3, 4]\n",
      "[1, 2, 3]\n",
      "[1, 2, 3, 5, 6]\n"
     ]
    }
   ],
   "source": [
    "arr = [3, 1, 2]\n",
    "\n",
    "# Sort in-place\n",
    "sort!(arr)\n",
    "println(arr)\n",
    "\n",
    "# Append 4 to the array\n",
    "push!(arr, 4)\n",
    "println(arr)\n",
    "\n",
    "# Remove and return the last element\n",
    "pop!(arr)\n",
    "println(arr)\n",
    "\n",
    "# Concatenate another collection into the array\n",
    "append!(arr, [5,6])\n",
    "println(arr)"
   ]
  },
  {
   "cell_type": "markdown",
   "id": "4935d027-a099-4b98-a56d-d99db7c5a64e",
   "metadata": {
    "editable": true,
    "slideshow": {
     "slide_type": ""
    },
    "tags": []
   },
   "source": [
    "## Anonymous Functions\n",
    "\n",
    "Sometimes, you need a small throwaway function to pass as an argument to another function. Julia allows creating **anonymous functions** using the -> syntax. These are similar to the \"lambda\" functions in Python.\n",
    "\n",
    "For example, suppose we have an array of numbers, and we want to square each of them. We can use the `map` function to do this, takes a function and an array as arguments and returns the result of applying the function to each element of the array:\n",
    "\n",
    "```\n",
    "arr = [x1, x2, x3, ...]  ==>  map(f, arr) = [f(x1), f(x2), f(x3), ...]\n",
    "```\n",
    "\n",
    "We could define a function called `square` and then use this in map:\n",
    "\n",
    "```julia\n",
    "square(x) = x^2\n",
    "map(square, arr)\n",
    "```\n",
    "\n",
    "Alternatively, we can write this in one line by using an anonymous function for squaring: `x -> x^2`. Here, `x` is the input, and `x^2` is the output. (It doesn't matter that we used `x` for the variable, we could have used another name, like `y` or `foo`.) "
   ]
  },
  {
   "cell_type": "code",
   "execution_count": 17,
   "id": "1fa474f1-9085-4fa3-80e9-90211ea59713",
   "metadata": {
    "editable": true,
    "slideshow": {
     "slide_type": ""
    },
    "tags": []
   },
   "outputs": [
    {
     "data": {
      "text/plain": [
       "5-element Vector{Int64}:\n",
       "  1\n",
       "  4\n",
       "  9\n",
       " 16\n",
       " 25"
      ]
     },
     "execution_count": 17,
     "metadata": {},
     "output_type": "execute_result"
    }
   ],
   "source": [
    "numbers = [1, 2, 3, 4, 5]\n",
    "\n",
    "# Square each number\n",
    "map(x -> x^2, numbers)"
   ]
  },
  {
   "cell_type": "markdown",
   "id": "9a08a889-6040-4d52-9bde-60c1b50092a1",
   "metadata": {
    "editable": true,
    "slideshow": {
     "slide_type": ""
    },
    "tags": []
   },
   "source": [
    "You can assign an anonymous function to a variable if you want to reuse it: "
   ]
  },
  {
   "cell_type": "code",
   "execution_count": 18,
   "id": "3e9cc925-d1a8-4a8e-8347-fbf8d5a62c47",
   "metadata": {
    "editable": true,
    "slideshow": {
     "slide_type": ""
    },
    "tags": []
   },
   "outputs": [
    {
     "ename": "LoadError",
     "evalue": "invalid redefinition of constant Main.square",
     "output_type": "error",
     "traceback": [
      "invalid redefinition of constant Main.square",
      "",
      "Stacktrace:",
      " [1] top-level scope",
      "   @ In[18]:2"
     ]
    }
   ],
   "source": [
    "# Define a square function using an anonymous function\n",
    "square = x -> x^2\n",
    "square(10)"
   ]
  },
  {
   "cell_type": "markdown",
   "id": "10f2967d-5469-454f-bc30-094247096e1a",
   "metadata": {
    "editable": true,
    "slideshow": {
     "slide_type": ""
    },
    "tags": []
   },
   "source": [
    "However, if you're going to name it, a standard function definition is often clearer, So typically, we only use the `->` syntax inline when passing to other functions or for short-lived usage. \n",
    "\n",
    "Note: unlike named functions, anonymous functions cannot have multiple methods added to them; each anonymous function carries exactly one method. If you need multiple dispatch (i.e., different behaviours for different argument types), define a standard function with `function … end` and type‐annotated methods instead.\n",
    "\n",
    "### Exercise: anonymous Functions\n",
    "\n",
    "Using an anonymous function, create an array `evens` that contains only the even numbers from an existing array `vals = [1, 2, 34, 8, 11, 14]`. Hint: You might want to use the `filter` function!"
   ]
  },
  {
   "cell_type": "code",
   "execution_count": 19,
   "id": "5b6de371-efc6-471c-a2b8-3630e1af0749",
   "metadata": {},
   "outputs": [],
   "source": [
    "# Answer here\n",
    "\n"
   ]
  },
  {
   "cell_type": "markdown",
   "id": "8c9c2824-1772-42c9-b6c4-d4cd18e19b1c",
   "metadata": {
    "editable": true,
    "slideshow": {
     "slide_type": ""
    },
    "tags": []
   },
   "source": [
    "### Exercise: mutation\n",
    "\n",
    "Modify the code you wrote for the previous exercise so that the `vals` array is modified in-place."
   ]
  },
  {
   "cell_type": "code",
   "execution_count": 20,
   "id": "56924f81-38ed-4d0e-bbb9-1bded88a1757",
   "metadata": {},
   "outputs": [],
   "source": [
    "# Answer here\n",
    "\n"
   ]
  },
  {
   "cell_type": "markdown",
   "id": "874cad70-2dde-4c7a-869e-404512d2d09d",
   "metadata": {
    "editable": true,
    "slideshow": {
     "slide_type": ""
    },
    "tags": []
   },
   "source": [
    "## Organising Code with Functions\n",
    "\n",
    "It's good practice to wrap logic inside functions rather than writing everything in global code. Functions:\n",
    "\n",
    "- Functions make code reusable (you can call the same code with different inputs easily)\n",
    "\n",
    "- They clarify intent (a function name can describe what the code does)\n",
    "\n",
    "- In Julia, functions are important for performance: code inside functions is optimised and JIT-compiled, whereas code in global scope is more complex for the compiler to optimise.\n",
    "\n",
    "\n",
    "As you build larger programs, you'll likely have many small functions, each handling a specific task, which together solve your problem."
   ]
  },
  {
   "cell_type": "markdown",
   "id": "524c5eff-b148-48aa-8c27-085365be581d",
   "metadata": {
    "editable": true,
    "slideshow": {
     "slide_type": ""
    },
    "tags": []
   },
   "source": [
    "# End of Section Quiz"
   ]
  },
  {
   "cell_type": "code",
   "execution_count": 21,
   "id": "3ba0a139-9e29-41c8-ae56-8da9c479ca41",
   "metadata": {
    "editable": true,
    "slideshow": {
     "slide_type": ""
    },
    "tags": [
     "remove-input"
    ]
   },
   "outputs": [
    {
     "data": {
      "text/html": [
       "<style>\n",
       ".quiz-question {\n",
       "    background-color: #6c63ff;\n",
       "    color: white;\n",
       "    padding: 12px;\n",
       "    border-radius: 10px;\n",
       "    font-weight: bold;\n",
       "    font-size: 1.2em;\n",
       "    margin-bottom: 10px;\n",
       "}\n",
       "\n",
       ".quiz-form {\n",
       "    margin-bottom: 20px;\n",
       "}\n",
       "\n",
       ".quiz-answer {\n",
       "    display: block;\n",
       "    background-color: #f2f2f2;\n",
       "    border: none;\n",
       "    border-radius: 10px;\n",
       "    padding: 10px;\n",
       "    margin: 5px 0;\n",
       "    font-size: 1em;\n",
       "    cursor: pointer;\n",
       "    text-align: left;\n",
       "    transition: background-color 0.3s;\n",
       "    width: 100%;\n",
       "}\n",
       "\n",
       ".quiz-answer:hover {\n",
       "    background-color: #e0e0e0;\n",
       "}\n",
       "\n",
       ".correct {\n",
       "    background-color: #4CAF50 !important;\n",
       "    color: white !important;\n",
       "    border: none;\n",
       "}\n",
       "\n",
       ".incorrect {\n",
       "    background-color: #D32F2F !important;\n",
       "    color: white !important;\n",
       "    border: none;\n",
       "}\n",
       "\n",
       ".feedback {\n",
       "    margin-top: 10px;\n",
       "    font-weight: bold;\n",
       "    font-size: 1em;\n",
       "}\n",
       "</style>\n",
       "\n",
       "<script>\n",
       "function handleAnswer(qid, aid, feedback, isCorrect) {\n",
       "    // Reset all buttons for the question\n",
       "    let buttons = document.querySelectorAll(\".answer-\" + qid);\n",
       "    buttons.forEach(btn => {\n",
       "        btn.classList.remove('correct', 'incorrect');\n",
       "    });\n",
       "\n",
       "    // Apply correct/incorrect to selected\n",
       "    let selected = document.getElementById(aid);\n",
       "    selected.classList.add(isCorrect ? 'correct' : 'incorrect');\n",
       "\n",
       "    // Show feedback below the question\n",
       "    let feedbackBox = document.getElementById('feedback_' + qid);\n",
       "    feedbackBox.innerHTML = feedback;\n",
       "    feedbackBox.style.color = isCorrect ? 'green' : 'red';\n",
       "}\n",
       "</script>\n",
       "<div class=\"quiz-question\">What happens if you omit the return keyword in a Julia function?</div><form class=\"quiz-form\"><button type=\"button\" class=\"quiz-answer answer-1\" id=\"q1_a1\"\n",
       "    onclick=\"handleAnswer('1', 'q1_a1', 'Incorrect', false)\">\n",
       "    The function returns nothing\n",
       "</button>\n",
       "<button type=\"button\" class=\"quiz-answer answer-1\" id=\"q1_a2\"\n",
       "    onclick=\"handleAnswer('1', 'q1_a2', 'Incorrect', false)\">\n",
       "    The function returns the first expression inside the body\n",
       "</button>\n",
       "<button type=\"button\" class=\"quiz-answer answer-1\" id=\"q1_a3\"\n",
       "    onclick=\"handleAnswer('1', 'q1_a3', 'Incorrect', false)\">\n",
       "    The function raises an error unless return is specified\n",
       "</button>\n",
       "<button type=\"button\" class=\"quiz-answer answer-1\" id=\"q1_a4\"\n",
       "    onclick=\"handleAnswer('1', 'q1_a4', 'Correct', true)\">\n",
       "    The function returns the value of the last expression\n",
       "</button>\n",
       "<div class=\"feedback\" id=\"feedback_1\"></div></form><hr><div class=\"quiz-question\">Which of the following is a correct way to define an anonymous function in Julia that adds 1 to its input?</div><form class=\"quiz-form\"><button type=\"button\" class=\"quiz-answer answer-2\" id=\"q2_a1\"\n",
       "    onclick=\"handleAnswer('2', 'q2_a1', 'Incorrect', false)\">\n",
       "    function(x) = x + 1\n",
       "</button>\n",
       "<button type=\"button\" class=\"quiz-answer answer-2\" id=\"q2_a2\"\n",
       "    onclick=\"handleAnswer('2', 'q2_a2', 'Incorrect', false)\">\n",
       "    anon x -> x + 1\n",
       "</button>\n",
       "<button type=\"button\" class=\"quiz-answer answer-2\" id=\"q2_a3\"\n",
       "    onclick=\"handleAnswer('2', 'q2_a3', 'Correct', true)\">\n",
       "    x -> x + 1\n",
       "</button>\n",
       "<button type=\"button\" class=\"quiz-answer answer-2\" id=\"q2_a4\"\n",
       "    onclick=\"handleAnswer('2', 'q2_a4', 'Incorrect', false)\">\n",
       "    anonymous(x) = x + 1\n",
       "</button>\n",
       "<div class=\"feedback\" id=\"feedback_2\"></div></form><hr><div class=\"quiz-question\">Which of the following best describes multiple dispatch in Julia?</div><form class=\"quiz-form\"><button type=\"button\" class=\"quiz-answer answer-3\" id=\"q3_a1\"\n",
       "    onclick=\"handleAnswer('3', 'q3_a1', 'Incorrect', false)\">\n",
       "    A function can only accept one argument at a time\n",
       "</button>\n",
       "<button type=\"button\" class=\"quiz-answer answer-3\" id=\"q3_a2\"\n",
       "    onclick=\"handleAnswer('3', 'q3_a2', 'Incorrect', false)\">\n",
       "    A method is selected based only on the first argument's type\n",
       "</button>\n",
       "<button type=\"button\" class=\"quiz-answer answer-3\" id=\"q3_a3\"\n",
       "    onclick=\"handleAnswer('3', 'q3_a3', 'Correct', true)\">\n",
       "    Julia selects the method to run based on the types of all arguments\n",
       "</button>\n",
       "<button type=\"button\" class=\"quiz-answer answer-3\" id=\"q3_a4\"\n",
       "    onclick=\"handleAnswer('3', 'q3_a4', 'Incorrect', false)\">\n",
       "    It refers to calling multiple functions at once\n",
       "</button>\n",
       "<div class=\"feedback\" id=\"feedback_3\"></div></form><hr>"
      ]
     },
     "metadata": {},
     "output_type": "display_data"
    }
   ],
   "source": [
    "using JSON\n",
    "\n",
    "function show_quiz_from_json(path)\n",
    "    quiz_data = JSON.parsefile(path)\n",
    "\n",
    "    html = \"\"\"\n",
    "    <style>\n",
    "    .quiz-question {\n",
    "        background-color: #6c63ff;\n",
    "        color: white;\n",
    "        padding: 12px;\n",
    "        border-radius: 10px;\n",
    "        font-weight: bold;\n",
    "        font-size: 1.2em;\n",
    "        margin-bottom: 10px;\n",
    "    }\n",
    "\n",
    "    .quiz-form {\n",
    "        margin-bottom: 20px;\n",
    "    }\n",
    "\n",
    "    .quiz-answer {\n",
    "        display: block;\n",
    "        background-color: #f2f2f2;\n",
    "        border: none;\n",
    "        border-radius: 10px;\n",
    "        padding: 10px;\n",
    "        margin: 5px 0;\n",
    "        font-size: 1em;\n",
    "        cursor: pointer;\n",
    "        text-align: left;\n",
    "        transition: background-color 0.3s;\n",
    "        width: 100%;\n",
    "    }\n",
    "\n",
    "    .quiz-answer:hover {\n",
    "        background-color: #e0e0e0;\n",
    "    }\n",
    "\n",
    "    .correct {\n",
    "        background-color: #4CAF50 !important;\n",
    "        color: white !important;\n",
    "        border: none;\n",
    "    }\n",
    "\n",
    "    .incorrect {\n",
    "        background-color: #D32F2F !important;\n",
    "        color: white !important;\n",
    "        border: none;\n",
    "    }\n",
    "\n",
    "    .feedback {\n",
    "        margin-top: 10px;\n",
    "        font-weight: bold;\n",
    "        font-size: 1em;\n",
    "    }\n",
    "    </style>\n",
    "\n",
    "    <script>\n",
    "    function handleAnswer(qid, aid, feedback, isCorrect) {\n",
    "        // Reset all buttons for the question\n",
    "        let buttons = document.querySelectorAll(\".answer-\" + qid);\n",
    "        buttons.forEach(btn => {\n",
    "            btn.classList.remove('correct', 'incorrect');\n",
    "        });\n",
    "\n",
    "        // Apply correct/incorrect to selected\n",
    "        let selected = document.getElementById(aid);\n",
    "        selected.classList.add(isCorrect ? 'correct' : 'incorrect');\n",
    "\n",
    "        // Show feedback below the question\n",
    "        let feedbackBox = document.getElementById('feedback_' + qid);\n",
    "        feedbackBox.innerHTML = feedback;\n",
    "        feedbackBox.style.color = isCorrect ? 'green' : 'red';\n",
    "    }\n",
    "    </script>\n",
    "    \"\"\"\n",
    "\n",
    "    for (i, question) in enumerate(quiz_data)\n",
    "        qid = \"$i\"\n",
    "        html *= \"\"\"<div class=\"quiz-question\">$(question[\"question\"])</div><form class=\"quiz-form\">\"\"\"\n",
    "\n",
    "        for (j, answer) in enumerate(question[\"answers\"])\n",
    "            aid = \"q$(i)_a$(j)\"\n",
    "            feedback = answer[\"feedback\"]\n",
    "            correct = startswith(lowercase(feedback), \"correct\")\n",
    "            html *= \"\"\"\n",
    "            <button type=\"button\" class=\"quiz-answer answer-$qid\" id=\"$aid\"\n",
    "                onclick=\"handleAnswer('$qid', '$aid', '$feedback', $(correct))\">\n",
    "                $(answer[\"answer\"])\n",
    "            </button>\n",
    "            \"\"\"\n",
    "        end\n",
    "\n",
    "        html *= \"\"\"<div class=\"feedback\" id=\"feedback_$qid\"></div></form><hr>\"\"\"\n",
    "    end\n",
    "\n",
    "    display(\"text/html\", html)\n",
    "end\n",
    "\n",
    "\n",
    "# Use the function\n",
    "show_quiz_from_json(\"questions/summary_functions.json\")"
   ]
  }
 ],
 "metadata": {
  "kernelspec": {
   "display_name": "Julia 1.10.9",
   "language": "julia",
   "name": "julia-1.10"
  },
  "language_info": {
   "file_extension": ".jl",
   "mimetype": "application/julia",
   "name": "julia",
   "version": "1.10.9"
  }
 },
 "nbformat": 4,
 "nbformat_minor": 5
}
