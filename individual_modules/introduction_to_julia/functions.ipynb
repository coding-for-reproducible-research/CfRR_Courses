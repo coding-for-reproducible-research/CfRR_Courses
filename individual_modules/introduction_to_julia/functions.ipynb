{
 "cells": [
  {
   "cell_type": "markdown",
   "id": "9013269d-7a83-44df-ada7-05083bec2596",
   "metadata": {
    "editable": true,
    "slideshow": {
     "slide_type": ""
    },
    "tags": []
   },
   "source": [
    "# Functions \n",
    "\n",
    "## Learning Objectives \n",
    "- Define and call functions in Julia \n",
    "- Understand the use of arguments and return values in Julia functions \n",
    "- Use anonymous (lambda) functions for short snippets of functionality \n",
    "- Implement multiple dispatch by defining functions that handle different types of inputs\n",
    "0 Organise code into functions for clarity and reuse, and recognise the benefits of multiple dispatches for flexibility and performance\n",
    "\n",
    "## Defining Functions \n",
    "In Julia, you define a function using the `function` keyword (and terminate with `end`) or using a shorter one-line syntax. Functions are objects in Julia, and you can assign them to variables, pass them as arguments, etc.\n",
    "\n",
    "A simple function definition would be: \n",
    "```Julia \n",
    "function say_hello(name)\n",
    "    println(\"Hello, \", name, \"!\")\n",
    "end\n",
    "```\n",
    "\n",
    "This function, `say_hello`, takes one argument `name` and prints a greeting. You would call it like `say_hello(\"Alice\")`.\n",
    "\n",
    "Julia can return values from functions. If you use the `return` keyword, you can return a value explicitly. If you omit `return`, Julia will return the **last expression** in the function by default. For example:  "
   ]
  },
  {
   "cell_type": "code",
   "execution_count": 1,
   "id": "f9013320-d085-4760-8abe-df58531ea9a9",
   "metadata": {
    "editable": true,
    "slideshow": {
     "slide_type": ""
    },
    "tags": []
   },
   "outputs": [
    {
     "name": "stdout",
     "output_type": "stream",
     "text": [
      "9\n",
      "27\n"
     ]
    }
   ],
   "source": [
    "# Function to square a number (explicit return)\n",
    "function square(x)\n",
    "    return x * x\n",
    "end\n",
    "\n",
    "# Function to cube a number (implicit return of last expression)\n",
    "function cube(x)\n",
    "    x\n",
    "    x * x\n",
    "    x * x * x   # last expression's value will be returned\n",
    "end\n",
    "println(square(3))\n",
    "println(cube(3))"
   ]
  },
  {
   "cell_type": "markdown",
   "id": "c6e001e7-146c-4165-8f84-cec148f9730a",
   "metadata": {
    "editable": true,
    "slideshow": {
     "slide_type": ""
    },
    "tags": []
   },
   "source": [
    "Julia also provides a concise **single-line function definition** syntax: \n",
    "```Julia \n",
    "add(a, b) = a + b\n",
    "```\n",
    "\n",
    "This defines a function `add` that returns `a+b`. It's equivalent to writing a multi-line function that returns `a+b`. You can use whichever style you find clearer; the multi-line form is helpful for longer-function bodies. "
   ]
  },
  {
   "cell_type": "markdown",
   "id": "755ecc75-c491-4339-8a38-991f2cb2602f",
   "metadata": {
    "editable": true,
    "slideshow": {
     "slide_type": ""
    },
    "tags": []
   },
   "source": [
    "For example, the function below is a function that can be used to calculate the area of a circle given its radius: "
   ]
  },
  {
   "cell_type": "code",
   "execution_count": 2,
   "id": "2ca3b6ed-da7d-48ff-9a7f-ad4015c15520",
   "metadata": {
    "editable": true,
    "slideshow": {
     "slide_type": ""
    },
    "tags": []
   },
   "outputs": [
    {
     "name": "stdout",
     "output_type": "stream",
     "text": [
      "Radius: 5.0, Area: 78.53981633974483\n"
     ]
    }
   ],
   "source": [
    "function calculate_circle_area(radius)\n",
    "    area = π * radius^2   # Julia has π predefined (or use 3.14159 for Pi)\n",
    "    return area\n",
    "end\n",
    "\n",
    "r = 5.0\n",
    "println(\"Radius: \", r, \", Area: \", calculate_circle_area(r))"
   ]
  },
  {
   "cell_type": "markdown",
   "id": "5943d39a-ea90-4644-971c-53e7d5ac1253",
   "metadata": {
    "editable": true,
    "slideshow": {
     "slide_type": ""
    },
    "tags": []
   },
   "source": [
    "There are a number of different ways to get π within Julia, depending on the OS you are using: \n",
    "- **Julia’s built-in Unicode shortcut**: In the REPL or in most editors with the Julia extension (e.g. VS Code) you can type a backslash, `pi`, then hit Tab. Julia will replace it with the single-character π.\n",
    "- **macOS**: Option + p → π\n",
    "- **Windows (numeric keypad)**: Hold Alt and type 0960 on the numpad → π\n",
    "- **Linux**: Ctrl + Shift + U, release, then type 03C0 and Enter → π"
   ]
  },
  {
   "cell_type": "markdown",
   "id": "b95197c0-a0e2-46a5-8726-d181696f6da4",
   "metadata": {
    "editable": true,
    "slideshow": {
     "slide_type": ""
    },
    "tags": []
   },
   "source": [
    "If you run this, you should see something like \"Radius: 5.0, Area: 78.5398: We used the built-in constant `π` (pi) here for higher precision; alternatively `, 3.14` could be used. The different components of a function within Julia are: \n",
    "- **Function Name**: e.g. `calculate_circle_area` in the example above. By convention, use lowercase and underscores for multi-word names. \n",
    "- **Parameters (Arguments)**: e.g. `radius`. You can optionally add a type annotation to a parameter (like `radius::Float64`) to indicate this function is for a specific type. Still, if you leave it untyped, it will accept any types that support the operations used inside. \n",
    "- **Function Body**: the code inside, which can use the parameters. In our case, we compute `area`. \n",
    "- **Return value**: you can explicitly `return` something. If you do not, the last expression will be returned. In the circle example, we used `return` for clarity, but we could also write `π * radius^2` as the last line and omit `return`. \n",
    "After defining a function, call it by writing its name followed by arguments in parentheses, e.g. `calculate_circle_area(10)`. \n",
    "\n",
    "## Exercise: Writing a function \n",
    "Write a function `f_to_c(fahrenheit)` that converts a temperature from Fahrenheit to Celsius. The formula is `C = (F - 32) * 5/9`. Test your function with a couple of values; for `32`, it should return 0, and for `212`, it should return `100`.\n",
    "\n",
    "\n",
    "### Keyword Arguments\n",
    "\n",
    "Julia functions can accept **keyword arguments**, which are specified by name and given default values. These are defined after a semicolon (`;`) in the function signature:"
   ]
  },
  {
   "cell_type": "code",
   "execution_count": 3,
   "id": "6fc1f212-d6e9-4319-a4fa-6384d6b7c24b",
   "metadata": {
    "editable": true,
    "slideshow": {
     "slide_type": ""
    },
    "tags": []
   },
   "outputs": [
    {
     "name": "stdout",
     "output_type": "stream",
     "text": [
      "Value: 12.35 kg\n",
      "Value: 12.346 kg\n",
      "Value: 12.35 meters\n",
      "Value: 12.3 m\n"
     ]
    }
   ],
   "source": [
    "function describe(x; unit=\"kg\", precision=2)\n",
    "    formatted = round(x; digits=precision)\n",
    "    println(\"Value: $formatted $unit\")\n",
    "end\n",
    "\n",
    "# Calls:\n",
    "describe(12.3456)                      # uses defaults: \"Value: 12.35 kg\"\n",
    "describe(12.3456; precision=3)         # \"Value: 12.346 kg\"\n",
    "describe(12.3456; unit=\"meters\")       # \"Value: 12.35 meters\"\n",
    "describe(12.3456; unit=\"m\", precision=1)  # \"Value: 12.3 m\""
   ]
  },
  {
   "cell_type": "markdown",
   "id": "48b83c54-79bd-448d-8148-a9632f83a4bd",
   "metadata": {
    "editable": true,
    "slideshow": {
     "slide_type": ""
    },
    "tags": []
   },
   "source": [
    "**Declaration**: List keyword arguments (with optional type annotations) after a semicolon: \n",
    "```julia \n",
    "function fn(pos1, pos2; kw1::T1=default1, kw2::T2=default2)\n",
    "    …\n",
    "end\n",
    "```\n",
    "\n",
    "**Calling Syntax**\n",
    "```julia \n",
    "fn(arg1, arg2; kw2=value2, kw1=value1)\n",
    "```"
   ]
  },
  {
   "cell_type": "markdown",
   "id": "161499c7-2bfc-4dc4-aaf8-17e1d0f0dcbe",
   "metadata": {
    "editable": true,
    "slideshow": {
     "slide_type": ""
    },
    "tags": []
   },
   "source": [
    "## Anonymous Functions\n",
    "\n",
    "Sometimes, you need a small throwaway function to pass as an argument to another function. Julia allows creating **anonymous functions** using the -> syntax. These are similar to the \"lambda\" function in Python.\n",
    "\n",
    "For example, suppose we have a list of numbers, and we want to square each of them. We could write a one-liner anonymous function for squaring: `x -> x * x`. Here, `x` is the input, and `x * x` is the output. We can pass this to a higher-order function like `map`, which applies a function to each element of a collection: "
   ]
  },
  {
   "cell_type": "code",
   "execution_count": 4,
   "id": "1fa474f1-9085-4fa3-80e9-90211ea59713",
   "metadata": {
    "editable": true,
    "slideshow": {
     "slide_type": ""
    },
    "tags": []
   },
   "outputs": [
    {
     "name": "stdout",
     "output_type": "stream",
     "text": [
      "[1, 4, 9, 16, 25]\n"
     ]
    }
   ],
   "source": [
    "numbers = [1, 2, 3, 4, 5]\n",
    "squared_numbers = map(x -> x * x, numbers)\n",
    "println(squared_numbers)   "
   ]
  },
  {
   "cell_type": "markdown",
   "id": "7a80c6e4-f1ef-4117-8df5-4cb320c5415a",
   "metadata": {
    "editable": true,
    "slideshow": {
     "slide_type": ""
    },
    "tags": []
   },
   "source": [
    "In this example, `map(f, collection)` returns a new collection where function `f` has been applied to every element. We provided `map` with an anonymous function `x -> x * x`. The result `squared_numbers` is a new array of squares. \n",
    "\n",
    "Anonymous functions are handy for short operations, so you don't necessarily need to give a name. If the transformation is straightforward, you could also use broadcast or comprehension, but `map` with a lambda is clear and functional-style. \n",
    "\n",
    "You can also assign an anonymous function to a variable if you want to reuse it: \n"
   ]
  },
  {
   "cell_type": "code",
   "execution_count": 5,
   "id": "3e9cc925-d1a8-4a8e-8347-fbf8d5a62c47",
   "metadata": {
    "editable": true,
    "slideshow": {
     "slide_type": ""
    },
    "tags": []
   },
   "outputs": [
    {
     "name": "stdout",
     "output_type": "stream",
     "text": [
      "100\n"
     ]
    }
   ],
   "source": [
    "squarer = x -> x^2\n",
    "println(squarer(10))"
   ]
  },
  {
   "cell_type": "markdown",
   "id": "d21e36c1-eebd-4608-9e86-78432eb62c25",
   "metadata": {
    "editable": true,
    "slideshow": {
     "slide_type": ""
    },
    "tags": []
   },
   "source": [
    "But if you're going to name it, a standard function definition might be clearer. So typically, we use the `->` syntax inline when passing to other functions or for short-lived usage. \n",
    "\n",
    "**Note on anonymous functions**: Unlike named functions, anonymous functions cannot have multiple methods added to them; each anonymous function carries exactly one method. If you need multiple dispatch (i.e., different behaviours for different argument types), define a standard function with `function … end` and type‐annotated methods instead.\n",
    "\n",
    "### Exercise: Anonymous Functions \n",
    "Using an anonymous function, create an array `evens` that contains only the even numbers from an existing array `vals = [1,2,34,8,11,14]`. Hint: You might want to use the filter function!\n",
    "\n",
    "## Mutating Functions & the `!` Naming Convention\n",
    "\n",
    "\n",
    "In Julia, any function that **mutates** (i.e. changes) one or more of its arguments should have a name ending in `!`. This \"bang\" signals to users that the function will perform in-place modification rather than returning a new object.\n",
    "\n",
    "**Why use `!`?**: It makes code more readable and safer by clearly distinguishing destructive operations from pure ones.\n",
    "\n",
    "**Common examples:**\n",
    "```julia\n",
    "arr = [3, 1, 2]\n",
    "\n",
    "sort!(arr)           # mutates `arr` to become [1, 2, 3]\n",
    "push!(arr, 4)        # appends 4 to `arr`\n",
    "pop!(arr)            # removes and returns the last element\n",
    "append!(arr, [5,6])  # concatenates another collection into `arr`\n",
    "```\n",
    "\n",
    "\n",
    "## Multiple Dispatch \n",
    "\n",
    "Multiple dispatches were introduced conceptually earlier; now, let's see how to implement them with functions. In Julia, you can define **multiple methods** for the same function name with different type signatures. Julia will dispatch (choose) the method that best matches the types of the actual arguments you pass. \n",
    "\n",
    "For example, imagine we want an add function that behaves differently based on argument types: "
   ]
  },
  {
   "cell_type": "code",
   "execution_count": 6,
   "id": "90c8cd1b-f113-430c-ae87-95ecc327f8d0",
   "metadata": {
    "editable": true,
    "slideshow": {
     "slide_type": ""
    },
    "tags": []
   },
   "outputs": [
    {
     "name": "stdout",
     "output_type": "stream",
     "text": [
      "30\n",
      "Hello world!\n"
     ]
    }
   ],
   "source": [
    "# Define add for two Ints\n",
    "function add(x::Int, y::Int)\n",
    "    x + y\n",
    "end\n",
    "\n",
    "# Define add for two Strings (concatenate with a space in between)\n",
    "function add(x::String, y::String)\n",
    "    return string(x, \" \", y)\n",
    "end\n",
    "\n",
    "println( add(10, 20) )        \n",
    "println( add(\"Hello\", \"world!\") )  \n"
   ]
  },
  {
   "cell_type": "markdown",
   "id": "f7835331-a05c-4dea-a9cc-ac1b3b809a31",
   "metadata": {
    "editable": true,
    "slideshow": {
     "slide_type": ""
    },
    "tags": []
   },
   "source": [
    "We defined two methods for `add`: one that accepts two `Int` and one that accepts two `String`. When we call `add(10, 20)`, Julia sees both arguments as `Int` and uses the integer addition method. When we call `add(\"Hello\", \"world!\")`, both are `String`, so it uses the string concatenation method. The same function name, `add,` is used, but the behaviour differs by type. \n",
    "\n",
    "We could add more methods if needed (for example, adding an `add(x::Float64, y::Float64)` or a mixed `add(x::Int, y::Float64)` etc.) In fact, Julia's standard library often provides a rich set of methods for functions to handle different types. \n",
    "\n",
    "The benefits of this are: \n",
    "- **Flexibility**: You generically write code but provide special cases for specific types when needed. \n",
    "- **Performance**: Julia will pick the most specific method and compile optimised machine code for that method. \n",
    "- **Extensibility**: Users can add new methods to functions (even those from the standard library or other packages) for new types they define without modifying the original code, a form of polymorphism.\n",
    "\n",
    "It's important to remember that there is **no dispatch on keywords**. Julia's multiple-dispatch mechanism examines **only** the type of **positional** arguments. \n",
    "\n",
    "#### Inspecting Methods & Handling Missing Methods\n",
    "\n",
    "**Listing methods**: You can see all methods defined for a function with:"
   ]
  },
  {
   "cell_type": "code",
   "execution_count": 7,
   "id": "d5191281-2312-4eeb-b5c7-f9cf42035a17",
   "metadata": {
    "editable": true,
    "slideshow": {
     "slide_type": ""
    },
    "tags": []
   },
   "outputs": [
    {
     "data": {
      "text/html": [
       "# 10 methods for generic function <b>all</b> from \u001b[90mBase\u001b[39m:<ul><li> all(x::<b>Tuple{}</b>) in Base at <a href=\"https://github.com/JuliaLang/julia/tree/760b2e5b7396f9cc0da5efce0cadd5d1974c4069/base/tuple.jl#L662\" target=\"_blank\">tuple.jl:662</a></li> <li> all(x::<b>Tuple{Bool}</b>) in Base at <a href=\"https://github.com/JuliaLang/julia/tree/760b2e5b7396f9cc0da5efce0cadd5d1974c4069/base/tuple.jl#L663\" target=\"_blank\">tuple.jl:663</a></li> <li> all(x::<b>Tuple{Bool, Bool}</b>) in Base at <a href=\"https://github.com/JuliaLang/julia/tree/760b2e5b7396f9cc0da5efce0cadd5d1974c4069/base/tuple.jl#L664\" target=\"_blank\">tuple.jl:664</a></li> <li> all(x::<b>Tuple{Bool, Bool, Bool}</b>) in Base at <a href=\"https://github.com/JuliaLang/julia/tree/760b2e5b7396f9cc0da5efce0cadd5d1974c4069/base/tuple.jl#L665\" target=\"_blank\">tuple.jl:665</a></li> <li> all(B::<b>BitArray</b>) in Base at <a href=\"https://github.com/JuliaLang/julia/tree/760b2e5b7396f9cc0da5efce0cadd5d1974c4069/base/bitarray.jl#L1722\" target=\"_blank\">bitarray.jl:1722</a></li> <li> all(a::<b>AbstractArray</b>; <i>dims</i>) in Base at <a href=\"https://github.com/JuliaLang/julia/tree/760b2e5b7396f9cc0da5efce0cadd5d1974c4069/base/reducedim.jl#L994\" target=\"_blank\">reducedim.jl:994</a></li> <li> all(f::<b>Function</b>, a::<b>AbstractArray</b>; <i>dims</i>) in Base at <a href=\"https://github.com/JuliaLang/julia/tree/760b2e5b7396f9cc0da5efce0cadd5d1974c4069/base/reducedim.jl#L995\" target=\"_blank\">reducedim.jl:995</a></li> <li> all(itr) in Base at <a href=\"https://github.com/JuliaLang/julia/tree/760b2e5b7396f9cc0da5efce0cadd5d1974c4069/base/reduce.jl#L1193\" target=\"_blank\">reduce.jl:1193</a></li> <li> all(f, itr::<b>Tuple</b>) in Base at <a href=\"https://github.com/JuliaLang/julia/tree/760b2e5b7396f9cc0da5efce0cadd5d1974c4069/base/reduce.jl#L1323\" target=\"_blank\">reduce.jl:1323</a></li> <li> all(f, itr) in Base at <a href=\"https://github.com/JuliaLang/julia/tree/760b2e5b7396f9cc0da5efce0cadd5d1974c4069/base/reduce.jl#L1301\" target=\"_blank\">reduce.jl:1301</a></li> </ul>"
      ],
      "text/plain": [
       "# 10 methods for generic function \"all\" from \u001b[90mBase\u001b[39m:\n",
       "  [1] all(\u001b[90mx\u001b[39m::\u001b[1mTuple\u001b[22m\u001b[0m{})\n",
       "\u001b[90m     @\u001b[39m \u001b[90m\u001b[4mtuple.jl:662\u001b[24m\u001b[39m\n",
       "  [2] all(\u001b[90mx\u001b[39m::\u001b[1mTuple\u001b[22m\u001b[0m{Bool})\n",
       "\u001b[90m     @\u001b[39m \u001b[90m\u001b[4mtuple.jl:663\u001b[24m\u001b[39m\n",
       "  [3] all(\u001b[90mx\u001b[39m::\u001b[1mTuple\u001b[22m\u001b[0m{Bool, Bool})\n",
       "\u001b[90m     @\u001b[39m \u001b[90m\u001b[4mtuple.jl:664\u001b[24m\u001b[39m\n",
       "  [4] all(\u001b[90mx\u001b[39m::\u001b[1mTuple\u001b[22m\u001b[0m{Bool, Bool, Bool})\n",
       "\u001b[90m     @\u001b[39m \u001b[90m\u001b[4mtuple.jl:665\u001b[24m\u001b[39m\n",
       "  [5] all(\u001b[90mB\u001b[39m::\u001b[1mBitArray\u001b[22m)\n",
       "\u001b[90m     @\u001b[39m \u001b[90m\u001b[4mbitarray.jl:1722\u001b[24m\u001b[39m\n",
       "  [6] all(\u001b[90ma\u001b[39m::\u001b[1mAbstractArray\u001b[22m; dims)\n",
       "\u001b[90m     @\u001b[39m \u001b[90m\u001b[4mreducedim.jl:994\u001b[24m\u001b[39m\n",
       "  [7] all(\u001b[90mf\u001b[39m::\u001b[1mFunction\u001b[22m, \u001b[90ma\u001b[39m::\u001b[1mAbstractArray\u001b[22m; dims)\n",
       "\u001b[90m     @\u001b[39m \u001b[90m\u001b[4mreducedim.jl:995\u001b[24m\u001b[39m\n",
       "  [8] all(\u001b[90mitr\u001b[39m)\n",
       "\u001b[90m     @\u001b[39m \u001b[90m\u001b[4mreduce.jl:1193\u001b[24m\u001b[39m\n",
       "  [9] all(\u001b[90mf\u001b[39m, \u001b[90mitr\u001b[39m::\u001b[1mTuple\u001b[22m)\n",
       "\u001b[90m     @\u001b[39m \u001b[90m\u001b[4mreduce.jl:1323\u001b[24m\u001b[39m\n",
       " [10] all(\u001b[90mf\u001b[39m, \u001b[90mitr\u001b[39m)\n",
       "\u001b[90m     @\u001b[39m \u001b[90m\u001b[4mreduce.jl:1301\u001b[24m\u001b[39m"
      ]
     },
     "execution_count": 7,
     "metadata": {},
     "output_type": "execute_result"
    }
   ],
   "source": [
    "methods(all)"
   ]
  },
  {
   "cell_type": "markdown",
   "id": "93ac52cc-7baf-4ca9-a73c-60b183721575",
   "metadata": {
    "editable": true,
    "slideshow": {
     "slide_type": ""
    },
    "tags": []
   },
   "source": [
    "**MethodError**: If you call a function on argument types for which no method exists, Julia throws a `MethodError`. For example: "
   ]
  },
  {
   "cell_type": "markdown",
   "id": "59c19bb6-270a-431c-a875-76b1db070ac0",
   "metadata": {
    "editable": true,
    "slideshow": {
     "slide_type": ""
    },
    "tags": []
   },
   "source": [
    "```julia \n",
    "add(1.0, 2.0)\n",
    "```\n",
    "\n",
    "would produce the error: \n",
    "```julia\n",
    "MethodError: no method matching add(::Float64, ::Float64)\n",
    "The function `add` exists, but no method is defined for this combination of argument types.\n",
    "\n",
    "Closest candidates are:\n",
    "  add(::String, ::String)\n",
    "   @ Main In[6]:7\n",
    "  add(::Int64, ::Int64)\n",
    "   @ Main In[6]:2\n",
    "\n",
    "\n",
    "Stacktrace:\n",
    " [1] top-level scope\n",
    "   @ In[9]:1\n",
    "```\n",
    "\n",
    "signalling that you either need to define a new method, `add(x::Float64, y::Float64) = x + y` or convert your input to types that existing methods accept. "
   ]
  },
  {
   "cell_type": "markdown",
   "id": "e1e3bdf0-4f30-467b-b94b-af78c1aab11a",
   "metadata": {
    "editable": true,
    "slideshow": {
     "slide_type": ""
    },
    "tags": []
   },
   "source": [
    "### Exercise: Multiple Dispatch \n",
    "Define a function `myabs` that returns the absolute value of its argument, but implement it using multiple dispatch: one method for `Int` and one method for `String` that returns the length of the string, so that `myabs(\"hello\")` would return `5`).\n",
    "\n",
    "### Why Multiple Dispatch Matters \n",
    "In Julia, **every function is by default generic**; you can add methods to it. This is different from single-dispatch object-oriented languages (where typically a method belongs to one class and dispatch is only on the object instance type). Multiple dispatch is particularly powerful in mathematical code, where operations might naturally be defined by any combinations of operand types (e.g., mixing units, numeric types, etc.)\n",
    "\n",
    "To summarise, multiple dispatch allows us to **write clearer code** (we don't need long chains of type-checking `if-else` inside a single function). The Julia compiler **ensures it runs fast** by picking the precise method and compiling it. \n",
    "\n",
    "## Organising Code with Functions \n",
    "It's good practice to wrap logic inside functions rather than writing everything in global code. Functions: \n",
    "- make code reusable (you can call the same code with different inputs easily)\n",
    "- clarify intent (a function name can describe what the code does) \n",
    "- In Julia, functions are essential for performance (code inside functions is optimised and JIT-compiled, whereas code in global scope is more complex for the compiler to optimise. \n",
    "As you build larger programs, you'll likely have many small functions, each handling a specific task, which together solve your problem.\n",
    "\n",
    "# End of Section Quiz"
   ]
  },
  {
   "cell_type": "code",
   "execution_count": 6,
   "id": "3ba0a139-9e29-41c8-ae56-8da9c479ca41",
   "metadata": {
    "editable": true,
    "slideshow": {
     "slide_type": ""
    },
    "tags": [
     "remove-input"
    ]
   },
   "outputs": [
    {
     "data": {
      "text/html": [
       "<style>\n",
       ".quiz-question {\n",
       "    background-color: #6c63ff;\n",
       "    color: white;\n",
       "    padding: 12px;\n",
       "    border-radius: 10px;\n",
       "    font-weight: bold;\n",
       "    font-size: 1.2em;\n",
       "    margin-bottom: 10px;\n",
       "}\n",
       "\n",
       ".quiz-form {\n",
       "    margin-bottom: 20px;\n",
       "}\n",
       "\n",
       ".quiz-answer {\n",
       "    display: block;\n",
       "    background-color: #f2f2f2;\n",
       "    border: none;\n",
       "    border-radius: 10px;\n",
       "    padding: 10px;\n",
       "    margin: 5px 0;\n",
       "    font-size: 1em;\n",
       "    cursor: pointer;\n",
       "    text-align: left;\n",
       "    transition: background-color 0.3s;\n",
       "    width: 100%;\n",
       "}\n",
       "\n",
       ".quiz-answer:hover {\n",
       "    background-color: #e0e0e0;\n",
       "}\n",
       "\n",
       ".correct {\n",
       "    background-color: #4CAF50 !important;\n",
       "    color: white !important;\n",
       "    border: none;\n",
       "}\n",
       "\n",
       ".incorrect {\n",
       "    background-color: #D32F2F !important;\n",
       "    color: white !important;\n",
       "    border: none;\n",
       "}\n",
       "\n",
       ".feedback {\n",
       "    margin-top: 10px;\n",
       "    font-weight: bold;\n",
       "    font-size: 1em;\n",
       "}\n",
       "</style>\n",
       "\n",
       "<script>\n",
       "function handleAnswer(qid, aid, feedback, isCorrect) {\n",
       "    // Reset all buttons for the question\n",
       "    let buttons = document.querySelectorAll(\".answer-\" + qid);\n",
       "    buttons.forEach(btn => {\n",
       "        btn.classList.remove('correct', 'incorrect');\n",
       "    });\n",
       "\n",
       "    // Apply correct/incorrect to selected\n",
       "    let selected = document.getElementById(aid);\n",
       "    selected.classList.add(isCorrect ? 'correct' : 'incorrect');\n",
       "\n",
       "    // Show feedback below the question\n",
       "    let feedbackBox = document.getElementById('feedback_' + qid);\n",
       "    feedbackBox.innerHTML = feedback;\n",
       "    feedbackBox.style.color = isCorrect ? 'green' : 'red';\n",
       "}\n",
       "</script>\n",
       "<div class=\"quiz-question\">What happens if you omit the return keyword in a Julia function?</div><form class=\"quiz-form\"><button type=\"button\" class=\"quiz-answer answer-1\" id=\"q1_a1\"\n",
       "    onclick=\"handleAnswer('1', 'q1_a1', 'Incorrect', false)\">\n",
       "    The function returns nothing\n",
       "</button>\n",
       "<button type=\"button\" class=\"quiz-answer answer-1\" id=\"q1_a2\"\n",
       "    onclick=\"handleAnswer('1', 'q1_a2', 'Incorrect', false)\">\n",
       "    The function returns the first expression inside the body\n",
       "</button>\n",
       "<button type=\"button\" class=\"quiz-answer answer-1\" id=\"q1_a3\"\n",
       "    onclick=\"handleAnswer('1', 'q1_a3', 'Incorrect', false)\">\n",
       "    The function raises an error unless return is specified\n",
       "</button>\n",
       "<button type=\"button\" class=\"quiz-answer answer-1\" id=\"q1_a4\"\n",
       "    onclick=\"handleAnswer('1', 'q1_a4', 'Correct', true)\">\n",
       "    The function returns the value of the last expression\n",
       "</button>\n",
       "<div class=\"feedback\" id=\"feedback_1\"></div></form><hr><div class=\"quiz-question\">Which of the following is a correct way to define an anonymous function in Julia that adds 1 to its input?</div><form class=\"quiz-form\"><button type=\"button\" class=\"quiz-answer answer-2\" id=\"q2_a1\"\n",
       "    onclick=\"handleAnswer('2', 'q2_a1', 'Incorrect', false)\">\n",
       "    function(x) = x + 1\n",
       "</button>\n",
       "<button type=\"button\" class=\"quiz-answer answer-2\" id=\"q2_a2\"\n",
       "    onclick=\"handleAnswer('2', 'q2_a2', 'Incorrect', false)\">\n",
       "    anon x -> x + 1\n",
       "</button>\n",
       "<button type=\"button\" class=\"quiz-answer answer-2\" id=\"q2_a3\"\n",
       "    onclick=\"handleAnswer('2', 'q2_a3', 'Correct', true)\">\n",
       "    x -> x + 1\n",
       "</button>\n",
       "<button type=\"button\" class=\"quiz-answer answer-2\" id=\"q2_a4\"\n",
       "    onclick=\"handleAnswer('2', 'q2_a4', 'Incorrect', false)\">\n",
       "    anonymous(x) = x + 1\n",
       "</button>\n",
       "<div class=\"feedback\" id=\"feedback_2\"></div></form><hr><div class=\"quiz-question\">Which of the following best describes multiple dispatch in Julia?</div><form class=\"quiz-form\"><button type=\"button\" class=\"quiz-answer answer-3\" id=\"q3_a1\"\n",
       "    onclick=\"handleAnswer('3', 'q3_a1', 'Incorrect', false)\">\n",
       "    A function can only accept one argument at a time\n",
       "</button>\n",
       "<button type=\"button\" class=\"quiz-answer answer-3\" id=\"q3_a2\"\n",
       "    onclick=\"handleAnswer('3', 'q3_a2', 'Incorrect', false)\">\n",
       "    A method is selected based only on the first argument's type\n",
       "</button>\n",
       "<button type=\"button\" class=\"quiz-answer answer-3\" id=\"q3_a3\"\n",
       "    onclick=\"handleAnswer('3', 'q3_a3', 'Correct', true)\">\n",
       "    Julia selects the method to run based on the types of all arguments\n",
       "</button>\n",
       "<button type=\"button\" class=\"quiz-answer answer-3\" id=\"q3_a4\"\n",
       "    onclick=\"handleAnswer('3', 'q3_a4', 'Incorrect', false)\">\n",
       "    It refers to calling multiple functions at once\n",
       "</button>\n",
       "<div class=\"feedback\" id=\"feedback_3\"></div></form><hr>"
      ]
     },
     "metadata": {},
     "output_type": "display_data"
    }
   ],
   "source": [
    "using JSON\n",
    "\n",
    "function show_quiz_from_json(path)\n",
    "    quiz_data = JSON.parsefile(path)\n",
    "\n",
    "    html = \"\"\"\n",
    "    <style>\n",
    "    .quiz-question {\n",
    "        background-color: #6c63ff;\n",
    "        color: white;\n",
    "        padding: 12px;\n",
    "        border-radius: 10px;\n",
    "        font-weight: bold;\n",
    "        font-size: 1.2em;\n",
    "        margin-bottom: 10px;\n",
    "    }\n",
    "\n",
    "    .quiz-form {\n",
    "        margin-bottom: 20px;\n",
    "    }\n",
    "\n",
    "    .quiz-answer {\n",
    "        display: block;\n",
    "        background-color: #f2f2f2;\n",
    "        border: none;\n",
    "        border-radius: 10px;\n",
    "        padding: 10px;\n",
    "        margin: 5px 0;\n",
    "        font-size: 1em;\n",
    "        cursor: pointer;\n",
    "        text-align: left;\n",
    "        transition: background-color 0.3s;\n",
    "        width: 100%;\n",
    "    }\n",
    "\n",
    "    .quiz-answer:hover {\n",
    "        background-color: #e0e0e0;\n",
    "    }\n",
    "\n",
    "    .correct {\n",
    "        background-color: #4CAF50 !important;\n",
    "        color: white !important;\n",
    "        border: none;\n",
    "    }\n",
    "\n",
    "    .incorrect {\n",
    "        background-color: #D32F2F !important;\n",
    "        color: white !important;\n",
    "        border: none;\n",
    "    }\n",
    "\n",
    "    .feedback {\n",
    "        margin-top: 10px;\n",
    "        font-weight: bold;\n",
    "        font-size: 1em;\n",
    "    }\n",
    "    </style>\n",
    "\n",
    "    <script>\n",
    "    function handleAnswer(qid, aid, feedback, isCorrect) {\n",
    "        // Reset all buttons for the question\n",
    "        let buttons = document.querySelectorAll(\".answer-\" + qid);\n",
    "        buttons.forEach(btn => {\n",
    "            btn.classList.remove('correct', 'incorrect');\n",
    "        });\n",
    "\n",
    "        // Apply correct/incorrect to selected\n",
    "        let selected = document.getElementById(aid);\n",
    "        selected.classList.add(isCorrect ? 'correct' : 'incorrect');\n",
    "\n",
    "        // Show feedback below the question\n",
    "        let feedbackBox = document.getElementById('feedback_' + qid);\n",
    "        feedbackBox.innerHTML = feedback;\n",
    "        feedbackBox.style.color = isCorrect ? 'green' : 'red';\n",
    "    }\n",
    "    </script>\n",
    "    \"\"\"\n",
    "\n",
    "    for (i, question) in enumerate(quiz_data)\n",
    "        qid = \"$i\"\n",
    "        html *= \"\"\"<div class=\"quiz-question\">$(question[\"question\"])</div><form class=\"quiz-form\">\"\"\"\n",
    "\n",
    "        for (j, answer) in enumerate(question[\"answers\"])\n",
    "            aid = \"q$(i)_a$(j)\"\n",
    "            feedback = answer[\"feedback\"]\n",
    "            correct = startswith(lowercase(feedback), \"correct\")\n",
    "            html *= \"\"\"\n",
    "            <button type=\"button\" class=\"quiz-answer answer-$qid\" id=\"$aid\"\n",
    "                onclick=\"handleAnswer('$qid', '$aid', '$feedback', $(correct))\">\n",
    "                $(answer[\"answer\"])\n",
    "            </button>\n",
    "            \"\"\"\n",
    "        end\n",
    "\n",
    "        html *= \"\"\"<div class=\"feedback\" id=\"feedback_$qid\"></div></form><hr>\"\"\"\n",
    "    end\n",
    "\n",
    "    display(\"text/html\", html)\n",
    "end\n",
    "\n",
    "\n",
    "# Use the function\n",
    "show_quiz_from_json(\"questions/summary_functions.json\")"
   ]
  },
  {
   "cell_type": "code",
   "execution_count": null,
   "id": "89073459-de42-4dd3-903a-a471fde94ca9",
   "metadata": {
    "editable": true,
    "slideshow": {
     "slide_type": ""
    },
    "tags": []
   },
   "outputs": [],
   "source": []
  }
 ],
 "metadata": {
  "kernelspec": {
   "display_name": "Julia 1.11.5",
   "language": "julia",
   "name": "julia-1.11"
  },
  "language_info": {
   "file_extension": ".jl",
   "mimetype": "application/julia",
   "name": "julia",
   "version": "1.11.5"
  }
 },
 "nbformat": 4,
 "nbformat_minor": 5
}
