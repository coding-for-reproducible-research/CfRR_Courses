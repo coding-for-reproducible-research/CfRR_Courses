{
 "cells": [
  {
   "cell_type": "markdown",
   "id": "9013269d-7a83-44df-ada7-05083bec2596",
   "metadata": {
    "editable": true,
    "slideshow": {
     "slide_type": ""
    },
    "tags": []
   },
   "source": [
    "# Functions \n",
    "\n",
    "## Learning Objectives\n",
    "\n",
    "- Define and call functions in Julia \n",
    "- Understand the use of arguments and return values in Julia functions \n",
    "- Use anonymous (lambda) functions for short snippets of functionality \n",
    "- Implement multiple dispatch by defining functions that handle different types of inputs\n",
    "- Organise code into functions for clarity and reuse, and recognise the benefits of multiple dispatch for flexibility and performance\n",
    "\n",
    "## Defining Functions\n",
    "\n",
    "In Julia, you define a function using the `function` keyword (and terminate with `end`) or using a shorter one-line syntax. Functions are objects in Julia, and you can assign them to variables, pass them as arguments, etc.\n",
    "\n",
    "A simple function definition would be: \n",
    "```Julia \n",
    "function say_hello(name)\n",
    "    println(\"Hello, \", name, \"!\")\n",
    "end\n",
    "```\n",
    "\n",
    "This function, `say_hello`, takes one argument `name` and prints a greeting. You would call it like `say_hello(\"Alice\")`.\n",
    "\n",
    "We return values from a function by using the `return` keyword. If you omit `return`, Julia will return the **value of the last expression** in the function (much like in R). For example:  "
   ]
  },
  {
   "cell_type": "code",
   "execution_count": 1,
   "id": "f9013320-d085-4760-8abe-df58531ea9a9",
   "metadata": {
    "editable": true,
    "slideshow": {
     "slide_type": ""
    },
    "tags": []
   },
   "outputs": [
    {
     "name": "stdout",
     "output_type": "stream",
     "text": [
      "9\n",
      "27\n"
     ]
    }
   ],
   "source": [
    "# Function to square a number (explicit return)\n",
    "function square(x)\n",
    "    return x * x\n",
    "end\n",
    "\n",
    "# Function to cube a number (implicit return of last expression)\n",
    "function cube(x)\n",
    "    x\n",
    "    x * x\n",
    "    x * x * x   # last expression's value will be returned\n",
    "end\n",
    "println(square(3))\n",
    "println(cube(3))"
   ]
  },
  {
   "cell_type": "markdown",
   "id": "c6e001e7-146c-4165-8f84-cec148f9730a",
   "metadata": {
    "editable": true,
    "slideshow": {
     "slide_type": ""
    },
    "tags": []
   },
   "source": [
    "Julia also provides a concise **single-line function definition** syntax: \n",
    "```Julia \n",
    "add(a, b) = a + b\n",
    "```\n",
    "\n",
    "This defines a function `add` that returns `a+b`. It's equivalent to writing a multi-line function that returns `a+b`. You can use whichever style you find clearer; the multi-line form is helpful for longer-function bodies. "
   ]
  },
  {
   "cell_type": "markdown",
   "id": "755ecc75-c491-4339-8a38-991f2cb2602f",
   "metadata": {
    "editable": true,
    "slideshow": {
     "slide_type": ""
    },
    "tags": []
   },
   "source": [
    "For example, the function below is a function that can be used to calculate the area of a circle given its radius: "
   ]
  },
  {
   "cell_type": "code",
   "execution_count": 2,
   "id": "2ca3b6ed-da7d-48ff-9a7f-ad4015c15520",
   "metadata": {
    "editable": true,
    "slideshow": {
     "slide_type": ""
    },
    "tags": []
   },
   "outputs": [
    {
     "name": "stdout",
     "output_type": "stream",
     "text": [
      "Radius: 5.0, Area: 78.53981633974483\n"
     ]
    }
   ],
   "source": [
    "# Calculate area of a circle with given radius\n",
    "function calculate_circle_area(radius)\n",
    "    area = π * radius^2   # Julia has π predefined (or use 3.14159 for Pi)\n",
    "    return area\n",
    "end\n",
    "\n",
    "r = 5.0\n",
    "println(\"Radius: \", r, \", Area: \", calculate_circle_area(r))"
   ]
  },
  {
   "cell_type": "markdown",
   "id": "5943d39a-ea90-4644-971c-53e7d5ac1253",
   "metadata": {
    "editable": true,
    "slideshow": {
     "slide_type": ""
    },
    "tags": []
   },
   "source": [
    "Note: In the REPL or in most editors with the Julia extension (e.g. VS Code), to get the character `π` you can type a backslash, `pi`, then hit Tab. Julia will replace it with the single-character π."
   ]
  },
  {
   "cell_type": "markdown",
   "id": "d5cb82f3-b6e5-4407-a41d-ed9fcf91c35e",
   "metadata": {
    "editable": true,
    "slideshow": {
     "slide_type": ""
    },
    "tags": []
   },
   "source": [
    "The different components of a function within Julia are: \n",
    "\n",
    "- **Function Name**: e.g. `calculate_circle_area` in the example above. By convention, use lowercase and underscores for multi-word names. \n",
    "- **Parameters (Arguments)**: e.g. `radius`. You can optionally add a type annotation to a parameter (like `radius::Float64`) to indicate this function is for a specific type. Still, if you leave it untyped, it will accept any types that support the operations used inside. \n",
    "- **Function Body**: the code inside, which can use the parameters. In our case, we compute `area`. \n",
    "- **Return value**: the value returned by the function. In the circle example, we used `return` for clarity, but we could also write `π * radius^2` as the last line and omit `return`. \n",
    "\n",
    "## Exercise: Writing a function\n",
    "\n",
    "Write a function `f_to_c(fahrenheit)` that converts a temperature from Fahrenheit to Celsius. The formula is $C = (5/9) \\times (F - 32)$. Test your function with a couple of values; we should have\n",
    "```julia\n",
    "f_to_c(32) == 0\n",
    "f_to_c(212) == 100\n",
    "```"
   ]
  },
  {
   "cell_type": "markdown",
   "id": "c92df019-4e40-42a1-8d7b-0f91e5ccaed3",
   "metadata": {
    "editable": true,
    "slideshow": {
     "slide_type": ""
    },
    "tags": []
   },
   "source": [
    "### Keyword Arguments\n",
    "\n",
    "Similarly to Python and R, Julia functions can also accept **keyword arguments**, which are specified by a name/value pair, with a given default value. These are defined after a semicolon (`;`) in the function signature:"
   ]
  },
  {
   "cell_type": "code",
   "execution_count": 3,
   "id": "6fc1f212-d6e9-4319-a4fa-6384d6b7c24b",
   "metadata": {
    "editable": true,
    "slideshow": {
     "slide_type": ""
    },
    "tags": []
   },
   "outputs": [
    {
     "name": "stdout",
     "output_type": "stream",
     "text": [
      "12.35 (kg)\n",
      "12.346 (kg)\n",
      "12.35 (meters)\n",
      "12.3 (m)\n"
     ]
    }
   ],
   "source": [
    "# Return a string that describes a number with given unit and precision\n",
    "# Note: `round` rounds a number to a given number of decimal places\n",
    "function describe(x; unit=\"kg\", precision=2)\n",
    "    formatted = round(x; digits=precision)\n",
    "    return \"$formatted ($unit)\"\n",
    "end\n",
    "\n",
    "# Calls:\n",
    "println(describe(12.3456))                         # uses defaults: \"12.35 (kg)\"\n",
    "println(describe(12.3456; precision=3))            # \"12.346 (kg)\"\n",
    "println(describe(12.3456; unit=\"meters\"))          # \"12.35 (meters)\"\n",
    "println(describe(12.3456; unit=\"m\", precision=1))  # \"12.3 (m)\""
   ]
  },
  {
   "cell_type": "markdown",
   "id": "48b83c54-79bd-448d-8148-a9632f83a4bd",
   "metadata": {
    "editable": true,
    "slideshow": {
     "slide_type": ""
    },
    "tags": []
   },
   "source": [
    "Note that the general syntax for calling a function with arguments and keyword arguments is:\n",
    "\n",
    "```julia \n",
    "fn(arg1, arg2; kwarg1=value1, kwarg2=value2)\n",
    "```\n",
    "\n",
    "Note also that\n",
    "- Argument order matters: `fn(arg1, arg2)` is not the same as `fn(arg2, arg1)`\n",
    "- Keyword argument order does **not** matter, because the keyword names make order unnecessary:\n",
    "\n",
    "  ```julia\n",
    "  # These are equivalent\n",
    "  fn(arg; kwarg1=value1, kwarg2=value2)\n",
    "  fn(arg; kwarg2=value2, kwarg1=value1)\n",
    "  ```"
   ]
  },
  {
   "cell_type": "markdown",
   "id": "6fcb4c54-0abc-4809-a4fa-0d3ca49bb57c",
   "metadata": {
    "editable": true,
    "slideshow": {
     "slide_type": ""
    },
    "tags": []
   },
   "source": [
    "## Abstract Types\n",
    "Julia's type hierarchy allows you to annotate against *abstract* categories, which can be helpful for writing generic, yet constrained, methods: \n",
    "\n",
    "```julia \n",
    "# Accept any kind of integer (e.g. Int8, Int16, UInt, etc.)\n",
    "h(x::Integer) = x + 1\n",
    "\n",
    "# Accept any real number (integer or floating point)\n",
    "j(x::Real) = x * 3.5\n",
    "\n",
    "# Accept any numeric type\n",
    "k(x::Number) = x ^ 2\n",
    "```\n",
    "\n",
    "- `Number` — the root of all numeric types\n",
    "- `Real` — all real numbers (subtype of `Number`; includes `Integer` and `AbstractFloat`)\n",
    "- `Integer` — all integer types (subtype of `Real`)\n",
    "- `AbstractFloat` — all floating-point types (subtype of `Real`)"
   ]
  },
  {
   "cell_type": "markdown",
   "id": "aae951df-ecc5-404b-beaf-35b1d2565bc2",
   "metadata": {
    "editable": true,
    "slideshow": {
     "slide_type": ""
    },
    "tags": []
   },
   "source": [
    "## Multiple Dispatch \n",
    "\n",
    "Multiple dispatch was introduced conceptually earlier; now, let's see how to implement it with functions.\n",
    "\n",
    "In Julia, a function should really be thought of as a **collection of methods for implementing it**. We define *generic* functions which dispatch to specific methods of implementation, depending on the type of the arguments supplied. Put another way, we can define different methods for the same function name which correspond to different parameter type signatures. Julia will dispatch (choose) the method that most precisely matches the types of the actual arguments you pass. \n",
    "\n",
    "Julia will check the types of **all** the arguments of a function call when determing which method to apply. This is what is meant by **multiple dispatch**: here, the 'multiple' refers to the fact that the types of all the arguments are considered, rather than e.g. just the first argument (which is what is done in R's 'generic functions', for example).\n",
    "\n",
    "For example, imagine we want an add function that behaves differently based on argument types: "
   ]
  },
  {
   "cell_type": "code",
   "execution_count": 4,
   "id": "90c8cd1b-f113-430c-ae87-95ecc327f8d0",
   "metadata": {
    "editable": true,
    "slideshow": {
     "slide_type": ""
    },
    "tags": []
   },
   "outputs": [
    {
     "name": "stdout",
     "output_type": "stream",
     "text": [
      "30\n",
      "Helloworld!\n"
     ]
    }
   ],
   "source": [
    "# Define add for two Ints\n",
    "function add(x::Int, y::Int)\n",
    "    x + y\n",
    "end\n",
    "\n",
    "# Define add for two Strings (concatenate)\n",
    "function add(x::String, y::String)\n",
    "    return string(x, y)\n",
    "end\n",
    "\n",
    "println(add(10, 20))        \n",
    "println(add(\"Hello\", \"world!\"))  \n"
   ]
  },
  {
   "cell_type": "markdown",
   "id": "a666b1d0-56d0-4118-aee6-d5216ff811d1",
   "metadata": {
    "editable": true,
    "slideshow": {
     "slide_type": ""
    },
    "tags": []
   },
   "source": [
    "We defined two methods for `add`: one that accepts two `Int` and one that accepts two `String`. When we call `add(10, 20)`, Julia sees both arguments as `Int` and uses the integer addition method. When we call `add(\"Hello\", \"world!\")`, both are `String`, so it uses the string concatenation method. The same function name, `add,` is used, but the behaviour differs by the type of arguments.\n",
    "\n",
    "If we try to call the function `add` on a set of arguments for which there is no method defined, a `MethodError` will be thrown:"
   ]
  },
  {
   "cell_type": "code",
   "execution_count": 5,
   "id": "ba047e98-2bcf-4e07-a71b-48868ae04f69",
   "metadata": {},
   "outputs": [
    {
     "ename": "LoadError",
     "evalue": "MethodError: no method matching add(::Int64, ::String)\n\n\u001b[0mClosest candidates are:\n\u001b[0m  add(\u001b[91m::String\u001b[39m, ::String)\n\u001b[0m\u001b[90m   @\u001b[39m \u001b[35mMain\u001b[39m \u001b[90m\u001b[4mIn[4]:7\u001b[24m\u001b[39m\n\u001b[0m  add(::Int64, \u001b[91m::Int64\u001b[39m)\n\u001b[0m\u001b[90m   @\u001b[39m \u001b[35mMain\u001b[39m \u001b[90m\u001b[4mIn[4]:2\u001b[24m\u001b[39m\n",
     "output_type": "error",
     "traceback": [
      "MethodError: no method matching add(::Int64, ::String)\n\n\u001b[0mClosest candidates are:\n\u001b[0m  add(\u001b[91m::String\u001b[39m, ::String)\n\u001b[0m\u001b[90m   @\u001b[39m \u001b[35mMain\u001b[39m \u001b[90m\u001b[4mIn[4]:7\u001b[24m\u001b[39m\n\u001b[0m  add(::Int64, \u001b[91m::Int64\u001b[39m)\n\u001b[0m\u001b[90m   @\u001b[39m \u001b[35mMain\u001b[39m \u001b[90m\u001b[4mIn[4]:2\u001b[24m\u001b[39m\n",
      "",
      "Stacktrace:",
      " [1] top-level scope",
      "   @ In[5]:2"
     ]
    }
   ],
   "source": [
    "# Error: not defined for Int, String\n",
    "add(1, \"hello\")"
   ]
  },
  {
   "cell_type": "code",
   "execution_count": 6,
   "id": "203e17c6-f031-4458-9f68-0a9d0682ccab",
   "metadata": {},
   "outputs": [
    {
     "ename": "LoadError",
     "evalue": "MethodError: no method matching add(::Int64, ::Int64, ::Int64)\n\n\u001b[0mClosest candidates are:\n\u001b[0m  add(::Int64, ::Int64)\n\u001b[0m\u001b[90m   @\u001b[39m \u001b[35mMain\u001b[39m \u001b[90m\u001b[4mIn[4]:2\u001b[24m\u001b[39m\n",
     "output_type": "error",
     "traceback": [
      "MethodError: no method matching add(::Int64, ::Int64, ::Int64)\n\n\u001b[0mClosest candidates are:\n\u001b[0m  add(::Int64, ::Int64)\n\u001b[0m\u001b[90m   @\u001b[39m \u001b[35mMain\u001b[39m \u001b[90m\u001b[4mIn[4]:2\u001b[24m\u001b[39m\n",
      "",
      "Stacktrace:",
      " [1] top-level scope",
      "   @ In[6]:2"
     ]
    }
   ],
   "source": [
    "# Error: not defined for more than two Ints\n",
    "add(1, 2, 3)"
   ]
  },
  {
   "cell_type": "markdown",
   "id": "12769ba6-f027-48f2-8f6d-cf4e93a416ee",
   "metadata": {},
   "source": [
    "Let's now implement extra methods to handle these cases. We'll handle the case where a user can supply and `Int` and a `String`: our function `add` will convert the integer to a string and then use string concatenation."
   ]
  },
  {
   "cell_type": "code",
   "execution_count": 7,
   "id": "3f2a79ca-6003-4607-b60b-8119890fe2e4",
   "metadata": {},
   "outputs": [
    {
     "data": {
      "text/plain": [
       "add (generic function with 4 methods)"
      ]
     },
     "execution_count": 7,
     "metadata": {},
     "output_type": "execute_result"
    }
   ],
   "source": [
    "# Add an Int and a String (using one-line method definition)\n",
    "add(x::Int, y::String) = add(string(x), y)\n",
    "\n",
    "# And vice-versa\n",
    "add(x::String, y::Int) = add(x, string(y))"
   ]
  },
  {
   "cell_type": "markdown",
   "id": "7281798a-7e40-423c-9120-7ea079695779",
   "metadata": {},
   "source": [
    "Notice how Julia keeps track of the number of methods we've defined for `add`.\n",
    "\n",
    "Notice also how the above implementations utilise other methods of `add` that we defined earlier. This is a common pattern: it allows us to avoid repeating similar code, which makes it easier to maintain. It also implements `add` for these mixed types on a more conceptual level: *first convert the integer to a string, then use whatever method we defined for adding two strings together*.\n",
    "\n",
    "### Exercise: adding more methods\n",
    "\n",
    "Add methods to handle the cases where\n",
    "- A single `Int` or `String` is provided\n",
    "- Three `Int`s are provided (performs usual arithmetic addition)\n",
    "- Three `String`s are provided (performs string concatenation)\n",
    "\n",
    "Try to use previously implementated methods of `add` where possible."
   ]
  },
  {
   "cell_type": "markdown",
   "id": "87eaafe0-0ab1-4fb3-b1f9-42bf62fae53a",
   "metadata": {
    "editable": true,
    "slideshow": {
     "slide_type": ""
    },
    "tags": []
   },
   "source": [
    "### Extending to handle more general types\n",
    "\n",
    "How could we extend `add` to handle more types? It is clearly impractical to keep adding more methods on concrete types (for example, adding an `add(x::Float64, y::Float64)` or a mixed `add(x::Int, y::Float64)` etc.) Let's make the decision that, for any two objects `x` and `y`, the function `add` should perform usual numerical addition if `x` and `y` are both numbers, otherwise they should be converted to strings and concatenated. Julia makes this simple to do. We define a method for `add` that works on any two objects as follows:"
   ]
  },
  {
   "cell_type": "code",
   "execution_count": 8,
   "id": "0535dc96-91cc-41c1-a2db-86638c7d7a49",
   "metadata": {},
   "outputs": [
    {
     "data": {
      "text/plain": [
       "add (generic function with 5 methods)"
      ]
     },
     "execution_count": 8,
     "metadata": {},
     "output_type": "execute_result"
    }
   ],
   "source": [
    "function add(x, y)\n",
    "    return string(x, y)  # converts x and y to strings then concatenates\n",
    "end"
   ]
  },
  {
   "cell_type": "markdown",
   "id": "0bf52b6e-3eff-4a19-bcca-9d520fc24774",
   "metadata": {},
   "source": [
    "Note that this is equivalent to specifying\n",
    "```julia\n",
    "function add(x::Any, y::Any)\n",
    "    return string(x, y)  # converts x and y to strings then concatenates\n",
    "end\n",
    "```"
   ]
  },
  {
   "cell_type": "markdown",
   "id": "b51c10dd-fef7-4d00-af44-272854e0b14d",
   "metadata": {
    "editable": true,
    "slideshow": {
     "slide_type": ""
    },
    "tags": []
   },
   "source": [
    "Let's now evaluate `add` on some different combinations of object. As mentioned briefly above, the key thing to remember is\n",
    "\n",
    "> **When applying a function, Julia will use the method whose type signature most precisely matches (i.e. is most 'specialized' to) the types of the given arguments.**\n",
    "\n",
    "Consider the following calls to `add`:"
   ]
  },
  {
   "cell_type": "code",
   "execution_count": 9,
   "id": "91b257a3-0a45-4c51-840d-ef6e6fdecba9",
   "metadata": {},
   "outputs": [
    {
     "name": "stdout",
     "output_type": "stream",
     "text": [
      "(String, NamedTuple): foo(a = 1, b = 2)\n",
      "(Int, Array): 1[2, 3]\n",
      "(Int, Int): 3\n"
     ]
    }
   ],
   "source": [
    "# String, NamedTuple\n",
    "println(\"(String, NamedTuple): \", add(\"foo\", (a = 1, b = 2)))\n",
    "\n",
    "# Int, Array\n",
    "println(\"(Int, Array): \", add(1, [2, 3]))\n",
    "\n",
    "# Int, Int\n",
    "println(\"(Int, Int): \", add(1, 2))"
   ]
  },
  {
   "cell_type": "markdown",
   "id": "8471c64c-c6c8-48e9-9893-2877431140b7",
   "metadata": {},
   "source": [
    "Notice that the method that got evaluated for `(Int, Int)` was the one we defined earlier:\n",
    "```julia\n",
    "function add(x::Int, y::Int)\n",
    "    return x + y\n",
    "end\n",
    "```\n",
    "since this is more specialized to the types of the arguments than the general `add(::Any, ::Any)` version we defined a moment ago.\n",
    "\n",
    "In contrast, notice what happens if we supply an `Int` and a `Float64`:"
   ]
  },
  {
   "cell_type": "code",
   "execution_count": 10,
   "id": "6fae928e-0537-4112-976f-f47b7dd8be26",
   "metadata": {},
   "outputs": [
    {
     "name": "stdout",
     "output_type": "stream",
     "text": [
      "(Int, Float64): 12.2\n"
     ]
    }
   ],
   "source": [
    "# Int, Float64\n",
    "println(\"(Int, Float64): \", add(1, 2.2))"
   ]
  },
  {
   "cell_type": "markdown",
   "id": "a4e73256-44f1-457c-9cf2-408596df66d6",
   "metadata": {},
   "source": [
    "The version of `add` that gets applied is the `add(::Any, ::Any)` version, because there isn't a more specialized method available. To fix this, let's recall that all the numerical types defined in Julia are (concrete) subtypes of the abstract type `Number`. Julia knows how to evaluate `a + b` where `a` and `b` are instances of `Number`. We can therefore define "
   ]
  },
  {
   "cell_type": "code",
   "execution_count": 12,
   "id": "dc6bdf2e-d5ad-4bd0-ae93-f6679e270cd0",
   "metadata": {},
   "outputs": [
    {
     "data": {
      "text/plain": [
       "add (generic function with 6 methods)"
      ]
     },
     "execution_count": 12,
     "metadata": {},
     "output_type": "execute_result"
    }
   ],
   "source": [
    "# Add for any two numbers\n",
    "function add(x::Number, y::Number)\n",
    "    return x + y\n",
    "end"
   ]
  },
  {
   "cell_type": "markdown",
   "id": "15b47dad-aeb7-4220-a73f-740a70270a11",
   "metadata": {},
   "source": [
    "This method is specialized to the case where `x` and `y` are subtypes of `Number`, so now `add` will perform numerical addition whenever we supply two numbers (be they `Int`, `Float64`, `Complex`, etc.)"
   ]
  },
  {
   "cell_type": "code",
   "execution_count": 13,
   "id": "abab1a36-1024-417e-a3d7-f5b6bfba5df2",
   "metadata": {},
   "outputs": [
    {
     "name": "stdout",
     "output_type": "stream",
     "text": [
      "(Int, Float64): 3.2\n"
     ]
    }
   ],
   "source": [
    "# Int, Float64 (again)\n",
    "println(\"(Int, Float64): \", add(1, 2.2))"
   ]
  },
  {
   "cell_type": "markdown",
   "id": "b4ff3825-8cd3-494f-b346-770cf0f1b3b4",
   "metadata": {},
   "source": [
    "### Listing methods\n",
    "\n",
    "You can list out all methods defined for a function with the `methods` function:"
   ]
  },
  {
   "cell_type": "code",
   "execution_count": 14,
   "id": "68d60f05-7d23-465f-aba7-7669a70a93b1",
   "metadata": {},
   "outputs": [
    {
     "data": {
      "text/html": [
       "# 6 methods for generic function <b>add</b> from \u001b[35mMain\u001b[39m:<ul><li> add(x::<b>String</b>, y::<b>Int64</b>) in Main at In[7]:5</li> <li> add(x::<b>Int64</b>, y::<b>String</b>) in Main at In[7]:2</li> <li> add(x::<b>String</b>, y::<b>String</b>) in Main at In[4]:7</li> <li> add(x::<b>Int64</b>, y::<b>Int64</b>) in Main at In[4]:2</li> <li> add(x::<b>Number</b>, y::<b>Number</b>) in Main at In[12]:2</li> <li> add(x, y) in Main at In[8]:1</li> </ul>"
      ],
      "text/plain": [
       "# 6 methods for generic function \"add\" from \u001b[35mMain\u001b[39m:\n",
       " [1] add(\u001b[90mx\u001b[39m::\u001b[1mString\u001b[22m, \u001b[90my\u001b[39m::\u001b[1mInt64\u001b[22m)\n",
       "\u001b[90m     @\u001b[39m \u001b[90m\u001b[4mIn[7]:5\u001b[24m\u001b[39m\n",
       " [2] add(\u001b[90mx\u001b[39m::\u001b[1mInt64\u001b[22m, \u001b[90my\u001b[39m::\u001b[1mString\u001b[22m)\n",
       "\u001b[90m     @\u001b[39m \u001b[90m\u001b[4mIn[7]:2\u001b[24m\u001b[39m\n",
       " [3] add(\u001b[90mx\u001b[39m::\u001b[1mString\u001b[22m, \u001b[90my\u001b[39m::\u001b[1mString\u001b[22m)\n",
       "\u001b[90m     @\u001b[39m \u001b[90m\u001b[4mIn[4]:7\u001b[24m\u001b[39m\n",
       " [4] add(\u001b[90mx\u001b[39m::\u001b[1mInt64\u001b[22m, \u001b[90my\u001b[39m::\u001b[1mInt64\u001b[22m)\n",
       "\u001b[90m     @\u001b[39m \u001b[90m\u001b[4mIn[4]:2\u001b[24m\u001b[39m\n",
       " [5] add(\u001b[90mx\u001b[39m::\u001b[1mNumber\u001b[22m, \u001b[90my\u001b[39m::\u001b[1mNumber\u001b[22m)\n",
       "\u001b[90m     @\u001b[39m \u001b[90m\u001b[4mIn[12]:2\u001b[24m\u001b[39m\n",
       " [6] add(\u001b[90mx\u001b[39m, \u001b[90my\u001b[39m)\n",
       "\u001b[90m     @\u001b[39m \u001b[90m\u001b[4mIn[8]:1\u001b[24m\u001b[39m"
      ]
     },
     "execution_count": 14,
     "metadata": {},
     "output_type": "execute_result"
    }
   ],
   "source": [
    "methods(add)"
   ]
  },
  {
   "cell_type": "markdown",
   "id": "28b372b9-323f-4216-af44-3eeea5f8fe32",
   "metadata": {},
   "source": [
    "#### Exercise: summing up\n",
    "\n",
    "Knowing what you now know about Julia's dispatch mechanism, what's the minimum number of methods you would need to define if we were to implement `add(x, y)` again from scratch (for two arguments only)?\n",
    "\n",
    "#### Exercise: extension to 3 args\n",
    "\n",
    "Joe Bloggs is looking to extend `add` to handle 3 arguments. He claims \"Ah, this is easy, all we need to do is define\n",
    "```julia\n",
    "add(x, y, z) = add(add(x, y), z)\n",
    "```\n",
    "and we're done!\" Is Joe correct? Why / why not?"
   ]
  },
  {
   "cell_type": "markdown",
   "id": "762caa5b-9cb5-4321-bf8d-ee28f124dac4",
   "metadata": {
    "editable": true,
    "slideshow": {
     "slide_type": ""
    },
    "tags": []
   },
   "source": [
    "TODO: finish changes this episode\n",
    "\n",
    "### Why Multiple Dispatch Matters \n",
    "\n",
    "Julia's standard library often provides a rich set of methods for functions to handle different types. Allowing functions to handle a range of argument types allows us to build up flexible and general code rather quickly: it's not uncommon to define a new function in Julia that is implemented with other functions in such a way that the new function automatically support a large variety of different argument types 'for free'.\n",
    "\n",
    "The benefits of this are:\n",
    "\n",
    "- **Flexibility**: You generically write code but provide special cases for specific types when needed. \n",
    "- **Performance**: Julia will pick the most specific method and compile optimised machine code for that method. \n",
    "- **Extensibility**: Users can add new methods to functions (even those from the standard library or other packages) for new types they define without modifying the original code, a form of polymorphism.\n",
    "\n",
    "It's important to remember that there is **no dispatch on keywords**. Julia's multiple-dispatch mechanism examines **only** the type of **positional** arguments. \n",
    "\n"
   ]
  },
  {
   "cell_type": "markdown",
   "id": "dea03108-fde8-4a89-ae5e-c31b97cc772e",
   "metadata": {
    "editable": true,
    "slideshow": {
     "slide_type": ""
    },
    "tags": []
   },
   "source": [
    "\n",
    "\n",
    "In Julia, **every function is by default generic**; you can add methods to it. This is different from single-dispatch object-oriented languages (where typically a method belongs to one class and dispatch is only on the object instance type). Multiple dispatch is particularly powerful in mathematical code, where operations might naturally be defined by any combinations of operand types (e.g., mixing units, numeric types, etc.)\n",
    "\n",
    "To summarise, multiple dispatch allows us to **write clearer code** (we don't need long chains of type-checking `if-else` inside a single function). The Julia compiler **ensures it runs fast** by picking the precise method and compiling it. "
   ]
  },
  {
   "cell_type": "markdown",
   "id": "4935d027-a099-4b98-a56d-d99db7c5a64e",
   "metadata": {
    "editable": true,
    "slideshow": {
     "slide_type": ""
    },
    "tags": []
   },
   "source": [
    "## Anonymous Functions\n",
    "\n",
    "Sometimes, you need a small throwaway function to pass as an argument to another function. Julia allows creating **anonymous functions** using the -> syntax. These are similar to the \"lambda\" function in Python.\n",
    "\n",
    "For example, suppose we have a list of numbers, and we want to square each of them. We could write a one-liner anonymous function for squaring: `x -> x * x`. Here, `x` is the input, and `x * x` is the output. We can pass this to a higher-order function like `map`, which applies a function to each element of a collection: "
   ]
  },
  {
   "cell_type": "code",
   "execution_count": null,
   "id": "1fa474f1-9085-4fa3-80e9-90211ea59713",
   "metadata": {
    "editable": true,
    "slideshow": {
     "slide_type": ""
    },
    "tags": []
   },
   "outputs": [],
   "source": [
    "numbers = [1, 2, 3, 4, 5]\n",
    "squared_numbers = map(x -> x * x, numbers)\n",
    "println(squared_numbers)   "
   ]
  },
  {
   "cell_type": "markdown",
   "id": "9a08a889-6040-4d52-9bde-60c1b50092a1",
   "metadata": {
    "editable": true,
    "slideshow": {
     "slide_type": ""
    },
    "tags": []
   },
   "source": [
    "In this example, `map(f, collection)` returns a new collection where function `f` has been applied to every element. We provided `map` with an anonymous function `x -> x * x`. The result `squared_numbers` is a new array of squares. \n",
    "\n",
    "Anonymous functions are handy for short operations, so you don't necessarily need to give a name. If the transformation is straightforward, you could also use broadcast or comprehension, but `map` with a lambda is clear and functional-style. \n",
    "\n",
    "You can also assign an anonymous function to a variable if you want to reuse it: \n"
   ]
  },
  {
   "cell_type": "code",
   "execution_count": null,
   "id": "3e9cc925-d1a8-4a8e-8347-fbf8d5a62c47",
   "metadata": {
    "editable": true,
    "slideshow": {
     "slide_type": ""
    },
    "tags": []
   },
   "outputs": [],
   "source": [
    "squarer = x -> x^2\n",
    "println(squarer(10))"
   ]
  },
  {
   "cell_type": "markdown",
   "id": "2ce6ba4d-a02e-4054-bfb3-178ba1cbb651",
   "metadata": {
    "editable": true,
    "slideshow": {
     "slide_type": ""
    },
    "tags": []
   },
   "source": [
    "But if you're going to name it, a standard function definition might be clearer. So typically, we use the `->` syntax inline when passing to other functions or for short-lived usage. \n",
    "\n",
    "**Note on anonymous functions**: Unlike named functions, anonymous functions cannot have multiple methods added to them; each anonymous function carries exactly one method. If you need multiple dispatch (i.e., different behaviours for different argument types), define a standard function with `function … end` and type‐annotated methods instead.\n",
    "\n",
    "### Exercise: Anonymous Functions \n",
    "Using an anonymous function, create an array `evens` that contains only the even numbers from an existing array `vals = [1,2,34,8,11,14]`. Hint: You might want to use the filter function!\n",
    "\n",
    "## Mutating Functions & the `!` Naming Convention\n",
    "\n",
    "\n",
    "In Julia, any function that **mutates** (i.e. changes) one or more of its arguments should have a name ending in `!`. This \"bang\" signals to users that the function will perform in-place modification rather than returning a new object.\n",
    "\n",
    "**Why use `!`?**: It makes code more readable and safer by clearly distinguishing destructive operations from pure ones.\n",
    "\n",
    "**Common examples:**\n",
    "```julia\n",
    "arr = [3, 1, 2]\n",
    "\n",
    "sort!(arr)           # mutates `arr` to become [1, 2, 3]\n",
    "push!(arr, 4)        # appends 4 to `arr`\n",
    "pop!(arr)            # removes and returns the last element\n",
    "append!(arr, [5,6])  # concatenates another collection into `arr`\n",
    "```"
   ]
  },
  {
   "cell_type": "markdown",
   "id": "33840f02-214c-4d0e-ba50-5ef17dc6880e",
   "metadata": {
    "editable": true,
    "jp-MarkdownHeadingCollapsed": true,
    "slideshow": {
     "slide_type": ""
    },
    "tags": []
   },
   "source": [
    "## Organising Code with Functions \n",
    "It's good practice to wrap logic inside functions rather than writing everything in global code. Functions: \n",
    "- make code reusable (you can call the same code with different inputs easily)\n",
    "- clarify intent (a function name can describe what the code does) \n",
    "- In Julia, functions are essential for performance (code inside functions is optimised and JIT-compiled, whereas code in global scope is more complex for the compiler to optimise. \n",
    "As you build larger programs, you'll likely have many small functions, each handling a specific task, which together solve your problem.\n",
    "\n",
    "# End of Section Quiz"
   ]
  },
  {
   "cell_type": "code",
   "execution_count": null,
   "id": "3ba0a139-9e29-41c8-ae56-8da9c479ca41",
   "metadata": {
    "editable": true,
    "slideshow": {
     "slide_type": ""
    },
    "tags": [
     "remove-input"
    ]
   },
   "outputs": [],
   "source": [
    "using JSON\n",
    "\n",
    "function show_quiz_from_json(path)\n",
    "    quiz_data = JSON.parsefile(path)\n",
    "\n",
    "    html = \"\"\"\n",
    "    <style>\n",
    "    .quiz-question {\n",
    "        background-color: #6c63ff;\n",
    "        color: white;\n",
    "        padding: 12px;\n",
    "        border-radius: 10px;\n",
    "        font-weight: bold;\n",
    "        font-size: 1.2em;\n",
    "        margin-bottom: 10px;\n",
    "    }\n",
    "\n",
    "    .quiz-form {\n",
    "        margin-bottom: 20px;\n",
    "    }\n",
    "\n",
    "    .quiz-answer {\n",
    "        display: block;\n",
    "        background-color: #f2f2f2;\n",
    "        border: none;\n",
    "        border-radius: 10px;\n",
    "        padding: 10px;\n",
    "        margin: 5px 0;\n",
    "        font-size: 1em;\n",
    "        cursor: pointer;\n",
    "        text-align: left;\n",
    "        transition: background-color 0.3s;\n",
    "        width: 100%;\n",
    "    }\n",
    "\n",
    "    .quiz-answer:hover {\n",
    "        background-color: #e0e0e0;\n",
    "    }\n",
    "\n",
    "    .correct {\n",
    "        background-color: #4CAF50 !important;\n",
    "        color: white !important;\n",
    "        border: none;\n",
    "    }\n",
    "\n",
    "    .incorrect {\n",
    "        background-color: #D32F2F !important;\n",
    "        color: white !important;\n",
    "        border: none;\n",
    "    }\n",
    "\n",
    "    .feedback {\n",
    "        margin-top: 10px;\n",
    "        font-weight: bold;\n",
    "        font-size: 1em;\n",
    "    }\n",
    "    </style>\n",
    "\n",
    "    <script>\n",
    "    function handleAnswer(qid, aid, feedback, isCorrect) {\n",
    "        // Reset all buttons for the question\n",
    "        let buttons = document.querySelectorAll(\".answer-\" + qid);\n",
    "        buttons.forEach(btn => {\n",
    "            btn.classList.remove('correct', 'incorrect');\n",
    "        });\n",
    "\n",
    "        // Apply correct/incorrect to selected\n",
    "        let selected = document.getElementById(aid);\n",
    "        selected.classList.add(isCorrect ? 'correct' : 'incorrect');\n",
    "\n",
    "        // Show feedback below the question\n",
    "        let feedbackBox = document.getElementById('feedback_' + qid);\n",
    "        feedbackBox.innerHTML = feedback;\n",
    "        feedbackBox.style.color = isCorrect ? 'green' : 'red';\n",
    "    }\n",
    "    </script>\n",
    "    \"\"\"\n",
    "\n",
    "    for (i, question) in enumerate(quiz_data)\n",
    "        qid = \"$i\"\n",
    "        html *= \"\"\"<div class=\"quiz-question\">$(question[\"question\"])</div><form class=\"quiz-form\">\"\"\"\n",
    "\n",
    "        for (j, answer) in enumerate(question[\"answers\"])\n",
    "            aid = \"q$(i)_a$(j)\"\n",
    "            feedback = answer[\"feedback\"]\n",
    "            correct = startswith(lowercase(feedback), \"correct\")\n",
    "            html *= \"\"\"\n",
    "            <button type=\"button\" class=\"quiz-answer answer-$qid\" id=\"$aid\"\n",
    "                onclick=\"handleAnswer('$qid', '$aid', '$feedback', $(correct))\">\n",
    "                $(answer[\"answer\"])\n",
    "            </button>\n",
    "            \"\"\"\n",
    "        end\n",
    "\n",
    "        html *= \"\"\"<div class=\"feedback\" id=\"feedback_$qid\"></div></form><hr>\"\"\"\n",
    "    end\n",
    "\n",
    "    display(\"text/html\", html)\n",
    "end\n",
    "\n",
    "\n",
    "# Use the function\n",
    "show_quiz_from_json(\"questions/summary_functions.json\")"
   ]
  },
  {
   "cell_type": "code",
   "execution_count": null,
   "id": "89073459-de42-4dd3-903a-a471fde94ca9",
   "metadata": {
    "editable": true,
    "slideshow": {
     "slide_type": ""
    },
    "tags": []
   },
   "outputs": [],
   "source": []
  }
 ],
 "metadata": {
  "kernelspec": {
   "display_name": "Julia 1.10.9",
   "language": "julia",
   "name": "julia-1.10"
  },
  "language_info": {
   "file_extension": ".jl",
   "mimetype": "application/julia",
   "name": "julia",
   "version": "1.10.9"
  }
 },
 "nbformat": 4,
 "nbformat_minor": 5
}
