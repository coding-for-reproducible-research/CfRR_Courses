{
 "cells": [
  {
   "cell_type": "markdown",
   "id": "2b086550-11a6-4940-972e-004e2c3f36a6",
   "metadata": {
    "editable": true,
    "slideshow": {
     "slide_type": ""
    },
    "tags": []
   },
   "source": [
    "# Arrays and Matrices \n",
    "\n",
    "## Learning Objectives \n",
    "- Understand the concept of arrays and matrices in Julia \n",
    "- Create and initialise one-dimensional and multi-dimensional arrays \n",
    "- Utilise various array creation functions in Julia (e.g. `zeros`, `ones`, random arrays)\n",
    "- Perform basic manipulations such as indexing and slicing on arrays\n",
    "- Implement common operations on arrays and matrices\n",
    "\n",
    "Arrays are a fundamental data structure in Julia that is used to store collections of elements. If you're coming from Python, you can think of one-dimensional Julia arrays as similar to Python lists or NumPy 1D arrays, and multi-dimensional Julia arrays are like NumPy arrays or matrices. One key difference: Julia arrays are **1-indexed** (the first element is index 1, not 0). \n",
    "\n",
    "In Julia, all elements of a typical array have the same type (e.g. an `Array{Int}` or 'Array{Float64}`), which allows for performance optimisations. It is possible to have arrays of mixed types (they would have element type `Any`), but most often, we use uniform-type arrays. \n",
    "\n",
    "## One-Dimensional Arrays (Vectors) \n",
    "A one-dimensional array (also called a **vector**) is essentially an ordered list of elements. The simplest way to create one is by using square brackets `[...]` with commas separating elements: "
   ]
  },
  {
   "cell_type": "code",
   "execution_count": 4,
   "id": "299d5248-6cec-42f2-9866-33ab4ff57a78",
   "metadata": {
    "editable": true,
    "slideshow": {
     "slide_type": ""
    },
    "tags": []
   },
   "outputs": [
    {
     "name": "stdout",
     "output_type": "stream",
     "text": [
      "[1, 2, 3]\n",
      "Vector{Int64}\n"
     ]
    }
   ],
   "source": [
    "# Declare and initialize a 1D array of integers\n",
    "a = [1, 2, 3]\n",
    "println(a)  \n",
    "println(typeof(a))   # e.g., Output: Vector{Int64} (which is an alias for Array{Int64,1})\n"
   ]
  },
  {
   "cell_type": "markdown",
   "id": "3d96b8d6-12fc-4dd6-9f65-7291c20c450b",
   "metadata": {
    "editable": true,
    "slideshow": {
     "slide_type": ""
    },
    "tags": []
   },
   "source": [
    "The type `Vector{Int64}` indicates a one-dimensional array (vector) of 64-bit integers. Julia infers the type from the elements you provided. If you mix types, Julia will promote to a common type if possible or else use a generic type. For example, `[1, 2.5]` would result in a vector of `Float64` (because one can be promoted to 1.0 to match 2.5), but `[1, \"two\"]` would result in a vector of type `Any` (mixed types, generally to be avoided for performance). \n",
    "\n",
    "You can also create an empty array and fill it later:"
   ]
  },
  {
   "cell_type": "code",
   "execution_count": 5,
   "id": "53db1dd5-75ab-454d-9882-2c90e0143533",
   "metadata": {
    "editable": true,
    "slideshow": {
     "slide_type": ""
    },
    "tags": []
   },
   "outputs": [
    {
     "name": "stdout",
     "output_type": "stream",
     "text": [
      "[10, 20]\n"
     ]
    }
   ],
   "source": [
    "empty_vec = Int[]  # an empty Vector of Int\n",
    "push!(empty_vec, 10)\n",
    "push!(empty_vec, 20)\n",
    "println(empty_vec)  \n"
   ]
  },
  {
   "cell_type": "markdown",
   "id": "75e7843d-9cad-4318-a6ae-c9ec59386ff9",
   "metadata": {
    "editable": true,
    "slideshow": {
     "slide_type": ""
    },
    "tags": []
   },
   "source": [
    "Here, we used `push!` to append elements to the dynamic array. \n",
    "\n",
    "## Array Constructors \n",
    "Julia provides an `Array` constructor for more control, especially if you want to create uninitialised arrays or with specific element types: \n",
    "\n"
   ]
  },
  {
   "cell_type": "code",
   "execution_count": 8,
   "id": "ebb2d981-57d9-4aa3-83e3-bd31fd5f7521",
   "metadata": {
    "editable": true,
    "slideshow": {
     "slide_type": ""
    },
    "tags": []
   },
   "outputs": [
    {
     "name": "stdout",
     "output_type": "stream",
     "text": [
      "[71, 74, 5369377792]\n"
     ]
    }
   ],
   "source": [
    "# Create an uninitialized 1D array (vector) of length 3 for Int elements\n",
    "b = Array{Int}(undef, 3)\n",
    "println(b)\n"
   ]
  },
  {
   "cell_type": "markdown",
   "id": "b4b86ef0-b348-4471-97fc-85e791292a40",
   "metadata": {
    "editable": true,
    "slideshow": {
     "slide_type": ""
    },
    "tags": []
   },
   "source": [
    "The `undef` keyword tells Julia we want to allocate the array without initialising its contents (for performance). The contents of `b` will be whatever was already in those memory locations (essentially garbage or random-looking numbers). You should assign values to all positions before using them, or else those initial values are meaningless. The benefit of `undef` is if you plan to populate the array immediately, you don't spend time setting initial values. \n",
    "\n",
    "For instance, if we print `b` right after creation, we might see something like `[71, 74, 5369377792]`; these are just whatever bits were in memory. After we populate it: "
   ]
  },
  {
   "cell_type": "code",
   "execution_count": 9,
   "id": "beaad64a-c583-4851-868d-447dd84f6ba5",
   "metadata": {
    "editable": true,
    "slideshow": {
     "slide_type": ""
    },
    "tags": []
   },
   "outputs": [
    {
     "name": "stdout",
     "output_type": "stream",
     "text": [
      "[10, 20, 30]\n"
     ]
    }
   ],
   "source": [
    "b[1] = 10; b[2] = 20; b[3] = 30;\n",
    "println(b)  # Now it will reliably print [10, 20, 30]"
   ]
  },
  {
   "cell_type": "markdown",
   "id": "c9e18ce8-9c58-4844-b37e-cbb945eb5be7",
   "metadata": {
    "editable": true,
    "slideshow": {
     "slide_type": ""
    },
    "tags": []
   },
   "source": [
    "Usually, if you have initial values, it's simpler to use the bracket notation as we did with `a`. The `Array` constructor is more often used to create large arrays for efficiency. \n",
    "\n",
    "Julia also offers convenient functions to create arrays filled with specific values: \n",
    "- `zeros(n) - a length-`n` vector of all zeros (as Float64 by default, or you can call `zeros(Int, n)` for Int zeros. \n",
    "- `ones(n) - a length-`n` vector of all ones.\n",
    "- `rand(n) - a length-`n` vector of random numbers uniformly distributed in [0,1). \n",
    "- `randn(n) - a length-`n` vector of random numbers from a normal (Gaussian) distribution. \n",
    "\n",
    "For example: "
   ]
  },
  {
   "cell_type": "code",
   "execution_count": 10,
   "id": "144553b4-f544-418f-aaa7-93903827c502",
   "metadata": {
    "editable": true,
    "slideshow": {
     "slide_type": ""
    },
    "tags": []
   },
   "outputs": [
    {
     "name": "stdout",
     "output_type": "stream",
     "text": [
      "[0.0, 0.0, 0.0, 0.0, 0.0]\n",
      "[1, 1, 1, 1]\n",
      "[0.09821129017798369, 0.6011556206492765, 0.37222564056165997]\n",
      "[-2.081913081273531, -0.5654357053623454, 0.19193288869427932]\n"
     ]
    }
   ],
   "source": [
    "println( zeros(5) )   # e.g., [0.0, 0.0, 0.0, 0.0, 0.0]\n",
    "println( ones(Int, 4) )  # e.g., [1, 1, 1, 1] as Int64\n",
    "println( rand(3) )    # e.g., [0.435, 0.075, 0.912] (3 random floats)\n",
    "println( randn(3) )   # e.g., [1.2, -0.5, 0.3] (3 random normal floats)"
   ]
  },
  {
   "cell_type": "markdown",
   "id": "939c5c21-843e-430e-97d8-8e12f55b8864",
   "metadata": {
    "editable": true,
    "slideshow": {
     "slide_type": ""
    },
    "tags": []
   },
   "source": [
    "## Multi-Dimensional Arrays (Matrices)\n",
    "Multi-dimensional arrays are essentially matrices (2D) or higher-dimensional tensors. You can create a 2D array (matrix in Julia using semicolons `;` to separate rows within the square brackets: "
   ]
  },
  {
   "cell_type": "code",
   "execution_count": 11,
   "id": "5d91dce5-1686-424b-ba3e-e54e07bdafb7",
   "metadata": {
    "editable": true,
    "slideshow": {
     "slide_type": ""
    },
    "tags": []
   },
   "outputs": [
    {
     "name": "stdout",
     "output_type": "stream",
     "text": [
      "[1 2 3; 4 5 6]\n"
     ]
    }
   ],
   "source": [
    "# 2x3 matrix (2 rows, 3 columns)\n",
    "M = [1 2 3; \n",
    "     4 5 6]\n",
    "println(M)\n"
   ]
  },
  {
   "cell_type": "markdown",
   "id": "0093a930-7339-4988-818e-e7b12538ec2f",
   "metadata": {
    "editable": true,
    "slideshow": {
     "slide_type": ""
    },
    "tags": []
   },
   "source": [
    "In the above, the first row is `1 2 3`, and the second row is `4 5 6`. Julia interprets that as a 2-row, 3-column matrix of Ints. \n",
    "\n",
    "You can use the `Array` constructor similarly for multi-d arrays. For example:"
   ]
  },
  {
   "cell_type": "code",
   "execution_count": 12,
   "id": "c758417a-61b6-4bcb-b1ea-cdc7b899781c",
   "metadata": {
    "editable": true,
    "slideshow": {
     "slide_type": ""
    },
    "tags": []
   },
   "outputs": [
    {
     "name": "stdout",
     "output_type": "stream",
     "text": [
      "[5.0e-324 0.0 5.0e-324; 0.0 5.0e-324 0.0]\n"
     ]
    }
   ],
   "source": [
    "N = Array{Float64}(undef, 2, 3)  # 2x3 uninitialized matrix of Float64\n",
    "println(N)"
   ]
  },
  {
   "cell_type": "markdown",
   "id": "372efbba-3095-4cea-9dbd-348188013204",
   "metadata": {
    "editable": true,
    "slideshow": {
     "slide_type": ""
    },
    "tags": []
   },
   "source": [
    "`N` will be a 2x3 matrix with arbitrary initial values. You would typically fill it in or use functions like `zeros(2,3)` for a zero matrix, etc. \n",
    "\n",
    "All the earlier initialisation functions have multi-dimensional forms: "
   ]
  },
  {
   "cell_type": "code",
   "execution_count": 13,
   "id": "0bfa39ec-7b86-4e7c-a550-d050a7224743",
   "metadata": {
    "editable": true,
    "slideshow": {
     "slide_type": ""
    },
    "tags": []
   },
   "outputs": [
    {
     "name": "stdout",
     "output_type": "stream",
     "text": [
      "[0.0 0.0 0.0; 0.0 0.0 0.0; 0.0 0.0 0.0]\n",
      "[1.0 1.0 1.0 1.0; 1.0 1.0 1.0 1.0]\n",
      "[0.8825747481551981 0.6376257660252757; 0.8669537217566343 0.27277960116307]\n",
      "[-0.2588904726728553 0.3233850669860786; -1.1911815060808717 0.3389154204642444; -0.18151761217880635 0.8948282370255342]\n"
     ]
    }
   ],
   "source": [
    "println( zeros(3,3) )   # 3x3 matrix of 0.0\n",
    "println( ones(2,4) )    # 2x4 matrix of 1.0\n",
    "println( rand(2,2) )    # 2x2 matrix of uniform random numbers\n",
    "println( randn(3,2) )   # 3x2 matrix of normal random numbers"
   ]
  },
  {
   "cell_type": "markdown",
   "id": "6aaa380f-565f-4af5-b483-6e7195dd2512",
   "metadata": {
    "editable": true,
    "slideshow": {
     "slide_type": ""
    },
    "tags": []
   },
   "source": [
    "These will create matrices of the given shape filled with the specified content. "
   ]
  },
  {
   "cell_type": "markdown",
   "id": "e562a87f-0fbb-43d5-b28b-dfff0b78f484",
   "metadata": {
    "editable": true,
    "slideshow": {
     "slide_type": ""
    },
    "tags": []
   },
   "source": [
    "## Exercise: Creating Matrices \n",
    "Create a 3x3 identity matrix manually using the semicolon notation; the identity matrix has 1s on its diagonal and 0s elsewhere). Verify its structure by printing it. "
   ]
  },
  {
   "cell_type": "markdown",
   "id": "0445110c-5b71-47c1-a09a-6472cd320791",
   "metadata": {
    "editable": true,
    "slideshow": {
     "slide_type": ""
    },
    "tags": []
   },
   "source": [
    "## Indexing and Slicing \n",
    "Manipulating arrays involves accessing and modifying their elements. In Julia: \n",
    "- Array **indices start at 1**. This is crucial to remember (if you try to access index 0, you'll get a BoundsError). \n",
    "- Use square brackets to index. For a vector `v`, `v[1]` is the first element, `v[2]` the second, etc. For a matrix `M`, use `M[i,j]` to access the element at row i, column j. "
   ]
  },
  {
   "cell_type": "markdown",
   "id": "27fee850-40ac-4938-bdb8-40ad575f0c92",
   "metadata": {
    "editable": true,
    "slideshow": {
     "slide_type": ""
    },
    "tags": []
   },
   "source": [
    "Example (1D indexing): "
   ]
  },
  {
   "cell_type": "code",
   "execution_count": 15,
   "id": "e0c9c67f-41de-4ef2-bdb3-1e824022a29f",
   "metadata": {
    "editable": true,
    "slideshow": {
     "slide_type": ""
    },
    "tags": []
   },
   "outputs": [
    {
     "name": "stdout",
     "output_type": "stream",
     "text": [
      "30\n",
      "[10, 20, 35, 40, 50]\n"
     ]
    }
   ],
   "source": [
    "v = [10, 20, 30, 40, 50]\n",
    "println( v[3] )   # prints 30, the 3rd element\n",
    "v[3] = 35         # modify the 3rd element\n",
    "println( v )      # now v is [10, 20, 35, 40, 50]\n"
   ]
  },
  {
   "cell_type": "markdown",
   "id": "c23465fc-98f6-4965-b9ee-ca7d1ebb449a",
   "metadata": {
    "editable": true,
    "slideshow": {
     "slide_type": ""
    },
    "tags": []
   },
   "source": [
    "Example (2D indexing):"
   ]
  },
  {
   "cell_type": "code",
   "execution_count": 16,
   "id": "8e79bd7f-c9ce-4e22-b991-8587e6a9f960",
   "metadata": {
    "editable": true,
    "slideshow": {
     "slide_type": ""
    },
    "tags": []
   },
   "outputs": [
    {
     "name": "stdout",
     "output_type": "stream",
     "text": [
      "80\n",
      "[10 20 30 40 55; 60 70 80 90 100]\n"
     ]
    }
   ],
   "source": [
    "M = [10 20 30 40 50;\n",
    "     60 70 80 90 100]\n",
    "println( M[2, 3] )  # row 2, col 3 -> this is 80 in the matrix above\n",
    "M[1, 5] = 55        # set the element in row 1, col 5 to 55\n",
    "println(M)"
   ]
  },
  {
   "cell_type": "markdown",
   "id": "cc661659-facf-4ae4-bba5-50a95af13c45",
   "metadata": {
    "editable": true,
    "slideshow": {
     "slide_type": ""
    },
    "tags": []
   },
   "source": [
    "Julia also supports `slicing` to get subarrays. You can use the `:` operator to indicate a range of indices. For instance: \n",
    "- `v[2:4]` gives a subarray consisting of the 2nd through 4th elements of vector `v`. Note: The result is a copy of those elements into a new array. \n",
    "- In a matrix, you can slice along each dimension: `M[1:2, 2:4]` would give the submatrix that spans rows 1 to 2 and columns 2 to 4. \n",
    "- A single colon `:` can mean \"all indices in this dimension\". For example, `M[:, 1]` gives the first column of `M` (as a vector), and `M[2, :]` gives the second row of `M` (as a 1-row matrix or a vector - Julia will preserve 1-dimensional shape for a row unless you specifically convert it). \n",
    "\n",
    "For example: "
   ]
  },
  {
   "cell_type": "code",
   "execution_count": 18,
   "id": "bc2a3fcd-b54d-4121-8d19-1e752688f08c",
   "metadata": {
    "editable": true,
    "slideshow": {
     "slide_type": ""
    },
    "tags": []
   },
   "outputs": [
    {
     "name": "stdout",
     "output_type": "stream",
     "text": [
      "[20, 30, 40]\n",
      "[2 3; 5 6]\n",
      "[3, 6, 9]\n"
     ]
    }
   ],
   "source": [
    "v = [10, 20, 30, 40, 50]\n",
    "subv = v[2:4]            # this will be [20, 30, 40]\n",
    "println(subv)\n",
    "\n",
    "M = [1 2 3; \n",
    "     4 5 6;\n",
    "     7 8 9]\n",
    "println( M[1:2, 2:3] )   # submatrix of first 2 rows and cols 2-3 -> [[2 3]; [5 6]]\n",
    "println( M[:, end] )     # all rows, last column -> [3, 6, 9]^T (as a vector of length 3)\n"
   ]
  },
  {
   "cell_type": "markdown",
   "id": "98110c4f-aa38-4e5b-9069-7a5a42f26a8f",
   "metadata": {
    "editable": true,
    "slideshow": {
     "slide_type": ""
    },
    "tags": []
   },
   "source": [
    "Here, we introduce the special index `end`, which is a convenient way to refer to the last index of that dimension. In `M[:, end]`, `end` represents the last column index (which is 3 for our 3x3 example). \n",
    "\n",
    "You can also modify subarrays by slicing on the left-hand side of an assignment: \n"
   ]
  },
  {
   "cell_type": "code",
   "execution_count": 19,
   "id": "0706d030-6cac-4da0-abe0-c9e560d06be8",
   "metadata": {
    "editable": true,
    "slideshow": {
     "slide_type": ""
    },
    "tags": []
   },
   "outputs": [
    {
     "name": "stdout",
     "output_type": "stream",
     "text": [
      "[10, 100, 200, 300, 50]\n"
     ]
    }
   ],
   "source": [
    "v[2:4] = [100, 200, 300]   # replace a segment of v with new values\n",
    "println(v)  # if v was [10,20,30,40,50], now it becomes [10, 100, 200, 300, 50]\n"
   ]
  },
  {
   "cell_type": "markdown",
   "id": "d68e282e-3795-4bc6-8c5b-22f8708e4863",
   "metadata": {
    "editable": true,
    "slideshow": {
     "slide_type": ""
    },
    "tags": []
   },
   "source": [
    "## Common Operations on Arrays \n",
    "Some common things you might do with arrays: \n",
    "- **Append elements**: Use `push!(array, value)` to append a single value to the end of a 1D array (vector). Use `append!(array, collection)` to attend all elements of another collection. \n",
    "- **Remove elements**: Use `pop1(array`) to remove the last element (and return it). There's also `deleteat!(array, index)` to remove the element at a specific index. \n",
    "- **Combining arrays**: You can concatenate arrays using `vcat`(vertical concatenation) and `hcat` (horizontal concatenation) functions, or simply using brackets with semicolons and spaces appropriately. For example, `c = [a; b]` will stack vector `a` on top of `b` (if they have the same length), and `d = [ a b]` will put `a` and `b` side by side (if they are the same length and are column vectors). \n",
    "- **Element-wise operations**: By default, arithmetic on arrays with the same dimensions is element-wise in Julia (unlike MATLAB, which does matrix multiplication by default with `*`). For example, `u = [1,2,3]; v = [10,10,10]; println(u + v)` yields `[11,12,13]`. However, note that `*` for matrices/vector does matrix multiplication (not elementwise). For elementwise multiplication or division on arrays, use the dot form: `u .* v`, `u ./ v`, etc. \n",
    "- **Built-in functions**: Julia has many handy functions like `sum(array)` to sum elements, `maximum(array) / minimum(array)`, `sort(array)`, etc. "
   ]
  },
  {
   "cell_type": "markdown",
   "id": "a8d93df7-b252-434e-937a-f2d2b11c095b",
   "metadata": {
    "editable": true,
    "slideshow": {
     "slide_type": ""
    },
    "tags": []
   },
   "source": [
    "## Exercise: Operations on Arrays\n",
    "Given an array `data = [5, 3, 8, 1, 2]`, do the following: \n",
    "- Sort the array (ascending) and print the sorted result. \n",
    "- Add a new number (e.g. 10) to the end of the array. \n",
    "- Compute the sum of all elements in the array. \n",
    "- Create a new array `squares` that is the element-wise squares of `data` "
   ]
  },
  {
   "cell_type": "code",
   "execution_count": 24,
   "id": "ea39831d-d7a6-44ca-8e21-9cc922c25706",
   "metadata": {
    "editable": true,
    "slideshow": {
     "slide_type": ""
    },
    "tags": [
     "remove-input"
    ]
   },
   "outputs": [
    {
     "data": {
      "text/html": [
       "<style>\n",
       ".quiz-question {\n",
       "    background-color: #6c63ff;\n",
       "    color: white;\n",
       "    padding: 12px;\n",
       "    border-radius: 10px;\n",
       "    font-weight: bold;\n",
       "    font-size: 1.2em;\n",
       "    margin-bottom: 10px;\n",
       "}\n",
       "\n",
       ".quiz-form {\n",
       "    margin-bottom: 20px;\n",
       "}\n",
       "\n",
       ".quiz-answer {\n",
       "    display: block;\n",
       "    background-color: #f2f2f2;\n",
       "    border: none;\n",
       "    border-radius: 10px;\n",
       "    padding: 10px;\n",
       "    margin: 5px 0;\n",
       "    font-size: 1em;\n",
       "    cursor: pointer;\n",
       "    text-align: left;\n",
       "    transition: background-color 0.3s;\n",
       "    width: 100%;\n",
       "}\n",
       "\n",
       ".quiz-answer:hover {\n",
       "    background-color: #e0e0e0;\n",
       "}\n",
       "\n",
       ".correct {\n",
       "    background-color: #4CAF50 !important;\n",
       "    color: white !important;\n",
       "    border: none;\n",
       "}\n",
       "\n",
       ".incorrect {\n",
       "    background-color: #D32F2F !important;\n",
       "    color: white !important;\n",
       "    border: none;\n",
       "}\n",
       "\n",
       ".feedback {\n",
       "    margin-top: 10px;\n",
       "    font-weight: bold;\n",
       "    font-size: 1em;\n",
       "}\n",
       "</style>\n",
       "\n",
       "<script>\n",
       "function handleAnswer(qid, aid, feedback, isCorrect) {\n",
       "    // Reset all buttons for the question\n",
       "    let buttons = document.querySelectorAll(\".answer-\" + qid);\n",
       "    buttons.forEach(btn => {\n",
       "        btn.classList.remove('correct', 'incorrect');\n",
       "    });\n",
       "\n",
       "    // Apply correct/incorrect to selected\n",
       "    let selected = document.getElementById(aid);\n",
       "    selected.classList.add(isCorrect ? 'correct' : 'incorrect');\n",
       "\n",
       "    // Show feedback below the question\n",
       "    let feedbackBox = document.getElementById('feedback_' + qid);\n",
       "    feedbackBox.innerHTML = feedback;\n",
       "    feedbackBox.style.color = isCorrect ? 'green' : 'red';\n",
       "}\n",
       "</script>\n",
       "<div class=\"quiz-question\">What is the result of the expression v[2:4] in Julia, given v = [10, 20, 30, 40, 50]?</div><form class=\"quiz-form\"><button type=\"button\" class=\"quiz-answer answer-1\" id=\"q1_a1\"\n",
       "    onclick=\"handleAnswer('1', 'q1_a1', 'Incorrect', false)\">\n",
       "    [10, 30, 50]\n",
       "</button>\n",
       "<button type=\"button\" class=\"quiz-answer answer-1\" id=\"q1_a2\"\n",
       "    onclick=\"handleAnswer('1', 'q1_a2', 'Correct', true)\">\n",
       "    [20, 30, 40]\n",
       "</button>\n",
       "<button type=\"button\" class=\"quiz-answer answer-1\" id=\"q1_a3\"\n",
       "    onclick=\"handleAnswer('1', 'q1_a3', 'Incorrect', false)\">\n",
       "    [2, 3, 4]\n",
       "</button>\n",
       "<button type=\"button\" class=\"quiz-answer answer-1\" id=\"q1_a4\"\n",
       "    onclick=\"handleAnswer('1', 'q1_a4', 'Incorrect', false)\">\n",
       "    [30, 40, 50]\n",
       "</button>\n",
       "<div class=\"feedback\" id=\"feedback_1\"></div></form><hr><div class=\"quiz-question\">Which of the following correctly creates a 2x3 matrix in Julia?</div><form class=\"quiz-form\"><button type=\"button\" class=\"quiz-answer answer-2\" id=\"q2_a1\"\n",
       "    onclick=\"handleAnswer('2', 'q2_a1', 'Incorrect', false)\">\n",
       "    M = [1, 2, 3; 4, 5, 6]\n",
       "</button>\n",
       "<button type=\"button\" class=\"quiz-answer answer-2\" id=\"q2_a2\"\n",
       "    onclick=\"handleAnswer('2', 'q2_a2', 'Incorrect', false)\">\n",
       "    M = [[1, 2, 3]; [4, 5, 6]]\n",
       "</button>\n",
       "<button type=\"button\" class=\"quiz-answer answer-2\" id=\"q2_a3\"\n",
       "    onclick=\"handleAnswer('2', 'q2_a3', 'Correct', true)\">\n",
       "    M = [1 2 3; 4 5 6]\n",
       "</button>\n",
       "<button type=\"button\" class=\"quiz-answer answer-2\" id=\"q2_a4\"\n",
       "    onclick=\"handleAnswer('2', 'q2_a4', 'Incorrect', false)\">\n",
       "    M = [1; 2; 3; 4; 5; 6]\n",
       "</button>\n",
       "<div class=\"feedback\" id=\"feedback_2\"></div></form><hr><div class=\"quiz-question\">How do you perform element-wise multiplication between two arrays u and v in Julia?</div><form class=\"quiz-form\"><button type=\"button\" class=\"quiz-answer answer-3\" id=\"q3_a1\"\n",
       "    onclick=\"handleAnswer('3', 'q3_a1', 'Incorrect', false)\">\n",
       "    u * v\n",
       "</button>\n",
       "<button type=\"button\" class=\"quiz-answer answer-3\" id=\"q3_a2\"\n",
       "    onclick=\"handleAnswer('3', 'q3_a2', 'Incorrect', false)\">\n",
       "    dot(u, v)\n",
       "</button>\n",
       "<button type=\"button\" class=\"quiz-answer answer-3\" id=\"q3_a3\"\n",
       "    onclick=\"handleAnswer('3', 'q3_a3', 'Incorrect', false)\">\n",
       "    u .^ v\n",
       "</button>\n",
       "<button type=\"button\" class=\"quiz-answer answer-3\" id=\"q3_a4\"\n",
       "    onclick=\"handleAnswer('3', 'q3_a4', 'Correct', true)\">\n",
       "    u .* v\n",
       "</button>\n",
       "<div class=\"feedback\" id=\"feedback_3\"></div></form><hr>"
      ]
     },
     "metadata": {},
     "output_type": "display_data"
    }
   ],
   "source": [
    "using JSON\n",
    "\n",
    "function show_quiz_from_json(path)\n",
    "    quiz_data = JSON.parsefile(path)\n",
    "\n",
    "    html = \"\"\"\n",
    "    <style>\n",
    "    .quiz-question {\n",
    "        background-color: #6c63ff;\n",
    "        color: white;\n",
    "        padding: 12px;\n",
    "        border-radius: 10px;\n",
    "        font-weight: bold;\n",
    "        font-size: 1.2em;\n",
    "        margin-bottom: 10px;\n",
    "    }\n",
    "\n",
    "    .quiz-form {\n",
    "        margin-bottom: 20px;\n",
    "    }\n",
    "\n",
    "    .quiz-answer {\n",
    "        display: block;\n",
    "        background-color: #f2f2f2;\n",
    "        border: none;\n",
    "        border-radius: 10px;\n",
    "        padding: 10px;\n",
    "        margin: 5px 0;\n",
    "        font-size: 1em;\n",
    "        cursor: pointer;\n",
    "        text-align: left;\n",
    "        transition: background-color 0.3s;\n",
    "        width: 100%;\n",
    "    }\n",
    "\n",
    "    .quiz-answer:hover {\n",
    "        background-color: #e0e0e0;\n",
    "    }\n",
    "\n",
    "    .correct {\n",
    "        background-color: #4CAF50 !important;\n",
    "        color: white !important;\n",
    "        border: none;\n",
    "    }\n",
    "\n",
    "    .incorrect {\n",
    "        background-color: #D32F2F !important;\n",
    "        color: white !important;\n",
    "        border: none;\n",
    "    }\n",
    "\n",
    "    .feedback {\n",
    "        margin-top: 10px;\n",
    "        font-weight: bold;\n",
    "        font-size: 1em;\n",
    "    }\n",
    "    </style>\n",
    "\n",
    "    <script>\n",
    "    function handleAnswer(qid, aid, feedback, isCorrect) {\n",
    "        // Reset all buttons for the question\n",
    "        let buttons = document.querySelectorAll(\".answer-\" + qid);\n",
    "        buttons.forEach(btn => {\n",
    "            btn.classList.remove('correct', 'incorrect');\n",
    "        });\n",
    "\n",
    "        // Apply correct/incorrect to selected\n",
    "        let selected = document.getElementById(aid);\n",
    "        selected.classList.add(isCorrect ? 'correct' : 'incorrect');\n",
    "\n",
    "        // Show feedback below the question\n",
    "        let feedbackBox = document.getElementById('feedback_' + qid);\n",
    "        feedbackBox.innerHTML = feedback;\n",
    "        feedbackBox.style.color = isCorrect ? 'green' : 'red';\n",
    "    }\n",
    "    </script>\n",
    "    \"\"\"\n",
    "\n",
    "    for (i, question) in enumerate(quiz_data)\n",
    "        qid = \"$i\"\n",
    "        html *= \"\"\"<div class=\"quiz-question\">$(question[\"question\"])</div><form class=\"quiz-form\">\"\"\"\n",
    "\n",
    "        for (j, answer) in enumerate(question[\"answers\"])\n",
    "            aid = \"q$(i)_a$(j)\"\n",
    "            feedback = answer[\"feedback\"]\n",
    "            correct = startswith(lowercase(feedback), \"correct\")\n",
    "            html *= \"\"\"\n",
    "            <button type=\"button\" class=\"quiz-answer answer-$qid\" id=\"$aid\"\n",
    "                onclick=\"handleAnswer('$qid', '$aid', '$feedback', $(correct))\">\n",
    "                $(answer[\"answer\"])\n",
    "            </button>\n",
    "            \"\"\"\n",
    "        end\n",
    "\n",
    "        html *= \"\"\"<div class=\"feedback\" id=\"feedback_$qid\"></div></form><hr>\"\"\"\n",
    "    end\n",
    "\n",
    "    display(\"text/html\", html)\n",
    "end\n",
    "\n",
    "\n",
    "# Use the function\n",
    "show_quiz_from_json(\"questions/summary_arrays_and_matricies.json\")"
   ]
  },
  {
   "cell_type": "code",
   "execution_count": null,
   "id": "71df2d8f-5ec7-42bf-97fc-369e22e93ed8",
   "metadata": {
    "editable": true,
    "slideshow": {
     "slide_type": ""
    },
    "tags": []
   },
   "outputs": [],
   "source": []
  }
 ],
 "metadata": {
  "kernelspec": {
   "display_name": "Julia 1.10.3",
   "language": "julia",
   "name": "julia-1.10"
  },
  "language_info": {
   "file_extension": ".jl",
   "mimetype": "application/julia",
   "name": "julia",
   "version": "1.10.3"
  }
 },
 "nbformat": 4,
 "nbformat_minor": 5
}
