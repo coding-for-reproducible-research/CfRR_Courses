{
 "cells": [
  {
   "cell_type": "markdown",
   "id": "1d332410-c321-46f0-85c9-9146c4ca126a",
   "metadata": {
    "editable": true,
    "slideshow": {
     "slide_type": ""
    },
    "tags": []
   },
   "source": [
    "# Arrays \n",
    "\n",
    "## Learning Objectives\n",
    "\n",
    "- Understand the concept of arrays in Julia \n",
    "- Create and initialise arrays \n",
    "- Utilise various array creation functions\n",
    "- Perform basic manipulations such as indexing and slicing on arrays\n",
    "- Implement common operations on arrays and matrices\n",
    "\n",
    "## Introduction\n",
    "\n",
    "We've already been using arrays informally earlier in the course, so let's now consider them more thoroughly. Arrays are a fundamental data structure in Julia that are used to store collections of elements. If you're coming from Python, you can think of Julia arrays as similar to NumPy arrays. One key difference: Julia arrays are **1-indexed** (the first element is index 1, not 0).\n",
    "\n",
    "In Julia, all elements of an array have the same type. To define an array in Julia, we need to specify the **type of elements** in the array and the **number of dimensions** (i.e. the number of 'axes'):\n",
    "\n",
    "```julia\n",
    "Array{T, N}  # T is the element type, N is the number of dimensions\n",
    "```\n",
    "\n",
    "For example:\n",
    "- `Array{Int, 1}`: a 1-dimensional array of `Int`s\n",
    "- `Array{Float64, 2}`: a 2-dimensional array of `Float64`s\n",
    "- `Array{Any, 99}`: a 99-dimensional array that can contain any objects.\n",
    "\n",
    "This allows Julia to optimise the performance of operations on arrays, at least in cases where the type of elements is a concrete (non-abstract) type. While it is possible to have arrays of mixed types (e.g. any kind of `Number`, or a mix of `String`s and other types, we most often use uniform-type arrays.\n",
    "\n",
    "**Note**: Julia uses the aliases `Vector` for a 1-dimensional array and `Matrix` for a 2-dimensional array. So, for example,\n",
    "- `Vector{String}` is the same as `Array{String, 1}`\n",
    "- `Matrix{Int32}` is the same as `Array{Int32, 2}`\n",
    "\n",
    "We'll start by looking at how to construct arrays of arbitrary shape, then look at the 1-dimensional (`Vector`) and 2-dimensional (`Matrix`) cases specifically, since these are the most common cases you'll likely encounter."
   ]
  },
  {
   "cell_type": "markdown",
   "id": "75e7843d-9cad-4318-a6ae-c9ec59386ff9",
   "metadata": {
    "editable": true,
    "slideshow": {
     "slide_type": ""
    },
    "tags": []
   },
   "source": [
    "## Array Constructors \n",
    "\n",
    "Julia provides a general `Array` constructor, though it is only useful for instantiating an array with 'garbage' values, ready for population later:\n",
    "\n",
    "```julia\n",
    "Array{T}(undef, n1, n2, ...)  # element type T, shape (n1, n2, ...)\n",
    "```"
   ]
  },
  {
   "cell_type": "markdown",
   "id": "4bf91191-830c-409a-ae46-b4ce67b6608f",
   "metadata": {},
   "source": [
    "The `undef` keyword tells Julia we want to allocate the array without initialising its contents. For numerical types, the contents of the array will be whatever was already in the memory locations, interpreted as elements of type `T` (essentially garbage e.g. random-looking numbers). For example:"
   ]
  },
  {
   "cell_type": "code",
   "execution_count": 1,
   "id": "ebb2d981-57d9-4aa3-83e3-bd31fd5f7521",
   "metadata": {
    "editable": true,
    "slideshow": {
     "slide_type": ""
    },
    "tags": []
   },
   "outputs": [
    {
     "data": {
      "text/plain": [
       "3×2 Matrix{Int64}:\n",
       " 4524021216           0\n",
       "          0  4790380560\n",
       " 4553880528           0"
      ]
     },
     "execution_count": 1,
     "metadata": {},
     "output_type": "execute_result"
    }
   ],
   "source": [
    "# Create an uninitialized 2D array of Int with 3 rows and 2 columns\n",
    "Array{Int}(undef, 3, 2)"
   ]
  },
  {
   "cell_type": "code",
   "execution_count": 2,
   "id": "809cd0fa-b2c8-4c69-95eb-c78e93dcfe5a",
   "metadata": {},
   "outputs": [
    {
     "data": {
      "text/plain": [
       "2×2×2 Array{String, 3}:\n",
       "[:, :, 1] =\n",
       " #undef  #undef\n",
       " #undef  #undef\n",
       "\n",
       "[:, :, 2] =\n",
       " #undef  #undef\n",
       " #undef  #undef"
      ]
     },
     "execution_count": 2,
     "metadata": {},
     "output_type": "execute_result"
    }
   ],
   "source": [
    "# Create an uninitialised 3D array of String with 2 locations in each dim\n",
    "Array{String}(undef, 2, 2, 2)"
   ]
  },
  {
   "cell_type": "markdown",
   "id": "b4b86ef0-b348-4471-97fc-85e791292a40",
   "metadata": {
    "editable": true,
    "slideshow": {
     "slide_type": ""
    },
    "tags": []
   },
   "source": [
    "It's up to us to assign values to all positions before using them, or else those initial values are meaningless. The benefit of `undef` is if you plan to populate the array immediately, you don't spend time setting arbitrary values (which is more performant). \n",
    "\n",
    "To populate the array, we use square-bracket indexing and the assignment operator `=`, like in many other languages. For an array `A` with `n` dimensions, use `A[i1, i2, ..., in]` to assign to the element at location `(i1, i2, ..., in)`. Note that array **indices start at 1**, rather than 0; if you try to access index 0, you'll get a `BoundsError`. "
   ]
  },
  {
   "cell_type": "code",
   "execution_count": 3,
   "id": "beaad64a-c583-4851-868d-447dd84f6ba5",
   "metadata": {
    "editable": true,
    "slideshow": {
     "slide_type": ""
    },
    "tags": []
   },
   "outputs": [
    {
     "data": {
      "text/plain": [
       "2×3 Matrix{Float64}:\n",
       "  1.0   2.0   3.0\n",
       " 10.0  20.0  30.0"
      ]
     },
     "execution_count": 3,
     "metadata": {},
     "output_type": "execute_result"
    }
   ],
   "source": [
    "# 2D array of Float64\n",
    "arr = Array{Float64}(undef, 2, 3)\n",
    "\n",
    "# Assign element values\n",
    "arr[1, 1] = 1\n",
    "arr[2, 1] = 10\n",
    "arr[1, 2] = 2\n",
    "arr[2, 2] = 20\n",
    "arr[1, 3] = 3\n",
    "arr[2, 3] = 30\n",
    "\n",
    "arr"
   ]
  },
  {
   "cell_type": "markdown",
   "id": "0b7456a9-ec0d-46dc-97cb-67c7b83b6532",
   "metadata": {},
   "source": [
    "(As a side note: observe how the integer values `1`, `10`, ... were coerced to the element type for the array, `Float64`.)\n",
    "\n",
    "Obviously this method will get tedious quickly if we just hard-code values: we'll see alternative syntax for doing this later. For now, let's look at how we could use iteration to fill in the values instead. We can use the function `axes` to get the range of indices for an array along each dimension:"
   ]
  },
  {
   "cell_type": "code",
   "execution_count": 4,
   "id": "295cf835-1e00-4bbe-a5e0-bbd780f0b54e",
   "metadata": {},
   "outputs": [
    {
     "name": "stdout",
     "output_type": "stream",
     "text": [
      "Base.OneTo(2)\n",
      "Base.OneTo(3)\n"
     ]
    }
   ],
   "source": [
    "arr = Array{Float64}(undef, 2, 3)\n",
    "\n",
    "# View the index range along dimension 1\n",
    "println(axes(arr, 1))\n",
    "\n",
    "# And along dimension 2\n",
    "println(axes(arr, 2))"
   ]
  },
  {
   "cell_type": "markdown",
   "id": "99e117a4-a7ee-4941-8748-926a358b6369",
   "metadata": {},
   "source": [
    "In the above, `Base.OneTo(n)` signifies the range `1, ..., n`. So for our 2 x 3 array `arr`, we the indices range from 1 to 2 in the first dimension (rows) and 1 to 3 in the second dimension (columns), as we'd expect.\n",
    "\n",
    "We can use this to assign values to elements of `arr` via a `for` loop:"
   ]
  },
  {
   "cell_type": "code",
   "execution_count": 5,
   "id": "500ac92e-713b-46b7-93a9-84416a1e9f8a",
   "metadata": {},
   "outputs": [
    {
     "data": {
      "text/plain": [
       "2×3 Matrix{Float64}:\n",
       "  1.0   2.0   3.0\n",
       " 10.0  20.0  30.0"
      ]
     },
     "execution_count": 5,
     "metadata": {},
     "output_type": "execute_result"
    }
   ],
   "source": [
    "# Loop through each row and column\n",
    "for i in axes(arr, 1)\n",
    "    for j in axes(arr, 2)\n",
    "        arr[i, j] = j * 10^(i - 1)\n",
    "    end\n",
    "end\n",
    "arr"
   ]
  },
  {
   "cell_type": "markdown",
   "id": "af592d52-2110-4383-8c01-1172f6155643",
   "metadata": {},
   "source": [
    "### Exercise: a 3-dim array\n",
    "\n",
    "Create a 3-dimensional array with shape `(2, 3, 4)`, where the element at index `[i, j, k]` is equal to the integer $2^i \\times 3^j \\times 5^k$."
   ]
  },
  {
   "cell_type": "code",
   "execution_count": 6,
   "id": "145e8b3a-1703-4b3e-9b5e-d94fcd1fee6f",
   "metadata": {},
   "outputs": [],
   "source": [
    "# Answer here\n",
    "\n"
   ]
  },
  {
   "cell_type": "markdown",
   "id": "c9e18ce8-9c58-4844-b37e-cbb945eb5be7",
   "metadata": {
    "editable": true,
    "slideshow": {
     "slide_type": ""
    },
    "tags": []
   },
   "source": [
    "### Pre-made constructors\n",
    "\n",
    "Julia also offers convenient functions to create arrays filled with specific values, including:\n",
    "\n",
    "- `zeros(T, dims...)`: array of zeros of type `T` (or leave out `T` for `Float64` by default). \n",
    "- `ones(T, dims...)`: array of ones of type `T` (or leave out `T` for `Float64` by default).\n",
    "- `fill(x, dims...)`: array with all entries equal to `x` (element type inferred from `x`).\n",
    "- `rand(dims...)`: array of random numbers, each drawn from a uniform distribution in the half-open inveral $[0,1)$. \n",
    "- `randn(dims...)`: array of random numbers, each drawn from a normal (Gaussian) distribution.\n",
    "- `similar(A)`: an uninitialised array of the same type as `A`, with the same element type and dimensions. Or specify a new element type `T` via `similar(A, T)` and/or dimensions via `similar(A, T, dims...)`.\n",
    "\n",
    "The `dims...` means we specify the length of each dimension as a separate argument.\n",
    "\n",
    "For example: "
   ]
  },
  {
   "cell_type": "code",
   "execution_count": 7,
   "id": "c1cb59ed-9316-4e29-88b7-cded07f416e5",
   "metadata": {
    "editable": true,
    "slideshow": {
     "slide_type": ""
    },
    "tags": []
   },
   "outputs": [
    {
     "data": {
      "text/plain": [
       "5-element Vector{Int64}:\n",
       " 0\n",
       " 0\n",
       " 0\n",
       " 0\n",
       " 0"
      ]
     },
     "execution_count": 7,
     "metadata": {},
     "output_type": "execute_result"
    }
   ],
   "source": [
    "# 1D array of Int zeros of length 5\n",
    "zeros(Int, 5)"
   ]
  },
  {
   "cell_type": "code",
   "execution_count": 8,
   "id": "fe632697-14ef-48a6-8fdf-1219bccea120",
   "metadata": {
    "editable": true,
    "slideshow": {
     "slide_type": ""
    },
    "tags": []
   },
   "outputs": [
    {
     "data": {
      "text/plain": [
       "3×2 Matrix{ComplexF64}:\n",
       " 1.0+0.0im  1.0+0.0im\n",
       " 1.0+0.0im  1.0+0.0im\n",
       " 1.0+0.0im  1.0+0.0im"
      ]
     },
     "execution_count": 8,
     "metadata": {},
     "output_type": "execute_result"
    }
   ],
   "source": [
    "# 2D array of Complex{Float64} ones of shape (3, 2)\n",
    "ones(Complex{Float64}, 3, 2)"
   ]
  },
  {
   "cell_type": "code",
   "execution_count": 9,
   "id": "5d1ec268-15e0-45fa-9b8d-455e44a45010",
   "metadata": {
    "editable": true,
    "slideshow": {
     "slide_type": ""
    },
    "tags": []
   },
   "outputs": [
    {
     "data": {
      "text/plain": [
       "2×2×2 Array{Int64, 3}:\n",
       "[:, :, 1] =\n",
       " 42  42\n",
       " 42  42\n",
       "\n",
       "[:, :, 2] =\n",
       " 42  42\n",
       " 42  42"
      ]
     },
     "execution_count": 9,
     "metadata": {},
     "output_type": "execute_result"
    }
   ],
   "source": [
    "# 3D array filled with integer value 42 of shape (2, 2, 2)\n",
    "fill(42, 2, 2, 2)"
   ]
  },
  {
   "cell_type": "code",
   "execution_count": 10,
   "id": "3ee18f39-ed49-48b6-9445-433973f6e357",
   "metadata": {
    "editable": true,
    "slideshow": {
     "slide_type": ""
    },
    "tags": []
   },
   "outputs": [
    {
     "data": {
      "text/plain": [
       "4-element Vector{Float64}:\n",
       " 0.19297094327137432\n",
       " 0.8303537059025339\n",
       " 0.5105989034305005\n",
       " 0.7845809829918222"
      ]
     },
     "execution_count": 10,
     "metadata": {},
     "output_type": "execute_result"
    }
   ],
   "source": [
    "# 1D array of length 4 of random numbers (uniformly distributed)\n",
    "rand(4)"
   ]
  },
  {
   "cell_type": "code",
   "execution_count": 11,
   "id": "3a798193-55b1-4d97-a9d6-73d0a5659c9e",
   "metadata": {
    "editable": true,
    "slideshow": {
     "slide_type": ""
    },
    "tags": []
   },
   "outputs": [
    {
     "data": {
      "text/plain": [
       "2×2 Matrix{Float64}:\n",
       " -1.94493  0.745495\n",
       " -1.17203  0.413642"
      ]
     },
     "execution_count": 11,
     "metadata": {},
     "output_type": "execute_result"
    }
   ],
   "source": [
    "# 2D array of shape (2, 2) of random numbers (normally distributed)\n",
    "randn(2, 2)"
   ]
  },
  {
   "cell_type": "code",
   "execution_count": 12,
   "id": "5fd5f0ec-3f01-44cf-add2-783e6d37170e",
   "metadata": {
    "editable": true,
    "slideshow": {
     "slide_type": ""
    },
    "tags": []
   },
   "outputs": [
    {
     "data": {
      "text/plain": [
       "3×4 Matrix{Float64}:\n",
       " 2.54639e-313  6.36599e-313  0.0       3.60739e-313\n",
       " 4.03179e-313  6.36599e-313  0.0       8.70018e-313\n",
       " 7.21479e-313  5.72939e-313  1.1e-322  3.5e-323"
      ]
     },
     "execution_count": 12,
     "metadata": {},
     "output_type": "execute_result"
    }
   ],
   "source": [
    "# Uninitialised array based on a random array\n",
    "similar(rand(3, 4))"
   ]
  },
  {
   "cell_type": "markdown",
   "id": "e855f17d-3232-44aa-bd14-e7fa42693562",
   "metadata": {},
   "source": [
    "## Basic functions\n",
    "\n",
    "We have the following functions for getting basic information about an array:\n",
    "- `eltype(arr)`: get the element type\n",
    "- `length(arr)`: the total number of elements in the array\n",
    "- `ndims(arr)`: the number of dimensions (number of axes)\n",
    "- `size(arr)`: tuple of dimensions / shape of array"
   ]
  },
  {
   "cell_type": "code",
   "execution_count": 13,
   "id": "0f9d91e5-4069-4dfc-b0ac-8c03bb90f4cd",
   "metadata": {},
   "outputs": [
    {
     "name": "stdout",
     "output_type": "stream",
     "text": [
      "eltype(arr) = Float64\n",
      "length(arr) = 30\n",
      "ndims(arr) = 3\n",
      "size(arr) = (2, 3, 5)\n"
     ]
    }
   ],
   "source": [
    "arr = Array{Float64}(undef, 2, 3, 5)\n",
    "\n",
    "# Get the element type\n",
    "@show eltype(arr)\n",
    "\n",
    "# Get the total number of elements\n",
    "@show length(arr)\n",
    "\n",
    "# The number of dimensions (number of axes)\n",
    "@show ndims(arr)\n",
    "\n",
    "# Tuple of dimensions\n",
    "@show size(arr);"
   ]
  },
  {
   "cell_type": "markdown",
   "id": "75a69e53-46a7-42b4-b8a0-27ef1e5f1153",
   "metadata": {
    "editable": true,
    "slideshow": {
     "slide_type": ""
    },
    "tags": []
   },
   "source": [
    "## 1-Dimensional Arrays (Vectors)\n",
    "\n",
    "A one-dimensional array (also called a `Vector`) is essentially an ordered list of elements. The simplest way to create one is by using square brackets `[...]` with commas separating elements: "
   ]
  },
  {
   "cell_type": "code",
   "execution_count": 14,
   "id": "299d5248-6cec-42f2-9866-33ab4ff57a78",
   "metadata": {
    "editable": true,
    "slideshow": {
     "slide_type": ""
    },
    "tags": []
   },
   "outputs": [
    {
     "name": "stdout",
     "output_type": "stream",
     "text": [
      "[1, 2, 3]\n",
      "Vector{Int64}\n"
     ]
    }
   ],
   "source": [
    "# Declare and initialize a 1D array of integers\n",
    "a = [1, 2, 3]\n",
    "println(a)\n",
    "\n",
    "# See type\n",
    "println(typeof(a))"
   ]
  },
  {
   "cell_type": "markdown",
   "id": "784651e5-d4bd-4360-88e6-c39d1bccd60e",
   "metadata": {
    "editable": true,
    "slideshow": {
     "slide_type": ""
    },
    "tags": []
   },
   "source": [
    "Julia infers the type from the elements you provided. If you mix types, Julia will promote to a common type if possible or else use the generic type `Any`."
   ]
  },
  {
   "cell_type": "code",
   "execution_count": 15,
   "id": "172906ea-182d-41a4-bbb1-3e5cafcdbf60",
   "metadata": {},
   "outputs": [
    {
     "name": "stdout",
     "output_type": "stream",
     "text": [
      "a is [1.0, 2.2] of type Vector{Float64}\n",
      "b is Int16[1, 2] of type Vector{Int16}\n",
      "c is Any[1, \"1\"] of type Vector{Any}\n"
     ]
    }
   ],
   "source": [
    "a = [1, 2.2]\n",
    "println(\"a is \", a, \" of type \", typeof(a))\n",
    "\n",
    "b = [Int16(1), UInt8(2)]\n",
    "println(\"b is \", b, \" of type \", typeof(b))\n",
    "\n",
    "c = [1, \"1\"]\n",
    "println(\"c is \", c, \" of type \", typeof(c))"
   ]
  },
  {
   "cell_type": "markdown",
   "id": "f4489bdc-baa9-4df9-9062-621a1d3b4dfa",
   "metadata": {},
   "source": [
    "We can specify the type to convert elements to by prepending the square brackets with the type:"
   ]
  },
  {
   "cell_type": "code",
   "execution_count": 16,
   "id": "e26faac3-42e6-451c-9f70-0535f05d8acb",
   "metadata": {},
   "outputs": [
    {
     "name": "stdout",
     "output_type": "stream",
     "text": [
      "d is Float32[0.33333334, 1.0, 1.5] of type Vector{Float32}\n"
     ]
    }
   ],
   "source": [
    "# Ensure we have an array of Float32\n",
    "d = Float32[1 / 3, 1, 3 // 2]\n",
    "println(\"d is \", d, \" of type \", typeof(d))"
   ]
  },
  {
   "cell_type": "markdown",
   "id": "684af96e-02b8-40f8-97e5-1ed3e08a9b0d",
   "metadata": {
    "editable": true,
    "slideshow": {
     "slide_type": ""
    },
    "tags": []
   },
   "source": [
    "You can also create an empty array and `push!` elements into it:"
   ]
  },
  {
   "cell_type": "code",
   "execution_count": 17,
   "id": "53db1dd5-75ab-454d-9882-2c90e0143533",
   "metadata": {
    "editable": true,
    "slideshow": {
     "slide_type": ""
    },
    "tags": []
   },
   "outputs": [
    {
     "data": {
      "text/plain": [
       "2-element Vector{Int64}:\n",
       " 10\n",
       " 20"
      ]
     },
     "execution_count": 17,
     "metadata": {},
     "output_type": "execute_result"
    }
   ],
   "source": [
    "# Empty vector of Int\n",
    "empty_vec = Int[]\n",
    "\n",
    "# Append elements to it\n",
    "push!(empty_vec, 10)\n",
    "push!(empty_vec, 20)\n",
    "empty_vec"
   ]
  },
  {
   "cell_type": "markdown",
   "id": "939c5c21-843e-430e-97d8-8e12f55b8864",
   "metadata": {
    "editable": true,
    "slideshow": {
     "slide_type": ""
    },
    "tags": []
   },
   "source": [
    "## 2-Dimensional Arrays (Matrices)\n",
    "\n",
    "You can create a 2D array (`Matrix`) in Julia using spaces to separate columns and semicolons `;` (or just new lines) to separate rows, within the square brackets: "
   ]
  },
  {
   "cell_type": "code",
   "execution_count": 18,
   "id": "5d91dce5-1686-424b-ba3e-e54e07bdafb7",
   "metadata": {
    "editable": true,
    "slideshow": {
     "slide_type": ""
    },
    "tags": []
   },
   "outputs": [
    {
     "data": {
      "text/plain": [
       "2×3 Matrix{Int64}:\n",
       " 1  2  3\n",
       " 4  5  6"
      ]
     },
     "execution_count": 18,
     "metadata": {},
     "output_type": "execute_result"
    }
   ],
   "source": [
    "# 2x3 matrix (2 rows, 3 columns)\n",
    "M = [1 2 3 \n",
    "     4 5 6]\n",
    "\n",
    "# Equivalently:\n",
    "M = [1 2 3; 4 5 6]"
   ]
  },
  {
   "cell_type": "markdown",
   "id": "fecc6344-f996-4ee2-b1d7-5933c9d4d581",
   "metadata": {
    "editable": true,
    "slideshow": {
     "slide_type": ""
    },
    "tags": []
   },
   "source": [
    "In the above, the first row is `1 2 3`, and the second row is `4 5 6`. Julia interprets that as a 2-row, 3-column matrix of Ints.\n",
    "\n",
    "As for vectors, we can specify a particular element type by prepending the square brackets with the type:"
   ]
  },
  {
   "cell_type": "code",
   "execution_count": 19,
   "id": "eef995dd-0362-4c95-ab65-61d2ee5d9c7e",
   "metadata": {},
   "outputs": [
    {
     "data": {
      "text/plain": [
       "2×2 Matrix{Int16}:\n",
       " 1  1\n",
       " 0  0"
      ]
     },
     "execution_count": 19,
     "metadata": {},
     "output_type": "execute_result"
    }
   ],
   "source": [
    "# Matrix of Int16\n",
    "Int16[1 1\n",
    "      0 0]"
   ]
  },
  {
   "cell_type": "markdown",
   "id": "ebfad478-5b7e-4e55-baf9-e39f2531e0c5",
   "metadata": {
    "editable": true,
    "slideshow": {
     "slide_type": ""
    },
    "tags": []
   },
   "source": [
    "Unlike 1-D array literals, where we would write something like `[1, 2, 3]`, Julia's **matrix literals** use **spaces** to separate columns and **semicolons/newlines** to separate rows, instead of commas.\n",
    "\n",
    "In fact, when it comes to matrices\n",
    "- **semicolons/newlines** are used to perform **vertical concatenation** (to extend along the first dimension)\n",
    "- **spaces** are used to perform **horizontal concatenation** (to extend along the second dimension)\n",
    "\n",
    "This can be rather useful for specifying matrices with certain block structures. For example:"
   ]
  },
  {
   "cell_type": "code",
   "execution_count": 20,
   "id": "e7065f5e-c110-4013-80b6-a84158ec9ce6",
   "metadata": {},
   "outputs": [
    {
     "data": {
      "text/plain": [
       "6×5 Matrix{Float64}:\n",
       " 1.0  1.0  0.0  0.0  0.0\n",
       " 1.0  1.0  0.0  0.0  0.0\n",
       " 0.0  0.0  2.0  2.0  2.0\n",
       " 0.0  0.0  2.0  2.0  2.0\n",
       " 0.0  0.0  2.0  2.0  2.0\n",
       " 0.0  0.0  2.0  2.0  2.0"
      ]
     },
     "execution_count": 20,
     "metadata": {},
     "output_type": "execute_result"
    }
   ],
   "source": [
    "# Create individual blocks\n",
    "A = fill(1.0, 2, 2)\n",
    "B = zeros(2, 3)\n",
    "C = zeros(4, 2)\n",
    "D = fill(2.0, 4, 3)\n",
    "\n",
    "block_mat = [A B\n",
    "             C D]"
   ]
  },
  {
   "cell_type": "markdown",
   "id": "7cfca88a-1b71-4b7d-bca2-0290f70886f1",
   "metadata": {
    "editable": true,
    "slideshow": {
     "slide_type": ""
    },
    "tags": []
   },
   "source": [
    "### Exercise: Creating vectors and matrices \n",
    "\n",
    "1. Create a 3x3 identity matrix manually using the above notation; the identity matrix has 1s on its diagonal and 0s elsewhere). Verify its structure by printing it.\n",
    "2. Create a few vectors using the above notation. Then create a matrix with where the columns are given by the vectors you create.\n",
    "3. Use the functions `zeros`, `ones` and/or `fill` to create the following matrix (with `Int` entries):\n",
    "   $$\n",
    "   \\begin{bmatrix}\n",
    "    0 & 0 & 1 & 1 \\\\\n",
    "    0 & 0 & 1 & 1 \\\\\n",
    "    0 & 0 & 2 & 2 \\\\\n",
    "   \\end{bmatrix}\n",
    "   $$"
   ]
  },
  {
   "cell_type": "code",
   "execution_count": 21,
   "id": "bc5e2810-3a76-431a-9f6e-eb8422f95909",
   "metadata": {},
   "outputs": [],
   "source": [
    "# Answer here\n",
    "\n"
   ]
  },
  {
   "cell_type": "markdown",
   "id": "03ab5923-3708-484a-9f1e-579155ffd11c",
   "metadata": {
    "editable": true,
    "slideshow": {
     "slide_type": ""
    },
    "tags": []
   },
   "source": [
    "### Exercise: Vector / matrix notation workout\n",
    "\n",
    "For each of the following declarations, try to guess what kind of array will be created, by predicting whether it is a `Vector` or a `Matrix`, its shape and the element type. Then run the code to see if you were correct."
   ]
  },
  {
   "cell_type": "code",
   "execution_count": 22,
   "id": "5835b5b3-e8ce-4b41-b8a7-c9d7bfa07eae",
   "metadata": {},
   "outputs": [],
   "source": [
    "# x = [1 2 3; 1 2 3]"
   ]
  },
  {
   "cell_type": "code",
   "execution_count": 23,
   "id": "cb19d3f6-2e08-4071-a6de-8c364e741a0a",
   "metadata": {},
   "outputs": [],
   "source": [
    "# x = [1, 2.0, 3, 4.0, 5, 6.0]"
   ]
  },
  {
   "cell_type": "code",
   "execution_count": 24,
   "id": "6beeb84e-711f-4fb8-a7c7-b031c61d61ff",
   "metadata": {},
   "outputs": [],
   "source": [
    "# x = [1 2 3 4 5 6]"
   ]
  },
  {
   "cell_type": "code",
   "execution_count": 25,
   "id": "04a37b42-972b-4228-aabb-a6e21a7d68d2",
   "metadata": {},
   "outputs": [],
   "source": [
    "# x = [1; 2; 3; 4; 5; 6]"
   ]
  },
  {
   "cell_type": "code",
   "execution_count": 26,
   "id": "4b2ac2da-026d-420d-a3b9-17da25d481cd",
   "metadata": {},
   "outputs": [],
   "source": [
    "# x = [[1, 1] [2, 2] [3, 3]]"
   ]
  },
  {
   "cell_type": "code",
   "execution_count": 27,
   "id": "f33e6d4e-8b9a-425f-b449-b6931222de4c",
   "metadata": {},
   "outputs": [],
   "source": [
    "# x = [[1, 1], [2, 2], [3, 3]]"
   ]
  },
  {
   "cell_type": "code",
   "execution_count": 28,
   "id": "8e1a9964-5a64-4c1b-98e0-33298e45a444",
   "metadata": {},
   "outputs": [],
   "source": [
    "# X = [[1 1], [2 2], [3 3]]"
   ]
  },
  {
   "cell_type": "code",
   "execution_count": 29,
   "id": "3b9854e1-cdfa-4e32-8dcc-4b02aebfc7a7",
   "metadata": {},
   "outputs": [],
   "source": [
    "# x = [[1, 1]\n",
    "#      [2, 2]\n",
    "#      [3, 3]]"
   ]
  },
  {
   "cell_type": "code",
   "execution_count": 30,
   "id": "b5f3b654-b5bb-4aee-a58b-9bb79a4d6439",
   "metadata": {},
   "outputs": [],
   "source": [
    "# x = [[1 1] [2 2] [3 3]]"
   ]
  },
  {
   "cell_type": "markdown",
   "id": "2c6f2d20-003e-464e-a411-c66da1acb686",
   "metadata": {
    "editable": true,
    "slideshow": {
     "slide_type": ""
    },
    "tags": []
   },
   "source": [
    "## Higher-dimensional array literals\n",
    "\n",
    "For higher-dimensional arrays, we can use a generalisation of concatenation with the semicolon `;` to build up arrays by slices. The number of semicolons we use depends on the dimension we're concatenating along. For example, suppose we want to define a 3-dimensional array with shape `(n1, n2, n3)`. The way we can think of this is as **`n3` lots of `(n1, n2)`-dimensional matrices, stacked together along the 3rd (last) dimension**. To perform the concatenation along the 3rd dimension, we use 3 semicolons, `;;;`.\n",
    "\n",
    "For example, to create a 3D array with shape `(2, 3, 2)`:"
   ]
  },
  {
   "cell_type": "code",
   "execution_count": 31,
   "id": "282f8a73-14dc-4353-89a5-439ea63dc8c1",
   "metadata": {},
   "outputs": [
    {
     "data": {
      "text/plain": [
       "2×3×2 Array{Int64, 3}:\n",
       "[:, :, 1] =\n",
       " 1  3  5\n",
       " 2  4  6\n",
       "\n",
       "[:, :, 2] =\n",
       " 7   9  11\n",
       " 8  10  12"
      ]
     },
     "execution_count": 31,
     "metadata": {},
     "output_type": "execute_result"
    }
   ],
   "source": [
    "# Array with shape (2, 3, 2)\n",
    "A = [\n",
    "     [1 3 5\n",
    "      2 4 6];;;  # matrix at slice [:, :, 1]\n",
    "     [7 9 11\n",
    "      8 10 12]  # matrix at slice [:, :, 2]\n",
    "    ]"
   ]
  },
  {
   "cell_type": "markdown",
   "id": "d6340c8d-6d79-4c1f-93ca-ecbe18510a36",
   "metadata": {},
   "source": [
    "Notice how Julia prints out the array in a similar way to how we entered it i.e. as a series of matrix slices.\n",
    "\n",
    "If we had higher dimensions we'd use the corresponding number of semicolons for each dimension e.g. `;;;;` for 4th dimension etc. Concatenations are performed along dimensions in increasing order i.e. first create the inner matrices, then concatenate along dimension 3, then along dimension 4 etc.\n",
    "\n",
    "It's rare to need to hard-code 3+ dimensional arrays in practice and the notation can quickly become tricky to read (and remember how to type!). So you may wish to instead build up higher dimensional arrays in steps, using the `cat` function. For example, to create the same array as above using `cat` we could do:"
   ]
  },
  {
   "cell_type": "code",
   "execution_count": 32,
   "id": "942bb3c9-21e0-4cfb-b3ab-39c1197753b4",
   "metadata": {},
   "outputs": [
    {
     "data": {
      "text/plain": [
       "2×3×3 Array{Int64, 3}:\n",
       "[:, :, 1] =\n",
       " 1  3  5\n",
       " 2  4  6\n",
       "\n",
       "[:, :, 2] =\n",
       " 7   9  11\n",
       " 8  10  12\n",
       "\n",
       "[:, :, 3] =\n",
       " 13  15  17\n",
       " 14  16  18"
      ]
     },
     "execution_count": 32,
     "metadata": {},
     "output_type": "execute_result"
    }
   ],
   "source": [
    "# Create A by concatenating matrices\n",
    "A1 = [1 3 5\n",
    "      2 4 6]\n",
    "A2 = [7 9 11\n",
    "      8 10 12]\n",
    "A3 = [13 15 17\n",
    "      14 16 18]\n",
    "A = cat(A1, A2, A3; dims=3)  # concatenate A1 and A2 along a new, 3rd dimension"
   ]
  },
  {
   "cell_type": "code",
   "execution_count": 33,
   "id": "f54aa882-b9a9-4fc2-a70a-820ddaed8211",
   "metadata": {},
   "outputs": [
    {
     "data": {
      "text/plain": [
       "2×3×3×2 Array{Int64, 4}:\n",
       "[:, :, 1, 1] =\n",
       " 1  3  5\n",
       " 2  4  6\n",
       "\n",
       "[:, :, 2, 1] =\n",
       " 7   9  11\n",
       " 8  10  12\n",
       "\n",
       "[:, :, 3, 1] =\n",
       " 13  15  17\n",
       " 14  16  18\n",
       "\n",
       "[:, :, 1, 2] =\n",
       " 10  30  50\n",
       " 20  40  60\n",
       "\n",
       "[:, :, 2, 2] =\n",
       " 70   90  110\n",
       " 80  100  120\n",
       "\n",
       "[:, :, 3, 2] =\n",
       " 130  150  170\n",
       " 140  160  180"
      ]
     },
     "execution_count": 33,
     "metadata": {},
     "output_type": "execute_result"
    }
   ],
   "source": [
    "# Create another 3D array in similar way\n",
    "B1 = [10 30 50\n",
    "      20 40 60]\n",
    "B2 = [70 90 110\n",
    "      80 100 120]\n",
    "B3 = [130 150 170\n",
    "      140 160 180]\n",
    "B = cat(B1, B2, B3; dims=3)  # concatenate B1 and B2 along a new, 3rd dimension\n",
    "\n",
    "# Create a 4D array by concatenating the two 3D arrays\n",
    "AB = cat(A, B; dims=4)"
   ]
  },
  {
   "cell_type": "markdown",
   "id": "0445110c-5b71-47c1-a09a-6472cd320791",
   "metadata": {
    "editable": true,
    "slideshow": {
     "slide_type": ""
    },
    "tags": []
   },
   "source": [
    "## Indexing and Slicing\n",
    "\n",
    "Manipulating arrays involves accessing and modifying their elements. Recall from above that we use square brackets to index e.g. `A[i, j, k]` (and indices start at 1). We saw this for assigning array values already, but we can also use it just to retrieve array elements:"
   ]
  },
  {
   "cell_type": "code",
   "execution_count": 34,
   "id": "e0c9c67f-41de-4ef2-bdb3-1e824022a29f",
   "metadata": {
    "editable": true,
    "slideshow": {
     "slide_type": ""
    },
    "tags": []
   },
   "outputs": [
    {
     "name": "stdout",
     "output_type": "stream",
     "text": [
      "30\n",
      "[10, 20, 35, 40, 50]\n"
     ]
    }
   ],
   "source": [
    "v = [10, 20, 30, 40, 50]\n",
    "\n",
    "# Get 3rd entry\n",
    "println(v[3])\n",
    "\n",
    "# Modify 3rd entry\n",
    "v[3] = 35\n",
    "println(v)\n"
   ]
  },
  {
   "cell_type": "code",
   "execution_count": 35,
   "id": "8e79bd7f-c9ce-4e22-b991-8587e6a9f960",
   "metadata": {
    "editable": true,
    "slideshow": {
     "slide_type": ""
    },
    "tags": []
   },
   "outputs": [
    {
     "name": "stdout",
     "output_type": "stream",
     "text": [
      "80\n",
      "[10 20 30 40 9000; 60 70 80 90 100]\n"
     ]
    }
   ],
   "source": [
    "M = [10 20 30 40 50\n",
    "     60 70 80 90 100]\n",
    "\n",
    "# Get/modify the (2, 3)-entry\n",
    "println(M[2, 3])\n",
    "M[1, 5] = 9000\n",
    "println(M)"
   ]
  },
  {
   "cell_type": "markdown",
   "id": "0af14366-a90c-46c0-8a48-51ead006aa1c",
   "metadata": {},
   "source": [
    "We can also use the keyword `end` to indicate the last index along a dimension:"
   ]
  },
  {
   "cell_type": "code",
   "execution_count": 36,
   "id": "b2085e87-8508-4657-8a65-d88f52abdb79",
   "metadata": {},
   "outputs": [
    {
     "data": {
      "text/plain": [
       "100"
      ]
     },
     "execution_count": 36,
     "metadata": {},
     "output_type": "execute_result"
    }
   ],
   "source": [
    "# Get the very last element of the matrix\n",
    "M[end, end]"
   ]
  },
  {
   "cell_type": "markdown",
   "id": "cc661659-facf-4ae4-bba5-50a95af13c45",
   "metadata": {
    "editable": true,
    "slideshow": {
     "slide_type": ""
    },
    "tags": []
   },
   "source": [
    "Julia also supports **slicing** to get subarrays. You can use the `:` operator to indicate a range of indices.\n",
    "- Note that both bounds in the slice are included in the slice (unlike in Python where the last isn't included).\n",
    "- A slice or single index needs to be provided for each dimension.\n",
    "- A a colon `:` on its own with no beginning/end means 'run along all indices in that dimension'.\n",
    "\n",
    "For example: "
   ]
  },
  {
   "cell_type": "code",
   "execution_count": 37,
   "id": "bc2a3fcd-b54d-4121-8d19-1e752688f08c",
   "metadata": {
    "editable": true,
    "slideshow": {
     "slide_type": ""
    },
    "tags": []
   },
   "outputs": [
    {
     "name": "stdout",
     "output_type": "stream",
     "text": [
      "[20, 30, 40]\n",
      "[20, 30, 40, 50]\n",
      "[4 7; 5 8]\n",
      "[7, 8, 9]\n"
     ]
    }
   ],
   "source": [
    "v = [10, 20, 30, 40, 50]\n",
    "\n",
    "# 2nd through 4th elements\n",
    "println(v[2:4])\n",
    "\n",
    "# 2nd entry to the end\n",
    "println(v[2:end])\n",
    "\n",
    "M = [1 4 7\n",
    "     2 5 8\n",
    "     3 6 9];\n",
    "\n",
    "# Submatrix of first 2 rows and cols 2-3\n",
    "println(M[1:2, 2:3])\n",
    "\n",
    "# The last column\n",
    "println(M[:, end])"
   ]
  },
  {
   "cell_type": "markdown",
   "id": "d6229711-6a33-4ffe-ae92-ccd8ee6f700c",
   "metadata": {},
   "source": [
    "### Preserving array shape\n",
    "\n",
    "When it comes to matrices (or higher-dimensional arrays) note that slicing along one axis but keeping the others fixed to a single index will return a `Vector`:"
   ]
  },
  {
   "cell_type": "code",
   "execution_count": 38,
   "id": "be940d9a-c103-4eb7-bb30-4af6c6680679",
   "metadata": {},
   "outputs": [
    {
     "data": {
      "text/plain": [
       "3-element Vector{Int64}:\n",
       " 1\n",
       " 2\n",
       " 3"
      ]
     },
     "execution_count": 38,
     "metadata": {},
     "output_type": "execute_result"
    }
   ],
   "source": [
    "# The first column as a Vector\n",
    "M[:, 1]"
   ]
  },
  {
   "cell_type": "code",
   "execution_count": 39,
   "id": "e13cd17e-d3bc-40f7-8425-c3908e224410",
   "metadata": {},
   "outputs": [
    {
     "data": {
      "text/plain": [
       "3-element Vector{Int64}:\n",
       " 1\n",
       " 4\n",
       " 7"
      ]
     },
     "execution_count": 39,
     "metadata": {},
     "output_type": "execute_result"
    }
   ],
   "source": [
    "# The first row (also as a Vector)\n",
    "M[1, :]"
   ]
  },
  {
   "cell_type": "markdown",
   "id": "d23fb734-15b1-4011-adf8-05fad288dbbd",
   "metadata": {},
   "source": [
    "Sometimes though we want to preserve the dimensionality of the array. In this case, we can use square brackets, like so:"
   ]
  },
  {
   "cell_type": "code",
   "execution_count": 40,
   "id": "7a106a90-dd5b-4cf7-b543-b92b74d2e34f",
   "metadata": {},
   "outputs": [
    {
     "data": {
      "text/plain": [
       "3×1 Matrix{Int64}:\n",
       " 1\n",
       " 2\n",
       " 3"
      ]
     },
     "execution_count": 40,
     "metadata": {},
     "output_type": "execute_result"
    }
   ],
   "source": [
    "# The first column as a 3 x 1 matrix\n",
    "M[:, [1]]"
   ]
  },
  {
   "cell_type": "code",
   "execution_count": 41,
   "id": "9c4fb962-e226-47af-a130-83f9958b9036",
   "metadata": {},
   "outputs": [
    {
     "data": {
      "text/plain": [
       "1×3 Matrix{Int64}:\n",
       " 1  4  7"
      ]
     },
     "execution_count": 41,
     "metadata": {},
     "output_type": "execute_result"
    }
   ],
   "source": [
    "# The first row as a 1 x 3 matrix\n",
    "M[[1], :]"
   ]
  },
  {
   "cell_type": "markdown",
   "id": "4c512cc8-7544-4961-852d-2900b382778d",
   "metadata": {},
   "source": [
    "Note `M[[1], :]` is using a length 1 Vector `[1]` as part of the indexing. This applies more generally to allow us to specify particular indices along a dimension. For example:"
   ]
  },
  {
   "cell_type": "code",
   "execution_count": 42,
   "id": "4f085519-4c45-49fe-a666-8447c40bb502",
   "metadata": {},
   "outputs": [
    {
     "data": {
      "text/plain": [
       "3-element Vector{Int64}:\n",
       " 20\n",
       " 40\n",
       " 60"
      ]
     },
     "execution_count": 42,
     "metadata": {},
     "output_type": "execute_result"
    }
   ],
   "source": [
    "v = [10, 20, 30, 40, 50, 60]\n",
    "\n",
    "# Get even index entries\n",
    "v[[2, 4, 6]]"
   ]
  },
  {
   "cell_type": "code",
   "execution_count": 43,
   "id": "9179a2ad-5d9f-4661-86e2-a73a88ea10bf",
   "metadata": {},
   "outputs": [
    {
     "data": {
      "text/plain": [
       "2×2 Matrix{Int64}:\n",
       "  20   40\n",
       " 120  140"
      ]
     },
     "execution_count": 43,
     "metadata": {},
     "output_type": "execute_result"
    }
   ],
   "source": [
    "M = [10 20 30 40 50\n",
    "     60 70 80 90 100\n",
    "     110 120 130 140 150]\n",
    "\n",
    "# Extract 2 x 2 submatrix\n",
    "M[[1, 3], [2, 4]]"
   ]
  },
  {
   "cell_type": "markdown",
   "id": "a388a24d-d84d-4d39-8e03-e76be026a4b6",
   "metadata": {},
   "source": [
    "#### Exercise: indexing and slicing arrays\n",
    "\n",
    "The following Julia code defines a 3D array where the $(i, j, k)$ entry is equal to $2^i \\times 3^j \\times 5^k$ (for $i,j,k$ each running from 1 to 10):\n",
    "\n",
    "    arr = [2^i * 3^j * 5^k for i in 1:10, j in 1:10, k in 1:10]\n",
    "\n",
    "(If you'd like to learn how this works, check out the section on [Comprehensions (Julia Manual)](https://docs.julialang.org/en/v1/manual/arrays/#man-comprehensions) in the Julia manual!)\n",
    "\n",
    "1. Use the array to find the value of $2^6 \\times 3 \\times 5^4$ (i.e. the element at location `(6, 1, 4)`).\n",
    "2. Use array slicing to show all the values $2^i \\times 3^2 \\times 5$ for $i = 1, \\dots, 6$.\n",
    "3. Use array slicing to show all the values $2^i \\times 3^j \\times 5^2$ where $i,j$ are between $1$ and $10$ and are even numbers."
   ]
  },
  {
   "cell_type": "code",
   "execution_count": 44,
   "id": "db2b6f56-e74d-4553-ac9e-22b1b576d821",
   "metadata": {},
   "outputs": [],
   "source": [
    "arr = [2^i * 3^j * 5^k for i in 1:10, j in 1:10, k in 1:10];\n",
    "\n",
    "# Answer to 1\n",
    "\n",
    "\n",
    "# Answer to 2\n",
    "\n",
    "\n",
    "# Answer to 3"
   ]
  },
  {
   "cell_type": "markdown",
   "id": "98110c4f-aa38-4e5b-9069-7a5a42f26a8f",
   "metadata": {
    "editable": true,
    "slideshow": {
     "slide_type": ""
    },
    "tags": []
   },
   "source": [
    "### Assigning to a subarray\n",
    "\n",
    "You can also modify subarrays by slicing on the left-hand side of an assignment: "
   ]
  },
  {
   "cell_type": "code",
   "execution_count": 45,
   "id": "83fc4ec1-cc08-49f7-a368-c5f5c317ee0b",
   "metadata": {
    "editable": true,
    "slideshow": {
     "slide_type": ""
    },
    "tags": []
   },
   "outputs": [
    {
     "data": {
      "text/plain": [
       "5-element Vector{Int64}:\n",
       "   1\n",
       " 100\n",
       " 200\n",
       " 300\n",
       "   5"
      ]
     },
     "execution_count": 45,
     "metadata": {},
     "output_type": "execute_result"
    }
   ],
   "source": [
    "v = [1, 2, 3, 4, 5]\n",
    "\n",
    "# Assign to elements 2 to 4\n",
    "v[2:4] = [100, 200, 300]\n",
    "v"
   ]
  },
  {
   "cell_type": "code",
   "execution_count": 46,
   "id": "daa9c7a2-4195-48e6-9ac4-1109e527ff5e",
   "metadata": {
    "editable": true,
    "slideshow": {
     "slide_type": ""
    },
    "tags": []
   },
   "outputs": [
    {
     "data": {
      "text/plain": [
       "3×4 Matrix{Int64}:\n",
       " 1     2     3     4\n",
       " 5  9999  9999  9999\n",
       " 9  9999  9999  9999"
      ]
     },
     "execution_count": 46,
     "metadata": {},
     "output_type": "execute_result"
    }
   ],
   "source": [
    "M = [1 2 3 4\n",
    "     5 6 7 8\n",
    "     9 10 11 12]\n",
    "\n",
    "# Assign to submatrix\n",
    "M[2:3, 2:4] = [9999 9999 9999\n",
    "               9999 9999 9999]\n",
    "M"
   ]
  },
  {
   "cell_type": "markdown",
   "id": "02b80337-c38c-4851-98b1-3454248ad9c2",
   "metadata": {},
   "source": [
    "#### Exercise: assigning to a submatrix\n",
    "\n",
    "Use assignment with appropriate index slicing to change the values of the matrix of ones as follows:\n",
    "\n",
    "\n",
    "$\n",
    "\\begin{bmatrix}\n",
    "    1 & 1 & 1 & 1 \\\\\n",
    "    1 & 1 & 1 & 1 \\\\\n",
    "    1 & 1 & 1 & 1 \\\\\n",
    "\\end{bmatrix} \\longrightarrow\n",
    "\\begin{bmatrix}\n",
    "    0 & 1 & 1 & 0 \\\\\n",
    "    0 & 1 & 1 & 0 \\\\\n",
    "    0 & 1 & 1 & 0 \\\\\n",
    "\\end{bmatrix}\n",
    "$"
   ]
  },
  {
   "cell_type": "code",
   "execution_count": 47,
   "id": "cfdcc944-e774-4cee-87fd-3534c2247229",
   "metadata": {},
   "outputs": [],
   "source": [
    "M = ones(Int, 3, 4);\n",
    "\n",
    "# Answer here\n",
    "\n"
   ]
  },
  {
   "cell_type": "markdown",
   "id": "8c890cef-b997-482f-a9af-5be69f806b6e",
   "metadata": {
    "editable": true,
    "slideshow": {
     "slide_type": ""
    },
    "tags": []
   },
   "source": [
    "## Common Operations on Arrays\n",
    "\n",
    "Julia provides lots of functions for working with arrays. Here are some you might find useful; check out the [The full Julia reference docs on arrays](https://docs.julialang.org/en/v1/base/arrays/) for lots more!\n",
    "\n",
    "- **Combining arrays**: You can concatenate arrays along particular dimensions using `cat`, seen earlier. The functions `vcat`(vertical concatenation) and `hcat` (horizontal concatenation) provide special cases.  \n",
    "- **Built-in functions**: Julia has many handy functions like `sum` to sum array elements, `maximum`, `minimum`, to find max/min elements, `sort` for sorting, etc.\n",
    "- **Searching**: Use `findall` to find the indices of all elements equal to `true` in an array of `Bool` (or the indices where some function `f` evaluates to true on the array entries)\n",
    "- **Reshaping**: Use `reshape` to convert an array `A` to a new array `A_reshaped` having the same elements as `A` but a different shape (even potentially a different dimensionality).\n",
    "- **Linear algebra**: The standard library module [LinearAlgebra Standard Library](https://docs.julialang.org/en/v1/stdlib/LinearAlgebra/) provides all sorts of functions for doing linear algebra with `Vector`, `Matrix`, e.g. computing norms of vectors, determinants of matrices, eigenvectors/eigenvalues etc.\n",
    "\n",
    "Some functions that apply just to `Vector`:\n",
    "- **Append elements**: Use `push!(array, value)` to append a single value to the end of a 1D array (vector). Use `append!(array, collection)` to append all elements of another collection. \n",
    "- **Remove elements**: Use `pop!(array`) to remove the last element (and return it). There's also `deleteat!(array, index)` to remove the element at a specific index."
   ]
  },
  {
   "cell_type": "markdown",
   "id": "e802556a-1143-42d8-bec4-46a94e78e147",
   "metadata": {
    "editable": true,
    "slideshow": {
     "slide_type": ""
    },
    "tags": []
   },
   "source": [
    "### Element-wise Operations\n",
    "\n",
    "In Julia, addition and subtraction between same-shaped arrays always work element-wise:"
   ]
  },
  {
   "cell_type": "code",
   "execution_count": 48,
   "id": "56963ed1-7f12-4389-8647-1b397f1dcda6",
   "metadata": {
    "editable": true,
    "slideshow": {
     "slide_type": ""
    },
    "tags": []
   },
   "outputs": [
    {
     "data": {
      "text/plain": [
       "3-element Vector{Int64}:\n",
       " 11\n",
       " 12\n",
       " 13"
      ]
     },
     "execution_count": 48,
     "metadata": {},
     "output_type": "execute_result"
    }
   ],
   "source": [
    "# Add two vectors\n",
    "u = [1, 2, 3]\n",
    "v = [10, 10, 10]\n",
    "u + v"
   ]
  },
  {
   "cell_type": "code",
   "execution_count": 49,
   "id": "4b0ba0cb-1399-4dd2-bac6-fa0df09549bc",
   "metadata": {
    "editable": true,
    "slideshow": {
     "slide_type": ""
    },
    "tags": []
   },
   "outputs": [
    {
     "data": {
      "text/plain": [
       "2×2 Matrix{Int64}:\n",
       " -10  -10\n",
       " -10  -10"
      ]
     },
     "execution_count": 49,
     "metadata": {},
     "output_type": "execute_result"
    }
   ],
   "source": [
    "# Subtract two matrices\n",
    "M = [1 2\n",
    "     3 4]\n",
    "N = [11 12\n",
    "     13 14]\n",
    "M - N"
   ]
  },
  {
   "cell_type": "markdown",
   "id": "ebfb1d0b-2f37-4a34-8dcf-aadb2b3710d5",
   "metadata": {
    "editable": true,
    "slideshow": {
     "slide_type": ""
    },
    "tags": []
   },
   "source": [
    "Multiplication, division and exponentiation **invoke Julia's linear algebra routines**, so `*` on two matrices (or on a matrix and a vector) does true matrix multiplication, `\\` solves linear systems, and so on. In particular, these operations are not defined for all arrays (e.g. 3D arrays, or matrices/vectors with the wrong shape, etc.)\n",
    "\n",
    "However, if you prefix the operator with a dot (e.g., `.*`, `./`, `.^`), you instead get an element-wise operation: "
   ]
  },
  {
   "cell_type": "code",
   "execution_count": 50,
   "id": "1b0e202f-b633-4733-8a60-818668f7493d",
   "metadata": {
    "editable": true,
    "slideshow": {
     "slide_type": ""
    },
    "tags": []
   },
   "outputs": [
    {
     "name": "stdout",
     "output_type": "stream",
     "text": [
      "[24 28; 24 28]\n",
      "[10 12; 14 16]\n"
     ]
    }
   ],
   "source": [
    "M = [2 2\n",
    "     2 2]\n",
    "\n",
    "N = [5  6\n",
    "     7  8]\n",
    "\n",
    "# Matrix multiplication\n",
    "println(M * N)\n",
    "\n",
    "# Element-wise multiplication\n",
    "println(M .* N)"
   ]
  },
  {
   "cell_type": "markdown",
   "id": "2637183b-777e-4c8e-b265-b992879c59c1",
   "metadata": {
    "editable": true,
    "slideshow": {
     "slide_type": ""
    },
    "tags": []
   },
   "source": [
    "In short, for element-wise operations on arrays, use `+` and `-` directly and use the dotted forms of `*`, `/`, `^`, etc.\n",
    "\n",
    "A neat feature of Julia is that **the same \"dot\" notation also works with any function**: placing a dot before the parentheses in the function call tells Julia to *broadcast* that function over every element of an array (or a combination of arrays). For example:"
   ]
  },
  {
   "cell_type": "code",
   "execution_count": 51,
   "id": "c21c2ea8-4eff-46fd-bb84-2dfea08357a9",
   "metadata": {
    "editable": true,
    "slideshow": {
     "slide_type": ""
    },
    "tags": []
   },
   "outputs": [
    {
     "data": {
      "text/plain": [
       "4-element Vector{Float64}:\n",
       " 0.0\n",
       " 0.7071067811865475\n",
       " 1.0\n",
       " 1.2246467991473532e-16"
      ]
     },
     "execution_count": 51,
     "metadata": {},
     "output_type": "execute_result"
    }
   ],
   "source": [
    "angles = [0, π/4, π/2, π]\n",
    "\n",
    "# Compute sin of each angle in x\n",
    "sin.(angles)"
   ]
  },
  {
   "cell_type": "markdown",
   "id": "c2ae5af8-628b-46e2-b863-71a57d0a2a96",
   "metadata": {
    "editable": true,
    "slideshow": {
     "slide_type": ""
    },
    "tags": []
   },
   "source": [
    "This can then be further extended to multiple function calls composed together: "
   ]
  },
  {
   "cell_type": "code",
   "execution_count": 52,
   "id": "143733fd-344d-4856-99dc-f315b99765fd",
   "metadata": {
    "editable": true,
    "slideshow": {
     "slide_type": ""
    },
    "tags": []
   },
   "outputs": [
    {
     "data": {
      "text/plain": [
       "4-element Vector{Float64}:\n",
       " 2.718281828459045\n",
       " 5.512988100637874\n",
       " 7.38905609893065\n",
       " 2.718281828459046"
      ]
     },
     "execution_count": 52,
     "metadata": {},
     "output_type": "execute_result"
    }
   ],
   "source": [
    "# Compute exp(sin(x) + 1) for each x in angles\n",
    "exp.(sin.(angles) .+ 1)"
   ]
  },
  {
   "cell_type": "markdown",
   "id": "8b4b9284-9e67-4774-9dd1-c48db07dd558",
   "metadata": {
    "editable": true,
    "slideshow": {
     "slide_type": ""
    },
    "tags": []
   },
   "source": [
    "This dot-notation makes element-wise array-wide computation both concise and expressive without a need for explicit loops. "
   ]
  },
  {
   "cell_type": "markdown",
   "id": "6e1f514b-b753-4978-9a2d-e08cf7820d6c",
   "metadata": {
    "editable": true,
    "slideshow": {
     "slide_type": ""
    },
    "tags": []
   },
   "source": [
    "### Exercise: Operations on Arrays\n",
    "\n",
    "Given an array `data = [5, 3, 8, 1, 2]`, do the following: \n",
    "- Sort the array (ascending) and print the sorted result. \n",
    "- Add a new number (e.g. 10) to the end of the array. \n",
    "- Compute the sum of all elements in the array. \n",
    "- Create a new array `squares` that is the element-wise squares of `data`"
   ]
  },
  {
   "cell_type": "code",
   "execution_count": 53,
   "id": "b4a67733-cc18-4c80-bf84-2fc97a9ca374",
   "metadata": {},
   "outputs": [],
   "source": [
    "# Answer here\n",
    "\n"
   ]
  },
  {
   "cell_type": "markdown",
   "id": "c13d0ab4-5228-4f32-8cf5-43b7ac034f20",
   "metadata": {
    "editable": true,
    "slideshow": {
     "slide_type": ""
    },
    "tags": []
   },
   "source": [
    "### Exercise: Useful functions\n",
    "\n",
    "Take one of the functions we mentioned above (e.g. `reshape`, `findall`, `sum`, etc.) and learn a bit about how it works. You can read the Julia documentation entry by prepending the function with `?` (e.g. `?reshape`) or you can do an online search. Play with the functions on some small arrays."
   ]
  },
  {
   "cell_type": "code",
   "execution_count": 54,
   "id": "f5bc413c-24f5-4839-a90a-bd9c353be54f",
   "metadata": {},
   "outputs": [],
   "source": [
    "# Answer here\n",
    "\n"
   ]
  },
  {
   "cell_type": "markdown",
   "id": "304e2e53-1493-4d74-903f-dafa372ad0fb",
   "metadata": {},
   "source": [
    "## Final comments\n",
    "\n",
    "Julia provide a lot of functionality around arrays. Furthemore, there are 3rd party packages out there that implement more exotic kinds of arrays which are taylored for greater performance or particular use-cases, e.g. [StaticArrays.jl Stable Docs](https://juliaarrays.github.io/StaticArrays.jl/stable/). What we've covered here can help get you started using arrays, but it won't be long before you want to do more sophisticated things with them. For more details, do an online search, or check out\n",
    "- [Arrays (Julia Manual)](https://docs.julialang.org/en/v1/manual/arrays/)\n",
    "- [The full Julia reference docs on arrays](https://docs.julialang.org/en/v1/base/arrays/)"
   ]
  },
  {
   "cell_type": "markdown",
   "id": "84fe0bf4-c48e-47e8-a5a2-138493578472",
   "metadata": {
    "editable": true,
    "slideshow": {
     "slide_type": ""
    },
    "tags": [
     "remove-input"
    ]
   },
   "source": [
    "# End of Section Quiz"
   ]
  },
  {
   "cell_type": "code",
   "execution_count": 55,
   "id": "e76a74c7-5f17-40f8-8c36-c70393f02bd7",
   "metadata": {
    "editable": true,
    "slideshow": {
     "slide_type": ""
    },
    "tags": [
     "remove-input"
    ]
   },
   "outputs": [
    {
     "data": {
      "text/html": [
       "<style>\n",
       ".quiz-question {\n",
       "    background-color: #392061;\n",
       "    color: white;\n",
       "    padding: 12px;\n",
       "    border-radius: 10px;\n",
       "    font-weight: bold;\n",
       "    font-size: 1.2em;\n",
       "    margin-bottom: 10px;\n",
       "}\n",
       "\n",
       ".quiz-form {\n",
       "    margin-bottom: 20px;\n",
       "}\n",
       "\n",
       ".quiz-answer {\n",
       "    display: block;\n",
       "    background-color: #f2f2f2;\n",
       "    border: none;\n",
       "    border-radius: 10px;\n",
       "    padding: 10px;\n",
       "    margin: 5px 0;\n",
       "    font-size: 1em;\n",
       "    cursor: pointer;\n",
       "    text-align: left;\n",
       "    transition: background-color 0.3s;\n",
       "    width: 100%;\n",
       "}\n",
       "\n",
       ".quiz-answer:hover {\n",
       "    background-color: #e0e0e0;\n",
       "}\n",
       "\n",
       ".correct {\n",
       "    background-color: #4CAF50 !important;\n",
       "    color: white !important;\n",
       "    border: none;\n",
       "}\n",
       "\n",
       ".incorrect {\n",
       "    background-color: #D32F2F !important;\n",
       "    color: white !important;\n",
       "    border: none;\n",
       "}\n",
       "\n",
       ".feedback {\n",
       "    margin-top: 10px;\n",
       "    font-weight: bold;\n",
       "    font-size: 1em;\n",
       "}\n",
       "</style>\n",
       "\n",
       "<script>\n",
       "function handleAnswer(qid, aid, feedback, isCorrect) {\n",
       "    let buttons = document.querySelectorAll(\".answer-\" + qid);\n",
       "    buttons.forEach(btn => {\n",
       "        btn.classList.remove('correct', 'incorrect');\n",
       "    });\n",
       "\n",
       "    let selected = document.getElementById(aid);\n",
       "    selected.classList.add(isCorrect ? 'correct' : 'incorrect');\n",
       "\n",
       "    let feedbackBox = document.getElementById('feedback_' + qid);\n",
       "    feedbackBox.innerHTML = feedback;\n",
       "    feedbackBox.style.color = isCorrect ? 'green' : 'red';\n",
       "}\n",
       "</script>\n",
       "<div class=\"quiz-question\">What is the result of the expression v[2:4] in Julia, given v = [10, 20, 30, 40, 50]?</div><form class=\"quiz-form\"><button type=\"button\" class=\"quiz-answer answer-1\" id=\"q1_a1\"\n",
       "    onclick=\"handleAnswer('1', 'q1_a1', 'Incorrect', false)\">\n",
       "    [10, 30, 50]\n",
       "</button>\n",
       "<button type=\"button\" class=\"quiz-answer answer-1\" id=\"q1_a2\"\n",
       "    onclick=\"handleAnswer('1', 'q1_a2', 'Correct', true)\">\n",
       "    [20, 30, 40]\n",
       "</button>\n",
       "<button type=\"button\" class=\"quiz-answer answer-1\" id=\"q1_a3\"\n",
       "    onclick=\"handleAnswer('1', 'q1_a3', 'Incorrect', false)\">\n",
       "    [2, 3, 4]\n",
       "</button>\n",
       "<button type=\"button\" class=\"quiz-answer answer-1\" id=\"q1_a4\"\n",
       "    onclick=\"handleAnswer('1', 'q1_a4', 'Incorrect', false)\">\n",
       "    [30, 40, 50]\n",
       "</button>\n",
       "<div class=\"feedback\" id=\"feedback_1\"></div>\n",
       "<button type=\"submit\" style=\"position:absolute; left:-9999px; width:1px; height:1px; overflow:hidden;\">\n",
       "    Submit\n",
       "</button>\n",
       "</form><hr>\n",
       "<div class=\"quiz-question\">Which of the following correctly creates a 2x3 matrix in Julia?</div><form class=\"quiz-form\"><button type=\"button\" class=\"quiz-answer answer-2\" id=\"q2_a1\"\n",
       "    onclick=\"handleAnswer('2', 'q2_a1', 'Incorrect', false)\">\n",
       "    M = [1, 2, 3; 4, 5, 6]\n",
       "</button>\n",
       "<button type=\"button\" class=\"quiz-answer answer-2\" id=\"q2_a2\"\n",
       "    onclick=\"handleAnswer('2', 'q2_a2', 'Incorrect', false)\">\n",
       "    M = [[1, 2, 3]; [4, 5, 6]]\n",
       "</button>\n",
       "<button type=\"button\" class=\"quiz-answer answer-2\" id=\"q2_a3\"\n",
       "    onclick=\"handleAnswer('2', 'q2_a3', 'Correct', true)\">\n",
       "    M = [1 2 3; 4 5 6]\n",
       "</button>\n",
       "<button type=\"button\" class=\"quiz-answer answer-2\" id=\"q2_a4\"\n",
       "    onclick=\"handleAnswer('2', 'q2_a4', 'Incorrect', false)\">\n",
       "    M = [1; 2; 3; 4; 5; 6]\n",
       "</button>\n",
       "<div class=\"feedback\" id=\"feedback_2\"></div>\n",
       "<button type=\"submit\" style=\"position:absolute; left:-9999px; width:1px; height:1px; overflow:hidden;\">\n",
       "    Submit\n",
       "</button>\n",
       "</form><hr>\n",
       "<div class=\"quiz-question\">How do you perform element-wise multiplication between two arrays u and v in Julia?</div><form class=\"quiz-form\"><button type=\"button\" class=\"quiz-answer answer-3\" id=\"q3_a1\"\n",
       "    onclick=\"handleAnswer('3', 'q3_a1', 'Incorrect', false)\">\n",
       "    u * v\n",
       "</button>\n",
       "<button type=\"button\" class=\"quiz-answer answer-3\" id=\"q3_a2\"\n",
       "    onclick=\"handleAnswer('3', 'q3_a2', 'Incorrect', false)\">\n",
       "    dot(u, v)\n",
       "</button>\n",
       "<button type=\"button\" class=\"quiz-answer answer-3\" id=\"q3_a3\"\n",
       "    onclick=\"handleAnswer('3', 'q3_a3', 'Incorrect', false)\">\n",
       "    u .^ v\n",
       "</button>\n",
       "<button type=\"button\" class=\"quiz-answer answer-3\" id=\"q3_a4\"\n",
       "    onclick=\"handleAnswer('3', 'q3_a4', 'Correct', true)\">\n",
       "    u .* v\n",
       "</button>\n",
       "<div class=\"feedback\" id=\"feedback_3\"></div>\n",
       "<button type=\"submit\" style=\"position:absolute; left:-9999px; width:1px; height:1px; overflow:hidden;\">\n",
       "    Submit\n",
       "</button>\n",
       "</form><hr>\n"
      ]
     },
     "metadata": {},
     "output_type": "display_data"
    }
   ],
   "source": [
    "include(\"../../julia_functions/quiz_renderer.jl\")\n",
    "show_quiz_from_json(\"questions/summary_arrays_and_matricies.json\")"
   ]
  },
  {
   "cell_type": "code",
   "execution_count": null,
   "id": "75879c34-1d33-4b16-b3ba-03ed2cea6460",
   "metadata": {
    "editable": true,
    "slideshow": {
     "slide_type": ""
    },
    "tags": []
   },
   "outputs": [],
   "source": []
  }
 ],
 "metadata": {
  "kernelspec": {
   "display_name": "Julia 1.11.5",
   "language": "julia",
   "name": "julia-1.11"
  },
  "language_info": {
   "file_extension": ".jl",
   "mimetype": "application/julia",
   "name": "julia",
   "version": "1.11.5"
  }
 },
 "nbformat": 4,
 "nbformat_minor": 5
}