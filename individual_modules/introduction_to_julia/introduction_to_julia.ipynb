{
 "cells": [
  {
   "cell_type": "markdown",
   "id": "051b1952-b4fb-4f01-9f59-d25f67f14f97",
   "metadata": {
    "editable": true,
    "slideshow": {
     "slide_type": ""
    },
    "tags": []
   },
   "source": [
    "# Introduction \n",
    "\n",
    "## Learning Objectives \n",
    "\n",
    "- Understand the core design principles of Julia \n",
    "- Recognise the main features that make Julia suitable for numerical and scientific computing \n",
    "- Explain the advantages of multiple dispatch in Julia \n",
    "- Appreciate the high-performance capabilities of Julia due to its Just-in-time (JIT) compilation\n",
    "- Know how to start and use the Julia REPL\n",
    "\n",
    "## Julia's Background and Goals \n",
    "\n",
    "Julia's core goal is to address the **\"two-language problem\"** often encountered in scientific computing. It was designed to combine the ease of use of high-level language (like Python) with the speed of low-level languages (like C or Fortran). Julia aims to be a single language that is **easy to write and fast to run**. The creators of Julia envisioned a language that had:\n",
    "\n",
    "- the **dynamism and productivity of Python**\n",
    "- the **mathematical ability and convenient syntax of MATLAB**\n",
    "- and the **raw performance of C/Fortran**\n",
    "\n",
    "all in one language. Julia achieves this by being a *just-in-time* compiled language using the [LLVM](https://llvm.org/) framework, meaning it compiles functions to efficient machine codes on the fly for high performance. \n",
    "\n",
    "## Core Design Principles\n",
    "\n",
    "A key design principle of Julia is *multiple dispatch*, a programming paradigm that makes it easy to express many object-oriented and functional patterns. Multiple dispatch means that the method (implementation) of a function to execute is chosen based on the **types of *all* of its arguments**. This allows developers to define generic function names that have specialised methods for different type combinations. \n",
    "\n",
    "For example, you could define an `add` function that has different methods for adding integers, adding floating-point numbers, or even concatenating strings, and Julia will pick the appropriate method based on the argument types at runtime. This leads to code that is both flexible and optimised for performance for each type of scenario. \n",
    "\n",
    "For example, the code below would create two functions for performing addition, one that takes in Integers (`::Int`) and the other Strings (`::String`).\n",
    "\n",
    "```Julia \n",
    "# Define `add` for Ints (numeric addition) and for Strings (string concatenation)\n",
    "\n",
    "function add(x::Int, y::Int)\n",
    "    return x + y         # integer addition\n",
    "end\n",
    "\n",
    "function add(x::String, y::String)\n",
    "    return x * y         # string concatenation\n",
    "end\n",
    "```\n",
    "\n",
    "When the function `add` is called, Julia automatically selects the most specific method based on the argument types: \n",
    "\n",
    "```Julia \n",
    "add(5, 7)               # Calls the Int method: returns 12\n",
    "add(\"foo\", \"bar\")       # Calls the String method: returns \"foobar\"\n",
    "```\n",
    "\n",
    "Each method shares the same name `add` but has different implementations for the types it handles. This makes the code:\n",
    "\n",
    "- **Clear and concise**: There is no need to add different code paths through functions based on checking types of arguments.\n",
    "- **Fast**: Julia compiles a specialised version for each method call as required, using *just-in-time* (JIT) compilation. \n",
    "- **Extensible**: New implementations of `add` can easily be added for new combinations of types.\n",
    "\n",
    "Julia is also designed to be **dynamically typed**; you do not need to declare types for variables, as the type is determined at runtime, alongside using automatic memory management (garbage collection), so you don't have to manually allocate or free memory in typical usage. \n",
    "\n",
    "## Main Features and Strengths \n",
    "\n",
    "Julia incorporates many features that make it powerful for numerical and scientific computing:\n",
    "\n",
    "- **High Performance**: Julia can approach or match the speed of C and Fortran for many tasks, meaning you often don't need to rewrite performance-critical code in another language. Julia features just in time compilation using LLVM and, where possible, specialises function calls according to types that are inferred during compilation. This means that code written in pure Julia is typically fast if written in a way that maximises Julia's type inference capabilities (as well as other performance considerations).\n",
    "- **Multiple Dispatch**: Multiple dispatch allows the standard library and packages to define methods optimised for different types (e.g. arrays of floats vs ints) seamlessly. As well as being at the heart of Julia's performance capabilities, it also makes it straightforward to extend the code to support new types as-and-when useful.\n",
    "- **Good support for Numerical Computing**: Julia has built-in support for things like arbitrary precision arithmetic, regular expressions, and powerful libraries for linear algebra and random numbers. Julia's package manager makes it easy to add external packages for specialised functionality, such as statistics, plotting, optimisation, etc.\n",
    "- **Interactive and Reproducible**: Julia can be used interactively (e.g. via the REPL or Jupyter notebooks) just like Python or R, which is great for exploration. Julia also has the built-in `Pkg` standard library that uses **Project** and **Manifest** files to pin exact dependency versions and ensure your environment can be recreated anywhere.\n",
    "- **Learning from older languages**: To some extent, Julia has been able to implement lessons that other languages had to learn the hard way, especially around it's tooling. For example, its package management system is easy to use, it has unit testing support directly in the standard library, and it has a a go-to [documentation generator](https://documenter.juliadocs.org/stable/).\n",
    "\n",
    "It should be noted that Julia comes with some weaknesses too:\n",
    "\n",
    "- Because Julia is a relatively young language, it has an **immature ecosystem**. Julia doesn't have the same financial backing or support from large companies as a language like Python, so most packages and tools for Julia are being maintained for free by volunteers. It's therefore not uncommon to come across packages with patchy documentation or that are not being maintained.\n",
    "- The core language [**suffers from some bugs**](https://github.com/JuliaLang/julia/issues?q=is%3Aissue+is%3Aopen+label%3Abug&page=4) and incorrect documentation in places.\n",
    "- **Compile time latency**: because of the just-in-time compilation that Julia performs, a user can experience a noticeable lag before any 'actual' code gets run, especially when importing heavy-duty packages. This can make it frustrating to use if you just want to quickly run a script.\n",
    "- **Large memory consumption at runtime**: the Julia runtime is large, to the extent where just running a 'Hello world' script can consume about 200MB of memory. (For comparison, Python consumes around 9MB.) While this isn't a problem in most research settings, it does mean Julia isn't a viable option where memory is severely restricted e.g. embedded programming.\n",
    "\n",
    "\n",
    "Overall, Julia was designed to increase user productivity without sacrificing performance. You can write high-level code that looks very similar to pseudocode or Python. Julia will compile efficient machine code, making it suitable for research and data science, where you want to prototype quickly and then run computations efficiently on extensive data or simulations. "
   ]
  },
  {
   "cell_type": "markdown",
   "id": "9761acbf-a678-48cc-b631-438202c465c8",
   "metadata": {
    "editable": true,
    "slideshow": {
     "slide_type": ""
    },
    "tags": [
     "remove-input"
    ]
   },
   "source": [
    "## Julia REPL Basics\n",
    "\n",
    "The Julia **REPL** (Read-Eval-Print Loop) is an interactive command‐line environment where you can type Julia expressions and see results immediately. To start the REPL, open your terminal and run:\n",
    "\n",
    "```bash\n",
    "julia\n",
    "```\n",
    "\n",
    "You should then see a prompt like: \n",
    "```bash\n",
    "julia>\n",
    "```\n",
    "\n",
    "Some useful REPL features include:\n",
    "\n",
    "- **Evaluate code** by typing an expression and pressing Enter. \n",
    "- **Help mode**: Type `?` then a function name (e.g. `?println`) to see documentation. \n",
    "- **Package mode**: Type `]` to enter Pkg mode (`pkg>`), where you can add or update packages (e.g. `add Plots`) -- more about this later. \n",
    "- **Autocomplete**: Press Tab after typing part of a variable or function name to see suggestions. \n",
    "- **Exit** by typing `exit()` or pressing Ctrl+D."
   ]
  },
  {
   "cell_type": "markdown",
   "id": "c22334d6-f59b-4eb2-9a10-9aa3effc0303",
   "metadata": {
    "editable": true,
    "slideshow": {
     "slide_type": ""
    },
    "tags": [
     "remove-input"
    ]
   },
   "source": [
    "### Exercise: Using Julia's REPL\n",
    "\n",
    "- Launch the REPL by running `julia` in your terminal.\n",
    "- Type each of these lines and verify you see the expected output:\n",
    "```bash\n",
    "julia> 1 + 1\n",
    "2\n",
    "\n",
    "julia> sqrt(2)\n",
    "1.4142135623730951\n",
    "\n",
    "julia> sum(1:10)\n",
    "55\n",
    "\n",
    "julia> function greet(name)\n",
    "           println(\"Hello, $name!\")\n",
    "       end\n",
    "\n",
    "julia> greet(\"Julia\")\n",
    "Hello, Julia!\n",
    "\n",
    "```\n",
    "- Exit the REPL with `exit()` or Ctrl+D"
   ]
  },
  {
   "cell_type": "markdown",
   "id": "6b9465c8-d4f9-4035-a620-8dab630d7118",
   "metadata": {
    "editable": true,
    "slideshow": {
     "slide_type": ""
    },
    "tags": [
     "remove-input"
    ]
   },
   "source": [
    "### Suppressing output\n",
    "\n",
    "You will notice that every time you enter an expression into the REPL then a value is printed back. This is also true when using Jupyter notebooks. Occasionally throughout this course we'll use a semicolon `;` at the end of a line to suppress the output, like so:"
   ]
  },
  {
   "cell_type": "code",
   "execution_count": 1,
   "id": "1417c5a8-0c9f-4541-baa8-556b7b463a99",
   "metadata": {},
   "outputs": [],
   "source": [
    "# No output printed due to ;\n",
    "1 + 1;"
   ]
  },
  {
   "cell_type": "markdown",
   "id": "6183782f-0024-4508-a727-9d3ab806b43f",
   "metadata": {
    "editable": true,
    "slideshow": {
     "slide_type": ""
    },
    "tags": [
     "remove-input"
    ]
   },
   "source": [
    "This is mostly to avoid clutter in the Jupyter notebook cell outputs. More generally, we can use semicolons to evaluate multiple expressions on a single line:"
   ]
  },
  {
   "cell_type": "code",
   "execution_count": 2,
   "id": "3e0d82d8-7543-4dcf-ae29-bd241a189437",
   "metadata": {},
   "outputs": [
    {
     "data": {
      "text/plain": [
       "3"
      ]
     },
     "execution_count": 2,
     "metadata": {},
     "output_type": "execute_result"
    }
   ],
   "source": [
    "# Multiple expressions on the same line\n",
    "x = 1; x + 2"
   ]
  },
  {
   "cell_type": "markdown",
   "id": "b70b7d42-83a5-4063-ad0b-1a5fdfa4b924",
   "metadata": {},
   "source": [
    "### The `@show` macro\n",
    "\n",
    "Another feature we will occasionally use is the `@show` 'macro'. This prints an expression and its result, which is convenient for printing the values of multiple expressions in the REPL / Jupyter code cells. (By default, only the value of the last expression is printed back when using a REPL / notebook code cell.) For example:"
   ]
  },
  {
   "cell_type": "code",
   "execution_count": 3,
   "id": "abeb62b3-77db-426f-85de-4a2688ca84d8",
   "metadata": {},
   "outputs": [
    {
     "name": "stdout",
     "output_type": "stream",
     "text": [
      "1 + 1 = 2\n",
      "sum(1:10) = 55\n"
     ]
    },
    {
     "data": {
      "text/plain": [
       "55"
      ]
     },
     "execution_count": 3,
     "metadata": {},
     "output_type": "execute_result"
    }
   ],
   "source": [
    "# Printing each expression and value\n",
    "@show 1 + 1\n",
    "@show sum(1:10)"
   ]
  },
  {
   "cell_type": "markdown",
   "id": "852c5606-bd1c-45bc-8247-1cd910df603d",
   "metadata": {},
   "source": [
    "The `@show` macro can also be quite useful when debugging code, to print the values of key expressions while the code is running."
   ]
  },
  {
   "cell_type": "markdown",
   "id": "3c6cc030-dfc1-42a8-a998-f2de9a464734",
   "metadata": {
    "editable": true,
    "slideshow": {
     "slide_type": ""
    },
    "tags": [
     "remove-input"
    ]
   },
   "source": [
    "# End of Section Quiz"
   ]
  },
  {
   "cell_type": "code",
   "execution_count": 4,
   "id": "c9e753ce-476b-47c7-948a-7b245e9da085",
   "metadata": {
    "editable": true,
    "slideshow": {
     "slide_type": ""
    },
    "tags": [
     "remove-input"
    ]
   },
   "outputs": [
    {
     "data": {
      "text/html": [
       "<style>\n",
       ".quiz-question {\n",
       "    background-color: #6c63ff;\n",
       "    color: white;\n",
       "    padding: 12px;\n",
       "    border-radius: 10px;\n",
       "    font-weight: bold;\n",
       "    font-size: 1.2em;\n",
       "    margin-bottom: 10px;\n",
       "}\n",
       "\n",
       ".quiz-form {\n",
       "    margin-bottom: 20px;\n",
       "}\n",
       "\n",
       ".quiz-answer {\n",
       "    display: block;\n",
       "    background-color: #f2f2f2;\n",
       "    border: none;\n",
       "    border-radius: 10px;\n",
       "    padding: 10px;\n",
       "    margin: 5px 0;\n",
       "    font-size: 1em;\n",
       "    cursor: pointer;\n",
       "    text-align: left;\n",
       "    transition: background-color 0.3s;\n",
       "    width: 100%;\n",
       "}\n",
       "\n",
       ".quiz-answer:hover {\n",
       "    background-color: #e0e0e0;\n",
       "}\n",
       "\n",
       ".correct {\n",
       "    background-color: #4CAF50 !important;\n",
       "    color: white !important;\n",
       "    border: none;\n",
       "}\n",
       "\n",
       ".incorrect {\n",
       "    background-color: #D32F2F !important;\n",
       "    color: white !important;\n",
       "    border: none;\n",
       "}\n",
       "\n",
       ".feedback {\n",
       "    margin-top: 10px;\n",
       "    font-weight: bold;\n",
       "    font-size: 1em;\n",
       "}\n",
       "</style>\n",
       "\n",
       "<script>\n",
       "function handleAnswer(qid, aid, feedback, isCorrect) {\n",
       "    // Reset all buttons for the question\n",
       "    let buttons = document.querySelectorAll(\".answer-\" + qid);\n",
       "    buttons.forEach(btn => {\n",
       "        btn.classList.remove('correct', 'incorrect');\n",
       "    });\n",
       "\n",
       "    // Apply correct/incorrect to selected\n",
       "    let selected = document.getElementById(aid);\n",
       "    selected.classList.add(isCorrect ? 'correct' : 'incorrect');\n",
       "\n",
       "    // Show feedback below the question\n",
       "    let feedbackBox = document.getElementById('feedback_' + qid);\n",
       "    feedbackBox.innerHTML = feedback;\n",
       "    feedbackBox.style.color = isCorrect ? 'green' : 'red';\n",
       "}\n",
       "</script>\n",
       "<div class=\"quiz-question\">What was the primary motivation for developing the Julia programming language?</div><form class=\"quiz-form\"><button type=\"button\" class=\"quiz-answer answer-1\" id=\"q1_a1\"\n",
       "    onclick=\"handleAnswer('1', 'q1_a1', 'Correct', true)\">\n",
       "    To create a language that combines ease of use, dynamism, mathematical prowess, and speed.\n",
       "</button>\n",
       "<button type=\"button\" class=\"quiz-answer answer-1\" id=\"q1_a2\"\n",
       "    onclick=\"handleAnswer('1', 'q1_a2', 'Incorrect', false)\">\n",
       "    To replace Python as the most popular programming language\n",
       "</button>\n",
       "<button type=\"button\" class=\"quiz-answer answer-1\" id=\"q1_a3\"\n",
       "    onclick=\"handleAnswer('1', 'q1_a3', 'Incorrect', false)\">\n",
       "    To focus on web development\n",
       "</button>\n",
       "<button type=\"button\" class=\"quiz-answer answer-1\" id=\"q1_a4\"\n",
       "    onclick=\"handleAnswer('1', 'q1_a4', 'Incorrect', false)\">\n",
       "    To create a language specifically for artifical intelligence\n",
       "</button>\n",
       "<div class=\"feedback\" id=\"feedback_1\"></div></form><hr><div class=\"quiz-question\">What is multiple dispatch in Julia?</div><form class=\"quiz-form\"><button type=\"button\" class=\"quiz-answer answer-2\" id=\"q2_a1\"\n",
       "    onclick=\"handleAnswer('2', 'q2_a1', 'Incorrect', false)\">\n",
       "    The ability to run multiple programs simultaneously\n",
       "</button>\n",
       "<button type=\"button\" class=\"quiz-answer answer-2\" id=\"q2_a2\"\n",
       "    onclick=\"handleAnswer('2', 'q2_a2', 'Correct', true)\">\n",
       "    The capability to choose which version of a function to execute based on the types of all arguments passed to it.\n",
       "</button>\n",
       "<button type=\"button\" class=\"quiz-answer answer-2\" id=\"q2_a3\"\n",
       "    onclick=\"handleAnswer('2', 'q2_a3', 'Incorrect', false)\">\n",
       "    A technique for managing memory\n",
       "</button>\n",
       "<button type=\"button\" class=\"quiz-answer answer-2\" id=\"q2_a4\"\n",
       "    onclick=\"handleAnswer('2', 'q2_a4', 'Incorrect', false)\">\n",
       "    A method for compiling code\n",
       "</button>\n",
       "<div class=\"feedback\" id=\"feedback_2\"></div></form><hr>"
      ]
     },
     "metadata": {},
     "output_type": "display_data"
    }
   ],
   "source": [
    "using JSON\n",
    "\n",
    "function show_quiz_from_json(path)\n",
    "    quiz_data = JSON.parsefile(path)\n",
    "\n",
    "    html = \"\"\"\n",
    "    <style>\n",
    "    .quiz-question {\n",
    "        background-color: #6c63ff;\n",
    "        color: white;\n",
    "        padding: 12px;\n",
    "        border-radius: 10px;\n",
    "        font-weight: bold;\n",
    "        font-size: 1.2em;\n",
    "        margin-bottom: 10px;\n",
    "    }\n",
    "\n",
    "    .quiz-form {\n",
    "        margin-bottom: 20px;\n",
    "    }\n",
    "\n",
    "    .quiz-answer {\n",
    "        display: block;\n",
    "        background-color: #f2f2f2;\n",
    "        border: none;\n",
    "        border-radius: 10px;\n",
    "        padding: 10px;\n",
    "        margin: 5px 0;\n",
    "        font-size: 1em;\n",
    "        cursor: pointer;\n",
    "        text-align: left;\n",
    "        transition: background-color 0.3s;\n",
    "        width: 100%;\n",
    "    }\n",
    "\n",
    "    .quiz-answer:hover {\n",
    "        background-color: #e0e0e0;\n",
    "    }\n",
    "\n",
    "    .correct {\n",
    "        background-color: #4CAF50 !important;\n",
    "        color: white !important;\n",
    "        border: none;\n",
    "    }\n",
    "\n",
    "    .incorrect {\n",
    "        background-color: #D32F2F !important;\n",
    "        color: white !important;\n",
    "        border: none;\n",
    "    }\n",
    "\n",
    "    .feedback {\n",
    "        margin-top: 10px;\n",
    "        font-weight: bold;\n",
    "        font-size: 1em;\n",
    "    }\n",
    "    </style>\n",
    "\n",
    "    <script>\n",
    "    function handleAnswer(qid, aid, feedback, isCorrect) {\n",
    "        // Reset all buttons for the question\n",
    "        let buttons = document.querySelectorAll(\".answer-\" + qid);\n",
    "        buttons.forEach(btn => {\n",
    "            btn.classList.remove('correct', 'incorrect');\n",
    "        });\n",
    "\n",
    "        // Apply correct/incorrect to selected\n",
    "        let selected = document.getElementById(aid);\n",
    "        selected.classList.add(isCorrect ? 'correct' : 'incorrect');\n",
    "\n",
    "        // Show feedback below the question\n",
    "        let feedbackBox = document.getElementById('feedback_' + qid);\n",
    "        feedbackBox.innerHTML = feedback;\n",
    "        feedbackBox.style.color = isCorrect ? 'green' : 'red';\n",
    "    }\n",
    "    </script>\n",
    "    \"\"\"\n",
    "\n",
    "    for (i, question) in enumerate(quiz_data)\n",
    "        qid = \"$i\"\n",
    "        html *= \"\"\"<div class=\"quiz-question\">$(question[\"question\"])</div><form class=\"quiz-form\">\"\"\"\n",
    "\n",
    "        for (j, answer) in enumerate(question[\"answers\"])\n",
    "            aid = \"q$(i)_a$(j)\"\n",
    "            feedback = answer[\"feedback\"]\n",
    "            correct = startswith(lowercase(feedback), \"correct\")\n",
    "            html *= \"\"\"\n",
    "            <button type=\"button\" class=\"quiz-answer answer-$qid\" id=\"$aid\"\n",
    "                onclick=\"handleAnswer('$qid', '$aid', '$feedback', $(correct))\">\n",
    "                $(answer[\"answer\"])\n",
    "            </button>\n",
    "            \"\"\"\n",
    "        end\n",
    "\n",
    "        html *= \"\"\"<div class=\"feedback\" id=\"feedback_$qid\"></div></form><hr>\"\"\"\n",
    "    end\n",
    "\n",
    "    display(\"text/html\", html)\n",
    "end\n",
    "\n",
    "\n",
    "# Use the function\n",
    "show_quiz_from_json(\"questions/summary_introduction.json\")"
   ]
  }
 ],
 "metadata": {
  "kernelspec": {
   "display_name": "Julia 1.10.9",
   "language": "julia",
   "name": "julia-1.10"
  },
  "language_info": {
   "file_extension": ".jl",
   "mimetype": "application/julia",
   "name": "julia",
   "version": "1.10.9"
  }
 },
 "nbformat": 4,
 "nbformat_minor": 5
}
