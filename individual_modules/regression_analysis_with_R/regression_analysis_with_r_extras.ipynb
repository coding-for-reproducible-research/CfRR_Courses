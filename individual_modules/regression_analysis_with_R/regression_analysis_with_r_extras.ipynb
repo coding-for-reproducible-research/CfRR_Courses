{
 "cells": [
  {
   "cell_type": "code",
   "execution_count": 2,
   "id": "2a490f35-1462-4b37-a273-6f9d97953aa5",
   "metadata": {
    "editable": true,
    "slideshow": {
     "slide_type": ""
    },
    "tags": [
     "remove-input"
    ]
   },
   "outputs": [],
   "source": [
    "set.seed(123)\n",
    "par(mar = c(4,4,1,1))\n",
    "nSamples <- 250\n",
    "height<-rnorm(nSamples, 180, 20)\n",
    "sex<-as.factor(sample(c(\"male\", \"female\"), size = nSamples, replace = TRUE, prob = c(0.45,0.55)))\n",
    "height<-height + rnorm(nSamples, 10,5)*(as.numeric(sex)-1)\n",
    "age<-floor(runif(nSamples, 40,60))\n",
    "weight<- height * 0.7 - 44 + rnorm(nSamples,0,12)\n",
    "\n",
    "weight<-weight + rnorm(nSamples, 3, 2)*(as.numeric(sex)-1) + rnorm(nSamples, 0.005, 0.001)*(as.numeric(sex)-1) * height\n",
    "weight <- weight + age * rnorm(nSamples, 0.04, 0.03)\n",
    "bmi <- weight/(height/100)^2\n",
    "\n",
    "smoker<-sample(c(0,1), size = nSamples, replace = TRUE, prob = c(0.8,0.2))\n",
    "t2diabetes <- sample(c(0,1), size = nSamples, replace = TRUE, prob = c(0.8,0.2))\n",
    "t2diabetes[sample(which(bmi > 25),10)]<-1\n",
    "t2diabetes[sample(which(smoker == 1),5)]<-1\n",
    "\n",
    "exercise_hours <- rpois(nSamples, 1) + rpois(nSamples, 2)*(1-t2diabetes) + rpois(nSamples, 1) * (as.numeric(sex)-1)\n",
    "alcohol_units <- rpois(nSamples, 3) + rpois(nSamples, 5)*(1-t2diabetes) + rpois(nSamples, 3) * (as.numeric(sex)-1) + rpois(nSamples, 1)*rpois(nSamples, 6)*(1-t2diabetes) \n",
    "exercise_hours[which(weight < 60)]<-rpois(sum(weight < 60), 12)\n",
    "alcohol_units[which(bmi > 37)]<-alcohol_units[which(bmi > 37)] + rpois(sum(bmi > 37),5)\n",
    "alcohol_units[which(weight > 140)]<-rpois(sum(weight > 140),50)\n",
    "\n",
    "ethnicity<-sample(c(\"European\", \"Asian\", \"AfricanAmerican\"), nSamples, replace = TRUE, prob = c(0.6,0.25,0.15))\n",
    "socioeconomic_status <- sample(c(\"High\", \"Middle\", \"Low\"), nSamples, replace = TRUE, prob = c(0.25,0.5,0.25))\n",
    "socioeconomic_status[which(bmi > 25)] <- sample(c(\"High\", \"Middle\", \"Low\"), sum(bmi > 25), replace = TRUE, prob = c(0.1,0.25,0.65))\n",
    "\n",
    "demoDat <-data.frame(age, height, weight, bmi, ethnicity, socioeconomic_status, smoker, exercise_hours, alcohol_units, t2diabetes)"
   ]
  },
  {
   "cell_type": "markdown",
   "id": "a9255253-7dd0-4629-840b-d9a741edba78",
   "metadata": {},
   "source": [
    "\n",
    "\n",
    "# Extras\n",
    "\n",
    "## Extracting Summary Statistics From a Model Fit in R\n",
    "\n",
    "If you are new to R, here we will just run through some details on the type of objects these data are stored in and how to access specific elements. This can be helpful for writing automated analysis scripts. Due to the need to contain different types of data in different formats and structures, the output of the regression model fit is stored in a bespoke object, with slots for the different parts of the output. These slots are named and can be assessed using the `$`. For example, to extract just the table of estimated regression coefficients which are named `coefficients`, we use the following command: \n"
   ]
  },
  {
   "cell_type": "code",
   "execution_count": 4,
   "id": "b79653fc-317c-4f03-96ea-5abe5bfb55af",
   "metadata": {},
   "outputs": [
    {
     "name": "stdout",
     "output_type": "stream",
     "text": [
      "               Estimate Std. Error    t value     Pr(>|t|)\n",
      "(Intercept) 24.22402808 2.26589809 10.6906962 3.581804e-22\n",
      "age          0.04090023 0.04560467  0.8968430 3.706760e-01\n",
      "sexmale      0.07188731 0.52593207  0.1366856 8.913907e-01\n"
     ]
    }
   ],
   "source": [
    "model <- lm(bmi ~ age + sex, demoDat)\n",
    "summary(model)$coefficients"
   ]
  },
  {
   "cell_type": "markdown",
   "id": "91d98c1d-457d-4298-ac02-a54548c1780b",
   "metadata": {},
   "source": [
    "We can determine the type of object the coefficients table is stored in, using the function `class()`. "
   ]
  },
  {
   "cell_type": "code",
   "execution_count": 6,
   "id": "2ec4a7c9-c478-4fba-bc33-f034b51b8929",
   "metadata": {},
   "outputs": [
    {
     "name": "stdout",
     "output_type": "stream",
     "text": [
      "[1] \"numeric\"\n"
     ]
    }
   ],
   "source": [
    "class(summary(model)$coefficients)\n",
    "mode(summary(model)$coefficients)"
   ]
  },
  {
   "cell_type": "markdown",
   "id": "32a4c285-faf9-4068-bc1c-d09afee71792",
   "metadata": {},
   "source": [
    "The output of the command tells us it is stored in a matrix, which is a data-type in R, where you have rows and columns. A similar data-type is called a data.frame. The difference between these two data-types is that matrices can only contain one data type, which we can determine with the function `mode()`. Here it contains exclusively numeric values. In contrast, in a data frame each column can be a different data type. Our demoDat data is stored in a data.frame and the output of the `str()` function, tells us the data type assigned to each column. \n",
    "\n",
    "Let's say we wanted to extract a single value from this matrix, there are a number of commands we can use. For example, let's extract the p-value for the age regression slope parameter using the slicing function `[`.\n",
    "\n",
    "We can provide the row (2nd) and column (4th) number of the matrix entry we want: "
   ]
  },
  {
   "cell_type": "code",
   "execution_count": 7,
   "id": "30523746-fc62-44c9-ba81-390f805fc733",
   "metadata": {},
   "outputs": [
    {
     "name": "stdout",
     "output_type": "stream",
     "text": [
      "[1] 0.370676\n"
     ]
    }
   ],
   "source": [
    "summary(model)$coefficients[2,4]"
   ]
  },
  {
   "cell_type": "markdown",
   "id": "de92d1f7-80e7-4ea3-9a84-7c68e4909360",
   "metadata": {},
   "source": [
    "Alternatively we can specify either the column or row name:"
   ]
  },
  {
   "cell_type": "code",
   "execution_count": 8,
   "id": "45baecbf-ab2f-44dc-a951-741bedbf07fc",
   "metadata": {},
   "outputs": [
    {
     "name": "stdout",
     "output_type": "stream",
     "text": [
      "[1] 0.370676\n"
     ]
    }
   ],
   "source": [
    "summary(model)$coefficients[\"age\",4]"
   ]
  },
  {
   "cell_type": "markdown",
   "id": "d129c819-edca-4630-99fc-983a06ca0096",
   "metadata": {},
   "source": [
    "We can see a list of all components we can extract from the output of `lm()` by running `names()` on the lm object. All of these can be extracted with the `$`."
   ]
  },
  {
   "cell_type": "code",
   "execution_count": 9,
   "id": "d3f2fb74-e0bc-4ada-b435-af76d999d932",
   "metadata": {},
   "outputs": [
    {
     "name": "stdout",
     "output_type": "stream",
     "text": [
      "\n",
      "Call:\n",
      "lm(formula = bmi ~ age + sex, data = demoDat)\n",
      "\n",
      "Coefficients:\n",
      "(Intercept)          age      sexmale  \n",
      "   24.22403      0.04090      0.07189  \n",
      "\n"
     ]
    }
   ],
   "source": [
    "names(model)\n",
    "model$call ## example of how to extract any of the components listed by the previous command."
   ]
  },
  {
   "cell_type": "markdown",
   "id": "409ba54c-3f31-48aa-a8d8-deed4f5b3ee4",
   "metadata": {},
   "source": [
    "Similarly we can run `names()` on the `summary(lm)` object as showed here to get a list of all the slots available from that object. "
   ]
  },
  {
   "cell_type": "code",
   "execution_count": 10,
   "id": "ca8e344d-3e10-488b-9430-1717b5a15150",
   "metadata": {},
   "outputs": [
    {
     "name": "stdout",
     "output_type": "stream",
     "text": [
      " [1] \"call\"          \"terms\"         \"residuals\"     \"coefficients\" \n",
      " [5] \"aliased\"       \"sigma\"         \"df\"            \"r.squared\"    \n",
      " [9] \"adj.r.squared\" \"fstatistic\"    \"cov.unscaled\" \n"
     ]
    }
   ],
   "source": [
    "names(summary(model))"
   ]
  },
  {
   "cell_type": "markdown",
   "id": "cd8bd838-038a-4062-810d-a6d4bd94f82b",
   "metadata": {},
   "source": [
    "Note these are different to those available for the model object, for example the $R^{2}$ and $\\overline{R}^{2}$ are only extractable from the `summary(model)` object. "
   ]
  },
  {
   "cell_type": "code",
   "execution_count": 11,
   "id": "f160bac8-636c-4779-b9a3-b43f5e20ca19",
   "metadata": {},
   "outputs": [
    {
     "name": "stdout",
     "output_type": "stream",
     "text": [
      "[1] -0.004636059\n"
     ]
    }
   ],
   "source": [
    "summary(model)$r.squared\n",
    "summary(model)$adj.r.squared"
   ]
  },
  {
   "cell_type": "markdown",
   "id": "da0b7aa1-66fc-406c-be40-75e4333589d4",
   "metadata": {},
   "source": [
    "Note that as well as directly assessing these slots using the `$` command, there also exist some predefined functions to extract the commonly requested outputs from the model fit. We have already taken advantage of one of these, `summary()`, others include `coef()`, `effects()`, `residuals()`, `fitted()` and `predict.lm()`.\n",
    "\n",
    "## Simple Linear Regression Link between F-test and T-test\n",
    "\n",
    "We can also use an F-test to test a single predictor variable in our model. \n"
   ]
  },
  {
   "cell_type": "code",
   "execution_count": 12,
   "id": "1076360e-8346-4dc6-abc6-4af7fcc767cc",
   "metadata": {},
   "outputs": [
    {
     "name": "stdout",
     "output_type": "stream",
     "text": [
      "Analysis of Variance Table\n",
      "\n",
      "Response: weight\n",
      "           Df Sum Sq Mean Sq F value    Pr(>F)    \n",
      "height      1  46302   46302  295.74 < 2.2e-16 ***\n",
      "Residuals 248  38828     157                      \n",
      "---\n",
      "Signif. codes:  0 ‘***’ 0.001 ‘**’ 0.01 ‘*’ 0.05 ‘.’ 0.1 ‘ ’ 1\n"
     ]
    }
   ],
   "source": [
    "model<-lm(weight ~ height)\n",
    "summary(model)\n",
    "anova(model)"
   ]
  },
  {
   "cell_type": "markdown",
   "id": "3ae53dea-1a32-437d-a137-b460ef31b27f",
   "metadata": {},
   "source": [
    "In the `summary(model)` output, we can see at the bottom the results of testing the full model with an F-test. If we want to see the full table of sums of squares statistics, we can use the `anova()` function on our fitted regression model.\n",
    "\n",
    "Comparing this table with the coefficients table, we can see that the p-value from the t-test of the age regression parameter and the F-test for the full model are identical. This is not a coincidence and is always true for the specific case of simple linear regression.\n",
    "\n",
    "### Extracting Variance Explained Statistics\n",
    "\n",
    "Finally, we will look at the $R^{2}$ and $\\overline{R}^{2}$ statistics. We can see from the `summary(model)` output above these are automatically calculated. For the simple linear regression model we have fitted\n",
    "\n",
    "$R^{2}$ = `r summary(model)$r.squared`\n",
    "\n",
    "$\\overline{R}^{2}$ = `r summary(model)$adj.r.squared`"
   ]
  },
  {
   "cell_type": "code",
   "execution_count": null,
   "id": "32050f96-2aef-4cc2-b4e0-6b41ff705862",
   "metadata": {},
   "outputs": [],
   "source": []
  }
 ],
 "metadata": {
  "kernelspec": {
   "display_name": "R",
   "language": "R",
   "name": "ir"
  },
  "language_info": {
   "codemirror_mode": "r",
   "file_extension": ".r",
   "mimetype": "text/x-r-source",
   "name": "R",
   "pygments_lexer": "r",
   "version": "4.3.3"
  }
 },
 "nbformat": 4,
 "nbformat_minor": 5
}
