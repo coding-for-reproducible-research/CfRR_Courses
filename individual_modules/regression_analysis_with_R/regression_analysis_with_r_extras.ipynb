{
 "cells": [
  {
   "cell_type": "code",
   "execution_count": 1,
   "id": "2a490f35-1462-4b37-a273-6f9d97953aa5",
   "metadata": {
    "editable": true,
    "slideshow": {
     "slide_type": ""
    },
    "tags": [
     "remove-input"
    ]
   },
   "outputs": [],
   "source": [
    "set.seed(123)\n",
    "par(mar = c(4,4,1,1))\n",
    "nSamples <- 250\n",
    "height<-rnorm(nSamples, 180, 20)\n",
    "sex<-as.factor(sample(c(\"male\", \"female\"), size = nSamples, replace = TRUE, prob = c(0.45,0.55)))\n",
    "height<-height + rnorm(nSamples, 10,5)*(as.numeric(sex)-1)\n",
    "age<-floor(runif(nSamples, 40,60))\n",
    "weight<- height * 0.7 - 44 + rnorm(nSamples,0,12)\n",
    "\n",
    "weight<-weight + rnorm(nSamples, 3, 2)*(as.numeric(sex)-1) + rnorm(nSamples, 0.005, 0.001)*(as.numeric(sex)-1) * height\n",
    "weight <- weight + age * rnorm(nSamples, 0.04, 0.03)\n",
    "bmi <- weight/(height/100)^2\n",
    "\n",
    "smoker<-sample(c(0,1), size = nSamples, replace = TRUE, prob = c(0.8,0.2))\n",
    "t2diabetes <- sample(c(0,1), size = nSamples, replace = TRUE, prob = c(0.8,0.2))\n",
    "t2diabetes[sample(which(bmi > 25),10)]<-1\n",
    "t2diabetes[sample(which(smoker == 1),5)]<-1\n",
    "\n",
    "exercise_hours <- rpois(nSamples, 1) + rpois(nSamples, 2)*(1-t2diabetes) + rpois(nSamples, 1) * (as.numeric(sex)-1)\n",
    "alcohol_units <- rpois(nSamples, 3) + rpois(nSamples, 5)*(1-t2diabetes) + rpois(nSamples, 3) * (as.numeric(sex)-1) + rpois(nSamples, 1)*rpois(nSamples, 6)*(1-t2diabetes) \n",
    "exercise_hours[which(weight < 60)]<-rpois(sum(weight < 60), 12)\n",
    "alcohol_units[which(bmi > 37)]<-alcohol_units[which(bmi > 37)] + rpois(sum(bmi > 37),5)\n",
    "alcohol_units[which(weight > 140)]<-rpois(sum(weight > 140),50)\n",
    "\n",
    "ethnicity<-sample(c(\"European\", \"Asian\", \"AfricanAmerican\"), nSamples, replace = TRUE, prob = c(0.6,0.25,0.15))\n",
    "socioeconomic_status <- sample(c(\"High\", \"Middle\", \"Low\"), nSamples, replace = TRUE, prob = c(0.25,0.5,0.25))\n",
    "socioeconomic_status[which(bmi > 25)] <- sample(c(\"High\", \"Middle\", \"Low\"), sum(bmi > 25), replace = TRUE, prob = c(0.1,0.25,0.65))\n",
    "\n",
    "demoDat <-data.frame(age, height, weight, bmi, ethnicity, socioeconomic_status, smoker, exercise_hours, alcohol_units, t2diabetes)"
   ]
  },
  {
   "cell_type": "markdown",
   "id": "a9255253-7dd0-4629-840b-d9a741edba78",
   "metadata": {},
   "source": [
    "\n",
    "\n",
    "# Extras\n",
    "\n",
    "## Extracting Summary Statistics From a Model Fit in R\n",
    "\n",
    "If you are new to R, here we will just run through some details on the type of objects these data are stored in and how to access specific elements. This can be helpful for writing automated analysis scripts. Due to the need to contain different types of data in different formats and structures, the output of the regression model fit is stored in a bespoke object, with slots for the different parts of the output. These slots are named and can be assessed using the `$`. For example, to extract just the table of estimated regression coefficients which are named `coefficients`, we use the following command: \n"
   ]
  },
  {
   "cell_type": "code",
   "execution_count": 2,
   "id": "b79653fc-317c-4f03-96ea-5abe5bfb55af",
   "metadata": {
    "editable": true,
    "slideshow": {
     "slide_type": ""
    },
    "tags": []
   },
   "outputs": [
    {
     "data": {
      "text/html": [
       "<table class=\"dataframe\">\n",
       "<caption>A matrix: 3 × 4 of type dbl</caption>\n",
       "<thead>\n",
       "\t<tr><th></th><th scope=col>Estimate</th><th scope=col>Std. Error</th><th scope=col>t value</th><th scope=col>Pr(&gt;|t|)</th></tr>\n",
       "</thead>\n",
       "<tbody>\n",
       "\t<tr><th scope=row>(Intercept)</th><td>24.22402808</td><td>2.26589809</td><td>10.6906962</td><td>3.581804e-22</td></tr>\n",
       "\t<tr><th scope=row>age</th><td> 0.04090023</td><td>0.04560467</td><td> 0.8968430</td><td>3.706760e-01</td></tr>\n",
       "\t<tr><th scope=row>sexmale</th><td> 0.07188731</td><td>0.52593207</td><td> 0.1366856</td><td>8.913907e-01</td></tr>\n",
       "</tbody>\n",
       "</table>\n"
      ],
      "text/latex": [
       "A matrix: 3 × 4 of type dbl\n",
       "\\begin{tabular}{r|llll}\n",
       "  & Estimate & Std. Error & t value & Pr(>\\textbar{}t\\textbar{})\\\\\n",
       "\\hline\n",
       "\t(Intercept) & 24.22402808 & 2.26589809 & 10.6906962 & 3.581804e-22\\\\\n",
       "\tage &  0.04090023 & 0.04560467 &  0.8968430 & 3.706760e-01\\\\\n",
       "\tsexmale &  0.07188731 & 0.52593207 &  0.1366856 & 8.913907e-01\\\\\n",
       "\\end{tabular}\n"
      ],
      "text/markdown": [
       "\n",
       "A matrix: 3 × 4 of type dbl\n",
       "\n",
       "| <!--/--> | Estimate | Std. Error | t value | Pr(&gt;|t|) |\n",
       "|---|---|---|---|---|\n",
       "| (Intercept) | 24.22402808 | 2.26589809 | 10.6906962 | 3.581804e-22 |\n",
       "| age |  0.04090023 | 0.04560467 |  0.8968430 | 3.706760e-01 |\n",
       "| sexmale |  0.07188731 | 0.52593207 |  0.1366856 | 8.913907e-01 |\n",
       "\n"
      ],
      "text/plain": [
       "            Estimate    Std. Error t value    Pr(>|t|)    \n",
       "(Intercept) 24.22402808 2.26589809 10.6906962 3.581804e-22\n",
       "age          0.04090023 0.04560467  0.8968430 3.706760e-01\n",
       "sexmale      0.07188731 0.52593207  0.1366856 8.913907e-01"
      ]
     },
     "metadata": {},
     "output_type": "display_data"
    }
   ],
   "source": [
    "model <- lm(bmi ~ age + sex, demoDat)\n",
    "summary(model)$coefficients"
   ]
  },
  {
   "cell_type": "markdown",
   "id": "91d98c1d-457d-4298-ac02-a54548c1780b",
   "metadata": {},
   "source": [
    "We can determine the type of object the coefficients table is stored in, using the function `class()`. "
   ]
  },
  {
   "cell_type": "code",
   "execution_count": 3,
   "id": "2ec4a7c9-c478-4fba-bc33-f034b51b8929",
   "metadata": {},
   "outputs": [
    {
     "data": {
      "text/html": [
       "<style>\n",
       ".list-inline {list-style: none; margin:0; padding: 0}\n",
       ".list-inline>li {display: inline-block}\n",
       ".list-inline>li:not(:last-child)::after {content: \"\\00b7\"; padding: 0 .5ex}\n",
       "</style>\n",
       "<ol class=list-inline><li>'matrix'</li><li>'array'</li></ol>\n"
      ],
      "text/latex": [
       "\\begin{enumerate*}\n",
       "\\item 'matrix'\n",
       "\\item 'array'\n",
       "\\end{enumerate*}\n"
      ],
      "text/markdown": [
       "1. 'matrix'\n",
       "2. 'array'\n",
       "\n",
       "\n"
      ],
      "text/plain": [
       "[1] \"matrix\" \"array\" "
      ]
     },
     "metadata": {},
     "output_type": "display_data"
    },
    {
     "data": {
      "text/html": [
       "'numeric'"
      ],
      "text/latex": [
       "'numeric'"
      ],
      "text/markdown": [
       "'numeric'"
      ],
      "text/plain": [
       "[1] \"numeric\""
      ]
     },
     "metadata": {},
     "output_type": "display_data"
    }
   ],
   "source": [
    "class(summary(model)$coefficients)\n",
    "mode(summary(model)$coefficients)"
   ]
  },
  {
   "cell_type": "markdown",
   "id": "32a4c285-faf9-4068-bc1c-d09afee71792",
   "metadata": {},
   "source": [
    "The output of the command tells us it is stored in a matrix, which is a data-type in R, where you have rows and columns. A similar data-type is called a data.frame. The difference between these two data-types is that matrices can only contain one data type, which we can determine with the function `mode()`. Here it contains exclusively numeric values. In contrast, in a data frame each column can be a different data type. Our demoDat data is stored in a data.frame and the output of the `str()` function, tells us the data type assigned to each column. \n",
    "\n",
    "Let's say we wanted to extract a single value from this matrix, there are a number of commands we can use. For example, let's extract the p-value for the age regression slope parameter using the slicing function `[`.\n",
    "\n",
    "We can provide the row (2nd) and column (4th) number of the matrix entry we want: "
   ]
  },
  {
   "cell_type": "code",
   "execution_count": 4,
   "id": "30523746-fc62-44c9-ba81-390f805fc733",
   "metadata": {},
   "outputs": [
    {
     "data": {
      "text/html": [
       "0.37067597756689"
      ],
      "text/latex": [
       "0.37067597756689"
      ],
      "text/markdown": [
       "0.37067597756689"
      ],
      "text/plain": [
       "[1] 0.370676"
      ]
     },
     "metadata": {},
     "output_type": "display_data"
    }
   ],
   "source": [
    "summary(model)$coefficients[2,4]"
   ]
  },
  {
   "cell_type": "markdown",
   "id": "de92d1f7-80e7-4ea3-9a84-7c68e4909360",
   "metadata": {},
   "source": [
    "Alternatively we can specify either the column or row name:"
   ]
  },
  {
   "cell_type": "code",
   "execution_count": 5,
   "id": "45baecbf-ab2f-44dc-a951-741bedbf07fc",
   "metadata": {},
   "outputs": [
    {
     "data": {
      "text/html": [
       "0.37067597756689"
      ],
      "text/latex": [
       "0.37067597756689"
      ],
      "text/markdown": [
       "0.37067597756689"
      ],
      "text/plain": [
       "[1] 0.370676"
      ]
     },
     "metadata": {},
     "output_type": "display_data"
    }
   ],
   "source": [
    "summary(model)$coefficients[\"age\",4]"
   ]
  },
  {
   "cell_type": "markdown",
   "id": "d129c819-edca-4630-99fc-983a06ca0096",
   "metadata": {},
   "source": [
    "We can see a list of all components we can extract from the output of `lm()` by running `names()` on the lm object. All of these can be extracted with the `$`."
   ]
  },
  {
   "cell_type": "code",
   "execution_count": 6,
   "id": "d3f2fb74-e0bc-4ada-b435-af76d999d932",
   "metadata": {},
   "outputs": [
    {
     "data": {
      "text/html": [
       "<style>\n",
       ".list-inline {list-style: none; margin:0; padding: 0}\n",
       ".list-inline>li {display: inline-block}\n",
       ".list-inline>li:not(:last-child)::after {content: \"\\00b7\"; padding: 0 .5ex}\n",
       "</style>\n",
       "<ol class=list-inline><li>'coefficients'</li><li>'residuals'</li><li>'effects'</li><li>'rank'</li><li>'fitted.values'</li><li>'assign'</li><li>'qr'</li><li>'df.residual'</li><li>'contrasts'</li><li>'xlevels'</li><li>'call'</li><li>'terms'</li><li>'model'</li></ol>\n"
      ],
      "text/latex": [
       "\\begin{enumerate*}\n",
       "\\item 'coefficients'\n",
       "\\item 'residuals'\n",
       "\\item 'effects'\n",
       "\\item 'rank'\n",
       "\\item 'fitted.values'\n",
       "\\item 'assign'\n",
       "\\item 'qr'\n",
       "\\item 'df.residual'\n",
       "\\item 'contrasts'\n",
       "\\item 'xlevels'\n",
       "\\item 'call'\n",
       "\\item 'terms'\n",
       "\\item 'model'\n",
       "\\end{enumerate*}\n"
      ],
      "text/markdown": [
       "1. 'coefficients'\n",
       "2. 'residuals'\n",
       "3. 'effects'\n",
       "4. 'rank'\n",
       "5. 'fitted.values'\n",
       "6. 'assign'\n",
       "7. 'qr'\n",
       "8. 'df.residual'\n",
       "9. 'contrasts'\n",
       "10. 'xlevels'\n",
       "11. 'call'\n",
       "12. 'terms'\n",
       "13. 'model'\n",
       "\n",
       "\n"
      ],
      "text/plain": [
       " [1] \"coefficients\"  \"residuals\"     \"effects\"       \"rank\"         \n",
       " [5] \"fitted.values\" \"assign\"        \"qr\"            \"df.residual\"  \n",
       " [9] \"contrasts\"     \"xlevels\"       \"call\"          \"terms\"        \n",
       "[13] \"model\"        "
      ]
     },
     "metadata": {},
     "output_type": "display_data"
    },
    {
     "data": {
      "text/plain": [
       "lm(formula = bmi ~ age + sex, data = demoDat)"
      ]
     },
     "metadata": {},
     "output_type": "display_data"
    }
   ],
   "source": [
    "names(model)\n",
    "model$call ## example of how to extract any of the components listed by the previous command."
   ]
  },
  {
   "cell_type": "markdown",
   "id": "409ba54c-3f31-48aa-a8d8-deed4f5b3ee4",
   "metadata": {},
   "source": [
    "Similarly we can run `names()` on the `summary(lm)` object as showed here to get a list of all the slots available from that object. "
   ]
  },
  {
   "cell_type": "code",
   "execution_count": 7,
   "id": "ca8e344d-3e10-488b-9430-1717b5a15150",
   "metadata": {},
   "outputs": [
    {
     "data": {
      "text/html": [
       "<style>\n",
       ".list-inline {list-style: none; margin:0; padding: 0}\n",
       ".list-inline>li {display: inline-block}\n",
       ".list-inline>li:not(:last-child)::after {content: \"\\00b7\"; padding: 0 .5ex}\n",
       "</style>\n",
       "<ol class=list-inline><li>'call'</li><li>'terms'</li><li>'residuals'</li><li>'coefficients'</li><li>'aliased'</li><li>'sigma'</li><li>'df'</li><li>'r.squared'</li><li>'adj.r.squared'</li><li>'fstatistic'</li><li>'cov.unscaled'</li></ol>\n"
      ],
      "text/latex": [
       "\\begin{enumerate*}\n",
       "\\item 'call'\n",
       "\\item 'terms'\n",
       "\\item 'residuals'\n",
       "\\item 'coefficients'\n",
       "\\item 'aliased'\n",
       "\\item 'sigma'\n",
       "\\item 'df'\n",
       "\\item 'r.squared'\n",
       "\\item 'adj.r.squared'\n",
       "\\item 'fstatistic'\n",
       "\\item 'cov.unscaled'\n",
       "\\end{enumerate*}\n"
      ],
      "text/markdown": [
       "1. 'call'\n",
       "2. 'terms'\n",
       "3. 'residuals'\n",
       "4. 'coefficients'\n",
       "5. 'aliased'\n",
       "6. 'sigma'\n",
       "7. 'df'\n",
       "8. 'r.squared'\n",
       "9. 'adj.r.squared'\n",
       "10. 'fstatistic'\n",
       "11. 'cov.unscaled'\n",
       "\n",
       "\n"
      ],
      "text/plain": [
       " [1] \"call\"          \"terms\"         \"residuals\"     \"coefficients\" \n",
       " [5] \"aliased\"       \"sigma\"         \"df\"            \"r.squared\"    \n",
       " [9] \"adj.r.squared\" \"fstatistic\"    \"cov.unscaled\" "
      ]
     },
     "metadata": {},
     "output_type": "display_data"
    }
   ],
   "source": [
    "names(summary(model))"
   ]
  },
  {
   "cell_type": "markdown",
   "id": "cd8bd838-038a-4062-810d-a6d4bd94f82b",
   "metadata": {},
   "source": [
    "Note these are different to those available for the model object, for example the $R^{2}$ and $\\overline{R}^{2}$ are only extractable from the `summary(model)` object. "
   ]
  },
  {
   "cell_type": "code",
   "execution_count": 8,
   "id": "f160bac8-636c-4779-b9a3-b43f5e20ca19",
   "metadata": {},
   "outputs": [
    {
     "data": {
      "text/html": [
       "0.00343330708048094"
      ],
      "text/latex": [
       "0.00343330708048094"
      ],
      "text/markdown": [
       "0.00343330708048094"
      ],
      "text/plain": [
       "[1] 0.003433307"
      ]
     },
     "metadata": {},
     "output_type": "display_data"
    },
    {
     "data": {
      "text/html": [
       "-0.00463605885409013"
      ],
      "text/latex": [
       "-0.00463605885409013"
      ],
      "text/markdown": [
       "-0.00463605885409013"
      ],
      "text/plain": [
       "[1] -0.004636059"
      ]
     },
     "metadata": {},
     "output_type": "display_data"
    }
   ],
   "source": [
    "summary(model)$r.squared\n",
    "summary(model)$adj.r.squared"
   ]
  },
  {
   "cell_type": "markdown",
   "id": "da0b7aa1-66fc-406c-be40-75e4333589d4",
   "metadata": {},
   "source": [
    "Note that as well as directly assessing these slots using the `$` command, there also exist some predefined functions to extract the commonly requested outputs from the model fit. We have already taken advantage of one of these, `summary()`, others include `coef()`, `effects()`, `residuals()`, `fitted()` and `predict.lm()`.\n",
    "\n",
    "## Simple Linear Regression Link between F-test and T-test\n",
    "\n",
    "We can also use an F-test to test a single predictor variable in our model. \n"
   ]
  },
  {
   "cell_type": "code",
   "execution_count": 9,
   "id": "1076360e-8346-4dc6-abc6-4af7fcc767cc",
   "metadata": {},
   "outputs": [
    {
     "data": {
      "text/plain": [
       "\n",
       "Call:\n",
       "lm(formula = weight ~ height)\n",
       "\n",
       "Residuals:\n",
       "    Min      1Q  Median      3Q     Max \n",
       "-33.487  -8.135   0.541   7.116  35.621 \n",
       "\n",
       "Coefficients:\n",
       "             Estimate Std. Error t value Pr(>|t|)    \n",
       "(Intercept) -39.52197    7.54114  -5.241 3.42e-07 ***\n",
       "height        0.69876    0.04063  17.197  < 2e-16 ***\n",
       "---\n",
       "Signif. codes:  0 ‘***’ 0.001 ‘**’ 0.01 ‘*’ 0.05 ‘.’ 0.1 ‘ ’ 1\n",
       "\n",
       "Residual standard error: 12.51 on 248 degrees of freedom\n",
       "Multiple R-squared:  0.5439,\tAdjusted R-squared:  0.5421 \n",
       "F-statistic: 295.7 on 1 and 248 DF,  p-value: < 2.2e-16\n"
      ]
     },
     "metadata": {},
     "output_type": "display_data"
    },
    {
     "data": {
      "text/html": [
       "<table class=\"dataframe\">\n",
       "<caption>A anova: 2 × 5</caption>\n",
       "<thead>\n",
       "\t<tr><th></th><th scope=col>Df</th><th scope=col>Sum Sq</th><th scope=col>Mean Sq</th><th scope=col>F value</th><th scope=col>Pr(&gt;F)</th></tr>\n",
       "\t<tr><th></th><th scope=col>&lt;int&gt;</th><th scope=col>&lt;dbl&gt;</th><th scope=col>&lt;dbl&gt;</th><th scope=col>&lt;dbl&gt;</th><th scope=col>&lt;dbl&gt;</th></tr>\n",
       "</thead>\n",
       "<tbody>\n",
       "\t<tr><th scope=row>height</th><td>  1</td><td>46302.06</td><td>46302.0633</td><td>295.7402</td><td>3.618647e-44</td></tr>\n",
       "\t<tr><th scope=row>Residuals</th><td>248</td><td>38827.71</td><td>  156.5633</td><td>      NA</td><td>          NA</td></tr>\n",
       "</tbody>\n",
       "</table>\n"
      ],
      "text/latex": [
       "A anova: 2 × 5\n",
       "\\begin{tabular}{r|lllll}\n",
       "  & Df & Sum Sq & Mean Sq & F value & Pr(>F)\\\\\n",
       "  & <int> & <dbl> & <dbl> & <dbl> & <dbl>\\\\\n",
       "\\hline\n",
       "\theight &   1 & 46302.06 & 46302.0633 & 295.7402 & 3.618647e-44\\\\\n",
       "\tResiduals & 248 & 38827.71 &   156.5633 &       NA &           NA\\\\\n",
       "\\end{tabular}\n"
      ],
      "text/markdown": [
       "\n",
       "A anova: 2 × 5\n",
       "\n",
       "| <!--/--> | Df &lt;int&gt; | Sum Sq &lt;dbl&gt; | Mean Sq &lt;dbl&gt; | F value &lt;dbl&gt; | Pr(&gt;F) &lt;dbl&gt; |\n",
       "|---|---|---|---|---|---|\n",
       "| height |   1 | 46302.06 | 46302.0633 | 295.7402 | 3.618647e-44 |\n",
       "| Residuals | 248 | 38827.71 |   156.5633 |       NA |           NA |\n",
       "\n"
      ],
      "text/plain": [
       "          Df  Sum Sq   Mean Sq    F value  Pr(>F)      \n",
       "height      1 46302.06 46302.0633 295.7402 3.618647e-44\n",
       "Residuals 248 38827.71   156.5633       NA           NA"
      ]
     },
     "metadata": {},
     "output_type": "display_data"
    }
   ],
   "source": [
    "model<-lm(weight ~ height)\n",
    "summary(model)\n",
    "anova(model)"
   ]
  },
  {
   "cell_type": "markdown",
   "id": "3ae53dea-1a32-437d-a137-b460ef31b27f",
   "metadata": {},
   "source": [
    "In the `summary(model)` output, we can see at the bottom the results of testing the full model with an F-test. If we want to see the full table of sums of squares statistics, we can use the `anova()` function on our fitted regression model.\n",
    "\n",
    "Comparing this table with the coefficients table, we can see that the p-value from the t-test of the age regression parameter and the F-test for the full model are identical. This is not a coincidence and is always true for the specific case of simple linear regression.\n",
    "\n",
    "### Extracting Variance Explained Statistics\n",
    "\n",
    "Finally, we will look at the $R^{2}$ and $\\overline{R}^{2}$ statistics. We can see from the `summary(model)` output above these are automatically calculated. For the simple linear regression model we have fitted\n",
    "\n",
    "$R^{2}$ = `r summary(model)$r.squared`\n",
    "\n",
    "$\\overline{R}^{2}$ = `r summary(model)$adj.r.squared`"
   ]
  },
  {
   "cell_type": "code",
   "execution_count": null,
   "id": "32050f96-2aef-4cc2-b4e0-6b41ff705862",
   "metadata": {
    "editable": true,
    "slideshow": {
     "slide_type": ""
    },
    "tags": []
   },
   "outputs": [],
   "source": []
  }
 ],
 "metadata": {
  "kernelspec": {
   "display_name": "R",
   "language": "R",
   "name": "ir"
  },
  "language_info": {
   "codemirror_mode": "r",
   "file_extension": ".r",
   "mimetype": "text/x-r-source",
   "name": "R",
   "pygments_lexer": "r",
   "version": "4.3.3"
  }
 },
 "nbformat": 4,
 "nbformat_minor": 5
}
