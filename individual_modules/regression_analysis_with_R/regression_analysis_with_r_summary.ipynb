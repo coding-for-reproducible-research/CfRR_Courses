{
 "cells": [
  {
   "cell_type": "markdown",
   "id": "6e22ae4d-9148-4dce-a11e-b71d0883eb02",
   "metadata": {
    "editable": true,
    "slideshow": {
     "slide_type": ""
    },
    "tags": [
     "remove-input"
    ]
   },
   "source": [
    "# Summary\n",
    "\n",
    "## Quiz\n",
    "You may now wish to try the interactive understanding quiz for this workshop to check your understanding, avaliable here: [Regression Analysis with R Quiz](../../where_is_my_understanding/regression_analysis_with_R.ipynb)\n",
    "\n",
    "## Recap\n",
    "\n",
    "In this session we have covered a number of concepts:\n",
    "\n",
    "* What is regression\n",
    "* What the intercept is\n",
    "\n",
    "\n",
    "We have cover a number of different types of regression analysis:\n",
    "\n",
    "* Simple Linear Regression\n",
    "* Muliple Linear Regression\n",
    "* Logistic Regression\n",
    "\n",
    "We have looked at what hypothesis or significance testing means for a regression model to test\n",
    "\n",
    "* individual regression coefficients on an outcome\n",
    "* the joint effect of multiple predictor variables on an outcome\n",
    "\n",
    "As a consequence we have drawn out the link between regression and \n",
    "\n",
    "* a t-test\n",
    "* ANOVA\n",
    "\n",
    "In summary, regression is a modular framework that can be used to test an endless range of analytical questions.\n"
   ]
  }
 ],
 "metadata": {
  "kernelspec": {
   "display_name": "R",
   "language": "R",
   "name": "ir"
  },
  "language_info": {
   "codemirror_mode": "r",
   "file_extension": ".r",
   "mimetype": "text/x-r-source",
   "name": "R",
   "pygments_lexer": "r",
   "version": "4.3.3"
  }
 },
 "nbformat": 4,
 "nbformat_minor": 5
}
