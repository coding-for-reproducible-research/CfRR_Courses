{
 "cells": [
  {
   "cell_type": "markdown",
   "id": "eb4ee9c6-dd59-4c1f-a9c6-75c378d231ac",
   "metadata": {
    "editable": true,
    "slideshow": {
     "slide_type": ""
    },
    "tags": []
   },
   "source": [
    "# Summary\n",
    "\n",
    "## Download Rmd Version\n",
    "\n",
    "If you wish to engage with this course content via Rmd, then please click the link below to download the Rmd file.\n",
    "\n",
    "[Download Summary.Rmd](rmarkdown/Summary.Rmd)\n",
    "\n",
    "## Review\n",
    "\n",
    "This course has provided an introduction to working with data using packages\n",
    "in the Tidyverse. We looked at\n",
    "\n",
    "- Using `readr` to read csv data with explicit column specifications, and\n",
    "  touched on other packages for reading other kinds of files e.g. Excel\n",
    "  workbooks.\n",
    "- Using `dplyr` to manipulate data (selecting columns, filtering, summarising,\n",
    "  sorting, etc.) and for joining multiple dataframes together.\n",
    "- Using `tidyr` to reshape data e.g. from 'matrix' format to tidy format.\n",
    "- Working with strings and dates using the `stringr` and `lubridate` packages.\n",
    "\n",
    "We also discussed some key philosophical underpinnings of the Tidyverse:\n",
    "\n",
    "- Adopting the convention of putting data into _tidy_ format.\n",
    "- The idea that the functions in Tidyverse packages are designed with very\n",
    "  consistent 'interfaces' e.g. taking in a dataframe and returning a new\n",
    "  dataframe.\n",
    "- The 'functional' style of programming, where we can set up pipelines for\n",
    "  performing successive transformations of data.\n",
    "\n",
    "\n",
    "## Next steps / further resources\n",
    "\n",
    "This course has given you a grounding in using the Tidyverse and you\n",
    "now feel confident using it in your own work. To take your knowledge further,\n",
    "the following extra resources are available:\n",
    "\n",
    "- Cheatsheets for several Tidyverse packages, including the ones we've covered\n",
    "  in this course, are available at <https://posit.co/resources/cheatsheets/>.\n",
    "  These are a great way to quickly look up function(s) that help you perform\n",
    "  some concrete task. Often it's a good idea to look at the cheatsheet to know\n",
    "  what functions(s) you need, then use the help system in R to read the\n",
    "  documentation, or search the web for further advice.\n",
    "\n",
    "- The [R for Data Science book (2nd ed.)](https://r4ds.hadley.nz/) by Hadley\n",
    "  Wickham, Mine Çetinkaya-Rundel and Garrett Grolemund is a freely available,\n",
    "  online book which covers lots of aspects of working with and visualising data\n",
    "  using the Tidyverse in a way that's approachable for non-expert R programmers.\n",
    "\n",
    "- A natural follow up to this course would be to learn about plotting and\n",
    "  visualising data in R with the `ggplot2` package, which is part of the\n",
    "  Tidyverse. The R for Data Science book above is a great resource to start\n",
    "  with for learning how to plot with `ggplot2`.\n"
   ]
  },
  {
   "cell_type": "code",
   "execution_count": null,
   "id": "037c90df-ad07-40ed-8db4-bb571c3b2063",
   "metadata": {
    "editable": true,
    "slideshow": {
     "slide_type": ""
    },
    "tags": []
   },
   "outputs": [],
   "source": []
  }
 ],
 "metadata": {
  "kernelspec": {
   "display_name": "R",
   "language": "R",
   "name": "ir"
  },
  "language_info": {
   "codemirror_mode": "r",
   "file_extension": ".r",
   "mimetype": "text/x-r-source",
   "name": "R",
   "pygments_lexer": "r",
   "version": "4.3.3"
  }
 },
 "nbformat": 4,
 "nbformat_minor": 5
}
