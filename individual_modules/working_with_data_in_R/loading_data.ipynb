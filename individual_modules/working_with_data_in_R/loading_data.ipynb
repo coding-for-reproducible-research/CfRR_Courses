{
 "cells": [
  {
   "cell_type": "markdown",
   "id": "a14d6915-80a1-423f-8a30-a254923a76c5",
   "metadata": {
    "editable": true,
    "slideshow": {
     "slide_type": ""
    },
    "tags": []
   },
   "source": [
    "# Loading Data\n",
    "\n",
    "## Download Rmd Version\n",
    "\n",
    "If you wish to engage with this course content via Rmd, then please click the link below to download the Rmd file.\n",
    "\n",
    "Exercises incomplete:\n",
    "[Download Loading_data.Rmd](rmarkdown/Loading_data.Rmd)\n",
    "Exercises complete:\n",
    "[Download Loading_data_complete.Rmd](rmarkdown/Loading_data_complete.Rmd)\n",
    "\n",
    "## Learning Objectives\n",
    "- Understand the process of loading data into R from various file formats, including CSV and other delimited files\n",
    "- Use the `readr` package to read data from files and understand its advantages over base R functions\n",
    "- Specify and control data parsing options to ensure accurate data import\n",
    "- Handle different data types (e.g. strings, dates, numbers) correctly during data import\n",
    "- Parse data explicitly using column specifications to avoid incorrect assumptions about data types\n",
    "\n",
    "\n",
    "## Introduction\n",
    "\n",
    "The package `readr` provides functions for reading data from 'flat' files,\n",
    "such as csv or other delimited files. The functionality provided by `readr`\n",
    "offers some advantages over the base R functions available for performing the\n",
    "same task.\n",
    "\n",
    "\n",
    "## Loading data from a csv file\n",
    "\n",
    "You may have used the R function `read.csv` to load data from a csv file into\n",
    "a dataframe:"
   ]
  },
  {
   "cell_type": "code",
   "execution_count": 1,
   "id": "730d7436-e117-425c-a30e-337f680397c1",
   "metadata": {
    "editable": true,
    "slideshow": {
     "slide_type": ""
    },
    "tags": []
   },
   "outputs": [
    {
     "name": "stdout",
     "output_type": "stream",
     "text": [
      "   Id       Date  X_variable Y_variable\n",
      "1   1 2024-02-01  1.19678372   7.900464\n",
      "2   2 2024-02-02 -0.75075633  12.690405\n",
      "3   3 2024-02-03 -0.78504927  10.280089\n",
      "4   4 2024-02-04 -0.61854575  10.073199\n",
      "5   5 2024-02-05  0.61882513   9.183893\n",
      "6   6 2024-02-06 -1.29555973   4.830592\n",
      "7   7 2024-02-07 -1.04786101  11.950496\n",
      "8   8 2024-02-08  1.27728217   7.008456\n",
      "9   9 2024-02-09 -0.06582643   3.403482\n",
      "10 10 2024-02-10 -0.07455295  11.637056\n"
     ]
    }
   ],
   "source": [
    "# Read in ./data/timeseries_data.csv\n",
    "timeseries <- read.csv(\"./data/timeseries_data.csv\")\n",
    "print(timeseries)"
   ]
  },
  {
   "cell_type": "markdown",
   "id": "d5907cdb-2bbc-4640-ab51-33687d57b1d7",
   "metadata": {},
   "source": [
    "This is fine in a lot of cases, however, note some assumptions have been made.\n",
    "For example, in the above, the `Id` column is read as an integer and the `Date`\n",
    "column is read in as a string. In fact, the original data file records the Id\n",
    "with padded zeros, like so:\n",
    "\n",
    "```\n",
    "Id,Date,X_variable,Y_variable\n",
    "001,2024-02-01,1.1967837194583961,7.900464364159182\n",
    "002,2024-02-02,-0.7507563344053951,12.690405000912477\n",
    "003,2024-02-03,-0.7850492689583279,10.280088829160382\n",
    "004,2024-02-04,-0.6185457481359723,10.073199260115578\n",
    "005,2024-02-05,0.6188251316696602,9.183892504016947\n",
    "006,2024-02-06,-1.295559729374875,4.830591718912964\n",
    "007,2024-02-07,-1.0478610080617479,11.950495760617637\n",
    "008,2024-02-08,1.2772821688688454,7.008456322119265\n",
    "009,2024-02-09,-0.06582643175389392,3.4034822391265145\n",
    "010,2024-02-10,-0.07455295463910701,11.6370557133845\n",
    "```\n",
    "\n",
    "What we really want is to read the Id as a string and the Date as a date\n",
    "object.\n",
    "\n",
    "The `read_csv` function from the `readr` package is more 'shouty' about\n",
    "assumptions made when parsing the data, and can have better default\n",
    "interpretations. For example:"
   ]
  },
  {
   "cell_type": "code",
   "execution_count": 2,
   "id": "5ce84d05-6c5b-459f-8254-a36056691ced",
   "metadata": {},
   "outputs": [
    {
     "name": "stderr",
     "output_type": "stream",
     "text": [
      "\u001b[1mRows: \u001b[22m\u001b[34m10\u001b[39m \u001b[1mColumns: \u001b[22m\u001b[34m4\u001b[39m\n",
      "\u001b[36m──\u001b[39m \u001b[1mColumn specification\u001b[22m \u001b[36m────────────────────────────────────────────────────────\u001b[39m\n",
      "\u001b[1mDelimiter:\u001b[22m \",\"\n",
      "\u001b[31mchr\u001b[39m  (1): Id\n",
      "\u001b[32mdbl\u001b[39m  (2): X_variable, Y_variable\n",
      "\u001b[34mdate\u001b[39m (1): Date\n",
      "\n",
      "\u001b[36mℹ\u001b[39m Use `spec()` to retrieve the full column specification for this data.\n",
      "\u001b[36mℹ\u001b[39m Specify the column types or set `show_col_types = FALSE` to quiet this message.\n"
     ]
    }
   ],
   "source": [
    "timeseries <- readr::read_csv(\"./data/timeseries_data.csv\")"
   ]
  },
  {
   "cell_type": "markdown",
   "id": "7aa1df5a-9ff0-45bb-99a4-f28e9b3fdc54",
   "metadata": {},
   "source": [
    "Notice how it has explicitly told us that\n",
    "\n",
    "- `Id` is parsed as a string (which is what we wanted!)\n",
    "- `Date` is parsed as a date (more about dates later in the course).\n",
    "- `X_variable` and `Y_variable` are parsed as doubles, as expected.\n",
    "\n",
    "In general, it's good practice to be explicit about how we parse data from\n",
    "files, rather than assuming the defaults will work. For example, we've no way of\n",
    "knowing whether the `readr` package maintainers will decide in the future to\n",
    "interpret padded numbers as in the `Id` column as integers.\n",
    "\n",
    "We can be explicit about how columns are parsed by using the `col_types`\n",
    "optional argument. The general way to do this is to supply a list with names\n",
    "being the column names and values being a _column specifier_,\n",
    "`readr::col_<data-type>()`:"
   ]
  },
  {
   "cell_type": "markdown",
   "id": "51c3e8e4-fe5c-496e-963f-f7c62c210ea5",
   "metadata": {},
   "source": [
    "```R\n",
    "readr::read_csv(\"path/to/data.csv\",\n",
    "                col_types = list(colA = readr::col_logical(),    # column colA is a boolean\n",
    "                                 colB = readr::col_integer(),    # column colB is an integer\n",
    "                                 colC = readr::col_double(),     # column colC is a floating point number\n",
    "                                 colD = readr::col_character(),  # column colD is a string\n",
    "                                 colE = readr::col_date(),       # column colE is a date\n",
    "                                 .default = readr::col_double()  # columns are floating point numbers\n",
    "                                                                 # unless specified otherwise\n",
    "                                 ))\n",
    "```"
   ]
  },
  {
   "cell_type": "markdown",
   "id": "5eaa4696-28c9-4025-8dae-54176bd0ed15",
   "metadata": {},
   "source": [
    "**Note:** For a full list of the available column specifiers, run\n",
    "`vignette(\"readr\")` in the R console.\n",
    "\n",
    "So, to specify that we want to read the `Id` column as a string, the `Date`\n",
    "column as a date, and the remaining columns as floating point numbers:\n"
   ]
  },
  {
   "cell_type": "code",
   "execution_count": 3,
   "id": "2467c2c1-9aa8-4e42-bc2e-b5641a5cbafc",
   "metadata": {},
   "outputs": [
    {
     "name": "stdout",
     "output_type": "stream",
     "text": [
      "\u001b[90m# A tibble: 10 × 4\u001b[39m\n",
      "   Id    Date       X_variable Y_variable\n",
      "   \u001b[3m\u001b[90m<chr>\u001b[39m\u001b[23m \u001b[3m\u001b[90m<date>\u001b[39m\u001b[23m          \u001b[3m\u001b[90m<dbl>\u001b[39m\u001b[23m      \u001b[3m\u001b[90m<dbl>\u001b[39m\u001b[23m\n",
      "\u001b[90m 1\u001b[39m 001   2024-02-01     1.20         7.90\n",
      "\u001b[90m 2\u001b[39m 002   2024-02-02    -\u001b[31m0\u001b[39m\u001b[31m.\u001b[39m\u001b[31m751\u001b[39m       12.7 \n",
      "\u001b[90m 3\u001b[39m 003   2024-02-03    -\u001b[31m0\u001b[39m\u001b[31m.\u001b[39m\u001b[31m785\u001b[39m       10.3 \n",
      "\u001b[90m 4\u001b[39m 004   2024-02-04    -\u001b[31m0\u001b[39m\u001b[31m.\u001b[39m\u001b[31m619\u001b[39m       10.1 \n",
      "\u001b[90m 5\u001b[39m 005   2024-02-05     0.619        9.18\n",
      "\u001b[90m 6\u001b[39m 006   2024-02-06    -\u001b[31m1\u001b[39m\u001b[31m.\u001b[39m\u001b[31m30\u001b[39m         4.83\n",
      "\u001b[90m 7\u001b[39m 007   2024-02-07    -\u001b[31m1\u001b[39m\u001b[31m.\u001b[39m\u001b[31m0\u001b[39m\u001b[31m5\u001b[39m        12.0 \n",
      "\u001b[90m 8\u001b[39m 008   2024-02-08     1.28         7.01\n",
      "\u001b[90m 9\u001b[39m 009   2024-02-09    -\u001b[31m0\u001b[39m\u001b[31m.\u001b[39m\u001b[31m0\u001b[39m\u001b[31m65\u001b[4m8\u001b[24m\u001b[39m       3.40\n",
      "\u001b[90m10\u001b[39m 010   2024-02-10    -\u001b[31m0\u001b[39m\u001b[31m.\u001b[39m\u001b[31m0\u001b[39m\u001b[31m74\u001b[4m6\u001b[24m\u001b[39m      11.6 \n"
     ]
    }
   ],
   "source": [
    "timeseries <- readr::read_csv(\"./data/timeseries_data.csv\",\n",
    "                              col_types = list(Id = readr::col_character(),\n",
    "                                               Date = readr::col_date(),\n",
    "                                               .default = readr::col_double()))\n",
    "print(timeseries)"
   ]
  },
  {
   "cell_type": "markdown",
   "id": "c53585b2-0334-4299-b1ac-5b3abba5b68f",
   "metadata": {},
   "source": [
    "Notice how the informational message about parsing has gone away, because we\n",
    "explicitly gave the types.\n",
    "\n",
    "### Exercise: parsing data from files\n",
    "\n",
    "Change the above so that the `Id` column is parsed as an integer and the\n",
    "`Date` column is parsed as a string.\n"
   ]
  },
  {
   "cell_type": "markdown",
   "id": "dba3c25d-0a29-426f-b301-3bf32f0f5cbd",
   "metadata": {
    "editable": true,
    "slideshow": {
     "slide_type": ""
    },
    "tags": []
   },
   "source": [
    "\n",
    "\n",
    "\n",
    "```{admonition} Solution\n",
    ":class: dropdown\n",
    "``` R\n",
    "timeseries <- readr::read_csv(\"./data/timeseries_data.csv\",col_types = list(Id = readr::col_integer(),Date = readr::col_character(),.default = readr::col_double()))\n",
    "print(timeseries)\n",
    "```\n",
    "\n"
   ]
  },
  {
   "cell_type": "markdown",
   "id": "fe1b8fc7-929a-45ac-a032-75ae2db12572",
   "metadata": {
    "editable": true,
    "slideshow": {
     "slide_type": ""
    },
    "tags": []
   },
   "source": [
    "## Other file formats\n",
    "\n",
    "There are related packages in the Tidyverse ecosystem that provide support for\n",
    "reading data from file types other than csv:\n",
    "\n",
    "- `readxl`: package for reading data from Excel workbooks.\n",
    "- `googlesheets4`: package for reading data from Google Sheets spreadsheets.\n",
    "\n",
    "We also mention here the `ncdf4` package for reading NetCDF files (not part of\n",
    "the Tidyverse).\n",
    "\n",
    "## Summary Quiz"
   ]
  },
  {
   "cell_type": "code",
   "execution_count": 4,
   "id": "b63a7078-19b4-4f8a-913b-2a4b698c7ef1",
   "metadata": {
    "editable": true,
    "slideshow": {
     "slide_type": ""
    },
    "tags": [
     "remove-input"
    ]
   },
   "outputs": [
    {
     "data": {
      "text/html": [
       "\n",
       "  <style>\n",
       "  .quiz-question {\n",
       "      background-color: #6c63ff;\n",
       "      color: white;\n",
       "      padding: 12px;\n",
       "      border-radius: 10px;\n",
       "      font-weight: bold;\n",
       "      font-size: 1.2em;\n",
       "      margin-bottom: 10px;\n",
       "  }\n",
       "\n",
       "  .quiz-form {\n",
       "      margin-bottom: 20px;\n",
       "  }\n",
       "\n",
       "  .quiz-answer {\n",
       "      display: block;\n",
       "      background-color: #f2f2f2;\n",
       "      border: none;\n",
       "      border-radius: 10px;\n",
       "      padding: 10px;\n",
       "      margin: 5px 0;\n",
       "      font-size: 1em;\n",
       "      cursor: pointer;\n",
       "      text-align: left;\n",
       "      transition: background-color 0.3s;\n",
       "      width: 100%;\n",
       "  }\n",
       "\n",
       "  .quiz-answer:hover {\n",
       "      background-color: #e0e0e0;\n",
       "  }\n",
       "\n",
       "  .correct {\n",
       "      background-color: #4CAF50 !important;\n",
       "      color: white !important;\n",
       "      border: none;\n",
       "  }\n",
       "\n",
       "  .incorrect {\n",
       "      background-color: #D32F2F !important;\n",
       "      color: white !important;\n",
       "      border: none;\n",
       "  }\n",
       "\n",
       "  .feedback {\n",
       "      margin-top: 10px;\n",
       "      font-weight: bold;\n",
       "      font-size: 1em;\n",
       "  }\n",
       "  </style>\n",
       "\n",
       "  <script>\n",
       "  function handleAnswer(qid, aid, feedback, isCorrect) {\n",
       "      let buttons = document.querySelectorAll(\".\" + qid);\n",
       "      buttons.forEach(btn => {\n",
       "          btn.classList.remove(\"correct\", \"incorrect\");\n",
       "      });\n",
       "\n",
       "      let selected = document.getElementById(aid);\n",
       "      if (selected) {\n",
       "        selected.classList.add(isCorrect ? \"correct\" : \"incorrect\");\n",
       "      }\n",
       "\n",
       "      let feedbackBox = document.getElementById(\"feedback_\" + qid);\n",
       "      if (feedbackBox) {\n",
       "        feedbackBox.innerHTML = feedback;\n",
       "        feedbackBox.style.color = isCorrect ? \"green\" : \"red\";\n",
       "      }\n",
       "  }\n",
       "  </script>\n",
       "  <div class=\"quiz-question\">Which function is used to read CSV files into R using the `readr` package?</div><form class=\"quiz-form\"><button type=\"button\" class=\"quiz-answer quiz_q1\" id=\"quiz_q1_a1\"\n",
       "         onclick=\"handleAnswer('quiz_q1', 'quiz_q1_a1', 'Incorrect', false)\">\n",
       "         read.table()</button><button type=\"button\" class=\"quiz-answer quiz_q1\" id=\"quiz_q1_a2\"\n",
       "         onclick=\"handleAnswer('quiz_q1', 'quiz_q1_a2', 'Incorrect', false)\">\n",
       "         read.csv()</button><button type=\"button\" class=\"quiz-answer quiz_q1\" id=\"quiz_q1_a3\"\n",
       "         onclick=\"handleAnswer('quiz_q1', 'quiz_q1_a3', 'Correct', true)\">\n",
       "         read_csv()</button><button type=\"button\" class=\"quiz-answer quiz_q1\" id=\"quiz_q1_a4\"\n",
       "         onclick=\"handleAnswer('quiz_q1', 'quiz_q1_a4', 'Incorrect', false)\">\n",
       "         readLines()</button><div class=\"feedback\" id=\"feedback_quiz_q1\"></div>\n",
       "       <button type=\"submit\" style=\"position:absolute; left:-9999px; width:1px; height:1px; overflow:hidden;\">\n",
       "         Submit\n",
       "       </button>\n",
       "       </form><hr><div class=\"quiz-question\">What is the advantage of using the `readr` package over base R functions for reading data?</div><form class=\"quiz-form\"><button type=\"button\" class=\"quiz-answer quiz_q2\" id=\"quiz_q2_a1\"\n",
       "         onclick=\"handleAnswer('quiz_q2', 'quiz_q2_a1', 'Incorrect', false)\">\n",
       "         It is slower but more reliable</button><button type=\"button\" class=\"quiz-answer quiz_q2\" id=\"quiz_q2_a2\"\n",
       "         onclick=\"handleAnswer('quiz_q2', 'quiz_q2_a2', 'Correct', true)\">\n",
       "         It provides better default interpretations and is more explicit about assumptions</button><button type=\"button\" class=\"quiz-answer quiz_q2\" id=\"quiz_q2_a3\"\n",
       "         onclick=\"handleAnswer('quiz_q2', 'quiz_q2_a3', 'Incorrect', false)\">\n",
       "         It does not require users to specify data types</button><button type=\"button\" class=\"quiz-answer quiz_q2\" id=\"quiz_q2_a4\"\n",
       "         onclick=\"handleAnswer('quiz_q2', 'quiz_q2_a4', 'Incorrect', false)\">\n",
       "         It automatically corrects data errors</button><div class=\"feedback\" id=\"feedback_quiz_q2\"></div>\n",
       "       <button type=\"submit\" style=\"position:absolute; left:-9999px; width:1px; height:1px; overflow:hidden;\">\n",
       "         Submit\n",
       "       </button>\n",
       "       </form><hr><div class=\"quiz-question\">Which argument in the `read_csv` function is used to specify the data types of column explicitly?</div><form class=\"quiz-form\"><button type=\"button\" class=\"quiz-answer quiz_q3\" id=\"quiz_q3_a1\"\n",
       "         onclick=\"handleAnswer('quiz_q3', 'quiz_q3_a1', 'Incorrect', false)\">\n",
       "         col_classes</button><button type=\"button\" class=\"quiz-answer quiz_q3\" id=\"quiz_q3_a2\"\n",
       "         onclick=\"handleAnswer('quiz_q3', 'quiz_q3_a2', 'Correct', true)\">\n",
       "         col_types</button><button type=\"button\" class=\"quiz-answer quiz_q3\" id=\"quiz_q3_a3\"\n",
       "         onclick=\"handleAnswer('quiz_q3', 'quiz_q3_a3', 'Incorrect', false)\">\n",
       "         column_types</button><button type=\"button\" class=\"quiz-answer quiz_q3\" id=\"quiz_q3_a4\"\n",
       "         onclick=\"handleAnswer('quiz_q3', 'quiz_q3_a4', 'Incorrect', false)\">\n",
       "         types</button><div class=\"feedback\" id=\"feedback_quiz_q3\"></div>\n",
       "       <button type=\"submit\" style=\"position:absolute; left:-9999px; width:1px; height:1px; overflow:hidden;\">\n",
       "         Submit\n",
       "       </button>\n",
       "       </form><hr>"
      ]
     },
     "metadata": {},
     "output_type": "display_data"
    }
   ],
   "source": [
    "# Call the function to display quiz interactively:\n",
    "source(\"../../R_functions/quiz_renderer.R\")\n",
    "show_quiz_from_json(\"questions/summary_loading_data.json\")"
   ]
  },
  {
   "cell_type": "code",
   "execution_count": null,
   "id": "8c244c85-c33c-4ed3-b26a-b7c0b8fb9f50",
   "metadata": {
    "editable": true,
    "slideshow": {
     "slide_type": ""
    },
    "tags": []
   },
   "outputs": [],
   "source": []
  }
 ],
 "metadata": {
  "kernelspec": {
   "display_name": "R",
   "language": "R",
   "name": "ir"
  },
  "language_info": {
   "codemirror_mode": "r",
   "file_extension": ".r",
   "mimetype": "text/x-r-source",
   "name": "R",
   "pygments_lexer": "r",
   "version": "4.3.3"
  }
 },
 "nbformat": 4,
 "nbformat_minor": 5
}
