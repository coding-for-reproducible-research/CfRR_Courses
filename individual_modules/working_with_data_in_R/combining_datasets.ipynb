{
 "cells": [
  {
   "cell_type": "markdown",
   "id": "8db8243f-97d5-433c-8d30-93e3703cf580",
   "metadata": {
    "editable": true,
    "slideshow": {
     "slide_type": ""
    },
    "tags": []
   },
   "source": [
    "# Combining Datasets\n",
    "\n",
    "## Download Rmd Version\n",
    "\n",
    "If you wish to engage with this course content via Rmd, then please click the link below to download the Rmd file.\n",
    "\n",
    "Exercises incomplete:\n",
    "[Download Combining_datasets.Rmd](rmarkdown/Combining_datasets.Rmd)\n",
    "Exercises complete:\n",
    "[Download Combining_datasets_complete.Rmd](rmarkdown/Combining_datasets_complete.Rmd)\n",
    "\n",
    "## Learning Objectives\n",
    "- Understand the purpose and methods of joining dataset in R using the `dplyr` package\n",
    "- Perform left joins to combine datasets based on common columns\n",
    "- Handle and resolve issues that arise from repeated keys during joins\n",
    "- Recognize and avoid pitfalls related to joining on columns with double data types\n",
    "\n",
    "## Joining datasets\n",
    "\n",
    "In your data wrangling journey, you will often find yourself wanting to combine\n",
    "one dataframe with some kind of supplementary or partner dataframe. In our\n",
    "case, we have the penguins and weather data stored separately, but if we ever\n",
    "wanted to explore any relationships between them, we'd ideally want them in a\n",
    "single dataframe. This requires lining up the observations and variables\n",
    "in the datasets appropriately, something which is accomplished by performing\n",
    "appropriate **joins**.  \n",
    "  \n",
    "The key to joining is to identify the variables by which you want to join the\n",
    "data. That is, we want to ask the question: which columns in each data are the\n",
    "ones that link them together? In some cases these may be one-to-one matches\n",
    "(e.g. ID numbers to IDs numbers), or in other cases there is data at different\n",
    "levels that need to be lined up.\n",
    "\n",
    "\n",
    "### Left joins\n",
    "\n",
    "There are several kinds of join function in `dplyr`, but we'll just focus on\n",
    "`left_join` and leave you to explore the others for yourself.\n",
    "\n",
    "Like all the join functions, `left_join` takes three arguments: the two dataframes\n",
    "you'd like to join, and the name of the column (or columns) by which to join.\n",
    "\n",
    "```R\n",
    "dplyr::left_join(data_left, data_right, by = <cols_to_join_on>)\n",
    "```\n",
    "\n",
    "The way `left_join` works is to match up the columns given in the `by` column\n",
    "and create a new dataframe by pasting new columns from `data_right` alongside\n",
    "the columns from `data_left`. As many rows from `data_right` are brought in as\n",
    "possible. The 'left' in `left_join` indicates that we're keeping everything from\n",
    "the 'left' dataframe (i.e. the first one) and joining the other dataframe *onto*\n",
    "the 'left' one.\n",
    "\n",
    "It's helpful to use small, toy dataframes to explore how joins work (or remind\n",
    "yourself after a period of time away)."
   ]
  },
  {
   "cell_type": "code",
   "execution_count": 1,
   "id": "fc25cc0d-5194-4893-ad28-4a9798642175",
   "metadata": {
    "editable": true,
    "slideshow": {
     "slide_type": ""
    },
    "tags": []
   },
   "outputs": [],
   "source": [
    "df1 <- data.frame(colA = c(1, 2, 3, 4),\n",
    "                  colB = c(2021, 2022, 2023, 2024),\n",
    "                  colC = c('a', 'b', 'c', 'd'))\n",
    "\n",
    "df2 <- data.frame(colA = c(1, 3),\n",
    "                  colD = c('foo', 'bar'),\n",
    "                  colE = c('dog', 'cat'))"
   ]
  },
  {
   "cell_type": "code",
   "execution_count": 2,
   "id": "e74a2dad-8487-4ff4-8035-c529bd0d819f",
   "metadata": {
    "editable": true,
    "slideshow": {
     "slide_type": ""
    },
    "tags": []
   },
   "outputs": [
    {
     "data": {
      "text/html": [
       "<table class=\"dataframe\">\n",
       "<caption>A data.frame: 4 × 3</caption>\n",
       "<thead>\n",
       "\t<tr><th scope=col>colA</th><th scope=col>colB</th><th scope=col>colC</th></tr>\n",
       "\t<tr><th scope=col>&lt;dbl&gt;</th><th scope=col>&lt;dbl&gt;</th><th scope=col>&lt;chr&gt;</th></tr>\n",
       "</thead>\n",
       "<tbody>\n",
       "\t<tr><td>1</td><td>2021</td><td>a</td></tr>\n",
       "\t<tr><td>2</td><td>2022</td><td>b</td></tr>\n",
       "\t<tr><td>3</td><td>2023</td><td>c</td></tr>\n",
       "\t<tr><td>4</td><td>2024</td><td>d</td></tr>\n",
       "</tbody>\n",
       "</table>\n"
      ],
      "text/latex": [
       "A data.frame: 4 × 3\n",
       "\\begin{tabular}{lll}\n",
       " colA & colB & colC\\\\\n",
       " <dbl> & <dbl> & <chr>\\\\\n",
       "\\hline\n",
       "\t 1 & 2021 & a\\\\\n",
       "\t 2 & 2022 & b\\\\\n",
       "\t 3 & 2023 & c\\\\\n",
       "\t 4 & 2024 & d\\\\\n",
       "\\end{tabular}\n"
      ],
      "text/markdown": [
       "\n",
       "A data.frame: 4 × 3\n",
       "\n",
       "| colA &lt;dbl&gt; | colB &lt;dbl&gt; | colC &lt;chr&gt; |\n",
       "|---|---|---|\n",
       "| 1 | 2021 | a |\n",
       "| 2 | 2022 | b |\n",
       "| 3 | 2023 | c |\n",
       "| 4 | 2024 | d |\n",
       "\n"
      ],
      "text/plain": [
       "  colA colB colC\n",
       "1 1    2021 a   \n",
       "2 2    2022 b   \n",
       "3 3    2023 c   \n",
       "4 4    2024 d   "
      ]
     },
     "metadata": {},
     "output_type": "display_data"
    }
   ],
   "source": [
    "df1"
   ]
  },
  {
   "cell_type": "code",
   "execution_count": 3,
   "id": "601de4a4-5342-4443-a94a-9496b1283917",
   "metadata": {
    "editable": true,
    "slideshow": {
     "slide_type": ""
    },
    "tags": []
   },
   "outputs": [
    {
     "data": {
      "text/html": [
       "<table class=\"dataframe\">\n",
       "<caption>A data.frame: 2 × 3</caption>\n",
       "<thead>\n",
       "\t<tr><th scope=col>colA</th><th scope=col>colD</th><th scope=col>colE</th></tr>\n",
       "\t<tr><th scope=col>&lt;dbl&gt;</th><th scope=col>&lt;chr&gt;</th><th scope=col>&lt;chr&gt;</th></tr>\n",
       "</thead>\n",
       "<tbody>\n",
       "\t<tr><td>1</td><td>foo</td><td>dog</td></tr>\n",
       "\t<tr><td>3</td><td>bar</td><td>cat</td></tr>\n",
       "</tbody>\n",
       "</table>\n"
      ],
      "text/latex": [
       "A data.frame: 2 × 3\n",
       "\\begin{tabular}{lll}\n",
       " colA & colD & colE\\\\\n",
       " <dbl> & <chr> & <chr>\\\\\n",
       "\\hline\n",
       "\t 1 & foo & dog\\\\\n",
       "\t 3 & bar & cat\\\\\n",
       "\\end{tabular}\n"
      ],
      "text/markdown": [
       "\n",
       "A data.frame: 2 × 3\n",
       "\n",
       "| colA &lt;dbl&gt; | colD &lt;chr&gt; | colE &lt;chr&gt; |\n",
       "|---|---|---|\n",
       "| 1 | foo | dog |\n",
       "| 3 | bar | cat |\n",
       "\n"
      ],
      "text/plain": [
       "  colA colD colE\n",
       "1 1    foo  dog \n",
       "2 3    bar  cat "
      ]
     },
     "metadata": {},
     "output_type": "display_data"
    }
   ],
   "source": [
    "df2"
   ]
  },
  {
   "cell_type": "markdown",
   "id": "39426dbb-ce2e-4add-a369-d4bc2dc357d3",
   "metadata": {
    "editable": true,
    "slideshow": {
     "slide_type": ""
    },
    "tags": []
   },
   "source": [
    "Now let's join `df2` onto `df1` by the column `colA`:"
   ]
  },
  {
   "cell_type": "code",
   "execution_count": 4,
   "id": "6cbeeacd-8ab6-4054-97cb-e78960055176",
   "metadata": {
    "editable": true,
    "slideshow": {
     "slide_type": ""
    },
    "tags": []
   },
   "outputs": [
    {
     "data": {
      "text/html": [
       "<table class=\"dataframe\">\n",
       "<caption>A data.frame: 4 × 5</caption>\n",
       "<thead>\n",
       "\t<tr><th scope=col>colA</th><th scope=col>colB</th><th scope=col>colC</th><th scope=col>colD</th><th scope=col>colE</th></tr>\n",
       "\t<tr><th scope=col>&lt;dbl&gt;</th><th scope=col>&lt;dbl&gt;</th><th scope=col>&lt;chr&gt;</th><th scope=col>&lt;chr&gt;</th><th scope=col>&lt;chr&gt;</th></tr>\n",
       "</thead>\n",
       "<tbody>\n",
       "\t<tr><td>1</td><td>2021</td><td>a</td><td>foo</td><td>dog</td></tr>\n",
       "\t<tr><td>2</td><td>2022</td><td>b</td><td>NA </td><td>NA </td></tr>\n",
       "\t<tr><td>3</td><td>2023</td><td>c</td><td>bar</td><td>cat</td></tr>\n",
       "\t<tr><td>4</td><td>2024</td><td>d</td><td>NA </td><td>NA </td></tr>\n",
       "</tbody>\n",
       "</table>\n"
      ],
      "text/latex": [
       "A data.frame: 4 × 5\n",
       "\\begin{tabular}{lllll}\n",
       " colA & colB & colC & colD & colE\\\\\n",
       " <dbl> & <dbl> & <chr> & <chr> & <chr>\\\\\n",
       "\\hline\n",
       "\t 1 & 2021 & a & foo & dog\\\\\n",
       "\t 2 & 2022 & b & NA  & NA \\\\\n",
       "\t 3 & 2023 & c & bar & cat\\\\\n",
       "\t 4 & 2024 & d & NA  & NA \\\\\n",
       "\\end{tabular}\n"
      ],
      "text/markdown": [
       "\n",
       "A data.frame: 4 × 5\n",
       "\n",
       "| colA &lt;dbl&gt; | colB &lt;dbl&gt; | colC &lt;chr&gt; | colD &lt;chr&gt; | colE &lt;chr&gt; |\n",
       "|---|---|---|---|---|\n",
       "| 1 | 2021 | a | foo | dog |\n",
       "| 2 | 2022 | b | NA  | NA  |\n",
       "| 3 | 2023 | c | bar | cat |\n",
       "| 4 | 2024 | d | NA  | NA  |\n",
       "\n"
      ],
      "text/plain": [
       "  colA colB colC colD colE\n",
       "1 1    2021 a    foo  dog \n",
       "2 2    2022 b    NA   NA  \n",
       "3 3    2023 c    bar  cat \n",
       "4 4    2024 d    NA   NA  "
      ]
     },
     "metadata": {},
     "output_type": "display_data"
    }
   ],
   "source": [
    "df1 |>\n",
    "  dplyr::left_join(df2, by = \"colA\")"
   ]
  },
  {
   "cell_type": "markdown",
   "id": "66b762c0-a1b1-45aa-801c-cc48612f3695",
   "metadata": {
    "editable": true,
    "slideshow": {
     "slide_type": ""
    },
    "tags": []
   },
   "source": [
    "Notice:\n",
    "- All the data from the left-hand dataframe, `df1`, is kept (columns `colA` -- `colC`).\n",
    "- The data from the right-hand dataframe `df2` has been brought over\n",
    "  for the rows where the 'by' column `colA` has matching values in the\n",
    "  left-hand dataframe `df1`.\n",
    "  \n",
    "- The rows where there aren't matching values in the 'by' column `colA` have\n",
    "  missing values for the other right-hand dataframe columns (`colD` and `colE`\n",
    "  in this case).\n",
    "\n",
    "\n",
    "### Exercise: left join practice\n",
    "\n",
    "Suppose now the right hand dataframe is as follows:\n"
   ]
  },
  {
   "cell_type": "code",
   "execution_count": 5,
   "id": "51933e3a-41a4-437f-b1e9-8e6b36b684ac",
   "metadata": {
    "editable": true,
    "slideshow": {
     "slide_type": ""
    },
    "tags": []
   },
   "outputs": [],
   "source": [
    "df2 <- data.frame(colA = c(1, 3, 2, 4, 5),\n",
    "                  colD = c('foo', 'bar', 'baz', 'qux', 'foo'),\n",
    "                  colE = c('dog', 'cat', 'mouse', 'rabbit', 'horse'))"
   ]
  },
  {
   "cell_type": "markdown",
   "id": "9c47f1c7-e137-4498-8153-d016310c6ad6",
   "metadata": {
    "editable": true,
    "slideshow": {
     "slide_type": ""
    },
    "tags": []
   },
   "source": [
    "Can you guess what the output of `dplyr::left_join(df1, df2, by = \"colA\")` will\n",
    "be? Check your guess with code below.\n",
    "\n",
    "```{admonition} Solution\n",
    ":class: dropdown\n",
    "```R\n",
    "df1 |>\n",
    "  dplyr::left_join(df2, by = \"colA\")\n",
    "```\n",
    "```\n",
    "\n",
    "Now what if you swap the order of `df1` and `df2`? Guess the output of\n",
    "`dplyr::left_join(df2, df1, by = \"colA\")` and check your answer below."
   ]
  },
  {
   "cell_type": "code",
   "execution_count": 6,
   "id": "8b6e551d-82e7-4d24-84da-b414c090cb5d",
   "metadata": {
    "editable": true,
    "slideshow": {
     "slide_type": ""
    },
    "tags": []
   },
   "outputs": [
    {
     "data": {
      "text/html": [
       "<table class=\"dataframe\">\n",
       "<caption>A data.frame: 5 × 5</caption>\n",
       "<thead>\n",
       "\t<tr><th scope=col>colA</th><th scope=col>colD</th><th scope=col>colE</th><th scope=col>colB</th><th scope=col>colC</th></tr>\n",
       "\t<tr><th scope=col>&lt;dbl&gt;</th><th scope=col>&lt;chr&gt;</th><th scope=col>&lt;chr&gt;</th><th scope=col>&lt;dbl&gt;</th><th scope=col>&lt;chr&gt;</th></tr>\n",
       "</thead>\n",
       "<tbody>\n",
       "\t<tr><td>1</td><td>foo</td><td>dog   </td><td>2021</td><td>a </td></tr>\n",
       "\t<tr><td>3</td><td>bar</td><td>cat   </td><td>2023</td><td>c </td></tr>\n",
       "\t<tr><td>2</td><td>baz</td><td>mouse </td><td>2022</td><td>b </td></tr>\n",
       "\t<tr><td>4</td><td>qux</td><td>rabbit</td><td>2024</td><td>d </td></tr>\n",
       "\t<tr><td>5</td><td>foo</td><td>horse </td><td>  NA</td><td>NA</td></tr>\n",
       "</tbody>\n",
       "</table>\n"
      ],
      "text/latex": [
       "A data.frame: 5 × 5\n",
       "\\begin{tabular}{lllll}\n",
       " colA & colD & colE & colB & colC\\\\\n",
       " <dbl> & <chr> & <chr> & <dbl> & <chr>\\\\\n",
       "\\hline\n",
       "\t 1 & foo & dog    & 2021 & a \\\\\n",
       "\t 3 & bar & cat    & 2023 & c \\\\\n",
       "\t 2 & baz & mouse  & 2022 & b \\\\\n",
       "\t 4 & qux & rabbit & 2024 & d \\\\\n",
       "\t 5 & foo & horse  &   NA & NA\\\\\n",
       "\\end{tabular}\n"
      ],
      "text/markdown": [
       "\n",
       "A data.frame: 5 × 5\n",
       "\n",
       "| colA &lt;dbl&gt; | colD &lt;chr&gt; | colE &lt;chr&gt; | colB &lt;dbl&gt; | colC &lt;chr&gt; |\n",
       "|---|---|---|---|---|\n",
       "| 1 | foo | dog    | 2021 | a  |\n",
       "| 3 | bar | cat    | 2023 | c  |\n",
       "| 2 | baz | mouse  | 2022 | b  |\n",
       "| 4 | qux | rabbit | 2024 | d  |\n",
       "| 5 | foo | horse  |   NA | NA |\n",
       "\n"
      ],
      "text/plain": [
       "  colA colD colE   colB colC\n",
       "1 1    foo  dog    2021 a   \n",
       "2 3    bar  cat    2023 c   \n",
       "3 2    baz  mouse  2022 b   \n",
       "4 4    qux  rabbit 2024 d   \n",
       "5 5    foo  horse    NA NA  "
      ]
     },
     "metadata": {},
     "output_type": "display_data"
    }
   ],
   "source": [
    "df2 |>\n",
    "  dplyr::left_join(df1, by = \"colA\")"
   ]
  },
  {
   "cell_type": "markdown",
   "id": "bc228487-a705-4d0a-812d-39f54b99ae36",
   "metadata": {
    "editable": true,
    "slideshow": {
     "slide_type": ""
    },
    "tags": []
   },
   "source": [
    "### Optional exercise: repeated keys\n",
    "\n",
    "The values in the 'by' column(s) are sometimes called _keys_ for the join. The\n",
    "rules we described in the above example are not the whole story and can be\n",
    "complicated by the presence of repeated keys.\n",
    "\n",
    "What do you think happens if there are repeated keys? For example, try to\n",
    "guess the output of the following code:"
   ]
  },
  {
   "cell_type": "code",
   "execution_count": 7,
   "id": "dbacf196-b25d-44da-92da-aa6dba28ad9b",
   "metadata": {
    "editable": true,
    "slideshow": {
     "slide_type": ""
    },
    "tags": []
   },
   "outputs": [],
   "source": [
    "df1 <- data.frame(colA = c(1, 2, 3, 3),  # repeated key 3\n",
    "                  colB = c(2021, 2022, 2023, 2024),\n",
    "                  colC = c('a', 'b', 'c', 'd'))\n",
    "\n",
    "df2 <- data.frame(colA = c(1, 3),\n",
    "                  colD = c('foo', 'bar'),\n",
    "                  colE = c('dog', 'cat'))"
   ]
  },
  {
   "cell_type": "markdown",
   "id": "67335b6a-8338-433b-8a88-ad70d7a51f1d",
   "metadata": {
    "editable": true,
    "slideshow": {
     "slide_type": ""
    },
    "tags": []
   },
   "source": []
  },
  {
   "cell_type": "markdown",
   "id": "e64d7491-90be-4bfa-be6b-bb3ceca1581c",
   "metadata": {
    "editable": true,
    "slideshow": {
     "slide_type": ""
    },
    "tags": []
   },
   "source": [
    "```{admonition} Solution\n",
    ":class: dropdown\n",
    "```R\n",
    "df1 |>\n",
    "  dplyr::left_join(df2, by = \"colA\")\n",
    "```\n",
    "```\n",
    "\n",
    "Now what if we swap the roles of `df1` and `df2`?"
   ]
  },
  {
   "cell_type": "code",
   "execution_count": 8,
   "id": "b196eaa9-424f-4c70-bb1e-77d4d8a17c97",
   "metadata": {
    "editable": true,
    "slideshow": {
     "slide_type": ""
    },
    "tags": []
   },
   "outputs": [
    {
     "data": {
      "text/html": [
       "<table class=\"dataframe\">\n",
       "<caption>A data.frame: 3 × 5</caption>\n",
       "<thead>\n",
       "\t<tr><th scope=col>colA</th><th scope=col>colD</th><th scope=col>colE</th><th scope=col>colB</th><th scope=col>colC</th></tr>\n",
       "\t<tr><th scope=col>&lt;dbl&gt;</th><th scope=col>&lt;chr&gt;</th><th scope=col>&lt;chr&gt;</th><th scope=col>&lt;dbl&gt;</th><th scope=col>&lt;chr&gt;</th></tr>\n",
       "</thead>\n",
       "<tbody>\n",
       "\t<tr><td>1</td><td>foo</td><td>dog</td><td>2021</td><td>a</td></tr>\n",
       "\t<tr><td>3</td><td>bar</td><td>cat</td><td>2023</td><td>c</td></tr>\n",
       "\t<tr><td>3</td><td>bar</td><td>cat</td><td>2024</td><td>d</td></tr>\n",
       "</tbody>\n",
       "</table>\n"
      ],
      "text/latex": [
       "A data.frame: 3 × 5\n",
       "\\begin{tabular}{lllll}\n",
       " colA & colD & colE & colB & colC\\\\\n",
       " <dbl> & <chr> & <chr> & <dbl> & <chr>\\\\\n",
       "\\hline\n",
       "\t 1 & foo & dog & 2021 & a\\\\\n",
       "\t 3 & bar & cat & 2023 & c\\\\\n",
       "\t 3 & bar & cat & 2024 & d\\\\\n",
       "\\end{tabular}\n"
      ],
      "text/markdown": [
       "\n",
       "A data.frame: 3 × 5\n",
       "\n",
       "| colA &lt;dbl&gt; | colD &lt;chr&gt; | colE &lt;chr&gt; | colB &lt;dbl&gt; | colC &lt;chr&gt; |\n",
       "|---|---|---|---|---|\n",
       "| 1 | foo | dog | 2021 | a |\n",
       "| 3 | bar | cat | 2023 | c |\n",
       "| 3 | bar | cat | 2024 | d |\n",
       "\n"
      ],
      "text/plain": [
       "  colA colD colE colB colC\n",
       "1 1    foo  dog  2021 a   \n",
       "2 3    bar  cat  2023 c   \n",
       "3 3    bar  cat  2024 d   "
      ]
     },
     "metadata": {},
     "output_type": "display_data"
    }
   ],
   "source": [
    "df2 |>\n",
    "  dplyr::left_join(df1, by = \"colA\")"
   ]
  },
  {
   "cell_type": "markdown",
   "id": "7a739b05-dc38-4e9f-a593-c5658b916f96",
   "metadata": {
    "editable": true,
    "slideshow": {
     "slide_type": ""
    },
    "tags": []
   },
   "source": [
    "#### Warning about doubles\n",
    "\n",
    "It's generally not a good idea to join on a 'by' column (or columns)\n",
    "that are of type double. This is because matching in the join will be done\n",
    "by an exact equality test on the doubles, which can create strange\n",
    "results due to numerical imprecision and be difficult to reproduce. Example: in\n",
    "the following, two doubles that look distinct are considered equal to\n",
    "`1 / 3 = 0.333...`, so 'match' on the `1 / 3` entry in data frame `x`."
   ]
  },
  {
   "cell_type": "code",
   "execution_count": 9,
   "id": "49848de5-6941-4f85-824b-40e09500b956",
   "metadata": {
    "editable": true,
    "slideshow": {
     "slide_type": ""
    },
    "tags": []
   },
   "outputs": [
    {
     "data": {
      "text/html": [
       "<table class=\"dataframe\">\n",
       "<caption>A data.frame: 2 × 3</caption>\n",
       "<thead>\n",
       "\t<tr><th scope=col>colA</th><th scope=col>colB.x</th><th scope=col>colB.y</th></tr>\n",
       "\t<tr><th scope=col>&lt;dbl&gt;</th><th scope=col>&lt;dbl&gt;</th><th scope=col>&lt;chr&gt;</th></tr>\n",
       "</thead>\n",
       "<tbody>\n",
       "\t<tr><td>0.3333333</td><td>1000</td><td>bar</td></tr>\n",
       "\t<tr><td>0.6666667</td><td>2000</td><td>NA </td></tr>\n",
       "</tbody>\n",
       "</table>\n"
      ],
      "text/latex": [
       "A data.frame: 2 × 3\n",
       "\\begin{tabular}{lll}\n",
       " colA & colB.x & colB.y\\\\\n",
       " <dbl> & <dbl> & <chr>\\\\\n",
       "\\hline\n",
       "\t 0.3333333 & 1000 & bar\\\\\n",
       "\t 0.6666667 & 2000 & NA \\\\\n",
       "\\end{tabular}\n"
      ],
      "text/markdown": [
       "\n",
       "A data.frame: 2 × 3\n",
       "\n",
       "| colA &lt;dbl&gt; | colB.x &lt;dbl&gt; | colB.y &lt;chr&gt; |\n",
       "|---|---|---|\n",
       "| 0.3333333 | 1000 | bar |\n",
       "| 0.6666667 | 2000 | NA  |\n",
       "\n"
      ],
      "text/plain": [
       "  colA      colB.x colB.y\n",
       "1 0.3333333 1000   bar   \n",
       "2 0.6666667 2000   NA    "
      ]
     },
     "metadata": {},
     "output_type": "display_data"
    }
   ],
   "source": [
    "x <- data.frame(colA = c(1 / 3, 2 / 3),\n",
    "                colB = c(1000, 2000))\n",
    "\n",
    "y <- data.frame(colA = c(0.33333333333333331, 0.33333333333333334),\n",
    "                colB = c(\"foo\", \"bar\"))\n",
    "\n",
    "dplyr::left_join(x, y, by = \"colA\")"
   ]
  },
  {
   "cell_type": "markdown",
   "id": "799f4541-593c-4b29-bbd6-8b351076f63e",
   "metadata": {
    "editable": true,
    "slideshow": {
     "slide_type": ""
    },
    "tags": []
   },
   "source": [
    "### Exercise: joining penguin and weather data\n",
    "\n",
    "Recall the penguin data from the `palmerpenguins` package. We're going to join\n",
    "this with some annual weather data, taken from the Palmer Station in Antarctica\n",
    "from 1989 - 2019 {cite}`palmer2023`."
   ]
  },
  {
   "cell_type": "code",
   "execution_count": 10,
   "id": "5b3c334b-ae3e-4a5b-9131-5333179d8786",
   "metadata": {
    "editable": true,
    "slideshow": {
     "slide_type": ""
    },
    "tags": []
   },
   "outputs": [
    {
     "name": "stderr",
     "output_type": "stream",
     "text": [
      "\u001b[1mRows: \u001b[22m\u001b[34m35\u001b[39m \u001b[1mColumns: \u001b[22m\u001b[34m4\u001b[39m\n",
      "\u001b[36m──\u001b[39m \u001b[1mColumn specification\u001b[22m \u001b[36m────────────────────────────────────────────────────────\u001b[39m\n",
      "\u001b[1mDelimiter:\u001b[22m \",\"\n",
      "\u001b[32mdbl\u001b[39m (4): Year, Average_temp, Max_temp, Min_temp\n",
      "\n",
      "\u001b[36mℹ\u001b[39m Use `spec()` to retrieve the full column specification for this data.\n",
      "\u001b[36mℹ\u001b[39m Specify the column types or set `show_col_types = FALSE` to quiet this message.\n"
     ]
    },
    {
     "data": {
      "text/html": [
       "<table class=\"dataframe\">\n",
       "<caption>A tibble: 344 × 8</caption>\n",
       "<thead>\n",
       "\t<tr><th scope=col>species</th><th scope=col>island</th><th scope=col>bill_length_mm</th><th scope=col>bill_depth_mm</th><th scope=col>flipper_length_mm</th><th scope=col>body_mass_g</th><th scope=col>sex</th><th scope=col>year</th></tr>\n",
       "\t<tr><th scope=col>&lt;fct&gt;</th><th scope=col>&lt;fct&gt;</th><th scope=col>&lt;dbl&gt;</th><th scope=col>&lt;dbl&gt;</th><th scope=col>&lt;int&gt;</th><th scope=col>&lt;int&gt;</th><th scope=col>&lt;fct&gt;</th><th scope=col>&lt;int&gt;</th></tr>\n",
       "</thead>\n",
       "<tbody>\n",
       "\t<tr><td>Adelie</td><td>Torgersen</td><td>39.1</td><td>18.7</td><td>181</td><td>3750</td><td>male  </td><td>2007</td></tr>\n",
       "\t<tr><td>Adelie</td><td>Torgersen</td><td>39.5</td><td>17.4</td><td>186</td><td>3800</td><td>female</td><td>2007</td></tr>\n",
       "\t<tr><td>Adelie</td><td>Torgersen</td><td>40.3</td><td>18.0</td><td>195</td><td>3250</td><td>female</td><td>2007</td></tr>\n",
       "\t<tr><td>Adelie</td><td>Torgersen</td><td>  NA</td><td>  NA</td><td> NA</td><td>  NA</td><td>NA    </td><td>2007</td></tr>\n",
       "\t<tr><td>Adelie</td><td>Torgersen</td><td>36.7</td><td>19.3</td><td>193</td><td>3450</td><td>female</td><td>2007</td></tr>\n",
       "\t<tr><td>Adelie</td><td>Torgersen</td><td>39.3</td><td>20.6</td><td>190</td><td>3650</td><td>male  </td><td>2007</td></tr>\n",
       "\t<tr><td>Adelie</td><td>Torgersen</td><td>38.9</td><td>17.8</td><td>181</td><td>3625</td><td>female</td><td>2007</td></tr>\n",
       "\t<tr><td>Adelie</td><td>Torgersen</td><td>39.2</td><td>19.6</td><td>195</td><td>4675</td><td>male  </td><td>2007</td></tr>\n",
       "\t<tr><td>Adelie</td><td>Torgersen</td><td>34.1</td><td>18.1</td><td>193</td><td>3475</td><td>NA    </td><td>2007</td></tr>\n",
       "\t<tr><td>Adelie</td><td>Torgersen</td><td>42.0</td><td>20.2</td><td>190</td><td>4250</td><td>NA    </td><td>2007</td></tr>\n",
       "\t<tr><td>Adelie</td><td>Torgersen</td><td>37.8</td><td>17.1</td><td>186</td><td>3300</td><td>NA    </td><td>2007</td></tr>\n",
       "\t<tr><td>Adelie</td><td>Torgersen</td><td>37.8</td><td>17.3</td><td>180</td><td>3700</td><td>NA    </td><td>2007</td></tr>\n",
       "\t<tr><td>Adelie</td><td>Torgersen</td><td>41.1</td><td>17.6</td><td>182</td><td>3200</td><td>female</td><td>2007</td></tr>\n",
       "\t<tr><td>Adelie</td><td>Torgersen</td><td>38.6</td><td>21.2</td><td>191</td><td>3800</td><td>male  </td><td>2007</td></tr>\n",
       "\t<tr><td>Adelie</td><td>Torgersen</td><td>34.6</td><td>21.1</td><td>198</td><td>4400</td><td>male  </td><td>2007</td></tr>\n",
       "\t<tr><td>Adelie</td><td>Torgersen</td><td>36.6</td><td>17.8</td><td>185</td><td>3700</td><td>female</td><td>2007</td></tr>\n",
       "\t<tr><td>Adelie</td><td>Torgersen</td><td>38.7</td><td>19.0</td><td>195</td><td>3450</td><td>female</td><td>2007</td></tr>\n",
       "\t<tr><td>Adelie</td><td>Torgersen</td><td>42.5</td><td>20.7</td><td>197</td><td>4500</td><td>male  </td><td>2007</td></tr>\n",
       "\t<tr><td>Adelie</td><td>Torgersen</td><td>34.4</td><td>18.4</td><td>184</td><td>3325</td><td>female</td><td>2007</td></tr>\n",
       "\t<tr><td>Adelie</td><td>Torgersen</td><td>46.0</td><td>21.5</td><td>194</td><td>4200</td><td>male  </td><td>2007</td></tr>\n",
       "\t<tr><td>Adelie</td><td>Biscoe   </td><td>37.8</td><td>18.3</td><td>174</td><td>3400</td><td>female</td><td>2007</td></tr>\n",
       "\t<tr><td>Adelie</td><td>Biscoe   </td><td>37.7</td><td>18.7</td><td>180</td><td>3600</td><td>male  </td><td>2007</td></tr>\n",
       "\t<tr><td>Adelie</td><td>Biscoe   </td><td>35.9</td><td>19.2</td><td>189</td><td>3800</td><td>female</td><td>2007</td></tr>\n",
       "\t<tr><td>Adelie</td><td>Biscoe   </td><td>38.2</td><td>18.1</td><td>185</td><td>3950</td><td>male  </td><td>2007</td></tr>\n",
       "\t<tr><td>Adelie</td><td>Biscoe   </td><td>38.8</td><td>17.2</td><td>180</td><td>3800</td><td>male  </td><td>2007</td></tr>\n",
       "\t<tr><td>Adelie</td><td>Biscoe   </td><td>35.3</td><td>18.9</td><td>187</td><td>3800</td><td>female</td><td>2007</td></tr>\n",
       "\t<tr><td>Adelie</td><td>Biscoe   </td><td>40.6</td><td>18.6</td><td>183</td><td>3550</td><td>male  </td><td>2007</td></tr>\n",
       "\t<tr><td>Adelie</td><td>Biscoe   </td><td>40.5</td><td>17.9</td><td>187</td><td>3200</td><td>female</td><td>2007</td></tr>\n",
       "\t<tr><td>Adelie</td><td>Biscoe   </td><td>37.9</td><td>18.6</td><td>172</td><td>3150</td><td>female</td><td>2007</td></tr>\n",
       "\t<tr><td>Adelie</td><td>Biscoe   </td><td>40.5</td><td>18.9</td><td>180</td><td>3950</td><td>male  </td><td>2007</td></tr>\n",
       "\t<tr><td>⋮</td><td>⋮</td><td>⋮</td><td>⋮</td><td>⋮</td><td>⋮</td><td>⋮</td><td>⋮</td></tr>\n",
       "\t<tr><td>Chinstrap</td><td>Dream</td><td>46.9</td><td>16.6</td><td>192</td><td>2700</td><td>female</td><td>2008</td></tr>\n",
       "\t<tr><td>Chinstrap</td><td>Dream</td><td>53.5</td><td>19.9</td><td>205</td><td>4500</td><td>male  </td><td>2008</td></tr>\n",
       "\t<tr><td>Chinstrap</td><td>Dream</td><td>49.0</td><td>19.5</td><td>210</td><td>3950</td><td>male  </td><td>2008</td></tr>\n",
       "\t<tr><td>Chinstrap</td><td>Dream</td><td>46.2</td><td>17.5</td><td>187</td><td>3650</td><td>female</td><td>2008</td></tr>\n",
       "\t<tr><td>Chinstrap</td><td>Dream</td><td>50.9</td><td>19.1</td><td>196</td><td>3550</td><td>male  </td><td>2008</td></tr>\n",
       "\t<tr><td>Chinstrap</td><td>Dream</td><td>45.5</td><td>17.0</td><td>196</td><td>3500</td><td>female</td><td>2008</td></tr>\n",
       "\t<tr><td>Chinstrap</td><td>Dream</td><td>50.9</td><td>17.9</td><td>196</td><td>3675</td><td>female</td><td>2009</td></tr>\n",
       "\t<tr><td>Chinstrap</td><td>Dream</td><td>50.8</td><td>18.5</td><td>201</td><td>4450</td><td>male  </td><td>2009</td></tr>\n",
       "\t<tr><td>Chinstrap</td><td>Dream</td><td>50.1</td><td>17.9</td><td>190</td><td>3400</td><td>female</td><td>2009</td></tr>\n",
       "\t<tr><td>Chinstrap</td><td>Dream</td><td>49.0</td><td>19.6</td><td>212</td><td>4300</td><td>male  </td><td>2009</td></tr>\n",
       "\t<tr><td>Chinstrap</td><td>Dream</td><td>51.5</td><td>18.7</td><td>187</td><td>3250</td><td>male  </td><td>2009</td></tr>\n",
       "\t<tr><td>Chinstrap</td><td>Dream</td><td>49.8</td><td>17.3</td><td>198</td><td>3675</td><td>female</td><td>2009</td></tr>\n",
       "\t<tr><td>Chinstrap</td><td>Dream</td><td>48.1</td><td>16.4</td><td>199</td><td>3325</td><td>female</td><td>2009</td></tr>\n",
       "\t<tr><td>Chinstrap</td><td>Dream</td><td>51.4</td><td>19.0</td><td>201</td><td>3950</td><td>male  </td><td>2009</td></tr>\n",
       "\t<tr><td>Chinstrap</td><td>Dream</td><td>45.7</td><td>17.3</td><td>193</td><td>3600</td><td>female</td><td>2009</td></tr>\n",
       "\t<tr><td>Chinstrap</td><td>Dream</td><td>50.7</td><td>19.7</td><td>203</td><td>4050</td><td>male  </td><td>2009</td></tr>\n",
       "\t<tr><td>Chinstrap</td><td>Dream</td><td>42.5</td><td>17.3</td><td>187</td><td>3350</td><td>female</td><td>2009</td></tr>\n",
       "\t<tr><td>Chinstrap</td><td>Dream</td><td>52.2</td><td>18.8</td><td>197</td><td>3450</td><td>male  </td><td>2009</td></tr>\n",
       "\t<tr><td>Chinstrap</td><td>Dream</td><td>45.2</td><td>16.6</td><td>191</td><td>3250</td><td>female</td><td>2009</td></tr>\n",
       "\t<tr><td>Chinstrap</td><td>Dream</td><td>49.3</td><td>19.9</td><td>203</td><td>4050</td><td>male  </td><td>2009</td></tr>\n",
       "\t<tr><td>Chinstrap</td><td>Dream</td><td>50.2</td><td>18.8</td><td>202</td><td>3800</td><td>male  </td><td>2009</td></tr>\n",
       "\t<tr><td>Chinstrap</td><td>Dream</td><td>45.6</td><td>19.4</td><td>194</td><td>3525</td><td>female</td><td>2009</td></tr>\n",
       "\t<tr><td>Chinstrap</td><td>Dream</td><td>51.9</td><td>19.5</td><td>206</td><td>3950</td><td>male  </td><td>2009</td></tr>\n",
       "\t<tr><td>Chinstrap</td><td>Dream</td><td>46.8</td><td>16.5</td><td>189</td><td>3650</td><td>female</td><td>2009</td></tr>\n",
       "\t<tr><td>Chinstrap</td><td>Dream</td><td>45.7</td><td>17.0</td><td>195</td><td>3650</td><td>female</td><td>2009</td></tr>\n",
       "\t<tr><td>Chinstrap</td><td>Dream</td><td>55.8</td><td>19.8</td><td>207</td><td>4000</td><td>male  </td><td>2009</td></tr>\n",
       "\t<tr><td>Chinstrap</td><td>Dream</td><td>43.5</td><td>18.1</td><td>202</td><td>3400</td><td>female</td><td>2009</td></tr>\n",
       "\t<tr><td>Chinstrap</td><td>Dream</td><td>49.6</td><td>18.2</td><td>193</td><td>3775</td><td>male  </td><td>2009</td></tr>\n",
       "\t<tr><td>Chinstrap</td><td>Dream</td><td>50.8</td><td>19.0</td><td>210</td><td>4100</td><td>male  </td><td>2009</td></tr>\n",
       "\t<tr><td>Chinstrap</td><td>Dream</td><td>50.2</td><td>18.7</td><td>198</td><td>3775</td><td>female</td><td>2009</td></tr>\n",
       "</tbody>\n",
       "</table>\n"
      ],
      "text/latex": [
       "A tibble: 344 × 8\n",
       "\\begin{tabular}{llllllll}\n",
       " species & island & bill\\_length\\_mm & bill\\_depth\\_mm & flipper\\_length\\_mm & body\\_mass\\_g & sex & year\\\\\n",
       " <fct> & <fct> & <dbl> & <dbl> & <int> & <int> & <fct> & <int>\\\\\n",
       "\\hline\n",
       "\t Adelie & Torgersen & 39.1 & 18.7 & 181 & 3750 & male   & 2007\\\\\n",
       "\t Adelie & Torgersen & 39.5 & 17.4 & 186 & 3800 & female & 2007\\\\\n",
       "\t Adelie & Torgersen & 40.3 & 18.0 & 195 & 3250 & female & 2007\\\\\n",
       "\t Adelie & Torgersen &   NA &   NA &  NA &   NA & NA     & 2007\\\\\n",
       "\t Adelie & Torgersen & 36.7 & 19.3 & 193 & 3450 & female & 2007\\\\\n",
       "\t Adelie & Torgersen & 39.3 & 20.6 & 190 & 3650 & male   & 2007\\\\\n",
       "\t Adelie & Torgersen & 38.9 & 17.8 & 181 & 3625 & female & 2007\\\\\n",
       "\t Adelie & Torgersen & 39.2 & 19.6 & 195 & 4675 & male   & 2007\\\\\n",
       "\t Adelie & Torgersen & 34.1 & 18.1 & 193 & 3475 & NA     & 2007\\\\\n",
       "\t Adelie & Torgersen & 42.0 & 20.2 & 190 & 4250 & NA     & 2007\\\\\n",
       "\t Adelie & Torgersen & 37.8 & 17.1 & 186 & 3300 & NA     & 2007\\\\\n",
       "\t Adelie & Torgersen & 37.8 & 17.3 & 180 & 3700 & NA     & 2007\\\\\n",
       "\t Adelie & Torgersen & 41.1 & 17.6 & 182 & 3200 & female & 2007\\\\\n",
       "\t Adelie & Torgersen & 38.6 & 21.2 & 191 & 3800 & male   & 2007\\\\\n",
       "\t Adelie & Torgersen & 34.6 & 21.1 & 198 & 4400 & male   & 2007\\\\\n",
       "\t Adelie & Torgersen & 36.6 & 17.8 & 185 & 3700 & female & 2007\\\\\n",
       "\t Adelie & Torgersen & 38.7 & 19.0 & 195 & 3450 & female & 2007\\\\\n",
       "\t Adelie & Torgersen & 42.5 & 20.7 & 197 & 4500 & male   & 2007\\\\\n",
       "\t Adelie & Torgersen & 34.4 & 18.4 & 184 & 3325 & female & 2007\\\\\n",
       "\t Adelie & Torgersen & 46.0 & 21.5 & 194 & 4200 & male   & 2007\\\\\n",
       "\t Adelie & Biscoe    & 37.8 & 18.3 & 174 & 3400 & female & 2007\\\\\n",
       "\t Adelie & Biscoe    & 37.7 & 18.7 & 180 & 3600 & male   & 2007\\\\\n",
       "\t Adelie & Biscoe    & 35.9 & 19.2 & 189 & 3800 & female & 2007\\\\\n",
       "\t Adelie & Biscoe    & 38.2 & 18.1 & 185 & 3950 & male   & 2007\\\\\n",
       "\t Adelie & Biscoe    & 38.8 & 17.2 & 180 & 3800 & male   & 2007\\\\\n",
       "\t Adelie & Biscoe    & 35.3 & 18.9 & 187 & 3800 & female & 2007\\\\\n",
       "\t Adelie & Biscoe    & 40.6 & 18.6 & 183 & 3550 & male   & 2007\\\\\n",
       "\t Adelie & Biscoe    & 40.5 & 17.9 & 187 & 3200 & female & 2007\\\\\n",
       "\t Adelie & Biscoe    & 37.9 & 18.6 & 172 & 3150 & female & 2007\\\\\n",
       "\t Adelie & Biscoe    & 40.5 & 18.9 & 180 & 3950 & male   & 2007\\\\\n",
       "\t ⋮ & ⋮ & ⋮ & ⋮ & ⋮ & ⋮ & ⋮ & ⋮\\\\\n",
       "\t Chinstrap & Dream & 46.9 & 16.6 & 192 & 2700 & female & 2008\\\\\n",
       "\t Chinstrap & Dream & 53.5 & 19.9 & 205 & 4500 & male   & 2008\\\\\n",
       "\t Chinstrap & Dream & 49.0 & 19.5 & 210 & 3950 & male   & 2008\\\\\n",
       "\t Chinstrap & Dream & 46.2 & 17.5 & 187 & 3650 & female & 2008\\\\\n",
       "\t Chinstrap & Dream & 50.9 & 19.1 & 196 & 3550 & male   & 2008\\\\\n",
       "\t Chinstrap & Dream & 45.5 & 17.0 & 196 & 3500 & female & 2008\\\\\n",
       "\t Chinstrap & Dream & 50.9 & 17.9 & 196 & 3675 & female & 2009\\\\\n",
       "\t Chinstrap & Dream & 50.8 & 18.5 & 201 & 4450 & male   & 2009\\\\\n",
       "\t Chinstrap & Dream & 50.1 & 17.9 & 190 & 3400 & female & 2009\\\\\n",
       "\t Chinstrap & Dream & 49.0 & 19.6 & 212 & 4300 & male   & 2009\\\\\n",
       "\t Chinstrap & Dream & 51.5 & 18.7 & 187 & 3250 & male   & 2009\\\\\n",
       "\t Chinstrap & Dream & 49.8 & 17.3 & 198 & 3675 & female & 2009\\\\\n",
       "\t Chinstrap & Dream & 48.1 & 16.4 & 199 & 3325 & female & 2009\\\\\n",
       "\t Chinstrap & Dream & 51.4 & 19.0 & 201 & 3950 & male   & 2009\\\\\n",
       "\t Chinstrap & Dream & 45.7 & 17.3 & 193 & 3600 & female & 2009\\\\\n",
       "\t Chinstrap & Dream & 50.7 & 19.7 & 203 & 4050 & male   & 2009\\\\\n",
       "\t Chinstrap & Dream & 42.5 & 17.3 & 187 & 3350 & female & 2009\\\\\n",
       "\t Chinstrap & Dream & 52.2 & 18.8 & 197 & 3450 & male   & 2009\\\\\n",
       "\t Chinstrap & Dream & 45.2 & 16.6 & 191 & 3250 & female & 2009\\\\\n",
       "\t Chinstrap & Dream & 49.3 & 19.9 & 203 & 4050 & male   & 2009\\\\\n",
       "\t Chinstrap & Dream & 50.2 & 18.8 & 202 & 3800 & male   & 2009\\\\\n",
       "\t Chinstrap & Dream & 45.6 & 19.4 & 194 & 3525 & female & 2009\\\\\n",
       "\t Chinstrap & Dream & 51.9 & 19.5 & 206 & 3950 & male   & 2009\\\\\n",
       "\t Chinstrap & Dream & 46.8 & 16.5 & 189 & 3650 & female & 2009\\\\\n",
       "\t Chinstrap & Dream & 45.7 & 17.0 & 195 & 3650 & female & 2009\\\\\n",
       "\t Chinstrap & Dream & 55.8 & 19.8 & 207 & 4000 & male   & 2009\\\\\n",
       "\t Chinstrap & Dream & 43.5 & 18.1 & 202 & 3400 & female & 2009\\\\\n",
       "\t Chinstrap & Dream & 49.6 & 18.2 & 193 & 3775 & male   & 2009\\\\\n",
       "\t Chinstrap & Dream & 50.8 & 19.0 & 210 & 4100 & male   & 2009\\\\\n",
       "\t Chinstrap & Dream & 50.2 & 18.7 & 198 & 3775 & female & 2009\\\\\n",
       "\\end{tabular}\n"
      ],
      "text/markdown": [
       "\n",
       "A tibble: 344 × 8\n",
       "\n",
       "| species &lt;fct&gt; | island &lt;fct&gt; | bill_length_mm &lt;dbl&gt; | bill_depth_mm &lt;dbl&gt; | flipper_length_mm &lt;int&gt; | body_mass_g &lt;int&gt; | sex &lt;fct&gt; | year &lt;int&gt; |\n",
       "|---|---|---|---|---|---|---|---|\n",
       "| Adelie | Torgersen | 39.1 | 18.7 | 181 | 3750 | male   | 2007 |\n",
       "| Adelie | Torgersen | 39.5 | 17.4 | 186 | 3800 | female | 2007 |\n",
       "| Adelie | Torgersen | 40.3 | 18.0 | 195 | 3250 | female | 2007 |\n",
       "| Adelie | Torgersen |   NA |   NA |  NA |   NA | NA     | 2007 |\n",
       "| Adelie | Torgersen | 36.7 | 19.3 | 193 | 3450 | female | 2007 |\n",
       "| Adelie | Torgersen | 39.3 | 20.6 | 190 | 3650 | male   | 2007 |\n",
       "| Adelie | Torgersen | 38.9 | 17.8 | 181 | 3625 | female | 2007 |\n",
       "| Adelie | Torgersen | 39.2 | 19.6 | 195 | 4675 | male   | 2007 |\n",
       "| Adelie | Torgersen | 34.1 | 18.1 | 193 | 3475 | NA     | 2007 |\n",
       "| Adelie | Torgersen | 42.0 | 20.2 | 190 | 4250 | NA     | 2007 |\n",
       "| Adelie | Torgersen | 37.8 | 17.1 | 186 | 3300 | NA     | 2007 |\n",
       "| Adelie | Torgersen | 37.8 | 17.3 | 180 | 3700 | NA     | 2007 |\n",
       "| Adelie | Torgersen | 41.1 | 17.6 | 182 | 3200 | female | 2007 |\n",
       "| Adelie | Torgersen | 38.6 | 21.2 | 191 | 3800 | male   | 2007 |\n",
       "| Adelie | Torgersen | 34.6 | 21.1 | 198 | 4400 | male   | 2007 |\n",
       "| Adelie | Torgersen | 36.6 | 17.8 | 185 | 3700 | female | 2007 |\n",
       "| Adelie | Torgersen | 38.7 | 19.0 | 195 | 3450 | female | 2007 |\n",
       "| Adelie | Torgersen | 42.5 | 20.7 | 197 | 4500 | male   | 2007 |\n",
       "| Adelie | Torgersen | 34.4 | 18.4 | 184 | 3325 | female | 2007 |\n",
       "| Adelie | Torgersen | 46.0 | 21.5 | 194 | 4200 | male   | 2007 |\n",
       "| Adelie | Biscoe    | 37.8 | 18.3 | 174 | 3400 | female | 2007 |\n",
       "| Adelie | Biscoe    | 37.7 | 18.7 | 180 | 3600 | male   | 2007 |\n",
       "| Adelie | Biscoe    | 35.9 | 19.2 | 189 | 3800 | female | 2007 |\n",
       "| Adelie | Biscoe    | 38.2 | 18.1 | 185 | 3950 | male   | 2007 |\n",
       "| Adelie | Biscoe    | 38.8 | 17.2 | 180 | 3800 | male   | 2007 |\n",
       "| Adelie | Biscoe    | 35.3 | 18.9 | 187 | 3800 | female | 2007 |\n",
       "| Adelie | Biscoe    | 40.6 | 18.6 | 183 | 3550 | male   | 2007 |\n",
       "| Adelie | Biscoe    | 40.5 | 17.9 | 187 | 3200 | female | 2007 |\n",
       "| Adelie | Biscoe    | 37.9 | 18.6 | 172 | 3150 | female | 2007 |\n",
       "| Adelie | Biscoe    | 40.5 | 18.9 | 180 | 3950 | male   | 2007 |\n",
       "| ⋮ | ⋮ | ⋮ | ⋮ | ⋮ | ⋮ | ⋮ | ⋮ |\n",
       "| Chinstrap | Dream | 46.9 | 16.6 | 192 | 2700 | female | 2008 |\n",
       "| Chinstrap | Dream | 53.5 | 19.9 | 205 | 4500 | male   | 2008 |\n",
       "| Chinstrap | Dream | 49.0 | 19.5 | 210 | 3950 | male   | 2008 |\n",
       "| Chinstrap | Dream | 46.2 | 17.5 | 187 | 3650 | female | 2008 |\n",
       "| Chinstrap | Dream | 50.9 | 19.1 | 196 | 3550 | male   | 2008 |\n",
       "| Chinstrap | Dream | 45.5 | 17.0 | 196 | 3500 | female | 2008 |\n",
       "| Chinstrap | Dream | 50.9 | 17.9 | 196 | 3675 | female | 2009 |\n",
       "| Chinstrap | Dream | 50.8 | 18.5 | 201 | 4450 | male   | 2009 |\n",
       "| Chinstrap | Dream | 50.1 | 17.9 | 190 | 3400 | female | 2009 |\n",
       "| Chinstrap | Dream | 49.0 | 19.6 | 212 | 4300 | male   | 2009 |\n",
       "| Chinstrap | Dream | 51.5 | 18.7 | 187 | 3250 | male   | 2009 |\n",
       "| Chinstrap | Dream | 49.8 | 17.3 | 198 | 3675 | female | 2009 |\n",
       "| Chinstrap | Dream | 48.1 | 16.4 | 199 | 3325 | female | 2009 |\n",
       "| Chinstrap | Dream | 51.4 | 19.0 | 201 | 3950 | male   | 2009 |\n",
       "| Chinstrap | Dream | 45.7 | 17.3 | 193 | 3600 | female | 2009 |\n",
       "| Chinstrap | Dream | 50.7 | 19.7 | 203 | 4050 | male   | 2009 |\n",
       "| Chinstrap | Dream | 42.5 | 17.3 | 187 | 3350 | female | 2009 |\n",
       "| Chinstrap | Dream | 52.2 | 18.8 | 197 | 3450 | male   | 2009 |\n",
       "| Chinstrap | Dream | 45.2 | 16.6 | 191 | 3250 | female | 2009 |\n",
       "| Chinstrap | Dream | 49.3 | 19.9 | 203 | 4050 | male   | 2009 |\n",
       "| Chinstrap | Dream | 50.2 | 18.8 | 202 | 3800 | male   | 2009 |\n",
       "| Chinstrap | Dream | 45.6 | 19.4 | 194 | 3525 | female | 2009 |\n",
       "| Chinstrap | Dream | 51.9 | 19.5 | 206 | 3950 | male   | 2009 |\n",
       "| Chinstrap | Dream | 46.8 | 16.5 | 189 | 3650 | female | 2009 |\n",
       "| Chinstrap | Dream | 45.7 | 17.0 | 195 | 3650 | female | 2009 |\n",
       "| Chinstrap | Dream | 55.8 | 19.8 | 207 | 4000 | male   | 2009 |\n",
       "| Chinstrap | Dream | 43.5 | 18.1 | 202 | 3400 | female | 2009 |\n",
       "| Chinstrap | Dream | 49.6 | 18.2 | 193 | 3775 | male   | 2009 |\n",
       "| Chinstrap | Dream | 50.8 | 19.0 | 210 | 4100 | male   | 2009 |\n",
       "| Chinstrap | Dream | 50.2 | 18.7 | 198 | 3775 | female | 2009 |\n",
       "\n"
      ],
      "text/plain": [
       "    species   island    bill_length_mm bill_depth_mm flipper_length_mm\n",
       "1   Adelie    Torgersen 39.1           18.7          181              \n",
       "2   Adelie    Torgersen 39.5           17.4          186              \n",
       "3   Adelie    Torgersen 40.3           18.0          195              \n",
       "4   Adelie    Torgersen   NA             NA           NA              \n",
       "5   Adelie    Torgersen 36.7           19.3          193              \n",
       "6   Adelie    Torgersen 39.3           20.6          190              \n",
       "7   Adelie    Torgersen 38.9           17.8          181              \n",
       "8   Adelie    Torgersen 39.2           19.6          195              \n",
       "9   Adelie    Torgersen 34.1           18.1          193              \n",
       "10  Adelie    Torgersen 42.0           20.2          190              \n",
       "11  Adelie    Torgersen 37.8           17.1          186              \n",
       "12  Adelie    Torgersen 37.8           17.3          180              \n",
       "13  Adelie    Torgersen 41.1           17.6          182              \n",
       "14  Adelie    Torgersen 38.6           21.2          191              \n",
       "15  Adelie    Torgersen 34.6           21.1          198              \n",
       "16  Adelie    Torgersen 36.6           17.8          185              \n",
       "17  Adelie    Torgersen 38.7           19.0          195              \n",
       "18  Adelie    Torgersen 42.5           20.7          197              \n",
       "19  Adelie    Torgersen 34.4           18.4          184              \n",
       "20  Adelie    Torgersen 46.0           21.5          194              \n",
       "21  Adelie    Biscoe    37.8           18.3          174              \n",
       "22  Adelie    Biscoe    37.7           18.7          180              \n",
       "23  Adelie    Biscoe    35.9           19.2          189              \n",
       "24  Adelie    Biscoe    38.2           18.1          185              \n",
       "25  Adelie    Biscoe    38.8           17.2          180              \n",
       "26  Adelie    Biscoe    35.3           18.9          187              \n",
       "27  Adelie    Biscoe    40.6           18.6          183              \n",
       "28  Adelie    Biscoe    40.5           17.9          187              \n",
       "29  Adelie    Biscoe    37.9           18.6          172              \n",
       "30  Adelie    Biscoe    40.5           18.9          180              \n",
       "⋮   ⋮         ⋮         ⋮              ⋮             ⋮                \n",
       "315 Chinstrap Dream     46.9           16.6          192              \n",
       "316 Chinstrap Dream     53.5           19.9          205              \n",
       "317 Chinstrap Dream     49.0           19.5          210              \n",
       "318 Chinstrap Dream     46.2           17.5          187              \n",
       "319 Chinstrap Dream     50.9           19.1          196              \n",
       "320 Chinstrap Dream     45.5           17.0          196              \n",
       "321 Chinstrap Dream     50.9           17.9          196              \n",
       "322 Chinstrap Dream     50.8           18.5          201              \n",
       "323 Chinstrap Dream     50.1           17.9          190              \n",
       "324 Chinstrap Dream     49.0           19.6          212              \n",
       "325 Chinstrap Dream     51.5           18.7          187              \n",
       "326 Chinstrap Dream     49.8           17.3          198              \n",
       "327 Chinstrap Dream     48.1           16.4          199              \n",
       "328 Chinstrap Dream     51.4           19.0          201              \n",
       "329 Chinstrap Dream     45.7           17.3          193              \n",
       "330 Chinstrap Dream     50.7           19.7          203              \n",
       "331 Chinstrap Dream     42.5           17.3          187              \n",
       "332 Chinstrap Dream     52.2           18.8          197              \n",
       "333 Chinstrap Dream     45.2           16.6          191              \n",
       "334 Chinstrap Dream     49.3           19.9          203              \n",
       "335 Chinstrap Dream     50.2           18.8          202              \n",
       "336 Chinstrap Dream     45.6           19.4          194              \n",
       "337 Chinstrap Dream     51.9           19.5          206              \n",
       "338 Chinstrap Dream     46.8           16.5          189              \n",
       "339 Chinstrap Dream     45.7           17.0          195              \n",
       "340 Chinstrap Dream     55.8           19.8          207              \n",
       "341 Chinstrap Dream     43.5           18.1          202              \n",
       "342 Chinstrap Dream     49.6           18.2          193              \n",
       "343 Chinstrap Dream     50.8           19.0          210              \n",
       "344 Chinstrap Dream     50.2           18.7          198              \n",
       "    body_mass_g sex    year\n",
       "1   3750        male   2007\n",
       "2   3800        female 2007\n",
       "3   3250        female 2007\n",
       "4     NA        NA     2007\n",
       "5   3450        female 2007\n",
       "6   3650        male   2007\n",
       "7   3625        female 2007\n",
       "8   4675        male   2007\n",
       "9   3475        NA     2007\n",
       "10  4250        NA     2007\n",
       "11  3300        NA     2007\n",
       "12  3700        NA     2007\n",
       "13  3200        female 2007\n",
       "14  3800        male   2007\n",
       "15  4400        male   2007\n",
       "16  3700        female 2007\n",
       "17  3450        female 2007\n",
       "18  4500        male   2007\n",
       "19  3325        female 2007\n",
       "20  4200        male   2007\n",
       "21  3400        female 2007\n",
       "22  3600        male   2007\n",
       "23  3800        female 2007\n",
       "24  3950        male   2007\n",
       "25  3800        male   2007\n",
       "26  3800        female 2007\n",
       "27  3550        male   2007\n",
       "28  3200        female 2007\n",
       "29  3150        female 2007\n",
       "30  3950        male   2007\n",
       "⋮   ⋮           ⋮      ⋮   \n",
       "315 2700        female 2008\n",
       "316 4500        male   2008\n",
       "317 3950        male   2008\n",
       "318 3650        female 2008\n",
       "319 3550        male   2008\n",
       "320 3500        female 2008\n",
       "321 3675        female 2009\n",
       "322 4450        male   2009\n",
       "323 3400        female 2009\n",
       "324 4300        male   2009\n",
       "325 3250        male   2009\n",
       "326 3675        female 2009\n",
       "327 3325        female 2009\n",
       "328 3950        male   2009\n",
       "329 3600        female 2009\n",
       "330 4050        male   2009\n",
       "331 3350        female 2009\n",
       "332 3450        male   2009\n",
       "333 3250        female 2009\n",
       "334 4050        male   2009\n",
       "335 3800        male   2009\n",
       "336 3525        female 2009\n",
       "337 3950        male   2009\n",
       "338 3650        female 2009\n",
       "339 3650        female 2009\n",
       "340 4000        male   2009\n",
       "341 3400        female 2009\n",
       "342 3775        male   2009\n",
       "343 4100        male   2009\n",
       "344 3775        female 2009"
      ]
     },
     "metadata": {},
     "output_type": "display_data"
    },
    {
     "data": {
      "text/html": [
       "<table class=\"dataframe\">\n",
       "<caption>A spec_tbl_df: 35 × 4</caption>\n",
       "<thead>\n",
       "\t<tr><th scope=col>Year</th><th scope=col>Average_temp</th><th scope=col>Max_temp</th><th scope=col>Min_temp</th></tr>\n",
       "\t<tr><th scope=col>&lt;dbl&gt;</th><th scope=col>&lt;dbl&gt;</th><th scope=col>&lt;dbl&gt;</th><th scope=col>&lt;dbl&gt;</th></tr>\n",
       "</thead>\n",
       "<tbody>\n",
       "\t<tr><td>1989</td><td>         NA</td><td> 7.8</td><td>-11.1</td></tr>\n",
       "\t<tr><td>1990</td><td>         NA</td><td> 8.7</td><td>-20.6</td></tr>\n",
       "\t<tr><td>1991</td><td>         NA</td><td> 9.8</td><td>-18.0</td></tr>\n",
       "\t<tr><td>1992</td><td>         NA</td><td>10.3</td><td>-24.7</td></tr>\n",
       "\t<tr><td>1993</td><td>         NA</td><td>10.1</td><td>-17.6</td></tr>\n",
       "\t<tr><td>1994</td><td>-7.20000000</td><td> 9.0</td><td>-25.6</td></tr>\n",
       "\t<tr><td>1995</td><td> 0.06129032</td><td> 9.0</td><td>-26.0</td></tr>\n",
       "\t<tr><td>1996</td><td>-0.64180328</td><td> 9.6</td><td>-22.7</td></tr>\n",
       "\t<tr><td>1997</td><td>-2.43150685</td><td> 9.5</td><td>-25.2</td></tr>\n",
       "\t<tr><td>1998</td><td>-0.98931507</td><td> 8.5</td><td>-21.7</td></tr>\n",
       "\t<tr><td>1999</td><td>-1.49753425</td><td> 9.2</td><td>-23.4</td></tr>\n",
       "\t<tr><td>2000</td><td>-1.36803279</td><td>10.8</td><td>-19.6</td></tr>\n",
       "\t<tr><td>2001</td><td>-1.58657534</td><td> 9.5</td><td>-17.6</td></tr>\n",
       "\t<tr><td>2002</td><td>-2.62191781</td><td> 8.5</td><td>-21.6</td></tr>\n",
       "\t<tr><td>2003</td><td>-1.18931507</td><td> 9.4</td><td>-19.7</td></tr>\n",
       "\t<tr><td>2004</td><td>-1.62868852</td><td> 9.8</td><td>-22.9</td></tr>\n",
       "\t<tr><td>2005</td><td>-1.79479452</td><td> 9.8</td><td>-19.9</td></tr>\n",
       "\t<tr><td>2006</td><td>-0.99719888</td><td>10.6</td><td>-15.2</td></tr>\n",
       "\t<tr><td>2007</td><td>-1.62876712</td><td> 9.9</td><td>-16.3</td></tr>\n",
       "\t<tr><td>2008</td><td>-0.79207650</td><td> 6.8</td><td>-18.9</td></tr>\n",
       "\t<tr><td>2009</td><td>-1.78862275</td><td> 7.7</td><td>-14.1</td></tr>\n",
       "\t<tr><td>2010</td><td>-0.72082192</td><td>11.6</td><td>-17.7</td></tr>\n",
       "\t<tr><td>2011</td><td>-1.88767123</td><td> 8.1</td><td>-19.1</td></tr>\n",
       "\t<tr><td>2012</td><td>-1.42841530</td><td> 8.9</td><td>-15.9</td></tr>\n",
       "\t<tr><td>2013</td><td>-1.94904110</td><td> 8.7</td><td>-24.7</td></tr>\n",
       "\t<tr><td>2014</td><td>-1.57616438</td><td> 8.5</td><td>-16.3</td></tr>\n",
       "\t<tr><td>2015</td><td>-3.31808219</td><td> 8.9</td><td>-23.3</td></tr>\n",
       "\t<tr><td>2016</td><td>-1.86393443</td><td> 9.4</td><td>-18.7</td></tr>\n",
       "\t<tr><td>2017</td><td>-1.52170330</td><td> 9.3</td><td>-20.9</td></tr>\n",
       "\t<tr><td>2018</td><td>-1.65808219</td><td> 9.7</td><td>-21.9</td></tr>\n",
       "\t<tr><td>2019</td><td>-1.81095890</td><td> 9.0</td><td>-21.4</td></tr>\n",
       "\t<tr><td>2020</td><td>-1.12939560</td><td>10.6</td><td>-15.3</td></tr>\n",
       "\t<tr><td>2021</td><td>-0.96219178</td><td>10.9</td><td>-18.3</td></tr>\n",
       "\t<tr><td>2022</td><td>-0.20712329</td><td>11.6</td><td> -9.0</td></tr>\n",
       "\t<tr><td>2023</td><td> 0.43259669</td><td> 8.7</td><td> -9.2</td></tr>\n",
       "</tbody>\n",
       "</table>\n"
      ],
      "text/latex": [
       "A spec\\_tbl\\_df: 35 × 4\n",
       "\\begin{tabular}{llll}\n",
       " Year & Average\\_temp & Max\\_temp & Min\\_temp\\\\\n",
       " <dbl> & <dbl> & <dbl> & <dbl>\\\\\n",
       "\\hline\n",
       "\t 1989 &          NA &  7.8 & -11.1\\\\\n",
       "\t 1990 &          NA &  8.7 & -20.6\\\\\n",
       "\t 1991 &          NA &  9.8 & -18.0\\\\\n",
       "\t 1992 &          NA & 10.3 & -24.7\\\\\n",
       "\t 1993 &          NA & 10.1 & -17.6\\\\\n",
       "\t 1994 & -7.20000000 &  9.0 & -25.6\\\\\n",
       "\t 1995 &  0.06129032 &  9.0 & -26.0\\\\\n",
       "\t 1996 & -0.64180328 &  9.6 & -22.7\\\\\n",
       "\t 1997 & -2.43150685 &  9.5 & -25.2\\\\\n",
       "\t 1998 & -0.98931507 &  8.5 & -21.7\\\\\n",
       "\t 1999 & -1.49753425 &  9.2 & -23.4\\\\\n",
       "\t 2000 & -1.36803279 & 10.8 & -19.6\\\\\n",
       "\t 2001 & -1.58657534 &  9.5 & -17.6\\\\\n",
       "\t 2002 & -2.62191781 &  8.5 & -21.6\\\\\n",
       "\t 2003 & -1.18931507 &  9.4 & -19.7\\\\\n",
       "\t 2004 & -1.62868852 &  9.8 & -22.9\\\\\n",
       "\t 2005 & -1.79479452 &  9.8 & -19.9\\\\\n",
       "\t 2006 & -0.99719888 & 10.6 & -15.2\\\\\n",
       "\t 2007 & -1.62876712 &  9.9 & -16.3\\\\\n",
       "\t 2008 & -0.79207650 &  6.8 & -18.9\\\\\n",
       "\t 2009 & -1.78862275 &  7.7 & -14.1\\\\\n",
       "\t 2010 & -0.72082192 & 11.6 & -17.7\\\\\n",
       "\t 2011 & -1.88767123 &  8.1 & -19.1\\\\\n",
       "\t 2012 & -1.42841530 &  8.9 & -15.9\\\\\n",
       "\t 2013 & -1.94904110 &  8.7 & -24.7\\\\\n",
       "\t 2014 & -1.57616438 &  8.5 & -16.3\\\\\n",
       "\t 2015 & -3.31808219 &  8.9 & -23.3\\\\\n",
       "\t 2016 & -1.86393443 &  9.4 & -18.7\\\\\n",
       "\t 2017 & -1.52170330 &  9.3 & -20.9\\\\\n",
       "\t 2018 & -1.65808219 &  9.7 & -21.9\\\\\n",
       "\t 2019 & -1.81095890 &  9.0 & -21.4\\\\\n",
       "\t 2020 & -1.12939560 & 10.6 & -15.3\\\\\n",
       "\t 2021 & -0.96219178 & 10.9 & -18.3\\\\\n",
       "\t 2022 & -0.20712329 & 11.6 &  -9.0\\\\\n",
       "\t 2023 &  0.43259669 &  8.7 &  -9.2\\\\\n",
       "\\end{tabular}\n"
      ],
      "text/markdown": [
       "\n",
       "A spec_tbl_df: 35 × 4\n",
       "\n",
       "| Year &lt;dbl&gt; | Average_temp &lt;dbl&gt; | Max_temp &lt;dbl&gt; | Min_temp &lt;dbl&gt; |\n",
       "|---|---|---|---|\n",
       "| 1989 |          NA |  7.8 | -11.1 |\n",
       "| 1990 |          NA |  8.7 | -20.6 |\n",
       "| 1991 |          NA |  9.8 | -18.0 |\n",
       "| 1992 |          NA | 10.3 | -24.7 |\n",
       "| 1993 |          NA | 10.1 | -17.6 |\n",
       "| 1994 | -7.20000000 |  9.0 | -25.6 |\n",
       "| 1995 |  0.06129032 |  9.0 | -26.0 |\n",
       "| 1996 | -0.64180328 |  9.6 | -22.7 |\n",
       "| 1997 | -2.43150685 |  9.5 | -25.2 |\n",
       "| 1998 | -0.98931507 |  8.5 | -21.7 |\n",
       "| 1999 | -1.49753425 |  9.2 | -23.4 |\n",
       "| 2000 | -1.36803279 | 10.8 | -19.6 |\n",
       "| 2001 | -1.58657534 |  9.5 | -17.6 |\n",
       "| 2002 | -2.62191781 |  8.5 | -21.6 |\n",
       "| 2003 | -1.18931507 |  9.4 | -19.7 |\n",
       "| 2004 | -1.62868852 |  9.8 | -22.9 |\n",
       "| 2005 | -1.79479452 |  9.8 | -19.9 |\n",
       "| 2006 | -0.99719888 | 10.6 | -15.2 |\n",
       "| 2007 | -1.62876712 |  9.9 | -16.3 |\n",
       "| 2008 | -0.79207650 |  6.8 | -18.9 |\n",
       "| 2009 | -1.78862275 |  7.7 | -14.1 |\n",
       "| 2010 | -0.72082192 | 11.6 | -17.7 |\n",
       "| 2011 | -1.88767123 |  8.1 | -19.1 |\n",
       "| 2012 | -1.42841530 |  8.9 | -15.9 |\n",
       "| 2013 | -1.94904110 |  8.7 | -24.7 |\n",
       "| 2014 | -1.57616438 |  8.5 | -16.3 |\n",
       "| 2015 | -3.31808219 |  8.9 | -23.3 |\n",
       "| 2016 | -1.86393443 |  9.4 | -18.7 |\n",
       "| 2017 | -1.52170330 |  9.3 | -20.9 |\n",
       "| 2018 | -1.65808219 |  9.7 | -21.9 |\n",
       "| 2019 | -1.81095890 |  9.0 | -21.4 |\n",
       "| 2020 | -1.12939560 | 10.6 | -15.3 |\n",
       "| 2021 | -0.96219178 | 10.9 | -18.3 |\n",
       "| 2022 | -0.20712329 | 11.6 |  -9.0 |\n",
       "| 2023 |  0.43259669 |  8.7 |  -9.2 |\n",
       "\n"
      ],
      "text/plain": [
       "   Year Average_temp Max_temp Min_temp\n",
       "1  1989          NA   7.8     -11.1   \n",
       "2  1990          NA   8.7     -20.6   \n",
       "3  1991          NA   9.8     -18.0   \n",
       "4  1992          NA  10.3     -24.7   \n",
       "5  1993          NA  10.1     -17.6   \n",
       "6  1994 -7.20000000   9.0     -25.6   \n",
       "7  1995  0.06129032   9.0     -26.0   \n",
       "8  1996 -0.64180328   9.6     -22.7   \n",
       "9  1997 -2.43150685   9.5     -25.2   \n",
       "10 1998 -0.98931507   8.5     -21.7   \n",
       "11 1999 -1.49753425   9.2     -23.4   \n",
       "12 2000 -1.36803279  10.8     -19.6   \n",
       "13 2001 -1.58657534   9.5     -17.6   \n",
       "14 2002 -2.62191781   8.5     -21.6   \n",
       "15 2003 -1.18931507   9.4     -19.7   \n",
       "16 2004 -1.62868852   9.8     -22.9   \n",
       "17 2005 -1.79479452   9.8     -19.9   \n",
       "18 2006 -0.99719888  10.6     -15.2   \n",
       "19 2007 -1.62876712   9.9     -16.3   \n",
       "20 2008 -0.79207650   6.8     -18.9   \n",
       "21 2009 -1.78862275   7.7     -14.1   \n",
       "22 2010 -0.72082192  11.6     -17.7   \n",
       "23 2011 -1.88767123   8.1     -19.1   \n",
       "24 2012 -1.42841530   8.9     -15.9   \n",
       "25 2013 -1.94904110   8.7     -24.7   \n",
       "26 2014 -1.57616438   8.5     -16.3   \n",
       "27 2015 -3.31808219   8.9     -23.3   \n",
       "28 2016 -1.86393443   9.4     -18.7   \n",
       "29 2017 -1.52170330   9.3     -20.9   \n",
       "30 2018 -1.65808219   9.7     -21.9   \n",
       "31 2019 -1.81095890   9.0     -21.4   \n",
       "32 2020 -1.12939560  10.6     -15.3   \n",
       "33 2021 -0.96219178  10.9     -18.3   \n",
       "34 2022 -0.20712329  11.6      -9.0   \n",
       "35 2023  0.43259669   8.7      -9.2   "
      ]
     },
     "metadata": {},
     "output_type": "display_data"
    }
   ],
   "source": [
    "library(palmerpenguins)  # loads `penguins` data\n",
    "weather <- readr::read_csv(\"./data/weather_annual.csv\")\n",
    "\n",
    "penguins\n",
    "weather"
   ]
  },
  {
   "cell_type": "markdown",
   "id": "7d38eea4-90e2-49fc-abd3-3a2b4da294a1",
   "metadata": {
    "editable": true,
    "slideshow": {
     "slide_type": ""
    },
    "tags": []
   },
   "source": [
    "Use a join to create a single dataframe that has all the penguin data and\n",
    "weather data combined. Hint: there are some subtleties to be aware of:\n",
    "- First think about which column(s) to join on -- a call to `dplyr::rename`\n",
    "  might be in order!\n",
    "- We should make sure that the 'by' column(s) to join on are of the same type.\n",
    "  Examine the kind of data in each dataframe closely and coerce if necessary!\n"
   ]
  },
  {
   "cell_type": "code",
   "execution_count": 11,
   "id": "a49c1174-10cc-44b9-9abc-eb34e61332b8",
   "metadata": {
    "editable": true,
    "slideshow": {
     "slide_type": ""
    },
    "tags": []
   },
   "outputs": [],
   "source": [
    "weather_cleaned <- weather |>\n",
    "  dplyr::rename(year = Year) |>\n",
    "  dplyr::mutate(year = as.integer(year))"
   ]
  },
  {
   "cell_type": "markdown",
   "id": "a3dac93a-7fce-4bca-ac2e-157e8dbdb669",
   "metadata": {
    "editable": true,
    "slideshow": {
     "slide_type": ""
    },
    "tags": []
   },
   "source": [
    "```{admonition} Solution\n",
    ":class: dropdown\n",
    "``` R\n",
    "penguins |>\n",
    "  dplyr::left_join(weather_cleaned, by = \"year\")\n",
    "```\n",
    "```"
   ]
  },
  {
   "cell_type": "markdown",
   "id": "d5505ec2-7c22-46bd-a88f-0b5388091dbb",
   "metadata": {
    "editable": true,
    "slideshow": {
     "slide_type": ""
    },
    "tags": []
   },
   "source": [
    "## Acknowledgement\n",
    "\n",
    "The material in this notebook is adapted from Eliza Wood's [Tidyverse: Data\n",
    "wrangling & visualization](https://liza-wood.github.io/tidyverse_intro/) course,\n",
    "which is licensed under [Creative Commons BY-NC-SA\n",
    "4.0](https://creativecommons.org/licenses/by-nc-sa/4.0/). This in itself is\n",
    "based on material from [UC Davis's R-DAVIS\n",
    "course](https://gge-ucd.github.io/R-DAVIS/index.html), which draws heavily on\n",
    "[Carpentries](https://datacarpentry.org/R-ecology-lesson/) R lessons."
   ]
  },
  {
   "cell_type": "code",
   "execution_count": 12,
   "id": "506861e6-50e7-4088-9eb5-29ff5bdf34ae",
   "metadata": {
    "editable": true,
    "slideshow": {
     "slide_type": ""
    },
    "tags": [
     "remove-input"
    ]
   },
   "outputs": [
    {
     "data": {
      "text/html": [
       "\n",
       "  <style>\n",
       "  .quiz-question {\n",
       "      background-color: #6c63ff;\n",
       "      color: white;\n",
       "      padding: 12px;\n",
       "      border-radius: 10px;\n",
       "      font-weight: bold;\n",
       "      font-size: 1.2em;\n",
       "      margin-bottom: 10px;\n",
       "  }\n",
       "\n",
       "  .quiz-form {\n",
       "      margin-bottom: 20px;\n",
       "  }\n",
       "\n",
       "  .quiz-answer {\n",
       "      display: block;\n",
       "      background-color: #f2f2f2;\n",
       "      border: none;\n",
       "      border-radius: 10px;\n",
       "      padding: 10px;\n",
       "      margin: 5px 0;\n",
       "      font-size: 1em;\n",
       "      cursor: pointer;\n",
       "      text-align: left;\n",
       "      transition: background-color 0.3s;\n",
       "      width: 100%;\n",
       "  }\n",
       "\n",
       "  .quiz-answer:hover {\n",
       "      background-color: #e0e0e0;\n",
       "  }\n",
       "\n",
       "  .correct {\n",
       "      background-color: #4CAF50 !important;\n",
       "      color: white !important;\n",
       "      border: none;\n",
       "  }\n",
       "\n",
       "  .incorrect {\n",
       "      background-color: #D32F2F !important;\n",
       "      color: white !important;\n",
       "      border: none;\n",
       "  }\n",
       "\n",
       "  .feedback {\n",
       "      margin-top: 10px;\n",
       "      font-weight: bold;\n",
       "      font-size: 1em;\n",
       "  }\n",
       "  </style>\n",
       "\n",
       "  <script>\n",
       "  function handleAnswer(qid, aid, feedback, isCorrect) {\n",
       "      let buttons = document.querySelectorAll(\".answer-\" + qid);\n",
       "      buttons.forEach(btn => {\n",
       "          btn.classList.remove(\"correct\", \"incorrect\");\n",
       "      });\n",
       "\n",
       "      let selected = document.getElementById(aid);\n",
       "      selected.classList.add(isCorrect ? \"correct\" : \"incorrect\");\n",
       "\n",
       "      let feedbackBox = document.getElementById(\"feedback_\" + qid);\n",
       "      feedbackBox.innerHTML = feedback;\n",
       "      feedbackBox.style.color = isCorrect ? \"green\" : \"red\";\n",
       "  }\n",
       "  </script>\n",
       "  <div class=\"quiz-question\">What is the primary purpose of joining datasets?</div><form class=\"quiz-form\"><button type=\"button\" class=\"quiz-answer answer-1\" id=\"q1_a1\"\n",
       "         onclick=\"handleAnswer('1', 'q1_a1', 'Incorrect', false)\">\n",
       "         To delete rows with missing values</button><button type=\"button\" class=\"quiz-answer answer-1\" id=\"q1_a2\"\n",
       "         onclick=\"handleAnswer('1', 'q1_a2', 'Correct', true)\">\n",
       "         To combine multiple datasets based on common values</button><button type=\"button\" class=\"quiz-answer answer-1\" id=\"q1_a3\"\n",
       "         onclick=\"handleAnswer('1', 'q1_a3', 'Incorrect', false)\">\n",
       "         To sort data in a dataframe</button><button type=\"button\" class=\"quiz-answer answer-1\" id=\"q1_a4\"\n",
       "         onclick=\"handleAnswer('1', 'q1_a4', 'Incorrect', false)\">\n",
       "         To filter rows based on a condition</button><div class=\"feedback\" id=\"feedback_1\"></div>\n",
       "       <button type=\"submit\" style=\"position:absolute; left:-9999px; width:1px; height:1px; overflow:hidden;\">\n",
       "         Submit\n",
       "       </button>\n",
       "       </form><hr><div class=\"quiz-question\">In a left join, what happens to the rows in the left dataframe that do not have matching values in the right dataframe?</div><form class=\"quiz-form\"><button type=\"button\" class=\"quiz-answer answer-2\" id=\"q2_a1\"\n",
       "         onclick=\"handleAnswer('2', 'q2_a1', 'Incorrect', false)\">\n",
       "         They are removed</button><button type=\"button\" class=\"quiz-answer answer-2\" id=\"q2_a2\"\n",
       "         onclick=\"handleAnswer('2', 'q2_a2', 'Correct', true)\">\n",
       "         They are retained with `NA` values for the column from the right dataframe</button><button type=\"button\" class=\"quiz-answer answer-2\" id=\"q2_a3\"\n",
       "         onclick=\"handleAnswer('2', 'q2_a3', 'Incorrect', false)\">\n",
       "         They are duplicated</button><button type=\"button\" class=\"quiz-answer answer-2\" id=\"q2_a4\"\n",
       "         onclick=\"handleAnswer('2', 'q2_a4', 'Incorrect', false)\">\n",
       "         They are sorted</button><div class=\"feedback\" id=\"feedback_2\"></div>\n",
       "       <button type=\"submit\" style=\"position:absolute; left:-9999px; width:1px; height:1px; overflow:hidden;\">\n",
       "         Submit\n",
       "       </button>\n",
       "       </form><hr><div class=\"quiz-question\">What is a potential issue with joining datasets on columns of type double?</div><form class=\"quiz-form\"><button type=\"button\" class=\"quiz-answer answer-3\" id=\"q3_a1\"\n",
       "         onclick=\"handleAnswer('3', 'q3_a1', 'Incorrect', false)\">\n",
       "         They result in faster joins</button><button type=\"button\" class=\"quiz-answer answer-3\" id=\"q3_a2\"\n",
       "         onclick=\"handleAnswer('3', 'q3_a2', 'Correct', true)\">\n",
       "         They may cause numerical imprecision and incorrect matches</button><button type=\"button\" class=\"quiz-answer answer-3\" id=\"q3_a3\"\n",
       "         onclick=\"handleAnswer('3', 'q3_a3', 'Incorrect', false)\">\n",
       "         They automatically resolve missing values</button><button type=\"button\" class=\"quiz-answer answer-3\" id=\"q3_a4\"\n",
       "         onclick=\"handleAnswer('3', 'q3_a4', 'Incorrect', false)\">\n",
       "         They are not supported by the `dplyr` package</button><div class=\"feedback\" id=\"feedback_3\"></div>\n",
       "       <button type=\"submit\" style=\"position:absolute; left:-9999px; width:1px; height:1px; overflow:hidden;\">\n",
       "         Submit\n",
       "       </button>\n",
       "       </form><hr>"
      ]
     },
     "metadata": {},
     "output_type": "display_data"
    }
   ],
   "source": [
    "# Call the function to display quiz interactively:\n",
    "source(\"../../R_functions/quiz_renderer.R\")\n",
    "show_quiz_from_json(\"questions/summary_combining_datasets.json\")"
   ]
  },
  {
   "cell_type": "code",
   "execution_count": null,
   "id": "7b40d8b3-b991-48b9-8ddf-65b2763c6435",
   "metadata": {
    "editable": true,
    "slideshow": {
     "slide_type": ""
    },
    "tags": []
   },
   "outputs": [],
   "source": []
  }
 ],
 "metadata": {
  "kernelspec": {
   "display_name": "R",
   "language": "R",
   "name": "ir"
  },
  "language_info": {
   "codemirror_mode": "r",
   "file_extension": ".r",
   "mimetype": "text/x-r-source",
   "name": "R",
   "pygments_lexer": "r",
   "version": "4.3.3"
  }
 },
 "nbformat": 4,
 "nbformat_minor": 5
}
