{
 "cells": [
  {
   "cell_type": "markdown",
   "id": "8db8243f-97d5-433c-8d30-93e3703cf580",
   "metadata": {
    "editable": true,
    "slideshow": {
     "slide_type": ""
    },
    "tags": []
   },
   "source": [
    "# Combining Datasets\n",
    "\n",
    "## Download Rmd Version\n",
    "\n",
    "If you wish to engage with this course content via Rmd, then please click the link below to download the Rmd file.\n",
    "\n",
    "Exercises incomplete:\n",
    "[Download Combining_datasets.Rmd](rmarkdown/Combining_datasets.Rmd)\n",
    "Exercises complete:\n",
    "[Download Combining_datasets_complete.Rmd](rmarkdown/Combining_datasets_complete.Rmd)\n",
    "\n",
    "## Learning Objectives\n",
    "- Understand the purpose and methods of joining dataset in R using the `dplyr` package\n",
    "- Perform left joins to combine datasets based on common columns\n",
    "- Handle and resolve issues that arise from repeated keys during joins\n",
    "- Recognize and avoid pitfalls related to joining on columns with double data types\n",
    "\n",
    "## Joining datasets\n",
    "\n",
    "In your data wrangling journey, you will often find yourself wanting to combine\n",
    "one dataframe with some kind of supplementary or partner dataframe. In our\n",
    "case, we have the penguins and weather data stored separately, but if we ever\n",
    "wanted to explore any relationships between them, we'd ideally want them in a\n",
    "single dataframe. This requires lining up the observations and variables\n",
    "in the datasets appropriately, something which is accomplished by performing\n",
    "appropriate **joins**.  \n",
    "  \n",
    "The key to joining is to identify the variables by which you want to join the\n",
    "data. That is, we want to ask the question: which columns in each data are the\n",
    "ones that link them together? In some cases these may be one-to-one matches\n",
    "(e.g. ID numbers to IDs numbers), or in other cases there is data at different\n",
    "levels that need to be lined up.\n",
    "\n",
    "\n",
    "### Left joins\n",
    "\n",
    "There are several kinds of join function in `dplyr`, but we'll just focus on\n",
    "`left_join` and leave you to explore the others for yourself.\n",
    "\n",
    "Like all the join functions, `left_join` takes three arguments: the two dataframes\n",
    "you'd like to join, and the name of the column (or columns) by which to join.\n",
    "\n",
    "```R\n",
    "dplyr::left_join(data_left, data_right, by = <cols_to_join_on>)\n",
    "```\n",
    "\n",
    "The way `left_join` works is to match up the columns given in the `by` column\n",
    "and create a new dataframe by pasting new columns from `data_right` alongside\n",
    "the columns from `data_left`. As many rows from `data_right` are brought in as\n",
    "possible. The 'left' in `left_join` indicates that we're keeping everything from\n",
    "the 'left' dataframe (i.e. the first one) and joining the other dataframe *onto*\n",
    "the 'left' one.\n",
    "\n",
    "It's helpful to use small, toy dataframes to explore how joins work (or remind\n",
    "yourself after a period of time away)."
   ]
  },
  {
   "cell_type": "code",
   "execution_count": 2,
   "id": "fc25cc0d-5194-4893-ad28-4a9798642175",
   "metadata": {
    "editable": true,
    "slideshow": {
     "slide_type": ""
    },
    "tags": []
   },
   "outputs": [],
   "source": [
    "df1 <- data.frame(colA = c(1, 2, 3, 4),\n",
    "                  colB = c(2021, 2022, 2023, 2024),\n",
    "                  colC = c('a', 'b', 'c', 'd'))\n",
    "\n",
    "df2 <- data.frame(colA = c(1, 3),\n",
    "                  colD = c('foo', 'bar'),\n",
    "                  colE = c('dog', 'cat'))"
   ]
  },
  {
   "cell_type": "code",
   "execution_count": 3,
   "id": "e74a2dad-8487-4ff4-8035-c529bd0d819f",
   "metadata": {
    "editable": true,
    "slideshow": {
     "slide_type": ""
    },
    "tags": []
   },
   "outputs": [
    {
     "name": "stdout",
     "output_type": "stream",
     "text": [
      "  colA colB colC\n",
      "1    1 2021    a\n",
      "2    2 2022    b\n",
      "3    3 2023    c\n",
      "4    4 2024    d\n"
     ]
    }
   ],
   "source": [
    "df1"
   ]
  },
  {
   "cell_type": "code",
   "execution_count": 4,
   "id": "601de4a4-5342-4443-a94a-9496b1283917",
   "metadata": {
    "editable": true,
    "slideshow": {
     "slide_type": ""
    },
    "tags": []
   },
   "outputs": [
    {
     "name": "stdout",
     "output_type": "stream",
     "text": [
      "  colA colD colE\n",
      "1    1  foo  dog\n",
      "2    3  bar  cat\n"
     ]
    }
   ],
   "source": [
    "df2"
   ]
  },
  {
   "cell_type": "markdown",
   "id": "39426dbb-ce2e-4add-a369-d4bc2dc357d3",
   "metadata": {
    "editable": true,
    "slideshow": {
     "slide_type": ""
    },
    "tags": []
   },
   "source": [
    "Now let's join `df2` onto `df1` by the column `colA`:"
   ]
  },
  {
   "cell_type": "code",
   "execution_count": 5,
   "id": "6cbeeacd-8ab6-4054-97cb-e78960055176",
   "metadata": {
    "editable": true,
    "slideshow": {
     "slide_type": ""
    },
    "tags": []
   },
   "outputs": [
    {
     "name": "stdout",
     "output_type": "stream",
     "text": [
      "  colA colB colC colD colE\n",
      "1    1 2021    a  foo  dog\n",
      "2    2 2022    b <NA> <NA>\n",
      "3    3 2023    c  bar  cat\n",
      "4    4 2024    d <NA> <NA>\n"
     ]
    }
   ],
   "source": [
    "df1 |>\n",
    "  dplyr::left_join(df2, by = \"colA\")"
   ]
  },
  {
   "cell_type": "markdown",
   "id": "66b762c0-a1b1-45aa-801c-cc48612f3695",
   "metadata": {
    "editable": true,
    "slideshow": {
     "slide_type": ""
    },
    "tags": []
   },
   "source": [
    "Notice:\n",
    "- All the data from the left-hand dataframe, `df1`, is kept (columns `colA` -- `colC`).\n",
    "- The data from the right-hand dataframe `df2` has been brought over\n",
    "  for the rows where the 'by' column `colA` has matching values in the\n",
    "  left-hand dataframe `df1`.\n",
    "  \n",
    "- The rows where there aren't matching values in the 'by' column `colA` have\n",
    "  missing values for the other right-hand dataframe columns (`colD` and `colE`\n",
    "  in this case).\n",
    "\n",
    "\n",
    "### Exercise: left join practice\n",
    "\n",
    "Suppose now the right hand dataframe is as follows:\n"
   ]
  },
  {
   "cell_type": "code",
   "execution_count": 6,
   "id": "51933e3a-41a4-437f-b1e9-8e6b36b684ac",
   "metadata": {
    "editable": true,
    "slideshow": {
     "slide_type": ""
    },
    "tags": []
   },
   "outputs": [],
   "source": [
    "df2 <- data.frame(colA = c(1, 3, 2, 4, 5),\n",
    "                  colD = c('foo', 'bar', 'baz', 'qux', 'foo'),\n",
    "                  colE = c('dog', 'cat', 'mouse', 'rabbit', 'horse'))"
   ]
  },
  {
   "cell_type": "markdown",
   "id": "9c47f1c7-e137-4498-8153-d016310c6ad6",
   "metadata": {
    "editable": true,
    "slideshow": {
     "slide_type": ""
    },
    "tags": []
   },
   "source": [
    "Can you guess what the output of `dplyr::left_join(df1, df2, by = \"colA\")` will\n",
    "be? Check your guess with code below.\n",
    "\n",
    "```{admonition} Solution\n",
    ":class: dropdown\n",
    "```R\n",
    "df1 |>\n",
    "  dplyr::left_join(df2, by = \"colA\")\n",
    "```\n",
    "```\n",
    "\n",
    "Now what if you swap the order of `df1` and `df2`? Guess the output of\n",
    "`dplyr::left_join(df2, df1, by = \"colA\")` and check your answer below."
   ]
  },
  {
   "cell_type": "code",
   "execution_count": 7,
   "id": "8b6e551d-82e7-4d24-84da-b414c090cb5d",
   "metadata": {
    "editable": true,
    "slideshow": {
     "slide_type": ""
    },
    "tags": []
   },
   "outputs": [
    {
     "name": "stdout",
     "output_type": "stream",
     "text": [
      "  colA colD   colE colB colC\n",
      "1    1  foo    dog 2021    a\n",
      "2    3  bar    cat 2023    c\n",
      "3    2  baz  mouse 2022    b\n",
      "4    4  qux rabbit 2024    d\n",
      "5    5  foo  horse   NA <NA>\n"
     ]
    }
   ],
   "source": [
    "df2 |>\n",
    "  dplyr::left_join(df1, by = \"colA\")"
   ]
  },
  {
   "cell_type": "markdown",
   "id": "bc228487-a705-4d0a-812d-39f54b99ae36",
   "metadata": {
    "editable": true,
    "slideshow": {
     "slide_type": ""
    },
    "tags": []
   },
   "source": [
    "### Optional exercise: repeated keys\n",
    "\n",
    "The values in the 'by' column(s) are sometimes called _keys_ for the join. The\n",
    "rules we described in the above example are not the whole story and can be\n",
    "complicated by the presence of repeated keys.\n",
    "\n",
    "What do you think happens if there are repeated keys? For example, try to\n",
    "guess the output of the following code:"
   ]
  },
  {
   "cell_type": "code",
   "execution_count": 8,
   "id": "dbacf196-b25d-44da-92da-aa6dba28ad9b",
   "metadata": {
    "editable": true,
    "slideshow": {
     "slide_type": ""
    },
    "tags": []
   },
   "outputs": [],
   "source": [
    "df1 <- data.frame(colA = c(1, 2, 3, 3),  # repeated key 3\n",
    "                  colB = c(2021, 2022, 2023, 2024),\n",
    "                  colC = c('a', 'b', 'c', 'd'))\n",
    "\n",
    "df2 <- data.frame(colA = c(1, 3),\n",
    "                  colD = c('foo', 'bar'),\n",
    "                  colE = c('dog', 'cat'))"
   ]
  },
  {
   "cell_type": "markdown",
   "id": "67335b6a-8338-433b-8a88-ad70d7a51f1d",
   "metadata": {
    "editable": true,
    "slideshow": {
     "slide_type": ""
    },
    "tags": []
   },
   "source": []
  },
  {
   "cell_type": "markdown",
   "id": "e64d7491-90be-4bfa-be6b-bb3ceca1581c",
   "metadata": {
    "editable": true,
    "slideshow": {
     "slide_type": ""
    },
    "tags": []
   },
   "source": [
    "```{admonition} Solution\n",
    ":class: dropdown\n",
    "```R\n",
    "df1 |>\n",
    "  dplyr::left_join(df2, by = \"colA\")\n",
    "```\n",
    "```\n",
    "\n",
    "Now what if we swap the roles of `df1` and `df2`?"
   ]
  },
  {
   "cell_type": "code",
   "execution_count": 9,
   "id": "b196eaa9-424f-4c70-bb1e-77d4d8a17c97",
   "metadata": {
    "editable": true,
    "slideshow": {
     "slide_type": ""
    },
    "tags": []
   },
   "outputs": [
    {
     "name": "stdout",
     "output_type": "stream",
     "text": [
      "  colA colD colE colB colC\n",
      "1    1  foo  dog 2021    a\n",
      "2    3  bar  cat 2023    c\n",
      "3    3  bar  cat 2024    d\n"
     ]
    }
   ],
   "source": [
    "df2 |>\n",
    "  dplyr::left_join(df1, by = \"colA\")"
   ]
  },
  {
   "cell_type": "markdown",
   "id": "7a739b05-dc38-4e9f-a593-c5658b916f96",
   "metadata": {
    "editable": true,
    "slideshow": {
     "slide_type": ""
    },
    "tags": []
   },
   "source": [
    "#### Warning about doubles\n",
    "\n",
    "It's generally not a good idea to join on a 'by' column (or columns)\n",
    "that are of type double. This is because matching in the join will be done\n",
    "by an exact equality test on the doubles, which can create strange\n",
    "results due to numerical imprecision and be difficult to reproduce. Example: in\n",
    "the following, two doubles that look distinct are considered equal to\n",
    "`1 / 3 = 0.333...`, so 'match' on the `1 / 3` entry in data frame `x`."
   ]
  },
  {
   "cell_type": "code",
   "execution_count": 10,
   "id": "49848de5-6941-4f85-824b-40e09500b956",
   "metadata": {
    "editable": true,
    "slideshow": {
     "slide_type": ""
    },
    "tags": []
   },
   "outputs": [
    {
     "name": "stdout",
     "output_type": "stream",
     "text": [
      "       colA colB.x colB.y\n",
      "1 0.3333333   1000    bar\n",
      "2 0.6666667   2000   <NA>\n"
     ]
    }
   ],
   "source": [
    "x <- data.frame(colA = c(1 / 3, 2 / 3),\n",
    "                colB = c(1000, 2000))\n",
    "\n",
    "y <- data.frame(colA = c(0.33333333333333331, 0.33333333333333334),\n",
    "                colB = c(\"foo\", \"bar\"))\n",
    "\n",
    "dplyr::left_join(x, y, by = \"colA\")"
   ]
  },
  {
   "cell_type": "markdown",
   "id": "799f4541-593c-4b29-bbd6-8b351076f63e",
   "metadata": {
    "editable": true,
    "slideshow": {
     "slide_type": ""
    },
    "tags": []
   },
   "source": [
    "### Exercise: joining penguin and weather data\n",
    "\n",
    "Recall the penguin data from the `palmerpenguins` package. We're going to join\n",
    "this with some annual weather data, taken from the Palmer Station in Antarctica\n",
    "from 1989 - 2019 {cite}`palmer2023`."
   ]
  },
  {
   "cell_type": "code",
   "execution_count": 11,
   "id": "5b3c334b-ae3e-4a5b-9131-5333179d8786",
   "metadata": {
    "editable": true,
    "slideshow": {
     "slide_type": ""
    },
    "tags": []
   },
   "outputs": [
    {
     "name": "stdout",
     "output_type": "stream",
     "text": [
      "Rows: 35 Columns: 4\n",
      "── Column specification ────────────────────────────────────────────────────────\n",
      "Delimiter: \",\"\n",
      "dbl (4): Year, Average_temp, Max_temp, Min_temp\n",
      "\n",
      "ℹ Use `spec()` to retrieve the full column specification for this data.\n",
      "ℹ Specify the column types or set `show_col_types = FALSE` to quiet this message.\n",
      "# A tibble: 35 × 4\n",
      "    Year Average_temp Max_temp Min_temp\n",
      "   <dbl>        <dbl>    <dbl>    <dbl>\n",
      " 1  1989      NA           7.8    -11.1\n",
      " 2  1990      NA           8.7    -20.6\n",
      " 3  1991      NA           9.8    -18  \n",
      " 4  1992      NA          10.3    -24.7\n",
      " 5  1993      NA          10.1    -17.6\n",
      " 6  1994      -7.2         9      -25.6\n",
      " 7  1995       0.0613      9      -26  \n",
      " 8  1996      -0.642       9.6    -22.7\n",
      " 9  1997      -2.43        9.5    -25.2\n",
      "10  1998      -0.989       8.5    -21.7\n",
      "# ℹ 25 more rows\n",
      "# ℹ Use `print(n = ...)` to see more rows\n"
     ]
    }
   ],
   "source": [
    "library(palmerpenguins)  # loads `penguins` data\n",
    "weather <- readr::read_csv(\"./data/weather_annual.csv\")\n",
    "\n",
    "penguins\n",
    "weather"
   ]
  },
  {
   "cell_type": "markdown",
   "id": "7d38eea4-90e2-49fc-abd3-3a2b4da294a1",
   "metadata": {
    "editable": true,
    "slideshow": {
     "slide_type": ""
    },
    "tags": []
   },
   "source": [
    "Use a join to create a single dataframe that has all the penguin data and\n",
    "weather data combined. Hint: there are some subtleties to be aware of:\n",
    "- First think about which column(s) to join on -- a call to `dplyr::rename`\n",
    "  might be in order!\n",
    "- We should make sure that the 'by' column(s) to join on are of the same type.\n",
    "  Examine the kind of data in each dataframe closely and coerce if necessary!\n"
   ]
  },
  {
   "cell_type": "code",
   "execution_count": 12,
   "id": "a49c1174-10cc-44b9-9abc-eb34e61332b8",
   "metadata": {
    "editable": true,
    "slideshow": {
     "slide_type": ""
    },
    "tags": []
   },
   "outputs": [],
   "source": [
    "weather_cleaned <- weather |>\n",
    "  dplyr::rename(year = Year) |>\n",
    "  dplyr::mutate(year = as.integer(year))"
   ]
  },
  {
   "cell_type": "markdown",
   "id": "a3dac93a-7fce-4bca-ac2e-157e8dbdb669",
   "metadata": {
    "editable": true,
    "slideshow": {
     "slide_type": ""
    },
    "tags": []
   },
   "source": [
    "```{admonition} Solution\n",
    ":class: dropdown\n",
    "``` R\n",
    "penguins |>\n",
    "  dplyr::left_join(weather_cleaned, by = \"year\")\n",
    "```\n",
    "```"
   ]
  },
  {
   "cell_type": "markdown",
   "id": "d5505ec2-7c22-46bd-a88f-0b5388091dbb",
   "metadata": {
    "editable": true,
    "slideshow": {
     "slide_type": ""
    },
    "tags": []
   },
   "source": [
    "## Acknowledgement\n",
    "\n",
    "The material in this notebook is adapted from Eliza Wood's [Tidyverse: Data\n",
    "wrangling & visualization](https://liza-wood.github.io/tidyverse_intro/) course,\n",
    "which is licensed under [Creative Commons BY-NC-SA\n",
    "4.0](https://creativecommons.org/licenses/by-nc-sa/4.0/). This in itself is\n",
    "based on material from [UC Davis's R-DAVIS\n",
    "course](https://gge-ucd.github.io/R-DAVIS/index.html), which draws heavily on\n",
    "[Carpentries](https://datacarpentry.org/R-ecology-lesson/) R lessons."
   ]
  },
  {
   "cell_type": "code",
   "execution_count": 3,
   "id": "506861e6-50e7-4088-9eb5-29ff5bdf34ae",
   "metadata": {
    "editable": true,
    "slideshow": {
     "slide_type": ""
    },
    "tags": [
     "remove-input"
    ]
   },
   "outputs": [
    {
     "data": {
      "text/html": [
       "\n",
       "  <style>\n",
       "  .quiz-question {\n",
       "      background-color: #6c63ff;\n",
       "      color: white;\n",
       "      padding: 12px;\n",
       "      border-radius: 10px;\n",
       "      font-weight: bold;\n",
       "      font-size: 1.2em;\n",
       "      margin-bottom: 10px;\n",
       "  }\n",
       "\n",
       "  .quiz-form {\n",
       "      margin-bottom: 20px;\n",
       "  }\n",
       "\n",
       "  .quiz-answer {\n",
       "      display: block;\n",
       "      background-color: #f2f2f2;\n",
       "      border: none;\n",
       "      border-radius: 10px;\n",
       "      padding: 10px;\n",
       "      margin: 5px 0;\n",
       "      font-size: 1em;\n",
       "      cursor: pointer;\n",
       "      text-align: left;\n",
       "      transition: background-color 0.3s;\n",
       "      width: 100%;\n",
       "  }\n",
       "\n",
       "  .quiz-answer:hover {\n",
       "      background-color: #e0e0e0;\n",
       "  }\n",
       "\n",
       "  .correct {\n",
       "      background-color: #4CAF50 !important;\n",
       "      color: white !important;\n",
       "      border: none;\n",
       "  }\n",
       "\n",
       "  .incorrect {\n",
       "      background-color: #D32F2F !important;\n",
       "      color: white !important;\n",
       "      border: none;\n",
       "  }\n",
       "\n",
       "  .feedback {\n",
       "      margin-top: 10px;\n",
       "      font-weight: bold;\n",
       "      font-size: 1em;\n",
       "  }\n",
       "  </style>\n",
       "\n",
       "  <script>\n",
       "  function handleAnswer(qid, aid, feedback, isCorrect) {\n",
       "      let buttons = document.querySelectorAll(\".answer-\" + qid);\n",
       "      buttons.forEach(btn => {\n",
       "          btn.classList.remove(\"correct\", \"incorrect\");\n",
       "      });\n",
       "\n",
       "      let selected = document.getElementById(aid);\n",
       "      selected.classList.add(isCorrect ? \"correct\" : \"incorrect\");\n",
       "\n",
       "      let feedbackBox = document.getElementById(\"feedback_\" + qid);\n",
       "      feedbackBox.innerHTML = feedback;\n",
       "      feedbackBox.style.color = isCorrect ? \"green\" : \"red\";\n",
       "  }\n",
       "  </script>\n",
       "  <div class=\"quiz-question\">What is the primary purpose of joining datasets?</div><form class=\"quiz-form\"><button type=\"button\" class=\"quiz-answer answer-1\" id=\"q1_a1\"\n",
       "        onclick=\"handleAnswer('1', 'q1_a1', 'Incorrect', false)\">\n",
       "        To delete rows with missing values</button><button type=\"button\" class=\"quiz-answer answer-1\" id=\"q1_a2\"\n",
       "        onclick=\"handleAnswer('1', 'q1_a2', 'Correct', true)\">\n",
       "        To combine multiple datasets based on common values</button><button type=\"button\" class=\"quiz-answer answer-1\" id=\"q1_a3\"\n",
       "        onclick=\"handleAnswer('1', 'q1_a3', 'Incorrect', false)\">\n",
       "        To sort data in a dataframe</button><button type=\"button\" class=\"quiz-answer answer-1\" id=\"q1_a4\"\n",
       "        onclick=\"handleAnswer('1', 'q1_a4', 'Incorrect', false)\">\n",
       "        To filter rows based on a condition</button><div class=\"feedback\" id=\"feedback_1\"></div></form><hr><div class=\"quiz-question\">In a left join, what happens to the rows in the left dataframe that do not have matching values in the right dataframe?</div><form class=\"quiz-form\"><button type=\"button\" class=\"quiz-answer answer-2\" id=\"q2_a1\"\n",
       "        onclick=\"handleAnswer('2', 'q2_a1', 'Incorrect', false)\">\n",
       "        They are removed</button><button type=\"button\" class=\"quiz-answer answer-2\" id=\"q2_a2\"\n",
       "        onclick=\"handleAnswer('2', 'q2_a2', 'Correct', true)\">\n",
       "        They are retained with `NA` values for the column from the right dataframe</button><button type=\"button\" class=\"quiz-answer answer-2\" id=\"q2_a3\"\n",
       "        onclick=\"handleAnswer('2', 'q2_a3', 'Incorrect', false)\">\n",
       "        They are duplicated</button><button type=\"button\" class=\"quiz-answer answer-2\" id=\"q2_a4\"\n",
       "        onclick=\"handleAnswer('2', 'q2_a4', 'Incorrect', false)\">\n",
       "        They are sorted</button><div class=\"feedback\" id=\"feedback_2\"></div></form><hr><div class=\"quiz-question\">What is a potential issue with joining datasets on columns of type double?</div><form class=\"quiz-form\"><button type=\"button\" class=\"quiz-answer answer-3\" id=\"q3_a1\"\n",
       "        onclick=\"handleAnswer('3', 'q3_a1', 'Incorrect', false)\">\n",
       "        They result in faster joins</button><button type=\"button\" class=\"quiz-answer answer-3\" id=\"q3_a2\"\n",
       "        onclick=\"handleAnswer('3', 'q3_a2', 'Correct', true)\">\n",
       "        They may cause numerical imprecision and incorrect matches</button><button type=\"button\" class=\"quiz-answer answer-3\" id=\"q3_a3\"\n",
       "        onclick=\"handleAnswer('3', 'q3_a3', 'Incorrect', false)\">\n",
       "        They automatically resolve missing values</button><button type=\"button\" class=\"quiz-answer answer-3\" id=\"q3_a4\"\n",
       "        onclick=\"handleAnswer('3', 'q3_a4', 'Incorrect', false)\">\n",
       "        They are not supported by the `dplyr` package</button><div class=\"feedback\" id=\"feedback_3\"></div></form><hr>"
      ]
     },
     "metadata": {},
     "output_type": "display_data"
    }
   ],
   "source": [
    "library(jsonlite)\n",
    "library(IRdisplay)\n",
    "\n",
    "show_quiz_from_json <- function(path) {\n",
    "  quiz_data <- fromJSON(path, simplifyVector = FALSE)\n",
    "  \n",
    "  html <- '\n",
    "  <style>\n",
    "  .quiz-question {\n",
    "      background-color: #6c63ff;\n",
    "      color: white;\n",
    "      padding: 12px;\n",
    "      border-radius: 10px;\n",
    "      font-weight: bold;\n",
    "      font-size: 1.2em;\n",
    "      margin-bottom: 10px;\n",
    "  }\n",
    "\n",
    "  .quiz-form {\n",
    "      margin-bottom: 20px;\n",
    "  }\n",
    "\n",
    "  .quiz-answer {\n",
    "      display: block;\n",
    "      background-color: #f2f2f2;\n",
    "      border: none;\n",
    "      border-radius: 10px;\n",
    "      padding: 10px;\n",
    "      margin: 5px 0;\n",
    "      font-size: 1em;\n",
    "      cursor: pointer;\n",
    "      text-align: left;\n",
    "      transition: background-color 0.3s;\n",
    "      width: 100%;\n",
    "  }\n",
    "\n",
    "  .quiz-answer:hover {\n",
    "      background-color: #e0e0e0;\n",
    "  }\n",
    "\n",
    "  .correct {\n",
    "      background-color: #4CAF50 !important;\n",
    "      color: white !important;\n",
    "      border: none;\n",
    "  }\n",
    "\n",
    "  .incorrect {\n",
    "      background-color: #D32F2F !important;\n",
    "      color: white !important;\n",
    "      border: none;\n",
    "  }\n",
    "\n",
    "  .feedback {\n",
    "      margin-top: 10px;\n",
    "      font-weight: bold;\n",
    "      font-size: 1em;\n",
    "  }\n",
    "  </style>\n",
    "\n",
    "  <script>\n",
    "  function handleAnswer(qid, aid, feedback, isCorrect) {\n",
    "      let buttons = document.querySelectorAll(\".answer-\" + qid);\n",
    "      buttons.forEach(btn => {\n",
    "          btn.classList.remove(\"correct\", \"incorrect\");\n",
    "      });\n",
    "\n",
    "      let selected = document.getElementById(aid);\n",
    "      selected.classList.add(isCorrect ? \"correct\" : \"incorrect\");\n",
    "\n",
    "      let feedbackBox = document.getElementById(\"feedback_\" + qid);\n",
    "      feedbackBox.innerHTML = feedback;\n",
    "      feedbackBox.style.color = isCorrect ? \"green\" : \"red\";\n",
    "  }\n",
    "  </script>\n",
    "  '\n",
    "\n",
    "  for (i in seq_along(quiz_data)) {\n",
    "    question <- quiz_data[[i]]\n",
    "    qid <- as.character(i)\n",
    "    html <- paste0(html, sprintf('<div class=\"quiz-question\">%s</div><form class=\"quiz-form\">', question$question))\n",
    "    \n",
    "    for (j in seq_along(question$answers)) {\n",
    "      answer <- question$answers[[j]]\n",
    "      aid <- sprintf(\"q%s_a%s\", i, j)\n",
    "      feedback <- gsub(\"'\", \"\\\\'\", answer$feedback)  # escape single quotes\n",
    "      correct <- tolower(substr(answer$feedback, 1, 7)) == \"correct\"\n",
    "      correct_js <- tolower(as.character(correct))  # \"true\" or \"false\"\n",
    "\n",
    "      html <- paste0(html, sprintf(\n",
    "        '<button type=\"button\" class=\"quiz-answer answer-%s\" id=\"%s\"\n",
    "        onclick=\"handleAnswer(\\'%s\\', \\'%s\\', \\'%s\\', %s)\">\n",
    "        %s</button>',\n",
    "        qid, aid, qid, aid, feedback, correct_js, answer$answer\n",
    "      ))\n",
    "    }\n",
    "    \n",
    "    html <- paste0(html, sprintf('<div class=\"feedback\" id=\"feedback_%s\"></div></form><hr>', qid))\n",
    "  }\n",
    "\n",
    "  display_html(html)\n",
    "}\n",
    "\n",
    "# Call the function to display quiz interactively:\n",
    "show_quiz_from_json(\"questions/summary_combining_datasets.json\")"
   ]
  },
  {
   "cell_type": "code",
   "execution_count": null,
   "id": "7b40d8b3-b991-48b9-8ddf-65b2763c6435",
   "metadata": {
    "editable": true,
    "slideshow": {
     "slide_type": ""
    },
    "tags": []
   },
   "outputs": [],
   "source": []
  }
 ],
 "metadata": {
  "kernelspec": {
   "display_name": "R",
   "language": "R",
   "name": "ir"
  },
  "language_info": {
   "codemirror_mode": "r",
   "file_extension": ".r",
   "mimetype": "text/x-r-source",
   "name": "R",
   "pygments_lexer": "r",
   "version": "4.3.3"
  }
 },
 "nbformat": 4,
 "nbformat_minor": 5
}
