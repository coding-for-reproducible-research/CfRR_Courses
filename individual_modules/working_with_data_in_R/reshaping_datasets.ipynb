{
 "cells": [
  {
   "cell_type": "markdown",
   "id": "cf62a1e5-e9d6-4173-9c4c-4a4643790f6c",
   "metadata": {
    "editable": true,
    "slideshow": {
     "slide_type": ""
    },
    "tags": []
   },
   "source": [
    "# Reshaping Data\n",
    "\n",
    "## Download Rmd Version\n",
    "\n",
    "If you wish to engage with this course content via Rmd, then please click the link below to download the Rmd file.\n",
    "\n",
    "Exercises incomplete:\n",
    "[Download Reshaping_data.Rmd](rmarkdown/Reshaping_data.Rmd)\n",
    "Exercises complete:\n",
    "[Download Reshaping_data_complete.Rmd](rmarkdown/Reshaping_data_complete.Rmd)\n",
    "\n",
    "## Learning Objectives\n",
    "- Understand the concept of reshaping data and its importance in data analysis\n",
    "- Learn how to use the `pivot_longer` function from the `tidyr` package to convert matrix format data into tidy format\n",
    "- Understand how to use the `pivot_wider` function from the `tidyr` package to convert tidy format data into matrix format\n",
    "- Gain experience in reshaping dataset using practical examples and exercises\n",
    "- Explore the `tidyr` package and its capabilities for data manipulation\n",
    "  \n",
    "## Introduction\n",
    "\n",
    "There are often cases where you'd like to change the shape of your data, by\n",
    "which we mean to change the structure of the columns and/or rows. The `tidyr`\n",
    "package contains functions to support this.\n",
    "\n",
    "As an example dataset for reshaping, we'll use data on territorial fossil CO2\n",
    "emissions by country (Friedlingstein et al. 2023){cite}`friedlingstein2023`.\n",
    "\n",
    "**Note:** To read the data, we'll use a call to the `read_excel` function from\n",
    "the `readxl` package. We only touched on this in notebook 2, so don't worry\n",
    "about understanding exactly how the data is read in. Treat this as a glimpse of\n",
    "seeing the Tidyverse in action 'in the wild'. You can read up about `read_excel`\n",
    "as extra homework, if you're keen :-)"
   ]
  },
  {
   "cell_type": "code",
   "execution_count": 2,
   "id": "c58909cc-1c1f-4314-b81f-9da4258d4162",
   "metadata": {
    "editable": true,
    "slideshow": {
     "slide_type": ""
    },
    "tags": []
   },
   "outputs": [
    {
     "name": "stdout",
     "output_type": "stream",
     "text": [
      "New names:\n",
      "• `` -> `...1`\n",
      "# A tibble: 173 × 11\n",
      "    Year World Africa    Asia `Central America` Europe `Middle East`\n",
      "   <int> <dbl>  <dbl>   <dbl>             <dbl>  <dbl>         <dbl>\n",
      " 1  1850  53.7      0 0.00360                 0   48.2             0\n",
      " 2  1851  54.2      0 0                       0   47.5             0\n",
      " 3  1852  56.6      0 0                       0   49.2             0\n",
      " 4  1853  59.3      0 0                       0   51.0             0\n",
      " 5  1854  69.6      0 0                       0   60.5             0\n",
      " 6  1855  71.0      0 0.0109                  0   60.5             0\n",
      " 7  1856  75.7      0 0                       0   64.6             0\n",
      " 8  1857  76.4      0 0                       0   65.0             0\n",
      " 9  1858  77.6      0 0.123                   0   65.9             0\n",
      "10  1859  82.3      0 0.190                   0   69.5             0\n",
      "# ℹ 163 more rows\n",
      "# ℹ 4 more variables: `North America` <dbl>, Oceania <dbl>,\n",
      "#   `South America` <dbl>, Bunkers <dbl>\n",
      "# ℹ Use `print(n = ...)` to see more rows\n"
     ]
    }
   ],
   "source": [
    "emissions <- readxl::read_excel(\"data/National_Fossil_Carbon_Emissions_2023v1.0.xlsx\",\n",
    "                                sheet = \"Territorial Emissions\",\n",
    "                                skip = 11) |>\n",
    "  dplyr::rename(Year = `...1`) |>  # missing column name in data got assigned name `...1` when reading\n",
    "  dplyr::select(Year, World, Africa, Asia, `Central America`, Europe,\n",
    "                `Middle East`, `North America`, Oceania, `South America`,\n",
    "                Bunkers) |>\n",
    "  dplyr::mutate(Year = as.integer(Year))\n",
    "\n",
    "print(emissions)"
   ]
  },
  {
   "cell_type": "markdown",
   "id": "ba0116e6-d6f7-4f2f-b9a7-17983b2e93ce",
   "metadata": {
    "editable": true,
    "slideshow": {
     "slide_type": ""
    },
    "tags": []
   },
   "source": [
    "## Converting to/from tidy format\n",
    "\n",
    "One scenario for reshaping data is when we receive data that is not in tidy\n",
    "format and want to transform it so that it is tidy.\n",
    "\n",
    "In the emissions data above, notice how each column other than 'Year'\n",
    "corresponds to a region of the world (or the category 'Bunkers'):"
   ]
  },
  {
   "cell_type": "code",
   "execution_count": 3,
   "id": "49936b8f-d02a-4807-9715-70f8d943203b",
   "metadata": {
    "editable": true,
    "slideshow": {
     "slide_type": ""
    },
    "tags": []
   },
   "outputs": [
    {
     "name": "stdout",
     "output_type": "stream",
     "text": [
      " [1] \"Year\"            \"World\"           \"Africa\"          \"Asia\"           \n",
      " [5] \"Central America\" \"Europe\"          \"Middle East\"     \"North America\"  \n",
      " [9] \"Oceania\"         \"South America\"   \"Bunkers\"        \n"
     ]
    }
   ],
   "source": [
    "colnames(emissions)"
   ]
  },
  {
   "cell_type": "markdown",
   "id": "4e2ce6a1-6e74-4981-9695-87038b2d5a98",
   "metadata": {
    "editable": true,
    "slideshow": {
     "slide_type": ""
    },
    "tags": []
   },
   "source": [
    "\n",
    "This is not in tidy format. The observations correspond to year-region pairs,\n",
    "while the variable being measured is territorial emissions. But the data is\n",
    "structured as a matrix, where to get the emissions value for a region and year\n",
    "you look up the entry for the appropriate row and column.\n",
    "\n",
    "What we'd like to do is create a dataframe with columns 'Year', 'Country' and\n",
    "'Territorial_emissions' columns, with rows corresponding to year-region pairs.\n",
    "\n",
    "\n",
    "### Matrix format to tidy format with `pivot_longer`\n",
    "\n",
    "We can use the function `pivot_longer` from the `tidyr` package to help us make\n",
    "the required transformation. Like most of the Tidyverse functions, there are a\n",
    "lot of possible parameters to use in this function, but we only need to use it\n",
    "as follows:\n",
    "\n",
    "```R        \n",
    "tidyr::pivot_longer(data, <columns-to-gather>, names_to = \"Name_for_gathered_columns\", values_to = \"Variable_name\")\n",
    "```\n",
    "\n",
    "where\n",
    "\n",
    "-   `data` is the dataframe to transform.\n",
    "-   `<columns-to-gather>` is a specification of the columns that should be\n",
    "    gathered into a new column.\n",
    "-   `names_to` defines the name of the new column to create, whose values will\n",
    "    be the names in `<columns-to-gather>`.\n",
    "-   `values_to` is the name of a new column that contains the values that were\n",
    "    in the columns `<columns-to-gather>` (i.e. the variable that the original\n",
    "    data was giving).\n",
    "\n",
    "**Note**: More specifically, `<columns-to-gather>` is a so-called 'tidy-select'.\n",
    "This is a way of specifying collections of columns within the Tidyverse.\n",
    "Unfortunately details of this are outside the scope of this course, but you can\n",
    "learn more by running `?tidyr::tidyr_tidy_select` in the R console. We will\n",
    "explain our use of 'tidy-select' in code comments below.\n",
    "\n",
    "The behaviour of `pivot_longer` is much easier to see with an example. The\n",
    "following creates a new column called 'Region' that contains all the column\n",
    "names in `emissions` from 'World' to 'Bunkers'. The values from these columns\n",
    "are put into a new column called 'Territorial_emissions'."
   ]
  },
  {
   "cell_type": "code",
   "execution_count": 4,
   "id": "0c0c0b38-41d2-4c3f-88f4-9faf5a40ed5c",
   "metadata": {
    "editable": true,
    "slideshow": {
     "slide_type": ""
    },
    "tags": []
   },
   "outputs": [
    {
     "name": "stdout",
     "output_type": "stream",
     "text": [
      "# A tibble: 1,730 × 3\n",
      "    Year Region          Territorial_emissions\n",
      "   <int> <chr>                           <dbl>\n",
      " 1  1850 World                        53.7    \n",
      " 2  1850 Africa                        0      \n",
      " 3  1850 Asia                          0.00360\n",
      " 4  1850 Central America               0      \n",
      " 5  1850 Europe                       48.2    \n",
      " 6  1850 Middle East                   0      \n",
      " 7  1850 North America                 5.42   \n",
      " 8  1850 Oceania                       0.0306 \n",
      " 9  1850 South America                 0      \n",
      "10  1850 Bunkers                       0      \n",
      "# ℹ 1,720 more rows\n",
      "# ℹ Use `print(n = ...)` to see more rows\n"
     ]
    }
   ],
   "source": [
    "emissions_tidy <- emissions |>\n",
    "  tidyr::pivot_longer(World:Bunkers,  # All columns from 'World' to 'Bunkers'\n",
    "                      names_to = \"Region\",\n",
    "                      values_to = \"Territorial_emissions\")\n",
    "\n",
    "print(emissions_tidy)"
   ]
  },
  {
   "cell_type": "markdown",
   "id": "499d1e9a-d9a7-45e9-b331-d43e08dc38cb",
   "metadata": {
    "editable": true,
    "slideshow": {
     "slide_type": ""
    },
    "tags": []
   },
   "source": [
    "Notice how each row corresponds to a year-region pair. The\n",
    "'Territorial_emissions' values line up with the year and region they\n",
    "corresponded to in the original data.\n",
    "\n",
    "Notice that the number of rows is equal to the number of regions multiplied by\n",
    "the number of years, as we'd expect:"
   ]
  },
  {
   "cell_type": "code",
   "execution_count": 5,
   "id": "4ceee32c-9ce5-48ed-ac75-217e9a5e6a9d",
   "metadata": {
    "editable": true,
    "slideshow": {
     "slide_type": ""
    },
    "tags": []
   },
   "outputs": [
    {
     "name": "stdout",
     "output_type": "stream",
     "text": [
      "Number of rows in emissions_tidy: 1730 \n",
      "Number of year-region pairs: 1730 \n"
     ]
    }
   ],
   "source": [
    "# Number of rows in tidy dataframe\n",
    "cat(\"Number of rows in emissions_tidy:\", nrow(emissions_tidy), \"\\n\")\n",
    "\n",
    "# Number of year-region pairs\n",
    "# (Use ncol(emissions) - 1 so not to include the year column)\n",
    "cat(\"Number of year-region pairs:\", length(emissions$Year) * (ncol(emissions) - 1), \"\\n\")"
   ]
  },
  {
   "cell_type": "markdown",
   "id": "c9d47a1f-77af-44f1-8477-2f63e4697fe4",
   "metadata": {
    "editable": true,
    "slideshow": {
     "slide_type": ""
    },
    "tags": []
   },
   "source": [
    "In general, `pivot_longer` is called such because it make the table of data\n",
    "'longer' i.e. have more rows.\n",
    "\n",
    "\n",
    "#### Exercise: pivoting\n",
    "\n",
    "What do you think the output of the following `pivot_longer` will be?\n",
    "\n",
    "```R   \n",
    "emissions |>\n",
    "  tidyr::pivot_longer(!Africa,  # this means all columns except 'Africa'\n",
    "                      names_to = \"Names_column\",\n",
    "                      values_to = \"Territorial_emissions?\")\n",
    "```\n",
    "\n",
    "Run the code below to see if you're correct!"
   ]
  },
  {
   "cell_type": "markdown",
   "id": "a65d10d2-878b-47a2-b133-511b838dff8f",
   "metadata": {
    "editable": true,
    "slideshow": {
     "slide_type": ""
    },
    "tags": []
   },
   "source": [
    "```{admonition} Solution\n",
    ":class: dropdown\n",
    "``` R\n",
    "emissions |>\n",
    "  tidyr::pivot_longer(!Africa,  # this means all columns except 'Africa'\n",
    "                      names_to = \"Names_column\",\n",
    "                      values_to = \"Territorial_emissions?\")\n",
    "```"
   ]
  },
  {
   "cell_type": "markdown",
   "id": "dcb9acab-d603-433f-a469-9838f9e2ab60",
   "metadata": {
    "editable": true,
    "slideshow": {
     "slide_type": ""
    },
    "tags": []
   },
   "source": [
    "What do values in the 'Africa' and 'Territorial_emissions?' columns correspond\n",
    "to in the following output?"
   ]
  },
  {
   "cell_type": "code",
   "execution_count": 6,
   "id": "d4195bec-146a-48c0-8370-6f84943d6f53",
   "metadata": {
    "editable": true,
    "slideshow": {
     "slide_type": ""
    },
    "tags": []
   },
   "outputs": [
    {
     "name": "stdout",
     "output_type": "stream",
     "text": [
      "# A tibble: 173 × 3\n",
      "   Africa Names_column `Territorial_emissions?`\n",
      "    <dbl> <chr>                           <dbl>\n",
      " 1      0 Year                             1850\n",
      " 2      0 Year                             1851\n",
      " 3      0 Year                             1852\n",
      " 4      0 Year                             1853\n",
      " 5      0 Year                             1854\n",
      " 6      0 Year                             1855\n",
      " 7      0 Year                             1856\n",
      " 8      0 Year                             1857\n",
      " 9      0 Year                             1858\n",
      "10      0 Year                             1859\n",
      "# ℹ 163 more rows\n",
      "# ℹ Use `print(n = ...)` to see more rows\n"
     ]
    }
   ],
   "source": [
    "emissions |>\n",
    "  tidyr::pivot_longer(!Africa,  # this means all columns except 'Africa'\n",
    "                      names_to = \"Names_column\",\n",
    "                      values_to = \"Territorial_emissions?\") |>\n",
    "  dplyr::filter(Names_column == \"Year\")"
   ]
  },
  {
   "cell_type": "markdown",
   "id": "e185fd62-d928-464a-b973-4bbf48793971",
   "metadata": {
    "editable": true,
    "slideshow": {
     "slide_type": ""
    },
    "tags": []
   },
   "source": [
    "### Tidy format to matrix format with `pivot_wider`\n",
    "\n",
    "What if we want to go the other way, i.e. turn a tidy dataframe into a matrix\n",
    "format? In that case, we can use `pivot_wider` from the `tidyr` package.\n",
    "\n",
    "\n",
    "```R\n",
    "tidyr::pivot_wider(data, names_from = <column-to-make-new-columns-from>, values_from = <column-of-variable>)\n",
    "```\n",
    "\n",
    "where\n",
    "\n",
    "-   `data` is the dataframe to transform.\n",
    "-   `names_from` is the column whose values will be the names of new columns in\n",
    "    the new dataframe.\n",
    "-   `values_from` is the name of a column whose values will go into the 'cells'\n",
    "    of the new dataframe.\n",
    "\n",
    "To see this in action, the following use of `pivot_wider` will take our tidied\n",
    "emissions data and put it back into the original 'matrix' format, where regions\n",
    "corresponded to columns and the entries gave the emissions for each year-region\n",
    "combination.\n"
   ]
  },
  {
   "cell_type": "code",
   "execution_count": 7,
   "id": "25f16771-5c69-4f8e-bd22-eab845e92e6c",
   "metadata": {
    "editable": true,
    "slideshow": {
     "slide_type": ""
    },
    "tags": []
   },
   "outputs": [
    {
     "name": "stdout",
     "output_type": "stream",
     "text": [
      "# A tibble: 173 × 11\n",
      "    Year World Africa    Asia `Central America` Europe `Middle East`\n",
      "   <int> <dbl>  <dbl>   <dbl>             <dbl>  <dbl>         <dbl>\n",
      " 1  1850  53.7      0 0.00360                 0   48.2             0\n",
      " 2  1851  54.2      0 0                       0   47.5             0\n",
      " 3  1852  56.6      0 0                       0   49.2             0\n",
      " 4  1853  59.3      0 0                       0   51.0             0\n",
      " 5  1854  69.6      0 0                       0   60.5             0\n",
      " 6  1855  71.0      0 0.0109                  0   60.5             0\n",
      " 7  1856  75.7      0 0                       0   64.6             0\n",
      " 8  1857  76.4      0 0                       0   65.0             0\n",
      " 9  1858  77.6      0 0.123                   0   65.9             0\n",
      "10  1859  82.3      0 0.190                   0   69.5             0\n",
      "# ℹ 163 more rows\n",
      "# ℹ 4 more variables: `North America` <dbl>, Oceania <dbl>,\n",
      "#   `South America` <dbl>, Bunkers <dbl>\n",
      "# ℹ Use `print(n = ...)` to see more rows\n"
     ]
    }
   ],
   "source": [
    "emissions_tidy |>\n",
    "  tidyr::pivot_wider(names_from = Region, values_from = Territorial_emissions)"
   ]
  },
  {
   "cell_type": "markdown",
   "id": "3fe35f14-c552-4f71-a0f2-064eefcf0bde",
   "metadata": {
    "editable": true,
    "slideshow": {
     "slide_type": ""
    },
    "tags": []
   },
   "source": [
    "## Acnowledgements\n",
    "\n",
    "We acknowledge the Global Carbon Project, which is responsible for the Global\n",
    "Carbon Budget and we thank the fossil carbon emissions modelling groups for\n",
    "producing and making available their model output.\n"
   ]
  },
  {
   "cell_type": "code",
   "execution_count": 1,
   "id": "03017bc4-3b3b-478c-9bad-ad29641c9699",
   "metadata": {
    "editable": true,
    "slideshow": {
     "slide_type": ""
    },
    "tags": [
     "remove-input"
    ]
   },
   "outputs": [
    {
     "data": {
      "text/html": [
       "\n",
       "  <style>\n",
       "  .quiz-question {\n",
       "      background-color: #6c63ff;\n",
       "      color: white;\n",
       "      padding: 12px;\n",
       "      border-radius: 10px;\n",
       "      font-weight: bold;\n",
       "      font-size: 1.2em;\n",
       "      margin-bottom: 10px;\n",
       "  }\n",
       "\n",
       "  .quiz-form {\n",
       "      margin-bottom: 20px;\n",
       "  }\n",
       "\n",
       "  .quiz-answer {\n",
       "      display: block;\n",
       "      background-color: #f2f2f2;\n",
       "      border: none;\n",
       "      border-radius: 10px;\n",
       "      padding: 10px;\n",
       "      margin: 5px 0;\n",
       "      font-size: 1em;\n",
       "      cursor: pointer;\n",
       "      text-align: left;\n",
       "      transition: background-color 0.3s;\n",
       "      width: 100%;\n",
       "  }\n",
       "\n",
       "  .quiz-answer:hover {\n",
       "      background-color: #e0e0e0;\n",
       "  }\n",
       "\n",
       "  .correct {\n",
       "      background-color: #4CAF50 !important;\n",
       "      color: white !important;\n",
       "      border: none;\n",
       "  }\n",
       "\n",
       "  .incorrect {\n",
       "      background-color: #D32F2F !important;\n",
       "      color: white !important;\n",
       "      border: none;\n",
       "  }\n",
       "\n",
       "  .feedback {\n",
       "      margin-top: 10px;\n",
       "      font-weight: bold;\n",
       "      font-size: 1em;\n",
       "  }\n",
       "  </style>\n",
       "\n",
       "  <script>\n",
       "  function handleAnswer(qid, aid, feedback, isCorrect) {\n",
       "      let buttons = document.querySelectorAll(\".answer-\" + qid);\n",
       "      buttons.forEach(btn => {\n",
       "          btn.classList.remove(\"correct\", \"incorrect\");\n",
       "      });\n",
       "\n",
       "      let selected = document.getElementById(aid);\n",
       "      selected.classList.add(isCorrect ? \"correct\" : \"incorrect\");\n",
       "\n",
       "      let feedbackBox = document.getElementById(\"feedback_\" + qid);\n",
       "      feedbackBox.innerHTML = feedback;\n",
       "      feedbackBox.style.color = isCorrect ? \"green\" : \"red\";\n",
       "  }\n",
       "  </script>\n",
       "  <div class=\"quiz-question\">What is the primary purpose of the pivot_longer function in the tidyr package?</div><form class=\"quiz-form\"><button type=\"button\" class=\"quiz-answer answer-1\" id=\"q1_a1\"\n",
       "        onclick=\"handleAnswer('1', 'q1_a1', 'Incorrect', false)\">\n",
       "        To merge two datasets</button><button type=\"button\" class=\"quiz-answer answer-1\" id=\"q1_a2\"\n",
       "        onclick=\"handleAnswer('1', 'q1_a2', 'Incorrect', false)\">\n",
       "        To spit a dataset into multiple datasets</button><button type=\"button\" class=\"quiz-answer answer-1\" id=\"q1_a3\"\n",
       "        onclick=\"handleAnswer('1', 'q1_a3', 'Correct', true)\">\n",
       "        To convert matrix format data into tidy format</button><button type=\"button\" class=\"quiz-answer answer-1\" id=\"q1_a4\"\n",
       "        onclick=\"handleAnswer('1', 'q1_a4', 'Incorrect', false)\">\n",
       "        To sort data in ascending order</button><div class=\"feedback\" id=\"feedback_1\"></div></form><hr><div class=\"quiz-question\">Which arguement in the pivot_wider function specifies the column whose values will become the names of new columns?</div><form class=\"quiz-form\"><button type=\"button\" class=\"quiz-answer answer-2\" id=\"q2_a1\"\n",
       "        onclick=\"handleAnswer('2', 'q2_a1', 'Incorrect', false)\">\n",
       "        names_to</button><button type=\"button\" class=\"quiz-answer answer-2\" id=\"q2_a2\"\n",
       "        onclick=\"handleAnswer('2', 'q2_a2', 'Incorrect', false)\">\n",
       "        values_to</button><button type=\"button\" class=\"quiz-answer answer-2\" id=\"q2_a3\"\n",
       "        onclick=\"handleAnswer('2', 'q2_a3', 'Correct', true)\">\n",
       "        names_from</button><button type=\"button\" class=\"quiz-answer answer-2\" id=\"q2_a4\"\n",
       "        onclick=\"handleAnswer('2', 'q2_a4', 'Incorrect', false)\">\n",
       "        values_from</button><div class=\"feedback\" id=\"feedback_2\"></div></form><hr><div class=\"quiz-question\">Which function is used to convert a tidy dataframe back into a matrix format?</div><form class=\"quiz-form\"><button type=\"button\" class=\"quiz-answer answer-3\" id=\"q3_a1\"\n",
       "        onclick=\"handleAnswer('3', 'q3_a1', 'Incorrect', false)\">\n",
       "        pivot_longer</button><button type=\"button\" class=\"quiz-answer answer-3\" id=\"q3_a2\"\n",
       "        onclick=\"handleAnswer('3', 'q3_a2', 'Correct', true)\">\n",
       "        pivot_wider</button><button type=\"button\" class=\"quiz-answer answer-3\" id=\"q3_a3\"\n",
       "        onclick=\"handleAnswer('3', 'q3_a3', 'Incorrect', false)\">\n",
       "        gather</button><button type=\"button\" class=\"quiz-answer answer-3\" id=\"q3_a4\"\n",
       "        onclick=\"handleAnswer('3', 'q3_a4', 'Incorrect', false)\">\n",
       "        spread</button><div class=\"feedback\" id=\"feedback_3\"></div></form><hr>"
      ]
     },
     "metadata": {},
     "output_type": "display_data"
    }
   ],
   "source": [
    "library(jsonlite)\n",
    "library(IRdisplay)\n",
    "\n",
    "show_quiz_from_json <- function(path) {\n",
    "  quiz_data <- fromJSON(path, simplifyVector = FALSE)\n",
    "  \n",
    "  html <- '\n",
    "  <style>\n",
    "  .quiz-question {\n",
    "      background-color: #6c63ff;\n",
    "      color: white;\n",
    "      padding: 12px;\n",
    "      border-radius: 10px;\n",
    "      font-weight: bold;\n",
    "      font-size: 1.2em;\n",
    "      margin-bottom: 10px;\n",
    "  }\n",
    "\n",
    "  .quiz-form {\n",
    "      margin-bottom: 20px;\n",
    "  }\n",
    "\n",
    "  .quiz-answer {\n",
    "      display: block;\n",
    "      background-color: #f2f2f2;\n",
    "      border: none;\n",
    "      border-radius: 10px;\n",
    "      padding: 10px;\n",
    "      margin: 5px 0;\n",
    "      font-size: 1em;\n",
    "      cursor: pointer;\n",
    "      text-align: left;\n",
    "      transition: background-color 0.3s;\n",
    "      width: 100%;\n",
    "  }\n",
    "\n",
    "  .quiz-answer:hover {\n",
    "      background-color: #e0e0e0;\n",
    "  }\n",
    "\n",
    "  .correct {\n",
    "      background-color: #4CAF50 !important;\n",
    "      color: white !important;\n",
    "      border: none;\n",
    "  }\n",
    "\n",
    "  .incorrect {\n",
    "      background-color: #D32F2F !important;\n",
    "      color: white !important;\n",
    "      border: none;\n",
    "  }\n",
    "\n",
    "  .feedback {\n",
    "      margin-top: 10px;\n",
    "      font-weight: bold;\n",
    "      font-size: 1em;\n",
    "  }\n",
    "  </style>\n",
    "\n",
    "  <script>\n",
    "  function handleAnswer(qid, aid, feedback, isCorrect) {\n",
    "      let buttons = document.querySelectorAll(\".answer-\" + qid);\n",
    "      buttons.forEach(btn => {\n",
    "          btn.classList.remove(\"correct\", \"incorrect\");\n",
    "      });\n",
    "\n",
    "      let selected = document.getElementById(aid);\n",
    "      selected.classList.add(isCorrect ? \"correct\" : \"incorrect\");\n",
    "\n",
    "      let feedbackBox = document.getElementById(\"feedback_\" + qid);\n",
    "      feedbackBox.innerHTML = feedback;\n",
    "      feedbackBox.style.color = isCorrect ? \"green\" : \"red\";\n",
    "  }\n",
    "  </script>\n",
    "  '\n",
    "\n",
    "  for (i in seq_along(quiz_data)) {\n",
    "    question <- quiz_data[[i]]\n",
    "    qid <- as.character(i)\n",
    "    html <- paste0(html, sprintf('<div class=\"quiz-question\">%s</div><form class=\"quiz-form\">', question$question))\n",
    "    \n",
    "    for (j in seq_along(question$answers)) {\n",
    "      answer <- question$answers[[j]]\n",
    "      aid <- sprintf(\"q%s_a%s\", i, j)\n",
    "      feedback <- gsub(\"'\", \"\\\\'\", answer$feedback)  # escape single quotes\n",
    "      correct <- tolower(substr(answer$feedback, 1, 7)) == \"correct\"\n",
    "      correct_js <- tolower(as.character(correct))  # \"true\" or \"false\"\n",
    "\n",
    "      html <- paste0(html, sprintf(\n",
    "        '<button type=\"button\" class=\"quiz-answer answer-%s\" id=\"%s\"\n",
    "        onclick=\"handleAnswer(\\'%s\\', \\'%s\\', \\'%s\\', %s)\">\n",
    "        %s</button>',\n",
    "        qid, aid, qid, aid, feedback, correct_js, answer$answer\n",
    "      ))\n",
    "    }\n",
    "    \n",
    "    html <- paste0(html, sprintf('<div class=\"feedback\" id=\"feedback_%s\"></div></form><hr>', qid))\n",
    "  }\n",
    "\n",
    "  display_html(html)\n",
    "}\n",
    "\n",
    "# Call the function to display quiz interactively:\n",
    "show_quiz_from_json(\"questions/summary_reshaping_data.json\")"
   ]
  },
  {
   "cell_type": "code",
   "execution_count": null,
   "id": "bcdbda55-a7e2-45a8-aa0d-24b367947335",
   "metadata": {
    "editable": true,
    "slideshow": {
     "slide_type": ""
    },
    "tags": []
   },
   "outputs": [],
   "source": []
  }
 ],
 "metadata": {
  "kernelspec": {
   "display_name": "R",
   "language": "R",
   "name": "ir"
  },
  "language_info": {
   "codemirror_mode": "r",
   "file_extension": ".r",
   "mimetype": "text/x-r-source",
   "name": "R",
   "pygments_lexer": "r",
   "version": "4.3.3"
  }
 },
 "nbformat": 4,
 "nbformat_minor": 5
}
