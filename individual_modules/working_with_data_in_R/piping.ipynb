{
 "cells": [
  {
   "cell_type": "markdown",
   "id": "809dc348-93db-4a19-91b5-25528307c29e",
   "metadata": {
    "editable": true,
    "slideshow": {
     "slide_type": ""
    },
    "tags": []
   },
   "source": [
    "# Piping and Functional Style\n",
    "\n",
    "## Download Rmd Version\n",
    "\n",
    "If you wish to engage with this course content via Rmd, then please click the link below to download the Rmd file.\n",
    "\n",
    "[Download Piping.Rmd](rmarkdown/Piping.Rmd)\n",
    "\n",
    "## Learning Objectives\n",
    "- Understand the functional philosophy of the Tidyverse and its importance in data analysis\n",
    "- Identify the role of different Tidyverse packages and functions in data manipulation\n",
    "- Use the piping operator to streamline and simplify data manipulation workflows\n",
    "- Implement chaining of multiple functions using the pipe operator to enhance code readability and efficiency\n",
    "- Apply the Tidyverse function to perform common data manipulation tasks, such as selecting, filtering, mutating and summarizing data \n",
    "\n",
    "\n",
    "## The functional philosophy of Tidyverse\n",
    "\n",
    "The Tidyverse packages are built around a philosophy of having functions that\n",
    "work well together. Let's look at some of the functions we've seen so far:\n",
    "\n",
    "| Package | Function    | Data input type               | Output type                   |\n",
    "|---------|-------------|-------------------------------|-------------------------------|\n",
    "| `tidyr` | `read_csv`  | string                        | dataframe                     |\n",
    "| `dplyr` | `filter`    | dataframe                     | dataframe                     |\n",
    "| `dplyr` | `select`    | dataframe                     | dataframe                     |\n",
    "| `dplyr` | `mutate`    | dataframe                     | dataframe                     |\n",
    "| `dplyr` | `relocate`  | dataframe                     | dataframe                     |\n",
    "| `dplyr` | `arrange`   | dataframe                     | dataframe                     |\n",
    "| `dplyr` | `summarise` | dataframe / grouped dataframe | dataframe / grouped dataframe |\n",
    "| `dplyr` | `group_by`  | dataframe                     | grouped dataframe             |\n",
    "\n",
    "Notice how consistent these are in accepting a dataframe as input and returning\n",
    "a dataframe (or something like a dataframe) as output. It is this consistency\n",
    "that makes it easy to compose functions.\n",
    "\n",
    "In addition, it's important to note that none of the functions we've seen so\n",
    "far modify the input dataframe 'in place', they always return a new dataframe.\n",
    "(This is even the case for the `mutate` function, despite the name!) This\n",
    "encourages a 'pipeline' approach, where we successively take the output\n",
    "of one function and feed it in as the input to another function.\n",
    "\n",
    "## Piping operator\n",
    "\n",
    "Since version 4.1, R has had a pipe operator `|>` which facilitates chaining\n",
    "function calls.\n",
    "\n",
    "**Note:** Before a pipe operator was introduced into the base R language, people\n",
    "used another pipe operator `%>%` from the `magrittr` package. It is still very\n",
    "common to see people using the `magrittr` pipe and it behaves in a similar way\n",
    "to base R's `|>` (though there are some minor differences). You can use\n",
    "whichever you like, though for this course we'll use the base R pipe.\n",
    "\n",
    "The pipe operator takes the value in the left hand side and 'feeds it into' the\n",
    "_first_ argument of a function call on the right hand side. So, using\n",
    "`dplyr::select` as an example, the following two expressions are equivalent ways\n",
    "to select two columns `colA` and `colB` from a dataframe `data`:\n",
    "\n",
    "```R\n",
    "dplyr::select(data, colA, colB)     data |> dplyr::select(colA, colB)\n",
    "```\n",
    "\n",
    "Notice how it looks like the dataframe argument to `dplyr::select` is missing\n",
    "in the second expression. The pipe takes care of putting `data` into the first\n",
    "argument slot, and the remaining slots are available for all other arguments\n",
    "(in this case, the column names  `colA` and `colB`).\n",
    "\n",
    "We can now chain multiple pipe calls together, like so:\n",
    "\n",
    "```R\n",
    "data |> dplyr::select(colA, colB) |> dplyr::filter(colA > 10)\n",
    "```\n",
    "\n",
    "In words, the above expression\n",
    "\n",
    "1. takes a variable `data`, then\n",
    "2. selects columns `colA` and `colB`, then\n",
    "3. takes the result of 2 and filters it to keep rows where `colA > 10`,\n",
    "\n",
    "\n",
    "Usually, people will put successive pipe calls on new lines to make it easier to\n",
    "read, like so:\n",
    "\n",
    "```R\n",
    "data |>\n",
    "  dplyr::select(colA, colB) |>\n",
    "  dplyr::filter(colA > 10)\n",
    "```\n",
    "\n",
    "If we want to store the overall result in a new variable `data_transformed`,\n",
    "we can do so by putting the assignment `data_transformed <- ` at the beginning\n",
    "of the chain, like this:\n",
    "\n",
    "```R\n",
    "data_transformed <- data |>\n",
    "  dplyr::select(colA, colB) |>\n",
    "  dplyr::filter(colA > 10)\n",
    "```\n",
    "\n",
    "### Exercise: piping\n",
    "\n",
    "The following code calculates the average bill ratio for penguins observed in\n",
    "the year 2009."
   ]
  },
  {
   "cell_type": "code",
   "execution_count": 1,
   "id": "455ef6b3-92b8-46e9-a773-f89053e0fdc7",
   "metadata": {
    "editable": true,
    "slideshow": {
     "slide_type": ""
    },
    "tags": []
   },
   "outputs": [
    {
     "name": "stdout",
     "output_type": "stream",
     "text": [
      "\u001b[90m# A tibble: 1 × 1\u001b[39m\n",
      "  mean_bill_ratio\n",
      "            \u001b[3m\u001b[90m<dbl>\u001b[39m\u001b[23m\n",
      "\u001b[90m1\u001b[39m            2.63\n"
     ]
    }
   ],
   "source": [
    "library(palmerpenguins)  # loads `penguins` data\n",
    "\n",
    "# Select species, year, bill_length_mm, bill_depth_mm\n",
    "penguins1 <- dplyr::select(penguins, year, species, bill_length_mm, bill_depth_mm)\n",
    "\n",
    "# Filter to keep year 2009 data only\n",
    "penguins2 <- dplyr::filter(penguins1, year == 2009)\n",
    "\n",
    "# Compute new bill_ratio column\n",
    "penguins3 <- dplyr::mutate(penguins2, bill_ratio = bill_length_mm / bill_depth_mm)\n",
    "\n",
    "# Compute average bill ratio\n",
    "penguins4 <- dplyr::summarise(penguins3, mean_bill_ratio = mean(bill_ratio, na.rm = TRUE))\n",
    "\n",
    "print(penguins4)"
   ]
  },
  {
   "cell_type": "markdown",
   "id": "fec79fba-d1ba-4ffc-8a6f-7478aeb48de4",
   "metadata": {
    "editable": true,
    "slideshow": {
     "slide_type": ""
    },
    "tags": []
   },
   "source": [
    "Rewrite this code to use the pipe operator instead of storing each intermediate\n",
    "dataframe, storing the overall result in a new variable called `summarised`."
   ]
  },
  {
   "cell_type": "markdown",
   "id": "ae4225c0-9416-404e-a62e-9aa56cd7f26c",
   "metadata": {
    "editable": true,
    "slideshow": {
     "slide_type": ""
    },
    "tags": []
   },
   "source": [
    "```{admonition} Solution\n",
    ":class: dropdown\n",
    "``` R\n",
    "summarised <- penguins |>\n",
    "  dplyr::select(year, species, bill_length_mm, bill_depth_mm) |>\n",
    "  dplyr::filter(year == 2009) |>\n",
    "  dplyr::mutate(bill_ratio = bill_length_mm / bill_depth_mm) |>\n",
    "  dplyr::summarise(mean_bill_ratio = mean(bill_ratio, na.rm = TRUE))\n",
    "\n",
    "print(summarised)\n",
    "```\n",
    "\n",
    "\n",
    "\n",
    "\n",
    "\n",
    "\n"
   ]
  },
  {
   "cell_type": "markdown",
   "id": "61d39d00-7c44-4adb-85d9-b141d12f5001",
   "metadata": {
    "editable": true,
    "slideshow": {
     "slide_type": ""
    },
    "tags": []
   },
   "source": [
    "## Summary Quiz"
   ]
  },
  {
   "cell_type": "code",
   "execution_count": 2,
   "id": "0a95b2aa-d30b-4b94-aadc-589305bb0be6",
   "metadata": {
    "editable": true,
    "slideshow": {
     "slide_type": ""
    },
    "tags": [
     "remove-input"
    ]
   },
   "outputs": [
    {
     "data": {
      "text/html": [
       "\n",
       "  <style>\n",
       "  .quiz-question {\n",
       "      background-color: #6c63ff;\n",
       "      color: white;\n",
       "      padding: 12px;\n",
       "      border-radius: 10px;\n",
       "      font-weight: bold;\n",
       "      font-size: 1.2em;\n",
       "      margin-bottom: 10px;\n",
       "  }\n",
       "\n",
       "  .quiz-form {\n",
       "      margin-bottom: 20px;\n",
       "  }\n",
       "\n",
       "  .quiz-answer {\n",
       "      display: block;\n",
       "      background-color: #f2f2f2;\n",
       "      border: none;\n",
       "      border-radius: 10px;\n",
       "      padding: 10px;\n",
       "      margin: 5px 0;\n",
       "      font-size: 1em;\n",
       "      cursor: pointer;\n",
       "      text-align: left;\n",
       "      transition: background-color 0.3s;\n",
       "      width: 100%;\n",
       "  }\n",
       "\n",
       "  .quiz-answer:hover {\n",
       "      background-color: #e0e0e0;\n",
       "  }\n",
       "\n",
       "  .correct {\n",
       "      background-color: #4CAF50 !important;\n",
       "      color: white !important;\n",
       "      border: none;\n",
       "  }\n",
       "\n",
       "  .incorrect {\n",
       "      background-color: #D32F2F !important;\n",
       "      color: white !important;\n",
       "      border: none;\n",
       "  }\n",
       "\n",
       "  .feedback {\n",
       "      margin-top: 10px;\n",
       "      font-weight: bold;\n",
       "      font-size: 1em;\n",
       "  }\n",
       "  </style>\n",
       "\n",
       "  <script>\n",
       "  function handleAnswer(qid, aid, feedback, isCorrect) {\n",
       "      let buttons = document.querySelectorAll(\".\" + qid);\n",
       "      buttons.forEach(btn => {\n",
       "          btn.classList.remove(\"correct\", \"incorrect\");\n",
       "      });\n",
       "\n",
       "      let selected = document.getElementById(aid);\n",
       "      if (selected) {\n",
       "        selected.classList.add(isCorrect ? \"correct\" : \"incorrect\");\n",
       "      }\n",
       "\n",
       "      let feedbackBox = document.getElementById(\"feedback_\" + qid);\n",
       "      if (feedbackBox) {\n",
       "        feedbackBox.innerHTML = feedback;\n",
       "        feedbackBox.style.color = isCorrect ? \"green\" : \"red\";\n",
       "      }\n",
       "  }\n",
       "  </script>\n",
       "  <div class=\"quiz-question\">What is the main benefit of using the pipe operator in R?</div><form class=\"quiz-form\"><button type=\"button\" class=\"quiz-answer quiz_q1\" id=\"quiz_q1_a1\"\n",
       "         onclick=\"handleAnswer('quiz_q1', 'quiz_q1_a1', 'Incorrect', false)\">\n",
       "         It increases the speed of data processing</button><button type=\"button\" class=\"quiz-answer quiz_q1\" id=\"quiz_q1_a2\"\n",
       "         onclick=\"handleAnswer('quiz_q1', 'quiz_q1_a2', 'Correct', true)\">\n",
       "         It allows chaining multiple function calls to improve readability and efficiency</button><button type=\"button\" class=\"quiz-answer quiz_q1\" id=\"quiz_q1_a3\"\n",
       "         onclick=\"handleAnswer('quiz_q1', 'quiz_q1_a3', 'Incorrect', false)\">\n",
       "         It reduces the amount of code needed to perform complex tasks</button><button type=\"button\" class=\"quiz-answer quiz_q1\" id=\"quiz_q1_a4\"\n",
       "         onclick=\"handleAnswer('quiz_q1', 'quiz_q1_a4', 'Incorrect', false)\">\n",
       "         It automatically corrects errors in data</button><div class=\"feedback\" id=\"feedback_quiz_q1\"></div>\n",
       "       <button type=\"submit\" style=\"position:absolute; left:-9999px; width:1px; height:1px; overflow:hidden;\">\n",
       "         Submit\n",
       "       </button>\n",
       "       </form><hr><div class=\"quiz-question\">How does the pipe operator `%>%` from the `magrittr` package behave compared to the base R pipe operator `|>`?</div><form class=\"quiz-form\"><button type=\"button\" class=\"quiz-answer quiz_q2\" id=\"quiz_q2_a1\"\n",
       "         onclick=\"handleAnswer('quiz_q2', 'quiz_q2_a1', 'Incorrect', false)\">\n",
       "         It behaves in exactly the same way</button><button type=\"button\" class=\"quiz-answer quiz_q2\" id=\"quiz_q2_a2\"\n",
       "         onclick=\"handleAnswer('quiz_q2', 'quiz_q2_a2', 'Correct', true)\">\n",
       "         It behave similarly with minor differences</button><button type=\"button\" class=\"quiz-answer quiz_q2\" id=\"quiz_q2_a3\"\n",
       "         onclick=\"handleAnswer('quiz_q2', 'quiz_q2_a3', 'Incorrect', false)\">\n",
       "         It is completely different and cannot be used interchangeably</button><button type=\"button\" class=\"quiz-answer quiz_q2\" id=\"quiz_q2_a4\"\n",
       "         onclick=\"handleAnswer('quiz_q2', 'quiz_q2_a4', 'Incorrect', false)\">\n",
       "         It is deprecated and should not be used</button><div class=\"feedback\" id=\"feedback_quiz_q2\"></div>\n",
       "       <button type=\"submit\" style=\"position:absolute; left:-9999px; width:1px; height:1px; overflow:hidden;\">\n",
       "         Submit\n",
       "       </button>\n",
       "       </form><hr><div class=\"quiz-question\">What is the purpose of the `mutate()` function in `dplyr`?</div><form class=\"quiz-form\"><button type=\"button\" class=\"quiz-answer quiz_q3\" id=\"quiz_q3_a1\"\n",
       "         onclick=\"handleAnswer('quiz_q3', 'quiz_q3_a1', 'Incorrect', false)\">\n",
       "         To filter rows based on a condition</button><button type=\"button\" class=\"quiz-answer quiz_q3\" id=\"quiz_q3_a2\"\n",
       "         onclick=\"handleAnswer('quiz_q3', 'quiz_q3_a2', 'Incorrect', false)\">\n",
       "         To select specific columns from a dataframe</button><button type=\"button\" class=\"quiz-answer quiz_q3\" id=\"quiz_q3_a3\"\n",
       "         onclick=\"handleAnswer('quiz_q3', 'quiz_q3_a3', 'Correct', true)\">\n",
       "         To create new variables or modify existing ones</button><button type=\"button\" class=\"quiz-answer quiz_q3\" id=\"quiz_q3_a4\"\n",
       "         onclick=\"handleAnswer('quiz_q3', 'quiz_q3_a4', 'Incorrect', false)\">\n",
       "         To summarize data into a single value</button><div class=\"feedback\" id=\"feedback_quiz_q3\"></div>\n",
       "       <button type=\"submit\" style=\"position:absolute; left:-9999px; width:1px; height:1px; overflow:hidden;\">\n",
       "         Submit\n",
       "       </button>\n",
       "       </form><hr>"
      ]
     },
     "metadata": {},
     "output_type": "display_data"
    }
   ],
   "source": [
    "# Call the function to display quiz interactively:\n",
    "source(\"../../R_functions/quiz_renderer.R\")\n",
    "show_quiz_from_json(\"questions/summary_piping.json\")"
   ]
  },
  {
   "cell_type": "code",
   "execution_count": null,
   "id": "8329d3ff-2e62-4c90-ba60-579ffd677e96",
   "metadata": {
    "editable": true,
    "slideshow": {
     "slide_type": ""
    },
    "tags": []
   },
   "outputs": [],
   "source": []
  }
 ],
 "metadata": {
  "kernelspec": {
   "display_name": "R",
   "language": "R",
   "name": "ir"
  },
  "language_info": {
   "codemirror_mode": "r",
   "file_extension": ".r",
   "mimetype": "text/x-r-source",
   "name": "R",
   "pygments_lexer": "r",
   "version": "4.3.3"
  }
 },
 "nbformat": 4,
 "nbformat_minor": 5
}
