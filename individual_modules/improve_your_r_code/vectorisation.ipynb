{
 "cells": [
  {
   "cell_type": "markdown",
   "metadata": {
    "editable": true,
    "slideshow": {
     "slide_type": ""
    },
    "tags": []
   },
   "source": [
    "# Vectorization in R\n",
    "For further information, refer to Section 24.5 of [Improving Performance](https://adv-r.hadley.nz/perf-improve.html) by Hadley Wickham.\n",
    "\n",
    "## Overview\n",
    "R is an interpreted language, meaning it is not compiled into machine code before execution like in C or C++. If you really want to dig into the difference, you could start with [this thread](https://stackoverflow.com/questions/3265357/compiled-vs-interpreted-languages). If you don't know what this means, don't panic. All we need to know is that loops, especially **nested** loops are typically slow in interpreted languages. That is, they should be avoided if possible in R.\n",
    "\n",
    "Although vectorising your code is more than just avoiding loops, one aspect of vectorisation **is** avoiding loops. In particular, I mean avoiding loops of R code. One way of avoiding loops in R is through vectorized functions, which have their loops implemented in C under-the-hood. A vectorized function operates on every element of the vector at once, avoiding looping through the vector, in R, and operating element-by-element. By exploiting vectorization we can potentially write **faster** R code, and it is almost certain you have been doing this without even knowing!\n",
    "\n",
    "## Examples\n",
    "Suppose we want to calculate the cumulative sum of a vector $x$. We could write a function in `R` using a for loop as follows:"
   ]
  },
  {
   "cell_type": "code",
   "execution_count": null,
   "metadata": {},
   "outputs": [
    {
     "name": "stdout",
     "output_type": "stream",
     "text": [
      " [1]  1  3  6 10 15 21 28 36 45 55\n"
     ]
    }
   ],
   "source": [
    "cumsum_R <- function(x) {\n",
    "  len_x <- length(x)\n",
    "  \n",
    "  # best practice to initialise a vector of known length, rather than append\n",
    "  out <- numeric(len_x)\n",
    "  \n",
    "  curr_total <- 0\n",
    "  \n",
    "  for (i in 1:len_x) {\n",
    "    curr_total <- curr_total + x[i]\n",
    "    out[i] <- curr_total\n",
    "  }\n",
    "  \n",
    "  out\n",
    "  \n",
    "}\n",
    "\n",
    "cumsum_R(1:10)"
   ]
  },
  {
   "cell_type": "markdown",
   "metadata": {},
   "source": [
    "In R there is a built in function called `cumsum()` that can do this for us. You can view the documentation by executing `?cumsum()` in your session, and you will see there are additional members of this family e.g. `cumprod()`. By executing `cumsum` **without brackets** in your session you can see that the `cumsum()` function is calling `.Primitive`; this means that R is calling a function which is implemented entirely in C, so it is going to be **fast**."
   ]
  },
  {
   "cell_type": "code",
   "execution_count": 4,
   "metadata": {},
   "outputs": [
    {
     "name": "stdout",
     "output_type": "stream",
     "text": [
      "function (x)  .Primitive(\"cumsum\")\n"
     ]
    }
   ],
   "source": [
    "cumsum"
   ]
  },
  {
   "cell_type": "markdown",
   "metadata": {},
   "source": [
    "Let's compare our own naive implementation against the `cumsum()` function provided in the `base` R package."
   ]
  },
  {
   "cell_type": "code",
   "execution_count": 5,
   "metadata": {},
   "outputs": [
    {
     "name": "stdout",
     "output_type": "stream",
     "text": [
      "              expr    min     lq     mean  median      uq    max neval\n",
      "1   cumsum(test_x)  1.804  1.968  2.13036  2.0295  2.2550  2.952   100\n",
      "2 cumsum_R(test_x) 29.356 29.766 31.12556 30.0120 30.4835 41.574   100\n"
     ]
    },
    {
     "data": {
      "text/plain": [
       "In addition: Warning message:\n",
       "In microbenchmark(cumsum(test_x), cumsum_R(test_x)) :\n",
       "  less accurate nanosecond times to avoid potential integer overflows\n"
      ]
     },
     "metadata": {},
     "output_type": "display_data"
    }
   ],
   "source": [
    "test_x <- 1:1000\n",
    "results <- microbenchmark(cumsum(test_x), cumsum_R(test_x))\n",
    "summary(results)"
   ]
  },
  {
   "cell_type": "markdown",
   "metadata": {},
   "source": [
    "As you can see, our naive implementation is extremely slow in comparison!\n",
    "\n",
    "## Exercise\n",
    "Try to write your own version of the `rowMeans` function in R, using for loops, and compare it with the vectorised version in R. To test your function you can use the following `test_matrix` matrix below."
   ]
  },
  {
   "cell_type": "code",
   "execution_count": 6,
   "metadata": {},
   "outputs": [
    {
     "name": "stdout",
     "output_type": "stream",
     "text": [
      " [1] 46 47 48 49 50 51 52 53 54 55\n"
     ]
    }
   ],
   "source": [
    "test_matrix <- matrix(1:100,10,10)\n",
    "rowMeans(test_matrix)\n",
    "\n",
    "# Write your code here\n",
    "\n",
    "# Benchmark here"
   ]
  }
 ],
 "metadata": {
  "kernelspec": {
   "display_name": "R",
   "language": "R",
   "name": "ir"
  },
  "language_info": {
   "codemirror_mode": "r",
   "file_extension": ".r",
   "mimetype": "text/x-r-source",
   "name": "R",
   "pygments_lexer": "r",
   "version": "4.3.3"
  }
 },
 "nbformat": 4,
 "nbformat_minor": 4
}
