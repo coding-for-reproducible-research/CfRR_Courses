{
 "cells": [
  {
   "cell_type": "code",
   "execution_count": null,
   "metadata": {
    "editable": true,
    "slideshow": {
     "slide_type": ""
    },
    "tags": [
     "remove-input"
    ]
   },
   "outputs": [],
   "source": [
    "%load_ext rpy2.ipython"
   ]
  },
  {
   "cell_type": "markdown",
   "metadata": {
    "editable": true,
    "slideshow": {
     "slide_type": ""
    },
    "tags": []
   },
   "source": [
    "# Style Guides and Linters\n",
    "\n",
    "## The Tidyverse Style Guide\n",
    "A style guide is a set of rules that embed consistency into your code. One such set of rules are contained in the [Tidyverse Style Guide](https://style.tidyverse.org/). These rules are essentially just *opinions*, since there are no hard-and-fast rules to the way you write your code, and there are many different style guides available. We have chosen to discuss the Tidyverse style guide because of its popularity. We could not feasibly cover every point in the Tidyverse Style Guide within this session, but we hope to emphasise some of the main points and tie them together with an example so you can bring the ideas back to your own code after the session. Complete details can be found in the [style guide](https://style.tidyverse.org/). \n",
    "\n",
    "Being conscious of consistency in your code can go a long way in improving the ease of collaboration and the impact of your code on your research. We will approach consistency from three levels of increasing granularity:\n",
    "\n",
    "1.    File name\n",
    "2.    Structure implemented within a file\n",
    "3.    Syntax used within file\n",
    "\n",
    "## File Naming and Structure\n",
    "The first simple yet important aspect of an R file is its name. When naming your file you should:\n",
    "\n",
    "1.    Give your file a descriptive name \n",
    "2.    Give your file the extension .R (not .r)\n",
    "3.    Avoid whitespace. \n",
    "\n",
    "Suppose we have a script that fits a linear model; calling this file `some file.r` violates all of the above. Naming the file `fit-linear-model.R` will make it much easier to locate.\n",
    "\n",
    "If you have a sequence of files that are intended to be run in a specific order, number them to indicate this. For example, `01-exploratory-analysis.R`, `02-fit-models.R`, `03-plot-results.R`.\n",
    "\n",
    "If you have to import a set of libraries, do so at the beginning of the file using `library()` as opposed to loading them sporadically throughout the file.\n",
    "\n",
    "Often, using comments such as `# ---------- ... ------------` can be useful to increase readability and indicate the purpose of each sub-section in the script. For example, one way of organising a small script could be as follows:"
   ]
  },
  {
   "cell_type": "code",
   "execution_count": null,
   "metadata": {},
   "outputs": [],
   "source": [
    "%%R\n",
    "# ---------- loading libraries ---------\n",
    "\n",
    "\n",
    "# ---------- defining functions --------\n",
    "\n",
    "\n",
    "# ---------- performing analysis -------\n",
    "\n",
    "\n",
    "# ---------- saving and plotting results ------------"
   ]
  },
  {
   "cell_type": "markdown",
   "metadata": {},
   "source": [
    "Note, in R using the [project structure](https://r4ds.hadley.nz/workflow-scripts.html#projects) or even creating your own [R package](https://r-pkgs.org/) can be useful for more involved analyses, though we do not cover those topics here."
   ]
  },
  {
   "cell_type": "markdown",
   "metadata": {},
   "source": [
    "## File Syntax\n",
    "### Variables and Functions\n",
    "Naming conventions extend from the file itself to the variables, functions and classes in your code; these should be consistent.\n",
    "\n",
    "Variable and function names should only contain lowercase letters, numbers and underscores. In particular, names should not contain white space. If a variable name contains multiple words, separate them using underscores. For example:"
   ]
  },
  {
   "cell_type": "code",
   "execution_count": null,
   "metadata": {},
   "outputs": [],
   "source": [
    "%%R\n",
    "# bad\n",
    "StringOne <-  \"hello world!\"\n",
    "\n",
    "# bad\n",
    "stringone <-  \"hello world!\"\n",
    "\n",
    "# good\n",
    "string_one <-  \"hello world!\""
   ]
  },
  {
   "cell_type": "markdown",
   "metadata": {},
   "source": [
    "Also, *never* use the names of built in functions or variables e.g. `T`, `mean`, `pi`, `sum` etc.\n",
    "\n",
    "#### Assignment\n",
    "Use ` <- ` for assignment instead of ` = `."
   ]
  },
  {
   "cell_type": "code",
   "execution_count": null,
   "metadata": {},
   "outputs": [],
   "source": [
    "%%R\n",
    "# bad\n",
    "greeting = \"hello\"\n",
    "\n",
    "# good\n",
    "greeting <- \"hello\" "
   ]
  },
  {
   "cell_type": "markdown",
   "metadata": {},
   "source": [
    "#### Semi-colons\n",
    "Don't use them "
   ]
  },
  {
   "cell_type": "code",
   "execution_count": null,
   "metadata": {},
   "outputs": [],
   "source": [
    "%%R\n",
    "# bad\n",
    "x <-  1; y <- 2; z <- 3;\n",
    "\n",
    "# good\n",
    "x <- 1\n",
    "y <- 2\n",
    "z <- 3"
   ]
  },
  {
   "cell_type": "markdown",
   "metadata": {},
   "source": [
    "### Horizontal Spacing\n",
    "Commas: space as you would in normal English i.e. a space after, and only after, the comma."
   ]
  },
  {
   "cell_type": "code",
   "execution_count": null,
   "metadata": {},
   "outputs": [
    {
     "name": "stdout",
     "output_type": "stream",
     "text": [
      " [1] 2 2 2 2 2 2 2 2 2 2\n"
     ]
    }
   ],
   "source": [
    "%%R\n",
    "# bad\n",
    "ones_matrix <- matrix( 1, 10 ,10 )\n",
    "ones_matrix[ , 1]\n",
    "\n",
    "# good\n",
    "twos_matrix <- matrix(2, 10, 10)\n",
    "twos_matrix[, 1]"
   ]
  },
  {
   "cell_type": "markdown",
   "metadata": {},
   "source": [
    "Parentheses: avoid spaces before and after parentheses in function calls, but do include them before and after conditional statements."
   ]
  },
  {
   "cell_type": "code",
   "execution_count": null,
   "metadata": {},
   "outputs": [],
   "source": [
    "%%R\n",
    "word_print_bad <- function (word) {\n",
    "  if(word){\n",
    "    print( word ) \n",
    "  }\n",
    "}\n",
    "\n",
    "word_print_good <- function(word) {\n",
    "  if (word) {\n",
    "    print(word) \n",
    "  }\n",
    "}"
   ]
  },
  {
   "cell_type": "markdown",
   "metadata": {},
   "source": [
    "\n",
    "### Vertical Spacing \n",
    "Excessive whitespace should be avoided, but no whitespace at all is equally as bad. The style guide suggests the following:\n",
    "\n",
    "-   Avoid empty lines at the start or end of functions.\n",
    "-   Only use a single empty line when needed to separate functions or pipes.\n",
    "-   It often makes sense to put an empty line before a comment block, to help visually connect the explanation with the code that it applies to.\n",
    "\n",
    "### Functions\n",
    "#### Setting up a function quickly\n",
    "Functions are an integral part of R; the skeleton code for a function in R is:"
   ]
  },
  {
   "cell_type": "code",
   "execution_count": null,
   "metadata": {},
   "outputs": [],
   "source": [
    "%%R\n",
    "name <- function(variables) {\n",
    "  \n",
    "}"
   ]
  },
  {
   "cell_type": "markdown",
   "metadata": {},
   "source": [
    "In RStudio, you can set this up quickly by typing `fun` and hitting the tab key twice on your keyboard. "
   ]
  },
  {
   "cell_type": "markdown",
   "metadata": {},
   "source": [
    "#### Returning\n",
    "You only need to write return in a function for an early return. R returns the last evaluated expression by default."
   ]
  },
  {
   "cell_type": "code",
   "execution_count": null,
   "metadata": {},
   "outputs": [
    {
     "name": "stdout",
     "output_type": "stream",
     "text": [
      "[1] -4\n"
     ]
    }
   ],
   "source": [
    "%%R\n",
    "# bad\n",
    "celcius_to_fahrenheit_bad <- function(temperature){\n",
    "  return(temperature*(9/5) + 32)\n",
    "}\n",
    "\n",
    "# good\n",
    "celcius_to_fahrenheit_good <- function(temperature) {\n",
    "  temperature*(9/5) + 32  \n",
    "}\n",
    "\n",
    "celcius_to_fahrenheit_bad(-20)\n",
    "celcius_to_fahrenheit_good(-20)"
   ]
  },
  {
   "cell_type": "markdown",
   "metadata": {},
   "source": [
    "Example of early return:"
   ]
  },
  {
   "cell_type": "code",
   "execution_count": null,
   "metadata": {},
   "outputs": [
    {
     "name": "stdout",
     "output_type": "stream",
     "text": [
      "[1] 0.1492978\n"
     ]
    },
    {
     "data": {
      "text/plain": [
       "** The number was greater than 0.25\n",
       "** The number was less than 0.25\n"
      ]
     },
     "metadata": {},
     "output_type": "display_data"
    }
   ],
   "source": [
    "%%R\n",
    "random_function <- function(){\n",
    "  x <- runif(1)\n",
    "  if (x < 0.25){\n",
    "    message(\"** The number was less than 0.25\")\n",
    "    return(x)\n",
    "  } else {\n",
    "    message(\"** The number was greater than 0.25\")\n",
    "    random_function()\n",
    "  }\n",
    "}\n",
    "\n",
    "xx <- random_function()\n",
    "xx"
   ]
  },
  {
   "cell_type": "markdown",
   "metadata": {},
   "source": [
    "#### Function Arguments\n",
    "In R, a function's arguments are typically either:\n",
    "-   Data being computed on (we can omit the names here)\n",
    "-   Computation details (we typically use the full names of these)"
   ]
  },
  {
   "cell_type": "code",
   "execution_count": null,
   "metadata": {},
   "outputs": [
    {
     "name": "stdout",
     "output_type": "stream",
     "text": [
      "[1] 5.5\n"
     ]
    }
   ],
   "source": [
    "%%R\n",
    "# Bad\n",
    "mean(x = 1:10, , FALSE)\n",
    "mean(, TRUE, x = c(1:10, NA))\n",
    "\n",
    "# Good\n",
    "mean(1:10, na.rm = TRUE)"
   ]
  },
  {
   "cell_type": "markdown",
   "metadata": {},
   "source": [
    "Use the full names of the arguments you specify. In R you can use partial matching by specifying a unique prefix of a function argument, but this should be avoided as it can create unnecessary ambiguity."
   ]
  },
  {
   "cell_type": "code",
   "execution_count": null,
   "metadata": {},
   "outputs": [
    {
     "name": "stdout",
     "output_type": "stream",
     "text": [
      "[1] 5.5\n"
     ]
    }
   ],
   "source": [
    "%%R\n",
    "# bad\n",
    "mean(c(1:10, NA), n = TRUE)\n",
    "mean(c(1:10, NA), na = TRUE)\n",
    "mean(c(1:10, NA), na. = TRUE)\n",
    "mean(c(1:10, NA), na.r = TRUE)\n",
    "\n",
    "# good\n",
    "mean(c(1:10, NA), na.rm = TRUE)"
   ]
  },
  {
   "cell_type": "markdown",
   "metadata": {},
   "source": [
    "### Exercise\n",
    "\n",
    "Consider the following two versions of R code that perform the same task. Discuss in groups what is good about each implementation and what could be improved."
   ]
  },
  {
   "cell_type": "code",
   "execution_count": null,
   "metadata": {},
   "outputs": [
    {
     "name": "stdout",
     "output_type": "stream",
     "text": [
      "[1] \"The mean is: 20.090625\"\n"
     ]
    },
    {
     "data": {
      "image/png": "[encoded data removed]",
      "text/plain": [
       "<IPython.core.display.Image object>"
      ]
     },
     "metadata": {},
     "output_type": "display_data"
    }
   ],
   "source": [
    "%%R\n",
    "# file name: my code.r\n",
    "\n",
    "# this script does stuff\n",
    "library(ggplot2);library(dplyr)\n",
    "\n",
    "dat = mtcars; DATA2=dat %>% select(mpg);result=mean(DATA2$mpg)\n",
    "PrintMean <- function(d){\n",
    "  m <- mean(d$mpg); print(paste(\"The mean is:\",m)); return(m)\n",
    "}\n",
    "\n",
    "ShowHist <- function(d,bars=10){\n",
    "  ggplot(data = d,aes(x= mpg))+geom_histogram(bins=bars)\n",
    "}\n",
    "\n",
    "x = PrintMean(d=dat)\n",
    "ShowHist(dat, ba=12)"
   ]
  },
  {
   "cell_type": "code",
   "execution_count": null,
   "metadata": {},
   "outputs": [
    {
     "name": "stdout",
     "output_type": "stream",
     "text": [
      "[1] \"The mean MPG is: 20.090625\"\n"
     ]
    },
    {
     "data": {
      "image/png": "[encoded data removed]",
      "text/plain": [
       "<IPython.core.display.Image object>"
      ]
     },
     "metadata": {},
     "output_type": "display_data"
    }
   ],
   "source": [
    "%%R\n",
    "# file name: calculate_mpg_summary.R\n",
    "\n",
    "# ----------------------------------------\n",
    "# Load required libraries\n",
    "# ----------------------------------------\n",
    "library(ggplot2)\n",
    "library(dplyr)\n",
    "\n",
    "# ----------------------------------------\n",
    "# Prepare data\n",
    "# ----------------------------------------\n",
    "mtcars_data <- mtcars\n",
    "mpg_data <- mtcars_data %>% select(mpg)\n",
    "\n",
    "# ----------------------------------------\n",
    "# Function to calculate mean MPG\n",
    "# ----------------------------------------\n",
    "print_mean_mpg <- function(data) {\n",
    "  mean_value <- mean(data$mpg)\n",
    "  print(paste(\"The mean MPG is:\", mean_value))\n",
    "  mean_value\n",
    "}\n",
    "\n",
    "# ----------------------------------------\n",
    "# Function to show histogram of MPG\n",
    "# ----------------------------------------\n",
    "show_histogram <- function(data, bins = 10) {\n",
    "  ggplot(data = data, aes(x = mpg)) +\n",
    "    geom_histogram(bins = bins)\n",
    "}\n",
    "\n",
    "# ----------------------------------------\n",
    "# Run analysis\n",
    "# ----------------------------------------\n",
    "mean_mpg <- print_mean_mpg(mtcars_data)\n",
    "show_histogram(data = mtcars_data, bins = 12)\n"
   ]
  },
  {
   "cell_type": "markdown",
   "metadata": {},
   "source": [
    "\n",
    "## The Styler and lintr packages\n",
    "The `styler` and `lintr` packages are two useful packages for formatting your code according to the Tidyverse style guide. You can install them from CRAN in the usual way:\n",
    "```{r eval=FALSE, include=TRUE}\n",
    "install.packages(\"styler\")\n",
    "install.packages(\"lintr\")\n",
    "```\n",
    "\n",
    "### Exercise\n",
    "Paste the file `my code.r` from the example above into a new `R` file. Peruse the documentation of the `styler` package and experiment with the `style_file` function. How does it work on the `my code.r`example?\n",
    "\n",
    "Do the same with the `lintr` package, using the `lint` function. How does it work with the `my code.r`example?"
   ]
  }
 ],
 "metadata": {
  "kernelspec": {
   "display_name": "Python 3 (ipykernel)",
   "language": "python",
   "name": "python3"
  },
  "language_info": {
   "codemirror_mode": {
    "name": "ipython",
    "version": 3
   },
   "file_extension": ".py",
   "mimetype": "text/x-python",
   "name": "python",
   "nbconvert_exporter": "python",
   "pygments_lexer": "ipython3",
   "version": "3.9.19"
  }
 },
 "nbformat": 4,
 "nbformat_minor": 4
}
