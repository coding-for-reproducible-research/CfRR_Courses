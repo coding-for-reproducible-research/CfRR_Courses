{
 "cells": [
  {
   "cell_type": "code",
   "execution_count": 10,
   "metadata": {},
   "outputs": [
    {
     "name": "stdout",
     "output_type": "stream",
     "text": [
      "The rpy2.ipython extension is already loaded. To reload it, use:\n",
      "  %reload_ext rpy2.ipython\n"
     ]
    }
   ],
   "source": [
    "%load_ext rpy2.ipython"
   ]
  },
  {
   "cell_type": "code",
   "execution_count": 11,
   "metadata": {},
   "outputs": [],
   "source": [
    "%%R\n",
    "suppressPackageStartupMessages({\n",
    "  suppressMessages({\n",
    "    library(data.table)\n",
    "    library(dplyr)\n",
    "    library(learnr)\n",
    "    library(microbenchmark)\n",
    "    library(parallel)\n",
    "    library(parallelly)\n",
    "    library(profvis)\n",
    "    library(Rcpp)\n",
    "    library(styler)\n",
    "  })\n",
    "})"
   ]
  },
  {
   "cell_type": "markdown",
   "metadata": {},
   "source": [
    "# Fast Data Manipulation Using the `data.table` Package\n",
    "## Overview\n",
    "The `data.table` package is designed specifically for efficient manipulation of large datasets. The introductory vignette accompanying the `data.table` package states the following:\n",
    "\n",
    "**\"... if you are interested in reducing programming and compute time tremendously, then this package is for you.\"**\n",
    "\n",
    "In research we often deal with large datasets, so this package merits further investigation! We closely follow the aforementioned vignette in this section, which you can view by executing `vignette(\"datatable-intro\", package = \"data.table\")` in your R session.\n",
    "\n",
    "It is likely that when analysing your data you structure your workflow as follows:\n",
    "\n",
    "1.    You read the data.\n",
    "2.    You analyse the data e.g. cleaning, grouping, aggregating, filtering etc.\n",
    "3.    You write the results to a file and maybe send them to a collaborator.\n",
    "\n",
    "The `data.table` package speeds up **reading** and **writing** using the following functions:\n",
    "\n",
    "-   Reading using `fread`. **Similar to `read.csv()` and `read.delim()` but faster and more convenient.**\n",
    "-   Writing using `fwrite`. **As write.csv but much faster (e.g. 2 seconds versus 1 minute) and just as flexible.**\n",
    "\n",
    "The following code uses `fread` to read data stored in a csv file from the `data.table` GitHub repository. We will work with this dataset throughout this section. It contains On-Time flights data from the Bureau of Transportation Statistics for all the flights that departed from New York City airports in 2014. The data is available only for Jan 2014 - October 14."
   ]
  },
  {
   "cell_type": "code",
   "execution_count": 12,
   "metadata": {},
   "outputs": [
    {
     "name": "stdout",
     "output_type": "stream",
     "text": [
      "         year month   day dep_delay arr_delay carrier origin   dest air_time\n",
      "        <int> <int> <int>     <int>     <int>  <char> <char> <char>    <int>\n",
      "     1:  2014     1     1        14        13      AA    JFK    LAX      359\n",
      "     2:  2014     1     1        -3        13      AA    JFK    LAX      363\n",
      "     3:  2014     1     1         2         9      AA    JFK    LAX      351\n",
      "     4:  2014     1     1        -8       -26      AA    LGA    PBI      157\n",
      "     5:  2014     1     1         2         1      AA    JFK    LAX      350\n",
      "    ---                                                                     \n",
      "253312:  2014    10    31         1       -30      UA    LGA    IAH      201\n",
      "253313:  2014    10    31        -5       -14      UA    EWR    IAH      189\n",
      "253314:  2014    10    31        -8        16      MQ    LGA    RDU       83\n",
      "253315:  2014    10    31        -4        15      MQ    LGA    DTW       75\n",
      "253316:  2014    10    31        -5         1      MQ    LGA    SDF      110\n",
      "        distance  hour\n",
      "           <int> <int>\n",
      "     1:     2475     9\n",
      "     2:     2475    11\n",
      "     3:     2475    19\n",
      "     4:     1035     7\n",
      "     5:     2475    13\n",
      "    ---               \n",
      "253312:     1416    14\n",
      "253313:     1400     8\n",
      "253314:      431    11\n",
      "253315:      502    11\n",
      "253316:      659     8\n"
     ]
    },
    {
     "data": {
      "text/plain": [
       "trying URL 'https://raw.githubusercontent.com/Rdatatable/data.table/master/vignettes/flights14.csv'\n",
       "Content type 'text/plain; charset=utf-8' length 9587529 bytes (9.1 MB)\n",
       "==================================================\n",
       "downloaded 9.1 MB\n",
       "\n"
      ]
     },
     "metadata": {},
     "output_type": "display_data"
    }
   ],
   "source": [
    "%%R\n",
    "input <- if (file.exists(\"flights14.csv\")) {\n",
    "   \"flights14.csv\"\n",
    "} else {\n",
    "  \"https://raw.githubusercontent.com/Rdatatable/data.table/master/vignettes/flights14.csv\"\n",
    "}\n",
    "flights <- fread(input)\n",
    "flights"
   ]
  },
  {
   "cell_type": "markdown",
   "metadata": {},
   "source": [
    "Note, `fread` returns a `data.table` object by default, otherwise a `data.frame` with the argument `data.table=FALSE`.\n",
    "\n",
    "## Analysis\n",
    "OK, so points 1. and 3. above can be accelerated pretty easily using `fread` and `fwrite`, but how can we accelerate our analysis? The purpose of this section is to introduce the basic syntax of the `data.table` object for speeding up our analysis (i.e. point 2 above).\n",
    "\n",
    "In base R, the standard way of storing data is in a `data.frame`. If you attended our 'Working With Data in R' course, one of the motivating factors for using the Tidyverse functionality was that Tidyverse functions were designed with consistent interfaces, meaning the functions accept a `data.frame` object as an input and return a `data.frame` object as an output. The `data.table` package provides an enhanced version of the `data.frame` object.\n",
    "\n",
    "If not reading the data in using `fread`, a `data.table` can be created from scratch as follows:"
   ]
  },
  {
   "cell_type": "code",
   "execution_count": 13,
   "metadata": {},
   "outputs": [],
   "source": [
    "%%R\n",
    "DT <- data.table(x = rnorm(200),\n",
    "                    y = rnorm(200),\n",
    "                    z = c(\"A\", \"B\"))"
   ]
  },
  {
   "cell_type": "markdown",
   "metadata": {},
   "source": [
    "The general form of the `data.table` syntax is as follows:\n",
    "\n",
    "    DT[ i,  j,  by ] # + extra arguments\n",
    "        |   |   |\n",
    "        |   |    -------> grouped by what?\n",
    "        |    -------> what to do?\n",
    "         ---> on which rows?\n",
    "         \n",
    "We should interpret this as \"Take `DT`, subset/reorder rows using `i`, then calculate `j`, grouped by `by`.\"\n",
    "   \n",
    "### Selecting Row and Columns\n",
    "To subsetting our data, we use the `i` and `j` arguments within `DT[i, j, by]`.\n",
    "\n",
    "Using `j` to select columns is analogous to `dplyr::select()`:"
   ]
  },
  {
   "cell_type": "code",
   "execution_count": 15,
   "metadata": {},
   "outputs": [
    {
     "name": "stdout",
     "output_type": "stream",
     "text": [
      "        dep_delay\n",
      "            <int>\n",
      "     1:        14\n",
      "     2:        -3\n",
      "     3:         2\n",
      "     4:        -8\n",
      "     5:         2\n",
      "    ---          \n",
      "253312:         1\n",
      "253313:        -5\n",
      "253314:        -8\n",
      "253315:        -4\n",
      "253316:        -5\n"
     ]
    }
   ],
   "source": [
    "%%R\n",
    "# return as vector\n",
    "flights[, dep_delay]\n",
    "\n",
    "#  return as data.table\n",
    "flights[, .(dep_delay)]"
   ]
  },
  {
   "cell_type": "markdown",
   "metadata": {},
   "source": [
    "Note, the `.()` notation is an alias for `list()` here.\n",
    "\n",
    "Columns name in a variable can also be selected using `..`. Here, the `..` with `[]` is signalling to `R` to 'look up a level' into the global environment to look for a variable named `my_cols`, reminiscent of using `cd ..` to change directories in a Unix shell."
   ]
  },
  {
   "cell_type": "code",
   "execution_count": 16,
   "metadata": {},
   "outputs": [
    {
     "name": "stdout",
     "output_type": "stream",
     "text": [
      "        dep_delay arr_delay\n",
      "            <int>     <int>\n",
      "     1:        14        13\n",
      "     2:        -3        13\n",
      "     3:         2         9\n",
      "     4:        -8       -26\n",
      "     5:         2         1\n",
      "    ---                    \n",
      "253312:         1       -30\n",
      "253313:        -5       -14\n",
      "253314:        -8        16\n",
      "253315:        -4        15\n",
      "253316:        -5         1\n"
     ]
    }
   ],
   "source": [
    "%%R\n",
    "my_cols <- c(\"dep_delay\", \"arr_delay\")\n",
    "flights[, ..my_cols]"
   ]
  },
  {
   "cell_type": "markdown",
   "metadata": {},
   "source": [
    "Using `i` to select rows subject to some condition is analogous to `dplyr::filter()`:"
   ]
  },
  {
   "cell_type": "code",
   "execution_count": 17,
   "metadata": {},
   "outputs": [
    {
     "name": "stdout",
     "output_type": "stream",
     "text": [
      "        year month   day dep_delay arr_delay carrier origin   dest air_time\n",
      "       <int> <int> <int>     <int>     <int>  <char> <char> <char>    <int>\n",
      "    1:  2014     1     1        14        13      AA    JFK    LAX      359\n",
      "    2:  2014     1     1         7        -5      AA    JFK    SFO      365\n",
      "    3:  2014     1     1       142       133      AA    JFK    LAX      345\n",
      "    4:  2014     1     1        18        69      AA    JFK    ORD      155\n",
      "    5:  2014     1     1        25        36      AA    JFK    IAH      234\n",
      "   ---                                                                     \n",
      "80664:  2014    10    31        14        11      UA    EWR    MIA      151\n",
      "80665:  2014    10    31        41        19      UA    EWR    SFO      344\n",
      "80666:  2014    10    31       427       393      UA    EWR    ORD      100\n",
      "80667:  2014    10    31        10       -27      UA    EWR    LAX      326\n",
      "80668:  2014    10    31        18       -14      UA    EWR    LAS      291\n",
      "       distance  hour\n",
      "          <int> <int>\n",
      "    1:     2475     9\n",
      "    2:     2586    17\n",
      "    3:     2475    19\n",
      "    4:      740    17\n",
      "    5:     1417    16\n",
      "   ---               \n",
      "80664:     1085    19\n",
      "80665:     2565    12\n",
      "80666:      719    21\n",
      "80667:     2454    10\n",
      "80668:     2227    16\n"
     ]
    }
   ],
   "source": [
    "%%R\n",
    "# select rows with a departure delay of more than four hours\n",
    "flights[dep_delay > 4]"
   ]
  },
  {
   "cell_type": "markdown",
   "metadata": {},
   "source": [
    "We can combine them both in a natural way:"
   ]
  },
  {
   "cell_type": "code",
   "execution_count": 18,
   "metadata": {},
   "outputs": [
    {
     "name": "stdout",
     "output_type": "stream",
     "text": [
      "       dep_delay arr_delay\n",
      "           <int>     <int>\n",
      "    1:        14        13\n",
      "    2:         7        -5\n",
      "    3:       142       133\n",
      "    4:        18        69\n",
      "    5:        25        36\n",
      "   ---                    \n",
      "80664:        14        11\n",
      "80665:        41        19\n",
      "80666:       427       393\n",
      "80667:        10       -27\n",
      "80668:        18       -14\n"
     ]
    }
   ],
   "source": [
    "%%R\n",
    "# select values from departure delay and arrival delay columns, where of more\n",
    "# than four hours where departure delay is more than four hours\n",
    "flights[dep_delay > 4, .(dep_delay, arr_delay)]"
   ]
  },
  {
   "cell_type": "markdown",
   "metadata": {},
   "source": [
    "### Subset and Operate\n",
    "We can apply the above to perform operations on the columns"
   ]
  },
  {
   "cell_type": "code",
   "execution_count": 19,
   "metadata": {},
   "outputs": [
    {
     "name": "stdout",
     "output_type": "stream",
     "text": [
      "   mean_delay sum_delay\n",
      "        <num>     <int>\n",
      "1:   47.27013   3813187\n"
     ]
    }
   ],
   "source": [
    "%%R\n",
    "# returns a data.frame\n",
    "flights[dep_delay > 4, .(mean_delay = mean(dep_delay, na.rm = TRUE), sum_delay = sum(dep_delay, na.rm = TRUE))]"
   ]
  },
  {
   "cell_type": "markdown",
   "metadata": {},
   "source": [
    "In dplyr, the equivalent would code be:"
   ]
  },
  {
   "cell_type": "code",
   "execution_count": 20,
   "metadata": {},
   "outputs": [
    {
     "name": "stdout",
     "output_type": "stream",
     "text": [
      "  mean_delay sum_delay\n",
      "1   47.27013   3813187\n"
     ]
    }
   ],
   "source": [
    "%%R\n",
    "# returns a data.frame\n",
    "flights %>%\n",
    "  filter(dep_delay > 4) %>%\n",
    "  summarise(\n",
    "    mean_delay = mean(dep_delay, na.rm = TRUE),\n",
    "    sum_delay = sum(dep_delay, na.rm = TRUE)\n",
    "  )"
   ]
  },
  {
   "cell_type": "markdown",
   "metadata": {},
   "source": [
    "Notice, the `data.table` code is more compact, and all operation occurs within the frame of a data.table, i.e., within `[ ... ]`. This is also referred to as 'querying' the `data.table`l; analogous to SQL. Though, arguably, the `dplyr` code is easier to understand.\n",
    "\n",
    "### Count\n",
    "In `data.table` we can use the special symbol `.N`, see ``?.N``, to count the number of records."
   ]
  },
  {
   "cell_type": "code",
   "execution_count": 22,
   "metadata": {},
   "outputs": [
    {
     "name": "stdout",
     "output_type": "stream",
     "text": [
      "   total_above_four_hours\n",
      "                    <int>\n",
      "1:                  80668\n"
     ]
    }
   ],
   "source": [
    "%%R\n",
    "# returns a data.table\n",
    "flights[dep_delay > 4, .(total_above_four_hours = .N)]"
   ]
  },
  {
   "cell_type": "markdown",
   "metadata": {},
   "source": [
    "In dplyr, the equivalent code would be:"
   ]
  },
  {
   "cell_type": "code",
   "execution_count": 23,
   "metadata": {},
   "outputs": [
    {
     "name": "stdout",
     "output_type": "stream",
     "text": [
      "  total_above_four_hours\n",
      "1                  80668\n"
     ]
    }
   ],
   "source": [
    "%%R\n",
    "# returns a data.frame\n",
    "flights %>%\n",
    "  filter(dep_delay > 4) %>%\n",
    "  summarise(total_above_four_hours = n())"
   ]
  },
  {
   "cell_type": "markdown",
   "metadata": {},
   "source": [
    "### Updating and Removing Columns\n",
    "Adding columns can be achieved using the `:=` operator. This adds columns 'by reference', meaning the `data.table` is never copied. To illustrate this, consider the following smaller examples:"
   ]
  },
  {
   "cell_type": "code",
   "execution_count": null,
   "metadata": {},
   "outputs": [
    {
     "name": "stdout",
     "output_type": "stream",
     "text": [
      "[1] \"<0x119cc0000>\"\n"
     ]
    }
   ],
   "source": [
    "%%R\n",
    "my_dt <- data.table(x = rnorm(200))\n",
    "tracemem(my_dt)"
   ]
  },
  {
   "cell_type": "code",
   "execution_count": 28,
   "metadata": {},
   "outputs": [
    {
     "name": "stdout",
     "output_type": "stream",
     "text": [
      "[1] \"<0x119cc0000>\"\n"
     ]
    }
   ],
   "source": [
    "%%R\n",
    "my_dt[, z := rnorm(200)]\n",
    "tracemem(my_dt)"
   ]
  },
  {
   "cell_type": "code",
   "execution_count": 29,
   "metadata": {},
   "outputs": [
    {
     "name": "stdout",
     "output_type": "stream",
     "text": [
      "[1] \"<0x11845e698>\"\n"
     ]
    }
   ],
   "source": [
    "%%R\n",
    "my_df <- data.frame(x = rnorm(200))\n",
    "tracemem(my_df)"
   ]
  },
  {
   "cell_type": "code",
   "execution_count": 30,
   "metadata": {},
   "outputs": [
    {
     "name": "stdout",
     "output_type": "stream",
     "text": [
      "tracemem[0x11845e698 -> 0x1184b9680]: initialize <Anonymous> mutate_cols mutate.data.frame mutate %>% <Anonymous> <Anonymous> <Anonymous> \n",
      "tracemem[0x1184b9680 -> 0x1184b9300]: dplyr_new_list initialize <Anonymous> mutate_cols mutate.data.frame mutate %>% <Anonymous> <Anonymous> <Anonymous> \n",
      "tracemem[0x1184b9300 -> 0x1184b92c8]: dplyr_new_list initialize <Anonymous> mutate_cols mutate.data.frame mutate %>% <Anonymous> <Anonymous> <Anonymous> \n",
      "tracemem[0x11845e698 -> 0x1184e40e0]: new_data_frame vec_data as.list dplyr_col_modify.data.frame dplyr_col_modify mutate.data.frame mutate %>% <Anonymous> <Anonymous> <Anonymous> \n",
      "tracemem[0x1184e40e0 -> 0x1184e4038]: as.list.data.frame as.list dplyr_col_modify.data.frame dplyr_col_modify mutate.data.frame mutate %>% <Anonymous> <Anonymous> <Anonymous> \n",
      "[1] \"<0x1186c3e48>\"\n"
     ]
    }
   ],
   "source": [
    "%%R\n",
    "my_df <- my_df %>%\n",
    "  mutate(z = rnorm(200))\n",
    "tracemem(my_df)"
   ]
  },
  {
   "cell_type": "markdown",
   "metadata": {},
   "source": [
    "With the `data.table`, using `:=` within the frame `[ ... ]` is sufficient to add a new column to the `data.table`; we didn't have to assign the result back to `my_dt` using `<-`. Note, the `tracemem()` function shows the addresses are the same for the `my_dt` example, so a copy was not made. However, for the `my_df` example, this was not the case. Much more detail on this behaviour is available in [this vignette](https://cran.r-project.org/web/packages/data.table/vignettes/datatable-reference-semantics.html).\n",
    "\n",
    "Removing a column, by reference, can also be achieved using `:=`"
   ]
  },
  {
   "cell_type": "code",
   "execution_count": 31,
   "metadata": {},
   "outputs": [
    {
     "name": "stdout",
     "output_type": "stream",
     "text": [
      "               x\n",
      "           <num>\n",
      "  1:  0.08722859\n",
      "  2:  0.31678578\n",
      "  3:  0.71779344\n",
      "  4: -0.79386835\n",
      "  5:  1.30777816\n",
      " ---            \n",
      "196: -0.20652236\n",
      "197: -0.14925841\n",
      "198: -0.31833419\n",
      "199: -0.12908298\n",
      "200: -1.27507388\n"
     ]
    }
   ],
   "source": [
    "%%R\n",
    "my_dt[, z := NULL]\n",
    "my_dt"
   ]
  },
  {
   "cell_type": "markdown",
   "metadata": {},
   "source": [
    "### Aggregation\n",
    "We have discussed the `i` and `j` arguments of `data.table`, now let's discuss `by`.\n",
    "\n",
    "*Grouping*\n",
    "Let's group the flight data by month, and get the mean `dep_delay`."
   ]
  },
  {
   "cell_type": "code",
   "execution_count": 32,
   "metadata": {},
   "outputs": [
    {
     "name": "stdout",
     "output_type": "stream",
     "text": [
      "    month mean_delay\n",
      "    <int>      <num>\n",
      " 1:     1  22.957624\n",
      " 2:     2  17.809878\n",
      " 3:     3   8.927260\n",
      " 4:     4  10.243083\n",
      " 5:     5  13.684233\n",
      " 6:     6  14.084906\n",
      " 7:     7  16.463060\n",
      " 8:     8  10.012459\n",
      " 9:     9   4.742795\n",
      "10:    10   7.850555\n"
     ]
    }
   ],
   "source": [
    "%%R\n",
    "flights[, .(mean_delay = mean(dep_delay)), by = month]"
   ]
  },
  {
   "cell_type": "markdown",
   "metadata": {},
   "source": [
    "Let's find the number of flights grouped by month."
   ]
  },
  {
   "cell_type": "code",
   "execution_count": 33,
   "metadata": {},
   "outputs": [
    {
     "name": "stdout",
     "output_type": "stream",
     "text": [
      "    month     N\n",
      "    <int> <int>\n",
      " 1:     1 22796\n",
      " 2:     2 20813\n",
      " 3:     3 26423\n",
      " 4:     4 25588\n",
      " 5:     5 25522\n",
      " 6:     6 26488\n",
      " 7:     7 27003\n",
      " 8:     8 27450\n",
      " 9:     9 25190\n",
      "10:    10 26043\n"
     ]
    }
   ],
   "source": [
    "%%R\n",
    "flights[, .N, by = month]"
   ]
  },
  {
   "cell_type": "markdown",
   "metadata": {},
   "source": [
    "*Chaining*\n",
    "\n",
    "In the above example where we found the number of flights grouped by month; we can chain compound expressions, for example to arrange the answer in increasing or decreasing order."
   ]
  },
  {
   "cell_type": "code",
   "execution_count": 34,
   "metadata": {},
   "outputs": [
    {
     "name": "stdout",
     "output_type": "stream",
     "text": [
      "    month total_flights\n",
      "    <int>         <int>\n",
      " 1:     8         27450\n",
      " 2:     7         27003\n",
      " 3:     6         26488\n",
      " 4:     3         26423\n",
      " 5:    10         26043\n",
      " 6:     4         25588\n",
      " 7:     5         25522\n",
      " 8:     9         25190\n",
      " 9:     1         22796\n",
      "10:     2         20813\n"
     ]
    }
   ],
   "source": [
    "%%R\n",
    "flights[, .(total_flights = .N), by = month\n",
    "        ][\n",
    "          order(total_flights, decreasing = TRUE)\n",
    "          ]"
   ]
  },
  {
   "cell_type": "markdown",
   "metadata": {},
   "source": [
    "Note the vertical chaining of the operations. This helps with readability, analogously to separating pipes `%>%` over separate lines in the Tidyverse!\n",
    "\n",
    "*Sorting by Grouping Variables*\n",
    "\n",
    "The `keyby` argument is available for sorting by the variables you group by, though the following three are all equivalent ways of getting the mean air time of flights leaving from JFK grouped by destination, then ordering the results by destination (increasing)."
   ]
  },
  {
   "cell_type": "code",
   "execution_count": 37,
   "metadata": {},
   "outputs": [
    {
     "name": "stdout",
     "output_type": "stream",
     "text": [
      "     dest mean_air_time\n",
      "   <char>         <num>\n",
      "1:    ABQ     251.71583\n",
      "2:    ACK      39.53430\n",
      "3:    ATL     110.49559\n",
      "4:    AUS     210.75912\n",
      "5:    BNA     118.59155\n",
      "6:    BOS      38.07954\n"
     ]
    }
   ],
   "source": [
    "%%R\n",
    "flights[origin == \"JFK\", .(mean_air_time = mean(air_time)), keyby = .(dest)]\n",
    "flights[origin == \"JFK\", .(mean_air_time = mean(air_time)), by = .(dest), keyby = TRUE]\n",
    "\n",
    "# using head for smaller print\n",
    "head(flights[origin == \"JFK\", .(mean_air_time = mean(air_time)), by = .(dest)][order(dest)])"
   ]
  },
  {
   "cell_type": "markdown",
   "metadata": {},
   "source": [
    "### Example: A Data Wrangling Task\n",
    "How many minutes does each flight 'make up' on its journey per minute of air time? *Hint: (dep_delay - arr_delay)* \n",
    "\n",
    "Order your answer increasing by destination and decreasing by time made up per minute of air time."
   ]
  },
  {
   "cell_type": "code",
   "execution_count": 38,
   "metadata": {},
   "outputs": [
    {
     "name": "stdout",
     "output_type": "stream",
     "text": [
      "NULL\n"
     ]
    }
   ],
   "source": [
    "%%R\n",
    "# Write your code here"
   ]
  },
  {
   "cell_type": "markdown",
   "metadata": {},
   "source": [
    "I highly recommend looking through the additional [vignettes](https://cran.r-project.org/web/packages/data.table/vignettes/) for further information on what is happening under the hood in `data.table`."
   ]
  }
 ],
 "metadata": {
  "kernelspec": {
   "display_name": "Python 3 (ipykernel)",
   "language": "python",
   "name": "python3"
  },
  "language_info": {
   "codemirror_mode": {
    "name": "ipython",
    "version": 3
   },
   "file_extension": ".py",
   "mimetype": "text/x-python",
   "name": "python",
   "nbconvert_exporter": "python",
   "pygments_lexer": "ipython3",
   "version": "3.9.19"
  }
 },
 "nbformat": 4,
 "nbformat_minor": 4
}
