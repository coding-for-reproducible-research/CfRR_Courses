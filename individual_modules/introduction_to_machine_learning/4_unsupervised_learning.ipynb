{
 "cells": [
  {
   "cell_type": "markdown",
   "metadata": {},
   "source": [
    "# Unsupervised learning\n",
    "\n",
    "## Learning objectives\n",
    "\n",
    "* Recap what unsupervised learning is\n",
    "* Explain how this relates to supervised learning, especially the main differences\n",
    "* Perform K-means clustering, a simple unsupervised learning algorithm, on sample data "
   ]
  },
  {
   "cell_type": "markdown",
   "metadata": {},
   "source": [
    "## Recap\n",
    "\n",
    "* In unsupervised learning, models learn from unlabelled data (i.e. without explicit supervision).\n",
    "* The goal is to learn (often hidden) patterns or structures in the data.\n",
    "* We use unsupervised learning for clustering, dimensionality reduction, anomaly detection, and more. "
   ]
  },
  {
   "cell_type": "markdown",
   "metadata": {},
   "source": [
    "## K-means clustering\n",
    "\n",
    "* This type of algorithm tries to assign class labels (i.e. generate clusters) from unlabelled data.\n",
    "* While there are many types of algorithms that generate clusters, K-means is a great place to start due to its simplicity (much like how we defaulted to linear regressions in previous notebooks).\n",
    "\n",
    "### How does it work?\n",
    "\n",
    "The algorithm is quite simple. To generate k clusters from a dataset, it minimises the variance within each cluster. \n",
    "\n",
    "1. Create k cluster centroids randomly\n",
    "2. Assign each data point to the nearest centroid\n",
    "3. Compute new centroids as the mean of the assigned points\n",
    "4. Repeat steps 2 and 3 until the centroids stabilise (i.e. they do not move significantly)\n",
    "\n",
    "omput"
   ]
  },
  {
   "cell_type": "code",
   "execution_count": 1,
   "metadata": {},
   "outputs": [],
   "source": [
    "import numpy as np\n",
    "import matplotlib.pyplot as plt\n",
    "from sklearn.cluster import KMeans\n",
    "from sklearn.datasets import make_blobs"
   ]
  },
  {
   "cell_type": "code",
   "execution_count": null,
   "metadata": {},
   "outputs": [],
   "source": [
    "# Generate some data\n",
    "X, y = make_blobs(n_samples=300, centers=4, cluster_std=1.0, random_state=42)\n",
    "\n",
    "plt.scatter(X[:, 0], X[:, 1], s=10)\n",
    "plt.title(\"Raw data\")\n",
    "plt.xlabel('Feature 1')\n",
    "plt.ylabel('Feature 2')\n",
    "plt.show()"
   ]
  },
  {
   "cell_type": "code",
   "execution_count": 3,
   "metadata": {},
   "outputs": [],
   "source": [
    "def kmeans_and_plot(X, n_clusters, title):\n",
    "    # Apply k-means\n",
    "    kmeans = KMeans(n_clusters, random_state=42)\n",
    "    kmeans.fit(X)\n",
    "    y_kmeans = kmeans.predict(X)\n",
    "\n",
    "    # Plot data coloured by k-means\n",
    "    plt.scatter(X[:, 0], X[:, 1], c=y_kmeans, s=10, cmap=\"viridis\")\n",
    "    plt.scatter(\n",
    "        kmeans.cluster_centers_[:, 0],\n",
    "        kmeans.cluster_centers_[:, 1],\n",
    "        c=\"red\",\n",
    "        marker=\"X\",\n",
    "        s=100,\n",
    "        label=\"Centroids\",\n",
    "    )\n",
    "    plt.title(title)\n",
    "    plt.xlabel('Feature 1')\n",
    "    plt.ylabel('Feature 2')\n",
    "    plt.legend()\n",
    "    plt.show()"
   ]
  },
  {
   "cell_type": "code",
   "execution_count": null,
   "metadata": {},
   "outputs": [],
   "source": [
    "n_clusters = 4\n",
    "title=\"K-means: Raw data coloured by predicted cluster\"\n",
    "kmeans_and_plot(X, n_clusters, title)"
   ]
  },
  {
   "cell_type": "markdown",
   "metadata": {},
   "source": [
    "### What happens if we have the wrong k?\n",
    "\n",
    "* Here we could easily see 4 clusters, and specify k = 4.\n",
    "* But what if we provide the wrong k?"
   ]
  },
  {
   "cell_type": "code",
   "execution_count": null,
   "metadata": {},
   "outputs": [],
   "source": [
    "n_clusters = 2\n",
    "title=\"K-means: wrong number of clusters (too few)\"\n",
    "kmeans_and_plot(X, n_clusters, title)"
   ]
  },
  {
   "cell_type": "code",
   "execution_count": null,
   "metadata": {},
   "outputs": [],
   "source": [
    "n_clusters = 10\n",
    "title=\"K-means: wrong number of clusters (too many)\"\n",
    "kmeans_and_plot(X, n_clusters, title)"
   ]
  },
  {
   "cell_type": "markdown",
   "metadata": {},
   "source": [
    "* Finally, what happens if we have a less distinct data set?"
   ]
  },
  {
   "cell_type": "code",
   "execution_count": null,
   "metadata": {},
   "outputs": [],
   "source": [
    "# Generate some data\n",
    "X, y = make_blobs(n_samples=500, centers=10, cluster_std=2.0, random_state=42)\n",
    "\n",
    "plt.scatter(X[:, 0], X[:, 1], s=10)\n",
    "plt.title(\"Raw data\")\n",
    "plt.xlabel('Feature 1')\n",
    "plt.ylabel('Feature 2')\n",
    "plt.show()"
   ]
  },
  {
   "cell_type": "code",
   "execution_count": null,
   "metadata": {},
   "outputs": [],
   "source": [
    "n_clusters = 10\n",
    "title=\"K-means: correct number of clusters, less distinct clusters\"\n",
    "kmeans_and_plot(X, n_clusters, title)"
   ]
  },
  {
   "cell_type": "markdown",
   "metadata": {},
   "source": [
    "## Determining the number of clusters\n",
    "\n",
    "* We can attempt to calculate the number of clusters using the elbow method.\n",
    "* This is not perfect, as shown below"
   ]
  },
  {
   "cell_type": "code",
   "execution_count": null,
   "metadata": {},
   "outputs": [],
   "source": [
    "# Generate some data\n",
    "X, y = make_blobs(n_samples=500, centers=6, cluster_std=1., random_state=32)\n",
    "\n",
    "plt.scatter(X[:, 0], X[:, 1], s=10)\n",
    "plt.title(\"Raw data\")\n",
    "plt.xlabel('Feature 1')\n",
    "plt.ylabel('Feature 2')\n",
    "plt.show()"
   ]
  },
  {
   "cell_type": "code",
   "execution_count": 10,
   "metadata": {},
   "outputs": [],
   "source": [
    "def elbow_method_and_plot(X, k_range, title, random_state=42):\n",
    "\n",
    "    # Store within cluster sum of squares (inertia)\n",
    "    wcss = []\n",
    "    for k in k_range:\n",
    "        kmeans = KMeans(n_clusters=k, random_state=random_state)\n",
    "        kmeans.fit(X)\n",
    "\n",
    "        # Store inertia\n",
    "        wcss.append(kmeans.inertia_)\n",
    "\n",
    "    # Plot the elbow curve\n",
    "    plt.figure(figsize=(8, 5))\n",
    "    plt.plot(k_range, wcss, marker='o', linestyle='-')\n",
    "    plt.xlabel(\"Number of clusters k\")\n",
    "    plt.ylabel(\"Within cluster sum of squares (WCSS)\")\n",
    "    plt.title(title)\n",
    "    plt.xticks(k_range)\n",
    "    plt.show()\n"
   ]
  },
  {
   "cell_type": "code",
   "execution_count": null,
   "metadata": {},
   "outputs": [],
   "source": [
    "k_range = range(1, 11)\n",
    "title = \"Elbow method for finding k\"\n",
    "elbow_method_and_plot(X, k_range, title, random_state=42)"
   ]
  },
  {
   "cell_type": "code",
   "execution_count": null,
   "metadata": {},
   "outputs": [],
   "source": [
    "n_clusters = 5\n",
    "title=\"K-means: data coloured by elbow method\"\n",
    "kmeans_and_plot(X, n_clusters, title)"
   ]
  },
  {
   "cell_type": "markdown",
   "metadata": {},
   "source": [
    "* When the clusters are less distinct, the elbow method might be less helpful:"
   ]
  },
  {
   "cell_type": "code",
   "execution_count": null,
   "metadata": {},
   "outputs": [],
   "source": [
    "# Generate some data\n",
    "X, y = make_blobs(n_samples=500, centers=6, cluster_std=2, random_state=32)\n",
    "\n",
    "plt.scatter(X[:, 0], X[:, 1], s=10)\n",
    "plt.title(\"Raw data: 6 clusters (apparently)\")\n",
    "plt.xlabel('Feature 1')\n",
    "plt.ylabel('Feature 2')\n",
    "plt.show()"
   ]
  },
  {
   "cell_type": "code",
   "execution_count": null,
   "metadata": {},
   "outputs": [],
   "source": [
    "k_range = range(1, 11)\n",
    "title = \"Elbow method for finding k\"\n",
    "elbow_method_and_plot(X, k_range, title, random_state=42)"
   ]
  },
  {
   "cell_type": "code",
   "execution_count": null,
   "metadata": {},
   "outputs": [],
   "source": [
    "n_clusters = 4\n",
    "title = \"K-means: data coloured by elbow method\"\n",
    "kmeans_and_plot(X, n_clusters, title)"
   ]
  },
  {
   "cell_type": "markdown",
   "metadata": {},
   "source": [
    "## K-means Animation\n",
    "\n",
    "Below is a animation of K-means, showing each iteration of the algorithm. Notice how the centroids get closer and closer to what a human might label as a 'blob centre' with each step. You should also notice how the centroids move in each iteration, they move to the centre of the points assigned to them."
   ]
  },
  {
   "cell_type": "code",
   "execution_count": 0,
   "metadata": {
    "tags": [
     "remove-input"
    ]
   },
   "outputs": [
    {
     "data": {
      "text/html": [
       "\n",
       "<div style=\"margin: 1rem 0; text-align: center; width: 100%;\">\n",
       "  <iframe \n",
       "    id=\"kmeans-animation\"\n",
       "    src='../../_static/kmeans_animation.html' \n",
       "    width=\"100%\" \n",
       "    height=\"600px\"\n",
       "    style=\"border: none;\"\n",
       "  ></iframe>\n",
       "</div>\n",
       "\n",
       "<script>\n",
       "  document.getElementById(\"kmeans-animation\").onload = function() {\n",
       "    this.style.height = this.contentWindow.document.body.scrollHeight + 'px';\n",
       "  };\n",
       "</script>\n"
      ],
      "text/plain": [
       "<IPython.core.display.HTML object>"
      ]
     },
     "metadata": {},
     "output_type": "display_data"
    }
   ],
   "source": [
    "from IPython.display import HTML, display\n",
    "from matplotlib.animation import FuncAnimation\n",
    "from pathlib import Path\n",
    "\n",
    "html_outfile = \"../../_static/kmeans_animation.html\"\n",
    "\n",
    "X, _ = make_blobs(n_samples=300, centers=4, cluster_std=0.60, random_state=0)\n",
    "kmeans = KMeans(n_clusters=4, init='random', n_init=1, max_iter=1, random_state=42)\n",
    "fig, ax = plt.subplots(figsize=(8, 6))\n",
    "scatter = ax.scatter(X[:, 0], X[:, 1], c='blue', edgecolors=\"k\", s=50)\n",
    "centroid_plot = ax.scatter([], [], c='red', s=200, marker='X')\n",
    "ax.set_aspect(\"equal\")\n",
    "\n",
    "\n",
    "def update(frame):\n",
    "    kmeans.max_iter = frame + 1\n",
    "    kmeans.fit(X)\n",
    "    scatter.set_array(kmeans.labels_)\n",
    "    centroids = kmeans.cluster_centers_\n",
    "    centroid_plot.set_offsets(centroids)\n",
    "    ax.set_title(f'K-Means Clustering - Iteration {frame + 1}')\n",
    "    return scatter, centroid_plot\n",
    "\n",
    "plt.close(fig)\n",
    "animation = FuncAnimation(fig, update, frames=10, interval=1000, blit=True)\n",
    "html = animation.to_jshtml()\n",
    "with open(html_outfile, \"w\") as f:\n",
    "    f.write(html);\n",
    "\n",
    "iframe_id = \"kmeans-animation\"\n",
    "display(HTML(f\"\"\"\n",
    "<div style=\"width: 100%; height:800px;\">\n",
    "  <iframe \n",
    "    id=\"{iframe_id}\"\n",
    "    src='{html_outfile}' \n",
    "    width=\"100%\" \n",
    "    height=\"100%\"\n",
    "    style=\"border: none;\"\n",
    "    scrolling=\"no\"",
    "  ></iframe>\n",
    "</div>\n",
    "\n",
    "\"\"\"))\n"
   ]
  }
 ],
 "metadata": {
  "kernelspec": {
   "display_name": ".venv",
   "language": "python",
   "name": "python3"
  },
  "language_info": {
   "codemirror_mode": {
    "name": "ipython",
    "version": 3
   },
   "file_extension": ".py",
   "mimetype": "text/x-python",
   "name": "python",
   "nbconvert_exporter": "python",
   "pygments_lexer": "ipython3",
   "version": "3.10.16"
  }
 },
 "nbformat": 4,
 "nbformat_minor": 2
}
