{
 "cells": [
  {
   "cell_type": "markdown",
   "metadata": {},
   "source": [
    "# Linear regression\n",
    "\n",
    "## Learning objectives\n",
    "\n",
    "* Perform linear regression using scikit-learn \n",
    "* Explain the concepts of training a linear model that generalises well from few observations\n",
    "* Explain what training is, in terms of updating coefficients in linear models \n",
    "* Understand that these concepts hold in more dimensions "
   ]
  },
  {
   "cell_type": "markdown",
   "metadata": {},
   "source": [
    "## Simple Linear Regression\n",
    "\n",
    "We will start with the most familiar linear regression, a straight-line fit to data.\n",
    "A straight-line fit is a model of the form:\n",
    "$$\n",
    "y = mx + c\n",
    "$$\n",
    "where $m$ is commonly known as the *slope*, and $c$ is commonly known as the *intercept*. $y$ is the value that were trying to predict.\n",
    "\n",
    "Consider the following data, which is scattered about a line with a slope of 2 and an intercept of –5 (see the following figure):"
   ]
  },
  {
   "cell_type": "code",
   "execution_count": 1,
   "metadata": {},
   "outputs": [],
   "source": [
    "import matplotlib.pyplot as plt\n",
    "import numpy as np\n",
    "import pandas as pd"
   ]
  },
  {
   "cell_type": "code",
   "execution_count": 2,
   "metadata": {},
   "outputs": [
    {
     "data": {
      "image/png": "[encoded data removed]",
      "text/plain": [
       "<Figure size 640x480 with 1 Axes>"
      ]
     },
     "metadata": {},
     "output_type": "display_data"
    }
   ],
   "source": [
    "rng = np.random.RandomState(1)\n",
    "\n",
    "x = 3 * rng.rand(50)\n",
    "y = 2 * x - 5 + rng.randn(50)\n",
    "\n",
    "plt.scatter(x, y);"
   ]
  },
  {
   "cell_type": "markdown",
   "metadata": {},
   "source": [
    "Lets create a linear model of this data, or a line of best fit, that can help us make predictions. This process is as follows:\n",
    "\n",
    "* Select a model that we think will represent the data well (i.e. here, a linear model)\n",
    "* Find the a straight line that minimises a distance to each point (i.e. train a model)\n",
    "* Use this line of best fit to create new predictions, which we can then plot\n",
    "\n",
    "Finding the line of best fit here means setting the model parameters (i.e. $m$ and $c$) such that they best fit the training data. We can fit a linear model to this data very easily using the `scikit-learn` package:"
   ]
  },
  {
   "cell_type": "code",
   "execution_count": 3,
   "metadata": {},
   "outputs": [
    {
     "data": {
      "text/html": [
       "<style>#sk-container-id-1 {\n",
       "  /* Definition of color scheme common for light and dark mode */\n",
       "  --sklearn-color-text: #000;\n",
       "  --sklearn-color-text-muted: #666;\n",
       "  --sklearn-color-line: gray;\n",
       "  /* Definition of color scheme for unfitted estimators */\n",
       "  --sklearn-color-unfitted-level-0: #fff5e6;\n",
       "  --sklearn-color-unfitted-level-1: #f6e4d2;\n",
       "  --sklearn-color-unfitted-level-2: #ffe0b3;\n",
       "  --sklearn-color-unfitted-level-3: chocolate;\n",
       "  /* Definition of color scheme for fitted estimators */\n",
       "  --sklearn-color-fitted-level-0: #f0f8ff;\n",
       "  --sklearn-color-fitted-level-1: #d4ebff;\n",
       "  --sklearn-color-fitted-level-2: #b3dbfd;\n",
       "  --sklearn-color-fitted-level-3: cornflowerblue;\n",
       "\n",
       "  /* Specific color for light theme */\n",
       "  --sklearn-color-text-on-default-background: var(--sg-text-color, var(--theme-code-foreground, var(--jp-content-font-color1, black)));\n",
       "  --sklearn-color-background: var(--sg-background-color, var(--theme-background, var(--jp-layout-color0, white)));\n",
       "  --sklearn-color-border-box: var(--sg-text-color, var(--theme-code-foreground, var(--jp-content-font-color1, black)));\n",
       "  --sklearn-color-icon: #696969;\n",
       "\n",
       "  @media (prefers-color-scheme: dark) {\n",
       "    /* Redefinition of color scheme for dark theme */\n",
       "    --sklearn-color-text-on-default-background: var(--sg-text-color, var(--theme-code-foreground, var(--jp-content-font-color1, white)));\n",
       "    --sklearn-color-background: var(--sg-background-color, var(--theme-background, var(--jp-layout-color0, #111)));\n",
       "    --sklearn-color-border-box: var(--sg-text-color, var(--theme-code-foreground, var(--jp-content-font-color1, white)));\n",
       "    --sklearn-color-icon: #878787;\n",
       "  }\n",
       "}\n",
       "\n",
       "#sk-container-id-1 {\n",
       "  color: var(--sklearn-color-text);\n",
       "}\n",
       "\n",
       "#sk-container-id-1 pre {\n",
       "  padding: 0;\n",
       "}\n",
       "\n",
       "#sk-container-id-1 input.sk-hidden--visually {\n",
       "  border: 0;\n",
       "  clip: rect(1px 1px 1px 1px);\n",
       "  clip: rect(1px, 1px, 1px, 1px);\n",
       "  height: 1px;\n",
       "  margin: -1px;\n",
       "  overflow: hidden;\n",
       "  padding: 0;\n",
       "  position: absolute;\n",
       "  width: 1px;\n",
       "}\n",
       "\n",
       "#sk-container-id-1 div.sk-dashed-wrapped {\n",
       "  border: 1px dashed var(--sklearn-color-line);\n",
       "  margin: 0 0.4em 0.5em 0.4em;\n",
       "  box-sizing: border-box;\n",
       "  padding-bottom: 0.4em;\n",
       "  background-color: var(--sklearn-color-background);\n",
       "}\n",
       "\n",
       "#sk-container-id-1 div.sk-container {\n",
       "  /* jupyter's `normalize.less` sets `[hidden] { display: none; }`\n",
       "     but bootstrap.min.css set `[hidden] { display: none !important; }`\n",
       "     so we also need the `!important` here to be able to override the\n",
       "     default hidden behavior on the sphinx rendered scikit-learn.org.\n",
       "     See: https://github.com/scikit-learn/scikit-learn/issues/21755 */\n",
       "  display: inline-block !important;\n",
       "  position: relative;\n",
       "}\n",
       "\n",
       "#sk-container-id-1 div.sk-text-repr-fallback {\n",
       "  display: none;\n",
       "}\n",
       "\n",
       "div.sk-parallel-item,\n",
       "div.sk-serial,\n",
       "div.sk-item {\n",
       "  /* draw centered vertical line to link estimators */\n",
       "  background-image: linear-gradient(var(--sklearn-color-text-on-default-background), var(--sklearn-color-text-on-default-background));\n",
       "  background-size: 2px 100%;\n",
       "  background-repeat: no-repeat;\n",
       "  background-position: center center;\n",
       "}\n",
       "\n",
       "/* Parallel-specific style estimator block */\n",
       "\n",
       "#sk-container-id-1 div.sk-parallel-item::after {\n",
       "  content: \"\";\n",
       "  width: 100%;\n",
       "  border-bottom: 2px solid var(--sklearn-color-text-on-default-background);\n",
       "  flex-grow: 1;\n",
       "}\n",
       "\n",
       "#sk-container-id-1 div.sk-parallel {\n",
       "  display: flex;\n",
       "  align-items: stretch;\n",
       "  justify-content: center;\n",
       "  background-color: var(--sklearn-color-background);\n",
       "  position: relative;\n",
       "}\n",
       "\n",
       "#sk-container-id-1 div.sk-parallel-item {\n",
       "  display: flex;\n",
       "  flex-direction: column;\n",
       "}\n",
       "\n",
       "#sk-container-id-1 div.sk-parallel-item:first-child::after {\n",
       "  align-self: flex-end;\n",
       "  width: 50%;\n",
       "}\n",
       "\n",
       "#sk-container-id-1 div.sk-parallel-item:last-child::after {\n",
       "  align-self: flex-start;\n",
       "  width: 50%;\n",
       "}\n",
       "\n",
       "#sk-container-id-1 div.sk-parallel-item:only-child::after {\n",
       "  width: 0;\n",
       "}\n",
       "\n",
       "/* Serial-specific style estimator block */\n",
       "\n",
       "#sk-container-id-1 div.sk-serial {\n",
       "  display: flex;\n",
       "  flex-direction: column;\n",
       "  align-items: center;\n",
       "  background-color: var(--sklearn-color-background);\n",
       "  padding-right: 1em;\n",
       "  padding-left: 1em;\n",
       "}\n",
       "\n",
       "\n",
       "/* Toggleable style: style used for estimator/Pipeline/ColumnTransformer box that is\n",
       "clickable and can be expanded/collapsed.\n",
       "- Pipeline and ColumnTransformer use this feature and define the default style\n",
       "- Estimators will overwrite some part of the style using the `sk-estimator` class\n",
       "*/\n",
       "\n",
       "/* Pipeline and ColumnTransformer style (default) */\n",
       "\n",
       "#sk-container-id-1 div.sk-toggleable {\n",
       "  /* Default theme specific background. It is overwritten whether we have a\n",
       "  specific estimator or a Pipeline/ColumnTransformer */\n",
       "  background-color: var(--sklearn-color-background);\n",
       "}\n",
       "\n",
       "/* Toggleable label */\n",
       "#sk-container-id-1 label.sk-toggleable__label {\n",
       "  cursor: pointer;\n",
       "  display: flex;\n",
       "  width: 100%;\n",
       "  margin-bottom: 0;\n",
       "  padding: 0.5em;\n",
       "  box-sizing: border-box;\n",
       "  text-align: center;\n",
       "  align-items: start;\n",
       "  justify-content: space-between;\n",
       "  gap: 0.5em;\n",
       "}\n",
       "\n",
       "#sk-container-id-1 label.sk-toggleable__label .caption {\n",
       "  font-size: 0.6rem;\n",
       "  font-weight: lighter;\n",
       "  color: var(--sklearn-color-text-muted);\n",
       "}\n",
       "\n",
       "#sk-container-id-1 label.sk-toggleable__label-arrow:before {\n",
       "  /* Arrow on the left of the label */\n",
       "  content: \"▸\";\n",
       "  float: left;\n",
       "  margin-right: 0.25em;\n",
       "  color: var(--sklearn-color-icon);\n",
       "}\n",
       "\n",
       "#sk-container-id-1 label.sk-toggleable__label-arrow:hover:before {\n",
       "  color: var(--sklearn-color-text);\n",
       "}\n",
       "\n",
       "/* Toggleable content - dropdown */\n",
       "\n",
       "#sk-container-id-1 div.sk-toggleable__content {\n",
       "  max-height: 0;\n",
       "  max-width: 0;\n",
       "  overflow: hidden;\n",
       "  text-align: left;\n",
       "  /* unfitted */\n",
       "  background-color: var(--sklearn-color-unfitted-level-0);\n",
       "}\n",
       "\n",
       "#sk-container-id-1 div.sk-toggleable__content.fitted {\n",
       "  /* fitted */\n",
       "  background-color: var(--sklearn-color-fitted-level-0);\n",
       "}\n",
       "\n",
       "#sk-container-id-1 div.sk-toggleable__content pre {\n",
       "  margin: 0.2em;\n",
       "  border-radius: 0.25em;\n",
       "  color: var(--sklearn-color-text);\n",
       "  /* unfitted */\n",
       "  background-color: var(--sklearn-color-unfitted-level-0);\n",
       "}\n",
       "\n",
       "#sk-container-id-1 div.sk-toggleable__content.fitted pre {\n",
       "  /* unfitted */\n",
       "  background-color: var(--sklearn-color-fitted-level-0);\n",
       "}\n",
       "\n",
       "#sk-container-id-1 input.sk-toggleable__control:checked~div.sk-toggleable__content {\n",
       "  /* Expand drop-down */\n",
       "  max-height: 200px;\n",
       "  max-width: 100%;\n",
       "  overflow: auto;\n",
       "}\n",
       "\n",
       "#sk-container-id-1 input.sk-toggleable__control:checked~label.sk-toggleable__label-arrow:before {\n",
       "  content: \"▾\";\n",
       "}\n",
       "\n",
       "/* Pipeline/ColumnTransformer-specific style */\n",
       "\n",
       "#sk-container-id-1 div.sk-label input.sk-toggleable__control:checked~label.sk-toggleable__label {\n",
       "  color: var(--sklearn-color-text);\n",
       "  background-color: var(--sklearn-color-unfitted-level-2);\n",
       "}\n",
       "\n",
       "#sk-container-id-1 div.sk-label.fitted input.sk-toggleable__control:checked~label.sk-toggleable__label {\n",
       "  background-color: var(--sklearn-color-fitted-level-2);\n",
       "}\n",
       "\n",
       "/* Estimator-specific style */\n",
       "\n",
       "/* Colorize estimator box */\n",
       "#sk-container-id-1 div.sk-estimator input.sk-toggleable__control:checked~label.sk-toggleable__label {\n",
       "  /* unfitted */\n",
       "  background-color: var(--sklearn-color-unfitted-level-2);\n",
       "}\n",
       "\n",
       "#sk-container-id-1 div.sk-estimator.fitted input.sk-toggleable__control:checked~label.sk-toggleable__label {\n",
       "  /* fitted */\n",
       "  background-color: var(--sklearn-color-fitted-level-2);\n",
       "}\n",
       "\n",
       "#sk-container-id-1 div.sk-label label.sk-toggleable__label,\n",
       "#sk-container-id-1 div.sk-label label {\n",
       "  /* The background is the default theme color */\n",
       "  color: var(--sklearn-color-text-on-default-background);\n",
       "}\n",
       "\n",
       "/* On hover, darken the color of the background */\n",
       "#sk-container-id-1 div.sk-label:hover label.sk-toggleable__label {\n",
       "  color: var(--sklearn-color-text);\n",
       "  background-color: var(--sklearn-color-unfitted-level-2);\n",
       "}\n",
       "\n",
       "/* Label box, darken color on hover, fitted */\n",
       "#sk-container-id-1 div.sk-label.fitted:hover label.sk-toggleable__label.fitted {\n",
       "  color: var(--sklearn-color-text);\n",
       "  background-color: var(--sklearn-color-fitted-level-2);\n",
       "}\n",
       "\n",
       "/* Estimator label */\n",
       "\n",
       "#sk-container-id-1 div.sk-label label {\n",
       "  font-family: monospace;\n",
       "  font-weight: bold;\n",
       "  display: inline-block;\n",
       "  line-height: 1.2em;\n",
       "}\n",
       "\n",
       "#sk-container-id-1 div.sk-label-container {\n",
       "  text-align: center;\n",
       "}\n",
       "\n",
       "/* Estimator-specific */\n",
       "#sk-container-id-1 div.sk-estimator {\n",
       "  font-family: monospace;\n",
       "  border: 1px dotted var(--sklearn-color-border-box);\n",
       "  border-radius: 0.25em;\n",
       "  box-sizing: border-box;\n",
       "  margin-bottom: 0.5em;\n",
       "  /* unfitted */\n",
       "  background-color: var(--sklearn-color-unfitted-level-0);\n",
       "}\n",
       "\n",
       "#sk-container-id-1 div.sk-estimator.fitted {\n",
       "  /* fitted */\n",
       "  background-color: var(--sklearn-color-fitted-level-0);\n",
       "}\n",
       "\n",
       "/* on hover */\n",
       "#sk-container-id-1 div.sk-estimator:hover {\n",
       "  /* unfitted */\n",
       "  background-color: var(--sklearn-color-unfitted-level-2);\n",
       "}\n",
       "\n",
       "#sk-container-id-1 div.sk-estimator.fitted:hover {\n",
       "  /* fitted */\n",
       "  background-color: var(--sklearn-color-fitted-level-2);\n",
       "}\n",
       "\n",
       "/* Specification for estimator info (e.g. \"i\" and \"?\") */\n",
       "\n",
       "/* Common style for \"i\" and \"?\" */\n",
       "\n",
       ".sk-estimator-doc-link,\n",
       "a:link.sk-estimator-doc-link,\n",
       "a:visited.sk-estimator-doc-link {\n",
       "  float: right;\n",
       "  font-size: smaller;\n",
       "  line-height: 1em;\n",
       "  font-family: monospace;\n",
       "  background-color: var(--sklearn-color-background);\n",
       "  border-radius: 1em;\n",
       "  height: 1em;\n",
       "  width: 1em;\n",
       "  text-decoration: none !important;\n",
       "  margin-left: 0.5em;\n",
       "  text-align: center;\n",
       "  /* unfitted */\n",
       "  border: var(--sklearn-color-unfitted-level-1) 1pt solid;\n",
       "  color: var(--sklearn-color-unfitted-level-1);\n",
       "}\n",
       "\n",
       ".sk-estimator-doc-link.fitted,\n",
       "a:link.sk-estimator-doc-link.fitted,\n",
       "a:visited.sk-estimator-doc-link.fitted {\n",
       "  /* fitted */\n",
       "  border: var(--sklearn-color-fitted-level-1) 1pt solid;\n",
       "  color: var(--sklearn-color-fitted-level-1);\n",
       "}\n",
       "\n",
       "/* On hover */\n",
       "div.sk-estimator:hover .sk-estimator-doc-link:hover,\n",
       ".sk-estimator-doc-link:hover,\n",
       "div.sk-label-container:hover .sk-estimator-doc-link:hover,\n",
       ".sk-estimator-doc-link:hover {\n",
       "  /* unfitted */\n",
       "  background-color: var(--sklearn-color-unfitted-level-3);\n",
       "  color: var(--sklearn-color-background);\n",
       "  text-decoration: none;\n",
       "}\n",
       "\n",
       "div.sk-estimator.fitted:hover .sk-estimator-doc-link.fitted:hover,\n",
       ".sk-estimator-doc-link.fitted:hover,\n",
       "div.sk-label-container:hover .sk-estimator-doc-link.fitted:hover,\n",
       ".sk-estimator-doc-link.fitted:hover {\n",
       "  /* fitted */\n",
       "  background-color: var(--sklearn-color-fitted-level-3);\n",
       "  color: var(--sklearn-color-background);\n",
       "  text-decoration: none;\n",
       "}\n",
       "\n",
       "/* Span, style for the box shown on hovering the info icon */\n",
       ".sk-estimator-doc-link span {\n",
       "  display: none;\n",
       "  z-index: 9999;\n",
       "  position: relative;\n",
       "  font-weight: normal;\n",
       "  right: .2ex;\n",
       "  padding: .5ex;\n",
       "  margin: .5ex;\n",
       "  width: min-content;\n",
       "  min-width: 20ex;\n",
       "  max-width: 50ex;\n",
       "  color: var(--sklearn-color-text);\n",
       "  box-shadow: 2pt 2pt 4pt #999;\n",
       "  /* unfitted */\n",
       "  background: var(--sklearn-color-unfitted-level-0);\n",
       "  border: .5pt solid var(--sklearn-color-unfitted-level-3);\n",
       "}\n",
       "\n",
       ".sk-estimator-doc-link.fitted span {\n",
       "  /* fitted */\n",
       "  background: var(--sklearn-color-fitted-level-0);\n",
       "  border: var(--sklearn-color-fitted-level-3);\n",
       "}\n",
       "\n",
       ".sk-estimator-doc-link:hover span {\n",
       "  display: block;\n",
       "}\n",
       "\n",
       "/* \"?\"-specific style due to the `<a>` HTML tag */\n",
       "\n",
       "#sk-container-id-1 a.estimator_doc_link {\n",
       "  float: right;\n",
       "  font-size: 1rem;\n",
       "  line-height: 1em;\n",
       "  font-family: monospace;\n",
       "  background-color: var(--sklearn-color-background);\n",
       "  border-radius: 1rem;\n",
       "  height: 1rem;\n",
       "  width: 1rem;\n",
       "  text-decoration: none;\n",
       "  /* unfitted */\n",
       "  color: var(--sklearn-color-unfitted-level-1);\n",
       "  border: var(--sklearn-color-unfitted-level-1) 1pt solid;\n",
       "}\n",
       "\n",
       "#sk-container-id-1 a.estimator_doc_link.fitted {\n",
       "  /* fitted */\n",
       "  border: var(--sklearn-color-fitted-level-1) 1pt solid;\n",
       "  color: var(--sklearn-color-fitted-level-1);\n",
       "}\n",
       "\n",
       "/* On hover */\n",
       "#sk-container-id-1 a.estimator_doc_link:hover {\n",
       "  /* unfitted */\n",
       "  background-color: var(--sklearn-color-unfitted-level-3);\n",
       "  color: var(--sklearn-color-background);\n",
       "  text-decoration: none;\n",
       "}\n",
       "\n",
       "#sk-container-id-1 a.estimator_doc_link.fitted:hover {\n",
       "  /* fitted */\n",
       "  background-color: var(--sklearn-color-fitted-level-3);\n",
       "}\n",
       "</style><div id=\"sk-container-id-1\" class=\"sk-top-container\"><div class=\"sk-text-repr-fallback\"><pre>LinearRegression()</pre><b>In a Jupyter environment, please rerun this cell to show the HTML representation or trust the notebook. <br />On GitHub, the HTML representation is unable to render, please try loading this page with nbviewer.org.</b></div><div class=\"sk-container\" hidden><div class=\"sk-item\"><div class=\"sk-estimator fitted sk-toggleable\"><input class=\"sk-toggleable__control sk-hidden--visually\" id=\"sk-estimator-id-1\" type=\"checkbox\" checked><label for=\"sk-estimator-id-1\" class=\"sk-toggleable__label fitted sk-toggleable__label-arrow\"><div><div>LinearRegression</div></div><div><a class=\"sk-estimator-doc-link fitted\" rel=\"noreferrer\" target=\"_blank\" href=\"https://scikit-learn.org/1.6/modules/generated/sklearn.linear_model.LinearRegression.html\">?<span>Documentation for LinearRegression</span></a><span class=\"sk-estimator-doc-link fitted\">i<span>Fitted</span></span></div></label><div class=\"sk-toggleable__content fitted\"><pre>LinearRegression()</pre></div> </div></div></div></div>"
      ],
      "text/plain": [
       "LinearRegression()"
      ]
     },
     "execution_count": 3,
     "metadata": {},
     "output_type": "execute_result"
    }
   ],
   "source": [
    "from sklearn.linear_model import LinearRegression\n",
    "\n",
    "# Reshape x to 2D vector X: (50,1)\n",
    "X = x.reshape(-1, 1)\n",
    "\n",
    "# Create and fit model\n",
    "model = LinearRegression()\n",
    "model.fit(X, y)\n"
   ]
  },
  {
   "cell_type": "markdown",
   "metadata": {},
   "source": [
    "Our slope should be close to 2:"
   ]
  },
  {
   "cell_type": "code",
   "execution_count": 4,
   "metadata": {},
   "outputs": [
    {
     "name": "stdout",
     "output_type": "stream",
     "text": [
      "Slope: [2.09069603]\n"
     ]
    }
   ],
   "source": [
    "print(f\"Slope: {model.coef_}\")"
   ]
  },
  {
   "cell_type": "markdown",
   "metadata": {},
   "source": [
    "Our intercept should be close to -5:"
   ]
  },
  {
   "cell_type": "code",
   "execution_count": 5,
   "metadata": {},
   "outputs": [
    {
     "name": "stdout",
     "output_type": "stream",
     "text": [
      "Intercept: -4.998577085553205\n"
     ]
    }
   ],
   "source": [
    "print(f\"Intercept: {model.intercept_}\")"
   ]
  },
  {
   "cell_type": "markdown",
   "metadata": {},
   "source": [
    "We can make predictions for a single new data point as so:"
   ]
  },
  {
   "cell_type": "code",
   "execution_count": 6,
   "metadata": {},
   "outputs": [
    {
     "name": "stdout",
     "output_type": "stream",
     "text": [
      "New x value: 1.5, predicted y value: -1.863\n"
     ]
    }
   ],
   "source": [
    "x_new = 1.5\n",
    "X_new = [[1.5]]\n",
    "\n",
    "y_pred_new = model.predict(X_new)[0]\n",
    "\n",
    "print(f\"New x value: {x_new}, predicted y value: {y_pred_new:.3f}\")"
   ]
  },
  {
   "cell_type": "markdown",
   "metadata": {},
   "source": [
    "We can plot this new data point on our graph to see if it roughly fits:"
   ]
  },
  {
   "cell_type": "code",
   "execution_count": 7,
   "metadata": {},
   "outputs": [
    {
     "data": {
      "image/png": "[encoded data removed]",
      "text/plain": [
       "<Figure size 640x480 with 1 Axes>"
      ]
     },
     "metadata": {},
     "output_type": "display_data"
    }
   ],
   "source": [
    "plt.scatter(x, y)\n",
    "plt.scatter(x_new, y_pred_new, marker=\"x\", s=200, label=\"New y prediction\")\n",
    "plt.legend();"
   ]
  },
  {
   "cell_type": "markdown",
   "metadata": {},
   "source": [
    "We have successfully create a single new prediction from a new $x$ value. \n",
    "\n",
    "To create a line of best fit, what do we need? We need to use the model to make many predictions. We can create $y_pred$, predicted $y$ values from our model, given a vector of input data. Conveniently, we can use our existing $x$ values, as a vector $X$:"
   ]
  },
  {
   "cell_type": "code",
   "execution_count": 8,
   "metadata": {},
   "outputs": [
    {
     "name": "stdout",
     "output_type": "stream",
     "text": [
      "(50,) (50, 1)\n"
     ]
    }
   ],
   "source": [
    "y_pred = model.predict(X)\n",
    "\n",
    "print(y.shape, X.shape)"
   ]
  },
  {
   "cell_type": "code",
   "execution_count": 9,
   "metadata": {},
   "outputs": [
    {
     "data": {
      "image/png": "[encoded data removed]",
      "text/plain": [
       "<Figure size 640x480 with 1 Axes>"
      ]
     },
     "metadata": {},
     "output_type": "display_data"
    }
   ],
   "source": [
    "plt.scatter(x, y)\n",
    "plt.plot(x, y_pred, label=\"Predictions\", c=\"orange\")\n",
    "plt.legend();"
   ]
  },
  {
   "cell_type": "markdown",
   "metadata": {},
   "source": [
    "The line plot obfuscates what is going on here. Lets plot our predictions as scatter:"
   ]
  },
  {
   "cell_type": "code",
   "execution_count": 10,
   "metadata": {},
   "outputs": [
    {
     "data": {
      "image/png": "[encoded data removed]",
      "text/plain": [
       "<Figure size 640x480 with 1 Axes>"
      ]
     },
     "metadata": {},
     "output_type": "display_data"
    }
   ],
   "source": [
    "plt.scatter(x, y, s=10)\n",
    "plt.scatter(x, y_pred, label=\"Predictions\", s=10)\n",
    "plt.legend();"
   ]
  },
  {
   "cell_type": "markdown",
   "metadata": {},
   "source": [
    "### What does \"best\" mean?\n",
    "\n",
    "When we trained our linear model, we needed to define a cost function. We will talk a bit more about these later, but for a linear model, we commonly using the Root Mean Squared Error, or just the Mean Squared Error, or $MSE$:\n",
    "\n",
    "$$\n",
    "MSE = \\frac{1}{n} \\sum_{i=1}^{n} (y_i - \\hat{y}_i)^2\n",
    "$$\n",
    "\n",
    "where:\n",
    "- $y_i$ = Actual value of the $i^{th}$ data point\n",
    "- $\\hat{y}_i$ = Predicted value from the regression line, a member of `y_pred`\n",
    "- $n$ = Total number of data points\n",
    "\n",
    "We can visualise this by plotting a line between every data point, and every prediction:"
   ]
  },
  {
   "cell_type": "code",
   "execution_count": 11,
   "metadata": {},
   "outputs": [
    {
     "data": {
      "image/png": "[encoded data removed]",
      "text/plain": [
       "<Figure size 640x480 with 1 Axes>"
      ]
     },
     "metadata": {},
     "output_type": "display_data"
    }
   ],
   "source": [
    "plt.scatter(x, y, s=10)\n",
    "plt.scatter(x, y_pred, label=\"Predictions\", s=10)\n",
    "\n",
    "for i, x_i in enumerate(x):\n",
    "    plt.plot([x_i, x_i], [y[i], y_pred[i]], color='black', linestyle='dashed')\n",
    "\n",
    "plt.legend();"
   ]
  },
  {
   "cell_type": "markdown",
   "metadata": {},
   "source": [
    "We dont need to compute $MSE$ manually. We can import this from `scikit-learn`. We will discuss this in more detail later in the course."
   ]
  },
  {
   "cell_type": "code",
   "execution_count": 12,
   "metadata": {},
   "outputs": [
    {
     "name": "stdout",
     "output_type": "stream",
     "text": [
      "MSE value: 0.818\n"
     ]
    }
   ],
   "source": [
    "from sklearn.metrics import mean_squared_error\n",
    "\n",
    "mse = mean_squared_error(y, y_pred)\n",
    "\n",
    "print(f\"MSE value: {mse:.3f}\")"
   ]
  },
  {
   "cell_type": "markdown",
   "metadata": {},
   "source": [
    "### What does training mean?\n",
    "\n",
    "Now that we have a measure of how well our model fits the data (the $MSE$), how does `scikit-learn` actually set the model coefficients such that the $MSE$ is minimised?\n",
    "\n",
    "In general, when we use the word training, an iterative approach is implied. For example, some machine learning algorithms use gradient descent to tweak the parameters (or coefficients) such that the cost function is minimised. \n",
    "\n",
    "However, linear regression is special in that the model has a closed-form/exact solution. This is provided below for completeness, but is a bit heavy on the mathematics to dig into in this course.\n",
    "\n",
    "**Note**: Technically, it uses singular value decomposition. Read more [here](https://scikit-learn.org/stable/modules/linear_model.html#linear-models)."
   ]
  },
  {
   "cell_type": "code",
   "execution_count": 13,
   "metadata": {},
   "outputs": [
    {
     "name": "stdout",
     "output_type": "stream",
     "text": [
      "Trained model: y = 2.091x + -4.999\n"
     ]
    }
   ],
   "source": [
    "X_b = np.c_[np.ones((50, 1)), x]  # Add bias term (column of 1s)\n",
    "\n",
    "# Compute the best-fit line using the Normal Equation\n",
    "theta_best = np.linalg.inv(X_b.T @ X_b) @ X_b.T @ y\n",
    "\n",
    "# Extract slope and intercept\n",
    "c, m = theta_best\n",
    "\n",
    "# Compute predicted y values\n",
    "y_pred = m * x + c\n",
    "\n",
    "print(f\"Trained model: y = {m:.3f}x + {c:.3f}\")"
   ]
  },
  {
   "cell_type": "code",
   "execution_count": 14,
   "metadata": {},
   "outputs": [
    {
     "data": {
      "image/png": "[encoded data removed]",
      "text/plain": [
       "<Figure size 640x480 with 1 Axes>"
      ]
     },
     "metadata": {},
     "output_type": "display_data"
    }
   ],
   "source": [
    "plt.scatter(x, y)\n",
    "plt.plot(x, y_pred, color=\"orange\", label=\"Closed form predictions\")\n",
    "\n",
    "# Draw vertical lines from each point to the line\n",
    "for i in range(len(x)):\n",
    "    plt.plot([x[i], x[i]], [y[i], y_pred[i]], color='black', linestyle='dashed')\n",
    "\n",
    "plt.title(\"Linear Regression with closed-form predictions\")\n",
    "plt.legend()\n",
    "plt.show()"
   ]
  },
  {
   "cell_type": "markdown",
   "metadata": {},
   "source": [
    "### Real world data example\n",
    "\n",
    "Lets use linear regression to solve a small problem. Using GDP per capita, predict a life satisfaction score for a country of your choice."
   ]
  },
  {
   "cell_type": "code",
   "execution_count": 15,
   "metadata": {},
   "outputs": [],
   "source": [
    "# Download and prepare the data\n",
    "data_root = \"https://github.com/ageron/data/raw/main/\"\n",
    "lifesat_df = pd.read_csv(data_root + \"lifesat/lifesat.csv\")"
   ]
  },
  {
   "cell_type": "code",
   "execution_count": 16,
   "metadata": {},
   "outputs": [],
   "source": [
    "# Extract X and y\n",
    "X = lifesat_df[[\"GDP per capita (USD)\"]].values\n",
    "y = lifesat_df[[\"Life satisfaction\"]].values"
   ]
  },
  {
   "cell_type": "code",
   "execution_count": null,
   "metadata": {},
   "outputs": [
    {
     "data": {
      "text/html": [
       "<div>\n",
       "<style scoped>\n",
       "    .dataframe tbody tr th:only-of-type {\n",
       "        vertical-align: middle;\n",
       "    }\n",
       "\n",
       "    .dataframe tbody tr th {\n",
       "        vertical-align: top;\n",
       "    }\n",
       "\n",
       "    .dataframe thead th {\n",
       "        text-align: right;\n",
       "    }\n",
       "</style>\n",
       "<table border=\"1\" class=\"dataframe\">\n",
       "  <thead>\n",
       "    <tr style=\"text-align: right;\">\n",
       "      <th></th>\n",
       "      <th>Country</th>\n",
       "      <th>GDP per capita (USD)</th>\n",
       "      <th>Life satisfaction</th>\n",
       "    </tr>\n",
       "  </thead>\n",
       "  <tbody>\n",
       "    <tr>\n",
       "      <th>0</th>\n",
       "      <td>Russia</td>\n",
       "      <td>26456.387938</td>\n",
       "      <td>5.8</td>\n",
       "    </tr>\n",
       "    <tr>\n",
       "      <th>1</th>\n",
       "      <td>Greece</td>\n",
       "      <td>27287.083401</td>\n",
       "      <td>5.4</td>\n",
       "    </tr>\n",
       "    <tr>\n",
       "      <th>2</th>\n",
       "      <td>Turkey</td>\n",
       "      <td>28384.987785</td>\n",
       "      <td>5.5</td>\n",
       "    </tr>\n",
       "    <tr>\n",
       "      <th>3</th>\n",
       "      <td>Latvia</td>\n",
       "      <td>29932.493910</td>\n",
       "      <td>5.9</td>\n",
       "    </tr>\n",
       "    <tr>\n",
       "      <th>4</th>\n",
       "      <td>Hungary</td>\n",
       "      <td>31007.768407</td>\n",
       "      <td>5.6</td>\n",
       "    </tr>\n",
       "    <tr>\n",
       "      <th>5</th>\n",
       "      <td>Portugal</td>\n",
       "      <td>32181.154537</td>\n",
       "      <td>5.4</td>\n",
       "    </tr>\n",
       "    <tr>\n",
       "      <th>6</th>\n",
       "      <td>Poland</td>\n",
       "      <td>32238.157259</td>\n",
       "      <td>6.1</td>\n",
       "    </tr>\n",
       "    <tr>\n",
       "      <th>7</th>\n",
       "      <td>Estonia</td>\n",
       "      <td>35638.421351</td>\n",
       "      <td>5.7</td>\n",
       "    </tr>\n",
       "    <tr>\n",
       "      <th>8</th>\n",
       "      <td>Spain</td>\n",
       "      <td>36215.447591</td>\n",
       "      <td>6.3</td>\n",
       "    </tr>\n",
       "    <tr>\n",
       "      <th>9</th>\n",
       "      <td>Slovenia</td>\n",
       "      <td>36547.738956</td>\n",
       "      <td>5.9</td>\n",
       "    </tr>\n",
       "    <tr>\n",
       "      <th>10</th>\n",
       "      <td>Lithuania</td>\n",
       "      <td>36732.034744</td>\n",
       "      <td>5.9</td>\n",
       "    </tr>\n",
       "    <tr>\n",
       "      <th>11</th>\n",
       "      <td>Israel</td>\n",
       "      <td>38341.307570</td>\n",
       "      <td>7.2</td>\n",
       "    </tr>\n",
       "    <tr>\n",
       "      <th>12</th>\n",
       "      <td>Italy</td>\n",
       "      <td>38992.148381</td>\n",
       "      <td>6.0</td>\n",
       "    </tr>\n",
       "    <tr>\n",
       "      <th>13</th>\n",
       "      <td>United Kingdom</td>\n",
       "      <td>41627.129269</td>\n",
       "      <td>6.8</td>\n",
       "    </tr>\n",
       "    <tr>\n",
       "      <th>14</th>\n",
       "      <td>France</td>\n",
       "      <td>42025.617373</td>\n",
       "      <td>6.5</td>\n",
       "    </tr>\n",
       "    <tr>\n",
       "      <th>15</th>\n",
       "      <td>New Zealand</td>\n",
       "      <td>42404.393738</td>\n",
       "      <td>7.3</td>\n",
       "    </tr>\n",
       "    <tr>\n",
       "      <th>16</th>\n",
       "      <td>Canada</td>\n",
       "      <td>45856.625626</td>\n",
       "      <td>7.4</td>\n",
       "    </tr>\n",
       "    <tr>\n",
       "      <th>17</th>\n",
       "      <td>Finland</td>\n",
       "      <td>47260.800458</td>\n",
       "      <td>7.6</td>\n",
       "    </tr>\n",
       "    <tr>\n",
       "      <th>18</th>\n",
       "      <td>Belgium</td>\n",
       "      <td>48210.033111</td>\n",
       "      <td>6.9</td>\n",
       "    </tr>\n",
       "    <tr>\n",
       "      <th>19</th>\n",
       "      <td>Australia</td>\n",
       "      <td>48697.837028</td>\n",
       "      <td>7.3</td>\n",
       "    </tr>\n",
       "    <tr>\n",
       "      <th>20</th>\n",
       "      <td>Sweden</td>\n",
       "      <td>50683.323510</td>\n",
       "      <td>7.3</td>\n",
       "    </tr>\n",
       "    <tr>\n",
       "      <th>21</th>\n",
       "      <td>Germany</td>\n",
       "      <td>50922.358023</td>\n",
       "      <td>7.0</td>\n",
       "    </tr>\n",
       "    <tr>\n",
       "      <th>22</th>\n",
       "      <td>Austria</td>\n",
       "      <td>51935.603862</td>\n",
       "      <td>7.1</td>\n",
       "    </tr>\n",
       "    <tr>\n",
       "      <th>23</th>\n",
       "      <td>Iceland</td>\n",
       "      <td>52279.728851</td>\n",
       "      <td>7.5</td>\n",
       "    </tr>\n",
       "    <tr>\n",
       "      <th>24</th>\n",
       "      <td>Netherlands</td>\n",
       "      <td>54209.563836</td>\n",
       "      <td>7.4</td>\n",
       "    </tr>\n",
       "    <tr>\n",
       "      <th>25</th>\n",
       "      <td>Denmark</td>\n",
       "      <td>55938.212809</td>\n",
       "      <td>7.6</td>\n",
       "    </tr>\n",
       "    <tr>\n",
       "      <th>26</th>\n",
       "      <td>United States</td>\n",
       "      <td>60235.728492</td>\n",
       "      <td>6.9</td>\n",
       "    </tr>\n",
       "  </tbody>\n",
       "</table>\n",
       "</div>"
      ],
      "text/plain": [
       "           Country  GDP per capita (USD)  Life satisfaction\n",
       "0           Russia          26456.387938                5.8\n",
       "1           Greece          27287.083401                5.4\n",
       "2           Turkey          28384.987785                5.5\n",
       "3           Latvia          29932.493910                5.9\n",
       "4          Hungary          31007.768407                5.6\n",
       "5         Portugal          32181.154537                5.4\n",
       "6           Poland          32238.157259                6.1\n",
       "7          Estonia          35638.421351                5.7\n",
       "8            Spain          36215.447591                6.3\n",
       "9         Slovenia          36547.738956                5.9\n",
       "10       Lithuania          36732.034744                5.9\n",
       "11          Israel          38341.307570                7.2\n",
       "12           Italy          38992.148381                6.0\n",
       "13  United Kingdom          41627.129269                6.8\n",
       "14          France          42025.617373                6.5\n",
       "15     New Zealand          42404.393738                7.3\n",
       "16          Canada          45856.625626                7.4\n",
       "17         Finland          47260.800458                7.6\n",
       "18         Belgium          48210.033111                6.9\n",
       "19       Australia          48697.837028                7.3\n",
       "20          Sweden          50683.323510                7.3\n",
       "21         Germany          50922.358023                7.0\n",
       "22         Austria          51935.603862                7.1\n",
       "23         Iceland          52279.728851                7.5\n",
       "24     Netherlands          54209.563836                7.4\n",
       "25         Denmark          55938.212809                7.6\n",
       "26   United States          60235.728492                6.9"
      ]
     },
     "execution_count": 17,
     "metadata": {},
     "output_type": "execute_result"
    }
   ],
   "source": [
    "lifesat_df.head()"
   ]
  },
  {
   "cell_type": "code",
   "execution_count": null,
   "metadata": {},
   "outputs": [
    {
     "data": {
      "image/png": "[encoded data removed]",
      "text/plain": [
       "<Figure size 640x480 with 1 Axes>"
      ]
     },
     "metadata": {},
     "output_type": "display_data"
    }
   ],
   "source": [
    "# Visualise the data\n",
    "lifesat_df.plot(\n",
    "    kind=\"scatter\", grid=True, x=\"GDP per capita (USD)\", y=\"Life satisfaction\"\n",
    ")\n",
    "plt.show()"
   ]
  },
  {
   "cell_type": "code",
   "execution_count": 19,
   "metadata": {},
   "outputs": [
    {
     "data": {
      "text/html": [
       "<style>#sk-container-id-2 {\n",
       "  /* Definition of color scheme common for light and dark mode */\n",
       "  --sklearn-color-text: #000;\n",
       "  --sklearn-color-text-muted: #666;\n",
       "  --sklearn-color-line: gray;\n",
       "  /* Definition of color scheme for unfitted estimators */\n",
       "  --sklearn-color-unfitted-level-0: #fff5e6;\n",
       "  --sklearn-color-unfitted-level-1: #f6e4d2;\n",
       "  --sklearn-color-unfitted-level-2: #ffe0b3;\n",
       "  --sklearn-color-unfitted-level-3: chocolate;\n",
       "  /* Definition of color scheme for fitted estimators */\n",
       "  --sklearn-color-fitted-level-0: #f0f8ff;\n",
       "  --sklearn-color-fitted-level-1: #d4ebff;\n",
       "  --sklearn-color-fitted-level-2: #b3dbfd;\n",
       "  --sklearn-color-fitted-level-3: cornflowerblue;\n",
       "\n",
       "  /* Specific color for light theme */\n",
       "  --sklearn-color-text-on-default-background: var(--sg-text-color, var(--theme-code-foreground, var(--jp-content-font-color1, black)));\n",
       "  --sklearn-color-background: var(--sg-background-color, var(--theme-background, var(--jp-layout-color0, white)));\n",
       "  --sklearn-color-border-box: var(--sg-text-color, var(--theme-code-foreground, var(--jp-content-font-color1, black)));\n",
       "  --sklearn-color-icon: #696969;\n",
       "\n",
       "  @media (prefers-color-scheme: dark) {\n",
       "    /* Redefinition of color scheme for dark theme */\n",
       "    --sklearn-color-text-on-default-background: var(--sg-text-color, var(--theme-code-foreground, var(--jp-content-font-color1, white)));\n",
       "    --sklearn-color-background: var(--sg-background-color, var(--theme-background, var(--jp-layout-color0, #111)));\n",
       "    --sklearn-color-border-box: var(--sg-text-color, var(--theme-code-foreground, var(--jp-content-font-color1, white)));\n",
       "    --sklearn-color-icon: #878787;\n",
       "  }\n",
       "}\n",
       "\n",
       "#sk-container-id-2 {\n",
       "  color: var(--sklearn-color-text);\n",
       "}\n",
       "\n",
       "#sk-container-id-2 pre {\n",
       "  padding: 0;\n",
       "}\n",
       "\n",
       "#sk-container-id-2 input.sk-hidden--visually {\n",
       "  border: 0;\n",
       "  clip: rect(1px 1px 1px 1px);\n",
       "  clip: rect(1px, 1px, 1px, 1px);\n",
       "  height: 1px;\n",
       "  margin: -1px;\n",
       "  overflow: hidden;\n",
       "  padding: 0;\n",
       "  position: absolute;\n",
       "  width: 1px;\n",
       "}\n",
       "\n",
       "#sk-container-id-2 div.sk-dashed-wrapped {\n",
       "  border: 1px dashed var(--sklearn-color-line);\n",
       "  margin: 0 0.4em 0.5em 0.4em;\n",
       "  box-sizing: border-box;\n",
       "  padding-bottom: 0.4em;\n",
       "  background-color: var(--sklearn-color-background);\n",
       "}\n",
       "\n",
       "#sk-container-id-2 div.sk-container {\n",
       "  /* jupyter's `normalize.less` sets `[hidden] { display: none; }`\n",
       "     but bootstrap.min.css set `[hidden] { display: none !important; }`\n",
       "     so we also need the `!important` here to be able to override the\n",
       "     default hidden behavior on the sphinx rendered scikit-learn.org.\n",
       "     See: https://github.com/scikit-learn/scikit-learn/issues/21755 */\n",
       "  display: inline-block !important;\n",
       "  position: relative;\n",
       "}\n",
       "\n",
       "#sk-container-id-2 div.sk-text-repr-fallback {\n",
       "  display: none;\n",
       "}\n",
       "\n",
       "div.sk-parallel-item,\n",
       "div.sk-serial,\n",
       "div.sk-item {\n",
       "  /* draw centered vertical line to link estimators */\n",
       "  background-image: linear-gradient(var(--sklearn-color-text-on-default-background), var(--sklearn-color-text-on-default-background));\n",
       "  background-size: 2px 100%;\n",
       "  background-repeat: no-repeat;\n",
       "  background-position: center center;\n",
       "}\n",
       "\n",
       "/* Parallel-specific style estimator block */\n",
       "\n",
       "#sk-container-id-2 div.sk-parallel-item::after {\n",
       "  content: \"\";\n",
       "  width: 100%;\n",
       "  border-bottom: 2px solid var(--sklearn-color-text-on-default-background);\n",
       "  flex-grow: 1;\n",
       "}\n",
       "\n",
       "#sk-container-id-2 div.sk-parallel {\n",
       "  display: flex;\n",
       "  align-items: stretch;\n",
       "  justify-content: center;\n",
       "  background-color: var(--sklearn-color-background);\n",
       "  position: relative;\n",
       "}\n",
       "\n",
       "#sk-container-id-2 div.sk-parallel-item {\n",
       "  display: flex;\n",
       "  flex-direction: column;\n",
       "}\n",
       "\n",
       "#sk-container-id-2 div.sk-parallel-item:first-child::after {\n",
       "  align-self: flex-end;\n",
       "  width: 50%;\n",
       "}\n",
       "\n",
       "#sk-container-id-2 div.sk-parallel-item:last-child::after {\n",
       "  align-self: flex-start;\n",
       "  width: 50%;\n",
       "}\n",
       "\n",
       "#sk-container-id-2 div.sk-parallel-item:only-child::after {\n",
       "  width: 0;\n",
       "}\n",
       "\n",
       "/* Serial-specific style estimator block */\n",
       "\n",
       "#sk-container-id-2 div.sk-serial {\n",
       "  display: flex;\n",
       "  flex-direction: column;\n",
       "  align-items: center;\n",
       "  background-color: var(--sklearn-color-background);\n",
       "  padding-right: 1em;\n",
       "  padding-left: 1em;\n",
       "}\n",
       "\n",
       "\n",
       "/* Toggleable style: style used for estimator/Pipeline/ColumnTransformer box that is\n",
       "clickable and can be expanded/collapsed.\n",
       "- Pipeline and ColumnTransformer use this feature and define the default style\n",
       "- Estimators will overwrite some part of the style using the `sk-estimator` class\n",
       "*/\n",
       "\n",
       "/* Pipeline and ColumnTransformer style (default) */\n",
       "\n",
       "#sk-container-id-2 div.sk-toggleable {\n",
       "  /* Default theme specific background. It is overwritten whether we have a\n",
       "  specific estimator or a Pipeline/ColumnTransformer */\n",
       "  background-color: var(--sklearn-color-background);\n",
       "}\n",
       "\n",
       "/* Toggleable label */\n",
       "#sk-container-id-2 label.sk-toggleable__label {\n",
       "  cursor: pointer;\n",
       "  display: flex;\n",
       "  width: 100%;\n",
       "  margin-bottom: 0;\n",
       "  padding: 0.5em;\n",
       "  box-sizing: border-box;\n",
       "  text-align: center;\n",
       "  align-items: start;\n",
       "  justify-content: space-between;\n",
       "  gap: 0.5em;\n",
       "}\n",
       "\n",
       "#sk-container-id-2 label.sk-toggleable__label .caption {\n",
       "  font-size: 0.6rem;\n",
       "  font-weight: lighter;\n",
       "  color: var(--sklearn-color-text-muted);\n",
       "}\n",
       "\n",
       "#sk-container-id-2 label.sk-toggleable__label-arrow:before {\n",
       "  /* Arrow on the left of the label */\n",
       "  content: \"▸\";\n",
       "  float: left;\n",
       "  margin-right: 0.25em;\n",
       "  color: var(--sklearn-color-icon);\n",
       "}\n",
       "\n",
       "#sk-container-id-2 label.sk-toggleable__label-arrow:hover:before {\n",
       "  color: var(--sklearn-color-text);\n",
       "}\n",
       "\n",
       "/* Toggleable content - dropdown */\n",
       "\n",
       "#sk-container-id-2 div.sk-toggleable__content {\n",
       "  max-height: 0;\n",
       "  max-width: 0;\n",
       "  overflow: hidden;\n",
       "  text-align: left;\n",
       "  /* unfitted */\n",
       "  background-color: var(--sklearn-color-unfitted-level-0);\n",
       "}\n",
       "\n",
       "#sk-container-id-2 div.sk-toggleable__content.fitted {\n",
       "  /* fitted */\n",
       "  background-color: var(--sklearn-color-fitted-level-0);\n",
       "}\n",
       "\n",
       "#sk-container-id-2 div.sk-toggleable__content pre {\n",
       "  margin: 0.2em;\n",
       "  border-radius: 0.25em;\n",
       "  color: var(--sklearn-color-text);\n",
       "  /* unfitted */\n",
       "  background-color: var(--sklearn-color-unfitted-level-0);\n",
       "}\n",
       "\n",
       "#sk-container-id-2 div.sk-toggleable__content.fitted pre {\n",
       "  /* unfitted */\n",
       "  background-color: var(--sklearn-color-fitted-level-0);\n",
       "}\n",
       "\n",
       "#sk-container-id-2 input.sk-toggleable__control:checked~div.sk-toggleable__content {\n",
       "  /* Expand drop-down */\n",
       "  max-height: 200px;\n",
       "  max-width: 100%;\n",
       "  overflow: auto;\n",
       "}\n",
       "\n",
       "#sk-container-id-2 input.sk-toggleable__control:checked~label.sk-toggleable__label-arrow:before {\n",
       "  content: \"▾\";\n",
       "}\n",
       "\n",
       "/* Pipeline/ColumnTransformer-specific style */\n",
       "\n",
       "#sk-container-id-2 div.sk-label input.sk-toggleable__control:checked~label.sk-toggleable__label {\n",
       "  color: var(--sklearn-color-text);\n",
       "  background-color: var(--sklearn-color-unfitted-level-2);\n",
       "}\n",
       "\n",
       "#sk-container-id-2 div.sk-label.fitted input.sk-toggleable__control:checked~label.sk-toggleable__label {\n",
       "  background-color: var(--sklearn-color-fitted-level-2);\n",
       "}\n",
       "\n",
       "/* Estimator-specific style */\n",
       "\n",
       "/* Colorize estimator box */\n",
       "#sk-container-id-2 div.sk-estimator input.sk-toggleable__control:checked~label.sk-toggleable__label {\n",
       "  /* unfitted */\n",
       "  background-color: var(--sklearn-color-unfitted-level-2);\n",
       "}\n",
       "\n",
       "#sk-container-id-2 div.sk-estimator.fitted input.sk-toggleable__control:checked~label.sk-toggleable__label {\n",
       "  /* fitted */\n",
       "  background-color: var(--sklearn-color-fitted-level-2);\n",
       "}\n",
       "\n",
       "#sk-container-id-2 div.sk-label label.sk-toggleable__label,\n",
       "#sk-container-id-2 div.sk-label label {\n",
       "  /* The background is the default theme color */\n",
       "  color: var(--sklearn-color-text-on-default-background);\n",
       "}\n",
       "\n",
       "/* On hover, darken the color of the background */\n",
       "#sk-container-id-2 div.sk-label:hover label.sk-toggleable__label {\n",
       "  color: var(--sklearn-color-text);\n",
       "  background-color: var(--sklearn-color-unfitted-level-2);\n",
       "}\n",
       "\n",
       "/* Label box, darken color on hover, fitted */\n",
       "#sk-container-id-2 div.sk-label.fitted:hover label.sk-toggleable__label.fitted {\n",
       "  color: var(--sklearn-color-text);\n",
       "  background-color: var(--sklearn-color-fitted-level-2);\n",
       "}\n",
       "\n",
       "/* Estimator label */\n",
       "\n",
       "#sk-container-id-2 div.sk-label label {\n",
       "  font-family: monospace;\n",
       "  font-weight: bold;\n",
       "  display: inline-block;\n",
       "  line-height: 1.2em;\n",
       "}\n",
       "\n",
       "#sk-container-id-2 div.sk-label-container {\n",
       "  text-align: center;\n",
       "}\n",
       "\n",
       "/* Estimator-specific */\n",
       "#sk-container-id-2 div.sk-estimator {\n",
       "  font-family: monospace;\n",
       "  border: 1px dotted var(--sklearn-color-border-box);\n",
       "  border-radius: 0.25em;\n",
       "  box-sizing: border-box;\n",
       "  margin-bottom: 0.5em;\n",
       "  /* unfitted */\n",
       "  background-color: var(--sklearn-color-unfitted-level-0);\n",
       "}\n",
       "\n",
       "#sk-container-id-2 div.sk-estimator.fitted {\n",
       "  /* fitted */\n",
       "  background-color: var(--sklearn-color-fitted-level-0);\n",
       "}\n",
       "\n",
       "/* on hover */\n",
       "#sk-container-id-2 div.sk-estimator:hover {\n",
       "  /* unfitted */\n",
       "  background-color: var(--sklearn-color-unfitted-level-2);\n",
       "}\n",
       "\n",
       "#sk-container-id-2 div.sk-estimator.fitted:hover {\n",
       "  /* fitted */\n",
       "  background-color: var(--sklearn-color-fitted-level-2);\n",
       "}\n",
       "\n",
       "/* Specification for estimator info (e.g. \"i\" and \"?\") */\n",
       "\n",
       "/* Common style for \"i\" and \"?\" */\n",
       "\n",
       ".sk-estimator-doc-link,\n",
       "a:link.sk-estimator-doc-link,\n",
       "a:visited.sk-estimator-doc-link {\n",
       "  float: right;\n",
       "  font-size: smaller;\n",
       "  line-height: 1em;\n",
       "  font-family: monospace;\n",
       "  background-color: var(--sklearn-color-background);\n",
       "  border-radius: 1em;\n",
       "  height: 1em;\n",
       "  width: 1em;\n",
       "  text-decoration: none !important;\n",
       "  margin-left: 0.5em;\n",
       "  text-align: center;\n",
       "  /* unfitted */\n",
       "  border: var(--sklearn-color-unfitted-level-1) 1pt solid;\n",
       "  color: var(--sklearn-color-unfitted-level-1);\n",
       "}\n",
       "\n",
       ".sk-estimator-doc-link.fitted,\n",
       "a:link.sk-estimator-doc-link.fitted,\n",
       "a:visited.sk-estimator-doc-link.fitted {\n",
       "  /* fitted */\n",
       "  border: var(--sklearn-color-fitted-level-1) 1pt solid;\n",
       "  color: var(--sklearn-color-fitted-level-1);\n",
       "}\n",
       "\n",
       "/* On hover */\n",
       "div.sk-estimator:hover .sk-estimator-doc-link:hover,\n",
       ".sk-estimator-doc-link:hover,\n",
       "div.sk-label-container:hover .sk-estimator-doc-link:hover,\n",
       ".sk-estimator-doc-link:hover {\n",
       "  /* unfitted */\n",
       "  background-color: var(--sklearn-color-unfitted-level-3);\n",
       "  color: var(--sklearn-color-background);\n",
       "  text-decoration: none;\n",
       "}\n",
       "\n",
       "div.sk-estimator.fitted:hover .sk-estimator-doc-link.fitted:hover,\n",
       ".sk-estimator-doc-link.fitted:hover,\n",
       "div.sk-label-container:hover .sk-estimator-doc-link.fitted:hover,\n",
       ".sk-estimator-doc-link.fitted:hover {\n",
       "  /* fitted */\n",
       "  background-color: var(--sklearn-color-fitted-level-3);\n",
       "  color: var(--sklearn-color-background);\n",
       "  text-decoration: none;\n",
       "}\n",
       "\n",
       "/* Span, style for the box shown on hovering the info icon */\n",
       ".sk-estimator-doc-link span {\n",
       "  display: none;\n",
       "  z-index: 9999;\n",
       "  position: relative;\n",
       "  font-weight: normal;\n",
       "  right: .2ex;\n",
       "  padding: .5ex;\n",
       "  margin: .5ex;\n",
       "  width: min-content;\n",
       "  min-width: 20ex;\n",
       "  max-width: 50ex;\n",
       "  color: var(--sklearn-color-text);\n",
       "  box-shadow: 2pt 2pt 4pt #999;\n",
       "  /* unfitted */\n",
       "  background: var(--sklearn-color-unfitted-level-0);\n",
       "  border: .5pt solid var(--sklearn-color-unfitted-level-3);\n",
       "}\n",
       "\n",
       ".sk-estimator-doc-link.fitted span {\n",
       "  /* fitted */\n",
       "  background: var(--sklearn-color-fitted-level-0);\n",
       "  border: var(--sklearn-color-fitted-level-3);\n",
       "}\n",
       "\n",
       ".sk-estimator-doc-link:hover span {\n",
       "  display: block;\n",
       "}\n",
       "\n",
       "/* \"?\"-specific style due to the `<a>` HTML tag */\n",
       "\n",
       "#sk-container-id-2 a.estimator_doc_link {\n",
       "  float: right;\n",
       "  font-size: 1rem;\n",
       "  line-height: 1em;\n",
       "  font-family: monospace;\n",
       "  background-color: var(--sklearn-color-background);\n",
       "  border-radius: 1rem;\n",
       "  height: 1rem;\n",
       "  width: 1rem;\n",
       "  text-decoration: none;\n",
       "  /* unfitted */\n",
       "  color: var(--sklearn-color-unfitted-level-1);\n",
       "  border: var(--sklearn-color-unfitted-level-1) 1pt solid;\n",
       "}\n",
       "\n",
       "#sk-container-id-2 a.estimator_doc_link.fitted {\n",
       "  /* fitted */\n",
       "  border: var(--sklearn-color-fitted-level-1) 1pt solid;\n",
       "  color: var(--sklearn-color-fitted-level-1);\n",
       "}\n",
       "\n",
       "/* On hover */\n",
       "#sk-container-id-2 a.estimator_doc_link:hover {\n",
       "  /* unfitted */\n",
       "  background-color: var(--sklearn-color-unfitted-level-3);\n",
       "  color: var(--sklearn-color-background);\n",
       "  text-decoration: none;\n",
       "}\n",
       "\n",
       "#sk-container-id-2 a.estimator_doc_link.fitted:hover {\n",
       "  /* fitted */\n",
       "  background-color: var(--sklearn-color-fitted-level-3);\n",
       "}\n",
       "</style><div id=\"sk-container-id-2\" class=\"sk-top-container\"><div class=\"sk-text-repr-fallback\"><pre>LinearRegression()</pre><b>In a Jupyter environment, please rerun this cell to show the HTML representation or trust the notebook. <br />On GitHub, the HTML representation is unable to render, please try loading this page with nbviewer.org.</b></div><div class=\"sk-container\" hidden><div class=\"sk-item\"><div class=\"sk-estimator fitted sk-toggleable\"><input class=\"sk-toggleable__control sk-hidden--visually\" id=\"sk-estimator-id-2\" type=\"checkbox\" checked><label for=\"sk-estimator-id-2\" class=\"sk-toggleable__label fitted sk-toggleable__label-arrow\"><div><div>LinearRegression</div></div><div><a class=\"sk-estimator-doc-link fitted\" rel=\"noreferrer\" target=\"_blank\" href=\"https://scikit-learn.org/1.6/modules/generated/sklearn.linear_model.LinearRegression.html\">?<span>Documentation for LinearRegression</span></a><span class=\"sk-estimator-doc-link fitted\">i<span>Fitted</span></span></div></label><div class=\"sk-toggleable__content fitted\"><pre>LinearRegression()</pre></div> </div></div></div></div>"
      ],
      "text/plain": [
       "LinearRegression()"
      ]
     },
     "execution_count": 19,
     "metadata": {},
     "output_type": "execute_result"
    }
   ],
   "source": [
    "# Select a linear model and train it\n",
    "model = LinearRegression()\n",
    "model.fit(X, y)"
   ]
  },
  {
   "cell_type": "code",
   "execution_count": 20,
   "metadata": {},
   "outputs": [
    {
     "name": "stdout",
     "output_type": "stream",
     "text": [
      "Cyprus predicted life satisfaction: 6.302\n"
     ]
    }
   ],
   "source": [
    "# Make a prediction for Cyprus, given GDP is USD 37655.2 in 2020\n",
    "X_new = [[37655.2]]\n",
    "y_pred_new = model.predict(X_new)\n",
    "\n",
    "print(f\"Cyprus predicted life satisfaction: {y_pred_new[0][0]:.3f}\")"
   ]
  },
  {
   "cell_type": "code",
   "execution_count": null,
   "metadata": {},
   "outputs": [
    {
     "data": {
      "image/png": "[encoded data removed]",
      "text/plain": [
       "<Figure size 640x480 with 1 Axes>"
      ]
     },
     "metadata": {},
     "output_type": "display_data"
    }
   ],
   "source": [
    "# Visualise the data\n",
    "lifesat_df.plot(\n",
    "    kind=\"scatter\", grid=True, x=\"GDP per capita (USD)\", y=\"Life satisfaction\"\n",
    ")\n",
    "plt.scatter(X_new, y_pred_new, c=\"red\", marker=\"x\", label=\"Cyprus\")\n",
    "plt.legend()\n",
    "plt.show()"
   ]
  },
  {
   "cell_type": "markdown",
   "metadata": {},
   "source": [
    "## Multiple linear regression (multiple regression)\n",
    "\n",
    "We have used linear regression in scenarios where we are predicting one dependent variable (i.e. $y$) from one dependent variable (i.e. $x$). Linear regression can be used in situations where we are predicting $y$ from two or more dependent variables. Mathematically, it is not quite as simple as performing linear regression for each of the dependent variables.\n",
    "\n",
    "The general equation for multiple linear regression is:\n",
    "\n",
    "$$\n",
    "y = \\beta_0 + \\beta_1 X_1 + \\beta_2 X_2 + ... + \\beta_n X_n + \\epsilon\n",
    "$$\n",
    "\n",
    "Where:\n",
    "- $y$ = Dependent variable (what we're predicting)\n",
    "- $X_1, X_2, ..., X_n$ = Independent variables (predictors)\n",
    "- $\\beta_0$ = Intercept (value of $y$ when all $X$'s are 0)\n",
    "- $\\beta_1, \\beta_2, ..., \\beta_n$ = Regression coefficients (indicating how much $y$ changes with a unit change in $X$)\n",
    "- $\\epsilon$ = Error term (accounts for variance not explained by the predictors)\n",
    "\n",
    "A simple example might be trying to predict a person's salary **salary ($y$)** based on their **years of experience ($X_1$)** and **education level ($X_2$)**. The regression equation might look like:\n",
    "\n",
    "$$\n",
    "\\text{Salary} = 30,000 + 5000(\\text{Years of Experience}) + 2000(\\text{Education Level}) + \\epsilon\n",
    "$$\n"
   ]
  },
  {
   "cell_type": "markdown",
   "metadata": {},
   "source": [
    "## Multiple regression with synthetic data\n",
    "\n",
    "As before, we can generate some random data, but this time, for two dependent variables. We will need to combine the feature variables to create a single vector for the model training stage."
   ]
  },
  {
   "cell_type": "code",
   "execution_count": 22,
   "metadata": {},
   "outputs": [],
   "source": [
    "X1 = np.random.rand(100, 1) * 10  # First feature\n",
    "X2 = np.random.rand(100, 1) * 10  # Second feature\n",
    "y = 2 * X1 + 2 * X2 + np.random.randn(100, 1) * 5"
   ]
  },
  {
   "cell_type": "code",
   "execution_count": 23,
   "metadata": {},
   "outputs": [
    {
     "data": {
      "text/plain": [
       "(100, 2)"
      ]
     },
     "execution_count": 23,
     "metadata": {},
     "output_type": "execute_result"
    }
   ],
   "source": [
    "X = np.hstack((X1, X2))\n",
    "X.shape"
   ]
  },
  {
   "cell_type": "markdown",
   "metadata": {},
   "source": [
    "Now we will create and train the model as before:"
   ]
  },
  {
   "cell_type": "code",
   "execution_count": 24,
   "metadata": {},
   "outputs": [
    {
     "data": {
      "text/html": [
       "<style>#sk-container-id-3 {\n",
       "  /* Definition of color scheme common for light and dark mode */\n",
       "  --sklearn-color-text: #000;\n",
       "  --sklearn-color-text-muted: #666;\n",
       "  --sklearn-color-line: gray;\n",
       "  /* Definition of color scheme for unfitted estimators */\n",
       "  --sklearn-color-unfitted-level-0: #fff5e6;\n",
       "  --sklearn-color-unfitted-level-1: #f6e4d2;\n",
       "  --sklearn-color-unfitted-level-2: #ffe0b3;\n",
       "  --sklearn-color-unfitted-level-3: chocolate;\n",
       "  /* Definition of color scheme for fitted estimators */\n",
       "  --sklearn-color-fitted-level-0: #f0f8ff;\n",
       "  --sklearn-color-fitted-level-1: #d4ebff;\n",
       "  --sklearn-color-fitted-level-2: #b3dbfd;\n",
       "  --sklearn-color-fitted-level-3: cornflowerblue;\n",
       "\n",
       "  /* Specific color for light theme */\n",
       "  --sklearn-color-text-on-default-background: var(--sg-text-color, var(--theme-code-foreground, var(--jp-content-font-color1, black)));\n",
       "  --sklearn-color-background: var(--sg-background-color, var(--theme-background, var(--jp-layout-color0, white)));\n",
       "  --sklearn-color-border-box: var(--sg-text-color, var(--theme-code-foreground, var(--jp-content-font-color1, black)));\n",
       "  --sklearn-color-icon: #696969;\n",
       "\n",
       "  @media (prefers-color-scheme: dark) {\n",
       "    /* Redefinition of color scheme for dark theme */\n",
       "    --sklearn-color-text-on-default-background: var(--sg-text-color, var(--theme-code-foreground, var(--jp-content-font-color1, white)));\n",
       "    --sklearn-color-background: var(--sg-background-color, var(--theme-background, var(--jp-layout-color0, #111)));\n",
       "    --sklearn-color-border-box: var(--sg-text-color, var(--theme-code-foreground, var(--jp-content-font-color1, white)));\n",
       "    --sklearn-color-icon: #878787;\n",
       "  }\n",
       "}\n",
       "\n",
       "#sk-container-id-3 {\n",
       "  color: var(--sklearn-color-text);\n",
       "}\n",
       "\n",
       "#sk-container-id-3 pre {\n",
       "  padding: 0;\n",
       "}\n",
       "\n",
       "#sk-container-id-3 input.sk-hidden--visually {\n",
       "  border: 0;\n",
       "  clip: rect(1px 1px 1px 1px);\n",
       "  clip: rect(1px, 1px, 1px, 1px);\n",
       "  height: 1px;\n",
       "  margin: -1px;\n",
       "  overflow: hidden;\n",
       "  padding: 0;\n",
       "  position: absolute;\n",
       "  width: 1px;\n",
       "}\n",
       "\n",
       "#sk-container-id-3 div.sk-dashed-wrapped {\n",
       "  border: 1px dashed var(--sklearn-color-line);\n",
       "  margin: 0 0.4em 0.5em 0.4em;\n",
       "  box-sizing: border-box;\n",
       "  padding-bottom: 0.4em;\n",
       "  background-color: var(--sklearn-color-background);\n",
       "}\n",
       "\n",
       "#sk-container-id-3 div.sk-container {\n",
       "  /* jupyter's `normalize.less` sets `[hidden] { display: none; }`\n",
       "     but bootstrap.min.css set `[hidden] { display: none !important; }`\n",
       "     so we also need the `!important` here to be able to override the\n",
       "     default hidden behavior on the sphinx rendered scikit-learn.org.\n",
       "     See: https://github.com/scikit-learn/scikit-learn/issues/21755 */\n",
       "  display: inline-block !important;\n",
       "  position: relative;\n",
       "}\n",
       "\n",
       "#sk-container-id-3 div.sk-text-repr-fallback {\n",
       "  display: none;\n",
       "}\n",
       "\n",
       "div.sk-parallel-item,\n",
       "div.sk-serial,\n",
       "div.sk-item {\n",
       "  /* draw centered vertical line to link estimators */\n",
       "  background-image: linear-gradient(var(--sklearn-color-text-on-default-background), var(--sklearn-color-text-on-default-background));\n",
       "  background-size: 2px 100%;\n",
       "  background-repeat: no-repeat;\n",
       "  background-position: center center;\n",
       "}\n",
       "\n",
       "/* Parallel-specific style estimator block */\n",
       "\n",
       "#sk-container-id-3 div.sk-parallel-item::after {\n",
       "  content: \"\";\n",
       "  width: 100%;\n",
       "  border-bottom: 2px solid var(--sklearn-color-text-on-default-background);\n",
       "  flex-grow: 1;\n",
       "}\n",
       "\n",
       "#sk-container-id-3 div.sk-parallel {\n",
       "  display: flex;\n",
       "  align-items: stretch;\n",
       "  justify-content: center;\n",
       "  background-color: var(--sklearn-color-background);\n",
       "  position: relative;\n",
       "}\n",
       "\n",
       "#sk-container-id-3 div.sk-parallel-item {\n",
       "  display: flex;\n",
       "  flex-direction: column;\n",
       "}\n",
       "\n",
       "#sk-container-id-3 div.sk-parallel-item:first-child::after {\n",
       "  align-self: flex-end;\n",
       "  width: 50%;\n",
       "}\n",
       "\n",
       "#sk-container-id-3 div.sk-parallel-item:last-child::after {\n",
       "  align-self: flex-start;\n",
       "  width: 50%;\n",
       "}\n",
       "\n",
       "#sk-container-id-3 div.sk-parallel-item:only-child::after {\n",
       "  width: 0;\n",
       "}\n",
       "\n",
       "/* Serial-specific style estimator block */\n",
       "\n",
       "#sk-container-id-3 div.sk-serial {\n",
       "  display: flex;\n",
       "  flex-direction: column;\n",
       "  align-items: center;\n",
       "  background-color: var(--sklearn-color-background);\n",
       "  padding-right: 1em;\n",
       "  padding-left: 1em;\n",
       "}\n",
       "\n",
       "\n",
       "/* Toggleable style: style used for estimator/Pipeline/ColumnTransformer box that is\n",
       "clickable and can be expanded/collapsed.\n",
       "- Pipeline and ColumnTransformer use this feature and define the default style\n",
       "- Estimators will overwrite some part of the style using the `sk-estimator` class\n",
       "*/\n",
       "\n",
       "/* Pipeline and ColumnTransformer style (default) */\n",
       "\n",
       "#sk-container-id-3 div.sk-toggleable {\n",
       "  /* Default theme specific background. It is overwritten whether we have a\n",
       "  specific estimator or a Pipeline/ColumnTransformer */\n",
       "  background-color: var(--sklearn-color-background);\n",
       "}\n",
       "\n",
       "/* Toggleable label */\n",
       "#sk-container-id-3 label.sk-toggleable__label {\n",
       "  cursor: pointer;\n",
       "  display: flex;\n",
       "  width: 100%;\n",
       "  margin-bottom: 0;\n",
       "  padding: 0.5em;\n",
       "  box-sizing: border-box;\n",
       "  text-align: center;\n",
       "  align-items: start;\n",
       "  justify-content: space-between;\n",
       "  gap: 0.5em;\n",
       "}\n",
       "\n",
       "#sk-container-id-3 label.sk-toggleable__label .caption {\n",
       "  font-size: 0.6rem;\n",
       "  font-weight: lighter;\n",
       "  color: var(--sklearn-color-text-muted);\n",
       "}\n",
       "\n",
       "#sk-container-id-3 label.sk-toggleable__label-arrow:before {\n",
       "  /* Arrow on the left of the label */\n",
       "  content: \"▸\";\n",
       "  float: left;\n",
       "  margin-right: 0.25em;\n",
       "  color: var(--sklearn-color-icon);\n",
       "}\n",
       "\n",
       "#sk-container-id-3 label.sk-toggleable__label-arrow:hover:before {\n",
       "  color: var(--sklearn-color-text);\n",
       "}\n",
       "\n",
       "/* Toggleable content - dropdown */\n",
       "\n",
       "#sk-container-id-3 div.sk-toggleable__content {\n",
       "  max-height: 0;\n",
       "  max-width: 0;\n",
       "  overflow: hidden;\n",
       "  text-align: left;\n",
       "  /* unfitted */\n",
       "  background-color: var(--sklearn-color-unfitted-level-0);\n",
       "}\n",
       "\n",
       "#sk-container-id-3 div.sk-toggleable__content.fitted {\n",
       "  /* fitted */\n",
       "  background-color: var(--sklearn-color-fitted-level-0);\n",
       "}\n",
       "\n",
       "#sk-container-id-3 div.sk-toggleable__content pre {\n",
       "  margin: 0.2em;\n",
       "  border-radius: 0.25em;\n",
       "  color: var(--sklearn-color-text);\n",
       "  /* unfitted */\n",
       "  background-color: var(--sklearn-color-unfitted-level-0);\n",
       "}\n",
       "\n",
       "#sk-container-id-3 div.sk-toggleable__content.fitted pre {\n",
       "  /* unfitted */\n",
       "  background-color: var(--sklearn-color-fitted-level-0);\n",
       "}\n",
       "\n",
       "#sk-container-id-3 input.sk-toggleable__control:checked~div.sk-toggleable__content {\n",
       "  /* Expand drop-down */\n",
       "  max-height: 200px;\n",
       "  max-width: 100%;\n",
       "  overflow: auto;\n",
       "}\n",
       "\n",
       "#sk-container-id-3 input.sk-toggleable__control:checked~label.sk-toggleable__label-arrow:before {\n",
       "  content: \"▾\";\n",
       "}\n",
       "\n",
       "/* Pipeline/ColumnTransformer-specific style */\n",
       "\n",
       "#sk-container-id-3 div.sk-label input.sk-toggleable__control:checked~label.sk-toggleable__label {\n",
       "  color: var(--sklearn-color-text);\n",
       "  background-color: var(--sklearn-color-unfitted-level-2);\n",
       "}\n",
       "\n",
       "#sk-container-id-3 div.sk-label.fitted input.sk-toggleable__control:checked~label.sk-toggleable__label {\n",
       "  background-color: var(--sklearn-color-fitted-level-2);\n",
       "}\n",
       "\n",
       "/* Estimator-specific style */\n",
       "\n",
       "/* Colorize estimator box */\n",
       "#sk-container-id-3 div.sk-estimator input.sk-toggleable__control:checked~label.sk-toggleable__label {\n",
       "  /* unfitted */\n",
       "  background-color: var(--sklearn-color-unfitted-level-2);\n",
       "}\n",
       "\n",
       "#sk-container-id-3 div.sk-estimator.fitted input.sk-toggleable__control:checked~label.sk-toggleable__label {\n",
       "  /* fitted */\n",
       "  background-color: var(--sklearn-color-fitted-level-2);\n",
       "}\n",
       "\n",
       "#sk-container-id-3 div.sk-label label.sk-toggleable__label,\n",
       "#sk-container-id-3 div.sk-label label {\n",
       "  /* The background is the default theme color */\n",
       "  color: var(--sklearn-color-text-on-default-background);\n",
       "}\n",
       "\n",
       "/* On hover, darken the color of the background */\n",
       "#sk-container-id-3 div.sk-label:hover label.sk-toggleable__label {\n",
       "  color: var(--sklearn-color-text);\n",
       "  background-color: var(--sklearn-color-unfitted-level-2);\n",
       "}\n",
       "\n",
       "/* Label box, darken color on hover, fitted */\n",
       "#sk-container-id-3 div.sk-label.fitted:hover label.sk-toggleable__label.fitted {\n",
       "  color: var(--sklearn-color-text);\n",
       "  background-color: var(--sklearn-color-fitted-level-2);\n",
       "}\n",
       "\n",
       "/* Estimator label */\n",
       "\n",
       "#sk-container-id-3 div.sk-label label {\n",
       "  font-family: monospace;\n",
       "  font-weight: bold;\n",
       "  display: inline-block;\n",
       "  line-height: 1.2em;\n",
       "}\n",
       "\n",
       "#sk-container-id-3 div.sk-label-container {\n",
       "  text-align: center;\n",
       "}\n",
       "\n",
       "/* Estimator-specific */\n",
       "#sk-container-id-3 div.sk-estimator {\n",
       "  font-family: monospace;\n",
       "  border: 1px dotted var(--sklearn-color-border-box);\n",
       "  border-radius: 0.25em;\n",
       "  box-sizing: border-box;\n",
       "  margin-bottom: 0.5em;\n",
       "  /* unfitted */\n",
       "  background-color: var(--sklearn-color-unfitted-level-0);\n",
       "}\n",
       "\n",
       "#sk-container-id-3 div.sk-estimator.fitted {\n",
       "  /* fitted */\n",
       "  background-color: var(--sklearn-color-fitted-level-0);\n",
       "}\n",
       "\n",
       "/* on hover */\n",
       "#sk-container-id-3 div.sk-estimator:hover {\n",
       "  /* unfitted */\n",
       "  background-color: var(--sklearn-color-unfitted-level-2);\n",
       "}\n",
       "\n",
       "#sk-container-id-3 div.sk-estimator.fitted:hover {\n",
       "  /* fitted */\n",
       "  background-color: var(--sklearn-color-fitted-level-2);\n",
       "}\n",
       "\n",
       "/* Specification for estimator info (e.g. \"i\" and \"?\") */\n",
       "\n",
       "/* Common style for \"i\" and \"?\" */\n",
       "\n",
       ".sk-estimator-doc-link,\n",
       "a:link.sk-estimator-doc-link,\n",
       "a:visited.sk-estimator-doc-link {\n",
       "  float: right;\n",
       "  font-size: smaller;\n",
       "  line-height: 1em;\n",
       "  font-family: monospace;\n",
       "  background-color: var(--sklearn-color-background);\n",
       "  border-radius: 1em;\n",
       "  height: 1em;\n",
       "  width: 1em;\n",
       "  text-decoration: none !important;\n",
       "  margin-left: 0.5em;\n",
       "  text-align: center;\n",
       "  /* unfitted */\n",
       "  border: var(--sklearn-color-unfitted-level-1) 1pt solid;\n",
       "  color: var(--sklearn-color-unfitted-level-1);\n",
       "}\n",
       "\n",
       ".sk-estimator-doc-link.fitted,\n",
       "a:link.sk-estimator-doc-link.fitted,\n",
       "a:visited.sk-estimator-doc-link.fitted {\n",
       "  /* fitted */\n",
       "  border: var(--sklearn-color-fitted-level-1) 1pt solid;\n",
       "  color: var(--sklearn-color-fitted-level-1);\n",
       "}\n",
       "\n",
       "/* On hover */\n",
       "div.sk-estimator:hover .sk-estimator-doc-link:hover,\n",
       ".sk-estimator-doc-link:hover,\n",
       "div.sk-label-container:hover .sk-estimator-doc-link:hover,\n",
       ".sk-estimator-doc-link:hover {\n",
       "  /* unfitted */\n",
       "  background-color: var(--sklearn-color-unfitted-level-3);\n",
       "  color: var(--sklearn-color-background);\n",
       "  text-decoration: none;\n",
       "}\n",
       "\n",
       "div.sk-estimator.fitted:hover .sk-estimator-doc-link.fitted:hover,\n",
       ".sk-estimator-doc-link.fitted:hover,\n",
       "div.sk-label-container:hover .sk-estimator-doc-link.fitted:hover,\n",
       ".sk-estimator-doc-link.fitted:hover {\n",
       "  /* fitted */\n",
       "  background-color: var(--sklearn-color-fitted-level-3);\n",
       "  color: var(--sklearn-color-background);\n",
       "  text-decoration: none;\n",
       "}\n",
       "\n",
       "/* Span, style for the box shown on hovering the info icon */\n",
       ".sk-estimator-doc-link span {\n",
       "  display: none;\n",
       "  z-index: 9999;\n",
       "  position: relative;\n",
       "  font-weight: normal;\n",
       "  right: .2ex;\n",
       "  padding: .5ex;\n",
       "  margin: .5ex;\n",
       "  width: min-content;\n",
       "  min-width: 20ex;\n",
       "  max-width: 50ex;\n",
       "  color: var(--sklearn-color-text);\n",
       "  box-shadow: 2pt 2pt 4pt #999;\n",
       "  /* unfitted */\n",
       "  background: var(--sklearn-color-unfitted-level-0);\n",
       "  border: .5pt solid var(--sklearn-color-unfitted-level-3);\n",
       "}\n",
       "\n",
       ".sk-estimator-doc-link.fitted span {\n",
       "  /* fitted */\n",
       "  background: var(--sklearn-color-fitted-level-0);\n",
       "  border: var(--sklearn-color-fitted-level-3);\n",
       "}\n",
       "\n",
       ".sk-estimator-doc-link:hover span {\n",
       "  display: block;\n",
       "}\n",
       "\n",
       "/* \"?\"-specific style due to the `<a>` HTML tag */\n",
       "\n",
       "#sk-container-id-3 a.estimator_doc_link {\n",
       "  float: right;\n",
       "  font-size: 1rem;\n",
       "  line-height: 1em;\n",
       "  font-family: monospace;\n",
       "  background-color: var(--sklearn-color-background);\n",
       "  border-radius: 1rem;\n",
       "  height: 1rem;\n",
       "  width: 1rem;\n",
       "  text-decoration: none;\n",
       "  /* unfitted */\n",
       "  color: var(--sklearn-color-unfitted-level-1);\n",
       "  border: var(--sklearn-color-unfitted-level-1) 1pt solid;\n",
       "}\n",
       "\n",
       "#sk-container-id-3 a.estimator_doc_link.fitted {\n",
       "  /* fitted */\n",
       "  border: var(--sklearn-color-fitted-level-1) 1pt solid;\n",
       "  color: var(--sklearn-color-fitted-level-1);\n",
       "}\n",
       "\n",
       "/* On hover */\n",
       "#sk-container-id-3 a.estimator_doc_link:hover {\n",
       "  /* unfitted */\n",
       "  background-color: var(--sklearn-color-unfitted-level-3);\n",
       "  color: var(--sklearn-color-background);\n",
       "  text-decoration: none;\n",
       "}\n",
       "\n",
       "#sk-container-id-3 a.estimator_doc_link.fitted:hover {\n",
       "  /* fitted */\n",
       "  background-color: var(--sklearn-color-fitted-level-3);\n",
       "}\n",
       "</style><div id=\"sk-container-id-3\" class=\"sk-top-container\"><div class=\"sk-text-repr-fallback\"><pre>LinearRegression()</pre><b>In a Jupyter environment, please rerun this cell to show the HTML representation or trust the notebook. <br />On GitHub, the HTML representation is unable to render, please try loading this page with nbviewer.org.</b></div><div class=\"sk-container\" hidden><div class=\"sk-item\"><div class=\"sk-estimator fitted sk-toggleable\"><input class=\"sk-toggleable__control sk-hidden--visually\" id=\"sk-estimator-id-3\" type=\"checkbox\" checked><label for=\"sk-estimator-id-3\" class=\"sk-toggleable__label fitted sk-toggleable__label-arrow\"><div><div>LinearRegression</div></div><div><a class=\"sk-estimator-doc-link fitted\" rel=\"noreferrer\" target=\"_blank\" href=\"https://scikit-learn.org/1.6/modules/generated/sklearn.linear_model.LinearRegression.html\">?<span>Documentation for LinearRegression</span></a><span class=\"sk-estimator-doc-link fitted\">i<span>Fitted</span></span></div></label><div class=\"sk-toggleable__content fitted\"><pre>LinearRegression()</pre></div> </div></div></div></div>"
      ],
      "text/plain": [
       "LinearRegression()"
      ]
     },
     "execution_count": 24,
     "metadata": {},
     "output_type": "execute_result"
    }
   ],
   "source": [
    "model = LinearRegression()\n",
    "model.fit(X, y)"
   ]
  },
  {
   "cell_type": "markdown",
   "metadata": {},
   "source": [
    "We can view coefficients (note there are now two):"
   ]
  },
  {
   "cell_type": "code",
   "execution_count": 25,
   "metadata": {},
   "outputs": [
    {
     "data": {
      "text/plain": [
       "array([[2.05229166, 2.21918116]])"
      ]
     },
     "execution_count": 25,
     "metadata": {},
     "output_type": "execute_result"
    }
   ],
   "source": [
    "model.coef_"
   ]
  },
  {
   "cell_type": "markdown",
   "metadata": {},
   "source": [
    "But still one intercept:"
   ]
  },
  {
   "cell_type": "code",
   "execution_count": 26,
   "metadata": {},
   "outputs": [
    {
     "data": {
      "text/plain": [
       "array([-1.00578449])"
      ]
     },
     "execution_count": 26,
     "metadata": {},
     "output_type": "execute_result"
    }
   ],
   "source": [
    "model.intercept_"
   ]
  },
  {
   "cell_type": "markdown",
   "metadata": {},
   "source": [
    "We can still make predictions, but we need to provide two samples, and wrangle them a bit more than before:"
   ]
  },
  {
   "cell_type": "code",
   "execution_count": 27,
   "metadata": {},
   "outputs": [],
   "source": [
    "# Two new samples for x1 and x2\n",
    "x1_new = 5\n",
    "x2_new = 6\n",
    "\n",
    "# Samples in correct shape for model prediction\n",
    "X_new = np.array([[x1_new, x2_new]])"
   ]
  },
  {
   "cell_type": "code",
   "execution_count": 28,
   "metadata": {},
   "outputs": [
    {
     "name": "stdout",
     "output_type": "stream",
     "text": [
      "22.570760790454237\n"
     ]
    }
   ],
   "source": [
    "# Predict new y value from two independent variables\n",
    "y_pred_new = model.predict(X_new)[0][0]\n",
    "\n",
    "print(y_pred_new)"
   ]
  },
  {
   "cell_type": "markdown",
   "metadata": {},
   "source": [
    "Finally, what is the equivalent plot? For multiple regression, instead of a line of best fit, we can plot a hyperplane. For two X dimensions and one y dimension, this can be plotted exactly on a 3 dimensional X Y Z plot."
   ]
  },
  {
   "cell_type": "code",
   "execution_count": 29,
   "metadata": {},
   "outputs": [],
   "source": [
    "import plotly.graph_objects as go"
   ]
  },
  {
   "cell_type": "code",
   "execution_count": 30,
   "metadata": {},
   "outputs": [
    {
     "data": {
      "application/vnd.plotly.v1+json": {
       "config": {
        "plotlyServerURL": "https://plot.ly"
       },
       "data": [
        {
         "marker": {
          "color": "blue",
          "size": 5
         },
         "mode": "markers",
         "name": "Data",
         "type": "scatter3d",
         "x": {
          "bdata": "Xr5T6lB/DUAeXO7kPh8YQBTQzaOP/whAPGL39kgWHEAVq5spXnL9P1kK7jt7Ch5A/BYROTPb5j+RHlLAS4T9P8IG4wDzIRJA8IKBNudMC0BXIHlbOyoRQNgQ1HxzIBNARMLNwx6UGUAICm6TL78eQBVngBfcGPo/t92HMF/FD0BeAEjtNRMZQN4zUpQVXwxAgsbuU58VIUB6m6PxH9EFQBQIkQK8uxdAJNsnvTm45T/uJHGfpJsGQKDjkCvR1iBAJHwzABBKC0CCSAuHgmr1P0zRBZ9+FBhALDhasFH4H0CGNlnB1CAaQLtMP3DTrRtAiSLl5JffIEAPh9kyl+EaQLoSCDhNBwdAiINwcM0SEkA+7G9nyTMNQANNHT7pRvU/kxjBxuNeFkAABqEJdyAJQLty4vE7+CFARd/FV7OMFEA+7hUWef0RQHLYOi71+wlAK+WSh63iI0D7XMvCkPkGQGFDVHmoaP0/p+leWNn+HEAzVBhs3/MfQIsOjcGSKwhAxQT1ifzB+z+gc2bY358WQLR8aEA9oAlAbr8w1rwWGUDvDKC9W6b3P13jA3P8vAFABBBNuOSyCkBJeNR2UZkbQPjBhxT/YRxAWnmKoGAJIEADi8322vYhQLQ+Yblqo+s/iWpeU49kHEAk52JRf5MSQLvvaFhBeBxA5gY77Tnj4z+qGFjiaUIPQET39YjWRx1AUuh7F/GuFUDoooJK8O8KQOwfXbY1Gt0/di7ChJ+BHkBBoe23OMshQN6TtyoMhwFAgMqcRKEPIUC0MTXIJyHvP9AK5q3DLxZA3GbVhGWDIUAEBqca5A0hQNXMiUnzhSJA0MfSTPmDIEA6TvH7njweQAx5UvPxHARACc10h+XwEUB+A5DvGPoFQAfgTCcImxZAvRnsv8WLEUBRkjRtYpcgQGqRr2ZtYRBAalgZoWNOG0B1Hp3xk5z7P1GinAFkkh1AAIa0ee+eI0DbAhWG+nz5P3Ce+fBALxRAbB2J/PGv0j+O576LR3IHQIq0+1/r3hNANmwtKG7Z/z8ucJ75TEAOQPInziwAQx5AhD1CHAneHkA=",
          "dtype": "f8"
         },
         "y": {
          "bdata": "n1VimO1Y8D9szY16BEYZQHrgsR830hNAFPWI30+yBUDqjNPGFmcVQBTpxlHjAQtAUWuoPYxdEEAyLdysKoMJQNTwOpfj8/g/qnBQyNT7I0AgaUHNCUchQMQUQ3B2QOI/rd0IBsDmGEC7k9rm8bb+P82bEHCeLgJAyMYw+0Q/I0Bft7zUhgwhQGUMiWrc1BtAykHKlNvLEEB+kS++POEfQIBT78ktrfA/FpwWhI5e4T9oeM9pXC4jQCgkdC5LUs4/Mtlxm5eFAED2ioNFpVAcQFqMIcdlpxNAKZde1Q9bGkDimIBsjngeQHXORHH5RxBAd4KNeddB+D/v+AXQDLYAQDkvr2JB5/E/d75+Pb1eEUAyho7w8qogQIoFdR9GrPs/Rdf9grurIEAKoczgaDb8Pz5EmY9L2wdAT390Glh+I0AsLxBn8uYWQJOhZSoEFA5AhjE62a+r7z97j6BqLXAeQBRiKSQUTBlA3CxlsTDeHEBuEyOP1x0iQBPYMCy8kQ5Ax6NPibMF/D8L2rZgDG7/P2KghUPFAfM/2iAYaNyUIEAw2Zwgw24GQC2h+llmJvk/ULCOCBy6C0CCRbwpuSkMQABuyNj9QxFAdksA/8AkGUBLg7zHIN4YQFL3iRzibvk/uBJ0IoJFIkDQUIX3EPEaQP2V4LT/WgNAbAF/QUy0H0DI5rPV86jWPxkAaFqU1vM/ofeZjkIfE0DD9Ur6YTP3P/jGXke75wNAcJ+zbwlfFUB7nqgYiz0QQD5seJzqxwVAzPzppA7FHUC81HyHIfAKQDY65bsdu+A/RjharR28CEDi96FCfgkaQEbhLWY6PQtAGcjf8tpdCEAUhdwhLIEQQBcRsZPn8xxAc7H28W9iI0Df9bgT8Ej7P5aJZu1rfyFAWHt1NUAxBUDrWdR20vYZQIqVKNMyDe0/AFRBhWTbGUD0v2GnHrgNQLIgE2ZeZSNAoAKtyPpKvz9/gc/L2Z8HQKxPAFRfXCJAeva+QolN6z/SPqx83tj4P+lKPdYtNB5ADvNfizBZBkB2gj8V0WAcQAX6u9uTng1AD5UXPIlpGUA=",
          "dtype": "f8"
         },
         "z": {
          "bdata": "oB95+NRKIEDk9Ix8cko/QBIJ74MReitA4DlYCFUeMkBdqs1R7FYyQAywDV8lQTlA8mNmXZ+VD0DKyO9uhEssQJZ8H2m3ySlAo209a95TN0CeCB+zs5g4QA5bNangRylAr4mmFeQyO0BPmPAci1gyQKopDtfs8iFAUxXDcXncOEB/wkuZjG0/QISOhq+NvTdAWW3m8o6YNUAFxW1jX3Q0QBPJT7HR1DtAxk70YOmD+L+hZVJfiTM5QKr78OeRxiJAfrnv7doXK0AylYzTs+kpQD92kfgfVTRAZXgCqLhTOkDXnGQbwiw+QAIhmWeqADZAQ9+HiRx4M0DmgIFnbqItQDvT7P/3FCFA+lSRVMGILUCLqhwkX707QLRVVUe42ClARh9xTy+eQ0DOepxMJscsQJytTNW8wzRAlre3wbxBREBbgIiDK7FBQAMDAWfJpB1AyGYBFDayO0A1Tg/t/do4QDAznCqXbjVAu1ntzTAIOUD0jTWxdUA/QHcAyqFVMTRAmoYbb9zsEsBX75DV8eMwQAoo2O67mSJAfbPEYb8tPkBATZNbjHHWvwDMItMwH5K/sOfwEm6ZEkAF1crSjyI1QHwFvvAEjDZAFlgACh/QPUBihgUlHEk7QHe5XzwMciVAdOGt0YfARUDwG9gxDkU3QFjFW/q7TC9AGJwBkWdjL0DPQv6A1pErQBR6MWKJZh1AImywP181MkC1tAoGgiEjQDN5dbMX8RlABo460uzlMUAprmF6+1E7QGog6Pc64TBAwylETeWwO0BYoSdsNd0aQH3wB+WzuxFAG82RJOU0OEBcQD6jFhs8QPfVpNZitDpAED4KGDWqN0CLhwDs4701QNWiQEOJGDVA5DwF8RKwQkCTGt3GzWAfQLUCFvMHfTpAx689+H5YKkAnk1Nm9D8/QBgVPT083SVAvaZ99zjjPkBg1ZZX4H/tP1zEd7UW+ENAqerD/yPbPEACOJA34r0oQNwGXouXiTlAHUASHe+EC0AvqHt26w0kQFf2GxcFSTZADgQx76rYIUAMBQXorcovQMyKzwpkoTVAfrJOjiTcPkA=",
          "dtype": "f8"
         }
        },
        {
         "colorscale": [
          [
           0,
           "#440154"
          ],
          [
           0.1111111111111111,
           "#482878"
          ],
          [
           0.2222222222222222,
           "#3e4989"
          ],
          [
           0.3333333333333333,
           "#31688e"
          ],
          [
           0.4444444444444444,
           "#26828e"
          ],
          [
           0.5555555555555556,
           "#1f9e89"
          ],
          [
           0.6666666666666666,
           "#35b779"
          ],
          [
           0.7777777777777778,
           "#6ece58"
          ],
          [
           0.8888888888888888,
           "#b5de2b"
          ],
          [
           1,
           "#fde725"
          ]
         ],
         "name": "Regression Plane",
         "opacity": 0.5,
         "showscale": false,
         "type": "surface",
         "x": {
          "bdata": "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",
          "dtype": "f8",
          "shape": "20, 20"
         },
         "y": {
          "bdata": "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",
          "dtype": "f8",
          "shape": "20, 20"
         },
         "z": {
          "bdata": "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",
          "dtype": "f8",
          "shape": "20, 20"
         }
        }
       ],
       "layout": {
        "scene": {
         "xaxis": {
          "title": {
           "text": "X1"
          }
         },
         "yaxis": {
          "title": {
           "text": "X2"
          }
         },
         "zaxis": {
          "title": {
           "text": "Y"
          }
         }
        },
        "template": {
         "data": {
          "bar": [
           {
            "error_x": {
             "color": "#2a3f5f"
            },
            "error_y": {
             "color": "#2a3f5f"
            },
            "marker": {
             "line": {
              "color": "#E5ECF6",
              "width": 0.5
             },
             "pattern": {
              "fillmode": "overlay",
              "size": 10,
              "solidity": 0.2
             }
            },
            "type": "bar"
           }
          ],
          "barpolar": [
           {
            "marker": {
             "line": {
              "color": "#E5ECF6",
              "width": 0.5
             },
             "pattern": {
              "fillmode": "overlay",
              "size": 10,
              "solidity": 0.2
             }
            },
            "type": "barpolar"
           }
          ],
          "carpet": [
           {
            "aaxis": {
             "endlinecolor": "#2a3f5f",
             "gridcolor": "white",
             "linecolor": "white",
             "minorgridcolor": "white",
             "startlinecolor": "#2a3f5f"
            },
            "baxis": {
             "endlinecolor": "#2a3f5f",
             "gridcolor": "white",
             "linecolor": "white",
             "minorgridcolor": "white",
             "startlinecolor": "#2a3f5f"
            },
            "type": "carpet"
           }
          ],
          "choropleth": [
           {
            "colorbar": {
             "outlinewidth": 0,
             "ticks": ""
            },
            "type": "choropleth"
           }
          ],
          "contour": [
           {
            "colorbar": {
             "outlinewidth": 0,
             "ticks": ""
            },
            "colorscale": [
             [
              0,
              "#0d0887"
             ],
             [
              0.1111111111111111,
              "#46039f"
             ],
             [
              0.2222222222222222,
              "#7201a8"
             ],
             [
              0.3333333333333333,
              "#9c179e"
             ],
             [
              0.4444444444444444,
              "#bd3786"
             ],
             [
              0.5555555555555556,
              "#d8576b"
             ],
             [
              0.6666666666666666,
              "#ed7953"
             ],
             [
              0.7777777777777778,
              "#fb9f3a"
             ],
             [
              0.8888888888888888,
              "#fdca26"
             ],
             [
              1,
              "#f0f921"
             ]
            ],
            "type": "contour"
           }
          ],
          "contourcarpet": [
           {
            "colorbar": {
             "outlinewidth": 0,
             "ticks": ""
            },
            "type": "contourcarpet"
           }
          ],
          "heatmap": [
           {
            "colorbar": {
             "outlinewidth": 0,
             "ticks": ""
            },
            "colorscale": [
             [
              0,
              "#0d0887"
             ],
             [
              0.1111111111111111,
              "#46039f"
             ],
             [
              0.2222222222222222,
              "#7201a8"
             ],
             [
              0.3333333333333333,
              "#9c179e"
             ],
             [
              0.4444444444444444,
              "#bd3786"
             ],
             [
              0.5555555555555556,
              "#d8576b"
             ],
             [
              0.6666666666666666,
              "#ed7953"
             ],
             [
              0.7777777777777778,
              "#fb9f3a"
             ],
             [
              0.8888888888888888,
              "#fdca26"
             ],
             [
              1,
              "#f0f921"
             ]
            ],
            "type": "heatmap"
           }
          ],
          "histogram": [
           {
            "marker": {
             "pattern": {
              "fillmode": "overlay",
              "size": 10,
              "solidity": 0.2
             }
            },
            "type": "histogram"
           }
          ],
          "histogram2d": [
           {
            "colorbar": {
             "outlinewidth": 0,
             "ticks": ""
            },
            "colorscale": [
             [
              0,
              "#0d0887"
             ],
             [
              0.1111111111111111,
              "#46039f"
             ],
             [
              0.2222222222222222,
              "#7201a8"
             ],
             [
              0.3333333333333333,
              "#9c179e"
             ],
             [
              0.4444444444444444,
              "#bd3786"
             ],
             [
              0.5555555555555556,
              "#d8576b"
             ],
             [
              0.6666666666666666,
              "#ed7953"
             ],
             [
              0.7777777777777778,
              "#fb9f3a"
             ],
             [
              0.8888888888888888,
              "#fdca26"
             ],
             [
              1,
              "#f0f921"
             ]
            ],
            "type": "histogram2d"
           }
          ],
          "histogram2dcontour": [
           {
            "colorbar": {
             "outlinewidth": 0,
             "ticks": ""
            },
            "colorscale": [
             [
              0,
              "#0d0887"
             ],
             [
              0.1111111111111111,
              "#46039f"
             ],
             [
              0.2222222222222222,
              "#7201a8"
             ],
             [
              0.3333333333333333,
              "#9c179e"
             ],
             [
              0.4444444444444444,
              "#bd3786"
             ],
             [
              0.5555555555555556,
              "#d8576b"
             ],
             [
              0.6666666666666666,
              "#ed7953"
             ],
             [
              0.7777777777777778,
              "#fb9f3a"
             ],
             [
              0.8888888888888888,
              "#fdca26"
             ],
             [
              1,
              "#f0f921"
             ]
            ],
            "type": "histogram2dcontour"
           }
          ],
          "mesh3d": [
           {
            "colorbar": {
             "outlinewidth": 0,
             "ticks": ""
            },
            "type": "mesh3d"
           }
          ],
          "parcoords": [
           {
            "line": {
             "colorbar": {
              "outlinewidth": 0,
              "ticks": ""
             }
            },
            "type": "parcoords"
           }
          ],
          "pie": [
           {
            "automargin": true,
            "type": "pie"
           }
          ],
          "scatter": [
           {
            "fillpattern": {
             "fillmode": "overlay",
             "size": 10,
             "solidity": 0.2
            },
            "type": "scatter"
           }
          ],
          "scatter3d": [
           {
            "line": {
             "colorbar": {
              "outlinewidth": 0,
              "ticks": ""
             }
            },
            "marker": {
             "colorbar": {
              "outlinewidth": 0,
              "ticks": ""
             }
            },
            "type": "scatter3d"
           }
          ],
          "scattercarpet": [
           {
            "marker": {
             "colorbar": {
              "outlinewidth": 0,
              "ticks": ""
             }
            },
            "type": "scattercarpet"
           }
          ],
          "scattergeo": [
           {
            "marker": {
             "colorbar": {
              "outlinewidth": 0,
              "ticks": ""
             }
            },
            "type": "scattergeo"
           }
          ],
          "scattergl": [
           {
            "marker": {
             "colorbar": {
              "outlinewidth": 0,
              "ticks": ""
             }
            },
            "type": "scattergl"
           }
          ],
          "scattermap": [
           {
            "marker": {
             "colorbar": {
              "outlinewidth": 0,
              "ticks": ""
             }
            },
            "type": "scattermap"
           }
          ],
          "scattermapbox": [
           {
            "marker": {
             "colorbar": {
              "outlinewidth": 0,
              "ticks": ""
             }
            },
            "type": "scattermapbox"
           }
          ],
          "scatterpolar": [
           {
            "marker": {
             "colorbar": {
              "outlinewidth": 0,
              "ticks": ""
             }
            },
            "type": "scatterpolar"
           }
          ],
          "scatterpolargl": [
           {
            "marker": {
             "colorbar": {
              "outlinewidth": 0,
              "ticks": ""
             }
            },
            "type": "scatterpolargl"
           }
          ],
          "scatterternary": [
           {
            "marker": {
             "colorbar": {
              "outlinewidth": 0,
              "ticks": ""
             }
            },
            "type": "scatterternary"
           }
          ],
          "surface": [
           {
            "colorbar": {
             "outlinewidth": 0,
             "ticks": ""
            },
            "colorscale": [
             [
              0,
              "#0d0887"
             ],
             [
              0.1111111111111111,
              "#46039f"
             ],
             [
              0.2222222222222222,
              "#7201a8"
             ],
             [
              0.3333333333333333,
              "#9c179e"
             ],
             [
              0.4444444444444444,
              "#bd3786"
             ],
             [
              0.5555555555555556,
              "#d8576b"
             ],
             [
              0.6666666666666666,
              "#ed7953"
             ],
             [
              0.7777777777777778,
              "#fb9f3a"
             ],
             [
              0.8888888888888888,
              "#fdca26"
             ],
             [
              1,
              "#f0f921"
             ]
            ],
            "type": "surface"
           }
          ],
          "table": [
           {
            "cells": {
             "fill": {
              "color": "#EBF0F8"
             },
             "line": {
              "color": "white"
             }
            },
            "header": {
             "fill": {
              "color": "#C8D4E3"
             },
             "line": {
              "color": "white"
             }
            },
            "type": "table"
           }
          ]
         },
         "layout": {
          "annotationdefaults": {
           "arrowcolor": "#2a3f5f",
           "arrowhead": 0,
           "arrowwidth": 1
          },
          "autotypenumbers": "strict",
          "coloraxis": {
           "colorbar": {
            "outlinewidth": 0,
            "ticks": ""
           }
          },
          "colorscale": {
           "diverging": [
            [
             0,
             "#8e0152"
            ],
            [
             0.1,
             "#c51b7d"
            ],
            [
             0.2,
             "#de77ae"
            ],
            [
             0.3,
             "#f1b6da"
            ],
            [
             0.4,
             "#fde0ef"
            ],
            [
             0.5,
             "#f7f7f7"
            ],
            [
             0.6,
             "#e6f5d0"
            ],
            [
             0.7,
             "#b8e186"
            ],
            [
             0.8,
             "#7fbc41"
            ],
            [
             0.9,
             "#4d9221"
            ],
            [
             1,
             "#276419"
            ]
           ],
           "sequential": [
            [
             0,
             "#0d0887"
            ],
            [
             0.1111111111111111,
             "#46039f"
            ],
            [
             0.2222222222222222,
             "#7201a8"
            ],
            [
             0.3333333333333333,
             "#9c179e"
            ],
            [
             0.4444444444444444,
             "#bd3786"
            ],
            [
             0.5555555555555556,
             "#d8576b"
            ],
            [
             0.6666666666666666,
             "#ed7953"
            ],
            [
             0.7777777777777778,
             "#fb9f3a"
            ],
            [
             0.8888888888888888,
             "#fdca26"
            ],
            [
             1,
             "#f0f921"
            ]
           ],
           "sequentialminus": [
            [
             0,
             "#0d0887"
            ],
            [
             0.1111111111111111,
             "#46039f"
            ],
            [
             0.2222222222222222,
             "#7201a8"
            ],
            [
             0.3333333333333333,
             "#9c179e"
            ],
            [
             0.4444444444444444,
             "#bd3786"
            ],
            [
             0.5555555555555556,
             "#d8576b"
            ],
            [
             0.6666666666666666,
             "#ed7953"
            ],
            [
             0.7777777777777778,
             "#fb9f3a"
            ],
            [
             0.8888888888888888,
             "#fdca26"
            ],
            [
             1,
             "#f0f921"
            ]
           ]
          },
          "colorway": [
           "#636efa",
           "#EF553B",
           "#00cc96",
           "#ab63fa",
           "#FFA15A",
           "#19d3f3",
           "#FF6692",
           "#B6E880",
           "#FF97FF",
           "#FECB52"
          ],
          "font": {
           "color": "#2a3f5f"
          },
          "geo": {
           "bgcolor": "white",
           "lakecolor": "white",
           "landcolor": "#E5ECF6",
           "showlakes": true,
           "showland": true,
           "subunitcolor": "white"
          },
          "hoverlabel": {
           "align": "left"
          },
          "hovermode": "closest",
          "mapbox": {
           "style": "light"
          },
          "paper_bgcolor": "white",
          "plot_bgcolor": "#E5ECF6",
          "polar": {
           "angularaxis": {
            "gridcolor": "white",
            "linecolor": "white",
            "ticks": ""
           },
           "bgcolor": "#E5ECF6",
           "radialaxis": {
            "gridcolor": "white",
            "linecolor": "white",
            "ticks": ""
           }
          },
          "scene": {
           "xaxis": {
            "backgroundcolor": "#E5ECF6",
            "gridcolor": "white",
            "gridwidth": 2,
            "linecolor": "white",
            "showbackground": true,
            "ticks": "",
            "zerolinecolor": "white"
           },
           "yaxis": {
            "backgroundcolor": "#E5ECF6",
            "gridcolor": "white",
            "gridwidth": 2,
            "linecolor": "white",
            "showbackground": true,
            "ticks": "",
            "zerolinecolor": "white"
           },
           "zaxis": {
            "backgroundcolor": "#E5ECF6",
            "gridcolor": "white",
            "gridwidth": 2,
            "linecolor": "white",
            "showbackground": true,
            "ticks": "",
            "zerolinecolor": "white"
           }
          },
          "shapedefaults": {
           "line": {
            "color": "#2a3f5f"
           }
          },
          "ternary": {
           "aaxis": {
            "gridcolor": "white",
            "linecolor": "white",
            "ticks": ""
           },
           "baxis": {
            "gridcolor": "white",
            "linecolor": "white",
            "ticks": ""
           },
           "bgcolor": "#E5ECF6",
           "caxis": {
            "gridcolor": "white",
            "linecolor": "white",
            "ticks": ""
           }
          },
          "title": {
           "x": 0.05
          },
          "xaxis": {
           "automargin": true,
           "gridcolor": "white",
           "linecolor": "white",
           "ticks": "",
           "title": {
            "standoff": 15
           },
           "zerolinecolor": "white",
           "zerolinewidth": 2
          },
          "yaxis": {
           "automargin": true,
           "gridcolor": "white",
           "linecolor": "white",
           "ticks": "",
           "title": {
            "standoff": 15
           },
           "zerolinecolor": "white",
           "zerolinewidth": 2
          }
         }
        },
        "title": {
         "text": "Multiple Regression Hyperplane"
        }
       }
      }
     },
     "metadata": {},
     "output_type": "display_data"
    }
   ],
   "source": [
    "# Create meshgrid for the hyperplane\n",
    "X1_range = np.linspace(X1.min(), X1.max(), 20)\n",
    "X2_range = np.linspace(X2.min(), X2.max(), 20)\n",
    "X1_mesh, X2_mesh = np.meshgrid(X1_range, X2_range)\n",
    "\n",
    "# These are our y values\n",
    "y_mesh = model.intercept_ + model.coef_[0][0] * X1_mesh + model.coef_[0][1] * X2_mesh\n",
    "\n",
    "# Create scatter plot of data\n",
    "scatter = go.Scatter3d(\n",
    "    x=X1.flatten(),\n",
    "    y=X2.flatten(),\n",
    "    z=y.flatten(),\n",
    "    mode=\"markers\",\n",
    "    marker=dict(size=5, color=\"blue\"),\n",
    "    name=\"Data\",\n",
    ")\n",
    "\n",
    "# Create surface plot of regression plane\n",
    "surface = go.Surface(\n",
    "    x=X1_mesh,\n",
    "    y=X2_mesh,\n",
    "    z=y_mesh,\n",
    "    colorscale=\"viridis\",\n",
    "    opacity=0.5,\n",
    "    name=\"Regression Plane\",\n",
    "    showscale=False\n",
    ")\n",
    "\n",
    "# Create figure\n",
    "fig = go.Figure(data=[scatter, surface])\n",
    "fig.update_layout(\n",
    "    scene=dict(xaxis_title=\"X1\", yaxis_title=\"X2\", zaxis_title=\"Y\"),\n",
    "    title=\"Multiple Regression Hyperplane\",\n",
    ")\n",
    "fig.show()\n"
   ]
  },
  {
   "cell_type": "code",
   "execution_count": null,
   "metadata": {},
   "outputs": [
    {
     "data": {
      "application/vnd.plotly.v1+json": {
       "config": {
        "plotlyServerURL": "https://plot.ly"
       },
       "data": [
        {
         "marker": {
          "color": "blue",
          "size": 5
         },
         "mode": "markers",
         "name": "Data",
         "type": "scatter3d",
         "x": {
          "bdata": "Xr5T6lB/DUAeXO7kPh8YQBTQzaOP/whAPGL39kgWHEAVq5spXnL9P1kK7jt7Ch5A/BYROTPb5j+RHlLAS4T9P8IG4wDzIRJA8IKBNudMC0BXIHlbOyoRQNgQ1HxzIBNARMLNwx6UGUAICm6TL78eQBVngBfcGPo/t92HMF/FD0BeAEjtNRMZQN4zUpQVXwxAgsbuU58VIUB6m6PxH9EFQBQIkQK8uxdAJNsnvTm45T/uJHGfpJsGQKDjkCvR1iBAJHwzABBKC0CCSAuHgmr1P0zRBZ9+FBhALDhasFH4H0CGNlnB1CAaQLtMP3DTrRtAiSLl5JffIEAPh9kyl+EaQLoSCDhNBwdAiINwcM0SEkA+7G9nyTMNQANNHT7pRvU/kxjBxuNeFkAABqEJdyAJQLty4vE7+CFARd/FV7OMFEA+7hUWef0RQHLYOi71+wlAK+WSh63iI0D7XMvCkPkGQGFDVHmoaP0/p+leWNn+HEAzVBhs3/MfQIsOjcGSKwhAxQT1ifzB+z+gc2bY358WQLR8aEA9oAlAbr8w1rwWGUDvDKC9W6b3P13jA3P8vAFABBBNuOSyCkBJeNR2UZkbQPjBhxT/YRxAWnmKoGAJIEADi8322vYhQLQ+Yblqo+s/iWpeU49kHEAk52JRf5MSQLvvaFhBeBxA5gY77Tnj4z+qGFjiaUIPQET39YjWRx1AUuh7F/GuFUDoooJK8O8KQOwfXbY1Gt0/di7ChJ+BHkBBoe23OMshQN6TtyoMhwFAgMqcRKEPIUC0MTXIJyHvP9AK5q3DLxZA3GbVhGWDIUAEBqca5A0hQNXMiUnzhSJA0MfSTPmDIEA6TvH7njweQAx5UvPxHARACc10h+XwEUB+A5DvGPoFQAfgTCcImxZAvRnsv8WLEUBRkjRtYpcgQGqRr2ZtYRBAalgZoWNOG0B1Hp3xk5z7P1GinAFkkh1AAIa0ee+eI0DbAhWG+nz5P3Ce+fBALxRAbB2J/PGv0j+O576LR3IHQIq0+1/r3hNANmwtKG7Z/z8ucJ75TEAOQPInziwAQx5AhD1CHAneHkA=",
          "dtype": "f8"
         },
         "y": {
          "bdata": "n1VimO1Y8D9szY16BEYZQHrgsR830hNAFPWI30+yBUDqjNPGFmcVQBTpxlHjAQtAUWuoPYxdEEAyLdysKoMJQNTwOpfj8/g/qnBQyNT7I0AgaUHNCUchQMQUQ3B2QOI/rd0IBsDmGEC7k9rm8bb+P82bEHCeLgJAyMYw+0Q/I0Bft7zUhgwhQGUMiWrc1BtAykHKlNvLEEB+kS++POEfQIBT78ktrfA/FpwWhI5e4T9oeM9pXC4jQCgkdC5LUs4/Mtlxm5eFAED2ioNFpVAcQFqMIcdlpxNAKZde1Q9bGkDimIBsjngeQHXORHH5RxBAd4KNeddB+D/v+AXQDLYAQDkvr2JB5/E/d75+Pb1eEUAyho7w8qogQIoFdR9GrPs/Rdf9grurIEAKoczgaDb8Pz5EmY9L2wdAT390Glh+I0AsLxBn8uYWQJOhZSoEFA5AhjE62a+r7z97j6BqLXAeQBRiKSQUTBlA3CxlsTDeHEBuEyOP1x0iQBPYMCy8kQ5Ax6NPibMF/D8L2rZgDG7/P2KghUPFAfM/2iAYaNyUIEAw2Zwgw24GQC2h+llmJvk/ULCOCBy6C0CCRbwpuSkMQABuyNj9QxFAdksA/8AkGUBLg7zHIN4YQFL3iRzibvk/uBJ0IoJFIkDQUIX3EPEaQP2V4LT/WgNAbAF/QUy0H0DI5rPV86jWPxkAaFqU1vM/ofeZjkIfE0DD9Ur6YTP3P/jGXke75wNAcJ+zbwlfFUB7nqgYiz0QQD5seJzqxwVAzPzppA7FHUC81HyHIfAKQDY65bsdu+A/RjharR28CEDi96FCfgkaQEbhLWY6PQtAGcjf8tpdCEAUhdwhLIEQQBcRsZPn8xxAc7H28W9iI0Df9bgT8Ej7P5aJZu1rfyFAWHt1NUAxBUDrWdR20vYZQIqVKNMyDe0/AFRBhWTbGUD0v2GnHrgNQLIgE2ZeZSNAoAKtyPpKvz9/gc/L2Z8HQKxPAFRfXCJAeva+QolN6z/SPqx83tj4P+lKPdYtNB5ADvNfizBZBkB2gj8V0WAcQAX6u9uTng1AD5UXPIlpGUA=",
          "dtype": "f8"
         },
         "z": {
          "bdata": "oB95+NRKIEDk9Ix8cko/QBIJ74MReitA4DlYCFUeMkBdqs1R7FYyQAywDV8lQTlA8mNmXZ+VD0DKyO9uhEssQJZ8H2m3ySlAo209a95TN0CeCB+zs5g4QA5bNangRylAr4mmFeQyO0BPmPAci1gyQKopDtfs8iFAUxXDcXncOEB/wkuZjG0/QISOhq+NvTdAWW3m8o6YNUAFxW1jX3Q0QBPJT7HR1DtAxk70YOmD+L+hZVJfiTM5QKr78OeRxiJAfrnv7doXK0AylYzTs+kpQD92kfgfVTRAZXgCqLhTOkDXnGQbwiw+QAIhmWeqADZAQ9+HiRx4M0DmgIFnbqItQDvT7P/3FCFA+lSRVMGILUCLqhwkX707QLRVVUe42ClARh9xTy+eQ0DOepxMJscsQJytTNW8wzRAlre3wbxBREBbgIiDK7FBQAMDAWfJpB1AyGYBFDayO0A1Tg/t/do4QDAznCqXbjVAu1ntzTAIOUD0jTWxdUA/QHcAyqFVMTRAmoYbb9zsEsBX75DV8eMwQAoo2O67mSJAfbPEYb8tPkBATZNbjHHWvwDMItMwH5K/sOfwEm6ZEkAF1crSjyI1QHwFvvAEjDZAFlgACh/QPUBihgUlHEk7QHe5XzwMciVAdOGt0YfARUDwG9gxDkU3QFjFW/q7TC9AGJwBkWdjL0DPQv6A1pErQBR6MWKJZh1AImywP181MkC1tAoGgiEjQDN5dbMX8RlABo460uzlMUAprmF6+1E7QGog6Pc64TBAwylETeWwO0BYoSdsNd0aQH3wB+WzuxFAG82RJOU0OEBcQD6jFhs8QPfVpNZitDpAED4KGDWqN0CLhwDs4701QNWiQEOJGDVA5DwF8RKwQkCTGt3GzWAfQLUCFvMHfTpAx689+H5YKkAnk1Nm9D8/QBgVPT083SVAvaZ99zjjPkBg1ZZX4H/tP1zEd7UW+ENAqerD/yPbPEACOJA34r0oQNwGXouXiTlAHUASHe+EC0AvqHt26w0kQFf2GxcFSTZADgQx76rYIUAMBQXorcovQMyKzwpkoTVAfrJOjiTcPkA=",
          "dtype": "f8"
         }
        },
        {
         "colorscale": [
          [
           0,
           "#440154"
          ],
          [
           0.1111111111111111,
           "#482878"
          ],
          [
           0.2222222222222222,
           "#3e4989"
          ],
          [
           0.3333333333333333,
           "#31688e"
          ],
          [
           0.4444444444444444,
           "#26828e"
          ],
          [
           0.5555555555555556,
           "#1f9e89"
          ],
          [
           0.6666666666666666,
           "#35b779"
          ],
          [
           0.7777777777777778,
           "#6ece58"
          ],
          [
           0.8888888888888888,
           "#b5de2b"
          ],
          [
           1,
           "#fde725"
          ]
         ],
         "name": "Regression Plane",
         "opacity": 0.5,
         "showscale": false,
         "type": "surface",
         "x": {
          "bdata": "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",
          "dtype": "f8",
          "shape": "20, 20"
         },
         "y": {
          "bdata": "oAKtyPpKvz+gAq3I+kq/P6ACrcj6Sr8/oAKtyPpKvz+gAq3I+kq/P6ACrcj6Sr8/oAKtyPpKvz+gAq3I+kq/P6ACrcj6Sr8/oAKtyPpKvz+gAq3I+kq/P6ACrcj6Sr8/oAKtyPpKvz+gAq3I+kq/P6ACrcj6Sr8/oAKtyPpKvz+gAq3I+kq/P6ACrcj6Sr8/oAKtyPpKvz+gAq3I+kq/P5xHPay8iOQ/nEc9rLyI5D+cRz2svIjkP5xHPay8iOQ/nEc9rLyI5D+cRz2svIjkP5xHPay8iOQ/nEc9rLyI5D+cRz2svIjkP5xHPay8iOQ/nEc9rLyI5D+cRz2svIjkP5xHPay8iOQ/nEc9rLyI5D+cRz2svIjkP5xHPay8iOQ/nEc9rLyI5D+cRz2svIjkP5xHPay8iOQ/nEc9rLyI5D9yd7L/DJTyP3J3sv8MlPI/cney/wyU8j9yd7L/DJTyP3J3sv8MlPI/cney/wyU8j9yd7L/DJTyP3J3sv8MlPI/cney/wyU8j9yd7L/DJTyP3J3sv8MlPI/cney/wyU8j9yd7L/DJTyP3J3sv8MlPI/cney/wyU8j9yd7L/DJTyP3J3sv8MlPI/cney/wyU8j9yd7L/DJTyP3J3sv8MlPI/FktGqbvj+j8WS0apu+P6PxZLRqm74/o/FktGqbvj+j8WS0apu+P6PxZLRqm74/o/FktGqbvj+j8WS0apu+P6PxZLRqm74/o/FktGqbvj+j8WS0apu+P6PxZLRqm74/o/FktGqbvj+j8WS0apu+P6PxZLRqm74/o/FktGqbvj+j8WS0apu+P6PxZLRqm74/o/FktGqbvj+j8WS0apu+P6P10PbSm1mQFAXQ9tKbWZAUBdD20ptZkBQF0PbSm1mQFAXQ9tKbWZAUBdD20ptZkBQF0PbSm1mQFAXQ9tKbWZAUBdD20ptZkBQF0PbSm1mQFAXQ9tKbWZAUBdD20ptZkBQF0PbSm1mQFAXQ9tKbWZAUBdD20ptZkBQF0PbSm1mQFAXQ9tKbWZAUBdD20ptZkBQF0PbSm1mQFAXQ9tKbWZAUAv+TZ+jMEFQC/5Nn6MwQVAL/k2fozBBUAv+TZ+jMEFQC/5Nn6MwQVAL/k2fozBBUAv+TZ+jMEFQC/5Nn6MwQVAL/k2fozBBUAv+TZ+jMEFQC/5Nn6MwQVAL/k2fozBBUAv+TZ+jMEFQC/5Nn6MwQVAL/k2fozBBUAv+TZ+jMEFQC/5Nn6MwQVAL/k2fozBBUAv+TZ+jMEFQC/5Nn6MwQVAAeMA02PpCUAB4wDTY+kJQAHjANNj6QlAAeMA02PpCUAB4wDTY+kJQAHjANNj6QlAAeMA02PpCUAB4wDTY+kJQAHjANNj6QlAAeMA02PpCUAB4wDTY+kJQAHjANNj6QlAAeMA02PpCUAB4wDTY+kJQAHjANNj6QlAAeMA02PpCUAB4wDTY+kJQAHjANNj6QlAAeMA02PpCUAB4wDTY+kJQNPMyic7EQ5A08zKJzsRDkDTzMonOxEOQNPMyic7EQ5A08zKJzsRDkDTzMonOxEOQNPMyic7EQ5A08zKJzsRDkDTzMonOxEOQNPMyic7EQ5A08zKJzsRDkDTzMonOxEOQNPMyic7EQ5A08zKJzsRDkDTzMonOxEOQNPMyic7EQ5A08zKJzsRDkDTzMonOxEOQNPMyic7EQ5A08zKJzsRDkBSW0o+iRwRQFJbSj6JHBFAUltKPokcEUBSW0o+iRwRQFJbSj6JHBFAUltKPokcEUBSW0o+iRwRQFJbSj6JHBFAUltKPokcEUBSW0o+iRwRQFJbSj6JHBFAUltKPokcEUBSW0o+iRwRQFJbSj6JHBFAUltKPokcEUBSW0o+iRwRQFJbSj6JHBFAUltKPokcEUBSW0o+iRwRQFJbSj6JHBFAPFCv6HQwE0A8UK/odDATQDxQr+h0MBNAPFCv6HQwE0A8UK/odDATQDxQr+h0MBNAPFCv6HQwE0A8UK/odDATQDxQr+h0MBNAPFCv6HQwE0A8UK/odDATQDxQr+h0MBNAPFCv6HQwE0A8UK/odDATQDxQr+h0MBNAPFCv6HQwE0A8UK/odDATQDxQr+h0MBNAPFCv6HQwE0A8UK/odDATQCRFFJNgRBVAJEUUk2BEFUAkRRSTYEQVQCRFFJNgRBVAJEUUk2BEFUAkRRSTYEQVQCRFFJNgRBVAJEUUk2BEFUAkRRSTYEQVQCRFFJNgRBVAJEUUk2BEFUAkRRSTYEQVQCRFFJNgRBVAJEUUk2BEFUAkRRSTYEQVQCRFFJNgRBVAJEUUk2BEFUAkRRSTYEQVQCRFFJNgRBVAJEUUk2BEFUAOOnk9TFgXQA46eT1MWBdADjp5PUxYF0AOOnk9TFgXQA46eT1MWBdADjp5PUxYF0AOOnk9TFgXQA46eT1MWBdADjp5PUxYF0AOOnk9TFgXQA46eT1MWBdADjp5PUxYF0AOOnk9TFgXQA46eT1MWBdADjp5PUxYF0AOOnk9TFgXQA46eT1MWBdADjp5PUxYF0AOOnk9TFgXQA46eT1MWBdA9i7e5zdsGUD2Lt7nN2wZQPYu3uc3bBlA9i7e5zdsGUD2Lt7nN2wZQPYu3uc3bBlA9i7e5zdsGUD2Lt7nN2wZQPYu3uc3bBlA9i7e5zdsGUD2Lt7nN2wZQPYu3uc3bBlA9i7e5zdsGUD2Lt7nN2wZQPYu3uc3bBlA9i7e5zdsGUD2Lt7nN2wZQPYu3uc3bBlA9i7e5zdsGUD2Lt7nN2wZQOAjQ5IjgBtA4CNDkiOAG0DgI0OSI4AbQOAjQ5IjgBtA4CNDkiOAG0DgI0OSI4AbQOAjQ5IjgBtA4CNDkiOAG0DgI0OSI4AbQOAjQ5IjgBtA4CNDkiOAG0DgI0OSI4AbQOAjQ5IjgBtA4CNDkiOAG0DgI0OSI4AbQOAjQ5IjgBtA4CNDkiOAG0DgI0OSI4AbQOAjQ5IjgBtA4CNDkiOAG0DIGKg8D5QdQMgYqDwPlB1AyBioPA+UHUDIGKg8D5QdQMgYqDwPlB1AyBioPA+UHUDIGKg8D5QdQMgYqDwPlB1AyBioPA+UHUDIGKg8D5QdQMgYqDwPlB1AyBioPA+UHUDIGKg8D5QdQMgYqDwPlB1AyBioPA+UHUDIGKg8D5QdQMgYqDwPlB1AyBioPA+UHUDIGKg8D5QdQMgYqDwPlB1Asg0N5/qnH0CyDQ3n+qcfQLINDef6px9Asg0N5/qnH0CyDQ3n+qcfQLINDef6px9Asg0N5/qnH0CyDQ3n+qcfQLINDef6px9Asg0N5/qnH0CyDQ3n+qcfQLINDef6px9Asg0N5/qnH0CyDQ3n+qcfQLINDef6px9Asg0N5/qnH0CyDQ3n+qcfQLINDef6px9Asg0N5/qnH0CyDQ3n+qcfQE0BuUjz3SBATQG5SPPdIEBNAblI890gQE0BuUjz3SBATQG5SPPdIEBNAblI890gQE0BuUjz3SBATQG5SPPdIEBNAblI890gQE0BuUjz3SBATQG5SPPdIEBNAblI890gQE0BuUjz3SBATQG5SPPdIEBNAblI890gQE0BuUjz3SBATQG5SPPdIEBNAblI890gQE0BuUjz3SBATQG5SPPdIEDBe+sd6echQMF76x3p5yFAwXvrHennIUDBe+sd6echQMF76x3p5yFAwXvrHennIUDBe+sd6echQMF76x3p5yFAwXvrHennIUDBe+sd6echQMF76x3p5yFAwXvrHennIUDBe+sd6echQMF76x3p5yFAwXvrHennIUDBe+sd6echQMF76x3p5yFAwXvrHennIUDBe+sd6echQMF76x3p5yFANvYd897xIkA29h3z3vEiQDb2HfPe8SJANvYd897xIkA29h3z3vEiQDb2HfPe8SJANvYd897xIkA29h3z3vEiQDb2HfPe8SJANvYd897xIkA29h3z3vEiQDb2HfPe8SJANvYd897xIkA29h3z3vEiQDb2HfPe8SJANvYd897xIkA29h3z3vEiQDb2HfPe8SJANvYd897xIkA29h3z3vEiQKpwUMjU+yNAqnBQyNT7I0CqcFDI1PsjQKpwUMjU+yNAqnBQyNT7I0CqcFDI1PsjQKpwUMjU+yNAqnBQyNT7I0CqcFDI1PsjQKpwUMjU+yNAqnBQyNT7I0CqcFDI1PsjQKpwUMjU+yNAqnBQyNT7I0CqcFDI1PsjQKpwUMjU+yNAqnBQyNT7I0CqcFDI1PsjQKpwUMjU+yNAqnBQyNT7I0A=",
          "dtype": "f8",
          "shape": "20, 20"
         },
         "z": {
          "bdata": "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",
          "dtype": "f8",
          "shape": "20, 20"
         }
        },
        {
         "marker": {
          "color": "red",
          "size": 8,
          "symbol": "diamond"
         },
         "mode": "markers",
         "name": "New Point",
         "type": "scatter3d",
         "x": [
          5
         ],
         "y": [
          6
         ],
         "z": [
          22.570760790454237
         ]
        },
        {
         "line": {
          "color": "black",
          "dash": "dash",
          "width": 4
         },
         "mode": "lines",
         "showlegend": false,
         "type": "scatter3d",
         "x": [
          3.687166052513745,
          3.687166052513745
         ],
         "y": [
          1.0217109634880683,
          1.0217109634880683
         ],
         "z": [
          8.146156086717212,
          8.828717377139998
         ]
        },
        {
         "line": {
          "color": "black",
          "dash": "dash",
          "width": 4
         },
         "mode": "lines",
         "showlegend": false,
         "type": "scatter3d",
         "x": [
          6.030513360069589,
          6.030513360069589
         ],
         "y": [
          6.318376459984716,
          6.318376459984716
         ],
         "z": [
          31.290809425748094,
          25.392209808298464
         ]
        },
        {
         "line": {
          "color": "black",
          "dash": "dash",
          "width": 4
         },
         "mode": "lines",
         "showlegend": false,
         "type": "scatter3d",
         "x": [
          3.1247856900390705,
          3.1247856900390705
         ],
         "y": [
          4.955288405639402,
          4.955288405639402
         ],
         "z": [
          13.73841488163865,
          16.403869809419785
         ]
        },
        {
         "line": {
          "color": "black",
          "dash": "dash",
          "width": 4
         },
         "mode": "lines",
         "showlegend": false,
         "type": "scatter3d",
         "x": [
          7.021762713288407,
          7.021762713288407
         ],
         "y": [
          2.7120664085074484,
          2.7120664085074484
         ],
         "z": [
          18.118484994449204,
          19.423487257782206
         ]
        },
        {
         "line": {
          "color": "black",
          "dash": "dash",
          "width": 4
         },
         "mode": "lines",
         "showlegend": false,
         "type": "scatter3d",
         "x": [
          1.8404218316379162,
          1.8404218316379162
         ],
         "y": [
          5.350672823583617,
          5.350672823583617
         ],
         "z": [
          18.339543450080203,
          14.645410225490991
         ]
        },
        {
         "line": {
          "color": "black",
          "dash": "dash",
          "width": 4
         },
         "mode": "lines",
         "showlegend": false,
         "type": "scatter3d",
         "x": [
          7.510235725787958,
          7.510235725787958
         ],
         "y": [
          3.375921858675733,
          3.375921858675733
         ],
         "z": [
          25.25447649082348,
          21.899191857464757
         ]
        },
        {
         "line": {
          "color": "black",
          "dash": "dash",
          "width": 4
         },
         "mode": "lines",
         "showlegend": false,
         "type": "scatter3d",
         "x": [
          0.7142578234276864,
          0.7142578234276864
         ],
         "y": [
          4.091355288891308,
          4.091355288891308
         ],
         "z": [
          3.948057870566566,
          9.539539472198499
         ]
        },
        {
         "line": {
          "color": "black",
          "dash": "dash",
          "width": 4
         },
         "mode": "lines",
         "showlegend": false,
         "type": "scatter3d",
         "x": [
          1.8447988045244623,
          1.8447988045244623
         ],
         "y": [
          3.1890462403004216,
          3.1890462403004216
         ],
         "z": [
          14.147494761248158,
          9.8573520566995
         ]
        },
        {
         "line": {
          "color": "black",
          "dash": "dash",
          "width": 4
         },
         "mode": "lines",
         "showlegend": false,
         "type": "scatter3d",
         "x": [
          4.5331535471502225,
          4.5331535471502225
         ],
         "y": [
          1.5595432193213599,
          1.5595432193213599
         ],
         "z": [
          12.8939774371086,
          11.75847766826376
         ]
        },
        {
         "line": {
          "color": "black",
          "dash": "dash",
          "width": 4
         },
         "mode": "lines",
         "showlegend": false,
         "type": "scatter3d",
         "x": [
          3.412550378634812,
          3.412550378634812
         ],
         "y": [
          9.991857776469562,
          9.991857776469562
         ],
         "z": [
          23.32761259317125,
          28.171506750944417
         ]
        },
        {
         "line": {
          "color": "black",
          "dash": "dash",
          "width": 4
         },
         "mode": "lines",
         "showlegend": false,
         "type": "scatter3d",
         "x": [
          4.291242055194821,
          4.291242055194821
         ],
         "y": [
          8.638746656641672,
          8.638746656641672
         ],
         "z": [
          24.59649199969919,
          26.972039643489758
         ]
        },
        {
         "line": {
          "color": "black",
          "dash": "dash",
          "width": 4
         },
         "mode": "lines",
         "showlegend": false,
         "type": "scatter3d",
         "x": [
          4.781690550273389,
          4.781690550273389
         ],
         "y": [
          0.570368975889004,
          0.570368975889004
         ],
         "z": [
          12.640385902178902,
          10.073391239845991
         ]
        },
        {
         "line": {
          "color": "black",
          "dash": "dash",
          "width": 4
         },
         "mode": "lines",
         "showlegend": false,
         "type": "scatter3d",
         "x": [
          6.394648608621143,
          6.394648608621143
         ],
         "y": [
          6.225341886798032,
          6.225341886798032
         ],
         "z": [
          27.1987927943789,
          25.93306097006665
         ]
        },
        {
         "line": {
          "color": "black",
          "dash": "dash",
          "width": 4
         },
         "mode": "lines",
         "showlegend": false,
         "type": "scatter3d",
         "x": [
          7.686704925147303,
          7.686704925147303
         ],
         "y": [
          1.9196642892577376,
          1.9196642892577376
         ],
         "z": [
          18.34587269662762,
          19.029658758070056
         ]
        },
        {
         "line": {
          "color": "black",
          "dash": "dash",
          "width": 4
         },
         "mode": "lines",
         "showlegend": false,
         "type": "scatter3d",
         "x": [
          1.631069270899791,
          1.631069270899791
         ],
         "y": [
          2.272763133532385,
          2.272763133532385
         ],
         "z": [
          8.97446319625745,
          7.385318507200545
         ]
        },
        {
         "line": {
          "color": "black",
          "dash": "dash",
          "width": 4
         },
         "mode": "lines",
         "showlegend": false,
         "type": "scatter3d",
         "x": [
          3.971372965952209,
          3.971372965952209
         ],
         "y": [
          9.623573159889375,
          9.623573159889375
         ],
         "z": [
          24.861228094222792,
          28.501083403294594
         ]
        },
        {
         "line": {
          "color": "black",
          "dash": "dash",
          "width": 4
         },
         "mode": "lines",
         "showlegend": false,
         "type": "scatter3d",
         "x": [
          6.268760402221316,
          6.268760402221316
         ],
         "y": [
          8.524466178929002,
          8.524466178929002
         ],
         "z": [
          31.427926617618592,
          30.776874972962418
         ]
        },
        {
         "line": {
          "color": "black",
          "dash": "dash",
          "width": 4
         },
         "mode": "lines",
         "showlegend": false,
         "type": "scatter3d",
         "x": [
          3.546427878149628,
          3.546427878149628
         ],
         "y": [
          6.957872070898792,
          6.957872070898792
         ],
         "z": [
          23.74044320139957,
          21.71329850201098
         ]
        },
        {
         "line": {
          "color": "black",
          "dash": "dash",
          "width": 4
         },
         "mode": "lines",
         "showlegend": false,
         "type": "scatter3d",
         "x": [
          8.542231200120344,
          8.542231200120344
         ],
         "y": [
          4.199079823345935,
          4.199079823345935
         ],
         "z": [
          21.59593122602141,
          25.843884212372586
         ]
        },
        {
         "line": {
          "color": "black",
          "dash": "dash",
          "width": 4
         },
         "mode": "lines",
         "showlegend": false,
         "type": "scatter3d",
         "x": [
          2.727111709409141,
          2.727111709409141
         ],
         "y": [
          7.9699582783254055,
          7.9699582783254055
         ],
         "z": [
          20.4545805113785,
          22.27782540751714
         ]
        },
        {
         "line": {
          "color": "black",
          "dash": "dash",
          "width": 4
         },
         "mode": "lines",
         "showlegend": false,
         "type": "scatter3d",
         "x": [
          5.9333343888302075,
          5.9333343888302075
         ],
         "y": [
          1.0422799957352424,
          1.0422799957352424
         ],
         "z": [
          27.831324655512685,
          13.484156331588824
         ]
        },
        {
         "line": {
          "color": "black",
          "dash": "dash",
          "width": 4
         },
         "mode": "lines",
         "showlegend": false,
         "type": "scatter3d",
         "x": [
          0.6787384695479415,
          0.6787384695479415
         ],
         "y": [
          0.5427925662851318,
          0.5427925662851318
         ],
         "z": [
          -1.5322049891737364,
          1.5917398508594134
         ]
        },
        {
         "line": {
          "color": "black",
          "dash": "dash",
          "width": 4
         },
         "mode": "lines",
         "showlegend": false,
         "type": "scatter3d",
         "x": [
          2.8259975868610274,
          2.8259975868610274
         ],
         "y": [
          9.590548807693452,
          9.590548807693452
         ],
         "z": [
          25.20131488572736,
          26.077152043913948
         ]
        },
        {
         "line": {
          "color": "black",
          "dash": "dash",
          "width": 4
         },
         "mode": "lines",
         "showlegend": false,
         "type": "scatter3d",
         "x": [
          8.419564591824212,
          8.419564591824212
         ],
         "y": [
          0.2368864037346452,
          0.2368864037346452
         ],
         "z": [
          9.387831924597624,
          16.79931155654552
         ]
        },
        {
         "line": {
          "color": "black",
          "dash": "dash",
          "width": 4
         },
         "mode": "lines",
         "showlegend": false,
         "type": "scatter3d",
         "x": [
          3.4111633315765335,
          3.4111633315765335
         ],
         "y": [
          2.0652305740469723,
          2.0652305740469723
         ],
         "z": [
          13.546592174065832,
          10.57803835691837
         ]
        },
        {
         "line": {
          "color": "black",
          "dash": "dash",
          "width": 4
         },
         "mode": "lines",
         "showlegend": false,
         "type": "scatter3d",
         "x": [
          1.3385033869895158,
          1.3385033869895158
         ],
         "y": [
          7.07875546088575,
          7.07875546088575
         ],
         "z": [
          12.956450091277109,
          17.45025562285317
         ]
        },
        {
         "line": {
          "color": "black",
          "dash": "dash",
          "width": 4
         },
         "mode": "lines",
         "showlegend": false,
         "type": "scatter3d",
         "x": [
          6.0200142714787255,
          6.0200142714787255
         ],
         "y": [
          4.913474189207671,
          4.913474189207671
         ],
         "z": [
          20.33251908828083,
          22.252929962027327
         ]
        },
        {
         "line": {
          "color": "black",
          "dash": "dash",
          "width": 4
         },
         "mode": "lines",
         "showlegend": false,
         "type": "scatter3d",
         "x": [
          7.992499118334347,
          7.992499118334347
         ],
         "y": [
          6.588927587412209,
          6.588927587412209
         ],
         "z": [
          26.32703638134298,
          30.01917878420339
         ]
        },
        {
         "line": {
          "color": "black",
          "dash": "dash",
          "width": 4
         },
         "mode": "lines",
         "showlegend": false,
         "type": "scatter3d",
         "x": [
          6.532061596937302,
          6.532061596937302
         ],
         "y": [
          7.61773080382247,
          7.61773080382247
         ],
         "z": [
          30.174836837829243,
          29.30503575546777
         ]
        },
        {
         "line": {
          "color": "black",
          "dash": "dash",
          "width": 4
         },
         "mode": "lines",
         "showlegend": false,
         "type": "scatter3d",
         "x": [
          6.91975188623763,
          6.91975188623763
         ],
         "y": [
          4.070287484955419,
          4.070287484955419
         ],
         "z": [
          22.002600169072146,
          22.228269915322564
         ]
        },
        {
         "line": {
          "color": "black",
          "dash": "dash",
          "width": 4
         },
         "mode": "lines",
         "showlegend": false,
         "type": "scatter3d",
         "x": [
          8.436705735178537,
          8.436705735178537
         ],
         "y": [
          1.5160746334223896,
          1.5160746334223896
         ],
         "z": [
          19.469185443565276,
          19.673240604585352
         ]
        },
        {
         "line": {
          "color": "black",
          "dash": "dash",
          "width": 4
         },
         "mode": "lines",
         "showlegend": false,
         "type": "scatter3d",
         "x": [
          6.72030333950694,
          6.72030333950694
         ],
         "y": [
          2.0888916255781775,
          2.0888916255781775
         ],
         "z": [
          14.817248568113836,
          17.421866959722127
         ]
        },
        {
         "line": {
          "color": "black",
          "dash": "dash",
          "width": 4
         },
         "mode": "lines",
         "showlegend": false,
         "type": "scatter3d",
         "x": [
          2.8785652520621996,
          2.8785652520621996
         ],
         "y": [
          1.1189588408332851,
          1.1189588408332851
         ],
         "z": [
          8.5409545876115,
          7.385043354878624
         ]
        },
        {
         "line": {
          "color": "black",
          "dash": "dash",
          "width": 4
         },
         "mode": "lines",
         "showlegend": false,
         "type": "scatter3d",
         "x": [
          4.518361813418672,
          4.518361813418672
         ],
         "y": [
          4.342518769131508,
          4.342518769131508
         ],
         "z": [
          14.767099993458476,
          17.90404763201093
         ]
        },
        {
         "line": {
          "color": "black",
          "dash": "dash",
          "width": 4
         },
         "mode": "lines",
         "showlegend": false,
         "type": "scatter3d",
         "x": [
          3.6502864914923796,
          3.6502864914923796
         ],
         "y": [
          8.333884732625936,
          8.333884732625936
         ],
         "z": [
          27.739732987402515,
          24.98006804620184
         ]
        },
        {
         "line": {
          "color": "black",
          "dash": "dash",
          "width": 4
         },
         "mode": "lines",
         "showlegend": false,
         "type": "scatter3d",
         "x": [
          1.3298122812601043,
          1.3298122812601043
         ],
         "y": [
          1.7295590618890366,
          1.7295590618890366
         ],
         "z": [
          12.923280934492915,
          5.561583056455693
         ]
        },
        {
         "line": {
          "color": "black",
          "dash": "dash",
          "width": 4
         },
         "mode": "lines",
         "showlegend": false,
         "type": "scatter3d",
         "x": [
          5.592665772948879,
          5.592665772948879
         ],
         "y": [
          8.335414975630224,
          8.335414975630224
         ],
         "z": [
          39.23581879638236,
          28.969792734252085
         ]
        },
        {
         "line": {
          "color": "black",
          "dash": "dash",
          "width": 4
         },
         "mode": "lines",
         "showlegend": false,
         "type": "scatter3d",
         "x": [
          3.140852046228929,
          3.140852046228929
         ],
         "y": [
          1.7632836133216778,
          1.7632836133216778
         ],
         "z": [
          14.388964075185324,
          9.353205752874555
         ]
        },
        {
         "line": {
          "color": "black",
          "dash": "dash",
          "width": 4
         },
         "mode": "lines",
         "showlegend": false,
         "type": "scatter3d",
         "x": [
          8.984832342999075,
          8.984832342999075
         ],
         "y": [
          2.9820777147911306,
          2.9820777147911306
         ],
         "z": [
          20.764600115986113,
          24.051482693103637
         ]
        },
        {
         "line": {
          "color": "black",
          "dash": "dash",
          "width": 4
         },
         "mode": "lines",
         "showlegend": false,
         "type": "scatter3d",
         "x": [
          5.1374028887292456,
          5.1374028887292456
         ],
         "y": [
          9.746765925141203,
          9.746765925141203
         ],
         "z": [
          40.51357289763034,
          31.167503954137402
         ]
        },
        {
         "line": {
          "color": "black",
          "dash": "dash",
          "width": 4
         },
         "mode": "lines",
         "showlegend": false,
         "type": "scatter3d",
         "x": [
          4.497532219971218,
          4.497532219971218
         ],
         "y": [
          5.725534067499932,
          5.725534067499932
         ],
         "z": [
          35.38414043583972,
          20.93046072851744
         ]
        },
        {
         "line": {
          "color": "black",
          "dash": "dash",
          "width": 4
         },
         "mode": "lines",
         "showlegend": false,
         "type": "scatter3d",
         "x": [
          3.2480262386043757,
          3.2480262386043757
         ],
         "y": [
          3.759773570276772,
          3.759773570276772
         ],
         "z": [
          7.410924539028886,
          14.003731357526613
         ]
        },
        {
         "line": {
          "color": "black",
          "dash": "dash",
          "width": 4
         },
         "mode": "lines",
         "showlegend": false,
         "type": "scatter3d",
         "x": [
          9.942730175668279,
          9.942730175668279
         ],
         "y": [
          0.989707874557596,
          0.989707874557596
         ],
         "z": [
          27.69613766702858,
          21.595938809103718
         ]
        },
        {
         "line": {
          "color": "black",
          "dash": "dash",
          "width": 4
         },
         "mode": "lines",
         "showlegend": false,
         "type": "scatter3d",
         "x": [
          2.871858140784409,
          2.871858140784409
         ],
         "y": [
          7.609548250245889,
          7.609548250245889
         ],
         "z": [
          24.855437103497213,
          21.775072156519887
         ]
        },
        {
         "line": {
          "color": "black",
          "dash": "dash",
          "width": 4
         },
         "mode": "lines",
         "showlegend": false,
         "type": "scatter3d",
         "x": [
          1.8380512942714733,
          1.8380512942714733
         ],
         "y": [
          6.32429558279593,
          6.32429558279593
         ],
         "z": [
          21.431994116911653,
          16.801190477941493
         ]
        },
        {
         "line": {
          "color": "black",
          "dash": "dash",
          "width": 4
         },
         "mode": "lines",
         "showlegend": false,
         "type": "scatter3d",
         "x": [
          7.248875981133472,
          7.248875981133472
         ],
         "y": [
          7.216982623863455,
          7.216982623863455
         ],
         "z": [
          25.03199469608965,
          29.886815126725473
         ]
        },
        {
         "line": {
          "color": "black",
          "dash": "dash",
          "width": 4
         },
         "mode": "lines",
         "showlegend": false,
         "type": "scatter3d",
         "x": [
          7.988156975731772,
          7.988156975731772
         ],
         "y": [
          9.058285210639692,
          9.058285210639692
         ],
         "z": [
          31.251795840811567,
          35.49021936182369
         ]
        },
        {
         "line": {
          "color": "black",
          "dash": "dash",
          "width": 4
         },
         "mode": "lines",
         "showlegend": false,
         "type": "scatter3d",
         "x": [
          3.0212760087177393,
          3.0212760087177393
         ],
         "y": [
          3.8211596920400637,
          3.8211596920400637
         ],
         "z": [
          20.192712890450334,
          13.674600676676773
         ]
        },
        {
         "line": {
          "color": "black",
          "dash": "dash",
          "width": 4
         },
         "mode": "lines",
         "showlegend": false,
         "type": "scatter3d",
         "x": [
          1.7348599804829956,
          1.7348599804829956
         ],
         "y": [
          1.7513919223513186,
          1.7513919223513186
         ],
         "z": [
          -4.731309639029542,
          6.441310144488893
         ]
        },
        {
         "line": {
          "color": "black",
          "dash": "dash",
          "width": 4
         },
         "mode": "lines",
         "showlegend": false,
         "type": "scatter3d",
         "x": [
          5.656127339604524,
          5.656127339604524
         ],
         "y": [
          1.9643672731305084,
          1.9643672731305084
         ],
         "z": [
          16.89040884769869,
          14.961525332201823
         ]
        },
        {
         "line": {
          "color": "black",
          "dash": "dash",
          "width": 4
         },
         "mode": "lines",
         "showlegend": false,
         "type": "scatter3d",
         "x": [
          3.2032418281447352,
          3.2032418281447352
         ],
         "y": [
          1.1879322660043035,
          1.1879322660043035
         ],
         "z": [
          9.30026193989399,
          8.204438910301349
         ]
        },
        {
         "line": {
          "color": "black",
          "dash": "dash",
          "width": 4
         },
         "mode": "lines",
         "showlegend": false,
         "type": "scatter3d",
         "x": [
          6.272204729771927,
          6.272204729771927
         ],
         "y": [
          8.29074406904731,
          8.29074406904731
         ],
         "z": [
          30.17870150615953,
          30.26527203418807
         ]
        },
        {
         "line": {
          "color": "black",
          "dash": "dash",
          "width": 4
         },
         "mode": "lines",
         "showlegend": false,
         "type": "scatter3d",
         "x": [
          1.478114834521701,
          1.478114834521701
         ],
         "y": [
          2.8040831134668665,
          2.8040831134668665
         ],
         "z": [
          -0.3506804365435592,
          8.250506683599788
         ]
        },
        {
         "line": {
          "color": "black",
          "dash": "dash",
          "width": 4
         },
         "mode": "lines",
         "showlegend": false,
         "type": "scatter3d",
         "x": [
          2.217278383785397,
          2.217278383785397
         ],
         "y": [
          1.5718749537282506,
          1.5718749537282506
         ],
         "z": [
          -0.017697108160700026,
          7.032992735544038
         ]
        },
        {
         "line": {
          "color": "black",
          "dash": "dash",
          "width": 4
         },
         "mode": "lines",
         "showlegend": false,
         "type": "scatter3d",
         "x": [
          3.337350311137927,
          3.337350311137927
         ],
         "y": [
          3.465873782019152,
          3.465873782019152
         ],
         "z": [
          4.6498339614426385,
          13.534833532971035
         ]
        },
        {
         "line": {
          "color": "black",
          "dash": "dash",
          "width": 4
         },
         "mode": "lines",
         "showlegend": false,
         "type": "scatter3d",
         "x": [
          6.89972482368291,
          6.89972482368291
         ],
         "y": [
          3.520372701700297,
          3.520372701700297
         ],
         "z": [
          21.13500707103687,
          20.966808013929278
         ]
        },
        {
         "line": {
          "color": "black",
          "dash": "dash",
          "width": 4
         },
         "mode": "lines",
         "showlegend": false,
         "type": "scatter3d",
         "x": [
          7.095699616228096,
          7.095699616228096
         ],
         "y": [
          4.316398036225564,
          4.316398036225564
         ],
         "z": [
          22.546950384513806,
          23.135529873577397
         ]
        },
        {
         "line": {
          "color": "black",
          "dash": "dash",
          "width": 4
         },
         "mode": "lines",
         "showlegend": false,
         "type": "scatter3d",
         "x": [
          8.01831533136708,
          8.01831533136708
         ],
         "y": [
          6.285892471688262,
          6.285892471688262
         ],
         "z": [
          29.8129736185875,
          29.39967136256833
         ]
        },
        {
         "line": {
          "color": "black",
          "dash": "dash",
          "width": 4
         },
         "mode": "lines",
         "showlegend": false,
         "type": "scatter3d",
         "x": [
          8.982139313307476,
          8.982139313307476
         ],
         "y": [
          6.21692192161647,
          6.21692192161647
         ],
         "z": [
          27.28558570275198,
          31.224661137782658
         ]
        },
        {
         "line": {
          "color": "black",
          "dash": "dash",
          "width": 4
         },
         "mode": "lines",
         "showlegend": false,
         "type": "scatter3d",
         "x": [
          0.8636983509731722,
          0.8636983509731722
         ],
         "y": [
          1.589571105461307,
          1.589571105461307
         ],
         "z": [
          10.722749602017513,
          4.294322688441265
         ]
        },
        {
         "line": {
          "color": "black",
          "dash": "dash",
          "width": 4
         },
         "mode": "lines",
         "showlegend": false,
         "type": "scatter3d",
         "x": [
          7.098202994001107,
          7.098202994001107
         ],
         "y": [
          9.135758473080713,
          9.135758473080713
         ],
         "z": [
          43.50414486875789,
          33.835701431148095
         ]
        },
        {
         "line": {
          "color": "black",
          "dash": "dash",
          "width": 4
         },
         "mode": "lines",
         "showlegend": false,
         "type": "scatter3d",
         "x": [
          4.644040366803697,
          4.644040366803697
         ],
         "y": [
          6.735416286003058,
          6.735416286003058
         ],
         "z": [
          23.269747843991297,
          23.472249772048997
         ]
        },
        {
         "line": {
          "color": "black",
          "dash": "dash",
          "width": 4
         },
         "mode": "lines",
         "showlegend": false,
         "type": "scatter3d",
         "x": [
          7.117436772732556,
          7.117436772732556
         ],
         "y": [
          2.4194330340421843,
          2.4194330340421843
         ],
         "z": [
          15.649871658041477,
          18.97043186004174
         ]
        },
        {
         "line": {
          "color": "black",
          "dash": "dash",
          "width": 4
         },
         "mode": "lines",
         "showlegend": false,
         "type": "scatter3d",
         "x": [
          0.6214875825318955,
          0.6214875825318955
         ],
         "y": [
          7.926072142960361,
          7.926072142960361
         ],
         "z": [
          15.694149524160864,
          17.85907928608482
         ]
        },
        {
         "line": {
          "color": "black",
          "dash": "dash",
          "width": 4
         },
         "mode": "lines",
         "showlegend": false,
         "type": "scatter3d",
         "x": [
          3.9074285205016013,
          3.9074285205016013
         ],
         "y": [
          0.3540620409909079,
          0.3540620409909079
         ],
         "z": [
          13.784839659726826,
          7.7991262914999675
         ]
        },
        {
         "line": {
          "color": "black",
          "dash": "dash",
          "width": 4
         },
         "mode": "lines",
         "showlegend": false,
         "type": "scatter3d",
         "x": [
          7.320154323589865,
          7.320154323589865
         ],
         "y": [
          1.2398875743383597,
          1.2398875743383597
         ],
         "z": [
          7.35013345171912,
          16.768842334821443
         ]
        },
        {
         "line": {
          "color": "black",
          "dash": "dash",
          "width": 4
         },
         "mode": "lines",
         "showlegend": false,
         "type": "scatter3d",
         "x": [
          5.420841566980089,
          5.420841566980089
         ],
         "y": [
          4.780527332446497,
          4.780527332446497
         ],
         "z": [
          18.208484631130098,
          20.72821965703371
         ]
        },
        {
         "line": {
          "color": "black",
          "dash": "dash",
          "width": 4
         },
         "mode": "lines",
         "showlegend": false,
         "type": "scatter3d",
         "x": [
          3.3671575375668574,
          3.3671575375668574
         ],
         "y": [
          1.4500446106970777,
          1.4500446106970777
         ],
         "z": [
          9.565445126349326,
          9.1225165316082
         ]
        },
        {
         "line": {
          "color": "black",
          "dash": "dash",
          "width": 4
         },
         "mode": "lines",
         "showlegend": false,
         "type": "scatter3d",
         "x": [
          0.45472472008668663,
          0.45472472008668663
         ],
         "y": [
          2.4881501746939385,
          2.4881501746939385
         ],
         "z": [
          6.485441974682817,
          5.44909925961291
         ]
        },
        {
         "line": {
          "color": "black",
          "dash": "dash",
          "width": 4
         },
         "mode": "lines",
         "showlegend": false,
         "type": "scatter3d",
         "x": [
          7.626585077621362,
          7.626585077621362
         ],
         "y": [
          5.342809434259706,
          5.342809434259706
         ],
         "z": [
          17.8981448548275,
          26.502854518258914
         ]
        },
        {
         "line": {
          "color": "black",
          "dash": "dash",
          "width": 4
         },
         "mode": "lines",
         "showlegend": false,
         "type": "scatter3d",
         "x": [
          8.896917102582508,
          8.896917102582508
         ],
         "y": [
          4.060100922862712,
          4.060100922862712
         ],
         "z": [
          27.32024350056432,
          26.263383774305513
         ]
        },
        {
         "line": {
          "color": "black",
          "dash": "dash",
          "width": 4
         },
         "mode": "lines",
         "showlegend": false,
         "type": "scatter3d",
         "x": [
          2.1909411752007903,
          2.1909411752007903
         ],
         "y": [
          2.7226154541254166,
          2.7226154541254166
         ],
         "z": [
          16.879806036159074,
          9.532642743277156
         ]
        },
        {
         "line": {
          "color": "black",
          "dash": "dash",
          "width": 4
         },
         "mode": "lines",
         "showlegend": false,
         "type": "scatter3d",
         "x": [
          8.53052725233033,
          8.53052725233033
         ],
         "y": [
          7.442438675672019,
          7.442438675672019
         ],
         "z": [
          27.690998868123426,
          33.017465165881035
         ]
        },
        {
         "line": {
          "color": "black",
          "dash": "dash",
          "width": 4
         },
         "mode": "lines",
         "showlegend": false,
         "type": "scatter3d",
         "x": [
          0.9727972898777382,
          0.9727972898777382
         ],
         "y": [
          3.3672514519663235,
          3.3672514519663235
         ],
         "z": [
          6.716024103087271,
          8.463220268683342
         ]
        },
        {
         "line": {
          "color": "black",
          "dash": "dash",
          "width": 4
         },
         "mode": "lines",
         "showlegend": false,
         "type": "scatter3d",
         "x": [
          5.546644894757904,
          5.546644894757904
         ],
         "y": [
          0.5228413266975795,
          0.5228413266975795
         ],
         "z": [
          4.433303431138595,
          11.537828198207915
         ]
        },
        {
         "line": {
          "color": "black",
          "dash": "dash",
          "width": 4
         },
         "mode": "lines",
         "showlegend": false,
         "type": "scatter3d",
         "x": [
          8.75663390259745,
          8.75663390259745
         ],
         "y": [
          3.091853479686537,
          3.091853479686537
         ],
         "z": [
          24.20662144240951,
          23.826765246384316
         ]
        },
        {
         "line": {
          "color": "black",
          "dash": "dash",
          "width": 4
         },
         "mode": "lines",
         "showlegend": false,
         "type": "scatter3d",
         "x": [
          8.527130921257601,
          8.527130921257601
         ],
         "y": [
          6.509270707259903,
          6.509270707259903
         ],
         "z": [
          28.105814173410508,
          30.93962612709571
         ]
        },
        {
         "line": {
          "color": "black",
          "dash": "dash",
          "width": 4
         },
         "mode": "lines",
         "showlegend": false,
         "type": "scatter3d",
         "x": [
          9.261621759482674,
          9.261621759482674
         ],
         "y": [
          3.404896543765207,
          3.404896543765207
         ],
         "z": [
          26.704633155100932,
          25.55784688473669
         ]
        },
        {
         "line": {
          "color": "black",
          "dash": "dash",
          "width": 4
         },
         "mode": "lines",
         "showlegend": false,
         "type": "scatter3d",
         "x": [
          8.257761383752865,
          8.257761383752865
         ],
         "y": [
          3.0458277678053602,
          3.0458277678053602
         ],
         "z": [
          23.66487264871654,
          22.700793943324502
         ]
        },
        {
         "line": {
          "color": "black",
          "dash": "dash",
          "width": 4
         },
         "mode": "lines",
         "showlegend": false,
         "type": "scatter3d",
         "x": [
          7.559200226405261,
          7.559200226405261
         ],
         "y": [
          4.126144913753951,
          4.126144913753951
         ],
         "z": [
          21.74175906193663,
          23.664562165182122
         ]
        },
        {
         "line": {
          "color": "black",
          "dash": "dash",
          "width": 4
         },
         "mode": "lines",
         "showlegend": false,
         "type": "scatter3d",
         "x": [
          2.5141333589118684,
          2.5141333589118684
         ],
         "y": [
          7.238188083345697,
          7.238188083345697
         ],
         "z": [
          21.09584446266202,
          20.216801082944972
         ]
        },
        {
         "line": {
          "color": "black",
          "dash": "dash",
          "width": 4
         },
         "mode": "lines",
         "showlegend": false,
         "type": "scatter3d",
         "x": [
          4.485250584129298,
          4.485250584129298
         ],
         "y": [
          9.692260323871528,
          9.692260323871528
         ],
         "z": [
          37.3755780482841,
          29.70813941420011
         ]
        },
        {
         "line": {
          "color": "black",
          "dash": "dash",
          "width": 4
         },
         "mode": "lines",
         "showlegend": false,
         "type": "scatter3d",
         "x": [
          2.7471178737472988,
          2.7471178737472988
         ],
         "y": [
          1.7053070803079817,
          1.7053070803079817
         ],
         "z": [
          7.844534976239305,
          8.41648796416186
         ]
        },
        {
         "line": {
          "color": "black",
          "dash": "dash",
          "width": 4
         },
         "mode": "lines",
         "showlegend": false,
         "type": "scatter3d",
         "x": [
          5.651398290698132,
          5.651398290698132
         ],
         "y": [
          8.74887029530218,
          8.74887029530218
         ],
         "z": [
          26.488402550576854,
          30.00786124755792
         ]
        },
        {
         "line": {
          "color": "black",
          "dash": "dash",
          "width": 4
         },
         "mode": "lines",
         "showlegend": false,
         "type": "scatter3d",
         "x": [
          4.386496542725976,
          4.386496542725976
         ],
         "y": [
          2.6490482498624424,
          2.6490482498624424
         ],
         "z": [
          13.172843701868159,
          13.875303761181474
         ]
        },
        {
         "line": {
          "color": "black",
          "dash": "dash",
          "width": 4
         },
         "mode": "lines",
         "showlegend": false,
         "type": "scatter3d",
         "x": [
          8.295672810237336,
          8.295672810237336
         ],
         "y": [
          6.491037232123271,
          6.491037232123271
         ],
         "z": [
          31.249822993663795,
          30.424143191457404
         ]
        },
        {
         "line": {
          "color": "black",
          "dash": "dash",
          "width": 4
         },
         "mode": "lines",
         "showlegend": false,
         "type": "scatter3d",
         "x": [
          4.095143894639799,
          4.095143894639799
         ],
         "y": [
          0.9078611492338251,
          0.9078611492338251
         ],
         "z": [
          10.932100213724468,
          9.413353537224763
         ]
        },
        {
         "line": {
          "color": "black",
          "dash": "dash",
          "width": 4
         },
         "mode": "lines",
         "showlegend": false,
         "type": "scatter3d",
         "x": [
          6.826551930591544,
          6.826551930591544
         ],
         "y": [
          6.464250642883599,
          6.464250642883599
         ],
         "z": [
          30.887587993790238,
          27.349634367088754
         ]
        },
        {
         "line": {
          "color": "black",
          "dash": "dash",
          "width": 4
         },
         "mode": "lines",
         "showlegend": false,
         "type": "scatter3d",
         "x": [
          1.7257270277058556,
          1.7257270277058556
         ],
         "y": [
          3.714902217550838,
          3.714902217550838
         ],
         "z": [
          0.9218599043585236,
          10.77995172093341
         ]
        },
        {
         "line": {
          "color": "black",
          "dash": "dash",
          "width": 4
         },
         "mode": "lines",
         "showlegend": false,
         "type": "scatter3d",
         "x": [
          7.392959618745025,
          7.392959618745025
         ],
         "y": [
          9.69798583014958,
          9.69798583014958
         ],
         "z": [
          39.93819301937103,
          35.68831235388778
         ]
        },
        {
         "line": {
          "color": "black",
          "dash": "dash",
          "width": 4
         },
         "mode": "lines",
         "showlegend": false,
         "type": "scatter3d",
         "x": [
          9.810420802389672,
          9.810420802389672
         ],
         "y": [
          0.12223784827529949,
          0.12223784827529949
         ],
         "z": [
          28.856018052417003,
          19.39932824440283
         ]
        },
        {
         "line": {
          "color": "black",
          "dash": "dash",
          "width": 4
         },
         "mode": "lines",
         "showlegend": false,
         "type": "scatter3d",
         "x": [
          1.593012355573754,
          1.593012355573754
         ],
         "y": [
          2.9530521319103964,
          2.9530521319103964
         ],
         "z": [
          12.37086652408107,
          8.81689914742063
         ]
        },
        {
         "line": {
          "color": "black",
          "dash": "dash",
          "width": 4
         },
         "mode": "lines",
         "showlegend": false,
         "type": "scatter3d",
         "x": [
          5.046146168933419,
          5.046146168933419
         ],
         "y": [
          9.18041479591178,
          9.18041479591178
         ],
         "z": [
          25.53746863408638,
          29.723382791816064
         ]
        },
        {
         "line": {
          "color": "black",
          "dash": "dash",
          "width": 4
         },
         "mode": "lines",
         "showlegend": false,
         "type": "scatter3d",
         "x": [
          0.2919888464134235,
          0.2919888464134235
         ],
         "y": [
          0.8532148650771909,
          0.8532148650771909
         ],
         "z": [
          3.4399091979212373,
          1.486900142317122
         ]
        },
        {
         "line": {
          "color": "black",
          "dash": "dash",
          "width": 4
         },
         "mode": "lines",
         "showlegend": false,
         "type": "scatter3d",
         "x": [
          2.930800525439685,
          2.930800525439685
         ],
         "y": [
          1.5529465551407395,
          1.5529465551407395
         ],
         "z": [
          10.027187063784451,
          8.455342731135461
         ]
        },
        {
         "line": {
          "color": "black",
          "dash": "dash",
          "width": 4
         },
         "mode": "lines",
         "showlegend": false,
         "type": "scatter3d",
         "x": [
          4.967694759118908,
          4.967694759118908
         ],
         "y": [
          7.5509561037931485,
          7.5509561037931485
         ],
         "z": [
          22.285233921362614,
          25.946313583224864
         ]
        },
        {
         "line": {
          "color": "black",
          "dash": "dash",
          "width": 4
         },
         "mode": "lines",
         "showlegend": false,
         "type": "scatter3d",
         "x": [
          1.990583569472404,
          1.990583569472404
         ],
         "y": [
          2.793549622407574,
          2.793549622407574
         ],
         "z": [
          8.923179125531558,
          9.278866269868363
         ]
        },
        {
         "line": {
          "color": "black",
          "dash": "dash",
          "width": 4
         },
         "mode": "lines",
         "showlegend": false,
         "type": "scatter3d",
         "x": [
          3.781396818301821,
          3.781396818301821
         ],
         "y": [
          7.094547588349647,
          7.094547588349647
         ],
         "z": [
          15.895858049977072,
          22.498831032138405
         ]
        },
        {
         "line": {
          "color": "black",
          "dash": "dash",
          "width": 4
         },
         "mode": "lines",
         "showlegend": false,
         "type": "scatter3d",
         "x": [
          7.565430355150953,
          7.565430355150953
         ],
         "y": [
          3.7024304548970144,
          3.7024304548970144
         ],
         "z": [
          21.630432773274876,
          22.737049061124964
         ]
        },
        {
         "line": {
          "color": "black",
          "dash": "dash",
          "width": 4
         },
         "mode": "lines",
         "showlegend": false,
         "type": "scatter3d",
         "x": [
          7.716831628363597,
          7.716831628363597
         ],
         "y": [
          6.3530625714677305,
          6.3530625714677305
         ],
         "z": [
          30.859932798588936,
          28.930001493109295
         ]
        }
       ],
       "layout": {
        "scene": {
         "xaxis": {
          "title": {
           "text": "X1"
          }
         },
         "yaxis": {
          "title": {
           "text": "X2"
          }
         },
         "zaxis": {
          "title": {
           "text": "Y"
          }
         }
        },
        "showlegend": false,
        "template": {
         "data": {
          "bar": [
           {
            "error_x": {
             "color": "#2a3f5f"
            },
            "error_y": {
             "color": "#2a3f5f"
            },
            "marker": {
             "line": {
              "color": "#E5ECF6",
              "width": 0.5
             },
             "pattern": {
              "fillmode": "overlay",
              "size": 10,
              "solidity": 0.2
             }
            },
            "type": "bar"
           }
          ],
          "barpolar": [
           {
            "marker": {
             "line": {
              "color": "#E5ECF6",
              "width": 0.5
             },
             "pattern": {
              "fillmode": "overlay",
              "size": 10,
              "solidity": 0.2
             }
            },
            "type": "barpolar"
           }
          ],
          "carpet": [
           {
            "aaxis": {
             "endlinecolor": "#2a3f5f",
             "gridcolor": "white",
             "linecolor": "white",
             "minorgridcolor": "white",
             "startlinecolor": "#2a3f5f"
            },
            "baxis": {
             "endlinecolor": "#2a3f5f",
             "gridcolor": "white",
             "linecolor": "white",
             "minorgridcolor": "white",
             "startlinecolor": "#2a3f5f"
            },
            "type": "carpet"
           }
          ],
          "choropleth": [
           {
            "colorbar": {
             "outlinewidth": 0,
             "ticks": ""
            },
            "type": "choropleth"
           }
          ],
          "contour": [
           {
            "colorbar": {
             "outlinewidth": 0,
             "ticks": ""
            },
            "colorscale": [
             [
              0,
              "#0d0887"
             ],
             [
              0.1111111111111111,
              "#46039f"
             ],
             [
              0.2222222222222222,
              "#7201a8"
             ],
             [
              0.3333333333333333,
              "#9c179e"
             ],
             [
              0.4444444444444444,
              "#bd3786"
             ],
             [
              0.5555555555555556,
              "#d8576b"
             ],
             [
              0.6666666666666666,
              "#ed7953"
             ],
             [
              0.7777777777777778,
              "#fb9f3a"
             ],
             [
              0.8888888888888888,
              "#fdca26"
             ],
             [
              1,
              "#f0f921"
             ]
            ],
            "type": "contour"
           }
          ],
          "contourcarpet": [
           {
            "colorbar": {
             "outlinewidth": 0,
             "ticks": ""
            },
            "type": "contourcarpet"
           }
          ],
          "heatmap": [
           {
            "colorbar": {
             "outlinewidth": 0,
             "ticks": ""
            },
            "colorscale": [
             [
              0,
              "#0d0887"
             ],
             [
              0.1111111111111111,
              "#46039f"
             ],
             [
              0.2222222222222222,
              "#7201a8"
             ],
             [
              0.3333333333333333,
              "#9c179e"
             ],
             [
              0.4444444444444444,
              "#bd3786"
             ],
             [
              0.5555555555555556,
              "#d8576b"
             ],
             [
              0.6666666666666666,
              "#ed7953"
             ],
             [
              0.7777777777777778,
              "#fb9f3a"
             ],
             [
              0.8888888888888888,
              "#fdca26"
             ],
             [
              1,
              "#f0f921"
             ]
            ],
            "type": "heatmap"
           }
          ],
          "histogram": [
           {
            "marker": {
             "pattern": {
              "fillmode": "overlay",
              "size": 10,
              "solidity": 0.2
             }
            },
            "type": "histogram"
           }
          ],
          "histogram2d": [
           {
            "colorbar": {
             "outlinewidth": 0,
             "ticks": ""
            },
            "colorscale": [
             [
              0,
              "#0d0887"
             ],
             [
              0.1111111111111111,
              "#46039f"
             ],
             [
              0.2222222222222222,
              "#7201a8"
             ],
             [
              0.3333333333333333,
              "#9c179e"
             ],
             [
              0.4444444444444444,
              "#bd3786"
             ],
             [
              0.5555555555555556,
              "#d8576b"
             ],
             [
              0.6666666666666666,
              "#ed7953"
             ],
             [
              0.7777777777777778,
              "#fb9f3a"
             ],
             [
              0.8888888888888888,
              "#fdca26"
             ],
             [
              1,
              "#f0f921"
             ]
            ],
            "type": "histogram2d"
           }
          ],
          "histogram2dcontour": [
           {
            "colorbar": {
             "outlinewidth": 0,
             "ticks": ""
            },
            "colorscale": [
             [
              0,
              "#0d0887"
             ],
             [
              0.1111111111111111,
              "#46039f"
             ],
             [
              0.2222222222222222,
              "#7201a8"
             ],
             [
              0.3333333333333333,
              "#9c179e"
             ],
             [
              0.4444444444444444,
              "#bd3786"
             ],
             [
              0.5555555555555556,
              "#d8576b"
             ],
             [
              0.6666666666666666,
              "#ed7953"
             ],
             [
              0.7777777777777778,
              "#fb9f3a"
             ],
             [
              0.8888888888888888,
              "#fdca26"
             ],
             [
              1,
              "#f0f921"
             ]
            ],
            "type": "histogram2dcontour"
           }
          ],
          "mesh3d": [
           {
            "colorbar": {
             "outlinewidth": 0,
             "ticks": ""
            },
            "type": "mesh3d"
           }
          ],
          "parcoords": [
           {
            "line": {
             "colorbar": {
              "outlinewidth": 0,
              "ticks": ""
             }
            },
            "type": "parcoords"
           }
          ],
          "pie": [
           {
            "automargin": true,
            "type": "pie"
           }
          ],
          "scatter": [
           {
            "fillpattern": {
             "fillmode": "overlay",
             "size": 10,
             "solidity": 0.2
            },
            "type": "scatter"
           }
          ],
          "scatter3d": [
           {
            "line": {
             "colorbar": {
              "outlinewidth": 0,
              "ticks": ""
             }
            },
            "marker": {
             "colorbar": {
              "outlinewidth": 0,
              "ticks": ""
             }
            },
            "type": "scatter3d"
           }
          ],
          "scattercarpet": [
           {
            "marker": {
             "colorbar": {
              "outlinewidth": 0,
              "ticks": ""
             }
            },
            "type": "scattercarpet"
           }
          ],
          "scattergeo": [
           {
            "marker": {
             "colorbar": {
              "outlinewidth": 0,
              "ticks": ""
             }
            },
            "type": "scattergeo"
           }
          ],
          "scattergl": [
           {
            "marker": {
             "colorbar": {
              "outlinewidth": 0,
              "ticks": ""
             }
            },
            "type": "scattergl"
           }
          ],
          "scattermap": [
           {
            "marker": {
             "colorbar": {
              "outlinewidth": 0,
              "ticks": ""
             }
            },
            "type": "scattermap"
           }
          ],
          "scattermapbox": [
           {
            "marker": {
             "colorbar": {
              "outlinewidth": 0,
              "ticks": ""
             }
            },
            "type": "scattermapbox"
           }
          ],
          "scatterpolar": [
           {
            "marker": {
             "colorbar": {
              "outlinewidth": 0,
              "ticks": ""
             }
            },
            "type": "scatterpolar"
           }
          ],
          "scatterpolargl": [
           {
            "marker": {
             "colorbar": {
              "outlinewidth": 0,
              "ticks": ""
             }
            },
            "type": "scatterpolargl"
           }
          ],
          "scatterternary": [
           {
            "marker": {
             "colorbar": {
              "outlinewidth": 0,
              "ticks": ""
             }
            },
            "type": "scatterternary"
           }
          ],
          "surface": [
           {
            "colorbar": {
             "outlinewidth": 0,
             "ticks": ""
            },
            "colorscale": [
             [
              0,
              "#0d0887"
             ],
             [
              0.1111111111111111,
              "#46039f"
             ],
             [
              0.2222222222222222,
              "#7201a8"
             ],
             [
              0.3333333333333333,
              "#9c179e"
             ],
             [
              0.4444444444444444,
              "#bd3786"
             ],
             [
              0.5555555555555556,
              "#d8576b"
             ],
             [
              0.6666666666666666,
              "#ed7953"
             ],
             [
              0.7777777777777778,
              "#fb9f3a"
             ],
             [
              0.8888888888888888,
              "#fdca26"
             ],
             [
              1,
              "#f0f921"
             ]
            ],
            "type": "surface"
           }
          ],
          "table": [
           {
            "cells": {
             "fill": {
              "color": "#EBF0F8"
             },
             "line": {
              "color": "white"
             }
            },
            "header": {
             "fill": {
              "color": "#C8D4E3"
             },
             "line": {
              "color": "white"
             }
            },
            "type": "table"
           }
          ]
         },
         "layout": {
          "annotationdefaults": {
           "arrowcolor": "#2a3f5f",
           "arrowhead": 0,
           "arrowwidth": 1
          },
          "autotypenumbers": "strict",
          "coloraxis": {
           "colorbar": {
            "outlinewidth": 0,
            "ticks": ""
           }
          },
          "colorscale": {
           "diverging": [
            [
             0,
             "#8e0152"
            ],
            [
             0.1,
             "#c51b7d"
            ],
            [
             0.2,
             "#de77ae"
            ],
            [
             0.3,
             "#f1b6da"
            ],
            [
             0.4,
             "#fde0ef"
            ],
            [
             0.5,
             "#f7f7f7"
            ],
            [
             0.6,
             "#e6f5d0"
            ],
            [
             0.7,
             "#b8e186"
            ],
            [
             0.8,
             "#7fbc41"
            ],
            [
             0.9,
             "#4d9221"
            ],
            [
             1,
             "#276419"
            ]
           ],
           "sequential": [
            [
             0,
             "#0d0887"
            ],
            [
             0.1111111111111111,
             "#46039f"
            ],
            [
             0.2222222222222222,
             "#7201a8"
            ],
            [
             0.3333333333333333,
             "#9c179e"
            ],
            [
             0.4444444444444444,
             "#bd3786"
            ],
            [
             0.5555555555555556,
             "#d8576b"
            ],
            [
             0.6666666666666666,
             "#ed7953"
            ],
            [
             0.7777777777777778,
             "#fb9f3a"
            ],
            [
             0.8888888888888888,
             "#fdca26"
            ],
            [
             1,
             "#f0f921"
            ]
           ],
           "sequentialminus": [
            [
             0,
             "#0d0887"
            ],
            [
             0.1111111111111111,
             "#46039f"
            ],
            [
             0.2222222222222222,
             "#7201a8"
            ],
            [
             0.3333333333333333,
             "#9c179e"
            ],
            [
             0.4444444444444444,
             "#bd3786"
            ],
            [
             0.5555555555555556,
             "#d8576b"
            ],
            [
             0.6666666666666666,
             "#ed7953"
            ],
            [
             0.7777777777777778,
             "#fb9f3a"
            ],
            [
             0.8888888888888888,
             "#fdca26"
            ],
            [
             1,
             "#f0f921"
            ]
           ]
          },
          "colorway": [
           "#636efa",
           "#EF553B",
           "#00cc96",
           "#ab63fa",
           "#FFA15A",
           "#19d3f3",
           "#FF6692",
           "#B6E880",
           "#FF97FF",
           "#FECB52"
          ],
          "font": {
           "color": "#2a3f5f"
          },
          "geo": {
           "bgcolor": "white",
           "lakecolor": "white",
           "landcolor": "#E5ECF6",
           "showlakes": true,
           "showland": true,
           "subunitcolor": "white"
          },
          "hoverlabel": {
           "align": "left"
          },
          "hovermode": "closest",
          "mapbox": {
           "style": "light"
          },
          "paper_bgcolor": "white",
          "plot_bgcolor": "#E5ECF6",
          "polar": {
           "angularaxis": {
            "gridcolor": "white",
            "linecolor": "white",
            "ticks": ""
           },
           "bgcolor": "#E5ECF6",
           "radialaxis": {
            "gridcolor": "white",
            "linecolor": "white",
            "ticks": ""
           }
          },
          "scene": {
           "xaxis": {
            "backgroundcolor": "#E5ECF6",
            "gridcolor": "white",
            "gridwidth": 2,
            "linecolor": "white",
            "showbackground": true,
            "ticks": "",
            "zerolinecolor": "white"
           },
           "yaxis": {
            "backgroundcolor": "#E5ECF6",
            "gridcolor": "white",
            "gridwidth": 2,
            "linecolor": "white",
            "showbackground": true,
            "ticks": "",
            "zerolinecolor": "white"
           },
           "zaxis": {
            "backgroundcolor": "#E5ECF6",
            "gridcolor": "white",
            "gridwidth": 2,
            "linecolor": "white",
            "showbackground": true,
            "ticks": "",
            "zerolinecolor": "white"
           }
          },
          "shapedefaults": {
           "line": {
            "color": "#2a3f5f"
           }
          },
          "ternary": {
           "aaxis": {
            "gridcolor": "white",
            "linecolor": "white",
            "ticks": ""
           },
           "baxis": {
            "gridcolor": "white",
            "linecolor": "white",
            "ticks": ""
           },
           "bgcolor": "#E5ECF6",
           "caxis": {
            "gridcolor": "white",
            "linecolor": "white",
            "ticks": ""
           }
          },
          "title": {
           "x": 0.05
          },
          "xaxis": {
           "automargin": true,
           "gridcolor": "white",
           "linecolor": "white",
           "ticks": "",
           "title": {
            "standoff": 15
           },
           "zerolinecolor": "white",
           "zerolinewidth": 2
          },
          "yaxis": {
           "automargin": true,
           "gridcolor": "white",
           "linecolor": "white",
           "ticks": "",
           "title": {
            "standoff": 15
           },
           "zerolinecolor": "white",
           "zerolinewidth": 2
          }
         }
        },
        "title": {
         "text": "Multiple Regression Hyperplane (with vertical residual lines and our added point)"
        }
       }
      }
     },
     "metadata": {},
     "output_type": "display_data"
    }
   ],
   "source": [
    "# Compute predicted y values for the actual data points\n",
    "y_pred = (\n",
    "    model.intercept_\n",
    "    + model.coef_[0][0] * X1.flatten()\n",
    "    + model.coef_[0][1] * X2.flatten()\n",
    ")\n",
    "\n",
    "# Create vertical dashed lines from actual data points to predicted points\n",
    "lines = []\n",
    "for i in range(len(X1.flatten())):\n",
    "    lines.append(\n",
    "        go.Scatter3d(\n",
    "            x=[X1.flatten()[i], X1.flatten()[i]],\n",
    "            y=[X2.flatten()[i], X2.flatten()[i]],\n",
    "            z=[y.flatten()[i], y_pred[i]],\n",
    "            mode=\"lines\",\n",
    "            line=dict(color=\"black\", width=4, dash=\"dash\"),\n",
    "            showlegend=False,\n",
    "        )\n",
    "    )\n",
    "\n",
    "# Add extra point (Red marker)\n",
    "extra_point = go.Scatter3d(\n",
    "    x=[x1_new],\n",
    "    y=[x2_new],\n",
    "    z=[y_pred_new],\n",
    "    mode=\"markers\",\n",
    "    marker=dict(size=8, color=\"red\", symbol=\"diamond\"),\n",
    "    name=\"New Point\",\n",
    ")\n",
    "\n",
    "# Create figure and add all elements\n",
    "fig = go.Figure(data=[scatter, surface, extra_point] + lines)\n",
    "\n",
    "# Update layout\n",
    "fig.update_layout(\n",
    "    scene=dict(xaxis_title=\"X1\", yaxis_title=\"X2\", zaxis_title=\"Y\"),\n",
    "    title=\"Multiple Regression Hyperplane (with vertical residual lines and our added point)\",\n",
    "    showlegend=False,\n",
    ")\n",
    "\n",
    "fig.show()\n"
   ]
  }
 ],
 "metadata": {
  "kernelspec": {
   "display_name": ".venv",
   "language": "python",
   "name": "python3"
  },
  "language_info": {
   "codemirror_mode": {
    "name": "ipython",
    "version": 3
   },
   "file_extension": ".py",
   "mimetype": "text/x-python",
   "name": "python",
   "nbconvert_exporter": "python",
   "pygments_lexer": "ipython3",
   "version": "3.10.16"
  }
 },
 "nbformat": 4,
 "nbformat_minor": 2
}
