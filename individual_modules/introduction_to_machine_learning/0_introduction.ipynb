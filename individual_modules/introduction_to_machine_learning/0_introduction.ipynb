{
 "cells": [
  {
   "cell_type": "markdown",
   "metadata": {},
   "source": [
    "# Introduction to Machine Learning\n",
    "\n",
    "## Summary\n",
    "\n",
    "This course introduces core machine learning concepts and explores the main stages of the machine learning pipeline. We will cover model selection, error, evaluation and validation, and attendees will be able to put these into practice using Python. We will explore `Scikit-learn`, using it to pre-process data, train models, and build pipelines.\n",
    "\n",
    "## Prerequisites\n",
    "\n",
    "* Both Introduction to Python and Python for Data Analysis are pre-requisites for attending this course. If you have not attended these courses, please review the full course materials in your own time. As a minimum, you should be comfortable performing data analysis in `Numpy` and `Pandas`, and in creating plots with `Matplotlib`, without the need for regular guidance or support. Familiarity with Jupyter Notebooks is highly recommended.\n",
    "- In addition, we also recommend that you are comfortable using virtual environments: please see our self-study guide to do this.\n",
    "\n",
    "## Content\n",
    "\n",
    "### Session 1\n",
    "\n",
    "* Slides: what is machine learning?\n",
    "* Tutorial: linear regression\n",
    "* Slides: model selection and evaluation\n",
    "\n",
    "### Session 2\n",
    "\n",
    "* Tutorial: model selection and evaluation\n",
    "* Slides: the machine learning pipeline\n",
    "* Tutorial: machine learning pipeline task\n",
    "\n",
    "### Session 3\n",
    "\n",
    "* Tutorial continued: machine learning pipeline task\n",
    "* Tutorial: unsupervised learning"
   ]
  }
 ],
 "metadata": {
  "language_info": {
   "name": "python"
  }
 },
 "nbformat": 4,
 "nbformat_minor": 2
}
